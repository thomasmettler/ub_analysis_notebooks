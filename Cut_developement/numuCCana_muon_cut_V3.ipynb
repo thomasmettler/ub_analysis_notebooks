{
 "cells": [
  {
   "cell_type": "code",
   "execution_count": 1,
   "metadata": {},
   "outputs": [
    {
     "name": "stdout",
     "output_type": "stream",
     "text": [
      "Welcome to JupyROOT 6.10/08\n"
     ]
    }
   ],
   "source": [
    "import imp\n",
    "import uproot\n",
    "import matplotlib.pyplot as plt\n",
    "import matplotlib.image as mpimg\n",
    "import numpy as np\n",
    "import pandas as pd\n",
    "import os\n",
    "import ROOT\n",
    "import time\n",
    "import math\n",
    "helper = imp.load_source('helpfunction','/home/tmettler/Desktop/uBoone/do_plots/helpfunction.py')\n",
    "#import /home/tmettler/Desktop/uBoone/do_plots/helpfunction as helper\n",
    "from __future__ import division\n",
    "globale = imp.load_source('globale','/home/tmettler/Desktop/uBoone/do_plots/globale.py')\n",
    "\n",
    "\n",
    "import collections\n",
    "NuCC = imp.load_source('NuCC_function','/home/tmettler/Desktop/uBoone/do_plots/NuCC_function.py')"
   ]
  },
  {
   "cell_type": "code",
   "execution_count": null,
   "metadata": {},
   "outputs": [],
   "source": []
  },
  {
   "cell_type": "code",
   "execution_count": 2,
   "metadata": {},
   "outputs": [
    {
     "name": "stderr",
     "output_type": "stream",
     "text": [
      "Warning in <TCanvas::Constructor>: Deleting canvas with same name: c1\n"
     ]
    }
   ],
   "source": [
    "# initialte ROOT default canvas\n",
    "ROOT.gStyle.SetOptStat(0)\n",
    "c1 = ROOT.TCanvas(\"c1\",\"c1\",1600,1200)\n",
    "c1.SetGrid(1)\n",
    "c1.SetLeftMargin(0.14)\n",
    "c1.SetRightMargin(0.18)\n",
    "c1.SetBottomMargin(0.14)"
   ]
  },
  {
   "cell_type": "markdown",
   "metadata": {},
   "source": [
    "# CRTinBNB tagger, Overlay or MC"
   ]
  },
  {
   "cell_type": "code",
   "execution_count": 3,
   "metadata": {},
   "outputs": [],
   "source": [
    "# Load input files\n",
    "\n",
    "inputdir = '/home/tmettler/Desktop/ub_data/mcc9.1/v08_00_00_17_V2/'\n",
    "outputdir = inputdir+'NumuCC_muon_cut/' \n",
    "outputdir_png, outputdir_root = NuCC.prepareOutput(outputdir)\n",
    "\n",
    "filename_overlay = 'NuCCana_Overlay_V18_V3.root'\n",
    "filename_data = 'NuCCana_Data_V16_V3.root'\n",
    "filename_ext = 'NuCCana_Ext_V18_V3.root'\n",
    "filename_dirt = 'NuCCana_Dirt_V20_V3.root'\n",
    "    \n",
    "tree_name = 'numuCCAna'"
   ]
  },
  {
   "cell_type": "code",
   "execution_count": 4,
   "metadata": {},
   "outputs": [
    {
     "name": "stdout",
     "output_type": "stream",
     "text": [
      "Overlay: Number of Entries:\t967268\n",
      "Data: Number of Entries:\t34835\n",
      "Ext: Number of Entries:\t\t302778\n",
      "Dirt: Number of Entries:\t96465\n",
      "\n",
      "POT: \n",
      "Data:\t\t8.039e+18\n",
      "Ext:\t\t0\n",
      "Overlay:\t1.21191661343e+21\n",
      "Dirt:\t\t2.95232189919e+20\n",
      "\n",
      "Scalefactors: \n",
      "Data:\t\t1.0\n",
      "Ext:\t\t0.0750356288461\n",
      "Overlay:\t0.00862328305772\n",
      "Dirt:\t\t0.0353982402897\n"
     ]
    },
    {
     "name": "stderr",
     "output_type": "stream",
     "text": [
      "Warning in <TClass::Init>: no dictionary for class ROOT::TIOFeatures is available\n"
     ]
    }
   ],
   "source": [
    "#Open all the trees of the four files (data, ext, dirt, overlay)\n",
    "\n",
    "data, ext, dirt, overlay = NuCC.openTrees(inputdir, filename_data, filename_ext, filename_dirt, filename_overlay, tree_name)\n",
    "NuCC.printNumberOfEntries(data,ext,dirt,overlay)\n",
    "\n",
    "pot_overlay = NuCC.getPOT(inputdir,filename_overlay,tree_name)\n",
    "pot_dirt =  NuCC.getPOT(inputdir,filename_dirt,tree_name)\n",
    "\n",
    "#pot_data =      9.036e+18 # tor860_wcut\n",
    "#data_trigger = 1942081.0 #4743794 # 1987072.0 # E1DCNT_wcut\n",
    "#ext_trigger =  25882118.0  #2120135 #5685315 # EXT\n",
    "\n",
    "pot_data =     8.039e+18 # tor860_wcut\n",
    "data_trigger = 1942081.0 # E1DCNT_wcut\n",
    "ext_trigger =  25882118.0  #2120135 #5685315 # EXT\n",
    "\n",
    "print 'POT: '\n",
    "print 'Data:\\t\\t', pot_data\n",
    "print 'Ext:\\t\\t', 0\n",
    "print 'Overlay:\\t', pot_overlay\n",
    "print 'Dirt:\\t\\t', pot_dirt\n",
    "print ''\n",
    "sample = [data,ext,overlay,dirt]\n",
    "scale = {data:1.0,ext:1.0,overlay:1.0,dirt:1.0}\n",
    "name = {data:'data',ext:'ext',overlay:'overlay',dirt:'dirt'}\n",
    "\n",
    "scale[data], scale[ext], scale[dirt], scale[overlay] = NuCC.calculateScale(data_trigger, ext_trigger, pot_data, pot_dirt, pot_overlay)\n",
    "\n",
    "scale[dirt] = scale[dirt]*1.3\n",
    "scale[overlay] = scale[overlay]*1.3\n",
    "print 'Scalefactors: '\n",
    "print 'Data:\\t\\t', scale[data]\n",
    "print 'Ext:\\t\\t', scale[ext]\n",
    "print 'Overlay:\\t', scale[overlay]\n",
    "print 'Dirt:\\t\\t', scale[dirt]\n"
   ]
  },
  {
   "cell_type": "code",
   "execution_count": 5,
   "metadata": {},
   "outputs": [
    {
     "name": "stdout",
     "output_type": "stream",
     "text": [
      "Overlay: Number of Entries:\t967267\n",
      "Data: Number of Entries:\t34834\n",
      "Ext: Number of Entries:\t\t302777\n",
      "Dirt: Number of Entries:\t96464\n",
      "\n"
     ]
    }
   ],
   "source": [
    "if 1:\n",
    "    filename_overlay = 'NuCCana_Overlay_V18_V3.rootout.root'\n",
    "    filename_data = 'NuCCana_Data_V16_V3.rootout.root'\n",
    "    filename_ext = 'NuCCana_Ext_V18_V3.rootout.root'\n",
    "    filename_dirt = 'NuCCana_Dirt_V20_V3.rootout.root'\n",
    "\n",
    "    tree_name = 't_out'\n",
    "\n",
    "    data_out, ext_out, dirt_out, overlay_out = NuCC.openTreesOut(inputdir, filename_data, filename_ext, filename_dirt, filename_overlay, tree_name)\n",
    "    NuCC.printNumberOfEntries(data_out,ext_out,dirt_out,overlay_out)\n",
    "\n",
    "    sample_out = [data_out,ext_out,overlay_out,dirt_out]\n",
    "    scale_out = {data_out:1.0,ext_out:1.0,overlay_out:1.0,dirt_out:1.0}\n",
    "    name_out = {data_out:'data',ext_out:'ext',overlay_out:'overlay',dirt_out:'dirt'}\n",
    "\n",
    "    scale_out[data_out], scale_out[ext_out], scale_out[dirt_out], scale_out[overlay_out] = NuCC.calculateScale(data_trigger, ext_trigger, pot_data, pot_dirt, pot_overlay)\n",
    "    scale_out[dirt_out] = scale_out[dirt_out]*1.3\n",
    "    scale_out[overlay_out] = scale_out[overlay_out]*1.3"
   ]
  },
  {
   "cell_type": "code",
   "execution_count": 6,
   "metadata": {},
   "outputs": [],
   "source": [
    "# Define signals\n",
    "\n",
    "fidVol = '(Nu_Vx_sce>(-1.55+10) && Nu_Vx_sce<(254.8-10)) && (Nu_Vy_sce>(-115.53+10) && Nu_Vy_sce<(117.47-10)) &&(Nu_Vz_sce>(-0.1+10) && Nu_Vz_sce<(1036.9-50))'\n",
    "MCfidVol = '(MCNu_Vx>(-1.55+10) && MCNu_Vx<(254.8-10)) && (MCNu_Vy>(-115.53+10) && MCNu_Vy<(117.47-10)) &&(MCNu_Vz>(-0.1+10) && MCNu_Vz<(1036.9-50))'\n",
    "numu_signal = 'fidVol && MCfidVol && MCNu_CCNC==0 && MCNu_PDG==14 && MCle_PDG==13 && MCle_purity>0.5' # numu CC signal definition\n",
    "numu_true = 'MCfidVol && MCNu_CCNC==0 && MCNu_PDG==14' # numu CC signal definition\n",
    "numu_nomu = 'fidVol && MCfidVol && MCNu_CCNC==0 && MCNu_PDG==14 && MCle_PDG!=13 && MCle_purity>0.5' # not an MC muon\n",
    "numu_lowpur = 'fidVol && MCfidVol && MCNu_CCNC==0 && MCNu_PDG==14 && MCle_purity<0.5' #low purity\n",
    "numu_nc = 'fidVol && MCfidVol && MCNu_CCNC==1' # nutral current\n",
    "numu_ov = 'fidVol && !MCfidVol' # out of fiducial\n",
    "numu_other = 'fidVol && MCfidVol && MCNu_CCNC==0 && MCNu_PDG!=14' # e.g anti nu or nue\n",
    "#signal = 'MCfidVol && MCNu_CCNC==0 && MCNu_PDG==14'\n",
    "for x in sample:\n",
    "    x.SetAlias('muon','(muon_candidate_key==track_key)')\n",
    "    \n",
    "num_fidVol = {}\n",
    "for x in sample:\n",
    "    x.SetAlias('fidVol',fidVol)\n",
    "    x.SetAlias('MCfidVol',MCfidVol)\n",
    "    x.SetAlias('numu_signal',numu_signal)\n",
    "    x.SetAlias('numu_true',numu_true)\n",
    "    x.SetAlias('numu_nomu',numu_nomu)\n",
    "    x.SetAlias('numu_lowpur',numu_lowpur)\n",
    "    x.SetAlias('numu_nc',numu_nc)\n",
    "    x.SetAlias('numu_ov',numu_ov)\n",
    "    x.SetAlias('numu_other',numu_other)\n",
    "    num_fidVol[x] = x.GetEntries('fidVol && muon')*scale[x]\n",
    "    \n",
    "tot_num_fidVol = num_fidVol[ext]+num_fidVol[dirt]+num_fidVol[overlay]\n",
    "overlay_signals = {'numu_signal','numu_nomu','numu_lowpur','numu_nc','numu_ov','numu_other'}"
   ]
  },
  {
   "cell_type": "code",
   "execution_count": 7,
   "metadata": {},
   "outputs": [],
   "source": [
    "for x in sample_out:\n",
    "    x.SetAlias('muon','(muon_candidate_key==track_key)')\n",
    "    #x.SetAlias('muon','(key_muprotratio==track_key)')\n",
    "    \n",
    "num_fidVol = {}\n",
    "for x in sample_out:\n",
    "    x.SetAlias('fidVol',fidVol)\n",
    "    x.SetAlias('MCfidVol',MCfidVol)\n",
    "    x.SetAlias('numu_signal',numu_signal)\n",
    "    x.SetAlias('numu_true',numu_true)\n",
    "    x.SetAlias('numu_nomu',numu_nomu)\n",
    "    x.SetAlias('numu_lowpur',numu_lowpur)\n",
    "    x.SetAlias('numu_nc',numu_nc)\n",
    "    x.SetAlias('numu_ov',numu_ov)\n",
    "    x.SetAlias('numu_other',numu_other)\n",
    "    #num_fidVol[x] = x.GetEntries('fidVol && muon')*scale[x]\n",
    "    \n",
    "#tot_num_fidVol = num_fidVol[ext]+num_fidVol[dirt]+num_fidVol[overlay]\n",
    "#overlay_signals = {'numu_signal','numu_nomu','numu_lowpur','numu_nc','numu_ov','numu_other'}"
   ]
  },
  {
   "cell_type": "code",
   "execution_count": 8,
   "metadata": {},
   "outputs": [
    {
     "name": "stderr",
     "output_type": "stream",
     "text": [
      "Warning in <TCanvas::Constructor>: Deleting canvas with same name: c1\n"
     ]
    }
   ],
   "source": [
    "# Load the global variables for access of functions\n",
    "\n",
    "NuCC.loadGlobal(data,ext,dirt,overlay,data_out,ext_out,dirt_out,overlay_out,scale,scale_out,tot_num_fidVol,overlay_signals,sample,sample_out, name,name_out, outputdir_png, outputdir_root)\n",
    "#NuCC.printGlobal()"
   ]
  },
  {
   "cell_type": "code",
   "execution_count": 9,
   "metadata": {},
   "outputs": [],
   "source": [
    "# initialte ROOT default canvas\n",
    "ROOT.gStyle.SetOptStat(0)\n",
    "c1 = ROOT.TCanvas(\"c1\",\"c1\",1600,1200)\n",
    "c1.SetGrid(1)\n",
    "c1.SetLeftMargin(0.14)\n",
    "c1.SetRightMargin(0.18)\n",
    "c1.SetBottomMargin(0.14)"
   ]
  },
  {
   "cell_type": "code",
   "execution_count": 10,
   "metadata": {},
   "outputs": [
    {
     "data": {
      "text/plain": [
       "True"
      ]
     },
     "execution_count": 10,
     "metadata": {},
     "output_type": "execute_result"
    }
   ],
   "source": [
    "track_start_border_x = '(TrackStart_x_sce <(-1.55+1) || TrackStart_x_sce > (254.8-1))'\n",
    "track_end_border_x = '(TrackEnd_x_sce <(-1.55+1) || TrackEnd_x_sce > (254.8-1))'\n",
    "track_start_border_y = '(TrackStart_y_sce <(-115.53+1) || TrackStart_y_sce > (117.47-1))'\n",
    "track_end_border_y = '(TrackEnd_y_sce <(-115.53+1) || TrackEnd_y_sce > (117.47-1))'\n",
    "track_start_border_z = '(TrackStart_z_sce <(0.1+1) || TrackStart_z_sce > (1036.9-1))'\n",
    "track_end_border_z = '(TrackEnd_z_sce <(0.1+1) || TrackEnd_z_sce > (1039.9-1))'\n",
    "\n",
    "track_end_uncontained = '(' + track_end_border_x + ' || ' + track_end_border_y + ' || ' + track_end_border_z+ ')'\n",
    "\n",
    "\n",
    "data.SetAlias(\"track_end_uncontained\",track_end_uncontained)\n",
    "ext.SetAlias(\"track_end_uncontained\",track_end_uncontained)\n",
    "overlay.SetAlias(\"track_end_uncontained\",track_end_uncontained)\n",
    "dirt.SetAlias(\"track_end_uncontained\",track_end_uncontained)\n",
    "data_out.SetAlias(\"track_end_uncontained\",track_end_uncontained)\n",
    "ext_out.SetAlias(\"track_end_uncontained\",track_end_uncontained)\n",
    "overlay_out.SetAlias(\"track_end_uncontained\",track_end_uncontained)\n",
    "dirt_out.SetAlias(\"track_end_uncontained\",track_end_uncontained)\n",
    "\n",
    "data.SetAlias(\"crt_cut\",\"(abs(crtt0_time-(69000-crt_trig_corr_med)/1000-4)<0.8 || crtt0_time==-1)\")\n",
    "ext.SetAlias(\"crt_cut\",\"(abs(crtt0_time-(69000-crt_trig_corr_med)/1000-3.57+3.195-4)<0.8 || crtt0_time==-1)\")\n",
    "overlay.SetAlias(\"crt_cut\",\"(abs(crtt0_time-4)<0.8 || crtt0_time==-1)\")\n",
    "dirt.SetAlias(\"crt_cut\",\"(abs(crtt0_time-4)<0.8 || crtt0_time==-1)\")\n",
    "data_out.SetAlias(\"crt_cut\",\"(abs(crtt0_time-(69000-crt_trig_corr_med)/1000-4)<0.8 || crtt0_time==-1)\")\n",
    "ext_out.SetAlias(\"crt_cut\",\"(abs(crtt0_time-(69000-crt_trig_corr_med)/1000-3.57+3.195-4)<0.8 || crtt0_time==-1)\")\n",
    "overlay_out.SetAlias(\"crt_cut\",\"(abs(crtt0_time-4)<0.8 || crtt0_time==-1)\")\n",
    "dirt_out.SetAlias(\"crt_cut\",\"(abs(crtt0_time-4)<0.8 || crtt0_time==-1)\")\n"
   ]
  },
  {
   "cell_type": "code",
   "execution_count": 11,
   "metadata": {},
   "outputs": [
    {
     "name": "stdout",
     "output_type": "stream",
     "text": [
      "Total number of entries:  283618.0\n",
      "PDG:  13 \t=\t62.2% ,\terror: 0.1% ,\tnumber:  176310.0\n",
      "PDG:  -1 \t=\t13.2% ,\terror: 0.1% ,\tnumber:  37501.0\n",
      "PDG:  2212 \t=\t11.4% ,\terror: 0.1% ,\tnumber:  32195.0\n",
      "PDG:  211 \t=\t4.3% ,\terror: 0.0% ,\tnumber:  12314.0\n",
      "PDG:  2112 \t=\t3.6% ,\terror: 0.0% ,\tnumber:  10291.0\n",
      "PDG:  22 \t=\t2.4% ,\terror: 0.0% ,\tnumber:  6850.0\n",
      "PDG:  -211 \t=\t2.2% ,\terror: 0.0% ,\tnumber:  6261.0\n",
      "PDG:  -13 \t=\t0.5% ,\terror: 0.0% ,\tnumber:  1318.0\n",
      "PDG:  11 \t=\t0.1% ,\terror: 0.0% ,\tnumber:  322.0\n",
      "PDG:  321 \t=\t0.0% ,\terror: 0.0% ,\tnumber:  130.0\n",
      "PDG:  -11 \t=\t0.0% ,\terror: 0.0% ,\tnumber:  50.0\n",
      "PDG:  -321 \t=\t0.0% ,\terror: 0.0% ,\tnumber:  3.0\n"
     ]
    }
   ],
   "source": [
    "NuCC.pdg_content_out('fidVol && muon')"
   ]
  },
  {
   "cell_type": "code",
   "execution_count": 12,
   "metadata": {},
   "outputs": [
    {
     "name": "stdout",
     "output_type": "stream",
     "text": [
      "Efficiency for cut:  fidVol && muon\n",
      "Rejection on each sample:\n",
      "Keep of     ext:\t100.00%\t reject:\t0.00%\n",
      "Keep of overlay:\t100.00%\t reject:\t0.00%\n",
      "Keep of    dirt:\t100.00%\t reject:\t0.00%\n",
      "\n",
      "Efficiency:\t\t66.84%\n",
      "Purity:\t\t\t33.76%\n",
      "Purity*Efficiency\t22.56\n",
      "\n",
      "Amount of     ext:\t35.82%\n",
      "Amount of overlay:\t59.41%\n",
      "Amount of    dirt:\t4.77%\n",
      "\n",
      "Signal definition=  numu_lowpur: 2.79%\t(4.70%)\n",
      "Signal definition=   numu_other: 0.56%\t(0.94%)\n",
      "Signal definition=    numu_nomu: 4.40%\t(7.41%)\n",
      "Signal definition=      numu_ov: 9.52%\t(16.02%)\n",
      "Signal definition=  numu_signal: 33.76%\t(56.82%)\n",
      "Signal definition=      numu_nc: 8.37%\t(14.09%)\n"
     ]
    }
   ],
   "source": [
    "NuCC.printEff_out('fidVol && muon')"
   ]
  },
  {
   "cell_type": "code",
   "execution_count": 13,
   "metadata": {},
   "outputs": [
    {
     "name": "stdout",
     "output_type": "stream",
     "text": [
      "Efficiency for cut:  fidVol && muon && TrackLength>8\n",
      "Rejection on each sample:\n",
      "Keep of     ext:\t88.78%\t reject:\t11.22%\n",
      "Keep of overlay:\t91.50%\t reject:\t8.50%\n",
      "Keep of    dirt:\t85.30%\t reject:\t14.70%\n",
      "\n",
      "Efficiency:\t\t66.63%\n",
      "Purity:\t\t\t37.30%\n",
      "Purity*Efficiency\t24.85\n",
      "\n",
      "Amount of     ext:\t35.24%\n",
      "Amount of overlay:\t60.25%\n",
      "Amount of    dirt:\t4.51%\n",
      "\n",
      "Signal definition=  numu_lowpur: 2.15%\t(3.57%)\n",
      "Signal definition=   numu_other: 0.49%\t(0.82%)\n",
      "Signal definition=    numu_nomu: 4.66%\t(7.74%)\n",
      "Signal definition=      numu_ov: 8.89%\t(14.76%)\n",
      "Signal definition=  numu_signal: 37.30%\t(61.91%)\n",
      "Signal definition=      numu_nc: 6.74%\t(11.20%)\n"
     ]
    }
   ],
   "source": [
    "NuCC.printEff_out('fidVol && muon && TrackLength>8')"
   ]
  },
  {
   "cell_type": "code",
   "execution_count": 15,
   "metadata": {},
   "outputs": [
    {
     "name": "stdout",
     "output_type": "stream",
     "text": [
      "Efficiency for cut:  fidVol && muon && TrackLength>8 && nr_crthit_top==0 && crthit_vertex_zcut==0 && (track_end_uncontained==1 || nr_crthit_beam_tres==0) && crt_cut\n",
      "Rejection on each sample:\n",
      "Keep of     ext:\t40.66%\t reject:\t59.34%\n",
      "Keep of overlay:\t77.00%\t reject:\t23.00%\n",
      "Keep of    dirt:\t50.45%\t reject:\t49.55%\n",
      "\n",
      "Efficiency:\t\t59.49%\n",
      "Purity:\t\t\t47.91%\n",
      "Purity*Efficiency\t28.50\n",
      "\n",
      "Amount of     ext:\t23.22%\n",
      "Amount of overlay:\t72.94%\n",
      "Amount of    dirt:\t3.84%\n",
      "\n",
      "Signal definition=  numu_lowpur: 1.78%\t(2.44%)\n",
      "Signal definition=   numu_other: 0.63%\t(0.86%)\n",
      "Signal definition=    numu_nomu: 5.23%\t(7.17%)\n",
      "Signal definition=      numu_ov: 8.76%\t(12.01%)\n",
      "Signal definition=  numu_signal: 47.91%\t(65.68%)\n",
      "Signal definition=      numu_nc: 8.64%\t(11.84%)\n"
     ]
    }
   ],
   "source": [
    "NuCC.printEff_out('fidVol && muon && TrackLength>8 && nr_crthit_top==0 && crthit_vertex_zcut==0 && (track_end_uncontained==1 || nr_crthit_beam_tres==0) && crt_cut')"
   ]
  },
  {
   "cell_type": "code",
   "execution_count": 16,
   "metadata": {},
   "outputs": [
    {
     "name": "stdout",
     "output_type": "stream",
     "text": [
      "Total number of entries:  0.0\n"
     ]
    },
    {
     "name": "stderr",
     "output_type": "stream",
     "text": [
      "Error in <TTreeFormula::Compile>:  Bad numerical expression : \"MCTrackPDG\"\n",
      "Info in <TSelectorDraw::AbortProcess>: Variable compilation failed: {MCTrackPDG,fidVol && muon && TrackLength>32 && nr_crthit_top==0 && crthit_vertex_zcut==0 && (track_end_uncontained==1 || nr_crthit_beam_tres==0) && crt_cut}\n"
     ]
    }
   ],
   "source": [
    "NuCC.pdg_content33_out('fidVol && muon && TrackLength>32 && nr_crthit_top==0 && crthit_vertex_zcut==0 && (track_end_uncontained==1 || nr_crthit_beam_tres==0) && crt_cut')"
   ]
  },
  {
   "cell_type": "code",
   "execution_count": 17,
   "metadata": {},
   "outputs": [
    {
     "data": {
      "text/plain": [
       "True"
      ]
     },
     "execution_count": 17,
     "metadata": {},
     "output_type": "execute_result"
    }
   ],
   "source": [
    "crt_tom_cut = 'nr_crthit_top==0 && crthit_vertex_zcut==0 && (track_end_uncontained==1 || nr_crthit_beam_tres==0) && crt_cut'\n",
    "\n",
    "data.SetAlias(\"crt_tom_cut\",crt_tom_cut)\n",
    "ext.SetAlias(\"crt_tom_cut\",crt_tom_cut)\n",
    "overlay.SetAlias(\"crt_tom_cut\",crt_tom_cut)\n",
    "dirt.SetAlias(\"crt_tom_cut\",crt_tom_cut)\n",
    "data_out.SetAlias(\"crt_tom_cut\",crt_tom_cut)\n",
    "ext_out.SetAlias(\"crt_tom_cut\",crt_tom_cut)\n",
    "overlay_out.SetAlias(\"crt_tom_cut\",crt_tom_cut)\n",
    "dirt_out.SetAlias(\"crt_tom_cut\",crt_tom_cut)\n"
   ]
  },
  {
   "cell_type": "code",
   "execution_count": 18,
   "metadata": {},
   "outputs": [
    {
     "name": "stdout",
     "output_type": "stream",
     "text": [
      "Efficiency for cut:  fidVol && muon && TrackLength>8 && crt_tom_cut && TrackScore>0.8\n",
      "Rejection on each sample:\n",
      "Keep of     ext:\t37.43%\t reject:\t62.57%\n",
      "Keep of overlay:\t73.10%\t reject:\t26.90%\n",
      "Keep of    dirt:\t44.76%\t reject:\t55.24%\n",
      "\n",
      "Efficiency:\t\t58.12%\n",
      "Purity:\t\t\t49.77%\n",
      "Purity*Efficiency\t28.93\n",
      "\n",
      "Amount of     ext:\t22.74%\n",
      "Amount of overlay:\t73.64%\n",
      "Amount of    dirt:\t3.62%\n",
      "\n",
      "Signal definition=  numu_lowpur: 1.73%\t(2.35%)\n",
      "Signal definition=   numu_other: 0.62%\t(0.84%)\n",
      "Signal definition=    numu_nomu: 5.14%\t(6.98%)\n",
      "Signal definition=      numu_ov: 8.26%\t(11.21%)\n",
      "Signal definition=  numu_signal: 49.77%\t(67.59%)\n",
      "Signal definition=      numu_nc: 8.12%\t(11.02%)\n"
     ]
    }
   ],
   "source": [
    "NuCC.printEff_out('fidVol && muon && TrackLength>8 && crt_tom_cut && TrackScore>0.8')"
   ]
  },
  {
   "cell_type": "code",
   "execution_count": 19,
   "metadata": {},
   "outputs": [],
   "source": [
    "#NuCC.printEff_out('fidVol && muon && TrackLength>8 && crt_tom_cut && TrackScore>0.8 && TrackLength>20')"
   ]
  },
  {
   "cell_type": "code",
   "execution_count": 20,
   "metadata": {},
   "outputs": [
    {
     "name": "stdout",
     "output_type": "stream",
     "text": [
      "Efficiency for cut:  fidVol && muon && TrackLength>8 && crt_tom_cut && TrackScore>0.8 && TrackLength>32\n",
      "Rejection on each sample:\n",
      "Keep of     ext:\t32.89%\t reject:\t67.11%\n",
      "Keep of overlay:\t64.44%\t reject:\t35.56%\n",
      "Keep of    dirt:\t34.25%\t reject:\t65.75%\n",
      "\n",
      "Efficiency:\t\t56.02%\n",
      "Purity:\t\t\t54.72%\n",
      "Purity*Efficiency\t30.65\n",
      "\n",
      "Amount of     ext:\t22.79%\n",
      "Amount of overlay:\t74.05%\n",
      "Amount of    dirt:\t3.16%\n",
      "\n",
      "Signal definition=  numu_lowpur: 1.81%\t(2.45%)\n",
      "Signal definition=   numu_other: 0.60%\t(0.82%)\n",
      "Signal definition=    numu_nomu: 4.66%\t(6.30%)\n",
      "Signal definition=      numu_ov: 7.42%\t(10.02%)\n",
      "Signal definition=  numu_signal: 54.72%\t(73.90%)\n",
      "Signal definition=      numu_nc: 4.83%\t(6.52%)\n"
     ]
    }
   ],
   "source": [
    "NuCC.printEff_out('fidVol && muon && TrackLength>8 && crt_tom_cut && TrackScore>0.8 && TrackLength>32')\n",
    "# 20cm = 150MeV MC momentum, 32 = 180 MeV"
   ]
  },
  {
   "cell_type": "code",
   "execution_count": 21,
   "metadata": {},
   "outputs": [
    {
     "name": "stdout",
     "output_type": "stream",
     "text": [
      "Efficiency for cut:  fidVol && muon && TrackLength>8 && crt_tom_cut && TrackScore>0.8                && TrackLength>32 && TrackPID_chimuon<24\n",
      "Rejection on each sample:\n",
      "Keep of     ext:\t26.61%\t reject:\t73.39%\n",
      "Keep of overlay:\t57.60%\t reject:\t42.40%\n",
      "Keep of    dirt:\t30.07%\t reject:\t69.93%\n",
      "\n",
      "Efficiency:\t\t53.21%\n",
      "Purity:\t\t\t59.47%\n",
      "Purity*Efficiency\t31.64\n",
      "\n",
      "Amount of     ext:\t21.09%\n",
      "Amount of overlay:\t75.73%\n",
      "Amount of    dirt:\t3.18%\n",
      "\n",
      "Signal definition=  numu_lowpur: 1.70%\t(2.24%)\n",
      "Signal definition=   numu_other: 0.61%\t(0.81%)\n",
      "Signal definition=    numu_nomu: 3.34%\t(4.41%)\n",
      "Signal definition=      numu_ov: 7.12%\t(9.41%)\n",
      "Signal definition=  numu_signal: 59.47%\t(78.52%)\n",
      "Signal definition=      numu_nc: 3.49%\t(4.61%)\n"
     ]
    }
   ],
   "source": [
    "NuCC.printEff_out('fidVol && muon && TrackLength>8 && crt_tom_cut && TrackScore>0.8\\\n",
    "                && TrackLength>32 && TrackPID_chimuon<24')"
   ]
  },
  {
   "cell_type": "code",
   "execution_count": 36,
   "metadata": {},
   "outputs": [
    {
     "name": "stdout",
     "output_type": "stream",
     "text": [
      "Efficiency for cut:  fidVol && muon && TrackLength>8 && crt_tom_cut && TrackScore>0.8                && TrackLength>32 && TrackPID_chimuon<24\n",
      "Rejection on each sample:\n",
      "Keep of     ext:\t26.61%\t reject:\t73.39%\n",
      "Keep of overlay:\t57.60%\t reject:\t42.40%\n",
      "Keep of    dirt:\t30.07%\t reject:\t69.93%\n",
      "\n",
      "Efficiency:\t\t53.21%\n",
      "Purity:\t\t\t59.47%\n",
      "Purity*Efficiency\t31.64\n",
      "\n",
      "Amount of     ext:\t21.09%\n",
      "Amount of overlay:\t75.73%\n",
      "Amount of    dirt:\t3.18%\n",
      "\n",
      "Signal definition=  numu_lowpur: 1.70%\t(2.24%)\n",
      "Signal definition=   numu_other: 0.61%\t(0.81%)\n",
      "Signal definition=    numu_nomu: 3.34%\t(4.41%)\n",
      "Signal definition=      numu_ov: 7.12%\t(9.41%)\n",
      "Signal definition=  numu_signal: 59.47%\t(78.52%)\n",
      "Signal definition=      numu_nc: 3.49%\t(4.61%)\n"
     ]
    }
   ],
   "source": [
    "NuCC.printEff_out('fidVol && muon && TrackLength>8 && crt_tom_cut && TrackScore>0.8\\\n",
    "                && TrackLength>32 && TrackPID_chimuon<24')"
   ]
  },
  {
   "cell_type": "code",
   "execution_count": 23,
   "metadata": {},
   "outputs": [
    {
     "name": "stdout",
     "output_type": "stream",
     "text": [
      "Efficiency:\t66.84%\n",
      "Purity:\t\t33.76%\n"
     ]
    },
    {
     "name": "stderr",
     "output_type": "stream",
     "text": [
      "Warning in <TCanvas::Constructor>: Deleting canvas with same name: c1\n",
      "Info in <TCanvas::Print>: png file /home/tmettler/Desktop/ub_data/mcc9.1/v08_00_00_17_V2/NumuCC_muon_cut//png/h_eff_energyinitial.png has been created\n",
      "Info in <TCanvas::SaveAs>: ROOT file /home/tmettler/Desktop/ub_data/mcc9.1/v08_00_00_17_V2/NumuCC_muon_cut//root/h_eff_energyinitial.root has been created\n",
      "Info in <TCanvas::Print>: png file /home/tmettler/Desktop/ub_data/mcc9.1/v08_00_00_17_V2/NumuCC_muon_cut//png/h_eff_thetainitial.png has been created\n",
      "Info in <TCanvas::SaveAs>: ROOT file /home/tmettler/Desktop/ub_data/mcc9.1/v08_00_00_17_V2/NumuCC_muon_cut//root/h_eff_thetainitial.root has been created\n",
      "Info in <TCanvas::Print>: png file /home/tmettler/Desktop/ub_data/mcc9.1/v08_00_00_17_V2/NumuCC_muon_cut//png/h_eff_phiinitial.png has been created\n",
      "Info in <TCanvas::SaveAs>: ROOT file /home/tmettler/Desktop/ub_data/mcc9.1/v08_00_00_17_V2/NumuCC_muon_cut//root/h_eff_phiinitial.root has been created\n",
      "Info in <TCanvas::Print>: png file /home/tmettler/Desktop/ub_data/mcc9.1/v08_00_00_17_V2/NumuCC_muon_cut//png/h_eff_Vxinitial.png has been created\n",
      "Info in <TCanvas::SaveAs>: ROOT file /home/tmettler/Desktop/ub_data/mcc9.1/v08_00_00_17_V2/NumuCC_muon_cut//root/h_eff_Vxinitial.root has been created\n",
      "Warning in <TROOT::Append>: Replacing existing TH1: h_init_eff_V (Potential memory leak).\n",
      "Warning in <TROOT::Append>: Replacing existing TH1: h_init_eff_V_1 (Potential memory leak).\n",
      "Info in <TCanvas::Print>: png file /home/tmettler/Desktop/ub_data/mcc9.1/v08_00_00_17_V2/NumuCC_muon_cut//png/h_eff_Vyinitial.png has been created\n",
      "Info in <TCanvas::SaveAs>: ROOT file /home/tmettler/Desktop/ub_data/mcc9.1/v08_00_00_17_V2/NumuCC_muon_cut//root/h_eff_Vyinitial.root has been created\n",
      "Warning in <TROOT::Append>: Replacing existing TH1: h_init_eff_V (Potential memory leak).\n",
      "Warning in <TROOT::Append>: Replacing existing TH1: h_init_eff_V_1 (Potential memory leak).\n",
      "Info in <TCanvas::Print>: png file /home/tmettler/Desktop/ub_data/mcc9.1/v08_00_00_17_V2/NumuCC_muon_cut//png/h_eff_Vzinitial.png has been created\n",
      "Info in <TCanvas::SaveAs>: ROOT file /home/tmettler/Desktop/ub_data/mcc9.1/v08_00_00_17_V2/NumuCC_muon_cut//root/h_eff_Vzinitial.root has been created\n"
     ]
    }
   ],
   "source": [
    "nenner = 'numu_true'\n",
    "zahler = 'fidVol && muon && numu_true'\n",
    "cut = 'fidVol && muon'\n",
    "NuCC.plot_eff_outV2(nenner,zahler,cut,'initial','initial')"
   ]
  },
  {
   "cell_type": "code",
   "execution_count": 35,
   "metadata": {},
   "outputs": [
    {
     "name": "stdout",
     "output_type": "stream",
     "text": [
      "Efficiency:\t53.21%\n",
      "Purity:\t\t59.47%\n"
     ]
    },
    {
     "name": "stderr",
     "output_type": "stream",
     "text": [
      "Info in <TCanvas::Print>: png file /home/tmettler/Desktop/ub_data/mcc9.1/v08_00_00_17_V2/NumuCC_muon_cut//png/h_eff_energypetestV2.png has been created\n",
      "Info in <TCanvas::SaveAs>: ROOT file /home/tmettler/Desktop/ub_data/mcc9.1/v08_00_00_17_V2/NumuCC_muon_cut//root/h_eff_energypetestV2.root has been created\n",
      "Info in <TCanvas::Print>: png file /home/tmettler/Desktop/ub_data/mcc9.1/v08_00_00_17_V2/NumuCC_muon_cut//png/h_eff_thetapetestV2.png has been created\n",
      "Info in <TCanvas::SaveAs>: ROOT file /home/tmettler/Desktop/ub_data/mcc9.1/v08_00_00_17_V2/NumuCC_muon_cut//root/h_eff_thetapetestV2.root has been created\n",
      "Info in <TCanvas::Print>: png file /home/tmettler/Desktop/ub_data/mcc9.1/v08_00_00_17_V2/NumuCC_muon_cut//png/h_eff_phipetestV2.png has been created\n",
      "Info in <TCanvas::SaveAs>: ROOT file /home/tmettler/Desktop/ub_data/mcc9.1/v08_00_00_17_V2/NumuCC_muon_cut//root/h_eff_phipetestV2.root has been created\n",
      "Info in <TCanvas::Print>: png file /home/tmettler/Desktop/ub_data/mcc9.1/v08_00_00_17_V2/NumuCC_muon_cut//png/h_eff_VxpetestV2.png has been created\n",
      "Info in <TCanvas::SaveAs>: ROOT file /home/tmettler/Desktop/ub_data/mcc9.1/v08_00_00_17_V2/NumuCC_muon_cut//root/h_eff_VxpetestV2.root has been created\n",
      "Warning in <TROOT::Append>: Replacing existing TH1: h_init_eff_V (Potential memory leak).\n",
      "Warning in <TROOT::Append>: Replacing existing TH1: h_init_eff_V_1 (Potential memory leak).\n",
      "Info in <TCanvas::Print>: png file /home/tmettler/Desktop/ub_data/mcc9.1/v08_00_00_17_V2/NumuCC_muon_cut//png/h_eff_VypetestV2.png has been created\n",
      "Info in <TCanvas::SaveAs>: ROOT file /home/tmettler/Desktop/ub_data/mcc9.1/v08_00_00_17_V2/NumuCC_muon_cut//root/h_eff_VypetestV2.root has been created\n",
      "Warning in <TROOT::Append>: Replacing existing TH1: h_init_eff_V (Potential memory leak).\n",
      "Warning in <TROOT::Append>: Replacing existing TH1: h_init_eff_V_1 (Potential memory leak).\n",
      "Info in <TCanvas::Print>: png file /home/tmettler/Desktop/ub_data/mcc9.1/v08_00_00_17_V2/NumuCC_muon_cut//png/h_eff_VzpetestV2.png has been created\n",
      "Info in <TCanvas::SaveAs>: ROOT file /home/tmettler/Desktop/ub_data/mcc9.1/v08_00_00_17_V2/NumuCC_muon_cut//root/h_eff_VzpetestV2.root has been created\n"
     ]
    }
   ],
   "source": [
    "nenner = 'numu_true'\n",
    "zahler = 'fidVol && muon && TrackLength>8 && crt_tom_cut && TrackScore>0.8\\\n",
    "                && TrackLength>32 && TrackPID_chimuon<24 && numu_true'\n",
    "cut = 'fidVol && muon && TrackLength>8 && crt_tom_cut && TrackScore>0.8\\\n",
    "                && TrackLength>32 && TrackPID_chimuon<24'\n",
    "NuCC.plot_eff_outV2(nenner,zahler,cut,'petestV2','petestV2')"
   ]
  },
  {
   "cell_type": "code",
   "execution_count": 34,
   "metadata": {},
   "outputs": [
    {
     "name": "stdout",
     "output_type": "stream",
     "text": [
      "Efficiency:\t53.21%\n",
      "Purity:\t\t59.47%\n"
     ]
    },
    {
     "name": "stderr",
     "output_type": "stream",
     "text": [
      "Info in <TCanvas::Print>: png file /home/tmettler/Desktop/ub_data/mcc9.1/v08_00_00_17_V2/NumuCC_muon_cut//png/h_eff_energyToms cut.png has been created\n",
      "Info in <TCanvas::SaveAs>: ROOT file /home/tmettler/Desktop/ub_data/mcc9.1/v08_00_00_17_V2/NumuCC_muon_cut//root/h_eff_energyToms cut.root has been created\n",
      "Info in <TCanvas::Print>: png file /home/tmettler/Desktop/ub_data/mcc9.1/v08_00_00_17_V2/NumuCC_muon_cut//png/h_eff_thetaToms cut.png has been created\n",
      "Info in <TCanvas::SaveAs>: ROOT file /home/tmettler/Desktop/ub_data/mcc9.1/v08_00_00_17_V2/NumuCC_muon_cut//root/h_eff_thetaToms cut.root has been created\n",
      "Info in <TCanvas::Print>: png file /home/tmettler/Desktop/ub_data/mcc9.1/v08_00_00_17_V2/NumuCC_muon_cut//png/h_eff_phiToms cut.png has been created\n",
      "Info in <TCanvas::SaveAs>: ROOT file /home/tmettler/Desktop/ub_data/mcc9.1/v08_00_00_17_V2/NumuCC_muon_cut//root/h_eff_phiToms cut.root has been created\n",
      "Info in <TCanvas::Print>: png file /home/tmettler/Desktop/ub_data/mcc9.1/v08_00_00_17_V2/NumuCC_muon_cut//png/h_eff_VxToms cut.png has been created\n",
      "Info in <TCanvas::SaveAs>: ROOT file /home/tmettler/Desktop/ub_data/mcc9.1/v08_00_00_17_V2/NumuCC_muon_cut//root/h_eff_VxToms cut.root has been created\n",
      "Warning in <TROOT::Append>: Replacing existing TH1: h_init_eff_V (Potential memory leak).\n",
      "Warning in <TROOT::Append>: Replacing existing TH1: h_init_eff_V_1 (Potential memory leak).\n",
      "Info in <TCanvas::Print>: png file /home/tmettler/Desktop/ub_data/mcc9.1/v08_00_00_17_V2/NumuCC_muon_cut//png/h_eff_VyToms cut.png has been created\n",
      "Info in <TCanvas::SaveAs>: ROOT file /home/tmettler/Desktop/ub_data/mcc9.1/v08_00_00_17_V2/NumuCC_muon_cut//root/h_eff_VyToms cut.root has been created\n",
      "Warning in <TROOT::Append>: Replacing existing TH1: h_init_eff_V (Potential memory leak).\n",
      "Warning in <TROOT::Append>: Replacing existing TH1: h_init_eff_V_1 (Potential memory leak).\n",
      "Info in <TCanvas::Print>: png file /home/tmettler/Desktop/ub_data/mcc9.1/v08_00_00_17_V2/NumuCC_muon_cut//png/h_eff_VzToms cut.png has been created\n",
      "Info in <TCanvas::SaveAs>: ROOT file /home/tmettler/Desktop/ub_data/mcc9.1/v08_00_00_17_V2/NumuCC_muon_cut//root/h_eff_VzToms cut.root has been created\n"
     ]
    }
   ],
   "source": [
    "nenner = 'fidVol && muon && numu_true'\n",
    "zahler = 'fidVol && muon && TrackLength>32 && crt_tom_cut && TrackScore>0.8\\\n",
    "                && TrackLength>32 && TrackPID_chimuon<24 && numu_true'\n",
    "cut = 'fidVol && muon && TrackLength>32 && crt_tom_cut && TrackScore>0.8\\\n",
    "                && TrackLength>32 && TrackPID_chimuon<24'\n",
    "NuCC.plot_eff_outV2(nenner,zahler,cut,'Toms cut','Toms cut')"
   ]
  },
  {
   "cell_type": "code",
   "execution_count": 33,
   "metadata": {},
   "outputs": [
    {
     "name": "stdout",
     "output_type": "stream",
     "text": [
      "Efficiency:\t53.85%\n",
      "Purity:\t\t59.05%\n"
     ]
    },
    {
     "name": "stderr",
     "output_type": "stream",
     "text": [
      "Info in <TCanvas::Print>: png file /home/tmettler/Desktop/ub_data/mcc9.1/v08_00_00_17_V2/NumuCC_muon_cut//png/h_eff_energyCRT cut.png has been created\n",
      "Info in <TCanvas::SaveAs>: ROOT file /home/tmettler/Desktop/ub_data/mcc9.1/v08_00_00_17_V2/NumuCC_muon_cut//root/h_eff_energyCRT cut.root has been created\n",
      "Info in <TCanvas::Print>: png file /home/tmettler/Desktop/ub_data/mcc9.1/v08_00_00_17_V2/NumuCC_muon_cut//png/h_eff_thetaCRT cut.png has been created\n",
      "Info in <TCanvas::SaveAs>: ROOT file /home/tmettler/Desktop/ub_data/mcc9.1/v08_00_00_17_V2/NumuCC_muon_cut//root/h_eff_thetaCRT cut.root has been created\n",
      "Info in <TCanvas::Print>: png file /home/tmettler/Desktop/ub_data/mcc9.1/v08_00_00_17_V2/NumuCC_muon_cut//png/h_eff_phiCRT cut.png has been created\n",
      "Info in <TCanvas::SaveAs>: ROOT file /home/tmettler/Desktop/ub_data/mcc9.1/v08_00_00_17_V2/NumuCC_muon_cut//root/h_eff_phiCRT cut.root has been created\n",
      "Info in <TCanvas::Print>: png file /home/tmettler/Desktop/ub_data/mcc9.1/v08_00_00_17_V2/NumuCC_muon_cut//png/h_eff_VxCRT cut.png has been created\n",
      "Info in <TCanvas::SaveAs>: ROOT file /home/tmettler/Desktop/ub_data/mcc9.1/v08_00_00_17_V2/NumuCC_muon_cut//root/h_eff_VxCRT cut.root has been created\n",
      "Warning in <TROOT::Append>: Replacing existing TH1: h_init_eff_V (Potential memory leak).\n",
      "Warning in <TROOT::Append>: Replacing existing TH1: h_init_eff_V_1 (Potential memory leak).\n",
      "Info in <TCanvas::Print>: png file /home/tmettler/Desktop/ub_data/mcc9.1/v08_00_00_17_V2/NumuCC_muon_cut//png/h_eff_VyCRT cut.png has been created\n",
      "Info in <TCanvas::SaveAs>: ROOT file /home/tmettler/Desktop/ub_data/mcc9.1/v08_00_00_17_V2/NumuCC_muon_cut//root/h_eff_VyCRT cut.root has been created\n",
      "Warning in <TROOT::Append>: Replacing existing TH1: h_init_eff_V (Potential memory leak).\n",
      "Warning in <TROOT::Append>: Replacing existing TH1: h_init_eff_V_1 (Potential memory leak).\n",
      "Info in <TCanvas::Print>: png file /home/tmettler/Desktop/ub_data/mcc9.1/v08_00_00_17_V2/NumuCC_muon_cut//png/h_eff_VzCRT cut.png has been created\n",
      "Info in <TCanvas::SaveAs>: ROOT file /home/tmettler/Desktop/ub_data/mcc9.1/v08_00_00_17_V2/NumuCC_muon_cut//root/h_eff_VzCRT cut.root has been created\n"
     ]
    }
   ],
   "source": [
    "nenner = 'fidVol && muon && numu_true'\n",
    "zahler = 'fidVol && muon && TrackLength>32 && crt_tom_cut && TrackPID_chimuon<24 && numu_true'\n",
    "cut = 'fidVol && muon && TrackLength>32 && crt_tom_cut && TrackPID_chimuon<24'\n",
    "NuCC.plot_eff_outV2(nenner,zahler,cut,'CRT cut','CRT cut')"
   ]
  },
  {
   "cell_type": "code",
   "execution_count": null,
   "metadata": {},
   "outputs": [],
   "source": []
  },
  {
   "cell_type": "code",
   "execution_count": 49,
   "metadata": {},
   "outputs": [
    {
     "name": "stdout",
     "output_type": "stream",
     "text": [
      "Normalization (data-ext)/mc =  0.989223126109\n",
      "Normalization (data)/(mc +ext) =  0.991499657358\n"
     ]
    },
    {
     "name": "stderr",
     "output_type": "stream",
     "text": [
      "Warning in <TROOT::Append>: Replacing existing TH1: h_ext_func (Potential memory leak).\n",
      "Warning in <TROOT::Append>: Replacing existing TH1: h_dirt_func (Potential memory leak).\n",
      "Warning in <TROOT::Append>: Replacing existing TH1: numu_lowpur (Potential memory leak).\n",
      "Warning in <TROOT::Append>: Replacing existing TH1: numu_other (Potential memory leak).\n",
      "Warning in <TROOT::Append>: Replacing existing TH1: numu_nomu (Potential memory leak).\n",
      "Warning in <TROOT::Append>: Replacing existing TH1: numu_ov (Potential memory leak).\n",
      "Warning in <TROOT::Append>: Replacing existing TH1: numu_signal (Potential memory leak).\n",
      "Warning in <TROOT::Append>: Replacing existing TH1: numu_nc (Potential memory leak).\n",
      "Warning in <TCanvas::Constructor>: Deleting canvas with same name: c1\n",
      "Info in <TCanvas::Print>: png file /home/tmettler/Desktop/ub_data/mcc9.1/v08_00_00_17_V2/NumuCC_muon_cut//png/NuScore_muon_cut.png has been created\n",
      "Info in <TCanvas::SaveAs>: ROOT file /home/tmettler/Desktop/ub_data/mcc9.1/v08_00_00_17_V2/NumuCC_muon_cut//root/NuScore_muon_cut.root has been created\n"
     ]
    },
    {
     "data": {
      "image/png": "[encoded data removed]",
      "text/plain": [
       "<IPython.core.display.Image object>"
      ]
     },
     "metadata": {},
     "output_type": "display_data"
    }
   ],
   "source": [
    "cut = 'fidVol && muon && TrackLength>32 && crt_tom_cut && TrackPID_chimuon<24'\n",
    "name = '_muon_cut'\n",
    "#NuCC.make_stacked_histo_plot_out(cut + ' && TrackTheta!=-9','cos(TrackTheta)','cos(theta)',-1,1,20,'costheta'+name)\n",
    "#NuCC.make_stacked_histo_plot_out(cut,'Nu_Vz_sce','Reco. Nu vertex Z position [cm]',-20,1020,50,'NuVz_sce'+name)\n",
    "NuCC.make_stacked_histo_plot_out(cut,'NuScore','Total NuScore of event',0,1,20,'NuScore'+name)\n"
   ]
  },
  {
   "cell_type": "code",
   "execution_count": null,
   "metadata": {},
   "outputs": [],
   "source": []
  },
  {
   "cell_type": "code",
   "execution_count": null,
   "metadata": {},
   "outputs": [],
   "source": []
  },
  {
   "cell_type": "code",
   "execution_count": null,
   "metadata": {},
   "outputs": [],
   "source": []
  },
  {
   "cell_type": "code",
   "execution_count": 27,
   "metadata": {},
   "outputs": [],
   "source": [
    "# initialte ROOT default canvas\n",
    "ROOT.gStyle.SetOptStat(0)\n",
    "c1 = ROOT.TCanvas(\"c1\",\"c1\",1600,1200)\n",
    "c1.SetGrid(1)\n",
    "c1.SetLeftMargin(0.14)\n",
    "c1.SetRightMargin(0.18)\n",
    "c1.SetBottomMargin(0.14)"
   ]
  },
  {
   "cell_type": "code",
   "execution_count": 29,
   "metadata": {},
   "outputs": [
    {
     "name": "stdout",
     "output_type": "stream",
     "text": [
      "Variation of cut on: TrackLength\n",
      "Maximum value:  30.6572437286\n",
      "Bin:  35  -> Value:  34.0\n"
     ]
    },
    {
     "name": "stderr",
     "output_type": "stream",
     "text": [
      "Warning in <TROOT::Append>: Replacing existing TH1: h_eff (Potential memory leak).\n",
      "Warning in <TROOT::Append>: Replacing existing TH1: h_pur (Potential memory leak).\n",
      "Warning in <TROOT::Append>: Replacing existing TH1: h_effpur (Potential memory leak).\n",
      "Info in <TCanvas::Print>: png file /home/tmettler/Desktop/ub_data/mcc9.1/v08_00_00_17_V2/NumuCC_muon_cut//png/TrackLength.png has been created\n",
      "Info in <TCanvas::SaveAs>: ROOT file /home/tmettler/Desktop/ub_data/mcc9.1/v08_00_00_17_V2/NumuCC_muon_cut//root/TrackLength.root has been created\n"
     ]
    },
    {
     "data": {
      "image/png": "[encoded data removed]",
      "text/plain": [
       "<IPython.core.display.Image object>"
      ]
     },
     "metadata": {},
     "output_type": "display_data"
    }
   ],
   "source": [
    "value = 'TrackLength'\n",
    "xbins = 50\n",
    "xstart = 0\n",
    "xend = 50\n",
    "step = (xend-xstart)/xbins\n",
    "title = 'Track length [cm]'\n",
    "\n",
    "h_eff =  ROOT.TH1F(\"h_eff\",title,xbins,xstart,xend)\n",
    "h_pur = ROOT.TH1F(\"h_pur\",title,xbins,xstart,xend)\n",
    "h_effpur = ROOT.TH1F(\"h_effpur\",title,xbins,xstart,xend)\n",
    "for i in range(xbins): \n",
    "    cut = 'muon && fidVol && crt_tom_cut && TrackScore>0.8 && ('+value+'>('+str(xstart)+'+'+str(step)+'*'+str(i)+'))'\n",
    "    #print cut\n",
    "    pur = overlay_out.GetEntries(cut+' && numu_signal')*scale[overlay]*100.0/(NuCC.getTotNum_out(cut)+0.00001)\n",
    "    eff = overlay_out.GetEntries(cut+' && numu_signal')*100.0/overlay_out.GetEntries(\"numu_true\")\n",
    "    h_eff.SetBinContent(i+1,eff)\n",
    "    h_pur.SetBinContent(i+1,pur)\n",
    "    h_effpur.SetBinContent(i+1,eff*pur/100.0)\n",
    "    #print eff ,pur, eff*pur,i\n",
    "\n",
    "legend = ROOT.TLegend(0.15,0.75,0.48,0.9);\n",
    "legend.AddEntry(h_eff,\"efficiency\",\"f\");\n",
    "legend.AddEntry(h_pur,\"purity\",\"f\");\n",
    "legend.AddEntry(h_effpur,\"eff * pur\",\"f\");\n",
    "\n",
    "h_eff.SetLineColor(1)\n",
    "h_eff.SetMaximum(100)\n",
    "h_eff.SetMinimum(0)\n",
    "h_pur.SetLineColor(2)\n",
    "h_effpur.SetLineColor(3)\n",
    "h_pur.SetLineWidth(3)\n",
    "h_eff.SetLineWidth(3)\n",
    "h_effpur.SetLineWidth(3)\n",
    "h_eff.Draw()\n",
    "legend.Draw()\n",
    "h_pur.Draw('same')\n",
    "h_effpur.Draw('same')\n",
    "h_eff.Draw('same')\n",
    "c1.SetLogy(0)\n",
    "c1.Draw()\n",
    "c1.SaveAs(outputdir_png+ value +\".png\");\n",
    "c1.SaveAs(outputdir_root+ value+ \".root\");\n",
    "\n",
    "print 'Variation of cut on: '+value\n",
    "print 'Maximum value: ', h_effpur.GetMaximum()\n",
    "print 'Bin: ', h_effpur.GetMaximumBin(),' -> Value: ', xstart+(h_effpur.GetMaximumBin()-1)*step"
   ]
  },
  {
   "cell_type": "code",
   "execution_count": 30,
   "metadata": {},
   "outputs": [
    {
     "name": "stdout",
     "output_type": "stream",
     "text": [
      "Variation of cut on: TrackPID_chimuon\n",
      "Maximum value:  31.6403312683\n",
      "Bin:  25  -> Value:  24.0\n"
     ]
    },
    {
     "name": "stderr",
     "output_type": "stream",
     "text": [
      "Warning in <TROOT::Append>: Replacing existing TH1: h_eff (Potential memory leak).\n",
      "Warning in <TROOT::Append>: Replacing existing TH1: h_pur (Potential memory leak).\n",
      "Warning in <TROOT::Append>: Replacing existing TH1: h_effpur (Potential memory leak).\n",
      "Info in <TCanvas::Print>: png file /home/tmettler/Desktop/ub_data/mcc9.1/v08_00_00_17_V2/NumuCC_muon_cut//png/TrackPID_chimuon.png has been created\n",
      "Info in <TCanvas::SaveAs>: ROOT file /home/tmettler/Desktop/ub_data/mcc9.1/v08_00_00_17_V2/NumuCC_muon_cut//root/TrackPID_chimuon.root has been created\n"
     ]
    },
    {
     "data": {
      "image/png": "[encoded data removed]",
      "text/plain": [
       "<IPython.core.display.Image object>"
      ]
     },
     "metadata": {},
     "output_type": "display_data"
    }
   ],
   "source": [
    "value = 'TrackPID_chimuon'\n",
    "xbins = 50\n",
    "xstart = 0\n",
    "xend = 50\n",
    "step = (xend-xstart)/xbins\n",
    "title = 'Track PID chi square'\n",
    "\n",
    "h_eff =  ROOT.TH1F(\"h_eff\",title,xbins,xstart,xend)\n",
    "h_pur = ROOT.TH1F(\"h_pur\",title,xbins,xstart,xend)\n",
    "h_effpur = ROOT.TH1F(\"h_effpur\",title,xbins,xstart,xend)\n",
    "for i in range(xbins): \n",
    "    cut = 'muon && fidVol && crt_tom_cut && TrackScore>0.8 && \\\n",
    "        TrackLength>32 && ('+value+'<('+str(xstart)+'+'+str(step)+'*'+str(i)+'))'\n",
    "    #print cut\n",
    "    pur = overlay_out.GetEntries(cut+' && numu_signal')*scale[overlay]*100.0/(NuCC.getTotNum_out(cut)+0.00001)\n",
    "    eff = overlay_out.GetEntries(cut+' && numu_signal')*100.0/overlay_out.GetEntries(\"numu_true\")\n",
    "    h_eff.SetBinContent(i+1,eff)\n",
    "    h_pur.SetBinContent(i+1,pur)\n",
    "    h_effpur.SetBinContent(i+1,eff*pur/100.0)\n",
    "    #print eff ,pur, eff*pur,i\n",
    "\n",
    "legend = ROOT.TLegend(0.15,0.75,0.48,0.9);\n",
    "legend.AddEntry(h_eff,\"efficiency\",\"f\");\n",
    "legend.AddEntry(h_pur,\"purity\",\"f\");\n",
    "legend.AddEntry(h_effpur,\"eff * pur\",\"f\");\n",
    "\n",
    "h_eff.SetLineColor(1)\n",
    "h_eff.SetMaximum(100)\n",
    "h_eff.SetMinimum(0)\n",
    "h_pur.SetLineColor(2)\n",
    "h_effpur.SetLineColor(3)\n",
    "h_pur.SetLineWidth(3)\n",
    "h_eff.SetLineWidth(3)\n",
    "h_effpur.SetLineWidth(3)\n",
    "h_eff.Draw()\n",
    "legend.Draw()\n",
    "h_pur.Draw('same')\n",
    "h_effpur.Draw('same')\n",
    "h_eff.Draw('same')\n",
    "c1.SetLogy(0)\n",
    "c1.Draw()\n",
    "c1.SaveAs(outputdir_png+ value +\".png\");\n",
    "c1.SaveAs(outputdir_root+ value+ \".root\");\n",
    "\n",
    "print 'Variation of cut on: '+value\n",
    "print 'Maximum value: ', h_effpur.GetMaximum()\n",
    "print 'Bin: ', h_effpur.GetMaximumBin(),' -> Value: ', xstart+(h_effpur.GetMaximumBin()-1)*step"
   ]
  },
  {
   "cell_type": "code",
   "execution_count": null,
   "metadata": {},
   "outputs": [],
   "source": []
  },
  {
   "cell_type": "code",
   "execution_count": null,
   "metadata": {},
   "outputs": [],
   "source": []
  },
  {
   "cell_type": "code",
   "execution_count": null,
   "metadata": {},
   "outputs": [],
   "source": []
  },
  {
   "cell_type": "code",
   "execution_count": null,
   "metadata": {},
   "outputs": [],
   "source": []
  }
 ],
 "metadata": {
  "kernelspec": {
   "display_name": "Python 2",
   "language": "python",
   "name": "python2"
  },
  "language_info": {
   "codemirror_mode": {
    "name": "ipython",
    "version": 2
   },
   "file_extension": ".py",
   "mimetype": "text/x-python",
   "name": "python",
   "nbconvert_exporter": "python",
   "pygments_lexer": "ipython2",
   "version": "2.7.12"
  }
 },
 "nbformat": 4,
 "nbformat_minor": 2
}
