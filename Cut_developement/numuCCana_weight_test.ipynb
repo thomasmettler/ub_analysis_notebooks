{
 "cells": [
  {
   "cell_type": "code",
   "execution_count": 1,
   "metadata": {},
   "outputs": [
    {
     "name": "stdout",
     "output_type": "stream",
     "text": [
      "Welcome to JupyROOT 6.10/08\n"
     ]
    }
   ],
   "source": [
    "from __future__ import division\n",
    "import imp\n",
    "import uproot\n",
    "import matplotlib\n",
    "#matplotlib.use('agg')\n",
    "import matplotlib.pyplot as plt\n",
    "import matplotlib.image as mpimg\n",
    "import numpy as np\n",
    "import pandas as pd\n",
    "import os\n",
    "import ROOT\n",
    "import time\n",
    "import math\n",
    "helper = imp.load_source('helpfunction','/home/tmettler/Desktop/uBoone/do_plots/helpfunction.py')\n",
    "globale = imp.load_source('globale','/home/tmettler/Desktop/uBoone/do_plots/globale.py')\n",
    "#import /home/tmettler/Desktop/uBoone/do_plots/helpfunction as helper\n",
    "import collections\n",
    "NuCC = imp.load_source('NuCC_function','/home/tmettler/Desktop/uBoone/do_plots/NuCC_function.py')\n",
    "NuCC_w = imp.load_source('NuCCWeight_function','/home/tmettler/Desktop/uBoone/do_plots/NuCCWeight_function.py')"
   ]
  },
  {
   "cell_type": "code",
   "execution_count": 2,
   "metadata": {},
   "outputs": [],
   "source": [
    "#!jupyter nbconvert --to script numuCCana_muon_cut_V33.ipynb"
   ]
  },
  {
   "cell_type": "code",
   "execution_count": 3,
   "metadata": {},
   "outputs": [
    {
     "name": "stderr",
     "output_type": "stream",
     "text": [
      "Warning in <TCanvas::Constructor>: Deleting canvas with same name: c1\n"
     ]
    }
   ],
   "source": [
    "# initialte ROOT default canvas\n",
    "ROOT.gStyle.SetOptStat(0)\n",
    "c1 = ROOT.TCanvas(\"c1\",\"c1\",1600,1200)\n",
    "c1.SetGrid(1)\n",
    "c1.SetLeftMargin(0.14)\n",
    "c1.SetRightMargin(0.18)\n",
    "c1.SetBottomMargin(0.14)"
   ]
  },
  {
   "cell_type": "markdown",
   "metadata": {},
   "source": [
    "# CRTinBNB tagger, Overlay or MC"
   ]
  },
  {
   "cell_type": "code",
   "execution_count": 4,
   "metadata": {},
   "outputs": [],
   "source": [
    "# Load input files\n",
    "#inputdir = '/home/thomasm/numuCC/V33/10kevents/'\n",
    "inputdir = '/home/tmettler/Desktop/v08_00_00_33/V08_00_00_35/weighted/'\n",
    "outputdir = inputdir+'muon_cut/' \n",
    "outputdir_png, outputdir_root = NuCC.prepareOutput(outputdir)\n",
    "\n",
    "#filename_overlay = 'NuCCana_Overlay_V18_V4.root'\n",
    "filename_overlay = 'NuCCana_overlay_V26_weight.root'\n",
    "#filename_overlay = 'NuCCana_overlay_v25_weighted_all.root'\n",
    "filename_data = 'NuCCana_data_V22.root'\n",
    "filename_ext = 'NuCCana_ext_V25.root'\n",
    "filename_dirt = 'NuCCana_dirt_V26_weight.root'\n",
    "    \n",
    "tree_name = 'numuCCAna'"
   ]
  },
  {
   "cell_type": "code",
   "execution_count": 5,
   "metadata": {},
   "outputs": [
    {
     "name": "stdout",
     "output_type": "stream",
     "text": [
      "Overlay: Number of Entries:\t989745\n",
      "Data: Number of Entries:\t33178\n",
      "Ext: Number of Entries:\t\t222702\n",
      "Dirt: Number of Entries:\t40808\n",
      "\n",
      "POT: \n",
      "Data:\t\t8.649e+18\n",
      "Ext:\t\t0\n",
      "Overlay:\t1.24025430537e+21\n",
      "Dirt:\t\t1.25019694173e+20\n",
      "\n",
      "Scalefactors: \n",
      "Data:\t\t1.0\n",
      "Ext:\t\t0.0976176954382\n",
      "Overlay:\t0.00697356982562\n",
      "Dirt:\t\t0.0691811002835\n"
     ]
    },
    {
     "name": "stderr",
     "output_type": "stream",
     "text": [
      "Warning in <TClass::Init>: no dictionary for class ROOT::TIOFeatures is available\n"
     ]
    }
   ],
   "source": [
    "#Open all the trees of the four files (data, ext, dirt, overlay)\n",
    "data, ext, dirt, overlay = NuCC.openTrees(inputdir, filename_data, filename_ext, filename_dirt, filename_overlay, tree_name)\n",
    "NuCC.printNumberOfEntries(data,ext,dirt,overlay)\n",
    "\n",
    "pot_overlay = NuCC.getPOT(inputdir,filename_overlay,tree_name)\n",
    "pot_dirt =  NuCC.getPOT(inputdir,filename_dirt,tree_name)\n",
    "\n",
    "#V25 files\n",
    "pot_data =     8.649e+18  # best with tor875\n",
    "data_trigger = 1854495.0 #4743794 # 1987072.0 # E1DCNT_wcut\n",
    "ext_trigger =  18997529.0  #2120135 #5685315 # EXT\n",
    "\n",
    "print 'POT: '\n",
    "print 'Data:\\t\\t', pot_data\n",
    "print 'Ext:\\t\\t', 0\n",
    "print 'Overlay:\\t', pot_overlay\n",
    "print 'Dirt:\\t\\t', pot_dirt\n",
    "print ''\n",
    "pot_overlay = pot_overlay\n",
    "sample = [data,ext,overlay,dirt]\n",
    "scale = {data:1.0,ext:1.0,overlay:1.0,dirt:1.0}\n",
    "name = {data:'data',ext:'ext',overlay:'overlay',dirt:'dirt'}\n",
    "scale[data], scale[ext], scale[dirt], scale[overlay] = NuCC.calculateScale(data_trigger, ext_trigger, pot_data, pot_dirt, pot_overlay)\n",
    "scale[dirt] = scale[dirt]\n",
    "scale[overlay] = scale[overlay]\n",
    "print 'Scalefactors: '\n",
    "print 'Data:\\t\\t', scale[data]\n",
    "print 'Ext:\\t\\t', scale[ext]\n",
    "print 'Overlay:\\t', scale[overlay]\n",
    "print 'Dirt:\\t\\t', scale[dirt]\n"
   ]
  },
  {
   "cell_type": "code",
   "execution_count": 6,
   "metadata": {},
   "outputs": [
    {
     "name": "stdout",
     "output_type": "stream",
     "text": [
      "Overlay: Number of Entries:\t989714\n",
      "Data: Number of Entries:\t33177\n",
      "Ext: Number of Entries:\t\t222701\n",
      "Dirt: Number of Entries:\t40807\n",
      "\n"
     ]
    }
   ],
   "source": [
    "if 1:\n",
    "    filename_overlay = filename_overlay+'out33wG.root'\n",
    "    #filename_overlay = 'NuCCana_overlay_points_1kev.rootout2.root'\n",
    "    filename_data = filename_data+'out33.root'\n",
    "    filename_ext = filename_ext+'out33.root'\n",
    "    filename_dirt = filename_dirt+'out33.root'\n",
    "\n",
    "    tree_name = 't_out'\n",
    "\n",
    "    data_out, ext_out, dirt_out, overlay_out = NuCC.openTreesOut(inputdir, filename_data, filename_ext, filename_dirt, filename_overlay, tree_name)\n",
    "    NuCC.printNumberOfEntries(data_out,ext_out,dirt_out,overlay_out)\n",
    "\n",
    "    sample_out = [data_out,ext_out,overlay_out,dirt_out]\n",
    "    scale_out = {data_out:1.0,ext_out:1.0,overlay_out:1.0,dirt_out:1.0}\n",
    "    name_out = {data_out:'data',ext_out:'ext',overlay_out:'overlay',dirt_out:'dirt'}\n",
    "\n",
    "    scale_out[data_out], scale_out[ext_out], scale_out[dirt_out], scale_out[overlay_out] = NuCC.calculateScale(data_trigger, ext_trigger, pot_data, pot_dirt, pot_overlay)\n",
    "    scale_out[dirt_out] = scale_out[dirt_out]\n",
    "    scale_out[overlay_out] = scale_out[overlay_out]"
   ]
  },
  {
   "cell_type": "code",
   "execution_count": 7,
   "metadata": {},
   "outputs": [],
   "source": [
    "# Define signals\n",
    "\n",
    "fidVol = '(Nu_Vx_sce>(-1.55+10) && Nu_Vx_sce<(254.8-10)) && (Nu_Vy_sce>(-115.53+10) && Nu_Vy_sce<(117.47-10)) &&(Nu_Vz_sce>(-0.1+10) && Nu_Vz_sce<(1036.9-50))'\n",
    "MCfidVol = '(MCNu_Vx>(-1.55+10) && MCNu_Vx<(254.8-10)) && (MCNu_Vy>(-115.53+10) && MCNu_Vy<(117.47-10)) &&(MCNu_Vz>(-0.1+10) && MCNu_Vz<(1036.9-50))'\n",
    "numu_true = 'MCfidVol && MCNu_CCNC==0 && MCNu_PDG==14' # numu true CC signal definition\n",
    "\n",
    "#numu_signal = 'fidVol && MCfidVol && MCNu_CCNC==0 && MCNu_PDG==14 && MCTrackPDG==13 && MCTrackPurity>0.5' # numu CC signal definition\n",
    "numu_signal_QE = 'fidVol && MCfidVol && MCNu_CCNC==0 && MCNu_PDG==14 && MCTrackPDG==13 && MCTrackPurity>0.5 && MCNu_Interaction==0' # numu CC signal definition\n",
    "numu_signal_RES = 'fidVol && MCfidVol && MCNu_CCNC==0 && MCNu_PDG==14 && MCTrackPDG==13 && MCTrackPurity>0.5 && MCNu_Interaction==1' # numu CC signal definition\n",
    "numu_signal_DIS = 'fidVol && MCfidVol && MCNu_CCNC==0 && MCNu_PDG==14 && MCTrackPDG==13 && MCTrackPurity>0.5 && MCNu_Interaction==2' # numu CC signal definition\n",
    "numu_signal_Coh = 'fidVol && MCfidVol && MCNu_CCNC==0 && MCNu_PDG==14 && MCTrackPDG==13 && MCTrackPurity>0.5 && MCNu_Interaction==3' # numu CC signal definition\n",
    "numu_signal_MEC = 'fidVol && MCfidVol && MCNu_CCNC==0 && MCNu_PDG==14 && MCTrackPDG==13 && MCTrackPurity>0.5 && MCNu_Interaction==10' # numu CC signal definition\n",
    "numu_bkg = 'fidVol && !(MCfidVol && MCNu_CCNC==0 && MCNu_PDG==14 && MCTrackPDG==13 && MCTrackPurity>0.5)' # not an MC muon\n",
    "\n",
    "#signal = 'MCfidVol && MCNu_CCNC==0 && MCNu_PDG==14'\n",
    "for x in sample:\n",
    "    x.SetAlias('muon','(muon_candidate_key==track_key)')\n",
    "    #x.SetAlias('muon','(track_key == key_muon)')\n",
    "    \n",
    "num_fidVol = {}\n",
    "for x in sample:\n",
    "    x.SetAlias('fidVol',fidVol)\n",
    "    x.SetAlias('MCfidVol',MCfidVol)\n",
    "    x.SetAlias('CC_QE',numu_signal_QE)\n",
    "    x.SetAlias('CC_RES',numu_signal_RES)\n",
    "    x.SetAlias('CC_DIS',numu_signal_DIS)\n",
    "    x.SetAlias('CC_Coh',numu_signal_Coh)\n",
    "    x.SetAlias('CC_MEC',numu_signal_MEC)\n",
    "    x.SetAlias('numu_true',numu_true)\n",
    "    x.SetAlias('bkg',numu_bkg)\n",
    "    #x.SetAlias('numu_lowpur',numu_lowpur)\n",
    "    #x.SetAlias('numu_nc',numu_nc)\n",
    "    #x.SetAlias('numu_ov',numu_ov)\n",
    "    #x.SetAlias('numu_other',numu_other)\n",
    "    num_fidVol[x] = x.GetEntries('fidVol && muon')*scale[x]\n",
    "    \n",
    "tot_num_fidVol = num_fidVol[ext]+num_fidVol[dirt]+num_fidVol[overlay]\n",
    "overlay_signals = {'CC_QE','CC_RES','CC_DIS','CC_Coh','CC_MEC','bkg'}"
   ]
  },
  {
   "cell_type": "code",
   "execution_count": 8,
   "metadata": {},
   "outputs": [],
   "source": [
    "for x in sample_out:\n",
    "    x.SetAlias('muon','(track_key == key_muon)')\n",
    "    #x.SetAlias('muon','(key_muprotratio==track_key)')\n",
    "    \n",
    "num_fidVol = {}\n",
    "for x in sample_out:\n",
    "    x.SetAlias('fidVol',fidVol)\n",
    "    x.SetAlias('MCfidVol',MCfidVol)\n",
    "    x.SetAlias('CC_QE',numu_signal_QE)\n",
    "    x.SetAlias('CC_RES',numu_signal_RES)\n",
    "    x.SetAlias('CC_DIS',numu_signal_DIS)\n",
    "    x.SetAlias('CC_Coh',numu_signal_Coh)\n",
    "    x.SetAlias('CC_MEC',numu_signal_MEC)\n",
    "    x.SetAlias('numu_true',numu_true)\n",
    "    x.SetAlias('bkg',numu_bkg)\n",
    "    #x.SetAlias('numu_lowpur',numu_lowpur)\n",
    "    #x.SetAlias('numu_nc',numu_nc)\n",
    "    #x.SetAlias('numu_ov',numu_ov)\n",
    "    #x.SetAlias('numu_other',numu_other)\n"
   ]
  },
  {
   "cell_type": "code",
   "execution_count": 9,
   "metadata": {},
   "outputs": [
    {
     "name": "stderr",
     "output_type": "stream",
     "text": [
      "Warning in <TCanvas::Constructor>: Deleting canvas with same name: c1\n"
     ]
    }
   ],
   "source": [
    "# Load the global variables for access of functions\n",
    "NuCC.loadGlobal(data,ext,dirt,overlay,data_out,ext_out,dirt_out,overlay_out,scale,scale_out,tot_num_fidVol,overlay_signals,sample,sample_out, name,name_out, outputdir_png, outputdir_root)\n",
    "#NuCC.printGlobal()"
   ]
  },
  {
   "cell_type": "code",
   "execution_count": 10,
   "metadata": {},
   "outputs": [],
   "source": [
    "# initialte ROOT default canvas\n",
    "ROOT.gStyle.SetOptStat(0)\n",
    "c1 = ROOT.TCanvas(\"c1\",\"c1\",400,300)\n",
    "c1.SetGrid(1)\n",
    "c1.SetLeftMargin(0.14)\n",
    "c1.SetRightMargin(0.18)\n",
    "c1.SetBottomMargin(0.14)"
   ]
  },
  {
   "cell_type": "code",
   "execution_count": 11,
   "metadata": {},
   "outputs": [
    {
     "data": {
      "text/plain": [
       "True"
      ]
     },
     "execution_count": 11,
     "metadata": {},
     "output_type": "execute_result"
    }
   ],
   "source": [
    "track_start_border_x = '(TrackStart_x_sce <(-1.55+1) || TrackStart_x_sce > (254.8-1))'\n",
    "track_end_border_x = '(TrackEnd_x_sce <(-1.55+1) || TrackEnd_x_sce > (254.8-1))'\n",
    "track_start_border_y = '(TrackStart_y_sce <(-115.53+1) || TrackStart_y_sce > (117.47-1))'\n",
    "track_end_border_y = '(TrackEnd_y_sce <(-115.53+1) || TrackEnd_y_sce > (117.47-1))'\n",
    "track_start_border_z = '(TrackStart_z_sce <(0.1+1) || TrackStart_z_sce > (1036.9-1))'\n",
    "track_end_border_z = '(TrackEnd_z_sce <(0.1+1) || TrackEnd_z_sce > (1039.9-1))'\n",
    "\n",
    "track_end_uncontained = '(' + track_end_border_x + ' || ' + track_end_border_y + ' || ' + track_end_border_z+ ')'\n",
    "\n",
    "\n",
    "data.SetAlias(\"track_end_uncontained\",track_end_uncontained)\n",
    "ext.SetAlias(\"track_end_uncontained\",track_end_uncontained)\n",
    "overlay.SetAlias(\"track_end_uncontained\",track_end_uncontained)\n",
    "dirt.SetAlias(\"track_end_uncontained\",track_end_uncontained)\n",
    "data_out.SetAlias(\"track_end_uncontained\",track_end_uncontained)\n",
    "ext_out.SetAlias(\"track_end_uncontained\",track_end_uncontained)\n",
    "overlay_out.SetAlias(\"track_end_uncontained\",track_end_uncontained)\n",
    "dirt_out.SetAlias(\"track_end_uncontained\",track_end_uncontained)\n",
    "\n",
    "data.SetAlias(\"crt_cut\",\"(abs(crtt0_time-(69000-crt_trig_corr_med)/1000-4)<0.8 || crtt0_time==-1)\")\n",
    "ext.SetAlias(\"crt_cut\",\"(abs(crtt0_time-(69000-crt_trig_corr_med)/1000-3.57+3.195-4)<0.8 || crtt0_time==-1)\")\n",
    "overlay.SetAlias(\"crt_cut\",\"(abs(crtt0_time-4)<0.8 || crtt0_time==-1)\")\n",
    "dirt.SetAlias(\"crt_cut\",\"(abs(crtt0_time-4)<0.8 || crtt0_time==-1)\")\n",
    "data_out.SetAlias(\"crt_cut\",\"(abs(crtt0_time-(69000-crt_trig_corr_med)/1000-4)<0.8 || crtt0_time==-1)\")\n",
    "ext_out.SetAlias(\"crt_cut\",\"(abs(crtt0_time-(69000-crt_trig_corr_med)/1000-3.57+3.195-4)<0.8 || crtt0_time==-1)\")\n",
    "overlay_out.SetAlias(\"crt_cut\",\"(abs(crtt0_time-4)<0.8 || crtt0_time==-1)\")\n",
    "dirt_out.SetAlias(\"crt_cut\",\"(abs(crtt0_time-4)<0.8 || crtt0_time==-1)\")\n",
    "\n",
    "crt_tom_cut = 'nr_crthit_top==0 && crthit_vertex_zcut==0 && (track_end_uncontained==1 || nr_crthit_beam_tres==0) && crt_cut'\n",
    "\n",
    "data.SetAlias(\"crt_tom_cut\",crt_tom_cut)\n",
    "ext.SetAlias(\"crt_tom_cut\",crt_tom_cut)\n",
    "overlay.SetAlias(\"crt_tom_cut\",crt_tom_cut)\n",
    "dirt.SetAlias(\"crt_tom_cut\",crt_tom_cut)\n",
    "data_out.SetAlias(\"crt_tom_cut\",crt_tom_cut)\n",
    "ext_out.SetAlias(\"crt_tom_cut\",crt_tom_cut)\n",
    "overlay_out.SetAlias(\"crt_tom_cut\",crt_tom_cut)\n",
    "dirt_out.SetAlias(\"crt_tom_cut\",crt_tom_cut)\n",
    "\n",
    "p_para = 'sqrt(TrackDir_x*TrackDir_x+TrackDir_y*TrackDir_y)*TrackMomMCS_mom'\n",
    "\n",
    "data.SetAlias(\"p_para\",p_para)\n",
    "ext.SetAlias(\"p_para\",p_para)\n",
    "overlay.SetAlias(\"p_para\",p_para)\n",
    "dirt.SetAlias(\"p_para\",p_para)\n",
    "data_out.SetAlias(\"p_para\",p_para)\n",
    "ext_out.SetAlias(\"p_para\",p_para)\n",
    "overlay_out.SetAlias(\"p_para\",p_para)\n",
    "dirt_out.SetAlias(\"p_para\",p_para)\n",
    "\n",
    "\n",
    "p_per = 'TrackDir_z*TrackMomMCS_mom'\n",
    "\n",
    "data.SetAlias(\"p_per\",p_per)\n",
    "ext.SetAlias(\"p_per\",p_per)\n",
    "overlay.SetAlias(\"p_per\",p_per)\n",
    "dirt.SetAlias(\"p_per\",p_per)\n",
    "data_out.SetAlias(\"p_per\",p_per)\n",
    "ext_out.SetAlias(\"p_per\",p_per)\n",
    "overlay_out.SetAlias(\"p_per\",p_per)\n",
    "dirt_out.SetAlias(\"p_per\",p_per)\n"
   ]
  },
  {
   "cell_type": "code",
   "execution_count": 12,
   "metadata": {},
   "outputs": [],
   "source": [
    "def make_true_histo_weight(cut,variable,weight,title,xstart,xend,xbins,file_name,side='right'):\n",
    "    #initialize the 1d histograms\n",
    "    weight_name = 'EventWeight*TunedCentralValue_Genie'\n",
    "    h_data_func = ROOT.TH1F(\"h_data_func\",title,xbins,xstart,xend)\n",
    "    h_ext_func = ROOT.TH1F(\"h_ext_func\",title,xbins,xstart,xend)\n",
    "    h_dirt_func = ROOT.TH1F(\"h_dirt_func\",title,xbins,xstart,xend)\n",
    "    h_overlay_func = {} # make an array of histograms for the different interactions\n",
    "    for x in globale.overlay_signals:\n",
    "        h_overlay_func[x] = ROOT.TH1F(x,title,xbins,xstart,xend)\n",
    "    #variable = variable\n",
    "    # Draw/Fill the histograms for all kind of interactions\n",
    "    globale.data_out.Draw(variable+'>>h_data_func',cut,'')\n",
    "    globale.ext_out.Draw(variable+'>>h_ext_func',cut,'')\n",
    "    #mofify this...\n",
    "    globale.dirt_out.Draw(variable+'>>h_dirt_func',weight_name+'*('+cut+')','')\n",
    "\n",
    "    cut = cut +' && '\n",
    "    for x in globale.overlay_signals:\n",
    "        histo = x\n",
    "        globale.overlay_out.Draw(variable+'>>'+histo,weight_name+'*('+cut+x+')','')\n",
    "        #h_overlay_func[x] = fill_histo(globale.overlay_out,variable,h_overlay_func[x],cut+x)\n",
    "    # prepare the stacked histogram\n",
    "    hs = ROOT.TH1F(\"hs\",title,xbins,xstart,xend)\n",
    "    h_ext_func.SetFillColor(2)\n",
    "    h_ext_func.SetLineColor(1)\n",
    "    h_dirt_func.SetFillColor(42)\n",
    "    h_dirt_func.SetLineColor(1)\n",
    "    h_data_func.SetLineWidth(1)\n",
    "    #scale the histograms\n",
    "    h_data_func.Sumw2()\t\n",
    "    h_data_func.Scale(globale.scale[globale.data])\n",
    "    h_ext_func.Sumw2()\t\n",
    "    h_ext_func.Scale(globale.scale[globale.ext])\n",
    "    h_dirt_func.Sumw2()\t\n",
    "    h_dirt_func.Scale(globale.scale[globale.dirt])\n",
    "    \n",
    "    h_data_func.Add(h_ext_func,-1)\n",
    "    h_data_func.Add(h_dirt_func,-1)\n",
    "    \n",
    "    #fill the stacked histogram\n",
    "    #hs.Add(h_ext_func)\n",
    "    #hs.Add(h_dirt_func)\n",
    "    mc_events = 0\n",
    "    mc_event_list = {}\n",
    "    for i,x in enumerate(globale.overlay_signals):\n",
    "        #h_overlay_func[x].Sumw2()\n",
    "        h_overlay_func[x].Scale(globale.scale[globale.overlay])\n",
    "        #h_overlay_func[x].SetFillColor((2*i+11))\n",
    "        h_overlay_func[x].SetLineColor((1*(i+1)))\n",
    "        h_overlay_func[x].SetLineWidth(2)\n",
    "        #h_overlay_func[x].SetLineColor(1)\n",
    "        mc_event_list[x] = h_overlay_func[x].GetSumOfWeights()\n",
    "        if x!= 'bkg':\n",
    "            mc_events = mc_events+mc_event_list[x]\n",
    "            hs.Add(h_overlay_func[x])\n",
    "    # calculate the data - MC ratio\n",
    "    h_data_func.Add(h_overlay_func['bkg'],-1)\n",
    "    #mc_events = mc_events-mc_event_list['bkg']\n",
    "    data_events = h_data_func.GetSumOfWeights()#*globale.scale[globale.data]\n",
    "    #ext_events = h_ext_func.GetEntries()*globale.scale[globale.ext]\n",
    "    #dirt_events = h_dirt_func.GetSumOfWeights()\n",
    "    #mc_events = mc_events + dirt_events\n",
    "    normalization = (data_events)/(mc_events)\n",
    "    print 'Normalization (data)/(mc +ext) = ', normalization\n",
    "    if side == 'left':\n",
    "        legend = ROOT.TLegend(0.15,0.65,0.45,0.9) # LEGEND LEFT\n",
    "    else:\n",
    "        legend = ROOT.TLegend(0.6,0.65,0.9,0.9); #LEGEND RIGHT\n",
    "    legend.SetNColumns(2)\n",
    "    data_name = 'data-bkg: {0:0.1f}'.format(data_events)\n",
    "    ##ext_name = 'ext: {0:0.1f}'.format(ext_events)\n",
    "    all_name = 'all: {0:0.1f}'.format(mc_events)\n",
    "    legend.AddEntry(h_data_func,data_name,\"lep\");\n",
    "    legend.AddEntry(hs,all_name,\"l\");\n",
    "    #legend.AddEntry(h_ext_func,ext_name,\"f\");\n",
    "    #legend.AddEntry(h_dirt_func,dirt_name,\"f\");\n",
    "    for i,x in enumerate(globale.overlay_signals):\n",
    "        if x!= 'bkg':\n",
    "            ov_name = x+': {0:0.1f}'.format(mc_event_list[x])\n",
    "            legend.AddEntry(h_overlay_func[x],ov_name,\"l\");\n",
    "        #prepare the canvas with thw pads\n",
    "    c1 = ROOT.TCanvas(\"c1\",\"c1\",1600,1200)\n",
    "    c1.SetGrid(1)\n",
    "    c1.SetLeftMargin(0.14)\n",
    "    c1.SetRightMargin(0.18)\n",
    "    c1.SetBottomMargin(0.14)\n",
    "    # first pad\n",
    "    c1.cd()\n",
    "    pad1 = ROOT.TPad('pad1','pad1',0,0.3,1,1)\n",
    "    pad1.SetGrid(1)\n",
    "    pad1.Draw()\n",
    "    pad1.cd()\n",
    "    # draw fisrt histogram with data points and stacked ext and MC\n",
    "    h_data_func.SetYTitle(\"Entries per bin\")\n",
    "    h_data_func.SetMinimum(0)\n",
    "    h_data_func.Draw('E')\n",
    "    for i,x in enumerate(globale.overlay_signals):\n",
    "        if x!= 'bkg':\n",
    "            h_overlay_func[x].Draw('same hist')\n",
    "    #legend.Draw();\n",
    "    hs.Draw('same hist')\n",
    "    h_data_func.Draw('E same')\n",
    "    legend.Draw('same')\n",
    "\n",
    "    # second pad\n",
    "    c1.cd()\n",
    "    pad2 = ROOT.TPad('pad2','pad2',0,0.05,1,0.33)\n",
    "    pad2.SetGrid(1)\n",
    "    pad2.Draw()\n",
    "    pad2.cd()\n",
    "    # Draw data - MC difference\n",
    "    #h_tot_func = h_ext_func.Clone()\n",
    "    h_div_func = h_data_func.Clone()\n",
    "    h_tot_func = ROOT.TH1F(\"h_tot_func\",title,xbins,xstart,xend)\n",
    "    for i,x in enumerate(globale.overlay_signals):\n",
    "        if x!= 'bkg':\n",
    "            h_tot_func.Add(h_overlay_func[x])\n",
    "    h_div_func.Divide(h_tot_func )\n",
    "    #h_test = hs.GetHistogram().Clone()\n",
    "    #h_div_func.Divide(h_test )\n",
    "    h_div_func = make_stacked_histo_weight_pad2(h_div_func)\n",
    "    h_div_func.SetXTitle(title)\n",
    "    h_div_func.Draw()\n",
    "    c1.Draw()\n",
    "    c1.SaveAs(globale.outputdir_png+ file_name + \".png\")\n",
    "    c1.SaveAs(globale.outputdir_root+ file_name + \".root\")\n",
    "    \n",
    "    h_data_func.Delete()\n",
    "    h_ext_func.Delete()\n",
    "    h_dirt_func.Delete()\n",
    "    #h_overlay_func = {} # make an array of histograms for the different interactions\n",
    "    for x in globale.overlay_signals:\n",
    "        h_overlay_func[x].Delete()\n",
    "    #sel.Delete()\n",
    "    return normalization\n",
    "\n",
    "\n",
    "def make_stacked_histo_weight_pad2(h_div_func):\n",
    "    h_div_func.SetMinimum(0.0)\n",
    "    h_div_func.SetMaximum(2.0)\n",
    "    h_div_func.SetYTitle('Data/(Ext+MC)')\n",
    "    h_div_func.GetYaxis().SetTitleSize(0.08)\n",
    "    h_div_func.GetYaxis().SetTitleOffset(0.3)\n",
    "    h_div_func.GetYaxis().SetLabelSize(0.06)\n",
    "    h_div_func.GetXaxis().SetTitleSize(0.1)\n",
    "    h_div_func.GetXaxis().SetTitleOffset(0.4)\n",
    "    return h_div_func"
   ]
  },
  {
   "cell_type": "code",
   "execution_count": 13,
   "metadata": {},
   "outputs": [
    {
     "name": "stdout",
     "output_type": "stream",
     "text": [
      "Normalization (data)/(mc +ext) =  0.777605238629\n",
      "Normalization (data)/(mc +ext) =  1.06938923592\n",
      "Normalization (data)/(mc +ext) =  1.09158671376\n",
      "Normalization (data)/(mc +ext) =  0.972179388796\n",
      "Normalization (data)/(mc +ext) =  1.11588018595\n",
      "Normalization (data)/(mc +ext) =  0.814291691736\n",
      "Normalization (data)/(mc +ext) =  0.522625499768\n",
      "Normalization (data)/(mc +ext) =  0.396333106622\n",
      "Normalization (data)/(mc +ext) =  -0.0345408454858\n",
      "Normalization (data)/(mc +ext) =  0.213588417587\n"
     ]
    },
    {
     "data": {
      "text/plain": [
       "\"\\nstart = time.time()\\nNuCC_w.make_stacked_histo_weightV2(cut + ' && TrackTheta!=-9','cos(TrackTheta)','EventWeight','cos(theta)',-1,1,20,'costhetaw'+name,'left')\\nend = time.time()\\nprint(end - start)\\nNuCC_w.make_stacked_histo_weightV2(cut + ' && TrackTheta!=-9','TrackPhi','EventWeight','Track Phi',-3.141,3.141,20,'phi'+name,'left')\\nend = time.time()\\nprint(end - start)\\nNuCC_w.make_stacked_histo_weightV2(cut + ' && 1','TrackMomMCS_mom','EventWeight','TrackMomMCS_mom',0,1.5,20,'TrackMomMCS_mom'+name)\\nend = time.time()\\nprint(end - start)\\nNuCC_w.make_stacked_histo_weightV2(cut,'Nu_Vx_sce','EventWeight','Reco. Nu vertex X position [cm]',-10,270,20,'NuVx_sce'+name)\\nend = time.time()\\nprint(end - start)\\nNuCC_w.make_stacked_histo_weightV2(cut,'Nu_Vy_sce','EventWeight','Reco. Nu vertex Y position [cm]',-120,120,20,'NuVy_sce'+name)\\nend = time.time()\\nprint(end - start)\\nNuCC_w.make_stacked_histo_weightV2(cut,'Nu_Vz_sce','EventWeight','Reco. Nu vertex Z position [cm]',-50,1050,20,'NuVz_sce'+name)\\nend = time.time()\\nprint(end - start)\\n\""
      ]
     },
     "execution_count": 13,
     "metadata": {},
     "output_type": "execute_result"
    },
    {
     "name": "stderr",
     "output_type": "stream",
     "text": [
      "Warning in <TH1F::Sumw2>: Sum of squares of weights structure already created\n",
      "Warning in <TCanvas::Constructor>: Deleting canvas with same name: c1\n",
      "Info in <TCanvas::Print>: png file /home/tmettler/Desktop/v08_00_00_33/V08_00_00_35/weighted/muon_cut//png/p_per_true_muon_cut0.png has been created\n",
      "Info in <TCanvas::SaveAs>: ROOT file /home/tmettler/Desktop/v08_00_00_33/V08_00_00_35/weighted/muon_cut//root/p_per_true_muon_cut0.root has been created\n",
      "Warning in <TH1F::Sumw2>: Sum of squares of weights structure already created\n",
      "Warning in <TCanvas::Constructor>: Deleting canvas with same name: c1\n",
      "Info in <TCanvas::Print>: png file /home/tmettler/Desktop/v08_00_00_33/V08_00_00_35/weighted/muon_cut//png/p_per_true_muon_cut1.png has been created\n",
      "Info in <TCanvas::SaveAs>: ROOT file /home/tmettler/Desktop/v08_00_00_33/V08_00_00_35/weighted/muon_cut//root/p_per_true_muon_cut1.root has been created\n",
      "Warning in <TH1F::Sumw2>: Sum of squares of weights structure already created\n",
      "Warning in <TCanvas::Constructor>: Deleting canvas with same name: c1\n",
      "Info in <TCanvas::Print>: png file /home/tmettler/Desktop/v08_00_00_33/V08_00_00_35/weighted/muon_cut//png/p_per_true_muon_cut2.png has been created\n",
      "Info in <TCanvas::SaveAs>: ROOT file /home/tmettler/Desktop/v08_00_00_33/V08_00_00_35/weighted/muon_cut//root/p_per_true_muon_cut2.root has been created\n",
      "Warning in <TH1F::Sumw2>: Sum of squares of weights structure already created\n",
      "Warning in <TCanvas::Constructor>: Deleting canvas with same name: c1\n",
      "Info in <TCanvas::Print>: png file /home/tmettler/Desktop/v08_00_00_33/V08_00_00_35/weighted/muon_cut//png/p_per_true_muon_cut3.png has been created\n",
      "Info in <TCanvas::SaveAs>: ROOT file /home/tmettler/Desktop/v08_00_00_33/V08_00_00_35/weighted/muon_cut//root/p_per_true_muon_cut3.root has been created\n",
      "Warning in <TH1F::Sumw2>: Sum of squares of weights structure already created\n",
      "Warning in <TCanvas::Constructor>: Deleting canvas with same name: c1\n",
      "Info in <TCanvas::Print>: png file /home/tmettler/Desktop/v08_00_00_33/V08_00_00_35/weighted/muon_cut//png/p_per_true_muon_cut4.png has been created\n",
      "Info in <TCanvas::SaveAs>: ROOT file /home/tmettler/Desktop/v08_00_00_33/V08_00_00_35/weighted/muon_cut//root/p_per_true_muon_cut4.root has been created\n",
      "Warning in <TH1F::Sumw2>: Sum of squares of weights structure already created\n",
      "Warning in <TCanvas::Constructor>: Deleting canvas with same name: c1\n",
      "Info in <TCanvas::Print>: png file /home/tmettler/Desktop/v08_00_00_33/V08_00_00_35/weighted/muon_cut//png/p_per_true_muon_cut5.png has been created\n",
      "Info in <TCanvas::SaveAs>: ROOT file /home/tmettler/Desktop/v08_00_00_33/V08_00_00_35/weighted/muon_cut//root/p_per_true_muon_cut5.root has been created\n",
      "Warning in <TH1F::Sumw2>: Sum of squares of weights structure already created\n",
      "Warning in <TCanvas::Constructor>: Deleting canvas with same name: c1\n",
      "Info in <TCanvas::Print>: png file /home/tmettler/Desktop/v08_00_00_33/V08_00_00_35/weighted/muon_cut//png/p_per_true_muon_cut6.png has been created\n",
      "Info in <TCanvas::SaveAs>: ROOT file /home/tmettler/Desktop/v08_00_00_33/V08_00_00_35/weighted/muon_cut//root/p_per_true_muon_cut6.root has been created\n",
      "Warning in <TH1F::Sumw2>: Sum of squares of weights structure already created\n",
      "Warning in <TCanvas::Constructor>: Deleting canvas with same name: c1\n",
      "Info in <TCanvas::Print>: png file /home/tmettler/Desktop/v08_00_00_33/V08_00_00_35/weighted/muon_cut//png/p_per_true_muon_cut7.png has been created\n",
      "Info in <TCanvas::SaveAs>: ROOT file /home/tmettler/Desktop/v08_00_00_33/V08_00_00_35/weighted/muon_cut//root/p_per_true_muon_cut7.root has been created\n",
      "Warning in <TH1F::Sumw2>: Sum of squares of weights structure already created\n",
      "Warning in <TCanvas::Constructor>: Deleting canvas with same name: c1\n",
      "Info in <TCanvas::Print>: png file /home/tmettler/Desktop/v08_00_00_33/V08_00_00_35/weighted/muon_cut//png/p_per_true_muon_cut8.png has been created\n",
      "Info in <TCanvas::SaveAs>: ROOT file /home/tmettler/Desktop/v08_00_00_33/V08_00_00_35/weighted/muon_cut//root/p_per_true_muon_cut8.root has been created\n",
      "Warning in <TCanvas::Constructor>: Deleting canvas with same name: c1\n",
      "Info in <TCanvas::Print>: png file /home/tmettler/Desktop/v08_00_00_33/V08_00_00_35/weighted/muon_cut//png/p_per_true_muon_cut9.png has been created\n",
      "Info in <TCanvas::SaveAs>: ROOT file /home/tmettler/Desktop/v08_00_00_33/V08_00_00_35/weighted/muon_cut//root/p_per_true_muon_cut9.root has been created\n"
     ]
    },
    {
     "data": {
      "image/png": "[encoded data removed]",
      "text/plain": [
       "<IPython.core.display.Image object>"
      ]
     },
     "metadata": {},
     "output_type": "display_data"
    }
   ],
   "source": [
    "cut = 'fidVol && muon && TrackLength>8 && crt_tom_cut && TrackScore>0.8\\\n",
    "                && TrackLength>20 && TrackPID_chiproton>78 && NuScore>0.1'\n",
    "name = '_muon_cut'\n",
    "\n",
    "#make_true_histo_weight(cut + ' && TrackMomMCS_mom!=-1','p_per','EventWeight','Momentum perpendicular',0,2,20,'p_per_true'+name,'right')\n",
    "\n",
    "for i in range(10):\n",
    "    cut_i = cut+' && abs(p_para-0.05-0.1*'+str(i)+')<0.05'\n",
    "    make_true_histo_weight(cut_i + ' && TrackMomMCS_mom!=-1','p_per','EventWeight','Momentum perpendicular',0,2,20,'p_per_true'+name+str(i),'right')\n",
    "#NuCC_w.make_stacked_histo_weightV2(cut + ' && TrackMomMCS_mom!=-1','p_per','EventWeight','Momentum parallel',0,2,20,'p_per'+name,'right')\n",
    "\n",
    "'''\n",
    "start = time.time()\n",
    "NuCC_w.make_stacked_histo_weightV2(cut + ' && TrackTheta!=-9','cos(TrackTheta)','EventWeight','cos(theta)',-1,1,20,'costhetaw'+name,'left')\n",
    "end = time.time()\n",
    "print(end - start)\n",
    "NuCC_w.make_stacked_histo_weightV2(cut + ' && TrackTheta!=-9','TrackPhi','EventWeight','Track Phi',-3.141,3.141,20,'phi'+name,'left')\n",
    "end = time.time()\n",
    "print(end - start)\n",
    "NuCC_w.make_stacked_histo_weightV2(cut + ' && 1','TrackMomMCS_mom','EventWeight','TrackMomMCS_mom',0,1.5,20,'TrackMomMCS_mom'+name)\n",
    "end = time.time()\n",
    "print(end - start)\n",
    "NuCC_w.make_stacked_histo_weightV2(cut,'Nu_Vx_sce','EventWeight','Reco. Nu vertex X position [cm]',-10,270,20,'NuVx_sce'+name)\n",
    "end = time.time()\n",
    "print(end - start)\n",
    "NuCC_w.make_stacked_histo_weightV2(cut,'Nu_Vy_sce','EventWeight','Reco. Nu vertex Y position [cm]',-120,120,20,'NuVy_sce'+name)\n",
    "end = time.time()\n",
    "print(end - start)\n",
    "NuCC_w.make_stacked_histo_weightV2(cut,'Nu_Vz_sce','EventWeight','Reco. Nu vertex Z position [cm]',-50,1050,20,'NuVz_sce'+name)\n",
    "end = time.time()\n",
    "print(end - start)\n",
    "'''"
   ]
  },
  {
   "cell_type": "code",
   "execution_count": null,
   "metadata": {},
   "outputs": [],
   "source": []
  },
  {
   "cell_type": "code",
   "execution_count": null,
   "metadata": {},
   "outputs": [],
   "source": []
  },
  {
   "cell_type": "code",
   "execution_count": null,
   "metadata": {},
   "outputs": [],
   "source": []
  },
  {
   "cell_type": "code",
   "execution_count": null,
   "metadata": {},
   "outputs": [],
   "source": []
  },
  {
   "cell_type": "code",
   "execution_count": 14,
   "metadata": {},
   "outputs": [
    {
     "ename": "SyntaxError",
     "evalue": "EOF while scanning triple-quoted string literal (<ipython-input-14-8a2be3557b65>, line 11)",
     "output_type": "error",
     "traceback": [
      "\u001b[0;36m  File \u001b[0;32m\"<ipython-input-14-8a2be3557b65>\"\u001b[0;36m, line \u001b[0;32m11\u001b[0m\n\u001b[0;31m    \u001b[0m\n\u001b[0m    ^\u001b[0m\n\u001b[0;31mSyntaxError\u001b[0m\u001b[0;31m:\u001b[0m EOF while scanning triple-quoted string literal\n"
     ]
    }
   ],
   "source": [
    "'''\n",
    "std_all = {}\n",
    "std_all[0] = np.load('/home/tmettler/Desktop/external_machines/pc46/numuCC/V35_weighted/all_genie/'+'theta_20bin_all.npy')\n",
    "for j in range(len(std_all)):\n",
    "    xbin = 20\n",
    "    summe = 0.0\n",
    "    for i in range(xbin):\n",
    "        summe = summe + std_all[j][i]*std_all[j][i]\n",
    "    print 'variable: ',j\n",
    "    print math.sqrt(summe)*globale.scale[globale.overlay]/(1446.0)*100,'%'\n",
    "    "
   ]
  },
  {
   "cell_type": "code",
   "execution_count": null,
   "metadata": {},
   "outputs": [],
   "source": [
    "cut = 'fidVol && muon && TrackLength>8 && crt_tom_cut && TrackScore>0.8\\\n",
    "                && TrackLength>20 && TrackPID_chiproton>78 && NuScore>0.1'\n",
    "name = '_muon_cut_test'\n",
    "#NuCC_w.make_stacked_histo_sys(cut + ' && TrackTheta!=-9','cos(TrackTheta)','EventWeight','cos(theta)',-1,1,20,'costhetaw'+name,'left',std_all[0])\n"
   ]
  },
  {
   "cell_type": "code",
   "execution_count": null,
   "metadata": {},
   "outputs": [],
   "source": []
  },
  {
   "cell_type": "code",
   "execution_count": null,
   "metadata": {},
   "outputs": [],
   "source": []
  }
 ],
 "metadata": {
  "kernelspec": {
   "display_name": "Python 3",
   "language": "python",
   "name": "python3"
  },
  "language_info": {
   "codemirror_mode": {
    "name": "ipython",
    "version": 2
   },
   "file_extension": ".py",
   "mimetype": "text/x-python",
   "name": "python",
   "nbconvert_exporter": "python",
   "pygments_lexer": "ipython2",
   "version": "2.7.12"
  }
 },
 "nbformat": 4,
 "nbformat_minor": 2
}
