{
 "cells": [
  {
   "cell_type": "code",
   "execution_count": 1,
   "metadata": {},
   "outputs": [
    {
     "name": "stdout",
     "output_type": "stream",
     "text": [
      "Welcome to JupyROOT 6.10/08\n"
     ]
    }
   ],
   "source": [
    "from __future__ import division\n",
    "import imp\n",
    "import uproot\n",
    "import matplotlib\n",
    "#matplotlib.use('agg')\n",
    "import matplotlib.pyplot as plt\n",
    "import matplotlib.image as mpimg\n",
    "import numpy as np\n",
    "import pandas as pd\n",
    "import os\n",
    "import ROOT\n",
    "import time\n",
    "import math\n",
    "helper = imp.load_source('helpfunction','/home/tmettler/Desktop/uBoone/do_plots/helpfunction.py')\n",
    "globale = imp.load_source('globale','/home/tmettler/Desktop/uBoone/do_plots/globale.py')\n",
    "#import /home/tmettler/Desktop/uBoone/do_plots/helpfunction as helper\n",
    "import collections\n",
    "NuCC = imp.load_source('NuCC_function','/home/tmettler/Desktop/uBoone/do_plots/NuCC_function.py')\n",
    "NuCC_w = imp.load_source('NuCCWeight_function','/home/tmettler/Desktop/uBoone/do_plots/NuCCWeight_function.py')"
   ]
  },
  {
   "cell_type": "code",
   "execution_count": 2,
   "metadata": {},
   "outputs": [],
   "source": [
    "#!jupyter nbconvert --to script numuCCana_reweight_genie_all.ipynb"
   ]
  },
  {
   "cell_type": "code",
   "execution_count": 3,
   "metadata": {},
   "outputs": [
    {
     "name": "stderr",
     "output_type": "stream",
     "text": [
      "Warning in <TCanvas::Constructor>: Deleting canvas with same name: c1\n"
     ]
    }
   ],
   "source": [
    "# initialte ROOT default canvas\n",
    "ROOT.gStyle.SetOptStat(0)\n",
    "c1 = ROOT.TCanvas(\"c1\",\"c1\",1600,1200)\n",
    "c1.SetGrid(1)\n",
    "c1.SetLeftMargin(0.14)\n",
    "c1.SetRightMargin(0.18)\n",
    "c1.SetBottomMargin(0.14)"
   ]
  },
  {
   "cell_type": "markdown",
   "metadata": {},
   "source": [
    "# CRTinBNB tagger, Overlay or MC"
   ]
  },
  {
   "cell_type": "code",
   "execution_count": 4,
   "metadata": {},
   "outputs": [],
   "source": [
    "# Load input files\n",
    "#inputdir = '/home/thomasm/numuCC/V33/10kevents/'\n",
    "inputdir = '/home/tmettler/Desktop/v08_00_00_33/V08_00_00_35/weighted/'\n",
    "outputdir = inputdir+'detsys/' \n",
    "outputdir_png, outputdir_root = NuCC.prepareOutput(outputdir)\n",
    "\n",
    "#filename_overlay = 'NuCCana_Overlay_V18_V4.root'\n",
    "filename_overlay = 'NuCCana_overlay_V26_weight.root'\n",
    "#filename_overlay = 'NuCCana_overlay_v25_weighted_all.root'\n",
    "filename_data = 'NuCCana_data_V22.root'\n",
    "filename_ext = 'NuCCana_ext_V25.root'\n",
    "filename_dirt = 'NuCCana_dirt_V26_weight.root'\n",
    "\n",
    "filename_detsys = 'detector_variation/NuCCana_overlay_LYdown.root'\n",
    "    \n",
    "tree_name = 'numuCCAna'"
   ]
  },
  {
   "cell_type": "code",
   "execution_count": 5,
   "metadata": {},
   "outputs": [
    {
     "name": "stdout",
     "output_type": "stream",
     "text": [
      "Overlay: Number of Entries:\t989745\n",
      "Data: Number of Entries:\t33178\n",
      "Ext: Number of Entries:\t\t222702\n",
      "Dirt: Number of Entries:\t40808\n",
      "\n",
      "POT: \n",
      "Data:\t\t8.649e+18\n",
      "Ext:\t\t0\n",
      "Overlay:\t1.24025430537e+21\n",
      "Dirt:\t\t1.25019694173e+20\n",
      "\n",
      "Detsys POT: 1.20299362258e+20  Scale:  0.071895642983\n",
      "Scalefactors: \n",
      "Data:\t\t1.0\n",
      "Ext:\t\t0.0976176954382\n",
      "Overlay:\t0.00697356982562\n",
      "Dirt:\t\t0.0691811002835\n"
     ]
    },
    {
     "name": "stderr",
     "output_type": "stream",
     "text": [
      "Warning in <TClass::Init>: no dictionary for class ROOT::TIOFeatures is available\n"
     ]
    }
   ],
   "source": [
    "#Open all the trees of the four files (data, ext, dirt, overlay)\n",
    "data, ext, dirt, overlay = NuCC.openTrees(inputdir, filename_data, filename_ext, filename_dirt, filename_overlay, tree_name)\n",
    "NuCC.printNumberOfEntries(data,ext,dirt,overlay)\n",
    "\n",
    "pot_overlay = NuCC.getPOT(inputdir,filename_overlay,tree_name)\n",
    "pot_dirt =  NuCC.getPOT(inputdir,filename_dirt,tree_name)\n",
    "\n",
    "#V25 files\n",
    "pot_data =     8.649e+18  # best with tor875\n",
    "data_trigger = 1854495.0 #4743794 # 1987072.0 # E1DCNT_wcut\n",
    "ext_trigger =  18997529.0  #2120135 #5685315 # EXT\n",
    "\n",
    "print 'POT: '\n",
    "print 'Data:\\t\\t', pot_data\n",
    "print 'Ext:\\t\\t', 0\n",
    "print 'Overlay:\\t', pot_overlay\n",
    "print 'Dirt:\\t\\t', pot_dirt\n",
    "print ''\n",
    "\n",
    "#filename_detsys = filename_detsys+'out33.root'\n",
    "detsys = ROOT.TChain(tree_name+ \"/event\",\"event\")\n",
    "detsys.Add( inputdir + filename_detsys)\n",
    "\n",
    "pot_detsys = NuCC.getPOT(inputdir,filename_detsys,tree_name)\n",
    "\n",
    "pot_overlay = pot_overlay\n",
    "sample = [data,ext,overlay,dirt,detsys]\n",
    "scale = {data:1.0,ext:1.0,overlay:1.0,dirt:1.0,detsys:1.0}\n",
    "name = {data:'data',ext:'ext',overlay:'overlay',dirt:'dirt',detsys:'detsys'}\n",
    "scale[data], scale[ext], scale[dirt], scale[overlay] = NuCC.calculateScale(data_trigger, ext_trigger, pot_data, pot_dirt, pot_overlay)\n",
    "scale[dirt] = scale[dirt]\n",
    "scale[overlay] = scale[overlay]\n",
    "scale_detsys = pot_data/pot_detsys\n",
    "scale[detsys] = scale_detsys\n",
    "print 'Detsys POT:', pot_detsys, ' Scale: ', scale_detsys\n",
    "print 'Scalefactors: '\n",
    "print 'Data:\\t\\t', scale[data]\n",
    "print 'Ext:\\t\\t', scale[ext]\n",
    "print 'Overlay:\\t', scale[overlay]\n",
    "print 'Dirt:\\t\\t', scale[dirt]\n"
   ]
  },
  {
   "cell_type": "code",
   "execution_count": 6,
   "metadata": {},
   "outputs": [
    {
     "name": "stdout",
     "output_type": "stream",
     "text": [
      "Detsys: Number of Entries:\t95716\n",
      "Overlay: Number of Entries:\t989714\n",
      "Data: Number of Entries:\t33177\n",
      "Ext: Number of Entries:\t\t222701\n",
      "Dirt: Number of Entries:\t40807\n",
      "\n"
     ]
    }
   ],
   "source": [
    "if 1:\n",
    "    filename_overlay = filename_overlay+'out33wG.root'\n",
    "    #filename_overlay = 'NuCCana_overlay_points_1kev.rootout2.root'\n",
    "    filename_data = filename_data+'out33.root'\n",
    "    filename_ext = filename_ext+'out33.root'\n",
    "    filename_dirt = filename_dirt+'out33.root'\n",
    "    \n",
    "    tree_name = 't_out'\n",
    "    \n",
    "    filename_detsys = filename_detsys+'out33.root'\n",
    "    detsys_out = ROOT.TChain(tree_name,\"t_out\")\n",
    "    detsys_out.Add( inputdir + filename_detsys)\n",
    "    print \"Detsys: Number of Entries:\\t\", detsys_out.GetEntries()\n",
    "\n",
    "    data_out, ext_out, dirt_out, overlay_out = NuCC.openTreesOut(inputdir, filename_data, filename_ext, filename_dirt, filename_overlay, tree_name)\n",
    "    NuCC.printNumberOfEntries(data_out,ext_out,dirt_out,overlay_out)\n",
    "\n",
    "    sample_out = [data_out,ext_out,overlay_out,dirt_out, detsys_out]\n",
    "    scale_out = {data_out:1.0,ext_out:1.0,overlay_out:1.0,dirt_out:1.0, detsys_out:1.0}\n",
    "    name_out = {data_out:'data',ext_out:'ext',overlay_out:'overlay',dirt_out:'dirt',detsys_out:'detsys'}\n",
    "\n",
    "    scale_out[data_out], scale_out[ext_out], scale_out[dirt_out], scale_out[overlay_out] = NuCC.calculateScale(data_trigger, ext_trigger, pot_data, pot_dirt, pot_overlay)\n",
    "    scale_out[dirt_out] = scale_out[dirt_out]\n",
    "    scale_out[overlay_out] = scale_out[overlay_out]\n",
    "    scale_out[detsys_out] = scale_detsys\n",
    "    "
   ]
  },
  {
   "cell_type": "code",
   "execution_count": null,
   "metadata": {},
   "outputs": [],
   "source": [
    "##### flux and number of tragets parameters###\n",
    "flux = 1.16859e11/1.592e20 # flux per POT per cm2\n",
    "roh_data = 1.3836 #data denisity g/cm3\n",
    "roh_MC = 1.3954 # MC denisity g/cm3\n",
    "mol = 39.95 # g for argon\n",
    "N_A = 6.022140857e23 # molec/mol avogadro zahl\n",
    "N_nucleons = 40\n",
    "##############################################"
   ]
  },
  {
   "cell_type": "code",
   "execution_count": 7,
   "metadata": {},
   "outputs": [],
   "source": [
    "# Define signals\n",
    "\n",
    "fidVol = '(Nu_Vx_sce>(-1.55+10) && Nu_Vx_sce<(254.8-10)) && (Nu_Vy_sce>(-115.53+10) && Nu_Vy_sce<(117.47-10)) &&(Nu_Vz_sce>(-0.1+10) && Nu_Vz_sce<(1036.9-50))'\n",
    "MCfidVol = '(MCNu_Vx>(-1.55+10) && MCNu_Vx<(254.8-10)) && (MCNu_Vy>(-115.53+10) && MCNu_Vy<(117.47-10)) &&(MCNu_Vz>(-0.1+10) && MCNu_Vz<(1036.9-50))'\n",
    "numu_signal = 'fidVol && MCfidVol && MCNu_CCNC==0 && MCNu_PDG==14 && MCTrackPDG==13 && MCTrackPurity>0.5' # numu CC signal definition\n",
    "numu_true = 'MCfidVol && MCNu_CCNC==0 && MCNu_PDG==14' # numu CC signal definition\n",
    "numu_nomu = 'fidVol && MCfidVol && MCNu_CCNC==0 && MCNu_PDG==14 && MCTrackPDG!=13 && MCTrackPurity>0.5' # not an MC muon\n",
    "numu_lowpur = 'fidVol && MCfidVol && MCNu_CCNC==0 && MCNu_PDG==14 && MCTrackPurity<0.5' #low purity\n",
    "numu_nc = 'fidVol && MCfidVol && MCNu_CCNC==1' # nutral current\n",
    "numu_ov = 'fidVol && !MCfidVol' # out of fiducial\n",
    "numu_other = 'fidVol && MCfidVol && MCNu_CCNC==0 && MCNu_PDG!=14' # e.g anti nu or nue\n",
    "#signal = 'MCfidVol && MCNu_CCNC==0 && MCNu_PDG==14'\n",
    "for x in sample:\n",
    "    x.SetAlias('muon','(muon_candidate_key==track_key)')\n",
    "    #x.SetAlias('muon','(track_key == key_muon)')\n",
    "    \n",
    "num_fidVol = {}\n",
    "for x in sample:\n",
    "    x.SetAlias('fidVol',fidVol)\n",
    "    x.SetAlias('MCfidVol',MCfidVol)\n",
    "    x.SetAlias('numu_signal',numu_signal)\n",
    "    x.SetAlias('numu_true',numu_true)\n",
    "    x.SetAlias('numu_nomu',numu_nomu)\n",
    "    x.SetAlias('numu_lowpur',numu_lowpur)\n",
    "    x.SetAlias('numu_nc',numu_nc)\n",
    "    x.SetAlias('numu_ov',numu_ov)\n",
    "    x.SetAlias('numu_other',numu_other)\n",
    "    num_fidVol[x] = x.GetEntries('fidVol && muon')*scale[x]\n",
    "    \n",
    "tot_num_fidVol = num_fidVol[ext]+num_fidVol[dirt]+num_fidVol[overlay]\n",
    "overlay_signals = {'numu_signal','numu_nomu','numu_lowpur','numu_nc','numu_ov','numu_other'}"
   ]
  },
  {
   "cell_type": "code",
   "execution_count": 8,
   "metadata": {},
   "outputs": [],
   "source": [
    "for x in sample_out:\n",
    "    x.SetAlias('muon','(track_key == key_muon)')\n",
    "    #x.SetAlias('muon','(key_muprotratio==track_key)')\n",
    "    \n",
    "num_fidVol = {}\n",
    "for x in sample_out:\n",
    "    x.SetAlias('fidVol',fidVol)\n",
    "    x.SetAlias('MCfidVol',MCfidVol)\n",
    "    x.SetAlias('numu_signal',numu_signal)\n",
    "    x.SetAlias('numu_true',numu_true)\n",
    "    x.SetAlias('numu_nomu',numu_nomu)\n",
    "    x.SetAlias('numu_lowpur',numu_lowpur)\n",
    "    x.SetAlias('numu_nc',numu_nc)\n",
    "    x.SetAlias('numu_ov',numu_ov)\n",
    "    x.SetAlias('numu_other',numu_other)\n"
   ]
  },
  {
   "cell_type": "code",
   "execution_count": 9,
   "metadata": {},
   "outputs": [],
   "source": [
    "# Load the global variables for access of functions\n",
    "#NuCC.loadGlobal_detsys(data,ext,dirt,overlay,detsys,data_out,ext_out,dirt_out,overlay_out,detsys_out,scale,scale_out,tot_num_fidVol,overlay_signals,sample,sample_out, name,name_out, outputdir_png, outputdir_root)\n",
    "#NuCC.printGlobal()"
   ]
  },
  {
   "cell_type": "code",
   "execution_count": 10,
   "metadata": {},
   "outputs": [
    {
     "name": "stderr",
     "output_type": "stream",
     "text": [
      "Warning in <TCanvas::Constructor>: Deleting canvas with same name: c1\n"
     ]
    }
   ],
   "source": [
    "# initialte ROOT default canvas\n",
    "ROOT.gStyle.SetOptStat(0)\n",
    "c1 = ROOT.TCanvas(\"c1\",\"c1\",400,300)\n",
    "c1.SetGrid(1)\n",
    "c1.SetLeftMargin(0.14)\n",
    "c1.SetRightMargin(0.18)\n",
    "c1.SetBottomMargin(0.14)"
   ]
  },
  {
   "cell_type": "code",
   "execution_count": 11,
   "metadata": {},
   "outputs": [
    {
     "data": {
      "text/plain": [
       "True"
      ]
     },
     "execution_count": 11,
     "metadata": {},
     "output_type": "execute_result"
    }
   ],
   "source": [
    "track_start_border_x = '(TrackStart_x_sce <(-1.55+1) || TrackStart_x_sce > (254.8-1))'\n",
    "track_end_border_x = '(TrackEnd_x_sce <(-1.55+1) || TrackEnd_x_sce > (254.8-1))'\n",
    "track_start_border_y = '(TrackStart_y_sce <(-115.53+1) || TrackStart_y_sce > (117.47-1))'\n",
    "track_end_border_y = '(TrackEnd_y_sce <(-115.53+1) || TrackEnd_y_sce > (117.47-1))'\n",
    "track_start_border_z = '(TrackStart_z_sce <(0.1+1) || TrackStart_z_sce > (1036.9-1))'\n",
    "track_end_border_z = '(TrackEnd_z_sce <(0.1+1) || TrackEnd_z_sce > (1039.9-1))'\n",
    "\n",
    "track_end_uncontained = '(' + track_end_border_x + ' || ' + track_end_border_y + ' || ' + track_end_border_z+ ')'\n",
    "\n",
    "\n",
    "data.SetAlias(\"track_end_uncontained\",track_end_uncontained)\n",
    "ext.SetAlias(\"track_end_uncontained\",track_end_uncontained)\n",
    "overlay.SetAlias(\"track_end_uncontained\",track_end_uncontained)\n",
    "dirt.SetAlias(\"track_end_uncontained\",track_end_uncontained)\n",
    "data_out.SetAlias(\"track_end_uncontained\",track_end_uncontained)\n",
    "ext_out.SetAlias(\"track_end_uncontained\",track_end_uncontained)\n",
    "overlay_out.SetAlias(\"track_end_uncontained\",track_end_uncontained)\n",
    "dirt_out.SetAlias(\"track_end_uncontained\",track_end_uncontained)\n",
    "\n",
    "detsys.SetAlias(\"track_end_uncontained\",track_end_uncontained)\n",
    "detsys_out.SetAlias(\"track_end_uncontained\",track_end_uncontained)\n",
    "\n",
    "data.SetAlias(\"crt_cut\",\"(abs(crtt0_time-(69000-crt_trig_corr_med)/1000-4)<0.8 || crtt0_time==-1)\")\n",
    "ext.SetAlias(\"crt_cut\",\"(abs(crtt0_time-(69000-crt_trig_corr_med)/1000-3.57+3.195-4)<0.8 || crtt0_time==-1)\")\n",
    "overlay.SetAlias(\"crt_cut\",\"(abs(crtt0_time-4)<0.8 || crtt0_time==-1)\")\n",
    "dirt.SetAlias(\"crt_cut\",\"(abs(crtt0_time-4)<0.8 || crtt0_time==-1)\")\n",
    "data_out.SetAlias(\"crt_cut\",\"(abs(crtt0_time-(69000-crt_trig_corr_med)/1000-4)<0.8 || crtt0_time==-1)\")\n",
    "ext_out.SetAlias(\"crt_cut\",\"(abs(crtt0_time-(69000-crt_trig_corr_med)/1000-3.57+3.195-4)<0.8 || crtt0_time==-1)\")\n",
    "overlay_out.SetAlias(\"crt_cut\",\"(abs(crtt0_time-4)<0.8 || crtt0_time==-1)\")\n",
    "dirt_out.SetAlias(\"crt_cut\",\"(abs(crtt0_time-4)<0.8 || crtt0_time==-1)\")\n",
    "\n",
    "detsys.SetAlias(\"crt_cut\",\"(abs(crtt0_time-4)<0.8 || crtt0_time==-1)\")\n",
    "detsys_out.SetAlias(\"crt_cut\",\"(abs(crtt0_time-4)<0.8 || crtt0_time==-1)\")\n",
    "\n",
    "crt_tom_cut = 'nr_crthit_top==0 && crthit_vertex_zcut==0 && (track_end_uncontained==1 || nr_crthit_beam_tres==0) && crt_cut'\n",
    "\n",
    "data.SetAlias(\"crt_tom_cut\",crt_tom_cut)\n",
    "ext.SetAlias(\"crt_tom_cut\",crt_tom_cut)\n",
    "overlay.SetAlias(\"crt_tom_cut\",crt_tom_cut)\n",
    "dirt.SetAlias(\"crt_tom_cut\",crt_tom_cut)\n",
    "data_out.SetAlias(\"crt_tom_cut\",crt_tom_cut)\n",
    "ext_out.SetAlias(\"crt_tom_cut\",crt_tom_cut)\n",
    "overlay_out.SetAlias(\"crt_tom_cut\",crt_tom_cut)\n",
    "dirt_out.SetAlias(\"crt_tom_cut\",crt_tom_cut)\n",
    "\n",
    "detsys.SetAlias(\"crt_tom_cut\",crt_tom_cut)\n",
    "detsys_out.SetAlias(\"crt_tom_cut\",crt_tom_cut)\n"
   ]
  },
  {
   "cell_type": "code",
   "execution_count": 12,
   "metadata": {},
   "outputs": [
    {
     "name": "stderr",
     "output_type": "stream",
     "text": [
      "Warning in <TCanvas::Constructor>: Deleting canvas with same name: c1\n"
     ]
    }
   ],
   "source": [
    "NuCC.loadGlobal_detsys(data,ext,dirt,overlay,detsys,data_out,ext_out,dirt_out,overlay_out,detsys_out,scale,scale_out,tot_num_fidVol,overlay_signals,sample,sample_out, name,name_out, outputdir_png, outputdir_root)\n"
   ]
  },
  {
   "cell_type": "code",
   "execution_count": 13,
   "metadata": {},
   "outputs": [],
   "source": [
    "def make_stacked_histo_detsys(cut,variable,title,xstart,xend,xbins,file_name):\n",
    "    h_data_func = ROOT.TH1F(\"h_data_func\",title,xbins,xstart,xend)\n",
    "    h_ext_func = ROOT.TH1F(\"h_ext_func\",title,xbins,xstart,xend)\n",
    "    h_dirt_func = ROOT.TH1F(\"h_dirt_func\",title,xbins,xstart,xend)\n",
    "    h_overlay_func = {}\n",
    "    for x in globale.overlay_signals:\n",
    "        h_overlay_func[x] = ROOT.TH1F(x,title,xbins,xstart,xend)\n",
    "    variable = variable\n",
    "    globale.data_out.Draw(variable+'>>h_data_func',cut,'')\n",
    "    globale.ext_out.Draw(variable+'>>h_ext_func',cut,'')\n",
    "    globale.dirt_out.Draw(variable+'>>h_dirt_func',cut,'')\n",
    "    #overlay.Draw('TimFla>>h_overlay',cut,'')\n",
    "    #h_data_func.SetXTitle(title)\n",
    "    h_data_func.SetYTitle(\"Entries per bin\")\n",
    "    cut = cut +' && '\n",
    "    for x in globale.overlay_signals:\n",
    "        histo = x\n",
    "        globale.detsys_out.Draw(variable+'>>'+histo,cut+x,'')\n",
    "    #legend = ROOT.TLegend(0.15,0.65,0.3,0.9) # LEGEND LEFT\n",
    "    legend = ROOT.TLegend(0.75,0.65,0.9,0.9); #LEGEND RIGHT\n",
    "    legend.AddEntry(h_data_func,\"data\",\"lep\");\n",
    "    legend.AddEntry(h_ext_func,\"ext\",\"f\");\n",
    "    legend.AddEntry(h_dirt_func,\"dirt\",\"f\");\n",
    "    for x in globale.overlay_signals:\n",
    "        legend.AddEntry(h_overlay_func[x],x,\"f\");\n",
    "\n",
    "    hs = ROOT.THStack(\"hs\",\"\");\n",
    "    h_ext_func.SetFillColor(2)\n",
    "    h_ext_func.SetLineColor(1)\n",
    "    h_dirt_func.SetFillColor(42)\n",
    "    h_dirt_func.SetLineColor(1)\n",
    "    h_data_func.SetLineWidth(1)\n",
    "    h_data_func.Sumw2()\t\n",
    "    h_data_func.Scale(globale.scale[globale.data])\n",
    "    h_ext_func.Sumw2()\t\n",
    "    h_ext_func.Scale(globale.scale[globale.ext])\n",
    "    h_dirt_func.Sumw2()\t\n",
    "    h_dirt_func.Scale(globale.scale[globale.dirt])\n",
    "    hs.Add(h_ext_func)\n",
    "    hs.Add(h_dirt_func)\n",
    "    mc_events = h_dirt_func.GetEntries()*globale.scale[globale.dirt]\n",
    "    for i,x in enumerate(globale.overlay_signals):\n",
    "        h_overlay_func[x].Sumw2()\n",
    "        #h_overlay_func[x].Scale(globale.scale[globale.detsys_out])\n",
    "        h_overlay_func[x].Scale(scale_detsys)\n",
    "        h_overlay_func[x].SetFillColor((2*i+11))\n",
    "        h_overlay_func[x].SetLineColor((2*i+11))\n",
    "        h_overlay_func[x].SetLineColor(1)\n",
    "        #print 'MC entries, scaled: ', h_overlay_func[x].GetEntries()*globale.scale[globale.detsys_out]\n",
    "        print 'MC entries, scaled: ', h_overlay_func[x].GetEntries()*scale_detsys\n",
    "        #mc_events = mc_events+h_overlay_func[x].GetEntries()*globale.scale[globale.detsys_out]\n",
    "        mc_events = mc_events+h_overlay_func[x].GetEntries()*scale_detsys\n",
    "        hs.Add(h_overlay_func[x])\n",
    "    data_events = h_data_func.GetEntries()*globale.scale[globale.data]\n",
    "    ext_events = h_ext_func.GetEntries()*globale.scale[globale.ext]\n",
    "    normalization = (data_events- ext_events)/(mc_events+0.0000001)\n",
    "    print 'Normalization (data-ext)/mc = ', normalization\n",
    "    print 'Normalization (data)/(mc +ext) = ', (data_events)/(mc_events+ext_events+0.0000001)\n",
    "    \n",
    "    c1 = ROOT.TCanvas(\"c1\",\"c1\",1600,1200)\n",
    "    c1.SetGrid(1)\n",
    "    c1.SetLeftMargin(0.14)\n",
    "    c1.SetRightMargin(0.18)\n",
    "    c1.SetBottomMargin(0.14)\n",
    "    c1.cd()\n",
    "    pad1 = ROOT.TPad('pad1','pad1',0,0.3,1,1)\n",
    "    pad1.SetGrid(1)\n",
    "    pad1.Draw()\n",
    "    pad1.cd()\n",
    "    h_data_func.SetMinimum(0)\n",
    "    h_data_func.Draw('E')\n",
    "    legend.Draw();\n",
    "    hs.Draw('same hist')\n",
    "    h_data_func.Draw('E same')\n",
    "\n",
    "    c1.cd()\n",
    "    pad2 = ROOT.TPad('pad2','pad2',0,0.05,1,0.33)\n",
    "    pad2.SetGrid(1)\n",
    "    pad2.Draw()\n",
    "    pad2.cd()\n",
    "    h_tot_func = h_ext_func.Clone()\n",
    "    h_div_func = h_data_func.Clone()\n",
    "    h_tot_func.Add(h_dirt_func)\n",
    "    for i,x in enumerate(globale.overlay_signals):\n",
    "        h_tot_func.Add(h_overlay_func[x])\n",
    "    h_div_func.Divide(h_tot_func)\n",
    "    h_div_func.SetMinimum(0.5)\n",
    "    h_div_func.SetMaximum(1.5)\n",
    "    h_div_func.SetTitle('')\n",
    "    h_div_func.SetYTitle('Data/(Ext+MC)')\n",
    "    h_div_func.GetYaxis().SetTitleSize(0.08)\n",
    "    h_div_func.GetYaxis().SetTitleOffset(0.3)\n",
    "    h_div_func.GetYaxis().SetLabelSize(0.06)\n",
    "    h_div_func.SetXTitle(title)\n",
    "    h_div_func.GetXaxis().SetTitleSize(0.1)\n",
    "    h_div_func.GetXaxis().SetTitleOffset(0.4)\n",
    "    h_div_func.Draw()\n",
    "    c1.Draw()\n",
    "    c1.SaveAs(globale.outputdir_png+ file_name + \".png\")\n",
    "    c1.SaveAs(globale.outputdir_root+ file_name + \".root\")\n",
    "    #img = mpimg.imread(globale.outputdir_png+ file_name + \".png\")\n",
    "    #plt.rcParams['figure.figsize'] = [16, 12]\n",
    "    #plt.imshow(img)\n",
    "    #plt.show()\n",
    "    return\n"
   ]
  },
  {
   "cell_type": "code",
   "execution_count": 14,
   "metadata": {},
   "outputs": [
    {
     "name": "stdout",
     "output_type": "stream",
     "text": [
      "39224\n"
     ]
    }
   ],
   "source": [
    "print detsys_out.GetEntries('crt_tom_cut')"
   ]
  },
  {
   "cell_type": "code",
   "execution_count": 20,
   "metadata": {},
   "outputs": [
    {
     "name": "stdout",
     "output_type": "stream",
     "text": [
      "Normalization (data)/(mc +ext) =  0.977012718775\n"
     ]
    },
    {
     "data": {
      "text/plain": [
       "'\\nmean, std, bin_entry = NuCC_w.calc_genie_systematic(cut,\"cos(TrackTheta)\",-1,1,20,100)\\nnp.save(outputdir+\\'theta_20bin_all\\',std)\\nnp.save(outputdir+\\'theta_20bin_all_binentry\\',bin_entry)\\nmean, std, bin_entry = NuCC_w.calc_genie_systematic(cut,\"TrackMomMCS_mom\",0,1.5,20,100)\\nnp.save(outputdir+\\'MCS_20bin_10\\',std)\\nnp.save(outputdir+\\'MCS_20bin_10_binentry\\',bin_entry)\\nmean, std, bin_entry = NuCC_w.calc_genie_systematic(cut,\"TrackPhi\",3.141,3.141,20,100)\\nnp.save(outputdir+\\'Phi_20bin_10\\',std)\\nnp.save(outputdir+\\'Phi_20bin_10_binentry\\',bin_entry)\\nmean, std, bin_entry = NuCC_w.calc_genie_systematic(cut,\"Nu_Vx_sce\",-10,270,20,100)\\nnp.save(outputdir+\\'Nux_20bin_10\\',std)\\nnp.save(outputdir+\\'Nux_20bin_10_binentry\\',bin_entry)\\nmean, std, bin_entry = NuCC_w.calc_genie_systematic(cut,\"Nu_Vy_sce\",-120,120,20,100)\\nnp.save(outputdir+\\'Nuy_20bin_10\\',std)\\nnp.save(outputdir+\\'Nuy_20bin_10_binentry\\',bin_entry)\\nmean, std, bin_entry = NuCC_w.calc_genie_systematic(cut,\"Nu_Vz_sce\",-50,1050,20,100)\\nnp.save(outputdir+\\'Nuz_20bin_10\\',std)\\nnp.save(outputdir+\\'Nuz_20bin_10_binentry\\',bin_entry)\\n'"
      ]
     },
     "execution_count": 20,
     "metadata": {},
     "output_type": "execute_result"
    },
    {
     "name": "stderr",
     "output_type": "stream",
     "text": [
      "Warning in <TROOT::Append>: Replacing existing TH1: h_ext_func (Potential memory leak).\n",
      "Warning in <TROOT::Append>: Replacing existing TH1: h_dirt_func (Potential memory leak).\n",
      "Warning in <TROOT::Append>: Replacing existing TH1: numu_lowpur (Potential memory leak).\n",
      "Warning in <TROOT::Append>: Replacing existing TH1: numu_other (Potential memory leak).\n",
      "Warning in <TROOT::Append>: Replacing existing TH1: numu_nomu (Potential memory leak).\n",
      "Warning in <TROOT::Append>: Replacing existing TH1: numu_ov (Potential memory leak).\n",
      "Warning in <TROOT::Append>: Replacing existing TH1: numu_signal (Potential memory leak).\n",
      "Warning in <TROOT::Append>: Replacing existing TH1: numu_nc (Potential memory leak).\n",
      "Warning in <TH1F::Sumw2>: Sum of squares of weights structure already created\n",
      "Warning in <TCanvas::Constructor>: Deleting canvas with same name: c1\n",
      "Info in <TCanvas::Print>: png file /home/tmettler/Desktop/v08_00_00_33/V08_00_00_35/weighted/detsys//png/costhetaw_weight.png has been created\n",
      "Info in <TCanvas::SaveAs>: ROOT file /home/tmettler/Desktop/v08_00_00_33/V08_00_00_35/weighted/detsys//root/costhetaw_weight.root has been created\n"
     ]
    },
    {
     "data": {
      "image/png": "[encoded data removed]",
      "text/plain": [
       "<IPython.core.display.Image object>"
      ]
     },
     "metadata": {},
     "output_type": "display_data"
    }
   ],
   "source": [
    "#NuCC_w = imp.load_source('NuCCWeight_function','/home/tmettler/Desktop/uBoone/do_plots/NuCCWeight_function.py')\n",
    "\n",
    "cut = 'fidVol && muon'\n",
    "cut = 'NuScore>0.1'\n",
    "cut = 'fidVol && muon && TrackLength>8 && crt_tom_cut && TrackScore>0.8\\\n",
    "                && TrackLength>20 && TrackPID_chiproton>78 && NuScore>0.1'\n",
    "name = '_LyDown'\n",
    "#make_stacked_histo_detsys(cut + ' && TrackTheta!=-9','cos(TrackTheta)','cos(theta)',-1,1,20,'costhetaw'+name)\n",
    "name = 'noweight'\n",
    "#NuCC.make_stacked_histo_plot_out(cut + ' && TrackTheta!=-9','cos(TrackTheta)','cos(theta)',-1,1,20,'costhetaw'+name)\n",
    "name = '_weight'\n",
    "NuCC_w.make_stacked_histo_weightV2(cut + ' && TrackTheta!=-9','cos(TrackTheta)','EventWeight','cos(theta)',-1,1,20,'costhetaw'+name,'left')\n",
    "\n",
    "#cut = cut+'&& !(numu_signal)'\n",
    "'''\n",
    "mean, std, bin_entry = NuCC_w.calc_genie_systematic(cut,\"cos(TrackTheta)\",-1,1,20,100)\n",
    "np.save(outputdir+'theta_20bin_all',std)\n",
    "np.save(outputdir+'theta_20bin_all_binentry',bin_entry)\n",
    "mean, std, bin_entry = NuCC_w.calc_genie_systematic(cut,\"TrackMomMCS_mom\",0,1.5,20,100)\n",
    "np.save(outputdir+'MCS_20bin_10',std)\n",
    "np.save(outputdir+'MCS_20bin_10_binentry',bin_entry)\n",
    "mean, std, bin_entry = NuCC_w.calc_genie_systematic(cut,\"TrackPhi\",3.141,3.141,20,100)\n",
    "np.save(outputdir+'Phi_20bin_10',std)\n",
    "np.save(outputdir+'Phi_20bin_10_binentry',bin_entry)\n",
    "mean, std, bin_entry = NuCC_w.calc_genie_systematic(cut,\"Nu_Vx_sce\",-10,270,20,100)\n",
    "np.save(outputdir+'Nux_20bin_10',std)\n",
    "np.save(outputdir+'Nux_20bin_10_binentry',bin_entry)\n",
    "mean, std, bin_entry = NuCC_w.calc_genie_systematic(cut,\"Nu_Vy_sce\",-120,120,20,100)\n",
    "np.save(outputdir+'Nuy_20bin_10',std)\n",
    "np.save(outputdir+'Nuy_20bin_10_binentry',bin_entry)\n",
    "mean, std, bin_entry = NuCC_w.calc_genie_systematic(cut,\"Nu_Vz_sce\",-50,1050,20,100)\n",
    "np.save(outputdir+'Nuz_20bin_10',std)\n",
    "np.save(outputdir+'Nuz_20bin_10_binentry',bin_entry)\n",
    "'''"
   ]
  },
  {
   "cell_type": "code",
   "execution_count": 16,
   "metadata": {},
   "outputs": [
    {
     "data": {
      "text/plain": [
       "\"\\nstd_all = {}\\nstd_all[0] = np.load(outputdir+'theta_20bin_all.npy')\\nstd_all[1] = np.load(outputdir+'MCS_20bin_10.npy')\\nstd_all[2] = np.load(outputdir+'Phi_20bin_10.npy')\\nstd_all[3] = np.load(outputdir+'Nux_20bin_10.npy')\\nstd_all[4] = np.load(outputdir+'Nuy_20bin_10.npy')\\nstd_all[5] = np.load(outputdir+'Nuz_20bin_10.npy')\\n\""
      ]
     },
     "execution_count": 16,
     "metadata": {},
     "output_type": "execute_result"
    }
   ],
   "source": [
    "'''\n",
    "std_all = {}\n",
    "std_all[0] = np.load(outputdir+'theta_20bin_all.npy')\n",
    "std_all[1] = np.load(outputdir+'MCS_20bin_10.npy')\n",
    "std_all[2] = np.load(outputdir+'Phi_20bin_10.npy')\n",
    "std_all[3] = np.load(outputdir+'Nux_20bin_10.npy')\n",
    "std_all[4] = np.load(outputdir+'Nuy_20bin_10.npy')\n",
    "std_all[5] = np.load(outputdir+'Nuz_20bin_10.npy')\n",
    "'''"
   ]
  },
  {
   "cell_type": "code",
   "execution_count": 17,
   "metadata": {},
   "outputs": [
    {
     "ename": "NameError",
     "evalue": "name 'std_all' is not defined",
     "output_type": "error",
     "traceback": [
      "\u001b[0;31m\u001b[0m",
      "\u001b[0;31mNameError\u001b[0mTraceback (most recent call last)",
      "\u001b[0;32m<ipython-input-17-ff9886cbb2a8>\u001b[0m in \u001b[0;36m<module>\u001b[0;34m()\u001b[0m\n\u001b[0;32m----> 1\u001b[0;31m \u001b[0;32mfor\u001b[0m \u001b[0mj\u001b[0m \u001b[0;32min\u001b[0m \u001b[0mrange\u001b[0m\u001b[0;34m(\u001b[0m\u001b[0mlen\u001b[0m\u001b[0;34m(\u001b[0m\u001b[0mstd_all\u001b[0m\u001b[0;34m)\u001b[0m\u001b[0;34m)\u001b[0m\u001b[0;34m:\u001b[0m\u001b[0;34m\u001b[0m\u001b[0m\n\u001b[0m\u001b[1;32m      2\u001b[0m     \u001b[0mxbin\u001b[0m \u001b[0;34m=\u001b[0m \u001b[0;36m20\u001b[0m\u001b[0;34m\u001b[0m\u001b[0m\n\u001b[1;32m      3\u001b[0m     \u001b[0msumme\u001b[0m \u001b[0;34m=\u001b[0m \u001b[0;36m0.0\u001b[0m\u001b[0;34m\u001b[0m\u001b[0m\n\u001b[1;32m      4\u001b[0m     \u001b[0;32mfor\u001b[0m \u001b[0mi\u001b[0m \u001b[0;32min\u001b[0m \u001b[0mrange\u001b[0m\u001b[0;34m(\u001b[0m\u001b[0mxbin\u001b[0m\u001b[0;34m)\u001b[0m\u001b[0;34m:\u001b[0m\u001b[0;34m\u001b[0m\u001b[0m\n\u001b[1;32m      5\u001b[0m         \u001b[0msumme\u001b[0m \u001b[0;34m=\u001b[0m \u001b[0msumme\u001b[0m \u001b[0;34m+\u001b[0m \u001b[0mstd_all\u001b[0m\u001b[0;34m[\u001b[0m\u001b[0mj\u001b[0m\u001b[0;34m]\u001b[0m\u001b[0;34m[\u001b[0m\u001b[0mi\u001b[0m\u001b[0;34m]\u001b[0m\u001b[0;34m*\u001b[0m\u001b[0mstd_all\u001b[0m\u001b[0;34m[\u001b[0m\u001b[0mj\u001b[0m\u001b[0;34m]\u001b[0m\u001b[0;34m[\u001b[0m\u001b[0mi\u001b[0m\u001b[0;34m]\u001b[0m\u001b[0;34m\u001b[0m\u001b[0m\n",
      "\u001b[0;31mNameError\u001b[0m: name 'std_all' is not defined"
     ]
    }
   ],
   "source": [
    "for j in range(len(std_all)):\n",
    "    xbin = 20\n",
    "    summe = 0.0\n",
    "    for i in range(xbin):\n",
    "        summe = summe + std_all[j][i]*std_all[j][i]\n",
    "    print 'variable: ',j\n",
    "    print math.sqrt(summe)*globale.scale[globale.overlay]/(1446.0)*100,'%'"
   ]
  },
  {
   "cell_type": "code",
   "execution_count": null,
   "metadata": {},
   "outputs": [],
   "source": [
    "cut = 'fidVol && muon && TrackLength>8 && crt_tom_cut && TrackScore>0.8\\\n",
    "                && TrackLength>20 && TrackPID_chiproton>78 && NuScore>0.1'\n",
    "name = '_muon_cut'\n",
    "NuCC_w.make_stacked_histo_sys(cut + ' && TrackTheta!=-9','cos(TrackTheta)','EventWeight','cos(theta)',-1,1,20,'costhetaw'+name,'left',std_all[0])\n",
    "NuCC_w.make_stacked_histo_sys(cut + ' && 1','TrackMomMCS_mom','EventWeight','TrackMomMCS_mom',0,1.5,20,'TrackMomMCS_mom'+name,'right',std_all[1])\n",
    "NuCC_w.make_stacked_histo_sys(cut + ' && TrackTheta!=-9','TrackPhi','EventWeight','Track Phi',-3.141,3.141,20,'phi'+name,'left',std_all[2])\n",
    "\n",
    "NuCC_w.make_stacked_histo_sys(cut,'Nu_Vx_sce','EventWeight','Reco. Nu vertex X position [cm]',-10,270,20,'NuVx_sce'+name,'right',std_all[3])\n",
    "NuCC_w.make_stacked_histo_sys(cut,'Nu_Vy_sce','EventWeight','Reco. Nu vertex Y position [cm]',-120,120,20,'NuVy_sce'+name,'right',std_all[4])\n",
    "NuCC_w.make_stacked_histo_sys(cut,'Nu_Vz_sce','EventWeight','Reco. Nu vertex Z position [cm]',-50,1050,20,'NuVz_sce'+name,'right',std_all[5])\n"
   ]
  },
  {
   "cell_type": "code",
   "execution_count": null,
   "metadata": {},
   "outputs": [],
   "source": []
  },
  {
   "cell_type": "code",
   "execution_count": null,
   "metadata": {},
   "outputs": [],
   "source": []
  },
  {
   "cell_type": "code",
   "execution_count": null,
   "metadata": {},
   "outputs": [],
   "source": []
  },
  {
   "cell_type": "code",
   "execution_count": null,
   "metadata": {},
   "outputs": [],
   "source": []
  },
  {
   "cell_type": "code",
   "execution_count": null,
   "metadata": {},
   "outputs": [],
   "source": []
  },
  {
   "cell_type": "code",
   "execution_count": null,
   "metadata": {},
   "outputs": [],
   "source": []
  },
  {
   "cell_type": "code",
   "execution_count": null,
   "metadata": {},
   "outputs": [],
   "source": []
  },
  {
   "cell_type": "code",
   "execution_count": null,
   "metadata": {},
   "outputs": [],
   "source": []
  },
  {
   "cell_type": "code",
   "execution_count": null,
   "metadata": {},
   "outputs": [],
   "source": []
  }
 ],
 "metadata": {
  "kernelspec": {
   "display_name": "Python 3",
   "language": "python",
   "name": "python3"
  },
  "language_info": {
   "codemirror_mode": {
    "name": "ipython",
    "version": 2
   },
   "file_extension": ".py",
   "mimetype": "text/x-python",
   "name": "python",
   "nbconvert_exporter": "python",
   "pygments_lexer": "ipython2",
   "version": "2.7.12"
  }
 },
 "nbformat": 4,
 "nbformat_minor": 2
}
