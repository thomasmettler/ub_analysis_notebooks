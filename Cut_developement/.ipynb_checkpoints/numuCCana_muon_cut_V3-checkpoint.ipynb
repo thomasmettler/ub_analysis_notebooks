{
 "cells": [
  {
   "cell_type": "code",
   "execution_count": 1,
   "metadata": {},
   "outputs": [
    {
     "name": "stdout",
     "output_type": "stream",
     "text": [
      "Welcome to JupyROOT 6.10/08\n"
     ]
    }
   ],
   "source": [
    "import imp\n",
    "import uproot\n",
    "import matplotlib.pyplot as plt\n",
    "import matplotlib.image as mpimg\n",
    "import numpy as np\n",
    "import pandas as pd\n",
    "import os\n",
    "import ROOT\n",
    "import time\n",
    "import math\n",
    "helper = imp.load_source('helpfunction','/home/tmettler/Desktop/uBoone/do_plots/helpfunction.py')\n",
    "#import /home/tmettler/Desktop/uBoone/do_plots/helpfunction as helper\n",
    "from __future__ import division\n",
    "\n",
    "import collections\n",
    "NuCC = imp.load_source('NuCC_function','/home/tmettler/Desktop/uBoone/do_plots/NuCC_function.py')"
   ]
  },
  {
   "cell_type": "code",
   "execution_count": null,
   "metadata": {},
   "outputs": [],
   "source": []
  },
  {
   "cell_type": "code",
   "execution_count": 2,
   "metadata": {},
   "outputs": [
    {
     "name": "stderr",
     "output_type": "stream",
     "text": [
      "Warning in <TCanvas::Constructor>: Deleting canvas with same name: c1\n"
     ]
    }
   ],
   "source": [
    "# initialte ROOT default canvas\n",
    "ROOT.gStyle.SetOptStat(0)\n",
    "c1 = ROOT.TCanvas(\"c1\",\"c1\",1600,1200)\n",
    "c1.SetGrid(1)\n",
    "c1.SetLeftMargin(0.14)\n",
    "c1.SetRightMargin(0.18)\n",
    "c1.SetBottomMargin(0.14)"
   ]
  },
  {
   "cell_type": "markdown",
   "metadata": {},
   "source": [
    "# CRTinBNB tagger, Overlay or MC"
   ]
  },
  {
   "cell_type": "code",
   "execution_count": 3,
   "metadata": {},
   "outputs": [],
   "source": [
    "# Load input files\n",
    "\n",
    "inputdir = '/home/tmettler/Desktop/ub_data/mcc9.1/v08_00_00_17_V2/'\n",
    "outputdir = inputdir+'NumuCC_muon_cut/' \n",
    "outputdir_png, outputdir_root = NuCC.prepareOutput(outputdir)\n",
    "\n",
    "filename_overlay = 'NuCCana_Overlay_V18_V3.root'\n",
    "filename_data = 'NuCCana_Data_V16_V3.root'\n",
    "filename_ext = 'NuCCana_Ext_V18_V3.root'\n",
    "filename_dirt = 'NuCCana_Dirt_V20_V3.root'\n",
    "    \n",
    "tree_name = 'numuCCAna'"
   ]
  },
  {
   "cell_type": "code",
   "execution_count": 5,
   "metadata": {},
   "outputs": [
    {
     "name": "stdout",
     "output_type": "stream",
     "text": [
      "Overlay: Number of Entries:\t967268\n",
      "Data: Number of Entries:\t34835\n",
      "Ext: Number of Entries:\t\t302778\n",
      "Dirt: Number of Entries:\t96465\n",
      "\n",
      "POT: \n",
      "Data:\t\t8.039e+18\n",
      "Ext:\t\t0\n",
      "Overlay:\t1.21191661343e+21\n",
      "Dirt:\t\t2.9866803255e+20\n",
      "\n",
      "Scalefactors: \n",
      "Data:\t\t1.0\n",
      "Ext:\t\t0.0750356288461\n",
      "Overlay:\t0.00862328305772\n",
      "Dirt:\t\t0.0349910230123\n"
     ]
    }
   ],
   "source": [
    "#Open all the trees of the four files (data, ext, dirt, overlay)\n",
    "\n",
    "data, ext, dirt, overlay = NuCC.openTrees(inputdir, filename_data, filename_ext, filename_dirt, filename_overlay, tree_name)\n",
    "NuCC.printNumberOfEntries(data,ext,dirt,overlay)\n",
    "\n",
    "pot_overlay = NuCC.getPOT(inputdir,filename_overlay,tree_name)\n",
    "pot_dirt =  NuCC.getPOT(inputdir,filename_dirt,tree_name)\n",
    "\n",
    "#pot_data =      9.036e+18 # tor860_wcut\n",
    "#data_trigger = 1942081.0 #4743794 # 1987072.0 # E1DCNT_wcut\n",
    "#ext_trigger =  25882118.0  #2120135 #5685315 # EXT\n",
    "\n",
    "pot_data =     8.039e+18 # tor860_wcut\n",
    "data_trigger = 1942081.0 # E1DCNT_wcut\n",
    "ext_trigger =  25882118.0  #2120135 #5685315 # EXT\n",
    "\n",
    "print 'POT: '\n",
    "print 'Data:\\t\\t', pot_data\n",
    "print 'Ext:\\t\\t', 0\n",
    "print 'Overlay:\\t', pot_overlay\n",
    "print 'Dirt:\\t\\t', pot_dirt\n",
    "print ''\n",
    "sample = [data,ext,overlay,dirt]\n",
    "scale = {data:1.0,ext:1.0,overlay:1.0,dirt:1.0}\n",
    "name = {data:'data',ext:'ext',overlay:'overlay',dirt:'dirt'}\n",
    "\n",
    "scale[data], scale[ext], scale[dirt], scale[overlay] = NuCC.calculateScale(data_trigger, ext_trigger, pot_data, pot_dirt, pot_overlay)\n",
    "\n",
    "scale[dirt] = scale[dirt]*1.3\n",
    "scale[overlay] = scale[overlay]*1.3\n",
    "print 'Scalefactors: '\n",
    "print 'Data:\\t\\t', scale[data]\n",
    "print 'Ext:\\t\\t', scale[ext]\n",
    "print 'Overlay:\\t', scale[overlay]\n",
    "print 'Dirt:\\t\\t', scale[dirt]\n"
   ]
  },
  {
   "cell_type": "code",
   "execution_count": 6,
   "metadata": {},
   "outputs": [
    {
     "name": "stdout",
     "output_type": "stream",
     "text": [
      "Overlay: Number of Entries:\t967267\n",
      "Data: Number of Entries:\t34834\n",
      "Ext: Number of Entries:\t\t302777\n",
      "Dirt: Number of Entries:\t96464\n",
      "\n"
     ]
    }
   ],
   "source": [
    "if 1:\n",
    "    filename_overlay = 'NuCCana_Overlay_V18_V3.rootout.root'\n",
    "    filename_data = 'NuCCana_Data_V16_V3.rootout.root'\n",
    "    filename_ext = 'NuCCana_Ext_V18_V3.rootout.root'\n",
    "    filename_dirt = 'NuCCana_Dirt_V20_V3.rootout.root'\n",
    "\n",
    "    tree_name = 't_out'\n",
    "\n",
    "    data_out, ext_out, dirt_out, overlay_out = NuCC.openTreesOut(inputdir, filename_data, filename_ext, filename_dirt, filename_overlay, tree_name)\n",
    "    NuCC.printNumberOfEntries(data_out,ext_out,dirt_out,overlay_out)\n",
    "\n",
    "    sample_out = [data_out,ext_out,overlay_out,dirt_out]\n",
    "    scale_out = {data_out:1.0,ext_out:1.0,overlay_out:1.0,dirt_out:1.0}\n",
    "    name_out = {data_out:'data',ext_out:'ext',overlay_out:'overlay',dirt_out:'dirt'}\n",
    "\n",
    "    scale_out[data_out], scale_out[ext_out], scale_out[dirt_out], scale_out[overlay_out] = NuCC.calculateScale(data_trigger, ext_trigger, pot_data, pot_dirt, pot_overlay)\n",
    "    scale_out[dirt_out] = scale_out[dirt_out]*1.3\n",
    "    scale_out[overlay_out] = scale_out[overlay_out]*1.3"
   ]
  },
  {
   "cell_type": "code",
   "execution_count": 7,
   "metadata": {},
   "outputs": [],
   "source": [
    "# Define signals\n",
    "\n",
    "fidVol = '(Nu_Vx_sce>(-1.55+10) && Nu_Vx_sce<(254.8-10)) && (Nu_Vy_sce>(-115.53+10) && Nu_Vy_sce<(117.47-10)) &&(Nu_Vz_sce>(-0.1+10) && Nu_Vz_sce<(1036.9-50))'\n",
    "MCfidVol = '(MCNu_Vx>(-1.55+10) && MCNu_Vx<(254.8-10)) && (MCNu_Vy>(-115.53+10) && MCNu_Vy<(117.47-10)) &&(MCNu_Vz>(-0.1+10) && MCNu_Vz<(1036.9-50))'\n",
    "numu_signal = 'fidVol && MCfidVol && MCNu_CCNC==0 && MCNu_PDG==14 && MCTrackPDG==13 && MCTrackPurity>0.5' # numu CC signal definition\n",
    "numu_true = 'MCfidVol && MCNu_CCNC==0 && MCNu_PDG==14' # numu CC signal definition\n",
    "numu_nomu = 'fidVol && MCfidVol && MCNu_CCNC==0 && MCNu_PDG==14 && MCTrackPDG!=13 && MCTrackPurity>0.5' # not an MC muon\n",
    "numu_lowpur = 'fidVol && MCfidVol && MCNu_CCNC==0 && MCNu_PDG==14 && MCTrackPurity<0.5' #low purity\n",
    "numu_nc = 'fidVol && MCfidVol && MCNu_CCNC==1' # nutral current\n",
    "numu_ov = 'fidVol && !MCfidVol' # out of fiducial\n",
    "numu_other = 'fidVol && MCfidVol && MCNu_CCNC==0 && MCNu_PDG!=14' # e.g anti nu or nue\n",
    "#signal = 'MCfidVol && MCNu_CCNC==0 && MCNu_PDG==14'\n",
    "for x in sample:\n",
    "    x.SetAlias('muon','(muon_candidate_key==track_key)')\n",
    "    \n",
    "num_fidVol = {}\n",
    "for x in sample:\n",
    "    x.SetAlias('fidVol',fidVol)\n",
    "    x.SetAlias('MCfidVol',MCfidVol)\n",
    "    x.SetAlias('numu_signal',numu_signal)\n",
    "    x.SetAlias('numu_true',numu_true)\n",
    "    x.SetAlias('numu_nomu',numu_nomu)\n",
    "    x.SetAlias('numu_lowpur',numu_lowpur)\n",
    "    x.SetAlias('numu_nc',numu_nc)\n",
    "    x.SetAlias('numu_ov',numu_ov)\n",
    "    x.SetAlias('numu_other',numu_other)\n",
    "    num_fidVol[x] = x.GetEntries('fidVol && muon')*scale[x]\n",
    "    \n",
    "tot_num_fidVol = num_fidVol[ext]+num_fidVol[dirt]+num_fidVol[overlay]\n",
    "overlay_signals = {'numu_signal','numu_nomu','numu_lowpur','numu_nc','numu_ov','numu_other'}"
   ]
  },
  {
   "cell_type": "code",
   "execution_count": 8,
   "metadata": {},
   "outputs": [],
   "source": [
    "for x in sample_out:\n",
    "    #x.SetAlias('muon','(muon_candidate_key==track_key)')\n",
    "    x.SetAlias('muon','(key_muprotratio==track_key)')\n",
    "    \n",
    "num_fidVol = {}\n",
    "for x in sample_out:\n",
    "    x.SetAlias('fidVol',fidVol)\n",
    "    x.SetAlias('MCfidVol',MCfidVol)\n",
    "    x.SetAlias('numu_signal',numu_signal)\n",
    "    x.SetAlias('numu_true',numu_true)\n",
    "    x.SetAlias('numu_nomu',numu_nomu)\n",
    "    x.SetAlias('numu_lowpur',numu_lowpur)\n",
    "    x.SetAlias('numu_nc',numu_nc)\n",
    "    x.SetAlias('numu_ov',numu_ov)\n",
    "    x.SetAlias('numu_other',numu_other)\n",
    "    #num_fidVol[x] = x.GetEntries('fidVol && muon')*scale[x]\n",
    "    \n",
    "#tot_num_fidVol = num_fidVol[ext]+num_fidVol[dirt]+num_fidVol[overlay]\n",
    "#overlay_signals = {'numu_signal','numu_nomu','numu_lowpur','numu_nc','numu_ov','numu_other'}"
   ]
  },
  {
   "cell_type": "code",
   "execution_count": 9,
   "metadata": {},
   "outputs": [
    {
     "name": "stderr",
     "output_type": "stream",
     "text": [
      "Warning in <TCanvas::Constructor>: Deleting canvas with same name: c1\n"
     ]
    }
   ],
   "source": [
    "# Load the global variables for access of functions\n",
    "\n",
    "NuCC.loadGlobal(data,ext,dirt,overlay,data_out,ext_out,dirt_out,overlay_out,scale,scale_out,tot_num_fidVol,overlay_signals,sample,sample_out, name,name_out, outputdir_png, outputdir_root)\n",
    "#NuCC.printGlobal()"
   ]
  },
  {
   "cell_type": "code",
   "execution_count": 10,
   "metadata": {},
   "outputs": [],
   "source": [
    "# initialte ROOT default canvas\n",
    "ROOT.gStyle.SetOptStat(0)\n",
    "c1 = ROOT.TCanvas(\"c1\",\"c1\",1600,1200)\n",
    "c1.SetGrid(1)\n",
    "c1.SetLeftMargin(0.14)\n",
    "c1.SetRightMargin(0.18)\n",
    "c1.SetBottomMargin(0.14)"
   ]
  },
  {
   "cell_type": "code",
   "execution_count": 11,
   "metadata": {},
   "outputs": [
    {
     "data": {
      "text/plain": [
       "True"
      ]
     },
     "execution_count": 11,
     "metadata": {},
     "output_type": "execute_result"
    }
   ],
   "source": [
    "track_start_border_x = '(TrackStart_x_sce <(-1.55+1) || TrackStart_x_sce > (254.8-1))'\n",
    "track_end_border_x = '(TrackEnd_x_sce <(-1.55+1) || TrackEnd_x_sce > (254.8-1))'\n",
    "track_start_border_y = '(TrackStart_y_sce <(-115.53+1) || TrackStart_y_sce > (117.47-1))'\n",
    "track_end_border_y = '(TrackEnd_y_sce <(-115.53+1) || TrackEnd_y_sce > (117.47-1))'\n",
    "track_start_border_z = '(TrackStart_z_sce <(0.1+1) || TrackStart_z_sce > (1036.9-1))'\n",
    "track_end_border_z = '(TrackEnd_z_sce <(0.1+1) || TrackEnd_z_sce > (1039.9-1))'\n",
    "\n",
    "track_end_uncontained = '(' + track_end_border_x + ' || ' + track_end_border_y + ' || ' + track_end_border_z+ ')'\n",
    "\n",
    "\n",
    "data.SetAlias(\"track_end_uncontained\",track_end_uncontained)\n",
    "ext.SetAlias(\"track_end_uncontained\",track_end_uncontained)\n",
    "overlay.SetAlias(\"track_end_uncontained\",track_end_uncontained)\n",
    "dirt.SetAlias(\"track_end_uncontained\",track_end_uncontained)\n",
    "data_out.SetAlias(\"track_end_uncontained\",track_end_uncontained)\n",
    "ext_out.SetAlias(\"track_end_uncontained\",track_end_uncontained)\n",
    "overlay_out.SetAlias(\"track_end_uncontained\",track_end_uncontained)\n",
    "dirt_out.SetAlias(\"track_end_uncontained\",track_end_uncontained)\n",
    "\n",
    "data.SetAlias(\"crt_cut\",\"(abs(crtt0_time-(69000-crt_trig_corr_med)/1000-4)<0.8 || crtt0_time==-1)\")\n",
    "ext.SetAlias(\"crt_cut\",\"(abs(crtt0_time-(69000-crt_trig_corr_med)/1000-3.57+3.195-4)<0.8 || crtt0_time==-1)\")\n",
    "overlay.SetAlias(\"crt_cut\",\"(abs(crtt0_time-4)<0.8 || crtt0_time==-1)\")\n",
    "dirt.SetAlias(\"crt_cut\",\"(abs(crtt0_time-4)<0.8 || crtt0_time==-1)\")\n",
    "data_out.SetAlias(\"crt_cut\",\"(abs(crtt0_time-(69000-crt_trig_corr_med)/1000-4)<0.8 || crtt0_time==-1)\")\n",
    "ext_out.SetAlias(\"crt_cut\",\"(abs(crtt0_time-(69000-crt_trig_corr_med)/1000-3.57+3.195-4)<0.8 || crtt0_time==-1)\")\n",
    "overlay_out.SetAlias(\"crt_cut\",\"(abs(crtt0_time-4)<0.8 || crtt0_time==-1)\")\n",
    "dirt_out.SetAlias(\"crt_cut\",\"(abs(crtt0_time-4)<0.8 || crtt0_time==-1)\")\n"
   ]
  },
  {
   "cell_type": "code",
   "execution_count": 12,
   "metadata": {},
   "outputs": [
    {
     "name": "stdout",
     "output_type": "stream",
     "text": [
      "Total number of entries:  267281.0\n",
      "PDG:  13 \t=\t64.4% ,\terror: 0.2% ,\tnumber:  172001.0\n",
      "PDG:  2212 \t=\t14.5% ,\terror: 0.1% ,\tnumber:  38681.0\n",
      "PDG:  -1 \t=\t7.9% ,\terror: 0.1% ,\tnumber:  21022.0\n",
      "PDG:  211 \t=\t5.1% ,\terror: 0.0% ,\tnumber:  13582.0\n",
      "PDG:  11 \t=\t3.1% ,\terror: 0.0% ,\tnumber:  8189.0\n",
      "PDG:  -211 \t=\t2.5% ,\terror: 0.0% ,\tnumber:  6726.0\n",
      "PDG:  2112 \t=\t0.9% ,\terror: 0.0% ,\tnumber:  2486.0\n",
      "PDG:  -11 \t=\t0.9% ,\terror: 0.0% ,\tnumber:  2383.0\n",
      "PDG:  -13 \t=\t0.6% ,\terror: 0.0% ,\tnumber:  1687.0\n",
      "PDG:  22 \t=\t0.0% ,\terror: 0.0% ,\tnumber:  83.0\n",
      "PDG:  321 \t=\t0.0% ,\terror: 0.0% ,\tnumber:  53.0\n",
      "PDG:  -321 \t=\t0.0% ,\terror: 0.0% ,\tnumber:  1.0\n"
     ]
    }
   ],
   "source": [
    "NuCC.pdg_content33_out('fidVol && muon')"
   ]
  },
  {
   "cell_type": "code",
   "execution_count": 14,
   "metadata": {},
   "outputs": [
    {
     "name": "stdout",
     "output_type": "stream",
     "text": [
      "Efficiency for cut:  fidVol && muon\n",
      "Rejection on each sample:\n",
      "Keep of     ext:\t100.00%\t reject:\t0.00%\n",
      "Keep of overlay:\t100.00%\t reject:\t0.00%\n",
      "Keep of    dirt:\t100.00%\t reject:\t0.00%\n",
      "\n",
      "Efficiency:\t\t64.81%\n",
      "Purity:\t\t\t35.47%\n",
      "Purity*Efficiency\t22.99\n",
      "\n",
      "Amount of     ext:\t34.88%\n",
      "Amount of overlay:\t60.66%\n",
      "Amount of    dirt:\t4.46%\n",
      "\n",
      "Signal definition=  numu_lowpur: 3.63%\t(5.98%)\n",
      "Signal definition=   numu_other: 0.51%\t(0.84%)\n",
      "Signal definition=    numu_nomu: 4.70%\t(7.75%)\n",
      "Signal definition=      numu_ov: 8.88%\t(14.63%)\n",
      "Signal definition=  numu_signal: 35.47%\t(58.47%)\n",
      "Signal definition=      numu_nc: 7.48%\t(12.32%)\n"
     ]
    }
   ],
   "source": [
    "NuCC.printEff_out('fidVol && muon')"
   ]
  },
  {
   "cell_type": "code",
   "execution_count": 13,
   "metadata": {},
   "outputs": [
    {
     "name": "stdout",
     "output_type": "stream",
     "text": [
      "Efficiency for cut:  fidVol && muon && TrackLength>8\n",
      "Rejection on each sample:\n",
      "Keep of     ext:\t99.85%\t reject:\t0.15%\n",
      "Keep of overlay:\t99.90%\t reject:\t0.10%\n",
      "Keep of    dirt:\t99.75%\t reject:\t0.25%\n",
      "\n",
      "Efficiency:\t\t64.81%\n",
      "Purity:\t\t\t35.51%\n",
      "Purity*Efficiency\t23.02\n",
      "\n",
      "Amount of     ext:\t34.87%\n",
      "Amount of overlay:\t60.67%\n",
      "Amount of    dirt:\t4.46%\n",
      "\n",
      "Signal definition=  numu_lowpur: 3.63%\t(5.98%)\n",
      "Signal definition=   numu_other: 0.51%\t(0.84%)\n",
      "Signal definition=    numu_nomu: 4.70%\t(7.75%)\n",
      "Signal definition=      numu_ov: 8.87%\t(14.61%)\n",
      "Signal definition=  numu_signal: 35.51%\t(58.53%)\n",
      "Signal definition=      numu_nc: 7.45%\t(12.29%)\n"
     ]
    }
   ],
   "source": [
    "NuCC.printEff_out('fidVol && muon && TrackLength>8')"
   ]
  },
  {
   "cell_type": "code",
   "execution_count": 15,
   "metadata": {},
   "outputs": [
    {
     "name": "stdout",
     "output_type": "stream",
     "text": [
      "Efficiency for cut:  fidVol && muon && TrackLength>8 && nr_crthit_top==0 && crthit_vertex_zcut==0 && (track_end_uncontained==1 || nr_crthit_beam_tres==0) && crt_cut\n",
      "Rejection on each sample:\n",
      "Keep of     ext:\t46.21%\t reject:\t53.79%\n",
      "Keep of overlay:\t84.48%\t reject:\t15.52%\n",
      "Keep of    dirt:\t59.60%\t reject:\t40.40%\n",
      "\n",
      "Efficiency:\t\t57.71%\n",
      "Purity:\t\t\t45.10%\n",
      "Purity*Efficiency\t26.02\n",
      "\n",
      "Amount of     ext:\t23.02%\n",
      "Amount of overlay:\t73.18%\n",
      "Amount of    dirt:\t3.80%\n",
      "\n",
      "Signal definition=  numu_lowpur: 3.66%\t(5.00%)\n",
      "Signal definition=   numu_other: 0.64%\t(0.88%)\n",
      "Signal definition=    numu_nomu: 5.46%\t(7.46%)\n",
      "Signal definition=      numu_ov: 8.75%\t(11.96%)\n",
      "Signal definition=  numu_signal: 45.10%\t(61.62%)\n",
      "Signal definition=      numu_nc: 9.57%\t(13.07%)\n"
     ]
    }
   ],
   "source": [
    "NuCC.printEff_out('fidVol && muon && TrackLength>8 && nr_crthit_top==0 && crthit_vertex_zcut==0 && (track_end_uncontained==1 || nr_crthit_beam_tres==0) && crt_cut')"
   ]
  },
  {
   "cell_type": "code",
   "execution_count": 27,
   "metadata": {},
   "outputs": [
    {
     "name": "stdout",
     "output_type": "stream",
     "text": [
      "Total number of entries:  177815.0\n",
      "PDG:  13 \t=\t78.9% ,\terror: 0.2% ,\tnumber:  140332.0\n",
      "PDG:  2212 \t=\t7.7% ,\terror: 0.1% ,\tnumber:  13730.0\n",
      "PDG:  -1 \t=\t4.3% ,\terror: 0.0% ,\tnumber:  7584.0\n",
      "PDG:  211 \t=\t3.8% ,\terror: 0.0% ,\tnumber:  6778.0\n",
      "PDG:  -211 \t=\t1.8% ,\terror: 0.0% ,\tnumber:  3184.0\n",
      "PDG:  11 \t=\t1.7% ,\terror: 0.0% ,\tnumber:  2983.0\n",
      "PDG:  -13 \t=\t0.8% ,\terror: 0.0% ,\tnumber:  1387.0\n",
      "PDG:  2112 \t=\t0.7% ,\terror: 0.0% ,\tnumber:  1166.0\n",
      "PDG:  -11 \t=\t0.3% ,\terror: 0.0% ,\tnumber:  469.0\n",
      "PDG:  321 \t=\t0.0% ,\terror: 0.0% ,\tnumber:  37.0\n",
      "PDG:  22 \t=\t0.0% ,\terror: 0.0% ,\tnumber:  37.0\n"
     ]
    }
   ],
   "source": [
    "NuCC.pdg_content33_out('fidVol && muon && TrackLength>32 && nr_crthit_top==0 && crthit_vertex_zcut==0 && (track_end_uncontained==1 || nr_crthit_beam_tres==0) && crt_cut')"
   ]
  },
  {
   "cell_type": "code",
   "execution_count": 16,
   "metadata": {},
   "outputs": [
    {
     "data": {
      "text/plain": [
       "True"
      ]
     },
     "execution_count": 16,
     "metadata": {},
     "output_type": "execute_result"
    }
   ],
   "source": [
    "crt_tom_cut = 'nr_crthit_top==0 && crthit_vertex_zcut==0 && (track_end_uncontained==1 || nr_crthit_beam_tres==0) && crt_cut'\n",
    "\n",
    "data.SetAlias(\"crt_tom_cut\",crt_tom_cut)\n",
    "ext.SetAlias(\"crt_tom_cut\",crt_tom_cut)\n",
    "overlay.SetAlias(\"crt_tom_cut\",crt_tom_cut)\n",
    "dirt.SetAlias(\"crt_tom_cut\",crt_tom_cut)\n",
    "data_out.SetAlias(\"crt_tom_cut\",crt_tom_cut)\n",
    "ext_out.SetAlias(\"crt_tom_cut\",crt_tom_cut)\n",
    "overlay_out.SetAlias(\"crt_tom_cut\",crt_tom_cut)\n",
    "dirt_out.SetAlias(\"crt_tom_cut\",crt_tom_cut)\n"
   ]
  },
  {
   "cell_type": "code",
   "execution_count": 17,
   "metadata": {},
   "outputs": [
    {
     "name": "stdout",
     "output_type": "stream",
     "text": [
      "Efficiency for cut:  fidVol && muon && TrackLength>8 && crt_tom_cut && TrackScore>0.8\n",
      "Rejection on each sample:\n",
      "Keep of     ext:\t40.88%\t reject:\t59.12%\n",
      "Keep of overlay:\t79.03%\t reject:\t20.97%\n",
      "Keep of    dirt:\t51.81%\t reject:\t48.19%\n",
      "\n",
      "Efficiency:\t\t56.23%\n",
      "Purity:\t\t\t47.70%\n",
      "Purity*Efficiency\t26.82\n",
      "\n",
      "Amount of     ext:\t22.10%\n",
      "Amount of overlay:\t74.31%\n",
      "Amount of    dirt:\t3.58%\n",
      "\n",
      "Signal definition=  numu_lowpur: 3.34%\t(4.50%)\n",
      "Signal definition=   numu_other: 0.64%\t(0.86%)\n",
      "Signal definition=    numu_nomu: 5.36%\t(7.21%)\n",
      "Signal definition=      numu_ov: 8.26%\t(11.12%)\n",
      "Signal definition=  numu_signal: 47.70%\t(64.19%)\n",
      "Signal definition=      numu_nc: 9.02%\t(12.13%)\n"
     ]
    }
   ],
   "source": [
    "NuCC.printEff_out('fidVol && muon && TrackLength>8 && crt_tom_cut && TrackScore>0.8')"
   ]
  },
  {
   "cell_type": "code",
   "execution_count": 18,
   "metadata": {},
   "outputs": [],
   "source": [
    "#NuCC.printEff_out('fidVol && muon && TrackLength>8 && crt_tom_cut && TrackScore>0.8 && TrackLength>20')"
   ]
  },
  {
   "cell_type": "code",
   "execution_count": 19,
   "metadata": {},
   "outputs": [
    {
     "name": "stdout",
     "output_type": "stream",
     "text": [
      "Efficiency for cut:  fidVol && muon && TrackLength>8 && crt_tom_cut && TrackScore>0.8 && TrackLength>32\n",
      "Rejection on each sample:\n",
      "Keep of     ext:\t33.34%\t reject:\t66.66%\n",
      "Keep of overlay:\t64.78%\t reject:\t35.22%\n",
      "Keep of    dirt:\t36.85%\t reject:\t63.15%\n",
      "\n",
      "Efficiency:\t\t52.91%\n",
      "Purity:\t\t\t55.08%\n",
      "Purity*Efficiency\t29.14\n",
      "\n",
      "Amount of     ext:\t22.12%\n",
      "Amount of overlay:\t74.75%\n",
      "Amount of    dirt:\t3.13%\n",
      "\n",
      "Signal definition=  numu_lowpur: 2.81%\t(3.76%)\n",
      "Signal definition=   numu_other: 0.62%\t(0.83%)\n",
      "Signal definition=    numu_nomu: 3.87%\t(5.17%)\n",
      "Signal definition=      numu_ov: 7.33%\t(9.81%)\n",
      "Signal definition=  numu_signal: 55.08%\t(73.68%)\n",
      "Signal definition=      numu_nc: 5.04%\t(6.74%)\n"
     ]
    }
   ],
   "source": [
    "NuCC.printEff_out('fidVol && muon && TrackLength>8 && crt_tom_cut && TrackScore>0.8 && TrackLength>32')\n",
    "# 20cm = 150MeV MC momentum, 32 = 180 MeV"
   ]
  },
  {
   "cell_type": "code",
   "execution_count": 20,
   "metadata": {},
   "outputs": [
    {
     "name": "stdout",
     "output_type": "stream",
     "text": [
      "Efficiency for cut:  fidVol && muon && TrackLength>8 && crt_tom_cut && TrackScore>0.8                && TrackLength>32 && TrackPID_chimuon<24\n",
      "Rejection on each sample:\n",
      "Keep of     ext:\t32.29%\t reject:\t67.71%\n",
      "Keep of overlay:\t61.70%\t reject:\t38.30%\n",
      "Keep of    dirt:\t35.51%\t reject:\t64.49%\n",
      "\n",
      "Efficiency:\t\t52.20%\n",
      "Purity:\t\t\t56.82%\n",
      "Purity*Efficiency\t29.66\n",
      "\n",
      "Amount of     ext:\t22.40%\n",
      "Amount of overlay:\t74.45%\n",
      "Amount of    dirt:\t3.15%\n",
      "\n",
      "Signal definition=  numu_lowpur: 2.72%\t(3.65%)\n",
      "Signal definition=   numu_other: 0.59%\t(0.80%)\n",
      "Signal definition=    numu_nomu: 3.46%\t(4.65%)\n",
      "Signal definition=      numu_ov: 7.27%\t(9.77%)\n",
      "Signal definition=  numu_signal: 56.82%\t(76.32%)\n",
      "Signal definition=      numu_nc: 3.58%\t(4.81%)\n"
     ]
    }
   ],
   "source": [
    "NuCC.printEff_out('fidVol && muon && TrackLength>8 && crt_tom_cut && TrackScore>0.8\\\n",
    "                && TrackLength>32 && TrackPID_chimuon<24')"
   ]
  },
  {
   "cell_type": "code",
   "execution_count": 21,
   "metadata": {},
   "outputs": [
    {
     "name": "stdout",
     "output_type": "stream",
     "text": [
      "Efficiency for cut:  fidVol && muon && TrackLength>8 && crt_tom_cut && TrackScore>0.8                && TrackLength>32 && TrackPID_chimuon<30\n",
      "Rejection on each sample:\n",
      "Keep of     ext:\t32.72%\t reject:\t67.28%\n",
      "Keep of overlay:\t62.43%\t reject:\t37.57%\n",
      "Keep of    dirt:\t35.94%\t reject:\t64.06%\n",
      "\n",
      "Efficiency:\t\t52.54%\n",
      "Purity:\t\t\t56.50%\n",
      "Purity*Efficiency\t29.68\n",
      "\n",
      "Amount of     ext:\t22.43%\n",
      "Amount of overlay:\t74.42%\n",
      "Amount of    dirt:\t3.15%\n",
      "\n",
      "Signal definition=  numu_lowpur: 2.76%\t(3.71%)\n",
      "Signal definition=   numu_other: 0.60%\t(0.80%)\n",
      "Signal definition=    numu_nomu: 3.48%\t(4.68%)\n",
      "Signal definition=      numu_ov: 7.32%\t(9.83%)\n",
      "Signal definition=  numu_signal: 56.50%\t(75.92%)\n",
      "Signal definition=      numu_nc: 3.76%\t(5.05%)\n"
     ]
    }
   ],
   "source": [
    "NuCC.printEff_out('fidVol && muon && TrackLength>8 && crt_tom_cut && TrackScore>0.8\\\n",
    "                && TrackLength>32 && TrackPID_chimuon<30')"
   ]
  },
  {
   "cell_type": "code",
   "execution_count": 22,
   "metadata": {},
   "outputs": [
    {
     "name": "stdout",
     "output_type": "stream",
     "text": [
      "Efficiency:\t64.81%\n",
      "Purity:\t\t35.47%\n"
     ]
    },
    {
     "name": "stderr",
     "output_type": "stream",
     "text": [
      "Warning in <TCanvas::Constructor>: Deleting canvas with same name: c1\n",
      "Info in <TCanvas::Print>: png file /home/tmettler/Desktop/ub_data/mcc9.1/v08_00_00_33/V08_00_00_17/muon_cut_MCscale//png/h_eff_energyinitial.png has been created\n",
      "Info in <TCanvas::SaveAs>: ROOT file /home/tmettler/Desktop/ub_data/mcc9.1/v08_00_00_33/V08_00_00_17/muon_cut_MCscale//root/h_eff_energyinitial.root has been created\n",
      "Info in <TCanvas::Print>: png file /home/tmettler/Desktop/ub_data/mcc9.1/v08_00_00_33/V08_00_00_17/muon_cut_MCscale//png/h_eff_thetainitial.png has been created\n",
      "Info in <TCanvas::SaveAs>: ROOT file /home/tmettler/Desktop/ub_data/mcc9.1/v08_00_00_33/V08_00_00_17/muon_cut_MCscale//root/h_eff_thetainitial.root has been created\n",
      "Info in <TCanvas::Print>: png file /home/tmettler/Desktop/ub_data/mcc9.1/v08_00_00_33/V08_00_00_17/muon_cut_MCscale//png/h_eff_phiinitial.png has been created\n",
      "Info in <TCanvas::SaveAs>: ROOT file /home/tmettler/Desktop/ub_data/mcc9.1/v08_00_00_33/V08_00_00_17/muon_cut_MCscale//root/h_eff_phiinitial.root has been created\n",
      "Info in <TCanvas::Print>: png file /home/tmettler/Desktop/ub_data/mcc9.1/v08_00_00_33/V08_00_00_17/muon_cut_MCscale//png/h_eff_Vxinitial.png has been created\n",
      "Info in <TCanvas::SaveAs>: ROOT file /home/tmettler/Desktop/ub_data/mcc9.1/v08_00_00_33/V08_00_00_17/muon_cut_MCscale//root/h_eff_Vxinitial.root has been created\n",
      "Warning in <TROOT::Append>: Replacing existing TH1: h_init_eff_V (Potential memory leak).\n",
      "Warning in <TROOT::Append>: Replacing existing TH1: h_init_eff_V_1 (Potential memory leak).\n",
      "Info in <TCanvas::Print>: png file /home/tmettler/Desktop/ub_data/mcc9.1/v08_00_00_33/V08_00_00_17/muon_cut_MCscale//png/h_eff_Vyinitial.png has been created\n",
      "Info in <TCanvas::SaveAs>: ROOT file /home/tmettler/Desktop/ub_data/mcc9.1/v08_00_00_33/V08_00_00_17/muon_cut_MCscale//root/h_eff_Vyinitial.root has been created\n",
      "Warning in <TROOT::Append>: Replacing existing TH1: h_init_eff_V (Potential memory leak).\n",
      "Warning in <TROOT::Append>: Replacing existing TH1: h_init_eff_V_1 (Potential memory leak).\n",
      "Info in <TCanvas::Print>: png file /home/tmettler/Desktop/ub_data/mcc9.1/v08_00_00_33/V08_00_00_17/muon_cut_MCscale//png/h_eff_Vzinitial.png has been created\n",
      "Info in <TCanvas::SaveAs>: ROOT file /home/tmettler/Desktop/ub_data/mcc9.1/v08_00_00_33/V08_00_00_17/muon_cut_MCscale//root/h_eff_Vzinitial.root has been created\n"
     ]
    }
   ],
   "source": [
    "nenner = 'numu_true'\n",
    "zahler = 'fidVol && muon && numu_true'\n",
    "cut = 'fidVol && muon'\n",
    "NuCC.plot_eff_outV2(nenner,zahler,cut,'initial','initial')"
   ]
  },
  {
   "cell_type": "code",
   "execution_count": 23,
   "metadata": {},
   "outputs": [
    {
     "name": "stdout",
     "output_type": "stream",
     "text": [
      "Efficiency:\t51.51%\n",
      "Purity:\t\t57.46%\n"
     ]
    },
    {
     "name": "stderr",
     "output_type": "stream",
     "text": [
      "Info in <TCanvas::Print>: png file /home/tmettler/Desktop/ub_data/mcc9.1/v08_00_00_33/V08_00_00_17/muon_cut_MCscale//png/h_eff_energypetestV2.png has been created\n",
      "Info in <TCanvas::SaveAs>: ROOT file /home/tmettler/Desktop/ub_data/mcc9.1/v08_00_00_33/V08_00_00_17/muon_cut_MCscale//root/h_eff_energypetestV2.root has been created\n",
      "Info in <TCanvas::Print>: png file /home/tmettler/Desktop/ub_data/mcc9.1/v08_00_00_33/V08_00_00_17/muon_cut_MCscale//png/h_eff_thetapetestV2.png has been created\n",
      "Info in <TCanvas::SaveAs>: ROOT file /home/tmettler/Desktop/ub_data/mcc9.1/v08_00_00_33/V08_00_00_17/muon_cut_MCscale//root/h_eff_thetapetestV2.root has been created\n",
      "Info in <TCanvas::Print>: png file /home/tmettler/Desktop/ub_data/mcc9.1/v08_00_00_33/V08_00_00_17/muon_cut_MCscale//png/h_eff_phipetestV2.png has been created\n",
      "Info in <TCanvas::SaveAs>: ROOT file /home/tmettler/Desktop/ub_data/mcc9.1/v08_00_00_33/V08_00_00_17/muon_cut_MCscale//root/h_eff_phipetestV2.root has been created\n",
      "Info in <TCanvas::Print>: png file /home/tmettler/Desktop/ub_data/mcc9.1/v08_00_00_33/V08_00_00_17/muon_cut_MCscale//png/h_eff_VxpetestV2.png has been created\n",
      "Info in <TCanvas::SaveAs>: ROOT file /home/tmettler/Desktop/ub_data/mcc9.1/v08_00_00_33/V08_00_00_17/muon_cut_MCscale//root/h_eff_VxpetestV2.root has been created\n",
      "Warning in <TROOT::Append>: Replacing existing TH1: h_init_eff_V (Potential memory leak).\n",
      "Warning in <TROOT::Append>: Replacing existing TH1: h_init_eff_V_1 (Potential memory leak).\n",
      "Info in <TCanvas::Print>: png file /home/tmettler/Desktop/ub_data/mcc9.1/v08_00_00_33/V08_00_00_17/muon_cut_MCscale//png/h_eff_VypetestV2.png has been created\n",
      "Info in <TCanvas::SaveAs>: ROOT file /home/tmettler/Desktop/ub_data/mcc9.1/v08_00_00_33/V08_00_00_17/muon_cut_MCscale//root/h_eff_VypetestV2.root has been created\n",
      "Warning in <TROOT::Append>: Replacing existing TH1: h_init_eff_V (Potential memory leak).\n",
      "Warning in <TROOT::Append>: Replacing existing TH1: h_init_eff_V_1 (Potential memory leak).\n",
      "Info in <TCanvas::Print>: png file /home/tmettler/Desktop/ub_data/mcc9.1/v08_00_00_33/V08_00_00_17/muon_cut_MCscale//png/h_eff_VzpetestV2.png has been created\n",
      "Info in <TCanvas::SaveAs>: ROOT file /home/tmettler/Desktop/ub_data/mcc9.1/v08_00_00_33/V08_00_00_17/muon_cut_MCscale//root/h_eff_VzpetestV2.root has been created\n"
     ]
    }
   ],
   "source": [
    "nenner = 'numu_true'\n",
    "zahler = 'fidVol && muon && TrackLength>8 && crt_tom_cut && TrackScore>0.8\\\n",
    "                && TrackLength>32 && TrackPID_chimuon<20 && numu_true'\n",
    "cut = 'fidVol && muon && TrackLength>8 && crt_tom_cut && TrackScore>0.8\\\n",
    "                && TrackLength>32 && TrackPID_chimuon<20'\n",
    "NuCC.plot_eff_outV2(nenner,zahler,cut,'petestV2','petestV2')"
   ]
  },
  {
   "cell_type": "code",
   "execution_count": 24,
   "metadata": {},
   "outputs": [
    {
     "name": "stdout",
     "output_type": "stream",
     "text": [
      "Efficiency:\t52.54%\n",
      "Purity:\t\t56.50%\n"
     ]
    },
    {
     "name": "stderr",
     "output_type": "stream",
     "text": [
      "Info in <TCanvas::Print>: png file /home/tmettler/Desktop/ub_data/mcc9.1/v08_00_00_33/V08_00_00_17/muon_cut_MCscale//png/h_eff_energyToms cut.png has been created\n",
      "Info in <TCanvas::SaveAs>: ROOT file /home/tmettler/Desktop/ub_data/mcc9.1/v08_00_00_33/V08_00_00_17/muon_cut_MCscale//root/h_eff_energyToms cut.root has been created\n",
      "Info in <TCanvas::Print>: png file /home/tmettler/Desktop/ub_data/mcc9.1/v08_00_00_33/V08_00_00_17/muon_cut_MCscale//png/h_eff_thetaToms cut.png has been created\n",
      "Info in <TCanvas::SaveAs>: ROOT file /home/tmettler/Desktop/ub_data/mcc9.1/v08_00_00_33/V08_00_00_17/muon_cut_MCscale//root/h_eff_thetaToms cut.root has been created\n",
      "Info in <TCanvas::Print>: png file /home/tmettler/Desktop/ub_data/mcc9.1/v08_00_00_33/V08_00_00_17/muon_cut_MCscale//png/h_eff_phiToms cut.png has been created\n",
      "Info in <TCanvas::SaveAs>: ROOT file /home/tmettler/Desktop/ub_data/mcc9.1/v08_00_00_33/V08_00_00_17/muon_cut_MCscale//root/h_eff_phiToms cut.root has been created\n",
      "Info in <TCanvas::Print>: png file /home/tmettler/Desktop/ub_data/mcc9.1/v08_00_00_33/V08_00_00_17/muon_cut_MCscale//png/h_eff_VxToms cut.png has been created\n",
      "Info in <TCanvas::SaveAs>: ROOT file /home/tmettler/Desktop/ub_data/mcc9.1/v08_00_00_33/V08_00_00_17/muon_cut_MCscale//root/h_eff_VxToms cut.root has been created\n",
      "Warning in <TROOT::Append>: Replacing existing TH1: h_init_eff_V (Potential memory leak).\n",
      "Warning in <TROOT::Append>: Replacing existing TH1: h_init_eff_V_1 (Potential memory leak).\n",
      "Info in <TCanvas::Print>: png file /home/tmettler/Desktop/ub_data/mcc9.1/v08_00_00_33/V08_00_00_17/muon_cut_MCscale//png/h_eff_VyToms cut.png has been created\n",
      "Info in <TCanvas::SaveAs>: ROOT file /home/tmettler/Desktop/ub_data/mcc9.1/v08_00_00_33/V08_00_00_17/muon_cut_MCscale//root/h_eff_VyToms cut.root has been created\n",
      "Warning in <TROOT::Append>: Replacing existing TH1: h_init_eff_V (Potential memory leak).\n",
      "Warning in <TROOT::Append>: Replacing existing TH1: h_init_eff_V_1 (Potential memory leak).\n",
      "Info in <TCanvas::Print>: png file /home/tmettler/Desktop/ub_data/mcc9.1/v08_00_00_33/V08_00_00_17/muon_cut_MCscale//png/h_eff_VzToms cut.png has been created\n",
      "Info in <TCanvas::SaveAs>: ROOT file /home/tmettler/Desktop/ub_data/mcc9.1/v08_00_00_33/V08_00_00_17/muon_cut_MCscale//root/h_eff_VzToms cut.root has been created\n"
     ]
    }
   ],
   "source": [
    "nenner = 'fidVol && muon && numu_true'\n",
    "zahler = 'fidVol && muon && TrackLength>8 && crt_tom_cut && TrackScore>0.8\\\n",
    "                && TrackLength>32 && TrackPID_chimuon<30 && numu_true'\n",
    "cut = 'fidVol && muon && TrackLength>8 && crt_tom_cut && TrackScore>0.8\\\n",
    "                && TrackLength>32 && TrackPID_chimuon<30'\n",
    "NuCC.plot_eff_outV2(nenner,zahler,cut,'Toms cut','Toms cut')"
   ]
  },
  {
   "cell_type": "code",
   "execution_count": 25,
   "metadata": {},
   "outputs": [
    {
     "name": "stdout",
     "output_type": "stream",
     "text": [
      "Efficiency:\t57.16%\n",
      "Purity:\t\t48.41%\n"
     ]
    },
    {
     "name": "stderr",
     "output_type": "stream",
     "text": [
      "Info in <TCanvas::Print>: png file /home/tmettler/Desktop/ub_data/mcc9.1/v08_00_00_33/V08_00_00_17/muon_cut_MCscale//png/h_eff_energyCRT cut.png has been created\n",
      "Info in <TCanvas::SaveAs>: ROOT file /home/tmettler/Desktop/ub_data/mcc9.1/v08_00_00_33/V08_00_00_17/muon_cut_MCscale//root/h_eff_energyCRT cut.root has been created\n",
      "Info in <TCanvas::Print>: png file /home/tmettler/Desktop/ub_data/mcc9.1/v08_00_00_33/V08_00_00_17/muon_cut_MCscale//png/h_eff_thetaCRT cut.png has been created\n",
      "Info in <TCanvas::SaveAs>: ROOT file /home/tmettler/Desktop/ub_data/mcc9.1/v08_00_00_33/V08_00_00_17/muon_cut_MCscale//root/h_eff_thetaCRT cut.root has been created\n",
      "Info in <TCanvas::Print>: png file /home/tmettler/Desktop/ub_data/mcc9.1/v08_00_00_33/V08_00_00_17/muon_cut_MCscale//png/h_eff_phiCRT cut.png has been created\n",
      "Info in <TCanvas::SaveAs>: ROOT file /home/tmettler/Desktop/ub_data/mcc9.1/v08_00_00_33/V08_00_00_17/muon_cut_MCscale//root/h_eff_phiCRT cut.root has been created\n",
      "Info in <TCanvas::Print>: png file /home/tmettler/Desktop/ub_data/mcc9.1/v08_00_00_33/V08_00_00_17/muon_cut_MCscale//png/h_eff_VxCRT cut.png has been created\n",
      "Info in <TCanvas::SaveAs>: ROOT file /home/tmettler/Desktop/ub_data/mcc9.1/v08_00_00_33/V08_00_00_17/muon_cut_MCscale//root/h_eff_VxCRT cut.root has been created\n",
      "Warning in <TROOT::Append>: Replacing existing TH1: h_init_eff_V (Potential memory leak).\n",
      "Warning in <TROOT::Append>: Replacing existing TH1: h_init_eff_V_1 (Potential memory leak).\n",
      "Info in <TCanvas::Print>: png file /home/tmettler/Desktop/ub_data/mcc9.1/v08_00_00_33/V08_00_00_17/muon_cut_MCscale//png/h_eff_VyCRT cut.png has been created\n",
      "Info in <TCanvas::SaveAs>: ROOT file /home/tmettler/Desktop/ub_data/mcc9.1/v08_00_00_33/V08_00_00_17/muon_cut_MCscale//root/h_eff_VyCRT cut.root has been created\n",
      "Warning in <TROOT::Append>: Replacing existing TH1: h_init_eff_V (Potential memory leak).\n",
      "Warning in <TROOT::Append>: Replacing existing TH1: h_init_eff_V_1 (Potential memory leak).\n",
      "Info in <TCanvas::Print>: png file /home/tmettler/Desktop/ub_data/mcc9.1/v08_00_00_33/V08_00_00_17/muon_cut_MCscale//png/h_eff_VzCRT cut.png has been created\n",
      "Info in <TCanvas::SaveAs>: ROOT file /home/tmettler/Desktop/ub_data/mcc9.1/v08_00_00_33/V08_00_00_17/muon_cut_MCscale//root/h_eff_VzCRT cut.root has been created\n"
     ]
    }
   ],
   "source": [
    "nenner = 'fidVol && muon && numu_true'\n",
    "zahler = 'fidVol && muon && TrackLength>8 && crt_tom_cut && TrackPID_chimuon<30 && numu_true'\n",
    "cut = 'fidVol && muon && TrackLength>8 && crt_tom_cut && TrackPID_chimuon<30'\n",
    "NuCC.plot_eff_outV2(nenner,zahler,cut,'CRT cut','CRT cut')"
   ]
  },
  {
   "cell_type": "code",
   "execution_count": null,
   "metadata": {},
   "outputs": [],
   "source": []
  },
  {
   "cell_type": "code",
   "execution_count": null,
   "metadata": {},
   "outputs": [],
   "source": []
  },
  {
   "cell_type": "code",
   "execution_count": null,
   "metadata": {},
   "outputs": [],
   "source": []
  },
  {
   "cell_type": "code",
   "execution_count": null,
   "metadata": {},
   "outputs": [],
   "source": []
  },
  {
   "cell_type": "code",
   "execution_count": null,
   "metadata": {},
   "outputs": [],
   "source": []
  },
  {
   "cell_type": "code",
   "execution_count": 37,
   "metadata": {},
   "outputs": [
    {
     "name": "stderr",
     "output_type": "stream",
     "text": [
      "Warning in <TCanvas::Constructor>: Deleting canvas with same name: c1\n"
     ]
    }
   ],
   "source": [
    "# initialte ROOT default canvas\n",
    "ROOT.gStyle.SetOptStat(0)\n",
    "c1 = ROOT.TCanvas(\"c1\",\"c1\",1600,1200)\n",
    "c1.SetGrid(1)\n",
    "c1.SetLeftMargin(0.14)\n",
    "c1.SetRightMargin(0.18)\n",
    "c1.SetBottomMargin(0.14)"
   ]
  },
  {
   "cell_type": "code",
   "execution_count": 41,
   "metadata": {},
   "outputs": [
    {
     "name": "stdout",
     "output_type": "stream",
     "text": [
      "Variation of cut on: TrackLength\n",
      "Maximum value:  26.1046218872\n",
      "Bin:  38  -> Value:  37.0\n"
     ]
    },
    {
     "name": "stderr",
     "output_type": "stream",
     "text": [
      "Warning in <TROOT::Append>: Replacing existing TH1: h_eff (Potential memory leak).\n",
      "Warning in <TROOT::Append>: Replacing existing TH1: h_pur (Potential memory leak).\n",
      "Warning in <TROOT::Append>: Replacing existing TH1: h_effpur (Potential memory leak).\n",
      "Info in <TCanvas::Print>: png file /home/tmettler/Desktop/ub_data/mcc9.1/v08_00_00_33/V08_00_00_17/muon_cut//png/TrackLength.png has been created\n",
      "Info in <TCanvas::SaveAs>: ROOT file /home/tmettler/Desktop/ub_data/mcc9.1/v08_00_00_33/V08_00_00_17/muon_cut//root/TrackLength.root has been created\n"
     ]
    },
    {
     "data": {
      "image/png": "[encoded data removed]",
      "text/plain": [
       "<IPython.core.display.Image object>"
      ]
     },
     "metadata": {},
     "output_type": "display_data"
    }
   ],
   "source": [
    "value = 'TrackLength'\n",
    "xbins = 100\n",
    "xstart = 0\n",
    "xend = 100\n",
    "step = (xend-xstart)/xbins\n",
    "title = 'Track length [cm]'\n",
    "\n",
    "h_eff =  ROOT.TH1F(\"h_eff\",title,xbins,xstart,xend)\n",
    "h_pur = ROOT.TH1F(\"h_pur\",title,xbins,xstart,xend)\n",
    "h_effpur = ROOT.TH1F(\"h_effpur\",title,xbins,xstart,xend)\n",
    "for i in range(xbins): \n",
    "    cut = 'muon && fidVol && crt_tom_cut && TrackScore>0.8 && ('+value+'>('+str(xstart)+'+'+str(step)+'*'+str(i)+'))'\n",
    "    #print cut\n",
    "    pur = overlay_out.GetEntries(cut+' && numu_signal')*scale[overlay]*100.0/(NuCC.getTotNum_out(cut)+0.00001)\n",
    "    eff = overlay_out.GetEntries(cut+' && numu_signal')*100.0/overlay_out.GetEntries(\"numu_true\")\n",
    "    h_eff.SetBinContent(i+1,eff)\n",
    "    h_pur.SetBinContent(i+1,pur)\n",
    "    h_effpur.SetBinContent(i+1,eff*pur/100.0)\n",
    "    #print eff ,pur, eff*pur,i\n",
    "\n",
    "legend = ROOT.TLegend(0.15,0.75,0.48,0.9);\n",
    "legend.AddEntry(h_eff,\"efficiency\",\"f\");\n",
    "legend.AddEntry(h_pur,\"purity\",\"f\");\n",
    "legend.AddEntry(h_effpur,\"eff * pur\",\"f\");\n",
    "\n",
    "h_eff.SetLineColor(1)\n",
    "h_eff.SetMaximum(100)\n",
    "h_eff.SetMinimum(0)\n",
    "h_pur.SetLineColor(2)\n",
    "h_effpur.SetLineColor(3)\n",
    "h_pur.SetLineWidth(3)\n",
    "h_eff.SetLineWidth(3)\n",
    "h_effpur.SetLineWidth(3)\n",
    "h_eff.Draw()\n",
    "legend.Draw()\n",
    "h_pur.Draw('same')\n",
    "h_effpur.Draw('same')\n",
    "h_eff.Draw('same')\n",
    "c1.SetLogy(0)\n",
    "c1.Draw()\n",
    "c1.SaveAs(outputdir_png+ value +\".png\");\n",
    "c1.SaveAs(outputdir_root+ value+ \".root\");\n",
    "\n",
    "print 'Variation of cut on: '+value\n",
    "print 'Maximum value: ', h_effpur.GetMaximum()\n",
    "print 'Bin: ', h_effpur.GetMaximumBin(),' -> Value: ', xstart+(h_effpur.GetMaximumBin()-1)*step"
   ]
  },
  {
   "cell_type": "code",
   "execution_count": 41,
   "metadata": {},
   "outputs": [
    {
     "name": "stdout",
     "output_type": "stream",
     "text": [
      "Variation of cut on: TrackPID_chimuon\n",
      "Maximum value:  21.8637161255\n",
      "Bin:  31  -> Value:  30.0\n"
     ]
    },
    {
     "name": "stderr",
     "output_type": "stream",
     "text": [
      "Warning in <TROOT::Append>: Replacing existing TH1: h_eff (Potential memory leak).\n",
      "Warning in <TROOT::Append>: Replacing existing TH1: h_pur (Potential memory leak).\n",
      "Warning in <TROOT::Append>: Replacing existing TH1: h_effpur (Potential memory leak).\n",
      "Info in <TCanvas::Print>: png file /home/tmettler/Desktop/ub_data/mcc9.1/v08_00_00_33/V08_00_00_17/muon_cut//png/TrackPID_chimuon.png has been created\n",
      "Info in <TCanvas::SaveAs>: ROOT file /home/tmettler/Desktop/ub_data/mcc9.1/v08_00_00_33/V08_00_00_17/muon_cut//root/TrackPID_chimuon.root has been created\n"
     ]
    },
    {
     "data": {
      "image/png": "[encoded data removed]",
      "text/plain": [
       "<IPython.core.display.Image object>"
      ]
     },
     "metadata": {},
     "output_type": "display_data"
    }
   ],
   "source": [
    "value = 'TrackPID_chimuon'\n",
    "xbins = 100\n",
    "xstart = 0\n",
    "xend = 100\n",
    "step = (xend-xstart)/xbins\n",
    "title = 'Track PID chi square'\n",
    "\n",
    "h_eff =  ROOT.TH1F(\"h_eff\",title,xbins,xstart,xend)\n",
    "h_pur = ROOT.TH1F(\"h_pur\",title,xbins,xstart,xend)\n",
    "h_effpur = ROOT.TH1F(\"h_effpur\",title,xbins,xstart,xend)\n",
    "for i in range(xbins): \n",
    "    cut = 'muon && fidVol && crt_tom_cut && TrackScore>0.8 && \\\n",
    "        TrackLength>32 && ('+value+'<('+str(xstart)+'+'+str(step)+'*'+str(i)+'))'\n",
    "    #print cut\n",
    "    pur = overlay_out.GetEntries(cut+' && numu_signal')*scale[overlay]*100.0/(NuCC.getTotNum_out(cut)+0.00001)\n",
    "    eff = overlay_out.GetEntries(cut+' && numu_signal')*100.0/overlay_out.GetEntries(\"numu_true\")\n",
    "    h_eff.SetBinContent(i+1,eff)\n",
    "    h_pur.SetBinContent(i+1,pur)\n",
    "    h_effpur.SetBinContent(i+1,eff*pur/100.0)\n",
    "    #print eff ,pur, eff*pur,i\n",
    "\n",
    "legend = ROOT.TLegend(0.15,0.75,0.48,0.9);\n",
    "legend.AddEntry(h_eff,\"efficiency\",\"f\");\n",
    "legend.AddEntry(h_pur,\"purity\",\"f\");\n",
    "legend.AddEntry(h_effpur,\"eff * pur\",\"f\");\n",
    "\n",
    "h_eff.SetLineColor(1)\n",
    "h_eff.SetMaximum(100)\n",
    "h_eff.SetMinimum(0)\n",
    "h_pur.SetLineColor(2)\n",
    "h_effpur.SetLineColor(3)\n",
    "h_pur.SetLineWidth(3)\n",
    "h_eff.SetLineWidth(3)\n",
    "h_effpur.SetLineWidth(3)\n",
    "h_eff.Draw()\n",
    "legend.Draw()\n",
    "h_pur.Draw('same')\n",
    "h_effpur.Draw('same')\n",
    "h_eff.Draw('same')\n",
    "c1.SetLogy(0)\n",
    "c1.Draw()\n",
    "c1.SaveAs(outputdir_png+ value +\".png\");\n",
    "c1.SaveAs(outputdir_root+ value+ \".root\");\n",
    "\n",
    "print 'Variation of cut on: '+value\n",
    "print 'Maximum value: ', h_effpur.GetMaximum()\n",
    "print 'Bin: ', h_effpur.GetMaximumBin(),' -> Value: ', xstart+(h_effpur.GetMaximumBin()-1)*step"
   ]
  },
  {
   "cell_type": "code",
   "execution_count": null,
   "metadata": {},
   "outputs": [],
   "source": []
  },
  {
   "cell_type": "code",
   "execution_count": null,
   "metadata": {},
   "outputs": [],
   "source": []
  },
  {
   "cell_type": "code",
   "execution_count": null,
   "metadata": {},
   "outputs": [],
   "source": []
  },
  {
   "cell_type": "code",
   "execution_count": null,
   "metadata": {},
   "outputs": [],
   "source": []
  }
 ],
 "metadata": {
  "kernelspec": {
   "display_name": "Python 2",
   "language": "python",
   "name": "python2"
  },
  "language_info": {
   "codemirror_mode": {
    "name": "ipython",
    "version": 2
   },
   "file_extension": ".py",
   "mimetype": "text/x-python",
   "name": "python",
   "nbconvert_exporter": "python",
   "pygments_lexer": "ipython2",
   "version": "2.7.12"
  }
 },
 "nbformat": 4,
 "nbformat_minor": 2
}
