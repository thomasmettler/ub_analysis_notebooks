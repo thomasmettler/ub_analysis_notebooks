{
 "cells": [
  {
   "cell_type": "code",
   "execution_count": 1,
   "metadata": {},
   "outputs": [
    {
     "name": "stdout",
     "output_type": "stream",
     "text": [
      "Welcome to JupyROOT 6.18/04\n"
     ]
    }
   ],
   "source": [
    "from __future__ import division\n",
    "import imp\n",
    "import uproot\n",
    "import matplotlib\n",
    "#matplotlib.use('agg')\n",
    "import matplotlib.pyplot as plt\n",
    "import matplotlib.image as mpimg\n",
    "import numpy as np\n",
    "import pandas as pd\n",
    "import os\n",
    "import ROOT\n",
    "import time\n",
    "import math\n",
    "from array import array\n",
    "helper = imp.load_source('helpfunction','/home/tmettler/Desktop/uBoone/do_plots/helpfunction.py')\n",
    "globale = imp.load_source('globale','/home/tmettler/Desktop/uBoone/do_plots/globale.py')\n",
    "#import /home/tmettler/Desktop/uBoone/do_plots/helpfunction as helper\n",
    "import collections\n",
    "NuCC = imp.load_source('NuCC_function','/home/tmettler/Desktop/uBoone/do_plots/NuCC_function.py')\n",
    "NuCC_w = imp.load_source('NuCCWeight_function','/home/tmettler/Desktop/uBoone/do_plots/NuCCWeight_function.py')"
   ]
  },
  {
   "cell_type": "code",
   "execution_count": 2,
   "metadata": {},
   "outputs": [],
   "source": [
    "#!jupyter nbconvert --to script numuCCana_muon_cut_weight.ipynb"
   ]
  },
  {
   "cell_type": "code",
   "execution_count": 3,
   "metadata": {},
   "outputs": [
    {
     "name": "stderr",
     "output_type": "stream",
     "text": [
      "Warning in <TCanvas::Constructor>: Deleting canvas with same name: c1\n"
     ]
    }
   ],
   "source": [
    "# initialte ROOT default canvas\n",
    "ROOT.gStyle.SetOptStat(0)\n",
    "ROOT.gStyle.SetOptTitle(0)\n",
    "c1 = ROOT.TCanvas(\"c1\",\"c1\",1600,1200)\n",
    "c1.SetGrid(1)\n",
    "c1.SetLeftMargin(0.14)\n",
    "c1.SetRightMargin(0.05)\n",
    "c1.SetBottomMargin(0.14)"
   ]
  },
  {
   "cell_type": "markdown",
   "metadata": {},
   "source": [
    "# CRTinBNB tagger, Overlay or MC"
   ]
  },
  {
   "cell_type": "code",
   "execution_count": 4,
   "metadata": {},
   "outputs": [],
   "source": [
    "# Load input files\n",
    "#inputdir = '/home/thomasm/numuCC/V33/10kevents/'\n",
    "inputdir = '/home/tmettler/Desktop/v08_00_00_33/V08_00_00_35/weighted/'\n",
    "outputdir = '/home/tmettler/Desktop/v08_00_00_33/V08_00_00_35/weighted_improved/'+'muon_cut_thesis/' \n",
    "outputdir_png, outputdir_root,outputdir_pdf = NuCC.prepareOutput2(outputdir)\n",
    "\n",
    "#filename_overlay = 'NuCCana_Overlay_V18_V4.root'\n",
    "filename_overlay = 'NuCCana_overlay_V26_mar18.root'\n",
    "#filename_overlay = 'NuCCana_overlay_v25_weighted_all.root'\n",
    "filename_data = 'NuCCana_data_V25.root'\n",
    "filename_ext = 'NuCCana_ext_V25_G1.root'\n",
    "filename_dirt = 'NuCCana_dirt_V26_weight.root'\n",
    "    \n",
    "tree_name = 'numuCCAna'"
   ]
  },
  {
   "cell_type": "code",
   "execution_count": 5,
   "metadata": {},
   "outputs": [
    {
     "name": "stdout",
     "output_type": "stream",
     "text": [
      "Overlay: Number of Entries:\t1012051\n",
      "Data: Number of Entries:\t28005\n",
      "Ext: Number of Entries:\t\t1018743\n",
      "Dirt: Number of Entries:\t40808\n",
      "\n",
      "POT: \n",
      "Data:\t\t7.644e+18\n",
      "Ext:\t\t0\n",
      "Overlay:\t1.26811760704e+21\n",
      "Dirt:\t\t1.26535223192e+20\n",
      "\n",
      "Scalefactors: \n",
      "Data:\t\t1.0\n",
      "Ext:\t\t0.0214379207565\n",
      "Overlay:\t0.0060278320856\n",
      "Dirt:\t\t0.0604100566402\n"
     ]
    }
   ],
   "source": [
    "#Open all the trees of the four files (data, ext, dirt, overlay)\n",
    "\n",
    "data, ext, dirt, overlay = NuCC.openTrees(inputdir, filename_data, filename_ext, filename_dirt, filename_overlay, tree_name)\n",
    "NuCC.printNumberOfEntries(data,ext,dirt,overlay)\n",
    "\n",
    "pot_overlay = NuCC.getPOT(inputdir,filename_overlay,tree_name)\n",
    "pot_dirt =  NuCC.getPOT(inputdir,filename_dirt,tree_name)\n",
    "#V25 files\n",
    "pot_data =    7.644e+18  # best with tor875\n",
    "data_trigger = 1838700.0 #2220362.0 #1854495.0 #4743794 # 1987072.0 # E1DCNT_wcut\n",
    "ext_trigger =  85768579.0  #2120135 #5685315 # EXT\n",
    "\n",
    "print 'POT: '\n",
    "print 'Data:\\t\\t', pot_data\n",
    "print 'Ext:\\t\\t', 0\n",
    "print 'Overlay:\\t', pot_overlay\n",
    "print 'Dirt:\\t\\t', pot_dirt\n",
    "print ''\n",
    "sample = [data,ext,overlay,dirt]\n",
    "scale = {data:1.0,ext:1.0,overlay:1.0,dirt:1.0}\n",
    "name = {data:'data',ext:'ext',overlay:'overlay',dirt:'dirt'}\n",
    "\n",
    "scale[data], scale[ext], scale[dirt], scale[overlay] = NuCC.calculateScale(data_trigger, ext_trigger, pot_data, pot_dirt, pot_overlay)\n",
    "\n",
    "scale[dirt] = scale[dirt]\n",
    "scale[overlay] = scale[overlay]\n",
    "print 'Scalefactors: '\n",
    "print 'Data:\\t\\t', scale[data]\n",
    "print 'Ext:\\t\\t', scale[ext]\n",
    "print 'Overlay:\\t', scale[overlay]\n",
    "print 'Dirt:\\t\\t', scale[dirt]\n"
   ]
  },
  {
   "cell_type": "code",
   "execution_count": 6,
   "metadata": {},
   "outputs": [
    {
     "name": "stdout",
     "output_type": "stream",
     "text": [
      "Overlay: Number of Entries:\t1013969\n",
      "Data: Number of Entries:\t28004\n",
      "Ext: Number of Entries:\t\t1018742\n",
      "Dirt: Number of Entries:\t40800\n",
      "\n"
     ]
    }
   ],
   "source": [
    "if 1:\n",
    "    filename_overlay = filename_overlay+'out4_noflux.root'\n",
    "    #filename_overlay = 'NuCCana_overlay_points_1kev.rootout2.root'\n",
    "    filename_data = filename_data+'out4.root'\n",
    "    filename_ext = filename_ext+'out4.root'\n",
    "    filename_dirt = filename_dirt+'out4.root'\n",
    "\n",
    "    tree_name = 't_out'\n",
    "\n",
    "    data_out, ext_out, dirt_out, overlay_out = NuCC.openTreesOut(inputdir, filename_data, filename_ext, filename_dirt, filename_overlay, tree_name)\n",
    "    NuCC.printNumberOfEntries(data_out,ext_out,dirt_out,overlay_out)\n",
    "\n",
    "    sample_out = [data_out,ext_out,overlay_out,dirt_out]\n",
    "    scale_out = {data_out:1.0,ext_out:1.0,overlay_out:1.0,dirt_out:1.0}\n",
    "    name_out = {data_out:'data',ext_out:'ext',overlay_out:'overlay',dirt_out:'dirt'}\n",
    "\n",
    "    scale_out[data_out], scale_out[ext_out], scale_out[dirt_out], scale_out[overlay_out] = NuCC.calculateScale(data_trigger, ext_trigger, pot_data, pot_dirt, pot_overlay)\n",
    "    scale_out[dirt_out] = scale_out[dirt_out]\n",
    "    scale_out[overlay_out] = scale_out[overlay_out]"
   ]
  },
  {
   "cell_type": "code",
   "execution_count": 7,
   "metadata": {},
   "outputs": [
    {
     "name": "stdout",
     "output_type": "stream",
     "text": [
      "Fiducial Volume:  49184671.35\n",
      "Beam flux = 5.64049e+09  /cm2\n",
      "Number of target nuclei= 4.10331e+31  /cm3\n"
     ]
    }
   ],
   "source": [
    "##### flux and number of tragets parameters###\n",
    "#flux = 1.16859e11/1.592e20 # flux per POT per cm2\n",
    "flux = 7.3789785277e-10\n",
    "roh_data = 1.3836 #data denisity g/cm3\n",
    "roh_MC = 1.3954 # MC denisity g/cm3\n",
    "mol = 39.95 # g for argon\n",
    "N_A = 6.022140857e23 # molec/mol avogadro zahl\n",
    "N_nucleons = 40.0\n",
    "V_fid = ((254.8-10)-(-1.55+10))*((117.47-10)-(-115.53+10))*((1036.9-50)-(-0.1+10))\n",
    "print 'Fiducial Volume: ', V_fid\n",
    "##############################################\n",
    "\n",
    "beam_flux = flux * pot_data\n",
    "print 'Beam flux = {:.5e}'.format(beam_flux),' /cm2'\n",
    "N_tot = roh_data*N_A*N_nucleons*V_fid/mol\n",
    "print 'Number of target nuclei= {:.5e}'.format(N_tot),' /cm3'\n"
   ]
  },
  {
   "cell_type": "code",
   "execution_count": 8,
   "metadata": {},
   "outputs": [],
   "source": [
    "\n",
    "fidVol = '(Nu_Vx_sce>(-1.55+10) && Nu_Vx_sce<(254.8-10)) && (Nu_Vy_sce>(-115.53+10) && Nu_Vy_sce<(117.47-10)) &&(Nu_Vz_sce>(-0.1+10) && Nu_Vz_sce<(1036.9-50))'\n",
    "MCfidVol = '(MCNu_Vx>(-1.55+10) && MCNu_Vx<(254.8-10)) && (MCNu_Vy>(-115.53+10) && MCNu_Vy<(117.47-10)) &&(MCNu_Vz>(-0.1+10) && MCNu_Vz<(1036.9-50))'\n",
    "numu_signal = 'fidVol && MCfidVol && MCNu_CCNC==0 && MCNu_PDG==14 && MCTrackPDG==13 && MCTrackPurity>0.5' # numu CC signal definition\n",
    "numu_true = 'MCfidVol && MCNu_CCNC==0 && MCNu_PDG==14' # numu CC signal definition\n",
    "\n",
    "#numu_nomuon = 'fidVol && MCfidVol && MCNu_CCNC==0 && MCNu_PDG==14 && MCTrackPDG!=13 && MCTrackPurity>0.5' # numu CC signal definition\n",
    "numu_nomuon = 'fidVol && MCfidVol && MCNu_CCNC==0 && MCNu_PDG==14 && (MCTrackPDG!=13 || (MCTrackPDG==13 && MCle_Energy<=0.15))&& MCTrackPurity>0.5' # numu CC signal definition\n",
    "numu_nue = 'fidVol && MCfidVol && MCNu_CCNC==0 && abs(MCNu_PDG)!=14 && MCTrackPurity>=0.5' # e.g anti nu or nue\n",
    "numu_antinu = 'fidVol && MCfidVol && MCNu_CCNC==0 && MCNu_PDG==-14 && MCTrackPurity>=0.5' # e.g anti nu or nue\n",
    "numu_nc = 'fidVol && MCfidVol && MCNu_CCNC==1 && MCTrackPurity>=0.5' # nutral current\n",
    "numu_ov = 'fidVol && !MCfidVol && MCTrackPurity>=0.5' # out of fiducial\n",
    "numu_cosmic = 'fidVol && MCTrackPurity<0.5' #low purity\n",
    "\n",
    "#signal = 'MCfidVol && MCNu_CCNC==0 && MCNu_PDG==14'\n",
    "for x in sample:\n",
    "    x.SetAlias('muon','(muon_candidate_key==track_key)')\n",
    "\n",
    "    \n",
    "energy_cut = ' && MCle_Energy>0.15'\n",
    "numu_signal = numu_signal+energy_cut\n",
    "numu_true = numu_true+energy_cut\n",
    "#numu_nomu = numu_nomu+energy_cut\n",
    "#numu_lowpur = numu_lowpur+energy_cut\n",
    "#numu_nc = numu_nc+energy_cut\n",
    "#numu_ov = numu_ov+energy_cut\n",
    "#numu_other = numu_other+energy_cut\n",
    "\n",
    "num_fidVol = {}\n",
    "for x in sample:\n",
    "    x.SetAlias('fidVol',fidVol)\n",
    "    x.SetAlias('MCfidVol',MCfidVol)\n",
    "    x.SetAlias('numu_signal',numu_signal)\n",
    "    x.SetAlias('numu_true',numu_true)\n",
    "    x.SetAlias('numu_nomuon',numu_nomuon)\n",
    "    x.SetAlias('numu_nue',numu_nue)\n",
    "    x.SetAlias('numu_nc',numu_nc)\n",
    "    x.SetAlias('numu_ov',numu_ov)\n",
    "    x.SetAlias('numu_antinu',numu_antinu)\n",
    "    x.SetAlias('numu_cosmic',numu_cosmic)\n",
    "    num_fidVol[x] = x.GetEntries('fidVol && muon')*scale[x]\n",
    "    \n",
    "tot_num_fidVol = num_fidVol[ext]+num_fidVol[dirt]+num_fidVol[overlay]\n",
    "overlay_signals = ['numu_cosmic','numu_ov','numu_nc','numu_antinu','numu_nue','numu_nomuon','numu_signal']\n",
    "\n",
    "for x in sample_out:\n",
    "    x.SetAlias('muon','(track_key == key_muon)')\n",
    "\n",
    "#num_fidVol = {}\n",
    "for x in sample_out:\n",
    "    x.SetAlias('fidVol',fidVol)\n",
    "    x.SetAlias('MCfidVol',MCfidVol)\n",
    "    x.SetAlias('numu_signal',numu_signal)\n",
    "    x.SetAlias('numu_true',numu_true)\n",
    "    x.SetAlias('numu_nomuon',numu_nomuon)\n",
    "    x.SetAlias('numu_nue',numu_nue)\n",
    "    x.SetAlias('numu_nc',numu_nc)\n",
    "    x.SetAlias('numu_ov',numu_ov)\n",
    "    x.SetAlias('numu_antinu',numu_antinu)\n",
    "    x.SetAlias('numu_cosmic',numu_cosmic)"
   ]
  },
  {
   "cell_type": "code",
   "execution_count": null,
   "metadata": {},
   "outputs": [],
   "source": []
  },
  {
   "cell_type": "code",
   "execution_count": 9,
   "metadata": {},
   "outputs": [
    {
     "name": "stderr",
     "output_type": "stream",
     "text": [
      "Warning in <TCanvas::Constructor>: Deleting canvas with same name: c1\n"
     ]
    }
   ],
   "source": [
    "# Load the global variables for access of functions\n",
    "NuCC.loadGlobal(data,ext,dirt,overlay,data_out,ext_out,dirt_out,overlay_out,scale,scale_out,tot_num_fidVol,overlay_signals,sample,sample_out, name,name_out, outputdir_png, outputdir_root,outputdir_pdf)\n",
    "#NuCC.printGlobal()"
   ]
  },
  {
   "cell_type": "code",
   "execution_count": 10,
   "metadata": {},
   "outputs": [],
   "source": [
    "# initialte ROOT default canvas\n",
    "ROOT.gStyle.SetOptStat(0)\n",
    "c1 = ROOT.TCanvas(\"c1\",\"c1\",1600,1200)\n",
    "c1.SetGrid(1)\n",
    "c1.SetLeftMargin(0.14)\n",
    "c1.SetRightMargin(0.05)\n",
    "c1.SetBottomMargin(0.14)"
   ]
  },
  {
   "cell_type": "code",
   "execution_count": 11,
   "metadata": {},
   "outputs": [],
   "source": [
    "\n",
    "track_start_border_x = '(TrackStart_x_sce <(-1.55+5) || TrackStart_x_sce > (254.8-5))'\n",
    "track_end_border_x = '(TrackEnd_x_sce <(-1.55+5) || TrackEnd_x_sce > (254.8-5))'\n",
    "track_start_border_y = '(TrackStart_y_sce <(-115.53+5) || TrackStart_y_sce > (117.47-5))'\n",
    "track_end_border_y = '(TrackEnd_y_sce <(-115.53+5) || TrackEnd_y_sce > (117.47-5))'\n",
    "track_start_border_z = '(TrackStart_z_sce <(0.1+5) || TrackStart_z_sce > (1036.9-5))'\n",
    "track_end_border_z = '(TrackEnd_z_sce <(0.1+5) || TrackEnd_z_sce > (1039.9-5))'\n",
    "\n",
    "track_end_uncontained = '(' + track_end_border_x + ' || ' + track_end_border_y + ' || ' + track_end_border_z+ ')'\n",
    "\n",
    "\n",
    "data.SetAlias(\"track_end_uncontained\",track_end_uncontained)\n",
    "ext.SetAlias(\"track_end_uncontained\",track_end_uncontained)\n",
    "overlay.SetAlias(\"track_end_uncontained\",track_end_uncontained)\n",
    "dirt.SetAlias(\"track_end_uncontained\",track_end_uncontained)\n",
    "data_out.SetAlias(\"track_end_uncontained\",track_end_uncontained)\n",
    "ext_out.SetAlias(\"track_end_uncontained\",track_end_uncontained)\n",
    "overlay_out.SetAlias(\"track_end_uncontained\",track_end_uncontained)\n",
    "dirt_out.SetAlias(\"track_end_uncontained\",track_end_uncontained)\n",
    "\n",
    "data.SetAlias(\"crt_cut\",\"(abs(crtt0_time+(crt_trig_corr_med)/1000-4)<0.9 || crtt0_time==-1)\")\n",
    "ext.SetAlias(\"crt_cut\",\"(abs(crtt0_time+(crt_trig_corr_med)/1000-3.57+3.195-4)<0.9 || crtt0_time==-1)\")\n",
    "overlay.SetAlias(\"crt_cut\",\"(abs(crtt0_time-3.95)<0.9 || crtt0_time==-1)\")\n",
    "dirt.SetAlias(\"crt_cut\",\"(abs(crtt0_time-3.95)<0.9 || crtt0_time==-1)\")\n",
    "data_out.SetAlias(\"crt_cut\",\"(abs(crtt0_time+(crt_trig_corr_med)/1000-3.95)<0.9 || crtt0_time==-1)\")\n",
    "ext_out.SetAlias(\"crt_cut\",\"(abs(crtt0_time+(crt_trig_corr_med)/1000-3.57+3.195-3.95)<0.9 || crtt0_time==-1)\")\n",
    "overlay_out.SetAlias(\"crt_cut\",\"(abs(crtt0_time-3.95)<0.9 || crtt0_time==-1)\")\n",
    "dirt_out.SetAlias(\"crt_cut\",\"(abs(crtt0_time-3.95)<0.9 || crtt0_time==-1)\")\n",
    "\n",
    "crt_tom_cut = 'nr_crthit_top==0 && crthit_vertex_zcut==0 && (track_end_uncontained==1 || nr_crthit_beam_tres==0) && crt_cut'\n",
    "\n",
    "data.SetAlias(\"crt_tom_cut\",crt_tom_cut)\n",
    "ext.SetAlias(\"crt_tom_cut\",crt_tom_cut)\n",
    "overlay.SetAlias(\"crt_tom_cut\",crt_tom_cut)\n",
    "dirt.SetAlias(\"crt_tom_cut\",crt_tom_cut)\n",
    "data_out.SetAlias(\"crt_tom_cut\",crt_tom_cut)\n",
    "ext_out.SetAlias(\"crt_tom_cut\",crt_tom_cut)\n",
    "overlay_out.SetAlias(\"crt_tom_cut\",crt_tom_cut)\n",
    "dirt_out.SetAlias(\"crt_tom_cut\",crt_tom_cut)\n",
    "\n",
    "weight_name = 'EventWeight*TunedCentralValue_Genie'\n"
   ]
  },
  {
   "cell_type": "code",
   "execution_count": 12,
   "metadata": {},
   "outputs": [],
   "source": [
    "def draw_adding():\n",
    "    prelim = ROOT.TLatex(0.9,0.93, \"MicroBooNE Preliminary\");\n",
    "    prelim.SetTextFont(62);\n",
    "    prelim.SetTextColor(ROOT.kGray+2);\n",
    "    prelim.SetNDC();\n",
    "    prelim.SetTextSize(1/25.);\n",
    "    prelim.SetTextAlign(32);\n",
    "    #prelim.SetTextSize(0.04631579);\n",
    "    prelim.Draw()\n",
    "\n",
    "    pot_latex = ROOT.TLatex(.10, .92,'Accumulated POT: '+str(pot_data)) \n",
    "    pot_latex.SetTextFont(62);\n",
    "    pot_latex.SetTextColor(ROOT.kGray+2);\n",
    "    pot_latex.SetNDC();\n",
    "    pot_latex.SetTextSize(1/25.);\n",
    "    pot_latex.SetTextAlign(10) #;//left adjusted\n",
    "    pot_latex.Draw();\n",
    "    \n",
    "    return prelim, pot_latex\n",
    "\n",
    "def draw_sim():\n",
    "    prelim = ROOT.TLatex(0.9,0.93, \"MicroBooNE Simulation Preliminary\");\n",
    "    prelim.SetTextFont(62);\n",
    "    prelim.SetTextColor(ROOT.kGray+2);\n",
    "    prelim.SetNDC();\n",
    "    prelim.SetTextSize(1/20.);\n",
    "    prelim.SetTextAlign(32);\n",
    "    #prelim.SetTextSize(0.04631579);\n",
    "    prelim.Draw()\n",
    "    \n",
    "    return prelim"
   ]
  },
  {
   "cell_type": "code",
   "execution_count": 13,
   "metadata": {},
   "outputs": [],
   "source": [
    "#plot efficiency per cut\n",
    "\n",
    "#NuCC_w.plot_eff_all_w('cos(MCNu_leptonTheta)',-1,1.0001,20,'True cos(#theta) angle of #mu','costheta','left')\n",
    "#NuCC_w.plot_eff_all_w('MCle_Phi',-3.15,3.15,20,'True #phi angle of #mu','phi','left')\n",
    "#NuCC_w.plot_eff_all_w('MCNu_Energy',0,2.5,20,'True #nu_{#mu} energy [GeV]','nu_energy','left')\n",
    "#NuCC_w.plot_eff_all_w('MCle_Energy',0,2.5,20,'True #mu momentum [GeV]','muon_momentum','left')"
   ]
  },
  {
   "cell_type": "code",
   "execution_count": 14,
   "metadata": {},
   "outputs": [],
   "source": [
    "#plot efficiency per cut\n",
    "\n",
    "#NuCC_w.plot_eff_crt_w('cos(MCNu_leptonTheta)',-1,1.0001,20,'True cos(#theta) angle of #mu','costheta','left')\n",
    "#NuCC_w.plot_eff_crt_w('MCle_Phi',-3.15,3.15,20,'True #phi angle of #mu','phi','left')\n",
    "#NuCC_w.plot_eff_crt_w('MCNu_Energy',0,2.5,20,'True #nu_{#mu} energy [GeV]','nu_energy','left')\n",
    "#NuCC_w.plot_eff_crt_w('MCle_Energy',0,2.5,20,'True #mu momentum [GeV]','muon_momentum','left')\n"
   ]
  },
  {
   "cell_type": "code",
   "execution_count": 15,
   "metadata": {},
   "outputs": [],
   "source": [
    "#plot efficiency per cut relative to precut\n",
    "\n",
    "#NuCC_w.plot_eff_all_rel_w('cos(MCNu_leptonTheta)',-1,1.0001,20,'True cos(#theta) angle of #mu','costheta','left')\n",
    "#NuCC_w.plot_eff_all_rel_w('MCle_Phi',-3.15,3.15,20,'True #phi angle of #mu','phi','left')\n",
    "#NuCC_w.plot_eff_all_rel_w('MCNu_Energy',0,2.5,20,'True #nu_{#mu} energy [GeV]','nu_energy','left')\n",
    "#NuCC_w.plot_eff_all_rel_w('MCle_Energy',0,2.5,20,'True #mu momentum [GeV]','muon_momentum','left')\n"
   ]
  },
  {
   "cell_type": "code",
   "execution_count": 16,
   "metadata": {},
   "outputs": [],
   "source": [
    "#plot efficiency per cut relative to precut\n",
    "\n",
    "#NuCC_w.plot_eff_crt_rel_w('cos(MCNu_leptonTheta)',-1,1.0001,20,'True cos(#theta) angle of #mu','costheta','left')\n",
    "#NuCC_w.plot_eff_crt_rel_w('MCle_Phi',-3.15,3.15,20,'True #phi angle of #mu','phi','left')\n",
    "#NuCC_w.plot_eff_crt_rel_w('MCNu_Energy',0,2.5,20,'True #nu_{#mu} energy [GeV]','nu_energy','left')\n",
    "#NuCC_w.plot_eff_crt_rel_w('MCle_Energy',0,2.5,20,'True #mu momentum [GeV]','muon_momentum','left')\n"
   ]
  },
  {
   "cell_type": "code",
   "execution_count": 19,
   "metadata": {},
   "outputs": [],
   "source": [
    "cut = 'fidVol && muon && TrackLength>8 && crt_tom_cut && TrackScore>0.8\\\n",
    "                && TrackLength>20 && TrackPID_chiproton>78 && NuScore>0.1 && numu_signal'\n",
    "\n",
    "#NuCC_w.eff_channel_histo(cut,'MCNu_Energy',0,2.5,20,'True #nu_{#mu} energy [GeV]','true_energy','right')\n",
    "#NuCC_w.eff_channel_histo(cut,'cos(MCNu_leptonTheta)',-1,1,20,'True cos(#theta) angle of #mu','true_cos(theta)','left')\n",
    "#NuCC_w.eff_channel_histo(cut,'MCle_Energy',0,2.5,20,'True #mu momentum [GeV]','true_momentum','right')\n",
    "#NuCC_w.eff_channel_histo(cut,'MCle_Phi',-3.15,3.15,20,'True #phi angle of #mu','true_phi','left')"
   ]
  },
  {
   "cell_type": "code",
   "execution_count": 20,
   "metadata": {},
   "outputs": [
    {
     "name": "stderr",
     "output_type": "stream",
     "text": [
      "Info in <TCanvas::MakeDefCanvas>:  created default TCanvas with name c1\n",
      "Warning in <TCanvas::Constructor>: Deleting canvas with same name: c1\n",
      "Info in <TCanvas::Print>: png file /home/tmettler/Desktop/v08_00_00_33/V08_00_00_35/weighted_improved/muon_cut_thesis/png/h_channels_true_energy_generated.png has been created\n",
      "Info in <TCanvas::SaveAs>: ROOT file /home/tmettler/Desktop/v08_00_00_33/V08_00_00_35/weighted_improved/muon_cut_thesis/root/h_channels_true_energy_generated.root has been created\n",
      "Info in <TCanvas::Print>: pdf file /home/tmettler/Desktop/v08_00_00_33/V08_00_00_35/weighted_improved/muon_cut_thesis/pdf/h_channels_true_energy_generated.pdf has been created\n",
      "Warning in <TROOT::Append>: Replacing existing TH1: QE (Potential memory leak).\n",
      "Warning in <TROOT::Append>: Replacing existing TH1: MEC (Potential memory leak).\n",
      "Warning in <TROOT::Append>: Replacing existing TH1: RES (Potential memory leak).\n",
      "Warning in <TROOT::Append>: Replacing existing TH1: COH (Potential memory leak).\n",
      "Warning in <TROOT::Append>: Replacing existing TH1: DIS (Potential memory leak).\n",
      "Warning in <TROOT::Append>: Replacing existing TH1: other (Potential memory leak).\n",
      "Info in <TCanvas::MakeDefCanvas>:  created default TCanvas with name c1\n",
      "Warning in <TCanvas::Constructor>: Deleting canvas with same name: c1\n",
      "Info in <TCanvas::Print>: png file /home/tmettler/Desktop/v08_00_00_33/V08_00_00_35/weighted_improved/muon_cut_thesis/png/h_channels_true_cos(theta)_generated.png has been created\n",
      "Info in <TCanvas::SaveAs>: ROOT file /home/tmettler/Desktop/v08_00_00_33/V08_00_00_35/weighted_improved/muon_cut_thesis/root/h_channels_true_cos(theta)_generated.root has been created\n",
      "Info in <TCanvas::Print>: pdf file /home/tmettler/Desktop/v08_00_00_33/V08_00_00_35/weighted_improved/muon_cut_thesis/pdf/h_channels_true_cos(theta)_generated.pdf has been created\n",
      "Warning in <TROOT::Append>: Replacing existing TH1: QE (Potential memory leak).\n",
      "Warning in <TROOT::Append>: Replacing existing TH1: MEC (Potential memory leak).\n",
      "Warning in <TROOT::Append>: Replacing existing TH1: RES (Potential memory leak).\n",
      "Warning in <TROOT::Append>: Replacing existing TH1: COH (Potential memory leak).\n",
      "Warning in <TROOT::Append>: Replacing existing TH1: DIS (Potential memory leak).\n",
      "Warning in <TROOT::Append>: Replacing existing TH1: other (Potential memory leak).\n",
      "Info in <TCanvas::MakeDefCanvas>:  created default TCanvas with name c1\n",
      "Warning in <TCanvas::Constructor>: Deleting canvas with same name: c1\n",
      "Info in <TCanvas::Print>: png file /home/tmettler/Desktop/v08_00_00_33/V08_00_00_35/weighted_improved/muon_cut_thesis/png/h_channels_true_momentum_generated.png has been created\n",
      "Info in <TCanvas::SaveAs>: ROOT file /home/tmettler/Desktop/v08_00_00_33/V08_00_00_35/weighted_improved/muon_cut_thesis/root/h_channels_true_momentum_generated.root has been created\n",
      "Info in <TCanvas::Print>: pdf file /home/tmettler/Desktop/v08_00_00_33/V08_00_00_35/weighted_improved/muon_cut_thesis/pdf/h_channels_true_momentum_generated.pdf has been created\n",
      "Warning in <TROOT::Append>: Replacing existing TH1: QE (Potential memory leak).\n",
      "Warning in <TROOT::Append>: Replacing existing TH1: MEC (Potential memory leak).\n",
      "Warning in <TROOT::Append>: Replacing existing TH1: RES (Potential memory leak).\n",
      "Warning in <TROOT::Append>: Replacing existing TH1: COH (Potential memory leak).\n",
      "Warning in <TROOT::Append>: Replacing existing TH1: DIS (Potential memory leak).\n",
      "Warning in <TROOT::Append>: Replacing existing TH1: other (Potential memory leak).\n",
      "Info in <TCanvas::MakeDefCanvas>:  created default TCanvas with name c1\n",
      "Warning in <TCanvas::Constructor>: Deleting canvas with same name: c1\n",
      "Info in <TCanvas::Print>: png file /home/tmettler/Desktop/v08_00_00_33/V08_00_00_35/weighted_improved/muon_cut_thesis/png/h_channels_true_phi_generated.png has been created\n",
      "Info in <TCanvas::SaveAs>: ROOT file /home/tmettler/Desktop/v08_00_00_33/V08_00_00_35/weighted_improved/muon_cut_thesis/root/h_channels_true_phi_generated.root has been created\n",
      "Info in <TCanvas::Print>: pdf file /home/tmettler/Desktop/v08_00_00_33/V08_00_00_35/weighted_improved/muon_cut_thesis/pdf/h_channels_true_phi_generated.pdf has been created\n"
     ]
    }
   ],
   "source": [
    "cut = 'numu_true'\n",
    "name = 'generated'\n",
    "NuCC_w.make_channel_histo(cut,'MCNu_Energy',0,2.5,20,'Truth neutrino energy [GeV]','true_energy_'+name,'right')\n",
    "NuCC_w.make_channel_histo(cut,'cos(MCNu_leptonTheta)',-1,1.001,20,'True cos(theta)','true_cos(theta)_'+name,'left')\n",
    "NuCC_w.make_channel_histo(cut,'MCle_Energy',0,2.5,20,'Truth muon momentum [GeV]','true_momentum_'+name,'right')\n",
    "NuCC_w.make_channel_histo(cut,'MCle_Phi',-3.15,3.15,20,'Truth muon phi','true_phi_'+name,'right')"
   ]
  },
  {
   "cell_type": "code",
   "execution_count": 2,
   "metadata": {},
   "outputs": [
    {
     "ename": "NameError",
     "evalue": "name 'NuCC_w' is not defined",
     "output_type": "error",
     "traceback": [
      "\u001b[0;31m---------------------------------------------------------------------------\u001b[0m",
      "\u001b[0;31mNameError\u001b[0m                                 Traceback (most recent call last)",
      "\u001b[0;32m<ipython-input-2-624473d8e97e>\u001b[0m in \u001b[0;36m<module>\u001b[0;34m()\u001b[0m\n\u001b[1;32m      2\u001b[0m \u001b[0mname\u001b[0m \u001b[0;34m=\u001b[0m \u001b[0;34m'selected'\u001b[0m\u001b[0;34m\u001b[0m\u001b[0m\n\u001b[1;32m      3\u001b[0m \u001b[0;34m\u001b[0m\u001b[0m\n\u001b[0;32m----> 4\u001b[0;31m \u001b[0mNuCC_w\u001b[0m\u001b[0;34m.\u001b[0m\u001b[0mmake_channel_histo\u001b[0m\u001b[0;34m(\u001b[0m\u001b[0mcut\u001b[0m\u001b[0;34m,\u001b[0m\u001b[0;34m'MCNu_Energy'\u001b[0m\u001b[0;34m,\u001b[0m\u001b[0;36m0\u001b[0m\u001b[0;34m,\u001b[0m\u001b[0;36m2.5\u001b[0m\u001b[0;34m,\u001b[0m\u001b[0;36m20\u001b[0m\u001b[0;34m,\u001b[0m\u001b[0;34m'Truth neutrino energy [GeV]'\u001b[0m\u001b[0;34m,\u001b[0m\u001b[0;34m'true_energy_'\u001b[0m\u001b[0;34m+\u001b[0m\u001b[0mname\u001b[0m\u001b[0;34m,\u001b[0m\u001b[0;34m'right'\u001b[0m\u001b[0;34m)\u001b[0m\u001b[0;34m\u001b[0m\u001b[0m\n\u001b[0m\u001b[1;32m      5\u001b[0m \u001b[0mNuCC_w\u001b[0m\u001b[0;34m.\u001b[0m\u001b[0mmake_channel_histo\u001b[0m\u001b[0;34m(\u001b[0m\u001b[0mcut\u001b[0m\u001b[0;34m,\u001b[0m\u001b[0;34m'cos(MCNu_leptonTheta)'\u001b[0m\u001b[0;34m,\u001b[0m\u001b[0;34m-\u001b[0m\u001b[0;36m1\u001b[0m\u001b[0;34m,\u001b[0m\u001b[0;36m1.001\u001b[0m\u001b[0;34m,\u001b[0m\u001b[0;36m20\u001b[0m\u001b[0;34m,\u001b[0m\u001b[0;34m'True cos(theta)'\u001b[0m\u001b[0;34m,\u001b[0m\u001b[0;34m'true_cos(theta)_'\u001b[0m\u001b[0;34m+\u001b[0m\u001b[0mname\u001b[0m\u001b[0;34m,\u001b[0m\u001b[0;34m'left'\u001b[0m\u001b[0;34m)\u001b[0m\u001b[0;34m\u001b[0m\u001b[0m\n\u001b[1;32m      6\u001b[0m \u001b[0mNuCC_w\u001b[0m\u001b[0;34m.\u001b[0m\u001b[0mmake_channel_histo\u001b[0m\u001b[0;34m(\u001b[0m\u001b[0mcut\u001b[0m\u001b[0;34m,\u001b[0m\u001b[0;34m'MCle_Energy'\u001b[0m\u001b[0;34m,\u001b[0m\u001b[0;36m0\u001b[0m\u001b[0;34m,\u001b[0m\u001b[0;36m2.5\u001b[0m\u001b[0;34m,\u001b[0m\u001b[0;36m20\u001b[0m\u001b[0;34m,\u001b[0m\u001b[0;34m'Truth muon momentum [GeV]'\u001b[0m\u001b[0;34m,\u001b[0m\u001b[0;34m'true_momentum_'\u001b[0m\u001b[0;34m+\u001b[0m\u001b[0mname\u001b[0m\u001b[0;34m,\u001b[0m\u001b[0;34m'right'\u001b[0m\u001b[0;34m)\u001b[0m\u001b[0;34m\u001b[0m\u001b[0m\n",
      "\u001b[0;31mNameError\u001b[0m: name 'NuCC_w' is not defined"
     ]
    }
   ],
   "source": [
    "cut = 'fidVol && muon && TrackLength>8 && crt_tom_cut && TrackScore>0.8\\\n",
    "                && TrackLength>20 && TrackPID_chiproton>78 && NuScore>0.1 && numu_signal'\n",
    "name = 'selected'\n",
    "\n",
    "NuCC_w.make_channel_histo(cut,'MCNu_Energy',0,2.5,20,'Truth neutrino energy [GeV]','true_energy_'+name,'right')\n",
    "NuCC_w.make_channel_histo(cut,'cos(MCNu_leptonTheta)',-1,1.001,20,'True cos(theta)','true_cos(theta)_'+name,'left')\n",
    "NuCC_w.make_channel_histo(cut,'MCle_Energy',0,2.5,20,'Truth muon momentum [GeV]','true_momentum_'+name,'right')\n",
    "NuCC_w.make_channel_histo(cut,'MCle_Phi',-3.15,3.15,20,'Truth muon phi','true_phi_'+name,'right')"
   ]
  },
  {
   "cell_type": "code",
   "execution_count": 18,
   "metadata": {},
   "outputs": [
    {
     "ename": "NameError",
     "evalue": "name 'dtrhrty' is not defined",
     "output_type": "error",
     "traceback": [
      "\u001b[0;31m\u001b[0m",
      "\u001b[0;31mNameError\u001b[0mTraceback (most recent call last)",
      "\u001b[0;32m<ipython-input-18-427b56c8c9d2>\u001b[0m in \u001b[0;36m<module>\u001b[0;34m()\u001b[0m\n\u001b[0;32m----> 1\u001b[0;31m \u001b[0mdtrhrty\u001b[0m\u001b[0;34m\u001b[0m\u001b[0m\n\u001b[0m",
      "\u001b[0;31mNameError\u001b[0m: name 'dtrhrty' is not defined"
     ]
    }
   ],
   "source": [
    "dtrhrty"
   ]
  },
  {
   "cell_type": "code",
   "execution_count": null,
   "metadata": {},
   "outputs": [],
   "source": []
  },
  {
   "cell_type": "code",
   "execution_count": null,
   "metadata": {},
   "outputs": [],
   "source": [
    "NuCC_w.printEff_w2('fidVol && muon')"
   ]
  },
  {
   "cell_type": "code",
   "execution_count": null,
   "metadata": {},
   "outputs": [],
   "source": [
    "NuCC_w.printEff_w('fidVol && muon')"
   ]
  },
  {
   "cell_type": "code",
   "execution_count": null,
   "metadata": {},
   "outputs": [],
   "source": []
  },
  {
   "cell_type": "code",
   "execution_count": null,
   "metadata": {},
   "outputs": [],
   "source": [
    "NuCC_w.printEff_w2('fidVol && muon && nr_crthit_top==0')"
   ]
  },
  {
   "cell_type": "code",
   "execution_count": null,
   "metadata": {},
   "outputs": [],
   "source": [
    "NuCC_w.printEff_w2('fidVol && muon && nr_crthit_top==0 && crthit_vertex_zcut==0')"
   ]
  },
  {
   "cell_type": "code",
   "execution_count": null,
   "metadata": {},
   "outputs": [],
   "source": [
    "NuCC_w.printEff_w2('fidVol && muon && nr_crthit_top==0 && crthit_vertex_zcut==0 && (track_end_uncontained==1 || nr_crthit_beam_tres==0)')"
   ]
  },
  {
   "cell_type": "code",
   "execution_count": null,
   "metadata": {},
   "outputs": [],
   "source": [
    "NuCC_w.printEff_w2('fidVol && muon && nr_crthit_top==0 && crthit_vertex_zcut==0 && (track_end_uncontained==1 || nr_crthit_beam_tres==0) && crt_cut')"
   ]
  },
  {
   "cell_type": "code",
   "execution_count": null,
   "metadata": {},
   "outputs": [],
   "source": [
    "NuCC_w.printEff_w2('fidVol && muon && crt_tom_cut')"
   ]
  },
  {
   "cell_type": "code",
   "execution_count": null,
   "metadata": {},
   "outputs": [],
   "source": [
    "NuCC_w.printEff_w2('fidVol && muon && crt_tom_cut && TrackScore>0.8')"
   ]
  },
  {
   "cell_type": "code",
   "execution_count": null,
   "metadata": {},
   "outputs": [],
   "source": [
    "NuCC_w.printEff_w2('fidVol && muon && crt_tom_cut && TrackScore>0.8\\\n",
    "                && TrackLength>20')"
   ]
  },
  {
   "cell_type": "code",
   "execution_count": null,
   "metadata": {},
   "outputs": [],
   "source": [
    "NuCC_w.printEff_w2('fidVol && muon && crt_tom_cut && TrackScore>0.8\\\n",
    "                && TrackLength>20 && TrackPID_chiproton>78')"
   ]
  },
  {
   "cell_type": "code",
   "execution_count": null,
   "metadata": {},
   "outputs": [],
   "source": [
    "NuCC_w.printEff_w2('fidVol && muon && crt_tom_cut && TrackScore>0.8\\\n",
    "                && TrackLength>20 && TrackPID_chiproton>78 && NuScore>0.1')"
   ]
  },
  {
   "cell_type": "markdown",
   "metadata": {},
   "source": [
    "# now without CRT cut"
   ]
  },
  {
   "cell_type": "code",
   "execution_count": null,
   "metadata": {},
   "outputs": [],
   "source": [
    "NuCC_w.printEff_w2('fidVol && muon && TrackScore>0.8')"
   ]
  },
  {
   "cell_type": "code",
   "execution_count": null,
   "metadata": {},
   "outputs": [],
   "source": [
    "NuCC_w.printEff_w2('fidVol && muon && TrackScore>0.8\\\n",
    "                && TrackLength>20')"
   ]
  },
  {
   "cell_type": "code",
   "execution_count": null,
   "metadata": {},
   "outputs": [],
   "source": [
    "NuCC_w.printEff_w2('fidVol && muon && TrackScore>0.8\\\n",
    "                && TrackLength>20 && TrackPID_chiproton>78')"
   ]
  },
  {
   "cell_type": "code",
   "execution_count": null,
   "metadata": {},
   "outputs": [],
   "source": [
    "NuCC_w.printEff_w2('fidVol && muon && TrackScore>0.8\\\n",
    "                && TrackLength>20 && TrackPID_chiproton>78 && NuScore>0.1')"
   ]
  },
  {
   "cell_type": "code",
   "execution_count": null,
   "metadata": {},
   "outputs": [],
   "source": [
    "ersfsdfgdsfg"
   ]
  },
  {
   "cell_type": "code",
   "execution_count": null,
   "metadata": {},
   "outputs": [],
   "source": [
    "\n",
    "eff_cut = [69.17,67.20,66.55,66.01,63.65,62.25,61.60,61.42,55.62]\n",
    "pur_cut = [33.23,39.09,42.14,43.92,47.09,50.40,55.00,57.81,72.04]\n",
    "effpur_cut = [22.98,26.27,28.05,28.99,29.97,31.37,33.88,35.51,40.07]\n",
    "\n",
    "eff_cut_nocrt = [69.17,69.17,69.17,69.17,69.17,67.58,66.83,66.64,60.11]\n",
    "pur_cut_nocrt = [33.23,33.23,33.23,33.23,33.23,35.60,38.40,40.06,60.08]\n",
    "effpur_cut_nocrt = [22.98,22.98,22.98,22.98,22.98,24.06,25.66,26.70,36.11]\n",
    "\n",
    "h_eff_cut = ROOT.TH1F('h_eff_cut','h_eff_cut',len(eff_cut),0,len(eff_cut))\n",
    "h_pur_cut = ROOT.TH1F('h_pur_cut','h_pur_cut',len(eff_cut),0,len(eff_cut))\n",
    "h_effpur_cut = ROOT.TH1F('h_effpur_cut','h_effpur_cut',len(eff_cut),0,len(eff_cut))\n",
    "\n",
    "h_eff_cut1 = ROOT.TH1F('h_eff_cut1','h_eff_cut1',len(eff_cut),0,len(eff_cut))\n",
    "h_pur_cut1 = ROOT.TH1F('h_pur_cut1','h_pur_cut1',len(eff_cut),0,len(eff_cut))\n",
    "h_effpur_cut1 = ROOT.TH1F('h_effpur_cut1','h_effpur_cut1',len(eff_cut),0,len(eff_cut))\n",
    "\n",
    "for i in range(1,len(eff_cut)+1):\n",
    "    h_eff_cut.SetBinContent(i,eff_cut[i-1])\n",
    "    h_pur_cut.SetBinContent(i,pur_cut[i-1])\n",
    "    h_effpur_cut.SetBinContent(i,effpur_cut[i-1])\n",
    "    h_eff_cut1.SetBinContent(i,eff_cut_nocrt[i-1])\n",
    "    h_pur_cut1.SetBinContent(i,pur_cut_nocrt[i-1])\n",
    "    h_effpur_cut1.SetBinContent(i,effpur_cut_nocrt[i-1])\n",
    "\n",
    "    \n",
    "    \n",
    "legend = ROOT.TLegend(0.55,0.7,0.9,0.9) # LEGEND LEFT\n",
    "legend.AddEntry(h_eff_cut,\"Efficiency\",\"lep\");\n",
    "legend.AddEntry(h_pur_cut,\"Purity\",\"lep\");\n",
    "legend.AddEntry(h_effpur_cut,\"Efficiency * Purity\",\"lep\");\n",
    "\n",
    "h_eff_cut.SetMinimum(0)\n",
    "h_eff_cut.SetMaximum(100)\n",
    "\n",
    "h_eff_cut.SetLineColor(ROOT.kGreen+2)\n",
    "h_eff_cut.SetLineWidth(4)\n",
    "h_eff_cut.SetMarkerSize(2)\n",
    "h_eff_cut.SetMarkerStyle(33)\n",
    "\n",
    "h_pur_cut.SetLineColor(ROOT.kRed)\n",
    "h_pur_cut.SetLineWidth(4)\n",
    "h_pur_cut.SetMarkerSize(2)\n",
    "h_pur_cut.SetMarkerStyle(33)\n",
    "\n",
    "h_effpur_cut.SetLineColor(ROOT.kOrange)\n",
    "h_effpur_cut.SetLineWidth(4)\n",
    "h_effpur_cut.SetMarkerSize(2)\n",
    "h_effpur_cut.SetMarkerStyle(33)\n",
    "\n",
    "h_pur_cut1.SetLineColorAlpha(ROOT.kRed,0.1)\n",
    "h_pur_cut1.SetLineWidth(4)\n",
    "h_pur_cut1.SetMarkerSize(2)\n",
    "h_pur_cut1.SetMarkerStyle(33)\n",
    "\n",
    "h_eff_cut1.SetLineColorAlpha(ROOT.kGreen+2,0.1)\n",
    "h_eff_cut1.SetLineWidth(4)\n",
    "h_eff_cut1.SetMarkerSize(2)\n",
    "h_eff_cut1.SetMarkerStyle(33)\n",
    "\n",
    "h_effpur_cut1.SetLineColorAlpha(ROOT.kOrange,0.1)\n",
    "h_effpur_cut1.SetLineWidth(4)\n",
    "h_effpur_cut1.SetMarkerSize(2)\n",
    "h_effpur_cut1.SetMarkerStyle(33)\n",
    "\n",
    "h_eff_cut.GetYaxis().SetTitleSize(0.05)\n",
    "h_eff_cut.GetYaxis().SetTitleOffset(0.0)\n",
    "h_eff_cut.GetYaxis().SetLabelSize(0.05)\n",
    "\n",
    "h_eff_cut.GetXaxis().SetTitleSize(0.15)\n",
    "h_eff_cut.GetXaxis().SetLabelSize(0.15)\n",
    "h_eff_cut.GetXaxis().SetTitleOffset(-999)\n",
    "h_eff_cut.GetXaxis().SetLabelOffset(0.02)\n",
    "h_eff_cut.GetXaxis().SetLabelSize(0.06)\n",
    "h_eff_cut.SetYTitle(\"Percent\")\n",
    "h_eff_cut.GetXaxis().SetBinLabel(1, 'SliceID')\n",
    "h_eff_cut.GetXaxis().SetBinLabel(2, 'Top veto')\n",
    "h_eff_cut.GetXaxis().SetBinLabel(3, 'CRT-TPC Z pos')\n",
    "h_eff_cut.GetXaxis().SetBinLabel(4, 'CRT veto cont')\n",
    "h_eff_cut.GetXaxis().SetBinLabel(5, 'CRT asso')\n",
    "h_eff_cut.GetXaxis().SetBinLabel(6, 'Track score')\n",
    "h_eff_cut.GetXaxis().SetBinLabel(7, 'Track length')\n",
    "h_eff_cut.GetXaxis().SetBinLabel(8, 'Proton PID')\n",
    "h_eff_cut.GetXaxis().SetBinLabel(9, 'Topo score')\n",
    "h_eff_cut.Draw('PL')\n",
    "h_pur_cut.Draw('PL same')\n",
    "h_effpur_cut.Draw('PL same')\n",
    "\n",
    "h_eff_cut1.Draw('PL same')\n",
    "h_pur_cut1.Draw('PL same')\n",
    "h_effpur_cut1.Draw('PL same')\n",
    "\n",
    "legend.Draw()\n",
    "#prelim, pot_tex = draw_adding()\n",
    "#prelim.Draw()\n",
    "#pot_tex.Draw()\n",
    "prelim = draw_sim()\n",
    "prelim.Draw()\n",
    "c1.SetRightMargin(0.1)\n",
    "c1.SetLeftMargin(0.15)\n",
    "c1.SetBottomMargin(0.15)\n",
    "c1.Draw()\n",
    "c1.SaveAs(outputdir_png + \"h_eff_pur_cut.png\")\n",
    "c1.SaveAs(outputdir_root + \"h_eff_pur_cut.root\")\n",
    "c1.SaveAs(outputdir_pdf + \"h_eff_pur_cut.pdf\")"
   ]
  },
  {
   "cell_type": "code",
   "execution_count": null,
   "metadata": {},
   "outputs": [],
   "source": []
  },
  {
   "cell_type": "code",
   "execution_count": null,
   "metadata": {},
   "outputs": [],
   "source": []
  },
  {
   "cell_type": "code",
   "execution_count": null,
   "metadata": {},
   "outputs": [],
   "source": []
  },
  {
   "cell_type": "code",
   "execution_count": null,
   "metadata": {},
   "outputs": [],
   "source": []
  }
 ],
 "metadata": {
  "kernelspec": {
   "display_name": "Python 3",
   "language": "python",
   "name": "python3"
  },
  "language_info": {
   "codemirror_mode": {
    "name": "ipython",
    "version": 2
   },
   "file_extension": ".py",
   "mimetype": "text/x-python",
   "name": "python",
   "nbconvert_exporter": "python",
   "pygments_lexer": "ipython2",
   "version": "2.7.12"
  }
 },
 "nbformat": 4,
 "nbformat_minor": 2
}
