{
 "cells": [
  {
   "cell_type": "code",
   "execution_count": 161,
   "metadata": {},
   "outputs": [],
   "source": [
    "import imp\n",
    "import uproot\n",
    "import matplotlib.pyplot as plt\n",
    "import matplotlib.image as mpimg\n",
    "import numpy as np\n",
    "import pandas as pd\n",
    "import os\n",
    "import ROOT\n",
    "import time\n",
    "import math\n",
    "helper = imp.load_source('helpfunction','/home/tmettler/Desktop/uBoone/do_plots/helpfunction.py')\n",
    "#import /home/tmettler/Desktop/uBoone/do_plots/helpfunction as helper\n",
    "from __future__ import division\n",
    "\n",
    "import collections\n",
    "NuCC = imp.load_source('NuCC_function','/home/tmettler/Desktop/uBoone/do_plots/NuCC_function.py')\n"
   ]
  },
  {
   "cell_type": "code",
   "execution_count": 162,
   "metadata": {},
   "outputs": [
    {
     "name": "stderr",
     "output_type": "stream",
     "text": [
      "Warning in <TCanvas::Constructor>: Deleting canvas with same name: c1\n",
      "Warning in <TCanvas::Constructor>: Deleting canvas with same name: c2\n"
     ]
    }
   ],
   "source": [
    "# initialte ROOT default canvas\n",
    "ROOT.gStyle.SetOptStat(0)\n",
    "c1 = ROOT.TCanvas(\"c1\",\"c1\",1100,260)\n",
    "c1.SetGrid(1)\n",
    "c1.SetLeftMargin(0.14)\n",
    "c1.SetRightMargin(0.18)\n",
    "c1.SetBottomMargin(0.14)\n",
    "\n",
    "ROOT.gStyle.SetOptStat(0)\n",
    "c2 = ROOT.TCanvas(\"c2\",\"c2\",1100,520)\n",
    "c2.SetGrid(1)\n",
    "c2.SetLeftMargin(0.14)\n",
    "c2.SetRightMargin(0.18)\n",
    "c2.SetBottomMargin(0.14)\n",
    "c2.Divide(2,1,0,0)"
   ]
  },
  {
   "cell_type": "code",
   "execution_count": 163,
   "metadata": {},
   "outputs": [],
   "source": [
    "# Load input files\n",
    "\n",
    "inputdir = '/home/tmettler/Desktop/ub_data/mcc9.1/v08_00_00_33/'\n",
    "outputdir = inputdir+'NumuCC_MuonCandidate/' \n",
    "outputdir_png, outputdir_root = NuCC.prepareOutput(outputdir)\n",
    "\n",
    "#filename_overlay = 'NuCCana_Overlay_V18_V4.root'\n",
    "filename_overlay = 'NuCCana_overlay_20k.root'\n",
    "filename_data = 'NuCCana_ext_2500ev.root'\n",
    "filename_ext = 'NuCCana_overlay_25ev.root'\n",
    "filename_dirt = 'NuCCana_dirt_2733ev.root'\n",
    "    \n",
    "tree_name = 'numuCCAna'"
   ]
  },
  {
   "cell_type": "code",
   "execution_count": 164,
   "metadata": {},
   "outputs": [
    {
     "name": "stdout",
     "output_type": "stream",
     "text": [
      "Overlay: Number of Entries:\t20000\n",
      "Data: Number of Entries:\t2500\n",
      "Ext: Number of Entries:\t\t2500\n",
      "Dirt: Number of Entries:\t2733\n",
      "\n",
      "POT: \n",
      "Data:\t\t1.2e+16\n",
      "Ext:\t\t0\n",
      "Overlay:\t3.75207128821e+19\n",
      "Dirt:\t\t8.33883890898e+18\n",
      "\n",
      "Scalefactors: \n",
      "Data:\t\t1.0\n",
      "Ext:\t\t0.00166666666667\n",
      "Overlay:\t0.000415770351939\n",
      "Dirt:\t\t0.00187076404404\n"
     ]
    }
   ],
   "source": [
    "#Open all the trees of the four files (data, ext, dirt, overlay)\n",
    "\n",
    "data, ext, dirt, overlay = NuCC.openTrees(inputdir, filename_data, filename_ext, filename_dirt, filename_overlay, tree_name)\n",
    "NuCC.printNumberOfEntries(data,ext,dirt,overlay)\n",
    "\n",
    "pot_overlay = NuCC.getPOT(inputdir,filename_overlay,tree_name)\n",
    "pot_dirt =  NuCC.getPOT(inputdir,filename_dirt,tree_name)\n",
    "\n",
    "pot_data =      2500*4.8e12 # tor860_wcut\n",
    "data_trigger = 2500.0 #4743794 # 1987072.0 # E1DCNT_wcut\n",
    "ext_trigger =  2500*600.0  #2120135 #5685315 # EXT\n",
    "'''\n",
    "pot_data =     1.25795274297e+18# tor860_wcut\n",
    "data_trigger = 1359818.0*0.4 # E1DCNT\n",
    "ext_trigger =  1359818.0  #2120135 #5685315 # EXT\n",
    "pot_overlay = 1.25795274297e+18/0.5\n",
    "pot_dirt = 1.25795274297e18/0.04\n",
    "'''\n",
    "print 'POT: '\n",
    "print 'Data:\\t\\t', pot_data\n",
    "print 'Ext:\\t\\t', 0\n",
    "print 'Overlay:\\t', pot_overlay\n",
    "print 'Dirt:\\t\\t', pot_dirt\n",
    "print ''\n",
    "sample = [data,ext,overlay,dirt]\n",
    "scale = {data:1.0,ext:1.0,overlay:1.0,dirt:1.0}\n",
    "name = {data:'data',ext:'ext',overlay:'overlay',dirt:'dirt'}\n",
    "\n",
    "scale[data], scale[ext], scale[dirt], scale[overlay] = NuCC.calculateScale(data_trigger, ext_trigger, pot_data, pot_dirt, pot_overlay)\n",
    "\n",
    "scale[dirt] = scale[dirt]*1.3\n",
    "scale[overlay] = scale[overlay]*1.3\n",
    "print 'Scalefactors: '\n",
    "print 'Data:\\t\\t', scale[data]\n",
    "print 'Ext:\\t\\t', scale[ext]\n",
    "print 'Overlay:\\t', scale[overlay]\n",
    "print 'Dirt:\\t\\t', scale[dirt]\n"
   ]
  },
  {
   "cell_type": "code",
   "execution_count": 165,
   "metadata": {},
   "outputs": [
    {
     "name": "stdout",
     "output_type": "stream",
     "text": [
      "Overlay: Number of Entries:\t19999\n",
      "Data: Number of Entries:\t2499\n",
      "Ext: Number of Entries:\t\t2499\n",
      "Dirt: Number of Entries:\t2732\n",
      "\n"
     ]
    }
   ],
   "source": [
    "if 1:\n",
    "    filename_overlay = 'NuCCana_overlay_20k.rootout33.root'\n",
    "    #filename_overlay = 'NuCCana_overlay_points_1kev.rootout2.root'\n",
    "    filename_data = 'NuCCana_ext_2500ev.rootout33.root'\n",
    "    filename_ext = 'NuCCana_ext_2500ev.rootout33.root'\n",
    "    filename_dirt = 'NuCCana_dirt_2733ev.rootout33.root'\n",
    "\n",
    "    tree_name = 't_out'\n",
    "\n",
    "    data_out, ext_out, dirt_out, overlay_out = NuCC.openTreesOut(inputdir, filename_data, filename_ext, filename_dirt, filename_overlay, tree_name)\n",
    "    NuCC.printNumberOfEntries(data_out,ext_out,dirt_out,overlay_out)\n",
    "\n",
    "    sample_out = [data_out,ext_out,overlay_out,dirt_out]\n",
    "    scale_out = {data_out:1.0,ext_out:1.0,overlay_out:1.0,dirt_out:1.0}\n",
    "    name_out = {data_out:'data',ext_out:'ext',overlay_out:'overlay',dirt_out:'dirt'}\n",
    "\n",
    "    scale_out[data_out], scale_out[ext_out], scale_out[dirt_out], scale_out[overlay_out] = NuCC.calculateScale(data_trigger, ext_trigger, pot_data, pot_dirt, pot_overlay)\n",
    "    scale_out[dirt_out] = scale_out[dirt_out]*1.3\n",
    "    scale_out[overlay_out] = scale_out[overlay_out]*1.3"
   ]
  },
  {
   "cell_type": "code",
   "execution_count": 166,
   "metadata": {},
   "outputs": [],
   "source": [
    "# Define signals\n",
    "\n",
    "fidVol = '(Nu_Vx_sce>(-1.55+10) && Nu_Vx_sce<(254.8-10)) && (Nu_Vy_sce>(-115.53+10) && Nu_Vy_sce<(117.47-10)) &&(Nu_Vz_sce>(-0.1+10) && Nu_Vz_sce<(1036.9-50))'\n",
    "MCfidVol = '(MCNu_Vx>(-1.55+10) && MCNu_Vx<(254.8-10)) && (MCNu_Vy>(-115.53+10) && MCNu_Vy<(117.47-10)) &&(MCNu_Vz>(-0.1+10) && MCNu_Vz<(1036.9-50))'\n",
    "numu_signal = 'fidVol && MCfidVol && MCNu_CCNC==0 && MCNu_PDG==14 && MCTrackPDG==13 && MCTrackPurity>0.5' # numu CC signal definition\n",
    "numu_true = 'MCfidVol && MCNu_CCNC==0 && MCNu_PDG==14' # numu CC signal definition\n",
    "numu_nomu = 'fidVol && MCfidVol && MCNu_CCNC==0 && MCNu_PDG==14 && MCTrackPDG!=13 && MCTrackPurity>0.5' # not an MC muon\n",
    "numu_lowpur = 'fidVol && MCfidVol && MCNu_CCNC==0 && MCNu_PDG==14 && MCTrackPurity<0.5' #low purity\n",
    "numu_nc = 'fidVol && MCfidVol && MCNu_CCNC==1' # nutral current\n",
    "numu_ov = 'fidVol && !MCfidVol' # out of fiducial\n",
    "numu_other = 'fidVol && MCfidVol && MCNu_CCNC==0 && MCNu_PDG!=14' # e.g anti nu or nue\n",
    "#signal = 'MCfidVol && MCNu_CCNC==0 && MCNu_PDG==14'\n",
    "for x in sample:\n",
    "    x.SetAlias('muon','(muon_candidate_key==track_key)')\n",
    "    \n",
    "num_fidVol = {}\n",
    "for x in sample:\n",
    "    x.SetAlias('fidVol',fidVol)\n",
    "    x.SetAlias('MCfidVol',MCfidVol)\n",
    "    x.SetAlias('numu_signal',numu_signal)\n",
    "    x.SetAlias('numu_true',numu_true)\n",
    "    x.SetAlias('numu_nomu',numu_nomu)\n",
    "    x.SetAlias('numu_lowpur',numu_lowpur)\n",
    "    x.SetAlias('numu_nc',numu_nc)\n",
    "    x.SetAlias('numu_ov',numu_ov)\n",
    "    x.SetAlias('numu_other',numu_other)\n",
    "    num_fidVol[x] = x.GetEntries('fidVol && muon')*scale[x]\n",
    "    \n",
    "tot_num_fidVol = num_fidVol[ext]+num_fidVol[dirt]+num_fidVol[overlay]\n",
    "overlay_signals = {'numu_signal','numu_nomu','numu_lowpur','numu_nc','numu_ov','numu_other'}"
   ]
  },
  {
   "cell_type": "code",
   "execution_count": 167,
   "metadata": {},
   "outputs": [],
   "source": [
    "for x in sample_out:\n",
    "    x.SetAlias('muon','(muon_candidate_key==track_key)')\n",
    "    \n",
    "num_fidVol = {}\n",
    "for x in sample_out:\n",
    "    x.SetAlias('fidVol',fidVol)\n",
    "    x.SetAlias('MCfidVol',MCfidVol)\n",
    "    x.SetAlias('numu_signal',numu_signal)\n",
    "    x.SetAlias('numu_true',numu_true)\n",
    "    x.SetAlias('numu_nomu',numu_nomu)\n",
    "    x.SetAlias('numu_lowpur',numu_lowpur)\n",
    "    x.SetAlias('numu_nc',numu_nc)\n",
    "    x.SetAlias('numu_ov',numu_ov)\n",
    "    x.SetAlias('numu_other',numu_other)\n",
    "    #num_fidVol[x] = x.GetEntries('fidVol && muon')*scale[x]\n",
    "    \n",
    "#tot_num_fidVol = num_fidVol[ext]+num_fidVol[dirt]+num_fidVol[overlay]\n",
    "#overlay_signals = {'numu_signal','numu_nomu','numu_lowpur','numu_nc','numu_ov','numu_other'}"
   ]
  },
  {
   "cell_type": "code",
   "execution_count": 168,
   "metadata": {},
   "outputs": [
    {
     "name": "stderr",
     "output_type": "stream",
     "text": [
      "Warning in <TCanvas::Constructor>: Deleting canvas with same name: c1\n"
     ]
    }
   ],
   "source": [
    "# Load the global variables for access of functions\n",
    "\n",
    "NuCC.loadGlobal(data,ext,dirt,overlay,data_out,ext_out,dirt_out,overlay_out,scale,scale_out,tot_num_fidVol,overlay_signals,sample,sample_out, name,name_out, outputdir_png, outputdir_root)\n",
    "#NuCC.printGlobal()"
   ]
  },
  {
   "cell_type": "code",
   "execution_count": 169,
   "metadata": {},
   "outputs": [
    {
     "data": {
      "text/plain": [
       "True"
      ]
     },
     "execution_count": 169,
     "metadata": {},
     "output_type": "execute_result"
    }
   ],
   "source": [
    "track_start_border_x = '(TrackStart_x_sce <(-1.55+10) || TrackStart_x_sce > (254.8-10))'\n",
    "track_end_border_x = '(TrackEnd_x_sce <(-1.55+10) || TrackEnd_x_sce > (254.8-10))'\n",
    "track_start_border_y = '(TrackStart_y_sce <(-115.53+10) || TrackStart_y_sce > (117.47-10))'\n",
    "track_end_border_y = '(TrackEnd_y_sce <(-115.53+10) || TrackEnd_y_sce > (117.47-10))'\n",
    "track_start_border_z = '(TrackStart_z_sce <(0.1+10) || TrackStart_z_sce > (1036.9-10))'\n",
    "track_end_border_z = '(TrackEnd_z_sce <(0.1+10) || TrackEnd_z_sce > (1039.9-10))'\n",
    "\n",
    "track_end_uncontained = '(' + track_end_border_x + ' || ' + track_end_border_y + ' || ' + track_end_border_z+ ')'\n",
    "\n",
    "\n",
    "data.SetAlias(\"track_end_uncontained\",track_end_uncontained)\n",
    "ext.SetAlias(\"track_end_uncontained\",track_end_uncontained)\n",
    "overlay.SetAlias(\"track_end_uncontained\",track_end_uncontained)\n",
    "dirt.SetAlias(\"track_end_uncontained\",track_end_uncontained)\n",
    "data_out.SetAlias(\"track_end_uncontained\",track_end_uncontained)\n",
    "ext_out.SetAlias(\"track_end_uncontained\",track_end_uncontained)\n",
    "overlay_out.SetAlias(\"track_end_uncontained\",track_end_uncontained)\n",
    "dirt_out.SetAlias(\"track_end_uncontained\",track_end_uncontained)\n",
    "\n",
    "data.SetAlias(\"crt_cut\",\"(abs(crtt0_time-(69000-crt_trig_corr_med)/1000-4)<0.8 || crtt0_time==-1)\")\n",
    "ext.SetAlias(\"crt_cut\",\"(abs(crtt0_time-(69000-crt_trig_corr_med)/1000-3.57+3.195-4)<0.8 || crtt0_time==-1)\")\n",
    "overlay.SetAlias(\"crt_cut\",\"(abs(crtt0_time-4)<0.8 || crtt0_time==-1)\")\n",
    "dirt.SetAlias(\"crt_cut\",\"(abs(crtt0_time-4)<0.8 || crtt0_time==-1)\")\n",
    "data_out.SetAlias(\"crt_cut\",\"(abs(crtt0_time-(69000-crt_trig_corr_med)/1000-4)<0.8 || crtt0_time==-1)\")\n",
    "ext_out.SetAlias(\"crt_cut\",\"(abs(crtt0_time-(69000-crt_trig_corr_med)/1000-3.57+3.195-4)<0.8 || crtt0_time==-1)\")\n",
    "overlay_out.SetAlias(\"crt_cut\",\"(abs(crtt0_time-4)<0.8 || crtt0_time==-1)\")\n",
    "dirt_out.SetAlias(\"crt_cut\",\"(abs(crtt0_time-4)<0.8 || crtt0_time==-1)\")\n",
    "\n",
    "\n",
    "crt_tom_cut = ' nr_crthit_top==0 && crthit_vertex_zcut==0 && (track_end_uncontained==1 || nr_crthit_beam_tres==0) && crt_cut'\n",
    "#crt_tom_cut = ' nr_crthit_top==0 && crthit_vertex_zcut==0 && (track_end_uncontained==1 || nr_crthit_beam_tres==0)'\n",
    "data.SetAlias(\"crt_tom_cut\",crt_tom_cut)\n",
    "ext.SetAlias(\"crt_tom_cut\",crt_tom_cut)\n",
    "overlay.SetAlias(\"crt_tom_cut\",crt_tom_cut)\n",
    "dirt.SetAlias(\"crt_tom_cut\",crt_tom_cut)\n",
    "data_out.SetAlias(\"crt_tom_cut\",crt_tom_cut)\n",
    "ext_out.SetAlias(\"crt_tom_cut\",crt_tom_cut)\n",
    "overlay_out.SetAlias(\"crt_tom_cut\",crt_tom_cut)\n",
    "dirt_out.SetAlias(\"crt_tom_cut\",crt_tom_cut)\n",
    "\n",
    "TrackLength_cut = 'TrackLength>8'\n",
    "data.SetAlias(\"TrackLength_cut\",TrackLength_cut)\n",
    "ext.SetAlias(\"TrackLength_cut\",TrackLength_cut)\n",
    "overlay.SetAlias(\"TrackLength_cut\",TrackLength_cut)\n",
    "dirt.SetAlias(\"TrackLength_cut\",TrackLength_cut)\n",
    "data_out.SetAlias(\"TrackLength_cut\",TrackLength_cut)\n",
    "ext_out.SetAlias(\"TrackLength_cut\",TrackLength_cut)\n",
    "overlay_out.SetAlias(\"TrackLength_cut\",TrackLength_cut)\n",
    "dirt_out.SetAlias(\"TrackLength_cut\",TrackLength_cut)\n",
    "\n",
    "\n",
    "\n"
   ]
  },
  {
   "cell_type": "code",
   "execution_count": 170,
   "metadata": {},
   "outputs": [
    {
     "ename": "KeyError",
     "evalue": "not found: 'MCle_purity'\n in file: /home/tmettler/Desktop/ub_data/mcc9.1/v08_00_00_33/NuCCana_overlay_20k.rootout33.root",
     "output_type": "error",
     "traceback": [
      "\u001b[0;31m\u001b[0m",
      "\u001b[0;31mKeyError\u001b[0mTraceback (most recent call last)",
      "\u001b[0;32m<ipython-input-170-dc859336b298>\u001b[0m in \u001b[0;36m<module>\u001b[0;34m()\u001b[0m\n\u001b[1;32m      3\u001b[0m \u001b[0mcols\u001b[0m \u001b[0;34m=\u001b[0m \u001b[0;34m[\u001b[0m\u001b[0;34m'NuScore'\u001b[0m\u001b[0;34m,\u001b[0m\u001b[0;34m'FlashScore'\u001b[0m\u001b[0;34m,\u001b[0m\u001b[0;34m'NumPfp'\u001b[0m\u001b[0;34m,\u001b[0m\u001b[0;34m'NuTracks'\u001b[0m\u001b[0;34m,\u001b[0m\u001b[0;34m'NumShowers_corr'\u001b[0m\u001b[0;34m,\u001b[0m\u001b[0;34m'TrackScore'\u001b[0m\u001b[0;34m,\u001b[0m\u001b[0;34m'TrackLength'\u001b[0m\u001b[0;34m,\u001b[0m\u001b[0;34m'VtxDistance_sce'\u001b[0m\u001b[0;34m,\u001b[0m        \u001b[0;34m'TrackMomRange_mu'\u001b[0m\u001b[0;34m,\u001b[0m\u001b[0;34m'TrackMomMCS_mom'\u001b[0m\u001b[0;34m,\u001b[0m\u001b[0;34m'TrackPID_chimuon'\u001b[0m\u001b[0;34m,\u001b[0m\u001b[0;34m'TrackPID_chiproton'\u001b[0m\u001b[0;34m,\u001b[0m        \u001b[0;34m'TrackPID_chipion'\u001b[0m\u001b[0;34m,\u001b[0m\u001b[0;34m'ShowerScore'\u001b[0m\u001b[0;34m,\u001b[0m\u001b[0;34m'flash_PE'\u001b[0m\u001b[0;34m,\u001b[0m\u001b[0;34m'nr_crthit_beam'\u001b[0m\u001b[0;34m,\u001b[0m\u001b[0;34m'MCNu_CCNC'\u001b[0m\u001b[0;34m,\u001b[0m\u001b[0;34m'MCNu_PDG'\u001b[0m\u001b[0;34m,\u001b[0m        \u001b[0;34m'MCNu_Energy'\u001b[0m\u001b[0;34m,\u001b[0m\u001b[0;34m'MCNu_LeptonEnergy'\u001b[0m\u001b[0;34m,\u001b[0m\u001b[0;34m'MCle_PDG'\u001b[0m\u001b[0;34m,\u001b[0m\u001b[0;34m'MCle_purity'\u001b[0m\u001b[0;34m,\u001b[0m\u001b[0;34m'MCle_Energy'\u001b[0m\u001b[0;34m,\u001b[0m\u001b[0;34m'MCle_length'\u001b[0m\u001b[0;34m,\u001b[0m\u001b[0;34m'small_wire'\u001b[0m\u001b[0;34m,\u001b[0m\u001b[0;34m'wire_plane'\u001b[0m\u001b[0;34m]\u001b[0m\u001b[0;34m\u001b[0m\u001b[0m\n\u001b[1;32m      4\u001b[0m \u001b[0;34m\u001b[0m\u001b[0m\n\u001b[0;32m----> 5\u001b[0;31m \u001b[0mtree_Event\u001b[0m \u001b[0;34m=\u001b[0m \u001b[0mover\u001b[0m\u001b[0;34m.\u001b[0m\u001b[0mpandas\u001b[0m\u001b[0;34m.\u001b[0m\u001b[0mdf\u001b[0m\u001b[0;34m(\u001b[0m\u001b[0mcols\u001b[0m\u001b[0;34m)\u001b[0m\u001b[0;34m\u001b[0m\u001b[0m\n\u001b[0m\u001b[1;32m      6\u001b[0m \u001b[0;31m#print([c.decode('UTF-8') for c in over.keys()])\u001b[0m\u001b[0;34m\u001b[0m\u001b[0;34m\u001b[0m\u001b[0m\n\u001b[1;32m      7\u001b[0m \u001b[0;34m\u001b[0m\u001b[0m\n",
      "\u001b[0;32m/usr/local/lib/python2.7/dist-packages/uproot/_connect/to_pandas.pyc\u001b[0m in \u001b[0;36mdf\u001b[0;34m(self, branches, namedecode, entrystart, entrystop, flatten, flatname, awkwardlib, cache, basketcache, keycache, executor, blocking)\u001b[0m\n\u001b[1;32m     28\u001b[0m     \u001b[0;32mdef\u001b[0m \u001b[0mdf\u001b[0m\u001b[0;34m(\u001b[0m\u001b[0mself\u001b[0m\u001b[0;34m,\u001b[0m \u001b[0mbranches\u001b[0m\u001b[0;34m=\u001b[0m\u001b[0mNone\u001b[0m\u001b[0;34m,\u001b[0m \u001b[0mnamedecode\u001b[0m\u001b[0;34m=\u001b[0m\u001b[0;34m\"utf-8\"\u001b[0m\u001b[0;34m,\u001b[0m \u001b[0mentrystart\u001b[0m\u001b[0;34m=\u001b[0m\u001b[0mNone\u001b[0m\u001b[0;34m,\u001b[0m \u001b[0mentrystop\u001b[0m\u001b[0;34m=\u001b[0m\u001b[0mNone\u001b[0m\u001b[0;34m,\u001b[0m \u001b[0mflatten\u001b[0m\u001b[0;34m=\u001b[0m\u001b[0mTrue\u001b[0m\u001b[0;34m,\u001b[0m \u001b[0mflatname\u001b[0m\u001b[0;34m=\u001b[0m\u001b[0mNone\u001b[0m\u001b[0;34m,\u001b[0m \u001b[0mawkwardlib\u001b[0m\u001b[0;34m=\u001b[0m\u001b[0mNone\u001b[0m\u001b[0;34m,\u001b[0m \u001b[0mcache\u001b[0m\u001b[0;34m=\u001b[0m\u001b[0mNone\u001b[0m\u001b[0;34m,\u001b[0m \u001b[0mbasketcache\u001b[0m\u001b[0;34m=\u001b[0m\u001b[0mNone\u001b[0m\u001b[0;34m,\u001b[0m \u001b[0mkeycache\u001b[0m\u001b[0;34m=\u001b[0m\u001b[0mNone\u001b[0m\u001b[0;34m,\u001b[0m \u001b[0mexecutor\u001b[0m\u001b[0;34m=\u001b[0m\u001b[0mNone\u001b[0m\u001b[0;34m,\u001b[0m \u001b[0mblocking\u001b[0m\u001b[0;34m=\u001b[0m\u001b[0mTrue\u001b[0m\u001b[0;34m)\u001b[0m\u001b[0;34m:\u001b[0m\u001b[0;34m\u001b[0m\u001b[0m\n\u001b[1;32m     29\u001b[0m         \u001b[0;32mimport\u001b[0m \u001b[0mpandas\u001b[0m\u001b[0;34m\u001b[0m\u001b[0m\n\u001b[0;32m---> 30\u001b[0;31m         \u001b[0;32mreturn\u001b[0m \u001b[0mself\u001b[0m\u001b[0;34m.\u001b[0m\u001b[0m_tree\u001b[0m\u001b[0;34m.\u001b[0m\u001b[0marrays\u001b[0m\u001b[0;34m(\u001b[0m\u001b[0mbranches\u001b[0m\u001b[0;34m=\u001b[0m\u001b[0mbranches\u001b[0m\u001b[0;34m,\u001b[0m \u001b[0moutputtype\u001b[0m\u001b[0;34m=\u001b[0m\u001b[0mpandas\u001b[0m\u001b[0;34m.\u001b[0m\u001b[0mDataFrame\u001b[0m\u001b[0;34m,\u001b[0m \u001b[0mnamedecode\u001b[0m\u001b[0;34m=\u001b[0m\u001b[0mnamedecode\u001b[0m\u001b[0;34m,\u001b[0m \u001b[0mentrystart\u001b[0m\u001b[0;34m=\u001b[0m\u001b[0mentrystart\u001b[0m\u001b[0;34m,\u001b[0m \u001b[0mentrystop\u001b[0m\u001b[0;34m=\u001b[0m\u001b[0mentrystop\u001b[0m\u001b[0;34m,\u001b[0m \u001b[0mflatten\u001b[0m\u001b[0;34m=\u001b[0m\u001b[0mflatten\u001b[0m\u001b[0;34m,\u001b[0m \u001b[0mflatname\u001b[0m\u001b[0;34m=\u001b[0m\u001b[0mflatname\u001b[0m\u001b[0;34m,\u001b[0m \u001b[0mawkwardlib\u001b[0m\u001b[0;34m=\u001b[0m\u001b[0mawkwardlib\u001b[0m\u001b[0;34m,\u001b[0m \u001b[0mcache\u001b[0m\u001b[0;34m=\u001b[0m\u001b[0mcache\u001b[0m\u001b[0;34m,\u001b[0m \u001b[0mbasketcache\u001b[0m\u001b[0;34m=\u001b[0m\u001b[0mbasketcache\u001b[0m\u001b[0;34m,\u001b[0m \u001b[0mkeycache\u001b[0m\u001b[0;34m=\u001b[0m\u001b[0mkeycache\u001b[0m\u001b[0;34m,\u001b[0m \u001b[0mexecutor\u001b[0m\u001b[0;34m=\u001b[0m\u001b[0mexecutor\u001b[0m\u001b[0;34m,\u001b[0m \u001b[0mblocking\u001b[0m\u001b[0;34m=\u001b[0m\u001b[0mblocking\u001b[0m\u001b[0;34m)\u001b[0m\u001b[0;34m\u001b[0m\u001b[0m\n\u001b[0m\u001b[1;32m     31\u001b[0m \u001b[0;34m\u001b[0m\u001b[0m\n\u001b[1;32m     32\u001b[0m     \u001b[0;32mdef\u001b[0m \u001b[0miterate\u001b[0m\u001b[0;34m(\u001b[0m\u001b[0mself\u001b[0m\u001b[0;34m,\u001b[0m \u001b[0mbranches\u001b[0m\u001b[0;34m=\u001b[0m\u001b[0mNone\u001b[0m\u001b[0;34m,\u001b[0m \u001b[0mentrysteps\u001b[0m\u001b[0;34m=\u001b[0m\u001b[0mNone\u001b[0m\u001b[0;34m,\u001b[0m \u001b[0mnamedecode\u001b[0m\u001b[0;34m=\u001b[0m\u001b[0;34m\"utf-8\"\u001b[0m\u001b[0;34m,\u001b[0m \u001b[0mentrystart\u001b[0m\u001b[0;34m=\u001b[0m\u001b[0mNone\u001b[0m\u001b[0;34m,\u001b[0m \u001b[0mentrystop\u001b[0m\u001b[0;34m=\u001b[0m\u001b[0mNone\u001b[0m\u001b[0;34m,\u001b[0m \u001b[0mflatten\u001b[0m\u001b[0;34m=\u001b[0m\u001b[0mTrue\u001b[0m\u001b[0;34m,\u001b[0m \u001b[0mflatname\u001b[0m\u001b[0;34m=\u001b[0m\u001b[0mNone\u001b[0m\u001b[0;34m,\u001b[0m \u001b[0mawkwardlib\u001b[0m\u001b[0;34m=\u001b[0m\u001b[0mNone\u001b[0m\u001b[0;34m,\u001b[0m \u001b[0mcache\u001b[0m\u001b[0;34m=\u001b[0m\u001b[0mNone\u001b[0m\u001b[0;34m,\u001b[0m \u001b[0mbasketcache\u001b[0m\u001b[0;34m=\u001b[0m\u001b[0mNone\u001b[0m\u001b[0;34m,\u001b[0m \u001b[0mkeycache\u001b[0m\u001b[0;34m=\u001b[0m\u001b[0mNone\u001b[0m\u001b[0;34m,\u001b[0m \u001b[0mexecutor\u001b[0m\u001b[0;34m=\u001b[0m\u001b[0mNone\u001b[0m\u001b[0;34m,\u001b[0m \u001b[0mblocking\u001b[0m\u001b[0;34m=\u001b[0m\u001b[0mTrue\u001b[0m\u001b[0;34m)\u001b[0m\u001b[0;34m:\u001b[0m\u001b[0;34m\u001b[0m\u001b[0m\n",
      "\u001b[0;32m/usr/local/lib/python2.7/dist-packages/uproot/tree.pyc\u001b[0m in \u001b[0;36marrays\u001b[0;34m(self, branches, outputtype, namedecode, entrystart, entrystop, flatten, flatname, awkwardlib, cache, basketcache, keycache, executor, blocking)\u001b[0m\n\u001b[1;32m    441\u001b[0m     \u001b[0;32mdef\u001b[0m \u001b[0marrays\u001b[0m\u001b[0;34m(\u001b[0m\u001b[0mself\u001b[0m\u001b[0;34m,\u001b[0m \u001b[0mbranches\u001b[0m\u001b[0;34m=\u001b[0m\u001b[0mNone\u001b[0m\u001b[0;34m,\u001b[0m \u001b[0moutputtype\u001b[0m\u001b[0;34m=\u001b[0m\u001b[0mdict\u001b[0m\u001b[0;34m,\u001b[0m \u001b[0mnamedecode\u001b[0m\u001b[0;34m=\u001b[0m\u001b[0mNone\u001b[0m\u001b[0;34m,\u001b[0m \u001b[0mentrystart\u001b[0m\u001b[0;34m=\u001b[0m\u001b[0mNone\u001b[0m\u001b[0;34m,\u001b[0m \u001b[0mentrystop\u001b[0m\u001b[0;34m=\u001b[0m\u001b[0mNone\u001b[0m\u001b[0;34m,\u001b[0m \u001b[0mflatten\u001b[0m\u001b[0;34m=\u001b[0m\u001b[0mFalse\u001b[0m\u001b[0;34m,\u001b[0m \u001b[0mflatname\u001b[0m\u001b[0;34m=\u001b[0m\u001b[0mNone\u001b[0m\u001b[0;34m,\u001b[0m \u001b[0mawkwardlib\u001b[0m\u001b[0;34m=\u001b[0m\u001b[0mNone\u001b[0m\u001b[0;34m,\u001b[0m \u001b[0mcache\u001b[0m\u001b[0;34m=\u001b[0m\u001b[0mNone\u001b[0m\u001b[0;34m,\u001b[0m \u001b[0mbasketcache\u001b[0m\u001b[0;34m=\u001b[0m\u001b[0mNone\u001b[0m\u001b[0;34m,\u001b[0m \u001b[0mkeycache\u001b[0m\u001b[0;34m=\u001b[0m\u001b[0mNone\u001b[0m\u001b[0;34m,\u001b[0m \u001b[0mexecutor\u001b[0m\u001b[0;34m=\u001b[0m\u001b[0mNone\u001b[0m\u001b[0;34m,\u001b[0m \u001b[0mblocking\u001b[0m\u001b[0;34m=\u001b[0m\u001b[0mTrue\u001b[0m\u001b[0;34m)\u001b[0m\u001b[0;34m:\u001b[0m\u001b[0;34m\u001b[0m\u001b[0m\n\u001b[1;32m    442\u001b[0m         \u001b[0mawkward\u001b[0m \u001b[0;34m=\u001b[0m \u001b[0m_normalize_awkwardlib\u001b[0m\u001b[0;34m(\u001b[0m\u001b[0mawkwardlib\u001b[0m\u001b[0;34m)\u001b[0m\u001b[0;34m\u001b[0m\u001b[0m\n\u001b[0;32m--> 443\u001b[0;31m         \u001b[0mbranches\u001b[0m \u001b[0;34m=\u001b[0m \u001b[0mlist\u001b[0m\u001b[0;34m(\u001b[0m\u001b[0mself\u001b[0m\u001b[0;34m.\u001b[0m\u001b[0m_normalize_branches\u001b[0m\u001b[0;34m(\u001b[0m\u001b[0mbranches\u001b[0m\u001b[0;34m,\u001b[0m \u001b[0mawkward\u001b[0m\u001b[0;34m)\u001b[0m\u001b[0;34m)\u001b[0m\u001b[0;34m\u001b[0m\u001b[0m\n\u001b[0m\u001b[1;32m    444\u001b[0m         \u001b[0;32mif\u001b[0m \u001b[0mflatten\u001b[0m \u001b[0;32mis\u001b[0m \u001b[0mNone\u001b[0m\u001b[0;34m:\u001b[0m\u001b[0;34m\u001b[0m\u001b[0m\n\u001b[1;32m    445\u001b[0m             \u001b[0mbranches\u001b[0m \u001b[0;34m=\u001b[0m \u001b[0;34m[\u001b[0m\u001b[0;34m(\u001b[0m\u001b[0mbranch\u001b[0m\u001b[0;34m,\u001b[0m \u001b[0minterpretation\u001b[0m\u001b[0;34m)\u001b[0m \u001b[0;32mfor\u001b[0m \u001b[0mbranch\u001b[0m\u001b[0;34m,\u001b[0m \u001b[0minterpretation\u001b[0m \u001b[0;32min\u001b[0m \u001b[0mbranches\u001b[0m \u001b[0;32mif\u001b[0m \u001b[0;32mnot\u001b[0m \u001b[0misinstance\u001b[0m\u001b[0;34m(\u001b[0m\u001b[0minterpretation\u001b[0m\u001b[0;34m,\u001b[0m \u001b[0masjagged\u001b[0m\u001b[0;34m)\u001b[0m\u001b[0;34m]\u001b[0m\u001b[0;34m\u001b[0m\u001b[0m\n",
      "\u001b[0;32m/usr/local/lib/python2.7/dist-packages/uproot/tree.pyc\u001b[0m in \u001b[0;36m_normalize_branches\u001b[0;34m(self, arg, awkward, allownone, allowcallable, allowdict, allowstring, aliases)\u001b[0m\n\u001b[1;32m    740\u001b[0m \u001b[0;34m\u001b[0m\u001b[0m\n\u001b[1;32m    741\u001b[0m                     \u001b[0;32melse\u001b[0m\u001b[0;34m:\u001b[0m\u001b[0;34m\u001b[0m\u001b[0m\n\u001b[0;32m--> 742\u001b[0;31m                         \u001b[0mbranch\u001b[0m \u001b[0;34m=\u001b[0m \u001b[0mself\u001b[0m\u001b[0;34m.\u001b[0m\u001b[0mget\u001b[0m\u001b[0;34m(\u001b[0m\u001b[0mword\u001b[0m\u001b[0;34m,\u001b[0m \u001b[0maliases\u001b[0m\u001b[0;34m=\u001b[0m\u001b[0maliases\u001b[0m\u001b[0;34m)\u001b[0m\u001b[0;34m\u001b[0m\u001b[0m\n\u001b[0m\u001b[1;32m    743\u001b[0m                         \u001b[0minterpretation\u001b[0m \u001b[0;34m=\u001b[0m \u001b[0minterpret\u001b[0m\u001b[0;34m(\u001b[0m\u001b[0mbranch\u001b[0m\u001b[0;34m,\u001b[0m \u001b[0mawkward\u001b[0m\u001b[0;34m)\u001b[0m\u001b[0;34m\u001b[0m\u001b[0m\n\u001b[1;32m    744\u001b[0m                         \u001b[0;32mif\u001b[0m \u001b[0minterpretation\u001b[0m \u001b[0;32mis\u001b[0m \u001b[0mNone\u001b[0m\u001b[0;34m:\u001b[0m\u001b[0;34m\u001b[0m\u001b[0m\n",
      "\u001b[0;32m/usr/local/lib/python2.7/dist-packages/uproot/tree.pyc\u001b[0m in \u001b[0;36mget\u001b[0;34m(self, name, recursive, filtername, filtertitle, aliases)\u001b[0m\n\u001b[1;32m    364\u001b[0m                     \u001b[0mself\u001b[0m\u001b[0;34m.\u001b[0m\u001b[0m_branchlookup\u001b[0m\u001b[0;34m[\u001b[0m\u001b[0mname\u001b[0m\u001b[0;34m]\u001b[0m \u001b[0;34m=\u001b[0m \u001b[0mb\u001b[0m\u001b[0;34m\u001b[0m\u001b[0m\n\u001b[1;32m    365\u001b[0m                     \u001b[0;32mreturn\u001b[0m \u001b[0mb\u001b[0m\u001b[0;34m\u001b[0m\u001b[0m\n\u001b[0;32m--> 366\u001b[0;31m             \u001b[0;32mraise\u001b[0m \u001b[0muproot\u001b[0m\u001b[0;34m.\u001b[0m\u001b[0mrootio\u001b[0m\u001b[0;34m.\u001b[0m\u001b[0m_KeyError\u001b[0m\u001b[0;34m(\u001b[0m\u001b[0;34m\"not found: {0}\\n in file: {1}\"\u001b[0m\u001b[0;34m.\u001b[0m\u001b[0mformat\u001b[0m\u001b[0;34m(\u001b[0m\u001b[0mrepr\u001b[0m\u001b[0;34m(\u001b[0m\u001b[0mname\u001b[0m\u001b[0;34m)\u001b[0m\u001b[0;34m,\u001b[0m \u001b[0mself\u001b[0m\u001b[0;34m.\u001b[0m\u001b[0m_context\u001b[0m\u001b[0;34m.\u001b[0m\u001b[0msourcepath\u001b[0m\u001b[0;34m)\u001b[0m\u001b[0;34m)\u001b[0m\u001b[0;34m\u001b[0m\u001b[0m\n\u001b[0m\u001b[1;32m    367\u001b[0m \u001b[0;34m\u001b[0m\u001b[0m\n\u001b[1;32m    368\u001b[0m     \u001b[0;32mdef\u001b[0m \u001b[0m__contains__\u001b[0m\u001b[0;34m(\u001b[0m\u001b[0mself\u001b[0m\u001b[0;34m,\u001b[0m \u001b[0mname\u001b[0m\u001b[0;34m)\u001b[0m\u001b[0;34m:\u001b[0m\u001b[0;34m\u001b[0m\u001b[0m\n",
      "\u001b[0;31mKeyError\u001b[0m: not found: 'MCle_purity'\n in file: /home/tmettler/Desktop/ub_data/mcc9.1/v08_00_00_33/NuCCana_overlay_20k.rootout33.root"
     ]
    }
   ],
   "source": [
    "over = uproot.open(inputdir+filename_overlay)['t_out']\n",
    "\n",
    "cols = ['NuScore','FlashScore','NumPfp','NuTracks','NumShowers_corr','TrackScore','TrackLength','VtxDistance_sce',\\\n",
    "        'TrackMomRange_mu','TrackMomMCS_mom','TrackPID_chimuon','TrackPID_chiproton',\\\n",
    "        'TrackPID_chipion','ShowerScore','flash_PE','nr_crthit_beam','MCNu_CCNC','MCNu_PDG',\\\n",
    "        'MCNu_Energy','MCNu_LeptonEnergy','MCle_PDG','MCle_purity','MCle_Energy','MCle_length','small_wire','wire_plane']\n",
    "\n",
    "tree_Event = over.pandas.df(cols)\n",
    "#print([c.decode('UTF-8') for c in over.keys()])\n",
    "\n",
    "for element in cols:\n",
    "    print '%20s:\\t'%element,tree_Event[element][0]\n",
    "#print tree_Event['TrackScore'][9]"
   ]
  },
  {
   "cell_type": "code",
   "execution_count": null,
   "metadata": {},
   "outputs": [],
   "source": [
    "xstart = -500\n",
    "xend = 500\n",
    "xbin = 200\n",
    "#ystart = 0\n",
    "#yend = 100\n",
    "#ybin = 100\n",
    "name = '_PIDproton'\n",
    "h_1d = ROOT.TH1F(\"h_1d\",\"Track PID: Proton vs muon\",xbin, xstart, xend)#, ybin, ystart, yend)\n",
    "overlay_out.Draw('TrackPID_chimuon-TrackPID_chiproton>>h_1d','MCle_purity>0.5 && MCle_PDG==13','')\n",
    "h_1d_p = ROOT.TH1F(\"h_1d_p\",\"Track PID: Proton vs muon\",xbin, xstart, xend)#, ybin, ystart, yend)\n",
    "overlay_out.Draw('TrackPID_chimuon-TrackPID_chiproton>>h_1d_p','MCle_purity>0.5 && MCle_PDG==2212','')\n",
    "h_1d.SetXTitle(\"Chimuon - chi proton\")\n",
    "h_1d.SetYTitle(\"Number of entries\")\n",
    "h_1d.Draw()\n",
    "h_1d_p.SetLineColor(2)\n",
    "h_1d_p.Draw('same')\n",
    "#c1.SetLogz()\n",
    "c1.Draw()\n",
    "c1.SaveAs(outputdir_png + \"h_1d\"+name+\".png\")\n",
    "c1.SaveAs(outputdir_root + \"h_1d\"+name+\".root\")"
   ]
  },
  {
   "cell_type": "code",
   "execution_count": null,
   "metadata": {},
   "outputs": [],
   "source": [
    "NuCC.pdg_content_out('fidVol && muon && TrackLength>8 && crt_tom_cut && (TrackPID_chimuon-TrackPID_chiproton)<-80\\\n",
    "&& (TrackPID_chimuon*100/70-2)<(TrackPID_chipion)')"
   ]
  },
  {
   "cell_type": "code",
   "execution_count": 171,
   "metadata": {},
   "outputs": [
    {
     "name": "stdout",
     "output_type": "stream",
     "text": [
      "Total number of entries:  0.0\n"
     ]
    },
    {
     "name": "stderr",
     "output_type": "stream",
     "text": [
      "Error in <TTreeFormula::Compile>:  Bad numerical expression : \"key_longest_track\"\n",
      "Info in <TSelectorDraw::AbortProcess>: Variable compilation failed: {MCTrackPDG,key_longest_track==track_key}\n"
     ]
    }
   ],
   "source": [
    "NuCC.pdg_content33(\"key_longest_track==track_key\")"
   ]
  },
  {
   "cell_type": "code",
   "execution_count": 172,
   "metadata": {},
   "outputs": [
    {
     "name": "stdout",
     "output_type": "stream",
     "text": [
      "Total number of entries:  5335.0\n",
      "PDG:  13 \t=\t93.5% ,\terror: 1.3% ,\tnumber:  4990.0\n",
      "PDG:  2212 \t=\t4.7% ,\terror: 0.3% ,\tnumber:  249.0\n",
      "PDG:  211 \t=\t1.4% ,\terror: 0.2% ,\tnumber:  75.0\n",
      "PDG:  -211 \t=\t0.2% ,\terror: 0.1% ,\tnumber:  13.0\n",
      "PDG:  -13 \t=\t0.1% ,\terror: 0.0% ,\tnumber:  6.0\n",
      "PDG:  321 \t=\t0.0% ,\terror: 0.0% ,\tnumber:  2.0\n"
     ]
    }
   ],
   "source": [
    "NuCC.pdg_content33_out(\"key_longest_track==track_key && num_mc_muon>0 && MCTrackPurity>0.5 && TrackLength>8\")"
   ]
  },
  {
   "cell_type": "code",
   "execution_count": 173,
   "metadata": {},
   "outputs": [],
   "source": [
    "#NuCC.entry33_out('key_longest_track==track_key && num_mc_muon>0 && MCTrackPurity>0.5 && TrackLength>8 && MCTrackPDG==2212',2500)"
   ]
  },
  {
   "cell_type": "code",
   "execution_count": 174,
   "metadata": {},
   "outputs": [
    {
     "name": "stdout",
     "output_type": "stream",
     "text": [
      "Total number of entries:  5200.0\n",
      "PDG:  13 \t=\t94.7% ,\terror: 1.3% ,\tnumber:  4925.0\n",
      "PDG:  211 \t=\t2.9% ,\terror: 0.2% ,\tnumber:  153.0\n",
      "PDG:  2212 \t=\t0.8% ,\terror: 0.1% ,\tnumber:  41.0\n",
      "PDG:  11 \t=\t0.7% ,\terror: 0.1% ,\tnumber:  38.0\n",
      "PDG:  -211 \t=\t0.4% ,\terror: 0.1% ,\tnumber:  23.0\n",
      "PDG:  -11 \t=\t0.3% ,\terror: 0.1% ,\tnumber:  16.0\n",
      "PDG:  -13 \t=\t0.1% ,\terror: 0.0% ,\tnumber:  3.0\n",
      "PDG:  321 \t=\t0.0% ,\terror: 0.0% ,\tnumber:  1.0\n"
     ]
    }
   ],
   "source": [
    "NuCC.pdg_content33_out(\"key_muprotdiff==track_key && num_mc_muon>0 && MCTrackPurity>0.5 && TrackLength>8\")"
   ]
  },
  {
   "cell_type": "code",
   "execution_count": 175,
   "metadata": {},
   "outputs": [
    {
     "name": "stdout",
     "output_type": "stream",
     "text": [
      "Total number of entries:  5323.0\n",
      "PDG:  13 \t=\t94.3% ,\terror: 1.3% ,\tnumber:  5020.0\n",
      "PDG:  211 \t=\t2.8% ,\terror: 0.2% ,\tnumber:  150.0\n",
      "PDG:  2212 \t=\t2.0% ,\terror: 0.2% ,\tnumber:  106.0\n",
      "PDG:  -211 \t=\t0.5% ,\terror: 0.1% ,\tnumber:  29.0\n",
      "PDG:  11 \t=\t0.2% ,\terror: 0.1% ,\tnumber:  10.0\n",
      "PDG:  -11 \t=\t0.1% ,\terror: 0.0% ,\tnumber:  3.0\n",
      "PDG:  -13 \t=\t0.1% ,\terror: 0.0% ,\tnumber:  3.0\n",
      "PDG:  321 \t=\t0.0% ,\terror: 0.0% ,\tnumber:  2.0\n"
     ]
    }
   ],
   "source": [
    "NuCC.pdg_content33_out(\"key_muprotratio==track_key && num_mc_muon>0 && MCTrackPurity>0.5 && TrackLength>8\")"
   ]
  },
  {
   "cell_type": "code",
   "execution_count": 180,
   "metadata": {},
   "outputs": [
    {
     "name": "stdout",
     "output_type": "stream",
     "text": [
      "Total number of entries:  5251.0\n",
      "PDG:  13 \t=\t93.5% ,\terror: 1.3% ,\tnumber:  4912.0\n",
      "PDG:  211 \t=\t3.2% ,\terror: 0.2% ,\tnumber:  170.0\n",
      "PDG:  2212 \t=\t1.7% ,\terror: 0.2% ,\tnumber:  88.0\n",
      "PDG:  11 \t=\t0.6% ,\terror: 0.1% ,\tnumber:  32.0\n",
      "PDG:  -211 \t=\t0.6% ,\terror: 0.1% ,\tnumber:  31.0\n",
      "PDG:  -11 \t=\t0.2% ,\terror: 0.1% ,\tnumber:  12.0\n",
      "PDG:  -13 \t=\t0.1% ,\terror: 0.0% ,\tnumber:  5.0\n",
      "PDG:  321 \t=\t0.0% ,\terror: 0.0% ,\tnumber:  1.0\n"
     ]
    }
   ],
   "source": [
    "NuCC.pdg_content33_out(\"key_mupionratio==track_key && num_mc_muon>0 && MCTrackPurity>0.5 && TrackLength>8\")"
   ]
  },
  {
   "cell_type": "code",
   "execution_count": null,
   "metadata": {},
   "outputs": [],
   "source": []
  },
  {
   "cell_type": "code",
   "execution_count": null,
   "metadata": {},
   "outputs": [],
   "source": []
  }
 ],
 "metadata": {
  "kernelspec": {
   "display_name": "Python 2",
   "language": "python",
   "name": "python2"
  },
  "language_info": {
   "codemirror_mode": {
    "name": "ipython",
    "version": 2
   },
   "file_extension": ".py",
   "mimetype": "text/x-python",
   "name": "python",
   "nbconvert_exporter": "python",
   "pygments_lexer": "ipython2",
   "version": "2.7.12"
  }
 },
 "nbformat": 4,
 "nbformat_minor": 2
}
