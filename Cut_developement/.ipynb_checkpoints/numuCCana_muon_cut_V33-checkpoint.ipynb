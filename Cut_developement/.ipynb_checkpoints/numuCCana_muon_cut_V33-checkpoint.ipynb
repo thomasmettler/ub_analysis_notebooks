{
 "cells": [
  {
   "cell_type": "code",
   "execution_count": 1,
   "metadata": {},
   "outputs": [
    {
     "name": "stdout",
     "output_type": "stream",
     "text": [
      "Welcome to JupyROOT 6.10/08\n"
     ]
    }
   ],
   "source": [
    "from __future__ import division\n",
    "import imp\n",
    "import uproot\n",
    "import matplotlib\n",
    "#matplotlib.use('agg')\n",
    "import matplotlib.pyplot as plt\n",
    "import matplotlib.image as mpimg\n",
    "import numpy as np\n",
    "import pandas as pd\n",
    "import os\n",
    "import ROOT\n",
    "import time\n",
    "import math\n",
    "helper = imp.load_source('helpfunction','/home/tmettler/Desktop/uBoone/do_plots/helpfunction.py')\n",
    "#import /home/tmettler/Desktop/uBoone/do_plots/helpfunction as helper\n",
    "import collections\n",
    "NuCC = imp.load_source('NuCC_function','/home/tmettler/Desktop/uBoone/do_plots/NuCC_function.py')"
   ]
  },
  {
   "cell_type": "code",
   "execution_count": 2,
   "metadata": {},
   "outputs": [],
   "source": [
    "#!jupyter nbconvert --to script numuCCana_muon_cut_V33.ipynb"
   ]
  },
  {
   "cell_type": "code",
   "execution_count": 3,
   "metadata": {},
   "outputs": [
    {
     "name": "stderr",
     "output_type": "stream",
     "text": [
      "Warning in <TCanvas::Constructor>: Deleting canvas with same name: c1\n"
     ]
    }
   ],
   "source": [
    "# initialte ROOT default canvas\n",
    "ROOT.gStyle.SetOptStat(0)\n",
    "c1 = ROOT.TCanvas(\"c1\",\"c1\",1600,1200)\n",
    "c1.SetGrid(1)\n",
    "c1.SetLeftMargin(0.14)\n",
    "c1.SetRightMargin(0.18)\n",
    "c1.SetBottomMargin(0.14)"
   ]
  },
  {
   "cell_type": "markdown",
   "metadata": {},
   "source": [
    "# CRTinBNB tagger, Overlay or MC"
   ]
  },
  {
   "cell_type": "code",
   "execution_count": 4,
   "metadata": {},
   "outputs": [],
   "source": [
    "# Load input files\n",
    "#inputdir = '/home/thomasm/numuCC/V33/10kevents/'\n",
    "inputdir = '/home/tmettler/Desktop/v08_00_00_33/V08_00_00_35/'\n",
    "outputdir = inputdir+'muon_cut/' \n",
    "outputdir_png, outputdir_root = NuCC.prepareOutput(outputdir)\n",
    "\n",
    "#filename_overlay = 'NuCCana_Overlay_V18_V4.root'\n",
    "filename_overlay = 'NuCCana_overlay_V25.root'\n",
    "filename_data = 'NuCCana_data_V22.root'\n",
    "filename_ext = 'NuCCana_ext_V25.root'\n",
    "filename_dirt = 'NuCCana_dirt_V25.root'\n",
    "    \n",
    "tree_name = 'numuCCAna'"
   ]
  },
  {
   "cell_type": "code",
   "execution_count": 5,
   "metadata": {},
   "outputs": [
    {
     "name": "stdout",
     "output_type": "stream",
     "text": [
      "Overlay: Number of Entries:\t1070523\n",
      "Data: Number of Entries:\t33178\n",
      "Ext: Number of Entries:\t\t222702\n",
      "Dirt: Number of Entries:\t106035\n",
      "\n",
      "POT: \n",
      "Data:\t\t7.692e+18\n",
      "Ext:\t\t0\n",
      "Overlay:\t1.34188785308e+21\n",
      "Dirt:\t\t3.23585910466e+20\n",
      "\n",
      "Scalefactors: \n",
      "Data:\t\t1.0\n",
      "Ext:\t\t0.0976176954382\n",
      "Overlay:\t0.00573222269084\n",
      "Dirt:\t\t0.0237711215205\n"
     ]
    },
    {
     "name": "stderr",
     "output_type": "stream",
     "text": [
      "Warning in <TClass::Init>: no dictionary for class ROOT::TIOFeatures is available\n"
     ]
    }
   ],
   "source": [
    "#Open all the trees of the four files (data, ext, dirt, overlay)\n",
    "\n",
    "data, ext, dirt, overlay = NuCC.openTrees(inputdir, filename_data, filename_ext, filename_dirt, filename_overlay, tree_name)\n",
    "NuCC.printNumberOfEntries(data,ext,dirt,overlay)\n",
    "\n",
    "pot_overlay = NuCC.getPOT(inputdir,filename_overlay,tree_name)\n",
    "pot_dirt =  NuCC.getPOT(inputdir,filename_dirt,tree_name)\n",
    "\n",
    "#V25 files\n",
    "pot_data =      7.692e+18 # tor860_wcut\n",
    "data_trigger = 1854495.0 #4743794 # 1987072.0 # E1DCNT_wcut\n",
    "ext_trigger =  18997529.0  #2120135 #5685315 # EXT\n",
    "\n",
    "#V17 files\n",
    "#pot_data =     8.039e+18 # tor860_wcut\n",
    "#data_trigger = 2326285.0 # E1DCNT\n",
    "#ext_trigger =  25882118.0  #2120135 #5685315 # EXT\n",
    "\n",
    "print 'POT: '\n",
    "print 'Data:\\t\\t', pot_data\n",
    "print 'Ext:\\t\\t', 0\n",
    "print 'Overlay:\\t', pot_overlay\n",
    "print 'Dirt:\\t\\t', pot_dirt\n",
    "print ''\n",
    "sample = [data,ext,overlay,dirt]\n",
    "scale = {data:1.0,ext:1.0,overlay:1.0,dirt:1.0}\n",
    "name = {data:'data',ext:'ext',overlay:'overlay',dirt:'dirt'}\n",
    "\n",
    "scale[data], scale[ext], scale[dirt], scale[overlay] = NuCC.calculateScale(data_trigger, ext_trigger, pot_data, pot_dirt, pot_overlay)\n",
    "\n",
    "scale[dirt] = scale[dirt]\n",
    "scale[overlay] = scale[overlay]\n",
    "print 'Scalefactors: '\n",
    "print 'Data:\\t\\t', scale[data]\n",
    "print 'Ext:\\t\\t', scale[ext]\n",
    "print 'Overlay:\\t', scale[overlay]\n",
    "print 'Dirt:\\t\\t', scale[dirt]\n"
   ]
  },
  {
   "cell_type": "code",
   "execution_count": 6,
   "metadata": {},
   "outputs": [
    {
     "name": "stdout",
     "output_type": "stream",
     "text": [
      "Overlay: Number of Entries:\t1070522\n",
      "Data: Number of Entries:\t33177\n",
      "Ext: Number of Entries:\t\t222701\n",
      "Dirt: Number of Entries:\t106034\n",
      "\n"
     ]
    }
   ],
   "source": [
    "if 1:\n",
    "    filename_overlay = filename_overlay+'out33.root'\n",
    "    #filename_overlay = 'NuCCana_overlay_points_1kev.rootout2.root'\n",
    "    filename_data = filename_data+'out33.root'\n",
    "    filename_ext = filename_ext+'out33.root'\n",
    "    filename_dirt = filename_dirt+'out33.root'\n",
    "\n",
    "    tree_name = 't_out'\n",
    "\n",
    "    data_out, ext_out, dirt_out, overlay_out = NuCC.openTreesOut(inputdir, filename_data, filename_ext, filename_dirt, filename_overlay, tree_name)\n",
    "    NuCC.printNumberOfEntries(data_out,ext_out,dirt_out,overlay_out)\n",
    "\n",
    "    sample_out = [data_out,ext_out,overlay_out,dirt_out]\n",
    "    scale_out = {data_out:1.0,ext_out:1.0,overlay_out:1.0,dirt_out:1.0}\n",
    "    name_out = {data_out:'data',ext_out:'ext',overlay_out:'overlay',dirt_out:'dirt'}\n",
    "\n",
    "    scale_out[data_out], scale_out[ext_out], scale_out[dirt_out], scale_out[overlay_out] = NuCC.calculateScale(data_trigger, ext_trigger, pot_data, pot_dirt, pot_overlay)\n",
    "    scale_out[dirt_out] = scale_out[dirt_out]\n",
    "    scale_out[overlay_out] = scale_out[overlay_out]"
   ]
  },
  {
   "cell_type": "code",
   "execution_count": 7,
   "metadata": {},
   "outputs": [],
   "source": [
    "# Define signals\n",
    "\n",
    "fidVol = '(Nu_Vx_sce>(-1.55+10) && Nu_Vx_sce<(254.8-10)) && (Nu_Vy_sce>(-115.53+10) && Nu_Vy_sce<(117.47-10)) &&(Nu_Vz_sce>(-0.1+10) && Nu_Vz_sce<(1036.9-50))'\n",
    "MCfidVol = '(MCNu_Vx>(-1.55+10) && MCNu_Vx<(254.8-10)) && (MCNu_Vy>(-115.53+10) && MCNu_Vy<(117.47-10)) &&(MCNu_Vz>(-0.1+10) && MCNu_Vz<(1036.9-50))'\n",
    "numu_signal = 'fidVol && MCfidVol && MCNu_CCNC==0 && MCNu_PDG==14 && MCTrackPDG==13 && MCTrackPurity>0.5' # numu CC signal definition\n",
    "numu_true = 'MCfidVol && MCNu_CCNC==0 && MCNu_PDG==14' # numu CC signal definition\n",
    "numu_nomu = 'fidVol && MCfidVol && MCNu_CCNC==0 && MCNu_PDG==14 && MCTrackPDG!=13 && MCTrackPurity>0.5' # not an MC muon\n",
    "numu_lowpur = 'fidVol && MCfidVol && MCNu_CCNC==0 && MCNu_PDG==14 && MCTrackPurity<0.5' #low purity\n",
    "numu_nc = 'fidVol && MCfidVol && MCNu_CCNC==1' # nutral current\n",
    "numu_ov = 'fidVol && !MCfidVol' # out of fiducial\n",
    "numu_other = 'fidVol && MCfidVol && MCNu_CCNC==0 && MCNu_PDG!=14' # e.g anti nu or nue\n",
    "#signal = 'MCfidVol && MCNu_CCNC==0 && MCNu_PDG==14'\n",
    "for x in sample:\n",
    "    x.SetAlias('muon','(muon_candidate_key==track_key)')\n",
    "    #x.SetAlias('muon','(track_key == key_muon)')\n",
    "    \n",
    "num_fidVol = {}\n",
    "for x in sample:\n",
    "    x.SetAlias('fidVol',fidVol)\n",
    "    x.SetAlias('MCfidVol',MCfidVol)\n",
    "    x.SetAlias('numu_signal',numu_signal)\n",
    "    x.SetAlias('numu_true',numu_true)\n",
    "    x.SetAlias('numu_nomu',numu_nomu)\n",
    "    x.SetAlias('numu_lowpur',numu_lowpur)\n",
    "    x.SetAlias('numu_nc',numu_nc)\n",
    "    x.SetAlias('numu_ov',numu_ov)\n",
    "    x.SetAlias('numu_other',numu_other)\n",
    "    num_fidVol[x] = x.GetEntries('fidVol && muon')*scale[x]\n",
    "    \n",
    "tot_num_fidVol = num_fidVol[ext]+num_fidVol[dirt]+num_fidVol[overlay]\n",
    "overlay_signals = {'numu_signal','numu_nomu','numu_lowpur','numu_nc','numu_ov','numu_other'}"
   ]
  },
  {
   "cell_type": "code",
   "execution_count": 8,
   "metadata": {},
   "outputs": [],
   "source": [
    "for x in sample_out:\n",
    "    x.SetAlias('muon','(track_key == key_muon)')\n",
    "    #x.SetAlias('muon','(key_muprotratio==track_key)')\n",
    "    \n",
    "num_fidVol = {}\n",
    "for x in sample_out:\n",
    "    x.SetAlias('fidVol',fidVol)\n",
    "    x.SetAlias('MCfidVol',MCfidVol)\n",
    "    x.SetAlias('numu_signal',numu_signal)\n",
    "    x.SetAlias('numu_true',numu_true)\n",
    "    x.SetAlias('numu_nomu',numu_nomu)\n",
    "    x.SetAlias('numu_lowpur',numu_lowpur)\n",
    "    x.SetAlias('numu_nc',numu_nc)\n",
    "    x.SetAlias('numu_ov',numu_ov)\n",
    "    x.SetAlias('numu_other',numu_other)\n",
    "    #num_fidVol[x] = x.GetEntries('fidVol && muon')*scale[x]\n",
    "    \n",
    "#tot_num_fidVol = num_fidVol[ext]+num_fidVol[dirt]+num_fidVol[overlay]\n",
    "#overlay_signals = {'numu_signal','numu_nomu','numu_lowpur','numu_nc','numu_ov','numu_other'}"
   ]
  },
  {
   "cell_type": "code",
   "execution_count": 9,
   "metadata": {},
   "outputs": [
    {
     "name": "stderr",
     "output_type": "stream",
     "text": [
      "Warning in <TCanvas::Constructor>: Deleting canvas with same name: c1\n"
     ]
    }
   ],
   "source": [
    "# Load the global variables for access of functions\n",
    "\n",
    "NuCC.loadGlobal(data,ext,dirt,overlay,data_out,ext_out,dirt_out,overlay_out,scale,scale_out,tot_num_fidVol,overlay_signals,sample,sample_out, name,name_out, outputdir_png, outputdir_root)\n",
    "#NuCC.printGlobal()"
   ]
  },
  {
   "cell_type": "code",
   "execution_count": 10,
   "metadata": {},
   "outputs": [],
   "source": [
    "# initialte ROOT default canvas\n",
    "ROOT.gStyle.SetOptStat(0)\n",
    "c1 = ROOT.TCanvas(\"c1\",\"c1\",1600,1200)\n",
    "c1.SetGrid(1)\n",
    "c1.SetLeftMargin(0.14)\n",
    "c1.SetRightMargin(0.18)\n",
    "c1.SetBottomMargin(0.14)"
   ]
  },
  {
   "cell_type": "code",
   "execution_count": 11,
   "metadata": {},
   "outputs": [
    {
     "data": {
      "text/plain": [
       "True"
      ]
     },
     "execution_count": 11,
     "metadata": {},
     "output_type": "execute_result"
    }
   ],
   "source": [
    "track_start_border_x = '(TrackStart_x_sce <(-1.55+1) || TrackStart_x_sce > (254.8-1))'\n",
    "track_end_border_x = '(TrackEnd_x_sce <(-1.55+1) || TrackEnd_x_sce > (254.8-1))'\n",
    "track_start_border_y = '(TrackStart_y_sce <(-115.53+1) || TrackStart_y_sce > (117.47-1))'\n",
    "track_end_border_y = '(TrackEnd_y_sce <(-115.53+1) || TrackEnd_y_sce > (117.47-1))'\n",
    "track_start_border_z = '(TrackStart_z_sce <(0.1+1) || TrackStart_z_sce > (1036.9-1))'\n",
    "track_end_border_z = '(TrackEnd_z_sce <(0.1+1) || TrackEnd_z_sce > (1039.9-1))'\n",
    "\n",
    "track_end_uncontained = '(' + track_end_border_x + ' || ' + track_end_border_y + ' || ' + track_end_border_z+ ')'\n",
    "\n",
    "\n",
    "data.SetAlias(\"track_end_uncontained\",track_end_uncontained)\n",
    "ext.SetAlias(\"track_end_uncontained\",track_end_uncontained)\n",
    "overlay.SetAlias(\"track_end_uncontained\",track_end_uncontained)\n",
    "dirt.SetAlias(\"track_end_uncontained\",track_end_uncontained)\n",
    "data_out.SetAlias(\"track_end_uncontained\",track_end_uncontained)\n",
    "ext_out.SetAlias(\"track_end_uncontained\",track_end_uncontained)\n",
    "overlay_out.SetAlias(\"track_end_uncontained\",track_end_uncontained)\n",
    "dirt_out.SetAlias(\"track_end_uncontained\",track_end_uncontained)\n",
    "\n",
    "data.SetAlias(\"crt_cut\",\"(abs(crtt0_time-(69000-crt_trig_corr_med)/1000-4)<0.8 || crtt0_time==-1)\")\n",
    "ext.SetAlias(\"crt_cut\",\"(abs(crtt0_time-(69000-crt_trig_corr_med)/1000-3.57+3.195-4)<0.8 || crtt0_time==-1)\")\n",
    "overlay.SetAlias(\"crt_cut\",\"(abs(crtt0_time-4)<0.8 || crtt0_time==-1)\")\n",
    "dirt.SetAlias(\"crt_cut\",\"(abs(crtt0_time-4)<0.8 || crtt0_time==-1)\")\n",
    "data_out.SetAlias(\"crt_cut\",\"(abs(crtt0_time-(69000-crt_trig_corr_med)/1000-4)<0.8 || crtt0_time==-1)\")\n",
    "ext_out.SetAlias(\"crt_cut\",\"(abs(crtt0_time-(69000-crt_trig_corr_med)/1000-3.57+3.195-4)<0.8 || crtt0_time==-1)\")\n",
    "overlay_out.SetAlias(\"crt_cut\",\"(abs(crtt0_time-4)<0.8 || crtt0_time==-1)\")\n",
    "dirt_out.SetAlias(\"crt_cut\",\"(abs(crtt0_time-4)<0.8 || crtt0_time==-1)\")\n",
    "\n",
    "crt_tom_cut = 'nr_crthit_top==0 && crthit_vertex_zcut==0 && (track_end_uncontained==1 || nr_crthit_beam_tres==0) && crt_cut'\n",
    "\n",
    "data.SetAlias(\"crt_tom_cut\",crt_tom_cut)\n",
    "ext.SetAlias(\"crt_tom_cut\",crt_tom_cut)\n",
    "overlay.SetAlias(\"crt_tom_cut\",crt_tom_cut)\n",
    "dirt.SetAlias(\"crt_tom_cut\",crt_tom_cut)\n",
    "data_out.SetAlias(\"crt_tom_cut\",crt_tom_cut)\n",
    "ext_out.SetAlias(\"crt_tom_cut\",crt_tom_cut)\n",
    "overlay_out.SetAlias(\"crt_tom_cut\",crt_tom_cut)\n",
    "dirt_out.SetAlias(\"crt_tom_cut\",crt_tom_cut)\n",
    "\n"
   ]
  },
  {
   "cell_type": "code",
   "execution_count": 13,
   "metadata": {},
   "outputs": [
    {
     "name": "stdout",
     "output_type": "stream",
     "text": [
      "Total number of entries:  302452.0\n",
      "PDG:  13 \t=\t65.5% ,\terror: 0.1% ,\tnumber:  198070.0\n",
      "PDG:  2212 \t=\t12.4% ,\terror: 0.1% ,\tnumber:  37643.0\n",
      "PDG:  -1 \t=\t9.5% ,\terror: 0.1% ,\tnumber:  28583.0\n",
      "PDG:  11 \t=\t3.7% ,\terror: 0.0% ,\tnumber:  11202.0\n",
      "PDG:  211 \t=\t3.6% ,\terror: 0.0% ,\tnumber:  11027.0\n",
      "PDG:  -211 \t=\t2.1% ,\terror: 0.0% ,\tnumber:  6476.0\n",
      "PDG:  -11 \t=\t1.3% ,\terror: 0.0% ,\tnumber:  3848.0\n",
      "PDG:  2112 \t=\t1.0% ,\terror: 0.0% ,\tnumber:  3115.0\n",
      "PDG:  -13 \t=\t0.6% ,\terror: 0.0% ,\tnumber:  1873.0\n",
      "PDG:  22 \t=\t0.0% ,\terror: 0.0% ,\tnumber:  103.0\n",
      "PDG:  321 \t=\t0.0% ,\terror: 0.0% ,\tnumber:  44.0\n",
      "PDG:  -321 \t=\t0.0% ,\terror: 0.0% ,\tnumber:  1.0\n"
     ]
    }
   ],
   "source": [
    "NuCC.pdg_content33_out('fidVol && muon')"
   ]
  },
  {
   "cell_type": "code",
   "execution_count": null,
   "metadata": {},
   "outputs": [],
   "source": []
  },
  {
   "cell_type": "code",
   "execution_count": 14,
   "metadata": {},
   "outputs": [
    {
     "name": "stdout",
     "output_type": "stream",
     "text": [
      "Efficiency for cut:  fidVol && muon\n",
      "Rejection on each sample:\n",
      "Keep of     ext:\t100.00%\t reject:\t0.00%\n",
      "Keep of overlay:\t100.00%\t reject:\t0.00%\n",
      "Keep of    dirt:\t100.00%\t reject:\t0.00%\n",
      "\n",
      "Efficiency:\t\t67.49%\n",
      "Purity:\t\t\t31.38%\n",
      "Purity*Efficiency\t21.18\n",
      "\n",
      "Amount of     ext:\t42.71%\n",
      "Amount of overlay:\t52.68%\n",
      "Amount of    dirt:\t4.61%\n",
      "\n",
      "Signal definition=  numu_lowpur: 3.02%\t(5.74%)\n",
      "Signal definition=   numu_other: 0.47%\t(0.90%)\n",
      "Signal definition=    numu_nomu: 2.49%\t(4.73%)\n",
      "Signal definition=      numu_ov: 8.52%\t(16.17%)\n",
      "Signal definition=  numu_signal: 31.38%\t(59.56%)\n",
      "Signal definition=      numu_nc: 6.80%\t(12.90%)\n"
     ]
    }
   ],
   "source": [
    "NuCC.printEff_out('fidVol && muon')"
   ]
  },
  {
   "cell_type": "code",
   "execution_count": 41,
   "metadata": {},
   "outputs": [
    {
     "name": "stdout",
     "output_type": "stream",
     "text": [
      "Efficiency for cut:  fidVol && muon && TrackLength>8\n",
      "Rejection on each sample:\n",
      "Keep of     ext:\t94.00%\t reject:\t6.00%\n",
      "Keep of overlay:\t95.96%\t reject:\t4.04%\n",
      "Keep of    dirt:\t91.66%\t reject:\t8.34%\n",
      "\n",
      "Efficiency:\t\t68.28%\n",
      "Purity:\t\t\t35.31%\n",
      "Purity*Efficiency\t24.11\n",
      "\n",
      "Amount of     ext:\t39.22%\n",
      "Amount of overlay:\t56.59%\n",
      "Amount of    dirt:\t4.20%\n",
      "\n",
      "Signal definition=  numu_lowpur: 3.15%\t(5.57%)\n",
      "Signal definition=   numu_other: 0.47%\t(0.83%)\n",
      "Signal definition=    numu_nomu: 2.67%\t(4.71%)\n",
      "Signal definition=      numu_ov: 8.28%\t(14.64%)\n",
      "Signal definition=  numu_signal: 35.31%\t(62.40%)\n",
      "Signal definition=      numu_nc: 6.71%\t(11.85%)\n"
     ]
    }
   ],
   "source": [
    "NuCC.printEff_out('fidVol && muon && TrackLength>8')"
   ]
  },
  {
   "cell_type": "code",
   "execution_count": 14,
   "metadata": {},
   "outputs": [
    {
     "name": "stdout",
     "output_type": "stream",
     "text": [
      "Efficiency for cut:  fidVol && muon && TrackLength>8 && nr_crthit_top==0 && crthit_vertex_zcut==0 && (track_end_uncontained==1 || nr_crthit_beam_tres==0) && crt_cut\n",
      "Rejection on each sample:\n",
      "Keep of     ext:\t43.08%\t reject:\t56.92%\n",
      "Keep of overlay:\t80.90%\t reject:\t19.10%\n",
      "Keep of    dirt:\t54.23%\t reject:\t45.77%\n",
      "\n",
      "Efficiency:\t\t60.82%\n",
      "Purity:\t\t\t46.14%\n",
      "Purity*Efficiency\t28.06\n",
      "\n",
      "Amount of     ext:\t26.37%\n",
      "Amount of overlay:\t69.99%\n",
      "Amount of    dirt:\t3.64%\n",
      "\n",
      "Signal definition=  numu_lowpur: 3.11%\t(4.45%)\n",
      "Signal definition=   numu_other: 0.61%\t(0.87%)\n",
      "Signal definition=    numu_nomu: 3.06%\t(4.37%)\n",
      "Signal definition=      numu_ov: 8.32%\t(11.89%)\n",
      "Signal definition=  numu_signal: 46.14%\t(65.92%)\n",
      "Signal definition=      numu_nc: 8.75%\t(12.50%)\n"
     ]
    }
   ],
   "source": [
    "NuCC.printEff_out('fidVol && muon && TrackLength>8 && nr_crthit_top==0 && crthit_vertex_zcut==0 && (track_end_uncontained==1 || nr_crthit_beam_tres==0) && crt_cut')"
   ]
  },
  {
   "cell_type": "code",
   "execution_count": 11,
   "metadata": {},
   "outputs": [
    {
     "name": "stdout",
     "output_type": "stream",
     "text": [
      "Efficiency for cut:  fidVol && muon &&  TrackLength>8 && nr_crthit_top==0 && (track_end_uncontained==1 || nr_crthit_beam_tres==0) && crt_cut\n",
      "Rejection on each sample:\n",
      "Keep of     ext:\t44.97%\t reject:\t55.03%\n",
      "Keep of overlay:\t81.28%\t reject:\t18.72%\n",
      "Keep of    dirt:\t59.65%\t reject:\t40.35%\n",
      "\n",
      "Efficiency:\t\t61.02%\n",
      "Purity:\t\t\t45.46%\n",
      "Purity*Efficiency\t27.74\n",
      "\n",
      "Amount of     ext:\t27.03%\n",
      "Amount of overlay:\t69.04%\n",
      "Amount of    dirt:\t3.93%\n",
      "\n",
      "Signal definition=  numu_lowpur: 3.07%\t(4.44%)\n",
      "Signal definition=   numu_other: 0.60%\t(0.87%)\n",
      "Signal definition=    numu_nomu: 3.01%\t(4.36%)\n",
      "Signal definition=      numu_ov: 8.32%\t(12.04%)\n",
      "Signal definition=  numu_signal: 45.46%\t(65.84%)\n",
      "Signal definition=      numu_nc: 8.60%\t(12.45%)\n"
     ]
    }
   ],
   "source": [
    "NuCC.printEff_out('fidVol && muon &&  TrackLength>8 && nr_crthit_top==0 && (track_end_uncontained==1 || nr_crthit_beam_tres==0) && crt_cut')"
   ]
  },
  {
   "cell_type": "code",
   "execution_count": 43,
   "metadata": {},
   "outputs": [
    {
     "name": "stdout",
     "output_type": "stream",
     "text": [
      "Total number of entries:  188041.0\n",
      "PDG:  13 \t=\t80.3% ,\terror: 0.2% ,\tnumber:  150918.0\n",
      "PDG:  2212 \t=\t6.8% ,\terror: 0.1% ,\tnumber:  12821.0\n",
      "PDG:  -1 \t=\t4.3% ,\terror: 0.0% ,\tnumber:  8092.0\n",
      "PDG:  211 \t=\t3.3% ,\terror: 0.0% ,\tnumber:  6144.0\n",
      "PDG:  11 \t=\t1.8% ,\terror: 0.0% ,\tnumber:  3373.0\n",
      "PDG:  -211 \t=\t1.7% ,\terror: 0.0% ,\tnumber:  3160.0\n",
      "PDG:  -13 \t=\t0.8% ,\terror: 0.0% ,\tnumber:  1466.0\n",
      "PDG:  2112 \t=\t0.7% ,\terror: 0.0% ,\tnumber:  1259.0\n",
      "PDG:  -11 \t=\t0.3% ,\terror: 0.0% ,\tnumber:  593.0\n",
      "PDG:  22 \t=\t0.0% ,\terror: 0.0% ,\tnumber:  45.0\n",
      "PDG:  321 \t=\t0.0% ,\terror: 0.0% ,\tnumber:  31.0\n"
     ]
    }
   ],
   "source": [
    "NuCC.pdg_content33_out('fidVol && muon && TrackLength>32 && nr_crthit_top==0 && crthit_vertex_zcut==0 && (track_end_uncontained==1 || nr_crthit_beam_tres==0) && crt_cut')"
   ]
  },
  {
   "cell_type": "code",
   "execution_count": 13,
   "metadata": {},
   "outputs": [
    {
     "data": {
      "text/plain": [
       "True"
      ]
     },
     "execution_count": 13,
     "metadata": {},
     "output_type": "execute_result"
    }
   ],
   "source": [
    "crt_tom_cut = 'nr_crthit_top==0 && crthit_vertex_zcut==0 && (track_end_uncontained==1 || nr_crthit_beam_tres==0) && crt_cut'\n",
    "\n",
    "data.SetAlias(\"crt_tom_cut\",crt_tom_cut)\n",
    "ext.SetAlias(\"crt_tom_cut\",crt_tom_cut)\n",
    "overlay.SetAlias(\"crt_tom_cut\",crt_tom_cut)\n",
    "dirt.SetAlias(\"crt_tom_cut\",crt_tom_cut)\n",
    "data_out.SetAlias(\"crt_tom_cut\",crt_tom_cut)\n",
    "ext_out.SetAlias(\"crt_tom_cut\",crt_tom_cut)\n",
    "overlay_out.SetAlias(\"crt_tom_cut\",crt_tom_cut)\n",
    "dirt_out.SetAlias(\"crt_tom_cut\",crt_tom_cut)\n"
   ]
  },
  {
   "cell_type": "code",
   "execution_count": 45,
   "metadata": {},
   "outputs": [
    {
     "name": "stdout",
     "output_type": "stream",
     "text": [
      "Efficiency for cut:  fidVol && muon && TrackLength>8 && crt_tom_cut && TrackScore>0.8\n",
      "Rejection on each sample:\n",
      "Keep of     ext:\t39.58%\t reject:\t60.42%\n",
      "Keep of overlay:\t76.63%\t reject:\t23.37%\n",
      "Keep of    dirt:\t48.17%\t reject:\t51.83%\n",
      "\n",
      "Efficiency:\t\t59.36%\n",
      "Purity:\t\t\t48.04%\n",
      "Purity*Efficiency\t28.52\n",
      "\n",
      "Amount of     ext:\t25.84%\n",
      "Amount of overlay:\t70.71%\n",
      "Amount of    dirt:\t3.45%\n",
      "\n",
      "Signal definition=  numu_lowpur: 2.86%\t(4.05%)\n",
      "Signal definition=   numu_other: 0.60%\t(0.85%)\n",
      "Signal definition=    numu_nomu: 3.11%\t(4.40%)\n",
      "Signal definition=      numu_ov: 7.89%\t(11.16%)\n",
      "Signal definition=  numu_signal: 48.04%\t(67.94%)\n",
      "Signal definition=      numu_nc: 8.20%\t(11.60%)\n"
     ]
    }
   ],
   "source": [
    "NuCC.printEff_out('fidVol && muon && TrackLength>8 && crt_tom_cut && TrackScore>0.8')"
   ]
  },
  {
   "cell_type": "code",
   "execution_count": 46,
   "metadata": {},
   "outputs": [],
   "source": [
    "#NuCC.printEff_out('fidVol && muon && TrackLength>8 && crt_tom_cut && TrackScore>0.8 && TrackLength>20')"
   ]
  },
  {
   "cell_type": "code",
   "execution_count": 47,
   "metadata": {},
   "outputs": [
    {
     "name": "stdout",
     "output_type": "stream",
     "text": [
      "Efficiency for cut:  fidVol && muon && TrackLength>8 && crt_tom_cut && TrackScore>0.8 && TrackLength>32\n",
      "Rejection on each sample:\n",
      "Keep of     ext:\t34.85%\t reject:\t65.15%\n",
      "Keep of overlay:\t66.61%\t reject:\t33.39%\n",
      "Keep of    dirt:\t36.86%\t reject:\t63.14%\n",
      "\n",
      "Efficiency:\t\t56.80%\n",
      "Purity:\t\t\t52.92%\n",
      "Purity*Efficiency\t30.06\n",
      "\n",
      "Amount of     ext:\t26.19%\n",
      "Amount of overlay:\t70.77%\n",
      "Amount of    dirt:\t3.04%\n",
      "\n",
      "Signal definition=  numu_lowpur: 2.77%\t(3.91%)\n",
      "Signal definition=   numu_other: 0.58%\t(0.82%)\n",
      "Signal definition=    numu_nomu: 2.72%\t(3.84%)\n",
      "Signal definition=      numu_ov: 7.12%\t(10.06%)\n",
      "Signal definition=  numu_signal: 52.92%\t(74.78%)\n",
      "Signal definition=      numu_nc: 4.67%\t(6.59%)\n"
     ]
    }
   ],
   "source": [
    "NuCC.printEff_out('fidVol && muon && TrackLength>8 && crt_tom_cut && TrackScore>0.8 && TrackLength>32')\n",
    "# 20cm = 150MeV MC momentum, 32 = 180 MeV, 25cm = 160MeV, 15cm = 130MeV, 10 = 115MeV, 8cm=100MeV"
   ]
  },
  {
   "cell_type": "code",
   "execution_count": 48,
   "metadata": {},
   "outputs": [
    {
     "name": "stdout",
     "output_type": "stream",
     "text": [
      "Efficiency for cut:  fidVol && muon && TrackLength>8 && crt_tom_cut && TrackScore>0.8                && TrackLength>32 && TrackPID_chimuon<24\n",
      "Rejection on each sample:\n",
      "Keep of     ext:\t33.73%\t reject:\t66.27%\n",
      "Keep of overlay:\t63.52%\t reject:\t36.48%\n",
      "Keep of    dirt:\t35.56%\t reject:\t64.44%\n",
      "\n",
      "Efficiency:\t\t55.95%\n",
      "Purity:\t\t\t54.43%\n",
      "Purity*Efficiency\t30.45\n",
      "\n",
      "Amount of     ext:\t26.47%\n",
      "Amount of overlay:\t70.47%\n",
      "Amount of    dirt:\t3.06%\n",
      "\n",
      "Signal definition=  numu_lowpur: 2.64%\t(3.75%)\n",
      "Signal definition=   numu_other: 0.56%\t(0.79%)\n",
      "Signal definition=    numu_nomu: 2.37%\t(3.36%)\n",
      "Signal definition=      numu_ov: 7.06%\t(10.02%)\n",
      "Signal definition=  numu_signal: 54.43%\t(77.24%)\n",
      "Signal definition=      numu_nc: 3.41%\t(4.84%)\n"
     ]
    }
   ],
   "source": [
    "NuCC.printEff_out('fidVol && muon && TrackLength>8 && crt_tom_cut && TrackScore>0.8\\\n",
    "                && TrackLength>32 && TrackPID_chimuon<24')"
   ]
  },
  {
   "cell_type": "code",
   "execution_count": 49,
   "metadata": {},
   "outputs": [
    {
     "name": "stdout",
     "output_type": "stream",
     "text": [
      "Efficiency for cut:  fidVol && muon && TrackLength>8 && crt_tom_cut && TrackScore>0.8                && TrackLength>32 && TrackPID_chimuon<30\n",
      "Rejection on each sample:\n",
      "Keep of     ext:\t34.27%\t reject:\t65.73%\n",
      "Keep of overlay:\t64.33%\t reject:\t35.67%\n",
      "Keep of    dirt:\t36.06%\t reject:\t63.94%\n",
      "\n",
      "Efficiency:\t\t56.36%\n",
      "Purity:\t\t\t54.09%\n",
      "Purity*Efficiency\t30.48\n",
      "\n",
      "Amount of     ext:\t26.53%\n",
      "Amount of overlay:\t70.40%\n",
      "Amount of    dirt:\t3.06%\n",
      "\n",
      "Signal definition=  numu_lowpur: 2.71%\t(3.85%)\n",
      "Signal definition=   numu_other: 0.56%\t(0.80%)\n",
      "Signal definition=    numu_nomu: 2.39%\t(3.39%)\n",
      "Signal definition=      numu_ov: 7.10%\t(10.08%)\n",
      "Signal definition=  numu_signal: 54.09%\t(76.83%)\n",
      "Signal definition=      numu_nc: 3.56%\t(5.05%)\n"
     ]
    }
   ],
   "source": [
    "NuCC.printEff_out('fidVol && muon && TrackLength>8 && crt_tom_cut && TrackScore>0.8\\\n",
    "                && TrackLength>32 && TrackPID_chimuon<30')"
   ]
  },
  {
   "cell_type": "code",
   "execution_count": 16,
   "metadata": {},
   "outputs": [
    {
     "name": "stdout",
     "output_type": "stream",
     "text": [
      "Efficiency for cut:  fidVol && muon && TrackLength>8 && crt_tom_cut && TrackScore>0.8                && TrackLength>20 && TrackPID_chimuon<30 && NuScore>0.1\n",
      "Rejection on each sample:\n",
      "Keep of     ext:\t11.30%\t reject:\t88.70%\n",
      "Keep of overlay:\t56.79%\t reject:\t43.21%\n",
      "Keep of    dirt:\t19.41%\t reject:\t80.59%\n",
      "\n",
      "Efficiency:\t\t51.83%\n",
      "Purity:\t\t\t67.62%\n",
      "Purity*Efficiency\t35.05\n",
      "\n",
      "Amount of     ext:\t13.54%\n",
      "Amount of overlay:\t83.94%\n",
      "Amount of    dirt:\t2.51%\n",
      "\n",
      "Signal definition=  numu_lowpur: 2.48%\t(2.95%)\n",
      "Signal definition=   numu_other: 0.72%\t(0.86%)\n",
      "Signal definition=    numu_nomu: 3.17%\t(3.77%)\n",
      "Signal definition=      numu_ov: 5.40%\t(6.43%)\n",
      "Signal definition=  numu_signal: 67.62%\t(80.56%)\n",
      "Signal definition=      numu_nc: 4.56%\t(5.43%)\n"
     ]
    }
   ],
   "source": [
    "NuCC.printEff_out('fidVol && muon && TrackLength>8 && crt_tom_cut && TrackScore>0.8\\\n",
    "                && TrackLength>20 && TrackPID_chimuon<30 && NuScore>0.1')"
   ]
  },
  {
   "cell_type": "code",
   "execution_count": 14,
   "metadata": {},
   "outputs": [
    {
     "name": "stdout",
     "output_type": "stream",
     "text": [
      "Total number of entries:  159944.0\n",
      "PDG:  13 \t=\t90.0% ,\terror: 0.2% ,\tnumber:  143877.0\n",
      "PDG:  211 \t=\t3.7% ,\terror: 0.0% ,\tnumber:  5843.0\n",
      "PDG:  2212 \t=\t3.5% ,\terror: 0.0% ,\tnumber:  5602.0\n",
      "PDG:  -211 \t=\t1.9% ,\terror: 0.0% ,\tnumber:  2999.0\n",
      "PDG:  -13 \t=\t0.8% ,\terror: 0.0% ,\tnumber:  1359.0\n",
      "PDG:  11 \t=\t0.1% ,\terror: 0.0% ,\tnumber:  145.0\n",
      "PDG:  -11 \t=\t0.1% ,\terror: 0.0% ,\tnumber:  97.0\n",
      "PDG:  321 \t=\t0.0% ,\terror: 0.0% ,\tnumber:  19.0\n",
      "PDG:  -321 \t=\t0.0% ,\terror: 0.0% ,\tnumber:  1.0\n"
     ]
    }
   ],
   "source": [
    "NuCC.pdg_content33_out('fidVol && muon && TrackLength>8 && crt_tom_cut && TrackScore>0.8\\\n",
    "                && TrackLength>20 && TrackPID_chimuon<30 && NuScore>0.1 && MCTrackPurity>0.5')"
   ]
  },
  {
   "cell_type": "code",
   "execution_count": null,
   "metadata": {},
   "outputs": [],
   "source": [
    "cut = 'fidVol && muon && TrackLength>8 && crt_tom_cut && TrackScore>0.8\\\n",
    "                && TrackLength>20 && TrackPID_chimuon<30 && NuScore>0.1'\n",
    "name = '_muon_cut'\n",
    "#NuCC.make_stacked_histo_plot_out(cut + ' && TrackTheta!=-9','cos(TrackTheta)','cos(theta)',-1,1,20,'costheta'+name)\n",
    "#NuCC.make_stacked_histo_plot_out(cut + ' && 1','TrackMomMCS_mom','MCS track Momentum [GeV]',0,1.5,20,'MCSTrack'+name)\n",
    "#NuCC.make_stacked_histo_plot_out(cut + ' && TrackPhi!=-9','TrackPhi','Track Phi',-3.141,3.141,20,'TrackPhi'+name)\n",
    "#NuCC.make_stacked_histo_plot_out(cut,'Nu_Vz_sce','Reco. Nu vertex Z position [cm]',-20,1020,52,'NuVz_sce'+name)\n",
    "#NuCC.make_stacked_histo_plot_out(cut,'Nu_Vy_sce','Reco. Nu vertex Y position [cm]',-150,150,30,'NuVy_sce'+name)\n",
    "NuCC.make_stacked_histo_plot_out(cut,'Nu_Vx_sce','Reco. Nu vertex X position [cm]',-10,270,28,'NuVx_sce'+name)\n",
    "#NuCC.make_stacked_histo_plot_out(cut,'TrackTheta','Total NuScore of event',0,1,20,'NuScore'+name)"
   ]
  },
  {
   "cell_type": "code",
   "execution_count": 33,
   "metadata": {},
   "outputs": [
    {
     "name": "stdout",
     "output_type": "stream",
     "text": [
      "Efficiency:\t68.55%\n",
      "Purity:\t\t33.67%\n"
     ]
    },
    {
     "name": "stderr",
     "output_type": "stream",
     "text": [
      "Info in <TCanvas::Print>: png file /home/tmettler/Desktop/ub_data/mcc9.1/v08_00_00_33/V08_00_00_17/muon_cut_MCscale//png/h_eff_energyinitial.png has been created\n",
      "Info in <TCanvas::SaveAs>: ROOT file /home/tmettler/Desktop/ub_data/mcc9.1/v08_00_00_33/V08_00_00_17/muon_cut_MCscale//root/h_eff_energyinitial.root has been created\n",
      "Info in <TCanvas::Print>: png file /home/tmettler/Desktop/ub_data/mcc9.1/v08_00_00_33/V08_00_00_17/muon_cut_MCscale//png/h_eff_thetainitial.png has been created\n",
      "Info in <TCanvas::SaveAs>: ROOT file /home/tmettler/Desktop/ub_data/mcc9.1/v08_00_00_33/V08_00_00_17/muon_cut_MCscale//root/h_eff_thetainitial.root has been created\n",
      "Info in <TCanvas::Print>: png file /home/tmettler/Desktop/ub_data/mcc9.1/v08_00_00_33/V08_00_00_17/muon_cut_MCscale//png/h_eff_phiinitial.png has been created\n",
      "Info in <TCanvas::SaveAs>: ROOT file /home/tmettler/Desktop/ub_data/mcc9.1/v08_00_00_33/V08_00_00_17/muon_cut_MCscale//root/h_eff_phiinitial.root has been created\n",
      "Info in <TCanvas::Print>: png file /home/tmettler/Desktop/ub_data/mcc9.1/v08_00_00_33/V08_00_00_17/muon_cut_MCscale//png/h_eff_Vxinitial.png has been created\n",
      "Info in <TCanvas::SaveAs>: ROOT file /home/tmettler/Desktop/ub_data/mcc9.1/v08_00_00_33/V08_00_00_17/muon_cut_MCscale//root/h_eff_Vxinitial.root has been created\n",
      "Warning in <TROOT::Append>: Replacing existing TH1: h_init_eff_V (Potential memory leak).\n",
      "Warning in <TROOT::Append>: Replacing existing TH1: h_init_eff_V_1 (Potential memory leak).\n",
      "Info in <TCanvas::Print>: png file /home/tmettler/Desktop/ub_data/mcc9.1/v08_00_00_33/V08_00_00_17/muon_cut_MCscale//png/h_eff_Vyinitial.png has been created\n",
      "Info in <TCanvas::SaveAs>: ROOT file /home/tmettler/Desktop/ub_data/mcc9.1/v08_00_00_33/V08_00_00_17/muon_cut_MCscale//root/h_eff_Vyinitial.root has been created\n",
      "Warning in <TROOT::Append>: Replacing existing TH1: h_init_eff_V (Potential memory leak).\n",
      "Warning in <TROOT::Append>: Replacing existing TH1: h_init_eff_V_1 (Potential memory leak).\n",
      "Info in <TCanvas::Print>: png file /home/tmettler/Desktop/ub_data/mcc9.1/v08_00_00_33/V08_00_00_17/muon_cut_MCscale//png/h_eff_Vzinitial.png has been created\n",
      "Info in <TCanvas::SaveAs>: ROOT file /home/tmettler/Desktop/ub_data/mcc9.1/v08_00_00_33/V08_00_00_17/muon_cut_MCscale//root/h_eff_Vzinitial.root has been created\n"
     ]
    }
   ],
   "source": [
    "nenner = 'numu_true'\n",
    "zahler = 'fidVol && muon && numu_signal'\n",
    "cut = 'fidVol && muon'\n",
    "NuCC.plot_eff_outV2(nenner,zahler,cut,'initial','initial')"
   ]
  },
  {
   "cell_type": "code",
   "execution_count": 55,
   "metadata": {},
   "outputs": [
    {
     "name": "stdout",
     "output_type": "stream",
     "text": [
      "Efficiency:\t56.36%\n",
      "Purity:\t\t54.09%\n"
     ]
    },
    {
     "name": "stderr",
     "output_type": "stream",
     "text": [
      "Info in <TCanvas::Print>: png file /home/tmettler/Desktop/ub_data/mcc9.1/v08_00_00_33/V08_00_00_17/muon_cut_MCscale//png/h_eff_energycrt_muon_tot.png has been created\n",
      "Info in <TCanvas::SaveAs>: ROOT file /home/tmettler/Desktop/ub_data/mcc9.1/v08_00_00_33/V08_00_00_17/muon_cut_MCscale//root/h_eff_energycrt_muon_tot.root has been created\n",
      "Info in <TCanvas::Print>: png file /home/tmettler/Desktop/ub_data/mcc9.1/v08_00_00_33/V08_00_00_17/muon_cut_MCscale//png/h_eff_thetacrt_muon_tot.png has been created\n",
      "Info in <TCanvas::SaveAs>: ROOT file /home/tmettler/Desktop/ub_data/mcc9.1/v08_00_00_33/V08_00_00_17/muon_cut_MCscale//root/h_eff_thetacrt_muon_tot.root has been created\n",
      "Info in <TCanvas::Print>: png file /home/tmettler/Desktop/ub_data/mcc9.1/v08_00_00_33/V08_00_00_17/muon_cut_MCscale//png/h_eff_phicrt_muon_tot.png has been created\n",
      "Info in <TCanvas::SaveAs>: ROOT file /home/tmettler/Desktop/ub_data/mcc9.1/v08_00_00_33/V08_00_00_17/muon_cut_MCscale//root/h_eff_phicrt_muon_tot.root has been created\n",
      "Info in <TCanvas::Print>: png file /home/tmettler/Desktop/ub_data/mcc9.1/v08_00_00_33/V08_00_00_17/muon_cut_MCscale//png/h_eff_Vxcrt_muon_tot.png has been created\n",
      "Info in <TCanvas::SaveAs>: ROOT file /home/tmettler/Desktop/ub_data/mcc9.1/v08_00_00_33/V08_00_00_17/muon_cut_MCscale//root/h_eff_Vxcrt_muon_tot.root has been created\n",
      "Warning in <TROOT::Append>: Replacing existing TH1: h_init_eff_V (Potential memory leak).\n",
      "Warning in <TROOT::Append>: Replacing existing TH1: h_init_eff_V_1 (Potential memory leak).\n",
      "Info in <TCanvas::Print>: png file /home/tmettler/Desktop/ub_data/mcc9.1/v08_00_00_33/V08_00_00_17/muon_cut_MCscale//png/h_eff_Vycrt_muon_tot.png has been created\n",
      "Info in <TCanvas::SaveAs>: ROOT file /home/tmettler/Desktop/ub_data/mcc9.1/v08_00_00_33/V08_00_00_17/muon_cut_MCscale//root/h_eff_Vycrt_muon_tot.root has been created\n",
      "Warning in <TROOT::Append>: Replacing existing TH1: h_init_eff_V (Potential memory leak).\n",
      "Warning in <TROOT::Append>: Replacing existing TH1: h_init_eff_V_1 (Potential memory leak).\n",
      "Info in <TCanvas::Print>: png file /home/tmettler/Desktop/ub_data/mcc9.1/v08_00_00_33/V08_00_00_17/muon_cut_MCscale//png/h_eff_Vzcrt_muon_tot.png has been created\n",
      "Info in <TCanvas::SaveAs>: ROOT file /home/tmettler/Desktop/ub_data/mcc9.1/v08_00_00_33/V08_00_00_17/muon_cut_MCscale//root/h_eff_Vzcrt_muon_tot.root has been created\n"
     ]
    }
   ],
   "source": [
    "nenner = 'numu_true'\n",
    "zahler = 'fidVol && muon && TrackLength>8 && crt_tom_cut && TrackScore>0.8\\\n",
    "                && TrackLength>32 && TrackPID_chimuon<30 && numu_true'\n",
    "cut = 'fidVol && muon && TrackLength>8 && crt_tom_cut && TrackScore>0.8\\\n",
    "                && TrackLength>32 && TrackPID_chimuon<30'\n",
    "NuCC.plot_eff_outV2(nenner,zahler,cut,'crt_muon_tot','crt_muon_tot')"
   ]
  },
  {
   "cell_type": "code",
   "execution_count": 19,
   "metadata": {},
   "outputs": [
    {
     "name": "stdout",
     "output_type": "stream",
     "text": [
      "Efficiency:\t56.36%\n",
      "Purity:\t\t54.23%\n"
     ]
    },
    {
     "name": "stderr",
     "output_type": "stream",
     "text": [
      "Info in <TCanvas::Print>: png file /home/tmettler/Desktop/ub_data/mcc9.1/v08_00_00_33/V08_00_00_17/muon_cut_MCscale//png/h_eff_energycrt_muon_only.png has been created\n",
      "Info in <TCanvas::SaveAs>: ROOT file /home/tmettler/Desktop/ub_data/mcc9.1/v08_00_00_33/V08_00_00_17/muon_cut_MCscale//root/h_eff_energycrt_muon_only.root has been created\n",
      "Info in <TCanvas::Print>: png file /home/tmettler/Desktop/ub_data/mcc9.1/v08_00_00_33/V08_00_00_17/muon_cut_MCscale//png/h_eff_thetacrt_muon_only.png has been created\n",
      "Info in <TCanvas::SaveAs>: ROOT file /home/tmettler/Desktop/ub_data/mcc9.1/v08_00_00_33/V08_00_00_17/muon_cut_MCscale//root/h_eff_thetacrt_muon_only.root has been created\n",
      "Info in <TCanvas::Print>: png file /home/tmettler/Desktop/ub_data/mcc9.1/v08_00_00_33/V08_00_00_17/muon_cut_MCscale//png/h_eff_phicrt_muon_only.png has been created\n",
      "Info in <TCanvas::SaveAs>: ROOT file /home/tmettler/Desktop/ub_data/mcc9.1/v08_00_00_33/V08_00_00_17/muon_cut_MCscale//root/h_eff_phicrt_muon_only.root has been created\n",
      "Info in <TCanvas::Print>: png file /home/tmettler/Desktop/ub_data/mcc9.1/v08_00_00_33/V08_00_00_17/muon_cut_MCscale//png/h_eff_Vxcrt_muon_only.png has been created\n",
      "Info in <TCanvas::SaveAs>: ROOT file /home/tmettler/Desktop/ub_data/mcc9.1/v08_00_00_33/V08_00_00_17/muon_cut_MCscale//root/h_eff_Vxcrt_muon_only.root has been created\n",
      "Warning in <TROOT::Append>: Replacing existing TH1: h_init_eff_V (Potential memory leak).\n",
      "Warning in <TROOT::Append>: Replacing existing TH1: h_init_eff_V_1 (Potential memory leak).\n",
      "Info in <TCanvas::Print>: png file /home/tmettler/Desktop/ub_data/mcc9.1/v08_00_00_33/V08_00_00_17/muon_cut_MCscale//png/h_eff_Vycrt_muon_only.png has been created\n",
      "Info in <TCanvas::SaveAs>: ROOT file /home/tmettler/Desktop/ub_data/mcc9.1/v08_00_00_33/V08_00_00_17/muon_cut_MCscale//root/h_eff_Vycrt_muon_only.root has been created\n",
      "Warning in <TROOT::Append>: Replacing existing TH1: h_init_eff_V (Potential memory leak).\n",
      "Warning in <TROOT::Append>: Replacing existing TH1: h_init_eff_V_1 (Potential memory leak).\n",
      "Info in <TCanvas::Print>: png file /home/tmettler/Desktop/ub_data/mcc9.1/v08_00_00_33/V08_00_00_17/muon_cut_MCscale//png/h_eff_Vzcrt_muon_only.png has been created\n",
      "Info in <TCanvas::SaveAs>: ROOT file /home/tmettler/Desktop/ub_data/mcc9.1/v08_00_00_33/V08_00_00_17/muon_cut_MCscale//root/h_eff_Vzcrt_muon_only.root has been created\n"
     ]
    }
   ],
   "source": [
    "nenner = 'fidVol && muon && numu_true && crt_tom_cut'\n",
    "zahler = 'fidVol && muon && TrackLength>8 && crt_tom_cut && TrackScore>0.8\\\n",
    "                && TrackLength>32 && TrackPID_chimuon<30 && numu_true'\n",
    "cut = 'fidVol && muon && TrackLength>8 && crt_tom_cut && TrackScore>0.8\\\n",
    "                && TrackLength>32 && TrackPID_chimuon<30'\n",
    "NuCC.plot_eff_outV2(nenner,zahler,cut,'crt_muon_only','crt_muon_only')"
   ]
  },
  {
   "cell_type": "code",
   "execution_count": 57,
   "metadata": {},
   "outputs": [
    {
     "name": "stdout",
     "output_type": "stream",
     "text": [
      "Efficiency:\t60.75%\n",
      "Purity:\t\t46.04%\n"
     ]
    },
    {
     "name": "stderr",
     "output_type": "stream",
     "text": [
      "Info in <TCanvas::Print>: png file /home/tmettler/Desktop/ub_data/mcc9.1/v08_00_00_33/V08_00_00_17/muon_cut_MCscale//png/h_eff_energycrt_only.png has been created\n",
      "Info in <TCanvas::SaveAs>: ROOT file /home/tmettler/Desktop/ub_data/mcc9.1/v08_00_00_33/V08_00_00_17/muon_cut_MCscale//root/h_eff_energycrt_only.root has been created\n",
      "Info in <TCanvas::Print>: png file /home/tmettler/Desktop/ub_data/mcc9.1/v08_00_00_33/V08_00_00_17/muon_cut_MCscale//png/h_eff_thetacrt_only.png has been created\n",
      "Info in <TCanvas::SaveAs>: ROOT file /home/tmettler/Desktop/ub_data/mcc9.1/v08_00_00_33/V08_00_00_17/muon_cut_MCscale//root/h_eff_thetacrt_only.root has been created\n",
      "Info in <TCanvas::Print>: png file /home/tmettler/Desktop/ub_data/mcc9.1/v08_00_00_33/V08_00_00_17/muon_cut_MCscale//png/h_eff_phicrt_only.png has been created\n",
      "Info in <TCanvas::SaveAs>: ROOT file /home/tmettler/Desktop/ub_data/mcc9.1/v08_00_00_33/V08_00_00_17/muon_cut_MCscale//root/h_eff_phicrt_only.root has been created\n",
      "Info in <TCanvas::Print>: png file /home/tmettler/Desktop/ub_data/mcc9.1/v08_00_00_33/V08_00_00_17/muon_cut_MCscale//png/h_eff_Vxcrt_only.png has been created\n",
      "Info in <TCanvas::SaveAs>: ROOT file /home/tmettler/Desktop/ub_data/mcc9.1/v08_00_00_33/V08_00_00_17/muon_cut_MCscale//root/h_eff_Vxcrt_only.root has been created\n",
      "Warning in <TROOT::Append>: Replacing existing TH1: h_init_eff_V (Potential memory leak).\n",
      "Warning in <TROOT::Append>: Replacing existing TH1: h_init_eff_V_1 (Potential memory leak).\n",
      "Info in <TCanvas::Print>: png file /home/tmettler/Desktop/ub_data/mcc9.1/v08_00_00_33/V08_00_00_17/muon_cut_MCscale//png/h_eff_Vycrt_only.png has been created\n",
      "Info in <TCanvas::SaveAs>: ROOT file /home/tmettler/Desktop/ub_data/mcc9.1/v08_00_00_33/V08_00_00_17/muon_cut_MCscale//root/h_eff_Vycrt_only.root has been created\n",
      "Warning in <TROOT::Append>: Replacing existing TH1: h_init_eff_V (Potential memory leak).\n",
      "Warning in <TROOT::Append>: Replacing existing TH1: h_init_eff_V_1 (Potential memory leak).\n",
      "Info in <TCanvas::Print>: png file /home/tmettler/Desktop/ub_data/mcc9.1/v08_00_00_33/V08_00_00_17/muon_cut_MCscale//png/h_eff_Vzcrt_only.png has been created\n",
      "Info in <TCanvas::SaveAs>: ROOT file /home/tmettler/Desktop/ub_data/mcc9.1/v08_00_00_33/V08_00_00_17/muon_cut_MCscale//root/h_eff_Vzcrt_only.root has been created\n"
     ]
    }
   ],
   "source": [
    "nenner = 'fidVol && muon && numu_true'\n",
    "zahler = 'fidVol && muon && TrackLength>8 && crt_tom_cut && numu_true'\n",
    "cut = 'fidVol && muon && TrackLength>8 && crt_tom_cut'\n",
    "NuCC.plot_eff_outV2(nenner,zahler,cut,'crt_only','crt_only')"
   ]
  },
  {
   "cell_type": "code",
   "execution_count": 24,
   "metadata": {},
   "outputs": [
    {
     "name": "stdout",
     "output_type": "stream",
     "text": [
      "Efficiency:\t52.77%\n",
      "Purity:\t\t68.21%\n"
     ]
    },
    {
     "name": "stderr",
     "output_type": "stream",
     "text": [
      "Warning in <TCanvas::Constructor>: Deleting canvas with same name: c1\n",
      "Info in <TCanvas::Print>: png file /home/tmettler/Desktop/ub_data/mcc9.1/v08_00_00_33/V08_00_00_17/muon_cut_MCscale//png/h_eff_energyall.png has been created\n",
      "Info in <TCanvas::SaveAs>: ROOT file /home/tmettler/Desktop/ub_data/mcc9.1/v08_00_00_33/V08_00_00_17/muon_cut_MCscale//root/h_eff_energyall.root has been created\n",
      "Info in <TCanvas::Print>: png file /home/tmettler/Desktop/ub_data/mcc9.1/v08_00_00_33/V08_00_00_17/muon_cut_MCscale//png/h_eff_thetaall.png has been created\n",
      "Info in <TCanvas::SaveAs>: ROOT file /home/tmettler/Desktop/ub_data/mcc9.1/v08_00_00_33/V08_00_00_17/muon_cut_MCscale//root/h_eff_thetaall.root has been created\n",
      "Info in <TCanvas::Print>: png file /home/tmettler/Desktop/ub_data/mcc9.1/v08_00_00_33/V08_00_00_17/muon_cut_MCscale//png/h_eff_phiall.png has been created\n",
      "Info in <TCanvas::SaveAs>: ROOT file /home/tmettler/Desktop/ub_data/mcc9.1/v08_00_00_33/V08_00_00_17/muon_cut_MCscale//root/h_eff_phiall.root has been created\n",
      "Info in <TCanvas::Print>: png file /home/tmettler/Desktop/ub_data/mcc9.1/v08_00_00_33/V08_00_00_17/muon_cut_MCscale//png/h_eff_Vxall.png has been created\n",
      "Info in <TCanvas::SaveAs>: ROOT file /home/tmettler/Desktop/ub_data/mcc9.1/v08_00_00_33/V08_00_00_17/muon_cut_MCscale//root/h_eff_Vxall.root has been created\n",
      "Warning in <TROOT::Append>: Replacing existing TH1: h_init_eff_V (Potential memory leak).\n",
      "Warning in <TROOT::Append>: Replacing existing TH1: h_init_eff_V_1 (Potential memory leak).\n",
      "Info in <TCanvas::Print>: png file /home/tmettler/Desktop/ub_data/mcc9.1/v08_00_00_33/V08_00_00_17/muon_cut_MCscale//png/h_eff_Vyall.png has been created\n",
      "Info in <TCanvas::SaveAs>: ROOT file /home/tmettler/Desktop/ub_data/mcc9.1/v08_00_00_33/V08_00_00_17/muon_cut_MCscale//root/h_eff_Vyall.root has been created\n",
      "Warning in <TROOT::Append>: Replacing existing TH1: h_init_eff_V (Potential memory leak).\n",
      "Warning in <TROOT::Append>: Replacing existing TH1: h_init_eff_V_1 (Potential memory leak).\n",
      "Info in <TCanvas::Print>: png file /home/tmettler/Desktop/ub_data/mcc9.1/v08_00_00_33/V08_00_00_17/muon_cut_MCscale//png/h_eff_Vzall.png has been created\n",
      "Info in <TCanvas::SaveAs>: ROOT file /home/tmettler/Desktop/ub_data/mcc9.1/v08_00_00_33/V08_00_00_17/muon_cut_MCscale//root/h_eff_Vzall.root has been created\n"
     ]
    }
   ],
   "source": [
    "nenner = 'numu_true'\n",
    "zahler = 'fidVol && muon && TrackLength>8 && crt_tom_cut && TrackScore>0.8\\\n",
    "                && TrackLength>20 && TrackPID_chimuon<30 && NuScore>0.1 && numu_true'\n",
    "cut = 'fidVol && muon && TrackLength>8 && crt_tom_cut && TrackScore>0.8\\\n",
    "                && TrackLength>20 && TrackPID_chimuon<30 && NuScore>0.1'\n",
    "NuCC.plot_eff_outV2(nenner,zahler,cut,'all','all')"
   ]
  },
  {
   "cell_type": "code",
   "execution_count": 18,
   "metadata": {},
   "outputs": [
    {
     "name": "stdout",
     "output_type": "stream",
     "text": [
      "Efficiency:\t51.23%\n",
      "Purity:\t\t69.61%\n"
     ]
    },
    {
     "name": "stderr",
     "output_type": "stream",
     "text": [
      "Info in <TCanvas::Print>: png file /home/tmettler/Desktop/ub_data/mcc9.1/v08_00_00_33/V08_00_00_17/muon_cut_MCscale//png/h_eff_energynu_only.png has been created\n",
      "Info in <TCanvas::SaveAs>: ROOT file /home/tmettler/Desktop/ub_data/mcc9.1/v08_00_00_33/V08_00_00_17/muon_cut_MCscale//root/h_eff_energynu_only.root has been created\n",
      "Info in <TCanvas::Print>: png file /home/tmettler/Desktop/ub_data/mcc9.1/v08_00_00_33/V08_00_00_17/muon_cut_MCscale//png/h_eff_thetanu_only.png has been created\n",
      "Info in <TCanvas::SaveAs>: ROOT file /home/tmettler/Desktop/ub_data/mcc9.1/v08_00_00_33/V08_00_00_17/muon_cut_MCscale//root/h_eff_thetanu_only.root has been created\n",
      "Info in <TCanvas::Print>: png file /home/tmettler/Desktop/ub_data/mcc9.1/v08_00_00_33/V08_00_00_17/muon_cut_MCscale//png/h_eff_phinu_only.png has been created\n",
      "Info in <TCanvas::SaveAs>: ROOT file /home/tmettler/Desktop/ub_data/mcc9.1/v08_00_00_33/V08_00_00_17/muon_cut_MCscale//root/h_eff_phinu_only.root has been created\n",
      "Info in <TCanvas::Print>: png file /home/tmettler/Desktop/ub_data/mcc9.1/v08_00_00_33/V08_00_00_17/muon_cut_MCscale//png/h_eff_Vxnu_only.png has been created\n",
      "Info in <TCanvas::SaveAs>: ROOT file /home/tmettler/Desktop/ub_data/mcc9.1/v08_00_00_33/V08_00_00_17/muon_cut_MCscale//root/h_eff_Vxnu_only.root has been created\n",
      "Warning in <TROOT::Append>: Replacing existing TH1: h_init_eff_V (Potential memory leak).\n",
      "Warning in <TROOT::Append>: Replacing existing TH1: h_init_eff_V_1 (Potential memory leak).\n",
      "Info in <TCanvas::Print>: png file /home/tmettler/Desktop/ub_data/mcc9.1/v08_00_00_33/V08_00_00_17/muon_cut_MCscale//png/h_eff_Vynu_only.png has been created\n",
      "Info in <TCanvas::SaveAs>: ROOT file /home/tmettler/Desktop/ub_data/mcc9.1/v08_00_00_33/V08_00_00_17/muon_cut_MCscale//root/h_eff_Vynu_only.root has been created\n",
      "Warning in <TROOT::Append>: Replacing existing TH1: h_init_eff_V (Potential memory leak).\n",
      "Warning in <TROOT::Append>: Replacing existing TH1: h_init_eff_V_1 (Potential memory leak).\n",
      "Info in <TCanvas::Print>: png file /home/tmettler/Desktop/ub_data/mcc9.1/v08_00_00_33/V08_00_00_17/muon_cut_MCscale//png/h_eff_Vznu_only.png has been created\n",
      "Info in <TCanvas::SaveAs>: ROOT file /home/tmettler/Desktop/ub_data/mcc9.1/v08_00_00_33/V08_00_00_17/muon_cut_MCscale//root/h_eff_Vznu_only.root has been created\n"
     ]
    }
   ],
   "source": [
    "nenner = 'numu_true && fidVol && muon && TrackLength>8 && crt_tom_cut && TrackScore>0.8\\\n",
    "                && TrackLength>32 && TrackPID_chimuon<30'\n",
    "zahler = 'fidVol && muon && TrackLength>8 && crt_tom_cut && TrackScore>0.8\\\n",
    "                && TrackLength>32 && TrackPID_chimuon<30 && NuScore>0.1 && numu_true'\n",
    "cut = 'fidVol && muon && TrackLength>8 && crt_tom_cut && TrackScore>0.8\\\n",
    "                && TrackLength>32 && TrackPID_chimuon<30 && NuScore>0.1'\n",
    "NuCC.plot_eff_outV2(nenner,zahler,cut,'nu_only','nu_only')"
   ]
  },
  {
   "cell_type": "code",
   "execution_count": null,
   "metadata": {},
   "outputs": [],
   "source": []
  },
  {
   "cell_type": "code",
   "execution_count": null,
   "metadata": {},
   "outputs": [],
   "source": []
  },
  {
   "cell_type": "code",
   "execution_count": null,
   "metadata": {},
   "outputs": [],
   "source": []
  },
  {
   "cell_type": "code",
   "execution_count": 26,
   "metadata": {},
   "outputs": [
    {
     "name": "stderr",
     "output_type": "stream",
     "text": [
      "Warning in <TCanvas::Constructor>: Deleting canvas with same name: c1\n"
     ]
    }
   ],
   "source": [
    "# initialte ROOT default canvas\n",
    "ROOT.gStyle.SetOptStat(0)\n",
    "c1 = ROOT.TCanvas(\"c1\",\"c1\",1600,1200)\n",
    "c1.SetGrid(1)\n",
    "c1.SetLeftMargin(0.14)\n",
    "c1.SetRightMargin(0.18)\n",
    "c1.SetBottomMargin(0.14)"
   ]
  },
  {
   "cell_type": "code",
   "execution_count": 22,
   "metadata": {},
   "outputs": [
    {
     "name": "stdout",
     "output_type": "stream",
     "text": [
      "Variation of cut on: TrackLength\n",
      "Maximum value:  35.995880127\n",
      "Bin:  21  -> Value:  20.0\n"
     ]
    },
    {
     "name": "stderr",
     "output_type": "stream",
     "text": [
      "Warning in <TROOT::Append>: Replacing existing TH1: h_eff (Potential memory leak).\n",
      "Warning in <TROOT::Append>: Replacing existing TH1: h_pur (Potential memory leak).\n",
      "Warning in <TROOT::Append>: Replacing existing TH1: h_effpur (Potential memory leak).\n",
      "Info in <TCanvas::Print>: png file /home/tmettler/Desktop/ub_data/mcc9.1/v08_00_00_33/V08_00_00_17/muon_cut_MCscale//png/TrackLength.png has been created\n",
      "Info in <TCanvas::SaveAs>: ROOT file /home/tmettler/Desktop/ub_data/mcc9.1/v08_00_00_33/V08_00_00_17/muon_cut_MCscale//root/TrackLength.root has been created\n"
     ]
    },
    {
     "data": {
      "image/png": "[encoded data removed]",
      "text/plain": [
       "<IPython.core.display.Image object>"
      ]
     },
     "metadata": {},
     "output_type": "display_data"
    }
   ],
   "source": [
    "value = 'TrackLength'\n",
    "xbins = 30\n",
    "xstart = 0\n",
    "xend = 30\n",
    "step = (xend-xstart)/xbins\n",
    "title = 'Track length [cm]'\n",
    "\n",
    "h_eff =  ROOT.TH1F(\"h_eff\",title,xbins,xstart,xend)\n",
    "h_pur = ROOT.TH1F(\"h_pur\",title,xbins,xstart,xend)\n",
    "h_effpur = ROOT.TH1F(\"h_effpur\",title,xbins,xstart,xend)\n",
    "for i in range(xbins): \n",
    "    cut = 'muon && fidVol && TrackPID_chimuon<30 && NuScore>0.1 && crt_tom_cut && TrackScore>0.8 && ('+value+'>('+str(xstart)+'+'+str(step)+'*'+str(i)+'))'\n",
    "    #print cut\n",
    "    pur = overlay_out.GetEntries(cut+' && numu_signal')*scale[overlay]*100.0/(NuCC.getTotNum_out(cut)+0.00001)\n",
    "    eff = overlay_out.GetEntries(cut+' && numu_signal')*100.0/overlay_out.GetEntries(\"numu_true\")\n",
    "    h_eff.SetBinContent(i+1,eff)\n",
    "    h_pur.SetBinContent(i+1,pur)\n",
    "    h_effpur.SetBinContent(i+1,eff*pur/100.0)\n",
    "    #print eff ,pur, eff*pur,i\n",
    "\n",
    "legend = ROOT.TLegend(0.15,0.75,0.48,0.9);\n",
    "legend.AddEntry(h_eff,\"efficiency\",\"f\");\n",
    "legend.AddEntry(h_pur,\"purity\",\"f\");\n",
    "legend.AddEntry(h_effpur,\"eff * pur\",\"f\");\n",
    "\n",
    "h_eff.SetLineColor(1)\n",
    "h_eff.SetMaximum(100)\n",
    "h_eff.SetMinimum(0)\n",
    "h_pur.SetLineColor(2)\n",
    "h_effpur.SetLineColor(3)\n",
    "h_pur.SetLineWidth(3)\n",
    "h_eff.SetLineWidth(3)\n",
    "h_effpur.SetLineWidth(3)\n",
    "h_eff.Draw()\n",
    "legend.Draw()\n",
    "h_pur.Draw('same')\n",
    "h_effpur.Draw('same')\n",
    "h_eff.Draw('same')\n",
    "c1.SetLogy(0)\n",
    "c1.Draw()\n",
    "c1.SaveAs(outputdir_png+ value +\".png\");\n",
    "c1.SaveAs(outputdir_root+ value+ \".root\");\n",
    "\n",
    "print 'Variation of cut on: '+value\n",
    "print 'Maximum value: ', h_effpur.GetMaximum()\n",
    "print 'Bin: ', h_effpur.GetMaximumBin(),' -> Value: ', xstart+(h_effpur.GetMaximumBin()-1)*step"
   ]
  },
  {
   "cell_type": "code",
   "execution_count": 27,
   "metadata": {},
   "outputs": [
    {
     "name": "stdout",
     "output_type": "stream",
     "text": [
      "Variation of cut on: TrackPID_chimuon\n",
      "Maximum value:  36.0090904236\n",
      "Bin:  29  -> Value:  28.0\n"
     ]
    },
    {
     "name": "stderr",
     "output_type": "stream",
     "text": [
      "Warning in <TROOT::Append>: Replacing existing TH1: h_eff (Potential memory leak).\n",
      "Warning in <TROOT::Append>: Replacing existing TH1: h_pur (Potential memory leak).\n",
      "Warning in <TROOT::Append>: Replacing existing TH1: h_effpur (Potential memory leak).\n",
      "Info in <TCanvas::Print>: png file /home/tmettler/Desktop/ub_data/mcc9.1/v08_00_00_33/V08_00_00_17/muon_cut_MCscale//png/TrackPID_chimuon.png has been created\n",
      "Info in <TCanvas::SaveAs>: ROOT file /home/tmettler/Desktop/ub_data/mcc9.1/v08_00_00_33/V08_00_00_17/muon_cut_MCscale//root/TrackPID_chimuon.root has been created\n"
     ]
    },
    {
     "data": {
      "image/png": "[encoded data removed]",
      "text/plain": [
       "<IPython.core.display.Image object>"
      ]
     },
     "metadata": {},
     "output_type": "display_data"
    }
   ],
   "source": [
    "value = 'TrackPID_chimuon'\n",
    "xbins = 30\n",
    "xstart = 0\n",
    "xend = 30\n",
    "step = (xend-xstart)/xbins\n",
    "title = 'Track PID chi square'\n",
    "\n",
    "h_eff =  ROOT.TH1F(\"h_eff\",title,xbins,xstart,xend)\n",
    "h_pur = ROOT.TH1F(\"h_pur\",title,xbins,xstart,xend)\n",
    "h_effpur = ROOT.TH1F(\"h_effpur\",title,xbins,xstart,xend)\n",
    "for i in range(xbins): \n",
    "    cut = 'muon && fidVol && crt_tom_cut && TrackScore>0.8 && \\\n",
    "        TrackLength>20 && NuScore>0.1 && ('+value+'<('+str(xstart)+'+'+str(step)+'*'+str(i)+'))'\n",
    "    #print cut\n",
    "    pur = overlay_out.GetEntries(cut+' && numu_signal')*scale[overlay]*100.0/(NuCC.getTotNum_out(cut)+0.00001)\n",
    "    eff = overlay_out.GetEntries(cut+' && numu_signal')*100.0/overlay_out.GetEntries(\"numu_true\")\n",
    "    h_eff.SetBinContent(i+1,eff)\n",
    "    h_pur.SetBinContent(i+1,pur)\n",
    "    h_effpur.SetBinContent(i+1,eff*pur/100.0)\n",
    "    #print eff ,pur, eff*pur,i\n",
    "\n",
    "legend = ROOT.TLegend(0.15,0.75,0.48,0.9);\n",
    "legend.AddEntry(h_eff,\"efficiency\",\"f\");\n",
    "legend.AddEntry(h_pur,\"purity\",\"f\");\n",
    "legend.AddEntry(h_effpur,\"eff * pur\",\"f\");\n",
    "\n",
    "h_eff.SetLineColor(1)\n",
    "h_eff.SetMaximum(100)\n",
    "h_eff.SetMinimum(0)\n",
    "h_pur.SetLineColor(2)\n",
    "h_effpur.SetLineColor(3)\n",
    "h_pur.SetLineWidth(3)\n",
    "h_eff.SetLineWidth(3)\n",
    "h_effpur.SetLineWidth(3)\n",
    "h_eff.Draw()\n",
    "legend.Draw()\n",
    "h_pur.Draw('same')\n",
    "h_effpur.Draw('same')\n",
    "h_eff.Draw('same')\n",
    "c1.SetLogy(0)\n",
    "c1.Draw()\n",
    "c1.SaveAs(outputdir_png+ value +\".png\");\n",
    "c1.SaveAs(outputdir_root+ value+ \".root\");\n",
    "\n",
    "print 'Variation of cut on: '+value\n",
    "print 'Maximum value: ', h_effpur.GetMaximum()\n",
    "print 'Bin: ', h_effpur.GetMaximumBin(),' -> Value: ', xstart+(h_effpur.GetMaximumBin()-1)*step"
   ]
  },
  {
   "cell_type": "code",
   "execution_count": null,
   "metadata": {},
   "outputs": [],
   "source": []
  },
  {
   "cell_type": "code",
   "execution_count": null,
   "metadata": {},
   "outputs": [],
   "source": []
  },
  {
   "cell_type": "code",
   "execution_count": null,
   "metadata": {},
   "outputs": [],
   "source": []
  },
  {
   "cell_type": "code",
   "execution_count": null,
   "metadata": {},
   "outputs": [],
   "source": []
  }
 ],
 "metadata": {
  "kernelspec": {
   "display_name": "Python 2",
   "language": "python",
   "name": "python2"
  },
  "language_info": {
   "codemirror_mode": {
    "name": "ipython",
    "version": 2
   },
   "file_extension": ".py",
   "mimetype": "text/x-python",
   "name": "python",
   "nbconvert_exporter": "python",
   "pygments_lexer": "ipython2",
   "version": "2.7.12"
  }
 },
 "nbformat": 4,
 "nbformat_minor": 2
}
