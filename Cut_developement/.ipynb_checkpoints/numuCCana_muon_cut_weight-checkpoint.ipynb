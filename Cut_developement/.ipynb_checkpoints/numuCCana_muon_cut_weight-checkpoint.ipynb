{
 "cells": [
  {
   "cell_type": "code",
   "execution_count": 2,
   "metadata": {},
   "outputs": [
    {
     "name": "stdout",
     "output_type": "stream",
     "text": [
      "Welcome to JupyROOT 6.10/08\n"
     ]
    }
   ],
   "source": [
    "from __future__ import division\n",
    "import imp\n",
    "import uproot\n",
    "import matplotlib\n",
    "#matplotlib.use('agg')\n",
    "import matplotlib.pyplot as plt\n",
    "import matplotlib.image as mpimg\n",
    "import numpy as np\n",
    "import pandas as pd\n",
    "import os\n",
    "import ROOT\n",
    "import time\n",
    "import math\n",
    "from array import array\n",
    "helper = imp.load_source('helpfunction','/home/tmettler/Desktop/uBoone/do_plots/helpfunction.py')\n",
    "globale = imp.load_source('globale','/home/tmettler/Desktop/uBoone/do_plots/globale.py')\n",
    "#import /home/tmettler/Desktop/uBoone/do_plots/helpfunction as helper\n",
    "import collections\n",
    "NuCC = imp.load_source('NuCC_function','/home/tmettler/Desktop/uBoone/do_plots/NuCC_function.py')\n",
    "NuCC_w = imp.load_source('NuCCWeight_function','/home/tmettler/Desktop/uBoone/do_plots/NuCCWeight_function.py')"
   ]
  },
  {
   "cell_type": "code",
   "execution_count": 3,
   "metadata": {},
   "outputs": [],
   "source": [
    "#!jupyter nbconvert --to script numuCCana_muon_cut_weight.ipynb"
   ]
  },
  {
   "cell_type": "code",
   "execution_count": 4,
   "metadata": {},
   "outputs": [
    {
     "name": "stderr",
     "output_type": "stream",
     "text": [
      "Warning in <TCanvas::Constructor>: Deleting canvas with same name: c1\n"
     ]
    }
   ],
   "source": [
    "# initialte ROOT default canvas\n",
    "ROOT.gStyle.SetOptStat(0)\n",
    "ROOT.gStyle.SetOptTitle(0)\n",
    "c1 = ROOT.TCanvas(\"c1\",\"c1\",1600,1200)\n",
    "c1.SetGrid(1)\n",
    "c1.SetLeftMargin(0.14)\n",
    "c1.SetRightMargin(0.05)\n",
    "c1.SetBottomMargin(0.14)"
   ]
  },
  {
   "cell_type": "markdown",
   "metadata": {},
   "source": [
    "# CRTinBNB tagger, Overlay or MC"
   ]
  },
  {
   "cell_type": "code",
   "execution_count": 5,
   "metadata": {},
   "outputs": [],
   "source": [
    "# Load input files\n",
    "#inputdir = '/home/thomasm/numuCC/V33/10kevents/'\n",
    "inputdir = '/home/tmettler/Desktop/v08_00_00_33/V08_00_00_35/weighted/'\n",
    "outputdir = inputdir+'muon_cut/' \n",
    "outputdir_png, outputdir_root,outputdir_pdf = NuCC.prepareOutput2(outputdir)\n",
    "\n",
    "#filename_overlay = 'NuCCana_Overlay_V18_V4.root'\n",
    "filename_overlay = 'NuCCana_overlay_V26_weight.root'\n",
    "#filename_overlay = 'NuCCana_overlay_v25_weighted_all.root'\n",
    "filename_data = 'NuCCana_data_V25.root'\n",
    "filename_ext = 'NuCCana_ext_V25.root'\n",
    "filename_dirt = 'NuCCana_dirt_V26_weight.root'\n",
    "    \n",
    "tree_name = 'numuCCAna'"
   ]
  },
  {
   "cell_type": "code",
   "execution_count": 6,
   "metadata": {},
   "outputs": [
    {
     "name": "stdout",
     "output_type": "stream",
     "text": [
      "Overlay: Number of Entries:\t989745\n",
      "Data: Number of Entries:\t28005\n",
      "Ext: Number of Entries:\t\t222702\n",
      "Dirt: Number of Entries:\t40808\n",
      "\n",
      "POT: \n",
      "Data:\t\t7.644e+18\n",
      "Ext:\t\t0\n",
      "Overlay:\t1.24025430537e+21\n",
      "Dirt:\t\t1.25019694173e+20\n",
      "\n",
      "Scalefactors: \n",
      "Data:\t\t1.0\n",
      "Ext:\t\t0.0967862715198\n",
      "Overlay:\t0.00616325213863\n",
      "Dirt:\t\t0.0611423668132\n"
     ]
    },
    {
     "name": "stderr",
     "output_type": "stream",
     "text": [
      "Warning in <TClass::Init>: no dictionary for class ROOT::TIOFeatures is available\n"
     ]
    }
   ],
   "source": [
    "#Open all the trees of the four files (data, ext, dirt, overlay)\n",
    "\n",
    "data, ext, dirt, overlay = NuCC.openTrees(inputdir, filename_data, filename_ext, filename_dirt, filename_overlay, tree_name)\n",
    "NuCC.printNumberOfEntries(data,ext,dirt,overlay)\n",
    "\n",
    "pot_overlay = NuCC.getPOT(inputdir,filename_overlay,tree_name)\n",
    "pot_dirt =  NuCC.getPOT(inputdir,filename_dirt,tree_name)\n",
    "#V25 files\n",
    "pot_data =    7.644e+18  # best with tor875\n",
    "data_trigger = 1838700.0 #2220362.0 #1854495.0 #4743794 # 1987072.0 # E1DCNT_wcut\n",
    "ext_trigger =  18997529.0  #2120135 #5685315 # EXT\n",
    "\n",
    "print 'POT: '\n",
    "print 'Data:\\t\\t', pot_data\n",
    "print 'Ext:\\t\\t', 0\n",
    "print 'Overlay:\\t', pot_overlay\n",
    "print 'Dirt:\\t\\t', pot_dirt\n",
    "print ''\n",
    "sample = [data,ext,overlay,dirt]\n",
    "scale = {data:1.0,ext:1.0,overlay:1.0,dirt:1.0}\n",
    "name = {data:'data',ext:'ext',overlay:'overlay',dirt:'dirt'}\n",
    "\n",
    "scale[data], scale[ext], scale[dirt], scale[overlay] = NuCC.calculateScale(data_trigger, ext_trigger, pot_data, pot_dirt, pot_overlay)\n",
    "\n",
    "scale[dirt] = scale[dirt]\n",
    "scale[overlay] = scale[overlay]\n",
    "print 'Scalefactors: '\n",
    "print 'Data:\\t\\t', scale[data]\n",
    "print 'Ext:\\t\\t', scale[ext]\n",
    "print 'Overlay:\\t', scale[overlay]\n",
    "print 'Dirt:\\t\\t', scale[dirt]\n"
   ]
  },
  {
   "cell_type": "code",
   "execution_count": 7,
   "metadata": {},
   "outputs": [
    {
     "name": "stdout",
     "output_type": "stream",
     "text": [
      "Overlay: Number of Entries:\t989714\n",
      "Data: Number of Entries:\t28004\n",
      "Ext: Number of Entries:\t\t222701\n",
      "Dirt: Number of Entries:\t40800\n",
      "\n"
     ]
    }
   ],
   "source": [
    "if 1:\n",
    "    filename_overlay = filename_overlay+'out4.root'\n",
    "    #filename_overlay = 'NuCCana_overlay_points_1kev.rootout2.root'\n",
    "    filename_data = filename_data+'out4.root'\n",
    "    filename_ext = filename_ext+'out4.root'\n",
    "    filename_dirt = filename_dirt+'out4.root'\n",
    "\n",
    "    tree_name = 't_out'\n",
    "\n",
    "    data_out, ext_out, dirt_out, overlay_out = NuCC.openTreesOut(inputdir, filename_data, filename_ext, filename_dirt, filename_overlay, tree_name)\n",
    "    NuCC.printNumberOfEntries(data_out,ext_out,dirt_out,overlay_out)\n",
    "\n",
    "    sample_out = [data_out,ext_out,overlay_out,dirt_out]\n",
    "    scale_out = {data_out:1.0,ext_out:1.0,overlay_out:1.0,dirt_out:1.0}\n",
    "    name_out = {data_out:'data',ext_out:'ext',overlay_out:'overlay',dirt_out:'dirt'}\n",
    "\n",
    "    scale_out[data_out], scale_out[ext_out], scale_out[dirt_out], scale_out[overlay_out] = NuCC.calculateScale(data_trigger, ext_trigger, pot_data, pot_dirt, pot_overlay)\n",
    "    scale_out[dirt_out] = scale_out[dirt_out]\n",
    "    scale_out[overlay_out] = scale_out[overlay_out]"
   ]
  },
  {
   "cell_type": "code",
   "execution_count": 8,
   "metadata": {},
   "outputs": [],
   "source": [
    "# Define signals\n",
    "\n",
    "fidVol = '(Nu_Vx_sce>(-1.55+10) && Nu_Vx_sce<(254.8-10)) && (Nu_Vy_sce>(-115.53+10) && Nu_Vy_sce<(117.47-10)) &&(Nu_Vz_sce>(-0.1+10) && Nu_Vz_sce<(1036.9-50))'\n",
    "MCfidVol = '(MCNu_Vx>(-1.55+10) && MCNu_Vx<(254.8-10)) && (MCNu_Vy>(-115.53+10) && MCNu_Vy<(117.47-10)) &&(MCNu_Vz>(-0.1+10) && MCNu_Vz<(1036.9-50))'\n",
    "numu_signal = 'fidVol && MCfidVol && MCNu_CCNC==0 && MCNu_PDG==14 && MCTrackPDG==13 && MCTrackPurity>0.5' # numu CC signal definition\n",
    "numu_true = 'MCfidVol && MCNu_CCNC==0 && MCNu_PDG==14' # numu CC signal definition\n",
    "numu_nomu = 'fidVol && MCfidVol && MCNu_CCNC==0 && MCNu_PDG==14 && MCTrackPDG!=13 && MCTrackPurity>0.5' # not an MC muon\n",
    "numu_lowpur = 'fidVol && MCfidVol && MCNu_CCNC==0 && MCNu_PDG==14 && MCTrackPurity<0.5' #low purity\n",
    "numu_nc = 'fidVol && MCfidVol && MCNu_CCNC==1' # nutral current\n",
    "numu_ov = 'fidVol && !MCfidVol' # out of fiducial\n",
    "numu_other = 'fidVol && MCfidVol && MCNu_CCNC==0 && MCNu_PDG!=14' # e.g anti nu or nue\n",
    "#signal = 'MCfidVol && MCNu_CCNC==0 && MCNu_PDG==14'\n",
    "for x in sample:\n",
    "    x.SetAlias('muon','(muon_candidate_key==track_key)')\n",
    "    \n",
    "num_fidVol = {}\n",
    "for x in sample:\n",
    "    x.SetAlias('fidVol',fidVol)\n",
    "    x.SetAlias('MCfidVol',MCfidVol)\n",
    "    x.SetAlias('numu_signal',numu_signal)\n",
    "    x.SetAlias('numu_true',numu_true)\n",
    "    x.SetAlias('numu_nomu',numu_nomu)\n",
    "    x.SetAlias('numu_lowpur',numu_lowpur)\n",
    "    x.SetAlias('numu_nc',numu_nc)\n",
    "    x.SetAlias('numu_ov',numu_ov)\n",
    "    x.SetAlias('numu_other',numu_other)\n",
    "    num_fidVol[x] = x.GetEntries('fidVol && muon')*scale[x]\n",
    "    \n",
    "tot_num_fidVol = num_fidVol[ext]+num_fidVol[dirt]+num_fidVol[overlay]\n",
    "overlay_signals = ['numu_signal','numu_nomu','numu_lowpur','numu_nc','numu_ov','numu_other']"
   ]
  },
  {
   "cell_type": "code",
   "execution_count": 9,
   "metadata": {},
   "outputs": [],
   "source": [
    "for x in sample_out:\n",
    "    x.SetAlias('muon','(track_key == key_muon)')\n",
    "\n",
    "#num_fidVol = {}\n",
    "for x in sample_out:\n",
    "    x.SetAlias('fidVol',fidVol)\n",
    "    x.SetAlias('MCfidVol',MCfidVol)\n",
    "    x.SetAlias('numu_signal',numu_signal)\n",
    "    x.SetAlias('numu_true',numu_true)\n",
    "    x.SetAlias('numu_nomu',numu_nomu)\n",
    "    x.SetAlias('numu_lowpur',numu_lowpur)\n",
    "    x.SetAlias('numu_nc',numu_nc)\n",
    "    x.SetAlias('numu_ov',numu_ov)\n",
    "    x.SetAlias('numu_other',numu_other)"
   ]
  },
  {
   "cell_type": "code",
   "execution_count": 10,
   "metadata": {},
   "outputs": [
    {
     "data": {
      "text/plain": [
       "\"\\nfor x in sample_out:\\n    x.SetAlias('numu_signal_cont',numu_signal_cont)\\n    x.SetAlias('numu_signal_uncont',numu_signal_uncont)\\n    x.SetAlias('numu_nc_other',numu_nc_other)\\n    x.SetAlias('numu_nc_pion',numu_nc_pion)\\n    x.SetAlias('numu_nc_proton',numu_nc_proton)\\n    x.SetAlias('numu_cosmic_cont',numu_cosmic_cont)\\n    x.SetAlias('numu_cosmic_uncont',numu_cosmic_uncont)\\n    x.SetAlias('numu_ov_cont',numu_ov_cont)\\n    x.SetAlias('numu_ov_uncont',numu_ov_uncont)\\n    x.SetAlias('numu_nue',numu_nue)\\n    x.SetAlias('numu_antinu',numu_antinu)\""
      ]
     },
     "execution_count": 10,
     "metadata": {},
     "output_type": "execute_result"
    }
   ],
   "source": [
    "# Define signals as Marcos MCC8 analysis\n",
    "\n",
    "'''fidVol = '(Nu_Vx_sce>(-1.55+10) && Nu_Vx_sce<(254.8-10)) && (Nu_Vy_sce>(-115.53+10) && Nu_Vy_sce<(117.47-10)) &&(Nu_Vz_sce>(-0.1+10) && Nu_Vz_sce<(1036.9-50))'\n",
    "MCfidVol = '(MCNu_Vx>(-1.55+10) && MCNu_Vx<(254.8-10)) && (MCNu_Vy>(-115.53+10) && MCNu_Vy<(117.47-10)) &&(MCNu_Vz>(-0.1+10) && MCNu_Vz<(1036.9-50))'\n",
    "numu_signal = 'fidVol && MCfidVol && MCNu_CCNC==0 && MCNu_PDG==14 && MCTrackPDG==13 && MCTrackPurity>0.5' # numu CC signal definition\n",
    "numu_true = 'MCfidVol && MCNu_CCNC==0 && MCNu_PDG==14' # numu CC signal definition\n",
    "numu_nomu = 'fidVol && MCfidVol && MCNu_CCNC==0 && MCNu_PDG==14 && MCTrackPDG!=13 && MCTrackPurity>0.5' # not an MC muon\n",
    "numu_lowpur = 'fidVol && MCfidVol && MCNu_CCNC==0 && MCNu_PDG==14 && MCTrackPurity<0.5' #low purity\n",
    "numu_nc = 'fidVol && MCfidVol && MCNu_CCNC==1' # nutral current\n",
    "numu_ov = 'fidVol && !MCfidVol' # out of fiducial\n",
    "numu_other = 'fidVol && MCfidVol && MCNu_CCNC==0 && MCNu_PDG!=14' # e.g anti nu or nue'''\n",
    "\n",
    "'''numu_signal_cont = 'fidVol && MCfidVol && MCNu_CCNC==0 && MCNu_PDG==14 && MCTrackPDG==13 && MCTrackPurity>0.5 && !track_end_uncontained' # numu CC signal definition\n",
    "numu_signal_uncont = 'fidVol && MCfidVol && MCNu_CCNC==0 && MCNu_PDG==14 && MCTrackPDG==13 && MCTrackPurity>0.5 && track_end_uncontained' # numu CC signal definition\n",
    "\n",
    "numu_nc_other = 'fidVol && MCfidVol && MCNu_CCNC==1 && MCTrackPDG!=211 && MCTrackPDG!=2212' # nutral current\n",
    "numu_nc_pion = 'fidVol && MCfidVol && MCNu_CCNC==1 && MCTrackPDG==211' # nutral current\n",
    "numu_nc_proton = 'fidVol && MCfidVol && MCNu_CCNC==1 && MCTrackPDG==2212' # nutral current\n",
    "\n",
    "numu_cosmic_cont = 'fidVol && MCfidVol && MCNu_CCNC==0 && MCNu_PDG==14 && MCTrackPurity<0.5 && !track_end_uncontained' #low purity\n",
    "numu_cosmic_uncont = 'fidVol && MCfidVol && MCNu_CCNC==0 && MCNu_PDG==14 && MCTrackPurity<0.5 && track_end_uncontained' #low purity\n",
    "\n",
    "numu_ov_cont = 'fidVol && !MCfidVol && !track_end_uncontained' # out of fiducial\n",
    "numu_ov_uncont = 'fidVol && !MCfidVol && track_end_uncontained' # out of fiducial\n",
    "\n",
    "numu_nue = 'fidVol && MCfidVol && MCNu_CCNC==0 && abs(MCNu_PDG)!=14' # e.g anti nu or nue\n",
    "numu_antinu = 'fidVol && MCfidVol && MCNu_CCNC==0 && MCNu_PDG==-14' # e.g anti nu or nue\n",
    "'''\n",
    "#signal = 'MCfidVol && MCNu_CCNC==0 && MCNu_PDG==14'\n",
    "'''for x in sample:\n",
    "    x.SetAlias('muon','(muon_candidate_key==track_key)')\n",
    "    \n",
    "num_fidVol = {}\n",
    "for x in sample:\n",
    "    x.SetAlias('fidVol',fidVol)\n",
    "    x.SetAlias('MCfidVol',MCfidVol)\n",
    "    x.SetAlias('numu_signal',numu_signal)\n",
    "    x.SetAlias('numu_true',numu_true)\n",
    "    x.SetAlias('numu_nomu',numu_nomu)\n",
    "    x.SetAlias('numu_lowpur',numu_lowpur)\n",
    "    x.SetAlias('numu_nc',numu_nc)\n",
    "    x.SetAlias('numu_ov',numu_ov)\n",
    "    x.SetAlias('numu_other',numu_other)\n",
    "    num_fidVol[x] = x.GetEntries('fidVol && muon')*scale[x]'''\n",
    "    \n",
    "#tot_num_fidVol = num_fidVol[ext]+num_fidVol[dirt]+num_fidVol[overlay]\n",
    "#overlay_signals = ['numu_signal_cont','numu_signal_uncont','numu_nue','numu_antinu','numu_nc_other','numu_nc_pion',\\\n",
    "#                   'numu_nc_proton', 'numu_ov_cont', 'numu_ov_uncont', 'numu_cosmic_cont', 'numu_cosmic_uncont']\n",
    "'''\n",
    "overlay_signals = ['numu_cosmic_uncont','numu_cosmic_cont','numu_ov_uncont','numu_ov_cont','numu_nc_proton','numu_nc_pion',\\\n",
    "                   'numu_nc_other', 'numu_antinu', 'numu_nue', 'numu_signal_uncont', 'numu_signal_cont']\n",
    "\n",
    "#overlay_signals = overlay_signals.reverse()\n",
    "'''\n",
    "#for x in sample_out:\n",
    "#    x.SetAlias('muon','(track_key == key_muon)')'''\n",
    "'''\n",
    "for x in sample_out:\n",
    "    x.SetAlias('numu_signal_cont',numu_signal_cont)\n",
    "    x.SetAlias('numu_signal_uncont',numu_signal_uncont)\n",
    "    x.SetAlias('numu_nc_other',numu_nc_other)\n",
    "    x.SetAlias('numu_nc_pion',numu_nc_pion)\n",
    "    x.SetAlias('numu_nc_proton',numu_nc_proton)\n",
    "    x.SetAlias('numu_cosmic_cont',numu_cosmic_cont)\n",
    "    x.SetAlias('numu_cosmic_uncont',numu_cosmic_uncont)\n",
    "    x.SetAlias('numu_ov_cont',numu_ov_cont)\n",
    "    x.SetAlias('numu_ov_uncont',numu_ov_uncont)\n",
    "    x.SetAlias('numu_nue',numu_nue)\n",
    "    x.SetAlias('numu_antinu',numu_antinu)'''"
   ]
  },
  {
   "cell_type": "code",
   "execution_count": null,
   "metadata": {},
   "outputs": [],
   "source": []
  },
  {
   "cell_type": "code",
   "execution_count": 11,
   "metadata": {},
   "outputs": [
    {
     "name": "stderr",
     "output_type": "stream",
     "text": [
      "Warning in <TCanvas::Constructor>: Deleting canvas with same name: c1\n"
     ]
    }
   ],
   "source": [
    "# Load the global variables for access of functions\n",
    "NuCC.loadGlobal(data,ext,dirt,overlay,data_out,ext_out,dirt_out,overlay_out,scale,scale_out,tot_num_fidVol,overlay_signals,sample,sample_out, name,name_out, outputdir_png, outputdir_root,outputdir_pdf)\n",
    "#NuCC.printGlobal()"
   ]
  },
  {
   "cell_type": "code",
   "execution_count": 12,
   "metadata": {},
   "outputs": [],
   "source": [
    "# initialte ROOT default canvas\n",
    "ROOT.gStyle.SetOptStat(0)\n",
    "c1 = ROOT.TCanvas(\"c1\",\"c1\",1600,1200)\n",
    "c1.SetGrid(1)\n",
    "c1.SetLeftMargin(0.14)\n",
    "c1.SetRightMargin(0.05)\n",
    "c1.SetBottomMargin(0.14)"
   ]
  },
  {
   "cell_type": "code",
   "execution_count": 13,
   "metadata": {},
   "outputs": [],
   "source": [
    "'''track_start_border_x = '(TrackStart_x_sce <(-1.55+1) || TrackStart_x_sce > (254.8-1))'\n",
    "track_end_border_x = '(TrackEnd_x_sce <(-1.55+1) || TrackEnd_x_sce > (254.8-1))'\n",
    "track_start_border_y = '(TrackStart_y_sce <(-115.53+1) || TrackStart_y_sce > (117.47-1))'\n",
    "track_end_border_y = '(TrackEnd_y_sce <(-115.53+1) || TrackEnd_y_sce > (117.47-1))'\n",
    "track_start_border_z = '(TrackStart_z_sce <(0.1+1) || TrackStart_z_sce > (1036.9-1))'\n",
    "track_end_border_z = '(TrackEnd_z_sce <(0.1+1) || TrackEnd_z_sce > (1039.9-1))' '''\n",
    "\n",
    "track_start_border_x = '(TrackStart_x_sce <(-1.55+5) || TrackStart_x_sce > (254.8-5))'\n",
    "track_end_border_x = '(TrackEnd_x_sce <(-1.55+5) || TrackEnd_x_sce > (254.8-5))'\n",
    "track_start_border_y = '(TrackStart_y_sce <(-115.53+5) || TrackStart_y_sce > (117.47-5))'\n",
    "track_end_border_y = '(TrackEnd_y_sce <(-115.53+5) || TrackEnd_y_sce > (117.47-5))'\n",
    "track_start_border_z = '(TrackStart_z_sce <(0.1+5) || TrackStart_z_sce > (1036.9-5))'\n",
    "track_end_border_z = '(TrackEnd_z_sce <(0.1+5) || TrackEnd_z_sce > (1039.9-5))'\n",
    "\n",
    "track_end_uncontained = '(' + track_end_border_x + ' || ' + track_end_border_y + ' || ' + track_end_border_z+ ')'\n",
    "\n",
    "\n",
    "data.SetAlias(\"track_end_uncontained\",track_end_uncontained)\n",
    "ext.SetAlias(\"track_end_uncontained\",track_end_uncontained)\n",
    "overlay.SetAlias(\"track_end_uncontained\",track_end_uncontained)\n",
    "dirt.SetAlias(\"track_end_uncontained\",track_end_uncontained)\n",
    "data_out.SetAlias(\"track_end_uncontained\",track_end_uncontained)\n",
    "ext_out.SetAlias(\"track_end_uncontained\",track_end_uncontained)\n",
    "overlay_out.SetAlias(\"track_end_uncontained\",track_end_uncontained)\n",
    "dirt_out.SetAlias(\"track_end_uncontained\",track_end_uncontained)\n",
    "\n",
    "data.SetAlias(\"crt_cut\",\"(abs(crtt0_time+(crt_trig_corr_med)/1000-4)<0.9 || crtt0_time==-1)\")\n",
    "ext.SetAlias(\"crt_cut\",\"(abs(crtt0_time+(crt_trig_corr_med)/1000-3.57+3.195-4)<0.9 || crtt0_time==-1)\")\n",
    "overlay.SetAlias(\"crt_cut\",\"(abs(crtt0_time-3.95)<0.9 || crtt0_time==-1)\")\n",
    "dirt.SetAlias(\"crt_cut\",\"(abs(crtt0_time-3.95)<0.9 || crtt0_time==-1)\")\n",
    "data_out.SetAlias(\"crt_cut\",\"(abs(crtt0_time+(crt_trig_corr_med)/1000-3.95)<0.9 || crtt0_time==-1)\")\n",
    "ext_out.SetAlias(\"crt_cut\",\"(abs(crtt0_time+(crt_trig_corr_med)/1000-3.57+3.195-3.95)<0.9 || crtt0_time==-1)\")\n",
    "overlay_out.SetAlias(\"crt_cut\",\"(abs(crtt0_time-3.95)<0.9 || crtt0_time==-1)\")\n",
    "dirt_out.SetAlias(\"crt_cut\",\"(abs(crtt0_time-3.95)<0.9 || crtt0_time==-1)\")\n",
    "\n",
    "crt_tom_cut = 'nr_crthit_top==0 && crthit_vertex_zcut==0 && (track_end_uncontained==1 || nr_crthit_beam_tres==0) && crt_cut'\n",
    "\n",
    "data.SetAlias(\"crt_tom_cut\",crt_tom_cut)\n",
    "ext.SetAlias(\"crt_tom_cut\",crt_tom_cut)\n",
    "overlay.SetAlias(\"crt_tom_cut\",crt_tom_cut)\n",
    "dirt.SetAlias(\"crt_tom_cut\",crt_tom_cut)\n",
    "data_out.SetAlias(\"crt_tom_cut\",crt_tom_cut)\n",
    "ext_out.SetAlias(\"crt_tom_cut\",crt_tom_cut)\n",
    "overlay_out.SetAlias(\"crt_tom_cut\",crt_tom_cut)\n",
    "dirt_out.SetAlias(\"crt_tom_cut\",crt_tom_cut)\n",
    "\n",
    "weight_name = 'EventWeight*TunedCentralValue_Genie'\n"
   ]
  },
  {
   "cell_type": "code",
   "execution_count": 14,
   "metadata": {},
   "outputs": [
    {
     "name": "stdout",
     "output_type": "stream",
     "text": [
      "8.29696655273e-05\n"
     ]
    }
   ],
   "source": [
    "cut = 'fidVol && muon && TrackLength>8 && crt_tom_cut && TrackScore>0.8\\\n",
    "                && TrackLength>20 && TrackPID_chiproton>78 && NuScore>0.1'\n",
    "name = '_rate_binned_mcc8'\n",
    "side_right = 'right'\n",
    "side_left = 'left'\n",
    "start = time.time()\n",
    "#NuCC_w.make_stacked_histo_weight_MCC8(cut,'cos(TrackTheta)','EventWeight','cos(Theta)',-10,270,40,'CosTheta'+name,side_left)\n",
    "end = time.time()\n",
    "print(end - start)"
   ]
  },
  {
   "cell_type": "code",
   "execution_count": 14,
   "metadata": {},
   "outputs": [
    {
     "name": "stdout",
     "output_type": "stream",
     "text": [
      "3.40938568115e-05\n"
     ]
    }
   ],
   "source": [
    "name = '_rate_binned'\n",
    "start = time.time()\n",
    "#NuCC_w.make_stacked_histo_weightV2(cut,'cos(TrackTheta)','EventWeight','cos(Theta)',-10,270,40,'CosTheta'+name,side_left)\n",
    "end = time.time()\n",
    "print(end - start)"
   ]
  },
  {
   "cell_type": "code",
   "execution_count": null,
   "metadata": {},
   "outputs": [],
   "source": []
  },
  {
   "cell_type": "code",
   "execution_count": null,
   "metadata": {},
   "outputs": [],
   "source": []
  },
  {
   "cell_type": "code",
   "execution_count": 15,
   "metadata": {},
   "outputs": [
    {
     "name": "stdout",
     "output_type": "stream",
     "text": [
      "2.90870666504e-05\n",
      "0.000487089157104\n",
      "0.000585079193115\n"
     ]
    }
   ],
   "source": [
    "cut = 'fidVol && muon'\n",
    "name = '_initial_V'\n",
    "side_right = 'right'\n",
    "side_left = 'left'\n",
    "start = time.time()\n",
    "#NuCC_w.make_stacked_histo_weight_MCC8_V(cut,'Nu_Vx_sce','EventWeight','Reco. Nu vertex X position [cm]',-10,270,20,'NuVx_sce'+name,side_left)\n",
    "end = time.time()\n",
    "print(end - start)\n",
    "#NuCC_w.make_stacked_histo_weight_MCC8_V(cut,'Nu_Vy_sce','EventWeight','Reco. Nu vertex Y position [cm]',-120,120,20,'NuVy_sce'+name,side_left)\n",
    "end = time.time()\n",
    "print(end - start)\n",
    "#NuCC_w.make_stacked_histo_weight_MCC8_V(cut,'Nu_Vz_sce','EventWeight','Reco. Nu vertex Z position [cm]',-50,1050,20,'NuVz_sce'+name,side_left)\n",
    "end = time.time()\n",
    "print(end - start)"
   ]
  },
  {
   "cell_type": "code",
   "execution_count": 16,
   "metadata": {},
   "outputs": [
    {
     "name": "stdout",
     "output_type": "stream",
     "text": [
      "2.69412994385e-05\n",
      "0.00122308731079\n",
      "0.00172114372253\n"
     ]
    }
   ],
   "source": [
    "cut = 'fidVol && muon && TrackLength>8 && crt_tom_cut && TrackScore>0.8\\\n",
    "                && TrackLength>20 && TrackPID_chiproton>78 && NuScore>0.1'\n",
    "name = '_muon_cut_V'\n",
    "side_right = 'right'\n",
    "side_left = 'left'\n",
    "start = time.time()\n",
    "#NuCC_w.make_stacked_histo_weight_MCC8_V(cut,'Nu_Vx_sce','EventWeight','Reco. Nu vertex X position [cm]',-10,270,20,'NuVx_sce'+name,side_left)\n",
    "end = time.time()\n",
    "print(end - start)\n",
    "#NuCC_w.make_stacked_histo_weight_MCC8_V(cut,'Nu_Vy_sce','EventWeight','Reco. Nu vertex Y position [cm]',-120,120,20,'NuVy_sce'+name,side_left)\n",
    "end = time.time()\n",
    "print(end - start)\n",
    "#NuCC_w.make_stacked_histo_weight_MCC8_V(cut,'Nu_Vz_sce','EventWeight','Reco. Nu vertex Z position [cm]',-50,1050,20,'NuVz_sce'+name,side_left)\n",
    "end = time.time()\n",
    "print(end - start)"
   ]
  },
  {
   "cell_type": "code",
   "execution_count": 17,
   "metadata": {},
   "outputs": [
    {
     "data": {
      "text/plain": [
       "\"start = time.time()\\nNuCC_w.make_stacked_histo_weight_MCC8(cut + ' && TrackTheta!=-9','cos(TrackTheta)','EventWeight','cos(theta)',-1,1,20,'costhetaw'+name,side_left)\\nend = time.time()\\nprint(end - start)\\nNuCC_w.make_stacked_histo_weight_MCC8(cut + ' && TrackTheta!=-9','TrackPhi','EventWeight','Track Phi',-3.141,3.141,20,'phi'+name,side_left)\\nend = time.time()\\nprint(end - start)\\nNuCC_w.make_stacked_histo_weight_MCC8(cut + ' && 1','TrackMomMCS_mom','EventWeight','TrackMomMCS_mom',0,1.5,20,'TrackMomMCS_mom'+name,side_right)\\nend = time.time()\\nprint(end - start)\\nNuCC_w.make_stacked_histo_weight_MCC8(cut,'Nu_Vx_sce','EventWeight','Reco. Nu vertex X position [cm]',-10,270,20,'NuVx_sce'+name,side_right)\\nend = time.time()\\nprint(end - start)\\nNuCC_w.make_stacked_histo_weight_MCC8(cut,'Nu_Vy_sce','EventWeight','Reco. Nu vertex Y position [cm]',-120,120,20,'NuVy_sce'+name,side_right)\\nend = time.time()\\nprint(end - start)\\nNuCC_w.make_stacked_histo_weight_MCC8(cut,'Nu_Vz_sce','EventWeight','Reco. Nu vertex Z position [cm]',-50,1050,20,'NuVz_sce'+name,side_right)\\nend = time.time()\\nprint(end - start)\""
      ]
     },
     "execution_count": 17,
     "metadata": {},
     "output_type": "execute_result"
    }
   ],
   "source": [
    "cut = 'fidVol && muon'\n",
    "name = '_initial'\n",
    "side_right = 'right'\n",
    "side_left = 'left'\n",
    "'''start = time.time()\n",
    "NuCC_w.make_stacked_histo_weight_MCC8(cut + ' && TrackTheta!=-9','cos(TrackTheta)','EventWeight','cos(theta)',-1,1,20,'costhetaw'+name,side_left)\n",
    "end = time.time()\n",
    "print(end - start)\n",
    "NuCC_w.make_stacked_histo_weight_MCC8(cut + ' && TrackTheta!=-9','TrackPhi','EventWeight','Track Phi',-3.141,3.141,20,'phi'+name,side_left)\n",
    "end = time.time()\n",
    "print(end - start)\n",
    "NuCC_w.make_stacked_histo_weight_MCC8(cut + ' && 1','TrackMomMCS_mom','EventWeight','TrackMomMCS_mom',0,1.5,20,'TrackMomMCS_mom'+name,side_right)\n",
    "end = time.time()\n",
    "print(end - start)\n",
    "NuCC_w.make_stacked_histo_weight_MCC8(cut,'Nu_Vx_sce','EventWeight','Reco. Nu vertex X position [cm]',-10,270,20,'NuVx_sce'+name,side_right)\n",
    "end = time.time()\n",
    "print(end - start)\n",
    "NuCC_w.make_stacked_histo_weight_MCC8(cut,'Nu_Vy_sce','EventWeight','Reco. Nu vertex Y position [cm]',-120,120,20,'NuVy_sce'+name,side_right)\n",
    "end = time.time()\n",
    "print(end - start)\n",
    "NuCC_w.make_stacked_histo_weight_MCC8(cut,'Nu_Vz_sce','EventWeight','Reco. Nu vertex Z position [cm]',-50,1050,20,'NuVz_sce'+name,side_right)\n",
    "end = time.time()\n",
    "print(end - start)'''"
   ]
  },
  {
   "cell_type": "code",
   "execution_count": 18,
   "metadata": {},
   "outputs": [
    {
     "data": {
      "text/plain": [
       "\"cut = 'fidVol && muon && TrackLength>8 && crt_tom_cut && TrackScore>0.8                && TrackLength>20 && TrackPID_chiproton>78 && NuScore>0.1'\\nname = '_muon_cut'\\nstart = time.time()\\nNuCC_w.make_stacked_histo_weight_MCC8(cut + ' && TrackTheta!=-9','cos(TrackTheta)','EventWeight','cos(theta)',-1,1,20,'costhetaw'+name,side_left)\\nend = time.time()\\nprint(end - start)\\nNuCC_w.make_stacked_histo_weight_MCC8(cut + ' && TrackTheta!=-9','TrackPhi','EventWeight','Track Phi',-3.141,3.141,20,'phi'+name,side_left)\\nend = time.time()\\nprint(end - start)\\nNuCC_w.make_stacked_histo_weight_MCC8(cut + ' && 1','TrackMomMCS_mom','EventWeight','TrackMomMCS_mom',0,1.5,20,'TrackMomMCS_mom'+name,side_right)\\nend = time.time()\\nprint(end - start)\\nNuCC_w.make_stacked_histo_weight_MCC8(cut,'Nu_Vx_sce','EventWeight','Reco. Nu vertex X position [cm]',-10,270,20,'NuVx_sce'+name,side_right)\\nend = time.time()\\nprint(end - start)\\nNuCC_w.make_stacked_histo_weight_MCC8(cut,'Nu_Vy_sce','EventWeight','Reco. Nu vertex Y position [cm]',-120,120,20,'NuVy_sce'+name,side_right)\\nend = time.time()\\nprint(end - start)\\nNuCC_w.make_stacked_histo_weight_MCC8(cut,'Nu_Vz_sce','EventWeight','Reco. Nu vertex Z position [cm]',-50,1050,20,'NuVz_sce'+name,side_right)\\nend = time.time()\\nprint(end - start)\""
      ]
     },
     "execution_count": 18,
     "metadata": {},
     "output_type": "execute_result"
    }
   ],
   "source": [
    "'''cut = 'fidVol && muon && TrackLength>8 && crt_tom_cut && TrackScore>0.8\\\n",
    "                && TrackLength>20 && TrackPID_chiproton>78 && NuScore>0.1'\n",
    "name = '_muon_cut'\n",
    "start = time.time()\n",
    "NuCC_w.make_stacked_histo_weight_MCC8(cut + ' && TrackTheta!=-9','cos(TrackTheta)','EventWeight','cos(theta)',-1,1,20,'costhetaw'+name,side_left)\n",
    "end = time.time()\n",
    "print(end - start)\n",
    "NuCC_w.make_stacked_histo_weight_MCC8(cut + ' && TrackTheta!=-9','TrackPhi','EventWeight','Track Phi',-3.141,3.141,20,'phi'+name,side_left)\n",
    "end = time.time()\n",
    "print(end - start)\n",
    "NuCC_w.make_stacked_histo_weight_MCC8(cut + ' && 1','TrackMomMCS_mom','EventWeight','TrackMomMCS_mom',0,1.5,20,'TrackMomMCS_mom'+name,side_right)\n",
    "end = time.time()\n",
    "print(end - start)\n",
    "NuCC_w.make_stacked_histo_weight_MCC8(cut,'Nu_Vx_sce','EventWeight','Reco. Nu vertex X position [cm]',-10,270,20,'NuVx_sce'+name,side_right)\n",
    "end = time.time()\n",
    "print(end - start)\n",
    "NuCC_w.make_stacked_histo_weight_MCC8(cut,'Nu_Vy_sce','EventWeight','Reco. Nu vertex Y position [cm]',-120,120,20,'NuVy_sce'+name,side_right)\n",
    "end = time.time()\n",
    "print(end - start)\n",
    "NuCC_w.make_stacked_histo_weight_MCC8(cut,'Nu_Vz_sce','EventWeight','Reco. Nu vertex Z position [cm]',-50,1050,20,'NuVz_sce'+name,side_right)\n",
    "end = time.time()\n",
    "print(end - start)'''"
   ]
  },
  {
   "cell_type": "code",
   "execution_count": 19,
   "metadata": {},
   "outputs": [
    {
     "data": {
      "text/plain": [
       "\"cut = 'fidVol && muon'\\nname = '_initial'\\nside_right = 'right'\\nside_left = 'left'\\nstart = time.time()\\nNuCC_w.make_stacked_histo_weight_MCC8(cut + ' && 1','NuTracks','EventWeight','Number of Tracks',0,10,10,'NuTracks'+name,side_right)\\nend = time.time()\\nprint(end - start)\\nNuCC_w.make_stacked_histo_weight_MCC8(cut + ' && 1','NumPfp','EventWeight','Number of Pfparticle',0,10,10,'NumPfp'+name,side_right)\\nend = time.time()\\nprint(end - start)\\nNuCC_w.make_stacked_histo_weight_MCC8(cut + ' && 1','TrackLength','EventWeight','Track Length',0,700,20,'TrackLength'+name,side_right)\\nend = time.time()\""
      ]
     },
     "execution_count": 19,
     "metadata": {},
     "output_type": "execute_result"
    }
   ],
   "source": [
    "'''cut = 'fidVol && muon'\n",
    "name = '_initial'\n",
    "side_right = 'right'\n",
    "side_left = 'left'\n",
    "start = time.time()\n",
    "NuCC_w.make_stacked_histo_weight_MCC8(cut + ' && 1','NuTracks','EventWeight','Number of Tracks',0,10,10,'NuTracks'+name,side_right)\n",
    "end = time.time()\n",
    "print(end - start)\n",
    "NuCC_w.make_stacked_histo_weight_MCC8(cut + ' && 1','NumPfp','EventWeight','Number of Pfparticle',0,10,10,'NumPfp'+name,side_right)\n",
    "end = time.time()\n",
    "print(end - start)\n",
    "NuCC_w.make_stacked_histo_weight_MCC8(cut + ' && 1','TrackLength','EventWeight','Track Length',0,700,20,'TrackLength'+name,side_right)\n",
    "end = time.time()'''"
   ]
  },
  {
   "cell_type": "code",
   "execution_count": 20,
   "metadata": {},
   "outputs": [
    {
     "data": {
      "text/plain": [
       "\"cut = 'fidVol && muon && TrackLength>8 && crt_tom_cut && TrackScore>0.8                && TrackLength>20 && TrackPID_chiproton>78 && NuScore>0.1'\\nname = '_muon_cut'\\nside_right = 'right'\\nside_left = 'left'\\nstart = time.time()\\nNuCC_w.make_stacked_histo_weight_MCC8(cut + ' && 1','NuTracks','EventWeight','Number of Tracks',0,10,10,'NuTracks'+name,side_right)\\nend = time.time()\\nprint(end - start)\\nNuCC_w.make_stacked_histo_weight_MCC8(cut + ' && 1','NumPfp','EventWeight','Number of Pfparticle',0,10,10,'NumPfp'+name,side_right)\\nend = time.time()\\nprint(end - start)\\nNuCC_w.make_stacked_histo_weight_MCC8(cut + ' && 1','TrackLength','EventWeight','Track Length',0,700,20,'TrackLength'+name,side_right)\\nend = time.time()\""
      ]
     },
     "execution_count": 20,
     "metadata": {},
     "output_type": "execute_result"
    }
   ],
   "source": [
    "'''cut = 'fidVol && muon && TrackLength>8 && crt_tom_cut && TrackScore>0.8\\\n",
    "                && TrackLength>20 && TrackPID_chiproton>78 && NuScore>0.1'\n",
    "name = '_muon_cut'\n",
    "side_right = 'right'\n",
    "side_left = 'left'\n",
    "start = time.time()\n",
    "NuCC_w.make_stacked_histo_weight_MCC8(cut + ' && 1','NuTracks','EventWeight','Number of Tracks',0,10,10,'NuTracks'+name,side_right)\n",
    "end = time.time()\n",
    "print(end - start)\n",
    "NuCC_w.make_stacked_histo_weight_MCC8(cut + ' && 1','NumPfp','EventWeight','Number of Pfparticle',0,10,10,'NumPfp'+name,side_right)\n",
    "end = time.time()\n",
    "print(end - start)\n",
    "NuCC_w.make_stacked_histo_weight_MCC8(cut + ' && 1','TrackLength','EventWeight','Track Length',0,700,20,'TrackLength'+name,side_right)\n",
    "end = time.time()'''"
   ]
  },
  {
   "cell_type": "code",
   "execution_count": 21,
   "metadata": {},
   "outputs": [
    {
     "name": "stderr",
     "output_type": "stream",
     "text": [
      "Info in <TEfficiency::TEfficiency>: given histograms are filled with weights\n",
      "Info in <TROOT::TEfficiency::SetUseWeightedEvents>: Histograms are filled with weights\n",
      "Warning in <TEfficiency::GetEfficiencyErrorLow>: frequentist confidence intervals for weights are only supported by the normal approximation\n",
      "Info in <TEfficiency::GetEfficiencyErrorLow>: setting statistic option to kFNormal\n",
      "Info in <TCanvas::Print>: png file /home/tmettler/Desktop/v08_00_00_33/V08_00_00_35/weighted/muon_cut/png/h_eff_particle_multi.png has been created\n",
      "Info in <TCanvas::SaveAs>: ROOT file /home/tmettler/Desktop/v08_00_00_33/V08_00_00_35/weighted/muon_cut/root/h_eff_particle_multi.root has been created\n",
      "Info in <TCanvas::Print>: pdf file /home/tmettler/Desktop/v08_00_00_33/V08_00_00_35/weighted/muon_cut/pdf/h_eff_particle_multi.pdf has been created\n"
     ]
    },
    {
     "data": {
      "image/png": "[encoded data removed]",
      "text/plain": [
       "<IPython.core.display.Image object>"
      ]
     },
     "metadata": {},
     "output_type": "display_data"
    }
   ],
   "source": [
    "\n",
    "mom_bins = [ 0.00, 1.0, 2.0, 3.0, 4.0, 5.0, 6.0, 7.0, 8.0, 9.0, 10.0 ]\n",
    "binnum = len(mom_bins) - 1\n",
    "weight_name = 'EventWeight*TunedCentralValue_Genie'\n",
    "title = 'Particle multi'\n",
    "\n",
    "h_1d = ROOT.TH1F('h_1d',\"Particle multi\",binnum,array('f',mom_bins))\n",
    "h_1d_true = ROOT.TH1F('h_1d_true',\"Particle multi true\",binnum,array('f',mom_bins))\n",
    "\n",
    "variable = 'NumPfp'\n",
    "cut = 'fidVol && muon && crt_tom_cut && TrackScore>0.8\\\n",
    "                && TrackLength>20 && TrackPID_chiproton>78 && NuScore>0.1'\n",
    "\n",
    "overlay_out.Draw(variable+'>>h_1d',weight_name+'*('+cut+'&& numu_signal)')\n",
    "overlay_out.Draw(variable+'>>h_1d_true',weight_name+'*(numu_true)')\n",
    "eff =  ROOT.TEfficiency(h_1d,h_1d_true)\n",
    "eff.SetStatisticOption(ROOT.TEfficiency.kFCP)#;  // to set option for errors (see ref doc)\n",
    "eff.SetConfidenceLevel(0.68)\n",
    "eff.SetTitle(title)\n",
    "eff.Draw(\"AP\")\n",
    "ROOT.gPad.Update()\n",
    "graph = eff.GetPaintedGraph()\n",
    "graph.SetMinimum(0)\n",
    "graph.SetMaximum(1)\n",
    "graph.SetLineWidth(2)\n",
    "graph.GetXaxis().SetTitle(\"Particle multiplicity\")\n",
    "graph.GetYaxis().SetTitle(\"Signal efficiency\")\n",
    "graph.Draw(\"AP\")\n",
    "c1.Draw()\n",
    "c1.SaveAs(globale.outputdir_png + \"h_eff_particle_multi.png\")\n",
    "c1.SaveAs(globale.outputdir_root + \"h_eff_particle_multi.root\")\n",
    "c1.SaveAs(globale.outputdir_pdf + \"h_eff_particle_multi.pdf\")\n",
    "\n"
   ]
  },
  {
   "cell_type": "code",
   "execution_count": 22,
   "metadata": {},
   "outputs": [
    {
     "name": "stderr",
     "output_type": "stream",
     "text": [
      "Warning in <TROOT::Append>: Replacing existing TH1: h_1d (Potential memory leak).\n",
      "Warning in <TROOT::Append>: Replacing existing TH1: h_1d_true (Potential memory leak).\n",
      "Info in <TEfficiency::TEfficiency>: given histograms are filled with weights\n",
      "Info in <TROOT::TEfficiency::SetUseWeightedEvents>: Histograms are filled with weights\n",
      "Warning in <TEfficiency::GetEfficiencyErrorLow>: frequentist confidence intervals for weights are only supported by the normal approximation\n",
      "Info in <TEfficiency::GetEfficiencyErrorLow>: setting statistic option to kFNormal\n",
      "Info in <TCanvas::Print>: png file /home/tmettler/Desktop/v08_00_00_33/V08_00_00_35/weighted/muon_cut/png/h_eff_track_multi.png has been created\n",
      "Info in <TCanvas::SaveAs>: ROOT file /home/tmettler/Desktop/v08_00_00_33/V08_00_00_35/weighted/muon_cut/root/h_eff_track_multi.root has been created\n",
      "Info in <TCanvas::Print>: pdf file /home/tmettler/Desktop/v08_00_00_33/V08_00_00_35/weighted/muon_cut/pdf/h_eff_track_multi.pdf has been created\n"
     ]
    },
    {
     "data": {
      "image/png": "[encoded data removed]",
      "text/plain": [
       "<IPython.core.display.Image object>"
      ]
     },
     "metadata": {},
     "output_type": "display_data"
    }
   ],
   "source": [
    "mom_bins = [ 0.00, 1.0, 2.0, 3.0, 4.0, 5.0, 6.0, 7.0, 8.0, 9.0, 10.0 ]\n",
    "binnum = len(mom_bins) - 1\n",
    "\n",
    "h_1d = ROOT.TH1F('h_1d',\"Particle multi\",binnum,array('f',mom_bins))\n",
    "h_1d_true = ROOT.TH1F('h_1d_true',\"Particle multi true\",binnum,array('f',mom_bins))\n",
    "\n",
    "variable = 'NuTracks'\n",
    "cut = 'fidVol && muon && crt_tom_cut && TrackScore>0.8\\\n",
    "                && TrackLength>20 && TrackPID_chiproton>78 && NuScore>0.1'\n",
    "\n",
    "overlay_out.Draw(variable+'>>h_1d',weight_name+'*('+cut+'&& numu_signal)')\n",
    "overlay_out.Draw(variable+'>>h_1d_true',weight_name+'*(numu_true)')\n",
    "eff =  ROOT.TEfficiency(h_1d,h_1d_true)\n",
    "eff.SetStatisticOption(ROOT.TEfficiency.kFCP)#;  // to set option for errors (see ref doc)\n",
    "eff.SetConfidenceLevel(0.68)\n",
    "eff.SetTitle(title)\n",
    "eff.Draw(\"AP\")\n",
    "ROOT.gPad.Update()\n",
    "graph = eff.GetPaintedGraph()\n",
    "graph.SetMinimum(0)\n",
    "graph.SetMaximum(1)\n",
    "graph.SetLineWidth(2)\n",
    "graph.GetXaxis().SetTitle(\"Track Multiplicity\")\n",
    "graph.GetYaxis().SetTitle(\"Signal efficiency\")\n",
    "graph.Draw(\"AP\")\n",
    "c1.Draw()\n",
    "c1.SaveAs(globale.outputdir_png + \"h_eff_track_multi.png\")\n",
    "c1.SaveAs(globale.outputdir_root + \"h_eff_track_multi.root\")\n",
    "c1.SaveAs(globale.outputdir_pdf + \"h_eff_track_multi.pdf\")\n",
    "\n"
   ]
  },
  {
   "cell_type": "code",
   "execution_count": 23,
   "metadata": {},
   "outputs": [
    {
     "name": "stderr",
     "output_type": "stream",
     "text": [
      "Warning in <TROOT::Append>: Replacing existing TH1: h_1d (Potential memory leak).\n"
     ]
    },
    {
     "data": {
      "image/png": "[encoded data removed]",
      "text/plain": [
       "<IPython.core.display.Image object>"
      ]
     },
     "metadata": {},
     "output_type": "display_data"
    }
   ],
   "source": [
    "h_1d = ROOT.TH1F('h_1d',\"Particle multi\",20,0,0.5)\n",
    "overlay_out.Draw('MCTrackPurity>>h_1d','numu_lowpur && '+cut)\n",
    "c1.Draw()"
   ]
  },
  {
   "cell_type": "code",
   "execution_count": 24,
   "metadata": {},
   "outputs": [
    {
     "data": {
      "image/png": "[encoded data removed]",
      "text/plain": [
       "<IPython.core.display.Image object>"
      ]
     },
     "metadata": {},
     "output_type": "display_data"
    }
   ],
   "source": [
    "#print h_1d.GetEntries()\n",
    "#h_1d.Scale(1.0/h_1d.GetEntries());\n",
    "h_1d.Draw('HIST')\n",
    "c1.Draw()"
   ]
  },
  {
   "cell_type": "code",
   "execution_count": null,
   "metadata": {},
   "outputs": [],
   "source": []
  },
  {
   "cell_type": "code",
   "execution_count": 25,
   "metadata": {},
   "outputs": [
    {
     "name": "stdout",
     "output_type": "stream",
     "text": [
      "Efficiency for cut:  fidVol && muon\n",
      "Used weight:  EventWeight*TunedCentralValue_Genie\n",
      "\n",
      "Keep of     ext:\t100.00%\t reject:\t0.00%\n",
      "Keep of    dirt:\t100.00%\t reject:\t-0.00%\n",
      "Keep of overlay:\t100.00%\t reject:\t0.00%\n",
      "\n",
      "Efficiency:\t\t66.60%\n",
      "Purity:\t\t\t34.39%\n",
      "Purity*Efficiency\t22.91\n",
      "\n",
      "Amount of     ext:\t38.98%\n",
      "Amount of    dirt:\t4.82%\n",
      "Amount of overlay:\t56.21%\n",
      "\n",
      "Signal definition=  numu_signal: 34.39%\n",
      "Signal definition=    numu_nomu: 2.60%\n",
      "Signal definition=  numu_lowpur: 3.49%\n",
      "Signal definition=      numu_nc: 6.23%\n",
      "Signal definition=      numu_ov: 8.97%\n",
      "Signal definition=   numu_other: 0.53%\n"
     ]
    },
    {
     "data": {
      "text/plain": [
       "(66.60419570575043, 34.38973738185618)"
      ]
     },
     "execution_count": 25,
     "metadata": {},
     "output_type": "execute_result"
    },
    {
     "name": "stderr",
     "output_type": "stream",
     "text": [
      "Warning in <TROOT::Append>: Replacing existing TH1: h_weight_func (Potential memory leak).\n"
     ]
    }
   ],
   "source": [
    "NuCC_w.printEff_w('fidVol && muon')"
   ]
  },
  {
   "cell_type": "code",
   "execution_count": 26,
   "metadata": {},
   "outputs": [
    {
     "name": "stdout",
     "output_type": "stream",
     "text": [
      "Efficiency for cut:  fidVol && muon && nr_crthit_top==0\n",
      "Used weight:  EventWeight*TunedCentralValue_Genie\n",
      "\n",
      "Keep of     ext:\t62.31%\t reject:\t37.69%\n",
      "Keep of    dirt:\t95.66%\t reject:\t4.34%\n",
      "Keep of overlay:\t96.97%\t reject:\t3.03%\n",
      "\n",
      "Efficiency:\t\t64.70%\n",
      "Purity:\t\t\t40.06%\n",
      "Purity*Efficiency\t25.92\n",
      "\n",
      "Amount of     ext:\t29.12%\n",
      "Amount of    dirt:\t5.53%\n",
      "Amount of overlay:\t65.36%\n",
      "\n",
      "Signal definition=  numu_signal: 40.06%\n",
      "Signal definition=    numu_nomu: 2.98%\n",
      "Signal definition=  numu_lowpur: 4.01%\n",
      "Signal definition=      numu_nc: 7.32%\n",
      "Signal definition=      numu_ov: 10.36%\n",
      "Signal definition=   numu_other: 0.63%\n"
     ]
    },
    {
     "data": {
      "text/plain": [
       "(64.70349277198066, 40.059211343872285)"
      ]
     },
     "execution_count": 26,
     "metadata": {},
     "output_type": "execute_result"
    },
    {
     "name": "stderr",
     "output_type": "stream",
     "text": [
      "Warning in <TROOT::Append>: Replacing existing TH1: h_weight_func (Potential memory leak).\n"
     ]
    }
   ],
   "source": [
    "NuCC_w.printEff_w('fidVol && muon && nr_crthit_top==0')"
   ]
  },
  {
   "cell_type": "code",
   "execution_count": 27,
   "metadata": {},
   "outputs": [
    {
     "name": "stdout",
     "output_type": "stream",
     "text": [
      "Efficiency for cut:  fidVol && muon && nr_crthit_top==0 && crthit_vertex_zcut==0\n",
      "Used weight:  EventWeight*TunedCentralValue_Genie\n",
      "\n",
      "Keep of     ext:\t50.15%\t reject:\t49.85%\n",
      "Keep of    dirt:\t75.01%\t reject:\t24.99%\n",
      "Keep of overlay:\t95.25%\t reject:\t4.75%\n",
      "\n",
      "Efficiency:\t\t64.09%\n",
      "Purity:\t\t\t43.16%\n",
      "Purity*Efficiency\t27.66\n",
      "\n",
      "Amount of     ext:\t25.49%\n",
      "Amount of    dirt:\t4.72%\n",
      "Amount of overlay:\t69.83%\n",
      "\n",
      "Signal definition=  numu_signal: 43.16%\n",
      "Signal definition=    numu_nomu: 3.16%\n",
      "Signal definition=  numu_lowpur: 4.29%\n",
      "Signal definition=      numu_nc: 7.90%\n",
      "Signal definition=      numu_ov: 10.65%\n",
      "Signal definition=   numu_other: 0.68%\n"
     ]
    },
    {
     "data": {
      "text/plain": [
       "(64.0932314030938, 43.160574144504615)"
      ]
     },
     "execution_count": 27,
     "metadata": {},
     "output_type": "execute_result"
    },
    {
     "name": "stderr",
     "output_type": "stream",
     "text": [
      "Warning in <TROOT::Append>: Replacing existing TH1: h_weight_func (Potential memory leak).\n"
     ]
    }
   ],
   "source": [
    "NuCC_w.printEff_w('fidVol && muon && nr_crthit_top==0 && crthit_vertex_zcut==0')"
   ]
  },
  {
   "cell_type": "code",
   "execution_count": 28,
   "metadata": {},
   "outputs": [
    {
     "name": "stdout",
     "output_type": "stream",
     "text": [
      "Efficiency for cut:  fidVol && muon && nr_crthit_top==0 && crthit_vertex_zcut==0 && (track_end_uncontained==1 || nr_crthit_beam_tres==0)\n",
      "Used weight:  EventWeight*TunedCentralValue_Genie\n",
      "\n",
      "Keep of     ext:\t44.29%\t reject:\t55.71%\n",
      "Keep of    dirt:\t72.40%\t reject:\t27.60%\n",
      "Keep of overlay:\t92.98%\t reject:\t7.02%\n",
      "\n",
      "Efficiency:\t\t63.58%\n",
      "Purity:\t\t\t44.98%\n",
      "Purity*Efficiency\t28.60\n",
      "\n",
      "Amount of     ext:\t23.65%\n",
      "Amount of    dirt:\t4.78%\n",
      "Amount of overlay:\t71.61%\n",
      "\n",
      "Signal definition=  numu_signal: 44.98%\n",
      "Signal definition=    numu_nomu: 3.02%\n",
      "Signal definition=  numu_lowpur: 4.30%\n",
      "Signal definition=      numu_nc: 8.20%\n",
      "Signal definition=      numu_ov: 10.42%\n",
      "Signal definition=   numu_other: 0.70%\n"
     ]
    },
    {
     "data": {
      "text/plain": [
       "(63.581916562348795, 44.980234179481094)"
      ]
     },
     "execution_count": 28,
     "metadata": {},
     "output_type": "execute_result"
    },
    {
     "name": "stderr",
     "output_type": "stream",
     "text": [
      "Warning in <TROOT::Append>: Replacing existing TH1: h_weight_func (Potential memory leak).\n"
     ]
    }
   ],
   "source": [
    "NuCC_w.printEff_w('fidVol && muon && nr_crthit_top==0 && crthit_vertex_zcut==0 && (track_end_uncontained==1 || nr_crthit_beam_tres==0)')"
   ]
  },
  {
   "cell_type": "code",
   "execution_count": 29,
   "metadata": {},
   "outputs": [
    {
     "name": "stdout",
     "output_type": "stream",
     "text": [
      "Efficiency for cut:  fidVol && muon && nr_crthit_top==0 && crthit_vertex_zcut==0 && (track_end_uncontained==1 || nr_crthit_beam_tres==0) && crt_cut\n",
      "Used weight:  EventWeight*TunedCentralValue_Genie\n",
      "\n",
      "Keep of     ext:\t36.35%\t reject:\t63.65%\n",
      "Keep of    dirt:\t60.27%\t reject:\t39.73%\n",
      "Keep of overlay:\t86.52%\t reject:\t13.48%\n",
      "\n",
      "Efficiency:\t\t61.33%\n",
      "Purity:\t\t\t48.22%\n",
      "Purity*Efficiency\t29.57\n",
      "\n",
      "Amount of     ext:\t21.57%\n",
      "Amount of    dirt:\t4.42%\n",
      "Amount of overlay:\t74.05%\n",
      "\n",
      "Signal definition=  numu_signal: 48.22%\n",
      "Signal definition=    numu_nomu: 3.26%\n",
      "Signal definition=  numu_lowpur: 3.71%\n",
      "Signal definition=      numu_nc: 8.47%\n",
      "Signal definition=      numu_ov: 9.67%\n",
      "Signal definition=   numu_other: 0.74%\n"
     ]
    },
    {
     "data": {
      "text/plain": [
       "(61.32910910845842, 48.21723687106882)"
      ]
     },
     "execution_count": 29,
     "metadata": {},
     "output_type": "execute_result"
    },
    {
     "name": "stderr",
     "output_type": "stream",
     "text": [
      "Warning in <TROOT::Append>: Replacing existing TH1: h_weight_func (Potential memory leak).\n"
     ]
    }
   ],
   "source": [
    "NuCC_w.printEff_w('fidVol && muon && nr_crthit_top==0 && crthit_vertex_zcut==0 && (track_end_uncontained==1 || nr_crthit_beam_tres==0) && crt_cut')"
   ]
  },
  {
   "cell_type": "code",
   "execution_count": 30,
   "metadata": {},
   "outputs": [
    {
     "name": "stdout",
     "output_type": "stream",
     "text": [
      "Efficiency for cut:  fidVol && muon && crt_tom_cut && TrackScore>0.8                && TrackLength>20 && TrackPID_chiproton>78 && NuScore>0.1\n",
      "Used weight:  EventWeight*TunedCentralValue_Genie\n",
      "\n",
      "Keep of     ext:\t10.20%\t reject:\t89.80%\n",
      "Keep of    dirt:\t18.72%\t reject:\t81.28%\n",
      "Keep of overlay:\t58.44%\t reject:\t41.56%\n",
      "\n",
      "Efficiency:\t\t52.82%\n",
      "Purity:\t\t\t72.29%\n",
      "Purity*Efficiency\t38.18\n",
      "\n",
      "Amount of     ext:\t10.54%\n",
      "Amount of    dirt:\t2.39%\n",
      "Amount of overlay:\t87.08%\n",
      "\n",
      "Signal definition=  numu_signal: 72.29%\n",
      "Signal definition=    numu_nomu: 2.62%\n",
      "Signal definition=  numu_lowpur: 2.62%\n",
      "Signal definition=      numu_nc: 3.25%\n",
      "Signal definition=      numu_ov: 5.53%\n",
      "Signal definition=   numu_other: 0.77%\n"
     ]
    },
    {
     "data": {
      "text/plain": [
       "(52.818513027418426, 72.28536475282512)"
      ]
     },
     "execution_count": 30,
     "metadata": {},
     "output_type": "execute_result"
    },
    {
     "name": "stderr",
     "output_type": "stream",
     "text": [
      "Warning in <TROOT::Append>: Replacing existing TH1: h_weight_func (Potential memory leak).\n"
     ]
    }
   ],
   "source": [
    "NuCC_w.printEff_w('fidVol && muon && crt_tom_cut && TrackScore>0.8\\\n",
    "                && TrackLength>20 && TrackPID_chiproton>78 && NuScore>0.1')"
   ]
  },
  {
   "cell_type": "code",
   "execution_count": 31,
   "metadata": {},
   "outputs": [
    {
     "name": "stdout",
     "output_type": "stream",
     "text": [
      "Efficiency for cut:  fidVol && muon && crt_tom_cut\n",
      "Used weight:  EventWeight*TunedCentralValue_Genie\n",
      "\n",
      "Keep of     ext:\t36.35%\t reject:\t63.65%\n",
      "Keep of    dirt:\t60.27%\t reject:\t39.73%\n",
      "Keep of overlay:\t86.52%\t reject:\t13.48%\n",
      "\n",
      "Efficiency:\t\t61.33%\n",
      "Purity:\t\t\t48.22%\n",
      "Purity*Efficiency\t29.57\n",
      "\n",
      "Amount of     ext:\t21.57%\n",
      "Amount of    dirt:\t4.42%\n",
      "Amount of overlay:\t74.05%\n",
      "\n",
      "Signal definition=  numu_signal: 48.22%\n",
      "Signal definition=    numu_nomu: 3.26%\n",
      "Signal definition=  numu_lowpur: 3.71%\n",
      "Signal definition=      numu_nc: 8.47%\n",
      "Signal definition=      numu_ov: 9.67%\n",
      "Signal definition=   numu_other: 0.74%\n"
     ]
    },
    {
     "data": {
      "text/plain": [
       "(61.32910910845842, 48.21723687106882)"
      ]
     },
     "execution_count": 31,
     "metadata": {},
     "output_type": "execute_result"
    },
    {
     "name": "stderr",
     "output_type": "stream",
     "text": [
      "Warning in <TROOT::Append>: Replacing existing TH1: h_weight_func (Potential memory leak).\n"
     ]
    }
   ],
   "source": [
    "NuCC_w.printEff_w('fidVol && muon && crt_tom_cut')"
   ]
  },
  {
   "cell_type": "code",
   "execution_count": 32,
   "metadata": {},
   "outputs": [
    {
     "name": "stdout",
     "output_type": "stream",
     "text": [
      "Efficiency for cut:  fidVol && muon && crt_tom_cut && TrackScore>0.8\n",
      "Used weight:  EventWeight*TunedCentralValue_Genie\n",
      "\n",
      "Keep of     ext:\t32.42%\t reject:\t67.58%\n",
      "Keep of    dirt:\t48.85%\t reject:\t51.15%\n",
      "Keep of overlay:\t80.29%\t reject:\t19.71%\n",
      "\n",
      "Efficiency:\t\t59.76%\n",
      "Purity:\t\t\t51.36%\n",
      "Purity*Efficiency\t30.69\n",
      "\n",
      "Amount of     ext:\t21.03%\n",
      "Amount of    dirt:\t3.92%\n",
      "Amount of overlay:\t75.12%\n",
      "\n",
      "Signal definition=  numu_signal: 51.36%\n",
      "Signal definition=    numu_nomu: 3.09%\n",
      "Signal definition=  numu_lowpur: 3.37%\n",
      "Signal definition=      numu_nc: 7.65%\n",
      "Signal definition=      numu_ov: 8.93%\n",
      "Signal definition=   numu_other: 0.72%\n"
     ]
    },
    {
     "data": {
      "text/plain": [
       "(59.76476733261892, 51.35771301030164)"
      ]
     },
     "execution_count": 32,
     "metadata": {},
     "output_type": "execute_result"
    },
    {
     "name": "stderr",
     "output_type": "stream",
     "text": [
      "Warning in <TROOT::Append>: Replacing existing TH1: h_weight_func (Potential memory leak).\n"
     ]
    }
   ],
   "source": [
    "NuCC_w.printEff_w('fidVol && muon && crt_tom_cut && TrackScore>0.8')"
   ]
  },
  {
   "cell_type": "code",
   "execution_count": 33,
   "metadata": {},
   "outputs": [
    {
     "name": "stdout",
     "output_type": "stream",
     "text": [
      "Efficiency for cut:  fidVol && muon && crt_tom_cut && TrackScore>0.8                && TrackLength>20\n",
      "Used weight:  EventWeight*TunedCentralValue_Genie\n",
      "\n",
      "Keep of     ext:\t29.09%\t reject:\t70.91%\n",
      "Keep of    dirt:\t40.60%\t reject:\t59.40%\n",
      "Keep of overlay:\t73.47%\t reject:\t26.53%\n",
      "\n",
      "Efficiency:\t\t58.53%\n",
      "Purity:\t\t\t55.38%\n",
      "Purity*Efficiency\t32.41\n",
      "\n",
      "Amount of     ext:\t20.78%\n",
      "Amount of    dirt:\t3.59%\n",
      "Amount of overlay:\t75.69%\n",
      "\n",
      "Signal definition=  numu_signal: 55.38%\n",
      "Signal definition=    numu_nomu: 2.72%\n",
      "Signal definition=  numu_lowpur: 3.25%\n",
      "Signal definition=      numu_nc: 5.40%\n",
      "Signal definition=      numu_ov: 8.26%\n",
      "Signal definition=   numu_other: 0.68%\n"
     ]
    },
    {
     "data": {
      "text/plain": [
       "(58.52595753131749, 55.38095339889561)"
      ]
     },
     "execution_count": 33,
     "metadata": {},
     "output_type": "execute_result"
    },
    {
     "name": "stderr",
     "output_type": "stream",
     "text": [
      "Warning in <TROOT::Append>: Replacing existing TH1: h_weight_func (Potential memory leak).\n"
     ]
    }
   ],
   "source": [
    "NuCC_w.printEff_w('fidVol && muon && crt_tom_cut && TrackScore>0.8\\\n",
    "                && TrackLength>20')"
   ]
  },
  {
   "cell_type": "code",
   "execution_count": 34,
   "metadata": {},
   "outputs": [
    {
     "name": "stdout",
     "output_type": "stream",
     "text": [
      "Efficiency for cut:  fidVol && muon && crt_tom_cut && TrackScore>0.8                && TrackLength>20 && TrackPID_chiproton>78\n",
      "Used weight:  EventWeight*TunedCentralValue_Genie\n",
      "\n",
      "Keep of     ext:\t28.03%\t reject:\t71.97%\n",
      "Keep of    dirt:\t38.60%\t reject:\t61.40%\n",
      "Keep of overlay:\t69.34%\t reject:\t30.66%\n",
      "\n",
      "Efficiency:\t\t58.36%\n",
      "Purity:\t\t\t58.26%\n",
      "Purity*Efficiency\t34.00\n",
      "\n",
      "Amount of     ext:\t21.12%\n",
      "Amount of    dirt:\t3.60%\n",
      "Amount of overlay:\t75.36%\n",
      "\n",
      "Signal definition=  numu_signal: 58.26%\n",
      "Signal definition=    numu_nomu: 2.00%\n",
      "Signal definition=  numu_lowpur: 3.21%\n",
      "Signal definition=      numu_nc: 3.07%\n",
      "Signal definition=      numu_ov: 8.18%\n",
      "Signal definition=   numu_other: 0.64%\n"
     ]
    },
    {
     "data": {
      "text/plain": [
       "(58.360059239881714, 58.26025528024519)"
      ]
     },
     "execution_count": 34,
     "metadata": {},
     "output_type": "execute_result"
    },
    {
     "name": "stderr",
     "output_type": "stream",
     "text": [
      "Warning in <TROOT::Append>: Replacing existing TH1: h_weight_func (Potential memory leak).\n"
     ]
    }
   ],
   "source": [
    "NuCC_w.printEff_w('fidVol && muon && crt_tom_cut && TrackScore>0.8\\\n",
    "                && TrackLength>20 && TrackPID_chiproton>78')"
   ]
  },
  {
   "cell_type": "code",
   "execution_count": 35,
   "metadata": {},
   "outputs": [
    {
     "name": "stdout",
     "output_type": "stream",
     "text": [
      "Efficiency for cut:  fidVol && muon && crt_tom_cut && TrackScore>0.8                && TrackLength>20 && TrackPID_chiproton>78 && NuScore>0.1\n",
      "Used weight:  EventWeight*TunedCentralValue_Genie\n",
      "\n",
      "Keep of     ext:\t10.20%\t reject:\t89.80%\n",
      "Keep of    dirt:\t18.72%\t reject:\t81.28%\n",
      "Keep of overlay:\t58.44%\t reject:\t41.56%\n",
      "\n",
      "Efficiency:\t\t52.82%\n",
      "Purity:\t\t\t72.29%\n",
      "Purity*Efficiency\t38.18\n",
      "\n",
      "Amount of     ext:\t10.54%\n",
      "Amount of    dirt:\t2.39%\n",
      "Amount of overlay:\t87.08%\n",
      "\n",
      "Signal definition=  numu_signal: 72.29%\n",
      "Signal definition=    numu_nomu: 2.62%\n",
      "Signal definition=  numu_lowpur: 2.62%\n",
      "Signal definition=      numu_nc: 3.25%\n",
      "Signal definition=      numu_ov: 5.53%\n",
      "Signal definition=   numu_other: 0.77%\n"
     ]
    },
    {
     "data": {
      "text/plain": [
       "(52.818513027418426, 72.28536475282512)"
      ]
     },
     "execution_count": 35,
     "metadata": {},
     "output_type": "execute_result"
    },
    {
     "name": "stderr",
     "output_type": "stream",
     "text": [
      "Warning in <TROOT::Append>: Replacing existing TH1: h_weight_func (Potential memory leak).\n"
     ]
    }
   ],
   "source": [
    "NuCC_w.printEff_w('fidVol && muon && crt_tom_cut && TrackScore>0.8\\\n",
    "                && TrackLength>20 && TrackPID_chiproton>78 && NuScore>0.1')"
   ]
  },
  {
   "cell_type": "code",
   "execution_count": 36,
   "metadata": {},
   "outputs": [
    {
     "name": "stdout",
     "output_type": "stream",
     "text": [
      "Efficiency for cut:  fidVol && muon && crt_tom_cut && TrackScore>0.8                && TrackLength>20 && TrackPID_chiproton>78 && NuScore>0.1\n",
      "Used weight:  EventWeight*TunedCentralValue_Genie\n",
      "\n",
      "Keep of     ext:\t10.20%\t reject:\t89.80%\n",
      "Keep of    dirt:\t18.72%\t reject:\t81.28%\n",
      "Keep of overlay:\t58.44%\t reject:\t41.56%\n",
      "\n",
      "Efficiency:\t\t52.82%\n",
      "Purity:\t\t\t72.29%\n",
      "Purity*Efficiency\t38.18\n",
      "\n",
      "Amount of     ext:\t10.54%\n",
      "Amount of    dirt:\t2.39%\n",
      "Amount of overlay:\t87.08%\n",
      "\n",
      "Signal definition=  numu_signal: 72.29%\n",
      "Signal definition=    numu_nomu: 2.62%\n",
      "Signal definition=  numu_lowpur: 2.62%\n",
      "Signal definition=      numu_nc: 3.25%\n",
      "Signal definition=      numu_ov: 5.53%\n",
      "Signal definition=   numu_other: 0.77%\n"
     ]
    },
    {
     "data": {
      "text/plain": [
       "(52.818513027418426, 72.28536475282512)"
      ]
     },
     "execution_count": 36,
     "metadata": {},
     "output_type": "execute_result"
    },
    {
     "name": "stderr",
     "output_type": "stream",
     "text": [
      "Warning in <TROOT::Append>: Replacing existing TH1: h_weight_func (Potential memory leak).\n"
     ]
    }
   ],
   "source": [
    "NuCC_w.printEff_w('fidVol && muon && crt_tom_cut && TrackScore>0.8\\\n",
    "                && TrackLength>20 && TrackPID_chiproton>78 && NuScore>0.1')"
   ]
  },
  {
   "cell_type": "code",
   "execution_count": null,
   "metadata": {},
   "outputs": [],
   "source": [
    "nenner = 'numu_true'\n",
    "zahler = 'fidVol && muon && numu_signal'\n",
    "cut = 'fidVol && muon'\n",
    "start = time.time()\n",
    "NuCC_w.plot_eff_w(nenner,zahler,cut,'initial','initial')\n",
    "end = time.time()\n",
    "print(end - start)"
   ]
  },
  {
   "cell_type": "code",
   "execution_count": null,
   "metadata": {},
   "outputs": [],
   "source": [
    "nenner = 'numu_true'\n",
    "zahler = 'fidVol && muon && crt_tom_cut && TrackScore>0.8\\\n",
    "                && TrackLength>20 && TrackPID_chiproton>78 && NuScore>0.1 && numu_signal'\n",
    "cut = 'fidVol && muon && crt_tom_cut && TrackScore>0.8\\\n",
    "                && TrackLength>20 && TrackPID_chiproton>78 && NuScore>0.1'\n",
    "start = time.time()\n",
    "NuCC_w.plot_eff_w(nenner,zahler,cut,'allcut','allcut')\n",
    "end = time.time()\n",
    "print(end - start)"
   ]
  },
  {
   "cell_type": "code",
   "execution_count": null,
   "metadata": {},
   "outputs": [],
   "source": [
    "# initialte ROOT default canvas\n",
    "ROOT.gStyle.SetOptStat(0)\n",
    "c1 = ROOT.TCanvas(\"c1\",\"c1\",1600,1200)\n",
    "c1.SetGrid(1)\n",
    "c1.SetLeftMargin(0.14)\n",
    "c1.SetRightMargin(0.05)\n",
    "c1.SetBottomMargin(0.14)"
   ]
  },
  {
   "cell_type": "code",
   "execution_count": null,
   "metadata": {},
   "outputs": [],
   "source": [
    "xstart = -50\n",
    "xend = 1000\n",
    "xbin = 50\n",
    "title = 'test'\n",
    "name = 'allcut'\n",
    "\n",
    "nenner_cut = 'numu_true'\n",
    "zahler_cut = 'fidVol && muon && crt_tom_cut && TrackScore>0.8\\\n",
    "                && TrackLength>20 && TrackPID_chiproton>78 && NuScore>0.1 && numu_signal'\n",
    "\n",
    "h_init_eff_V = ROOT.TH1F(\"h_init_eff_V\",title,xbin,xstart,xend)\n",
    "h_init_eff_V_1 = ROOT.TH1F(\"h_init_eff_V_1\",title,xbin,xstart,xend)\n",
    "#h_init_eff_V = fill_histo(globale.overlay_out,'MCNu_Vz',h_init_eff_V,zahler_cut)\n",
    "#h_init_eff_V_1 = fill_histo(globale.overlay_out,'MCNu_Vz',h_init_eff_V_1,nenner_cut)\n",
    "globale.overlay_out.Draw('MCNu_Vz>>h_init_eff_V',weight_name+'*('+zahler_cut+')')\n",
    "globale.overlay_out.Draw('MCNu_Vz>>h_init_eff_V_1',weight_name+'*('+nenner_cut+')')\n",
    "eff =  ROOT.TEfficiency(h_init_eff_V,h_init_eff_V_1)\n",
    "eff.SetStatisticOption(ROOT.TEfficiency.kFCP)#;  // to set option for errors (see ref doc)\n",
    "eff.SetConfidenceLevel(0.68)\n",
    "eff.SetTitle(title)\n",
    "\n",
    "eff.Draw(\"AP\")\n",
    "\n",
    "ROOT.gPad.Update()\n",
    "graph = eff.GetPaintedGraph()\n",
    "graph.SetMinimum(0)\n",
    "graph.SetMaximum(1)\n",
    "graph.SetLineWidth(2)\n",
    "graph.GetXaxis().SetTitle('Truth neutrino vertex Z [cm]')\n",
    "graph.GetYaxis().SetTitle(\"Signal efficiency\")\n",
    "\n",
    "graph.GetYaxis().SetTitleSize(0.05)\n",
    "graph.GetYaxis().SetTitleOffset(0.0)\n",
    "graph.GetYaxis().SetLabelSize(0.05)\n",
    "graph.GetXaxis().SetTitleSize(0.05)\n",
    "graph.GetXaxis().SetLabelSize(0.05)\n",
    "graph.GetXaxis().SetTitleOffset(1)\n",
    "graph.SetLineColor(ROOT.kBlack)\n",
    "graph.SetLineWidth(4)\n",
    "ROOT.gStyle.SetEndErrorSize(5)\n",
    "\n",
    "graph.Draw(\"AP\")\n",
    "prelim = ROOT.TLatex(0.9,0.93, \"MicroBooNE Simulation Preliminary\");\n",
    "prelim.SetTextFont(62);\n",
    "prelim.SetTextColor(ROOT.kGray+2);\n",
    "prelim.SetNDC();\n",
    "prelim.SetTextSize(1/30.);\n",
    "prelim.SetTextAlign(32);\n",
    "prelim.Draw()\n",
    "c1.Draw()\n",
    "c1.SaveAs(globale.outputdir_png + \"h_eff_Vz\"+name+\".png\")\n",
    "c1.SaveAs(globale.outputdir_root + \"h_eff_Vz\"+name+\".root\")\n",
    "c1.SaveAs(globale.outputdir_pdf + \"h_eff_Vz\"+name+\".pdf\")"
   ]
  },
  {
   "cell_type": "code",
   "execution_count": null,
   "metadata": {},
   "outputs": [],
   "source": [
    "xstart = -50\n",
    "xend = 1000\n",
    "xbin = 50\n",
    "title = 'initial'\n",
    "name = 'initial'\n",
    "\n",
    "nenner_cut = 'numu_true'\n",
    "zahler_cut = 'fidVol && muon && numu_signal'\n",
    "\n",
    "h_init_eff_V = ROOT.TH1F(\"h_init_eff_V\",title,xbin,xstart,xend)\n",
    "h_init_eff_V_1 = ROOT.TH1F(\"h_init_eff_V_1\",title,xbin,xstart,xend)\n",
    "#h_init_eff_V = fill_histo(globale.overlay_out,'MCNu_Vz',h_init_eff_V,zahler_cut)\n",
    "#h_init_eff_V_1 = fill_histo(globale.overlay_out,'MCNu_Vz',h_init_eff_V_1,nenner_cut)\n",
    "globale.overlay_out.Draw('MCNu_Vz>>h_init_eff_V',weight_name+'*('+zahler_cut+')')\n",
    "globale.overlay_out.Draw('MCNu_Vz>>h_init_eff_V_1',weight_name+'*('+nenner_cut+')')\n",
    "eff =  ROOT.TEfficiency(h_init_eff_V,h_init_eff_V_1)\n",
    "eff.SetStatisticOption(ROOT.TEfficiency.kFCP)#;  // to set option for errors (see ref doc)\n",
    "eff.SetConfidenceLevel(0.68)\n",
    "eff.SetTitle(title)\n",
    "eff.Draw(\"AP\")\n",
    "\n",
    "ROOT.gPad.Update()\n",
    "graph = eff.GetPaintedGraph()\n",
    "graph.SetMinimum(0)\n",
    "graph.SetMaximum(1)\n",
    "graph.SetLineWidth(2)\n",
    "graph.GetXaxis().SetTitle('Truth neutrino vertex Z [cm]')\n",
    "graph.GetYaxis().SetTitle(\"Signal efficiency\")\n",
    "\n",
    "graph.GetYaxis().SetTitleSize(0.05)\n",
    "graph.GetYaxis().SetTitleOffset(0.0)\n",
    "graph.GetYaxis().SetLabelSize(0.05)\n",
    "graph.GetXaxis().SetTitleSize(0.05)\n",
    "graph.GetXaxis().SetLabelSize(0.05)\n",
    "graph.GetXaxis().SetTitleOffset(1)\n",
    "graph.SetLineColor(ROOT.kBlack)\n",
    "graph.SetLineWidth(4)\n",
    "ROOT.gStyle.SetEndErrorSize(5)\n",
    "\n",
    "graph.Draw(\"AP\")\n",
    "prelim = ROOT.TLatex(0.9,0.93, \"MicroBooNE Simulation Preliminary\");\n",
    "prelim.SetTextFont(62);\n",
    "prelim.SetTextColor(ROOT.kGray+2);\n",
    "prelim.SetNDC();\n",
    "prelim.SetTextSize(1/30.);\n",
    "prelim.SetTextAlign(32);\n",
    "prelim.Draw()\n",
    "c1.Draw()\n",
    "c1.SaveAs(globale.outputdir_png + \"h_eff_Vz\"+name+\".png\")\n",
    "c1.SaveAs(globale.outputdir_root + \"h_eff_Vz\"+name+\".root\")\n",
    "c1.SaveAs(globale.outputdir_pdf + \"h_eff_Vz\"+name+\".pdf\")"
   ]
  },
  {
   "cell_type": "code",
   "execution_count": null,
   "metadata": {},
   "outputs": [],
   "source": [
    "nenner = 'numu_signal && fidVol && muon'\n",
    "zahler = 'fidVol && muon && crt_tom_cut && TrackScore>0.8\\\n",
    "                && TrackLength>20 && TrackPID_chiproton>78 && NuScore>0.1 && numu_signal'\n",
    "cut = 'fidVol && muon && crt_tom_cut && TrackScore>0.8\\\n",
    "                && TrackLength>20 && TrackPID_chiproton>78 && NuScore>0.1'\n",
    "start = time.time()\n",
    "NuCC_w.plot_eff_w(nenner,zahler,cut,'tomcut_only','tomcut_only')\n",
    "end = time.time()\n",
    "print(end - start)"
   ]
  },
  {
   "cell_type": "code",
   "execution_count": null,
   "metadata": {},
   "outputs": [],
   "source": [
    "nenner = 'numu_signal && fidVol && muon'\n",
    "zahler = 'fidVol && muon && crt_tom_cut && numu_signal'\n",
    "cut = 'fidVol && muon && crt_tom_cut'\n",
    "start = time.time()\n",
    "NuCC_w.plot_eff_w(nenner,zahler,cut,'crtcut_only','crtcut_only')\n",
    "end = time.time()\n",
    "print(end - start)"
   ]
  },
  {
   "cell_type": "code",
   "execution_count": 15,
   "metadata": {},
   "outputs": [
    {
     "name": "stdout",
     "output_type": "stream",
     "text": [
      "Total number of entries:  279746.0\n",
      "PDG:  13 \t=\t67.6% ,\terror: 0.1% ,\tnumber:  220349.46875\n",
      "PDG:  2212 \t=\t11.7% ,\terror: 0.1% ,\tnumber:  38248.5585938\n",
      "PDG:  -1 \t=\t9.4% ,\terror: 0.1% ,\tnumber:  30640.5703125\n",
      "PDG:  11 \t=\t3.5% ,\terror: 0.0% ,\tnumber:  11440.4736328\n",
      "PDG:  211 \t=\t3.2% ,\terror: 0.0% ,\tnumber:  10281.9970703\n",
      "PDG:  -211 \t=\t1.8% ,\terror: 0.0% ,\tnumber:  5995.63183594\n",
      "PDG:  -11 \t=\t1.1% ,\terror: 0.0% ,\tnumber:  3722.6628418\n",
      "PDG:  2112 \t=\t1.0% ,\terror: 0.0% ,\tnumber:  3204.06079102\n",
      "PDG:  -13 \t=\t0.7% ,\terror: 0.0% ,\tnumber:  2151.72485352\n",
      "PDG:  22 \t=\t0.0% ,\terror: 0.0% ,\tnumber:  104.002746582\n",
      "PDG:  321 \t=\t0.0% ,\terror: 0.0% ,\tnumber:  39.0\n",
      "PDG:  -321 \t=\t0.0% ,\terror: 0.0% ,\tnumber:  1.0\n"
     ]
    }
   ],
   "source": [
    "NuCC_w.pdg_content33_w('fidVol && muon')"
   ]
  },
  {
   "cell_type": "code",
   "execution_count": 16,
   "metadata": {},
   "outputs": [
    {
     "name": "stdout",
     "output_type": "stream",
     "text": [
      "Total number of entries:  162889.0\n",
      "PDG:  13 \t=\t87.7% ,\terror: 0.2% ,\tnumber:  167014.359375\n",
      "PDG:  211 \t=\t3.3% ,\terror: 0.0% ,\tnumber:  6256.74267578\n",
      "PDG:  2212 \t=\t2.8% ,\terror: 0.0% ,\tnumber:  5260.13037109\n",
      "PDG:  -1 \t=\t2.2% ,\terror: 0.0% ,\tnumber:  4218.39453125\n",
      "PDG:  -211 \t=\t1.8% ,\terror: 0.0% ,\tnumber:  3368.51464844\n",
      "PDG:  11 \t=\t0.9% ,\terror: 0.0% ,\tnumber:  1764.99487305\n",
      "PDG:  -13 \t=\t0.9% ,\terror: 0.0% ,\tnumber:  1664.32434082\n",
      "PDG:  2112 \t=\t0.3% ,\terror: 0.0% ,\tnumber:  595.317321777\n",
      "PDG:  -11 \t=\t0.2% ,\terror: 0.0% ,\tnumber:  349.594055176\n",
      "PDG:  321 \t=\t0.0% ,\terror: 0.0% ,\tnumber:  21.0\n",
      "PDG:  22 \t=\t0.0% ,\terror: 0.0% ,\tnumber:  19.5796699524\n",
      "PDG:  -321 \t=\t0.0% ,\terror: 0.0% ,\tnumber:  1.0\n"
     ]
    }
   ],
   "source": [
    "NuCC_w.pdg_content33_w('fidVol && muon && crt_tom_cut && TrackScore>0.8\\\n",
    "                && TrackLength>20 && TrackPID_chiproton>78 && NuScore>0.1')"
   ]
  },
  {
   "cell_type": "code",
   "execution_count": 17,
   "metadata": {},
   "outputs": [
    {
     "name": "stdout",
     "output_type": "stream",
     "text": [
      "Total number of entries:  152133.0\n",
      "PDG:  13 \t=\t92.4% ,\terror: 0.2% ,\tnumber:  164662.84375\n",
      "PDG:  211 \t=\t3.1% ,\terror: 0.0% ,\tnumber:  5462.26660156\n",
      "PDG:  2212 \t=\t2.0% ,\terror: 0.0% ,\tnumber:  3490.22631836\n",
      "PDG:  -211 \t=\t1.6% ,\terror: 0.0% ,\tnumber:  2762.94750977\n",
      "PDG:  -13 \t=\t0.9% ,\terror: 0.0% ,\tnumber:  1606.32702637\n",
      "PDG:  11 \t=\t0.1% ,\terror: 0.0% ,\tnumber:  144.024230957\n",
      "PDG:  -11 \t=\t0.1% ,\terror: 0.0% ,\tnumber:  95.2529296875\n",
      "PDG:  321 \t=\t0.0% ,\terror: 0.0% ,\tnumber:  12.0\n",
      "PDG:  -321 \t=\t0.0% ,\terror: 0.0% ,\tnumber:  1.0\n"
     ]
    }
   ],
   "source": [
    "NuCC_w.pdg_content33_w('fidVol && muon && crt_tom_cut && TrackScore>0.8\\\n",
    "                && TrackLength>20 && TrackPID_chiproton>78 && NuScore>0.1 && MCTrackPurity>0.5')"
   ]
  },
  {
   "cell_type": "code",
   "execution_count": 18,
   "metadata": {},
   "outputs": [
    {
     "name": "stdout",
     "output_type": "stream",
     "text": [
      "Total number of entries:  143136.0\n",
      "PDG:  13 \t=\t97.5% ,\terror: 0.2% ,\tnumber:  164662.84375\n",
      "PDG:  211 \t=\t1.4% ,\terror: 0.0% ,\tnumber:  2424.61035156\n",
      "PDG:  2212 \t=\t0.7% ,\terror: 0.0% ,\tnumber:  1213.01745605\n",
      "PDG:  -211 \t=\t0.2% ,\terror: 0.0% ,\tnumber:  380.926330566\n",
      "PDG:  -13 \t=\t0.1% ,\terror: 0.0% ,\tnumber:  112.391471863\n",
      "PDG:  11 \t=\t0.0% ,\terror: 0.0% ,\tnumber:  9.26452732086\n",
      "PDG:  -11 \t=\t0.0% ,\terror: 0.0% ,\tnumber:  7.2529296875\n",
      "PDG:  321 \t=\t0.0% ,\terror: 0.0% ,\tnumber:  4.0\n",
      "PDG:  -321 \t=\t0.0% ,\terror: 0.0% ,\tnumber:  1.0\n"
     ]
    }
   ],
   "source": [
    "NuCC_w.pdg_content33_w('fidVol && muon && crt_tom_cut && TrackScore>0.8\\\n",
    "                && TrackLength>20 && TrackPID_chiproton>78 && NuScore>0.1 && MCTrackPurity>0.5 && num_mc_muon>0')"
   ]
  },
  {
   "cell_type": "code",
   "execution_count": null,
   "metadata": {},
   "outputs": [],
   "source": []
  },
  {
   "cell_type": "code",
   "execution_count": null,
   "metadata": {},
   "outputs": [],
   "source": []
  },
  {
   "cell_type": "code",
   "execution_count": null,
   "metadata": {},
   "outputs": [],
   "source": []
  },
  {
   "cell_type": "code",
   "execution_count": null,
   "metadata": {},
   "outputs": [],
   "source": []
  },
  {
   "cell_type": "code",
   "execution_count": null,
   "metadata": {},
   "outputs": [],
   "source": []
  },
  {
   "cell_type": "code",
   "execution_count": null,
   "metadata": {},
   "outputs": [],
   "source": []
  },
  {
   "cell_type": "code",
   "execution_count": null,
   "metadata": {},
   "outputs": [],
   "source": []
  },
  {
   "cell_type": "code",
   "execution_count": null,
   "metadata": {},
   "outputs": [],
   "source": []
  },
  {
   "cell_type": "code",
   "execution_count": null,
   "metadata": {},
   "outputs": [],
   "source": []
  },
  {
   "cell_type": "code",
   "execution_count": null,
   "metadata": {},
   "outputs": [],
   "source": []
  },
  {
   "cell_type": "code",
   "execution_count": null,
   "metadata": {},
   "outputs": [],
   "source": []
  },
  {
   "cell_type": "code",
   "execution_count": null,
   "metadata": {},
   "outputs": [],
   "source": []
  },
  {
   "cell_type": "code",
   "execution_count": null,
   "metadata": {},
   "outputs": [],
   "source": []
  },
  {
   "cell_type": "code",
   "execution_count": null,
   "metadata": {},
   "outputs": [],
   "source": [
    "# initialte ROOT default canvas\n",
    "ROOT.gStyle.SetOptStat(0)\n",
    "c1 = ROOT.TCanvas(\"c1\",\"c1\",1600,1200)\n",
    "c1.SetGrid(1)\n",
    "c1.SetLeftMargin(0.14)\n",
    "c1.SetRightMargin(0.18)\n",
    "c1.SetBottomMargin(0.14)"
   ]
  },
  {
   "cell_type": "code",
   "execution_count": null,
   "metadata": {},
   "outputs": [],
   "source": [
    "value = 'TrackScore'\n",
    "xbins = 50\n",
    "xstart = 0.5\n",
    "xend = 1\n",
    "step = (xend-xstart)/xbins\n",
    "title = 'Track score'\n",
    "\n",
    "h_eff =  ROOT.TH1F(\"h_eff\",title,xbins,xstart,xend)\n",
    "h_pur = ROOT.TH1F(\"h_pur\",title,xbins,xstart,xend)\n",
    "h_effpur = ROOT.TH1F(\"h_effpur\",title,xbins,xstart,xend)\n",
    "for i in range(xbins): \n",
    "    cut = 'muon && fidVol && crt_tom_cut && ('+value+'>('+str(xstart)+'+'+str(step)+'*'+str(i)+'))'\n",
    "    #print cut\n",
    "    pur = overlay_out.GetEntries(cut+' && numu_signal')*scale[overlay]*100.0/(NuCC.getTotNum_out(cut)+0.00001)\n",
    "    eff = overlay_out.GetEntries(cut+' && numu_signal')*100.0/overlay_out.GetEntries(\"numu_true\")\n",
    "    h_eff.SetBinContent(i+1,eff)\n",
    "    h_pur.SetBinContent(i+1,pur)\n",
    "    h_effpur.SetBinContent(i+1,eff*pur/100.0)\n",
    "    #print eff ,pur, eff*pur,i\n",
    "\n",
    "legend = ROOT.TLegend(0.15,0.75,0.48,0.9);\n",
    "legend.AddEntry(h_eff,\"efficiency\",\"f\");\n",
    "legend.AddEntry(h_pur,\"purity\",\"f\");\n",
    "legend.AddEntry(h_effpur,\"eff * pur\",\"f\");\n",
    "\n",
    "h_eff.SetLineColor(1)\n",
    "h_eff.SetLineWidth(4)\n",
    "h_eff.SetMaximum(100)\n",
    "h_eff.SetMinimum(0)\n",
    "h_pur.SetLineColor(2)\n",
    "h_pur.SetLineWidth(4)\n",
    "h_effpur.SetLineColor(3)\n",
    "h_effpur.SetLineWidth(4)\n",
    "\n",
    "h_eff.GetYaxis().SetTitleSize(0.05)\n",
    "h_eff.GetYaxis().SetTitleOffset(0.0)\n",
    "h_eff.GetYaxis().SetLabelSize(0.05)\n",
    "\n",
    "h_eff.GetXaxis().SetTitleSize(0.05)\n",
    "h_eff.GetXaxis().SetLabelSize(0.05)\n",
    "h_eff.GetXaxis().SetTitleOffset(1)\n",
    "\n",
    "h_eff.SetYTitle(\"Percent\")\n",
    "h_eff.SetXTitle(\"Track score\")\n",
    "\n",
    "h_eff.Draw()\n",
    "legend.Draw()\n",
    "h_pur.Draw('same')\n",
    "h_effpur.Draw('same')\n",
    "h_eff.Draw('same')\n",
    "c1.SetLogy(0)\n",
    "c1.Draw()\n",
    "c1.SaveAs(outputdir_png+ value +\".png\");\n",
    "c1.SaveAs(outputdir_root+ value+ \".root\");\n",
    "\n",
    "print 'Variation of cut on: '+value\n",
    "print 'Maximum value: ', h_effpur.GetMaximum()\n",
    "print 'Bin: ', h_effpur.GetMaximumBin(),' -> Value: ', xstart+(h_effpur.GetMaximumBin()-1)*step"
   ]
  },
  {
   "cell_type": "code",
   "execution_count": null,
   "metadata": {},
   "outputs": [],
   "source": [
    "value = 'TrackLength'\n",
    "xbins = 30\n",
    "xstart = 10\n",
    "xend = 40\n",
    "step = (xend-xstart)/xbins\n",
    "title = 'Track length [cm]'\n",
    "\n",
    "h_eff =  ROOT.TH1F(\"h_eff\",title,xbins,xstart,xend)\n",
    "h_pur = ROOT.TH1F(\"h_pur\",title,xbins,xstart,xend)\n",
    "h_effpur = ROOT.TH1F(\"h_effpur\",title,xbins,xstart,xend)\n",
    "for i in range(xbins): \n",
    "    cut = 'muon && fidVol && crt_tom_cut && TrackScore>0.8 && ('+value+'>('+str(xstart)+'+'+str(step)+'*'+str(i)+'))'\n",
    "    #print cut\n",
    "    pur = overlay_out.GetEntries(cut+' && numu_signal')*scale[overlay]*100.0/(NuCC.getTotNum_out(cut)+0.00001)\n",
    "    eff = overlay_out.GetEntries(cut+' && numu_signal')*100.0/overlay_out.GetEntries(\"numu_true\")\n",
    "    h_eff.SetBinContent(i+1,eff)\n",
    "    h_pur.SetBinContent(i+1,pur)\n",
    "    h_effpur.SetBinContent(i+1,eff*pur/100.0)\n",
    "    #print eff ,pur, eff*pur,i\n",
    "\n",
    "legend = ROOT.TLegend(0.15,0.75,0.48,0.9);\n",
    "legend.AddEntry(h_eff,\"efficiency\",\"f\");\n",
    "legend.AddEntry(h_pur,\"purity\",\"f\");\n",
    "legend.AddEntry(h_effpur,\"eff * pur\",\"f\");\n",
    "\n",
    "h_eff.SetLineColor(1)\n",
    "h_eff.SetLineWidth(4)\n",
    "h_eff.SetMaximum(100)\n",
    "h_eff.SetMinimum(0)\n",
    "h_pur.SetLineColor(2)\n",
    "h_pur.SetLineWidth(4)\n",
    "h_effpur.SetLineColor(3)\n",
    "h_effpur.SetLineWidth(4)\n",
    "\n",
    "h_eff.GetYaxis().SetTitleSize(0.05)\n",
    "h_eff.GetYaxis().SetTitleOffset(0.0)\n",
    "h_eff.GetYaxis().SetLabelSize(0.05)\n",
    "\n",
    "h_eff.GetXaxis().SetTitleSize(0.05)\n",
    "h_eff.GetXaxis().SetLabelSize(0.05)\n",
    "h_eff.GetXaxis().SetTitleOffset(1)\n",
    "\n",
    "h_eff.SetYTitle(\"Percent\")\n",
    "h_eff.SetXTitle(\"Track length [cm]\")\n",
    "\n",
    "h_eff.Draw()\n",
    "legend.Draw()\n",
    "h_pur.Draw('same')\n",
    "h_effpur.Draw('same')\n",
    "h_eff.Draw('same')\n",
    "c1.SetLogy(0)\n",
    "c1.Draw()\n",
    "c1.SaveAs(outputdir_png+ value +\".png\");\n",
    "c1.SaveAs(outputdir_root+ value+ \".root\");\n",
    "\n",
    "print 'Variation of cut on: '+value\n",
    "print 'Maximum value: ', h_effpur.GetMaximum()\n",
    "print 'Bin: ', h_effpur.GetMaximumBin(),' -> Value: ', xstart+(h_effpur.GetMaximumBin()-1)*step"
   ]
  },
  {
   "cell_type": "code",
   "execution_count": null,
   "metadata": {},
   "outputs": [],
   "source": [
    "value = 'TrackPID_chiproton'\n",
    "xbins = 50\n",
    "xstart = 50\n",
    "xend = 100\n",
    "step = (xend-xstart)/xbins\n",
    "title = 'Track PID chi square'\n",
    "\n",
    "h_eff =  ROOT.TH1F(\"h_eff\",title,xbins,xstart,xend)\n",
    "h_pur = ROOT.TH1F(\"h_pur\",title,xbins,xstart,xend)\n",
    "h_effpur = ROOT.TH1F(\"h_effpur\",title,xbins,xstart,xend)\n",
    "for i in range(xbins): \n",
    "    cut = 'muon && fidVol && crt_tom_cut && TrackScore>0.8 && \\\n",
    "        TrackLength>20 && ('+value+'>('+str(xstart)+'+'+str(step)+'*'+str(i)+'))'\n",
    "    #print cut\n",
    "    pur = overlay_out.GetEntries(cut+' && numu_signal')*scale[overlay]*100.0/(NuCC.getTotNum_out(cut)+0.00001)\n",
    "    eff = overlay_out.GetEntries(cut+' && numu_signal')*100.0/overlay_out.GetEntries(\"numu_true\")\n",
    "    h_eff.SetBinContent(i+1,eff)\n",
    "    h_pur.SetBinContent(i+1,pur)\n",
    "    h_effpur.SetBinContent(i+1,eff*pur/100.0)\n",
    "    #print eff ,pur, eff*pur,i\n",
    "\n",
    "legend = ROOT.TLegend(0.15,0.75,0.48,0.9);\n",
    "legend.AddEntry(h_eff,\"efficiency\",\"f\");\n",
    "legend.AddEntry(h_pur,\"purity\",\"f\");\n",
    "legend.AddEntry(h_effpur,\"eff * pur\",\"f\");\n",
    "\n",
    "h_eff.SetLineColor(1)\n",
    "h_eff.SetLineWidth(4)\n",
    "h_eff.SetMaximum(100)\n",
    "h_eff.SetMinimum(0)\n",
    "h_pur.SetLineColor(2)\n",
    "h_pur.SetLineWidth(4)\n",
    "h_effpur.SetLineColor(3)\n",
    "h_effpur.SetLineWidth(4)\n",
    "\n",
    "h_eff.GetYaxis().SetTitleSize(0.05)\n",
    "h_eff.GetYaxis().SetTitleOffset(0.0)\n",
    "h_eff.GetYaxis().SetLabelSize(0.05)\n",
    "\n",
    "h_eff.GetXaxis().SetTitleSize(0.05)\n",
    "h_eff.GetXaxis().SetLabelSize(0.05)\n",
    "h_eff.GetXaxis().SetTitleOffset(1)\n",
    "\n",
    "h_eff.SetYTitle(\"Percent\")\n",
    "h_eff.SetXTitle(\"PID chi2 proton\")\n",
    "\n",
    "h_eff.Draw()\n",
    "legend.Draw()\n",
    "h_pur.Draw('same')\n",
    "h_effpur.Draw('same')\n",
    "h_eff.Draw('same')\n",
    "c1.SetLogy(0)\n",
    "c1.Draw()\n",
    "c1.SaveAs(outputdir_png+ value +\".png\");\n",
    "c1.SaveAs(outputdir_root+ value+ \".root\");\n",
    "\n",
    "print 'Variation of cut on: '+value\n",
    "print 'Maximum value: ', h_effpur.GetMaximum()\n",
    "print 'Bin: ', h_effpur.GetMaximumBin(),' -> Value: ', xstart+(h_effpur.GetMaximumBin()-1)*step"
   ]
  },
  {
   "cell_type": "code",
   "execution_count": null,
   "metadata": {},
   "outputs": [],
   "source": [
    "value = 'NuScore'\n",
    "xbins = 50\n",
    "xstart = 0\n",
    "xend = 0.5\n",
    "step = (xend-xstart)/xbins\n",
    "title = 'Track length [cm]'\n",
    "\n",
    "h_eff =  ROOT.TH1F(\"h_eff\",title,xbins,xstart,xend)\n",
    "h_pur = ROOT.TH1F(\"h_pur\",title,xbins,xstart,xend)\n",
    "h_effpur = ROOT.TH1F(\"h_effpur\",title,xbins,xstart,xend)\n",
    "for i in range(xbins): \n",
    "    cut = 'muon && fidVol && crt_tom_cut &&TrackLength>20 && TrackScore>0.8\\\n",
    "        && TrackPID_chiproton>78 && ('+value+'>('+str(xstart)+'+'+str(step)+'*'+str(i)+'))'\n",
    "    #print cut\n",
    "    pur = overlay_out.GetEntries(cut+' && numu_signal')*scale[overlay]*100.0/(NuCC.getTotNum_out(cut)+0.00001)\n",
    "    eff = overlay_out.GetEntries(cut+' && numu_signal')*100.0/overlay_out.GetEntries(\"numu_true\")\n",
    "    h_eff.SetBinContent(i+1,eff)\n",
    "    h_pur.SetBinContent(i+1,pur)\n",
    "    h_effpur.SetBinContent(i+1,eff*pur/100.0)\n",
    "    #print eff ,pur, eff*pur,i\n",
    "\n",
    "legend = ROOT.TLegend(0.15,0.75,0.48,0.9);\n",
    "legend.AddEntry(h_eff,\"efficiency\",\"f\");\n",
    "legend.AddEntry(h_pur,\"purity\",\"f\");\n",
    "legend.AddEntry(h_effpur,\"eff * pur\",\"f\");\n",
    "\n",
    "h_eff.SetLineColor(1)\n",
    "h_eff.SetMaximum(100)\n",
    "h_eff.SetMinimum(0)\n",
    "h_pur.SetLineColor(2)\n",
    "h_effpur.SetLineColor(3)\n",
    "h_pur.SetLineWidth(3)\n",
    "h_eff.SetLineWidth(3)\n",
    "h_effpur.SetLineWidth(3)\n",
    "h_eff.Draw()\n",
    "legend.Draw()\n",
    "h_pur.Draw('same')\n",
    "h_effpur.Draw('same')\n",
    "h_eff.Draw('same')\n",
    "c1.SetLogy(0)\n",
    "c1.Draw()\n",
    "c1.SaveAs(outputdir_png+ value +\".png\");\n",
    "c1.SaveAs(outputdir_root+ value+ \".root\");\n",
    "\n",
    "print 'Variation of cut on: '+value\n",
    "print 'Maximum value: ', h_effpur.GetMaximum()\n",
    "print 'Bin: ', h_effpur.GetMaximumBin(),' -> Value: ', xstart+(h_effpur.GetMaximumBin()-1)*step"
   ]
  },
  {
   "cell_type": "code",
   "execution_count": null,
   "metadata": {},
   "outputs": [],
   "source": []
  },
  {
   "cell_type": "code",
   "execution_count": null,
   "metadata": {},
   "outputs": [],
   "source": []
  },
  {
   "cell_type": "code",
   "execution_count": null,
   "metadata": {},
   "outputs": [],
   "source": []
  }
 ],
 "metadata": {
  "kernelspec": {
   "display_name": "Python 3",
   "language": "python",
   "name": "python3"
  },
  "language_info": {
   "codemirror_mode": {
    "name": "ipython",
    "version": 2
   },
   "file_extension": ".py",
   "mimetype": "text/x-python",
   "name": "python",
   "nbconvert_exporter": "python",
   "pygments_lexer": "ipython2",
   "version": "2.7.12"
  }
 },
 "nbformat": 4,
 "nbformat_minor": 2
}
