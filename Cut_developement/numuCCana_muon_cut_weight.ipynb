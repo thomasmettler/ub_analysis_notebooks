{
 "cells": [
  {
   "cell_type": "code",
   "execution_count": 46,
   "metadata": {},
   "outputs": [
    {
     "name": "stderr",
     "output_type": "stream",
     "text": [
      "Warning in <TCanvas::Constructor>: Deleting canvas with same name: c1\n",
      "Warning in <TCanvas::Constructor>: Deleting canvas with same name: c1\n",
      "Warning in <TCanvas::Constructor>: Deleting canvas with same name: c1\n"
     ]
    }
   ],
   "source": [
    "from __future__ import division\n",
    "import imp\n",
    "import uproot\n",
    "import matplotlib\n",
    "#matplotlib.use('agg')\n",
    "import matplotlib.pyplot as plt\n",
    "import matplotlib.image as mpimg\n",
    "import numpy as np\n",
    "import pandas as pd\n",
    "import os\n",
    "import ROOT\n",
    "import time\n",
    "import math\n",
    "helper = imp.load_source('helpfunction','/home/tmettler/Desktop/uBoone/do_plots/helpfunction.py')\n",
    "globale = imp.load_source('globale','/home/tmettler/Desktop/uBoone/do_plots/globale.py')\n",
    "#import /home/tmettler/Desktop/uBoone/do_plots/helpfunction as helper\n",
    "import collections\n",
    "NuCC = imp.load_source('NuCC_function','/home/tmettler/Desktop/uBoone/do_plots/NuCC_function.py')\n",
    "NuCC_w = imp.load_source('NuCCWeight_function','/home/tmettler/Desktop/uBoone/do_plots/NuCCWeight_function.py')"
   ]
  },
  {
   "cell_type": "code",
   "execution_count": 47,
   "metadata": {},
   "outputs": [],
   "source": [
    "#!jupyter nbconvert --to script numuCCana_muon_cut_weight.ipynb"
   ]
  },
  {
   "cell_type": "code",
   "execution_count": 48,
   "metadata": {},
   "outputs": [
    {
     "name": "stderr",
     "output_type": "stream",
     "text": [
      "Warning in <TCanvas::Constructor>: Deleting canvas with same name: c1\n"
     ]
    }
   ],
   "source": [
    "# initialte ROOT default canvas\n",
    "ROOT.gStyle.SetOptStat(0)\n",
    "ROOT.gStyle.SetOptTitle(0)\n",
    "c1 = ROOT.TCanvas(\"c1\",\"c1\",1600,1200)\n",
    "c1.SetGrid(1)\n",
    "c1.SetLeftMargin(0.14)\n",
    "c1.SetRightMargin(0.18)\n",
    "c1.SetBottomMargin(0.14)"
   ]
  },
  {
   "cell_type": "markdown",
   "metadata": {},
   "source": [
    "# CRTinBNB tagger, Overlay or MC"
   ]
  },
  {
   "cell_type": "code",
   "execution_count": 49,
   "metadata": {},
   "outputs": [],
   "source": [
    "# Load input files\n",
    "#inputdir = '/home/thomasm/numuCC/V33/10kevents/'\n",
    "inputdir = '/home/tmettler/Desktop/v08_00_00_33/V08_00_00_35/weighted/'\n",
    "outputdir = inputdir+'marco_weighted/' \n",
    "outputdir_png, outputdir_root = NuCC.prepareOutput(outputdir)\n",
    "\n",
    "#filename_overlay = 'NuCCana_Overlay_V18_V4.root'\n",
    "filename_overlay = 'NuCCana_overlay_V26_weight.root'\n",
    "#filename_overlay = 'NuCCana_overlay_v25_weighted_all.root'\n",
    "filename_data = 'NuCCana_data_V22.root'\n",
    "filename_ext = 'NuCCana_ext_V25.root'\n",
    "filename_dirt = 'NuCCana_dirt_V26_weight.root'\n",
    "    \n",
    "tree_name = 'numuCCAna'"
   ]
  },
  {
   "cell_type": "code",
   "execution_count": 50,
   "metadata": {},
   "outputs": [
    {
     "name": "stdout",
     "output_type": "stream",
     "text": [
      "Overlay: Number of Entries:\t989745\n",
      "Data: Number of Entries:\t33178\n",
      "Ext: Number of Entries:\t\t222702\n",
      "Dirt: Number of Entries:\t40808\n",
      "\n",
      "POT: \n",
      "Data:\t\t8.649e+18\n",
      "Ext:\t\t0\n",
      "Overlay:\t1.24025430537e+21\n",
      "Dirt:\t\t1.25019694173e+20\n",
      "\n",
      "Scalefactors: \n",
      "Data:\t\t1.0\n",
      "Ext:\t\t0.0976176954382\n",
      "Overlay:\t0.00697356982562\n",
      "Dirt:\t\t0.0691811002835\n"
     ]
    }
   ],
   "source": [
    "#Open all the trees of the four files (data, ext, dirt, overlay)\n",
    "\n",
    "data, ext, dirt, overlay = NuCC.openTrees(inputdir, filename_data, filename_ext, filename_dirt, filename_overlay, tree_name)\n",
    "NuCC.printNumberOfEntries(data,ext,dirt,overlay)\n",
    "\n",
    "pot_overlay = NuCC.getPOT(inputdir,filename_overlay,tree_name)\n",
    "pot_dirt =  NuCC.getPOT(inputdir,filename_dirt,tree_name)\n",
    "#V25 files\n",
    "pot_data =     8.649e+18  # best with tor875\n",
    "data_trigger = 1854495.0 #4743794 # 1987072.0 # E1DCNT_wcut\n",
    "ext_trigger =  18997529.0  #2120135 #5685315 # EXT\n",
    "\n",
    "print 'POT: '\n",
    "print 'Data:\\t\\t', pot_data\n",
    "print 'Ext:\\t\\t', 0\n",
    "print 'Overlay:\\t', pot_overlay\n",
    "print 'Dirt:\\t\\t', pot_dirt\n",
    "print ''\n",
    "sample = [data,ext,overlay,dirt]\n",
    "scale = {data:1.0,ext:1.0,overlay:1.0,dirt:1.0}\n",
    "name = {data:'data',ext:'ext',overlay:'overlay',dirt:'dirt'}\n",
    "\n",
    "scale[data], scale[ext], scale[dirt], scale[overlay] = NuCC.calculateScale(data_trigger, ext_trigger, pot_data, pot_dirt, pot_overlay)\n",
    "\n",
    "scale[dirt] = scale[dirt]\n",
    "scale[overlay] = scale[overlay]\n",
    "print 'Scalefactors: '\n",
    "print 'Data:\\t\\t', scale[data]\n",
    "print 'Ext:\\t\\t', scale[ext]\n",
    "print 'Overlay:\\t', scale[overlay]\n",
    "print 'Dirt:\\t\\t', scale[dirt]\n"
   ]
  },
  {
   "cell_type": "code",
   "execution_count": 51,
   "metadata": {},
   "outputs": [
    {
     "name": "stdout",
     "output_type": "stream",
     "text": [
      "Overlay: Number of Entries:\t989714\n",
      "Data: Number of Entries:\t33177\n",
      "Ext: Number of Entries:\t\t222701\n",
      "Dirt: Number of Entries:\t40807\n",
      "\n"
     ]
    }
   ],
   "source": [
    "if 1:\n",
    "    filename_overlay = filename_overlay+'out33.root'\n",
    "    #filename_overlay = 'NuCCana_overlay_points_1kev.rootout2.root'\n",
    "    filename_data = filename_data+'out33.root'\n",
    "    filename_ext = filename_ext+'out33.root'\n",
    "    filename_dirt = filename_dirt+'out33.root'\n",
    "\n",
    "    tree_name = 't_out'\n",
    "\n",
    "    data_out, ext_out, dirt_out, overlay_out = NuCC.openTreesOut(inputdir, filename_data, filename_ext, filename_dirt, filename_overlay, tree_name)\n",
    "    NuCC.printNumberOfEntries(data_out,ext_out,dirt_out,overlay_out)\n",
    "\n",
    "    sample_out = [data_out,ext_out,overlay_out,dirt_out]\n",
    "    scale_out = {data_out:1.0,ext_out:1.0,overlay_out:1.0,dirt_out:1.0}\n",
    "    name_out = {data_out:'data',ext_out:'ext',overlay_out:'overlay',dirt_out:'dirt'}\n",
    "\n",
    "    scale_out[data_out], scale_out[ext_out], scale_out[dirt_out], scale_out[overlay_out] = NuCC.calculateScale(data_trigger, ext_trigger, pot_data, pot_dirt, pot_overlay)\n",
    "    scale_out[dirt_out] = scale_out[dirt_out]\n",
    "    scale_out[overlay_out] = scale_out[overlay_out]"
   ]
  },
  {
   "cell_type": "code",
   "execution_count": 52,
   "metadata": {},
   "outputs": [],
   "source": [
    "# Define signals\n",
    "\n",
    "fidVol = '(Nu_Vx_sce>(-1.55+10) && Nu_Vx_sce<(254.8-10)) && (Nu_Vy_sce>(-115.53+10) && Nu_Vy_sce<(117.47-10)) &&(Nu_Vz_sce>(-0.1+10) && Nu_Vz_sce<(1036.9-50))'\n",
    "MCfidVol = '(MCNu_Vx>(-1.55+10) && MCNu_Vx<(254.8-10)) && (MCNu_Vy>(-115.53+10) && MCNu_Vy<(117.47-10)) &&(MCNu_Vz>(-0.1+10) && MCNu_Vz<(1036.9-50))'\n",
    "numu_signal = 'fidVol && MCfidVol && MCNu_CCNC==0 && MCNu_PDG==14 && MCTrackPDG==13 && MCTrackPurity>0.5' # numu CC signal definition\n",
    "numu_true = 'MCfidVol && MCNu_CCNC==0 && MCNu_PDG==14' # numu CC signal definition\n",
    "numu_nomu = 'fidVol && MCfidVol && MCNu_CCNC==0 && MCNu_PDG==14 && MCTrackPDG!=13 && MCTrackPurity>0.5' # not an MC muon\n",
    "numu_lowpur = 'fidVol && MCfidVol && MCNu_CCNC==0 && MCNu_PDG==14 && MCTrackPurity<0.5' #low purity\n",
    "numu_nc = 'fidVol && MCfidVol && MCNu_CCNC==1' # nutral current\n",
    "numu_ov = 'fidVol && !MCfidVol' # out of fiducial\n",
    "numu_other = 'fidVol && MCfidVol && MCNu_CCNC==0 && MCNu_PDG!=14' # e.g anti nu or nue\n",
    "#signal = 'MCfidVol && MCNu_CCNC==0 && MCNu_PDG==14'\n",
    "for x in sample:\n",
    "    x.SetAlias('muon','(muon_candidate_key==track_key)')\n",
    "    \n",
    "num_fidVol = {}\n",
    "for x in sample:\n",
    "    x.SetAlias('fidVol',fidVol)\n",
    "    x.SetAlias('MCfidVol',MCfidVol)\n",
    "    x.SetAlias('numu_signal',numu_signal)\n",
    "    x.SetAlias('numu_true',numu_true)\n",
    "    x.SetAlias('numu_nomu',numu_nomu)\n",
    "    x.SetAlias('numu_lowpur',numu_lowpur)\n",
    "    x.SetAlias('numu_nc',numu_nc)\n",
    "    x.SetAlias('numu_ov',numu_ov)\n",
    "    x.SetAlias('numu_other',numu_other)\n",
    "    num_fidVol[x] = x.GetEntries('fidVol && muon')*scale[x]\n",
    "    \n",
    "tot_num_fidVol = num_fidVol[ext]+num_fidVol[dirt]+num_fidVol[overlay]\n",
    "overlay_signals = ['numu_signal','numu_nomu','numu_lowpur','numu_nc','numu_ov','numu_other']"
   ]
  },
  {
   "cell_type": "code",
   "execution_count": 53,
   "metadata": {},
   "outputs": [],
   "source": [
    "for x in sample_out:\n",
    "    x.SetAlias('muon','(track_key == key_muon)')\n",
    "\n",
    "#num_fidVol = {}\n",
    "for x in sample_out:\n",
    "    x.SetAlias('fidVol',fidVol)\n",
    "    x.SetAlias('MCfidVol',MCfidVol)\n",
    "    x.SetAlias('numu_signal',numu_signal)\n",
    "    x.SetAlias('numu_true',numu_true)\n",
    "    x.SetAlias('numu_nomu',numu_nomu)\n",
    "    x.SetAlias('numu_lowpur',numu_lowpur)\n",
    "    x.SetAlias('numu_nc',numu_nc)\n",
    "    x.SetAlias('numu_ov',numu_ov)\n",
    "    x.SetAlias('numu_other',numu_other)"
   ]
  },
  {
   "cell_type": "code",
   "execution_count": 54,
   "metadata": {},
   "outputs": [],
   "source": [
    "# Define signals as Marcos MCC8 analysis\n",
    "\n",
    "'''fidVol = '(Nu_Vx_sce>(-1.55+10) && Nu_Vx_sce<(254.8-10)) && (Nu_Vy_sce>(-115.53+10) && Nu_Vy_sce<(117.47-10)) &&(Nu_Vz_sce>(-0.1+10) && Nu_Vz_sce<(1036.9-50))'\n",
    "MCfidVol = '(MCNu_Vx>(-1.55+10) && MCNu_Vx<(254.8-10)) && (MCNu_Vy>(-115.53+10) && MCNu_Vy<(117.47-10)) &&(MCNu_Vz>(-0.1+10) && MCNu_Vz<(1036.9-50))'\n",
    "numu_signal = 'fidVol && MCfidVol && MCNu_CCNC==0 && MCNu_PDG==14 && MCTrackPDG==13 && MCTrackPurity>0.5' # numu CC signal definition\n",
    "numu_true = 'MCfidVol && MCNu_CCNC==0 && MCNu_PDG==14' # numu CC signal definition\n",
    "numu_nomu = 'fidVol && MCfidVol && MCNu_CCNC==0 && MCNu_PDG==14 && MCTrackPDG!=13 && MCTrackPurity>0.5' # not an MC muon\n",
    "numu_lowpur = 'fidVol && MCfidVol && MCNu_CCNC==0 && MCNu_PDG==14 && MCTrackPurity<0.5' #low purity\n",
    "numu_nc = 'fidVol && MCfidVol && MCNu_CCNC==1' # nutral current\n",
    "numu_ov = 'fidVol && !MCfidVol' # out of fiducial\n",
    "numu_other = 'fidVol && MCfidVol && MCNu_CCNC==0 && MCNu_PDG!=14' # e.g anti nu or nue'''\n",
    "\n",
    "numu_signal_cont = 'fidVol && MCfidVol && MCNu_CCNC==0 && MCNu_PDG==14 && MCTrackPDG==13 && MCTrackPurity>0.5 && !track_end_uncontained' # numu CC signal definition\n",
    "numu_signal_uncont = 'fidVol && MCfidVol && MCNu_CCNC==0 && MCNu_PDG==14 && MCTrackPDG==13 && MCTrackPurity>0.5 && track_end_uncontained' # numu CC signal definition\n",
    "\n",
    "numu_nc_other = 'fidVol && MCfidVol && MCNu_CCNC==1 && MCTrackPDG!=211 && MCTrackPDG!=2212' # nutral current\n",
    "numu_nc_pion = 'fidVol && MCfidVol && MCNu_CCNC==1 && MCTrackPDG==211' # nutral current\n",
    "numu_nc_proton = 'fidVol && MCfidVol && MCNu_CCNC==1 && MCTrackPDG==2212' # nutral current\n",
    "\n",
    "numu_cosmic_cont = 'fidVol && MCfidVol && MCNu_CCNC==0 && MCNu_PDG==14 && MCTrackPurity<0.5 && !track_end_uncontained' #low purity\n",
    "numu_cosmic_uncont = 'fidVol && MCfidVol && MCNu_CCNC==0 && MCNu_PDG==14 && MCTrackPurity<0.5 && track_end_uncontained' #low purity\n",
    "\n",
    "numu_ov_cont = 'fidVol && !MCfidVol && !track_end_uncontained' # out of fiducial\n",
    "numu_ov_uncont = 'fidVol && !MCfidVol && track_end_uncontained' # out of fiducial\n",
    "\n",
    "numu_nue = 'fidVol && MCfidVol && MCNu_CCNC==0 && abs(MCNu_PDG)!=14' # e.g anti nu or nue\n",
    "numu_antinu = 'fidVol && MCfidVol && MCNu_CCNC==0 && MCNu_PDG==-14' # e.g anti nu or nue\n",
    "\n",
    "#signal = 'MCfidVol && MCNu_CCNC==0 && MCNu_PDG==14'\n",
    "'''for x in sample:\n",
    "    x.SetAlias('muon','(muon_candidate_key==track_key)')\n",
    "    \n",
    "num_fidVol = {}\n",
    "for x in sample:\n",
    "    x.SetAlias('fidVol',fidVol)\n",
    "    x.SetAlias('MCfidVol',MCfidVol)\n",
    "    x.SetAlias('numu_signal',numu_signal)\n",
    "    x.SetAlias('numu_true',numu_true)\n",
    "    x.SetAlias('numu_nomu',numu_nomu)\n",
    "    x.SetAlias('numu_lowpur',numu_lowpur)\n",
    "    x.SetAlias('numu_nc',numu_nc)\n",
    "    x.SetAlias('numu_ov',numu_ov)\n",
    "    x.SetAlias('numu_other',numu_other)\n",
    "    num_fidVol[x] = x.GetEntries('fidVol && muon')*scale[x]'''\n",
    "    \n",
    "#tot_num_fidVol = num_fidVol[ext]+num_fidVol[dirt]+num_fidVol[overlay]\n",
    "#overlay_signals = ['numu_signal_cont','numu_signal_uncont','numu_nue','numu_antinu','numu_nc_other','numu_nc_pion',\\\n",
    "#                   'numu_nc_proton', 'numu_ov_cont', 'numu_ov_uncont', 'numu_cosmic_cont', 'numu_cosmic_uncont']\n",
    "\n",
    "overlay_signals = ['numu_cosmic_uncont','numu_cosmic_cont','numu_ov_uncont','numu_ov_cont','numu_nc_proton','numu_nc_pion',\\\n",
    "                   'numu_nc_other', 'numu_antinu', 'numu_nue', 'numu_signal_uncont', 'numu_signal_cont']\n",
    "\n",
    "#overlay_signals = overlay_signals.reverse()\n",
    "'''for x in sample_out:\n",
    "    x.SetAlias('muon','(track_key == key_muon)')'''\n",
    "\n",
    "for x in sample_out:\n",
    "    x.SetAlias('numu_signal_cont',numu_signal_cont)\n",
    "    x.SetAlias('numu_signal_uncont',numu_signal_uncont)\n",
    "    x.SetAlias('numu_nc_other',numu_nc_other)\n",
    "    x.SetAlias('numu_nc_pion',numu_nc_pion)\n",
    "    x.SetAlias('numu_nc_proton',numu_nc_proton)\n",
    "    x.SetAlias('numu_cosmic_cont',numu_cosmic_cont)\n",
    "    x.SetAlias('numu_cosmic_uncont',numu_cosmic_uncont)\n",
    "    x.SetAlias('numu_ov_cont',numu_ov_cont)\n",
    "    x.SetAlias('numu_ov_uncont',numu_ov_uncont)\n",
    "    x.SetAlias('numu_nue',numu_nue)\n",
    "    x.SetAlias('numu_antinu',numu_antinu)"
   ]
  },
  {
   "cell_type": "code",
   "execution_count": null,
   "metadata": {},
   "outputs": [],
   "source": []
  },
  {
   "cell_type": "code",
   "execution_count": 55,
   "metadata": {},
   "outputs": [
    {
     "name": "stderr",
     "output_type": "stream",
     "text": [
      "Warning in <TCanvas::Constructor>: Deleting canvas with same name: c1\n"
     ]
    }
   ],
   "source": [
    "# Load the global variables for access of functions\n",
    "NuCC.loadGlobal(data,ext,dirt,overlay,data_out,ext_out,dirt_out,overlay_out,scale,scale_out,tot_num_fidVol,overlay_signals,sample,sample_out, name,name_out, outputdir_png, outputdir_root)\n",
    "#NuCC.printGlobal()"
   ]
  },
  {
   "cell_type": "code",
   "execution_count": 56,
   "metadata": {},
   "outputs": [],
   "source": [
    "# initialte ROOT default canvas\n",
    "ROOT.gStyle.SetOptStat(0)\n",
    "c1 = ROOT.TCanvas(\"c1\",\"c1\",1600,1200)\n",
    "c1.SetGrid(1)\n",
    "c1.SetLeftMargin(0.14)\n",
    "c1.SetRightMargin(0.18)\n",
    "c1.SetBottomMargin(0.14)"
   ]
  },
  {
   "cell_type": "code",
   "execution_count": 57,
   "metadata": {},
   "outputs": [
    {
     "data": {
      "text/plain": [
       "True"
      ]
     },
     "execution_count": 57,
     "metadata": {},
     "output_type": "execute_result"
    }
   ],
   "source": [
    "track_start_border_x = '(TrackStart_x_sce <(-1.55+1) || TrackStart_x_sce > (254.8-1))'\n",
    "track_end_border_x = '(TrackEnd_x_sce <(-1.55+1) || TrackEnd_x_sce > (254.8-1))'\n",
    "track_start_border_y = '(TrackStart_y_sce <(-115.53+1) || TrackStart_y_sce > (117.47-1))'\n",
    "track_end_border_y = '(TrackEnd_y_sce <(-115.53+1) || TrackEnd_y_sce > (117.47-1))'\n",
    "track_start_border_z = '(TrackStart_z_sce <(0.1+1) || TrackStart_z_sce > (1036.9-1))'\n",
    "track_end_border_z = '(TrackEnd_z_sce <(0.1+1) || TrackEnd_z_sce > (1039.9-1))'\n",
    "\n",
    "track_end_uncontained = '(' + track_end_border_x + ' || ' + track_end_border_y + ' || ' + track_end_border_z+ ')'\n",
    "\n",
    "\n",
    "data.SetAlias(\"track_end_uncontained\",track_end_uncontained)\n",
    "ext.SetAlias(\"track_end_uncontained\",track_end_uncontained)\n",
    "overlay.SetAlias(\"track_end_uncontained\",track_end_uncontained)\n",
    "dirt.SetAlias(\"track_end_uncontained\",track_end_uncontained)\n",
    "data_out.SetAlias(\"track_end_uncontained\",track_end_uncontained)\n",
    "ext_out.SetAlias(\"track_end_uncontained\",track_end_uncontained)\n",
    "overlay_out.SetAlias(\"track_end_uncontained\",track_end_uncontained)\n",
    "dirt_out.SetAlias(\"track_end_uncontained\",track_end_uncontained)\n",
    "\n",
    "data.SetAlias(\"crt_cut\",\"(abs(crtt0_time-(69000-crt_trig_corr_med)/1000-4)<0.8 || crtt0_time==-1)\")\n",
    "ext.SetAlias(\"crt_cut\",\"(abs(crtt0_time-(69000-crt_trig_corr_med)/1000-3.57+3.195-4)<0.8 || crtt0_time==-1)\")\n",
    "overlay.SetAlias(\"crt_cut\",\"(abs(crtt0_time-4)<0.8 || crtt0_time==-1)\")\n",
    "dirt.SetAlias(\"crt_cut\",\"(abs(crtt0_time-4)<0.8 || crtt0_time==-1)\")\n",
    "data_out.SetAlias(\"crt_cut\",\"(abs(crtt0_time-(69000-crt_trig_corr_med)/1000-4)<0.8 || crtt0_time==-1)\")\n",
    "ext_out.SetAlias(\"crt_cut\",\"(abs(crtt0_time-(69000-crt_trig_corr_med)/1000-3.57+3.195-4)<0.8 || crtt0_time==-1)\")\n",
    "overlay_out.SetAlias(\"crt_cut\",\"(abs(crtt0_time-4)<0.8 || crtt0_time==-1)\")\n",
    "dirt_out.SetAlias(\"crt_cut\",\"(abs(crtt0_time-4)<0.8 || crtt0_time==-1)\")\n",
    "\n",
    "crt_tom_cut = 'nr_crthit_top==0 && crthit_vertex_zcut==0 && (track_end_uncontained==1 || nr_crthit_beam_tres==0) && crt_cut'\n",
    "\n",
    "data.SetAlias(\"crt_tom_cut\",crt_tom_cut)\n",
    "ext.SetAlias(\"crt_tom_cut\",crt_tom_cut)\n",
    "overlay.SetAlias(\"crt_tom_cut\",crt_tom_cut)\n",
    "dirt.SetAlias(\"crt_tom_cut\",crt_tom_cut)\n",
    "data_out.SetAlias(\"crt_tom_cut\",crt_tom_cut)\n",
    "ext_out.SetAlias(\"crt_tom_cut\",crt_tom_cut)\n",
    "overlay_out.SetAlias(\"crt_tom_cut\",crt_tom_cut)\n",
    "dirt_out.SetAlias(\"crt_tom_cut\",crt_tom_cut)\n"
   ]
  },
  {
   "cell_type": "code",
   "execution_count": null,
   "metadata": {},
   "outputs": [],
   "source": []
  },
  {
   "cell_type": "code",
   "execution_count": null,
   "metadata": {},
   "outputs": [],
   "source": []
  },
  {
   "cell_type": "code",
   "execution_count": null,
   "metadata": {},
   "outputs": [],
   "source": []
  },
  {
   "cell_type": "code",
   "execution_count": null,
   "metadata": {},
   "outputs": [],
   "source": []
  },
  {
   "cell_type": "code",
   "execution_count": 44,
   "metadata": {},
   "outputs": [
    {
     "name": "stdout",
     "output_type": "stream",
     "text": [
      "Normalization (data)/(mc +ext) =  1.05822989864\n",
      "3.21388983727\n",
      "Normalization (data)/(mc +ext) =  1.05822976508\n",
      "6.44406485558\n",
      "Normalization (data)/(mc +ext) =  1.05822976131\n",
      "9.72826004028\n"
     ]
    },
    {
     "name": "stderr",
     "output_type": "stream",
     "text": [
      "Warning in <TH1F::Sumw2>: Sum of squares of weights structure already created\n",
      "Warning in <TCanvas::Constructor>: Deleting canvas with same name: c1\n",
      "Info in <TCanvas::Print>: png file /home/tmettler/Desktop/v08_00_00_33/V08_00_00_35/weighted/marco_weighted//png/NuVx_sce_initial_V.png has been created\n",
      "Info in <TCanvas::Print>: pdf file /home/tmettler/Desktop/v08_00_00_33/V08_00_00_35/weighted/marco_weighted//png/NuVx_sce_initial_V.pdf has been created\n",
      "Info in <TCanvas::SaveAs>: ROOT file /home/tmettler/Desktop/v08_00_00_33/V08_00_00_35/weighted/marco_weighted//root/NuVx_sce_initial_V.root has been created\n",
      "Warning in <TH1F::Sumw2>: Sum of squares of weights structure already created\n",
      "Warning in <TCanvas::Constructor>: Deleting canvas with same name: c1\n",
      "Info in <TCanvas::Print>: png file /home/tmettler/Desktop/v08_00_00_33/V08_00_00_35/weighted/marco_weighted//png/NuVy_sce_initial_V.png has been created\n",
      "Info in <TCanvas::Print>: pdf file /home/tmettler/Desktop/v08_00_00_33/V08_00_00_35/weighted/marco_weighted//png/NuVy_sce_initial_V.pdf has been created\n",
      "Info in <TCanvas::SaveAs>: ROOT file /home/tmettler/Desktop/v08_00_00_33/V08_00_00_35/weighted/marco_weighted//root/NuVy_sce_initial_V.root has been created\n",
      "Warning in <TH1F::Sumw2>: Sum of squares of weights structure already created\n",
      "Warning in <TCanvas::Constructor>: Deleting canvas with same name: c1\n",
      "Info in <TCanvas::Print>: png file /home/tmettler/Desktop/v08_00_00_33/V08_00_00_35/weighted/marco_weighted//png/NuVz_sce_initial_V.png has been created\n",
      "Info in <TCanvas::Print>: pdf file /home/tmettler/Desktop/v08_00_00_33/V08_00_00_35/weighted/marco_weighted//png/NuVz_sce_initial_V.pdf has been created\n",
      "Info in <TCanvas::SaveAs>: ROOT file /home/tmettler/Desktop/v08_00_00_33/V08_00_00_35/weighted/marco_weighted//root/NuVz_sce_initial_V.root has been created\n"
     ]
    },
    {
     "data": {
      "image/png": "[encoded data removed]",
      "text/plain": [
       "<IPython.core.display.Image object>"
      ]
     },
     "metadata": {},
     "output_type": "display_data"
    }
   ],
   "source": [
    "cut = 'fidVol && muon'\n",
    "name = '_initial_V'\n",
    "side_right = 'right'\n",
    "side_left = 'left'\n",
    "start = time.time()\n",
    "NuCC_w.make_stacked_histo_weight_MCC8_V(cut,'Nu_Vx_sce','EventWeight','Reco. Nu vertex X position [cm]',-10,270,20,'NuVx_sce'+name,side_left)\n",
    "end = time.time()\n",
    "print(end - start)\n",
    "NuCC_w.make_stacked_histo_weight_MCC8_V(cut,'Nu_Vy_sce','EventWeight','Reco. Nu vertex Y position [cm]',-120,120,20,'NuVy_sce'+name,side_left)\n",
    "end = time.time()\n",
    "print(end - start)\n",
    "NuCC_w.make_stacked_histo_weight_MCC8_V(cut,'Nu_Vz_sce','EventWeight','Reco. Nu vertex Z position [cm]',-50,1050,20,'NuVz_sce'+name,side_left)\n",
    "end = time.time()\n",
    "print(end - start)"
   ]
  },
  {
   "cell_type": "code",
   "execution_count": 45,
   "metadata": {},
   "outputs": [
    {
     "name": "stdout",
     "output_type": "stream",
     "text": [
      "Normalization (data)/(mc +ext) =  0.977012724919\n",
      "9.3889131546\n",
      "Normalization (data)/(mc +ext) =  0.977012610301\n",
      "19.1135389805\n",
      "Normalization (data)/(mc +ext) =  0.977012762141\n",
      "28.9097471237\n"
     ]
    },
    {
     "name": "stderr",
     "output_type": "stream",
     "text": [
      "Warning in <TH1F::Sumw2>: Sum of squares of weights structure already created\n",
      "Warning in <TCanvas::Constructor>: Deleting canvas with same name: c1\n",
      "Info in <TCanvas::Print>: png file /home/tmettler/Desktop/v08_00_00_33/V08_00_00_35/weighted/marco_weighted//png/NuVx_sce_muon_cut_V.png has been created\n",
      "Info in <TCanvas::Print>: pdf file /home/tmettler/Desktop/v08_00_00_33/V08_00_00_35/weighted/marco_weighted//png/NuVx_sce_muon_cut_V.pdf has been created\n",
      "Info in <TCanvas::SaveAs>: ROOT file /home/tmettler/Desktop/v08_00_00_33/V08_00_00_35/weighted/marco_weighted//root/NuVx_sce_muon_cut_V.root has been created\n",
      "Warning in <TH1F::Sumw2>: Sum of squares of weights structure already created\n",
      "Warning in <TCanvas::Constructor>: Deleting canvas with same name: c1\n",
      "Info in <TCanvas::Print>: png file /home/tmettler/Desktop/v08_00_00_33/V08_00_00_35/weighted/marco_weighted//png/NuVy_sce_muon_cut_V.png has been created\n",
      "Info in <TCanvas::Print>: pdf file /home/tmettler/Desktop/v08_00_00_33/V08_00_00_35/weighted/marco_weighted//png/NuVy_sce_muon_cut_V.pdf has been created\n",
      "Info in <TCanvas::SaveAs>: ROOT file /home/tmettler/Desktop/v08_00_00_33/V08_00_00_35/weighted/marco_weighted//root/NuVy_sce_muon_cut_V.root has been created\n",
      "Warning in <TH1F::Sumw2>: Sum of squares of weights structure already created\n",
      "Warning in <TCanvas::Constructor>: Deleting canvas with same name: c1\n",
      "Info in <TCanvas::Print>: png file /home/tmettler/Desktop/v08_00_00_33/V08_00_00_35/weighted/marco_weighted//png/NuVz_sce_muon_cut_V.png has been created\n",
      "Info in <TCanvas::Print>: pdf file /home/tmettler/Desktop/v08_00_00_33/V08_00_00_35/weighted/marco_weighted//png/NuVz_sce_muon_cut_V.pdf has been created\n",
      "Info in <TCanvas::SaveAs>: ROOT file /home/tmettler/Desktop/v08_00_00_33/V08_00_00_35/weighted/marco_weighted//root/NuVz_sce_muon_cut_V.root has been created\n"
     ]
    },
    {
     "data": {
      "image/png": "[encoded data removed]",
      "text/plain": [
       "<IPython.core.display.Image object>"
      ]
     },
     "metadata": {},
     "output_type": "display_data"
    }
   ],
   "source": [
    "cut = 'fidVol && muon && TrackLength>8 && crt_tom_cut && TrackScore>0.8\\\n",
    "                && TrackLength>20 && TrackPID_chiproton>78 && NuScore>0.1'\n",
    "name = '_muon_cut_V'\n",
    "side_right = 'right'\n",
    "side_left = 'left'\n",
    "start = time.time()\n",
    "NuCC_w.make_stacked_histo_weight_MCC8_V(cut,'Nu_Vx_sce','EventWeight','Reco. Nu vertex X position [cm]',-10,270,20,'NuVx_sce'+name,side_left)\n",
    "end = time.time()\n",
    "print(end - start)\n",
    "NuCC_w.make_stacked_histo_weight_MCC8_V(cut,'Nu_Vy_sce','EventWeight','Reco. Nu vertex Y position [cm]',-120,120,20,'NuVy_sce'+name,side_left)\n",
    "end = time.time()\n",
    "print(end - start)\n",
    "NuCC_w.make_stacked_histo_weight_MCC8_V(cut,'Nu_Vz_sce','EventWeight','Reco. Nu vertex Z position [cm]',-50,1050,20,'NuVz_sce'+name,side_left)\n",
    "end = time.time()\n",
    "print(end - start)"
   ]
  },
  {
   "cell_type": "code",
   "execution_count": null,
   "metadata": {},
   "outputs": [],
   "source": [
    "cut = 'fidVol && muon'\n",
    "name = '_initial_noLegend'\n",
    "side_right = 'none'\n",
    "side_left = 'none'\n",
    "start = time.time()\n",
    "NuCC_w.make_stacked_histo_weight_MCC8(cut + ' && TrackTheta!=-9','cos(TrackTheta)','EventWeight','cos(theta)',-1,1,20,'costhetaw'+name,side_left)\n",
    "end = time.time()\n",
    "print(end - start)\n",
    "NuCC_w.make_stacked_histo_weight_MCC8(cut + ' && TrackTheta!=-9','TrackPhi','EventWeight','Track Phi',-3.141,3.141,20,'phi'+name,side_left)\n",
    "end = time.time()\n",
    "print(end - start)\n",
    "NuCC_w.make_stacked_histo_weight_MCC8(cut + ' && 1','TrackMomMCS_mom','EventWeight','TrackMomMCS_mom',0,1.5,20,'TrackMomMCS_mom'+name,side_right)\n",
    "end = time.time()\n",
    "print(end - start)\n",
    "NuCC_w.make_stacked_histo_weight_MCC8(cut,'Nu_Vx_sce','EventWeight','Reco. Nu vertex X position [cm]',-10,270,20,'NuVx_sce'+name,side_right)\n",
    "end = time.time()\n",
    "print(end - start)\n",
    "NuCC_w.make_stacked_histo_weight_MCC8(cut,'Nu_Vy_sce','EventWeight','Reco. Nu vertex Y position [cm]',-120,120,20,'NuVy_sce'+name,side_right)\n",
    "end = time.time()\n",
    "print(end - start)\n",
    "NuCC_w.make_stacked_histo_weight_MCC8(cut,'Nu_Vz_sce','EventWeight','Reco. Nu vertex Z position [cm]',-50,1050,20,'NuVz_sce'+name,side_right)\n",
    "end = time.time()\n",
    "print(end - start)"
   ]
  },
  {
   "cell_type": "code",
   "execution_count": null,
   "metadata": {},
   "outputs": [],
   "source": [
    "cut = 'fidVol && muon && TrackLength>8 && crt_tom_cut && TrackScore>0.8\\\n",
    "                && TrackLength>20 && TrackPID_chiproton>78 && NuScore>0.1'\n",
    "name = '_muon_cut_noLegend'\n",
    "start = time.time()\n",
    "NuCC_w.make_stacked_histo_weight_MCC8(cut + ' && TrackTheta!=-9','cos(TrackTheta)','EventWeight','cos(theta)',-1,1,20,'costhetaw'+name,side_left)\n",
    "end = time.time()\n",
    "print(end - start)\n",
    "NuCC_w.make_stacked_histo_weight_MCC8(cut + ' && TrackTheta!=-9','TrackPhi','EventWeight','Track Phi',-3.141,3.141,20,'phi'+name,side_left)\n",
    "end = time.time()\n",
    "print(end - start)\n",
    "NuCC_w.make_stacked_histo_weight_MCC8(cut + ' && 1','TrackMomMCS_mom','EventWeight','TrackMomMCS_mom',0,1.5,20,'TrackMomMCS_mom'+name,side_right)\n",
    "end = time.time()\n",
    "print(end - start)\n",
    "NuCC_w.make_stacked_histo_weight_MCC8(cut,'Nu_Vx_sce','EventWeight','Reco. Nu vertex X position [cm]',-10,270,20,'NuVx_sce'+name,side_right)\n",
    "end = time.time()\n",
    "print(end - start)\n",
    "NuCC_w.make_stacked_histo_weight_MCC8(cut,'Nu_Vy_sce','EventWeight','Reco. Nu vertex Y position [cm]',-120,120,20,'NuVy_sce'+name,side_right)\n",
    "end = time.time()\n",
    "print(end - start)\n",
    "NuCC_w.make_stacked_histo_weight_MCC8(cut,'Nu_Vz_sce','EventWeight','Reco. Nu vertex Z position [cm]',-50,1050,20,'NuVz_sce'+name,side_right)\n",
    "end = time.time()\n",
    "print(end - start)"
   ]
  },
  {
   "cell_type": "code",
   "execution_count": 58,
   "metadata": {},
   "outputs": [
    {
     "name": "stdout",
     "output_type": "stream",
     "text": [
      "Normalization (data)/(mc +ext) =  1.08852743124\n",
      "20.2001259327\n",
      "Normalization (data)/(mc +ext) =  1.08930651037\n",
      "39.8269209862\n",
      "Normalization (data)/(mc +ext) =  1.09047468935\n"
     ]
    },
    {
     "name": "stderr",
     "output_type": "stream",
     "text": [
      "Warning in <TH1F::Sumw2>: Sum of squares of weights structure already created\n",
      "Warning in <TCanvas::Constructor>: Deleting canvas with same name: c1\n",
      "Info in <TCanvas::Print>: png file /home/tmettler/Desktop/v08_00_00_33/V08_00_00_35/weighted/marco_weighted//png/NuTracks_initial.png has been created\n",
      "Info in <TCanvas::Print>: pdf file /home/tmettler/Desktop/v08_00_00_33/V08_00_00_35/weighted/marco_weighted//png/NuTracks_initial.pdf has been created\n",
      "Info in <TCanvas::SaveAs>: ROOT file /home/tmettler/Desktop/v08_00_00_33/V08_00_00_35/weighted/marco_weighted//root/NuTracks_initial.root has been created\n",
      "Warning in <TH1F::Sumw2>: Sum of squares of weights structure already created\n",
      "Warning in <TCanvas::Constructor>: Deleting canvas with same name: c1\n",
      "Info in <TCanvas::Print>: png file /home/tmettler/Desktop/v08_00_00_33/V08_00_00_35/weighted/marco_weighted//png/NumPfp_initial.png has been created\n",
      "Info in <TCanvas::Print>: pdf file /home/tmettler/Desktop/v08_00_00_33/V08_00_00_35/weighted/marco_weighted//png/NumPfp_initial.pdf has been created\n",
      "Info in <TCanvas::SaveAs>: ROOT file /home/tmettler/Desktop/v08_00_00_33/V08_00_00_35/weighted/marco_weighted//root/NumPfp_initial.root has been created\n",
      "Warning in <TH1F::Sumw2>: Sum of squares of weights structure already created\n",
      "Warning in <TCanvas::Constructor>: Deleting canvas with same name: c1\n",
      "Info in <TCanvas::Print>: png file /home/tmettler/Desktop/v08_00_00_33/V08_00_00_35/weighted/marco_weighted//png/TrackLength_initial.png has been created\n",
      "Info in <TCanvas::Print>: pdf file /home/tmettler/Desktop/v08_00_00_33/V08_00_00_35/weighted/marco_weighted//png/TrackLength_initial.pdf has been created\n",
      "Info in <TCanvas::SaveAs>: ROOT file /home/tmettler/Desktop/v08_00_00_33/V08_00_00_35/weighted/marco_weighted//root/TrackLength_initial.root has been created\n"
     ]
    },
    {
     "data": {
      "image/png": "[encoded data removed]",
      "text/plain": [
       "<IPython.core.display.Image object>"
      ]
     },
     "metadata": {},
     "output_type": "display_data"
    }
   ],
   "source": [
    "cut = 'fidVol && muon'\n",
    "name = '_initial'\n",
    "side_right = 'right'\n",
    "side_left = 'left'\n",
    "start = time.time()\n",
    "NuCC_w.make_stacked_histo_weight_MCC8(cut + ' && 1','NuTracks','EventWeight','Number of Tracks',0,10,10,'NuTracks'+name,side_right)\n",
    "end = time.time()\n",
    "print(end - start)\n",
    "NuCC_w.make_stacked_histo_weight_MCC8(cut + ' && 1','NumPfp','EventWeight','Number of Pfparticle',0,10,10,'NumPfp'+name,side_right)\n",
    "end = time.time()\n",
    "print(end - start)\n",
    "NuCC_w.make_stacked_histo_weight_MCC8(cut + ' && 1','TrackLength','EventWeight','Track Length',0,700,20,'TrackLength'+name,side_right)\n",
    "end = time.time()"
   ]
  },
  {
   "cell_type": "code",
   "execution_count": 59,
   "metadata": {},
   "outputs": [
    {
     "name": "stdout",
     "output_type": "stream",
     "text": [
      "Normalization (data)/(mc +ext) =  1.00411461581\n",
      "50.3957400322\n",
      "Normalization (data)/(mc +ext) =  1.00531721738\n",
      "100.707967043\n",
      "Normalization (data)/(mc +ext) =  1.00790259193\n"
     ]
    },
    {
     "name": "stderr",
     "output_type": "stream",
     "text": [
      "Warning in <TH1F::Sumw2>: Sum of squares of weights structure already created\n",
      "Warning in <TCanvas::Constructor>: Deleting canvas with same name: c1\n",
      "Info in <TCanvas::Print>: png file /home/tmettler/Desktop/v08_00_00_33/V08_00_00_35/weighted/marco_weighted//png/NuTracks_muon_cut.png has been created\n",
      "Info in <TCanvas::Print>: pdf file /home/tmettler/Desktop/v08_00_00_33/V08_00_00_35/weighted/marco_weighted//png/NuTracks_muon_cut.pdf has been created\n",
      "Info in <TCanvas::SaveAs>: ROOT file /home/tmettler/Desktop/v08_00_00_33/V08_00_00_35/weighted/marco_weighted//root/NuTracks_muon_cut.root has been created\n",
      "Warning in <TH1F::Sumw2>: Sum of squares of weights structure already created\n",
      "Warning in <TCanvas::Constructor>: Deleting canvas with same name: c1\n",
      "Info in <TCanvas::Print>: png file /home/tmettler/Desktop/v08_00_00_33/V08_00_00_35/weighted/marco_weighted//png/NumPfp_muon_cut.png has been created\n",
      "Info in <TCanvas::Print>: pdf file /home/tmettler/Desktop/v08_00_00_33/V08_00_00_35/weighted/marco_weighted//png/NumPfp_muon_cut.pdf has been created\n",
      "Info in <TCanvas::SaveAs>: ROOT file /home/tmettler/Desktop/v08_00_00_33/V08_00_00_35/weighted/marco_weighted//root/NumPfp_muon_cut.root has been created\n",
      "Warning in <TH1F::Sumw2>: Sum of squares of weights structure already created\n",
      "Warning in <TCanvas::Constructor>: Deleting canvas with same name: c1\n",
      "Info in <TCanvas::Print>: png file /home/tmettler/Desktop/v08_00_00_33/V08_00_00_35/weighted/marco_weighted//png/TrackLength_muon_cut.png has been created\n",
      "Info in <TCanvas::Print>: pdf file /home/tmettler/Desktop/v08_00_00_33/V08_00_00_35/weighted/marco_weighted//png/TrackLength_muon_cut.pdf has been created\n",
      "Info in <TCanvas::SaveAs>: ROOT file /home/tmettler/Desktop/v08_00_00_33/V08_00_00_35/weighted/marco_weighted//root/TrackLength_muon_cut.root has been created\n"
     ]
    },
    {
     "data": {
      "image/png": "[encoded data removed]",
      "text/plain": [
       "<IPython.core.display.Image object>"
      ]
     },
     "metadata": {},
     "output_type": "display_data"
    }
   ],
   "source": [
    "cut = 'fidVol && muon && TrackLength>8 && crt_tom_cut && TrackScore>0.8\\\n",
    "                && TrackLength>20 && TrackPID_chiproton>78 && NuScore>0.1'\n",
    "name = '_muon_cut'\n",
    "side_right = 'right'\n",
    "side_left = 'left'\n",
    "start = time.time()\n",
    "NuCC_w.make_stacked_histo_weight_MCC8(cut + ' && 1','NuTracks','EventWeight','Number of Tracks',0,10,10,'NuTracks'+name,side_right)\n",
    "end = time.time()\n",
    "print(end - start)\n",
    "NuCC_w.make_stacked_histo_weight_MCC8(cut + ' && 1','NumPfp','EventWeight','Number of Pfparticle',0,10,10,'NumPfp'+name,side_right)\n",
    "end = time.time()\n",
    "print(end - start)\n",
    "NuCC_w.make_stacked_histo_weight_MCC8(cut + ' && 1','TrackLength','EventWeight','Track Length',0,700,20,'TrackLength'+name,side_right)\n",
    "end = time.time()"
   ]
  },
  {
   "cell_type": "code",
   "execution_count": null,
   "metadata": {},
   "outputs": [],
   "source": []
  },
  {
   "cell_type": "code",
   "execution_count": null,
   "metadata": {},
   "outputs": [],
   "source": []
  },
  {
   "cell_type": "code",
   "execution_count": null,
   "metadata": {},
   "outputs": [],
   "source": []
  },
  {
   "cell_type": "code",
   "execution_count": null,
   "metadata": {},
   "outputs": [],
   "source": []
  },
  {
   "cell_type": "code",
   "execution_count": null,
   "metadata": {},
   "outputs": [],
   "source": []
  },
  {
   "cell_type": "code",
   "execution_count": null,
   "metadata": {},
   "outputs": [],
   "source": [
    "NuCC_w.printEff_w('fidVol && muon')"
   ]
  },
  {
   "cell_type": "code",
   "execution_count": null,
   "metadata": {},
   "outputs": [],
   "source": [
    "NuCC_w.printEff_w('fidVol && muon && nr_crthit_top==0')"
   ]
  },
  {
   "cell_type": "code",
   "execution_count": null,
   "metadata": {},
   "outputs": [],
   "source": [
    "NuCC_w.printEff_w('fidVol && muon && nr_crthit_top==0 && crthit_vertex_zcut==0')"
   ]
  },
  {
   "cell_type": "code",
   "execution_count": null,
   "metadata": {},
   "outputs": [],
   "source": [
    "NuCC_w.printEff_w('fidVol && muon && nr_crthit_top==0 && crthit_vertex_zcut==0 && (track_end_uncontained==1 || nr_crthit_beam_tres==0)')"
   ]
  },
  {
   "cell_type": "code",
   "execution_count": null,
   "metadata": {},
   "outputs": [],
   "source": [
    "NuCC_w.printEff_w('fidVol && muon && nr_crthit_top==0 && crthit_vertex_zcut==0 && (track_end_uncontained==1 || nr_crthit_beam_tres==0) && crt_cut')"
   ]
  },
  {
   "cell_type": "code",
   "execution_count": null,
   "metadata": {},
   "outputs": [],
   "source": [
    "NuCC_w.printEff_w('fidVol && muon && crt_tom_cut && TrackScore>0.8\\\n",
    "                && TrackLength>20 && TrackPID_chiproton>78 && NuScore>0.1')"
   ]
  },
  {
   "cell_type": "code",
   "execution_count": null,
   "metadata": {},
   "outputs": [],
   "source": [
    "NuCC_w.printEff_w('fidVol && muon && crt_tom_cut')"
   ]
  },
  {
   "cell_type": "code",
   "execution_count": null,
   "metadata": {},
   "outputs": [],
   "source": [
    "NuCC_w.printEff_w('fidVol && muon && crt_tom_cut && TrackScore>0.8')"
   ]
  },
  {
   "cell_type": "code",
   "execution_count": null,
   "metadata": {},
   "outputs": [],
   "source": [
    "NuCC_w.printEff_w('fidVol && muon && crt_tom_cut && TrackScore>0.8\\\n",
    "                && TrackLength>20')"
   ]
  },
  {
   "cell_type": "code",
   "execution_count": null,
   "metadata": {},
   "outputs": [],
   "source": [
    "NuCC_w.printEff_w('fidVol && muon && crt_tom_cut && TrackScore>0.8\\\n",
    "                && TrackLength>20 && TrackPID_chiproton>78')"
   ]
  },
  {
   "cell_type": "code",
   "execution_count": null,
   "metadata": {},
   "outputs": [],
   "source": [
    "NuCC_w.printEff_w('fidVol && muon && crt_tom_cut && TrackScore>0.8\\\n",
    "                && TrackLength>20 && TrackPID_chiproton>78 && NuScore>0.1')"
   ]
  },
  {
   "cell_type": "code",
   "execution_count": null,
   "metadata": {},
   "outputs": [],
   "source": [
    "nenner = 'numu_true'\n",
    "zahler = 'fidVol && muon && numu_signal'\n",
    "cut = 'fidVol && muon'\n",
    "start = time.time()\n",
    "NuCC_w.plot_eff_w(nenner,zahler,cut,'initial','initial')\n",
    "end = time.time()\n",
    "print(end - start)"
   ]
  },
  {
   "cell_type": "code",
   "execution_count": null,
   "metadata": {},
   "outputs": [],
   "source": [
    "nenner = 'numu_true'\n",
    "zahler = 'fidVol && muon && crt_tom_cut && TrackScore>0.8\\\n",
    "                && TrackLength>20 && TrackPID_chiproton>78 && NuScore>0.1 && numu_signal'\n",
    "cut = 'fidVol && muon && crt_tom_cut && TrackScore>0.8\\\n",
    "                && TrackLength>20 && TrackPID_chiproton>78 && NuScore>0.1'\n",
    "start = time.time()\n",
    "NuCC_w.plot_eff_w(nenner,zahler,cut,'allcut','allcut')\n",
    "end = time.time()\n",
    "print(end - start)"
   ]
  },
  {
   "cell_type": "code",
   "execution_count": null,
   "metadata": {},
   "outputs": [],
   "source": [
    "nenner = 'numu_signal && fidVol && muon'\n",
    "zahler = 'fidVol && muon && crt_tom_cut && TrackScore>0.8\\\n",
    "                && TrackLength>20 && TrackPID_chiproton>78 && NuScore>0.1 && numu_signal'\n",
    "cut = 'fidVol && muon && crt_tom_cut && TrackScore>0.8\\\n",
    "                && TrackLength>20 && TrackPID_chiproton>78 && NuScore>0.1'\n",
    "start = time.time()\n",
    "NuCC_w.plot_eff_w(nenner,zahler,cut,'tomcut_only','tomcut_only')\n",
    "end = time.time()\n",
    "print(end - start)"
   ]
  },
  {
   "cell_type": "code",
   "execution_count": null,
   "metadata": {},
   "outputs": [],
   "source": [
    "nenner = 'numu_signal && fidVol && muon'\n",
    "zahler = 'fidVol && muon && crt_tom_cut && numu_signal'\n",
    "cut = 'fidVol && muon && crt_tom_cut'\n",
    "start = time.time()\n",
    "NuCC_w.plot_eff_w(nenner,zahler,cut,'crtcut_only','crtcut_only')\n",
    "end = time.time()\n",
    "print(end - start)"
   ]
  },
  {
   "cell_type": "code",
   "execution_count": null,
   "metadata": {},
   "outputs": [],
   "source": [
    "NuCC_w.pdg_content33_w('fidVol && muon')"
   ]
  },
  {
   "cell_type": "code",
   "execution_count": null,
   "metadata": {},
   "outputs": [],
   "source": [
    "NuCC_w.pdg_content33_w('fidVol && muon && crt_tom_cut && TrackScore>0.8\\\n",
    "                && TrackLength>20 && TrackPID_chiproton>78 && NuScore>0.1')"
   ]
  },
  {
   "cell_type": "code",
   "execution_count": null,
   "metadata": {},
   "outputs": [],
   "source": [
    "NuCC_w.pdg_content33_w('fidVol && muon && crt_tom_cut && TrackScore>0.8\\\n",
    "                && TrackLength>20 && TrackPID_chiproton>78 && NuScore>0.1 && MCTrackPurity>0.5')"
   ]
  },
  {
   "cell_type": "code",
   "execution_count": null,
   "metadata": {},
   "outputs": [],
   "source": [
    "NuCC_w.pdg_content33_w('fidVol && muon && crt_tom_cut && TrackScore>0.8\\\n",
    "                && TrackLength>20 && TrackPID_chiproton>78 && NuScore>0.1 && MCTrackPurity>0.5 && num_mc_muon>0')"
   ]
  },
  {
   "cell_type": "code",
   "execution_count": null,
   "metadata": {},
   "outputs": [],
   "source": []
  },
  {
   "cell_type": "code",
   "execution_count": null,
   "metadata": {},
   "outputs": [],
   "source": []
  },
  {
   "cell_type": "code",
   "execution_count": null,
   "metadata": {},
   "outputs": [],
   "source": []
  },
  {
   "cell_type": "code",
   "execution_count": null,
   "metadata": {},
   "outputs": [],
   "source": []
  },
  {
   "cell_type": "code",
   "execution_count": null,
   "metadata": {},
   "outputs": [],
   "source": []
  },
  {
   "cell_type": "code",
   "execution_count": null,
   "metadata": {},
   "outputs": [],
   "source": []
  },
  {
   "cell_type": "code",
   "execution_count": null,
   "metadata": {},
   "outputs": [],
   "source": []
  },
  {
   "cell_type": "code",
   "execution_count": null,
   "metadata": {},
   "outputs": [],
   "source": []
  },
  {
   "cell_type": "code",
   "execution_count": null,
   "metadata": {},
   "outputs": [],
   "source": []
  },
  {
   "cell_type": "code",
   "execution_count": null,
   "metadata": {},
   "outputs": [],
   "source": []
  },
  {
   "cell_type": "code",
   "execution_count": null,
   "metadata": {},
   "outputs": [],
   "source": []
  },
  {
   "cell_type": "code",
   "execution_count": null,
   "metadata": {},
   "outputs": [],
   "source": []
  },
  {
   "cell_type": "code",
   "execution_count": null,
   "metadata": {},
   "outputs": [],
   "source": []
  },
  {
   "cell_type": "code",
   "execution_count": null,
   "metadata": {},
   "outputs": [],
   "source": [
    "# initialte ROOT default canvas\n",
    "ROOT.gStyle.SetOptStat(0)\n",
    "c1 = ROOT.TCanvas(\"c1\",\"c1\",1600,1200)\n",
    "c1.SetGrid(1)\n",
    "c1.SetLeftMargin(0.14)\n",
    "c1.SetRightMargin(0.18)\n",
    "c1.SetBottomMargin(0.14)"
   ]
  },
  {
   "cell_type": "code",
   "execution_count": null,
   "metadata": {},
   "outputs": [],
   "source": [
    "value = 'TrackLength'\n",
    "xbins = 30\n",
    "xstart = 0\n",
    "xend = 30\n",
    "step = (xend-xstart)/xbins\n",
    "title = 'Track length [cm]'\n",
    "\n",
    "h_eff =  ROOT.TH1F(\"h_eff\",title,xbins,xstart,xend)\n",
    "h_pur = ROOT.TH1F(\"h_pur\",title,xbins,xstart,xend)\n",
    "h_effpur = ROOT.TH1F(\"h_effpur\",title,xbins,xstart,xend)\n",
    "for i in range(xbins): \n",
    "    cut = 'muon && fidVol && TrackPID_chimuon<30 && NuScore>0.1 && crt_tom_cut && TrackScore>0.8 && ('+value+'>('+str(xstart)+'+'+str(step)+'*'+str(i)+'))'\n",
    "    #print cut\n",
    "    pur = overlay_out.GetEntries(cut+' && numu_signal')*scale[overlay]*100.0/(NuCC.getTotNum_out(cut)+0.00001)\n",
    "    eff = overlay_out.GetEntries(cut+' && numu_signal')*100.0/overlay_out.GetEntries(\"numu_true\")\n",
    "    h_eff.SetBinContent(i+1,eff)\n",
    "    h_pur.SetBinContent(i+1,pur)\n",
    "    h_effpur.SetBinContent(i+1,eff*pur/100.0)\n",
    "    #print eff ,pur, eff*pur,i\n",
    "\n",
    "legend = ROOT.TLegend(0.15,0.75,0.48,0.9);\n",
    "legend.AddEntry(h_eff,\"efficiency\",\"f\");\n",
    "legend.AddEntry(h_pur,\"purity\",\"f\");\n",
    "legend.AddEntry(h_effpur,\"eff * pur\",\"f\");\n",
    "\n",
    "h_eff.SetLineColor(1)\n",
    "h_eff.SetMaximum(100)\n",
    "h_eff.SetMinimum(0)\n",
    "h_pur.SetLineColor(2)\n",
    "h_effpur.SetLineColor(3)\n",
    "h_pur.SetLineWidth(3)\n",
    "h_eff.SetLineWidth(3)\n",
    "h_effpur.SetLineWidth(3)\n",
    "h_eff.Draw()\n",
    "legend.Draw()\n",
    "h_pur.Draw('same')\n",
    "h_effpur.Draw('same')\n",
    "h_eff.Draw('same')\n",
    "c1.SetLogy(0)\n",
    "c1.Draw()\n",
    "c1.SaveAs(outputdir_png+ value +\".png\");\n",
    "c1.SaveAs(outputdir_root+ value+ \".root\");\n",
    "\n",
    "print 'Variation of cut on: '+value\n",
    "print 'Maximum value: ', h_effpur.GetMaximum()\n",
    "print 'Bin: ', h_effpur.GetMaximumBin(),' -> Value: ', xstart+(h_effpur.GetMaximumBin()-1)*step"
   ]
  },
  {
   "cell_type": "code",
   "execution_count": null,
   "metadata": {},
   "outputs": [],
   "source": [
    "value = 'TrackPID_chimuon'\n",
    "xbins = 30\n",
    "xstart = 0\n",
    "xend = 30\n",
    "step = (xend-xstart)/xbins\n",
    "title = 'Track PID chi square'\n",
    "\n",
    "h_eff =  ROOT.TH1F(\"h_eff\",title,xbins,xstart,xend)\n",
    "h_pur = ROOT.TH1F(\"h_pur\",title,xbins,xstart,xend)\n",
    "h_effpur = ROOT.TH1F(\"h_effpur\",title,xbins,xstart,xend)\n",
    "for i in range(xbins): \n",
    "    cut = 'muon && fidVol && crt_tom_cut && TrackScore>0.8 && \\\n",
    "        TrackLength>20 && NuScore>0.1 && ('+value+'<('+str(xstart)+'+'+str(step)+'*'+str(i)+'))'\n",
    "    #print cut\n",
    "    pur = overlay_out.GetEntries(cut+' && numu_signal')*scale[overlay]*100.0/(NuCC.getTotNum_out(cut)+0.00001)\n",
    "    eff = overlay_out.GetEntries(cut+' && numu_signal')*100.0/overlay_out.GetEntries(\"numu_true\")\n",
    "    h_eff.SetBinContent(i+1,eff)\n",
    "    h_pur.SetBinContent(i+1,pur)\n",
    "    h_effpur.SetBinContent(i+1,eff*pur/100.0)\n",
    "    #print eff ,pur, eff*pur,i\n",
    "\n",
    "legend = ROOT.TLegend(0.15,0.75,0.48,0.9);\n",
    "legend.AddEntry(h_eff,\"efficiency\",\"f\");\n",
    "legend.AddEntry(h_pur,\"purity\",\"f\");\n",
    "legend.AddEntry(h_effpur,\"eff * pur\",\"f\");\n",
    "\n",
    "h_eff.SetLineColor(1)\n",
    "h_eff.SetMaximum(100)\n",
    "h_eff.SetMinimum(0)\n",
    "h_pur.SetLineColor(2)\n",
    "h_effpur.SetLineColor(3)\n",
    "h_pur.SetLineWidth(3)\n",
    "h_eff.SetLineWidth(3)\n",
    "h_effpur.SetLineWidth(3)\n",
    "h_eff.Draw()\n",
    "legend.Draw()\n",
    "h_pur.Draw('same')\n",
    "h_effpur.Draw('same')\n",
    "h_eff.Draw('same')\n",
    "c1.SetLogy(0)\n",
    "c1.Draw()\n",
    "c1.SaveAs(outputdir_png+ value +\".png\");\n",
    "c1.SaveAs(outputdir_root+ value+ \".root\");\n",
    "\n",
    "print 'Variation of cut on: '+value\n",
    "print 'Maximum value: ', h_effpur.GetMaximum()\n",
    "print 'Bin: ', h_effpur.GetMaximumBin(),' -> Value: ', xstart+(h_effpur.GetMaximumBin()-1)*step"
   ]
  },
  {
   "cell_type": "code",
   "execution_count": null,
   "metadata": {},
   "outputs": [],
   "source": [
    "value = 'NuScore'\n",
    "xbins = 20\n",
    "xstart = 0\n",
    "xend = 0.5\n",
    "step = (xend-xstart)/xbins\n",
    "title = 'Track length [cm]'\n",
    "\n",
    "h_eff =  ROOT.TH1F(\"h_eff\",title,xbins,xstart,xend)\n",
    "h_pur = ROOT.TH1F(\"h_pur\",title,xbins,xstart,xend)\n",
    "h_effpur = ROOT.TH1F(\"h_effpur\",title,xbins,xstart,xend)\n",
    "for i in range(xbins): \n",
    "    cut = 'muon && fidVol && crt_tom_cut && TrackScore>0.8 && ('+value+'>('+str(xstart)+'+'+str(step)+'*'+str(i)+'))'\n",
    "    #print cut\n",
    "    pur = overlay_out.GetEntries(cut+' && numu_signal')*scale[overlay]*100.0/(NuCC.getTotNum_out(cut)+0.00001)\n",
    "    eff = overlay_out.GetEntries(cut+' && numu_signal')*100.0/overlay_out.GetEntries(\"numu_true\")\n",
    "    h_eff.SetBinContent(i+1,eff)\n",
    "    h_pur.SetBinContent(i+1,pur)\n",
    "    h_effpur.SetBinContent(i+1,eff*pur/100.0)\n",
    "    #print eff ,pur, eff*pur,i\n",
    "\n",
    "legend = ROOT.TLegend(0.15,0.75,0.48,0.9);\n",
    "legend.AddEntry(h_eff,\"efficiency\",\"f\");\n",
    "legend.AddEntry(h_pur,\"purity\",\"f\");\n",
    "legend.AddEntry(h_effpur,\"eff * pur\",\"f\");\n",
    "\n",
    "h_eff.SetLineColor(1)\n",
    "h_eff.SetMaximum(100)\n",
    "h_eff.SetMinimum(0)\n",
    "h_pur.SetLineColor(2)\n",
    "h_effpur.SetLineColor(3)\n",
    "h_pur.SetLineWidth(3)\n",
    "h_eff.SetLineWidth(3)\n",
    "h_effpur.SetLineWidth(3)\n",
    "h_eff.Draw()\n",
    "legend.Draw()\n",
    "h_pur.Draw('same')\n",
    "h_effpur.Draw('same')\n",
    "h_eff.Draw('same')\n",
    "c1.SetLogy(0)\n",
    "c1.Draw()\n",
    "c1.SaveAs(outputdir_png+ value +\".png\");\n",
    "c1.SaveAs(outputdir_root+ value+ \".root\");\n",
    "\n",
    "print 'Variation of cut on: '+value\n",
    "print 'Maximum value: ', h_effpur.GetMaximum()\n",
    "print 'Bin: ', h_effpur.GetMaximumBin(),' -> Value: ', xstart+(h_effpur.GetMaximumBin()-1)*step"
   ]
  },
  {
   "cell_type": "code",
   "execution_count": null,
   "metadata": {},
   "outputs": [],
   "source": []
  },
  {
   "cell_type": "code",
   "execution_count": null,
   "metadata": {},
   "outputs": [],
   "source": []
  },
  {
   "cell_type": "code",
   "execution_count": null,
   "metadata": {},
   "outputs": [],
   "source": []
  }
 ],
 "metadata": {
  "kernelspec": {
   "display_name": "Python 3",
   "language": "python",
   "name": "python3"
  },
  "language_info": {
   "codemirror_mode": {
    "name": "ipython",
    "version": 2
   },
   "file_extension": ".py",
   "mimetype": "text/x-python",
   "name": "python",
   "nbconvert_exporter": "python",
   "pygments_lexer": "ipython2",
   "version": "2.7.12"
  }
 },
 "nbformat": 4,
 "nbformat_minor": 2
}
