{
 "cells": [
  {
   "cell_type": "code",
   "execution_count": 1,
   "metadata": {},
   "outputs": [
    {
     "name": "stdout",
     "output_type": "stream",
     "text": [
      "Welcome to JupyROOT 6.10/08\n"
     ]
    }
   ],
   "source": [
    "import uproot\n",
    "import matplotlib.pyplot as plt\n",
    "import numpy as np\n",
    "import pandas as pd\n",
    "import os\n",
    "import ROOT\n",
    "import time\n",
    "import math\n",
    "import helpfunction as helper\n",
    "from __future__ import division"
   ]
  },
  {
   "cell_type": "code",
   "execution_count": 2,
   "metadata": {},
   "outputs": [],
   "source": [
    "#inputdir = '/home/tmettler/Desktop/ub_data/ub_xsec/ConsolidatedSliceAnalyser/ext/'"
   ]
  },
  {
   "cell_type": "markdown",
   "metadata": {},
   "source": [
    "# CRTinBNB tagger, Overlay or MC"
   ]
  },
  {
   "cell_type": "code",
   "execution_count": 3,
   "metadata": {},
   "outputs": [],
   "source": [
    "fidvol_vtx = [10,10,10,10,10,50] \n",
    "fidvol_end = [5,5,5,5,5,5]\n",
    "\n",
    "lower = [-1.55, -115.53, 0.1]\n",
    "upper = [254.8, 117.47, 1036.9]\n",
    "\n",
    "\n",
    "mass_mu = 0.106\n",
    "kin_min = 0.02\n",
    "kin_min_mu = kin_min + mass_mu\n",
    "\n",
    "gr = (1 + 5 ** 0.5) / 2"
   ]
  },
  {
   "cell_type": "code",
   "execution_count": 4,
   "metadata": {},
   "outputs": [],
   "source": [
    "def eventHash(df):\n",
    "    return df.apply(lambda x: hash(tuple(x)), axis = 1)\n",
    "\n",
    "def inTPC_mask(df, str_x, str_y, str_z, fidvol=[0]*6):\n",
    "    global upper, lower\n",
    "    mask_x = df[str_x].between(lower[0]+fidvol[0], upper[0]-fidvol[1])\n",
    "    mask_y = df[str_y].between(lower[1]+fidvol[2], upper[1]-fidvol[3])\n",
    "    mask_z = df[str_z].between(lower[2]+fidvol[4], upper[2]-fidvol[5])\n",
    "    mask = mask_x & mask_y & mask_z\n",
    "    return mask\n",
    "\n",
    "def inTPC_df(df, str_x, str_y, str_z, fidvol=[0]*6):\n",
    "    mask = inTPC_mask(df, str_x, str_y, str_z, fidvol)\n",
    "    return df[mask]"
   ]
  },
  {
   "cell_type": "code",
   "execution_count": 5,
   "metadata": {},
   "outputs": [],
   "source": [
    "inputdir = '/home/tmettler/Desktop/ub_data/cc_filter/data_numu/'\n",
    "outputdir = '/home/tmettler/Desktop/ub_data/cc_filter/data_numu/plots/'\n",
    "\n",
    "try:\n",
    "    os.stat(outputdir)\n",
    "except:\n",
    "    os.mkdir(outputdir)\n",
    "\n",
    "filename = 'NuCCana_1_QP_OverlayV13_all.root' \n",
    "\n",
    "isMC = 1\n",
    "tree_name = 'NuCCana'"
   ]
  },
  {
   "cell_type": "code",
   "execution_count": 6,
   "metadata": {},
   "outputs": [
    {
     "name": "stdout",
     "output_type": "stream",
     "text": [
      "Number of Entries: 238873\n"
     ]
    },
    {
     "name": "stderr",
     "output_type": "stream",
     "text": [
      "Warning in <TClass::Init>: no dictionary for class ROOT::TIOFeatures is available\n"
     ]
    }
   ],
   "source": [
    "test = ROOT.TChain(tree_name + \"/event\",\"event\")\n",
    "test.Add( inputdir + filename)\n",
    "\n",
    "#test.ls()\n",
    "print \"Number of Entries:\", test.GetEntries()\n",
    "# uncomment one of them\n",
    "cutname = 'has_nuslice'\n",
    "\n",
    "cut = ' && ' + cutname\n",
    "#cut = ''\n",
    "\n",
    "title_cut = ''\n",
    "if(cut!=''):\n",
    "    title_cut = ' with '+ cutname\n",
    "    "
   ]
  },
  {
   "cell_type": "code",
   "execution_count": 7,
   "metadata": {},
   "outputs": [],
   "source": [
    "ROOT.gStyle.SetOptStat(0)\n",
    "c1 = ROOT.TCanvas(\"\",\"\",1600,1200)\n",
    "c1.SetGrid(1)\n",
    "c1.SetLeftMargin(0.14)\n",
    "c1.SetRightMargin(0.18)\n",
    "c1.SetBottomMargin(0.14)"
   ]
  },
  {
   "cell_type": "code",
   "execution_count": 8,
   "metadata": {},
   "outputs": [
    {
     "name": "stdout",
     "output_type": "stream",
     "text": [
      "length of event tree 238873\n"
     ]
    }
   ],
   "source": [
    "file_tree = {}\n",
    "dict_names = ['overlay','on','off']\n",
    "\n",
    "file_tree['overlay'] = {}\n",
    "file_tree['overlay']['event'] = uproot.open(inputdir+filename)[tree_name+'/event']\n",
    "\n",
    "print 'length of event tree', file_tree['overlay']['event'].numentries"
   ]
  },
  {
   "cell_type": "code",
   "execution_count": 9,
   "metadata": {
    "scrolled": false
   },
   "outputs": [
    {
     "name": "stdout",
     "output_type": "stream",
     "text": [
      "\n",
      "('*** ', 'event', ' ***')\n",
      "[u'NuScore', u'NuPDG', u'NumPfp_', u'Nu_Vx', u'Nu_Vy', u'Nu_Vz', u'Vx', u'Vy', u'Vz', u'TrackScore', u'VtxDistance', u'TrackLength', u'TrackPID_chiproton', u'TrackPID_chipion', u'TrackPID_chikaon', u'TrackPID_chimuon', u'NuTracks', u'NuShowers', u'nr_crthit', u'crthit_ts0', u'crthit_ts1', u'adc_length', u'crt_adc', u'TriTim_sec', u'TriTim_nsec', u'TimFla', u'flash_PE', u'flash_y', u'flash_z', u'crtt0_time', u'crtt0_trig', u'crtt0_DCA', u'crtt0_plane', u'MCNu_Interaction', u'MCNu_CCNC', u'MCNu_PDG', u'MCNu_Energy', u'MCNu_leptonPx', u'MCNu_LeptonEnergy', u'MCNu_leptonTheta', u'MCNu_time', u'MCNu_Vx', u'MCNu_Vy', u'MCNu_Vz', u'MCNu_VxSce', u'MCNu_VySce', u'MCNu_VzSce', u'MCNu_vertexDistance', u'MCle_PDG', u'MCle_Energy', u'MCle_Vx', u'MCle_Vy', u'MCle_Vz', u'MCle_length', u'MCle_VxSce', u'MCle_VySce', u'MCle_VzSce']\n"
     ]
    }
   ],
   "source": [
    "for name in file_tree['overlay'] :\n",
    "    print\n",
    "    print('*** ', name, ' ***')\n",
    "    print([c.decode('UTF-8') for c in file_tree['overlay'][name].keys()])"
   ]
  },
  {
   "cell_type": "code",
   "execution_count": 10,
   "metadata": {},
   "outputs": [
    {
     "name": "stdout",
     "output_type": "stream",
     "text": [
      "Total number of events: 238873\n",
      "Total events with vertex in active volume: 63329\n",
      "Total events numu cc: 52066\n",
      "Total events nue cc: 335\n"
     ]
    }
   ],
   "source": [
    "entry_Event = file_tree['overlay']['event'].keys()\n",
    "#print entry_Event\n",
    "cols = ['NuScore', 'NuPDG', 'NumPfp_', 'Nu_Vx', 'Nu_Vy','Nu_Vz', 'Vx', 'Vy', 'Vz',\\\n",
    "        'TrackScore','VtxDistance','TrackLength','TrackPID_chiproton', 'TrackPID_chipion', 'TrackPID_chikaon',\\\n",
    "       'TrackPID_chimuon', 'NuTracks', 'NuShowers',\\\n",
    "        'MCNu_CCNC','MCNu_PDG','MCNu_Energy','MCNu_LeptonEnergy','MCNu_leptonTheta','MCNu_Vx','MCNu_Vy','MCNu_Vz',\\\n",
    "       'MCle_PDG','MCle_Energy','MCle_length']\n",
    "tree_Event = file_tree['overlay']['event'].pandas.df(cols)\n",
    "\n",
    "tree_Event['mc_nu_fid_vol'] = inTPC_mask( tree_Event, 'MCNu_Vx', 'MCNu_Vy', 'MCNu_Vz', fidvol=fidvol_vtx)\n",
    "nu_tpc_mask = inTPC_mask( tree_Event, 'MCNu_Vx', 'MCNu_Vy', 'MCNu_Vz',fidvol=fidvol_vtx)\n",
    "nu_sig_mask = tree_Event.eval('~MCNu_CCNC & abs(MCNu_PDG)==14 & mc_nu_fid_vol')\n",
    "tree_Event['nu_sig_mask'] = tree_Event.eval('~MCNu_CCNC & abs(MCNu_PDG)==14 & mc_nu_fid_vol')\n",
    "nu_sig_mask_nue = tree_Event.eval('~MCNu_CCNC & abs(MCNu_PDG)==12 & mc_nu_fid_vol')\n",
    "print 'Total number of events:', file_tree['overlay']['event'].numentries\n",
    "print 'Total events with vertex in active volume:', sum(nu_tpc_mask)\n",
    "print 'Total events numu cc:', sum(nu_sig_mask)\n",
    "print 'Total events nue cc:', sum(nu_sig_mask_nue) "
   ]
  },
  {
   "cell_type": "code",
   "execution_count": 11,
   "metadata": {},
   "outputs": [],
   "source": [
    "start_mask = inTPC_mask(tree_Event, 'Vx', 'Vy', 'Vz', fidvol_vtx)"
   ]
  },
  {
   "cell_type": "code",
   "execution_count": null,
   "metadata": {},
   "outputs": [],
   "source": []
  },
  {
   "cell_type": "code",
   "execution_count": 12,
   "metadata": {},
   "outputs": [
    {
     "name": "stdout",
     "output_type": "stream",
     "text": [
      "NuPDG==14 & start_contained & TrackLength>20& TrackScore>0.97 & VtxDistance<5\n",
      "selected events: 33669 - 64.7%  purity: 85.6%\n",
      "\n",
      "& NuScore>0.087 \n",
      "selected events: 30869 - 59.3%  purity: 86.7%\n",
      "\n",
      "& (TrackPID_chimuon/TrackPID_chiproton)<0.12\n",
      "selected events: 26807 - 51.5%  purity: 99.9%\n",
      "\n",
      "& TrackPID_chiproton>100 & TrackPID_chimuon<20 \n",
      "selected events: 22463 - 43.1%  purity: 94.2%\n",
      "\n",
      "number of initial events: 52066\n",
      "number of selected events: 22463 - 43.1%  purity: 94.2%\n",
      "0.431433180963\n",
      "0.94190446512\n"
     ]
    }
   ],
   "source": [
    "tree_Event['start_contained'] = start_mask\n",
    "#print len(tree_Daughter)\n",
    "tree_Event_nuCC = tree_Event.query('nu_sig_mask')\n",
    "\n",
    "query_event = 'NuPDG==14 & start_contained'\n",
    "query_event = query_event +' & TrackLength>20'\n",
    "# additinal cuts:\n",
    "add_query = '& TrackScore>0.97 & VtxDistance<5'\n",
    "query_event += add_query\n",
    "eff = len(tree_Event_nuCC.query(query_event))\n",
    "query_event_pur = query_event + '& MCle_PDG==13'\n",
    "pur = len(tree_Event_nuCC.query(query_event_pur))\n",
    "print query_event\n",
    "print \"selected events: {}\".format(eff),\"- {0:0.1f}%\".format(eff*100.0/sum(nu_sig_mask)),\\\n",
    "        \" purity: {0:0.1f}%\".format(pur*100.0/eff)\n",
    "\n",
    "add_query = '& NuScore>0.087 '\n",
    "query_event += add_query\n",
    "eff = len(tree_Event_nuCC.query(query_event))\n",
    "query_event_pur = query_event + '& MCle_PDG==13'\n",
    "pur = len(tree_Event_nuCC.query(query_event_pur))\n",
    "print\n",
    "print add_query\n",
    "print \"selected events: {}\".format(eff),\"- {0:0.1f}%\".format(eff*100.0/sum(nu_sig_mask)),\\\n",
    "        \" purity: {0:0.1f}%\".format(pur*100.0/eff)\n",
    "\n",
    "add_query = '& (TrackPID_chimuon/TrackPID_chiproton)<0.12'\n",
    "query_event += add_query\n",
    "eff = len(tree_Event_nuCC.query(query_event))\n",
    "qquery_event_pur = query_event + '& MCle_PDG==13'\n",
    "pur = len(tree_Event_nuCC.query(query_event_pur))\n",
    "print\n",
    "print add_query\n",
    "print \"selected events: {}\".format(eff),\"- {0:0.1f}%\".format(eff*100.0/sum(nu_sig_mask)),\\\n",
    "        \" purity: {0:0.1f}%\".format(pur*100.0/eff)\n",
    "\n",
    "add_query = '& TrackPID_chiproton>100 & TrackPID_chimuon<20 '\n",
    "query_event += add_query\n",
    "eff = len(tree_Event_nuCC.query(query_event))\n",
    "query_event_pur = query_event + '& MCle_PDG==13'\n",
    "pur = len(tree_Event_nuCC.query(query_event_pur))\n",
    "print\n",
    "print add_query\n",
    "print \"selected events: {}\".format(eff),\"- {0:0.1f}%\".format(eff*100.0/sum(nu_sig_mask)),\\\n",
    "        \" purity: {0:0.1f}%\".format(pur*100.0/eff)\n",
    "print \n",
    "print 'number of initial events:', sum(nu_sig_mask)\n",
    "print \"number of selected events: {}\".format(eff),\"- {0:0.1f}%\".format(eff*100.0/sum(nu_sig_mask)),\\\n",
    "        \" purity: {0:0.1f}%\".format(pur*100.0/eff)\n",
    "#print 'number of selected events:', eff, eff*100.0/sum(nu_sig_mask)\n",
    "\n",
    "eff_final = eff/sum(nu_sig_mask)\n",
    "pur_final = pur/eff\n",
    "print eff_final\n",
    "print pur_final\n"
   ]
  },
  {
   "cell_type": "code",
   "execution_count": 13,
   "metadata": {},
   "outputs": [
    {
     "name": "stdout",
     "output_type": "stream",
     "text": [
      "The denominator (52066,)\n",
      "The nominator (22463,)\n"
     ]
    },
    {
     "data": {
      "image/png": "[encoded data removed]",
      "text/plain": [
       "<Figure size 815.489x288 with 3 Axes>"
      ]
     },
     "metadata": {
      "needs_background": "light"
     },
     "output_type": "display_data"
    }
   ],
   "source": [
    "fig,ax=plt.subplots(ncols=3,nrows=1,figsize=(7*gr,4), sharey=True)\n",
    "purity = pur_final\n",
    "eff = eff_final\n",
    "x_min = 0.125\n",
    "x_max = 2.5\n",
    "N = 19\n",
    "denom = tree_Event['MCNu_LeptonEnergy'][nu_sig_mask]\n",
    "print 'The denominator', denom.shape\n",
    "nom = tree_Event_nuCC.query(query_event)['MCNu_LeptonEnergy']\n",
    "print 'The nominator', nom.shape\n",
    "data = [denom, nom]\n",
    "edges, _, bins, _, _ = helper.histHelper(N,x_min,x_max,data)\n",
    "fraq = bins[1]/bins[0]\n",
    "err = np.sqrt( fraq*(1-fraq)/bins[0] )\n",
    "fraq= np.append(fraq,fraq[-1])\n",
    "err = np.append(err,err[-1]) \n",
    "\n",
    "ax[0].fill_between(edges, fraq - err, fraq + err, alpha=0.3, step='post')\n",
    "ax[0].set_xlabel(r'True lepton energy [GeV]')\n",
    "ax[0].set_ylabel('Efficiency')\n",
    "ax[0].set_ylim(0,1)\n",
    "ax[0].set_xlim(x_min, x_max)\n",
    "ax[0].step(edges, fraq, where='post', label = r'Efficiency {0:0.1f}%, Purity: {1:0.1f}%'.format(eff*100,purity*100))\n",
    "ax[0].legend(loc='upper center')\n",
    "\n",
    "# middle\n",
    "#x_ticks = [0, np.pi/4, np.pi/2, 3*np.pi/4, np.pi]\n",
    "#x_labels = [r'$0$',r'$\\pi/4$',r'$\\pi/2$',r'$3\\pi/4$',r'$\\pi$']\n",
    "x_min = 0\n",
    "x_max = np.pi\n",
    "N = 16\n",
    "denom = tree_Event['MCNu_leptonTheta'][nu_sig_mask]\n",
    "nom = tree_Event_nuCC.query(query_event)['MCNu_leptonTheta']\n",
    "data = [denom, nom]\n",
    "edges, _, bins, _, _ = helper.histHelper(N,x_min,x_max,data)\n",
    "fraq = bins[1]/bins[0]\n",
    "err = np.sqrt( fraq*(1-fraq)/bins[0] )\n",
    "fraq= np.append(fraq,fraq[-1])\n",
    "err = np.append(err,err[-1]) \n",
    "ax[1].fill_between(edges, fraq - err, fraq + err, alpha=0.3, step='post')\n",
    "ax[1].set_xlabel(r'True lepton theta')\n",
    "ax[1].set_ylim(0,1)\n",
    "ax[1].set_xlim(x_min, x_max)\n",
    "ax[1].step(edges, fraq, where='post', label = r'Efficiency {0:0.1f}%, Purity: {1:0.1f}%'.format(eff*100,purity*100))\n",
    "ax[1].legend(loc='upper center')\n",
    "#ax[1].set_xticks(x_ticks)\n",
    "#ax[1].set_xticklabels(x_labels)\n",
    "\n",
    "# Right\n",
    "#x_ticks = [np.pi, -np.pi/2, 0, np.pi/2, np.pi]\n",
    "#x_labels = [r'$0$',r'$\\pi/4$',r'$\\pi/2$',r'$3\\pi/4$',r'$\\pi$']\n",
    "'''\n",
    "x_min = -np.pi\n",
    "x_max = np.pi\n",
    "N = 16\n",
    "denom = np.arctan( tree_Event.query('mc_nu_lepton_py>0')['mc_nu_lepton_py'][nu_sig_mask]\\\n",
    "                  / tree_Event.query('mc_nu_lepton_py>0')['mc_nu_lepton_px'][nu_sig_mask] )\n",
    "denom1 = np.arctan( tree_Event.query('mc_nu_lepton_py<0 & mc_nu_lepton_px>0')['mc_nu_lepton_py'][nu_sig_mask]\\\n",
    "                  / tree_Event.query('mc_nu_lepton_py<0 & mc_nu_lepton_px>0')['mc_nu_lepton_px'][nu_sig_mask] ) + np.pi\n",
    "denom2 = np.arctan( tree_Event.query('mc_nu_lepton_py<0& mc_nu_lepton_px<0')['mc_nu_lepton_py'][nu_sig_mask]\\\n",
    "                  / tree_Event.query('mc_nu_lepton_py<0& mc_nu_lepton_px<0')['mc_nu_lepton_px'][nu_sig_mask] ) - np.pi\n",
    "\n",
    "nom = np.arctan( tree_Daughter_nuCC.query(query_event+'&mc_nu_lepton_py>0')['mc_nu_lepton_py']\\\n",
    "                / tree_Daughter_nuCC.query(query_event+'&mc_nu_lepton_py>0')['mc_nu_lepton_px'] )\n",
    "nom1 = np.arctan( tree_Daughter_nuCC.query(query_event+'&mc_nu_lepton_py<0 & mc_nu_lepton_px>0')['mc_nu_lepton_py']\\\n",
    "                / tree_Daughter_nuCC.query(query_event+'&mc_nu_lepton_py<0 & mc_nu_lepton_px>0')['mc_nu_lepton_px'] ) + np.pi\n",
    "nom2 = np.arctan( tree_Daughter_nuCC.query(query_event+'&mc_nu_lepton_py<0 & mc_nu_lepton_px<0')['mc_nu_lepton_py']\\\n",
    "                / tree_Daughter_nuCC.query(query_event+'&mc_nu_lepton_py<0 & mc_nu_lepton_px<0')['mc_nu_lepton_px'] ) - np.pi\n",
    "\n",
    "nom = nom.append(nom1)\n",
    "nom = nom.append(nom2)\n",
    "denom = denom.append(denom1)\n",
    "denom = denom.append(denom2)\n",
    "print nom.shape\n",
    "print denom.shape\n",
    "\n",
    "data = [denom, nom]\n",
    "edges, _, bins, _, _ = helper.histHelper(N,x_min,x_max,data)\n",
    "fraq = bins[1]/bins[0]\n",
    "err = np.sqrt( fraq*(1-fraq)/bins[0] )\n",
    "fraq= np.append(fraq,fraq[-1])\n",
    "err = np.append(err,err[-1]) \n",
    "ax[2].fill_between(edges, fraq - err, fraq + err, alpha=0.3, step='post')\n",
    "ax[2].set_xlabel(r'True lepton theta')\n",
    "ax[2].set_ylim(0,1)\n",
    "ax[2].set_xlim(x_min, x_max)\n",
    "ax[2].step(edges, fraq, where='post', label = r'Efficiency {0:0.1f}%, Purity: {1:0.1f}%'.format(eff*100,purity*100))\n",
    "ax[2].legend(loc='upper center')\n",
    "#ax[2].set_xticks(x_ticks)\n",
    "#ax[2].set_xticklabels(x_labels)\n",
    "'''\n",
    "\n",
    "fig.tight_layout()\n",
    "fig.savefig(outputdir+\"eff.pdf\", bbox_inches=\"tight\")\n",
    "fig.savefig(outputdir+\"eff.png\", bbox_inches=\"tight\")"
   ]
  },
  {
   "cell_type": "code",
   "execution_count": 14,
   "metadata": {},
   "outputs": [
    {
     "name": "stdout",
     "output_type": "stream",
     "text": [
      "The denominator (52066,)\n",
      "The nominator (22463,)\n",
      "The denominator (52066,)\n",
      "The nominator (22463,)\n",
      "The denominator (52066,)\n",
      "The nominator (22463,)\n"
     ]
    },
    {
     "name": "stderr",
     "output_type": "stream",
     "text": [
      "/home/tmettler/.local/lib/python2.7/site-packages/ipykernel_launcher.py:15: RuntimeWarning: invalid value encountered in true_divide\n",
      "  from ipykernel import kernelapp as app\n",
      "/home/tmettler/.local/lib/python2.7/site-packages/ipykernel_launcher.py:38: RuntimeWarning: invalid value encountered in true_divide\n",
      "/home/tmettler/.local/lib/python2.7/site-packages/ipykernel_launcher.py:60: RuntimeWarning: invalid value encountered in true_divide\n"
     ]
    },
    {
     "data": {
      "image/png": "[encoded data removed]",
      "text/plain": [
       "<Figure size 815.489x288 with 3 Axes>"
      ]
     },
     "metadata": {
      "needs_background": "light"
     },
     "output_type": "display_data"
    }
   ],
   "source": [
    "fig,ax=plt.subplots(ncols=3,nrows=1,figsize=(7*gr,4), sharey=True)\n",
    "#lower = [-1.55, -115.53, 0.1]\n",
    "#upper = [254.8, 117.47, 1036.9]\n",
    "purity = pur_final\n",
    "eff = eff_final\n",
    "x_min = -1.55\n",
    "x_max = 254.8\n",
    "N = 29\n",
    "denom = tree_Event['MCNu_Vx'][nu_sig_mask]\n",
    "print 'The denominator', denom.shape\n",
    "nom = tree_Event_nuCC.query(query_event)['MCNu_Vx']\n",
    "print 'The nominator', nom.shape\n",
    "data = [denom, nom]\n",
    "edges, _, bins, _, _ = helper.histHelper(N,x_min,x_max,data)\n",
    "fraq = bins[1]/bins[0]\n",
    "err = np.sqrt( fraq*(1-fraq)/bins[0] )\n",
    "fraq= np.append(fraq,fraq[-1])\n",
    "err = np.append(err,err[-1]) \n",
    "\n",
    "ax[0].fill_between(edges, fraq - err, fraq + err, alpha=0.3, step='post')\n",
    "ax[0].set_xlabel(r'True lepton vertex x [cm]')\n",
    "ax[0].set_ylabel('Efficiency')\n",
    "ax[0].set_ylim(0,1)\n",
    "ax[0].set_xlim(x_min, x_max)\n",
    "ax[0].step(edges, fraq, where='post', label = r'Efficiency {0:0.1f}%, Purity: {1:0.1f}%'.format(eff*100,purity*100))\n",
    "ax[0].legend(loc='upper center')\n",
    "\n",
    "# Right\n",
    "x_min = -115.53\n",
    "x_max = 117.47\n",
    "N = 29\n",
    "denom = tree_Event['MCNu_Vy'][nu_sig_mask]\n",
    "print 'The denominator', denom.shape\n",
    "nom = tree_Event_nuCC.query(query_event)['MCNu_Vy']\n",
    "print 'The nominator', nom.shape\n",
    "data = [denom, nom]\n",
    "edges, _, bins, _, _ = helper.histHelper(N,x_min,x_max,data)\n",
    "fraq = bins[1]/bins[0]\n",
    "err = np.sqrt( fraq*(1-fraq)/bins[0] )\n",
    "fraq= np.append(fraq,fraq[-1])\n",
    "err = np.append(err,err[-1]) \n",
    "\n",
    "ax[1].fill_between(edges, fraq - err, fraq + err, alpha=0.3, step='post')\n",
    "ax[1].set_xlabel(r'True lepton vertex y [cm]')\n",
    "ax[1].set_ylabel('Efficiency')\n",
    "ax[1].set_ylim(0,1)\n",
    "ax[1].set_xlim(x_min, x_max)\n",
    "ax[1].step(edges, fraq, where='post', label = r'Efficiency {0:0.1f}%, Purity: {1:0.1f}%'.format(eff*100,purity*100))\n",
    "ax[1].legend(loc='upper center')\n",
    "\n",
    "x_min = 0.1\n",
    "x_max = 1036.9\n",
    "N = 29\n",
    "denom = tree_Event['MCNu_Vz'][nu_sig_mask]\n",
    "print 'The denominator', denom.shape\n",
    "nom = tree_Event_nuCC.query(query_event)['MCNu_Vz']\n",
    "print 'The nominator', nom.shape\n",
    "data = [denom, nom]\n",
    "edges, _, bins, _, _ = helper.histHelper(N,x_min,x_max,data)\n",
    "fraq = bins[1]/bins[0]\n",
    "err = np.sqrt( fraq*(1-fraq)/bins[0] )\n",
    "fraq= np.append(fraq,fraq[-1])\n",
    "err = np.append(err,err[-1]) \n",
    "\n",
    "ax[2].fill_between(edges, fraq - err, fraq + err, alpha=0.3, step='post')\n",
    "ax[2].set_xlabel(r'True lepton vertex z [cm]')\n",
    "ax[2].set_ylabel('Efficiency')\n",
    "ax[2].set_ylim(0,1)\n",
    "ax[2].set_xlim(x_min, x_max)\n",
    "ax[2].step(edges, fraq, where='post', label = r'Efficiency {0:0.1f}%, Purity: {1:0.1f}%'.format(eff*100,purity*100))\n",
    "ax[2].legend(loc='upper center')\n",
    "\n",
    "fig.tight_layout()\n",
    "fig.savefig(outputdir+\"eff.pdf\", bbox_inches=\"tight\")\n",
    "fig.savefig(outputdir+\"eff.png\", bbox_inches=\"tight\")"
   ]
  },
  {
   "cell_type": "code",
   "execution_count": 15,
   "metadata": {},
   "outputs": [
    {
     "name": "stdout",
     "output_type": "stream",
     "text": [
      "NuScore\n",
      "NuPDG\n",
      "NumPfp_\n",
      "Nu_Vx\n",
      "Nu_Vy\n",
      "Nu_Vz\n",
      "Vx\n",
      "Vy\n",
      "Vz\n",
      "TrackScore\n",
      "VtxDistance\n",
      "TrackLength\n",
      "TrackPID_chiproton\n",
      "TrackPID_chipion\n",
      "TrackPID_chikaon\n",
      "TrackPID_chimuon\n",
      "NuTracks\n",
      "NuShowers\n",
      "MCNu_CCNC\n",
      "MCNu_PDG\n",
      "MCNu_Energy\n",
      "MCNu_LeptonEnergy\n",
      "MCNu_leptonTheta\n",
      "MCNu_Vx\n",
      "MCNu_Vy\n",
      "MCNu_Vz\n",
      "MCle_PDG\n",
      "MCle_Energy\n",
      "MCle_length\n",
      "mc_nu_fid_vol\n",
      "nu_sig_mask\n",
      "start_contained\n"
     ]
    }
   ],
   "source": [
    "#query_event = 'nu_pdg==14 & (flashMatchScore<10 | topologicalScore>0.4) & start_contained & muon_candidate & topologicalScore>0.087 & (flashMatchScore/bestCosmicMatch)<4 & track_length>30 & minCRTdist>15'\n",
    "for col in tree_Event_nuCC.columns: \n",
    "    print(col) "
   ]
  },
  {
   "cell_type": "code",
   "execution_count": 16,
   "metadata": {
    "scrolled": true
   },
   "outputs": [
    {
     "name": "stdout",
     "output_type": "stream",
     "text": [
      "Counter({13: 21158, 211: 421, 2212: 363, -13: 186, -1: 139, 2112: 123, -211: 55, 22: 15, 321: 3})\n",
      "Initial nues in fiducial volume: 52066\n",
      "Counter({13: 40573, 2212: 4136, -1: 3624, 211: 1577, 2112: 1214, 22: 371, -13: 314, -211: 224, 321: 19, 3222: 12, -11: 2})\n",
      "Initial nues in fiducial volume: 52066\n"
     ]
    }
   ],
   "source": [
    "import collections\n",
    "# 2212=proton , 211=Pi+, 11=electron, 2112=neutron, 321=K+, 22=gamma, 3222=sigma+\n",
    "counter=collections.Counter(tree_Event_nuCC.query(query_event)['MCle_PDG'])\n",
    "print(counter)\n",
    "print 'Initial nues in fiducial volume:', sum(tree_Event.eval('~MCNu_CCNC & abs(MCNu_PDG)==14 & mc_nu_fid_vol') )\n",
    "\n",
    "counter=collections.Counter(tree_Event_nuCC['MCle_PDG'])\n",
    "print(counter)\n",
    "print 'Initial nues in fiducial volume:', sum(tree_Event.eval('~MCNu_CCNC & abs(MCNu_PDG)==14 & mc_nu_fid_vol') )"
   ]
  },
  {
   "cell_type": "code",
   "execution_count": 17,
   "metadata": {},
   "outputs": [
    {
     "ename": "NameError",
     "evalue": "name 'tree_Daughter_nuCC' is not defined",
     "output_type": "error",
     "traceback": [
      "\u001b[0;31m\u001b[0m",
      "\u001b[0;31mNameError\u001b[0mTraceback (most recent call last)",
      "\u001b[0;32m<ipython-input-17-a2c6a231ba08>\u001b[0m in \u001b[0;36m<module>\u001b[0;34m()\u001b[0m\n\u001b[1;32m      6\u001b[0m \u001b[0;34m\u001b[0m\u001b[0m\n\u001b[1;32m      7\u001b[0m \u001b[0;31m#denom = tree_Event['mc_nu_lepton_energy'][nu_sig_mask]\u001b[0m\u001b[0;34m\u001b[0m\u001b[0;34m\u001b[0m\u001b[0m\n\u001b[0;32m----> 8\u001b[0;31m \u001b[0mdenom\u001b[0m \u001b[0;34m=\u001b[0m \u001b[0mtree_Daughter_nuCC\u001b[0m\u001b[0;34m.\u001b[0m\u001b[0mquery\u001b[0m\u001b[0;34m(\u001b[0m\u001b[0;34m'nu_sig_mask == 1 & muon_candidate'\u001b[0m\u001b[0;34m)\u001b[0m\u001b[0;34m[\u001b[0m\u001b[0;34m'track_chi2_proton'\u001b[0m\u001b[0;34m]\u001b[0m\u001b[0;34m\u001b[0m\u001b[0m\n\u001b[0m\u001b[1;32m      9\u001b[0m \u001b[0;31m#print (nu_sig_mask)\u001b[0m\u001b[0;34m\u001b[0m\u001b[0;34m\u001b[0m\u001b[0m\n\u001b[1;32m     10\u001b[0m \u001b[0;32mprint\u001b[0m \u001b[0;34m'The denominator'\u001b[0m\u001b[0;34m,\u001b[0m \u001b[0mdenom\u001b[0m\u001b[0;34m.\u001b[0m\u001b[0mshape\u001b[0m\u001b[0;34m\u001b[0m\u001b[0m\n",
      "\u001b[0;31mNameError\u001b[0m: name 'tree_Daughter_nuCC' is not defined"
     ]
    },
    {
     "data": {
      "image/png": "[encoded data removed]",
      "text/plain": [
       "<Figure size 640.741x288 with 2 Axes>"
      ]
     },
     "metadata": {
      "needs_background": "light"
     },
     "output_type": "display_data"
    }
   ],
   "source": [
    "fig,ax=plt.subplots(ncols=2,nrows=1,figsize=(5.5*gr,4), sharey=True)\n",
    "purity = 1\n",
    "x_min = 0\n",
    "x_max = 1000\n",
    "N = 19\n",
    "\n",
    "#denom = tree_Event['mc_nu_lepton_energy'][nu_sig_mask]\n",
    "denom = tree_Daughter_nuCC.query('nu_sig_mask == 1 & muon_candidate')['track_chi2_proton']\n",
    "#print (nu_sig_mask)\n",
    "print 'The denominator', denom.shape\n",
    "nom = tree_Daughter_nuCC.query(query_event)['track_chi2_proton']\n",
    "print 'The nominator', nom.shape\n",
    "data = [denom, nom]\n",
    "edges, _, bins, _, _ = helper.histHelper(N,x_min,x_max,data)\n",
    "fraq = bins[1]/bins[0]\n",
    "err = np.sqrt( fraq*(1-fraq)/bins[0] )\n",
    "fraq= np.append(fraq,fraq[-1])\n",
    "err = np.append(err,err[-1]) \n",
    "\n",
    "ax[0].fill_between(edges, fraq - err, fraq + err, alpha=0.3, step='post')\n",
    "ax[0].set_xlabel(r'track_chi2_proton')\n",
    "ax[0].set_ylabel('Efficiency')\n",
    "ax[0].set_ylim(0,1)\n",
    "ax[0].set_xlim(x_min, x_max)\n",
    "ax[0].step(edges, fraq, where='post', label = r'Efficiency {0:0.1f}%, Purity: {1:0.1f}%'.format(eff,purity*100))\n",
    "ax[0].legend(loc='upper center')\n",
    "\n",
    "# Right\n",
    "x_min = 0\n",
    "x_max = 100\n",
    "#denom = tree_Event['mc_nu_lepton_energy'][nu_sig_mask]\n",
    "denom = tree_Daughter_nuCC.query('nu_sig_mask == 1 & muon_candidate')['track_chi2_muon']\n",
    "#print (nu_sig_mask)\n",
    "print 'The denominator', denom.shape\n",
    "nom = tree_Daughter_nuCC.query(query_event)['track_chi2_muon']\n",
    "print 'The nominator', nom.shape\n",
    "data = [denom, nom]\n",
    "edges, _, bins, _, _ = helper.histHelper(N,x_min,x_max,data)\n",
    "fraq = bins[1]/bins[0]\n",
    "err = np.sqrt( fraq*(1-fraq)/bins[0] )\n",
    "fraq= np.append(fraq,fraq[-1])\n",
    "err = np.append(err,err[-1]) \n",
    "\n",
    "ax[1].fill_between(edges, fraq - err, fraq + err, alpha=0.3, step='post')\n",
    "ax[1].set_xlabel(r'track_chi2_muon')\n",
    "ax[1].set_ylabel('Efficiency')\n",
    "ax[1].set_ylim(0,1)\n",
    "ax[1].set_xlim(x_min, x_max)\n",
    "ax[1].step(edges, fraq, where='post', label = r'Efficiency {0:0.1f}%, Purity: {1:0.1f}%'.format(eff,purity*100))\n",
    "ax[1].legend(loc='upper center')\n",
    "\n",
    "\n",
    "\n",
    "fig.tight_layout()\n",
    "fig.savefig(outputdir+\"eff.pdf\", bbox_inches=\"tight\")\n",
    "fig.savefig(outputdir+\"eff.png\", bbox_inches=\"tight\")"
   ]
  },
  {
   "cell_type": "code",
   "execution_count": null,
   "metadata": {},
   "outputs": [],
   "source": [
    "import collections\n",
    "#a = tree_Daughter_nuCC.query(query_event)['mc_pdg']\n",
    "# 2212=proton , 211=Pi+, 11=electron, 2112=neutron, 321=K+, 22=gamma, 3222=sigma+\n",
    "counter=collections.Counter(tree_Daughter_nuCC.query(query_event)['mc_pdg'])\n",
    "print(counter)\n",
    "\n",
    "print 'Initial nues in fiducial volume:', sum(tree_Event.eval('~mc_nu_ccnc & abs(mc_nu_pdg)==12 & mc_nu_fid_vol') )"
   ]
  },
  {
   "cell_type": "code",
   "execution_count": null,
   "metadata": {},
   "outputs": [],
   "source": [
    "for key in tree_Daughter_nuCC.columns: \n",
    "    print key\n",
    "    if (key!='has_shower_daughter' and key!='is_track_daughter' and key!='track_mcs_err' and key!='track_mcs_ll') :\n",
    "        plt.hist(tree_Daughter_nuCC.query(query_event)[key.decode(\"utf-8\")], bins=50)\n",
    "        plt.xlabel(key.decode(\"utf-8\"))\n",
    "        plt.show()"
   ]
  },
  {
   "cell_type": "code",
   "execution_count": null,
   "metadata": {},
   "outputs": [],
   "source": []
  },
  {
   "cell_type": "code",
   "execution_count": null,
   "metadata": {},
   "outputs": [],
   "source": []
  },
  {
   "cell_type": "code",
   "execution_count": null,
   "metadata": {},
   "outputs": [],
   "source": []
  },
  {
   "cell_type": "code",
   "execution_count": null,
   "metadata": {},
   "outputs": [],
   "source": []
  },
  {
   "cell_type": "code",
   "execution_count": null,
   "metadata": {},
   "outputs": [],
   "source": []
  }
 ],
 "metadata": {
  "kernelspec": {
   "display_name": "Python 2",
   "language": "python",
   "name": "python2"
  },
  "language_info": {
   "codemirror_mode": {
    "name": "ipython",
    "version": 2
   },
   "file_extension": ".py",
   "mimetype": "text/x-python",
   "name": "python",
   "nbconvert_exporter": "python",
   "pygments_lexer": "ipython2",
   "version": "2.7.12"
  }
 },
 "nbformat": 4,
 "nbformat_minor": 2
}
