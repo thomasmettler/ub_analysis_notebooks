{
 "cells": [
  {
   "cell_type": "code",
   "execution_count": 1,
   "metadata": {},
   "outputs": [
    {
     "name": "stdout",
     "output_type": "stream",
     "text": [
      "Welcome to JupyROOT 6.10/08\n"
     ]
    }
   ],
   "source": [
    "import uproot\n",
    "import matplotlib.pyplot as plt\n",
    "import matplotlib.image as mpimg\n",
    "import numpy as np\n",
    "import pandas as pd\n",
    "import os\n",
    "import ROOT\n",
    "import time\n",
    "import math\n",
    "import helpfunction as helper\n",
    "from __future__ import division\n",
    "\n",
    "import collections\n",
    "import NuCC_function as NuCC"
   ]
  },
  {
   "cell_type": "code",
   "execution_count": 2,
   "metadata": {},
   "outputs": [
    {
     "name": "stderr",
     "output_type": "stream",
     "text": [
      "Warning in <TCanvas::Constructor>: Deleting canvas with same name: c1\n"
     ]
    }
   ],
   "source": [
    "# initialte ROOT default canvas\n",
    "ROOT.gStyle.SetOptStat(0)\n",
    "c1 = ROOT.TCanvas(\"c1\",\"c1\",1600,1200)\n",
    "c1.SetGrid(1)\n",
    "c1.SetLeftMargin(0.14)\n",
    "c1.SetRightMargin(0.18)\n",
    "c1.SetBottomMargin(0.14)"
   ]
  },
  {
   "cell_type": "markdown",
   "metadata": {},
   "source": [
    "# CRTinBNB tagger, Overlay or MC"
   ]
  },
  {
   "cell_type": "code",
   "execution_count": 3,
   "metadata": {},
   "outputs": [],
   "source": [
    "# Load input files\n",
    "\n",
    "inputdir = '/home/tmettler/Desktop/ub_data/mcc9.1/v08_00_00_17/'\n",
    "outputdir = inputdir+'NumuCC_crtcut_V/' \n",
    "outputdir_png, outputdir_root = NuCC.prepareOutput(outputdir)\n",
    "\n",
    "filename_overlay = 'NuCCana_overlay_V.root'\n",
    "filename_data = 'NuCCana_data_V.root'\n",
    "filename_ext = 'NuCCana_ext_V.root'\n",
    "filename_dirt = 'NuCCana_dirt_V.root'\n",
    "    \n",
    "tree_name = 'numuCCAna'"
   ]
  },
  {
   "cell_type": "code",
   "execution_count": 4,
   "metadata": {},
   "outputs": [
    {
     "name": "stdout",
     "output_type": "stream",
     "text": [
      "Overlay: Number of Entries:\t966222\n",
      "Data: Number of Entries:\t34835\n",
      "Ext: Number of Entries:\t\t263935\n",
      "Dirt: Number of Entries:\t96465\n",
      "\n",
      "POT: \n",
      "Data:\t\t8.039e+18\n",
      "Ext:\t\t0\n",
      "Overlay:\t1.21058333557e+21\n",
      "Dirt:\t\t2.9866803255e+20\n",
      "\n",
      "Scalefactors: \n",
      "Data:\t\t1.0\n",
      "Ext:\t\t0.0858482195172\n",
      "Overlay:\t0.00863278032409\n",
      "Dirt:\t\t0.0349910230123\n"
     ]
    },
    {
     "name": "stderr",
     "output_type": "stream",
     "text": [
      "Warning in <TClass::Init>: no dictionary for class ROOT::TIOFeatures is available\n"
     ]
    }
   ],
   "source": [
    "#Open all the trees of the four files (data, ext, dirt, overlay)\n",
    "\n",
    "data, ext, dirt, overlay = NuCC.openTrees(inputdir, filename_data, filename_ext, filename_dirt, filename_overlay, tree_name)\n",
    "NuCC.printNumberOfEntries(data,ext,dirt,overlay)\n",
    "\n",
    "pot_overlay = NuCC.getPOT(inputdir,filename_overlay,tree_name)\n",
    "pot_dirt =  NuCC.getPOT(inputdir,filename_dirt,tree_name)\n",
    "\n",
    "pot_data =      8.039e+18 # tor860_wcut\n",
    "data_trigger = 1942081.0 #4743794 # 1987072.0 # E1DCNT_wcut\n",
    "ext_trigger =  22622263.0  #2120135 #5685315 # EXT\n",
    "'''\n",
    "pot_data =     1.25795274297e+18# tor860_wcut\n",
    "data_trigger = 1359818.0*0.4 # E1DCNT\n",
    "ext_trigger =  1359818.0  #2120135 #5685315 # EXT\n",
    "pot_overlay = 1.25795274297e+18/0.5\n",
    "pot_dirt = 1.25795274297e18/0.04\n",
    "'''\n",
    "print 'POT: '\n",
    "print 'Data:\\t\\t', pot_data\n",
    "print 'Ext:\\t\\t', 0\n",
    "print 'Overlay:\\t', pot_overlay\n",
    "print 'Dirt:\\t\\t', pot_dirt\n",
    "print ''\n",
    "sample = [data,ext,overlay,dirt]\n",
    "scale = {data:1.0,ext:1.0,overlay:1.0,dirt:1.0}\n",
    "name = {data:'data',ext:'ext',overlay:'overlay',dirt:'dirt'}\n",
    "\n",
    "scale[data], scale[ext], scale[dirt], scale[overlay] = NuCC.calculateScale(data_trigger, ext_trigger, pot_data, pot_dirt, pot_overlay)\n",
    "\n",
    "scale[dirt] = scale[dirt]*1.3\n",
    "scale[overlay] = scale[overlay]*1.3\n",
    "\n",
    "print 'Scalefactors: '\n",
    "print 'Data:\\t\\t', scale[data]\n",
    "print 'Ext:\\t\\t', scale[ext]\n",
    "print 'Overlay:\\t', scale[overlay]\n",
    "print 'Dirt:\\t\\t', scale[dirt]\n"
   ]
  },
  {
   "cell_type": "code",
   "execution_count": 5,
   "metadata": {},
   "outputs": [
    {
     "name": "stdout",
     "output_type": "stream",
     "text": [
      "Overlay: Number of Entries:\t966221\n",
      "Data: Number of Entries:\t34834\n",
      "Ext: Number of Entries:\t\t263934\n",
      "Dirt: Number of Entries:\t96464\n",
      "\n"
     ]
    }
   ],
   "source": [
    "\n",
    "filename_overlay = 'NuCCana_overlay_V.rootout.root'\n",
    "filename_data = 'NuCCana_data_V.rootout.root'\n",
    "filename_ext = 'NuCCana_ext_V.rootout.root'\n",
    "filename_dirt = 'NuCCana_dirt_V.rootout.root'\n",
    "    \n",
    "tree_name = 't_out'\n",
    "\n",
    "data, ext, dirt, overlay = NuCC.openTreesOut(inputdir, filename_data, filename_ext, filename_dirt, filename_overlay, tree_name)\n",
    "NuCC.printNumberOfEntries(data,ext,dirt,overlay)\n",
    "\n",
    "sample = [data,ext,overlay,dirt]\n",
    "scale = {data:1.0,ext:1.0,overlay:1.0,dirt:1.0}\n",
    "name = {data:'data',ext:'ext',overlay:'overlay',dirt:'dirt'}\n",
    "\n",
    "scale[data], scale[ext], scale[dirt], scale[overlay] = NuCC.calculateScale(data_trigger, ext_trigger, pot_data, pot_dirt, pot_overlay)\n",
    "scale[dirt] = scale[dirt]*1.3\n",
    "scale[overlay] = scale[overlay]*1.3\n"
   ]
  },
  {
   "cell_type": "code",
   "execution_count": 6,
   "metadata": {},
   "outputs": [],
   "source": [
    "# Define signals\n",
    "\n",
    "fidVol = '(Nu_Vx>(-1.55+10) && Nu_Vx<(254.8-10)) && (Nu_Vy>(-115.53+10) && Nu_Vy<(117.47-10)) &&(Nu_Vz>(-0.1+10) && Nu_Vz<(1036.9-50))'\n",
    "MCfidVol = '(MCNu_Vx>(-1.55+10) && MCNu_Vx<(254.8-10)) && (MCNu_Vy>(-115.53+10) && MCNu_Vy<(117.47-10)) &&(MCNu_Vz>(-0.1+10) && MCNu_Vz<(1036.9-50))'\n",
    "numu_signal = 'fidVol && MCfidVol && MCNu_CCNC==0 && MCNu_PDG==14 && MCle_PDG==13 && MCle_purity>0.5' # numu CC signal definition\n",
    "numu_nomu = 'fidVol && MCfidVol && MCNu_CCNC==0 && MCNu_PDG==14 && MCle_PDG!=13 && MCle_purity>0.5' # not an MC muon\n",
    "numu_lowpur = 'fidVol && MCfidVol && MCNu_CCNC==0 && MCNu_PDG==14 && MCle_purity<0.5' #low purity\n",
    "numu_nc = 'fidVol && MCfidVol && MCNu_CCNC==1' # nutral current\n",
    "numu_ov = 'fidVol && !MCfidVol' # out of fiducial\n",
    "numu_other = 'fidVol && MCfidVol && MCNu_CCNC==0 && MCNu_PDG!=14' # e.g anti nu or nue\n",
    "#signal = 'MCfidVol && MCNu_CCNC==0 && MCNu_PDG==14'\n",
    "for x in sample:\n",
    "    x.SetAlias('muon','(muon_candidate_key==track_key)')\n",
    "    \n",
    "num_fidVol = {}\n",
    "for x in sample:\n",
    "    x.SetAlias('fidVol',fidVol)\n",
    "    x.SetAlias('MCfidVol',MCfidVol)\n",
    "    x.SetAlias('numu_signal',numu_signal)\n",
    "    x.SetAlias('numu_nomu',numu_nomu)\n",
    "    x.SetAlias('numu_lowpur',numu_lowpur)\n",
    "    x.SetAlias('numu_nc',numu_nc)\n",
    "    x.SetAlias('numu_ov',numu_ov)\n",
    "    x.SetAlias('numu_other',numu_other)\n",
    "    num_fidVol[x] = x.GetEntries('fidVol && muon')*scale[x]\n",
    "    \n",
    "tot_num_fidVol = num_fidVol[ext]+num_fidVol[dirt]+num_fidVol[overlay]\n",
    "overlay_signals = {'numu_signal','numu_nomu','numu_lowpur','numu_nc','numu_ov','numu_other'}"
   ]
  },
  {
   "cell_type": "code",
   "execution_count": 7,
   "metadata": {},
   "outputs": [
    {
     "name": "stderr",
     "output_type": "stream",
     "text": [
      "Warning in <TCanvas::Constructor>: Deleting canvas with same name: c1\n"
     ]
    }
   ],
   "source": [
    "# Load the global variables for access of functions\n",
    "\n",
    "NuCC.loadGlobal(data,ext,dirt,overlay,scale,tot_num_fidVol,overlay_signals,sample, name, outputdir_png, outputdir_root)\n",
    "#NuCC.printGlobal()"
   ]
  },
  {
   "cell_type": "code",
   "execution_count": 8,
   "metadata": {},
   "outputs": [],
   "source": [
    "# Print initial efficiency and purity\n",
    "\n",
    "#NuCC.printEff('muon')"
   ]
  },
  {
   "cell_type": "code",
   "execution_count": 9,
   "metadata": {},
   "outputs": [],
   "source": [
    "# initialte ROOT default canvas\n",
    "ROOT.gStyle.SetOptStat(0)\n",
    "c1 = ROOT.TCanvas(\"c1\",\"c1\",1600,1200)\n",
    "c1.SetGrid(1)\n",
    "c1.SetLeftMargin(0.14)\n",
    "c1.SetRightMargin(0.18)\n",
    "c1.SetBottomMargin(0.14)"
   ]
  },
  {
   "cell_type": "code",
   "execution_count": 10,
   "metadata": {},
   "outputs": [
    {
     "data": {
      "text/plain": [
       "True"
      ]
     },
     "execution_count": 10,
     "metadata": {},
     "output_type": "execute_result"
    }
   ],
   "source": [
    "# Define CRT cut\n",
    "\n",
    "data.SetAlias(\"crt_cut\",\"(abs(crtt0_time-(69000-crt_trig_corr_med)/1000-4)<0.8 || crtt0_time==-1)\")\n",
    "ext.SetAlias(\"crt_cut\",\"(abs(crtt0_time-(69000-crt_trig_corr_med)/1000-3.57+3.195-4)<0.8 || crtt0_time==-1)\")\n",
    "overlay.SetAlias(\"crt_cut\",\"(abs(crtt0_time-4)<0.8 || crtt0_time==-1)\")\n",
    "dirt.SetAlias(\"crt_cut\",\"(abs(crtt0_time-4)<0.8 || crtt0_time==-1)\")\n",
    "\n",
    "track_start_border_x = '(TrackStart_x <(-1.55+5) || TrackStart_x > (254.8-5))'\n",
    "track_end_border_x = '(TrackEnd_x <(-1.55+5) || TrackEnd_x > (254.8-5))'\n",
    "track_start_border_y = '(TrackStart_y <(-115.53+5) || TrackStart_y > (117.47-5))'\n",
    "track_end_border_y = '(TrackEnd_y <(-115.53+5) || TrackEnd_y > (117.47-5))'\n",
    "track_start_border_z = '(TrackStart_z <(0.1+5) || TrackStart_z > (1036.9-5))'\n",
    "track_end_border_z = '(TrackEnd_z <(0.1+5) || TrackEnd_z > (1039.9-5))'\n",
    "\n",
    "track_end_uncontained = track_end_border_x + ' || ' + track_end_border_y + ' || ' + track_end_border_z\n",
    "\n",
    "\n",
    "data.SetAlias(\"track_end_uncontained\",track_end_uncontained)\n",
    "ext.SetAlias(\"track_end_uncontained\",track_end_uncontained)\n",
    "overlay.SetAlias(\"track_end_uncontained\",track_end_uncontained)\n",
    "dirt.SetAlias(\"track_end_uncontained\",track_end_uncontained)\n",
    "\n"
   ]
  },
  {
   "cell_type": "code",
   "execution_count": 11,
   "metadata": {},
   "outputs": [
    {
     "name": "stdout",
     "output_type": "stream",
     "text": [
      "Rejection on each sample:\n",
      "Keep of    data:\t100.00%\t reject:\t0.00%\n",
      "Keep of     ext:\t100.00%\t reject:\t0.00%\n",
      "Keep of overlay:\t100.00%\t reject:\t0.00%\n",
      "Keep of    dirt:\t100.00%\t reject:\t0.00%\n",
      "\n",
      "Efficiency:\t\t100.00%\n",
      "Purity:\t\t\t33.35%\n",
      "Purity*Efficiency\t33.35\n",
      "\n",
      "Amount of    data:\t107.74%\n",
      "Amount of     ext:\t37.00%\n",
      "Amount of overlay:\t57.91%\n",
      "Amount of    dirt:\t5.09%\n",
      "\n",
      "Signal definition=  numu_lowpur: 2.10%\t(3.63%)\n",
      "Signal definition=   numu_other: 0.48%\t(0.83%)\n",
      "Signal definition=    numu_nomu: 4.34%\t(7.50%)\n",
      "Signal definition=      numu_ov: 10.79%\t(18.64%)\n",
      "Signal definition=  numu_signal: 33.35%\t(57.58%)\n",
      "Signal definition=      numu_nc: 6.83%\t(11.80%)\n"
     ]
    }
   ],
   "source": [
    "NuCC.printEff('fidVol && muon')"
   ]
  },
  {
   "cell_type": "code",
   "execution_count": 11,
   "metadata": {},
   "outputs": [
    {
     "name": "stderr",
     "output_type": "stream",
     "text": [
      "Warning in <TCanvas::Constructor>: Deleting canvas with same name: c1\n",
      "Info in <TCanvas::Print>: png file /home/tmettler/Desktop/ub_data/mcc9.1/v08_00_00_17/NumuCC_crtcut_V//png/CRTTime_corr.png has been created\n",
      "Info in <TCanvas::SaveAs>: ROOT file /home/tmettler/Desktop/ub_data/mcc9.1/v08_00_00_17/NumuCC_crtcut_V//root/CRTTime_corr.root has been created\n",
      "Warning in <TROOT::Append>: Replacing existing TH1: h_ext_func (Potential memory leak).\n",
      "Warning in <TROOT::Append>: Replacing existing TH1: h_dirt_func (Potential memory leak).\n",
      "Warning in <TROOT::Append>: Replacing existing TH1: numu_lowpur (Potential memory leak).\n",
      "Warning in <TROOT::Append>: Replacing existing TH1: numu_other (Potential memory leak).\n",
      "Warning in <TROOT::Append>: Replacing existing TH1: numu_nomu (Potential memory leak).\n",
      "Warning in <TROOT::Append>: Replacing existing TH1: numu_ov (Potential memory leak).\n",
      "Warning in <TROOT::Append>: Replacing existing TH1: numu_signal (Potential memory leak).\n",
      "Warning in <TROOT::Append>: Replacing existing TH1: numu_nc (Potential memory leak).\n",
      "Warning in <TCanvas::Constructor>: Deleting canvas with same name: c1\n",
      "Info in <TCanvas::Print>: png file /home/tmettler/Desktop/ub_data/mcc9.1/v08_00_00_17/NumuCC_crtcut_V//png/CRTTime_corr_cont.png has been created\n",
      "Info in <TCanvas::SaveAs>: ROOT file /home/tmettler/Desktop/ub_data/mcc9.1/v08_00_00_17/NumuCC_crtcut_V//root/CRTTime_corr_cont.root has been created\n",
      "Warning in <TROOT::Append>: Replacing existing TH1: h_ext_func (Potential memory leak).\n",
      "Warning in <TROOT::Append>: Replacing existing TH1: h_dirt_func (Potential memory leak).\n",
      "Warning in <TROOT::Append>: Replacing existing TH1: numu_lowpur (Potential memory leak).\n",
      "Warning in <TROOT::Append>: Replacing existing TH1: numu_other (Potential memory leak).\n",
      "Warning in <TROOT::Append>: Replacing existing TH1: numu_nomu (Potential memory leak).\n",
      "Warning in <TROOT::Append>: Replacing existing TH1: numu_ov (Potential memory leak).\n",
      "Warning in <TROOT::Append>: Replacing existing TH1: numu_signal (Potential memory leak).\n",
      "Warning in <TROOT::Append>: Replacing existing TH1: numu_nc (Potential memory leak).\n",
      "Warning in <TCanvas::Constructor>: Deleting canvas with same name: c1\n",
      "Info in <TCanvas::Print>: png file /home/tmettler/Desktop/ub_data/mcc9.1/v08_00_00_17/NumuCC_crtcut_V//png/CRTTime_corr_uncont.png has been created\n",
      "Info in <TCanvas::SaveAs>: ROOT file /home/tmettler/Desktop/ub_data/mcc9.1/v08_00_00_17/NumuCC_crtcut_V//root/CRTTime_corr_uncont.root has been created\n"
     ]
    },
    {
     "data": {
      "image/png": "[encoded data removed]",
      "text/plain": [
       "<IPython.core.display.Image object>"
      ]
     },
     "metadata": {},
     "output_type": "display_data"
    }
   ],
   "source": [
    "NuCC.make_stacked_histo_plot_crtcorr('fidVol && muon','crthit_ts0','CRT hit time [us]',2.3,5.9,40,'CRTTime_corr')\n",
    "NuCC.make_stacked_histo_plot_crtcorr('fidVol && muon && !track_end_uncontained','crthit_ts0','CRT hit time [us]',2.3,5.9,40,'CRTTime_corr_cont')\n",
    "NuCC.make_stacked_histo_plot_crtcorr('fidVol && muon && track_end_uncontained','crthit_ts0','CRT hit time [us]',2.3,5.9,40,'CRTTime_corr_uncont')"
   ]
  },
  {
   "cell_type": "code",
   "execution_count": 30,
   "metadata": {},
   "outputs": [
    {
     "name": "stdout",
     "output_type": "stream",
     "text": [
      "Rejection on each sample:\n",
      "Keep of    data:\t100.00%\t reject:\t0.00%\n",
      "Keep of     ext:\t100.00%\t reject:\t0.00%\n",
      "Keep of overlay:\t100.00%\t reject:\t0.00%\n",
      "Keep of    dirt:\t100.00%\t reject:\t0.00%\n",
      "\n",
      "Efficiency:\t\t100.00%\n",
      "Purity:\t\t\t33.35%\n",
      "Purity*Efficiency\t33.35\n",
      "\n",
      "Amount of    data:\t107.74%\n",
      "Amount of     ext:\t37.00%\n",
      "Amount of overlay:\t57.91%\n",
      "Amount of    dirt:\t5.09%\n",
      "\n",
      "Signal definition=  numu_lowpur: 2.10%\t(3.63%)\n",
      "Signal definition=   numu_other: 0.48%\t(0.83%)\n",
      "Signal definition=    numu_nomu: 4.34%\t(7.50%)\n",
      "Signal definition=      numu_ov: 10.79%\t(18.64%)\n",
      "Signal definition=  numu_signal: 33.35%\t(57.58%)\n",
      "Signal definition=      numu_nc: 6.83%\t(11.80%)\n"
     ]
    }
   ],
   "source": [
    "NuCC.printEff('fidVol && muon')"
   ]
  },
  {
   "cell_type": "code",
   "execution_count": 31,
   "metadata": {},
   "outputs": [
    {
     "name": "stdout",
     "output_type": "stream",
     "text": [
      "Rejection on each sample:\n",
      "Keep of    data:\t61.27%\t reject:\t38.73%\n",
      "Keep of     ext:\t57.53%\t reject:\t42.47%\n",
      "Keep of overlay:\t62.80%\t reject:\t37.20%\n",
      "Keep of    dirt:\t65.67%\t reject:\t34.33%\n",
      "\n",
      "Efficiency:\t\t52.83%\n",
      "Purity:\t\t\t28.88%\n",
      "Purity*Efficiency\t15.26\n",
      "\n",
      "Amount of    data:\t108.23%\n",
      "Amount of     ext:\t34.89%\n",
      "Amount of overlay:\t59.62%\n",
      "Amount of    dirt:\t5.48%\n",
      "\n",
      "Signal definition=  numu_lowpur: 2.29%\t(3.84%)\n",
      "Signal definition=   numu_other: 0.54%\t(0.90%)\n",
      "Signal definition=    numu_nomu: 6.43%\t(10.79%)\n",
      "Signal definition=      numu_ov: 11.34%\t(19.02%)\n",
      "Signal definition=  numu_signal: 28.88%\t(48.44%)\n",
      "Signal definition=      numu_nc: 10.12%\t(16.98%)\n"
     ]
    }
   ],
   "source": [
    "NuCC.printEff('fidVol && muon && !track_end_uncontained')"
   ]
  },
  {
   "cell_type": "code",
   "execution_count": 32,
   "metadata": {},
   "outputs": [
    {
     "name": "stdout",
     "output_type": "stream",
     "text": [
      "Rejection on each sample:\n",
      "Keep of    data:\t38.73%\t reject:\t61.27%\n",
      "Keep of     ext:\t42.47%\t reject:\t57.53%\n",
      "Keep of overlay:\t37.20%\t reject:\t62.80%\n",
      "Keep of    dirt:\t34.33%\t reject:\t65.67%\n",
      "\n",
      "Efficiency:\t\t47.17%\n",
      "Purity:\t\t\t40.33%\n",
      "Purity*Efficiency\t19.02\n",
      "\n",
      "Amount of    data:\t106.99%\n",
      "Amount of     ext:\t40.29%\n",
      "Amount of overlay:\t55.23%\n",
      "Amount of    dirt:\t4.48%\n",
      "\n",
      "Signal definition=  numu_lowpur: 1.80%\t(3.27%)\n",
      "Signal definition=   numu_other: 0.40%\t(0.72%)\n",
      "Signal definition=    numu_nomu: 1.07%\t(1.95%)\n",
      "Signal definition=      numu_ov: 9.94%\t(18.00%)\n",
      "Signal definition=  numu_signal: 40.33%\t(73.02%)\n",
      "Signal definition=      numu_nc: 1.69%\t(3.06%)\n"
     ]
    }
   ],
   "source": [
    "NuCC.printEff('fidVol && muon && track_end_uncontained')"
   ]
  },
  {
   "cell_type": "code",
   "execution_count": 27,
   "metadata": {},
   "outputs": [
    {
     "name": "stdout",
     "output_type": "stream",
     "text": [
      "Rejection on each sample:\n",
      "Keep of    data:\t100.00%\t reject:\t0.00%\n",
      "Keep of     ext:\t100.00%\t reject:\t0.00%\n",
      "Keep of overlay:\t100.00%\t reject:\t0.00%\n",
      "Keep of    dirt:\t100.00%\t reject:\t0.00%\n",
      "\n",
      "Efficiency:\t\t100.00%\n",
      "Purity:\t\t\t28.88%\n",
      "Purity*Efficiency\t28.88\n",
      "\n",
      "Amount of    data:\t108.23%\n",
      "Amount of     ext:\t34.89%\n",
      "Amount of overlay:\t59.62%\n",
      "Amount of    dirt:\t5.48%\n",
      "\n",
      "Signal definition=  numu_lowpur: 2.29%\t(3.84%)\n",
      "Signal definition=   numu_other: 0.54%\t(0.90%)\n",
      "Signal definition=    numu_nomu: 6.43%\t(10.79%)\n",
      "Signal definition=      numu_ov: 11.34%\t(19.02%)\n",
      "Signal definition=  numu_signal: 28.88%\t(48.44%)\n",
      "Signal definition=      numu_nc: 10.12%\t(16.98%)\n"
     ]
    }
   ],
   "source": [
    "NuCC.printEff_sample('fidVol && muon','!track_end_uncontained &&')"
   ]
  },
  {
   "cell_type": "code",
   "execution_count": 28,
   "metadata": {},
   "outputs": [
    {
     "name": "stdout",
     "output_type": "stream",
     "text": [
      "Rejection on each sample:\n",
      "Keep of    data:\t100.00%\t reject:\t0.00%\n",
      "Keep of     ext:\t100.00%\t reject:\t0.00%\n",
      "Keep of overlay:\t100.00%\t reject:\t0.00%\n",
      "Keep of    dirt:\t100.00%\t reject:\t0.00%\n",
      "\n",
      "Efficiency:\t\t100.00%\n",
      "Purity:\t\t\t40.33%\n",
      "Purity*Efficiency\t40.33\n",
      "\n",
      "Amount of    data:\t106.99%\n",
      "Amount of     ext:\t40.29%\n",
      "Amount of overlay:\t55.23%\n",
      "Amount of    dirt:\t4.48%\n",
      "\n",
      "Signal definition=  numu_lowpur: 1.80%\t(3.27%)\n",
      "Signal definition=   numu_other: 0.40%\t(0.72%)\n",
      "Signal definition=    numu_nomu: 1.07%\t(1.95%)\n",
      "Signal definition=      numu_ov: 9.94%\t(18.00%)\n",
      "Signal definition=  numu_signal: 40.33%\t(73.02%)\n",
      "Signal definition=      numu_nc: 1.69%\t(3.06%)\n"
     ]
    }
   ],
   "source": [
    "NuCC.printEff_sample('fidVol && muon','track_end_uncontained &&')"
   ]
  },
  {
   "cell_type": "code",
   "execution_count": 29,
   "metadata": {},
   "outputs": [
    {
     "name": "stdout",
     "output_type": "stream",
     "text": [
      "Rejection on each sample:\n",
      "Keep of    data:\t68.38%\t reject:\t31.62%\n",
      "Keep of     ext:\t52.23%\t reject:\t47.77%\n",
      "Keep of overlay:\t89.16%\t reject:\t10.84%\n",
      "Keep of    dirt:\t70.89%\t reject:\t29.11%\n",
      "\n",
      "Efficiency:\t\t93.63%\n",
      "Purity:\t\t\t35.93%\n",
      "Purity*Efficiency\t33.64\n",
      "\n",
      "Amount of    data:\t98.31%\n",
      "Amount of     ext:\t24.21%\n",
      "Amount of overlay:\t70.63%\n",
      "Amount of    dirt:\t5.16%\n",
      "\n",
      "Signal definition=  numu_lowpur: 2.56%\t(3.63%)\n",
      "Signal definition=   numu_other: 0.67%\t(0.95%)\n",
      "Signal definition=    numu_nomu: 6.76%\t(9.57%)\n",
      "Signal definition=      numu_ov: 11.84%\t(16.76%)\n",
      "Signal definition=  numu_signal: 35.93%\t(50.87%)\n",
      "Signal definition=      numu_nc: 12.85%\t(18.20%)\n"
     ]
    }
   ],
   "source": [
    "NuCC.printEff_sample('fidVol && muon && nr_crthit_beam<1','!track_end_uncontained &&')"
   ]
  },
  {
   "cell_type": "code",
   "execution_count": 15,
   "metadata": {},
   "outputs": [
    {
     "name": "stdout",
     "output_type": "stream",
     "text": [
      "Rejection on each sample:\n",
      "Keep of    data:\t99.80%\t reject:\t0.20%\n",
      "Keep of     ext:\t99.86%\t reject:\t0.14%\n",
      "Keep of overlay:\t99.80%\t reject:\t0.20%\n",
      "Keep of    dirt:\t99.44%\t reject:\t0.56%\n",
      "\n",
      "Efficiency:\t\t99.96%\n",
      "Purity:\t\t\t30.06%\n",
      "Purity*Efficiency\t30.05\n",
      "\n",
      "Amount of    data:\t126.06%\n",
      "Amount of     ext:\t43.31%\n",
      "Amount of overlay:\t52.12%\n",
      "Amount of    dirt:\t4.57%\n",
      "\n",
      "Signal definition=  numu_lowpur: 1.89%\t(3.63%)\n",
      "Signal definition=   numu_other: 0.43%\t(0.83%)\n",
      "Signal definition=    numu_nomu: 3.91%\t(7.51%)\n",
      "Signal definition=      numu_ov: 9.65%\t(18.52%)\n",
      "Signal definition=  numu_signal: 30.06%\t(57.67%)\n",
      "Signal definition=      numu_nc: 6.16%\t(11.82%)\n"
     ]
    }
   ],
   "source": [
    "NuCC.printEff('muon && nr_crthit_beam<6')"
   ]
  },
  {
   "cell_type": "code",
   "execution_count": 16,
   "metadata": {},
   "outputs": [
    {
     "name": "stdout",
     "output_type": "stream",
     "text": [
      "Rejection on each sample:\n",
      "Keep of    data:\t93.25%\t reject:\t6.75%\n",
      "Keep of     ext:\t91.38%\t reject:\t8.62%\n",
      "Keep of overlay:\t96.52%\t reject:\t3.48%\n",
      "Keep of    dirt:\t94.56%\t reject:\t5.44%\n",
      "\n",
      "Efficiency:\t\t97.63%\n",
      "Purity:\t\t\t31.11%\n",
      "Purity*Efficiency\t30.37\n",
      "\n",
      "Amount of    data:\t124.80%\n",
      "Amount of     ext:\t41.99%\n",
      "Amount of overlay:\t53.41%\n",
      "Amount of    dirt:\t4.60%\n",
      "\n",
      "Signal definition=  numu_lowpur: 1.70%\t(3.19%)\n",
      "Signal definition=   numu_other: 0.45%\t(0.84%)\n",
      "Signal definition=    numu_nomu: 4.07%\t(7.61%)\n",
      "Signal definition=      numu_ov: 9.68%\t(18.13%)\n",
      "Signal definition=  numu_signal: 31.11%\t(58.25%)\n",
      "Signal definition=      numu_nc: 6.39%\t(11.96%)\n"
     ]
    }
   ],
   "source": [
    "NuCC.printEff('muon && nr_track_asso_out_uncon<1')"
   ]
  },
  {
   "cell_type": "code",
   "execution_count": 17,
   "metadata": {},
   "outputs": [
    {
     "name": "stdout",
     "output_type": "stream",
     "text": [
      "Rejection on each sample:\n",
      "Keep of    data:\t82.87%\t reject:\t17.13%\n",
      "Keep of     ext:\t76.96%\t reject:\t23.04%\n",
      "Keep of overlay:\t89.71%\t reject:\t10.29%\n",
      "Keep of    dirt:\t82.93%\t reject:\t17.07%\n",
      "\n",
      "Efficiency:\t\t93.13%\n",
      "Purity:\t\t\t33.33%\n",
      "Purity*Efficiency\t31.03\n",
      "\n",
      "Amount of    data:\t124.56%\n",
      "Amount of     ext:\t39.72%\n",
      "Amount of overlay:\t55.75%\n",
      "Amount of    dirt:\t4.53%\n",
      "\n",
      "Signal definition=  numu_lowpur: 1.40%\t(2.51%)\n",
      "Signal definition=   numu_other: 0.48%\t(0.86%)\n",
      "Signal definition=    numu_nomu: 4.30%\t(7.71%)\n",
      "Signal definition=      numu_ov: 9.54%\t(17.11%)\n",
      "Signal definition=  numu_signal: 33.33%\t(59.78%)\n",
      "Signal definition=      numu_nc: 6.70%\t(12.01%)\n"
     ]
    }
   ],
   "source": [
    "NuCC.printEff('muon && nr_track_asso_out<1')"
   ]
  },
  {
   "cell_type": "code",
   "execution_count": null,
   "metadata": {},
   "outputs": [],
   "source": []
  },
  {
   "cell_type": "code",
   "execution_count": 18,
   "metadata": {},
   "outputs": [
    {
     "name": "stdout",
     "output_type": "stream",
     "text": [
      "Rejection on each sample:\n",
      "Keep of    data:\t87.37%\t reject:\t12.63%\n",
      "Keep of     ext:\t79.99%\t reject:\t20.01%\n",
      "Keep of overlay:\t92.63%\t reject:\t7.37%\n",
      "Keep of    dirt:\t84.71%\t reject:\t15.29%\n",
      "\n",
      "Efficiency:\t\t96.46%\n",
      "Purity:\t\t\t33.36%\n",
      "Purity*Efficiency\t32.18\n",
      "\n",
      "Amount of    data:\t126.90%\n",
      "Amount of     ext:\t39.90%\n",
      "Amount of overlay:\t55.63%\n",
      "Amount of    dirt:\t4.47%\n",
      "\n",
      "Signal definition=  numu_lowpur: 1.44%\t(2.60%)\n",
      "Signal definition=   numu_other: 0.47%\t(0.85%)\n",
      "Signal definition=    numu_nomu: 4.35%\t(7.83%)\n",
      "Signal definition=      numu_ov: 9.43%\t(16.96%)\n",
      "Signal definition=  numu_signal: 33.36%\t(59.96%)\n",
      "Signal definition=      numu_nc: 6.56%\t(11.79%)\n"
     ]
    }
   ],
   "source": [
    "NuCC.printEff('muon && (crt_cut)')"
   ]
  },
  {
   "cell_type": "code",
   "execution_count": 19,
   "metadata": {},
   "outputs": [
    {
     "name": "stdout",
     "output_type": "stream",
     "text": [
      "Rejection on each sample:\n",
      "Keep of    data:\t95.75%\t reject:\t4.25%\n",
      "Keep of     ext:\t93.26%\t reject:\t6.74%\n",
      "Keep of overlay:\t97.40%\t reject:\t2.60%\n",
      "Keep of    dirt:\t95.55%\t reject:\t4.45%\n",
      "\n",
      "Efficiency:\t\t98.44%\n",
      "Purity:\t\t\t30.93%\n",
      "Purity*Efficiency\t30.45\n",
      "\n",
      "Amount of    data:\t126.36%\n",
      "Amount of     ext:\t42.27%\n",
      "Amount of overlay:\t53.15%\n",
      "Amount of    dirt:\t4.58%\n",
      "\n",
      "Signal definition=  numu_lowpur: 1.73%\t(3.25%)\n",
      "Signal definition=   numu_other: 0.45%\t(0.84%)\n",
      "Signal definition=    numu_nomu: 4.08%\t(7.67%)\n",
      "Signal definition=      numu_ov: 9.64%\t(18.13%)\n",
      "Signal definition=  numu_signal: 30.93%\t(58.19%)\n",
      "Signal definition=      numu_nc: 6.32%\t(11.89%)\n"
     ]
    }
   ],
   "source": [
    "NuCC.printEff('muon && (crt_cut || !track_end_uncontained)')"
   ]
  },
  {
   "cell_type": "code",
   "execution_count": 20,
   "metadata": {},
   "outputs": [
    {
     "name": "stderr",
     "output_type": "stream",
     "text": [
      "Warning in <TCanvas::Constructor>: Deleting canvas with same name: c1\n",
      "Info in <TCanvas::Print>: png file /home/tmettler/Desktop/ub_data/mcc9.1/v08_00_00_17/NumuCC_crtcut_V//png/NrCRThit.png has been created\n",
      "Info in <TCanvas::SaveAs>: ROOT file /home/tmettler/Desktop/ub_data/mcc9.1/v08_00_00_17/NumuCC_crtcut_V//root/NrCRThit.root has been created\n"
     ]
    },
    {
     "data": {
      "image/png": "[encoded data removed]",
      "text/plain": [
       "<IPython.core.display.Image object>"
      ]
     },
     "metadata": {},
     "output_type": "display_data"
    }
   ],
   "source": [
    "cut = 'fidVol && muon'\n",
    "name = ''\n",
    "\n",
    "NuCC.make_stacked_histo_plot(cut,'nr_crthit','Nr CRT hit',1,11,10,'NrCRThit'+name)\n"
   ]
  },
  {
   "cell_type": "code",
   "execution_count": 21,
   "metadata": {},
   "outputs": [],
   "source": [
    "# Print efficiency with crt cut\n",
    "\n",
    "#NuCC.printEff('crt_cut && muon')\n",
    "\n",
    "#NuCC.printEff('crt_cut_test && muon')"
   ]
  },
  {
   "cell_type": "code",
   "execution_count": 22,
   "metadata": {},
   "outputs": [],
   "source": [
    "#NuCC.printEff('crt_cut')"
   ]
  },
  {
   "cell_type": "code",
   "execution_count": 23,
   "metadata": {},
   "outputs": [
    {
     "data": {
      "text/plain": [
       "\"\\ncut = 'fidVol && muon && crt_cut'\\nname = '_crt'\\n\\nNuCC.make_stacked_histo_plot_flashcorr(cut,'TimFla','Flash_time [us]',2.3,5.9,20,'FlashTime_corr'+name)\\nNuCC.make_stacked_histo_plot_crtcorr(cut,'crthit_ts0','CRT hit time [us]',2.3,5.9,20,'CRTTime_corr'+name)\\n\\nNuCC.make_stacked_histo_plot(cut,'TrackMomMCS_mom','Track momentum [GeV]',0,3,20,'MCSMom'+name)\\nNuCC.make_stacked_histo_plot(cut,'TrackLength','Track length [cm]',0,500,20,'tracklength'+name)\\nNuCC.make_stacked_histo_plot(cut + ' && TrackTheta!=-9','cos(TrackTheta)','cos(theta)',-1,1,20,'costheta'+name)\\nNuCC.make_stacked_histo_plot(cut + ' && TrackTheta!=-9','TrackPhi','Phi on muoncandidate',-3.1416,3.1416,20,'trackphi'+name)\\nNuCC.make_stacked_histo_plot(cut,'NuScore','Total NuScore of event',0,1,20,'NuScore'+name)\\nNuCC.make_stacked_histo_plot(cut,'NuTracks','Number of tracks',0,8,8,'num_track'+name)\\n\\nNuCC.make_stacked_histo_plot(cut,'Nu_Vx','Reco. Nu vertex X position [cm]',0,250,50,'NuVx'+name)\\nNuCC.make_stacked_histo_plot(cut,'Nu_Vy','Reconstructed neutrino vertex Y position [cm]',-110,115,50,'NuVy'+name)\\nNuCC.make_stacked_histo_plot(cut,'Nu_Vz','Reco. Nu vertex Z position [cm]',-20,1020,50,'NuVz'+name)\\n\""
      ]
     },
     "execution_count": 23,
     "metadata": {},
     "output_type": "execute_result"
    }
   ],
   "source": [
    "# generate stacked plots with crt cut\n",
    "'''\n",
    "cut = 'fidVol && muon && crt_cut'\n",
    "name = '_crt'\n",
    "\n",
    "NuCC.make_stacked_histo_plot_flashcorr(cut,'TimFla','Flash_time [us]',2.3,5.9,20,'FlashTime_corr'+name)\n",
    "NuCC.make_stacked_histo_plot_crtcorr(cut,'crthit_ts0','CRT hit time [us]',2.3,5.9,20,'CRTTime_corr'+name)\n",
    "\n",
    "NuCC.make_stacked_histo_plot(cut,'TrackMomMCS_mom','Track momentum [GeV]',0,3,20,'MCSMom'+name)\n",
    "NuCC.make_stacked_histo_plot(cut,'TrackLength','Track length [cm]',0,500,20,'tracklength'+name)\n",
    "NuCC.make_stacked_histo_plot(cut + ' && TrackTheta!=-9','cos(TrackTheta)','cos(theta)',-1,1,20,'costheta'+name)\n",
    "NuCC.make_stacked_histo_plot(cut + ' && TrackTheta!=-9','TrackPhi','Phi on muoncandidate',-3.1416,3.1416,20,'trackphi'+name)\n",
    "NuCC.make_stacked_histo_plot(cut,'NuScore','Total NuScore of event',0,1,20,'NuScore'+name)\n",
    "NuCC.make_stacked_histo_plot(cut,'NuTracks','Number of tracks',0,8,8,'num_track'+name)\n",
    "\n",
    "NuCC.make_stacked_histo_plot(cut,'Nu_Vx','Reco. Nu vertex X position [cm]',0,250,50,'NuVx'+name)\n",
    "NuCC.make_stacked_histo_plot(cut,'Nu_Vy','Reconstructed neutrino vertex Y position [cm]',-110,115,50,'NuVy'+name)\n",
    "NuCC.make_stacked_histo_plot(cut,'Nu_Vz','Reco. Nu vertex Z position [cm]',-20,1020,50,'NuVz'+name)\n",
    "'''"
   ]
  },
  {
   "cell_type": "code",
   "execution_count": null,
   "metadata": {},
   "outputs": [],
   "source": []
  },
  {
   "cell_type": "code",
   "execution_count": 24,
   "metadata": {},
   "outputs": [
    {
     "name": "stdout",
     "output_type": "stream",
     "text": [
      "Efficiency:\t96.46%\n",
      "Purity:\t\t31.38%\n"
     ]
    },
    {
     "ename": "AttributeError",
     "evalue": "'PyROOT_NoneType' object has no attribute 'Draw'",
     "output_type": "error",
     "traceback": [
      "\u001b[0;31m\u001b[0m",
      "\u001b[0;31mAttributeError\u001b[0mTraceback (most recent call last)",
      "\u001b[0;32m<ipython-input-24-aa854be7c1c9>\u001b[0m in \u001b[0;36m<module>\u001b[0;34m()\u001b[0m\n\u001b[1;32m     30\u001b[0m \u001b[0mh_init_eff_energy\u001b[0m\u001b[0;34m.\u001b[0m\u001b[0mSetYTitle\u001b[0m\u001b[0;34m(\u001b[0m\u001b[0;34m\"Signal efficiency [%]\"\u001b[0m\u001b[0;34m)\u001b[0m\u001b[0;34m\u001b[0m\u001b[0m\n\u001b[1;32m     31\u001b[0m \u001b[0mh_init_eff_energy\u001b[0m\u001b[0;34m.\u001b[0m\u001b[0mDraw\u001b[0m\u001b[0;34m(\u001b[0m\u001b[0;34m\"E\"\u001b[0m\u001b[0;34m)\u001b[0m\u001b[0;34m\u001b[0m\u001b[0m\n\u001b[0;32m---> 32\u001b[0;31m \u001b[0mc1\u001b[0m\u001b[0;34m.\u001b[0m\u001b[0mDraw\u001b[0m\u001b[0;34m(\u001b[0m\u001b[0;34m)\u001b[0m\u001b[0;34m\u001b[0m\u001b[0m\n\u001b[0m\u001b[1;32m     33\u001b[0m \u001b[0mc1\u001b[0m\u001b[0;34m.\u001b[0m\u001b[0mSaveAs\u001b[0m\u001b[0;34m(\u001b[0m\u001b[0moutputdir_png\u001b[0m \u001b[0;34m+\u001b[0m \u001b[0;34m\"h_eff_energy\"\u001b[0m\u001b[0;34m+\u001b[0m\u001b[0mname\u001b[0m\u001b[0;34m+\u001b[0m\u001b[0;34m\".png\"\u001b[0m\u001b[0;34m)\u001b[0m\u001b[0;34m\u001b[0m\u001b[0m\n\u001b[1;32m     34\u001b[0m \u001b[0mc1\u001b[0m\u001b[0;34m.\u001b[0m\u001b[0mSaveAs\u001b[0m\u001b[0;34m(\u001b[0m\u001b[0moutputdir_root\u001b[0m \u001b[0;34m+\u001b[0m \u001b[0;34m\"h_eff_energy\"\u001b[0m\u001b[0;34m+\u001b[0m\u001b[0mname\u001b[0m\u001b[0;34m+\u001b[0m\u001b[0;34m\".root\"\u001b[0m\u001b[0;34m)\u001b[0m\u001b[0;34m\u001b[0m\u001b[0m\n",
      "\u001b[0;31mAttributeError\u001b[0m: 'PyROOT_NoneType' object has no attribute 'Draw'"
     ]
    }
   ],
   "source": [
    "xstart = 0\n",
    "xend = 8\n",
    "xbin = 100\n",
    "\n",
    "nenner_cut = \"numu_signal && fidVol && TrackScore>-2\"\n",
    "zahler_cut = \"numu_signal && fidVol && crt_cut\"\n",
    "cut = 'fidVol && crt_cut'\n",
    "\n",
    "efficiency = overlay.GetEntries(zahler_cut)*100.0/overlay.GetEntries(nenner_cut)\n",
    "purity = overlay.GetEntries(cut+' && numu_signal')*scale[overlay]*100/NuCC.getTotNum(cut)\n",
    "\n",
    "print 'Efficiency:\\t{0:0.2f}%'.format(efficiency)\n",
    "print 'Purity:\\t\\t{0:0.2f}%'.format(  purity)\n",
    "\n",
    "\n",
    "name = '_crtAll'\n",
    "title = 'After CRT cut:'\n",
    "title = title+' Eff/Pur={0:0.2f}%'.format( efficiency)+'/{0:0.2f}%'.format(purity)\n",
    "\n",
    "h_init_eff_energy = ROOT.TH1F(\"h_init_eff_energy\",title,xbin,xstart,xend)\n",
    "h_init_eff_energy_1 = ROOT.TH1F(\"h_init_eff_energy_1\",title,xbin,xstart,xend)\n",
    "overlay.Draw('MCNu_Energy>>h_init_eff_energy',zahler_cut)\n",
    "overlay.Draw('MCNu_Energy>>h_init_eff_energy_1',nenner_cut)\n",
    "h_init_eff_energy_1.Sumw2()\n",
    "h_init_eff_energy.Divide(h_init_eff_energy_1)\n",
    "h_init_eff_energy.Scale(100)\n",
    "h_init_eff_energy.SetMaximum(100)\n",
    "h_init_eff_energy.SetMinimum(0)\n",
    "h_init_eff_energy.SetXTitle(\"Truth enutrino energy [GeV]\")\n",
    "h_init_eff_energy.SetYTitle(\"Signal efficiency [%]\")\n",
    "h_init_eff_energy.Draw(\"E\")\n",
    "c1.Draw()\n",
    "c1.SaveAs(outputdir_png + \"h_eff_energy\"+name+\".png\")\n",
    "c1.SaveAs(outputdir_root + \"h_eff_energy\"+name+\".root\")\n",
    "\n",
    "\n",
    "xstart = -1\n",
    "xend = 1\n",
    "xbin = 100\n",
    "h_init_eff_theta = ROOT.TH1F(\"h_init_eff_theta\",title,xbin,xstart,xend)\n",
    "h_init_eff_theta_1 = ROOT.TH1F(\"h_init_eff_theta_1\",title,xbin,xstart,xend)\n",
    "overlay.Draw('cos(MCNu_leptonTheta)>>h_init_eff_theta',zahler_cut)\n",
    "overlay.Draw('cos(MCNu_leptonTheta)>>h_init_eff_theta_1',nenner_cut)\n",
    "h_init_eff_theta_1.Sumw2()\n",
    "h_init_eff_theta.Divide(h_init_eff_theta_1)\n",
    "h_init_eff_theta.Scale(100)\n",
    "h_init_eff_theta.SetMaximum(100)\n",
    "h_init_eff_theta.SetMinimum(0)\n",
    "h_init_eff_theta.SetXTitle(\"Truth neutrino cos(theta)\")\n",
    "h_init_eff_theta.SetYTitle(\"Signal efficiency [%]\")\n",
    "h_init_eff_theta.Draw(\"E\")\n",
    "c1.Draw()\n",
    "c1.SaveAs(outputdir_png + \"h_eff_theta\"+name+\".png\")\n",
    "c1.SaveAs(outputdir_root + \"h_eff_theta\"+name+\".root\")\n",
    "\n",
    "xstart = -3.14159\n",
    "xend = 3.14159\n",
    "xbin = 100\n",
    "h_init_eff_phi = ROOT.TH1F(\"h_init_eff_phi\",title,xbin,xstart,xend)\n",
    "h_init_eff_phi_1 = ROOT.TH1F(\"h_init_eff_phi_1\",title,xbin,xstart,xend)\n",
    "overlay.Draw('TrackPhi>>h_init_eff_phi',zahler_cut)\n",
    "overlay.Draw('TrackPhi>>h_init_eff_phi_1',nenner_cut)\n",
    "h_init_eff_phi_1.Sumw2()\n",
    "h_init_eff_phi.Divide(h_init_eff_phi_1)\n",
    "h_init_eff_phi.Scale(100)\n",
    "h_init_eff_phi.SetMaximum(100)\n",
    "h_init_eff_phi.SetMinimum(0)\n",
    "h_init_eff_phi.SetXTitle(\"Reco neutrino phi [pi]\")\n",
    "h_init_eff_phi.SetYTitle(\"Signal efficiency [%]\")\n",
    "h_init_eff_phi.Draw(\"e\")\n",
    "c1.Draw()\n",
    "c1.SaveAs(outputdir_png + \"h_eff_phi\"+name+\".png\")\n",
    "c1.SaveAs(outputdir_root + \"h_eff_phi\"+name+\".root\")\n",
    "\n",
    "xstart = -50\n",
    "xend = 300\n",
    "xbin = 100\n",
    "h_init_eff_V = ROOT.TH1F(\"h_init_eff_V\",title,xbin,xstart,xend)\n",
    "h_init_eff_V_1 = ROOT.TH1F(\"h_init_eff_V_1\",title,xbin,xstart,xend)\n",
    "overlay.Draw('MCNu_Vx>>h_init_eff_V',zahler_cut)\n",
    "overlay.Draw('MCNu_Vx>>h_init_eff_V_1',nenner_cut)\n",
    "h_init_eff_V_1.Sumw2()\n",
    "h_init_eff_V.Divide(h_init_eff_V_1)\n",
    "h_init_eff_V.Scale(100)\n",
    "h_init_eff_V.SetMaximum(100)\n",
    "h_init_eff_V.SetMinimum(0)\n",
    "h_init_eff_V.SetXTitle(\"Truth nu vertex X [cm]\")\n",
    "h_init_eff_V.SetYTitle(\"Signal efficiency [%]\")\n",
    "h_init_eff_V.Draw(\"e\")\n",
    "c1.Draw()\n",
    "c1.SaveAs(outputdir_png + \"h_eff_Vx\"+name+\".png\")\n",
    "c1.SaveAs(outputdir_root + \"h_eff_Vx\"+name+\".root\")\n",
    "\n",
    "xstart = -150\n",
    "xend = 150\n",
    "xbin = 100\n",
    "h_init_eff_V = ROOT.TH1F(\"h_init_eff_V\",title,xbin,xstart,xend)\n",
    "h_init_eff_V_1 = ROOT.TH1F(\"h_init_eff_V_1\",title,xbin,xstart,xend)\n",
    "overlay.Draw('MCNu_Vy>>h_init_eff_V',zahler_cut)\n",
    "overlay.Draw('MCNu_Vy>>h_init_eff_V_1',nenner_cut)\n",
    "h_init_eff_V_1.Sumw2()\n",
    "h_init_eff_V.Divide(h_init_eff_V_1)\n",
    "h_init_eff_V.Scale(100)\n",
    "h_init_eff_V.SetMaximum(100)\n",
    "h_init_eff_V.SetMinimum(0)\n",
    "h_init_eff_V.SetXTitle(\"Truth nu vertex Y [cm]\")\n",
    "h_init_eff_V.SetYTitle(\"Signal efficiency [%]\")\n",
    "h_init_eff_V.Draw(\"e\")\n",
    "c1.Draw()\n",
    "c1.SaveAs(outputdir_png + \"h_eff_Vy\"+name+\".png\")\n",
    "c1.SaveAs(outputdir_root + \"h_eff_Vy\"+name+\".root\")\n",
    "\n",
    "xstart = -50\n",
    "xend = 1050\n",
    "xbin = 100\n",
    "h_init_eff_V = ROOT.TH1F(\"h_init_eff_V\",title,xbin,xstart,xend)\n",
    "h_init_eff_V_1 = ROOT.TH1F(\"h_init_eff_V_1\",title,xbin,xstart,xend)\n",
    "overlay.Draw('MCNu_Vz>>h_init_eff_V',zahler_cut)\n",
    "overlay.Draw('MCNu_Vz>>h_init_eff_V_1',nenner_cut)\n",
    "h_init_eff_V_1.Sumw2()\n",
    "h_init_eff_V.Divide(h_init_eff_V_1)\n",
    "h_init_eff_V.Scale(100)\n",
    "h_init_eff_V.SetMaximum(100)\n",
    "h_init_eff_V.SetMinimum(0)\n",
    "h_init_eff_V.SetXTitle(\"Truth nu vertex Z [cm]\")\n",
    "h_init_eff_V.SetYTitle(\"Signal efficiency [%]\")\n",
    "h_init_eff_V.Draw(\"e\")\n",
    "c1.Draw()\n",
    "c1.SaveAs(outputdir_png + \"h_eff_Vz\"+name+\".png\")\n",
    "c1.SaveAs(outputdir_root + \"h_eff_Vz\"+name+\".root\")\n",
    "\n"
   ]
  },
  {
   "cell_type": "code",
   "execution_count": null,
   "metadata": {},
   "outputs": [],
   "source": []
  },
  {
   "cell_type": "code",
   "execution_count": null,
   "metadata": {},
   "outputs": [],
   "source": []
  },
  {
   "cell_type": "code",
   "execution_count": null,
   "metadata": {},
   "outputs": [],
   "source": []
  },
  {
   "cell_type": "code",
   "execution_count": null,
   "metadata": {},
   "outputs": [],
   "source": []
  },
  {
   "cell_type": "code",
   "execution_count": null,
   "metadata": {},
   "outputs": [],
   "source": []
  },
  {
   "cell_type": "code",
   "execution_count": null,
   "metadata": {},
   "outputs": [],
   "source": []
  },
  {
   "cell_type": "code",
   "execution_count": null,
   "metadata": {},
   "outputs": [],
   "source": []
  }
 ],
 "metadata": {
  "kernelspec": {
   "display_name": "Python 2",
   "language": "python",
   "name": "python2"
  },
  "language_info": {
   "codemirror_mode": {
    "name": "ipython",
    "version": 2
   },
   "file_extension": ".py",
   "mimetype": "text/x-python",
   "name": "python",
   "nbconvert_exporter": "python",
   "pygments_lexer": "ipython2",
   "version": "2.7.12"
  }
 },
 "nbformat": 4,
 "nbformat_minor": 2
}
