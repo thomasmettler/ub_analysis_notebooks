{
 "cells": [
  {
   "cell_type": "code",
   "execution_count": 1,
   "metadata": {},
   "outputs": [
    {
     "name": "stdout",
     "output_type": "stream",
     "text": [
      "Welcome to JupyROOT 6.10/08\n"
     ]
    }
   ],
   "source": [
    "from __future__ import division\n",
    "import imp\n",
    "import uproot\n",
    "import matplotlib\n",
    "#matplotlib.use('agg')\n",
    "import matplotlib.pyplot as plt\n",
    "import matplotlib.image as mpimg\n",
    "import numpy as np\n",
    "import pandas as pd\n",
    "import os\n",
    "import ROOT\n",
    "import time\n",
    "import math\n",
    "from array import array\n",
    "import collections\n",
    "\n",
    "inputdir = '/home/tmettler/Desktop/v08_00_00_33/V08_00_00_35/weighted/'\n",
    "outputdir = inputdir+'xsec_evrate_genie_other_mar18/' \n",
    "output_filedir = outputdir\n",
    "input_filedir = '/home/tmettler/Desktop/v08_00_00_33/V08_00_00_35/weighted/xsec_weighted/'\n",
    "lib_function_dir = '/home/tmettler/Desktop/uBoone/do_plots/'\n",
    "\n",
    "# helper functions\n",
    "globale = imp.load_source('globale',lib_function_dir+'globale.py')\n",
    "NuCC = imp.load_source('NuCC_function',lib_function_dir+'NuCC_function.py')\n",
    "NuCC_w = imp.load_source('NuCCWeight_function',lib_function_dir+'NuCCWeight_function.py')"
   ]
  },
  {
   "cell_type": "code",
   "execution_count": 2,
   "metadata": {},
   "outputs": [],
   "source": [
    "#!jupyter nbconvert --to script numuCCana_xsec_flux_momentum.ipynb"
   ]
  },
  {
   "cell_type": "code",
   "execution_count": 3,
   "metadata": {},
   "outputs": [
    {
     "name": "stderr",
     "output_type": "stream",
     "text": [
      "Warning in <TCanvas::Constructor>: Deleting canvas with same name: c1\n"
     ]
    }
   ],
   "source": [
    "# initialte ROOT default canvas\n",
    "ROOT.gROOT.SetBatch(ROOT.kTRUE)\n",
    "ROOT.gStyle.SetOptTitle(0)\n",
    "ROOT.gStyle.SetOptStat(0)\n",
    "c1 = ROOT.TCanvas(\"c1\",\"c1\",1600,1200)\n",
    "c1.SetGrid(1)\n",
    "c1.SetLeftMargin(0.14)\n",
    "c1.SetRightMargin(0.05)\n",
    "c1.SetBottomMargin(0.14)"
   ]
  },
  {
   "cell_type": "markdown",
   "metadata": {},
   "source": [
    "# Flux variation, systematic"
   ]
  },
  {
   "cell_type": "code",
   "execution_count": 4,
   "metadata": {},
   "outputs": [],
   "source": [
    "# Load input files\n",
    "outputdir_png, outputdir_root,outputdir_pdf = NuCC.prepareOutput2(outputdir)\n",
    "\n",
    "try:\n",
    "    os.stat(output_filedir)\n",
    "except:\n",
    "    os.mkdir(output_filedir)\n",
    "RootFile = ROOT.TFile(output_filedir+\"genie_other_systematic.root\",\"RECREATE\");\n"
   ]
  },
  {
   "cell_type": "code",
   "execution_count": 5,
   "metadata": {},
   "outputs": [
    {
     "name": "stdout",
     "output_type": "stream",
     "text": [
      "Overlay: Number of Entries:\t1012051\n",
      "Data: Number of Entries:\t28005\n",
      "Ext: Number of Entries:\t\t222702\n",
      "Dirt: Number of Entries:\t40808\n",
      "\n",
      "POT: \n",
      "Data:\t\t7.644e+18\n",
      "Ext:\t\t0\n",
      "Overlay:\t1.26811760704e+21\n",
      "Overlay:\t1.26811760704e+21\n",
      "Dirt:\t\t1.25019694173e+20\n",
      "\n",
      "Scalefactors: \n",
      "Data:\t\t1.0\n",
      "Ext:\t\t0.0967862715198\n",
      "Overlay:\t0.0060278320856\n",
      "Dirt:\t\t0.0611423668132\n"
     ]
    },
    {
     "name": "stderr",
     "output_type": "stream",
     "text": [
      "Warning in <TClass::Init>: no dictionary for class ROOT::TIOFeatures is available\n"
     ]
    }
   ],
   "source": [
    "#filename_overlay = 'NuCCana_overlay_V26_weight.root'\n",
    "filename_overlay = 'NuCCana_overlay_V26_mar18.root'\n",
    "filename_data = 'NuCCana_data_V25.root'\n",
    "filename_ext = 'NuCCana_ext_V25.root'\n",
    "filename_dirt = 'NuCCana_dirt_V26_weight.root'\n",
    "    \n",
    "tree_name = 'numuCCAna'\n",
    "\n",
    "#Open all the trees of the four files (data, ext, dirt, overlay)\n",
    "\n",
    "data, ext, dirt, overlay = NuCC.openTrees(inputdir, filename_data, filename_ext, filename_dirt, filename_overlay, tree_name)\n",
    "NuCC.printNumberOfEntries(data,ext,dirt,overlay)\n",
    "\n",
    "pot_overlay = NuCC.getPOT(inputdir,filename_overlay,tree_name)\n",
    "pot_dirt =  NuCC.getPOT(inputdir,filename_dirt,tree_name)\n",
    "#V25 files\n",
    "pot_data =    7.644e+18  # best with tor875\n",
    "data_trigger = 1838700.0 #2220362.0 #1854495.0 #4743794 # 1987072.0 # E1DCNT_wcut\n",
    "ext_trigger =  18997529.0  #2120135 #5685315 # EXT\n",
    "\n",
    "print 'POT: '\n",
    "print 'Data:\\t\\t', pot_data\n",
    "print 'Ext:\\t\\t', 0\n",
    "print 'Overlay:\\t', pot_overlay\n",
    "#pot_overlay= 1.22339196540357653e+21\n",
    "print 'Overlay:\\t', pot_overlay\n",
    "print 'Dirt:\\t\\t', pot_dirt\n",
    "print ''\n",
    "sample = [data,ext,overlay,dirt]\n",
    "scale = {data:1.0,ext:1.0,overlay:1.0,dirt:1.0}\n",
    "name = {data:'data',ext:'ext',overlay:'overlay',dirt:'dirt'}\n",
    "\n",
    "scale[data], scale[ext], scale[dirt], scale[overlay] = NuCC.calculateScale(data_trigger, ext_trigger, pot_data, pot_dirt, pot_overlay)\n",
    "\n",
    "scale[dirt] = scale[dirt]\n",
    "scale[overlay] = scale[overlay]\n",
    "print 'Scalefactors: '\n",
    "print 'Data:\\t\\t', scale[data]\n",
    "print 'Ext:\\t\\t', scale[ext]\n",
    "print 'Overlay:\\t', scale[overlay]\n",
    "print 'Dirt:\\t\\t', scale[dirt]\n"
   ]
  },
  {
   "cell_type": "code",
   "execution_count": 6,
   "metadata": {},
   "outputs": [
    {
     "name": "stdout",
     "output_type": "stream",
     "text": [
      "7.34038944724e-10\n",
      "7.3789785277e-10\n",
      "Fiducial Volume:  49184671.35\n",
      "Beam flux = 5.64049e+09  /cm2\n",
      "Number of target nuclei= 4.10331e+31  /cm3\n"
     ]
    }
   ],
   "source": [
    "##### flux and number of tragets parameters###\n",
    "flux = 1.16859e11/1.592e20 # flux per POT per cm2\n",
    "print flux\n",
    "flux = 7.3789785277e-10\n",
    "print flux\n",
    "roh_data = 1.3836 #data denisity g/cm3\n",
    "roh_MC = 1.3954 # MC denisity g/cm3\n",
    "mol = 39.95 # g for argon\n",
    "N_A = 6.022140857e23 # molec/mol avogadro zahl\n",
    "N_nucleons = 40.0\n",
    "V_fid = ((254.8-10)-(-1.55+10))*((117.47-10)-(-115.53+10))*((1036.9-50)-(-0.1+10))\n",
    "print 'Fiducial Volume: ', V_fid\n",
    "##############################################\n",
    "\n",
    "beam_flux = flux * pot_data\n",
    "print 'Beam flux = {:.5e}'.format(beam_flux),' /cm2'\n",
    "N_tot = roh_data*N_A*N_nucleons*V_fid/mol\n",
    "print 'Number of target nuclei= {:.5e}'.format(N_tot),' /cm3'"
   ]
  },
  {
   "cell_type": "code",
   "execution_count": 7,
   "metadata": {},
   "outputs": [
    {
     "name": "stdout",
     "output_type": "stream",
     "text": [
      "Overlay: Number of Entries:\t1013969\n",
      "Data: Number of Entries:\t28004\n",
      "Ext: Number of Entries:\t\t222701\n",
      "Dirt: Number of Entries:\t40800\n",
      "\n"
     ]
    }
   ],
   "source": [
    "if 1:\n",
    "    filename_overlay = 'NuCCana_overlay_V26_mar18_noflux.rootout4.root'\n",
    "    #filename_overlay = 'NuCCana_overlay_points_1kev.rootout2.root'\n",
    "    filename_data = filename_data+'out4.root'\n",
    "    filename_ext = filename_ext+'out4.root'\n",
    "    filename_dirt = filename_dirt+'out4.root'\n",
    "\n",
    "    tree_name = 't_out'\n",
    "\n",
    "    data_out, ext_out, dirt_out, overlay_out = NuCC.openTreesOut(inputdir, filename_data, filename_ext, filename_dirt, filename_overlay, tree_name)\n",
    "    NuCC.printNumberOfEntries(data_out,ext_out,dirt_out,overlay_out)\n",
    "\n",
    "    sample_out = [data_out,ext_out,overlay_out,dirt_out]\n",
    "    scale_out = {data_out:1.0,ext_out:1.0,overlay_out:1.0,dirt_out:1.0}\n",
    "    name_out = {data_out:'data',ext_out:'ext',overlay_out:'overlay',dirt_out:'dirt'}\n",
    "\n",
    "    scale_out[data_out], scale_out[ext_out], scale_out[dirt_out], scale_out[overlay_out] = NuCC.calculateScale(data_trigger, ext_trigger, pot_data, pot_dirt, pot_overlay)\n",
    "    scale_out[dirt_out] = scale_out[dirt_out]\n",
    "    scale_out[overlay_out] = scale_out[overlay_out]"
   ]
  },
  {
   "cell_type": "code",
   "execution_count": 8,
   "metadata": {},
   "outputs": [],
   "source": [
    "# Define signals\n",
    "\n",
    "fidVol = '(Nu_Vx_sce>(-1.55+10) && Nu_Vx_sce<(254.8-10)) && (Nu_Vy_sce>(-115.53+10) && Nu_Vy_sce<(117.47-10)) &&(Nu_Vz_sce>(-0.1+10) && Nu_Vz_sce<(1036.9-50))'\n",
    "MCfidVol = '(MCNu_Vx>(-1.55+10) && MCNu_Vx<(254.8-10)) && (MCNu_Vy>(-115.53+10) && MCNu_Vy<(117.47-10)) &&(MCNu_Vz>(-0.1+10) && MCNu_Vz<(1036.9-50))'\n",
    "numu_signal = 'fidVol && MCfidVol && MCNu_CCNC==0 && MCNu_PDG==14 && MCTrackPDG==13 && MCTrackPurity>0.5' # numu CC signal definition\n",
    "numu_true = 'MCfidVol && MCNu_CCNC==0 && MCNu_PDG==14' # numu CC signal definition\n",
    "numu_nomu = 'fidVol && MCfidVol && MCNu_CCNC==0 && MCNu_PDG==14 && MCTrackPDG!=13 && MCTrackPurity>0.5' # not an MC muon\n",
    "numu_lowpur = 'fidVol && MCfidVol && MCNu_CCNC==0 && MCNu_PDG==14 && MCTrackPurity<0.5' #low purity\n",
    "numu_nc = 'fidVol && MCfidVol && MCNu_CCNC==1' # nutral current\n",
    "numu_ov = 'fidVol && !MCfidVol' # out of fiducial\n",
    "numu_other = 'fidVol && MCfidVol && MCNu_CCNC==0 && MCNu_PDG!=14' # e.g anti nu or nue\n",
    "#signal = 'MCfidVol && MCNu_CCNC==0 && MCNu_PDG==14'\n",
    "for x in sample:\n",
    "    x.SetAlias('muon','(muon_candidate_key==track_key)')\n",
    "    \n",
    "num_fidVol = {}\n",
    "for x in sample:\n",
    "    x.SetAlias('fidVol',fidVol)\n",
    "    x.SetAlias('MCfidVol',MCfidVol)\n",
    "    x.SetAlias('numu_signal',numu_signal)\n",
    "    x.SetAlias('numu_true',numu_true)\n",
    "    x.SetAlias('numu_nomu',numu_nomu)\n",
    "    x.SetAlias('numu_lowpur',numu_lowpur)\n",
    "    x.SetAlias('numu_nc',numu_nc)\n",
    "    x.SetAlias('numu_ov',numu_ov)\n",
    "    x.SetAlias('numu_other',numu_other)\n",
    "    num_fidVol[x] = x.GetEntries('fidVol && muon')*scale[x]\n",
    "    \n",
    "tot_num_fidVol = num_fidVol[ext]+num_fidVol[dirt]+num_fidVol[overlay]\n",
    "overlay_signals = {'numu_signal','numu_nomu','numu_lowpur','numu_nc','numu_ov','numu_other'}"
   ]
  },
  {
   "cell_type": "code",
   "execution_count": 9,
   "metadata": {},
   "outputs": [],
   "source": [
    "for x in sample_out:\n",
    "    x.SetAlias('muon','(track_key == key_muon)')\n",
    "\n",
    "num_fidVol = {}\n",
    "for x in sample_out:\n",
    "    x.SetAlias('fidVol',fidVol)\n",
    "    x.SetAlias('MCfidVol',MCfidVol)\n",
    "    x.SetAlias('numu_signal',numu_signal)\n",
    "    x.SetAlias('numu_true',numu_true)\n",
    "    x.SetAlias('numu_nomu',numu_nomu)\n",
    "    x.SetAlias('numu_lowpur',numu_lowpur)\n",
    "    x.SetAlias('numu_nc',numu_nc)\n",
    "    x.SetAlias('numu_ov',numu_ov)\n",
    "    x.SetAlias('numu_other',numu_other)"
   ]
  },
  {
   "cell_type": "code",
   "execution_count": 10,
   "metadata": {},
   "outputs": [
    {
     "name": "stderr",
     "output_type": "stream",
     "text": [
      "Warning in <TCanvas::Constructor>: Deleting canvas with same name: c1\n"
     ]
    }
   ],
   "source": [
    "# Load the global variables for access of functions\n",
    "NuCC.loadGlobal(data,ext,dirt,overlay,data_out,ext_out,dirt_out,overlay_out,scale,scale_out,tot_num_fidVol,overlay_signals,sample,sample_out, name,name_out, outputdir_png, outputdir_root,outputdir_pdf)\n",
    "#NuCC.printGlobal()"
   ]
  },
  {
   "cell_type": "code",
   "execution_count": 11,
   "metadata": {},
   "outputs": [
    {
     "data": {
      "text/plain": [
       "True"
      ]
     },
     "execution_count": 11,
     "metadata": {},
     "output_type": "execute_result"
    }
   ],
   "source": [
    "'''track_start_border_x = '(TrackStart_x_sce <(-1.55+1) || TrackStart_x_sce > (254.8-1))'\n",
    "track_end_border_x = '(TrackEnd_x_sce <(-1.55+1) || TrackEnd_x_sce > (254.8-1))'\n",
    "track_start_border_y = '(TrackStart_y_sce <(-115.53+1) || TrackStart_y_sce > (117.47-1))'\n",
    "track_end_border_y = '(TrackEnd_y_sce <(-115.53+1) || TrackEnd_y_sce > (117.47-1))'\n",
    "track_start_border_z = '(TrackStart_z_sce <(0.1+1) || TrackStart_z_sce > (1036.9-1))'\n",
    "track_end_border_z = '(TrackEnd_z_sce <(0.1+1) || TrackEnd_z_sce > (1039.9-1))'\n",
    "'''\n",
    "track_start_border_x = '(TrackStart_x_sce <(-1.55+5) || TrackStart_x_sce > (254.8-5))'\n",
    "track_end_border_x = '(TrackEnd_x_sce <(-1.55+5) || TrackEnd_x_sce > (254.8-5))'\n",
    "track_start_border_y = '(TrackStart_y_sce <(-115.53+5) || TrackStart_y_sce > (117.47-5))'\n",
    "track_end_border_y = '(TrackEnd_y_sce <(-115.53+5) || TrackEnd_y_sce > (117.47-5))'\n",
    "track_start_border_z = '(TrackStart_z_sce <(0.1+5) || TrackStart_z_sce > (1036.9-5))'\n",
    "track_end_border_z = '(TrackEnd_z_sce <(0.1+5) || TrackEnd_z_sce > (1039.9-5))'\n",
    "\n",
    "track_end_uncontained = '(' + track_end_border_x + ' || ' + track_end_border_y + ' || ' + track_end_border_z+ ')'\n",
    "\n",
    "\n",
    "data.SetAlias(\"track_end_uncontained\",track_end_uncontained)\n",
    "ext.SetAlias(\"track_end_uncontained\",track_end_uncontained)\n",
    "overlay.SetAlias(\"track_end_uncontained\",track_end_uncontained)\n",
    "dirt.SetAlias(\"track_end_uncontained\",track_end_uncontained)\n",
    "data_out.SetAlias(\"track_end_uncontained\",track_end_uncontained)\n",
    "ext_out.SetAlias(\"track_end_uncontained\",track_end_uncontained)\n",
    "overlay_out.SetAlias(\"track_end_uncontained\",track_end_uncontained)\n",
    "dirt_out.SetAlias(\"track_end_uncontained\",track_end_uncontained)\n",
    "\n",
    "data.SetAlias(\"crt_cut\",\"(abs(crtt0_time-(69000-crt_trig_corr_med)/1000-4)<0.8 || crtt0_time==-1)\")\n",
    "ext.SetAlias(\"crt_cut\",\"(abs(crtt0_time-(69000-crt_trig_corr_med)/1000-3.57+3.195-4)<0.8 || crtt0_time==-1)\")\n",
    "overlay.SetAlias(\"crt_cut\",\"(abs(crtt0_time-4)<0.8 || crtt0_time==-1)\")\n",
    "dirt.SetAlias(\"crt_cut\",\"(abs(crtt0_time-4)<0.8 || crtt0_time==-1)\")\n",
    "data_out.SetAlias(\"crt_cut\",\"(abs(crtt0_time-(69000-crt_trig_corr_med)/1000-4)<0.8 || crtt0_time==-1)\")\n",
    "ext_out.SetAlias(\"crt_cut\",\"(abs(crtt0_time-(69000-crt_trig_corr_med)/1000-3.57+3.195-4)<0.8 || crtt0_time==-1)\")\n",
    "overlay_out.SetAlias(\"crt_cut\",\"(abs(crtt0_time-4)<0.8 || crtt0_time==-1)\")\n",
    "dirt_out.SetAlias(\"crt_cut\",\"(abs(crtt0_time-4)<0.8 || crtt0_time==-1)\")\n",
    "\n",
    "crt_tom_cut = 'nr_crthit_top==0 && crthit_vertex_zcut==0 && (track_end_uncontained==1 || nr_crthit_beam_tres==0) && crt_cut'\n",
    "\n",
    "data.SetAlias(\"crt_tom_cut\",crt_tom_cut)\n",
    "ext.SetAlias(\"crt_tom_cut\",crt_tom_cut)\n",
    "overlay.SetAlias(\"crt_tom_cut\",crt_tom_cut)\n",
    "dirt.SetAlias(\"crt_tom_cut\",crt_tom_cut)\n",
    "data_out.SetAlias(\"crt_tom_cut\",crt_tom_cut)\n",
    "ext_out.SetAlias(\"crt_tom_cut\",crt_tom_cut)\n",
    "overlay_out.SetAlias(\"crt_tom_cut\",crt_tom_cut)\n",
    "dirt_out.SetAlias(\"crt_tom_cut\",crt_tom_cut)\n"
   ]
  },
  {
   "cell_type": "code",
   "execution_count": 12,
   "metadata": {},
   "outputs": [],
   "source": [
    "weight_name = 'EventWeight*TunedCentralValue_Genie'\n",
    "mom_bins = [ 0.00, 0.18, 0.30, 0.45, 0.77, 1.28, 2.50 ]\n",
    "binnum = len(mom_bins) - 1"
   ]
  },
  {
   "cell_type": "code",
   "execution_count": 13,
   "metadata": {},
   "outputs": [
    {
     "name": "stdout",
     "output_type": "stream",
     "text": [
      "Nuber of parameters:  9\n"
     ]
    }
   ],
   "source": [
    "#weight_list = {}\n",
    "'''weight_list_all = [ 'All_Genie', 'AxFFCCQEshape_Genie', 'DecayAngMEC_Genie', 'MaNCRES_Genie', 'Theta_Delta2Npi_Genie', 'TunedCentralValue_Genie',\\\n",
    "    'VecFFCCQEshape_Genie', 'expskin_FluxUnisim', 'horncurrent_FluxUnisim', 'kminus_PrimaryHadronNormalization', 'kplus_PrimaryHadronFeynmanScaling',\\\n",
    "    'kzero_PrimaryHadronSanfordWang', 'nucleoninexsec_FluxUnisim', 'nucleonqexsec_FluxUnisim', 'nucleontotxsec_FluxUnisim',\\\n",
    "    'piminus_PrimaryHadronSWCentralSplineVariation', 'pioninexsec_FluxUnisim', 'pionqexsec_FluxUnisim', 'piontotxsec_FluxUnisim',\\\n",
    "    'piplus_PrimaryHadronSWCentralSplineVariation', 'splines_general_Spline' ]'''\n",
    "\n",
    "#weight_list_flux = [ 'expskin_FluxUnisim', 'horncurrent_FluxUnisim', 'kminus_PrimaryHadronNormalization', 'kplus_PrimaryHadronFeynmanScaling',\\\n",
    "#    'kzero_PrimaryHadronSanfordWang', 'nucleoninexsec_FluxUnisim', 'nucleonqexsec_FluxUnisim', 'nucleontotxsec_FluxUnisim',\\\n",
    "#    'piminus_PrimaryHadronSWCentralSplineVariation', 'pioninexsec_FluxUnisim', 'pionqexsec_FluxUnisim', 'piontotxsec_FluxUnisim',\\\n",
    "#    'piplus_PrimaryHadronSWCentralSplineVariation' ]\n",
    "#weight_list_flux = [ 'AxFFCCQEshape_Genie', 'DecayAngMEC_Genie', 'MaNCRES_Genie', 'Theta_Delta2Npi_Genie', 'VecFFCCQEshape_Genie' ]\n",
    "weight_list_flux = [ 'AxFFCCQEshape_UBGenie', 'DecayAngMEC_UBGenie', 'NormCCCOH_UBGenie', 'NormNCCOH_UBGenie',\\\n",
    "               'RPA_CCQE_Reduced_UBGenie','RPA_CCQE_UBGenie','ThetaDelta2NRad_UBGenie','Theta_Delta2Npi_UBGenie',\\\n",
    "                'VecFFCCQEshape_UBGenie' ]\n",
    "\n",
    "#weight_list_flux = [ 'AxFFCCQEshape_UBGenie', 'DecayAngMEC_UBGenie', 'NormCCCOH_UBGenie', 'NormNCCOH_UBGenie',\\\n",
    "#               'RPA_CCQE_Reduced_UBGenie','RPA_CCQE_UBGenie','ThetaDelta2NRad_UBGenie','Theta_Delta2Npi_UBGenie',\\\n",
    "#                'VecFFCCQEshape_UBGenie','XSecShape_CCMEC_UBGenie' ]\n",
    "\n",
    "num_para = len(weight_list_flux)\n",
    "print 'Nuber of parameters: ',num_para\n",
    "#weight_list_genie_other = [ 'AxFFCCQEshape_Genie', 'DecayAngMEC_Genie', 'MaNCRES_Genie', 'Theta_Delta2Npi_Genie', 'VecFFCCQEshape_Genie' ]"
   ]
  },
  {
   "cell_type": "code",
   "execution_count": 14,
   "metadata": {},
   "outputs": [],
   "source": [
    "weight_name = 'EventWeight*TunedCentralValue_Genie'\n",
    "num_universes = 2\n",
    "eff_uni = np.zeros((num_para,num_universes))\n",
    "mom_bins = [ 0.00, 0.18, 0.30, 0.45, 0.77, 1.28, 2.50 ]\n",
    "binnum = len(mom_bins) - 1"
   ]
  },
  {
   "cell_type": "code",
   "execution_count": 15,
   "metadata": {},
   "outputs": [],
   "source": [
    "def draw_adding():\n",
    "    prelim = ROOT.TLatex(0.9,0.93, \"MicroBooNE Preliminary\");\n",
    "    prelim.SetTextFont(62);\n",
    "    prelim.SetTextColor(ROOT.kGray+2);\n",
    "    prelim.SetNDC();\n",
    "    prelim.SetTextSize(1/25.);\n",
    "    prelim.SetTextAlign(32);\n",
    "    #prelim.SetTextSize(0.04631579);\n",
    "    prelim.Draw()\n",
    "\n",
    "    pot_latex = ROOT.TLatex(.10, .92,'Accumulated POT: '+str(pot_data)) \n",
    "    pot_latex.SetTextFont(62);\n",
    "    pot_latex.SetTextColor(ROOT.kGray+2);\n",
    "    pot_latex.SetNDC();\n",
    "    pot_latex.SetTextSize(1/25.);\n",
    "    pot_latex.SetTextAlign(10) #;//left adjusted\n",
    "    pot_latex.Draw();\n",
    "    \n",
    "    return prelim, pot_latex\n",
    "\n",
    "def draw_sim():\n",
    "    prelim = ROOT.TLatex(0.9,0.93, \"MicroBooNE Simulation Preliminary\");\n",
    "    prelim.SetTextFont(62);\n",
    "    prelim.SetTextColor(ROOT.kGray+2);\n",
    "    prelim.SetNDC();\n",
    "    prelim.SetTextSize(1/25.);\n",
    "    prelim.SetTextAlign(32);\n",
    "    #prelim.SetTextSize(0.04631579);\n",
    "    prelim.Draw()\n",
    "    \n",
    "    return prelim\n",
    "\n",
    "def draw_adding_ratio():\n",
    "    prelim = ROOT.TLatex(0.9,0.93, \"MicroBooNE Preliminary\");\n",
    "    prelim.SetTextFont(62);\n",
    "    prelim.SetTextColor(ROOT.kGray+2);\n",
    "    prelim.SetNDC();\n",
    "    prelim.SetTextSize(1/15.);\n",
    "    prelim.SetTextAlign(32);\n",
    "    #prelim.SetTextSize(0.04631579);\n",
    "    prelim.Draw()\n",
    "\n",
    "    pot_latex = ROOT.TLatex(.10, .91,'Accumulated POT: '+str(pot_data)) \n",
    "    pot_latex.SetTextFont(62);\n",
    "    pot_latex.SetTextColor(ROOT.kGray+2);\n",
    "    pot_latex.SetNDC();\n",
    "    pot_latex.SetTextSize(1/15.);\n",
    "    pot_latex.SetTextAlign(10) #;//left adjusted\n",
    "    pot_latex.Draw();\n",
    "    \n",
    "    return prelim, pot_latex\n",
    "\n",
    "def draw_sim_ratio():\n",
    "    prelim = ROOT.TLatex(0.9,0.93, \"MicroBooNE Simulation Preliminary\");\n",
    "    prelim.SetTextFont(62);\n",
    "    prelim.SetTextColor(ROOT.kGray+2);\n",
    "    prelim.SetNDC();\n",
    "    prelim.SetTextSize(1/15.);\n",
    "    prelim.SetTextAlign(32);\n",
    "    #prelim.SetTextSize(0.04631579);\n",
    "    prelim.Draw()\n",
    "    \n",
    "    return prelim"
   ]
  },
  {
   "cell_type": "code",
   "execution_count": 16,
   "metadata": {},
   "outputs": [],
   "source": [
    "#path = '/home/tmettler/Desktop/v08_00_00_33/V08_00_00_35/weighted/xsec_genie_other/pc46/script_output/'\n",
    "path = '/home/tmettler/Desktop/ub_data/mcc9.1/v08_00_00_33/V08_00_00_35/weighted/xsec_genie_evrate_mar18/'\n",
    "f = ROOT.TFile.Open(path+\"Genie_other_evrates.root\", 'read')\n",
    "#h_data_mom = f.Get(\"h_data_mom\")\n",
    "#h_data_mom.Draw()\n",
    "#c1.Draw()\n",
    "#h_data_mom.GetEntries()"
   ]
  },
  {
   "cell_type": "code",
   "execution_count": 17,
   "metadata": {},
   "outputs": [
    {
     "name": "stdout",
     "output_type": "stream",
     "text": [
      "Data:  1348.0  Ext:  142.179031156  Dirt:  31.9965575933\n",
      "Data:  1348.0  Ext:  142.179031156  Dirt:  32.1298251934\n",
      "Data:  1348.0  Ext:  142.179031156  Dirt:  32.1298251934\n",
      "0 0.0721252337098\n",
      "1 1.26834332943\n",
      "2 9.92968463898\n",
      "3 8.45454597473\n",
      "4 7.7088098526\n",
      "5 2.58323383331\n",
      "6 2.05193996429\n",
      "7 0.0611423663795\n",
      "32.1298251934\n"
     ]
    }
   ],
   "source": [
    "\n",
    "h_ext_mom = f.Get(\"h_ext_mom\")\n",
    "h_data_mom = f.Get(\"h_data_mom\")\n",
    "h_dirt_mom = f.Get(\"h_dirt_mom\")\n",
    "\n",
    "bkg_ext = h_ext_mom.Integral(0,binnum+1)\n",
    "num_data = h_data_mom.Integral(0,binnum+1)\n",
    "bkg_dirt = h_dirt_mom.Integral(1,binnum)\n",
    "print 'Data: ', num_data,' Ext: ', bkg_ext,' Dirt: ',bkg_dirt\n",
    "bkg_dirt = h_dirt_mom.Integral(0,binnum+1)\n",
    "print 'Data: ', num_data,' Ext: ', bkg_ext,' Dirt: ',bkg_dirt\n",
    "bkg_dirt = h_dirt_mom.Integral(-1,binnum+1)\n",
    "print 'Data: ', num_data,' Ext: ', bkg_ext,' Dirt: ',bkg_dirt\n",
    "#bkg_dirt = h_dirt_mom.GetSumOfWeights()\n",
    "#print 'Data: ', num_data,' Ext: ', bkg_ext,' Dirt: ',bkg_dirt\n",
    "sum = 0.0\n",
    "for i in range(0,binnum+2):\n",
    "    print i,h_dirt_mom.GetBinContent(i)\n",
    "    sum = sum+h_dirt_mom.GetBinContent(i)\n",
    "print sum"
   ]
  },
  {
   "cell_type": "code",
   "execution_count": 18,
   "metadata": {},
   "outputs": [],
   "source": [
    "weight_list = [ 'AxFFCCQEshape_UBGenie', 'DecayAngMEC_UBGenie', 'NormCCCOH_UBGenie', 'NormNCCOH_UBGenie',\\\n",
    "               'RPA_CCQE_Reduced_UBGenie','RPA_CCQE_UBGenie','ThetaDelta2NRad_UBGenie','Theta_Delta2Npi_UBGenie',\\\n",
    "                'VecFFCCQEshape_UBGenie']#,'XSecShape_CCMEC_UBGenie']\n",
    "num_universes = 2\n"
   ]
  },
  {
   "cell_type": "code",
   "execution_count": 19,
   "metadata": {},
   "outputs": [
    {
     "data": {
      "text/plain": [
       "\"h_para = []\\nfor para in range(num_para):\\n    h_para.append([])\\n    for uni in range(num_universes):\\n        #print 'At universe: ',uni\\n        h_para[para].append( f.Get('TrackMom_MCS_bkg_all['+str(para)+']['+str(uni)+']') ) \""
      ]
     },
     "execution_count": 19,
     "metadata": {},
     "output_type": "execute_result"
    }
   ],
   "source": [
    "'''h_para = []\n",
    "for para in range(num_para):\n",
    "    h_para.append([])\n",
    "    for uni in range(num_universes):\n",
    "        #print 'At universe: ',uni\n",
    "        h_para[para].append( f.Get('TrackMom_MCS_bkg_all['+str(para)+']['+str(uni)+']') ) '''"
   ]
  },
  {
   "cell_type": "code",
   "execution_count": 20,
   "metadata": {},
   "outputs": [],
   "source": [
    "\n",
    "def plot_ev_ratio(para_name,XAxisTitle):\n",
    "    legend = ROOT.TLegend(0.52,0.15,0.9,0.9); #LEGEND RIGHT\n",
    "    #legend = ROOT.TLegend(0.15,0.55,0.3,0.9); #LEGEND LEFT\n",
    "    h_data_mom = f.Get(para_name+\"dat\")\n",
    "    h_ext_mom = f.Get(para_name+\"ext\")\n",
    "    h_dirt_mom = f.Get(para_name+\"dirt\")\n",
    "    h_dat = h_data_mom.Clone()\n",
    "    h_dat.Add(h_ext_mom,-1)\n",
    "    h_dat.Add(h_dirt_mom,-1)\n",
    "    c1 = ROOT.TCanvas(\"c1\",\"c1\",1600,1200)\n",
    "    c1.SetGrid(1)\n",
    "    c1.SetLeftMargin(0.14)\n",
    "    c1.SetRightMargin(0.1)\n",
    "    c1.SetBottomMargin(0.1)\n",
    "    #c1.SetFillStyle(4000);\n",
    "    # first pad\n",
    "    c1.cd()\n",
    "    pad1 = ROOT.TPad('pad1','pad1',0,0.35,1,1)\n",
    "    pad1.SetGrid(1)\n",
    "    pad1.Draw()\n",
    "    pad1.cd()\n",
    "    pad1.SetBottomMargin(0.03);\n",
    "    pad1.SetTopMargin(0.1)\n",
    "    h_para = []\n",
    "    h_dat\n",
    "    h_dat.GetYaxis().SetLabelSize(0.06);\n",
    "    h_dat.GetYaxis().SetTitleSize(0.06);\n",
    "    h_dat.GetYaxis().SetTitleOffset(0.8);\n",
    "    h_dat.GetXaxis().SetLabelOffset(999);\n",
    "    h_dat.GetXaxis().SetTitleOffset(999);\n",
    "    h_dat.GetXaxis().SetLabelSize(0);\n",
    "    h_dat.GetXaxis().SetTitleSize(0);\n",
    "    #h_covariance.SetLineColor(ROOT.kBlack)\n",
    "    h_dat.SetLineWidth(4)\n",
    "    ROOT.gStyle.SetEndErrorSize(5)\n",
    "    h_dat.Draw('E1')\n",
    "    legend.Draw()\n",
    "                \n",
    "    for para in range(num_para):\n",
    "        h_para.append([])\n",
    "        for uni in range(num_universes):\n",
    "            #print 'At universe: ',uni\n",
    "            h_para[para].append( f.Get(para_name+'['+str(para)+']['+str(uni)+']') )     \n",
    "            h_para[para][uni].SetLineColorAlpha(para+1,0.8)\n",
    "            h_para[para][uni].SetLineWidth(4)\n",
    "            if (para+1)==10:\n",
    "                h_para[para][uni].SetLineColorAlpha(30,0.8)\n",
    "            if para ==0 and uni == 0:\n",
    "                legend.AddEntry(h_para[para][uni],'Central Value',\"f\")\n",
    "            elif uni == 0:\n",
    "                legend.AddEntry(h_para[para][uni],weight_list[para],\"f\")\n",
    "            h_para[para][uni].SetYTitle(\"Number of entries\")\n",
    "            h_para[para][uni].SetXTitle(XAxisTitle)\n",
    "            '''if para == 0 and uni == 0:\n",
    "                h_para[para][uni].GetYaxis().SetLabelSize(0.06);\n",
    "                h_para[para][uni].GetYaxis().SetTitleSize(0.06);\n",
    "                h_para[para][uni].GetYaxis().SetTitleOffset(0.8);\n",
    "                h_para[para][uni].GetXaxis().SetLabelOffset(999);\n",
    "                h_para[para][uni].GetXaxis().SetTitleOffset(999);\n",
    "                h_para[para][uni].GetXaxis().SetLabelSize(0);\n",
    "                h_para[para][uni].GetXaxis().SetTitleSize(0);\n",
    "                #h_covariance.SetLineColor(ROOT.kBlack)\n",
    "                h_para[para][uni].SetLineWidth(4)\n",
    "                ROOT.gStyle.SetEndErrorSize(5)\n",
    "                h_para[para][uni].Draw('hist')\n",
    "                legend.Draw()\n",
    "            else:\n",
    "                h_para[para][uni].Draw(\"hist same\")'''\n",
    "            h_para[para][uni].Draw(\"hist same\")\n",
    "    h_para[0][0].SetLineColor(ROOT.kBlack)\n",
    "    h_para[0][0].Draw(\"hist same\")\n",
    "    h_dat.SetLineColor(ROOT.kBlack)\n",
    "    h_dat.SetLineWidth(4)\n",
    "    h_dat.Draw('E1 same')\n",
    "    prelim, pot_tex = draw_adding_ratio()\n",
    "    prelim.Draw()\n",
    "    pot_tex.Draw()\n",
    "\n",
    "    c1.cd()\n",
    "    h_para[0][0].GetXaxis().SetLabelOffset(0);\n",
    "    h_para[0][0].GetXaxis().SetTitleOffset(0);\n",
    "    #h_data.GetXaxis().SetLabelSize(0.06);\n",
    "    #pad2 = ROOT.TPad('pad2','pad2',0,0.05,1,0.33)\n",
    "    pad2 = ROOT.TPad('pad2','pad2',0,0,1,0.35)\n",
    "    pad2.SetGrid(1)\n",
    "    pad2.SetTopMargin(0.04)\n",
    "    pad2.SetBottomMargin(0.4)\n",
    "    pad2.Draw()\n",
    "    pad2.cd()\n",
    "    h_para_ratio = []\n",
    "    h_dat_ratio = h_para[0][0].Clone()\n",
    "    h_dat_ratio.Divide(h_dat)\n",
    "    h_dat_ratio.Draw('E1 same')\n",
    "    h_dat_ratio.SetYTitle('Data/(Ext+MC)')\n",
    "    h_dat_ratio.GetYaxis().SetTitleSize(0.1)\n",
    "    h_dat_ratio.GetYaxis().SetTitleOffset(0.3)\n",
    "    h_dat_ratio.GetYaxis().SetLabelSize(0.07)\n",
    "\n",
    "    h_dat_ratio.GetXaxis().SetTitleSize(0.15)\n",
    "    h_dat_ratio.GetXaxis().SetLabelSize(0.15)\n",
    "    h_dat_ratio.GetXaxis().SetTitleOffset(1)\n",
    "    h_dat_ratio.SetMinimum(0.0)\n",
    "    h_dat_ratio.SetMaximum(2.0)\n",
    "    h_dat_ratio.Draw('E1')\n",
    "    \n",
    "    for para in range(num_para):\n",
    "        h_para_ratio.append([])\n",
    "        for uni in range(num_universes):\n",
    "            h_para_ratio[para].append(h_para[0][0].Clone())\n",
    "            h_para_ratio[para][uni].Divide(h_para[para][uni])\n",
    "            h_para_ratio[para][uni].SetLineColorAlpha(para+1,0.8)\n",
    "            if (para+1)==10:\n",
    "                h_para_ratio[para][uni].SetLineColorAlpha(30,0.8)\n",
    "            '''if para ==0 and uni==0:\n",
    "                h_para_ratio[para][uni].SetYTitle('Data/(Ext+MC)')\n",
    "                h_para_ratio[para][uni].GetYaxis().SetTitleSize(0.1)\n",
    "                h_para_ratio[para][uni].GetYaxis().SetTitleOffset(0.3)\n",
    "                h_para_ratio[para][uni].GetYaxis().SetLabelSize(0.07)\n",
    "\n",
    "                h_para_ratio[para][uni].GetXaxis().SetTitleSize(0.15)\n",
    "                h_para_ratio[para][uni].GetXaxis().SetLabelSize(0.15)\n",
    "                h_para_ratio[para][uni].GetXaxis().SetTitleOffset(1)\n",
    "                h_para_ratio[para][uni].SetMinimum(0.9)\n",
    "                h_para_ratio[para][uni].SetMaximum(1.1)\n",
    "                h_para_ratio[para][uni].Draw('hist')\n",
    "            else:\n",
    "                h_para_ratio[para][uni].Draw('hist same')'''\n",
    "            h_para_ratio[para][uni].Draw('hist same')\n",
    "\n",
    "    h_dat_ratio.Draw('E1 same')\n",
    "    c1.Draw()\n",
    "\n",
    "    c1.SaveAs(outputdir_png + 'h_'+para_name+'_ratio.png')\n",
    "    c1.SaveAs(outputdir_pdf + 'h_'+para_name+'_ratio.pdf')\n",
    "    c1.SaveAs(outputdir_root + 'h_'+para_name+'_ratio.root')\n",
    "\n",
    "    #h_para.clear()\n",
    "    #h_para_ratio.clear()\n",
    "    return"
   ]
  },
  {
   "cell_type": "code",
   "execution_count": 21,
   "metadata": {},
   "outputs": [
    {
     "name": "stderr",
     "output_type": "stream",
     "text": [
      "Info in <TCanvas::Print>: png file /home/tmettler/Desktop/v08_00_00_33/V08_00_00_35/weighted/xsec_evrate_genie_other_mar18/png/h_TrackMom_MCS_pre_ratio.png has been created\n",
      "Info in <TCanvas::Print>: pdf file /home/tmettler/Desktop/v08_00_00_33/V08_00_00_35/weighted/xsec_evrate_genie_other_mar18/pdf/h_TrackMom_MCS_pre_ratio.pdf has been created\n",
      "Info in <TCanvas::SaveAs>: ROOT file /home/tmettler/Desktop/v08_00_00_33/V08_00_00_35/weighted/xsec_evrate_genie_other_mar18/root/h_TrackMom_MCS_pre_ratio.root has been created\n",
      "Warning in <TCanvas::Constructor>: Deleting canvas with same name: c1\n",
      "Info in <TCanvas::Print>: png file /home/tmettler/Desktop/v08_00_00_33/V08_00_00_35/weighted/xsec_evrate_genie_other_mar18/png/h_TrackMom_range_pre_ratio.png has been created\n",
      "Info in <TCanvas::Print>: pdf file /home/tmettler/Desktop/v08_00_00_33/V08_00_00_35/weighted/xsec_evrate_genie_other_mar18/pdf/h_TrackMom_range_pre_ratio.pdf has been created\n",
      "Info in <TCanvas::SaveAs>: ROOT file /home/tmettler/Desktop/v08_00_00_33/V08_00_00_35/weighted/xsec_evrate_genie_other_mar18/root/h_TrackMom_range_pre_ratio.root has been created\n",
      "Warning in <TCanvas::Constructor>: Deleting canvas with same name: c1\n",
      "Info in <TCanvas::Print>: png file /home/tmettler/Desktop/v08_00_00_33/V08_00_00_35/weighted/xsec_evrate_genie_other_mar18/png/h_NuVx_sce_pre_ratio.png has been created\n",
      "Info in <TCanvas::Print>: pdf file /home/tmettler/Desktop/v08_00_00_33/V08_00_00_35/weighted/xsec_evrate_genie_other_mar18/pdf/h_NuVx_sce_pre_ratio.pdf has been created\n",
      "Info in <TCanvas::SaveAs>: ROOT file /home/tmettler/Desktop/v08_00_00_33/V08_00_00_35/weighted/xsec_evrate_genie_other_mar18/root/h_NuVx_sce_pre_ratio.root has been created\n",
      "Warning in <TCanvas::Constructor>: Deleting canvas with same name: c1\n",
      "Info in <TCanvas::Print>: png file /home/tmettler/Desktop/v08_00_00_33/V08_00_00_35/weighted/xsec_evrate_genie_other_mar18/png/h_NuVy_sce_pre_ratio.png has been created\n",
      "Info in <TCanvas::Print>: pdf file /home/tmettler/Desktop/v08_00_00_33/V08_00_00_35/weighted/xsec_evrate_genie_other_mar18/pdf/h_NuVy_sce_pre_ratio.pdf has been created\n",
      "Info in <TCanvas::SaveAs>: ROOT file /home/tmettler/Desktop/v08_00_00_33/V08_00_00_35/weighted/xsec_evrate_genie_other_mar18/root/h_NuVy_sce_pre_ratio.root has been created\n",
      "Warning in <TCanvas::Constructor>: Deleting canvas with same name: c1\n",
      "Info in <TCanvas::Print>: png file /home/tmettler/Desktop/v08_00_00_33/V08_00_00_35/weighted/xsec_evrate_genie_other_mar18/png/h_NuVz_sce_pre_ratio.png has been created\n",
      "Info in <TCanvas::Print>: pdf file /home/tmettler/Desktop/v08_00_00_33/V08_00_00_35/weighted/xsec_evrate_genie_other_mar18/pdf/h_NuVz_sce_pre_ratio.pdf has been created\n",
      "Info in <TCanvas::SaveAs>: ROOT file /home/tmettler/Desktop/v08_00_00_33/V08_00_00_35/weighted/xsec_evrate_genie_other_mar18/root/h_NuVz_sce_pre_ratio.root has been created\n",
      "Warning in <TCanvas::Constructor>: Deleting canvas with same name: c1\n",
      "Info in <TCanvas::Print>: png file /home/tmettler/Desktop/v08_00_00_33/V08_00_00_35/weighted/xsec_evrate_genie_other_mar18/png/h_cosTheta_pre_ratio.png has been created\n",
      "Info in <TCanvas::Print>: pdf file /home/tmettler/Desktop/v08_00_00_33/V08_00_00_35/weighted/xsec_evrate_genie_other_mar18/pdf/h_cosTheta_pre_ratio.pdf has been created\n",
      "Info in <TCanvas::SaveAs>: ROOT file /home/tmettler/Desktop/v08_00_00_33/V08_00_00_35/weighted/xsec_evrate_genie_other_mar18/root/h_cosTheta_pre_ratio.root has been created\n",
      "Warning in <TCanvas::Constructor>: Deleting canvas with same name: c1\n",
      "Info in <TCanvas::Print>: png file /home/tmettler/Desktop/v08_00_00_33/V08_00_00_35/weighted/xsec_evrate_genie_other_mar18/png/h_PID_chiproton_pre_ratio.png has been created\n",
      "Info in <TCanvas::Print>: pdf file /home/tmettler/Desktop/v08_00_00_33/V08_00_00_35/weighted/xsec_evrate_genie_other_mar18/pdf/h_PID_chiproton_pre_ratio.pdf has been created\n",
      "Info in <TCanvas::SaveAs>: ROOT file /home/tmettler/Desktop/v08_00_00_33/V08_00_00_35/weighted/xsec_evrate_genie_other_mar18/root/h_PID_chiproton_pre_ratio.root has been created\n",
      "Warning in <TCanvas::Constructor>: Deleting canvas with same name: c1\n",
      "Info in <TCanvas::Print>: png file /home/tmettler/Desktop/v08_00_00_33/V08_00_00_35/weighted/xsec_evrate_genie_other_mar18/png/h_PIDmupion_ration_pre_ratio.png has been created\n",
      "Info in <TCanvas::Print>: pdf file /home/tmettler/Desktop/v08_00_00_33/V08_00_00_35/weighted/xsec_evrate_genie_other_mar18/pdf/h_PIDmupion_ration_pre_ratio.pdf has been created\n",
      "Info in <TCanvas::SaveAs>: ROOT file /home/tmettler/Desktop/v08_00_00_33/V08_00_00_35/weighted/xsec_evrate_genie_other_mar18/root/h_PIDmupion_ration_pre_ratio.root has been created\n",
      "Warning in <TCanvas::Constructor>: Deleting canvas with same name: c1\n",
      "Info in <TCanvas::Print>: png file /home/tmettler/Desktop/v08_00_00_33/V08_00_00_35/weighted/xsec_evrate_genie_other_mar18/png/h_PIDmuprot_ration_pre_ratio.png has been created\n",
      "Info in <TCanvas::Print>: pdf file /home/tmettler/Desktop/v08_00_00_33/V08_00_00_35/weighted/xsec_evrate_genie_other_mar18/pdf/h_PIDmuprot_ration_pre_ratio.pdf has been created\n",
      "Info in <TCanvas::SaveAs>: ROOT file /home/tmettler/Desktop/v08_00_00_33/V08_00_00_35/weighted/xsec_evrate_genie_other_mar18/root/h_PIDmuprot_ration_pre_ratio.root has been created\n",
      "Warning in <TCanvas::Constructor>: Deleting canvas with same name: c1\n",
      "Info in <TCanvas::Print>: png file /home/tmettler/Desktop/v08_00_00_33/V08_00_00_35/weighted/xsec_evrate_genie_other_mar18/png/h_nr_crthit_top_pre_ratio.png has been created\n",
      "Info in <TCanvas::Print>: pdf file /home/tmettler/Desktop/v08_00_00_33/V08_00_00_35/weighted/xsec_evrate_genie_other_mar18/pdf/h_nr_crthit_top_pre_ratio.pdf has been created\n",
      "Info in <TCanvas::SaveAs>: ROOT file /home/tmettler/Desktop/v08_00_00_33/V08_00_00_35/weighted/xsec_evrate_genie_other_mar18/root/h_nr_crthit_top_pre_ratio.root has been created\n",
      "Warning in <TCanvas::Constructor>: Deleting canvas with same name: c1\n",
      "Info in <TCanvas::Print>: png file /home/tmettler/Desktop/v08_00_00_33/V08_00_00_35/weighted/xsec_evrate_genie_other_mar18/png/h_CRTVertexcut_pre_ratio.png has been created\n",
      "Info in <TCanvas::Print>: pdf file /home/tmettler/Desktop/v08_00_00_33/V08_00_00_35/weighted/xsec_evrate_genie_other_mar18/pdf/h_CRTVertexcut_pre_ratio.pdf has been created\n",
      "Info in <TCanvas::SaveAs>: ROOT file /home/tmettler/Desktop/v08_00_00_33/V08_00_00_35/weighted/xsec_evrate_genie_other_mar18/root/h_CRTVertexcut_pre_ratio.root has been created\n",
      "Warning in <TCanvas::Constructor>: Deleting canvas with same name: c1\n",
      "Info in <TCanvas::Print>: png file /home/tmettler/Desktop/v08_00_00_33/V08_00_00_35/weighted/xsec_evrate_genie_other_mar18/png/h_TrackScore_pre_ratio.png has been created\n",
      "Info in <TCanvas::Print>: pdf file /home/tmettler/Desktop/v08_00_00_33/V08_00_00_35/weighted/xsec_evrate_genie_other_mar18/pdf/h_TrackScore_pre_ratio.pdf has been created\n",
      "Info in <TCanvas::SaveAs>: ROOT file /home/tmettler/Desktop/v08_00_00_33/V08_00_00_35/weighted/xsec_evrate_genie_other_mar18/root/h_TrackScore_pre_ratio.root has been created\n",
      "Warning in <TCanvas::Constructor>: Deleting canvas with same name: c1\n",
      "Info in <TCanvas::Print>: png file /home/tmettler/Desktop/v08_00_00_33/V08_00_00_35/weighted/xsec_evrate_genie_other_mar18/png/h_NuScore_pre_ratio.png has been created\n",
      "Info in <TCanvas::Print>: pdf file /home/tmettler/Desktop/v08_00_00_33/V08_00_00_35/weighted/xsec_evrate_genie_other_mar18/pdf/h_NuScore_pre_ratio.pdf has been created\n",
      "Info in <TCanvas::SaveAs>: ROOT file /home/tmettler/Desktop/v08_00_00_33/V08_00_00_35/weighted/xsec_evrate_genie_other_mar18/root/h_NuScore_pre_ratio.root has been created\n",
      "Warning in <TCanvas::Constructor>: Deleting canvas with same name: c1\n",
      "Info in <TCanvas::Print>: png file /home/tmettler/Desktop/v08_00_00_33/V08_00_00_35/weighted/xsec_evrate_genie_other_mar18/png/h_NuTracks_pre_ratio.png has been created\n",
      "Info in <TCanvas::Print>: pdf file /home/tmettler/Desktop/v08_00_00_33/V08_00_00_35/weighted/xsec_evrate_genie_other_mar18/pdf/h_NuTracks_pre_ratio.pdf has been created\n",
      "Info in <TCanvas::SaveAs>: ROOT file /home/tmettler/Desktop/v08_00_00_33/V08_00_00_35/weighted/xsec_evrate_genie_other_mar18/root/h_NuTracks_pre_ratio.root has been created\n",
      "Warning in <TCanvas::Constructor>: Deleting canvas with same name: c1\n",
      "Info in <TCanvas::Print>: png file /home/tmettler/Desktop/v08_00_00_33/V08_00_00_35/weighted/xsec_evrate_genie_other_mar18/png/h_NumPfp_pre_ratio.png has been created\n",
      "Info in <TCanvas::Print>: pdf file /home/tmettler/Desktop/v08_00_00_33/V08_00_00_35/weighted/xsec_evrate_genie_other_mar18/pdf/h_NumPfp_pre_ratio.pdf has been created\n",
      "Info in <TCanvas::SaveAs>: ROOT file /home/tmettler/Desktop/v08_00_00_33/V08_00_00_35/weighted/xsec_evrate_genie_other_mar18/root/h_NumPfp_pre_ratio.root has been created\n"
     ]
    },
    {
     "data": {
      "image/png": "[encoded data removed]",
      "text/plain": [
       "<IPython.core.display.Image object>"
      ]
     },
     "metadata": {},
     "output_type": "display_data"
    }
   ],
   "source": [
    "add_name = '_pre'\n",
    "\n",
    "plot_ev_ratio('TrackMom_MCS'+add_name,'Muon momentum MCS [GeV]')\n",
    "plot_ev_ratio('TrackMom_range'+add_name,'Muon momentum range [GeV]')\n",
    "plot_ev_ratio('NuVx_sce'+add_name,'Reco. Nu vertex X position [cm]')\n",
    "plot_ev_ratio('NuVy_sce'+add_name,'Reco. Nu vertex Y position [cm]')\n",
    "plot_ev_ratio('NuVz_sce'+add_name,'Reco. Nu vertex Z position [cm]')\n",
    "plot_ev_ratio('cosTheta'+add_name,'cos(Theta)')\n",
    "plot_ev_ratio('PID_chiproton'+add_name,'Proton PID')\n",
    "plot_ev_ratio('PIDmupion_ration'+add_name,'TrackPID_chimuon/TrackPID_chipion')\n",
    "plot_ev_ratio('PIDmuprot_ration'+add_name,'TrackPID_chimuon/TrackPID_chiproton')\n",
    "plot_ev_ratio('nr_crthit_top'+add_name,'Nr CRTHits in Top')\n",
    "plot_ev_ratio('CRTVertexcut'+add_name,'Number of CRT hits upstream of vertex')\n",
    "plot_ev_ratio('TrackScore'+add_name,'Track Score')\n",
    "plot_ev_ratio('NuScore'+add_name,'Topological Score')\n",
    "plot_ev_ratio('NuTracks'+add_name,'Number of tracks')\n",
    "plot_ev_ratio('NumPfp'+add_name,'Number of PFparticles')\n"
   ]
  },
  {
   "cell_type": "code",
   "execution_count": null,
   "metadata": {},
   "outputs": [],
   "source": [
    "add_name = '_all'\n",
    "\n",
    "#plot_ev_ratio('TrackMom_MCS'+add_name,'Muon momentum MCS [GeV]')\n",
    "#plot_ev_ratio('TrackMom_range'+add_name,'Muon momentum range [GeV]')\n",
    "#plot_ev_ratio('NuVx_sce'+add_name,'Reco. Nu vertex X position [cm]')\n",
    "#plot_ev_ratio('NuVy_sce'+add_name,'Reco. Nu vertex Y position [cm]')\n",
    "#plot_ev_ratio('NuVz_sce'+add_name,'Reco. Nu vertex Z position [cm]')\n",
    "#plot_ev_ratio('cosTheta'+add_name,'cos(Theta)')\n",
    "plot_ev_ratio('PID_chiproton'+add_name,'Proton PID')\n",
    "plot_ev_ratio('PIDmupion_ration'+add_name,'TrackPID_chimuon/TrackPID_chipion')\n",
    "plot_ev_ratio('PIDmuprot_ration'+add_name,'TrackPID_chimuon/TrackPID_chiproton')\n",
    "plot_ev_ratio('nr_crthit_top'+add_name,'Nr CRTHits in Top')\n",
    "plot_ev_ratio('CRTVertexcut'+add_name,'Number of CRT hits upstream of vertex')\n",
    "plot_ev_ratio('TrackScore'+add_name,'Track Score')\n",
    "plot_ev_ratio('NuScore'+add_name,'Topological Score')\n",
    "plot_ev_ratio('NuTracks'+add_name,'Number of tracks')\n",
    "plot_ev_ratio('NumPfp'+add_name,'Number of PFparticles')\n"
   ]
  },
  {
   "cell_type": "code",
   "execution_count": null,
   "metadata": {},
   "outputs": [],
   "source": []
  }
 ],
 "metadata": {
  "kernelspec": {
   "display_name": "Python 3",
   "language": "python",
   "name": "python3"
  },
  "language_info": {
   "codemirror_mode": {
    "name": "ipython",
    "version": 2
   },
   "file_extension": ".py",
   "mimetype": "text/x-python",
   "name": "python",
   "nbconvert_exporter": "python",
   "pygments_lexer": "ipython2",
   "version": "2.7.12"
  }
 },
 "nbformat": 4,
 "nbformat_minor": 2
}
