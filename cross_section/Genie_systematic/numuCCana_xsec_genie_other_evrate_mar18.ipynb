{
 "cells": [
  {
   "cell_type": "code",
   "execution_count": 1,
   "metadata": {},
   "outputs": [
    {
     "name": "stdout",
     "output_type": "stream",
     "text": [
      "Welcome to JupyROOT 6.10/08\n"
     ]
    }
   ],
   "source": [
    "from __future__ import division\n",
    "import imp\n",
    "import uproot\n",
    "import matplotlib\n",
    "#matplotlib.use('agg')\n",
    "import matplotlib.pyplot as plt\n",
    "import matplotlib.image as mpimg\n",
    "import numpy as np\n",
    "import pandas as pd\n",
    "import os\n",
    "import ROOT\n",
    "import time\n",
    "import math\n",
    "from array import array\n",
    "import collections\n",
    "\n",
    "inputdir = '/home/tmettler/Desktop/v08_00_00_33/V08_00_00_35/weighted/'\n",
    "outputdir = inputdir+'xsec_genie_evrate_mar18/' \n",
    "output_filedir = outputdir\n",
    "lib_function_dir = '/home/tmettler/Desktop/uBoone/do_plots/'\n",
    "\n",
    "# helper functions\n",
    "globale = imp.load_source('globale',lib_function_dir+'globale.py')\n",
    "NuCC = imp.load_source('NuCC_function',lib_function_dir+'NuCC_function.py')\n",
    "NuCC_w = imp.load_source('NuCCWeight_function',lib_function_dir+'NuCCWeight_function.py')"
   ]
  },
  {
   "cell_type": "code",
   "execution_count": 2,
   "metadata": {},
   "outputs": [],
   "source": [
    "#!jupyter nbconvert --to script numuCCana_xsec_genie_other_momentum.ipynb"
   ]
  },
  {
   "cell_type": "code",
   "execution_count": 3,
   "metadata": {},
   "outputs": [
    {
     "name": "stderr",
     "output_type": "stream",
     "text": [
      "Warning in <TCanvas::Constructor>: Deleting canvas with same name: c1\n"
     ]
    }
   ],
   "source": [
    "# initialte ROOT default canvas\n",
    "ROOT.gROOT.SetBatch(ROOT.kTRUE)\n",
    "ROOT.gStyle.SetOptStat(0)\n",
    "c1 = ROOT.TCanvas(\"c1\",\"c1\",1600,1200)\n",
    "c1.SetGrid(1)\n",
    "c1.SetLeftMargin(0.14)\n",
    "c1.SetRightMargin(0.18)\n",
    "c1.SetBottomMargin(0.14)"
   ]
  },
  {
   "cell_type": "markdown",
   "metadata": {},
   "source": [
    "# Genie other 2 univers sims, systematic, Momentum"
   ]
  },
  {
   "cell_type": "code",
   "execution_count": 4,
   "metadata": {},
   "outputs": [],
   "source": [
    "# Load input files\n",
    "outputdir_png, outputdir_root,outputdir_pdf = NuCC.prepareOutput2(outputdir)\n",
    "\n",
    "try:\n",
    "    os.stat(output_filedir)\n",
    "except:\n",
    "    os.mkdir(output_filedir)\n",
    "RootFile = ROOT.TFile(output_filedir+\"Genie_other_evrates.root\",\"RECREATE\");\n",
    "\n",
    "#filename_overlay = 'NuCCana_overlay_V26_weight.root'\n",
    "filename_overlay = 'NuCCana_overlay_V26_mar18.root'\n",
    "\n",
    "#filename_overlay = 'NuCCana_overlay_v25_weighted_all.root'\n",
    "filename_data = 'NuCCana_data_V25.root'\n",
    "filename_ext = 'NuCCana_ext_V25.root'\n",
    "filename_dirt = 'NuCCana_dirt_V26_weight.root'\n",
    "    \n",
    "tree_name = 'numuCCAna'"
   ]
  },
  {
   "cell_type": "code",
   "execution_count": 5,
   "metadata": {},
   "outputs": [
    {
     "name": "stdout",
     "output_type": "stream",
     "text": [
      "Overlay: Number of Entries:\t1012051\n",
      "Data: Number of Entries:\t28005\n",
      "Ext: Number of Entries:\t\t222702\n",
      "Dirt: Number of Entries:\t40808\n",
      "\n",
      "POT: \n",
      "Data:\t\t7.644e+18\n",
      "Ext:\t\t0\n",
      "Overlay:\t1.26811760704e+21\n",
      "Dirt:\t\t1.25019694173e+20\n",
      "\n",
      "Scalefactors: \n",
      "Data:\t\t1.0\n",
      "Ext:\t\t0.0967862715198\n",
      "Overlay:\t0.0060278320856\n",
      "Dirt:\t\t0.0611423668132\n"
     ]
    },
    {
     "name": "stderr",
     "output_type": "stream",
     "text": [
      "Warning in <TClass::Init>: no dictionary for class ROOT::TIOFeatures is available\n"
     ]
    }
   ],
   "source": [
    "#Open all the trees of the four files (data, ext, dirt, overlay)\n",
    "\n",
    "data, ext, dirt, overlay = NuCC.openTrees(inputdir, filename_data, filename_ext, filename_dirt, filename_overlay, tree_name)\n",
    "NuCC.printNumberOfEntries(data,ext,dirt,overlay)\n",
    "\n",
    "pot_overlay = NuCC.getPOT(inputdir,filename_overlay,tree_name)\n",
    "pot_dirt =  NuCC.getPOT(inputdir,filename_dirt,tree_name)\n",
    "#V25 files\n",
    "pot_data =    7.644e+18  # best with tor875\n",
    "data_trigger = 1838700.0 #2220362.0 #1854495.0 #4743794 # 1987072.0 # E1DCNT_wcut\n",
    "ext_trigger =  18997529.0  #2120135 #5685315 # EXT\n",
    "\n",
    "print 'POT: '\n",
    "print 'Data:\\t\\t', pot_data\n",
    "print 'Ext:\\t\\t', 0\n",
    "print 'Overlay:\\t', pot_overlay\n",
    "print 'Dirt:\\t\\t', pot_dirt\n",
    "print ''\n",
    "sample = [data,ext,overlay,dirt]\n",
    "scale = {data:1.0,ext:1.0,overlay:1.0,dirt:1.0}\n",
    "name = {data:'data',ext:'ext',overlay:'overlay',dirt:'dirt'}\n",
    "\n",
    "scale[data], scale[ext], scale[dirt], scale[overlay] = NuCC.calculateScale(data_trigger, ext_trigger, pot_data, pot_dirt, pot_overlay)\n",
    "\n",
    "scale[dirt] = scale[dirt]\n",
    "scale[overlay] = scale[overlay]\n",
    "print 'Scalefactors: '\n",
    "print 'Data:\\t\\t', scale[data]\n",
    "print 'Ext:\\t\\t', scale[ext]\n",
    "print 'Overlay:\\t', scale[overlay]\n",
    "print 'Dirt:\\t\\t', scale[dirt]\n"
   ]
  },
  {
   "cell_type": "code",
   "execution_count": 6,
   "metadata": {},
   "outputs": [
    {
     "name": "stdout",
     "output_type": "stream",
     "text": [
      "Overlay: Number of Entries:\t1013969\n",
      "Data: Number of Entries:\t28004\n",
      "Ext: Number of Entries:\t\t222701\n",
      "Dirt: Number of Entries:\t40800\n",
      "\n"
     ]
    }
   ],
   "source": [
    "if 1:\n",
    "    #filename_overlay = filename_overlay+'out4.root'\n",
    "    filename_overlay = 'NuCCana_overlay_V26_mar18_noflux.rootout4.root'\n",
    "    #filename_overlay = 'NuCCana_overlay_points_1kev.rootout2.root'\n",
    "    filename_data = filename_data+'out4.root'\n",
    "    filename_ext = filename_ext+'out4.root'\n",
    "    filename_dirt = filename_dirt+'out4.root'\n",
    "\n",
    "    tree_name = 't_out'\n",
    "\n",
    "    data_out, ext_out, dirt_out, overlay_out = NuCC.openTreesOut(inputdir, filename_data, filename_ext, filename_dirt, filename_overlay, tree_name)\n",
    "    NuCC.printNumberOfEntries(data_out,ext_out,dirt_out,overlay_out)\n",
    "\n",
    "    sample_out = [data_out,ext_out,overlay_out,dirt_out]\n",
    "    scale_out = {data_out:1.0,ext_out:1.0,overlay_out:1.0,dirt_out:1.0}\n",
    "    name_out = {data_out:'data',ext_out:'ext',overlay_out:'overlay',dirt_out:'dirt'}\n",
    "\n",
    "    scale_out[data_out], scale_out[ext_out], scale_out[dirt_out], scale_out[overlay_out] = NuCC.calculateScale(data_trigger, ext_trigger, pot_data, pot_dirt, pot_overlay)\n",
    "    scale_out[dirt_out] = scale_out[dirt_out]\n",
    "    scale_out[overlay_out] = scale_out[overlay_out]"
   ]
  },
  {
   "cell_type": "code",
   "execution_count": 7,
   "metadata": {},
   "outputs": [
    {
     "name": "stdout",
     "output_type": "stream",
     "text": [
      "7.34038944724e-10\n",
      "7.3789785277e-10\n",
      "Fiducial Volume:  49184671.35\n",
      "Beam flux = 5.64049e+09  /cm2\n",
      "Number of target nuclei= 4.10331e+31  /cm3\n"
     ]
    }
   ],
   "source": [
    "##### flux and number of tragets parameters###\n",
    "flux = 1.16859e11/1.592e20 # flux per POT per cm2\n",
    "print flux\n",
    "flux = 7.3789785277e-10\n",
    "print flux\n",
    "roh_data = 1.3836 #data denisity g/cm3\n",
    "roh_MC = 1.3954 # MC denisity g/cm3\n",
    "mol = 39.95 # g for argon\n",
    "N_A = 6.022140857e23 # molec/mol avogadro zahl\n",
    "N_nucleons = 40.0\n",
    "V_fid = ((254.8-10)-(-1.55+10))*((117.47-10)-(-115.53+10))*((1036.9-50)-(-0.1+10))\n",
    "print 'Fiducial Volume: ', V_fid\n",
    "##############################################\n",
    "\n",
    "beam_flux = flux * pot_data\n",
    "print 'Beam flux = {:.5e}'.format(beam_flux),' /cm2'\n",
    "N_tot = roh_data*N_A*N_nucleons*V_fid/mol\n",
    "print 'Number of target nuclei= {:.5e}'.format(N_tot),' /cm3'"
   ]
  },
  {
   "cell_type": "code",
   "execution_count": 8,
   "metadata": {},
   "outputs": [],
   "source": [
    "# Define signals\n",
    "\n",
    "fidVol = '(Nu_Vx_sce>(-1.55+10) && Nu_Vx_sce<(254.8-10)) && (Nu_Vy_sce>(-115.53+10) && Nu_Vy_sce<(117.47-10)) &&(Nu_Vz_sce>(-0.1+10) && Nu_Vz_sce<(1036.9-50))'\n",
    "MCfidVol = '(MCNu_Vx>(-1.55+10) && MCNu_Vx<(254.8-10)) && (MCNu_Vy>(-115.53+10) && MCNu_Vy<(117.47-10)) &&(MCNu_Vz>(-0.1+10) && MCNu_Vz<(1036.9-50))'\n",
    "numu_signal = 'fidVol && MCfidVol && MCNu_CCNC==0 && MCNu_PDG==14 && MCTrackPDG==13 && MCTrackPurity>0.5' # numu CC signal definition\n",
    "numu_true = 'MCfidVol && MCNu_CCNC==0 && MCNu_PDG==14' # numu CC signal definition\n",
    "numu_nomu = 'fidVol && MCfidVol && MCNu_CCNC==0 && MCNu_PDG==14 && MCTrackPDG!=13 && MCTrackPurity>0.5' # not an MC muon\n",
    "numu_lowpur = 'fidVol && MCfidVol && MCNu_CCNC==0 && MCNu_PDG==14 && MCTrackPurity<0.5' #low purity\n",
    "numu_nc = 'fidVol && MCfidVol && MCNu_CCNC==1' # nutral current\n",
    "numu_ov = 'fidVol && !MCfidVol' # out of fiducial\n",
    "numu_other = 'fidVol && MCfidVol && MCNu_CCNC==0 && MCNu_PDG!=14' # e.g anti nu or nue\n",
    "#signal = 'MCfidVol && MCNu_CCNC==0 && MCNu_PDG==14'\n",
    "for x in sample:\n",
    "    x.SetAlias('muon','(muon_candidate_key==track_key)')\n",
    "    \n",
    "num_fidVol = {}\n",
    "for x in sample:\n",
    "    x.SetAlias('fidVol',fidVol)\n",
    "    x.SetAlias('MCfidVol',MCfidVol)\n",
    "    x.SetAlias('numu_signal',numu_signal)\n",
    "    x.SetAlias('numu_true',numu_true)\n",
    "    x.SetAlias('numu_nomu',numu_nomu)\n",
    "    x.SetAlias('numu_lowpur',numu_lowpur)\n",
    "    x.SetAlias('numu_nc',numu_nc)\n",
    "    x.SetAlias('numu_ov',numu_ov)\n",
    "    x.SetAlias('numu_other',numu_other)\n",
    "    num_fidVol[x] = x.GetEntries('fidVol && muon')*scale[x]\n",
    "    \n",
    "tot_num_fidVol = num_fidVol[ext]+num_fidVol[dirt]+num_fidVol[overlay]\n",
    "overlay_signals = {'numu_signal','numu_nomu','numu_lowpur','numu_nc','numu_ov','numu_other'}"
   ]
  },
  {
   "cell_type": "code",
   "execution_count": 9,
   "metadata": {},
   "outputs": [],
   "source": [
    "for x in sample_out:\n",
    "    x.SetAlias('muon','(track_key == key_muon)')\n",
    "\n",
    "num_fidVol = {}\n",
    "for x in sample_out:\n",
    "    x.SetAlias('fidVol',fidVol)\n",
    "    x.SetAlias('MCfidVol',MCfidVol)\n",
    "    x.SetAlias('numu_signal',numu_signal)\n",
    "    x.SetAlias('numu_true',numu_true)\n",
    "    x.SetAlias('numu_nomu',numu_nomu)\n",
    "    x.SetAlias('numu_lowpur',numu_lowpur)\n",
    "    x.SetAlias('numu_nc',numu_nc)\n",
    "    x.SetAlias('numu_ov',numu_ov)\n",
    "    x.SetAlias('numu_other',numu_other)"
   ]
  },
  {
   "cell_type": "code",
   "execution_count": 10,
   "metadata": {},
   "outputs": [
    {
     "name": "stderr",
     "output_type": "stream",
     "text": [
      "Warning in <TCanvas::Constructor>: Deleting canvas with same name: c1\n"
     ]
    }
   ],
   "source": [
    "# Load the global variables for access of functions\n",
    "NuCC.loadGlobal(data,ext,dirt,overlay,data_out,ext_out,dirt_out,overlay_out,scale,scale_out,tot_num_fidVol,overlay_signals,sample,sample_out, name,name_out, outputdir_png, outputdir_root,outputdir_pdf)\n",
    "#NuCC.printGlobal()"
   ]
  },
  {
   "cell_type": "code",
   "execution_count": 11,
   "metadata": {},
   "outputs": [],
   "source": [
    "# initialte ROOT default canvas\n",
    "ROOT.gStyle.SetOptStat(0)\n",
    "c1 = ROOT.TCanvas(\"c1\",\"c1\",1600,1200)\n",
    "c1.SetGrid(1)\n",
    "c1.SetLeftMargin(0.14)\n",
    "c1.SetRightMargin(0.18)\n",
    "c1.SetBottomMargin(0.14)"
   ]
  },
  {
   "cell_type": "code",
   "execution_count": 12,
   "metadata": {},
   "outputs": [],
   "source": [
    "'''track_start_border_x = '(TrackStart_x_sce <(-1.55+1) || TrackStart_x_sce > (254.8-1))'\n",
    "track_end_border_x = '(TrackEnd_x_sce <(-1.55+1) || TrackEnd_x_sce > (254.8-1))'\n",
    "track_start_border_y = '(TrackStart_y_sce <(-115.53+1) || TrackStart_y_sce > (117.47-1))'\n",
    "track_end_border_y = '(TrackEnd_y_sce <(-115.53+1) || TrackEnd_y_sce > (117.47-1))'\n",
    "track_start_border_z = '(TrackStart_z_sce <(0.1+1) || TrackStart_z_sce > (1036.9-1))'\n",
    "track_end_border_z = '(TrackEnd_z_sce <(0.1+1) || TrackEnd_z_sce > (1039.9-1))'\n",
    "'''\n",
    "track_start_border_x = '(TrackStart_x_sce <(-1.55+5) || TrackStart_x_sce > (254.8-5))'\n",
    "track_end_border_x = '(TrackEnd_x_sce <(-1.55+5) || TrackEnd_x_sce > (254.8-5))'\n",
    "track_start_border_y = '(TrackStart_y_sce <(-115.53+5) || TrackStart_y_sce > (117.47-5))'\n",
    "track_end_border_y = '(TrackEnd_y_sce <(-115.53+5) || TrackEnd_y_sce > (117.47-5))'\n",
    "track_start_border_z = '(TrackStart_z_sce <(0.1+5) || TrackStart_z_sce > (1036.9-5))'\n",
    "track_end_border_z = '(TrackEnd_z_sce <(0.1+5) || TrackEnd_z_sce > (1039.9-5))'\n",
    "\n",
    "track_end_uncontained = '(' + track_end_border_x + ' || ' + track_end_border_y + ' || ' + track_end_border_z+ ')'\n",
    "\n",
    "\n",
    "data.SetAlias(\"track_end_uncontained\",track_end_uncontained)\n",
    "ext.SetAlias(\"track_end_uncontained\",track_end_uncontained)\n",
    "overlay.SetAlias(\"track_end_uncontained\",track_end_uncontained)\n",
    "dirt.SetAlias(\"track_end_uncontained\",track_end_uncontained)\n",
    "data_out.SetAlias(\"track_end_uncontained\",track_end_uncontained)\n",
    "ext_out.SetAlias(\"track_end_uncontained\",track_end_uncontained)\n",
    "overlay_out.SetAlias(\"track_end_uncontained\",track_end_uncontained)\n",
    "dirt_out.SetAlias(\"track_end_uncontained\",track_end_uncontained)\n",
    "\n",
    "data.SetAlias(\"crt_cut\",\"(abs(crtt0_time+(crt_trig_corr_med)/1000-4)<0.9 || crtt0_time==-1)\")\n",
    "ext.SetAlias(\"crt_cut\",\"(abs(crtt0_time+(crt_trig_corr_med)/1000-3.57+3.195-4)<0.9 || crtt0_time==-1)\")\n",
    "overlay.SetAlias(\"crt_cut\",\"(abs(crtt0_time-3.95)<0.9 || crtt0_time==-1)\")\n",
    "dirt.SetAlias(\"crt_cut\",\"(abs(crtt0_time-3.95)<0.9 || crtt0_time==-1)\")\n",
    "data_out.SetAlias(\"crt_cut\",\"(abs(crtt0_time+(crt_trig_corr_med)/1000-3.95)<0.9 || crtt0_time==-1)\")\n",
    "ext_out.SetAlias(\"crt_cut\",\"(abs(crtt0_time+(crt_trig_corr_med)/1000-3.57+3.195-3.95)<0.9 || crtt0_time==-1)\")\n",
    "overlay_out.SetAlias(\"crt_cut\",\"(abs(crtt0_time-3.95)<0.9 || crtt0_time==-1)\")\n",
    "dirt_out.SetAlias(\"crt_cut\",\"(abs(crtt0_time-3.95)<0.9 || crtt0_time==-1)\")\n",
    "\n",
    "crt_tom_cut = 'nr_crthit_top==0 && crthit_vertex_zcut==0 && (track_end_uncontained==1 || nr_crthit_beam_tres==0) && crt_cut'\n",
    "\n",
    "data.SetAlias(\"crt_tom_cut\",crt_tom_cut)\n",
    "ext.SetAlias(\"crt_tom_cut\",crt_tom_cut)\n",
    "overlay.SetAlias(\"crt_tom_cut\",crt_tom_cut)\n",
    "dirt.SetAlias(\"crt_tom_cut\",crt_tom_cut)\n",
    "data_out.SetAlias(\"crt_tom_cut\",crt_tom_cut)\n",
    "ext_out.SetAlias(\"crt_tom_cut\",crt_tom_cut)\n",
    "overlay_out.SetAlias(\"crt_tom_cut\",crt_tom_cut)\n",
    "dirt_out.SetAlias(\"crt_tom_cut\",crt_tom_cut)\n",
    "\n",
    "weight_name = 'EventWeight*TunedCentralValue_Genie'\n"
   ]
  },
  {
   "cell_type": "code",
   "execution_count": 13,
   "metadata": {},
   "outputs": [
    {
     "name": "stdout",
     "output_type": "stream",
     "text": [
      "Nuber of parameters:  9\n"
     ]
    }
   ],
   "source": [
    "#weight_list = {}\n",
    "'''weight_list_all = [ 'All_Genie', 'AxFFCCQEshape_Genie', 'DecayAngMEC_Genie', 'MaNCRES_Genie', 'Theta_Delta2Npi_Genie', 'TunedCentralValue_Genie',\\\n",
    "    'VecFFCCQEshape_Genie', 'expskin_FluxUnisim', 'horncurrent_FluxUnisim', 'kminus_PrimaryHadronNormalization', 'kplus_PrimaryHadronFeynmanScaling',\\\n",
    "    'kzero_PrimaryHadronSanfordWang', 'nucleoninexsec_FluxUnisim', 'nucleonqexsec_FluxUnisim', 'nucleontotxsec_FluxUnisim',\\\n",
    "    'piminus_PrimaryHadronSWCentralSplineVariation', 'pioninexsec_FluxUnisim', 'pionqexsec_FluxUnisim', 'piontotxsec_FluxUnisim',\\\n",
    "    'piplus_PrimaryHadronSWCentralSplineVariation', 'splines_general_Spline' ]'''\n",
    "\n",
    "#weight_list_genie_other = [ 'AxFFCCQEshape_Genie', 'DecayAngMEC_Genie', 'MaNCRES_Genie', 'Theta_Delta2Npi_Genie', 'VecFFCCQEshape_Genie' ]\n",
    "\n",
    "'''weight_list_flux = [ 'expskin_FluxUnisim', 'horncurrent_FluxUnisim', 'kminus_PrimaryHadronNormalization', 'kplus_PrimaryHadronFeynmanScaling',\\\n",
    "    'kzero_PrimaryHadronSanfordWang', 'nucleoninexsec_FluxUnisim', 'nucleonqexsec_FluxUnisim', 'nucleontotxsec_FluxUnisim',\\\n",
    "    'piminus_PrimaryHadronSWCentralSplineVariation', 'pioninexsec_FluxUnisim', 'pionqexsec_FluxUnisim', 'piontotxsec_FluxUnisim',\\\n",
    "    'piplus_PrimaryHadronSWCentralSplineVariation' ]'''\n",
    "\n",
    "#weight_list = [ 'AxFFCCQEshape_Genie', 'DecayAngMEC_Genie', 'MaNCRES_Genie', 'Theta_Delta2Npi_Genie', 'VecFFCCQEshape_Genie' ]\n",
    "weight_list = [ 'AxFFCCQEshape_UBGenie', 'DecayAngMEC_UBGenie', 'NormCCCOH_UBGenie', 'NormNCCOH_UBGenie',\\\n",
    "               'RPA_CCQE_Reduced_UBGenie','RPA_CCQE_UBGenie','ThetaDelta2NRad_UBGenie','Theta_Delta2Npi_UBGenie',\\\n",
    "                'VecFFCCQEshape_UBGenie']#,'XSecShape_CCMEC_UBGenie']\n",
    "\n",
    "num_para = len(weight_list)\n",
    "print 'Nuber of parameters: ',num_para\n"
   ]
  },
  {
   "cell_type": "code",
   "execution_count": 14,
   "metadata": {},
   "outputs": [],
   "source": [
    "weight_name = 'EventWeight*TunedCentralValue_Genie'\n",
    "num_universes = 2\n",
    "eff_uni = np.zeros((num_para,num_universes))\n",
    "mom_bins = [ 0.00, 0.18, 0.30, 0.45, 0.77, 1.28, 2.50 ]\n",
    "binnum = len(mom_bins) - 1"
   ]
  },
  {
   "cell_type": "code",
   "execution_count": 15,
   "metadata": {},
   "outputs": [
    {
     "name": "stdout",
     "output_type": "stream",
     "text": [
      "Data:  1348.0  Ext:  142.179031156  Dirt:  32.1298251934\n"
     ]
    },
    {
     "data": {
      "text/plain": [
       "442"
      ]
     },
     "execution_count": 15,
     "metadata": {},
     "output_type": "execute_result"
    }
   ],
   "source": [
    "variable = 'TrackMomMCS_mom'\n",
    "cut = 'fidVol && muon && crt_tom_cut && TrackScore>0.8\\\n",
    "                && TrackLength>20 && TrackPID_chiproton>78 && NuScore>0.1'\n",
    "\n",
    "h_ext_mom = ROOT.TH1F('h_ext_mom','h_ext_mom',binnum,array('f',mom_bins))\n",
    "h_data_mom = ROOT.TH1F('h_data_mom','h_data_mom',binnum,array('f',mom_bins))\n",
    "h_dirt_mom = ROOT.TH1F('h_dirt_mom','h_dirt_mom',binnum,array('f',mom_bins))\n",
    "\n",
    "globale.ext_out.Draw(variable+'>>h_ext_mom','('+cut+')')\n",
    "globale.data_out.Draw(variable+'>>h_data_mom','('+cut+')')\n",
    "globale.dirt_out.Draw(variable+'>>h_dirt_mom',weight_name+'*('+cut+')')\n",
    "\n",
    "h_data_mom.Scale(globale.scale[globale.data])\n",
    "h_ext_mom.Scale(globale.scale[globale.ext])\n",
    "h_dirt_mom.Scale(globale.scale[globale.dirt])\n",
    "#h_overlay.Scale(globale.scale[globale.overlay])\n",
    "\n",
    "bkg_ext = h_ext_mom.Integral(0,binnum+1)\n",
    "num_data = h_data_mom.Integral(0,binnum+1)\n",
    "bkg_dirt = h_dirt_mom.Integral(0,binnum+1)\n",
    "\n",
    "print 'Data: ', num_data,' Ext: ', bkg_ext,' Dirt: ',bkg_dirt\n",
    "\n",
    "h_data_mom.Write(\"h_data_mom\")\n",
    "h_ext_mom.Write(\"h_ext_mom\")\n",
    "h_dirt_mom.Write(\"h_dirt_mom\")"
   ]
  },
  {
   "cell_type": "code",
   "execution_count": 16,
   "metadata": {},
   "outputs": [],
   "source": [
    "def make_mc_hist(cut,variable,xtitle,xstart,xend,xbins,name,weight_name):\n",
    "    #weight_name = 'EventWeight*TunedCentralValue_Genie'\n",
    "    h_bgk = ROOT.TH1F(\"h_bgk\",'h_bgk',xbins,xstart,xend)\n",
    "    overlay_out.Draw(variable+'>>h_bgk',weight_name+'*('+cut+')','')\n",
    "    h_bgk.SetXTitle(xtitle)\n",
    "    h_bgk.SetYTitle(\"Entries per bin\")\n",
    "    h_bgk.Scale(scale_out[overlay_out])\n",
    "    h_bgk.Draw(\"\")\n",
    "    h_bgk.Write(name)\n",
    "    return\n",
    "def make_data_hist(cut,variable,xtitle,xstart,xend,xbins,name):\n",
    "    h_bgk = ROOT.TH1F(\"h_bgk\",'h_bgk',xbins,xstart,xend)\n",
    "    data_out.Draw(variable+'>>h_bgk','1*('+cut+')','')\n",
    "    h_bgk.SetXTitle(xtitle)\n",
    "    h_bgk.SetYTitle(\"Entries per bin\")\n",
    "    h_bgk.Scale(scale_out[data_out])\n",
    "    h_bgk.Draw(\"\")\n",
    "    h_bgk.Write(name+'dat')\n",
    "    ext_out.Draw(variable+'>>h_bgk','1*('+cut+')','')\n",
    "    h_bgk.SetXTitle(xtitle)\n",
    "    h_bgk.SetYTitle(\"Entries per bin\")\n",
    "    h_bgk.Scale(scale_out[ext_out])\n",
    "    h_bgk.Draw(\"\")\n",
    "    h_bgk.Write(name+'ext')\n",
    "    dirt_out.Draw(variable+'>>h_bgk','EventWeight*TunedCentralValue_Genie*('+cut+')','')\n",
    "    h_bgk.SetXTitle(xtitle)\n",
    "    h_bgk.SetYTitle(\"Entries per bin\")\n",
    "    h_bgk.Scale(scale_out[dirt_out])\n",
    "    h_bgk.Draw(\"\")\n",
    "    h_bgk.Write(name+'dirt')\n"
   ]
  },
  {
   "cell_type": "code",
   "execution_count": 17,
   "metadata": {},
   "outputs": [
    {
     "name": "stdout",
     "output_type": "stream",
     "text": [
      "Get efficiency of Parameter:  AxFFCCQEshape_UBGenie\n",
      "Get efficiency of Parameter:  DecayAngMEC_UBGenie\n",
      "Get efficiency of Parameter:  NormCCCOH_UBGenie\n",
      "Get efficiency of Parameter:  NormNCCOH_UBGenie\n",
      "Get efficiency of Parameter:  RPA_CCQE_Reduced_UBGenie\n",
      "Get efficiency of Parameter:  RPA_CCQE_UBGenie\n",
      "Get efficiency of Parameter:  ThetaDelta2NRad_UBGenie\n",
      "Get efficiency of Parameter:  Theta_Delta2Npi_UBGenie\n",
      "Get efficiency of Parameter:  VecFFCCQEshape_UBGenie\n"
     ]
    }
   ],
   "source": [
    "cut_bkg = 'fidVol && muon && TrackLength>8 && crt_tom_cut && TrackScore>0.8\\\n",
    "                && TrackLength>20 && TrackPID_chiproton>78 && NuScore>0.1'\n",
    "name = '_all'\n",
    "\n",
    "make_data_hist(cut_bkg,'TrackMomMCS_mom','Muon momentum MCS [GeV]',0,2.5,20,'TrackMom_MCS'+name)\n",
    "make_data_hist(cut_bkg,'TrackMomRange_mu','Muon momentum range [GeV]',0,2.5,20,'TrackMom_range'+name)\n",
    "make_data_hist(cut_bkg,'Nu_Vx_sce','Reco. Nu vertex X position [cm]',-10,270,20,'NuVx_sce'+name)\n",
    "make_data_hist(cut_bkg,'Nu_Vy_sce','Reco. Nu vertex Y position [cm]',-120,120,20,'NuVy_sce'+name)\n",
    "make_data_hist(cut_bkg,'Nu_Vz_sce','Reco. Nu vertex Z position [cm]',-50,1050,20,'NuVz_sce'+name)\n",
    "make_data_hist(cut_bkg,'cos(TrackTheta)','cos(Theta)',-1,1,20,'cosTheta'+name)\n",
    "make_data_hist(cut_bkg,'TrackLength','Track length [cm]',0,300,60,'TrackLength'+name)\n",
    "make_data_hist(cut_bkg,'TrackPID_chiproton','Proton chi2',0,200,20,'PID_chiproton'+name)\n",
    "make_data_hist(cut_bkg,'TrackPID_chimuon/TrackPID_chipion','TrackPID_chimuon/TrackPID_chipion',0.4,1.2,20,'PIDmupion_ration'+name)\n",
    "make_data_hist(cut_bkg,'TrackPID_chimuon/TrackPID_chiproton','TrackPID_chimuon/TrackPID_chiproton',0,0.25,25,'PIDmuprot_ration'+name)\n",
    "make_data_hist(cut_bkg,'nr_crthit_top','Nr CRTHits in Top',0,4,4,'nr_crthit_top'+name)\n",
    "make_data_hist(cut_bkg,'crthit_vertex_zcut','Number of CRT hits upstream of vertex',0,4,4,'CRTVertexcut'+name)\n",
    "make_data_hist(cut_bkg,'TrackScore','TrackScore',0.5,1,20,'TrackScore'+name)\n",
    "make_data_hist(cut_bkg,'NuScore','Muon momentum [GeV]',0,1,20,'NuScore'+name)\n",
    "make_data_hist(cut_bkg,'NuTracks','Number of tracks',0,10,10,'NuTracks'+name)\n",
    "make_data_hist(cut_bkg,'NumPfp','Number of PFparticles',0,10,10,'NumPfp'+name)\n",
    "\n",
    "for para in range(num_para): \n",
    "    print 'Get efficiency of Parameter: ', weight_list[para]\n",
    "    for uni in range(num_universes):\n",
    "        # do stuff here\n",
    "        this_name = name+ '[' + str(para)+']['+str(uni)+']'\n",
    "        make_mc_hist(cut_bkg,'TrackMomMCS_mom','Muon momentum MCS [GeV]',0,2.5,20,'TrackMom_MCS'+this_name,weight_list[para]+str([uni]))\n",
    "        make_mc_hist(cut_bkg,'TrackMomRange_mu','Muon momentum range [GeV]',0,2.5,20,'TrackMom_range'+this_name,weight_list[para]+str([uni]))\n",
    "        make_mc_hist(cut_bkg,'Nu_Vx_sce','Reco. Nu vertex X position [cm]',-10,270,20,'NuVx_sce'+this_name,weight_list[para]+str([uni]))\n",
    "        make_mc_hist(cut_bkg,'Nu_Vy_sce','Reco. Nu vertex Y position [cm]',-120,120,20,'NuVy_sce'+this_name,weight_list[para]+str([uni]))\n",
    "        make_mc_hist(cut_bkg,'Nu_Vz_sce','Reco. Nu vertex Z position [cm]',-50,1050,20,'NuVz_sce'+this_name,weight_list[para]+str([uni]))\n",
    "        make_mc_hist(cut_bkg,'cos(TrackTheta)','cos(Theta)',-1,1,20,'cosTheta'+this_name,weight_list[para]+str([uni]))\n",
    "        make_mc_hist(cut_bkg,'TrackLength','Track length [cm]',0,300,60,'TrackLength'+this_name,weight_list[para]+str([uni]))\n",
    "        make_mc_hist(cut_bkg,'TrackPID_chiproton','Proton chi2',0,200,20,'PID_chiproton'+this_name,weight_list[para]+str([uni]))\n",
    "        make_mc_hist(cut_bkg,'TrackPID_chimuon/TrackPID_chipion','TrackPID_chimuon/TrackPID_chipion',0.4,1.2,20,'PIDmupion_ration'+this_name,weight_list[para]+str([uni]))\n",
    "        make_mc_hist(cut_bkg,'TrackPID_chimuon/TrackPID_chiproton','TrackPID_chimuon/TrackPID_chiproton',0,0.25,25,'PIDmuprot_ration'+this_name,weight_list[para]+str([uni]))\n",
    "        make_mc_hist(cut_bkg,'nr_crthit_top','Nr CRTHits in Top',0,4,4,'nr_crthit_top'+this_name,weight_list[para]+str([uni]))\n",
    "        make_mc_hist(cut_bkg,'crthit_vertex_zcut','Number of CRT hits upstream of vertex',0,4,4,'CRTVertexcut'+this_name,weight_list[para]+str([uni]))\n",
    "        make_mc_hist(cut_bkg,'TrackScore','TrackScore',0.5,1,20,'TrackScore'+this_name,weight_list[para]+str([uni]))\n",
    "        make_mc_hist(cut_bkg,'NuScore','Muon momentum [GeV]',0,1,20,'NuScore'+this_name,weight_list[para]+str([uni]))\n",
    "        make_mc_hist(cut_bkg,'NuTracks','Number of tracks',0,10,10,'NuTracks'+this_name,weight_list[para]+str([uni]))\n",
    "        make_mc_hist(cut_bkg,'NumPfp','Number of PFparticles',0,10,10,'NumPfp'+this_name,weight_list[para]+str([uni]))"
   ]
  },
  {
   "cell_type": "code",
   "execution_count": 18,
   "metadata": {},
   "outputs": [
    {
     "name": "stdout",
     "output_type": "stream",
     "text": [
      "Get efficiency of Parameter:  AxFFCCQEshape_UBGenie\n",
      "Get efficiency of Parameter:  DecayAngMEC_UBGenie\n",
      "Get efficiency of Parameter:  NormCCCOH_UBGenie\n",
      "Get efficiency of Parameter:  NormNCCOH_UBGenie\n",
      "Get efficiency of Parameter:  RPA_CCQE_Reduced_UBGenie\n",
      "Get efficiency of Parameter:  RPA_CCQE_UBGenie\n",
      "Get efficiency of Parameter:  ThetaDelta2NRad_UBGenie\n",
      "Get efficiency of Parameter:  Theta_Delta2Npi_UBGenie\n",
      "Get efficiency of Parameter:  VecFFCCQEshape_UBGenie\n"
     ]
    }
   ],
   "source": [
    "cut_bkg = 'fidVol && muon'\n",
    "name = '_pre'\n",
    "\n",
    "make_data_hist(cut_bkg,'TrackMomMCS_mom','Muon momentum MCS [GeV]',0,2.5,20,'TrackMom_MCS'+name)\n",
    "make_data_hist(cut_bkg,'TrackMomRange_mu','Muon momentum range [GeV]',0,2.5,20,'TrackMom_range'+name)\n",
    "make_data_hist(cut_bkg,'Nu_Vx_sce','Reco. Nu vertex X position [cm]',-10,270,20,'NuVx_sce'+name)\n",
    "make_data_hist(cut_bkg,'Nu_Vy_sce','Reco. Nu vertex Y position [cm]',-120,120,20,'NuVy_sce'+name)\n",
    "make_data_hist(cut_bkg,'Nu_Vz_sce','Reco. Nu vertex Z position [cm]',-50,1050,20,'NuVz_sce'+name)\n",
    "make_data_hist(cut_bkg,'cos(TrackTheta)','cos(Theta)',-1,1,20,'cosTheta'+name)\n",
    "make_data_hist(cut_bkg,'TrackLength','Track length [cm]',0,300,60,'TrackLength'+name)\n",
    "make_data_hist(cut_bkg,'TrackPID_chiproton','Proton chi2',0,200,20,'PID_chiproton'+name)\n",
    "make_data_hist(cut_bkg,'TrackPID_chimuon/TrackPID_chipion','TrackPID_chimuon/TrackPID_chipion',0.4,1.2,20,'PIDmupion_ration'+name)\n",
    "make_data_hist(cut_bkg,'TrackPID_chimuon/TrackPID_chiproton','TrackPID_chimuon/TrackPID_chiproton',0,0.25,25,'PIDmuprot_ration'+name)\n",
    "make_data_hist(cut_bkg,'nr_crthit_top','Nr CRTHits in Top',0,4,4,'nr_crthit_top'+name)\n",
    "make_data_hist(cut_bkg,'crthit_vertex_zcut','Number of CRT hits upstream of vertex',0,4,4,'CRTVertexcut'+name)\n",
    "make_data_hist(cut_bkg,'TrackScore','TrackScore',0.5,1,20,'TrackScore'+name)\n",
    "make_data_hist(cut_bkg,'NuScore','Muon momentum [GeV]',0,1,20,'NuScore'+name)\n",
    "make_data_hist(cut_bkg,'NuTracks','Number of tracks',0,10,10,'NuTracks'+name)\n",
    "make_data_hist(cut_bkg,'NumPfp','Number of PFparticles',0,10,10,'NumPfp'+name)\n",
    "\n",
    "for para in range(num_para): \n",
    "    print 'Get efficiency of Parameter: ', weight_list[para]\n",
    "    for uni in range(num_universes):\n",
    "        # do stuff here\n",
    "        this_name = name+ '[' + str(para)+']['+str(uni)+']'\n",
    "        make_mc_hist(cut_bkg,'TrackMomMCS_mom','Muon momentum MCS [GeV]',0,2.5,20,'TrackMom_MCS'+this_name,weight_list[para]+str([uni]))\n",
    "        make_mc_hist(cut_bkg,'TrackMomRange_mu','Muon momentum range [GeV]',0,2.5,20,'TrackMom_range'+this_name,weight_list[para]+str([uni]))\n",
    "        make_mc_hist(cut_bkg,'Nu_Vx_sce','Reco. Nu vertex X position [cm]',-10,270,20,'NuVx_sce'+this_name,weight_list[para]+str([uni]))\n",
    "        make_mc_hist(cut_bkg,'Nu_Vy_sce','Reco. Nu vertex Y position [cm]',-120,120,20,'NuVy_sce'+this_name,weight_list[para]+str([uni]))\n",
    "        make_mc_hist(cut_bkg,'Nu_Vz_sce','Reco. Nu vertex Z position [cm]',-50,1050,20,'NuVz_sce'+this_name,weight_list[para]+str([uni]))\n",
    "        make_mc_hist(cut_bkg,'cos(TrackTheta)','cos(Theta)',-1,1,20,'cosTheta'+this_name,weight_list[para]+str([uni]))\n",
    "        make_mc_hist(cut_bkg,'TrackLength','Track length [cm]',0,300,60,'TrackLength'+this_name,weight_list[para]+str([uni]))\n",
    "        make_mc_hist(cut_bkg,'TrackPID_chiproton','Proton chi2',0,200,20,'PID_chiproton'+this_name,weight_list[para]+str([uni]))\n",
    "        make_mc_hist(cut_bkg,'TrackPID_chimuon/TrackPID_chipion','TrackPID_chimuon/TrackPID_chipion',0.4,1.2,20,'PIDmupion_ration'+this_name,weight_list[para]+str([uni]))\n",
    "        make_mc_hist(cut_bkg,'TrackPID_chimuon/TrackPID_chiproton','TrackPID_chimuon/TrackPID_chiproton',0,0.25,25,'PIDmuprot_ration'+this_name,weight_list[para]+str([uni]))\n",
    "        make_mc_hist(cut_bkg,'nr_crthit_top','Nr CRTHits in Top',0,4,4,'nr_crthit_top'+this_name,weight_list[para]+str([uni]))\n",
    "        make_mc_hist(cut_bkg,'crthit_vertex_zcut','Number of CRT hits upstream of vertex',0,4,4,'CRTVertexcut'+this_name,weight_list[para]+str([uni]))\n",
    "        make_mc_hist(cut_bkg,'TrackScore','TrackScore',0.5,1,20,'TrackScore'+this_name,weight_list[para]+str([uni]))\n",
    "        make_mc_hist(cut_bkg,'NuScore','Muon momentum [GeV]',0,1,20,'NuScore'+this_name,weight_list[para]+str([uni]))\n",
    "        make_mc_hist(cut_bkg,'NuTracks','Number of tracks',0,10,10,'NuTracks'+this_name,weight_list[para]+str([uni]))\n",
    "        make_mc_hist(cut_bkg,'NumPfp','Number of PFparticles',0,10,10,'NumPfp'+this_name,weight_list[para]+str([uni]))"
   ]
  },
  {
   "cell_type": "code",
   "execution_count": 19,
   "metadata": {},
   "outputs": [
    {
     "data": {
      "text/plain": [
       "\"cut_bkg = 'fidVol && muon && TrackLength>8 && crt_tom_cut && TrackScore>0.8                && TrackLength>20 && TrackPID_chiproton>78 && NuScore>0.1 && numu_signal'\\nname = 'signal_all'\\n\\nfor para in range(num_para): \\n    print 'Get efficiency of Parameter: ', weight_list[para]\\n    for uni in range(num_universes):\\n        # do stuff here\\n        this_name = name+ '[' + str(para)+']['+str(uni)+']'\\n        make_mc_hist(cut_bkg,'TrackMomMCS_mom','Muon momentum MCS [GeV]',0,2.5,20,'TrackMom_MCS'+this_name,weight_list[para]+str([uni]))\\n        make_mc_hist(cut_bkg,'TrackMomRange_mu','Muon momentum range [GeV]',0,2.5,20,'TrackMom_range'+this_name,weight_list[para]+str([uni]))\\n        make_mc_hist(cut_bkg,'Nu_Vx_sce','Reco. Nu vertex X position [cm]',-10,270,20,'NuVx_sce'+this_name,weight_list[para]+str([uni]))\\n        make_mc_hist(cut_bkg,'Nu_Vy_sce','Reco. Nu vertex Y position [cm]',-120,120,20,'NuVy_sce'+this_name,weight_list[para]+str([uni]))\\n        make_mc_hist(cut_bkg,'Nu_Vz_sce','Reco. Nu vertex Z position [cm]',-50,1050,20,'NuVz_sce'+this_name,weight_list[para]+str([uni]))\\n        make_mc_hist(cut_bkg,'cos(TrackTheta)','cos(Theta)',-1,1,20,'cosTheta'+this_name,weight_list[para]+str([uni]))\\n        make_mc_hist(cut_bkg,'TrackLength','Track length [cm]',0,300,60,'TrackLength'+this_name,weight_list[para]+str([uni]))\\n        make_mc_hist(cut_bkg,'TrackPID_chiproton','Proton chi2',0,200,20,'PID_chiproton'+this_name,weight_list[para]+str([uni]))\\n        make_mc_hist(cut_bkg,'TrackPID_chimuon/TrackPID_chipion','TrackPID_chimuon/TrackPID_chipion',0.4,1.2,20,'PIDmupion_ration'+this_name,weight_list[para]+str([uni]))\\n        make_mc_hist(cut_bkg,'TrackPID_chimuon/TrackPID_chiproton','TrackPID_chimuon/TrackPID_chiproton',0,0.25,25,'PIDmuprot_ration'+this_name,weight_list[para]+str([uni]))\\n        make_mc_hist(cut_bkg,'nr_crthit_top','Nr CRTHits in Top',0,4,4,'nr_crthit_top'+this_name,weight_list[para]+str([uni]))\\n        make_mc_hist(cut_bkg,'crthit_vertex_zcut','Number of CRT hits upstream of vertex',0,4,4,'CRTVertexcut'+this_name,weight_list[para]+str([uni]))\\n        make_mc_hist(cut_bkg,'TrackScore','TrackScore',0.5,1,20,'TrackScore'+this_name,weight_list[para]+str([uni]))\\n        make_mc_hist(cut_bkg,'NuScore','Muon momentum [GeV]',0,1,20,'NuScore'+this_name,weight_list[para]+str([uni]))\\n        make_mc_hist(cut_bkg,'NuTracks','Number of tracks',0,10,10,'NuTracks'+this_name,weight_list[para]+str([uni]))\\n        make_mc_hist(cut_bkg,'NumPfp','Number of PFparticles',0,10,10,'NumPfp'+this_name,weight_list[para]+str([uni]))\""
      ]
     },
     "execution_count": 19,
     "metadata": {},
     "output_type": "execute_result"
    }
   ],
   "source": [
    "'''cut_bkg = 'fidVol && muon && TrackLength>8 && crt_tom_cut && TrackScore>0.8\\\n",
    "                && TrackLength>20 && TrackPID_chiproton>78 && NuScore>0.1 && numu_signal'\n",
    "name = 'signal_all'\n",
    "\n",
    "for para in range(num_para): \n",
    "    print 'Get efficiency of Parameter: ', weight_list[para]\n",
    "    for uni in range(num_universes):\n",
    "        # do stuff here\n",
    "        this_name = name+ '[' + str(para)+']['+str(uni)+']'\n",
    "        make_mc_hist(cut_bkg,'TrackMomMCS_mom','Muon momentum MCS [GeV]',0,2.5,20,'TrackMom_MCS'+this_name,weight_list[para]+str([uni]))\n",
    "        make_mc_hist(cut_bkg,'TrackMomRange_mu','Muon momentum range [GeV]',0,2.5,20,'TrackMom_range'+this_name,weight_list[para]+str([uni]))\n",
    "        make_mc_hist(cut_bkg,'Nu_Vx_sce','Reco. Nu vertex X position [cm]',-10,270,20,'NuVx_sce'+this_name,weight_list[para]+str([uni]))\n",
    "        make_mc_hist(cut_bkg,'Nu_Vy_sce','Reco. Nu vertex Y position [cm]',-120,120,20,'NuVy_sce'+this_name,weight_list[para]+str([uni]))\n",
    "        make_mc_hist(cut_bkg,'Nu_Vz_sce','Reco. Nu vertex Z position [cm]',-50,1050,20,'NuVz_sce'+this_name,weight_list[para]+str([uni]))\n",
    "        make_mc_hist(cut_bkg,'cos(TrackTheta)','cos(Theta)',-1,1,20,'cosTheta'+this_name,weight_list[para]+str([uni]))\n",
    "        make_mc_hist(cut_bkg,'TrackLength','Track length [cm]',0,300,60,'TrackLength'+this_name,weight_list[para]+str([uni]))\n",
    "        make_mc_hist(cut_bkg,'TrackPID_chiproton','Proton chi2',0,200,20,'PID_chiproton'+this_name,weight_list[para]+str([uni]))\n",
    "        make_mc_hist(cut_bkg,'TrackPID_chimuon/TrackPID_chipion','TrackPID_chimuon/TrackPID_chipion',0.4,1.2,20,'PIDmupion_ration'+this_name,weight_list[para]+str([uni]))\n",
    "        make_mc_hist(cut_bkg,'TrackPID_chimuon/TrackPID_chiproton','TrackPID_chimuon/TrackPID_chiproton',0,0.25,25,'PIDmuprot_ration'+this_name,weight_list[para]+str([uni]))\n",
    "        make_mc_hist(cut_bkg,'nr_crthit_top','Nr CRTHits in Top',0,4,4,'nr_crthit_top'+this_name,weight_list[para]+str([uni]))\n",
    "        make_mc_hist(cut_bkg,'crthit_vertex_zcut','Number of CRT hits upstream of vertex',0,4,4,'CRTVertexcut'+this_name,weight_list[para]+str([uni]))\n",
    "        make_mc_hist(cut_bkg,'TrackScore','TrackScore',0.5,1,20,'TrackScore'+this_name,weight_list[para]+str([uni]))\n",
    "        make_mc_hist(cut_bkg,'NuScore','Muon momentum [GeV]',0,1,20,'NuScore'+this_name,weight_list[para]+str([uni]))\n",
    "        make_mc_hist(cut_bkg,'NuTracks','Number of tracks',0,10,10,'NuTracks'+this_name,weight_list[para]+str([uni]))\n",
    "        make_mc_hist(cut_bkg,'NumPfp','Number of PFparticles',0,10,10,'NumPfp'+this_name,weight_list[para]+str([uni]))'''"
   ]
  },
  {
   "cell_type": "code",
   "execution_count": 20,
   "metadata": {},
   "outputs": [
    {
     "data": {
      "text/plain": [
       "\"cut_bkg = 'fidVol && muon && TrackLength>8 && crt_tom_cut && TrackScore>0.8                && TrackLength>20 && TrackPID_chiproton>78 && NuScore>0.1 && !numu_signal'\\nname = 'bkg_all'\\n\\nfor para in range(num_para): \\n    print 'Get efficiency of Parameter: ', weight_list[para]\\n    for uni in range(num_universes):\\n        # do stuff here\\n        this_name = name+ '[' + str(para)+']['+str(uni)+']'\\n        make_mc_hist(cut_bkg,'TrackMomMCS_mom','Muon momentum MCS [GeV]',0,2.5,20,'TrackMom_MCS'+this_name,weight_list[para]+str([uni]))\\n        make_mc_hist(cut_bkg,'TrackMomRange_mu','Muon momentum range [GeV]',0,2.5,20,'TrackMom_range'+this_name,weight_list[para]+str([uni]))\\n        make_mc_hist(cut_bkg,'Nu_Vx_sce','Reco. Nu vertex X position [cm]',-10,270,20,'NuVx_sce'+this_name,weight_list[para]+str([uni]))\\n        make_mc_hist(cut_bkg,'Nu_Vy_sce','Reco. Nu vertex Y position [cm]',-120,120,20,'NuVy_sce'+this_name,weight_list[para]+str([uni]))\\n        make_mc_hist(cut_bkg,'Nu_Vz_sce','Reco. Nu vertex Z position [cm]',-50,1050,20,'NuVz_sce'+this_name,weight_list[para]+str([uni]))\\n        make_mc_hist(cut_bkg,'cos(TrackTheta)','cos(Theta)',-1,1,20,'cosTheta'+this_name,weight_list[para]+str([uni]))\\n        make_mc_hist(cut_bkg,'TrackLength','Track length [cm]',0,300,60,'TrackLength'+this_name,weight_list[para]+str([uni]))\\n        make_mc_hist(cut_bkg,'TrackPID_chiproton','Proton chi2',0,200,20,'PID_chiproton'+this_name,weight_list[para]+str([uni]))\\n        make_mc_hist(cut_bkg,'TrackPID_chimuon/TrackPID_chipion','TrackPID_chimuon/TrackPID_chipion',0.4,1.2,20,'PIDmupion_ration'+this_name,weight_list[para]+str([uni]))\\n        make_mc_hist(cut_bkg,'TrackPID_chimuon/TrackPID_chiproton','TrackPID_chimuon/TrackPID_chiproton',0,0.25,25,'PIDmuprot_ration'+this_name,weight_list[para]+str([uni]))\\n        make_mc_hist(cut_bkg,'nr_crthit_top','Nr CRTHits in Top',0,4,4,'nr_crthit_top'+this_name,weight_list[para]+str([uni]))\\n        make_mc_hist(cut_bkg,'crthit_vertex_zcut','Number of CRT hits upstream of vertex',0,4,4,'CRTVertexcut'+this_name,weight_list[para]+str([uni]))\\n        make_mc_hist(cut_bkg,'TrackScore','TrackScore',0.5,1,20,'TrackScore'+this_name,weight_list[para]+str([uni]))\\n        make_mc_hist(cut_bkg,'NuScore','Muon momentum [GeV]',0,1,20,'NuScore'+this_name,weight_list[para]+str([uni]))\\n        make_mc_hist(cut_bkg,'NuTracks','Number of tracks',0,10,10,'NuTracks'+this_name,weight_list[para]+str([uni]))\\n        make_mc_hist(cut_bkg,'NumPfp','Number of PFparticles',0,10,10,'NumPfp'+this_name,weight_list[para]+str([uni]))\""
      ]
     },
     "execution_count": 20,
     "metadata": {},
     "output_type": "execute_result"
    }
   ],
   "source": [
    "'''cut_bkg = 'fidVol && muon && TrackLength>8 && crt_tom_cut && TrackScore>0.8\\\n",
    "                && TrackLength>20 && TrackPID_chiproton>78 && NuScore>0.1 && !numu_signal'\n",
    "name = 'bkg_all'\n",
    "\n",
    "for para in range(num_para): \n",
    "    print 'Get efficiency of Parameter: ', weight_list[para]\n",
    "    for uni in range(num_universes):\n",
    "        # do stuff here\n",
    "        this_name = name+ '[' + str(para)+']['+str(uni)+']'\n",
    "        make_mc_hist(cut_bkg,'TrackMomMCS_mom','Muon momentum MCS [GeV]',0,2.5,20,'TrackMom_MCS'+this_name,weight_list[para]+str([uni]))\n",
    "        make_mc_hist(cut_bkg,'TrackMomRange_mu','Muon momentum range [GeV]',0,2.5,20,'TrackMom_range'+this_name,weight_list[para]+str([uni]))\n",
    "        make_mc_hist(cut_bkg,'Nu_Vx_sce','Reco. Nu vertex X position [cm]',-10,270,20,'NuVx_sce'+this_name,weight_list[para]+str([uni]))\n",
    "        make_mc_hist(cut_bkg,'Nu_Vy_sce','Reco. Nu vertex Y position [cm]',-120,120,20,'NuVy_sce'+this_name,weight_list[para]+str([uni]))\n",
    "        make_mc_hist(cut_bkg,'Nu_Vz_sce','Reco. Nu vertex Z position [cm]',-50,1050,20,'NuVz_sce'+this_name,weight_list[para]+str([uni]))\n",
    "        make_mc_hist(cut_bkg,'cos(TrackTheta)','cos(Theta)',-1,1,20,'cosTheta'+this_name,weight_list[para]+str([uni]))\n",
    "        make_mc_hist(cut_bkg,'TrackLength','Track length [cm]',0,300,60,'TrackLength'+this_name,weight_list[para]+str([uni]))\n",
    "        make_mc_hist(cut_bkg,'TrackPID_chiproton','Proton chi2',0,200,20,'PID_chiproton'+this_name,weight_list[para]+str([uni]))\n",
    "        make_mc_hist(cut_bkg,'TrackPID_chimuon/TrackPID_chipion','TrackPID_chimuon/TrackPID_chipion',0.4,1.2,20,'PIDmupion_ration'+this_name,weight_list[para]+str([uni]))\n",
    "        make_mc_hist(cut_bkg,'TrackPID_chimuon/TrackPID_chiproton','TrackPID_chimuon/TrackPID_chiproton',0,0.25,25,'PIDmuprot_ration'+this_name,weight_list[para]+str([uni]))\n",
    "        make_mc_hist(cut_bkg,'nr_crthit_top','Nr CRTHits in Top',0,4,4,'nr_crthit_top'+this_name,weight_list[para]+str([uni]))\n",
    "        make_mc_hist(cut_bkg,'crthit_vertex_zcut','Number of CRT hits upstream of vertex',0,4,4,'CRTVertexcut'+this_name,weight_list[para]+str([uni]))\n",
    "        make_mc_hist(cut_bkg,'TrackScore','TrackScore',0.5,1,20,'TrackScore'+this_name,weight_list[para]+str([uni]))\n",
    "        make_mc_hist(cut_bkg,'NuScore','Muon momentum [GeV]',0,1,20,'NuScore'+this_name,weight_list[para]+str([uni]))\n",
    "        make_mc_hist(cut_bkg,'NuTracks','Number of tracks',0,10,10,'NuTracks'+this_name,weight_list[para]+str([uni]))\n",
    "        make_mc_hist(cut_bkg,'NumPfp','Number of PFparticles',0,10,10,'NumPfp'+this_name,weight_list[para]+str([uni]))'''"
   ]
  },
  {
   "cell_type": "code",
   "execution_count": 21,
   "metadata": {},
   "outputs": [],
   "source": [
    "# close the root file with all the histos\n",
    "RootFile.Close()"
   ]
  },
  {
   "cell_type": "code",
   "execution_count": 22,
   "metadata": {},
   "outputs": [
    {
     "ename": "NameError",
     "evalue": "name 'adfas' is not defined",
     "output_type": "error",
     "traceback": [
      "\u001b[0;31m\u001b[0m",
      "\u001b[0;31mNameError\u001b[0mTraceback (most recent call last)",
      "\u001b[0;32m<ipython-input-22-2736f42202c9>\u001b[0m in \u001b[0;36m<module>\u001b[0;34m()\u001b[0m\n\u001b[0;32m----> 1\u001b[0;31m \u001b[0madfas\u001b[0m\u001b[0;34m\u001b[0m\u001b[0m\n\u001b[0m",
      "\u001b[0;31mNameError\u001b[0m: name 'adfas' is not defined"
     ]
    }
   ],
   "source": [
    "adfas"
   ]
  },
  {
   "cell_type": "code",
   "execution_count": null,
   "metadata": {},
   "outputs": [],
   "source": [
    "cut_bkg = 'fidVol && muon && TrackLength>8 && crt_tom_cut && TrackScore>0.8\\\n",
    "                && TrackLength>20 && TrackPID_chiproton>78 && NuScore>0.1 && !numu_signal'\n",
    "name = '_bkg_all'\n",
    "\n",
    "for para in range(num_para): \n",
    "    print 'Get efficiency of Parameter: ', weight_list[para]\n",
    "    for uni in range(num_universes):\n",
    "        # do stuff here\n",
    "        this_name = name+ '[' + str(para)+']['+str(uni)+']'\n",
    "        make_mc_hist(cut_bkg,'TrackMomMCS_mom','Muon momentum MCS [GeV]',0,2.5,20,'TrackMom_MCS'+this_name,weight_list[para]+str([uni]))\n",
    "        make_mc_hist(cut_bkg,'TrackMomRange_mu','Muon momentum range [GeV]',0,2.5,20,'TrackMom_range'+this_name,weight_list[para]+str([uni]))\n",
    "        make_mc_hist(cut_bkg,'Nu_Vx_sce','Reco. Nu vertex X position [cm]',-10,270,20,'NuVx_sce'+this_name,weight_list[para]+str([uni]))\n",
    "        make_mc_hist(cut_bkg,'Nu_Vy_sce','Reco. Nu vertex Y position [cm]',-120,120,20,'NuVy_sce'+this_name,weight_list[para]+str([uni]))\n",
    "        make_mc_hist(cut_bkg,'Nu_Vz_sce','Reco. Nu vertex Z position [cm]',-50,1050,20,'NuVz_sce'+this_name,weight_list[para]+str([uni]))\n",
    "        make_mc_hist(cut_bkg,'cos(TrackTheta)','cos(Theta)',-1,1,20,'cosTheta'+this_name,weight_list[para]+str([uni]))\n",
    "        make_mc_hist(cut_bkg,'TrackLength','Track length [cm]',0,300,60,'TrackLength'+this_name,weight_list[para]+str([uni]))\n",
    "        make_mc_hist(cut_bkg,'TrackPID_chiproton','Proton chi2',0,200,20,'PID_chiproton'+this_name,weight_list[para]+str([uni]))\n",
    "        make_mc_hist(cut_bkg,'TrackPID_chimuon/TrackPID_chipion','TrackPID_chimuon/TrackPID_chipion',0.4,1.2,20,'PIDmupion_ration'+this_name,weight_list[para]+str([uni]))\n",
    "        make_mc_hist(cut_bkg,'TrackPID_chimuon/TrackPID_chiproton','TrackPID_chimuon/TrackPID_chiproton',0,0.25,25,'PIDmuprot_ration'+this_name,weight_list[para]+str([uni]))\n",
    "        make_mc_hist(cut_bkg,'nr_crthit_top','Nr CRTHits in Top',0,4,4,'nr_crthit_top'+this_name,weight_list[para]+str([uni]))\n",
    "        make_mc_hist(cut_bkg,'crthit_vertex_zcut','Number of CRT hits upstream of vertex',0,4,4,'CRTVertexcut'+this_name,weight_list[para]+str([uni]))\n",
    "        make_mc_hist(cut_bkg,'TrackScore','TrackScore',0.5,1,20,'TrackScore'+this_name,weight_list[para]+str([uni]))\n",
    "        make_mc_hist(cut_bkg,'NuScore','Muon momentum [GeV]',0,1,20,'NuScore'+this_name,weight_list[para]+str([uni]))\n",
    "        make_mc_hist(cut_bkg,'NuTracks','Number of tracks',0,10,10,'NuTracks'+this_name,weight_list[para]+str([uni]))\n",
    "        make_mc_hist(cut_bkg,'NumPfp','Number of PFparticles',0,10,10,'NumPfp'+this_name,weight_list[para]+str([uni]))"
   ]
  },
  {
   "cell_type": "code",
   "execution_count": null,
   "metadata": {},
   "outputs": [],
   "source": [
    "# close the root file with all the histos\n",
    "RootFile.Close()"
   ]
  },
  {
   "cell_type": "code",
   "execution_count": null,
   "metadata": {},
   "outputs": [],
   "source": [
    "w5wret"
   ]
  },
  {
   "cell_type": "code",
   "execution_count": null,
   "metadata": {},
   "outputs": [],
   "source": [
    "\n",
    "\n",
    "cut_bkg = 'fidVol && muon && TrackLength>8 && crt_tom_cut && TrackScore>0.8\\\n",
    "                && TrackLength>20 && TrackPID_chiproton>78 && NuScore>0.1 && !numu_signal'\n",
    "name = '_bkg_all'\n",
    "\n",
    "make_mc_hist(cut_bkg,'TrackMomMCS_mom','Muon momentum MCS [GeV]',0,2.5,20,'TrackMom_MCS'+name)\n",
    "make_mc_hist(cut_bkg,'TrackMomRange_mu','Muon momentum range [GeV]',0,2.5,20,'TrackMom_range'+name) \n",
    "make_mc_hist(cut_bkg,'Nu_Vx_sce','Reco. Nu vertex X position [cm]',-10,270,20,'NuVx_sce'+name) \n",
    "make_mc_hist(cut_bkg,'Nu_Vy_sce','Reco. Nu vertex Y position [cm]',-120,120,20,'NuVy_sce'+name) \n",
    "make_mc_hist(cut_bkg,'Nu_Vz_sce','Reco. Nu vertex Z position [cm]',-50,1050,20,'NuVz_sce'+name) \n",
    "make_mc_hist(cut_bkg,'cos(TrackTheta)','cos(Theta)',-1,1,20,'cosTheta'+name) \n",
    "make_mc_hist(cut_bkg,'TrackLength','Track length [cm]',0,300,60,'TrackLength'+name) \n",
    "make_mc_hist(cut_bkg,'TrackPID_chiproton','Proton chi2',0,200,20,'PID_chiproton'+name) \n",
    "make_mc_hist(cut_bkg,'TrackPID_chimuon/TrackPID_chipion','TrackPID_chimuon/TrackPID_chipion',0.4,1.2,20,'PIDmupion_ration'+name) \n",
    "make_mc_hist(cut_bkg,'TrackPID_chimuon/TrackPID_chiproton','TrackPID_chimuon/TrackPID_chiproton',0,0.25,25,'PIDmuprot_ration'+name) \n",
    "make_mc_hist(cut_bkg,'nr_crthit_top','Nr CRTHits in Top',0,4,4,'nr_crthit_top'+name) \n",
    "make_mc_hist(cut_bkg,'crthit_vertex_zcut','Number of CRT hits upstream of vertex',0,4,4,'CRTVertexcut'+name) \n",
    "make_mc_hist(cut_bkg,'TrackScore','TrackScore',0.5,1,20,'TrackScore'+name) \n",
    "make_mc_hist(cut_bkg,'NuScore','Muon momentum [GeV]',0,1,20,'NuScore'+name) \n",
    "make_mc_hist(cut_bkg,'NuTracks','Number of tracks',0,10,10,'NuTracks'+name) \n",
    "make_mc_hist(cut_bkg,'NumPfp','Number of PFparticles',0,10,10,'NumPfp'+name) \n",
    "\n",
    "name = '_bkg_all_fine'\n",
    "bins_ = 60\n",
    "make_mc_hist(cut_bkg,'TrackMomMCS_mom','Muon momentum MCS [GeV]',0,2.5,bins_,'TrackMom_MCS'+name)\n",
    "make_mc_hist(cut_bkg,'TrackMomRange_mu','Muon momentum range [GeV]',0,2.5,bins_,'TrackMom_range'+name) \n",
    "make_mc_hist(cut_bkg,'Nu_Vx_sce','Reco. Nu vertex X position [cm]',-10,270,bins_,'NuVx_sce'+name) \n",
    "make_mc_hist(cut_bkg,'Nu_Vy_sce','Reco. Nu vertex Y position [cm]',-120,120,bins_,'NuVy_sce'+name) \n",
    "make_mc_hist(cut_bkg,'Nu_Vz_sce','Reco. Nu vertex Z position [cm]',-50,1050,bins_,'NuVz_sce'+name) \n",
    "make_mc_hist(cut_bkg,'cos(TrackTheta)','cos(Theta)',-1,1,bins_,'cosTheta'+name) \n",
    "make_mc_hist(cut_bkg,'TrackLength','Track length [cm]',0,300,bins_,'TrackLength'+name) \n",
    "make_mc_hist(cut_bkg,'TrackPID_chiproton','Proton chi2',0,200,bins_,'PID_chiproton'+name) \n",
    "make_mc_hist(cut_bkg,'TrackPID_chimuon/TrackPID_chipion','TrackPID_chimuon/TrackPID_chipion',0.4,1.2,bins_,'PIDmupion_ration'+name) \n",
    "make_mc_hist(cut_bkg,'TrackPID_chimuon/TrackPID_chiproton','TrackPID_chimuon/TrackPID_chiproton',0,0.25,bins_,'PIDmuprot_ration'+name) \n",
    "make_mc_hist(cut_bkg,'nr_crthit_top','Nr CRTHits in Top',0,10,10,'nr_crthit_top'+name) \n",
    "make_mc_hist(cut_bkg,'crthit_vertex_zcut','Number of CRT hits upstream of vertex',0,10,10,'CRTVertexcut'+name) \n",
    "make_mc_hist(cut_bkg,'TrackScore','TrackScore',0.5,1,bins_,'TrackScore'+name) \n",
    "make_mc_hist(cut_bkg,'NuScore','Muon momentum [GeV]',0,1,bins_,'NuScore'+name) \n",
    "make_mc_hist(cut_bkg,'NuTracks','Number of tracks',0,20,20,'NuTracks'+name) \n",
    "make_mc_hist(cut_bkg,'NumPfp','Number of PFparticles',0,20,20,'NumPfp'+name) \n",
    "\n",
    "#make_mc_hist(cut_bkg,'TrackMomMCS_mom','Topological Score',0,2.5,20,'NuScore'+name) \n",
    "\n",
    "cut_bkg = 'fidVol && muon && !numu_signal'\n",
    "name = '_bkg_pre'\n",
    "\n",
    "make_mc_hist(cut_bkg,'TrackMomMCS_mom','Muon momentum MCS [GeV]',0,2.5,20,'TrackMom_MCS'+name)\n",
    "make_mc_hist(cut_bkg,'TrackMomRange_mu','Muon momentum range [GeV]',0,2.5,20,'TrackMom_range'+name) \n",
    "make_mc_hist(cut_bkg,'Nu_Vx_sce','Reco. Nu vertex X position [cm]',-10,270,20,'NuVx_sce'+name) \n",
    "make_mc_hist(cut_bkg,'Nu_Vy_sce','Reco. Nu vertex Y position [cm]',-120,120,20,'NuVy_sce'+name) \n",
    "make_mc_hist(cut_bkg,'Nu_Vz_sce','Reco. Nu vertex Z position [cm]',-50,1050,20,'NuVz_sce'+name) \n",
    "make_mc_hist(cut_bkg,'cos(TrackTheta)','cos(Theta)',-1,1,20,'cosTheta'+name) \n",
    "make_mc_hist(cut_bkg,'TrackLength','Track length [cm]',0,300,60,'TrackLength'+name) \n",
    "make_mc_hist(cut_bkg,'TrackPID_chiproton','Proton chi2',0,200,20,'PID_chiproton'+name) \n",
    "make_mc_hist(cut_bkg,'TrackPID_chimuon/TrackPID_chipion','TrackPID_chimuon/TrackPID_chipion',0.4,1.2,20,'PIDmupion_ration'+name) \n",
    "make_mc_hist(cut_bkg,'TrackPID_chimuon/TrackPID_chiproton','TrackPID_chimuon/TrackPID_chiproton',0,0.25,25,'PIDmuprot_ration'+name) \n",
    "make_mc_hist(cut_bkg,'nr_crthit_top','Nr CRTHits in Top',0,4,4,'nr_crthit_top'+name) \n",
    "make_mc_hist(cut_bkg,'crthit_vertex_zcut','Number of CRT hits upstream of vertex',0,4,4,'CRTVertexcut'+name) \n",
    "make_mc_hist(cut_bkg,'TrackScore','TrackScore',0.5,1,20,'TrackScore'+name) \n",
    "make_mc_hist(cut_bkg,'NuScore','Muon momentum [GeV]',0,1,20,'NuScore'+name) \n",
    "make_mc_hist(cut_bkg,'NuTracks','Number of tracks',0,10,10,'NuTracks'+name) \n",
    "make_mc_hist(cut_bkg,'NumPfp','Number of PFparticles',0,10,10,'NumPfp'+name) \n",
    "\n",
    "\n",
    "name = '_bkg_pre_fine'\n",
    "\n",
    "make_mc_hist(cut_bkg,'TrackMomMCS_mom','Muon momentum MCS [GeV]',0,2.5,bins_,'TrackMom_MCS'+name)\n",
    "make_mc_hist(cut_bkg,'TrackMomRange_mu','Muon momentum range [GeV]',0,2.5,bins_,'TrackMom_range'+name) \n",
    "make_mc_hist(cut_bkg,'Nu_Vx_sce','Reco. Nu vertex X position [cm]',-10,270,bins_,'NuVx_sce'+name) \n",
    "make_mc_hist(cut_bkg,'Nu_Vy_sce','Reco. Nu vertex Y position [cm]',-120,120,bins_,'NuVy_sce'+name) \n",
    "make_mc_hist(cut_bkg,'Nu_Vz_sce','Reco. Nu vertex Z position [cm]',-50,1050,bins_,'NuVz_sce'+name) \n",
    "make_mc_hist(cut_bkg,'cos(TrackTheta)','cos(Theta)',-1,1,bins_,'cosTheta'+name) \n",
    "make_mc_hist(cut_bkg,'TrackLength','Track length [cm]',0,300,bins_,'TrackLength'+name) \n",
    "make_mc_hist(cut_bkg,'TrackPID_chiproton','Proton chi2',0,200,bins_,'PID_chiproton'+name) \n",
    "make_mc_hist(cut_bkg,'TrackPID_chimuon/TrackPID_chipion','TrackPID_chimuon/TrackPID_chipion',0.4,1.2,bins_,'PIDmupion_ration'+name) \n",
    "make_mc_hist(cut_bkg,'TrackPID_chimuon/TrackPID_chiproton','TrackPID_chimuon/TrackPID_chiproton',0,0.25,bins_,'PIDmuprot_ration'+name) \n",
    "make_mc_hist(cut_bkg,'nr_crthit_top','Nr CRTHits in Top',0,10,10,'nr_crthit_top'+name) \n",
    "make_mc_hist(cut_bkg,'crthit_vertex_zcut','Number of CRT hits upstream of vertex',0,10,10,'CRTVertexcut'+name) \n",
    "make_mc_hist(cut_bkg,'TrackScore','TrackScore',0.5,1,bins_,'TrackScore'+name) \n",
    "make_mc_hist(cut_bkg,'NuScore','Muon momentum [GeV]',0,1,bins_,'NuScore'+name) \n",
    "make_mc_hist(cut_bkg,'NuTracks','Number of tracks',0,20,20,'NuTracks'+name) \n",
    "make_mc_hist(cut_bkg,'NumPfp','Number of PFparticles',0,20,20,'NumPfp'+name) \n",
    "\n",
    "\n",
    "cut_bkg = 'fidVol && muon && TrackLength>8 && crt_tom_cut && TrackScore>0.8\\\n",
    "                && TrackLength>20 && TrackPID_chiproton>78 && NuScore>0.1 && numu_signal'\n",
    "name = '_sig_all'\n",
    "\n",
    "make_mc_hist(cut_bkg,'TrackMomMCS_mom','Muon momentum MCS [GeV]',0,2.5,20,'TrackMom_MCS'+name)\n",
    "make_mc_hist(cut_bkg,'TrackMomRange_mu','Muon momentum range [GeV]',0,2.5,20,'TrackMom_range'+name) \n",
    "make_mc_hist(cut_bkg,'Nu_Vx_sce','Reco. Nu vertex X position [cm]',-10,270,20,'NuVx_sce'+name) \n",
    "make_mc_hist(cut_bkg,'Nu_Vy_sce','Reco. Nu vertex Y position [cm]',-120,120,20,'NuVy_sce'+name) \n",
    "make_mc_hist(cut_bkg,'Nu_Vz_sce','Reco. Nu vertex Z position [cm]',-50,1050,20,'NuVz_sce'+name) \n",
    "make_mc_hist(cut_bkg,'cos(TrackTheta)','cos(Theta)',-1,1,20,'cosTheta'+name) \n",
    "make_mc_hist(cut_bkg,'TrackLength','Track length [cm]',0,300,60,'TrackLength'+name) \n",
    "make_mc_hist(cut_bkg,'TrackPID_chiproton','Proton chi2',0,200,20,'PID_chiproton'+name) \n",
    "make_mc_hist(cut_bkg,'TrackPID_chimuon/TrackPID_chipion','TrackPID_chimuon/TrackPID_chipion',0.4,1.2,20,'PIDmupion_ration'+name) \n",
    "make_mc_hist(cut_bkg,'TrackPID_chimuon/TrackPID_chiproton','TrackPID_chimuon/TrackPID_chiproton',0,0.25,25,'PIDmuprot_ration'+name) \n",
    "make_mc_hist(cut_bkg,'nr_crthit_top','Nr CRTHits in Top',0,4,4,'nr_crthit_top'+name) \n",
    "make_mc_hist(cut_bkg,'crthit_vertex_zcut','Number of CRT hits upstream of vertex',0,4,4,'CRTVertexcut'+name) \n",
    "make_mc_hist(cut_bkg,'TrackScore','TrackScore',0.5,1,20,'TrackScore'+name) \n",
    "make_mc_hist(cut_bkg,'NuScore','Muon momentum [GeV]',0,1,20,'NuScore'+name) \n",
    "make_mc_hist(cut_bkg,'NuTracks','Number of tracks',0,10,10,'NuTracks'+name) \n",
    "make_mc_hist(cut_bkg,'NumPfp','Number of PFparticles',0,10,10,'NumPfp'+name) \n",
    "\n",
    "#make_mc_hist(cut_bkg,'TrackMomMCS_mom','Topological Score',0,2.5,20,'NuScore'+name) \n",
    "\n",
    "cut_bkg = 'fidVol && muon && numu_signal'\n",
    "name = '_sig_pre'\n",
    "\n",
    "make_mc_hist(cut_bkg,'TrackMomMCS_mom','Muon momentum MCS [GeV]',0,2.5,20,'TrackMom_MCS'+name)\n",
    "make_mc_hist(cut_bkg,'TrackMomRange_mu','Muon momentum range [GeV]',0,2.5,20,'TrackMom_range'+name) \n",
    "make_mc_hist(cut_bkg,'Nu_Vx_sce','Reco. Nu vertex X position [cm]',-10,270,20,'NuVx_sce'+name) \n",
    "make_mc_hist(cut_bkg,'Nu_Vy_sce','Reco. Nu vertex Y position [cm]',-120,120,20,'NuVy_sce'+name) \n",
    "make_mc_hist(cut_bkg,'Nu_Vz_sce','Reco. Nu vertex Z position [cm]',-50,1050,20,'NuVz_sce'+name) \n",
    "make_mc_hist(cut_bkg,'cos(TrackTheta)','cos(Theta)',-1,1,20,'cosTheta'+name) \n",
    "make_mc_hist(cut_bkg,'TrackLength','Track length [cm]',0,300,60,'TrackLength'+name) \n",
    "make_mc_hist(cut_bkg,'TrackPID_chiproton','Proton chi2',0,200,20,'PID_chiproton'+name) \n",
    "make_mc_hist(cut_bkg,'TrackPID_chimuon/TrackPID_chipion','TrackPID_chimuon/TrackPID_chipion',0.4,1.2,20,'PIDmupion_ration'+name) \n",
    "make_mc_hist(cut_bkg,'TrackPID_chimuon/TrackPID_chiproton','TrackPID_chimuon/TrackPID_chiproton',0,0.25,25,'PIDmuprot_ration'+name) \n",
    "make_mc_hist(cut_bkg,'nr_crthit_top','Nr CRTHits in Top',0,4,4,'nr_crthit_top'+name) \n",
    "make_mc_hist(cut_bkg,'crthit_vertex_zcut','Number of CRT hits upstream of vertex',0,4,4,'CRTVertexcut'+name) \n",
    "make_mc_hist(cut_bkg,'TrackScore','TrackScore',0.5,1,20,'TrackScore'+name) \n",
    "make_mc_hist(cut_bkg,'NuScore','Muon momentum [GeV]',0,1,20,'NuScore'+name) \n",
    "make_mc_hist(cut_bkg,'NuTracks','Number of tracks',0,10,10,'NuTracks'+name) \n",
    "make_mc_hist(cut_bkg,'NumPfp','Number of PFparticles',0,10,10,'NumPfp'+name) \n",
    "\n",
    "#make_mc_hist(cut_bkg,'TrackMomMCS_mom','Topological Score',0,2.5,20,'NuScore'+name) \n",
    "\n",
    "cut_bkg = 'fidVol && muon && TrackLength>8 && crt_tom_cut && TrackScore>0.8\\\n",
    "                && TrackLength>20 && TrackPID_chiproton>78 && NuScore>0.1 && Nu_Vx_sce!=-999'\n",
    "name = '_pass_all'\n",
    "bins_ = 20\n",
    "make_mc_hist(cut_bkg,'Nu_Vx_sce - MCNu_Vx','Reco - True: Vx',-200,200,bins_,'DiffVx'+name)\n",
    "make_mc_hist(cut_bkg,'Nu_Vy_sce - MCNu_Vy','Reco - True: Vy',-200,200,bins_,'DiffVy'+name)\n",
    "make_mc_hist(cut_bkg,'Nu_Vz_sce - MCNu_Vz','Reco - True: Vz',-200,200,bins_,'DiffVz'+name)\n",
    "make_mc_hist(cut_bkg,'sqrt((Nu_Vx_sce-MCNu_Vx)*(Nu_Vx_sce-MCNu_Vx)+(Nu_Vy_sce-MCNu_Vy)*(Nu_Vy_sce-MCNu_Vy)+(Nu_Vz_sce-MCNu_Vz)*(Nu_Vz_sce-MCNu_Vz))','Reco - True: Vertex',0,200,bins_,'DiffVertex'+name)\n",
    "\n",
    "cut_bkg = cut_bkg+' && MCTrackPurity>0.5'\n",
    "make_mc_hist(cut_bkg,'TrackStart_x_sce - MCTrackStart_x','Reco - True: start Track x',-200,200,bins_,'DiffTrackSx'+name)\n",
    "make_mc_hist(cut_bkg,'TrackStart_y_sce - MCTrackStart_y','Reco - True: start Track y',-200,200,bins_,'DiffTrackSy'+name)\n",
    "make_mc_hist(cut_bkg,'TrackStart_z_sce - MCTrackStart_z','Reco - True: start Track z',-200,200,bins_,'DiffTrackSz'+name)\n",
    "make_mc_hist(cut_bkg,'sqrt((TrackStart_x_sce-MCTrackStart_x)*(TrackStart_x_sce-MCTrackStart_x)+(TrackStart_y_sce-MCTrackStart_y)*(TrackStart_y_sce-MCTrackStart_y)+(TrackStart_z_sce-MCTrackStart_z)*(TrackStart_z_sce-MCTrackStart_z))','Reco - True: Track Start',0,200,bins_,'DiffTrackStart'+name)\n",
    "\n",
    "make_mc_hist(cut_bkg,'TrackEnd_x_sce - MCTrackEnd_x','Reco - True: end Track x',-200,200,bins_,'DiffTrackEx'+name)\n",
    "make_mc_hist(cut_bkg,'TrackEnd_y_sce - MCTrackEnd_y','Reco - True: end Track y',-200,200,bins_,'DiffTrackEy'+name)\n",
    "make_mc_hist(cut_bkg,'TrackEnd_z_sce - MCTrackEnd_z','Reco - True: end Track z',-200,200,bins_,'DiffTrackEz'+name)\n",
    "make_mc_hist(cut_bkg,'sqrt((TrackEnd_x_sce-MCTrackEnd_x)*(TrackEnd_x_sce-MCTrackEnd_x)+(TrackEnd_y_sce-MCTrackEnd_y)*(TrackEnd_y_sce-MCTrackEnd_y)+(TrackEnd_z_sce-MCTrackEnd_z)*(TrackEnd_z_sce-MCTrackEnd_z))','Reco - True: Track End',0,2000,bins_,'DiffTrackEnd'+name)\n",
    "\n",
    "cut_bkg = 'fidVol && muon && TrackLength>8 && crt_tom_cut && TrackScore>0.8\\\n",
    "                && TrackLength>20 && TrackPID_chiproton>78 && NuScore>0.1 && Nu_Vx_sce!=-999'\n",
    "name = '_pass_all_fine'\n",
    "bins_ = 100\n",
    "make_mc_hist(cut_bkg,'Nu_Vx_sce - MCNu_Vx','Reco - True: Vx',-50,50,bins_,'DiffVx'+name)\n",
    "make_mc_hist(cut_bkg,'Nu_Vy_sce - MCNu_Vy','Reco - True: Vy',-50,50,bins_,'DiffVy'+name)\n",
    "make_mc_hist(cut_bkg,'Nu_Vz_sce - MCNu_Vz','Reco - True: Vz',-50,50,bins_,'DiffVz'+name)\n",
    "make_mc_hist(cut_bkg,'sqrt((Nu_Vx_sce-MCNu_Vx)*(Nu_Vx_sce-MCNu_Vx)+(Nu_Vy_sce-MCNu_Vy)*(Nu_Vy_sce-MCNu_Vy)+(Nu_Vz_sce-MCNu_Vz)*(Nu_Vz_sce-MCNu_Vz))','Reco - True: Vertex',0,50,bins_,'DiffVertex'+name)\n",
    "\n",
    "cut_bkg = cut_bkg+' && MCTrackPurity>0.5'\n",
    "make_mc_hist(cut_bkg,'TrackStart_x_sce - MCTrackStart_x','Reco - True: start Track x',-50,50,bins_,'DiffTrackSx'+name)\n",
    "make_mc_hist(cut_bkg,'TrackStart_y_sce - MCTrackStart_y','Reco - True: start Track y',-50,50,bins_,'DiffTrackSy'+name)\n",
    "make_mc_hist(cut_bkg,'TrackStart_z_sce - MCTrackStart_z','Reco - True: start Track z',-50,50,bins_,'DiffTrackSz'+name)\n",
    "make_mc_hist(cut_bkg,'sqrt((TrackStart_x_sce-MCTrackStart_x)*(TrackStart_x_sce-MCTrackStart_x)+(TrackStart_y_sce-MCTrackStart_y)*(TrackStart_y_sce-MCTrackStart_y)+(TrackStart_z_sce-MCTrackStart_z)*(TrackStart_z_sce-MCTrackStart_z))','Reco - True: Track Start',0,50,bins_,'DiffTrackStart'+name)\n",
    "\n",
    "make_mc_hist(cut_bkg,'TrackEnd_x_sce - MCTrackEnd_x','Reco - True: end Track x',-50,50,bins_,'DiffTrackEx'+name)\n",
    "make_mc_hist(cut_bkg,'TrackEnd_y_sce - MCTrackEnd_y','Reco - True: end Track y',-50,50,bins_,'DiffTrackEy'+name)\n",
    "make_mc_hist(cut_bkg,'TrackEnd_z_sce - MCTrackEnd_z','Reco - True: end Track z',-50,50,bins_,'DiffTrackEz'+name)\n",
    "make_mc_hist(cut_bkg,'sqrt((TrackEnd_x_sce-MCTrackEnd_x)*(TrackEnd_x_sce-MCTrackEnd_x)+(TrackEnd_y_sce-MCTrackEnd_y)*(TrackEnd_y_sce-MCTrackEnd_y)+(TrackEnd_z_sce-MCTrackEnd_z)*(TrackEnd_z_sce-MCTrackEnd_z))','Reco - True: Track End',0,2000,bins_,'DiffTrackEnd'+name)\n",
    "\n",
    "cut_bkg = 'fidVol && muon && Nu_Vx_sce!=-999'\n",
    "name = '_pass_pre'\n",
    "bins_ = 20\n",
    "make_mc_hist(cut_bkg,'Nu_Vx_sce - MCNu_Vx','Reco - True: Vx',-200,200,bins_,'DiffVx'+name)\n",
    "make_mc_hist(cut_bkg,'Nu_Vy_sce - MCNu_Vy','Reco - True: Vy',-200,200,bins_,'DiffVy'+name)\n",
    "make_mc_hist(cut_bkg,'Nu_Vz_sce - MCNu_Vz','Reco - True: Vz',-200,200,bins_,'DiffVz'+name)\n",
    "make_mc_hist(cut_bkg,'sqrt((Nu_Vx_sce-MCNu_Vx)*(Nu_Vx_sce-MCNu_Vx)+(Nu_Vy_sce-MCNu_Vy)*(Nu_Vy_sce-MCNu_Vy)+(Nu_Vz_sce-MCNu_Vz)*(Nu_Vz_sce-MCNu_Vz))','Reco - True: Vertex',0,200,bins_,'DiffVertex'+name)\n",
    "\n",
    "cut_bkg = cut_bkg+' && MCTrackPurity>0.5'\n",
    "make_mc_hist(cut_bkg,'TrackStart_x_sce - MCTrackStart_x','Reco - True: start Track x',-200,200,bins_,'DiffTrackSx'+name)\n",
    "make_mc_hist(cut_bkg,'TrackStart_y_sce - MCTrackStart_y','Reco - True: start Track y',-200,200,bins_,'DiffTrackSy'+name)\n",
    "make_mc_hist(cut_bkg,'TrackStart_z_sce - MCTrackStart_z','Reco - True: start Track z',-200,200,bins_,'DiffTrackSz'+name)\n",
    "make_mc_hist(cut_bkg,'sqrt((TrackStart_x_sce-MCTrackStart_x)*(TrackStart_x_sce-MCTrackStart_x)+(TrackStart_y_sce-MCTrackStart_y)*(TrackStart_y_sce-MCTrackStart_y)+(TrackStart_z_sce-MCTrackStart_z)*(TrackStart_z_sce-MCTrackStart_z))','Reco - True: Track Start',0,200,bins_,'DiffTrackStart'+name)\n",
    "\n",
    "make_mc_hist(cut_bkg,'TrackEnd_x_sce - MCTrackEnd_x','Reco - True: end Track x',-200,200,bins_,'DiffTrackEx'+name)\n",
    "make_mc_hist(cut_bkg,'TrackEnd_y_sce - MCTrackEnd_y','Reco - True: end Track y',-200,200,bins_,'DiffTrackEy'+name)\n",
    "make_mc_hist(cut_bkg,'TrackEnd_z_sce - MCTrackEnd_z','Reco - True: end Track z',-200,200,bins_,'DiffTrackEz'+name)\n",
    "make_mc_hist(cut_bkg,'sqrt((TrackEnd_x_sce-MCTrackEnd_x)*(TrackEnd_x_sce-MCTrackEnd_x)+(TrackEnd_y_sce-MCTrackEnd_y)*(TrackEnd_y_sce-MCTrackEnd_y)+(TrackEnd_z_sce-MCTrackEnd_z)*(TrackEnd_z_sce-MCTrackEnd_z))','Reco - True: Track End',0,2000,bins_,'DiffTrackEnd'+name)\n",
    "\n",
    "cut_bkg = 'fidVol && muon && Nu_Vx_sce!=-999'\n",
    "name = '_pass_pre_fine'\n",
    "bins_ = 100\n",
    "make_mc_hist(cut_bkg,'Nu_Vx_sce - MCNu_Vx','Reco - True: Vx',-50,50,bins_,'DiffVx'+name)\n",
    "make_mc_hist(cut_bkg,'Nu_Vy_sce - MCNu_Vy','Reco - True: Vy',-50,50,bins_,'DiffVy'+name)\n",
    "make_mc_hist(cut_bkg,'Nu_Vz_sce - MCNu_Vz','Reco - True: Vz',-50,50,bins_,'DiffVz'+name)\n",
    "make_mc_hist(cut_bkg,'sqrt((Nu_Vx_sce-MCNu_Vx)*(Nu_Vx_sce-MCNu_Vx)+(Nu_Vy_sce-MCNu_Vy)*(Nu_Vy_sce-MCNu_Vy)+(Nu_Vz_sce-MCNu_Vz)*(Nu_Vz_sce-MCNu_Vz))','Reco - True: Vertex',0,50,bins_,'DiffVertex'+name)\n",
    "\n",
    "cut_bkg = cut_bkg+' && MCTrackPurity>0.5'\n",
    "make_mc_hist(cut_bkg,'TrackStart_x_sce - MCTrackStart_x','Reco - True: start Track x',-50,50,bins_,'DiffTrackSx'+name)\n",
    "make_mc_hist(cut_bkg,'TrackStart_y_sce - MCTrackStart_y','Reco - True: start Track y',-50,50,bins_,'DiffTrackSy'+name)\n",
    "make_mc_hist(cut_bkg,'TrackStart_z_sce - MCTrackStart_z','Reco - True: start Track z',-50,50,bins_,'DiffTrackSz'+name)\n",
    "make_mc_hist(cut_bkg,'sqrt((TrackStart_x_sce-MCTrackStart_x)*(TrackStart_x_sce-MCTrackStart_x)+(TrackStart_y_sce-MCTrackStart_y)*(TrackStart_y_sce-MCTrackStart_y)+(TrackStart_z_sce-MCTrackStart_z)*(TrackStart_z_sce-MCTrackStart_z))','Reco - True: Track Start',0,50,bins_,'DiffTrackStart'+name)\n",
    "\n",
    "make_mc_hist(cut_bkg,'TrackEnd_x_sce - MCTrackEnd_x','Reco - True: end Track x',-50,50,bins_,'DiffTrackEx'+name)\n",
    "make_mc_hist(cut_bkg,'TrackEnd_y_sce - MCTrackEnd_y','Reco - True: end Track y',-50,50,bins_,'DiffTrackEy'+name)\n",
    "make_mc_hist(cut_bkg,'TrackEnd_z_sce - MCTrackEnd_z','Reco - True: end Track z',-50,50,bins_,'DiffTrackEz'+name)\n",
    "make_mc_hist(cut_bkg,'sqrt((TrackEnd_x_sce-MCTrackEnd_x)*(TrackEnd_x_sce-MCTrackEnd_x)+(TrackEnd_y_sce-MCTrackEnd_y)*(TrackEnd_y_sce-MCTrackEnd_y)+(TrackEnd_z_sce-MCTrackEnd_z)*(TrackEnd_z_sce-MCTrackEnd_z))','Reco - True: Track End',0,2000,bins_,'DiffTrackEnd'+name)\n"
   ]
  },
  {
   "cell_type": "code",
   "execution_count": null,
   "metadata": {},
   "outputs": [],
   "source": [
    "cut_bkg = 'fidVol && muon && TrackLength>8 && crt_tom_cut && TrackScore>0.8\\\n",
    "                && TrackLength>20 && TrackPID_chiproton>78 && NuScore>0.1 && !numu_signal'\n",
    "name = '_bkg_all2'\n",
    "make_mc_hist(cut_bkg,'TrackMomMCS_mom','Muon momentum MCS [GeV]',0,3,60,'TrackMom_MCS_fine'+name)\n",
    "make_mc_hist(cut_bkg,'cos(TrackTheta)','cos(Theta)',-1,1,60,'cosTheta_fine'+name) \n",
    "\n",
    "cut_bkg = 'fidVol && muon && TrackLength>8 && crt_tom_cut && TrackScore>0.8\\\n",
    "                && TrackLength>20 && TrackPID_chiproton>78 && NuScore>0.1 && numu_signal'\n",
    "name = '_sig_all'\n",
    "make_mc_hist(cut_bkg,'TrackMomMCS_mom','Muon momentum MCS [GeV]',0,3,60,'TrackMom_MCS_fine'+name)\n",
    "make_mc_hist(cut_bkg,'cos(TrackTheta)','cos(Theta)',-1,1,60,'cosTheta_fine'+name) \n",
    "\n",
    "cut_bkg = 'fidVol && muon && !numu_signal'\n",
    "name = '_bkg_pre'\n",
    "make_mc_hist(cut_bkg,'TrackMomMCS_mom','Muon momentum MCS [GeV]',0,3,60,'TrackMom_MCS_fine'+name)\n",
    "make_mc_hist(cut_bkg,'cos(TrackTheta)','cos(Theta)',-1,1,60,'cosTheta_fine'+name) \n",
    "\n",
    "cut_bkg = 'fidVol && muon && numu_signal'\n",
    "name = '_sig_pre'\n",
    "make_mc_hist(cut_bkg,'TrackMomMCS_mom','Muon momentum MCS [GeV]',0,3,60,'TrackMom_MCS_fine'+name)\n",
    "make_mc_hist(cut_bkg,'cos(TrackTheta)','cos(Theta)',-1,1,60,'cosTheta_fine'+name) \n"
   ]
  },
  {
   "cell_type": "code",
   "execution_count": null,
   "metadata": {},
   "outputs": [],
   "source": []
  },
  {
   "cell_type": "code",
   "execution_count": null,
   "metadata": {},
   "outputs": [],
   "source": []
  },
  {
   "cell_type": "code",
   "execution_count": null,
   "metadata": {},
   "outputs": [],
   "source": []
  },
  {
   "cell_type": "code",
   "execution_count": null,
   "metadata": {},
   "outputs": [],
   "source": []
  },
  {
   "cell_type": "code",
   "execution_count": null,
   "metadata": {},
   "outputs": [],
   "source": []
  },
  {
   "cell_type": "code",
   "execution_count": null,
   "metadata": {},
   "outputs": [],
   "source": [
    "# close the root file with all the histos\n",
    "RootFile.Close()"
   ]
  },
  {
   "cell_type": "code",
   "execution_count": null,
   "metadata": {},
   "outputs": [],
   "source": []
  },
  {
   "cell_type": "code",
   "execution_count": null,
   "metadata": {},
   "outputs": [],
   "source": []
  },
  {
   "cell_type": "code",
   "execution_count": null,
   "metadata": {},
   "outputs": [],
   "source": []
  },
  {
   "cell_type": "code",
   "execution_count": null,
   "metadata": {},
   "outputs": [],
   "source": []
  }
 ],
 "metadata": {
  "kernelspec": {
   "display_name": "Python 3",
   "language": "python",
   "name": "python3"
  },
  "language_info": {
   "codemirror_mode": {
    "name": "ipython",
    "version": 2
   },
   "file_extension": ".py",
   "mimetype": "text/x-python",
   "name": "python",
   "nbconvert_exporter": "python",
   "pygments_lexer": "ipython2",
   "version": "2.7.12"
  }
 },
 "nbformat": 4,
 "nbformat_minor": 2
}
