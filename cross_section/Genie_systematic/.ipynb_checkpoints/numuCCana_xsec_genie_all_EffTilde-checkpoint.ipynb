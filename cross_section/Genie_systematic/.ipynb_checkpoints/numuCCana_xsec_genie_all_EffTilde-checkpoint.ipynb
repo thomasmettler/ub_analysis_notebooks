{
 "cells": [
  {
   "cell_type": "code",
   "execution_count": 1,
   "metadata": {},
   "outputs": [
    {
     "name": "stdout",
     "output_type": "stream",
     "text": [
      "Welcome to JupyROOT 6.10/08\n"
     ]
    }
   ],
   "source": [
    "from __future__ import division\n",
    "import imp\n",
    "import uproot\n",
    "import matplotlib\n",
    "#matplotlib.use('agg')\n",
    "import matplotlib.pyplot as plt\n",
    "import matplotlib.image as mpimg\n",
    "import numpy as np\n",
    "import pandas as pd\n",
    "import os\n",
    "import ROOT\n",
    "import time\n",
    "import math\n",
    "import collections\n",
    "from array import array\n",
    "\n",
    "inputdir = '/home/tmettler/Desktop/v08_00_00_33/V08_00_00_35/weighted/'\n",
    "outputdir = inputdir+'xsec_all_genie/' \n",
    "output_filedir = outputdir\n",
    "input_filedir = '/home/tmettler/Desktop/v08_00_00_33/V08_00_00_35/weighted/'\n",
    "lib_function_dir = '/home/tmettler/Desktop/uBoone/do_plots/'\n",
    "\n",
    "# helper functions\n",
    "globale = imp.load_source('globale',lib_function_dir+'globale.py')\n",
    "NuCC = imp.load_source('NuCC_function',lib_function_dir+'NuCC_function.py')\n",
    "NuCC_w = imp.load_source('NuCCWeight_function',lib_function_dir+'NuCCWeight_function.py')\n"
   ]
  },
  {
   "cell_type": "code",
   "execution_count": 2,
   "metadata": {},
   "outputs": [],
   "source": [
    "#!jupyter nbconvert --to script numuCCana_muon_cut_weight.ipynb"
   ]
  },
  {
   "cell_type": "code",
   "execution_count": 3,
   "metadata": {},
   "outputs": [
    {
     "name": "stderr",
     "output_type": "stream",
     "text": [
      "Warning in <TCanvas::Constructor>: Deleting canvas with same name: c1\n"
     ]
    }
   ],
   "source": [
    "# initialte ROOT default canvas\n",
    "ROOT.gStyle.SetOptStat(0)\n",
    "c1 = ROOT.TCanvas(\"c1\",\"c1\",1600,1200)\n",
    "c1.SetGrid(1)\n",
    "c1.SetLeftMargin(0.14)\n",
    "c1.SetRightMargin(0.18)\n",
    "c1.SetBottomMargin(0.14)"
   ]
  },
  {
   "cell_type": "markdown",
   "metadata": {},
   "source": [
    "# All Genie cross section variation 100 multisims, Momentum"
   ]
  },
  {
   "cell_type": "code",
   "execution_count": 4,
   "metadata": {},
   "outputs": [],
   "source": [
    "# Load input files\n",
    "outputdir_png, outputdir_root = NuCC.prepareOutput(outputdir)\n",
    "try:\n",
    "    os.stat(output_filedir)\n",
    "except:\n",
    "    os.mkdir(output_filedir)\n",
    "RootFile = ROOT.TFile(output_filedir+\"All_Genie.root\",\"RECREATE\");\n",
    "\n",
    "filename_overlay = 'NuCCana_overlay_V26_weight.root'\n",
    "filename_data = 'NuCCana_data_V22.root'\n",
    "filename_ext = 'NuCCana_ext_V25.root'\n",
    "filename_dirt = 'NuCCana_dirt_V26_weight.root'\n",
    "    \n",
    "tree_name = 'numuCCAna'"
   ]
  },
  {
   "cell_type": "code",
   "execution_count": 5,
   "metadata": {},
   "outputs": [
    {
     "name": "stdout",
     "output_type": "stream",
     "text": [
      "Overlay: Number of Entries:\t989745\n",
      "Data: Number of Entries:\t33178\n",
      "Ext: Number of Entries:\t\t222702\n",
      "Dirt: Number of Entries:\t40808\n",
      "\n",
      "POT: \n",
      "Data:\t\t8.649e+18\n",
      "Ext:\t\t0\n",
      "Overlay:\t1.24025430537e+21\n",
      "Dirt:\t\t1.25019694173e+20\n",
      "\n",
      "Scalefactors: \n",
      "Data:\t\t1.0\n",
      "Ext:\t\t0.0976176954382\n",
      "Overlay:\t0.00697356982562\n",
      "Dirt:\t\t0.0691811002835\n"
     ]
    },
    {
     "name": "stderr",
     "output_type": "stream",
     "text": [
      "Warning in <TClass::Init>: no dictionary for class ROOT::TIOFeatures is available\n"
     ]
    }
   ],
   "source": [
    "#Open all the trees of the four files (data, ext, dirt, overlay)\n",
    "\n",
    "data, ext, dirt, overlay = NuCC.openTrees(inputdir, filename_data, filename_ext, filename_dirt, filename_overlay, tree_name)\n",
    "NuCC.printNumberOfEntries(data,ext,dirt,overlay)\n",
    "\n",
    "pot_overlay = NuCC.getPOT(inputdir,filename_overlay,tree_name)\n",
    "pot_dirt =  NuCC.getPOT(inputdir,filename_dirt,tree_name)\n",
    "#V25 files\n",
    "pot_data =     8.649e+18  # best with tor875\n",
    "data_trigger = 1854495.0 #4743794 # 1987072.0 # E1DCNT_wcut\n",
    "ext_trigger =  18997529.0  #2120135 #5685315 # EXT\n",
    "\n",
    "print 'POT: '\n",
    "print 'Data:\\t\\t', pot_data\n",
    "print 'Ext:\\t\\t', 0\n",
    "print 'Overlay:\\t', pot_overlay\n",
    "print 'Dirt:\\t\\t', pot_dirt\n",
    "print ''\n",
    "sample = [data,ext,overlay,dirt]\n",
    "scale = {data:1.0,ext:1.0,overlay:1.0,dirt:1.0}\n",
    "name = {data:'data',ext:'ext',overlay:'overlay',dirt:'dirt'}\n",
    "\n",
    "scale[data], scale[ext], scale[dirt], scale[overlay] = NuCC.calculateScale(data_trigger, ext_trigger, pot_data, pot_dirt, pot_overlay)\n",
    "\n",
    "scale[dirt] = scale[dirt]\n",
    "scale[overlay] = scale[overlay]\n",
    "print 'Scalefactors: '\n",
    "print 'Data:\\t\\t', scale[data]\n",
    "print 'Ext:\\t\\t', scale[ext]\n",
    "print 'Overlay:\\t', scale[overlay]\n",
    "print 'Dirt:\\t\\t', scale[dirt]\n"
   ]
  },
  {
   "cell_type": "code",
   "execution_count": 6,
   "metadata": {},
   "outputs": [
    {
     "name": "stdout",
     "output_type": "stream",
     "text": [
      "Overlay: Number of Entries:\t989714\n",
      "Data: Number of Entries:\t33177\n",
      "Ext: Number of Entries:\t\t222701\n",
      "Dirt: Number of Entries:\t40800\n",
      "\n"
     ]
    }
   ],
   "source": [
    "if 1:\n",
    "    filename_overlay = filename_overlay+'out4wG.root'\n",
    "    #filename_overlay = 'NuCCana_overlay_points_1kev.rootout2.root'\n",
    "    filename_data = filename_data+'out4.root'\n",
    "    filename_ext = filename_ext+'out4.root'\n",
    "    filename_dirt = filename_dirt+'out4.root'\n",
    "\n",
    "    tree_name = 't_out'\n",
    "\n",
    "    data_out, ext_out, dirt_out, overlay_out = NuCC.openTreesOut(inputdir, filename_data, filename_ext, filename_dirt, filename_overlay, tree_name)\n",
    "    NuCC.printNumberOfEntries(data_out,ext_out,dirt_out,overlay_out)\n",
    "\n",
    "    sample_out = [data_out,ext_out,overlay_out,dirt_out]\n",
    "    scale_out = {data_out:1.0,ext_out:1.0,overlay_out:1.0,dirt_out:1.0}\n",
    "    name_out = {data_out:'data',ext_out:'ext',overlay_out:'overlay',dirt_out:'dirt'}\n",
    "\n",
    "    scale_out[data_out], scale_out[ext_out], scale_out[dirt_out], scale_out[overlay_out] = NuCC.calculateScale(data_trigger, ext_trigger, pot_data, pot_dirt, pot_overlay)\n",
    "    scale_out[dirt_out] = scale_out[dirt_out]\n",
    "    scale_out[overlay_out] = scale_out[overlay_out]"
   ]
  },
  {
   "cell_type": "code",
   "execution_count": 7,
   "metadata": {},
   "outputs": [
    {
     "name": "stdout",
     "output_type": "stream",
     "text": [
      "Fiducial Volume:  49184671.35\n",
      "Beam flux = 6.34870e+09  /cm2\n",
      "Number of target nuclei= 4.10331e+31  /cm3\n"
     ]
    }
   ],
   "source": [
    "##### flux and number of tragets parameters###\n",
    "flux = 1.16859e11/1.592e20 # flux per POT per cm2\n",
    "roh_data = 1.3836 #data denisity g/cm3\n",
    "roh_MC = 1.3954 # MC denisity g/cm3\n",
    "mol = 39.95 # g for argon\n",
    "N_A = 6.022140857e23 # molec/mol avogadro zahl\n",
    "N_nucleons = 40.0\n",
    "V_fid = ((254.8-10)-(-1.55+10))*((117.47-10)-(-115.53+10))*((1036.9-50)-(-0.1+10))\n",
    "print 'Fiducial Volume: ', V_fid\n",
    "##############################################\n",
    "\n",
    "beam_flux = flux * pot_data\n",
    "print 'Beam flux = {:.5e}'.format(beam_flux),' /cm2'\n",
    "N_tot = roh_data*N_A*N_nucleons*V_fid/mol\n",
    "print 'Number of target nuclei= {:.5e}'.format(N_tot),' /cm3'"
   ]
  },
  {
   "cell_type": "code",
   "execution_count": 8,
   "metadata": {},
   "outputs": [],
   "source": [
    "# Define signals\n",
    "\n",
    "fidVol = '(Nu_Vx_sce>(-1.55+10) && Nu_Vx_sce<(254.8-10)) && (Nu_Vy_sce>(-115.53+10) && Nu_Vy_sce<(117.47-10)) &&(Nu_Vz_sce>(-0.1+10) && Nu_Vz_sce<(1036.9-50))'\n",
    "MCfidVol = '(MCNu_Vx>(-1.55+10) && MCNu_Vx<(254.8-10)) && (MCNu_Vy>(-115.53+10) && MCNu_Vy<(117.47-10)) &&(MCNu_Vz>(-0.1+10) && MCNu_Vz<(1036.9-50))'\n",
    "numu_signal = 'fidVol && MCfidVol && MCNu_CCNC==0 && MCNu_PDG==14 && MCTrackPDG==13 && MCTrackPurity>0.5' # numu CC signal definition\n",
    "numu_true = 'MCfidVol && MCNu_CCNC==0 && MCNu_PDG==14' # numu CC signal definition\n",
    "numu_nomu = 'fidVol && MCfidVol && MCNu_CCNC==0 && MCNu_PDG==14 && MCTrackPDG!=13 && MCTrackPurity>0.5' # not an MC muon\n",
    "numu_lowpur = 'fidVol && MCfidVol && MCNu_CCNC==0 && MCNu_PDG==14 && MCTrackPurity<0.5' #low purity\n",
    "numu_nc = 'fidVol && MCfidVol && MCNu_CCNC==1' # nutral current\n",
    "numu_ov = 'fidVol && !MCfidVol' # out of fiducial\n",
    "numu_other = 'fidVol && MCfidVol && MCNu_CCNC==0 && MCNu_PDG!=14' # e.g anti nu or nue\n",
    "#signal = 'MCfidVol && MCNu_CCNC==0 && MCNu_PDG==14'\n",
    "for x in sample:\n",
    "    x.SetAlias('muon','(muon_candidate_key==track_key)')\n",
    "    \n",
    "num_fidVol = {}\n",
    "for x in sample:\n",
    "    x.SetAlias('fidVol',fidVol)\n",
    "    x.SetAlias('MCfidVol',MCfidVol)\n",
    "    x.SetAlias('numu_signal',numu_signal)\n",
    "    x.SetAlias('numu_true',numu_true)\n",
    "    x.SetAlias('numu_nomu',numu_nomu)\n",
    "    x.SetAlias('numu_lowpur',numu_lowpur)\n",
    "    x.SetAlias('numu_nc',numu_nc)\n",
    "    x.SetAlias('numu_ov',numu_ov)\n",
    "    x.SetAlias('numu_other',numu_other)\n",
    "    num_fidVol[x] = x.GetEntries('fidVol && muon')*scale[x]\n",
    "    \n",
    "tot_num_fidVol = num_fidVol[ext]+num_fidVol[dirt]+num_fidVol[overlay]\n",
    "overlay_signals = {'numu_signal','numu_nomu','numu_lowpur','numu_nc','numu_ov','numu_other'}"
   ]
  },
  {
   "cell_type": "code",
   "execution_count": 9,
   "metadata": {},
   "outputs": [],
   "source": [
    "for x in sample_out:\n",
    "    x.SetAlias('muon','(track_key == key_muon)')\n",
    "\n",
    "num_fidVol = {}\n",
    "for x in sample_out:\n",
    "    x.SetAlias('fidVol',fidVol)\n",
    "    x.SetAlias('MCfidVol',MCfidVol)\n",
    "    x.SetAlias('numu_signal',numu_signal)\n",
    "    x.SetAlias('numu_true',numu_true)\n",
    "    x.SetAlias('numu_nomu',numu_nomu)\n",
    "    x.SetAlias('numu_lowpur',numu_lowpur)\n",
    "    x.SetAlias('numu_nc',numu_nc)\n",
    "    x.SetAlias('numu_ov',numu_ov)\n",
    "    x.SetAlias('numu_other',numu_other)"
   ]
  },
  {
   "cell_type": "code",
   "execution_count": 10,
   "metadata": {},
   "outputs": [
    {
     "name": "stderr",
     "output_type": "stream",
     "text": [
      "Warning in <TCanvas::Constructor>: Deleting canvas with same name: c1\n"
     ]
    }
   ],
   "source": [
    "# Load the global variables for access of functions\n",
    "NuCC.loadGlobal(data,ext,dirt,overlay,data_out,ext_out,dirt_out,overlay_out,scale,scale_out,tot_num_fidVol,overlay_signals,sample,sample_out, name,name_out, outputdir_png, outputdir_root)\n",
    "#NuCC.printGlobal()"
   ]
  },
  {
   "cell_type": "code",
   "execution_count": 11,
   "metadata": {},
   "outputs": [],
   "source": [
    "# initialte ROOT default canvas\n",
    "ROOT.gStyle.SetOptStat(0)\n",
    "c1 = ROOT.TCanvas(\"c1\",\"c1\",1600,1200)\n",
    "c1.SetGrid(1)\n",
    "c1.SetLeftMargin(0.14)\n",
    "c1.SetRightMargin(0.18)\n",
    "c1.SetBottomMargin(0.14)"
   ]
  },
  {
   "cell_type": "code",
   "execution_count": 12,
   "metadata": {},
   "outputs": [
    {
     "data": {
      "text/plain": [
       "True"
      ]
     },
     "execution_count": 12,
     "metadata": {},
     "output_type": "execute_result"
    }
   ],
   "source": [
    "track_start_border_x = '(TrackStart_x_sce <(-1.55+1) || TrackStart_x_sce > (254.8-1))'\n",
    "track_end_border_x = '(TrackEnd_x_sce <(-1.55+1) || TrackEnd_x_sce > (254.8-1))'\n",
    "track_start_border_y = '(TrackStart_y_sce <(-115.53+1) || TrackStart_y_sce > (117.47-1))'\n",
    "track_end_border_y = '(TrackEnd_y_sce <(-115.53+1) || TrackEnd_y_sce > (117.47-1))'\n",
    "track_start_border_z = '(TrackStart_z_sce <(0.1+1) || TrackStart_z_sce > (1036.9-1))'\n",
    "track_end_border_z = '(TrackEnd_z_sce <(0.1+1) || TrackEnd_z_sce > (1039.9-1))'\n",
    "\n",
    "track_end_uncontained = '(' + track_end_border_x + ' || ' + track_end_border_y + ' || ' + track_end_border_z+ ')'\n",
    "\n",
    "\n",
    "data.SetAlias(\"track_end_uncontained\",track_end_uncontained)\n",
    "ext.SetAlias(\"track_end_uncontained\",track_end_uncontained)\n",
    "overlay.SetAlias(\"track_end_uncontained\",track_end_uncontained)\n",
    "dirt.SetAlias(\"track_end_uncontained\",track_end_uncontained)\n",
    "data_out.SetAlias(\"track_end_uncontained\",track_end_uncontained)\n",
    "ext_out.SetAlias(\"track_end_uncontained\",track_end_uncontained)\n",
    "overlay_out.SetAlias(\"track_end_uncontained\",track_end_uncontained)\n",
    "dirt_out.SetAlias(\"track_end_uncontained\",track_end_uncontained)\n",
    "\n",
    "data.SetAlias(\"crt_cut\",\"(abs(crtt0_time-(69000-crt_trig_corr_med)/1000-4)<0.8 || crtt0_time==-1)\")\n",
    "ext.SetAlias(\"crt_cut\",\"(abs(crtt0_time-(69000-crt_trig_corr_med)/1000-3.57+3.195-4)<0.8 || crtt0_time==-1)\")\n",
    "overlay.SetAlias(\"crt_cut\",\"(abs(crtt0_time-4)<0.8 || crtt0_time==-1)\")\n",
    "dirt.SetAlias(\"crt_cut\",\"(abs(crtt0_time-4)<0.8 || crtt0_time==-1)\")\n",
    "data_out.SetAlias(\"crt_cut\",\"(abs(crtt0_time-(69000-crt_trig_corr_med)/1000-4)<0.8 || crtt0_time==-1)\")\n",
    "ext_out.SetAlias(\"crt_cut\",\"(abs(crtt0_time-(69000-crt_trig_corr_med)/1000-3.57+3.195-4)<0.8 || crtt0_time==-1)\")\n",
    "overlay_out.SetAlias(\"crt_cut\",\"(abs(crtt0_time-4)<0.8 || crtt0_time==-1)\")\n",
    "dirt_out.SetAlias(\"crt_cut\",\"(abs(crtt0_time-4)<0.8 || crtt0_time==-1)\")\n",
    "\n",
    "crt_tom_cut = 'nr_crthit_top==0 && crthit_vertex_zcut==0 && (track_end_uncontained==1 || nr_crthit_beam_tres==0) && crt_cut'\n",
    "\n",
    "data.SetAlias(\"crt_tom_cut\",crt_tom_cut)\n",
    "ext.SetAlias(\"crt_tom_cut\",crt_tom_cut)\n",
    "overlay.SetAlias(\"crt_tom_cut\",crt_tom_cut)\n",
    "dirt.SetAlias(\"crt_tom_cut\",crt_tom_cut)\n",
    "data_out.SetAlias(\"crt_tom_cut\",crt_tom_cut)\n",
    "ext_out.SetAlias(\"crt_tom_cut\",crt_tom_cut)\n",
    "overlay_out.SetAlias(\"crt_tom_cut\",crt_tom_cut)\n",
    "dirt_out.SetAlias(\"crt_tom_cut\",crt_tom_cut)\n"
   ]
  },
  {
   "cell_type": "code",
   "execution_count": 13,
   "metadata": {},
   "outputs": [],
   "source": [
    "weight_name = 'EventWeight*TunedCentralValue_Genie'\n",
    "num_universes = 100\n",
    "eff_uni = np.zeros((num_universes))\n",
    "mom_bins = [ 0.00, 0.18, 0.30, 0.45, 0.77, 1.28, 2.50 ]\n",
    "binnum = len(mom_bins) - 1"
   ]
  },
  {
   "cell_type": "code",
   "execution_count": 14,
   "metadata": {},
   "outputs": [
    {
     "name": "stdout",
     "output_type": "stream",
     "text": [
      "Data:  1446.0  Ext:  157.945431195  Dirt:  36.4397449717\n",
      "Data:  1443.0  Ext:  157.652578115  Dirt:  36.2889559269\n",
      "Data:  1446  Ext:  1618  Dirt:  451\n"
     ]
    }
   ],
   "source": [
    "variable = 'TrackMomMCS_mom'\n",
    "cut = 'fidVol && muon && crt_tom_cut && TrackScore>0.8\\\n",
    "                && TrackLength>20 && TrackPID_chiproton>78 && NuScore>0.1'\n",
    "\n",
    "h_ext_mom = ROOT.TH1F('h_ext_mom','h_ext_mom',binnum,array('f',mom_bins))\n",
    "h_data_mom = ROOT.TH1F('h_data_mom','h_data_mom',binnum,array('f',mom_bins))\n",
    "h_dirt_mom = ROOT.TH1F('h_dirt_mom','h_dirt_mom',binnum,array('f',mom_bins))\n",
    "\n",
    "globale.ext_out.Draw(variable+'>>h_ext_mom','('+cut+')')\n",
    "globale.data_out.Draw(variable+'>>h_data_mom','('+cut+')')\n",
    "globale.dirt_out.Draw(variable+'>>h_dirt_mom',weight_name+'*('+cut+')')\n",
    "\n",
    "h_data_mom.Scale(globale.scale[globale.data])\n",
    "h_ext_mom.Scale(globale.scale[globale.ext])\n",
    "h_dirt_mom.Scale(globale.scale[globale.dirt])\n",
    "#h_overlay.Scale(globale.scale[globale.overlay])\n",
    "\n",
    "bkg_ext2 = h_ext_mom.GetSumOfWeights()\n",
    "num_data2 = h_data_mom.GetSumOfWeights()\n",
    "bkg_dirt2 = h_dirt_mom.GetSumOfWeights()\n",
    "\n",
    "bkg_ext = h_ext_mom.Integral(0,binnum+1)\n",
    "num_data = h_data_mom.Integral(0,binnum+1)\n",
    "bkg_dirt = h_dirt_mom.Integral(0,binnum+1)\n",
    "\n",
    "bkg_ext3 = ext_out.GetEntries(cut)\n",
    "num_data3 = data_out.GetEntries(cut)\n",
    "bkg_dirt3 = dirt_out.GetEntries(cut)\n",
    "\n",
    "print 'Data: ', num_data,' Ext: ', bkg_ext,' Dirt: ',bkg_dirt\n",
    "print 'Data: ', num_data2,' Ext: ', bkg_ext2,' Dirt: ',bkg_dirt2\n",
    "print 'Data: ', num_data3,' Ext: ', bkg_ext3,' Dirt: ',bkg_dirt3\n"
   ]
  },
  {
   "cell_type": "code",
   "execution_count": 15,
   "metadata": {},
   "outputs": [
    {
     "name": "stdout",
     "output_type": "stream",
     "text": [
      "Signal:  205903.51123  True:  417402.17041  Eff:  0.49329765350319005\n",
      "Signal:  158262.930908  True:  318246.807129  Eff:  0.4972962096178974\n",
      "Signal:  149639.041748  True:  297085.847656  Eff:  0.503689566260289\n",
      "Signal:  183953.061279  True:  369644.917969  Eff:  0.4976480193212027\n",
      "Signal:  158823.085449  True:  319265.765625  Eff:  0.4974635634306235\n",
      "Signal:  139533.292114  True:  274995.73291  Eff:  0.5074016627008706\n",
      "Signal:  153807.214966  True:  301783.824951  Eff:  0.5096602344101977\n",
      "Signal:  146568.88208  True:  290608.714111  Eff:  0.5043512976831439\n",
      "Signal:  144822.049072  True:  290261.419189  Eff:  0.49893661195717\n",
      "Signal:  212093.189697  True:  427932.955566  Eff:  0.4956224729561713\n",
      "Signal:  158507.233032  True:  315563.539551  Eff:  0.502298945112191\n",
      "Signal:  185931.388916  True:  372930.0625  Eff:  0.4985690551992322\n",
      "Signal:  179518.41626  True:  362912.609863  Eff:  0.49466017818282737\n",
      "Signal:  213345.386719  True:  429807.298828  Eff:  0.49637450853077386\n",
      "Signal:  227431.961914  True:  459109.257324  Eff:  0.495376554242408\n",
      "Signal:  175349.514648  True:  349315.865723  Eff:  0.5019798178524718\n",
      "Signal:  198137.853271  True:  401491.844727  Eff:  0.49350405462513663\n",
      "Signal:  154725.646362  True:  309165.747803  Eff:  0.5004617990898157\n",
      "Signal:  165175.46875  True:  329890.410156  Eff:  0.5006980005019422\n",
      "Signal:  154262.821289  True:  305187.69043  Eff:  0.5054686873899433\n",
      "Signal:  137615.916748  True:  273191.784912  Eff:  0.5037337297397882\n",
      "Signal:  188972.483643  True:  383491.243164  Eff:  0.49276870596425393\n",
      "Signal:  111897.381348  True:  217904.448486  Eff:  0.5135158190892876\n",
      "Signal:  150924.831055  True:  300086.775879  Eff:  0.5029372940965251\n",
      "Signal:  198022.768311  True:  400626.21582  Eff:  0.4942831010324181\n",
      "Signal:  172515.813477  True:  344596.101074  Eff:  0.5006319367479036\n",
      "Signal:  159072.687622  True:  317493.470947  Eff:  0.5010266420517719\n",
      "Signal:  189150.299072  True:  379058.238281  Eff:  0.49900062832013087\n",
      "Signal:  188240.412842  True:  375948.424805  Eff:  0.5007080770177224\n",
      "Signal:  175793.739502  True:  350041.11377  Eff:  0.5022088337248766\n",
      "Signal:  161810.061279  True:  326137.316406  Eff:  0.49614089875486567\n",
      "Signal:  197488.9646  True:  398331.289551  Eff:  0.49579073946796365\n",
      "Signal:  152884.413818  True:  303487.160645  Eff:  0.5037590832299821\n",
      "Signal:  126787.500732  True:  250699.125244  Eff:  0.5057357125157547\n",
      "Signal:  174509.046143  True:  350164.59082  Eff:  0.4983629148046203\n",
      "Signal:  164734.095703  True:  328269.418457  Eff:  0.501825897999962\n",
      "Signal:  138980.98877  True:  273128.729248  Eff:  0.5088479309817061\n",
      "Signal:  131861.88623  True:  259143.202881  Eff:  0.508837911874895\n",
      "Signal:  180158.083984  True:  359562.322266  Eff:  0.5010482823928477\n",
      "Signal:  160869.92749  True:  318867.911133  Eff:  0.504503344092313\n",
      "Signal:  188858.779053  True:  379436.59375  Eff:  0.49773475242919785\n",
      "Signal:  174888.275391  True:  349542.800293  Eff:  0.5003343660462829\n",
      "Signal:  196489.430664  True:  396547.075684  Eff:  0.4955008943776503\n",
      "Signal:  143830.609375  True:  286013.753662  Eff:  0.5028800452194983\n",
      "Signal:  156229.627197  True:  309505.425537  Eff:  0.5047718531141996\n",
      "Signal:  161023.133789  True:  318884.14917  Eff:  0.5049580990720837\n",
      "Signal:  166740.914185  True:  334210.932129  Eff:  0.4989092161720724\n",
      "Signal:  118424.415527  True:  233126.515381  Eff:  0.5079834669766049\n",
      "Signal:  206519.370605  True:  415537.888184  Eff:  0.4969928771313964\n",
      "Signal:  170064.987427  True:  341070.908203  Eff:  0.4986206191630847\n",
      "Signal:  161976.138672  True:  321269.141113  Eff:  0.5041758387082728\n",
      "Signal:  200119.942139  True:  404374.225586  Eff:  0.4948879762272149\n",
      "Signal:  151134.315918  True:  296861.981934  Eff:  0.5091063359934604\n",
      "Signal:  152519.836426  True:  299443.955322  Eff:  0.509343513919449\n",
      "Signal:  131427.37439  True:  260066.580322  Eff:  0.5053604897130116\n",
      "Signal:  194428.260742  True:  392020.020508  Eff:  0.49596513078676496\n",
      "Signal:  170715.619385  True:  342146.312012  Eff:  0.4989550183399858\n",
      "Signal:  166740.582031  True:  333331.971924  Eff:  0.5002237891220137\n",
      "Signal:  161006.384644  True:  318033.407471  Eff:  0.5062562009570847\n",
      "Signal:  203629.049072  True:  413312.327148  Eff:  0.49267596366448085\n",
      "Signal:  169300.923706  True:  337131.347168  Eff:  0.5021809010886905\n",
      "Signal:  125406.412598  True:  246637.690918  Eff:  0.5084641042936385\n",
      "Signal:  163408.047363  True:  328989.427734  Eff:  0.4966969561563431\n",
      "Signal:  230744.209717  True:  465599.965332  Eff:  0.49558467976312515\n",
      "Signal:  177489.193604  True:  354384.286621  Eff:  0.5008382151923297\n",
      "Signal:  176261.569092  True:  348791.723145  Eff:  0.5053490590393344\n",
      "Signal:  180795.380615  True:  363304.075684  Eff:  0.497642037940393\n",
      "Signal:  206799.688965  True:  414561.55957  Eff:  0.4988395189828716\n",
      "Signal:  183278.275635  True:  367640.64209  Eff:  0.4985256107510992\n",
      "Signal:  159815.988037  True:  315805.780762  Eff:  0.5060578297573769\n",
      "Signal:  150850.27063  True:  299316.814697  Eff:  0.5039819456265946\n",
      "Signal:  172188.254639  True:  343533.526367  Eff:  0.5012269296086915\n",
      "Signal:  187723.651367  True:  376559.11377  Eff:  0.49852372310946547\n",
      "Signal:  176225.254883  True:  354184.938477  Eff:  0.49755152108048734\n",
      "Signal:  137628.708008  True:  273711.358398  Eff:  0.5028242481901992\n",
      "Signal:  183004.365479  True:  367508.695312  Eff:  0.49795928045431237\n",
      "Signal:  146261.79895  True:  289056.674805  Eff:  0.5059969608002405\n",
      "Signal:  145337.543213  True:  290012.301025  Eff:  0.5011426849793047\n",
      "Signal:  151045.266479  True:  300004.599365  Eff:  0.5034765026905647\n",
      "Signal:  136856.394043  True:  270943.070312  Eff:  0.5051112541284835\n",
      "Signal:  143309.213257  True:  283257.025391  Eff:  0.5059334823530173\n",
      "Signal:  174426.656494  True:  348883.589844  Eff:  0.49995660894299687\n",
      "Signal:  149426.48584  True:  294023.688721  Eff:  0.5082124045514778\n",
      "Signal:  129378.811401  True:  255001.822754  Eff:  0.5073642611810911\n",
      "Signal:  204830.699463  True:  412709.880859  Eff:  0.4963067495170627\n",
      "Signal:  151032.995972  True:  300274.988525  Eff:  0.5029822720612931\n",
      "Signal:  204923.503174  True:  414460.901855  Eff:  0.49443385915636806\n",
      "Signal:  172691.61377  True:  342822.808105  Eff:  0.5037343189733252\n",
      "Signal:  110183.088135  True:  213521.981689  Eff:  0.5160269086253432\n",
      "Signal:  196964.542969  True:  393015.51709  Eff:  0.5011622554427634\n",
      "Signal:  142907.294312  True:  283658.934082  Eff:  0.5037997296788689\n",
      "Signal:  216501.559082  True:  436095.675293  Eff:  0.4964542676021395\n",
      "Signal:  191320.416504  True:  385644.075195  Eff:  0.4961061994975821\n",
      "Signal:  177330.13208  True:  353747.022461  Eff:  0.5012908118531508\n",
      "Signal:  147976.204468  True:  292525.131348  Eff:  0.5058580908452228\n",
      "Signal:  213664.447998  True:  435148.182617  Eff:  0.491015374838446\n",
      "Signal:  141436.273438  True:  277433.728516  Eff:  0.5098020135988417\n",
      "Signal:  133176.589722  True:  263179.651611  Eff:  0.5060292044096137\n",
      "Signal:  144657.345581  True:  287068.354248  Eff:  0.5039125471004051\n",
      "Signal:  192844.003662  True:  392357.88623  Eff:  0.4915002614445576\n"
     ]
    }
   ],
   "source": [
    "\n",
    "variable = 'MCle_Energy'\n",
    "cut = 'fidVol && muon && crt_tom_cut && TrackScore>0.8\\\n",
    "                && TrackLength>20 && TrackPID_chiproton>78 && NuScore>0.1'\n",
    "\n",
    "h_1d = {}\n",
    "h_1d_true = {}\n",
    "for uni in range(num_universes):\n",
    "    #print 'At universe: ',uni\n",
    "    h_1d[uni] = ROOT.TH1F(\"h_1d[\"+str(uni)+']',\"Track true momentum\",binnum,array('f',mom_bins))\n",
    "    h_1d_true[uni] = ROOT.TH1F(\"h_1d_true[\"+str(uni)+']',\"Track true momentum\",binnum,array('f',mom_bins))\n",
    "    \n",
    "for uni in range(num_universes):\n",
    "    globale.overlay_out.Draw(variable+\">>h_1d[\"+str(uni)+']',weight_name+'*All_Genie['+str(uni)+']*('+cut+'&& numu_signal)')\n",
    "    globale.overlay_out.Draw(variable+\">>h_1d_true[\"+str(uni)+']',weight_name+'*All_Genie['+str(uni)+']*(numu_true)')\n",
    "    #print variable+\">>h_1d_true[\"+str(uni)+']',weight_name+'*All_Genie['+str(uni)+']*(numu_true)'\n",
    "    num_signal = h_1d[uni].Integral(0,binnum+1)\n",
    "    num_true = h_1d_true[uni].Integral(0,binnum+1)\n",
    "    eff_uni[uni] = num_signal/(num_true+1e-80)\n",
    "    h_1d[uni].Write('h_1d['+str(uni)+']')\n",
    "    h_1d_true[uni].Write('h_1d_true['+str(uni)+']')\n",
    "    print 'Signal: ', num_signal,' True: ', num_true,' Eff: ',eff_uni[uni]"
   ]
  },
  {
   "cell_type": "code",
   "execution_count": 16,
   "metadata": {},
   "outputs": [],
   "source": [
    "variable = 'TrackMomMCS_mom'\n",
    "cut = 'fidVol && muon && crt_tom_cut && TrackScore>0.8\\\n",
    "                && TrackLength>20 && TrackPID_chiproton>78 && NuScore>0.1'\n",
    "\n",
    "bkg_uni = np.zeros((num_universes))\n",
    "h_1d_bkg = {}\n",
    "for uni in range(num_universes):\n",
    "    #print 'At universe: ',uni\n",
    "    h_1d_bkg[uni] = ROOT.TH1F(\"h_1d_bkg[\"+str(uni)+']',\"Track momentum\",binnum,array('f',mom_bins))\n",
    "\n",
    "for uni in range(num_universes):\n",
    "    globale.overlay_out.Draw(variable+\">>h_1d_bkg[\"+str(uni)+']',weight_name+'*All_Genie['+str(uni)+']*('+cut+'&& !numu_signal)')\n",
    "    h_1d_bkg[uni].Scale(globale.scale[globale.overlay])\n",
    "    bkg_uni[uni] = h_1d_bkg[uni].Integral(0,binnum+1)\n",
    "    h_1d_bkg[uni].Write('h_1d_bkg['+str(uni)+']')\n",
    "    #print 'Overlay: ',bkg_uni[uni]\n"
   ]
  },
  {
   "cell_type": "code",
   "execution_count": 17,
   "metadata": {},
   "outputs": [
    {
     "name": "stdout",
     "output_type": "stream",
     "text": [
      "Total flux integrated xsec:  7.713899141506432e-39  change:  0.4805909985544217\n",
      "Total flux integrated xsec:  7.838904308628083e-39  change:  2.10889762271953\n",
      "Total flux integrated xsec:  7.745856238369501e-39  change:  0.896861411285292\n",
      "Total flux integrated xsec:  7.800995129401671e-39  change:  1.6150958937801354\n",
      "Total flux integrated xsec:  7.961024739331916e-39  change:  3.699627916831573\n",
      "Total flux integrated xsec:  8.044620524899386e-39  change:  4.788539475658037\n",
      "Total flux integrated xsec:  7.742303969098225e-39  change:  0.8505898553294602\n",
      "Total flux integrated xsec:  8.05578857810469e-39  change:  4.934013582304575\n",
      "Total flux integrated xsec:  8.099098263141693e-39  change:  5.49816183841329\n",
      "Total flux integrated xsec:  7.283711709738218e-39  change:  -5.122993724460132\n",
      "Total flux integrated xsec:  7.822091489325137e-39  change:  1.889895275278679\n",
      "Total flux integrated xsec:  7.534910771415344e-39  change:  -1.8508962141638263\n",
      "Total flux integrated xsec:  7.58482417139481e-39  change:  -1.2007285315585716\n",
      "Total flux integrated xsec:  7.493430893660361e-39  change:  -2.3912095569896388\n",
      "Total flux integrated xsec:  7.340630367248825e-39  change:  -4.381576155913442\n",
      "Total flux integrated xsec:  7.520937509302311e-39  change:  -2.032910732313349\n",
      "Total flux integrated xsec:  7.581586853333136e-39  change:  -1.2428975599733991\n",
      "Total flux integrated xsec:  7.970333477046582e-39  change:  3.8208827387914988\n",
      "Total flux integrated xsec:  7.93080643632349e-39  change:  3.306006884256469\n",
      "Total flux integrated xsec:  7.621635364124293e-39  change:  -0.7212290808958244\n",
      "Total flux integrated xsec:  7.957379467206157e-39  change:  3.6521449136411444\n",
      "Total flux integrated xsec:  7.686725311976116e-39  change:  0.12662701732884407\n",
      "Total flux integrated xsec:  8.063255248745067e-39  change:  5.03127379597521\n",
      "Total flux integrated xsec:  8.097356397050181e-39  change:  5.475472439562619\n",
      "Total flux integrated xsec:  7.429328038727974e-39  change:  -3.226207867201273\n",
      "Total flux integrated xsec:  7.660132446747278e-39  change:  -0.2197693725540475\n",
      "Total flux integrated xsec:  7.963567546813048e-39  change:  3.732750309776141\n",
      "Total flux integrated xsec:  7.713350004998339e-39  change:  0.4734379933284103\n",
      "Total flux integrated xsec:  7.520581456393163e-39  change:  -2.0375486470801447\n",
      "Total flux integrated xsec:  7.5556134785679e-39  change:  -1.5812245200181652\n",
      "Total flux integrated xsec:  7.826145665074102e-39  change:  1.9427046221206823\n",
      "Total flux integrated xsec:  7.392507776830514e-39  change:  -3.7058254520710494\n",
      "Total flux integrated xsec:  7.639235202453793e-39  change:  -0.4919750908725816\n",
      "Total flux integrated xsec:  7.944717228756214e-39  change:  3.4872076776888457\n",
      "Total flux integrated xsec:  7.634016348561879e-39  change:  -0.5599554356729282\n",
      "Total flux integrated xsec:  7.8225256817957e-39  change:  1.8955510292947755\n",
      "Total flux integrated xsec:  7.744540225087852e-39  change:  0.879719134743126\n",
      "Total flux integrated xsec:  7.87649881947111e-39  change:  2.598600508188067\n",
      "Total flux integrated xsec:  7.63564411414958e-39  change:  -0.5387523002340262\n",
      "Total flux integrated xsec:  7.751148054308083e-39  change:  0.9657921534702945\n",
      "Total flux integrated xsec:  7.761532466951143e-39  change:  1.101058625121842\n",
      "Total flux integrated xsec:  7.807226621998911e-39  change:  1.6962667838174108\n",
      "Total flux integrated xsec:  7.546456305891278e-39  change:  -1.7005050687450562\n",
      "Total flux integrated xsec:  7.969085294771679e-39  change:  3.804624023146477\n",
      "Total flux integrated xsec:  7.958356816041376e-39  change:  3.6648757760458865\n",
      "Total flux integrated xsec:  7.77622999535236e-39  change:  1.2925073740465\n",
      "Total flux integrated xsec:  7.761820909762179e-39  change:  1.104815856528494\n",
      "Total flux integrated xsec:  8.095776108820841e-39  change:  5.454887740136395\n",
      "Total flux integrated xsec:  7.513872008571217e-39  change:  -2.124945341029063\n",
      "Total flux integrated xsec:  7.796555431900222e-39  change:  1.5572647735364138\n",
      "Total flux integrated xsec:  7.801652480840298e-39  change:  1.6236584974433865\n",
      "Total flux integrated xsec:  7.601156034679435e-39  change:  -0.9879910761105486\n",
      "Total flux integrated xsec:  7.854216472161044e-39  change:  2.3083525563444423\n",
      "Total flux integrated xsec:  7.847658998770571e-39  change:  2.2229354683523757\n",
      "Total flux integrated xsec:  7.901912340887037e-39  change:  2.929634866349002\n",
      "Total flux integrated xsec:  7.809690934519833e-39  change:  1.7283667081183347\n",
      "Total flux integrated xsec:  7.733912992957284e-39  change:  0.7412897171982975\n",
      "Total flux integrated xsec:  7.655140592271792e-39  change:  -0.284792842355038\n",
      "Total flux integrated xsec:  7.76380888860468e-39  change:  1.1307110990410996\n",
      "Total flux integrated xsec:  7.222925741790173e-39  change:  -5.914786548270112\n",
      "Total flux integrated xsec:  7.589251958084948e-39  change:  -1.1430525605251045\n",
      "Total flux integrated xsec:  8.069845834330535e-39  change:  5.117122200589577\n",
      "Total flux integrated xsec:  7.866417744350366e-39  change:  2.467285285179415\n",
      "Total flux integrated xsec:  7.236317909745692e-39  change:  -5.740341312956903\n",
      "Total flux integrated xsec:  7.621818654332136e-39  change:  -0.7188415583121767\n",
      "Total flux integrated xsec:  7.653304553297381e-39  change:  -0.3087089291304628\n",
      "Total flux integrated xsec:  7.64166996191514e-39  change:  -0.46026012220012297\n",
      "Total flux integrated xsec:  7.380277731590605e-39  change:  -3.8651329762040505\n",
      "Total flux integrated xsec:  7.6780444614344e-39  change:  0.0135510000254421\n",
      "Total flux integrated xsec:  7.737463569555937e-39  change:  0.7875392245451859\n",
      "Total flux integrated xsec:  7.901907778067143e-39  change:  2.929575431446989\n",
      "Total flux integrated xsec:  7.481280664641278e-39  change:  -2.5494774018511452\n",
      "Total flux integrated xsec:  7.697832299115768e-39  change:  0.27130568262283483\n",
      "Total flux integrated xsec:  7.472927170542511e-39  change:  -2.6582893021041123\n",
      "Total flux integrated xsec:  7.994137397233695e-39  change:  4.1309505689001025\n",
      "Total flux integrated xsec:  7.678922029654642e-39  change:  0.024982128666594397\n",
      "Total flux integrated xsec:  7.788987647284974e-39  change:  1.4586874578701736\n",
      "Total flux integrated xsec:  7.958778381833019e-39  change:  3.6703670560214188\n",
      "Total flux integrated xsec:  7.856322324252274e-39  change:  2.335783205721726\n",
      "Total flux integrated xsec:  8.068231130629045e-39  change:  5.096089208164212\n",
      "Total flux integrated xsec:  7.866862460287619e-39  change:  2.473078116973287\n",
      "Total flux integrated xsec:  7.467872383123287e-39  change:  -2.7241325310520748\n",
      "Total flux integrated xsec:  7.827436098108889e-39  change:  1.9595136925532601\n",
      "Total flux integrated xsec:  7.857821547691254e-39  change:  2.3553119621164003\n",
      "Total flux integrated xsec:  7.270905104239313e-39  change:  -5.289811473254807\n",
      "Total flux integrated xsec:  7.787037989186343e-39  change:  1.4332913780923708\n",
      "Total flux integrated xsec:  7.485615182822026e-39  change:  -2.493016338450405\n",
      "Total flux integrated xsec:  7.68364452705552e-39  change:  0.08649697623260393\n",
      "Total flux integrated xsec:  8.222474366253992e-39  change:  7.105248414010052\n",
      "Total flux integrated xsec:  7.317475260057745e-39  change:  -4.683192603382348\n",
      "Total flux integrated xsec:  7.933997033767406e-39  change:  3.347567333897046\n",
      "Total flux integrated xsec:  7.36974901735031e-39  change:  -4.002279108129388\n",
      "Total flux integrated xsec:  7.393612907414782e-39  change:  -3.691430115523236\n",
      "Total flux integrated xsec:  7.843382925284306e-39  change:  2.1672357005473675\n",
      "Total flux integrated xsec:  7.874828881904576e-39  change:  2.576848044156852\n",
      "Total flux integrated xsec:  7.225662547347696e-39  change:  -5.8791371529612695\n",
      "Total flux integrated xsec:  7.965669377659743e-39  change:  3.7601285787657495\n",
      "Total flux integrated xsec:  7.938872141588408e-39  change:  3.4110700717537266\n",
      "Total flux integrated xsec:  7.983614726102512e-39  change:  3.993883153997631\n",
      "Total flux integrated xsec:  7.713800004133688e-39  change:  0.47929964360918986\n",
      "xsec CV:  7.6770041506e-39  deviatons:  2.30331925241e-40  in percent:  3.00028397436 %\n"
     ]
    }
   ],
   "source": [
    "# calculate the total cross section and the difference to the CV\n",
    "# from momentum CV xsec:\n",
    "xsec_CV = 7.6770041506e-39\n",
    "xsec_uni = np.zeros((num_universes))\n",
    "xsec_diff = np.zeros((num_universes))\n",
    "sigma_tot = 0.0\n",
    "for uni in range(num_universes):\n",
    "    signal = num_data - bkg_ext - bkg_dirt - bkg_uni[uni]\n",
    "    xsec_uni[uni] = (num_data - bkg_ext - bkg_dirt - bkg_uni[uni])/(eff_uni[uni] * N_tot * beam_flux)\n",
    "    xsec_diff[uni] = xsec_uni[uni] - xsec_CV\n",
    "    print 'Total flux integrated xsec: ',xsec_uni[uni],' change: ', (xsec_uni[uni] - xsec_CV)/xsec_CV*100\n",
    "    sigma_tot = sigma_tot+xsec_diff[uni]*xsec_diff[uni]\n",
    "sigma_tot = sigma_tot/num_universes\n",
    "print 'xsec CV: ',xsec_CV,' deviatons: ',math.sqrt(sigma_tot),' in percent: ',math.sqrt(sigma_tot)*100.0/xsec_CV,'%'"
   ]
  },
  {
   "cell_type": "code",
   "execution_count": 18,
   "metadata": {},
   "outputs": [
    {
     "name": "stdout",
     "output_type": "stream",
     "text": [
      "[0.20982139 0.34924993 0.45501729 0.53793668 0.61080753 0.63447142\n",
      " 0.58437668]\n"
     ]
    }
   ],
   "source": [
    "#Since the efficiency does not change very much per universe the nominal efficiency e_tilde is used\n",
    "# in order not to calculated the whole detector smearing again\n",
    "eff_tilde_CV = np.load('/home/tmettler/Desktop/v08_00_00_33/V08_00_00_35/weighted/xsec_weighted/eff_tilde_momentum_xsec_CV.npy')\n",
    "print eff_tilde_CV"
   ]
  },
  {
   "cell_type": "code",
   "execution_count": null,
   "metadata": {},
   "outputs": [],
   "source": []
  },
  {
   "cell_type": "code",
   "execution_count": null,
   "metadata": {},
   "outputs": [],
   "source": []
  },
  {
   "cell_type": "code",
   "execution_count": null,
   "metadata": {},
   "outputs": [],
   "source": []
  },
  {
   "cell_type": "code",
   "execution_count": 19,
   "metadata": {},
   "outputs": [],
   "source": [
    "#get mitigation matrix for each universe for momentum\n",
    "cut = 'fidVol && muon && crt_tom_cut && TrackScore>0.8\\\n",
    "                && TrackLength>20 && TrackPID_chiproton>78 && NuScore>0.1'\n",
    "\n",
    "migration_matrix = np.zeros((num_universes,7,6))\n",
    "\n",
    "h_migration = {}\n",
    "h_mitigation_matrix = {}\n",
    "\n",
    "for uni in range(num_universes):\n",
    "    h_migration[uni] = ROOT.TH2F(\"h_migration[\"+str(uni)+']',\"Track momentum\",binnum,array('f',mom_bins),binnum,array('f',mom_bins))\n",
    "    #h_migration[uni].Write('h_migration['+str(uni)+'])')\n",
    "    h_mitigation_matrix[uni] = ROOT.TH2F(\"h_mitigation_matrix[\"+str(uni)+']','Migration matrix',7,0,7,6,0,6)\n",
    "\n",
    "for uni in range(num_universes):\n",
    "    overlay_out.Draw('MCle_Energy:TrackMomMCS_mom'+'>>h_migration['+str(uni)+']',weight_name+'*All_Genie['+str(uni)+']*('+cut+' && numu_true)','')\n",
    "    h_migration[uni].Write('h_migration['+str(uni)+'])')\n",
    "    \n",
    "mitigation_matrix = np.zeros((num_universes,7,6))\n",
    "for uni in range(num_universes):\n",
    "    reco_entries = [0.0, 0.0, 0.0, 0.0, 0.0, 0.0]\n",
    "    for j in range(1,binnum+1):\n",
    "        for i in range(1,binnum+2):\n",
    "            reco_entries[j-1]+=h_migration[uni].GetBinContent(i,j)\n",
    "    for j in range(1,binnum+1):\n",
    "        for i in range(1,binnum+2):\n",
    "            mitigation_matrix[uni,i-1,j-1]= h_migration[uni].GetBinContent(i,j)/reco_entries[j-1]\n",
    "            h_mitigation_matrix[uni].SetBinContent(i,j,mitigation_matrix[uni,i-1,j-1])\n",
    "    h_mitigation_matrix[uni].Write('h_mitigation_matrix['+str(uni)+']')\n"
   ]
  },
  {
   "cell_type": "code",
   "execution_count": null,
   "metadata": {},
   "outputs": [],
   "source": [
    "# calculate e tilde for all universes\n",
    "N_sel = np.zeros((num_universes,6))\n",
    "N_gen = np.zeros((num_universes,6))\n",
    "eff_tilde = np.zeros((num_universes,7))\n",
    "#h_eff_true = {}\n",
    "for uni in range(num_universes):\n",
    "    for i in range(1,binnum+1):\n",
    "        N_sel[uni][i-1] = h_1d[uni].GetBinContent(i)\n",
    "        N_gen[uni][i-1] = h_1d_true[uni].GetBinContent(i)\n",
    "    #print N_sel[uni]\n",
    "    #print N_gen[uni]\n",
    "    #print mitigation_matrix[uni]\n",
    "    #print mitigation_matrix[uni].dot(N_sel[uni])/(mitigation_matrix[uni].dot(N_gen[uni]))\n",
    "    eff_tilde[uni] = mitigation_matrix[uni].dot(N_sel[uni])/(mitigation_matrix[uni].dot(N_gen[uni]))\n",
    "np.save(output_filedir+'eff_tilde_all_genie',eff_tilde)\n",
    "\n",
    "h_eff_true = {}\n",
    "h_eff_tilde = {}\n",
    "for uni in range(num_universes):\n",
    "    h_eff_tilde[uni] = ROOT.TH1F(\"h_eff_tilde[\"+str(uni)+']','Efficiency tilde',binnum,array('f',mom_bins))\n",
    "    h_eff_true[uni] = h_1d[uni].Clone()\n",
    "    h_eff_true[uni].Sumw2()\n",
    "    h_eff_true[uni].Divide(h_1d_true[uni])\n",
    "    for i in range(1,binnum+1):\n",
    "        h_eff_tilde[uni].SetBinContent(i,eff_tilde[uni][i-1])\n",
    "        h_eff_tilde[uni].SetBinError(i,h_eff_true[uni].GetBinError(i))\n",
    "    h_eff_tilde[uni].SetYTitle(\"reconstructed efficiency\")\n",
    "    h_eff_tilde[uni].SetXTitle(\"p_{\\mu} \\quad [GeV]\")\n",
    "    h_eff_tilde[uni].Write('h_eff_tilde['+str(uni)+']')\n",
    "    h_eff_true[uni].Write('h_eff_true['+str(uni)+']')"
   ]
  },
  {
   "cell_type": "code",
   "execution_count": null,
   "metadata": {},
   "outputs": [],
   "source": [
    "h_xsec = {}\n",
    "for uni in range(num_universes): \n",
    "    h_xsec[uni] = h_data_mom.Clone()\n",
    "    h_xsec[uni].Sumw2()\n",
    "    h_xsec[uni].Add(h_ext_mom,-1)\n",
    "    h_xsec[uni].Add(h_dirt_mom,-1)\n",
    "    h_xsec[uni].Add(h_1d_bkg[uni],-1)\n",
    "    print h_xsec[uni].GetSumOfWeights()\n"
   ]
  },
  {
   "cell_type": "code",
   "execution_count": null,
   "metadata": {},
   "outputs": [],
   "source": [
    "for uni in range(num_universes): \n",
    "    h_xsec[uni].Divide(h_eff_tilde[uni])\n",
    "    h_xsec[uni].Scale(1.0/(N_tot * beam_flux))\n",
    "    for i in range(1,binnum+1):\n",
    "        h_xsec[uni].SetBinContent(i,h_xsec[uni].GetBinContent(i)/h_xsec[uni].GetBinWidth(i))\n",
    "    h_xsec[uni].Write('h_xsec['+str(uni)+']')"
   ]
  },
  {
   "cell_type": "code",
   "execution_count": null,
   "metadata": {},
   "outputs": [],
   "source": [
    "h_xsec[0].Draw()\n",
    "c1.Draw()"
   ]
  },
  {
   "cell_type": "code",
   "execution_count": null,
   "metadata": {},
   "outputs": [],
   "source": []
  },
  {
   "cell_type": "code",
   "execution_count": null,
   "metadata": {},
   "outputs": [],
   "source": [
    "# close the root file with all the histos\n",
    "RootFile.Close()"
   ]
  }
 ],
 "metadata": {
  "kernelspec": {
   "display_name": "Python 3",
   "language": "python",
   "name": "python3"
  },
  "language_info": {
   "codemirror_mode": {
    "name": "ipython",
    "version": 2
   },
   "file_extension": ".py",
   "mimetype": "text/x-python",
   "name": "python",
   "nbconvert_exporter": "python",
   "pygments_lexer": "ipython2",
   "version": "2.7.12"
  }
 },
 "nbformat": 4,
 "nbformat_minor": 2
}
