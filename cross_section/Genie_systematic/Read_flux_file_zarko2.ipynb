{
 "cells": [
  {
   "cell_type": "code",
   "execution_count": 1,
   "metadata": {},
   "outputs": [
    {
     "name": "stdout",
     "output_type": "stream",
     "text": [
      "Welcome to JupyROOT 6.10/08\n"
     ]
    }
   ],
   "source": [
    "from __future__ import division\n",
    "import imp\n",
    "import uproot\n",
    "import matplotlib\n",
    "#matplotlib.use('agg')\n",
    "import matplotlib.pyplot as plt\n",
    "import matplotlib.image as mpimg\n",
    "import numpy as np\n",
    "import pandas as pd\n",
    "import os\n",
    "import ROOT\n",
    "import time\n",
    "import math\n",
    "import collections\n",
    "from array import array\n",
    "\n",
    "inputdir = '/home/tmettler/Desktop/v08_00_00_33/V08_00_00_35/weighted/'\n",
    "outputdir = inputdir+'xsec_flux/' \n",
    "output_filedir = outputdir\n",
    "input_filedir = '/home/tmettler/Desktop/v08_00_00_33/V08_00_00_35/weighted/'\n",
    "lib_function_dir = '/home/tmettler/Desktop/uBoone/do_plots/'\n",
    "\n",
    "# helper functions\n",
    "globale = imp.load_source('globale',lib_function_dir+'globale.py')\n",
    "NuCC = imp.load_source('NuCC_function',lib_function_dir+'NuCC_function.py')\n",
    "NuCC_w = imp.load_source('NuCCWeight_function',lib_function_dir+'NuCCWeight_function.py')\n"
   ]
  },
  {
   "cell_type": "code",
   "execution_count": 2,
   "metadata": {},
   "outputs": [],
   "source": [
    "pot_data = 8.649e+18\n",
    "\n",
    "outputdir_png, outputdir_root = NuCC.prepareOutput(outputdir)\n",
    "try:\n",
    "    os.stat(output_filedir)\n",
    "except:\n",
    "    os.mkdir(output_filedir)\n",
    "#RootFile = ROOT.TFile(output_filedir+\"xsec_theta_wighted.root\",\"RECREATE\");\n"
   ]
  },
  {
   "cell_type": "markdown",
   "metadata": {},
   "source": [
    "# check flux histograms"
   ]
  },
  {
   "cell_type": "code",
   "execution_count": 3,
   "metadata": {},
   "outputs": [
    {
     "name": "stderr",
     "output_type": "stream",
     "text": [
      "Warning in <TCanvas::Constructor>: Deleting canvas with same name: c1\n"
     ]
    }
   ],
   "source": [
    "# initialte ROOT default canvas\n",
    "ROOT.gStyle.SetOptStat(0)\n",
    "ROOT.gStyle.SetOptTitle(0)\n",
    "c1 = ROOT.TCanvas(\"c1\",\"c1\",1600,1200)\n",
    "c1.SetGrid(1)\n",
    "c1.SetLeftMargin(0.14)\n",
    "c1.SetRightMargin(0.18)\n",
    "c1.SetBottomMargin(0.14)"
   ]
  },
  {
   "cell_type": "code",
   "execution_count": 4,
   "metadata": {},
   "outputs": [
    {
     "name": "stdout",
     "output_type": "stream",
     "text": [
      "Fiducial Volume:  49184671.35\n",
      "Beam flux = 6.34870e+09  /cm2\n",
      "Number of target nuclei= 4.10331e+31  /cm3\n"
     ]
    }
   ],
   "source": [
    "##### flux and number of tragets parameters###\n",
    "flux = 1.16859e11/1.592e20 # flux per POT per cm2\n",
    "roh_data = 1.3836 #data denisity g/cm3\n",
    "roh_MC = 1.3954 # MC denisity g/cm3\n",
    "mol = 39.95 # g for argon\n",
    "N_A = 6.022140857e23 # molec/mol avogadro zahl\n",
    "N_nucleons = 40.0\n",
    "V_fid = ((254.8-10)-(-1.55+10))*((117.47-10)-(-115.53+10))*((1036.9-50)-(-0.1+10))\n",
    "print 'Fiducial Volume: ', V_fid\n",
    "##############################################\n",
    "\n",
    "beam_flux = flux * pot_data\n",
    "print 'Beam flux = {:.5e}'.format(beam_flux),' /cm2'\n",
    "N_tot = roh_data*N_A*N_nucleons*V_fid/mol\n",
    "print 'Number of target nuclei= {:.5e}'.format(N_tot),' /cm3'"
   ]
  },
  {
   "cell_type": "code",
   "execution_count": 5,
   "metadata": {},
   "outputs": [],
   "source": [
    "path = '/home/tmettler/Desktop/v08_00_00_33/V08_00_00_35/Flux/zarko/'\n",
    "#path = '/home/tmettler/Desktop/v08_00_00_33/V08_00_00_35/Flux/tmp/'\n",
    "f_flux = ROOT.TFile.Open(path+\"All_flux_zarko.root\", 'read')\n",
    "#f_flux = ROOT.TFile.Open(path+\"fluxreader.root_histo.root\", 'read')\n"
   ]
  },
  {
   "cell_type": "code",
   "execution_count": 6,
   "metadata": {},
   "outputs": [],
   "source": [
    "weight_list_flux = [ 'expskin_FluxUnisim', 'horncurrent_FluxUnisim', 'kminus_PrimaryHadronNormalization', 'kplus_PrimaryHadronFeynmanScaling',\\\n",
    "    'kzero_PrimaryHadronSanfordWang', 'nucleoninexsec_FluxUnisim', 'nucleonqexsec_FluxUnisim', 'nucleontotxsec_FluxUnisim',\\\n",
    "    'piminus_PrimaryHadronSWCentralSplineVariation', 'pioninexsec_FluxUnisim', 'pionqexsec_FluxUnisim', 'piontotxsec_FluxUnisim',\\\n",
    "    'piplus_PrimaryHadronSWCentralSplineVariation' ]\n"
   ]
  },
  {
   "cell_type": "code",
   "execution_count": 7,
   "metadata": {},
   "outputs": [
    {
     "name": "stdout",
     "output_type": "stream",
     "text": [
      "Nuber of parameters:  13\n"
     ]
    }
   ],
   "source": [
    "weight_list_flux = [ 'expskin_FluxUnisim', 'horncurrent_FluxUnisim', 'kminus_PrimaryHadronNormalization', 'kplus_PrimaryHadronFeynmanScaling',\\\n",
    "    'kzero_PrimaryHadronSanfordWang', 'nucleoninexsec_FluxUnisim', 'nucleonqexsec_FluxUnisim', 'nucleontotxsec_FluxUnisim',\\\n",
    "    'piminus_PrimaryHadronSWCentralSplineVariation', 'pioninexsec_FluxUnisim', 'pionqexsec_FluxUnisim', 'piontotxsec_FluxUnisim',\\\n",
    "    'piplus_PrimaryHadronSWCentralSplineVariation' ]\n",
    "num_para = len(weight_list_flux)\n",
    "print 'Nuber of parameters: ',num_para"
   ]
  },
  {
   "cell_type": "code",
   "execution_count": 8,
   "metadata": {},
   "outputs": [
    {
     "name": "stdout",
     "output_type": "stream",
     "text": [
      "MeV:  0  flux: 0  sigma: 0.000  sigma: 0.000\n",
      "MeV:  50  flux: 3.09e-12  sigma: 1.243  sigma: 0.879\n",
      "MeV:  100  flux: 1.16e-11  sigma: 1.041  sigma: 0.736\n",
      "MeV:  150  flux: 1.49e-11  sigma: 0.856  sigma: 0.605\n",
      "MeV:  200  flux: 1.8e-11  sigma: 0.687  sigma: 0.486\n",
      "MeV:  250  flux: 2.24e-11  sigma: 0.467  sigma: 0.330\n",
      "MeV:  300  flux: 2.45e-11  sigma: 0.357  sigma: 0.252\n",
      "MeV:  350  flux: 2.62e-11  sigma: 0.250  sigma: 0.177\n",
      "MeV:  400  flux: 2.74e-11  sigma: 0.166  sigma: 0.117\n",
      "MeV:  450  flux: 2.91e-11  sigma: 0.126  sigma: 0.089\n",
      "MeV:  500  flux: 3.03e-11  sigma: 0.102  sigma: 0.072\n",
      "MeV:  550  flux: 3.09e-11  sigma: 0.092  sigma: 0.065\n",
      "MeV:  600  flux: 3.1e-11  sigma: 0.072  sigma: 0.051\n",
      "MeV:  650  flux: 3.07e-11  sigma: 0.068  sigma: 0.048\n",
      "MeV:  700  flux: 3.03e-11  sigma: 0.066  sigma: 0.046\n",
      "MeV:  750  flux: 2.99e-11  sigma: 0.062  sigma: 0.044\n",
      "MeV:  800  flux: 2.92e-11  sigma: 0.069  sigma: 0.049\n",
      "MeV:  850  flux: 2.81e-11  sigma: 0.071  sigma: 0.050\n",
      "MeV:  900  flux: 2.71e-11  sigma: 0.079  sigma: 0.056\n",
      "MeV:  950  flux: 2.59e-11  sigma: 0.068  sigma: 0.048\n",
      "MeV:  1000  flux: 2.45e-11  sigma: 0.066  sigma: 0.047\n",
      "MeV:  1050  flux: 2.31e-11  sigma: 0.062  sigma: 0.044\n",
      "MeV:  1100  flux: 2.17e-11  sigma: 0.062  sigma: 0.044\n",
      "MeV:  1150  flux: 2.02e-11  sigma: 0.065  sigma: 0.046\n",
      "MeV:  1200  flux: 1.88e-11  sigma: 0.077  sigma: 0.055\n",
      "MeV:  1250  flux: 1.73e-11  sigma: 0.097  sigma: 0.068\n",
      "MeV:  1300  flux: 1.58e-11  sigma: 0.122  sigma: 0.086\n",
      "MeV:  1350  flux: 1.44e-11  sigma: 0.135  sigma: 0.095\n",
      "MeV:  1400  flux: 1.29e-11  sigma: 0.135  sigma: 0.095\n",
      "MeV:  1450  flux: 1.14e-11  sigma: 0.126  sigma: 0.089\n",
      "MeV:  1500  flux: 9.97e-12  sigma: 0.126  sigma: 0.089\n",
      "MeV:  1550  flux: 8.66e-12  sigma: 0.134  sigma: 0.095\n",
      "MeV:  1600  flux: 7.48e-12  sigma: 0.146  sigma: 0.103\n",
      "MeV:  1650  flux: 6.35e-12  sigma: 0.163  sigma: 0.115\n",
      "MeV:  1700  flux: 5.37e-12  sigma: 0.180  sigma: 0.127\n",
      "MeV:  1750  flux: 4.52e-12  sigma: 0.189  sigma: 0.133\n",
      "MeV:  1800  flux: 3.74e-12  sigma: 0.204  sigma: 0.144\n",
      "MeV:  1850  flux: 3.08e-12  sigma: 0.231  sigma: 0.163\n",
      "MeV:  1900  flux: 2.52e-12  sigma: 0.252  sigma: 0.178\n",
      "MeV:  1950  flux: 2.03e-12  sigma: 0.268  sigma: 0.190\n",
      "MeV:  2000  flux: 1.65e-12  sigma: 0.275  sigma: 0.194\n",
      "MeV:  2050  flux: 1.33e-12  sigma: 0.278  sigma: 0.196\n",
      "MeV:  2100  flux: 1.08e-12  sigma: 0.269  sigma: 0.190\n",
      "MeV:  2150  flux: 8.86e-13  sigma: 0.289  sigma: 0.205\n",
      "MeV:  2200  flux: 7.24e-13  sigma: 0.270  sigma: 0.191\n",
      "MeV:  2250  flux: 6.01e-13  sigma: 0.254  sigma: 0.180\n",
      "MeV:  2300  flux: 5.16e-13  sigma: 0.251  sigma: 0.177\n",
      "MeV:  2350  flux: 4.45e-13  sigma: 0.240  sigma: 0.170\n",
      "MeV:  2400  flux: 3.97e-13  sigma: 0.205  sigma: 0.145\n",
      "MeV:  2450  flux: 3.52e-13  sigma: 0.182  sigma: 0.129\n",
      "MeV:  2500  flux: 3.29e-13  sigma: 0.156  sigma: 0.110\n",
      "MeV:  2550  flux: 3.07e-13  sigma: 0.161  sigma: 0.114\n",
      "MeV:  2600  flux: 2.89e-13  sigma: 0.112  sigma: 0.079\n",
      "MeV:  2650  flux: 2.74e-13  sigma: 0.123  sigma: 0.087\n",
      "MeV:  2700  flux: 2.56e-13  sigma: 0.105  sigma: 0.074\n",
      "MeV:  2750  flux: 2.5e-13  sigma: 0.088  sigma: 0.062\n",
      "MeV:  2800  flux: 2.43e-13  sigma: 0.093  sigma: 0.066\n",
      "MeV:  2850  flux: 2.28e-13  sigma: 0.081  sigma: 0.057\n",
      "MeV:  2900  flux: 2.18e-13  sigma: 0.097  sigma: 0.068\n",
      "MeV:  2950  flux: 2.14e-13  sigma: 0.092  sigma: 0.065\n",
      "MeV:  3000  flux: 2.08e-13  sigma: 0.068  sigma: 0.048\n",
      "MeV:  3050  flux: 2.04e-13  sigma: 0.069  sigma: 0.049\n",
      "MeV:  3100  flux: 1.97e-13  sigma: 0.089  sigma: 0.063\n",
      "MeV:  3150  flux: 1.86e-13  sigma: 0.140  sigma: 0.099\n",
      "MeV:  3200  flux: 1.85e-13  sigma: 0.082  sigma: 0.058\n",
      "MeV:  3250  flux: 1.79e-13  sigma: 0.074  sigma: 0.052\n",
      "MeV:  3300  flux: 1.73e-13  sigma: 0.069  sigma: 0.048\n",
      "MeV:  3350  flux: 1.66e-13  sigma: 0.071  sigma: 0.050\n",
      "MeV:  3400  flux: 1.62e-13  sigma: 0.071  sigma: 0.050\n",
      "MeV:  3450  flux: 1.58e-13  sigma: 0.072  sigma: 0.051\n",
      "MeV:  3500  flux: 1.48e-13  sigma: 0.067  sigma: 0.047\n",
      "MeV:  3550  flux: 1.46e-13  sigma: 0.073  sigma: 0.051\n",
      "MeV:  3600  flux: 1.4e-13  sigma: 0.074  sigma: 0.052\n",
      "MeV:  3650  flux: 1.32e-13  sigma: 0.071  sigma: 0.050\n",
      "MeV:  3700  flux: 1.33e-13  sigma: 0.069  sigma: 0.049\n",
      "MeV:  3750  flux: 1.22e-13  sigma: 0.078  sigma: 0.055\n",
      "MeV:  3800  flux: 1.2e-13  sigma: 0.085  sigma: 0.060\n",
      "MeV:  3850  flux: 1.15e-13  sigma: 0.066  sigma: 0.047\n",
      "MeV:  3900  flux: 1.1e-13  sigma: 0.075  sigma: 0.053\n",
      "MeV:  3950  flux: 1.06e-13  sigma: 0.073  sigma: 0.052\n",
      "MeV:  4000  flux: 1.01e-13  sigma: 0.080  sigma: 0.056\n",
      "MeV:  4050  flux: 9.5e-14  sigma: 0.074  sigma: 0.052\n",
      "MeV:  4100  flux: 8.92e-14  sigma: 0.077  sigma: 0.055\n",
      "MeV:  4150  flux: 8.74e-14  sigma: 0.072  sigma: 0.051\n",
      "MeV:  4200  flux: 8.4e-14  sigma: 0.077  sigma: 0.054\n",
      "MeV:  4250  flux: 7.87e-14  sigma: 0.075  sigma: 0.053\n",
      "MeV:  4300  flux: 7.71e-14  sigma: 0.069  sigma: 0.049\n",
      "MeV:  4350  flux: 7.05e-14  sigma: 0.069  sigma: 0.049\n",
      "MeV:  4400  flux: 6.58e-14  sigma: 0.073  sigma: 0.052\n",
      "MeV:  4450  flux: 6.64e-14  sigma: 0.085  sigma: 0.060\n",
      "MeV:  4500  flux: 6.22e-14  sigma: 0.079  sigma: 0.056\n",
      "MeV:  4550  flux: 5.71e-14  sigma: 0.095  sigma: 0.067\n",
      "MeV:  4600  flux: 5.49e-14  sigma: 0.087  sigma: 0.061\n",
      "MeV:  4650  flux: 5.19e-14  sigma: 0.093  sigma: 0.066\n",
      "MeV:  4700  flux: 4.93e-14  sigma: 0.092  sigma: 0.065\n",
      "MeV:  4750  flux: 4.85e-14  sigma: 0.089  sigma: 0.063\n",
      "MeV:  4800  flux: 4.48e-14  sigma: 0.103  sigma: 0.073\n",
      "MeV:  4850  flux: 4.1e-14  sigma: 0.099  sigma: 0.070\n",
      "MeV:  4900  flux: 3.86e-14  sigma: 0.100  sigma: 0.071\n",
      "MeV:  4950  flux: 3.65e-14  sigma: 0.096  sigma: 0.068\n",
      "MeV:  5000  flux: 3.39e-14  sigma: 0.116  sigma: 0.082\n",
      "MeV:  5050  flux: 3.23e-14  sigma: 0.106  sigma: 0.075\n",
      "MeV:  5100  flux: 3.13e-14  sigma: 0.104  sigma: 0.073\n",
      "MeV:  5150  flux: 2.91e-14  sigma: 0.110  sigma: 0.078\n",
      "MeV:  5200  flux: 2.69e-14  sigma: 0.112  sigma: 0.079\n",
      "MeV:  5250  flux: 2.49e-14  sigma: 0.116  sigma: 0.082\n",
      "MeV:  5300  flux: 2.41e-14  sigma: 0.108  sigma: 0.077\n",
      "MeV:  5350  flux: 2.32e-14  sigma: 0.100  sigma: 0.071\n",
      "MeV:  5400  flux: 2.07e-14  sigma: 0.095  sigma: 0.067\n",
      "MeV:  5450  flux: 1.97e-14  sigma: 0.111  sigma: 0.079\n",
      "MeV:  5500  flux: 1.87e-14  sigma: 0.106  sigma: 0.075\n",
      "MeV:  5550  flux: 1.63e-14  sigma: 0.114  sigma: 0.081\n",
      "MeV:  5600  flux: 1.64e-14  sigma: 0.107  sigma: 0.076\n",
      "MeV:  5650  flux: 1.49e-14  sigma: 0.115  sigma: 0.081\n",
      "MeV:  5700  flux: 1.34e-14  sigma: 0.121  sigma: 0.086\n",
      "MeV:  5750  flux: 1.3e-14  sigma: 0.118  sigma: 0.083\n",
      "MeV:  5800  flux: 1.16e-14  sigma: 0.110  sigma: 0.078\n",
      "MeV:  5850  flux: 1.07e-14  sigma: 0.125  sigma: 0.088\n",
      "MeV:  5900  flux: 9.4e-15  sigma: 0.125  sigma: 0.088\n",
      "MeV:  5950  flux: 8.2e-15  sigma: 0.125  sigma: 0.088\n",
      "MeV:  6000  flux: 7.54e-15  sigma: 0.128  sigma: 0.090\n",
      "MeV:  6050  flux: 6.72e-15  sigma: 0.150  sigma: 0.106\n",
      "MeV:  6100  flux: 6.38e-15  sigma: 0.154  sigma: 0.109\n",
      "MeV:  6150  flux: 5.55e-15  sigma: 0.153  sigma: 0.108\n",
      "MeV:  6200  flux: 4.88e-15  sigma: 0.128  sigma: 0.091\n",
      "MeV:  6250  flux: 4.22e-15  sigma: 0.158  sigma: 0.112\n",
      "MeV:  6300  flux: 3.31e-15  sigma: 0.128  sigma: 0.090\n",
      "MeV:  6350  flux: 3.47e-15  sigma: 0.142  sigma: 0.101\n",
      "MeV:  6400  flux: 2.26e-15  sigma: 0.146  sigma: 0.103\n",
      "MeV:  6450  flux: 1.96e-15  sigma: 0.117  sigma: 0.083\n",
      "MeV:  6500  flux: 1.69e-15  sigma: 0.123  sigma: 0.087\n",
      "MeV:  6550  flux: 1.33e-15  sigma: 0.131  sigma: 0.092\n",
      "MeV:  6600  flux: 1.01e-15  sigma: 0.120  sigma: 0.085\n",
      "MeV:  6650  flux: 6.54e-16  sigma: 0.112  sigma: 0.079\n",
      "MeV:  6700  flux: 3.86e-16  sigma: 0.097  sigma: 0.069\n",
      "MeV:  6750  flux: 2.03e-16  sigma: 0.085  sigma: 0.060\n",
      "MeV:  6800  flux: 1.05e-16  sigma: 0.121  sigma: 0.086\n",
      "MeV:  6850  flux: 1.31e-17  sigma: 0.140  sigma: 0.099\n",
      "MeV:  6900  flux: 1.31e-17  sigma: 0.117  sigma: 0.083\n",
      "MeV:  6950  flux: 1.31e-17  sigma: 0.116  sigma: 0.082\n",
      "MeV:  7000  flux: 1.31e-17  sigma: 0.140  sigma: 0.099\n",
      "MeV:  7050  flux: 6.54e-18  sigma: 0.131  sigma: 0.092\n",
      "MeV:  7100  flux: 0  sigma: 0.000  sigma: 0.000\n",
      "MeV:  7150  flux: 0  sigma: 0.000  sigma: 0.000\n",
      "MeV:  7200  flux: 0  sigma: 0.000  sigma: 0.000\n",
      "MeV:  7250  flux: 0  sigma: 0.000  sigma: 0.000\n",
      "MeV:  7300  flux: 0  sigma: 0.000  sigma: 0.000\n",
      "MeV:  7350  flux: 0  sigma: 0.000  sigma: 0.000\n",
      "MeV:  7400  flux: 0  sigma: 0.000  sigma: 0.000\n",
      "MeV:  7450  flux: 0  sigma: 0.000  sigma: 0.000\n",
      "MeV:  7500  flux: 0  sigma: 0.000  sigma: 0.000\n",
      "MeV:  7550  flux: 0  sigma: 0.000  sigma: 0.000\n",
      "MeV:  7600  flux: 0  sigma: 0.000  sigma: 0.000\n",
      "MeV:  7650  flux: 0  sigma: 0.000  sigma: 0.000\n",
      "MeV:  7700  flux: 0  sigma: 0.000  sigma: 0.000\n",
      "MeV:  7750  flux: 0  sigma: 0.000  sigma: 0.000\n",
      "MeV:  7800  flux: 0  sigma: 0.000  sigma: 0.000\n",
      "MeV:  7850  flux: 0  sigma: 0.000  sigma: 0.000\n",
      "MeV:  7900  flux: 0  sigma: 0.000  sigma: 0.000\n",
      "MeV:  7950  flux: 0  sigma: 0.000  sigma: 0.000\n",
      "MeV:  8000  flux: 0  sigma: 0.000  sigma: 0.000\n",
      "sigma all: 418.57195\n",
      "sigma all: 2.59983\n"
     ]
    },
    {
     "data": {
      "text/plain": [
       "\"for i in range(1,60+1):\\n    flux_cv = h_cv.Integral(i,i+1)\\n    #flux_cv = flux_cv/(NumberOfFiles*POT_file*fidVol_Area)*20\\n    print 'MeV: ',50*i,' flux: {0:0.3g}'.format(h_cv.Integral(i,i))\\n    #print ' - MeV: ',50*i,' flux: {0:0.3g}'.format(h_cv.GetBinContent(i+1))\\n\""
      ]
     },
     "execution_count": 8,
     "metadata": {},
     "output_type": "execute_result"
    },
    {
     "data": {
      "image/png": "[encoded data removed]",
      "text/plain": [
       "<IPython.core.display.Image object>"
      ]
     },
     "metadata": {},
     "output_type": "display_data"
    }
   ],
   "source": [
    "path = '/home/tmettler/Desktop/ub_data/mcc9.1/v08_00_00_33/V08_00_00_35/Flux/zarko/'\n",
    "f_flux = ROOT.TFile.Open(path+\"MCC9_FluxHist_volTPCActive.root\", 'read')\n",
    "h_cv = f_flux.Get(\"hEnumu_cv\")\n",
    "#h_flux_var0 = f_flux.Get('numu/'+weight_list_flux[0]\\\n",
    "#                                +'/Active_TPC_Volume/numu_'+weight_list_flux[0]\\\n",
    "#                                +'_Uni_'+str(1)+'_FV_TPC')\n",
    "#NumberOfFiles = 4815#499+499+483+492+497+387\n",
    "POT_file = 5e8\n",
    "fidVol_Area = 236.35 * 213.0\n",
    "active_Area = 128.175*2*116.5*2\n",
    "#h_cv.Scale(1/(NumberOfFiles*POT_file*active_Area))\n",
    "h_cv.Draw()\n",
    "h_cv.GetXaxis().SetRange(0,120);\n",
    "h_cv.SetLineWidth(4)\n",
    "c1.Draw()\n",
    "\n",
    "all_tot_para = 0.0\n",
    "weight_list_flux = ['total']\n",
    "num_para = 1\n",
    "NumberOfFiles = 5120\n",
    "num_universes = 1000\n",
    "flux_tot = np.zeros((num_para,num_universes))\n",
    "for i in range(0,161):\n",
    "    flux_var = np.zeros((num_para,num_universes))\n",
    "    flux_cv = h_cv.Integral(i,i)\n",
    "    tot_err = 0.0\n",
    "    tot_std = 0.0\n",
    "    tot_para = 0.0\n",
    "    for para in range(num_para):\n",
    "        flux_varp = np.zeros((num_universes))\n",
    "        flux_sigma_para = 0.0\n",
    "        for uni in range(num_universes):\n",
    "            #h_flux_var = f_flux.Get('numu_ms_'+weight_list_flux[para]\\\n",
    "            #                    +'/hEnumu_'+weight_list_flux[para]\\\n",
    "            #                    +'_ms_'+str(uni))\n",
    "            h_flux_var = f_flux.Get('numu_ms_'+weight_list_flux[para]\\\n",
    "                                +'/hEnumu_'+'ms_'+str(uni))\n",
    "            #h_flux_var.Scale(1.0/(NumberOfFiles*POT_file*active_Area))\n",
    "            flux_var = h_flux_var.Integral(i,i)#/(NumberOfFiles*POT_file*active_Area)\n",
    "            flux_varp[uni] = flux_var - flux_cv\n",
    "            flux_tot[para][uni] = flux_var\n",
    "            flux_sigma_para = flux_sigma_para+ (flux_var - flux_cv)*(flux_var - flux_cv)\n",
    "            \n",
    "        para_err = np.std(flux_varp)\n",
    "        para_std = np.std(flux_tot[para])\n",
    "        #print para_err\n",
    "        #print para_std\n",
    "        #print math.sqrt(np.mean(abs(flux_tot[para] - flux_tot[para].mean())**2))\n",
    "        #print math.sqrt(np.mean(abs(flux_tot[para] - flux_cv)**2))\n",
    "        #print para_err/flux_cv\n",
    "        tot_err = tot_err + para_err*para_err\n",
    "        tot_std = tot_std + para_std*para_std\n",
    "        tot_para = tot_para + flux_sigma_para/num_universes\n",
    "        #print math.sqrt(flux_sigma_para/num_universes)\n",
    "    all_tot_para = all_tot_para+tot_para#*(h_cv.Integral(i,i))*(h_cv.Integral(i,i))\n",
    "        \n",
    "    print 'MeV: ',50*i,' flux: {0:0.3g}'.format(h_cv.Integral(i,i)/(NumberOfFiles*POT_file*active_Area)),\\\n",
    "        ' sigma: {0:0.3f}'.format(math.sqrt(tot_para)/(h_cv.Integral(i,i)+1e-80)),\\\n",
    "        ' sigma: {0:0.3f}'.format(1/math.sqrt(2)*math.sqrt(tot_para)/(h_cv.Integral(i,i)+1e-80))\n",
    "        #' fratcional difference: {0:0.3f}'.format(math.sqrt(tot_err)/(h_cv.Integral(i,i)+1e-80)),\\\n",
    "        #' std: {0:0.3f}'.format(math.sqrt(tot_std)/(h_cv.Integral(i,i)+1e-80)),\\\n",
    "        #' sigma: {0:0.3f}'.format(math.sqrt(tot_para)/(h_cv.Integral(i,i)+1e-80))\n",
    "    \n",
    "print  'sigma all: {0:0.5f}'.format(math.sqrt(all_tot_para/(h_cv.Integral(0,161)+1e-80)))#/(h_cv.Integral(0,200)+1e-80))\n",
    "print  'sigma all: {0:0.5f}'.format(math.sqrt(all_tot_para/(h_cv.Integral(0,161)+1e-80))/161)\n",
    "'''for i in range(1,60+1):\n",
    "    flux_cv = h_cv.Integral(i,i+1)\n",
    "    #flux_cv = flux_cv/(NumberOfFiles*POT_file*fidVol_Area)*20\n",
    "    print 'MeV: ',50*i,' flux: {0:0.3g}'.format(h_cv.Integral(i,i))\n",
    "    #print ' - MeV: ',50*i,' flux: {0:0.3g}'.format(h_cv.GetBinContent(i+1))\n",
    "'''"
   ]
  },
  {
   "cell_type": "code",
   "execution_count": 14,
   "metadata": {},
   "outputs": [
    {
     "name": "stdout",
     "output_type": "stream",
     "text": [
      "0.822855547451\n",
      "4734282.0\n",
      "600\n"
     ]
    }
   ],
   "source": [
    "print h_cv.GetMean()\n",
    "print h_cv.GetMaximum()\n",
    "binmax = h_cv.GetMaximumBin() # double x = h->GetXaxis()->GetBinCenter(binmax)\n",
    "print binmax*50"
   ]
  },
  {
   "cell_type": "code",
   "execution_count": 9,
   "metadata": {},
   "outputs": [
    {
     "ename": "AttributeError",
     "evalue": "'TObject' object has no attribute 'Integral'",
     "output_type": "error",
     "traceback": [
      "\u001b[0;31m\u001b[0m",
      "\u001b[0;31mAttributeError\u001b[0mTraceback (most recent call last)",
      "\u001b[0;32m<ipython-input-9-403dee8dfdb5>\u001b[0m in \u001b[0;36m<module>\u001b[0;34m()\u001b[0m\n\u001b[1;32m     12\u001b[0m             \u001b[0mh_flux_var\u001b[0m \u001b[0;34m=\u001b[0m \u001b[0mf_flux\u001b[0m\u001b[0;34m.\u001b[0m\u001b[0mGet\u001b[0m\u001b[0;34m(\u001b[0m\u001b[0;34m'numu_ms_'\u001b[0m\u001b[0;34m+\u001b[0m\u001b[0mweight_list_flux\u001b[0m\u001b[0;34m[\u001b[0m\u001b[0mpara\u001b[0m\u001b[0;34m]\u001b[0m                                \u001b[0;34m+\u001b[0m\u001b[0;34m'/hEnumu_'\u001b[0m\u001b[0;34m+\u001b[0m\u001b[0mweight_list_flux\u001b[0m\u001b[0;34m[\u001b[0m\u001b[0mpara\u001b[0m\u001b[0;34m]\u001b[0m                                \u001b[0;34m+\u001b[0m\u001b[0;34m'_ms_'\u001b[0m\u001b[0;34m+\u001b[0m\u001b[0mstr\u001b[0m\u001b[0;34m(\u001b[0m\u001b[0muni\u001b[0m\u001b[0;34m)\u001b[0m\u001b[0;34m)\u001b[0m\u001b[0;34m\u001b[0m\u001b[0m\n\u001b[1;32m     13\u001b[0m             \u001b[0;31m#h_flux_var.Scale(1.0/(NumberOfFiles*POT_file*active_Area))\u001b[0m\u001b[0;34m\u001b[0m\u001b[0;34m\u001b[0m\u001b[0m\n\u001b[0;32m---> 14\u001b[0;31m             \u001b[0mflux_var\u001b[0m \u001b[0;34m=\u001b[0m \u001b[0mh_flux_var\u001b[0m\u001b[0;34m.\u001b[0m\u001b[0mIntegral\u001b[0m\u001b[0;34m(\u001b[0m\u001b[0mi\u001b[0m\u001b[0;34m,\u001b[0m\u001b[0mi\u001b[0m\u001b[0;34m)\u001b[0m\u001b[0;31m#/(NumberOfFiles*POT_file*active_Area)\u001b[0m\u001b[0;34m\u001b[0m\u001b[0m\n\u001b[0m\u001b[1;32m     15\u001b[0m             \u001b[0msigma\u001b[0m \u001b[0;34m=\u001b[0m \u001b[0mflux_var\u001b[0m \u001b[0;34m-\u001b[0m \u001b[0mh_cv\u001b[0m\u001b[0;34m.\u001b[0m\u001b[0mIntegral\u001b[0m\u001b[0;34m(\u001b[0m\u001b[0mi\u001b[0m\u001b[0;34m,\u001b[0m\u001b[0mi\u001b[0m\u001b[0;34m)\u001b[0m\u001b[0;34m\u001b[0m\u001b[0m\n\u001b[1;32m     16\u001b[0m             \u001b[0msig_para\u001b[0m \u001b[0;34m=\u001b[0m \u001b[0msig_para\u001b[0m \u001b[0;34m+\u001b[0m \u001b[0msigma\u001b[0m\u001b[0;34m*\u001b[0m\u001b[0msigma\u001b[0m\u001b[0;34m\u001b[0m\u001b[0m\n",
      "\u001b[0;31mAttributeError\u001b[0m: 'TObject' object has no attribute 'Integral'"
     ]
    }
   ],
   "source": [
    "path = '/home/tmettler/Desktop/ub_data/mcc9.1/v08_00_00_33/V08_00_00_35/Flux/zarko/'\n",
    "f_flux = ROOT.TFile.Open(path+\"MCC9_FluxHist_volTPCActive.root\", 'read')\n",
    "h_cv = f_flux.Get(\"hEnumu_cv\")\n",
    "#lux_cv = \n",
    "all_tot_para = 0.0\n",
    "\n",
    "num_universes = 1000\n",
    "for i in range(0,161):\n",
    "    for para in range(num_para):\n",
    "        sig_para = 0.0\n",
    "        for uni in range(num_universes):\n",
    "            h_flux_var = f_flux.Get('numu_ms_'+weight_list_flux[para]\\\n",
    "                                +'/hEnumu_'+weight_list_flux[para]\\\n",
    "                                +'_ms_'+str(uni))\n",
    "            #h_flux_var.Scale(1.0/(NumberOfFiles*POT_file*active_Area))\n",
    "            flux_var = h_flux_var.Integral(i,i)#/(NumberOfFiles*POT_file*active_Area)\n",
    "            sigma = flux_var - h_cv.Integral(i,i)\n",
    "            sig_para = sig_para + sigma*sigma\n",
    "        sig_para = sig_para/num_universes"
   ]
  },
  {
   "cell_type": "code",
   "execution_count": 10,
   "metadata": {},
   "outputs": [
    {
     "name": "stdout",
     "output_type": "stream",
     "text": [
      "110078624.0\n"
     ]
    }
   ],
   "source": [
    "print flux"
   ]
  },
  {
   "cell_type": "code",
   "execution_count": 11,
   "metadata": {},
   "outputs": [
    {
     "name": "stdout",
     "output_type": "stream",
     "text": [
      "MeV:  0  flux: 3.17e-12\n",
      "MeV:  50  flux: 1.51e-11\n",
      "MeV:  100  flux: 2.72e-11\n",
      "MeV:  150  flux: 3.37e-11\n",
      "MeV:  200  flux: 4.13e-11\n",
      "MeV:  250  flux: 4.8e-11\n",
      "MeV:  300  flux: 5.19e-11\n",
      "MeV:  350  flux: 5.49e-11\n",
      "MeV:  400  flux: 5.79e-11\n",
      "MeV:  450  flux: 6.08e-11\n",
      "MeV:  500  flux: 6.27e-11\n",
      "MeV:  550  flux: 6.33e-11\n",
      "MeV:  600  flux: 6.31e-11\n",
      "MeV:  650  flux: 6.25e-11\n",
      "MeV:  700  flux: 6.16e-11\n",
      "MeV:  750  flux: 6.05e-11\n",
      "MeV:  800  flux: 5.88e-11\n",
      "MeV:  850  flux: 5.65e-11\n",
      "MeV:  900  flux: 5.42e-11\n",
      "MeV:  950  flux: 5.15e-11\n",
      "MeV:  1000  flux: 4.88e-11\n",
      "MeV:  1050  flux: 4.59e-11\n",
      "MeV:  1100  flux: 4.29e-11\n",
      "MeV:  1150  flux: 4e-11\n",
      "MeV:  1200  flux: 3.7e-11\n",
      "MeV:  1250  flux: 3.39e-11\n",
      "MeV:  1300  flux: 3.09e-11\n",
      "MeV:  1350  flux: 2.79e-11\n",
      "MeV:  1400  flux: 2.49e-11\n",
      "MeV:  1450  flux: 2.19e-11\n"
     ]
    }
   ],
   "source": [
    "NumberOfFiles = 5000\n",
    "h_flux_cv = f_flux.Get(\"hEnumu_cv\")\n",
    "for i in range(30):\n",
    "    flux_cv = h_flux_cv.Integral(i,i+1)\n",
    "    flux_cv = flux_cv/(NumberOfFiles*POT_file*active_Area)#*20\n",
    "    print 'MeV: ',50*i,' flux: {0:0.3g}'.format(flux_cv)"
   ]
  },
  {
   "cell_type": "code",
   "execution_count": 62,
   "metadata": {},
   "outputs": [
    {
     "name": "stdout",
     "output_type": "stream",
     "text": [
      "28625145.4736\n",
      "110078624.0\n",
      "0.26004272613\n"
     ]
    },
    {
     "name": "stderr",
     "output_type": "stream",
     "text": [
      "Warning in <TFile::Append>: Replacing existing TH1: h_cov (Potential memory leak).\n"
     ]
    }
   ],
   "source": [
    "tot_flux_variation = np.zeros((num_para,num_universes))\n",
    "all_std = 0.0\n",
    "h_flux_cv = f_flux.Get(\"hEnumu_cv\")\n",
    "flux_cv = h_flux_cv.Integral(0,200)\n",
    "h_cov = ROOT.TH2D('h_cov','h_cov',200, 0, 10, 200, 0, 10)\n",
    "num_universes = 100\n",
    "h_flux_var = []\n",
    "for i in range(num_universes):\n",
    "    h_flux_var.append(f_flux.Get('numu_ms_'+weight_list_flux[para]\\\n",
    "                                        +'/hEnumu_'+weight_list_flux[para]\\\n",
    "                                        +'_ms_'+str(uni)))\n",
    "\n",
    "for i in range(1,162):\n",
    "    for j in range(1,162):\n",
    "        Vij = 0.0\n",
    "        for para in range(num_para):\n",
    "            Vij_para = 0.0\n",
    "            for uni in range(num_universes):\n",
    "                Vi = h_flux_cv.GetBinContent(i) - h_flux_var[uni].GetBinContent(i)\n",
    "                Vj = h_flux_cv.GetBinContent(j) - h_flux_var[uni].GetBinContent(j)\n",
    "                Vij_para = Vij_para + Vi * Vj\n",
    "                \n",
    "            Vij_para = Vij_para/num_universes\n",
    "            Vij = Vij + Vij_para\n",
    "        h_cov.SetBinContent(i,j, Vij)\n",
    "print math.sqrt(h_cov.GetSumOfWeights() )\n",
    "print h_flux_cv.GetSumOfWeights()\n",
    "print math.sqrt(h_cov.GetSumOfWeights())/h_flux_cv.GetSumOfWeights()"
   ]
  },
  {
   "cell_type": "code",
   "execution_count": null,
   "metadata": {},
   "outputs": [],
   "source": []
  },
  {
   "cell_type": "code",
   "execution_count": null,
   "metadata": {},
   "outputs": [],
   "source": []
  },
  {
   "cell_type": "code",
   "execution_count": 13,
   "metadata": {},
   "outputs": [],
   "source": [
    "h_expskin_0 = f_flux.Get(\"numu/expskin_FluxUnisim/Active_TPC_Volume/numu_expskin_FluxUnisim_Uni_0_FV_TPC\")"
   ]
  },
  {
   "cell_type": "code",
   "execution_count": 14,
   "metadata": {},
   "outputs": [
    {
     "ename": "AttributeError",
     "evalue": "'TObject' object has no attribute 'Integral'",
     "output_type": "error",
     "traceback": [
      "\u001b[0;31m\u001b[0m",
      "\u001b[0;31mAttributeError\u001b[0mTraceback (most recent call last)",
      "\u001b[0;32m<ipython-input-14-6a0d6454565a>\u001b[0m in \u001b[0;36m<module>\u001b[0;34m()\u001b[0m\n\u001b[0;32m----> 1\u001b[0;31m \u001b[0mflux\u001b[0m \u001b[0;34m=\u001b[0m \u001b[0mh_expskin_0\u001b[0m\u001b[0;34m.\u001b[0m\u001b[0mIntegral\u001b[0m\u001b[0;34m(\u001b[0m\u001b[0;36m0\u001b[0m\u001b[0;34m,\u001b[0m\u001b[0;36m201\u001b[0m\u001b[0;34m)\u001b[0m\u001b[0;34m\u001b[0m\u001b[0m\n\u001b[0m\u001b[1;32m      2\u001b[0m \u001b[0;32mprint\u001b[0m \u001b[0mflux\u001b[0m\u001b[0;34m\u001b[0m\u001b[0m\n",
      "\u001b[0;31mAttributeError\u001b[0m: 'TObject' object has no attribute 'Integral'"
     ]
    }
   ],
   "source": [
    "flux = h_expskin_0.Integral(0,201)\n",
    "print flux"
   ]
  },
  {
   "cell_type": "code",
   "execution_count": 15,
   "metadata": {},
   "outputs": [
    {
     "ename": "ReferenceError",
     "evalue": "attempt to access a null-pointer",
     "output_type": "error",
     "traceback": [
      "\u001b[0;31m\u001b[0m",
      "\u001b[0;31mReferenceError\u001b[0mTraceback (most recent call last)",
      "\u001b[0;32m<ipython-input-15-75c2ecad1ce9>\u001b[0m in \u001b[0;36m<module>\u001b[0;34m()\u001b[0m\n\u001b[0;32m----> 1\u001b[0;31m \u001b[0mh_expskin_0\u001b[0m\u001b[0;34m.\u001b[0m\u001b[0mDraw\u001b[0m\u001b[0;34m(\u001b[0m\u001b[0;34m)\u001b[0m\u001b[0;34m\u001b[0m\u001b[0m\n\u001b[0m\u001b[1;32m      2\u001b[0m \u001b[0mc1\u001b[0m\u001b[0;34m.\u001b[0m\u001b[0mDraw\u001b[0m\u001b[0;34m(\u001b[0m\u001b[0;34m)\u001b[0m\u001b[0;34m\u001b[0m\u001b[0m\n",
      "\u001b[0;31mReferenceError\u001b[0m: attempt to access a null-pointer"
     ]
    }
   ],
   "source": [
    "h_expskin_0.Draw()\n",
    "c1.Draw()"
   ]
  },
  {
   "cell_type": "code",
   "execution_count": null,
   "metadata": {},
   "outputs": [],
   "source": []
  }
 ],
 "metadata": {
  "kernelspec": {
   "display_name": "Python 3",
   "language": "python",
   "name": "python3"
  },
  "language_info": {
   "codemirror_mode": {
    "name": "ipython",
    "version": 2
   },
   "file_extension": ".py",
   "mimetype": "text/x-python",
   "name": "python",
   "nbconvert_exporter": "python",
   "pygments_lexer": "ipython2",
   "version": "2.7.12"
  }
 },
 "nbformat": 4,
 "nbformat_minor": 2
}
