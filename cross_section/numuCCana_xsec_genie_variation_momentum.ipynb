{
 "cells": [
  {
   "cell_type": "code",
   "execution_count": 1,
   "metadata": {},
   "outputs": [
    {
     "name": "stdout",
     "output_type": "stream",
     "text": [
      "Welcome to JupyROOT 6.10/08\n"
     ]
    }
   ],
   "source": [
    "from __future__ import division\n",
    "import imp\n",
    "import uproot\n",
    "import matplotlib\n",
    "#matplotlib.use('agg')\n",
    "import matplotlib.pyplot as plt\n",
    "import matplotlib.image as mpimg\n",
    "import numpy as np\n",
    "import pandas as pd\n",
    "import os\n",
    "import ROOT\n",
    "import time\n",
    "import math\n",
    "from array import array\n",
    "helper = imp.load_source('helpfunction','/home/tmettler/Desktop/uBoone/do_plots/helpfunction.py')\n",
    "globale = imp.load_source('globale','/home/tmettler/Desktop/uBoone/do_plots/globale.py')\n",
    "#import /home/tmettler/Desktop/uBoone/do_plots/helpfunction as helper\n",
    "import collections\n",
    "NuCC = imp.load_source('NuCC_function','/home/tmettler/Desktop/uBoone/do_plots/NuCC_function.py')\n",
    "NuCC_w = imp.load_source('NuCCWeight_function','/home/tmettler/Desktop/uBoone/do_plots/NuCCWeight_function.py')"
   ]
  },
  {
   "cell_type": "code",
   "execution_count": 2,
   "metadata": {},
   "outputs": [],
   "source": [
    "#!jupyter nbconvert --to script numuCCana_muon_cut_weight.ipynb"
   ]
  },
  {
   "cell_type": "code",
   "execution_count": 3,
   "metadata": {},
   "outputs": [
    {
     "name": "stderr",
     "output_type": "stream",
     "text": [
      "Warning in <TCanvas::Constructor>: Deleting canvas with same name: c1\n"
     ]
    }
   ],
   "source": [
    "# initialte ROOT default canvas\n",
    "ROOT.gStyle.SetOptStat(0)\n",
    "c1 = ROOT.TCanvas(\"c1\",\"c1\",1600,1200)\n",
    "c1.SetGrid(1)\n",
    "c1.SetLeftMargin(0.14)\n",
    "c1.SetRightMargin(0.18)\n",
    "c1.SetBottomMargin(0.14)"
   ]
  },
  {
   "cell_type": "markdown",
   "metadata": {},
   "source": [
    "# CRTinBNB tagger, Overlay or MC"
   ]
  },
  {
   "cell_type": "code",
   "execution_count": 4,
   "metadata": {},
   "outputs": [],
   "source": [
    "# Load input files\n",
    "#inputdir = '/home/thomasm/numuCC/V33/10kevents/'\n",
    "inputdir = '/home/tmettler/Desktop/v08_00_00_33/V08_00_00_35/weighted/'\n",
    "outputdir = inputdir+'xsec_genie_all/' \n",
    "outputdir_png, outputdir_root = NuCC.prepareOutput(outputdir)\n",
    "\n",
    "#filename_overlay = 'NuCCana_Overlay_V18_V4.root'\n",
    "filename_overlay = 'NuCCana_overlay_V26_weight.root'\n",
    "#filename_overlay = 'NuCCana_overlay_v25_weighted_all.root'\n",
    "filename_data = 'NuCCana_data_V22.root'\n",
    "filename_ext = 'NuCCana_ext_V25.root'\n",
    "filename_dirt = 'NuCCana_dirt_V26_weight.root'\n",
    "    \n",
    "tree_name = 'numuCCAna'"
   ]
  },
  {
   "cell_type": "code",
   "execution_count": 5,
   "metadata": {},
   "outputs": [
    {
     "name": "stdout",
     "output_type": "stream",
     "text": [
      "Overlay: Number of Entries:\t989745\n",
      "Data: Number of Entries:\t33178\n",
      "Ext: Number of Entries:\t\t222702\n",
      "Dirt: Number of Entries:\t40808\n",
      "\n",
      "POT: \n",
      "Data:\t\t8.649e+18\n",
      "Ext:\t\t0\n",
      "Overlay:\t1.24025430537e+21\n",
      "Dirt:\t\t1.25019694173e+20\n",
      "\n",
      "Scalefactors: \n",
      "Data:\t\t1.0\n",
      "Ext:\t\t0.0976176954382\n",
      "Overlay:\t0.00697356982562\n",
      "Dirt:\t\t0.0691811002835\n"
     ]
    },
    {
     "name": "stderr",
     "output_type": "stream",
     "text": [
      "Warning in <TClass::Init>: no dictionary for class ROOT::TIOFeatures is available\n"
     ]
    }
   ],
   "source": [
    "#Open all the trees of the four files (data, ext, dirt, overlay)\n",
    "\n",
    "data, ext, dirt, overlay = NuCC.openTrees(inputdir, filename_data, filename_ext, filename_dirt, filename_overlay, tree_name)\n",
    "NuCC.printNumberOfEntries(data,ext,dirt,overlay)\n",
    "\n",
    "pot_overlay = NuCC.getPOT(inputdir,filename_overlay,tree_name)\n",
    "pot_dirt =  NuCC.getPOT(inputdir,filename_dirt,tree_name)\n",
    "#V25 files\n",
    "pot_data =     8.649e+18  # best with tor875\n",
    "data_trigger = 1854495.0 #4743794 # 1987072.0 # E1DCNT_wcut\n",
    "ext_trigger =  18997529.0  #2120135 #5685315 # EXT\n",
    "\n",
    "print 'POT: '\n",
    "print 'Data:\\t\\t', pot_data\n",
    "print 'Ext:\\t\\t', 0\n",
    "print 'Overlay:\\t', pot_overlay\n",
    "print 'Dirt:\\t\\t', pot_dirt\n",
    "print ''\n",
    "sample = [data,ext,overlay,dirt]\n",
    "scale = {data:1.0,ext:1.0,overlay:1.0,dirt:1.0}\n",
    "name = {data:'data',ext:'ext',overlay:'overlay',dirt:'dirt'}\n",
    "\n",
    "scale[data], scale[ext], scale[dirt], scale[overlay] = NuCC.calculateScale(data_trigger, ext_trigger, pot_data, pot_dirt, pot_overlay)\n",
    "\n",
    "scale[dirt] = scale[dirt]\n",
    "scale[overlay] = scale[overlay]\n",
    "print 'Scalefactors: '\n",
    "print 'Data:\\t\\t', scale[data]\n",
    "print 'Ext:\\t\\t', scale[ext]\n",
    "print 'Overlay:\\t', scale[overlay]\n",
    "print 'Dirt:\\t\\t', scale[dirt]\n"
   ]
  },
  {
   "cell_type": "code",
   "execution_count": 6,
   "metadata": {},
   "outputs": [
    {
     "name": "stdout",
     "output_type": "stream",
     "text": [
      "Overlay: Number of Entries:\t989714\n",
      "Data: Number of Entries:\t33177\n",
      "Ext: Number of Entries:\t\t222701\n",
      "Dirt: Number of Entries:\t40807\n",
      "\n"
     ]
    }
   ],
   "source": [
    "if 1:\n",
    "    filename_overlay = filename_overlay+'out33wG.root'\n",
    "    #filename_overlay = 'NuCCana_overlay_points_1kev.rootout2.root'\n",
    "    filename_data = filename_data+'out33.root'\n",
    "    filename_ext = filename_ext+'out33.root'\n",
    "    filename_dirt = filename_dirt+'out33.root'\n",
    "\n",
    "    tree_name = 't_out'\n",
    "\n",
    "    data_out, ext_out, dirt_out, overlay_out = NuCC.openTreesOut(inputdir, filename_data, filename_ext, filename_dirt, filename_overlay, tree_name)\n",
    "    NuCC.printNumberOfEntries(data_out,ext_out,dirt_out,overlay_out)\n",
    "\n",
    "    sample_out = [data_out,ext_out,overlay_out,dirt_out]\n",
    "    scale_out = {data_out:1.0,ext_out:1.0,overlay_out:1.0,dirt_out:1.0}\n",
    "    name_out = {data_out:'data',ext_out:'ext',overlay_out:'overlay',dirt_out:'dirt'}\n",
    "\n",
    "    scale_out[data_out], scale_out[ext_out], scale_out[dirt_out], scale_out[overlay_out] = NuCC.calculateScale(data_trigger, ext_trigger, pot_data, pot_dirt, pot_overlay)\n",
    "    scale_out[dirt_out] = scale_out[dirt_out]\n",
    "    scale_out[overlay_out] = scale_out[overlay_out]"
   ]
  },
  {
   "cell_type": "code",
   "execution_count": 7,
   "metadata": {},
   "outputs": [
    {
     "name": "stdout",
     "output_type": "stream",
     "text": [
      "Fiducial Volume:  49184671.35\n",
      "Beam flux = 6.34870e+09  /cm2\n",
      "Number of target nuclei= 4.10331e+31  /cm3\n"
     ]
    }
   ],
   "source": [
    "##### flux and number of tragets parameters###\n",
    "flux = 1.16859e11/1.592e20 # flux per POT per cm2\n",
    "roh_data = 1.3836 #data denisity g/cm3\n",
    "roh_MC = 1.3954 # MC denisity g/cm3\n",
    "mol = 39.95 # g for argon\n",
    "N_A = 6.022140857e23 # molec/mol avogadro zahl\n",
    "N_nucleons = 40.0\n",
    "V_fid = ((254.8-10)-(-1.55+10))*((117.47-10)-(-115.53+10))*((1036.9-50)-(-0.1+10))\n",
    "print 'Fiducial Volume: ', V_fid\n",
    "##############################################\n",
    "\n",
    "beam_flux = flux * pot_data\n",
    "print 'Beam flux = {:.5e}'.format(beam_flux),' /cm2'\n",
    "N_tot = roh_data*N_A*N_nucleons*V_fid/mol\n",
    "print 'Number of target nuclei= {:.5e}'.format(N_tot),' /cm3'"
   ]
  },
  {
   "cell_type": "code",
   "execution_count": 8,
   "metadata": {},
   "outputs": [],
   "source": [
    "# Define signals\n",
    "\n",
    "fidVol = '(Nu_Vx_sce>(-1.55+10) && Nu_Vx_sce<(254.8-10)) && (Nu_Vy_sce>(-115.53+10) && Nu_Vy_sce<(117.47-10)) &&(Nu_Vz_sce>(-0.1+10) && Nu_Vz_sce<(1036.9-50))'\n",
    "MCfidVol = '(MCNu_Vx>(-1.55+10) && MCNu_Vx<(254.8-10)) && (MCNu_Vy>(-115.53+10) && MCNu_Vy<(117.47-10)) &&(MCNu_Vz>(-0.1+10) && MCNu_Vz<(1036.9-50))'\n",
    "numu_signal = 'fidVol && MCfidVol && MCNu_CCNC==0 && MCNu_PDG==14 && MCTrackPDG==13 && MCTrackPurity>0.5' # numu CC signal definition\n",
    "numu_true = 'MCfidVol && MCNu_CCNC==0 && MCNu_PDG==14' # numu CC signal definition\n",
    "numu_nomu = 'fidVol && MCfidVol && MCNu_CCNC==0 && MCNu_PDG==14 && MCTrackPDG!=13 && MCTrackPurity>0.5' # not an MC muon\n",
    "numu_lowpur = 'fidVol && MCfidVol && MCNu_CCNC==0 && MCNu_PDG==14 && MCTrackPurity<0.5' #low purity\n",
    "numu_nc = 'fidVol && MCfidVol && MCNu_CCNC==1' # nutral current\n",
    "numu_ov = 'fidVol && !MCfidVol' # out of fiducial\n",
    "numu_other = 'fidVol && MCfidVol && MCNu_CCNC==0 && MCNu_PDG!=14' # e.g anti nu or nue\n",
    "#signal = 'MCfidVol && MCNu_CCNC==0 && MCNu_PDG==14'\n",
    "for x in sample:\n",
    "    x.SetAlias('muon','(muon_candidate_key==track_key)')\n",
    "    \n",
    "num_fidVol = {}\n",
    "for x in sample:\n",
    "    x.SetAlias('fidVol',fidVol)\n",
    "    x.SetAlias('MCfidVol',MCfidVol)\n",
    "    x.SetAlias('numu_signal',numu_signal)\n",
    "    x.SetAlias('numu_true',numu_true)\n",
    "    x.SetAlias('numu_nomu',numu_nomu)\n",
    "    x.SetAlias('numu_lowpur',numu_lowpur)\n",
    "    x.SetAlias('numu_nc',numu_nc)\n",
    "    x.SetAlias('numu_ov',numu_ov)\n",
    "    x.SetAlias('numu_other',numu_other)\n",
    "    num_fidVol[x] = x.GetEntries('fidVol && muon')*scale[x]\n",
    "    \n",
    "tot_num_fidVol = num_fidVol[ext]+num_fidVol[dirt]+num_fidVol[overlay]\n",
    "overlay_signals = {'numu_signal','numu_nomu','numu_lowpur','numu_nc','numu_ov','numu_other'}"
   ]
  },
  {
   "cell_type": "code",
   "execution_count": 9,
   "metadata": {},
   "outputs": [],
   "source": [
    "for x in sample_out:\n",
    "    x.SetAlias('muon','(track_key == key_muon)')\n",
    "\n",
    "num_fidVol = {}\n",
    "for x in sample_out:\n",
    "    x.SetAlias('fidVol',fidVol)\n",
    "    x.SetAlias('MCfidVol',MCfidVol)\n",
    "    x.SetAlias('numu_signal',numu_signal)\n",
    "    x.SetAlias('numu_true',numu_true)\n",
    "    x.SetAlias('numu_nomu',numu_nomu)\n",
    "    x.SetAlias('numu_lowpur',numu_lowpur)\n",
    "    x.SetAlias('numu_nc',numu_nc)\n",
    "    x.SetAlias('numu_ov',numu_ov)\n",
    "    x.SetAlias('numu_other',numu_other)"
   ]
  },
  {
   "cell_type": "code",
   "execution_count": 10,
   "metadata": {},
   "outputs": [
    {
     "name": "stderr",
     "output_type": "stream",
     "text": [
      "Warning in <TCanvas::Constructor>: Deleting canvas with same name: c1\n"
     ]
    }
   ],
   "source": [
    "# Load the global variables for access of functions\n",
    "NuCC.loadGlobal(data,ext,dirt,overlay,data_out,ext_out,dirt_out,overlay_out,scale,scale_out,tot_num_fidVol,overlay_signals,sample,sample_out, name,name_out, outputdir_png, outputdir_root)\n",
    "#NuCC.printGlobal()"
   ]
  },
  {
   "cell_type": "code",
   "execution_count": 11,
   "metadata": {},
   "outputs": [],
   "source": [
    "# initialte ROOT default canvas\n",
    "ROOT.gStyle.SetOptStat(0)\n",
    "c1 = ROOT.TCanvas(\"c1\",\"c1\",1600,1200)\n",
    "c1.SetGrid(1)\n",
    "c1.SetLeftMargin(0.14)\n",
    "c1.SetRightMargin(0.18)\n",
    "c1.SetBottomMargin(0.14)"
   ]
  },
  {
   "cell_type": "code",
   "execution_count": 12,
   "metadata": {},
   "outputs": [
    {
     "data": {
      "text/plain": [
       "True"
      ]
     },
     "execution_count": 12,
     "metadata": {},
     "output_type": "execute_result"
    }
   ],
   "source": [
    "track_start_border_x = '(TrackStart_x_sce <(-1.55+1) || TrackStart_x_sce > (254.8-1))'\n",
    "track_end_border_x = '(TrackEnd_x_sce <(-1.55+1) || TrackEnd_x_sce > (254.8-1))'\n",
    "track_start_border_y = '(TrackStart_y_sce <(-115.53+1) || TrackStart_y_sce > (117.47-1))'\n",
    "track_end_border_y = '(TrackEnd_y_sce <(-115.53+1) || TrackEnd_y_sce > (117.47-1))'\n",
    "track_start_border_z = '(TrackStart_z_sce <(0.1+1) || TrackStart_z_sce > (1036.9-1))'\n",
    "track_end_border_z = '(TrackEnd_z_sce <(0.1+1) || TrackEnd_z_sce > (1039.9-1))'\n",
    "\n",
    "track_end_uncontained = '(' + track_end_border_x + ' || ' + track_end_border_y + ' || ' + track_end_border_z+ ')'\n",
    "\n",
    "\n",
    "data.SetAlias(\"track_end_uncontained\",track_end_uncontained)\n",
    "ext.SetAlias(\"track_end_uncontained\",track_end_uncontained)\n",
    "overlay.SetAlias(\"track_end_uncontained\",track_end_uncontained)\n",
    "dirt.SetAlias(\"track_end_uncontained\",track_end_uncontained)\n",
    "data_out.SetAlias(\"track_end_uncontained\",track_end_uncontained)\n",
    "ext_out.SetAlias(\"track_end_uncontained\",track_end_uncontained)\n",
    "overlay_out.SetAlias(\"track_end_uncontained\",track_end_uncontained)\n",
    "dirt_out.SetAlias(\"track_end_uncontained\",track_end_uncontained)\n",
    "\n",
    "data.SetAlias(\"crt_cut\",\"(abs(crtt0_time-(69000-crt_trig_corr_med)/1000-4)<0.8 || crtt0_time==-1)\")\n",
    "ext.SetAlias(\"crt_cut\",\"(abs(crtt0_time-(69000-crt_trig_corr_med)/1000-3.57+3.195-4)<0.8 || crtt0_time==-1)\")\n",
    "overlay.SetAlias(\"crt_cut\",\"(abs(crtt0_time-4)<0.8 || crtt0_time==-1)\")\n",
    "dirt.SetAlias(\"crt_cut\",\"(abs(crtt0_time-4)<0.8 || crtt0_time==-1)\")\n",
    "data_out.SetAlias(\"crt_cut\",\"(abs(crtt0_time-(69000-crt_trig_corr_med)/1000-4)<0.8 || crtt0_time==-1)\")\n",
    "ext_out.SetAlias(\"crt_cut\",\"(abs(crtt0_time-(69000-crt_trig_corr_med)/1000-3.57+3.195-4)<0.8 || crtt0_time==-1)\")\n",
    "overlay_out.SetAlias(\"crt_cut\",\"(abs(crtt0_time-4)<0.8 || crtt0_time==-1)\")\n",
    "dirt_out.SetAlias(\"crt_cut\",\"(abs(crtt0_time-4)<0.8 || crtt0_time==-1)\")\n",
    "\n",
    "crt_tom_cut = 'nr_crthit_top==0 && crthit_vertex_zcut==0 && (track_end_uncontained==1 || nr_crthit_beam_tres==0) && crt_cut'\n",
    "\n",
    "data.SetAlias(\"crt_tom_cut\",crt_tom_cut)\n",
    "ext.SetAlias(\"crt_tom_cut\",crt_tom_cut)\n",
    "overlay.SetAlias(\"crt_tom_cut\",crt_tom_cut)\n",
    "dirt.SetAlias(\"crt_tom_cut\",crt_tom_cut)\n",
    "data_out.SetAlias(\"crt_tom_cut\",crt_tom_cut)\n",
    "ext_out.SetAlias(\"crt_tom_cut\",crt_tom_cut)\n",
    "overlay_out.SetAlias(\"crt_tom_cut\",crt_tom_cut)\n",
    "dirt_out.SetAlias(\"crt_tom_cut\",crt_tom_cut)\n"
   ]
  },
  {
   "cell_type": "code",
   "execution_count": 13,
   "metadata": {},
   "outputs": [],
   "source": [
    "weight_name = 'EventWeight*TunedCentralValue_Genie'\n",
    "num_universes = 1\n",
    "eff_uni = np.zeros((num_universes))\n",
    "mom_bins = [ 0.00, 0.18, 0.30, 0.45, 0.77, 1.28, 2.50 ]\n",
    "binnum = len(mom_bins) - 1"
   ]
  },
  {
   "cell_type": "code",
   "execution_count": 14,
   "metadata": {},
   "outputs": [
    {
     "name": "stdout",
     "output_type": "stream",
     "text": [
      "Data:  1443.0  Ext:  157.652578115  Dirt:  36.2889559269\n"
     ]
    }
   ],
   "source": [
    "variable = 'TrackMomMCS_mom'\n",
    "cut = 'fidVol && muon && crt_tom_cut && TrackScore>0.8\\\n",
    "                && TrackLength>20 && TrackPID_chiproton>78 && NuScore>0.1'\n",
    "\n",
    "h_ext_mom = ROOT.TH1F('h_ext_mom','h_ext_mom',binnum,array('f',mom_bins))\n",
    "h_data_mom = ROOT.TH1F('h_data_mom','h_data_mom',binnum,array('f',mom_bins))\n",
    "h_dirt_mom = ROOT.TH1F('h_dirt_mom','h_dirt_mom',binnum,array('f',mom_bins))\n",
    "\n",
    "globale.ext_out.Draw(variable+'>>h_ext_mom','('+cut+')')\n",
    "globale.data_out.Draw(variable+'>>h_data_mom','('+cut+')')\n",
    "globale.dirt_out.Draw(variable+'>>h_dirt_mom',weight_name+'*('+cut+')')\n",
    "\n",
    "h_data_mom.Scale(globale.scale[globale.data])\n",
    "h_ext_mom.Scale(globale.scale[globale.ext])\n",
    "h_dirt_mom.Scale(globale.scale[globale.dirt])\n",
    "#h_overlay.Scale(globale.scale[globale.overlay])\n",
    "\n",
    "bkg_ext = h_ext_mom.GetSumOfWeights()\n",
    "num_data = h_data_mom.GetSumOfWeights()\n",
    "bkg_dirt = h_dirt_mom.GetSumOfWeights()\n",
    "\n",
    "print 'Data: ', num_data,' Ext: ', bkg_ext,' Dirt: ',bkg_dirt"
   ]
  },
  {
   "cell_type": "code",
   "execution_count": 15,
   "metadata": {},
   "outputs": [
    {
     "name": "stdout",
     "output_type": "stream",
     "text": [
      "MCle_Energy>>h_1d_true[0] EventWeight*TunedCentralValue_Genie*All_Genie[0]*(numu_true)\n",
      "Signal:  202957.878662  True:  412950.328125  Eff:  0.49148254593837204\n",
      "MCle_Energy>>h_1d_true[1] EventWeight*TunedCentralValue_Genie*All_Genie[1]*(numu_true)\n",
      "Signal:  155556.150879  True:  314158.240234  Eff:  0.4951522223747489\n",
      "MCle_Energy>>h_1d_true[2] EventWeight*TunedCentralValue_Genie*All_Genie[2]*(numu_true)\n",
      "Signal:  147128.003906  True:  293263.619141  Eff:  0.5016919735466074\n",
      "MCle_Energy>>h_1d_true[3] EventWeight*TunedCentralValue_Genie*All_Genie[3]*(numu_true)\n",
      "Signal:  181356.81958  True:  365738.910156  Eff:  0.4958641656503349\n"
     ]
    },
    {
     "ename": "KeyboardInterrupt",
     "evalue": "",
     "output_type": "error",
     "traceback": [
      "\u001b[0;31m\u001b[0m",
      "\u001b[0;31mKeyboardInterrupt\u001b[0mTraceback (most recent call last)",
      "\u001b[0;32m<ipython-input-15-547c6388639e>\u001b[0m in \u001b[0;36m<module>\u001b[0;34m()\u001b[0m\n\u001b[1;32m     11\u001b[0m \u001b[0;34m\u001b[0m\u001b[0m\n\u001b[1;32m     12\u001b[0m \u001b[0;32mfor\u001b[0m \u001b[0muni\u001b[0m \u001b[0;32min\u001b[0m \u001b[0mrange\u001b[0m\u001b[0;34m(\u001b[0m\u001b[0mnum_universes\u001b[0m\u001b[0;34m)\u001b[0m\u001b[0;34m:\u001b[0m\u001b[0;34m\u001b[0m\u001b[0m\n\u001b[0;32m---> 13\u001b[0;31m     \u001b[0mglobale\u001b[0m\u001b[0;34m.\u001b[0m\u001b[0moverlay_out\u001b[0m\u001b[0;34m.\u001b[0m\u001b[0mDraw\u001b[0m\u001b[0;34m(\u001b[0m\u001b[0mvariable\u001b[0m\u001b[0;34m+\u001b[0m\u001b[0;34m\">>h_1d[\"\u001b[0m\u001b[0;34m+\u001b[0m\u001b[0mstr\u001b[0m\u001b[0;34m(\u001b[0m\u001b[0muni\u001b[0m\u001b[0;34m)\u001b[0m\u001b[0;34m+\u001b[0m\u001b[0;34m']'\u001b[0m\u001b[0;34m,\u001b[0m\u001b[0mweight_name\u001b[0m\u001b[0;34m+\u001b[0m\u001b[0;34m'*All_Genie['\u001b[0m\u001b[0;34m+\u001b[0m\u001b[0mstr\u001b[0m\u001b[0;34m(\u001b[0m\u001b[0muni\u001b[0m\u001b[0;34m)\u001b[0m\u001b[0;34m+\u001b[0m\u001b[0;34m']*('\u001b[0m\u001b[0;34m+\u001b[0m\u001b[0mcut\u001b[0m\u001b[0;34m+\u001b[0m\u001b[0;34m'&& numu_signal)'\u001b[0m\u001b[0;34m)\u001b[0m\u001b[0;34m\u001b[0m\u001b[0m\n\u001b[0m\u001b[1;32m     14\u001b[0m     \u001b[0mglobale\u001b[0m\u001b[0;34m.\u001b[0m\u001b[0moverlay_out\u001b[0m\u001b[0;34m.\u001b[0m\u001b[0mDraw\u001b[0m\u001b[0;34m(\u001b[0m\u001b[0mvariable\u001b[0m\u001b[0;34m+\u001b[0m\u001b[0;34m\">>h_1d_true[\"\u001b[0m\u001b[0;34m+\u001b[0m\u001b[0mstr\u001b[0m\u001b[0;34m(\u001b[0m\u001b[0muni\u001b[0m\u001b[0;34m)\u001b[0m\u001b[0;34m+\u001b[0m\u001b[0;34m']'\u001b[0m\u001b[0;34m,\u001b[0m\u001b[0mweight_name\u001b[0m\u001b[0;34m+\u001b[0m\u001b[0;34m'*All_Genie['\u001b[0m\u001b[0;34m+\u001b[0m\u001b[0mstr\u001b[0m\u001b[0;34m(\u001b[0m\u001b[0muni\u001b[0m\u001b[0;34m)\u001b[0m\u001b[0;34m+\u001b[0m\u001b[0;34m']*(numu_true)'\u001b[0m\u001b[0;34m)\u001b[0m\u001b[0;34m\u001b[0m\u001b[0m\n\u001b[1;32m     15\u001b[0m     \u001b[0;32mprint\u001b[0m \u001b[0mvariable\u001b[0m\u001b[0;34m+\u001b[0m\u001b[0;34m\">>h_1d_true[\"\u001b[0m\u001b[0;34m+\u001b[0m\u001b[0mstr\u001b[0m\u001b[0;34m(\u001b[0m\u001b[0muni\u001b[0m\u001b[0;34m)\u001b[0m\u001b[0;34m+\u001b[0m\u001b[0;34m']'\u001b[0m\u001b[0;34m,\u001b[0m\u001b[0mweight_name\u001b[0m\u001b[0;34m+\u001b[0m\u001b[0;34m'*All_Genie['\u001b[0m\u001b[0;34m+\u001b[0m\u001b[0mstr\u001b[0m\u001b[0;34m(\u001b[0m\u001b[0muni\u001b[0m\u001b[0;34m)\u001b[0m\u001b[0;34m+\u001b[0m\u001b[0;34m']*(numu_true)'\u001b[0m\u001b[0;34m\u001b[0m\u001b[0m\n",
      "\u001b[0;31mKeyboardInterrupt\u001b[0m: "
     ]
    }
   ],
   "source": [
    "\n",
    "variable = 'MCle_Energy'\n",
    "cut = 'fidVol && muon && crt_tom_cut && TrackScore>0.8\\\n",
    "                && TrackLength>20 && TrackPID_chiproton>78 && NuScore>0.1'\n",
    "\n",
    "h_1d = {}\n",
    "h_1d_true = {}\n",
    "for uni in range(num_universes):\n",
    "    #print 'At universe: ',uni\n",
    "    h_1d[uni] = ROOT.TH1F(\"h_1d[\"+str(uni)+']',\"Track true momentum\",binnum,array('f',mom_bins))\n",
    "    h_1d_true[uni] = ROOT.TH1F(\"h_1d_true[\"+str(uni)+']',\"Track true momentum\",binnum,array('f',mom_bins))\n",
    "    \n",
    "for uni in range(num_universes):\n",
    "    globale.overlay_out.Draw(variable+\">>h_1d[\"+str(uni)+']',weight_name+'*All_Genie['+str(uni)+']*('+cut+'&& numu_signal)')\n",
    "    globale.overlay_out.Draw(variable+\">>h_1d_true[\"+str(uni)+']',weight_name+'*All_Genie['+str(uni)+']*(numu_true)')\n",
    "    print variable+\">>h_1d_true[\"+str(uni)+']',weight_name+'*All_Genie['+str(uni)+']*(numu_true)'\n",
    "    num_signal = h_1d[uni].GetSumOfWeights()\n",
    "    num_true = h_1d_true[uni].GetSumOfWeights()\n",
    "    eff_uni[uni] = num_signal/(num_true+0.0001)\n",
    "    print 'Signal: ', num_signal,' True: ', num_true,' Eff: ',eff_uni[uni]"
   ]
  },
  {
   "cell_type": "code",
   "execution_count": 17,
   "metadata": {},
   "outputs": [
    {
     "name": "stdout",
     "output_type": "stream",
     "text": [
      "Overlay:  259.25036430358887\n",
      "Overlay:  235.08938646316528\n",
      "Overlay:  234.3384609222412\n",
      "Overlay:  239.36547470092773\n",
      "Overlay:  219.09363842010498\n",
      "Overlay:  187.50465393066406\n",
      "Overlay:  222.71934700012207\n",
      "Overlay:  192.49491214752197\n",
      "Overlay:  198.20213794708252\n",
      "Overlay:  310.0218915939331\n",
      "Overlay:  227.1696548461914\n",
      "Overlay:  271.93559074401855\n",
      "Overlay:  273.08629322052\n",
      "Overlay:  281.5762758255005\n",
      "Overlay:  303.28754234313965\n",
      "Overlay:  267.1152448654175\n",
      "Overlay:  275.77170181274414\n",
      "Overlay:  211.79275035858154\n",
      "Overlay:  216.30876398086548\n",
      "Overlay:  247.01195812225342\n",
      "Overlay:  206.5401611328125\n",
      "Overlay:  263.81043338775635\n",
      "Overlay:  172.30050325393677\n",
      "Overlay:  190.01813983917236\n",
      "Overlay:  293.90331268310547\n",
      "Overlay:  251.44867992401123\n",
      "Overlay:  211.4070258140564\n",
      "Overlay:  248.036114692688\n",
      "Overlay:  269.56048107147217\n",
      "Overlay:  262.0438480377197\n",
      "Overlay:  239.1577606201172\n",
      "Overlay:  295.7358512878418\n",
      "Overlay:  247.98467826843262\n",
      "Overlay:  204.1372275352478\n",
      "Overlay:  259.4856071472168\n",
      "Overlay:  227.92419719696045\n",
      "Overlay:  223.9970088005066\n",
      "Overlay:  206.6657691001892\n",
      "Overlay:  254.01484870910645\n",
      "Overlay:  232.00129508972168\n",
      "Overlay:  244.2701072692871\n",
      "Overlay:  233.13085556030273\n",
      "Overlay:  276.50319957733154\n",
      "Overlay:  206.93988132476807\n",
      "Overlay:  204.22243213653564\n",
      "Overlay:  227.71150302886963\n",
      "Overlay:  241.88934803009033\n",
      "Overlay:  179.58254432678223\n",
      "Overlay:  277.78893661499023\n",
      "Overlay:  237.88064289093018\n",
      "Overlay:  226.01511001586914\n",
      "Overlay:  270.64941024780273\n",
      "Overlay:  209.1876893043518\n",
      "Overlay:  209.50065898895264\n",
      "Overlay:  210.48634338378906\n",
      "Overlay:  241.55714225769043\n",
      "Overlay:  245.42588710784912\n",
      "Overlay:  253.03228569030762\n",
      "Overlay:  226.818190574646\n",
      "Overlay:  323.3642997741699\n",
      "Overlay:  257.6796922683716\n",
      "Overlay:  182.0160665512085\n",
      "Overlay:  232.8342695236206\n",
      "Overlay:  316.24011516571045\n",
      "Overlay:  256.130352973938\n",
      "Overlay:  243.11692810058594\n",
      "Overlay:  259.8771085739136\n",
      "Overlay:  291.36992168426514\n",
      "Overlay:  253.509747505188\n",
      "Overlay:  230.6716365814209\n",
      "Overlay:  213.29437017440796\n",
      "Overlay:  273.6201286315918\n",
      "Overlay:  251.03035068511963\n",
      "Overlay:  281.9958972930908\n",
      "Overlay:  203.62883281707764\n",
      "Overlay:  254.49451732635498\n",
      "Overlay:  223.92531490325928\n",
      "Overlay:  211.7449655532837\n",
      "Overlay:  220.19756698608398\n",
      "Overlay:  189.24496221542358\n",
      "Overlay:  213.75958967208862\n",
      "Overlay:  277.8890686035156\n",
      "Overlay:  214.3975567817688\n",
      "Overlay:  212.12950325012207\n",
      "Overlay:  310.34226512908936\n",
      "Overlay:  230.35315799713135\n",
      "Overlay:  286.39140701293945\n",
      "Overlay:  242.29527187347412\n",
      "Overlay:  145.64472579956055\n",
      "Overlay:  295.14515495300293\n",
      "Overlay:  209.49776124954224\n",
      "Overlay:  297.2711763381958\n",
      "Overlay:  294.86772441864014\n",
      "Overlay:  226.30620002746582\n",
      "Overlay:  212.8721799850464\n",
      "Overlay:  325.9975700378418\n",
      "Overlay:  192.94633293151855\n",
      "Overlay:  204.3395962715149\n",
      "Overlay:  202.73130083084106\n",
      "Overlay:  262.9166851043701\n"
     ]
    }
   ],
   "source": [
    "variable = 'TrackMomMCS_mom'\n",
    "cut = 'fidVol && muon && crt_tom_cut && TrackScore>0.8\\\n",
    "                && TrackLength>20 && TrackPID_chiproton>78 && NuScore>0.1'\n",
    "\n",
    "bkg_uni = np.zeros((num_universes))\n",
    "h_1d_bkg = {}\n",
    "for uni in range(num_universes):\n",
    "    #print 'At universe: ',uni\n",
    "    h_1d_bkg[uni] = ROOT.TH1F(\"h_1d_bkg[\"+str(uni)+']',\"Track momentum\",binnum,array('f',mom_bins))\n",
    "\n",
    "for uni in range(num_universes):\n",
    "    globale.overlay_out.Draw(variable+\">>h_1d_bkg[\"+str(uni)+']',weight_name+'*All_Genie['+str(uni)+']*('+cut+'&& !numu_signal)')\n",
    "    h_1d_bkg[uni].Scale(globale.scale[globale.overlay])\n",
    "    bkg_uni[uni] = h_1d_bkg[uni].GetSumOfWeights()\n",
    "    #print 'Overlay: ',bkg_uni[uni]\n"
   ]
  },
  {
   "cell_type": "code",
   "execution_count": 18,
   "metadata": {},
   "outputs": [
    {
     "name": "stdout",
     "output_type": "stream",
     "text": [
      "Total fulux integrated xsec:  7.730782616450421e-39\n",
      "Total fulux integrated xsec:  7.860796175238169e-39\n",
      "Total fulux integrated xsec:  7.764073286124115e-39\n",
      "Total fulux integrated xsec:  7.816407155535825e-39\n",
      "Total fulux integrated xsec:  7.979771199208646e-39\n",
      "Total fulux integrated xsec:  8.060846957771435e-39\n",
      "Total fulux integrated xsec:  7.762085849351226e-39\n",
      "Total fulux integrated xsec:  8.07471320951126e-39\n",
      "Total fulux integrated xsec:  8.119233678186981e-39\n",
      "Total fulux integrated xsec:  7.302476082392476e-39\n",
      "Total fulux integrated xsec:  7.8417444387092e-39\n",
      "Total fulux integrated xsec:  7.553010262319121e-39\n",
      "Total fulux integrated xsec:  7.604413604484609e-39\n",
      "Total fulux integrated xsec:  7.511455808722145e-39\n",
      "Total fulux integrated xsec:  7.359338002825455e-39\n",
      "Total fulux integrated xsec:  7.538772240539535e-39\n",
      "Total fulux integrated xsec:  7.59988140216909e-39\n",
      "Total fulux integrated xsec:  7.986563587811587e-39\n",
      "Total fulux integrated xsec:  7.947962949793734e-39\n",
      "Total fulux integrated xsec:  7.641838638976987e-39\n",
      "Total fulux integrated xsec:  7.976048539993042e-39\n",
      "Total fulux integrated xsec:  7.709695899663956e-39\n",
      "Total fulux integrated xsec:  8.078581766521052e-39\n",
      "Total fulux integrated xsec:  8.114395752608125e-39\n",
      "Total fulux integrated xsec:  7.451898158573658e-39\n",
      "Total fulux integrated xsec:  7.678078638915471e-39\n",
      "Total fulux integrated xsec:  7.979531118878941e-39\n",
      "Total fulux integrated xsec:  7.72797372926249e-39\n",
      "Total fulux integrated xsec:  7.540354806112059e-39\n",
      "Total fulux integrated xsec:  7.574978436574656e-39\n",
      "Total fulux integrated xsec:  7.845271103407413e-39\n",
      "Total fulux integrated xsec:  7.413076843543185e-39\n",
      "Total fulux integrated xsec:  7.661378264283572e-39\n",
      "Total fulux integrated xsec:  7.964381355451072e-39\n",
      "Total fulux integrated xsec:  7.656261129844711e-39\n",
      "Total fulux integrated xsec:  7.839184367820782e-39\n",
      "Total fulux integrated xsec:  7.764476965165106e-39\n",
      "Total fulux integrated xsec:  7.894264966665746e-39\n",
      "Total fulux integrated xsec:  7.653817630380381e-39\n",
      "Total fulux integrated xsec:  7.770952214574814e-39\n",
      "Total fulux integrated xsec:  7.781430513356383e-39\n",
      "Total fulux integrated xsec:  7.824186975404767e-39\n",
      "Total fulux integrated xsec:  7.566081355756888e-39\n",
      "Total fulux integrated xsec:  7.987353705276617e-39\n",
      "Total fulux integrated xsec:  7.974466353936872e-39\n",
      "Total fulux integrated xsec:  7.79524036784382e-39\n",
      "Total fulux integrated xsec:  7.781004328847453e-39\n",
      "Total fulux integrated xsec:  8.112909112411711e-39\n",
      "Total fulux integrated xsec:  7.5329963022074e-39\n",
      "Total fulux integrated xsec:  7.815787950538475e-39\n",
      "Total fulux integrated xsec:  7.819891685438643e-39\n",
      "Total fulux integrated xsec:  7.618800813382106e-39\n",
      "Total fulux integrated xsec:  7.867826739120769e-39\n",
      "Total fulux integrated xsec:  7.864778578511716e-39\n",
      "Total fulux integrated xsec:  7.923675091699169e-39\n",
      "Total fulux integrated xsec:  7.826663931215984e-39\n",
      "Total fulux integrated xsec:  7.750185910776675e-39\n",
      "Total fulux integrated xsec:  7.673993352167031e-39\n",
      "Total fulux integrated xsec:  7.781308434096677e-39\n",
      "Total fulux integrated xsec:  7.243147162186853e-39\n",
      "Total fulux integrated xsec:  7.610851734593324e-39\n",
      "Total fulux integrated xsec:  8.087302036245192e-39\n",
      "Total fulux integrated xsec:  7.884973942997521e-39\n",
      "Total fulux integrated xsec:  7.255815111853235e-39\n",
      "Total fulux integrated xsec:  7.639940062894149e-39\n",
      "Total fulux integrated xsec:  7.668220427781888e-39\n",
      "Total fulux integrated xsec:  7.659581753442183e-39\n",
      "Total fulux integrated xsec:  7.397181965275553e-39\n",
      "Total fulux integrated xsec:  7.695418428766415e-39\n",
      "Total fulux integrated xsec:  7.752130378446563e-39\n",
      "Total fulux integrated xsec:  7.91981790511604e-39\n",
      "Total fulux integrated xsec:  7.503290674470056e-39\n",
      "Total fulux integrated xsec:  7.716099108385529e-39\n",
      "Total fulux integrated xsec:  7.496789920352303e-39\n",
      "Total fulux integrated xsec:  8.010572438264388e-39\n",
      "Total fulux integrated xsec:  7.698849017174769e-39\n",
      "Total fulux integrated xsec:  7.808350937584286e-39\n",
      "Total fulux integrated xsec:  7.980474490429489e-39\n",
      "Total fulux integrated xsec:  7.876945716614391e-39\n",
      "Total fulux integrated xsec:  8.084997069057712e-39\n",
      "Total fulux integrated xsec:  7.88542749773673e-39\n",
      "Total fulux integrated xsec:  7.487930102172543e-39\n",
      "Total fulux integrated xsec:  7.845493001560253e-39\n",
      "Total fulux integrated xsec:  7.878187244720981e-39\n",
      "Total fulux integrated xsec:  7.289974609983785e-39\n",
      "Total fulux integrated xsec:  7.803794726429424e-39\n",
      "Total fulux integrated xsec:  7.503393437823004e-39\n",
      "Total fulux integrated xsec:  7.702282260385383e-39\n",
      "Total fulux integrated xsec:  8.23718556422471e-39\n",
      "Total fulux integrated xsec:  7.338708510898013e-39\n",
      "Total fulux integrated xsec:  7.952467280178997e-39\n",
      "Total fulux integrated xsec:  7.38770957140144e-39\n",
      "Total fulux integrated xsec:  7.41375827614253e-39\n",
      "Total fulux integrated xsec:  7.860054004753054e-39\n",
      "Total fulux integrated xsec:  7.895129704979752e-39\n",
      "Total fulux integrated xsec:  7.249572747901761e-39\n",
      "Total fulux integrated xsec:  7.983501144738365e-39\n",
      "Total fulux integrated xsec:  7.959129547770791e-39\n",
      "Total fulux integrated xsec:  8.001679079020517e-39\n",
      "Total fulux integrated xsec:  7.732271474640373e-39\n",
      "xsec CV:  8.01921662059e-39  deviatons:  2.2293055854130547e-40  in percent:  2.77995431584817 %\n"
     ]
    }
   ],
   "source": [
    "xsec_uni = np.zeros((num_universes))\n",
    "h_1d_xsec = {}\n",
    "for uni in range(num_universes):\n",
    "    #print 'At universe: ',uni\n",
    "    h_1d_xsec[uni] = ROOT.TH1F(\"h_1d_xsec[\"+str(uni)+']',\"xsec momentum\",binnum,array('f',mom_bins))\n",
    "\n",
    "for uni in range(num_universes):\n",
    "    signal = num_data - bkg_ext - bkg_dirt - bkg_uni[uni]\n",
    "    xsec_uni[uni] = (num_data - bkg_ext - bkg_dirt - bkg_uni[uni])/(eff_uni[uni] * N_tot * beam_flux)\n",
    "    #globale.overlay_out.Draw(variable+\">>h_1d_bkg[\"+str(uni)+']',weight_name+'*All_Genie['+str(uni)+']*('+cut+'&& !numu_signal)')\n",
    "    #h_1d_xsec[uni].Scale(globale.scale[globale.overlay])\n",
    "    #xsec_uni[uni] = h_1d_bkg[uni].GetSumOfWeights()\n",
    "    print 'Total fulux integrated xsec: ',xsec_uni[uni]\n",
    "xsec_std = np.std(xsec_uni)\n",
    "# from momentum CV xsec:\n",
    "#Total integrated cross section for MC: 8.01921662059e-39\n",
    "xsec_CV = 7.6770041506e-39\n",
    "print 'xsec CV: ',xsec_CV,' deviatons: ',xsec_std,' in percent: ',xsec_std*100.0/xsec_CV,'%'"
   ]
  },
  {
   "cell_type": "code",
   "execution_count": 19,
   "metadata": {},
   "outputs": [
    {
     "name": "stdout",
     "output_type": "stream",
     "text": [
      "[0.20982139 0.34924993 0.45501729 0.53793668 0.61080753 0.63447142\n",
      " 0.58437668]\n"
     ]
    }
   ],
   "source": [
    "# check standard deviations on the true efficiency\n",
    "np.std(eff_uni)\n",
    "#Since the efficiency does not change very much per universe the nominal efficiency e_tilde is used\n",
    "# in order not to calculated the whole detector smearing again\n",
    "eff_tilde = np.load('/home/tmettler/Desktop/v08_00_00_33/V08_00_00_35/weighted/xsec_weighted/eff_tilde_momentum_xsec_CV.npy')\n",
    "print eff_tilde"
   ]
  },
  {
   "cell_type": "code",
   "execution_count": 20,
   "metadata": {},
   "outputs": [
    {
     "name": "stdout",
     "output_type": "stream",
     "text": [
      "[[ 4.47241629e-40  7.82312536e-39  1.15975142e-38  9.76343054e-39\n",
      "   2.75219331e-39  1.61759559e-40]\n",
      " [ 5.77035987e-40  8.41471076e-39  1.19712491e-38  9.86719684e-39\n",
      "   2.79667906e-39  1.69281071e-40]\n",
      " [ 4.56778963e-40  8.33144173e-39  1.20688094e-38  9.89578605e-39\n",
      "   2.80017843e-39  1.67012536e-40]\n",
      " [ 4.81794763e-40  8.23049794e-39  1.19476812e-38  9.87879866e-39\n",
      "   2.78840204e-39  1.65525211e-40]\n",
      " [ 7.13813863e-40  8.75064605e-39  1.21997985e-38  9.96562274e-39\n",
      "   2.82390327e-39  1.70747064e-40]\n",
      " [ 9.04049913e-40  9.52617105e-39  1.27891458e-38  1.01417096e-38\n",
      "   2.85409966e-39  1.72852876e-40]\n",
      " [ 6.61132098e-40  8.79739369e-39  1.22948664e-38  9.92862741e-39\n",
      "   2.79248936e-39  1.65292840e-40]\n",
      " [ 9.10530752e-40  9.39731927e-39  1.26549066e-38  1.01127214e-38\n",
      "   2.85294149e-39  1.73514892e-40]\n",
      " [ 9.25881368e-40  9.34400117e-39  1.25274074e-38  1.00726761e-38\n",
      "   2.84009315e-39  1.72668191e-40]\n",
      " [ 5.81534170e-41  6.56219065e-39  1.07715520e-38  9.48728171e-39\n",
      "   2.69232633e-39  1.55565251e-40]\n",
      " [ 6.30691220e-40  8.56615685e-39  1.21091618e-38  9.92187932e-39\n",
      "   2.80797103e-39  1.68873047e-40]\n",
      " [ 2.70288677e-40  7.53343353e-39  1.14048067e-38  9.68723606e-39\n",
      "   2.74092240e-39  1.61642827e-40]\n",
      " [ 2.75636888e-40  7.39428912e-39  1.13597017e-38  9.70190036e-39\n",
      "   2.74878758e-39  1.60759829e-40]\n",
      " [ 2.52708670e-40  7.29984208e-39  1.12234256e-38  9.63638422e-39\n",
      "   2.73111128e-39  1.58588803e-40]\n",
      " [ 1.19998463e-40  6.79031399e-39  1.08436212e-38  9.50034064e-39\n",
      "   2.70919211e-39  1.57546725e-40]\n",
      " [ 2.77710997e-40  7.57697158e-39  1.15355471e-38  9.71064199e-39\n",
      "   2.75288268e-39  1.61281712e-40]\n",
      " [ 3.02254457e-40  7.45649143e-39  1.13132035e-38  9.67765159e-39\n",
      "   2.73119107e-39  1.59350038e-40]\n",
      " [ 7.10490519e-40  8.97279744e-39  1.23828011e-38  1.00149366e-38\n",
      "   2.82179773e-39  1.68831778e-40]\n",
      " [ 7.12059623e-40  8.76888089e-39  1.23177017e-38  9.99760960e-39\n",
      "   2.81775228e-39  1.68621812e-40]\n",
      " [ 4.22392063e-40  8.04427746e-39  1.18160938e-38  9.82477553e-39\n",
      "   2.78710880e-39  1.64723289e-40]\n",
      " [ 7.60044934e-40  9.00152127e-39  1.24515410e-38  1.00532557e-38\n",
      "   2.83592696e-39  1.70638145e-40]\n",
      " [ 4.96681181e-40  7.69770399e-39  1.14368831e-38  9.73600462e-39\n",
      "   2.75552609e-39  1.62445511e-40]\n",
      " [ 9.41444067e-40  9.89260197e-39  1.30678186e-38  1.02197653e-38\n",
      "   2.87487918e-39  1.76295231e-40]\n",
      " [ 9.26402076e-40  9.50144330e-39  1.26909841e-38  1.01233364e-38\n",
      "   2.85315904e-39  1.73756263e-40]\n",
      " [ 2.46512708e-40  7.09555482e-39  1.09369159e-38  9.53836511e-39\n",
      "   2.72208182e-39  1.59515199e-40]\n",
      " [ 3.58929837e-40  7.87568701e-39  1.17559358e-38  9.82326934e-39\n",
      "   2.78047427e-39  1.63254792e-40]\n",
      " [ 7.01164590e-40  8.96223926e-39  1.23857438e-38  1.00174314e-38\n",
      "   2.82303969e-39  1.70457228e-40]\n",
      " [ 4.66492903e-40  8.03814199e-39  1.18033261e-38  9.83056058e-39\n",
      "   2.77020074e-39  1.64468524e-40]\n",
      " [ 3.38224806e-40  7.60301027e-39  1.14487729e-38  9.69224444e-39\n",
      "   2.74619512e-39  1.59227021e-40]\n",
      " [ 3.46233359e-40  7.68763009e-39  1.15753446e-38  9.74190289e-39\n",
      "   2.76341193e-39  1.62398240e-40]\n",
      " [ 5.08929454e-40  8.20701126e-39  1.19279433e-38  9.87061703e-39\n",
      "   2.79529638e-39  1.67288300e-40]\n",
      " [ 1.15898516e-40  6.90844128e-39  1.09930185e-38  9.56021874e-39\n",
      "   2.72068151e-39  1.57687965e-40]\n",
      " [ 5.06779934e-40  8.14234289e-39  1.17890716e-38  9.80899200e-39\n",
      "   2.77376378e-39  1.61735666e-40]\n",
      " [ 7.88276097e-40  9.14691574e-39  1.25376739e-38  1.00388455e-38\n",
      "   2.83255194e-39  1.70273163e-40]\n",
      " [ 4.21077111e-40  7.76691037e-39  1.15351643e-38  9.76409083e-39\n",
      "   2.77173142e-39  1.62401182e-40]\n",
      " [ 6.28099214e-40  8.62461917e-39  1.21240852e-38  9.92562804e-39\n",
      "   2.79552789e-39  1.64950354e-40]\n",
      " [ 6.02844481e-40  8.59715388e-39  1.21776781e-38  9.95057708e-39\n",
      "   2.81673572e-39  1.68336415e-40]\n",
      " [ 6.20386976e-40  8.94056423e-39  1.25323958e-38  1.00516975e-38\n",
      "   2.84144419e-39  1.71126622e-40]\n",
      " [ 4.25633985e-40  7.99494915e-39  1.16932084e-38  9.76965802e-39\n",
      "   2.76697149e-39  1.63704376e-40]\n",
      " [ 5.87406240e-40  8.55856613e-39  1.20733419e-38  9.88105327e-39\n",
      "   2.79041518e-39  1.66737903e-40]\n",
      " [ 6.37091510e-40  8.27602233e-39  1.17818500e-38  9.83561915e-39\n",
      "   2.77133037e-39  1.62255336e-40]\n",
      " [ 5.53404056e-40  8.35265276e-39  1.20113852e-38  9.90571487e-39\n",
      "   2.80555614e-39  1.67829413e-40]\n",
      " [ 2.59158201e-40  7.27628413e-39  1.12658737e-38  9.68081727e-39\n",
      "   2.75317295e-39  1.62205123e-40]\n",
      " [ 7.43848022e-40  9.11071195e-39  1.24600136e-38  1.00202910e-38\n",
      "   2.83228189e-39  1.71584958e-40]\n",
      " [ 7.74937458e-40  9.09633483e-39  1.25107294e-38  1.00603352e-38\n",
      "   2.83459519e-39  1.70014584e-40]\n",
      " [ 6.45124296e-40  8.59128361e-39  1.21267052e-38  9.92126829e-39\n",
      "   2.79872705e-39  1.66430405e-40]\n",
      " [ 5.23171384e-40  8.17494018e-39  1.18484366e-38  9.84894145e-39\n",
      "   2.79409050e-39  1.67099638e-40]\n",
      " [ 9.83898356e-40  9.77385450e-39  1.29047815e-38  1.01848622e-38\n",
      "   2.85844796e-39  1.73290792e-40]\n",
      " [ 3.11667527e-40  7.38228234e-39  1.12872897e-38  9.64884768e-39\n",
      "   2.73488070e-39  1.60110596e-40]\n",
      " [ 5.34696559e-40  8.21806244e-39  1.19178566e-38  9.88092473e-39\n",
      "   2.80217967e-39  1.67593135e-40]\n",
      " [ 6.40092755e-40  8.61833416e-39  1.21862063e-38  9.92142762e-39\n",
      "   2.80221002e-39  1.66940342e-40]\n",
      " [ 3.13987257e-40  7.44151544e-39  1.13583548e-38  9.72248089e-39\n",
      "   2.75289396e-39  1.62305893e-40]\n",
      " [ 6.66184866e-40  8.94717033e-39  1.24976039e-38  1.00305501e-38\n",
      "   2.82582107e-39  1.70085850e-40]\n",
      " [ 7.60472492e-40  9.04571200e-39  1.24289196e-38  1.00195281e-38\n",
      "   2.82199307e-39  1.68645854e-40]\n",
      " [ 7.38348405e-40  9.08052553e-39  1.23742445e-38  9.97866253e-39\n",
      "   2.83232988e-39  1.72701231e-40]\n",
      " [ 5.37315027e-40  8.20444282e-39  1.18852872e-38  9.86096698e-39\n",
      "   2.78251876e-39  1.65192945e-40]\n",
      " [ 3.68913049e-40  7.98834759e-39  1.18586984e-38  9.84878765e-39\n",
      "   2.79167308e-39  1.67292958e-40]\n",
      " [ 3.71640854e-40  7.90839226e-39  1.17351449e-38  9.79540532e-39\n",
      "   2.77339371e-39  1.63889798e-40]\n",
      " [ 6.27856695e-40  8.56108181e-39  1.21475133e-38  9.92796533e-39\n",
      "   2.80367108e-39  1.68024473e-40]\n",
      " [-7.39854843e-41  6.11418354e-39  1.04940210e-38  9.45434270e-39\n",
      "   2.69524586e-39  1.50723672e-40]\n",
      " [ 4.96895397e-40  7.95505045e-39  1.15885156e-38  9.75039254e-39\n",
      "   2.75962847e-39  1.60683902e-40]\n",
      " [ 9.21889208e-40  9.62813718e-39  1.28718752e-38  1.01678118e-38\n",
      "   2.86615581e-39  1.75729106e-40]\n",
      " [ 5.45731172e-40  8.44944428e-39  1.20362687e-38  9.90295122e-39\n",
      "   2.79435863e-39  1.67360812e-40]\n",
      " [ 4.65850112e-41  6.54159422e-39  1.06289845e-38  9.43346581e-39\n",
      "   2.68481328e-39  1.53970109e-40]\n",
      " [ 3.40065895e-40  7.74575280e-39  1.16746166e-38  9.79043845e-39\n",
      "   2.77677625e-39  1.63952837e-40]\n",
      " [ 4.31135734e-40  8.08984063e-39  1.19230594e-38  9.86703726e-39\n",
      "   2.78263457e-39  1.64116253e-40]\n",
      " [ 3.43769204e-40  7.77757476e-39  1.16388646e-38  9.75328022e-39\n",
      "   2.76039521e-39  1.61476772e-40]\n",
      " [ 3.88096715e-41  6.99592058e-39  1.11576019e-38  9.59281255e-39\n",
      "   2.71756709e-39  1.57856981e-40]\n",
      " [ 4.20176824e-40  7.93420594e-39  1.17113504e-38  9.78909584e-39\n",
      "   2.76754092e-39  1.63612810e-40]\n",
      " [ 5.01229235e-40  8.46668857e-39  1.21444942e-38  9.91265954e-39\n",
      "   2.79293703e-39  1.68193640e-40]\n",
      " [ 7.07435478e-40  8.95792627e-39  1.23954799e-38  9.99672031e-39\n",
      "   2.81341122e-39  1.68647413e-40]\n",
      " [ 3.16063498e-40  7.48988500e-39  1.13545595e-38  9.66142359e-39\n",
      "   2.74824878e-39  1.60635818e-40]\n",
      " [ 5.16294198e-40  8.15491536e-39  1.17117130e-38  9.77476066e-39\n",
      "   2.76195106e-39  1.64674387e-40]\n",
      " [ 2.89673327e-40  7.26346813e-39  1.11958208e-38  9.61807514e-39\n",
      "   2.73701181e-39  1.60804801e-40]\n",
      " [ 7.42119759e-40  9.05575725e-39  1.25192712e-38  1.00779025e-38\n",
      "   2.83751251e-39  1.70922639e-40]\n",
      " [ 4.66099755e-40  7.87718734e-39  1.16542420e-38  9.79746964e-39\n",
      "   2.76897180e-39  1.62173162e-40]\n",
      " [ 6.58035183e-40  8.66355772e-39  1.21539947e-38  9.94174665e-39\n",
      "   2.81261385e-39  1.68114621e-40]\n",
      " [ 8.05071746e-40  9.00496985e-39  1.23371046e-38  9.99580712e-39\n",
      "   2.82263975e-39  1.70656581e-40]\n",
      " [ 6.61352226e-40  8.77656699e-39  1.22607473e-38  9.95015889e-39\n",
      "   2.81248489e-39  1.69088770e-40]\n",
      " [ 8.68079080e-40  9.45748632e-39  1.27465064e-38  1.01230531e-38\n",
      "   2.85955009e-39  1.75411542e-40]\n",
      " [ 6.89120161e-40  8.84659656e-39  1.23479630e-38  1.00145614e-38\n",
      "   2.82496004e-39  1.68836192e-40]\n",
      " [ 2.30314730e-40  7.29759684e-39  1.12835781e-38  9.66384561e-39\n",
      "   2.74556443e-39  1.60860930e-40]\n",
      " [ 6.37905819e-40  8.80212980e-39  1.23854434e-38  1.00058902e-38\n",
      "   2.82505253e-39  1.69165157e-40]\n",
      " [ 7.34848262e-40  9.01118672e-39  1.23991607e-38  1.00062895e-38\n",
      "   2.81478825e-39  1.67196166e-40]\n",
      " [ 4.65726041e-41  6.54623635e-39  1.07797622e-38  9.49275337e-39\n",
      "   2.69235778e-39  1.53451915e-40]\n",
      " [ 4.73278393e-40  8.32204356e-39  1.21125679e-38  9.92962618e-39\n",
      "   2.81458306e-39  1.69299078e-40]\n",
      " [ 1.93620896e-40  7.13195602e-39  1.11281425e-38  9.62134426e-39\n",
      "   2.72848533e-39  1.59485820e-40]\n",
      " [ 5.43983911e-40  8.19486472e-39  1.18915429e-38  9.85063138e-39\n",
      "   2.78301575e-39  1.63272532e-40]\n",
      " [ 1.19803900e-39  1.05694043e-38  1.34859357e-38  1.03651392e-38\n",
      "   2.90318956e-39  1.78731296e-40]\n",
      " [ 1.76847153e-40  7.01456947e-39  1.10507268e-38  9.54806628e-39\n",
      "   2.70640166e-39  1.55258268e-40]\n",
      " [ 7.82387016e-40  9.02852710e-39  1.23943237e-38  1.00264864e-38\n",
      "   2.82527833e-39  1.68702345e-40]\n",
      " [ 1.48940996e-40  7.03763476e-39  1.10116180e-38  9.55026457e-39\n",
      "   2.69102996e-39  1.53973514e-40]\n",
      " [ 1.40315774e-40  6.91157959e-39  1.09835806e-38  9.57372137e-39\n",
      "   2.72335459e-39  1.57385485e-40]\n",
      " [ 5.99484983e-40  8.56940766e-39  1.22085020e-38  9.93230314e-39\n",
      "   2.79927953e-39  1.66922015e-40]\n",
      " [ 7.72380250e-40  8.99518315e-39  1.23750894e-38  1.00008913e-38\n",
      "   2.80980408e-39  1.67877137e-40]\n",
      " [-1.72973102e-41  6.18982028e-39  1.04027825e-38  9.41138403e-39\n",
      "   2.68572809e-39  1.52232455e-40]\n",
      " [ 8.76201623e-40  9.42167875e-39  1.26980685e-38  1.01072919e-38\n",
      "   2.84641306e-39  1.71661272e-40]\n",
      " [ 8.05400824e-40  9.19221966e-39  1.24924174e-38  1.00451983e-38\n",
      "   2.82747677e-39  1.70601310e-40]\n",
      " [ 7.88215613e-40  9.17907942e-39  1.25389519e-38  1.00557190e-38\n",
      "   2.83569610e-39  1.70376412e-40]\n",
      " [ 4.12181260e-40  7.72028502e-39  1.14854355e-38  9.73654360e-39\n",
      "   2.76141905e-39  1.63005527e-40]]\n",
      "[2.54282267e-40 8.75382951e-40 6.04606569e-40 1.92993482e-40\n",
      " 4.68342904e-41 5.63303532e-42]\n"
     ]
    }
   ],
   "source": [
    "xsec_uni_bin = np.zeros((num_universes,binnum))\n",
    "for uni in range(num_universes):\n",
    "    for i in range(binnum):\n",
    "        xsec_uni_bin[uni][i] = h_data_mom.GetBinContent(i+1) - h_ext_mom.GetBinContent(i+1) - h_dirt_mom.GetBinContent(i+1) - h_1d_bkg[uni].GetBinContent(i+1)\n",
    "        xsec_uni_bin[uni][i] = xsec_uni_bin[uni][i]/(eff_tilde[i] * N_tot * beam_flux * h_data_mom.GetBinWidth(i+1))\n",
    "print xsec_uni_bin\n",
    "\n",
    "xsec_std_bin = np.std(xsec_uni_bin,axis=0)\n",
    "print xsec_std_bin\n",
    "np.save('/home/tmettler/Desktop/v08_00_00_33/V08_00_00_35/weighted/xsec_weighted/xsec_genie_all_change',xsec_std_bin)"
   ]
  },
  {
   "cell_type": "code",
   "execution_count": null,
   "metadata": {},
   "outputs": [],
   "source": []
  },
  {
   "cell_type": "code",
   "execution_count": null,
   "metadata": {},
   "outputs": [],
   "source": []
  },
  {
   "cell_type": "code",
   "execution_count": null,
   "metadata": {},
   "outputs": [],
   "source": []
  },
  {
   "cell_type": "code",
   "execution_count": null,
   "metadata": {},
   "outputs": [],
   "source": []
  },
  {
   "cell_type": "code",
   "execution_count": 15,
   "metadata": {},
   "outputs": [
    {
     "name": "stdout",
     "output_type": "stream",
     "text": [
      "Efficiency for cut:  fidVol && muon && TrackLength>8 && crt_tom_cut && TrackScore>0.8                && TrackLength>20 && TrackPID_chiproton>78 && NuScore>0.1\n",
      "Used weight:  EventWeight*TunedCentralValue_Genie\n",
      "\n",
      "Keep of     ext:\t11.24%\t reject:\t88.76%\n",
      "Keep of    dirt:\t18.73%\t reject:\t81.27%\n",
      "Keep of overlay:\t56.53%\t reject:\t43.47%\n",
      "\n",
      "Efficiency:\t\t50.85%\n",
      "Purity:\t\t\t71.77%\n",
      "Purity*Efficiency\t36.49\n",
      "\n",
      "Amount of     ext:\t10.67%\n",
      "Amount of    dirt:\t2.47%\n",
      "Amount of overlay:\t86.87%\n",
      "\n",
      "Signal definition=  numu_lowpur: 2.67%\n",
      "Signal definition=   numu_other: 0.77%\n",
      "Signal definition=    numu_nomu: 2.69%\n",
      "Signal definition=      numu_ov: 5.60%\n",
      "Signal definition=  numu_signal: 71.77%\n",
      "Signal definition=      numu_nc: 3.36%\n"
     ]
    },
    {
     "name": "stderr",
     "output_type": "stream",
     "text": [
      "Warning in <TROOT::Append>: Replacing existing TH1: h_weight_func (Potential memory leak).\n",
      "Warning in <TROOT::Append>: Replacing existing TH1: h_weight_func (Potential memory leak).\n"
     ]
    }
   ],
   "source": [
    "cut = 'fidVol && muon && TrackLength>8 && crt_tom_cut && TrackScore>0.8\\\n",
    "                && TrackLength>20 && TrackPID_chiproton>78 && NuScore>0.1'\n",
    "eff , pur = NuCC_w.printEff_w(cut)"
   ]
  },
  {
   "cell_type": "code",
   "execution_count": 16,
   "metadata": {},
   "outputs": [
    {
     "name": "stdout",
     "output_type": "stream",
     "text": [
      "Number of data: 1446\n",
      "Number of ext: 157.945431219\n",
      "Number of dirt: 36.520081854\n",
      "Number of overlay: 234.655385197\n",
      "Number of overlay signal: 1062.20781359\n",
      "Total integrated cross section: 7.6770041506e-39\n",
      "Total integrated cross section for MC: 8.01921662059e-39\n"
     ]
    }
   ],
   "source": [
    "# calculate total flux integrated cross section:\n",
    "cut = 'fidVol && muon && TrackLength>8 && crt_tom_cut && TrackScore>0.8\\\n",
    "                && TrackLength>20 && TrackPID_chiproton>78 && NuScore>0.1'\n",
    "N_data = data_out.GetEntries(cut)\n",
    "N_ext  = ext_out.GetEntries(cut)*scale_out[ext_out]\n",
    "N_dirt = dirt_out.GetEntries(cut)*scale_out[dirt_out]\n",
    "N_overlay = overlay_out.GetEntries(cut+'&& !numu_signal')*scale_out[overlay_out]\n",
    "N_signal = overlay_out.GetEntries(cut+'&& numu_signal')*scale_out[overlay_out]\n",
    "\n",
    "h_weight_func = ROOT.TH1F(\"h_weight_func\",'h_weight_func',1000,0,100)\n",
    "globale.overlay_out.Draw(weight_name+'>>h_weight_func',cut+' && 1','0')\n",
    "dirt_pass_weight = h_weight_func.GetMean() \n",
    "globale.overlay_out.Draw(weight_name+'>>h_weight_func',cut+' && numu_signal','0') # weights for signal definition\n",
    "overlay_signal = h_weight_func.GetMean()\n",
    "globale.overlay_out.Draw(weight_name+'>>h_weight_func',cut+' && 1','0') # weights for signal definition\n",
    "overlay_pass_weight = h_weight_func.GetMean()\n",
    "\n",
    "N_dirt = N_dirt*dirt_pass_weight\n",
    "N_overlay = N_overlay*overlay_pass_weight\n",
    "N_signal = N_signal*overlay_signal\n",
    "\n",
    "sigma_tot = (N_data- (N_ext+N_dirt+N_overlay))/(eff/100.0*beam_flux*N_tot)\n",
    "print 'Number of data:', N_data\n",
    "print 'Number of ext:', N_ext\n",
    "print 'Number of dirt:', N_dirt\n",
    "print 'Number of overlay:', N_overlay\n",
    "print 'Number of overlay signal:', N_signal\n",
    "\n",
    "print 'Total integrated cross section:', sigma_tot\n",
    "\n",
    "sigma_tot_MC = (N_signal)/(eff/100.0*beam_flux*N_tot)\n",
    "print 'Total integrated cross section for MC:', sigma_tot_MC"
   ]
  },
  {
   "cell_type": "code",
   "execution_count": 14,
   "metadata": {},
   "outputs": [],
   "source": [
    "from array import array\n",
    "\n",
    "mom_bins = [ 0.00, 0.18, 0.30, 0.45, 0.77, 1.28, 2.50 ]\n",
    "binnum = len(mom_bins) - 1\n",
    "h_xsec_mom = ROOT.TH1F('h_xsec_mom','h_xsec_mom',binnum,array('f',mom_bins))"
   ]
  },
  {
   "cell_type": "code",
   "execution_count": 33,
   "metadata": {},
   "outputs": [
    {
     "name": "stdout",
     "output_type": "stream",
     "text": [
      "0.120000004768\n"
     ]
    }
   ],
   "source": [
    "print h_xsec_mom.GetBinWidth(2)"
   ]
  },
  {
   "cell_type": "code",
   "execution_count": 74,
   "metadata": {},
   "outputs": [
    {
     "name": "stderr",
     "output_type": "stream",
     "text": [
      "Warning in <TROOT::Append>: Replacing existing TH1: h_init_eff_energy (Potential memory leak).\n",
      "Warning in <TROOT::Append>: Replacing existing TH1: h_init_eff_energy_1 (Potential memory leak).\n",
      "Info in <TEfficiency::TEfficiency>: given histograms are filled with weights\n",
      "Info in <TROOT::TEfficiency::SetUseWeightedEvents>: Histograms are filled with weights\n",
      "Warning in <TEfficiency::GetEfficiencyErrorLow>: frequentist confidence intervals for weights are only supported by the normal approximation\n",
      "Info in <TEfficiency::GetEfficiencyErrorLow>: setting statistic option to kFNormal\n",
      "Info in <TCanvas::Print>: png file /home/tmettler/Desktop/v08_00_00_33/V08_00_00_35/weighted/xsec_weighted//png/h_eff_trueMom.png has been created\n",
      "Info in <TCanvas::SaveAs>: ROOT file /home/tmettler/Desktop/v08_00_00_33/V08_00_00_35/weighted/xsec_weighted//root/h_eff_trueMom.root has been created\n"
     ]
    },
    {
     "data": {
      "image/png": "[encoded data removed]",
      "text/plain": [
       "<IPython.core.display.Image object>"
      ]
     },
     "metadata": {},
     "output_type": "display_data"
    }
   ],
   "source": [
    "xstart = 0\n",
    "xend = 2\n",
    "xbin = 100\n",
    "weight_name = 'EventWeight*TunedCentralValue_Genie'\n",
    "title = 'true moum momentum efficiency'\n",
    "nenner_cut = 'numu_true'\n",
    "zahler_cut = 'fidVol && muon && crt_tom_cut && TrackScore>0.8\\\n",
    "                && TrackLength>20 && TrackPID_chiproton>78 && NuScore>0.1 && numu_signal'\n",
    "h_init_eff_energy = ROOT.TH1F(\"h_init_eff_energy\",title,binnum,array('f',mom_bins))\n",
    "h_init_eff_energy_1 = ROOT.TH1F(\"h_init_eff_energy_1\",title,binnum,array('f',mom_bins))\n",
    "#h_init_eff_energy = fill_histo(globale.overlay_out,'MCNu_Energy',h_init_eff_energy,zahler_cut)\n",
    "#h_init_eff_energy_1 = fill_histo(globale.overlay_out,'MCNu_Energy',h_init_eff_energy_1,nenner_cut)\n",
    "globale.overlay_out.Draw('MCle_Energy>>h_init_eff_energy',weight_name+'*('+zahler_cut+')')\n",
    "globale.overlay_out.Draw('MCle_Energy>>h_init_eff_energy_1',weight_name+'*('+nenner_cut+')')\n",
    "eff =  ROOT.TEfficiency(h_init_eff_energy,h_init_eff_energy_1)\n",
    "eff.SetStatisticOption(ROOT.TEfficiency.kFCP)#;  // to set option for errors (see ref doc)\n",
    "eff.SetConfidenceLevel(0.68)\n",
    "eff.SetTitle(title)\n",
    "eff.Draw(\"AP\")\n",
    "ROOT.gPad.Update()\n",
    "graph = eff.GetPaintedGraph()\n",
    "graph.SetMinimum(0)\n",
    "graph.SetMaximum(1)\n",
    "graph.SetLineWidth(2)\n",
    "graph.GetXaxis().SetTitle(\"Truth muon momentum [GeV]\")\n",
    "graph.GetYaxis().SetTitle(\"Signal efficiency\")\n",
    "graph.Draw(\"AP\")\n",
    "c1.Draw()\n",
    "c1.SaveAs(globale.outputdir_png + \"h_eff_trueMom.png\")\n",
    "c1.SaveAs(globale.outputdir_root + \"h_eff_trueMom.root\")"
   ]
  },
  {
   "cell_type": "code",
   "execution_count": 93,
   "metadata": {},
   "outputs": [
    {
     "name": "stderr",
     "output_type": "stream",
     "text": [
      "Warning in <TROOT::Append>: Replacing existing TH1: h_migration (Potential memory leak).\n",
      "Info in <TCanvas::SaveAs>: ROOT file /home/tmettler/Desktop/v08_00_00_33/V08_00_00_35/weighted/xsec_weighted//root/h2_true_MCS.root has been created\n",
      "Info in <TCanvas::Print>: png file /home/tmettler/Desktop/v08_00_00_33/V08_00_00_35/weighted/xsec_weighted//png/h2_true_MCS.png has been created\n"
     ]
    },
    {
     "data": {
      "image/png": "[encoded data removed]",
      "text/plain": [
       "<IPython.core.display.Image object>"
      ]
     },
     "metadata": {},
     "output_type": "display_data"
    }
   ],
   "source": [
    "h_migration = ROOT.TH2F(\"h_migration\",'Truth vs. Reco',200,0,2.5,200,0,2.5)\n",
    "globale.overlay_out.Draw('MCle_Energy:TrackMomMCS_mom'+'>>h_migration',weight_name+'*('+cut+'&& numu_true)','')\n",
    "h_migration.SetXTitle(\"reco Muon momentum MCS [GeV]\")\n",
    "h_migration.SetYTitle(\"true Muon momentum [GeV]\")\n",
    "h_migration.Draw(\"colz\")\n",
    "#h_migration.Draw(\"same text\")\n",
    "c1.Draw()\n",
    "c1.SaveAs(globale.outputdir_root + \"h2_true_MCS.root\")\n",
    "c1.SaveAs(globale.outputdir_png + \"h2_true_MCS.png\")\n"
   ]
  },
  {
   "cell_type": "code",
   "execution_count": 92,
   "metadata": {},
   "outputs": [
    {
     "name": "stderr",
     "output_type": "stream",
     "text": [
      "Warning in <TROOT::Append>: Replacing existing TH1: h_migration (Potential memory leak).\n",
      "Info in <TCanvas::SaveAs>: ROOT file /home/tmettler/Desktop/v08_00_00_33/V08_00_00_35/weighted/xsec_weighted//root/h2_true_MCS_bin.root has been created\n",
      "Info in <TCanvas::Print>: png file /home/tmettler/Desktop/v08_00_00_33/V08_00_00_35/weighted/xsec_weighted//png/h2_true_MCS_bin.png has been created\n"
     ]
    },
    {
     "data": {
      "image/png": "[encoded data removed]",
      "text/plain": [
       "<IPython.core.display.Image object>"
      ]
     },
     "metadata": {},
     "output_type": "display_data"
    }
   ],
   "source": [
    "h_migration = ROOT.TH2F(\"h_migration\",'Truth vs. Reco',binnum,array('f',mom_bins),binnum,array('f',mom_bins))\n",
    "globale.overlay_out.Draw('MCle_Energy:TrackMomMCS_mom'+'>>h_migration',weight_name+'*('+cut+'&& numu_true)','')\n",
    "h_migration.SetXTitle(\"reco Muon momentum MCS [GeV]\")\n",
    "h_migration.SetYTitle(\"true Muon momentum [GeV]\")\n",
    "h_migration.Draw(\"colz\")\n",
    "h_migration.Draw(\"same text\")\n",
    "c1.Draw()\n",
    "c1.SaveAs(globale.outputdir_root + \"h2_true_MCS_bin.root\")\n",
    "c1.SaveAs(globale.outputdir_png + \"h2_true_MCS_bin.png\")\n"
   ]
  },
  {
   "cell_type": "code",
   "execution_count": 40,
   "metadata": {},
   "outputs": [
    {
     "data": {
      "text/plain": [
       "\"fig = plt.figure(figsize=(6, 3.2))\\nax = fig.add_subplot(111)\\nax.set_title('colorMap')\\nplt.imshow(mitigation_matrix)\\nax.set_aspect('equal')\\ncax = fig.add_axes([0.12, 0.1, 0.78, 0.8])\\ncax.get_xaxis().set_visible(False)\\ncax.get_yaxis().set_visible(False)\\ncax.patch.set_alpha(0)\\ncax.set_frame_on(False)\\nplt.colorbar(orientation='vertical')\\nplt.show() \""
      ]
     },
     "execution_count": 40,
     "metadata": {},
     "output_type": "execute_result"
    }
   ],
   "source": [
    "'''fig = plt.figure(figsize=(6, 3.2))\n",
    "ax = fig.add_subplot(111)\n",
    "ax.set_title('colorMap')\n",
    "plt.imshow(mitigation_matrix)\n",
    "ax.set_aspect('equal')\n",
    "cax = fig.add_axes([0.12, 0.1, 0.78, 0.8])\n",
    "cax.get_xaxis().set_visible(False)\n",
    "cax.get_yaxis().set_visible(False)\n",
    "cax.patch.set_alpha(0)\n",
    "cax.set_frame_on(False)\n",
    "plt.colorbar(orientation='vertical')\n",
    "plt.show() '''"
   ]
  },
  {
   "cell_type": "code",
   "execution_count": 91,
   "metadata": {},
   "outputs": [
    {
     "name": "stdout",
     "output_type": "stream",
     "text": [
      "[[2.35331734e-01 7.39651394e-02 5.90166490e-03 2.28048329e-03\n",
      "  1.64197566e-03 9.61834500e-04]\n",
      " [3.68381909e-01 6.06929809e-01 1.38299364e-01 1.46860659e-02\n",
      "  8.55646460e-03 7.79045188e-03]\n",
      " [2.05390622e-01 2.28453947e-01 6.48070499e-01 1.28383802e-01\n",
      "  2.72652240e-02 2.24845114e-02]\n",
      " [1.37723271e-01 6.77669649e-02 1.79860240e-01 7.23563591e-01\n",
      "  2.23001563e-01 9.74918817e-02]\n",
      " [4.14578560e-02 1.88708387e-02 2.21147090e-02 1.18147389e-01\n",
      "  6.62296203e-01 3.77160707e-01]\n",
      " [1.03513500e-02 3.64198391e-03 4.80059427e-03 1.17100348e-02\n",
      "  7.45879002e-02 4.82261327e-01]\n",
      " [1.36325838e-03 3.71317233e-04 9.52928659e-04 1.22863414e-03\n",
      "  2.65066991e-03 1.18492867e-02]]\n"
     ]
    },
    {
     "name": "stderr",
     "output_type": "stream",
     "text": [
      "Warning in <TROOT::Append>: Replacing existing TH1: h_migration (Potential memory leak).\n",
      "Info in <TCanvas::Print>: png file /home/tmettler/Desktop/v08_00_00_33/V08_00_00_35/weighted/xsec_weighted//png/h_mitigation_matrix.png has been created\n",
      "Info in <TCanvas::SaveAs>: ROOT file /home/tmettler/Desktop/v08_00_00_33/V08_00_00_35/weighted/xsec_weighted//root/h_mitigation_matrix.root has been created\n"
     ]
    },
    {
     "data": {
      "image/png": "[encoded data removed]",
      "text/plain": [
       "<IPython.core.display.Image object>"
      ]
     },
     "metadata": {},
     "output_type": "display_data"
    }
   ],
   "source": [
    "reco_entries = [0.0, 0.0, 0.0, 0.0, 0.0, 0.0]\n",
    "mitigation_matrix = np.zeros((7,6))\n",
    "for j in range(1,binnum+1):\n",
    "    for i in range(1,binnum+2):\n",
    "        #print 'bin i,j: ', i,j,'Value: ',h_migration.GetBinContent(i,j)\n",
    "        reco_entries[j-1]+=h_migration.GetBinContent(i,j)\n",
    "h_mitigation_matrix = ROOT.TH2F(\"h_migration\",'Migration matrix',7,0,7,6,0,6)\n",
    "for j in range(1,binnum+1):\n",
    "    for i in range(1,binnum+2):\n",
    "        #print 'bin i,j: ', i,j,'Value: ',h_migration.GetBinContent(i,j)\n",
    "        mitigation_matrix[i-1,j-1]= h_migration.GetBinContent(i,j)/reco_entries[j-1]\n",
    "        h_mitigation_matrix.SetBinContent(i,j,mitigation_matrix[i-1,j-1])\n",
    "        #print i-1,j-1,mitigation_matrix[i-1,j-1]\n",
    "        #true_entries[j]+=h_migration.GetBinContent(i,j)\n",
    "print mitigation_matrix\n",
    "h_mitigation_matrix.SetXTitle(\"Reco bin i, 7=overflow\")\n",
    "h_mitigation_matrix.SetYTitle(\"True bin j\")\n",
    "h_mitigation_matrix.Draw('colz')\n",
    "h_mitigation_matrix.Draw('same text')\n",
    "\n",
    "c1.Draw()\n",
    "c1.SaveAs(globale.outputdir_png + \"h_mitigation_matrix.png\")\n",
    "c1.SaveAs(globale.outputdir_root + \"h_mitigation_matrix.root\")"
   ]
  },
  {
   "cell_type": "code",
   "execution_count": 58,
   "metadata": {},
   "outputs": [
    {
     "data": {
      "text/plain": [
       "246811L"
      ]
     },
     "execution_count": 58,
     "metadata": {},
     "output_type": "execute_result"
    },
    {
     "name": "stderr",
     "output_type": "stream",
     "text": [
      "Warning in <TROOT::Append>: Replacing existing TH1: h_init_eff_energy (Potential memory leak).\n",
      "Warning in <TROOT::Append>: Replacing existing TH1: h_init_eff_energy_1 (Potential memory leak).\n"
     ]
    }
   ],
   "source": [
    "# Nselected and N generated\n",
    "title = 'MCS momentum efficiency'\n",
    "weight_name = 'EventWeight*TunedCentralValue_Genie'\n",
    "nenner_cut = 'numu_true'\n",
    "zahler_cut = 'fidVol && muon && crt_tom_cut && TrackScore>0.8\\\n",
    "                && TrackLength>20 && TrackPID_chiproton>78 && NuScore>0.1 && numu_signal'\n",
    "h_init_eff_energy = ROOT.TH1F(\"h_init_eff_energy\",title,binnum,array('f',mom_bins))\n",
    "h_init_eff_energy_1 = ROOT.TH1F(\"h_init_eff_energy_1\",title,binnum,array('f',mom_bins))\n",
    "globale.overlay_out.Draw('MCle_Energy>>h_init_eff_energy',weight_name+'*('+zahler_cut+')')\n",
    "globale.overlay_out.Draw('MCle_Energy>>h_init_eff_energy_1',weight_name+'*('+nenner_cut+')')"
   ]
  },
  {
   "cell_type": "code",
   "execution_count": 69,
   "metadata": {},
   "outputs": [
    {
     "name": "stdout",
     "output_type": "stream",
     "text": [
      "1905.869873046875 23917.890625 0.07968386104478538\n",
      "15356.623046875 39873.6328125 0.3851322782422987\n",
      "27082.982421875 56265.5625 0.4813420717490383\n",
      "49319.73828125 89653.0390625 0.5501178632312468\n",
      "42409.984375 66761.640625 0.635244789941829\n",
      "13811.6064453125 20789.4296875 0.6643571590430383\n",
      "[0.20982139 0.34924993 0.45501729 0.53793668 0.61080753 0.63447142\n",
      " 0.58437668]\n"
     ]
    }
   ],
   "source": [
    "# e tilde\n",
    "N_sel = np.zeros((6))\n",
    "N_gen = np.zeros((6))\n",
    "for i in range(1,binnum+1):\n",
    "    N_sel[i-1] = h_init_eff_energy.GetBinContent(i)\n",
    "    N_gen[i-1] = h_init_eff_energy_1.GetBinContent(i)\n",
    "    print N_sel[i-1],N_gen[i-1],N_sel[i-1]/N_gen[i-1]\n",
    "eff_tilde = np.zeros((6))\n",
    "eff_tilde = mitigation_matrix.dot(N_sel)/(mitigation_matrix.dot(N_gen))\n",
    "print eff_tilde"
   ]
  },
  {
   "cell_type": "code",
   "execution_count": 119,
   "metadata": {},
   "outputs": [
    {
     "name": "stderr",
     "output_type": "stream",
     "text": [
      "Warning in <TROOT::Append>: Replacing existing TH1: h_eff_tilde (Potential memory leak).\n",
      "Info in <TCanvas::Print>: png file /home/tmettler/Desktop/v08_00_00_33/V08_00_00_35/weighted/xsec_weighted//png/h_eff_tilde_xsecMom.png has been created\n",
      "Info in <TCanvas::SaveAs>: ROOT file /home/tmettler/Desktop/v08_00_00_33/V08_00_00_35/weighted/xsec_weighted//root/h_eff_tilde_xsecMom.root has been created\n"
     ]
    },
    {
     "data": {
      "image/png": "[encoded data removed]",
      "text/plain": [
       "<IPython.core.display.Image object>"
      ]
     },
     "metadata": {},
     "output_type": "display_data"
    }
   ],
   "source": [
    "h_eff_tilde = ROOT.TH1F(\"h_eff_tilde\",'Efficiency tilde',binnum,array('f',mom_bins))\n",
    "for i in range(1,binnum+1):\n",
    "    h_eff_tilde.SetBinContent(i,eff_tilde[i-1])\n",
    "    h_eff_tilde.SetBinError(i,0)\n",
    "h_eff_tilde.SetMaximum(1)\n",
    "h_eff_tilde.SetMinimum(0)\n",
    "h_eff_tilde.Draw('E1')\n",
    "c1.Draw()\n",
    "c1.SaveAs(globale.outputdir_png + \"h_eff_tilde_xsecMom.png\")\n",
    "c1.SaveAs(globale.outputdir_root + \"h_eff_tilde_xsecMom.root\")"
   ]
  },
  {
   "cell_type": "code",
   "execution_count": 108,
   "metadata": {},
   "outputs": [
    {
     "name": "stdout",
     "output_type": "stream",
     "text": [
      "0.458062646507\n",
      "0.0\n"
     ]
    }
   ],
   "source": [
    "error = h_eff_tilde.GetBinError(1)\n",
    "print error\n",
    "h_eff_tilde.SetBinError(1,0)\n",
    "error = h_eff_tilde.GetBinError(1)\n",
    "print error"
   ]
  },
  {
   "cell_type": "code",
   "execution_count": 36,
   "metadata": {},
   "outputs": [
    {
     "data": {
      "text/plain": [
       "487471L"
      ]
     },
     "execution_count": 36,
     "metadata": {},
     "output_type": "execute_result"
    },
    {
     "name": "stderr",
     "output_type": "stream",
     "text": [
      "Warning in <TROOT::Append>: Replacing existing TH1: h_weight_func (Potential memory leak).\n",
      "Warning in <TROOT::Append>: Replacing existing TH1: h_weight_func_n (Potential memory leak).\n"
     ]
    }
   ],
   "source": [
    "'''weight_name = 'EventWeight*TunedCentralValue_Genie'\n",
    "variable = 'TrackMomMCS_mom'\n",
    "#variable = 'MCTrackMomentum'\n",
    "cut = 'fidVol && muon && TrackLength>8 && crt_tom_cut && TrackScore>0.8\\\n",
    "                && TrackLength>20 && TrackPID_chiproton>78 && NuScore>0.1'\n",
    "\n",
    "h_weight_func = ROOT.TH1F(\"h_weight_func\",'h_weight_func',binnum,array('f',mom_bins))\n",
    "h_weight_func_n = ROOT.TH1F(\"h_weight_func_n\",'h_weight_func',binnum,array('f',mom_bins))\n",
    "\n",
    "globale.overlay_out.Draw(variable+'>>h_weight_func',weight_name+'*('+cut+'&& numu_signal)','')\n",
    "globale.overlay_out.Draw(variable+'>>h_weight_func_n',weight_name+'*(numu_true)','')\n",
    "'''\n"
   ]
  },
  {
   "cell_type": "code",
   "execution_count": 80,
   "metadata": {},
   "outputs": [
    {
     "data": {
      "text/plain": [
       "'h_weight_func.Divide(h_weight_func_n)\\nh_weight_func.Draw()\\nc1.Draw()\\nc1.SaveAs(globale.outputdir_png + \"h_eff_xsecMom.png\")\\nc1.SaveAs(globale.outputdir_root + \"h_eff_xsecMom.root\")'"
      ]
     },
     "execution_count": 80,
     "metadata": {},
     "output_type": "execute_result"
    }
   ],
   "source": [
    "'''h_weight_func.Divide(h_weight_func_n)\n",
    "h_weight_func.Draw()\n",
    "c1.Draw()\n",
    "c1.SaveAs(globale.outputdir_png + \"h_eff_xsecMom.png\")\n",
    "c1.SaveAs(globale.outputdir_root + \"h_eff_xsecMom.root\")'''"
   ]
  },
  {
   "cell_type": "code",
   "execution_count": 110,
   "metadata": {},
   "outputs": [
    {
     "data": {
      "text/plain": [
       "28748L"
      ]
     },
     "execution_count": 110,
     "metadata": {},
     "output_type": "execute_result"
    },
    {
     "name": "stderr",
     "output_type": "stream",
     "text": [
      "Warning in <TROOT::Append>: Replacing existing TH1: h_data (Potential memory leak).\n",
      "Warning in <TROOT::Append>: Replacing existing TH1: h_ext (Potential memory leak).\n",
      "Warning in <TROOT::Append>: Replacing existing TH1: h_dirt (Potential memory leak).\n",
      "Warning in <TROOT::Append>: Replacing existing TH1: h_overlay (Potential memory leak).\n"
     ]
    }
   ],
   "source": [
    "weight_name = 'EventWeight*TunedCentralValue_Genie'\n",
    "variable = 'TrackMomMCS_mom'\n",
    "cut = 'fidVol && muon && TrackLength>8 && crt_tom_cut && TrackScore>0.8\\\n",
    "                && TrackLength>20 && TrackPID_chiproton>78 && NuScore>0.1'\n",
    "\n",
    "h_data = ROOT.TH1F(\"h_data\",'h_data',binnum,array('f',mom_bins))\n",
    "h_ext = ROOT.TH1F(\"h_ext\",'h_ext',binnum,array('f',mom_bins))\n",
    "h_dirt = ROOT.TH1F(\"h_dirt\",'h_dirt',binnum,array('f',mom_bins))\n",
    "h_overlay = ROOT.TH1F(\"h_overlay\",'h_overlay',binnum,array('f',mom_bins))\n",
    "#h_weight_func_n = ROOT.TH1F(\"h_weight_func_n\",'h_weight_func',binnum,array('f',mom_bins))\n",
    "\n",
    "globale.data_out.Draw(variable+'>>h_data',cut,'')\n",
    "globale.ext_out.Draw(variable+'>>h_ext',cut,'')\n",
    "globale.dirt_out.Draw(variable+'>>h_dirt',weight_name+'*('+cut+')','')\n",
    "globale.overlay_out.Draw(variable+'>>h_overlay',weight_name+'*('+cut+'&& !numu_signal)','')"
   ]
  },
  {
   "cell_type": "code",
   "execution_count": 111,
   "metadata": {},
   "outputs": [
    {
     "name": "stderr",
     "output_type": "stream",
     "text": [
      "Warning in <TH1F::Sumw2>: Sum of squares of weights structure already created\n",
      "Warning in <TH1F::Sumw2>: Sum of squares of weights structure already created\n"
     ]
    }
   ],
   "source": [
    "h_data.Sumw2()\n",
    "h_ext.Sumw2()\n",
    "h_dirt.Sumw2()\n",
    "h_overlay.Sumw2()\n",
    "h_data.Scale(globale.scale[globale.data])\n",
    "h_ext.Scale(globale.scale[globale.ext])\n",
    "h_dirt.Scale(globale.scale[globale.dirt])\n",
    "h_overlay.Scale(globale.scale[globale.overlay])"
   ]
  },
  {
   "cell_type": "code",
   "execution_count": 112,
   "metadata": {},
   "outputs": [
    {
     "name": "stdout",
     "output_type": "stream",
     "text": [
      "222.55488205\n",
      "1026.50356007\n"
     ]
    }
   ],
   "source": [
    "print h_overlay.GetSumOfWeights()\n",
    "h_data.Add(h_ext,-1)\n",
    "h_data.Add(h_dirt,-1)\n",
    "h_data.Add(h_overlay,-1)\n",
    "print h_data.GetSumOfWeights()"
   ]
  },
  {
   "cell_type": "code",
   "execution_count": 113,
   "metadata": {},
   "outputs": [],
   "source": [
    "h_data.Divide(h_eff_tilde)\n",
    "h_data.Scale(1.0/(N_tot*beam_flux))"
   ]
  },
  {
   "cell_type": "code",
   "execution_count": 114,
   "metadata": {},
   "outputs": [
    {
     "name": "stderr",
     "output_type": "stream",
     "text": [
      "Warning in <TROOT::Append>: Replacing existing TH1: h_overlay_sig (Potential memory leak).\n"
     ]
    }
   ],
   "source": [
    "h_overlay_sig = ROOT.TH1F(\"h_overlay_sig\",'h_overlay',binnum,array('f',mom_bins))\n",
    "globale.overlay_out.Draw(variable+'>>h_overlay_sig',weight_name+'*('+cut+'&& numu_signal)','')\n",
    "h_overlay_sig.Scale(globale.scale[globale.overlay])\n",
    "h_overlay_sig.Divide(h_eff_tilde)\n",
    "h_overlay_sig.Scale(1.0/(N_tot*beam_flux))"
   ]
  },
  {
   "cell_type": "code",
   "execution_count": 115,
   "metadata": {},
   "outputs": [
    {
     "name": "stderr",
     "output_type": "stream",
     "text": [
      "Info in <TCanvas::Print>: png file /home/tmettler/Desktop/v08_00_00_33/V08_00_00_35/weighted/xsec_weighted//png/h_xsec_uncorr.png has been created\n",
      "Info in <TCanvas::SaveAs>: ROOT file /home/tmettler/Desktop/v08_00_00_33/V08_00_00_35/weighted/xsec_weighted//root/h_xsec_uncorr.root has been created\n"
     ]
    },
    {
     "data": {
      "image/png": "[encoded data removed]",
      "text/plain": [
       "<IPython.core.display.Image object>"
      ]
     },
     "metadata": {},
     "output_type": "display_data"
    }
   ],
   "source": [
    "legend = ROOT.TLegend(0.6,0.65,0.9,0.9)\n",
    "h_overlay_sig.SetLineColor(2)\n",
    "legend.AddEntry(h_data,'data',\"lep\");\n",
    "legend.AddEntry(h_overlay_sig,'MC',\"f\");\n",
    "h_data.SetYTitle(\"d\\sigma / dp \\quad [cm^2/GeV]\")\n",
    "h_data.SetXTitle(\"p_{\\mu} \\quad [GeV]\")\n",
    "h_data.Draw('E1')\n",
    "h_overlay_sig.Draw('hist same')\n",
    "legend.Draw()\n",
    "c1.Draw()\n",
    "c1.SaveAs(globale.outputdir_png + \"h_xsec_uncorr.png\")\n",
    "c1.SaveAs(globale.outputdir_root + \"h_xsec_uncorr.root\")"
   ]
  },
  {
   "cell_type": "code",
   "execution_count": 116,
   "metadata": {},
   "outputs": [],
   "source": [
    "for i in range(1,binnum+1):\n",
    "    h_data.SetBinContent(i,h_data.GetBinContent(i)/h_data.GetBinWidth(i))\n",
    "    h_overlay_sig.SetBinContent(i,h_overlay_sig.GetBinContent(i)/h_overlay_sig.GetBinWidth(i))"
   ]
  },
  {
   "cell_type": "code",
   "execution_count": 117,
   "metadata": {},
   "outputs": [
    {
     "name": "stderr",
     "output_type": "stream",
     "text": [
      "Info in <TCanvas::Print>: png file /home/tmettler/Desktop/v08_00_00_33/V08_00_00_35/weighted/xsec_weighted//png/h_xsec_corr.png has been created\n",
      "Info in <TCanvas::SaveAs>: ROOT file /home/tmettler/Desktop/v08_00_00_33/V08_00_00_35/weighted/xsec_weighted//root/h_xsec_corr.root has been created\n"
     ]
    },
    {
     "data": {
      "image/png": "[encoded data removed]",
      "text/plain": [
       "<IPython.core.display.Image object>"
      ]
     },
     "metadata": {},
     "output_type": "display_data"
    }
   ],
   "source": [
    "legend = ROOT.TLegend(0.6,0.65,0.9,0.9)\n",
    "h_overlay_sig.SetLineColor(2)\n",
    "legend.AddEntry(h_data,'data',\"lep\");\n",
    "legend.AddEntry(h_overlay_sig,'MC',\"f\");\n",
    "h_data.SetYTitle(\"d\\sigma / dp \\quad [cm^2/GeV]\")\n",
    "h_data.SetXTitle(\"p_{\\mu} \\quad [GeV]\")\n",
    "h_data.Draw('E1')\n",
    "h_overlay_sig.Draw('hist same')\n",
    "legend.Draw()\n",
    "c1.Draw()\n",
    "c1.SaveAs(globale.outputdir_png + \"h_xsec_corr.png\")\n",
    "c1.SaveAs(globale.outputdir_root + \"h_xsec_corr.root\")"
   ]
  },
  {
   "cell_type": "code",
   "execution_count": null,
   "metadata": {},
   "outputs": [],
   "source": []
  },
  {
   "cell_type": "code",
   "execution_count": null,
   "metadata": {},
   "outputs": [],
   "source": []
  },
  {
   "cell_type": "code",
   "execution_count": null,
   "metadata": {},
   "outputs": [],
   "source": []
  },
  {
   "cell_type": "code",
   "execution_count": null,
   "metadata": {},
   "outputs": [],
   "source": []
  },
  {
   "cell_type": "code",
   "execution_count": null,
   "metadata": {},
   "outputs": [],
   "source": []
  },
  {
   "cell_type": "code",
   "execution_count": 14,
   "metadata": {},
   "outputs": [
    {
     "name": "stdout",
     "output_type": "stream",
     "text": [
      "Normalization (data)/(mc +ext) =  1.05822931456\n",
      "10.0940039158\n",
      "Normalization (data)/(mc +ext) =  1.05834884769\n",
      "21.3665688038\n",
      "Normalization (data)/(mc +ext) =  1.1054075984\n",
      "31.2092118263\n",
      "Normalization (data)/(mc +ext) =  1.05823005039\n",
      "39.7828588486\n",
      "Normalization (data)/(mc +ext) =  1.0582298773\n",
      "48.5839939117\n",
      "Normalization (data)/(mc +ext) =  1.05822990739\n",
      "57.0246818066\n"
     ]
    },
    {
     "name": "stderr",
     "output_type": "stream",
     "text": [
      "Info in <TCanvas::MakeDefCanvas>:  created default TCanvas with name c1\n",
      "Warning in <TH1F::Sumw2>: Sum of squares of weights structure already created\n",
      "Warning in <TCanvas::Constructor>: Deleting canvas with same name: c1\n",
      "Info in <TCanvas::Print>: png file /home/tmettler/Desktop/v08_00_00_33/V08_00_00_35/weighted/muon_cut_weighted//png/costhetaw_initial.png has been created\n",
      "Info in <TCanvas::SaveAs>: ROOT file /home/tmettler/Desktop/v08_00_00_33/V08_00_00_35/weighted/muon_cut_weighted//root/costhetaw_initial.root has been created\n",
      "Warning in <TH1F::Sumw2>: Sum of squares of weights structure already created\n",
      "Warning in <TCanvas::Constructor>: Deleting canvas with same name: c1\n",
      "Info in <TCanvas::Print>: png file /home/tmettler/Desktop/v08_00_00_33/V08_00_00_35/weighted/muon_cut_weighted//png/phi_initial.png has been created\n",
      "Info in <TCanvas::SaveAs>: ROOT file /home/tmettler/Desktop/v08_00_00_33/V08_00_00_35/weighted/muon_cut_weighted//root/phi_initial.root has been created\n",
      "Warning in <TH1F::Sumw2>: Sum of squares of weights structure already created\n",
      "Warning in <TCanvas::Constructor>: Deleting canvas with same name: c1\n",
      "Info in <TCanvas::Print>: png file /home/tmettler/Desktop/v08_00_00_33/V08_00_00_35/weighted/muon_cut_weighted//png/TrackMomMCS_mom_initial.png has been created\n",
      "Info in <TCanvas::SaveAs>: ROOT file /home/tmettler/Desktop/v08_00_00_33/V08_00_00_35/weighted/muon_cut_weighted//root/TrackMomMCS_mom_initial.root has been created\n",
      "Warning in <TH1F::Sumw2>: Sum of squares of weights structure already created\n",
      "Warning in <TCanvas::Constructor>: Deleting canvas with same name: c1\n",
      "Info in <TCanvas::Print>: png file /home/tmettler/Desktop/v08_00_00_33/V08_00_00_35/weighted/muon_cut_weighted//png/NuVx_sce_initial.png has been created\n",
      "Info in <TCanvas::SaveAs>: ROOT file /home/tmettler/Desktop/v08_00_00_33/V08_00_00_35/weighted/muon_cut_weighted//root/NuVx_sce_initial.root has been created\n",
      "Warning in <TH1F::Sumw2>: Sum of squares of weights structure already created\n",
      "Warning in <TCanvas::Constructor>: Deleting canvas with same name: c1\n",
      "Info in <TCanvas::Print>: png file /home/tmettler/Desktop/v08_00_00_33/V08_00_00_35/weighted/muon_cut_weighted//png/NuVy_sce_initial.png has been created\n",
      "Info in <TCanvas::SaveAs>: ROOT file /home/tmettler/Desktop/v08_00_00_33/V08_00_00_35/weighted/muon_cut_weighted//root/NuVy_sce_initial.root has been created\n",
      "Warning in <TH1F::Sumw2>: Sum of squares of weights structure already created\n",
      "Warning in <TCanvas::Constructor>: Deleting canvas with same name: c1\n",
      "Info in <TCanvas::Print>: png file /home/tmettler/Desktop/v08_00_00_33/V08_00_00_35/weighted/muon_cut_weighted//png/NuVz_sce_initial.png has been created\n",
      "Info in <TCanvas::SaveAs>: ROOT file /home/tmettler/Desktop/v08_00_00_33/V08_00_00_35/weighted/muon_cut_weighted//root/NuVz_sce_initial.root has been created\n"
     ]
    },
    {
     "data": {
      "image/png": "[encoded data removed]",
      "text/plain": [
       "<IPython.core.display.Image object>"
      ]
     },
     "metadata": {},
     "output_type": "display_data"
    }
   ],
   "source": [
    "cut = 'fidVol && muon'\n",
    "name = '_initial'\n",
    "start = time.time()\n",
    "NuCC_w.make_stacked_histo_weightV2(cut + ' && TrackTheta!=-9','cos(TrackTheta)','EventWeight','cos(theta)',-1,1,20,'costhetaw'+name,'left')\n",
    "end = time.time()\n",
    "print(end - start)\n",
    "NuCC_w.make_stacked_histo_weightV2(cut + ' && TrackTheta!=-9','TrackPhi','EventWeight','Track Phi',-3.141,3.141,20,'phi'+name,'left')\n",
    "end = time.time()\n",
    "print(end - start)\n",
    "NuCC_w.make_stacked_histo_weightV2(cut + ' && 1','TrackMomMCS_mom','EventWeight','TrackMomMCS_mom',0,1.5,20,'TrackMomMCS_mom'+name)\n",
    "end = time.time()\n",
    "print(end - start)\n",
    "NuCC_w.make_stacked_histo_weightV2(cut,'Nu_Vx_sce','EventWeight','Reco. Nu vertex X position [cm]',-10,270,20,'NuVx_sce'+name)\n",
    "end = time.time()\n",
    "print(end - start)\n",
    "NuCC_w.make_stacked_histo_weightV2(cut,'Nu_Vy_sce','EventWeight','Reco. Nu vertex Y position [cm]',-120,120,20,'NuVy_sce'+name)\n",
    "end = time.time()\n",
    "print(end - start)\n",
    "NuCC_w.make_stacked_histo_weightV2(cut,'Nu_Vz_sce','EventWeight','Reco. Nu vertex Z position [cm]',-50,1050,20,'NuVz_sce'+name)\n",
    "end = time.time()\n",
    "print(end - start)"
   ]
  },
  {
   "cell_type": "code",
   "execution_count": null,
   "metadata": {},
   "outputs": [],
   "source": [
    "cut = 'fidVol && muon && TrackLength>8 && crt_tom_cut && TrackScore>0.8\\\n",
    "                && TrackLength>20 && TrackPID_chiproton>78 && NuScore>0.1'\n",
    "name = '_muon_cut'\n",
    "start = time.time()\n",
    "NuCC_w.make_stacked_histo_weightV2(cut + ' && TrackTheta!=-9','cos(TrackTheta)','EventWeight','cos(theta)',-1,1,20,'costhetaw'+name,'left')\n",
    "end = time.time()\n",
    "print(end - start)\n",
    "NuCC_w.make_stacked_histo_weightV2(cut + ' && TrackTheta!=-9','TrackPhi','EventWeight','Track Phi',-3.141,3.141,20,'phi'+name,'left')\n",
    "end = time.time()\n",
    "print(end - start)\n",
    "NuCC_w.make_stacked_histo_weightV2(cut + ' && 1','TrackMomMCS_mom','EventWeight','TrackMomMCS_mom',0,1.5,20,'TrackMomMCS_mom'+name)\n",
    "end = time.time()\n",
    "print(end - start)\n",
    "NuCC_w.make_stacked_histo_weightV2(cut,'Nu_Vx_sce','EventWeight','Reco. Nu vertex X position [cm]',-10,270,20,'NuVx_sce'+name)\n",
    "end = time.time()\n",
    "print(end - start)\n",
    "NuCC_w.make_stacked_histo_weightV2(cut,'Nu_Vy_sce','EventWeight','Reco. Nu vertex Y position [cm]',-120,120,20,'NuVy_sce'+name)\n",
    "end = time.time()\n",
    "print(end - start)\n",
    "NuCC_w.make_stacked_histo_weightV2(cut,'Nu_Vz_sce','EventWeight','Reco. Nu vertex Z position [cm]',-50,1050,20,'NuVz_sce'+name)\n",
    "end = time.time()\n",
    "print(end - start)"
   ]
  },
  {
   "cell_type": "code",
   "execution_count": 24,
   "metadata": {},
   "outputs": [
    {
     "name": "stdout",
     "output_type": "stream",
     "text": [
      "Efficiency for cut:  fidVol && muon\n",
      "Used weight:  EventWeight*TunedCentralValue_Genie\n",
      "\n",
      "Keep of     ext:\t100.00%\t reject:\t0.00%\n",
      "Keep of    dirt:\t100.00%\t reject:\t-0.00%\n",
      "Keep of overlay:\t100.00%\t reject:\t0.00%\n",
      "\n",
      "Efficiency:\t\t66.60%\n",
      "Purity:\t\t\t35.91%\n",
      "Purity*Efficiency\t23.92\n",
      "\n",
      "Amount of     ext:\t36.28%\n",
      "Amount of    dirt:\t5.03%\n",
      "Amount of overlay:\t58.70%\n",
      "\n",
      "Signal definition=  numu_lowpur: 3.64%\n",
      "Signal definition=   numu_other: 0.56%\n",
      "Signal definition=    numu_nomu: 2.71%\n",
      "Signal definition=      numu_ov: 9.37%\n",
      "Signal definition=  numu_signal: 35.91%\n",
      "Signal definition=      numu_nc: 6.51%\n"
     ]
    },
    {
     "data": {
      "text/plain": [
       "(66.60419570575043, 35.90981382957462)"
      ]
     },
     "execution_count": 24,
     "metadata": {},
     "output_type": "execute_result"
    },
    {
     "name": "stderr",
     "output_type": "stream",
     "text": [
      "Warning in <TROOT::Append>: Replacing existing TH1: h_weight_func (Potential memory leak).\n"
     ]
    }
   ],
   "source": [
    "NuCC_w.printEff_w('fidVol && muon')"
   ]
  },
  {
   "cell_type": "code",
   "execution_count": 30,
   "metadata": {},
   "outputs": [
    {
     "name": "stdout",
     "output_type": "stream",
     "text": [
      "Efficiency for cut:  fidVol && muon && nr_crthit_top==0\n",
      "Used weight:  EventWeight*TunedCentralValue_Genie\n",
      "\n",
      "Keep of     ext:\t71.47%\t reject:\t28.53%\n",
      "Keep of    dirt:\t96.07%\t reject:\t3.93%\n",
      "Keep of overlay:\t97.43%\t reject:\t2.57%\n",
      "\n",
      "Efficiency:\t\t65.00%\n",
      "Purity:\t\t\t39.85%\n",
      "Purity*Efficiency\t25.90\n",
      "\n",
      "Amount of     ext:\t29.48%\n",
      "Amount of    dirt:\t5.50%\n",
      "Amount of overlay:\t65.02%\n",
      "\n",
      "Signal definition=  numu_lowpur: 3.99%\n",
      "Signal definition=   numu_other: 0.62%\n",
      "Signal definition=    numu_nomu: 2.97%\n",
      "Signal definition=      numu_ov: 10.31%\n",
      "Signal definition=  numu_signal: 39.85%\n",
      "Signal definition=      numu_nc: 7.28%\n"
     ]
    },
    {
     "data": {
      "text/plain": [
       "(65.00492503318921, 39.849380820073286)"
      ]
     },
     "execution_count": 30,
     "metadata": {},
     "output_type": "execute_result"
    },
    {
     "name": "stderr",
     "output_type": "stream",
     "text": [
      "Warning in <TROOT::Append>: Replacing existing TH1: h_weight_func (Potential memory leak).\n"
     ]
    }
   ],
   "source": [
    "NuCC_w.printEff_w('fidVol && muon && nr_crthit_top==0')"
   ]
  },
  {
   "cell_type": "code",
   "execution_count": 31,
   "metadata": {},
   "outputs": [
    {
     "name": "stdout",
     "output_type": "stream",
     "text": [
      "Efficiency for cut:  fidVol && muon && nr_crthit_top==0 && crthit_vertex_zcut==0\n",
      "Used weight:  EventWeight*TunedCentralValue_Genie\n",
      "\n",
      "Keep of     ext:\t62.50%\t reject:\t37.50%\n",
      "Keep of    dirt:\t75.63%\t reject:\t24.37%\n",
      "Keep of overlay:\t95.83%\t reject:\t4.17%\n",
      "\n",
      "Efficiency:\t\t64.46%\n",
      "Purity:\t\t\t42.03%\n",
      "Purity*Efficiency\t27.09\n",
      "\n",
      "Amount of     ext:\t27.42%\n",
      "Amount of    dirt:\t4.60%\n",
      "Amount of overlay:\t68.02%\n",
      "\n",
      "Signal definition=  numu_lowpur: 4.18%\n",
      "Signal definition=   numu_other: 0.66%\n",
      "Signal definition=    numu_nomu: 3.08%\n",
      "Signal definition=      numu_ov: 10.38%\n",
      "Signal definition=  numu_signal: 42.03%\n",
      "Signal definition=      numu_nc: 7.69%\n"
     ]
    },
    {
     "data": {
      "text/plain": [
       "(64.46219823950443, 42.02637240582913)"
      ]
     },
     "execution_count": 31,
     "metadata": {},
     "output_type": "execute_result"
    },
    {
     "name": "stderr",
     "output_type": "stream",
     "text": [
      "Warning in <TROOT::Append>: Replacing existing TH1: h_weight_func (Potential memory leak).\n"
     ]
    }
   ],
   "source": [
    "NuCC_w.printEff_w('fidVol && muon && nr_crthit_top==0 && crthit_vertex_zcut==0')"
   ]
  },
  {
   "cell_type": "code",
   "execution_count": 32,
   "metadata": {},
   "outputs": [
    {
     "name": "stdout",
     "output_type": "stream",
     "text": [
      "Efficiency for cut:  fidVol && muon && nr_crthit_top==0 && crthit_vertex_zcut==0 && (track_end_uncontained==1 || nr_crthit_beam_tres==0)\n",
      "Used weight:  EventWeight*TunedCentralValue_Genie\n",
      "\n",
      "Keep of     ext:\t56.59%\t reject:\t43.41%\n",
      "Keep of    dirt:\t72.48%\t reject:\t27.52%\n",
      "Keep of overlay:\t90.93%\t reject:\t9.07%\n",
      "\n",
      "Efficiency:\t\t61.53%\n",
      "Purity:\t\t\t42.80%\n",
      "Purity*Efficiency\t26.34\n",
      "\n",
      "Amount of     ext:\t26.48%\n",
      "Amount of    dirt:\t4.71%\n",
      "Amount of overlay:\t68.85%\n",
      "\n",
      "Signal definition=  numu_lowpur: 4.20%\n",
      "Signal definition=   numu_other: 0.68%\n",
      "Signal definition=    numu_nomu: 2.97%\n",
      "Signal definition=      numu_ov: 10.10%\n",
      "Signal definition=  numu_signal: 42.80%\n",
      "Signal definition=      numu_nc: 8.11%\n"
     ]
    },
    {
     "data": {
      "text/plain": [
       "(61.53357086595449, 42.79784815663034)"
      ]
     },
     "execution_count": 32,
     "metadata": {},
     "output_type": "execute_result"
    },
    {
     "name": "stderr",
     "output_type": "stream",
     "text": [
      "Warning in <TROOT::Append>: Replacing existing TH1: h_weight_func (Potential memory leak).\n"
     ]
    }
   ],
   "source": [
    "NuCC_w.printEff_w('fidVol && muon && nr_crthit_top==0 && crthit_vertex_zcut==0 && (track_end_uncontained==1 || nr_crthit_beam_tres==0)')"
   ]
  },
  {
   "cell_type": "code",
   "execution_count": 33,
   "metadata": {},
   "outputs": [
    {
     "name": "stdout",
     "output_type": "stream",
     "text": [
      "Efficiency for cut:  fidVol && muon && nr_crthit_top==0 && crthit_vertex_zcut==0 && (track_end_uncontained==1 || nr_crthit_beam_tres==0) && crt_cut\n",
      "Used weight:  EventWeight*TunedCentralValue_Genie\n",
      "\n",
      "Keep of     ext:\t42.37%\t reject:\t57.63%\n",
      "Keep of    dirt:\t60.31%\t reject:\t39.69%\n",
      "Keep of overlay:\t84.46%\t reject:\t15.54%\n",
      "\n",
      "Efficiency:\t\t59.23%\n",
      "Purity:\t\t\t47.00%\n",
      "Purity*Efficiency\t27.84\n",
      "\n",
      "Amount of     ext:\t22.62%\n",
      "Amount of    dirt:\t4.47%\n",
      "Amount of overlay:\t72.96%\n",
      "\n",
      "Signal definition=  numu_lowpur: 3.71%\n",
      "Signal definition=   numu_other: 0.74%\n",
      "Signal definition=    numu_nomu: 3.29%\n",
      "Signal definition=      numu_ov: 9.63%\n",
      "Signal definition=  numu_signal: 47.00%\n",
      "Signal definition=      numu_nc: 8.59%\n"
     ]
    },
    {
     "data": {
      "text/plain": [
       "(59.23340749090525, 46.99958296924639)"
      ]
     },
     "execution_count": 33,
     "metadata": {},
     "output_type": "execute_result"
    },
    {
     "name": "stderr",
     "output_type": "stream",
     "text": [
      "Warning in <TROOT::Append>: Replacing existing TH1: h_weight_func (Potential memory leak).\n"
     ]
    }
   ],
   "source": [
    "NuCC_w.printEff_w('fidVol && muon && nr_crthit_top==0 && crthit_vertex_zcut==0 && (track_end_uncontained==1 || nr_crthit_beam_tres==0) && crt_cut')"
   ]
  },
  {
   "cell_type": "code",
   "execution_count": 31,
   "metadata": {},
   "outputs": [
    {
     "name": "stdout",
     "output_type": "stream",
     "text": [
      "Efficiency for cut:  fidVol && muon && crt_tom_cut && TrackScore>0.8                && TrackLength>20 && TrackPID_chiproton>78 && NuScore>0.1\n",
      "Used weight:  EventWeight*TunedCentralValue_Genie\n",
      "\n",
      "Keep of     ext:\t11.24%\t reject:\t88.76%\n",
      "Keep of    dirt:\t18.73%\t reject:\t81.27%\n",
      "Keep of overlay:\t56.53%\t reject:\t43.47%\n",
      "\n",
      "Efficiency:\t\t50.85%\n",
      "Purity:\t\t\t71.77%\n",
      "Purity*Efficiency\t36.49\n",
      "\n",
      "Amount of     ext:\t10.67%\n",
      "Amount of    dirt:\t2.47%\n",
      "Amount of overlay:\t86.87%\n",
      "\n",
      "Signal definition=  numu_lowpur: 2.67%\n",
      "Signal definition=   numu_other: 0.77%\n",
      "Signal definition=    numu_nomu: 2.69%\n",
      "Signal definition=      numu_ov: 5.60%\n",
      "Signal definition=  numu_signal: 71.77%\n",
      "Signal definition=      numu_nc: 3.36%\n"
     ]
    },
    {
     "data": {
      "text/plain": [
       "(50.84615337665601, 71.76909322796398)"
      ]
     },
     "execution_count": 31,
     "metadata": {},
     "output_type": "execute_result"
    },
    {
     "name": "stderr",
     "output_type": "stream",
     "text": [
      "Warning in <TROOT::Append>: Replacing existing TH1: h_weight_func (Potential memory leak).\n"
     ]
    }
   ],
   "source": [
    "NuCC_w.printEff_w('fidVol && muon && crt_tom_cut && TrackScore>0.8\\\n",
    "                && TrackLength>20 && TrackPID_chiproton>78 && NuScore>0.1')"
   ]
  },
  {
   "cell_type": "code",
   "execution_count": 25,
   "metadata": {},
   "outputs": [
    {
     "name": "stdout",
     "output_type": "stream",
     "text": [
      "Efficiency for cut:  fidVol && muon && crt_tom_cut\n",
      "Used weight:  EventWeight*TunedCentralValue_Genie\n",
      "\n",
      "Keep of     ext:\t42.37%\t reject:\t57.63%\n",
      "Keep of    dirt:\t60.31%\t reject:\t39.69%\n",
      "Keep of overlay:\t84.46%\t reject:\t15.54%\n",
      "\n",
      "Efficiency:\t\t59.23%\n",
      "Purity:\t\t\t47.00%\n",
      "Purity*Efficiency\t27.84\n",
      "\n",
      "Amount of     ext:\t22.62%\n",
      "Amount of    dirt:\t4.47%\n",
      "Amount of overlay:\t72.96%\n",
      "\n",
      "Signal definition=  numu_lowpur: 3.71%\n",
      "Signal definition=   numu_other: 0.74%\n",
      "Signal definition=    numu_nomu: 3.29%\n",
      "Signal definition=      numu_ov: 9.63%\n",
      "Signal definition=  numu_signal: 47.00%\n",
      "Signal definition=      numu_nc: 8.59%\n"
     ]
    },
    {
     "data": {
      "text/plain": [
       "(59.23340749090525, 46.99958296924639)"
      ]
     },
     "execution_count": 25,
     "metadata": {},
     "output_type": "execute_result"
    },
    {
     "name": "stderr",
     "output_type": "stream",
     "text": [
      "Warning in <TROOT::Append>: Replacing existing TH1: h_weight_func (Potential memory leak).\n"
     ]
    }
   ],
   "source": [
    "NuCC_w.printEff_w('fidVol && muon && crt_tom_cut')"
   ]
  },
  {
   "cell_type": "code",
   "execution_count": 26,
   "metadata": {},
   "outputs": [
    {
     "name": "stdout",
     "output_type": "stream",
     "text": [
      "Efficiency for cut:  fidVol && muon && crt_tom_cut && TrackScore>0.8\n",
      "Used weight:  EventWeight*TunedCentralValue_Genie\n",
      "\n",
      "Keep of     ext:\t37.27%\t reject:\t62.73%\n",
      "Keep of    dirt:\t48.85%\t reject:\t51.15%\n",
      "Keep of overlay:\t78.25%\t reject:\t21.75%\n",
      "\n",
      "Efficiency:\t\t57.70%\n",
      "Purity:\t\t\t50.28%\n",
      "Purity*Efficiency\t29.01\n",
      "\n",
      "Amount of     ext:\t21.85%\n",
      "Amount of    dirt:\t3.97%\n",
      "Amount of overlay:\t74.24%\n",
      "\n",
      "Signal definition=  numu_lowpur: 3.39%\n",
      "Signal definition=   numu_other: 0.72%\n",
      "Signal definition=    numu_nomu: 3.13%\n",
      "Signal definition=      numu_ov: 8.92%\n",
      "Signal definition=  numu_signal: 50.28%\n",
      "Signal definition=      numu_nc: 7.81%\n"
     ]
    },
    {
     "data": {
      "text/plain": [
       "(57.696391443021675, 50.27762061341999)"
      ]
     },
     "execution_count": 26,
     "metadata": {},
     "output_type": "execute_result"
    },
    {
     "name": "stderr",
     "output_type": "stream",
     "text": [
      "Warning in <TROOT::Append>: Replacing existing TH1: h_weight_func (Potential memory leak).\n"
     ]
    }
   ],
   "source": [
    "NuCC_w.printEff_w('fidVol && muon && crt_tom_cut && TrackScore>0.8')"
   ]
  },
  {
   "cell_type": "code",
   "execution_count": 27,
   "metadata": {},
   "outputs": [
    {
     "name": "stdout",
     "output_type": "stream",
     "text": [
      "Efficiency for cut:  fidVol && muon && crt_tom_cut && TrackScore>0.8                && TrackLength>20\n",
      "Used weight:  EventWeight*TunedCentralValue_Genie\n",
      "\n",
      "Keep of     ext:\t33.20%\t reject:\t66.80%\n",
      "Keep of    dirt:\t40.57%\t reject:\t59.43%\n",
      "Keep of overlay:\t71.50%\t reject:\t28.50%\n",
      "\n",
      "Efficiency:\t\t56.53%\n",
      "Purity:\t\t\t54.40%\n",
      "Purity*Efficiency\t30.75\n",
      "\n",
      "Amount of     ext:\t21.50%\n",
      "Amount of    dirt:\t3.65%\n",
      "Amount of overlay:\t74.91%\n",
      "\n",
      "Signal definition=  numu_lowpur: 3.28%\n",
      "Signal definition=   numu_other: 0.68%\n",
      "Signal definition=    numu_nomu: 2.77%\n",
      "Signal definition=      numu_ov: 8.26%\n",
      "Signal definition=  numu_signal: 54.40%\n",
      "Signal definition=      numu_nc: 5.52%\n"
     ]
    },
    {
     "data": {
      "text/plain": [
       "(56.530171272980965, 54.40043347343899)"
      ]
     },
     "execution_count": 27,
     "metadata": {},
     "output_type": "execute_result"
    },
    {
     "name": "stderr",
     "output_type": "stream",
     "text": [
      "Warning in <TROOT::Append>: Replacing existing TH1: h_weight_func (Potential memory leak).\n"
     ]
    }
   ],
   "source": [
    "NuCC_w.printEff_w('fidVol && muon && crt_tom_cut && TrackScore>0.8\\\n",
    "                && TrackLength>20')"
   ]
  },
  {
   "cell_type": "code",
   "execution_count": 28,
   "metadata": {},
   "outputs": [
    {
     "name": "stdout",
     "output_type": "stream",
     "text": [
      "Efficiency for cut:  fidVol && muon && crt_tom_cut && TrackScore>0.8                && TrackLength>20 && TrackPID_chiproton>78\n",
      "Used weight:  EventWeight*TunedCentralValue_Genie\n",
      "\n",
      "Keep of     ext:\t31.92%\t reject:\t68.08%\n",
      "Keep of    dirt:\t38.58%\t reject:\t61.42%\n",
      "Keep of overlay:\t67.36%\t reject:\t32.64%\n",
      "\n",
      "Efficiency:\t\t56.36%\n",
      "Purity:\t\t\t57.32%\n",
      "Purity*Efficiency\t32.31\n",
      "\n",
      "Amount of     ext:\t21.84%\n",
      "Amount of    dirt:\t3.66%\n",
      "Amount of overlay:\t74.58%\n",
      "\n",
      "Signal definition=  numu_lowpur: 3.24%\n",
      "Signal definition=   numu_other: 0.64%\n",
      "Signal definition=    numu_nomu: 2.03%\n",
      "Signal definition=      numu_ov: 8.21%\n",
      "Signal definition=  numu_signal: 57.32%\n",
      "Signal definition=      numu_nc: 3.14%\n"
     ]
    },
    {
     "data": {
      "text/plain": [
       "(56.36403733594071, 57.31857480680927)"
      ]
     },
     "execution_count": 28,
     "metadata": {},
     "output_type": "execute_result"
    },
    {
     "name": "stderr",
     "output_type": "stream",
     "text": [
      "Warning in <TROOT::Append>: Replacing existing TH1: h_weight_func (Potential memory leak).\n"
     ]
    }
   ],
   "source": [
    "NuCC_w.printEff_w('fidVol && muon && crt_tom_cut && TrackScore>0.8\\\n",
    "                && TrackLength>20 && TrackPID_chiproton>78')"
   ]
  },
  {
   "cell_type": "code",
   "execution_count": 29,
   "metadata": {},
   "outputs": [
    {
     "name": "stdout",
     "output_type": "stream",
     "text": [
      "Efficiency for cut:  fidVol && muon && crt_tom_cut && TrackScore>0.8                && TrackLength>20 && TrackPID_chiproton>78 && NuScore>0.1\n",
      "Used weight:  EventWeight*TunedCentralValue_Genie\n",
      "\n",
      "Keep of     ext:\t11.24%\t reject:\t88.76%\n",
      "Keep of    dirt:\t18.73%\t reject:\t81.27%\n",
      "Keep of overlay:\t56.53%\t reject:\t43.47%\n",
      "\n",
      "Efficiency:\t\t50.85%\n",
      "Purity:\t\t\t71.77%\n",
      "Purity*Efficiency\t36.49\n",
      "\n",
      "Amount of     ext:\t10.67%\n",
      "Amount of    dirt:\t2.47%\n",
      "Amount of overlay:\t86.87%\n",
      "\n",
      "Signal definition=  numu_lowpur: 2.67%\n",
      "Signal definition=   numu_other: 0.77%\n",
      "Signal definition=    numu_nomu: 2.69%\n",
      "Signal definition=      numu_ov: 5.60%\n",
      "Signal definition=  numu_signal: 71.77%\n",
      "Signal definition=      numu_nc: 3.36%\n"
     ]
    },
    {
     "data": {
      "text/plain": [
       "(50.84615337665601, 71.76909322796398)"
      ]
     },
     "execution_count": 29,
     "metadata": {},
     "output_type": "execute_result"
    },
    {
     "name": "stderr",
     "output_type": "stream",
     "text": [
      "Warning in <TROOT::Append>: Replacing existing TH1: h_weight_func (Potential memory leak).\n"
     ]
    }
   ],
   "source": [
    "NuCC_w.printEff_w('fidVol && muon && crt_tom_cut && TrackScore>0.8\\\n",
    "                && TrackLength>20 && TrackPID_chiproton>78 && NuScore>0.1')"
   ]
  },
  {
   "cell_type": "code",
   "execution_count": 13,
   "metadata": {},
   "outputs": [
    {
     "name": "stdout",
     "output_type": "stream",
     "text": [
      "Efficiency:\t66.60%\n",
      "Purity:\t\t35.91%\n",
      "20.563336134\n"
     ]
    },
    {
     "name": "stderr",
     "output_type": "stream",
     "text": [
      "Info in <TCanvas::MakeDefCanvas>:  created default TCanvas with name c1\n",
      "Warning in <TROOT::Append>: Replacing existing TH1: h_weight_func (Potential memory leak).\n",
      "Warning in <TCanvas::Constructor>: Deleting canvas with same name: c1\n",
      "Info in <TEfficiency::TEfficiency>: given histograms are filled with weights\n",
      "Info in <TROOT::TEfficiency::SetUseWeightedEvents>: Histograms are filled with weights\n",
      "Warning in <TEfficiency::GetEfficiencyErrorLow>: frequentist confidence intervals for weights are only supported by the normal approximation\n",
      "Info in <TEfficiency::GetEfficiencyErrorLow>: setting statistic option to kFNormal\n",
      "Info in <TCanvas::Print>: png file /home/tmettler/Desktop/v08_00_00_33/V08_00_00_35/weighted/muon_cut_weighted//png/h_eff_energyinitial.png has been created\n",
      "Info in <TCanvas::SaveAs>: ROOT file /home/tmettler/Desktop/v08_00_00_33/V08_00_00_35/weighted/muon_cut_weighted//root/h_eff_energyinitial.root has been created\n",
      "Info in <TEfficiency::TEfficiency>: given histograms are filled with weights\n",
      "Info in <TROOT::TEfficiency::SetUseWeightedEvents>: Histograms are filled with weights\n",
      "Warning in <TEfficiency::GetEfficiencyErrorLow>: frequentist confidence intervals for weights are only supported by the normal approximation\n",
      "Info in <TEfficiency::GetEfficiencyErrorLow>: setting statistic option to kFNormal\n",
      "Info in <TCanvas::Print>: png file /home/tmettler/Desktop/v08_00_00_33/V08_00_00_35/weighted/muon_cut_weighted//png/h_eff_thetainitial.png has been created\n",
      "Info in <TCanvas::SaveAs>: ROOT file /home/tmettler/Desktop/v08_00_00_33/V08_00_00_35/weighted/muon_cut_weighted//root/h_eff_thetainitial.root has been created\n",
      "Info in <TEfficiency::TEfficiency>: given histograms are filled with weights\n",
      "Info in <TROOT::TEfficiency::SetUseWeightedEvents>: Histograms are filled with weights\n",
      "Warning in <TEfficiency::GetEfficiencyErrorLow>: frequentist confidence intervals for weights are only supported by the normal approximation\n",
      "Info in <TEfficiency::GetEfficiencyErrorLow>: setting statistic option to kFNormal\n",
      "Info in <TCanvas::Print>: png file /home/tmettler/Desktop/v08_00_00_33/V08_00_00_35/weighted/muon_cut_weighted//png/h_eff_phiinitial.png has been created\n",
      "Info in <TCanvas::SaveAs>: ROOT file /home/tmettler/Desktop/v08_00_00_33/V08_00_00_35/weighted/muon_cut_weighted//root/h_eff_phiinitial.root has been created\n",
      "Info in <TEfficiency::TEfficiency>: given histograms are filled with weights\n",
      "Info in <TROOT::TEfficiency::SetUseWeightedEvents>: Histograms are filled with weights\n",
      "Warning in <TEfficiency::GetEfficiencyErrorLow>: frequentist confidence intervals for weights are only supported by the normal approximation\n",
      "Info in <TEfficiency::GetEfficiencyErrorLow>: setting statistic option to kFNormal\n",
      "Info in <TCanvas::Print>: png file /home/tmettler/Desktop/v08_00_00_33/V08_00_00_35/weighted/muon_cut_weighted//png/h_eff_Vxinitial.png has been created\n",
      "Info in <TCanvas::SaveAs>: ROOT file /home/tmettler/Desktop/v08_00_00_33/V08_00_00_35/weighted/muon_cut_weighted//root/h_eff_Vxinitial.root has been created\n",
      "Warning in <TROOT::Append>: Replacing existing TH1: h_init_eff_V (Potential memory leak).\n",
      "Warning in <TROOT::Append>: Replacing existing TH1: h_init_eff_V_1 (Potential memory leak).\n",
      "Info in <TEfficiency::TEfficiency>: given histograms are filled with weights\n",
      "Info in <TROOT::TEfficiency::SetUseWeightedEvents>: Histograms are filled with weights\n",
      "Warning in <TEfficiency::GetEfficiencyErrorLow>: frequentist confidence intervals for weights are only supported by the normal approximation\n",
      "Info in <TEfficiency::GetEfficiencyErrorLow>: setting statistic option to kFNormal\n",
      "Info in <TCanvas::Print>: png file /home/tmettler/Desktop/v08_00_00_33/V08_00_00_35/weighted/muon_cut_weighted//png/h_eff_Vyinitial.png has been created\n",
      "Info in <TCanvas::SaveAs>: ROOT file /home/tmettler/Desktop/v08_00_00_33/V08_00_00_35/weighted/muon_cut_weighted//root/h_eff_Vyinitial.root has been created\n",
      "Warning in <TROOT::Append>: Replacing existing TH1: h_init_eff_V (Potential memory leak).\n",
      "Warning in <TROOT::Append>: Replacing existing TH1: h_init_eff_V_1 (Potential memory leak).\n",
      "Info in <TEfficiency::TEfficiency>: given histograms are filled with weights\n",
      "Info in <TROOT::TEfficiency::SetUseWeightedEvents>: Histograms are filled with weights\n",
      "Warning in <TEfficiency::GetEfficiencyErrorLow>: frequentist confidence intervals for weights are only supported by the normal approximation\n",
      "Info in <TEfficiency::GetEfficiencyErrorLow>: setting statistic option to kFNormal\n",
      "Info in <TCanvas::Print>: png file /home/tmettler/Desktop/v08_00_00_33/V08_00_00_35/weighted/muon_cut_weighted//png/h_eff_Vzinitial.png has been created\n",
      "Info in <TCanvas::SaveAs>: ROOT file /home/tmettler/Desktop/v08_00_00_33/V08_00_00_35/weighted/muon_cut_weighted//root/h_eff_Vzinitial.root has been created\n"
     ]
    }
   ],
   "source": [
    "nenner = 'numu_true'\n",
    "zahler = 'fidVol && muon && numu_signal'\n",
    "cut = 'fidVol && muon'\n",
    "start = time.time()\n",
    "NuCC_w.plot_eff_w(nenner,zahler,cut,'initial','initial')\n",
    "end = time.time()\n",
    "print(end - start)"
   ]
  },
  {
   "cell_type": "code",
   "execution_count": 12,
   "metadata": {},
   "outputs": [
    {
     "name": "stdout",
     "output_type": "stream",
     "text": [
      "Efficiency:\t50.85%\n",
      "Purity:\t\t71.77%\n",
      "53.6672999859\n"
     ]
    },
    {
     "name": "stderr",
     "output_type": "stream",
     "text": [
      "Warning in <TROOT::Append>: Replacing existing TH1: h_weight_func (Potential memory leak).\n",
      "Warning in <TCanvas::Constructor>: Deleting canvas with same name: c1\n",
      "Info in <TEfficiency::TEfficiency>: given histograms are filled with weights\n",
      "Info in <TROOT::TEfficiency::SetUseWeightedEvents>: Histograms are filled with weights\n",
      "Warning in <TEfficiency::GetEfficiencyErrorLow>: frequentist confidence intervals for weights are only supported by the normal approximation\n",
      "Info in <TEfficiency::GetEfficiencyErrorLow>: setting statistic option to kFNormal\n",
      "Info in <TCanvas::Print>: png file /home/tmettler/Desktop/v08_00_00_33/V08_00_00_35/weighted/muon_cut_weighted//png/h_eff_energyallcut.png has been created\n",
      "Info in <TCanvas::SaveAs>: ROOT file /home/tmettler/Desktop/v08_00_00_33/V08_00_00_35/weighted/muon_cut_weighted//root/h_eff_energyallcut.root has been created\n",
      "Info in <TEfficiency::TEfficiency>: given histograms are filled with weights\n",
      "Info in <TROOT::TEfficiency::SetUseWeightedEvents>: Histograms are filled with weights\n",
      "Warning in <TEfficiency::GetEfficiencyErrorLow>: frequentist confidence intervals for weights are only supported by the normal approximation\n",
      "Info in <TEfficiency::GetEfficiencyErrorLow>: setting statistic option to kFNormal\n",
      "Info in <TCanvas::Print>: png file /home/tmettler/Desktop/v08_00_00_33/V08_00_00_35/weighted/muon_cut_weighted//png/h_eff_thetaallcut.png has been created\n",
      "Info in <TCanvas::SaveAs>: ROOT file /home/tmettler/Desktop/v08_00_00_33/V08_00_00_35/weighted/muon_cut_weighted//root/h_eff_thetaallcut.root has been created\n",
      "Info in <TEfficiency::TEfficiency>: given histograms are filled with weights\n",
      "Info in <TROOT::TEfficiency::SetUseWeightedEvents>: Histograms are filled with weights\n",
      "Warning in <TEfficiency::GetEfficiencyErrorLow>: frequentist confidence intervals for weights are only supported by the normal approximation\n",
      "Info in <TEfficiency::GetEfficiencyErrorLow>: setting statistic option to kFNormal\n",
      "Info in <TCanvas::Print>: png file /home/tmettler/Desktop/v08_00_00_33/V08_00_00_35/weighted/muon_cut_weighted//png/h_eff_phiallcut.png has been created\n",
      "Info in <TCanvas::SaveAs>: ROOT file /home/tmettler/Desktop/v08_00_00_33/V08_00_00_35/weighted/muon_cut_weighted//root/h_eff_phiallcut.root has been created\n",
      "Info in <TEfficiency::TEfficiency>: given histograms are filled with weights\n",
      "Info in <TROOT::TEfficiency::SetUseWeightedEvents>: Histograms are filled with weights\n",
      "Warning in <TEfficiency::GetEfficiencyErrorLow>: frequentist confidence intervals for weights are only supported by the normal approximation\n",
      "Info in <TEfficiency::GetEfficiencyErrorLow>: setting statistic option to kFNormal\n",
      "Info in <TCanvas::Print>: png file /home/tmettler/Desktop/v08_00_00_33/V08_00_00_35/weighted/muon_cut_weighted//png/h_eff_Vxallcut.png has been created\n",
      "Info in <TCanvas::SaveAs>: ROOT file /home/tmettler/Desktop/v08_00_00_33/V08_00_00_35/weighted/muon_cut_weighted//root/h_eff_Vxallcut.root has been created\n",
      "Warning in <TROOT::Append>: Replacing existing TH1: h_init_eff_V (Potential memory leak).\n",
      "Warning in <TROOT::Append>: Replacing existing TH1: h_init_eff_V_1 (Potential memory leak).\n",
      "Info in <TEfficiency::TEfficiency>: given histograms are filled with weights\n",
      "Info in <TROOT::TEfficiency::SetUseWeightedEvents>: Histograms are filled with weights\n",
      "Warning in <TEfficiency::GetEfficiencyErrorLow>: frequentist confidence intervals for weights are only supported by the normal approximation\n",
      "Info in <TEfficiency::GetEfficiencyErrorLow>: setting statistic option to kFNormal\n",
      "Info in <TCanvas::Print>: png file /home/tmettler/Desktop/v08_00_00_33/V08_00_00_35/weighted/muon_cut_weighted//png/h_eff_Vyallcut.png has been created\n",
      "Info in <TCanvas::SaveAs>: ROOT file /home/tmettler/Desktop/v08_00_00_33/V08_00_00_35/weighted/muon_cut_weighted//root/h_eff_Vyallcut.root has been created\n",
      "Warning in <TROOT::Append>: Replacing existing TH1: h_init_eff_V (Potential memory leak).\n",
      "Warning in <TROOT::Append>: Replacing existing TH1: h_init_eff_V_1 (Potential memory leak).\n",
      "Info in <TEfficiency::TEfficiency>: given histograms are filled with weights\n",
      "Info in <TROOT::TEfficiency::SetUseWeightedEvents>: Histograms are filled with weights\n",
      "Warning in <TEfficiency::GetEfficiencyErrorLow>: frequentist confidence intervals for weights are only supported by the normal approximation\n",
      "Info in <TEfficiency::GetEfficiencyErrorLow>: setting statistic option to kFNormal\n",
      "Info in <TCanvas::Print>: png file /home/tmettler/Desktop/v08_00_00_33/V08_00_00_35/weighted/muon_cut_weighted//png/h_eff_Vzallcut.png has been created\n",
      "Info in <TCanvas::SaveAs>: ROOT file /home/tmettler/Desktop/v08_00_00_33/V08_00_00_35/weighted/muon_cut_weighted//root/h_eff_Vzallcut.root has been created\n"
     ]
    }
   ],
   "source": [
    "nenner = 'numu_true'\n",
    "zahler = 'fidVol && muon && crt_tom_cut && TrackScore>0.8\\\n",
    "                && TrackLength>20 && TrackPID_chiproton>78 && NuScore>0.1 && numu_signal'\n",
    "cut = 'fidVol && muon && crt_tom_cut && TrackScore>0.8\\\n",
    "                && TrackLength>20 && TrackPID_chiproton>78 && NuScore>0.1'\n",
    "start = time.time()\n",
    "NuCC_w.plot_eff_w(nenner,zahler,cut,'allcut','allcut')\n",
    "end = time.time()\n",
    "print(end - start)"
   ]
  },
  {
   "cell_type": "code",
   "execution_count": null,
   "metadata": {},
   "outputs": [],
   "source": [
    "nenner = 'numu_signal && fidVol && muon'\n",
    "zahler = 'fidVol && muon && crt_tom_cut && TrackScore>0.8\\\n",
    "                && TrackLength>20 && TrackPID_chiproton>78 && NuScore>0.1 && numu_signal'\n",
    "cut = 'fidVol && muon && crt_tom_cut && TrackScore>0.8\\\n",
    "                && TrackLength>20 && TrackPID_chiproton>78 && NuScore>0.1'\n",
    "start = time.time()\n",
    "NuCC_w.plot_eff_w(nenner,zahler,cut,'tomcut_only','tomcut_only')\n",
    "end = time.time()\n",
    "print(end - start)"
   ]
  },
  {
   "cell_type": "code",
   "execution_count": 12,
   "metadata": {},
   "outputs": [
    {
     "name": "stdout",
     "output_type": "stream",
     "text": [
      "Efficiency:\t59.23%\n",
      "Purity:\t\t52.85%\n",
      "42.8047559261\n"
     ]
    },
    {
     "name": "stderr",
     "output_type": "stream",
     "text": [
      "Warning in <TCanvas::Constructor>: Deleting canvas with same name: c1\n",
      "Info in <TEfficiency::TEfficiency>: given histograms are filled with weights\n",
      "Info in <TROOT::TEfficiency::SetUseWeightedEvents>: Histograms are filled with weights\n",
      "Warning in <TEfficiency::GetEfficiencyErrorLow>: frequentist confidence intervals for weights are only supported by the normal approximation\n",
      "Info in <TEfficiency::GetEfficiencyErrorLow>: setting statistic option to kFNormal\n",
      "Info in <TCanvas::Print>: png file /home/tmettler/Desktop/v08_00_00_33/V08_00_00_35/weighted/muon_cut_weighted//png/h_eff_energycrtcut_only.png has been created\n",
      "Info in <TCanvas::SaveAs>: ROOT file /home/tmettler/Desktop/v08_00_00_33/V08_00_00_35/weighted/muon_cut_weighted//root/h_eff_energycrtcut_only.root has been created\n",
      "Info in <TEfficiency::TEfficiency>: given histograms are filled with weights\n",
      "Info in <TROOT::TEfficiency::SetUseWeightedEvents>: Histograms are filled with weights\n",
      "Warning in <TEfficiency::GetEfficiencyErrorLow>: frequentist confidence intervals for weights are only supported by the normal approximation\n",
      "Info in <TEfficiency::GetEfficiencyErrorLow>: setting statistic option to kFNormal\n",
      "Info in <TCanvas::Print>: png file /home/tmettler/Desktop/v08_00_00_33/V08_00_00_35/weighted/muon_cut_weighted//png/h_eff_thetacrtcut_only.png has been created\n",
      "Info in <TCanvas::SaveAs>: ROOT file /home/tmettler/Desktop/v08_00_00_33/V08_00_00_35/weighted/muon_cut_weighted//root/h_eff_thetacrtcut_only.root has been created\n",
      "Info in <TEfficiency::TEfficiency>: given histograms are filled with weights\n",
      "Info in <TROOT::TEfficiency::SetUseWeightedEvents>: Histograms are filled with weights\n",
      "Warning in <TEfficiency::GetEfficiencyErrorLow>: frequentist confidence intervals for weights are only supported by the normal approximation\n",
      "Info in <TEfficiency::GetEfficiencyErrorLow>: setting statistic option to kFNormal\n",
      "Info in <TCanvas::Print>: png file /home/tmettler/Desktop/v08_00_00_33/V08_00_00_35/weighted/muon_cut_weighted//png/h_eff_phicrtcut_only.png has been created\n",
      "Info in <TCanvas::SaveAs>: ROOT file /home/tmettler/Desktop/v08_00_00_33/V08_00_00_35/weighted/muon_cut_weighted//root/h_eff_phicrtcut_only.root has been created\n",
      "Info in <TEfficiency::TEfficiency>: given histograms are filled with weights\n",
      "Info in <TROOT::TEfficiency::SetUseWeightedEvents>: Histograms are filled with weights\n",
      "Warning in <TEfficiency::GetEfficiencyErrorLow>: frequentist confidence intervals for weights are only supported by the normal approximation\n",
      "Info in <TEfficiency::GetEfficiencyErrorLow>: setting statistic option to kFNormal\n",
      "Info in <TCanvas::Print>: png file /home/tmettler/Desktop/v08_00_00_33/V08_00_00_35/weighted/muon_cut_weighted//png/h_eff_Vxcrtcut_only.png has been created\n",
      "Info in <TCanvas::SaveAs>: ROOT file /home/tmettler/Desktop/v08_00_00_33/V08_00_00_35/weighted/muon_cut_weighted//root/h_eff_Vxcrtcut_only.root has been created\n",
      "Warning in <TROOT::Append>: Replacing existing TH1: h_init_eff_V (Potential memory leak).\n",
      "Warning in <TROOT::Append>: Replacing existing TH1: h_init_eff_V_1 (Potential memory leak).\n",
      "Info in <TEfficiency::TEfficiency>: given histograms are filled with weights\n",
      "Info in <TROOT::TEfficiency::SetUseWeightedEvents>: Histograms are filled with weights\n",
      "Warning in <TEfficiency::GetEfficiencyErrorLow>: frequentist confidence intervals for weights are only supported by the normal approximation\n",
      "Info in <TEfficiency::GetEfficiencyErrorLow>: setting statistic option to kFNormal\n",
      "Info in <TCanvas::Print>: png file /home/tmettler/Desktop/v08_00_00_33/V08_00_00_35/weighted/muon_cut_weighted//png/h_eff_Vycrtcut_only.png has been created\n",
      "Info in <TCanvas::SaveAs>: ROOT file /home/tmettler/Desktop/v08_00_00_33/V08_00_00_35/weighted/muon_cut_weighted//root/h_eff_Vycrtcut_only.root has been created\n",
      "Warning in <TROOT::Append>: Replacing existing TH1: h_init_eff_V (Potential memory leak).\n",
      "Warning in <TROOT::Append>: Replacing existing TH1: h_init_eff_V_1 (Potential memory leak).\n",
      "Info in <TEfficiency::TEfficiency>: given histograms are filled with weights\n",
      "Info in <TROOT::TEfficiency::SetUseWeightedEvents>: Histograms are filled with weights\n",
      "Warning in <TEfficiency::GetEfficiencyErrorLow>: frequentist confidence intervals for weights are only supported by the normal approximation\n",
      "Info in <TEfficiency::GetEfficiencyErrorLow>: setting statistic option to kFNormal\n",
      "Info in <TCanvas::Print>: png file /home/tmettler/Desktop/v08_00_00_33/V08_00_00_35/weighted/muon_cut_weighted//png/h_eff_Vzcrtcut_only.png has been created\n",
      "Info in <TCanvas::SaveAs>: ROOT file /home/tmettler/Desktop/v08_00_00_33/V08_00_00_35/weighted/muon_cut_weighted//root/h_eff_Vzcrtcut_only.root has been created\n"
     ]
    }
   ],
   "source": [
    "nenner = 'numu_signal && fidVol && muon'\n",
    "zahler = 'fidVol && muon && crt_tom_cut && numu_signal'\n",
    "cut = 'fidVol && muon && crt_tom_cut'\n",
    "start = time.time()\n",
    "NuCC_w.plot_eff_w(nenner,zahler,cut,'crtcut_only','crtcut_only')\n",
    "end = time.time()\n",
    "print(end - start)"
   ]
  },
  {
   "cell_type": "code",
   "execution_count": 27,
   "metadata": {},
   "outputs": [
    {
     "name": "stdout",
     "output_type": "stream",
     "text": [
      "Total number of entries:  279746.0\n",
      "PDG:  13 \t=\t67.6% ,\terror: 0.1% ,\tnumber:  220349.46875\n",
      "PDG:  2212 \t=\t11.7% ,\terror: 0.1% ,\tnumber:  38248.5585938\n",
      "PDG:  -1 \t=\t9.4% ,\terror: 0.1% ,\tnumber:  30640.5703125\n",
      "PDG:  11 \t=\t3.5% ,\terror: 0.0% ,\tnumber:  11440.4736328\n",
      "PDG:  211 \t=\t3.2% ,\terror: 0.0% ,\tnumber:  10281.9970703\n",
      "PDG:  -211 \t=\t1.8% ,\terror: 0.0% ,\tnumber:  5995.63183594\n",
      "PDG:  -11 \t=\t1.1% ,\terror: 0.0% ,\tnumber:  3722.6628418\n",
      "PDG:  2112 \t=\t1.0% ,\terror: 0.0% ,\tnumber:  3204.06079102\n",
      "PDG:  -13 \t=\t0.7% ,\terror: 0.0% ,\tnumber:  2151.72485352\n",
      "PDG:  22 \t=\t0.0% ,\terror: 0.0% ,\tnumber:  104.002746582\n",
      "PDG:  321 \t=\t0.0% ,\terror: 0.0% ,\tnumber:  39.0\n",
      "PDG:  -321 \t=\t0.0% ,\terror: 0.0% ,\tnumber:  1.0\n"
     ]
    }
   ],
   "source": [
    "NuCC_w.pdg_content33_w('fidVol && muon')"
   ]
  },
  {
   "cell_type": "code",
   "execution_count": 28,
   "metadata": {},
   "outputs": [
    {
     "name": "stdout",
     "output_type": "stream",
     "text": [
      "Total number of entries:  157507.0\n",
      "PDG:  13 \t=\t87.3% ,\terror: 0.2% ,\tnumber:  160959.3125\n",
      "PDG:  211 \t=\t3.4% ,\terror: 0.0% ,\tnumber:  6201.94970703\n",
      "PDG:  2212 \t=\t2.8% ,\terror: 0.0% ,\tnumber:  5217.11328125\n",
      "PDG:  -1 \t=\t2.3% ,\terror: 0.0% ,\tnumber:  4180.69628906\n",
      "PDG:  -211 \t=\t1.8% ,\terror: 0.0% ,\tnumber:  3362.97265625\n",
      "PDG:  11 \t=\t1.0% ,\terror: 0.0% ,\tnumber:  1758.77819824\n",
      "PDG:  -13 \t=\t0.9% ,\terror: 0.0% ,\tnumber:  1618.4855957\n",
      "PDG:  2112 \t=\t0.3% ,\terror: 0.0% ,\tnumber:  591.681396484\n",
      "PDG:  -11 \t=\t0.2% ,\terror: 0.0% ,\tnumber:  349.594055176\n",
      "PDG:  321 \t=\t0.0% ,\terror: 0.0% ,\tnumber:  21.0\n",
      "PDG:  22 \t=\t0.0% ,\terror: 0.0% ,\tnumber:  19.5796699524\n",
      "PDG:  -321 \t=\t0.0% ,\terror: 0.0% ,\tnumber:  1.0\n"
     ]
    }
   ],
   "source": [
    "NuCC_w.pdg_content33_w('fidVol && muon && crt_tom_cut && TrackScore>0.8\\\n",
    "                && TrackLength>20 && TrackPID_chiproton>78 && NuScore>0.1')"
   ]
  },
  {
   "cell_type": "code",
   "execution_count": 29,
   "metadata": {},
   "outputs": [
    {
     "name": "stdout",
     "output_type": "stream",
     "text": [
      "Total number of entries:  146843.0\n",
      "PDG:  13 \t=\t92.2% ,\terror: 0.2% ,\tnumber:  158650.15625\n",
      "PDG:  211 \t=\t3.1% ,\terror: 0.0% ,\tnumber:  5407.47412109\n",
      "PDG:  2212 \t=\t2.0% ,\terror: 0.0% ,\tnumber:  3457.47631836\n",
      "PDG:  -211 \t=\t1.6% ,\terror: 0.0% ,\tnumber:  2760.40551758\n",
      "PDG:  -13 \t=\t0.9% ,\terror: 0.0% ,\tnumber:  1561.50537109\n",
      "PDG:  11 \t=\t0.1% ,\terror: 0.0% ,\tnumber:  147.024230957\n",
      "PDG:  -11 \t=\t0.1% ,\terror: 0.0% ,\tnumber:  95.2529296875\n",
      "PDG:  321 \t=\t0.0% ,\terror: 0.0% ,\tnumber:  12.0\n",
      "PDG:  -321 \t=\t0.0% ,\terror: 0.0% ,\tnumber:  1.0\n"
     ]
    }
   ],
   "source": [
    "NuCC_w.pdg_content33_w('fidVol && muon && crt_tom_cut && TrackScore>0.8\\\n",
    "                && TrackLength>20 && TrackPID_chiproton>78 && NuScore>0.1 && MCTrackPurity>0.5')"
   ]
  },
  {
   "cell_type": "code",
   "execution_count": 12,
   "metadata": {},
   "outputs": [
    {
     "name": "stdout",
     "output_type": "stream",
     "text": [
      "Total number of entries:  137939.0\n",
      "PDG:  13 \t=\t97.5% ,\terror: 0.2% ,\tnumber:  158650.15625\n",
      "PDG:  211 \t=\t1.5% ,\terror: 0.0% ,\tnumber:  2401.61035156\n",
      "PDG:  2212 \t=\t0.7% ,\terror: 0.0% ,\tnumber:  1203.50317383\n",
      "PDG:  -211 \t=\t0.2% ,\terror: 0.0% ,\tnumber:  383.384216309\n",
      "PDG:  -13 \t=\t0.1% ,\terror: 0.0% ,\tnumber:  113.391471863\n",
      "PDG:  11 \t=\t0.0% ,\terror: 0.0% ,\tnumber:  9.26452732086\n",
      "PDG:  -11 \t=\t0.0% ,\terror: 0.0% ,\tnumber:  7.2529296875\n",
      "PDG:  321 \t=\t0.0% ,\terror: 0.0% ,\tnumber:  4.0\n",
      "PDG:  -321 \t=\t0.0% ,\terror: 0.0% ,\tnumber:  1.0\n"
     ]
    }
   ],
   "source": [
    "NuCC_w.pdg_content33_w('fidVol && muon && crt_tom_cut && TrackScore>0.8\\\n",
    "                && TrackLength>20 && TrackPID_chiproton>78 && NuScore>0.1 && MCTrackPurity>0.5 && num_mc_muon>0')"
   ]
  },
  {
   "cell_type": "code",
   "execution_count": null,
   "metadata": {},
   "outputs": [],
   "source": []
  },
  {
   "cell_type": "code",
   "execution_count": null,
   "metadata": {},
   "outputs": [],
   "source": []
  },
  {
   "cell_type": "code",
   "execution_count": null,
   "metadata": {},
   "outputs": [],
   "source": []
  },
  {
   "cell_type": "code",
   "execution_count": null,
   "metadata": {},
   "outputs": [],
   "source": []
  },
  {
   "cell_type": "code",
   "execution_count": null,
   "metadata": {},
   "outputs": [],
   "source": []
  },
  {
   "cell_type": "code",
   "execution_count": 57,
   "metadata": {},
   "outputs": [],
   "source": []
  },
  {
   "cell_type": "code",
   "execution_count": null,
   "metadata": {},
   "outputs": [],
   "source": []
  },
  {
   "cell_type": "code",
   "execution_count": null,
   "metadata": {},
   "outputs": [],
   "source": []
  },
  {
   "cell_type": "code",
   "execution_count": null,
   "metadata": {},
   "outputs": [],
   "source": []
  },
  {
   "cell_type": "code",
   "execution_count": null,
   "metadata": {},
   "outputs": [],
   "source": []
  },
  {
   "cell_type": "code",
   "execution_count": null,
   "metadata": {},
   "outputs": [],
   "source": []
  },
  {
   "cell_type": "code",
   "execution_count": null,
   "metadata": {},
   "outputs": [],
   "source": []
  },
  {
   "cell_type": "code",
   "execution_count": null,
   "metadata": {},
   "outputs": [],
   "source": []
  },
  {
   "cell_type": "code",
   "execution_count": null,
   "metadata": {},
   "outputs": [],
   "source": [
    "# initialte ROOT default canvas\n",
    "ROOT.gStyle.SetOptStat(0)\n",
    "c1 = ROOT.TCanvas(\"c1\",\"c1\",1600,1200)\n",
    "c1.SetGrid(1)\n",
    "c1.SetLeftMargin(0.14)\n",
    "c1.SetRightMargin(0.18)\n",
    "c1.SetBottomMargin(0.14)"
   ]
  },
  {
   "cell_type": "code",
   "execution_count": null,
   "metadata": {},
   "outputs": [],
   "source": [
    "value = 'TrackLength'\n",
    "xbins = 30\n",
    "xstart = 0\n",
    "xend = 30\n",
    "step = (xend-xstart)/xbins\n",
    "title = 'Track length [cm]'\n",
    "\n",
    "h_eff =  ROOT.TH1F(\"h_eff\",title,xbins,xstart,xend)\n",
    "h_pur = ROOT.TH1F(\"h_pur\",title,xbins,xstart,xend)\n",
    "h_effpur = ROOT.TH1F(\"h_effpur\",title,xbins,xstart,xend)\n",
    "for i in range(xbins): \n",
    "    cut = 'muon && fidVol && TrackPID_chimuon<30 && NuScore>0.1 && crt_tom_cut && TrackScore>0.8 && ('+value+'>('+str(xstart)+'+'+str(step)+'*'+str(i)+'))'\n",
    "    #print cut\n",
    "    pur = overlay_out.GetEntries(cut+' && numu_signal')*scale[overlay]*100.0/(NuCC.getTotNum_out(cut)+0.00001)\n",
    "    eff = overlay_out.GetEntries(cut+' && numu_signal')*100.0/overlay_out.GetEntries(\"numu_true\")\n",
    "    h_eff.SetBinContent(i+1,eff)\n",
    "    h_pur.SetBinContent(i+1,pur)\n",
    "    h_effpur.SetBinContent(i+1,eff*pur/100.0)\n",
    "    #print eff ,pur, eff*pur,i\n",
    "\n",
    "legend = ROOT.TLegend(0.15,0.75,0.48,0.9);\n",
    "legend.AddEntry(h_eff,\"efficiency\",\"f\");\n",
    "legend.AddEntry(h_pur,\"purity\",\"f\");\n",
    "legend.AddEntry(h_effpur,\"eff * pur\",\"f\");\n",
    "\n",
    "h_eff.SetLineColor(1)\n",
    "h_eff.SetMaximum(100)\n",
    "h_eff.SetMinimum(0)\n",
    "h_pur.SetLineColor(2)\n",
    "h_effpur.SetLineColor(3)\n",
    "h_pur.SetLineWidth(3)\n",
    "h_eff.SetLineWidth(3)\n",
    "h_effpur.SetLineWidth(3)\n",
    "h_eff.Draw()\n",
    "legend.Draw()\n",
    "h_pur.Draw('same')\n",
    "h_effpur.Draw('same')\n",
    "h_eff.Draw('same')\n",
    "c1.SetLogy(0)\n",
    "c1.Draw()\n",
    "c1.SaveAs(outputdir_png+ value +\".png\");\n",
    "c1.SaveAs(outputdir_root+ value+ \".root\");\n",
    "\n",
    "print 'Variation of cut on: '+value\n",
    "print 'Maximum value: ', h_effpur.GetMaximum()\n",
    "print 'Bin: ', h_effpur.GetMaximumBin(),' -> Value: ', xstart+(h_effpur.GetMaximumBin()-1)*step"
   ]
  },
  {
   "cell_type": "code",
   "execution_count": null,
   "metadata": {},
   "outputs": [],
   "source": [
    "value = 'TrackPID_chimuon'\n",
    "xbins = 30\n",
    "xstart = 0\n",
    "xend = 30\n",
    "step = (xend-xstart)/xbins\n",
    "title = 'Track PID chi square'\n",
    "\n",
    "h_eff =  ROOT.TH1F(\"h_eff\",title,xbins,xstart,xend)\n",
    "h_pur = ROOT.TH1F(\"h_pur\",title,xbins,xstart,xend)\n",
    "h_effpur = ROOT.TH1F(\"h_effpur\",title,xbins,xstart,xend)\n",
    "for i in range(xbins): \n",
    "    cut = 'muon && fidVol && crt_tom_cut && TrackScore>0.8 && \\\n",
    "        TrackLength>20 && NuScore>0.1 && ('+value+'<('+str(xstart)+'+'+str(step)+'*'+str(i)+'))'\n",
    "    #print cut\n",
    "    pur = overlay_out.GetEntries(cut+' && numu_signal')*scale[overlay]*100.0/(NuCC.getTotNum_out(cut)+0.00001)\n",
    "    eff = overlay_out.GetEntries(cut+' && numu_signal')*100.0/overlay_out.GetEntries(\"numu_true\")\n",
    "    h_eff.SetBinContent(i+1,eff)\n",
    "    h_pur.SetBinContent(i+1,pur)\n",
    "    h_effpur.SetBinContent(i+1,eff*pur/100.0)\n",
    "    #print eff ,pur, eff*pur,i\n",
    "\n",
    "legend = ROOT.TLegend(0.15,0.75,0.48,0.9);\n",
    "legend.AddEntry(h_eff,\"efficiency\",\"f\");\n",
    "legend.AddEntry(h_pur,\"purity\",\"f\");\n",
    "legend.AddEntry(h_effpur,\"eff * pur\",\"f\");\n",
    "\n",
    "h_eff.SetLineColor(1)\n",
    "h_eff.SetMaximum(100)\n",
    "h_eff.SetMinimum(0)\n",
    "h_pur.SetLineColor(2)\n",
    "h_effpur.SetLineColor(3)\n",
    "h_pur.SetLineWidth(3)\n",
    "h_eff.SetLineWidth(3)\n",
    "h_effpur.SetLineWidth(3)\n",
    "h_eff.Draw()\n",
    "legend.Draw()\n",
    "h_pur.Draw('same')\n",
    "h_effpur.Draw('same')\n",
    "h_eff.Draw('same')\n",
    "c1.SetLogy(0)\n",
    "c1.Draw()\n",
    "c1.SaveAs(outputdir_png+ value +\".png\");\n",
    "c1.SaveAs(outputdir_root+ value+ \".root\");\n",
    "\n",
    "print 'Variation of cut on: '+value\n",
    "print 'Maximum value: ', h_effpur.GetMaximum()\n",
    "print 'Bin: ', h_effpur.GetMaximumBin(),' -> Value: ', xstart+(h_effpur.GetMaximumBin()-1)*step"
   ]
  },
  {
   "cell_type": "code",
   "execution_count": null,
   "metadata": {},
   "outputs": [],
   "source": [
    "value = 'NuScore'\n",
    "xbins = 20\n",
    "xstart = 0\n",
    "xend = 0.5\n",
    "step = (xend-xstart)/xbins\n",
    "title = 'Track length [cm]'\n",
    "\n",
    "h_eff =  ROOT.TH1F(\"h_eff\",title,xbins,xstart,xend)\n",
    "h_pur = ROOT.TH1F(\"h_pur\",title,xbins,xstart,xend)\n",
    "h_effpur = ROOT.TH1F(\"h_effpur\",title,xbins,xstart,xend)\n",
    "for i in range(xbins): \n",
    "    cut = 'muon && fidVol && crt_tom_cut && TrackScore>0.8 && ('+value+'>('+str(xstart)+'+'+str(step)+'*'+str(i)+'))'\n",
    "    #print cut\n",
    "    pur = overlay_out.GetEntries(cut+' && numu_signal')*scale[overlay]*100.0/(NuCC.getTotNum_out(cut)+0.00001)\n",
    "    eff = overlay_out.GetEntries(cut+' && numu_signal')*100.0/overlay_out.GetEntries(\"numu_true\")\n",
    "    h_eff.SetBinContent(i+1,eff)\n",
    "    h_pur.SetBinContent(i+1,pur)\n",
    "    h_effpur.SetBinContent(i+1,eff*pur/100.0)\n",
    "    #print eff ,pur, eff*pur,i\n",
    "\n",
    "legend = ROOT.TLegend(0.15,0.75,0.48,0.9);\n",
    "legend.AddEntry(h_eff,\"efficiency\",\"f\");\n",
    "legend.AddEntry(h_pur,\"purity\",\"f\");\n",
    "legend.AddEntry(h_effpur,\"eff * pur\",\"f\");\n",
    "\n",
    "h_eff.SetLineColor(1)\n",
    "h_eff.SetMaximum(100)\n",
    "h_eff.SetMinimum(0)\n",
    "h_pur.SetLineColor(2)\n",
    "h_effpur.SetLineColor(3)\n",
    "h_pur.SetLineWidth(3)\n",
    "h_eff.SetLineWidth(3)\n",
    "h_effpur.SetLineWidth(3)\n",
    "h_eff.Draw()\n",
    "legend.Draw()\n",
    "h_pur.Draw('same')\n",
    "h_effpur.Draw('same')\n",
    "h_eff.Draw('same')\n",
    "c1.SetLogy(0)\n",
    "c1.Draw()\n",
    "c1.SaveAs(outputdir_png+ value +\".png\");\n",
    "c1.SaveAs(outputdir_root+ value+ \".root\");\n",
    "\n",
    "print 'Variation of cut on: '+value\n",
    "print 'Maximum value: ', h_effpur.GetMaximum()\n",
    "print 'Bin: ', h_effpur.GetMaximumBin(),' -> Value: ', xstart+(h_effpur.GetMaximumBin()-1)*step"
   ]
  },
  {
   "cell_type": "code",
   "execution_count": null,
   "metadata": {},
   "outputs": [],
   "source": []
  },
  {
   "cell_type": "code",
   "execution_count": null,
   "metadata": {},
   "outputs": [],
   "source": []
  },
  {
   "cell_type": "code",
   "execution_count": null,
   "metadata": {},
   "outputs": [],
   "source": []
  }
 ],
 "metadata": {
  "kernelspec": {
   "display_name": "Python 3",
   "language": "python",
   "name": "python3"
  },
  "language_info": {
   "codemirror_mode": {
    "name": "ipython",
    "version": 2
   },
   "file_extension": ".py",
   "mimetype": "text/x-python",
   "name": "python",
   "nbconvert_exporter": "python",
   "pygments_lexer": "ipython2",
   "version": "2.7.12"
  }
 },
 "nbformat": 4,
 "nbformat_minor": 2
}
