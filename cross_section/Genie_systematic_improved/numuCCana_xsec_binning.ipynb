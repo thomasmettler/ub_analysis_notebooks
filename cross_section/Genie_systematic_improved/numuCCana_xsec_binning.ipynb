{
 "cells": [
  {
   "cell_type": "code",
   "execution_count": 1,
   "metadata": {},
   "outputs": [
    {
     "name": "stdout",
     "output_type": "stream",
     "text": [
      "Welcome to JupyROOT 6.18/04\n"
     ]
    }
   ],
   "source": [
    "from __future__ import division\n",
    "import imp\n",
    "import uproot\n",
    "import matplotlib\n",
    "#matplotlib.use('agg')\n",
    "import matplotlib.pyplot as plt\n",
    "import matplotlib.image as mpimg\n",
    "import numpy as np\n",
    "import pandas as pd\n",
    "import os\n",
    "import ROOT\n",
    "import time\n",
    "import math\n",
    "from array import array\n",
    "import collections\n",
    "\n",
    "inputdir = '/home/tmettler/Desktop/v08_00_00_33/V08_00_00_35/weighted/'\n",
    "outputdir = '/home/tmettler/Desktop/v08_00_00_33/V08_00_00_35/weighted_improved/'+'xsec_binning/' \n",
    "output_filedir = outputdir\n",
    "input_filedir = '/home/tmettler/Desktop/v08_00_00_33/V08_00_00_35/weighted_improved/'\n",
    "lib_function_dir = '/home/tmettler/Desktop/uBoone/do_plots/'\n",
    "\n",
    "plot_systematic = 0\n",
    "\n",
    "# helper functions\n",
    "globale = imp.load_source('globale',lib_function_dir+'globale.py')\n",
    "NuCC = imp.load_source('NuCC_function',lib_function_dir+'NuCC_function.py')\n",
    "NuCC_w = imp.load_source('NuCCWeight_function',lib_function_dir+'NuCCWeight_function.py')"
   ]
  },
  {
   "cell_type": "code",
   "execution_count": 2,
   "metadata": {},
   "outputs": [],
   "source": [
    "#!jupyter nbconvert --to script numuCCana_xsec_weighted.ipynb"
   ]
  },
  {
   "cell_type": "code",
   "execution_count": 3,
   "metadata": {},
   "outputs": [
    {
     "name": "stderr",
     "output_type": "stream",
     "text": [
      "Warning in <TCanvas::Constructor>: Deleting canvas with same name: c1\n"
     ]
    }
   ],
   "source": [
    "# initialte ROOT default canvas\n",
    "ROOT.gROOT.SetBatch(ROOT.kTRUE)\n",
    "ROOT.gStyle.SetOptStat(0)\n",
    "ROOT.gStyle.SetOptTitle(0)\n",
    "c1 = ROOT.TCanvas(\"c1\",\"c1\",1600,1200)\n",
    "c1.SetGrid(1)\n",
    "c1.SetLeftMargin(0.14)\n",
    "c1.SetRightMargin(0.18)\n",
    "c1.SetBottomMargin(0.14)"
   ]
  },
  {
   "cell_type": "markdown",
   "metadata": {},
   "source": [
    "# Cross section for single differnetial in Momentum (no sys)"
   ]
  },
  {
   "cell_type": "code",
   "execution_count": 4,
   "metadata": {},
   "outputs": [],
   "source": [
    "# Load input files\n",
    "#inputdir = '/home/thomasm/numuCC/V33/10kevents/'\n",
    "outputdir_png, outputdir_root,outputdir_pdf = NuCC.prepareOutput2(outputdir)\n",
    "try:\n",
    "    os.stat(output_filedir)\n",
    "except:\n",
    "    os.mkdir(output_filedir)\n",
    "RootFile = ROOT.TFile(output_filedir+\"xsec_binning.root\",\"RECREATE\");\n",
    "\n",
    "#filename_overlay = 'NuCCana_Overlay_V18_V4.root'\n",
    "#filename_overlay = 'NuCCana_overlay_V26_weight.root'\n",
    "filename_overlay = 'NuCCana_overlay_V26_mar18.root'\n",
    "filename_data = 'NuCCana_data_V25.root'\n",
    "filename_ext = 'NuCCana_ext_V25.root'\n",
    "filename_dirt = 'NuCCana_dirt_V26_weight.root'\n",
    "    \n",
    "tree_name = 'numuCCAna'"
   ]
  },
  {
   "cell_type": "code",
   "execution_count": 5,
   "metadata": {},
   "outputs": [
    {
     "name": "stdout",
     "output_type": "stream",
     "text": [
      "Overlay: Number of Entries:\t1012051\n",
      "Data: Number of Entries:\t28005\n",
      "Ext: Number of Entries:\t\t222702\n",
      "Dirt: Number of Entries:\t40808\n",
      "\n",
      "POT: \n",
      "Data:\t\t7.644e+18\n",
      "Ext:\t\t0\n",
      "Overlay:\t1.26811760704e+21\n",
      "Dirt:\t\t1.25019694173e+20\n",
      "\n",
      "Scalefactors: \n",
      "Data:\t\t1.0\n",
      "Ext:\t\t0.0967862715198\n",
      "Overlay:\t0.0060278320856\n",
      "Dirt:\t\t0.0611423668132\n"
     ]
    }
   ],
   "source": [
    "#Open all the trees of the four files (data, ext, dirt, overlay)\n",
    "\n",
    "data, ext, dirt, overlay = NuCC.openTrees(inputdir, filename_data, filename_ext, filename_dirt, filename_overlay, tree_name)\n",
    "NuCC.printNumberOfEntries(data,ext,dirt,overlay)\n",
    "\n",
    "pot_overlay = NuCC.getPOT(inputdir,filename_overlay,tree_name)\n",
    "pot_dirt =  NuCC.getPOT(inputdir,filename_dirt,tree_name)\n",
    "#V25 files\n",
    "pot_data =    7.644e+18  # best with tor875\n",
    "data_trigger = 1838700.0 #2220362.0 #1854495.0 #4743794 # 1987072.0 # E1DCNT_wcut\n",
    "ext_trigger =  18997529.0  #2120135 #5685315 # EXT\n",
    "\n",
    "print 'POT: '\n",
    "print 'Data:\\t\\t', pot_data\n",
    "print 'Ext:\\t\\t', 0\n",
    "print 'Overlay:\\t', pot_overlay\n",
    "print 'Dirt:\\t\\t', pot_dirt\n",
    "print ''\n",
    "sample = [data,ext,overlay,dirt]\n",
    "scale = {data:1.0,ext:1.0,overlay:1.0,dirt:1.0}\n",
    "name = {data:'data',ext:'ext',overlay:'overlay',dirt:'dirt'}\n",
    "\n",
    "scale[data], scale[ext], scale[dirt], scale[overlay] = NuCC.calculateScale(data_trigger, ext_trigger, pot_data, pot_dirt, pot_overlay)\n",
    "\n",
    "scale[dirt] = scale[dirt]\n",
    "scale[overlay] = scale[overlay]\n",
    "print 'Scalefactors: '\n",
    "print 'Data:\\t\\t', scale[data]\n",
    "print 'Ext:\\t\\t', scale[ext]\n",
    "print 'Overlay:\\t', scale[overlay]\n",
    "print 'Dirt:\\t\\t', scale[dirt]\n"
   ]
  },
  {
   "cell_type": "code",
   "execution_count": 6,
   "metadata": {},
   "outputs": [
    {
     "name": "stdout",
     "output_type": "stream",
     "text": [
      "Overlay: Number of Entries:\t1013969\n",
      "Data: Number of Entries:\t28004\n",
      "Ext: Number of Entries:\t\t222701\n",
      "Dirt: Number of Entries:\t40800\n",
      "\n"
     ]
    }
   ],
   "source": [
    "if 1:\n",
    "    filename_overlay = filename_overlay+'out4_noflux.root'\n",
    "    #filename_overlay = 'NuCCana_overlay_points_1kev.rootout2.root'\n",
    "    filename_data = filename_data+'out4.root'\n",
    "    filename_ext = filename_ext+'out4.root'\n",
    "    filename_dirt = filename_dirt+'out4.root'\n",
    "\n",
    "    tree_name = 't_out'\n",
    "\n",
    "    data_out, ext_out, dirt_out, overlay_out = NuCC.openTreesOut(inputdir, filename_data, filename_ext, filename_dirt, filename_overlay, tree_name)\n",
    "    NuCC.printNumberOfEntries(data_out,ext_out,dirt_out,overlay_out)\n",
    "\n",
    "    sample_out = [data_out,ext_out,overlay_out,dirt_out]\n",
    "    scale_out = {data_out:1.0,ext_out:1.0,overlay_out:1.0,dirt_out:1.0}\n",
    "    name_out = {data_out:'data',ext_out:'ext',overlay_out:'overlay',dirt_out:'dirt'}\n",
    "\n",
    "    scale_out[data_out], scale_out[ext_out], scale_out[dirt_out], scale_out[overlay_out] = NuCC.calculateScale(data_trigger, ext_trigger, pot_data, pot_dirt, pot_overlay)\n",
    "    scale_out[dirt_out] = scale_out[dirt_out]\n",
    "    scale_out[overlay_out] = scale_out[overlay_out]"
   ]
  },
  {
   "cell_type": "code",
   "execution_count": 7,
   "metadata": {},
   "outputs": [
    {
     "name": "stdout",
     "output_type": "stream",
     "text": [
      "7.34038944724e-10\n",
      "7.3789785277e-10\n",
      "Fiducial Volume:  49184671.35\n",
      "Beam flux = 5.64049e+09  /cm2\n",
      "Number of target nuclei= 4.10331e+31  /cm3\n"
     ]
    }
   ],
   "source": [
    "##### flux and number of tragets parameters###\n",
    "flux = 1.16859e11/1.592e20 # flux per POT per cm2\n",
    "print flux\n",
    "flux = 7.3789785277e-10\n",
    "print flux\n",
    "roh_data = 1.3836 #data denisity g/cm3\n",
    "roh_MC = 1.3954 # MC denisity g/cm3\n",
    "mol = 39.95 # g for argon\n",
    "N_A = 6.022140857e23 # molec/mol avogadro zahl\n",
    "N_nucleons = 40.0\n",
    "V_fid = ((254.8-10)-(-1.55+10))*((117.47-10)-(-115.53+10))*((1036.9-50)-(-0.1+10))\n",
    "print 'Fiducial Volume: ', V_fid\n",
    "##############################################\n",
    "\n",
    "beam_flux = flux * pot_data\n",
    "print 'Beam flux = {:.5e}'.format(beam_flux),' /cm2'\n",
    "N_tot = roh_data*N_A*N_nucleons*V_fid/mol\n",
    "print 'Number of target nuclei= {:.5e}'.format(N_tot),' /cm3'"
   ]
  },
  {
   "cell_type": "code",
   "execution_count": 8,
   "metadata": {},
   "outputs": [],
   "source": [
    "# Define signals\n",
    "\n",
    "fidVol = '(Nu_Vx_sce>(-1.55+10) && Nu_Vx_sce<(254.8-10)) && (Nu_Vy_sce>(-115.53+10) && Nu_Vy_sce<(117.47-10)) &&(Nu_Vz_sce>(-0.1+10) && Nu_Vz_sce<(1036.9-50))'\n",
    "MCfidVol = '(MCNu_Vx>(-1.55+10) && MCNu_Vx<(254.8-10)) && (MCNu_Vy>(-115.53+10) && MCNu_Vy<(117.47-10)) &&(MCNu_Vz>(-0.1+10) && MCNu_Vz<(1036.9-50))'\n",
    "numu_signal = 'fidVol && MCfidVol && MCNu_CCNC==0 && MCNu_PDG==14 && MCTrackPDG==13 && MCTrackPurity>0.5' # numu CC signal definition\n",
    "numu_true = 'MCfidVol && MCNu_CCNC==0 && MCNu_PDG==14' # numu CC signal definition\n",
    "numu_nomu = 'fidVol && MCfidVol && MCNu_CCNC==0 && MCNu_PDG==14 && MCTrackPDG!=13 && MCTrackPurity>0.5' # not an MC muon\n",
    "numu_lowpur = 'fidVol && MCfidVol && MCNu_CCNC==0 && MCNu_PDG==14 && MCTrackPurity<0.5' #low purity\n",
    "numu_nc = 'fidVol && MCfidVol && MCNu_CCNC==1' # nutral current\n",
    "numu_ov = 'fidVol && !MCfidVol' # out of fiducial\n",
    "numu_other = 'fidVol && MCfidVol && MCNu_CCNC==0 && MCNu_PDG!=14' # e.g anti nu or nue\n",
    "#signal = 'MCfidVol && MCNu_CCNC==0 && MCNu_PDG==14'\n",
    "for x in sample:\n",
    "    x.SetAlias('muon','(muon_candidate_key==track_key)')\n",
    "\n",
    "energy_cut = ' && MCle_Energy>0.15'\n",
    "\n",
    "numu_signal = numu_signal+energy_cut\n",
    "numu_true = numu_true+energy_cut\n",
    "numu_nomu = numu_nomu+energy_cut\n",
    "numu_lowpur = numu_lowpur+energy_cut\n",
    "numu_nc = numu_nc+energy_cut\n",
    "numu_ov = numu_ov+energy_cut\n",
    "numu_other = numu_other+energy_cut\n",
    "    \n",
    "num_fidVol = {}\n",
    "for x in sample:\n",
    "    x.SetAlias('fidVol',fidVol)\n",
    "    x.SetAlias('MCfidVol',MCfidVol)\n",
    "    x.SetAlias('numu_signal',numu_signal)\n",
    "    x.SetAlias('numu_true',numu_true)\n",
    "    x.SetAlias('numu_nomu',numu_nomu)\n",
    "    x.SetAlias('numu_lowpur',numu_lowpur)\n",
    "    x.SetAlias('numu_nc',numu_nc)\n",
    "    x.SetAlias('numu_ov',numu_ov)\n",
    "    x.SetAlias('numu_other',numu_other)\n",
    "    num_fidVol[x] = x.GetEntries('fidVol && muon')*scale[x]\n",
    "    \n",
    "tot_num_fidVol = num_fidVol[ext]+num_fidVol[dirt]+num_fidVol[overlay]\n",
    "overlay_signals = {'numu_signal','numu_nomu','numu_lowpur','numu_nc','numu_ov','numu_other'}"
   ]
  },
  {
   "cell_type": "code",
   "execution_count": 9,
   "metadata": {},
   "outputs": [],
   "source": [
    "for x in sample_out:\n",
    "    x.SetAlias('muon','(track_key == key_muon)')\n",
    "\n",
    "num_fidVol = {}\n",
    "for x in sample_out:\n",
    "    x.SetAlias('fidVol',fidVol)\n",
    "    x.SetAlias('MCfidVol',MCfidVol)\n",
    "    x.SetAlias('numu_signal',numu_signal)\n",
    "    x.SetAlias('numu_true',numu_true)\n",
    "    x.SetAlias('numu_nomu',numu_nomu)\n",
    "    x.SetAlias('numu_lowpur',numu_lowpur)\n",
    "    x.SetAlias('numu_nc',numu_nc)\n",
    "    x.SetAlias('numu_ov',numu_ov)\n",
    "    x.SetAlias('numu_other',numu_other)"
   ]
  },
  {
   "cell_type": "code",
   "execution_count": 10,
   "metadata": {},
   "outputs": [
    {
     "name": "stderr",
     "output_type": "stream",
     "text": [
      "Warning in <TCanvas::Constructor>: Deleting canvas with same name: c1\n"
     ]
    }
   ],
   "source": [
    "# Load the global variables for access of functions\n",
    "NuCC.loadGlobal(data,ext,dirt,overlay,data_out,ext_out,dirt_out,overlay_out,scale,scale_out,tot_num_fidVol,overlay_signals,sample,sample_out, name,name_out, outputdir_png, outputdir_root,outputdir_pdf)\n",
    "#NuCC.printGlobal()"
   ]
  },
  {
   "cell_type": "code",
   "execution_count": 11,
   "metadata": {},
   "outputs": [],
   "source": [
    "# initialte ROOT default canvas\n",
    "ROOT.gStyle.SetOptStat(0)\n",
    "c1 = ROOT.TCanvas(\"c1\",\"c1\",1600,1200)\n",
    "c1.SetGrid(1)\n",
    "c1.SetLeftMargin(0.14)\n",
    "c1.SetRightMargin(0.18)\n",
    "c1.SetBottomMargin(0.14)"
   ]
  },
  {
   "cell_type": "code",
   "execution_count": 12,
   "metadata": {},
   "outputs": [],
   "source": [
    "\n",
    "track_start_border_x = '(TrackStart_x_sce <(-1.55+5) || TrackStart_x_sce > (254.8-5))'\n",
    "track_end_border_x = '(TrackEnd_x_sce <(-1.55+5) || TrackEnd_x_sce > (254.8-5))'\n",
    "track_start_border_y = '(TrackStart_y_sce <(-115.53+5) || TrackStart_y_sce > (117.47-5))'\n",
    "track_end_border_y = '(TrackEnd_y_sce <(-115.53+5) || TrackEnd_y_sce > (117.47-5))'\n",
    "track_start_border_z = '(TrackStart_z_sce <(0.1+5) || TrackStart_z_sce > (1036.9-5))'\n",
    "track_end_border_z = '(TrackEnd_z_sce <(0.1+5) || TrackEnd_z_sce > (1039.9-5))'\n",
    "\n",
    "track_end_uncontained = '(' + track_end_border_x + ' || ' + track_end_border_y + ' || ' + track_end_border_z+ ')'\n",
    "\n",
    "\n",
    "data.SetAlias(\"track_end_uncontained\",track_end_uncontained)\n",
    "ext.SetAlias(\"track_end_uncontained\",track_end_uncontained)\n",
    "overlay.SetAlias(\"track_end_uncontained\",track_end_uncontained)\n",
    "dirt.SetAlias(\"track_end_uncontained\",track_end_uncontained)\n",
    "data_out.SetAlias(\"track_end_uncontained\",track_end_uncontained)\n",
    "ext_out.SetAlias(\"track_end_uncontained\",track_end_uncontained)\n",
    "overlay_out.SetAlias(\"track_end_uncontained\",track_end_uncontained)\n",
    "dirt_out.SetAlias(\"track_end_uncontained\",track_end_uncontained)\n",
    "\n",
    "data.SetAlias(\"crt_cut\",\"(abs(crtt0_time+(crt_trig_corr_med)/1000-4)<0.9 || crtt0_time==-1)\")\n",
    "ext.SetAlias(\"crt_cut\",\"(abs(crtt0_time+(crt_trig_corr_med)/1000-3.57+3.195-4)<0.9 || crtt0_time==-1)\")\n",
    "overlay.SetAlias(\"crt_cut\",\"(abs(crtt0_time-3.95)<0.9 || crtt0_time==-1)\")\n",
    "dirt.SetAlias(\"crt_cut\",\"(abs(crtt0_time-3.95)<0.9 || crtt0_time==-1)\")\n",
    "data_out.SetAlias(\"crt_cut\",\"(abs(crtt0_time+(crt_trig_corr_med)/1000-3.95)<0.9 || crtt0_time==-1)\")\n",
    "ext_out.SetAlias(\"crt_cut\",\"(abs(crtt0_time+(crt_trig_corr_med)/1000-3.57+3.195-3.95)<0.9 || crtt0_time==-1)\")\n",
    "overlay_out.SetAlias(\"crt_cut\",\"(abs(crtt0_time-3.95)<0.9 || crtt0_time==-1)\")\n",
    "dirt_out.SetAlias(\"crt_cut\",\"(abs(crtt0_time-3.95)<0.9 || crtt0_time==-1)\")\n",
    "\n",
    "crt_tom_cut = 'nr_crthit_top==0 && crthit_vertex_zcut==0 && (track_end_uncontained==1 || nr_crthit_beam_tres==0) && crt_cut'\n",
    "\n",
    "data.SetAlias(\"crt_tom_cut\",crt_tom_cut)\n",
    "ext.SetAlias(\"crt_tom_cut\",crt_tom_cut)\n",
    "overlay.SetAlias(\"crt_tom_cut\",crt_tom_cut)\n",
    "dirt.SetAlias(\"crt_tom_cut\",crt_tom_cut)\n",
    "data_out.SetAlias(\"crt_tom_cut\",crt_tom_cut)\n",
    "ext_out.SetAlias(\"crt_tom_cut\",crt_tom_cut)\n",
    "overlay_out.SetAlias(\"crt_tom_cut\",crt_tom_cut)\n",
    "dirt_out.SetAlias(\"crt_tom_cut\",crt_tom_cut)\n",
    "\n",
    "weight_name = 'EventWeight*TunedCentralValue_Genie'\n"
   ]
  },
  {
   "cell_type": "code",
   "execution_count": 13,
   "metadata": {},
   "outputs": [],
   "source": [
    "from array import array\n",
    "mom_bins = [ 0.00, 0.18, 0.30, 0.45, 0.77, 1.28, 2.50 ]\n",
    "binnum = len(mom_bins) - 1\n",
    "h_xsec_mom = ROOT.TH1F('h_xsec_mom','h_xsec_mom',binnum,array('f',mom_bins))"
   ]
  },
  {
   "cell_type": "code",
   "execution_count": 14,
   "metadata": {},
   "outputs": [],
   "source": [
    "def draw_adding():\n",
    "    prelim = ROOT.TLatex(0.9,0.93, \"MicroBooNE Preliminary\");\n",
    "    prelim.SetTextFont(62);\n",
    "    prelim.SetTextColor(ROOT.kGray+2);\n",
    "    prelim.SetNDC();\n",
    "    prelim.SetTextSize(1/25.);\n",
    "    prelim.SetTextAlign(32);\n",
    "    #prelim.SetTextSize(0.04631579);\n",
    "    prelim.Draw()\n",
    "\n",
    "    pot_latex = ROOT.TLatex(.10, .92,'Accumulated POT: '+str(pot_data)) \n",
    "    pot_latex.SetTextFont(62);\n",
    "    pot_latex.SetTextColor(ROOT.kGray+2);\n",
    "    pot_latex.SetNDC();\n",
    "    pot_latex.SetTextSize(1/25.);\n",
    "    pot_latex.SetTextAlign(10) #;//left adjusted\n",
    "    pot_latex.Draw();\n",
    "    \n",
    "    return prelim, pot_latex\n",
    "\n",
    "def draw_sim():\n",
    "    prelim = ROOT.TLatex(0.9,0.93, \"MicroBooNE Simulation Preliminary\");\n",
    "    prelim.SetTextFont(62);\n",
    "    prelim.SetTextColor(ROOT.kGray+2);\n",
    "    prelim.SetNDC();\n",
    "    prelim.SetTextSize(1/20.);\n",
    "    prelim.SetTextAlign(32);\n",
    "    #prelim.SetTextSize(0.04631579);\n",
    "    prelim.Draw()\n",
    "    \n",
    "    return prelim"
   ]
  },
  {
   "cell_type": "code",
   "execution_count": 15,
   "metadata": {},
   "outputs": [
    {
     "name": "stderr",
     "output_type": "stream",
     "text": [
      "Warning in <TCanvas::Constructor>: Deleting canvas with same name: c1\n"
     ]
    }
   ],
   "source": [
    "# initialte ROOT default canvas\n",
    "ROOT.gStyle.SetOptStat(0)\n",
    "c1 = ROOT.TCanvas(\"c1\",\"c1\",1600,1200)\n",
    "c1.SetGrid(1)\n",
    "c1.SetLeftMargin(0.14)\n",
    "c1.SetRightMargin(0.05)\n",
    "c1.SetBottomMargin(0.14)"
   ]
  },
  {
   "cell_type": "code",
   "execution_count": 16,
   "metadata": {},
   "outputs": [],
   "source": [
    "cut = 'fidVol && muon && TrackLength>8 && crt_tom_cut && TrackScore>0.8\\\n",
    "                && TrackLength>20 && TrackPID_chiproton>78 && NuScore>0.1'"
   ]
  },
  {
   "cell_type": "code",
   "execution_count": 17,
   "metadata": {},
   "outputs": [],
   "source": [
    "def RosenBrock(xx):\n",
    "    x = xx[0];\n",
    "    y = xx[1];\n",
    "    tmp1 = y-x*x;\n",
    "    tmp2 = 1-x;\n",
    "    return 100*tmp1*tmp1+tmp2*tmp2;"
   ]
  },
  {
   "cell_type": "code",
   "execution_count": 147,
   "metadata": {},
   "outputs": [],
   "source": [
    "\n",
    "def get_n_data_momentum(xx):\n",
    "    h_reco = ROOT.TH1F(\"h_reco\",'Truth vs. Reco',100,0,2.5)\n",
    "    h_reco_r = ROOT.TH1F(\"h_reco_r\",'Truth vs. Reco',100,0,2.5)\n",
    "    this_cut = weight_name+'*('+cut+' && track_end_uncontained)'\n",
    "    this_cut_r = weight_name+'*('+cut+' && !track_end_uncontained)'\n",
    "    energy_cut_ = ' && TrackMomMCS_mom<'+str(xx[0])+' && TrackMomMCS_mom>'+str(bin_start)\n",
    "    energy_cut_r = ' && TrackMomRange_mu<'+str(xx[0])+' && TrackMomRange_mu>'+str(bin_start)\n",
    "\n",
    "    globale.data_out.Draw('TrackMomMCS_mom'+'>>h_reco',this_cut+energy_cut_,'')\n",
    "    globale.data_out.Draw('TrackMomRange_mu'+'>>h_reco_r',this_cut_r+energy_cut_r,'')\n",
    "    h_reco.Add(h_reco_r)\n",
    "    \n",
    "    return h_reco.GetEntries()\n",
    "\n",
    "def bin_border_momentum(xx):\n",
    "    #print xx[0]\n",
    "    h_reco = ROOT.TH1F(\"h_reco\",'Truth vs. Reco',100,0,2.5)\n",
    "    h_reco_r = ROOT.TH1F(\"h_reco_r\",'Truth vs. Reco',100,0,2.5)\n",
    "    this_cut = weight_name+'*('+cut+'&& numu_signal && track_end_uncontained)'\n",
    "    this_cut_r = weight_name+'*('+cut+'&& numu_signal && !track_end_uncontained)'\n",
    "    energy_cut_ = ' && TrackMomMCS_mom<'+str(xx[0])+' && TrackMomMCS_mom>'+str(bin_start)\n",
    "    energy_cut_r = ' && TrackMomRange_mu<'+str(xx[0])+' && TrackMomRange_mu>'+str(bin_start)\n",
    "\n",
    "    globale.overlay_out.Draw('MCle_Energy'+'>>h_reco',this_cut+energy_cut_,'')\n",
    "    globale.overlay_out.Draw('MCle_Energy'+'>>h_reco_r',this_cut_r+energy_cut_r,'')\n",
    "    h_reco.Add(h_reco_r)\n",
    "\n",
    "    f1 = ROOT.TF1(\"f1\",\"gaus\",0,2.5)\n",
    "    h_reco.Fit(\"f1\",\"R\");\n",
    "    mean_eventrate  = f1.GetParameter(2)\n",
    "    punish = 0.0\n",
    "    #if mean_eventrate == 0:\n",
    "    #    punish += 1\n",
    "    n_data = get_n_data_momentum(xx)\n",
    "    if n_data<100:\n",
    "        punish+=10/(n_data+1e-1)\n",
    "    print 'BinBorder: ',xx[0], 'difference', abs(abs(xx[0]-bin_start) - 2*mean_eventrate),'punish: ', punish,' n_data ',n_data\n",
    "\n",
    "    return abs(abs(xx[0]-bin_start) - 2*mean_eventrate)+punish"
   ]
  },
  {
   "cell_type": "code",
   "execution_count": 148,
   "metadata": {},
   "outputs": [],
   "source": [
    "\n",
    "def get_n_data_theta(xx):\n",
    "    h_reco = ROOT.TH1F(\"h_reco\",'Truth vs. Reco',100,-1,1)\n",
    "    #h_reco_r = ROOT.TH1F(\"h_reco_r\",'Truth vs. Reco',100,0,2.5)\n",
    "    this_cut = weight_name+'*('+cut+')'\n",
    "    #this_cut_r = weight_name+'*('+cut+' && !track_end_uncontained)'\n",
    "    theta_cut_ = ' && cos(TrackTheta)>'+str(xx[0])+' && cos(TrackTheta)<'+str(bin_end)\n",
    "    #energy_cut_r = ' && TrackMomRange_mu<'+str(xx[0])+' && TrackMomRange_mu>'+str(bin_start)\n",
    "\n",
    "    globale.data_out.Draw('cos(TrackTheta)'+'>>h_reco',this_cut+theta_cut_,'')\n",
    "    #globale.data_out.Draw('TrackMomRange_mu'+'>>h_reco_r',this_cut_r+energy_cut_r,'')\n",
    "    #h_reco.Add(h_reco_r)\n",
    "    \n",
    "    return h_reco.GetEntries()\n",
    "\n",
    "def bin_border_theta(xx):\n",
    "    #print xx[0]\n",
    "    h_reco = ROOT.TH1F(\"h_reco\",'Truth vs. Reco',100,-1,1)\n",
    "    #h_reco_r = ROOT.TH1F(\"h_reco_r\",'Truth vs. Reco',100,0,2.5)\n",
    "    this_cut = weight_name+'*('+cut+'&& numu_signal)'\n",
    "    #this_cut_r = weight_name+'*('+cut+'&& numu_signal && !track_end_uncontained)'\n",
    "    energy_cut_ = ' && cos(TrackTheta)>'+str(xx[0])+' && cos(TrackTheta)<'+str(bin_end)\n",
    "    #energy_cut_r = ' && TrackMomRange_mu<'+str(xx[0])+' && TrackMomRange_mu>'+str(bin_start)\n",
    "\n",
    "    globale.overlay_out.Draw('cos(MCNu_leptonTheta)'+'>>h_reco',this_cut+energy_cut_,'')\n",
    "    #globale.overlay_out.Draw('MCle_Energy'+'>>h_reco_r',this_cut_r+energy_cut_r,'')\n",
    "    h_reco.Add(h_reco_r)\n",
    "\n",
    "    f1 = ROOT.TF1(\"f1\",\"gaus\",-1,1)\n",
    "    h_reco.Fit(\"f1\",\"R\");\n",
    "    mean_eventrate  = f1.GetParameter(2)\n",
    "    punish = 0.0\n",
    "    #if mean_eventrate == 0:\n",
    "    #    punish += 1\n",
    "    n_data = get_n_data_theta(xx)\n",
    "    if n_data<100:\n",
    "        punish+=10/(n_data+1e-2)\n",
    "    print 'BinBorder: ',xx[0], 'difference', abs(abs(xx[0]-bin_end) - 2*mean_eventrate),'punish: ', punish,' n_data ',n_data\n",
    "\n",
    "    return (abs(abs(xx[0]-bin_end) - 2*mean_eventrate)+punish)"
   ]
  },
  {
   "cell_type": "code",
   "execution_count": 149,
   "metadata": {},
   "outputs": [
    {
     "data": {
      "text/plain": [
       "array([-0.90078125])"
      ]
     },
     "execution_count": 149,
     "metadata": {},
     "output_type": "execute_result"
    }
   ],
   "source": [
    "from scipy.optimize import minimize\n",
    "\n",
    "x0 = [-1.0]\n",
    "bin_end = -0.3\n",
    "\n",
    "#res = minimize(bin_border_theta, x0, method='Nelder-Mead', tol=1e-3, options={'maxiter':100})\n",
    "res.x"
   ]
  },
  {
   "cell_type": "code",
   "execution_count": 153,
   "metadata": {},
   "outputs": [
    {
     "name": "stdout",
     "output_type": "stream",
     "text": [
      "BinBorder:  0.6 difference 0.06786471902823343 punish:  0.0  n_data  504.0\n",
      "BinBorder:  0.63 difference 0.08092279830676605 punish:  0.0  n_data  542.0\n",
      "BinBorder:  0.57 difference 0.05591850173763033 punish:  0.0  n_data  449.0\n",
      "BinBorder:  0.5399999999999998 difference 0.043490622761965636 punish:  0.0  n_data  395.0\n",
      "BinBorder:  0.47999999999999965 difference 0.024197358380533718 punish:  0.0  n_data  286.0\n",
      "BinBorder:  0.4199999999999995 difference 0.007996256576579736 punish:  0.0  n_data  184.0\n",
      "BinBorder:  0.29999999999999916 difference 0.03000000000000086 punish:  10.0  n_data  0.0\n",
      "BinBorder:  0.47999999999999965 difference 0.024197358380533718 punish:  0.0  n_data  286.0\n",
      "BinBorder:  0.3599999999999993 difference 0.009652695171253015 punish:  0.0161030595813  n_data  62.0\n",
      "BinBorder:  0.44999999999999957 difference 0.015394750203532592 punish:  0.0  n_data  230.0\n",
      "BinBorder:  0.3899999999999994 difference 0.00012096876058229067 punish:  0.0  n_data  119.0\n",
      "BinBorder:  0.3599999999999993 difference 0.009652695171253015 punish:  0.0161030595813  n_data  62.0\n",
      "BinBorder:  0.3599999999999993 difference 0.009652695171253015 punish:  0.0161030595813  n_data  62.0\n",
      "BinBorder:  0.40499999999999947 difference 0.0033947098391518965 punish:  0.0  n_data  145.0\n",
      "BinBorder:  0.37499999999999933 difference 0.00500321174308891 punish:  0.0109769484083  n_data  91.0\n",
      "BinBorder:  0.3974999999999994 difference 0.0012018057269832239 punish:  0.0  n_data  132.0\n",
      "BinBorder:  0.3824999999999994 difference 0.0028115192112438334 punish:  0.0  n_data  106.0\n",
      "BinBorder:  0.3937499999999994 difference 0.0006667706850309874 punish:  0.0  n_data  126.0\n",
      "BinBorder:  0.3862499999999994 difference 0.0014061278275735445 punish:  0.0  n_data  109.0\n",
      "BinBorder:  0.3918749999999994 difference 0.0006799106298859062 punish:  0.0  n_data  123.0\n",
      "BinBorder:  0.3918749999999994 difference 0.0006799106298859062 punish:  0.0  n_data  123.0\n",
      "BinBorder:  0.3881249999999994 difference 0.0009351616068137558 punish:  0.0  n_data  112.0\n",
      "BinBorder:  0.3909374999999994 difference 0.0002900733285930643 punish:  0.0  n_data  121.0\n"
     ]
    },
    {
     "data": {
      "text/plain": [
       "array([0.39])"
      ]
     },
     "execution_count": 153,
     "metadata": {},
     "output_type": "execute_result"
    },
    {
     "name": "stdout",
     "output_type": "stream",
     "text": [
      " FCN=6458.89 FROM MIGRAD    STATUS=CONVERGED     100 CALLS         101 TOTAL\n",
      "                     EDM=3.26359e-07    STRATEGY= 1  ERROR MATRIX UNCERTAINTY   2.2 per cent\n",
      "  EXT PARAMETER                                   STEP         FIRST   \n",
      "  NO.   NAME      VALUE            ERROR          SIZE      DERIVATIVE \n",
      "   1  Constant     3.57283e+03   2.38192e+01   2.45684e-01  -1.19631e-05\n",
      "   2  Mean         4.90194e-01   6.29560e-04  -6.80400e-06   1.68717e+00\n",
      "   3  Sigma        1.01068e-01   4.21301e-04  -1.98685e-06  -1.43622e+00\n",
      " FCN=7090.36 FROM MIGRAD    STATUS=CONVERGED     109 CALLS         110 TOTAL\n",
      "                     EDM=1.08836e-06    STRATEGY= 1      ERROR MATRIX ACCURATE \n",
      "  EXT PARAMETER                                   STEP         FIRST   \n",
      "  NO.   NAME      VALUE            ERROR          SIZE      DERIVATIVE \n",
      "   1  Constant     3.63623e+03   2.30604e+01   7.48511e-01   4.81736e-05\n",
      "   2  Mean         5.07242e-01   6.57461e-04   2.26126e-05   8.30246e-01\n",
      "   3  Sigma        1.09539e-01   4.28246e-04   2.60505e-05  -7.89205e-01\n",
      " FCN=5885.6 FROM MIGRAD    STATUS=CONVERGED      99 CALLS         100 TOTAL\n",
      "                     EDM=1.70457e-09    STRATEGY= 1  ERROR MATRIX UNCERTAINTY   2.5 per cent\n",
      "  EXT PARAMETER                                   STEP         FIRST   \n",
      "  NO.   NAME      VALUE            ERROR          SIZE      DERIVATIVE \n",
      "   1  Constant     3.50735e+03   2.52821e+01   6.03676e-03   8.18482e-07\n",
      "   2  Mean         4.72713e-01   5.91700e-04  -4.61812e-07  -5.84103e-02\n",
      "   3  Sigma        9.20407e-02   4.22424e-04  -1.86709e-06  -3.83845e-02\n",
      " FCN=5292.28 FROM MIGRAD    STATUS=CONVERGED     110 CALLS         111 TOTAL\n",
      "                     EDM=2.6179e-09    STRATEGY= 1  ERROR MATRIX UNCERTAINTY   2.2 per cent\n",
      "  EXT PARAMETER                                   STEP         FIRST   \n",
      "  NO.   NAME      VALUE            ERROR          SIZE      DERIVATIVE \n",
      "   1  Constant     3.40530e+03   2.65249e+01  -4.97052e-02   2.54323e-06\n",
      "   2  Mean         4.56063e-01   5.62095e-04   9.83505e-07  -1.44564e-01\n",
      "   3  Sigma        8.32547e-02   4.20692e-04   1.38906e-06   3.78202e-02\n",
      " FCN=4070.25 FROM MIGRAD    STATUS=CONVERGED     140 CALLS         141 TOTAL\n",
      "                     EDM=1.1047e-07    STRATEGY= 1  ERROR MATRIX UNCERTAINTY   3.2 per cent\n",
      "  EXT PARAMETER                                   STEP         FIRST   \n",
      "  NO.   NAME      VALUE            ERROR          SIZE      DERIVATIVE \n",
      "   1  Constant     3.21206e+03   3.08925e+01   2.83588e-01  -1.25768e-05\n",
      "   2  Mean         4.20748e-01   4.87770e-04  -2.26850e-06   7.84069e-02\n",
      "   3  Sigma        6.29013e-02   4.14018e-04  -9.30360e-06   2.32532e-01\n",
      " FCN=2815.5 FROM MIGRAD    STATUS=CONVERGED     177 CALLS         178 TOTAL\n",
      "                     EDM=4.79833e-09    STRATEGY= 1      ERROR MATRIX ACCURATE \n",
      "  EXT PARAMETER                                   STEP         FIRST   \n",
      "  NO.   NAME      VALUE            ERROR          SIZE      DERIVATIVE \n",
      "   1  Constant     2.89938e+03   3.82795e+01   6.88157e-01   1.39314e-06\n",
      "   2  Mean         3.86778e-01   4.11859e-04   9.73203e-06   2.22104e-01\n",
      "   3  Sigma        4.10019e-02   3.89590e-04   2.45188e-05  -2.43606e-02\n",
      " FCN=4070.25 FROM MIGRAD    STATUS=CONVERGED     140 CALLS         141 TOTAL\n",
      "                     EDM=1.1047e-07    STRATEGY= 1  ERROR MATRIX UNCERTAINTY   3.2 per cent\n",
      "  EXT PARAMETER                                   STEP         FIRST   \n",
      "  NO.   NAME      VALUE            ERROR          SIZE      DERIVATIVE \n",
      "   1  Constant     3.21206e+03   3.08925e+01   2.83588e-01  -1.25768e-05\n",
      "   2  Mean         4.20748e-01   4.87770e-04  -2.26850e-06   7.84069e-02\n",
      "   3  Sigma        6.29013e-02   4.14018e-04  -9.30360e-06   2.32532e-01\n",
      " FCN=1190.09 FROM MIGRAD    STATUS=CONVERGED     189 CALLS         190 TOTAL\n",
      "                     EDM=4.36089e-10    STRATEGY= 1  ERROR MATRIX UNCERTAINTY   2.5 per cent\n",
      "  EXT PARAMETER                                   STEP         FIRST   \n",
      "  NO.   NAME      VALUE            ERROR          SIZE      DERIVATIVE \n",
      "   1  Constant     1.81244e+03   4.10933e+01   1.56177e-01  -3.30364e-07\n",
      "   2  Mean         3.52508e-01   3.46804e-04   1.02730e-06   9.39817e-02\n",
      "   3  Sigma        1.98263e-02   3.03109e-04   1.05821e-05   1.58357e-03\n",
      " FCN=3465.55 FROM MIGRAD    STATUS=CONVERGED     151 CALLS         152 TOTAL\n",
      "                     EDM=6.60601e-07    STRATEGY= 1  ERROR MATRIX UNCERTAINTY   3.1 per cent\n",
      "  EXT PARAMETER                                   STEP         FIRST   \n",
      "  NO.   NAME      VALUE            ERROR          SIZE      DERIVATIVE \n",
      "   1  Constant     3.06848e+03   3.41987e+01   4.99039e-01   3.16357e-05\n",
      "   2  Mean         4.03580e-01   4.58350e-04  -2.94981e-07   1.98432e+00\n",
      "   3  Sigma        5.23026e-02   4.11768e-04  -1.57011e-05  -4.43751e-01\n",
      " FCN=2168.59 FROM MIGRAD    STATUS=CONVERGED     201 CALLS         202 TOTAL\n",
      "                     EDM=5.27645e-08    STRATEGY= 1      ERROR MATRIX ACCURATE \n",
      "  EXT PARAMETER                                   STEP         FIRST   \n",
      "  NO.   NAME      VALUE            ERROR          SIZE      DERIVATIVE \n",
      "   1  Constant     2.54590e+03   4.34111e+01   6.61003e-01  -8.12286e-06\n",
      "   2  Mean         3.69662e-01   3.79359e-04   7.80491e-06   4.97718e-01\n",
      "   3  Sigma        3.00605e-02   3.80449e-04   2.38159e-05  -1.21275e-01\n",
      " FCN=1190.09 FROM MIGRAD    STATUS=CONVERGED     189 CALLS         190 TOTAL\n",
      "                     EDM=4.36089e-10    STRATEGY= 1  ERROR MATRIX UNCERTAINTY   2.5 per cent\n",
      "  EXT PARAMETER                                   STEP         FIRST   \n",
      "  NO.   NAME      VALUE            ERROR          SIZE      DERIVATIVE \n",
      "   1  Constant     1.81244e+03   4.10933e+01   1.56177e-01  -3.30364e-07\n",
      "   2  Mean         3.52508e-01   3.46804e-04   1.02730e-06   9.39817e-02\n",
      "   3  Sigma        1.98263e-02   3.03109e-04   1.05821e-05   1.58357e-03\n",
      " FCN=1190.09 FROM MIGRAD    STATUS=CONVERGED     189 CALLS         190 TOTAL\n",
      "                     EDM=4.36089e-10    STRATEGY= 1  ERROR MATRIX UNCERTAINTY   2.5 per cent\n",
      "  EXT PARAMETER                                   STEP         FIRST   \n",
      "  NO.   NAME      VALUE            ERROR          SIZE      DERIVATIVE \n",
      "   1  Constant     1.81244e+03   4.10933e+01   1.56177e-01  -3.30364e-07\n",
      "   2  Mean         3.52508e-01   3.46804e-04   1.02730e-06   9.39817e-02\n",
      "   3  Sigma        1.98263e-02   3.03109e-04   1.05821e-05   1.58357e-03\n",
      " FCN=2463.29 FROM MIGRAD    STATUS=CONVERGED     176 CALLS         177 TOTAL\n",
      "                     EDM=6.37443e-07    STRATEGY= 1  ERROR MATRIX UNCERTAINTY   1.7 per cent\n",
      "  EXT PARAMETER                                   STEP         FIRST   \n",
      "  NO.   NAME      VALUE            ERROR          SIZE      DERIVATIVE \n",
      "   1  Constant     2.74438e+03   4.05065e+01   8.68785e-01  -4.33022e-05\n",
      "   2  Mean         3.78399e-01   3.97828e-04  -1.51969e-05  -1.45644e+00\n",
      "   3  Sigma        3.58026e-02   3.87811e-04  -1.37305e-05  -1.17737e+00\n",
      " FCN=1781.01 FROM MIGRAD    STATUS=CONVERGED     195 CALLS         196 TOTAL\n",
      "                     EDM=3.24902e-10    STRATEGY= 1  ERROR MATRIX UNCERTAINTY   1.8 per cent\n",
      "  EXT PARAMETER                                   STEP         FIRST   \n",
      "  NO.   NAME      VALUE            ERROR          SIZE      DERIVATIVE \n",
      "   1  Constant     2.21359e+03   4.71987e+01   1.16156e-01  -7.26049e-07\n",
      "   2  Mean         3.60861e-01   3.95959e-04  -7.47342e-07  -7.24140e-02\n",
      "   3  Sigma        2.50016e-02   4.13694e-04  -6.42859e-06   3.38672e-04\n",
      " FCN=2315.53 FROM MIGRAD    STATUS=CONVERGED     165 CALLS         166 TOTAL\n",
      "                     EDM=3.50316e-07    STRATEGY= 1  ERROR MATRIX UNCERTAINTY   2.6 per cent\n",
      "  EXT PARAMETER                                   STEP         FIRST   \n",
      "  NO.   NAME      VALUE            ERROR          SIZE      DERIVATIVE \n",
      "   1  Constant     2.63757e+03   4.21189e+01   3.67920e-01   3.71621e-06\n",
      "   2  Mean         3.74156e-01   3.95084e-04   3.94549e-06   2.75968e+00\n",
      "   3  Sigma        3.31491e-02   3.96800e-04  -3.21142e-06  -4.97817e-01\n",
      " FCN=1903.6 FROM MIGRAD    STATUS=CONVERGED     208 CALLS         209 TOTAL\n",
      "                     EDM=4.09063e-09    STRATEGY= 1  ERROR MATRIX UNCERTAINTY   2.0 per cent\n",
      "  EXT PARAMETER                                   STEP         FIRST   \n",
      "  NO.   NAME      VALUE            ERROR          SIZE      DERIVATIVE \n",
      "   1  Constant     2.38753e+03   4.34448e+01  -4.13501e-04  -1.95977e-06\n",
      "   2  Mean         3.65435e-01   3.75754e-04  -4.02096e-07  -2.66881e-01\n",
      "   3  Sigma        2.76558e-02   3.71129e-04  -8.55134e-07  -4.01414e-02\n",
      " FCN=2236.16 FROM MIGRAD    STATUS=CONVERGED     181 CALLS         182 TOTAL\n",
      "                     EDM=3.41364e-09    STRATEGY= 1  ERROR MATRIX UNCERTAINTY   2.2 per cent\n",
      "  EXT PARAMETER                                   STEP         FIRST   \n",
      "  NO.   NAME      VALUE            ERROR          SIZE      DERIVATIVE \n",
      "   1  Constant     2.59439e+03   4.29733e+01   9.00807e-02  -3.51774e-06\n",
      "   2  Mean         3.71856e-01   3.87028e-04  -1.57622e-06  -8.35157e-02\n",
      "   3  Sigma        3.15416e-02   3.88743e-04  -2.29497e-06  -8.01782e-02\n",
      " FCN=2013.16 FROM MIGRAD    STATUS=CONVERGED     197 CALLS         198 TOTAL\n",
      "                     EDM=6.72309e-07    STRATEGY= 1  ERROR MATRIX UNCERTAINTY   1.8 per cent\n",
      "  EXT PARAMETER                                   STEP         FIRST   \n",
      "  NO.   NAME      VALUE            ERROR          SIZE      DERIVATIVE \n",
      "   1  Constant     2.47119e+03   4.41157e+01   3.62964e-01  -6.53683e-06\n",
      "   2  Mean         3.67525e-01   3.76749e-04  -4.88895e-06  -4.34478e+00\n",
      "   3  Sigma        2.88281e-02   3.78676e-04  -1.38246e-05   4.20598e-01\n",
      " FCN=2194.33 FROM MIGRAD    STATUS=CONVERGED     175 CALLS         176 TOTAL\n",
      "                     EDM=1.11127e-08    STRATEGY= 1  ERROR MATRIX UNCERTAINTY   2.5 per cent\n",
      "  EXT PARAMETER                                   STEP         FIRST   \n",
      "  NO.   NAME      VALUE            ERROR          SIZE      DERIVATIVE \n",
      "   1  Constant     2.57726e+03   4.33756e+01   1.07357e-01   3.23104e-06\n",
      "   2  Mean         3.70585e-01   3.81369e-04   1.90509e-07   4.01462e-01\n",
      "   3  Sigma        3.05975e-02   3.82471e-04  -5.81612e-06  -3.86261e-02\n",
      " FCN=2194.33 FROM MIGRAD    STATUS=CONVERGED     175 CALLS         176 TOTAL\n",
      "                     EDM=1.11127e-08    STRATEGY= 1  ERROR MATRIX UNCERTAINTY   2.5 per cent\n",
      "  EXT PARAMETER                                   STEP         FIRST   \n",
      "  NO.   NAME      VALUE            ERROR          SIZE      DERIVATIVE \n",
      "   1  Constant     2.57726e+03   4.33756e+01   1.07357e-01   3.23104e-06\n",
      "   2  Mean         3.70585e-01   3.81369e-04   1.90509e-07   4.01462e-01\n",
      "   3  Sigma        3.05975e-02   3.82471e-04  -5.81612e-06  -3.86261e-02\n",
      " FCN=2099.55 FROM MIGRAD    STATUS=CONVERGED     207 CALLS         208 TOTAL\n",
      "                     EDM=1.22632e-08    STRATEGY= 1  ERROR MATRIX UNCERTAINTY   1.9 per cent\n",
      "  EXT PARAMETER                                   STEP         FIRST   \n",
      "  NO.   NAME      VALUE            ERROR          SIZE      DERIVATIVE \n",
      "   1  Constant     2.50417e+03   4.33223e+01   7.93344e-02   1.68908e-06\n",
      "   2  Mean         3.68707e-01   3.79911e-04  -1.10112e-06  -4.68666e-01\n",
      "   3  Sigma        2.95301e-02   3.79054e-04  -2.88441e-06   4.80909e-03\n",
      " FCN=2162.96 FROM MIGRAD    STATUS=CONVERGED     193 CALLS         194 TOTAL\n",
      "                     EDM=7.59142e-07    STRATEGY= 1      ERROR MATRIX ACCURATE \n",
      "  EXT PARAMETER                                   STEP         FIRST   \n",
      "  NO.   NAME      VALUE            ERROR          SIZE      DERIVATIVE \n",
      "   1  Constant     2.55623e+03   4.32767e+01   6.58434e-01  -3.67513e-05\n",
      "   2  Mean         3.70147e-01   3.80745e-04   7.81372e-06   1.14622e+00\n",
      "   3  Sigma        3.03237e-02   3.80815e-04   2.37591e-05  -1.12590e+00\n"
     ]
    },
    {
     "name": "stderr",
     "output_type": "stream",
     "text": [
      "Warning in <TFile::Append>: Replacing existing TH1: h_reco (Potential memory leak).\n",
      "Warning in <TFile::Append>: Replacing existing TH1: h_reco_r (Potential memory leak).\n",
      "Warning in <TFile::Append>: Replacing existing TH1: h_reco (Potential memory leak).\n",
      "Warning in <TFile::Append>: Replacing existing TH1: h_reco_r (Potential memory leak).\n",
      "Warning in <TFile::Append>: Replacing existing TH1: h_reco (Potential memory leak).\n",
      "Warning in <TFile::Append>: Replacing existing TH1: h_reco_r (Potential memory leak).\n",
      "Warning in <TFile::Append>: Replacing existing TH1: h_reco (Potential memory leak).\n",
      "Warning in <TFile::Append>: Replacing existing TH1: h_reco_r (Potential memory leak).\n",
      "Warning in <TFile::Append>: Replacing existing TH1: h_reco (Potential memory leak).\n",
      "Warning in <TFile::Append>: Replacing existing TH1: h_reco_r (Potential memory leak).\n",
      "Warning in <TFile::Append>: Replacing existing TH1: h_reco (Potential memory leak).\n",
      "Warning in <TFile::Append>: Replacing existing TH1: h_reco_r (Potential memory leak).\n",
      "Warning in <Fit>: Fit data is empty \n",
      "Warning in <TFile::Append>: Replacing existing TH1: h_reco (Potential memory leak).\n",
      "Warning in <TFile::Append>: Replacing existing TH1: h_reco_r (Potential memory leak).\n",
      "Warning in <TFile::Append>: Replacing existing TH1: h_reco (Potential memory leak).\n",
      "Warning in <TFile::Append>: Replacing existing TH1: h_reco_r (Potential memory leak).\n",
      "Warning in <TFile::Append>: Replacing existing TH1: h_reco (Potential memory leak).\n",
      "Warning in <TFile::Append>: Replacing existing TH1: h_reco_r (Potential memory leak).\n",
      "Warning in <TFile::Append>: Replacing existing TH1: h_reco (Potential memory leak).\n",
      "Warning in <TFile::Append>: Replacing existing TH1: h_reco_r (Potential memory leak).\n",
      "Warning in <TFile::Append>: Replacing existing TH1: h_reco (Potential memory leak).\n",
      "Warning in <TFile::Append>: Replacing existing TH1: h_reco_r (Potential memory leak).\n",
      "Warning in <TFile::Append>: Replacing existing TH1: h_reco (Potential memory leak).\n",
      "Warning in <TFile::Append>: Replacing existing TH1: h_reco_r (Potential memory leak).\n",
      "Warning in <TFile::Append>: Replacing existing TH1: h_reco (Potential memory leak).\n",
      "Warning in <TFile::Append>: Replacing existing TH1: h_reco_r (Potential memory leak).\n",
      "Warning in <TFile::Append>: Replacing existing TH1: h_reco (Potential memory leak).\n",
      "Warning in <TFile::Append>: Replacing existing TH1: h_reco_r (Potential memory leak).\n",
      "Warning in <TFile::Append>: Replacing existing TH1: h_reco (Potential memory leak).\n",
      "Warning in <TFile::Append>: Replacing existing TH1: h_reco_r (Potential memory leak).\n",
      "Warning in <TFile::Append>: Replacing existing TH1: h_reco (Potential memory leak).\n",
      "Warning in <TFile::Append>: Replacing existing TH1: h_reco_r (Potential memory leak).\n",
      "Warning in <TFile::Append>: Replacing existing TH1: h_reco (Potential memory leak).\n",
      "Warning in <TFile::Append>: Replacing existing TH1: h_reco_r (Potential memory leak).\n",
      "Warning in <TFile::Append>: Replacing existing TH1: h_reco (Potential memory leak).\n",
      "Warning in <TFile::Append>: Replacing existing TH1: h_reco_r (Potential memory leak).\n",
      "Warning in <TFile::Append>: Replacing existing TH1: h_reco (Potential memory leak).\n",
      "Warning in <TFile::Append>: Replacing existing TH1: h_reco_r (Potential memory leak).\n",
      "Warning in <TFile::Append>: Replacing existing TH1: h_reco (Potential memory leak).\n",
      "Warning in <TFile::Append>: Replacing existing TH1: h_reco_r (Potential memory leak).\n",
      "Warning in <TFile::Append>: Replacing existing TH1: h_reco (Potential memory leak).\n",
      "Warning in <TFile::Append>: Replacing existing TH1: h_reco_r (Potential memory leak).\n",
      "Warning in <TFile::Append>: Replacing existing TH1: h_reco (Potential memory leak).\n",
      "Warning in <TFile::Append>: Replacing existing TH1: h_reco_r (Potential memory leak).\n",
      "Warning in <TFile::Append>: Replacing existing TH1: h_reco (Potential memory leak).\n",
      "Warning in <TFile::Append>: Replacing existing TH1: h_reco_r (Potential memory leak).\n"
     ]
    }
   ],
   "source": [
    "from scipy.optimize import minimize\n",
    "\n",
    "x0 = [0.6]\n",
    "bin_start = 0.33\n",
    "\n",
    "res = minimize(bin_border, x0, method='Nelder-Mead', tol=1e-3, options={'maxiter':100})\n",
    "res.x"
   ]
  },
  {
   "cell_type": "code",
   "execution_count": 21,
   "metadata": {},
   "outputs": [
    {
     "ename": "NameError",
     "evalue": "name 'dfesg' is not defined",
     "output_type": "error",
     "traceback": [
      "\u001b[0;31m\u001b[0m",
      "\u001b[0;31mNameError\u001b[0mTraceback (most recent call last)",
      "\u001b[0;32m<ipython-input-21-0061ffecde7c>\u001b[0m in \u001b[0;36m<module>\u001b[0;34m()\u001b[0m\n\u001b[0;32m----> 1\u001b[0;31m \u001b[0mdfesg\u001b[0m\u001b[0;34m\u001b[0m\u001b[0m\n\u001b[0m",
      "\u001b[0;31mNameError\u001b[0m: name 'dfesg' is not defined"
     ]
    }
   ],
   "source": [
    "dfesg"
   ]
  },
  {
   "cell_type": "code",
   "execution_count": 60,
   "metadata": {},
   "outputs": [
    {
     "name": "stdout",
     "output_type": "stream",
     "text": [
      "fidVol && muon && TrackLength>8 && crt_tom_cut && TrackScore>0.8                && TrackLength>20 && TrackPID_chiproton>78 && NuScore>0.1\n"
     ]
    },
    {
     "data": {
      "text/plain": [
       "175551"
      ]
     },
     "execution_count": 60,
     "metadata": {},
     "output_type": "execute_result"
    },
    {
     "name": "stderr",
     "output_type": "stream",
     "text": [
      "Info in <TCanvas::SaveAs>: ROOT file /home/tmettler/Desktop/v08_00_00_33/V08_00_00_35/weighted_improved/xsec_binning/root/h2_true_MCS.root has been created\n",
      "Info in <TCanvas::Print>: png file /home/tmettler/Desktop/v08_00_00_33/V08_00_00_35/weighted_improved/xsec_binning/png/h2_true_MCS.png has been created\n",
      "Info in <TCanvas::Print>: pdf file /home/tmettler/Desktop/v08_00_00_33/V08_00_00_35/weighted_improved/xsec_binning/pdf/h2_true_MCS.pdf has been created\n"
     ]
    },
    {
     "data": {
      "image/png": "[encoded data removed]",
      "text/plain": [
       "<IPython.core.display.Image object>"
      ]
     },
     "metadata": {},
     "output_type": "display_data"
    }
   ],
   "source": [
    "h_migration = ROOT.TH2F(\"h_migration\",'Truth vs. Reco',200,0,2.5,200,0,2.5)\n",
    "h_migration_r = ROOT.TH2F(\"h_migration_r\",'Truth vs. Reco',200,0,2.5,200,0,2.5)\n",
    "print cut\n",
    "globale.overlay_out.Draw('MCle_Energy:TrackMomMCS_mom'+'>>h_migration',weight_name+'*('+cut+'&& numu_signal && track_end_uncontained)','')\n",
    "globale.overlay_out.Draw('MCle_Energy:TrackMomRange_mu'+'>>h_migration_r',weight_name+'*('+cut+'&& numu_signal && !track_end_uncontained)','')\n",
    "h_migration.Add(h_migration_r)\n",
    "h_migration.SetXTitle(\"reco Muon momentum [GeV]\")\n",
    "h_migration.SetYTitle(\"true Muon momentum [GeV]\")\n",
    "h_migration.GetYaxis().SetTitleSize(0.05)\n",
    "h_migration.GetYaxis().SetTitleOffset(0.0)\n",
    "h_migration.GetYaxis().SetLabelSize(0.05)\n",
    "h_migration.GetXaxis().SetTitleSize(0.05)\n",
    "h_migration.GetXaxis().SetLabelSize(0.05)\n",
    "h_migration.GetXaxis().SetTitleOffset(1)\n",
    "h_migration.SetLineColor(ROOT.kBlack)\n",
    "h_migration.SetLineWidth(4)\n",
    "ROOT.gStyle.SetEndErrorSize(5)\n",
    "c1.SetRightMargin(0.1)\n",
    "h_migration.Draw(\"colz\")\n",
    "prelim = draw_sim()\n",
    "prelim.Draw()\n",
    "#h_migration.Draw(\"same text\")\n",
    "c1.Draw()\n",
    "c1.SaveAs(globale.outputdir_root + \"h2_true_MCS.root\")\n",
    "c1.SaveAs(globale.outputdir_png + \"h2_true_MCS.png\")\n",
    "c1.SaveAs(globale.outputdir_pdf + \"h2_true_MCS.pdf\")\n",
    "h_migration.Write(\"h2_true_MCS_fine\")"
   ]
  },
  {
   "cell_type": "code",
   "execution_count": null,
   "metadata": {},
   "outputs": [],
   "source": [
    "h_migration = ROOT.TH2F(\"h_migration\",'Truth vs. Reco',binnum,array('f',mom_bins),binnum,array('f',mom_bins))\n",
    "h_migration_r = ROOT.TH2F(\"h_migration_r\",'Truth vs. Reco',binnum,array('f',mom_bins),binnum,array('f',mom_bins))\n",
    "globale.overlay_out.Draw('MCle_Energy:TrackMomMCS_mom'+'>>h_migration',weight_name+'*('+cut+'&& numu_signal && track_end_uncontained)','')\n",
    "globale.overlay_out.Draw('MCle_Energy:TrackMomRange_mu'+'>>h_migration_r',weight_name+'*('+cut+'&& numu_signal && !track_end_uncontained)','')\n",
    "#globale.overlay_out.Draw('MCle_Energy:TrackMomMCS_mom'+'>>h_migration',weight_name+'*(numu_signal)','')\n",
    "h_migration.Add(h_migration_r)\n",
    "h_migration.SetXTitle(\"reco Muon momentum MCS [GeV]\")\n",
    "h_migration.SetYTitle(\"true Muon momentum [GeV]\")\n",
    "h_migration.Draw(\"colz\")\n",
    "h_migration.Draw(\"same text\")\n",
    "h_migration.GetYaxis().SetTitleSize(0.05)\n",
    "h_migration.GetYaxis().SetTitleOffset(0.0)\n",
    "h_migration.GetYaxis().SetLabelSize(0.05)\n",
    "h_migration.GetXaxis().SetTitleSize(0.05)\n",
    "h_migration.GetXaxis().SetLabelSize(0.05)\n",
    "h_migration.GetXaxis().SetTitleOffset(1)\n",
    "h_migration.SetLineColor(ROOT.kBlack)\n",
    "h_migration.SetLineWidth(4)\n",
    "ROOT.gStyle.SetEndErrorSize(5)\n",
    "c1.SetRightMargin(0.12)\n",
    "ROOT.gStyle.SetPaintTextFormat('0.0f')\n",
    "prelim = draw_sim()\n",
    "prelim.Draw()\n",
    "c1.Draw()\n",
    "c1.SaveAs(globale.outputdir_root + \"h2_true_MCS_bin.root\")\n",
    "c1.SaveAs(globale.outputdir_png + \"h2_true_MCS_bin.png\")\n",
    "c1.SaveAs(globale.outputdir_pdf + \"h2_true_MCS_bin.pdf\")\n",
    "h_migration.Write(\"h2_true_MCS_bin\")"
   ]
  },
  {
   "cell_type": "code",
   "execution_count": null,
   "metadata": {},
   "outputs": [],
   "source": []
  },
  {
   "cell_type": "code",
   "execution_count": null,
   "metadata": {},
   "outputs": [],
   "source": [
    "# close the root file with all the histos\n",
    "RootFile.Close()"
   ]
  },
  {
   "cell_type": "code",
   "execution_count": null,
   "metadata": {},
   "outputs": [],
   "source": []
  }
 ],
 "metadata": {
  "kernelspec": {
   "display_name": "Python 2",
   "language": "python",
   "name": "python2"
  },
  "language_info": {
   "codemirror_mode": {
    "name": "ipython",
    "version": 2
   },
   "file_extension": ".py",
   "mimetype": "text/x-python",
   "name": "python",
   "nbconvert_exporter": "python",
   "pygments_lexer": "ipython2",
   "version": "2.7.12"
  }
 },
 "nbformat": 4,
 "nbformat_minor": 2
}
