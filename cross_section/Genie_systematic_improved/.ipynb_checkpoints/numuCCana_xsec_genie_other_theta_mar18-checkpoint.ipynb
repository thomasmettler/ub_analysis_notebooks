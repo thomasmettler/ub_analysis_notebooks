{
 "cells": [
  {
   "cell_type": "code",
   "execution_count": 1,
   "metadata": {},
   "outputs": [
    {
     "name": "stdout",
     "output_type": "stream",
     "text": [
      "Welcome to JupyROOT 6.10/08\n"
     ]
    }
   ],
   "source": [
    "from __future__ import division\n",
    "import imp\n",
    "import uproot\n",
    "import matplotlib\n",
    "#matplotlib.use('agg')\n",
    "import matplotlib.pyplot as plt\n",
    "import matplotlib.image as mpimg\n",
    "import numpy as np\n",
    "import pandas as pd\n",
    "import os\n",
    "import ROOT\n",
    "import time\n",
    "import math\n",
    "from array import array\n",
    "import collections\n",
    "\n",
    "inputdir = '/home/tmettler/Desktop/v08_00_00_33/V08_00_00_35/weighted/'\n",
    "outputdir = inputdir+'xsec_genie_other_theta_mar18/' \n",
    "output_filedir = outputdir\n",
    "lib_function_dir = '/home/tmettler/Desktop/uBoone/do_plots/'\n",
    "\n",
    "# helper functions\n",
    "globale = imp.load_source('globale',lib_function_dir+'globale.py')\n",
    "NuCC = imp.load_source('NuCC_function',lib_function_dir+'NuCC_function.py')\n",
    "NuCC_w = imp.load_source('NuCCWeight_function',lib_function_dir+'NuCCWeight_function.py')"
   ]
  },
  {
   "cell_type": "code",
   "execution_count": 2,
   "metadata": {},
   "outputs": [],
   "source": [
    "#!jupyter nbconvert --to script numuCCana_xsec_genie_other_theta.ipynb"
   ]
  },
  {
   "cell_type": "code",
   "execution_count": 3,
   "metadata": {},
   "outputs": [
    {
     "name": "stderr",
     "output_type": "stream",
     "text": [
      "Warning in <TCanvas::Constructor>: Deleting canvas with same name: c1\n"
     ]
    }
   ],
   "source": [
    "# initialte ROOT default canvas\n",
    "ROOT.gROOT.SetBatch(ROOT.kTRUE)\n",
    "ROOT.gStyle.SetOptStat(0)\n",
    "c1 = ROOT.TCanvas(\"c1\",\"c1\",1600,1200)\n",
    "c1.SetGrid(1)\n",
    "c1.SetLeftMargin(0.14)\n",
    "c1.SetRightMargin(0.18)\n",
    "c1.SetBottomMargin(0.14)"
   ]
  },
  {
   "cell_type": "markdown",
   "metadata": {},
   "source": [
    "# Genie other 2 univers sims, systematic, cos(Theta)"
   ]
  },
  {
   "cell_type": "code",
   "execution_count": 4,
   "metadata": {},
   "outputs": [],
   "source": [
    "# Load input files\n",
    "outputdir_png, outputdir_root, outputdir_pdf = NuCC.prepareOutput2(outputdir)\n",
    "\n",
    "try:\n",
    "    os.stat(output_filedir)\n",
    "except:\n",
    "    os.mkdir(output_filedir)\n",
    "RootFile = ROOT.TFile(output_filedir+\"Genie_other_theta.root\",\"RECREATE\");\n",
    "\n",
    "#filename_overlay = 'NuCCana_overlay_V26_weight.root'\n",
    "filename_overlay = 'NuCCana_overlay_V26_mar18.root'\n",
    "#filename_overlay = 'NuCCana_overlay_v25_weighted_all.root'\n",
    "filename_data = 'NuCCana_data_V25.root'\n",
    "filename_ext = 'NuCCana_ext_V25.root'\n",
    "filename_dirt = 'NuCCana_dirt_V26_weight.root'\n",
    "    \n",
    "tree_name = 'numuCCAna'"
   ]
  },
  {
   "cell_type": "code",
   "execution_count": 5,
   "metadata": {},
   "outputs": [
    {
     "name": "stdout",
     "output_type": "stream",
     "text": [
      "Overlay: Number of Entries:\t1012051\n",
      "Data: Number of Entries:\t28005\n",
      "Ext: Number of Entries:\t\t222702\n",
      "Dirt: Number of Entries:\t40808\n",
      "\n",
      "POT: \n",
      "Data:\t\t7.644e+18\n",
      "Ext:\t\t0\n",
      "Overlay:\t1.26811760704e+21\n",
      "Dirt:\t\t1.25019694173e+20\n",
      "\n",
      "Scalefactors: \n",
      "Data:\t\t1.0\n",
      "Ext:\t\t0.0967862715198\n",
      "Overlay:\t0.0060278320856\n",
      "Dirt:\t\t0.0611423668132\n"
     ]
    },
    {
     "name": "stderr",
     "output_type": "stream",
     "text": [
      "Warning in <TClass::Init>: no dictionary for class ROOT::TIOFeatures is available\n"
     ]
    }
   ],
   "source": [
    "#Open all the trees of the four files (data, ext, dirt, overlay)\n",
    "\n",
    "data, ext, dirt, overlay = NuCC.openTrees(inputdir, filename_data, filename_ext, filename_dirt, filename_overlay, tree_name)\n",
    "NuCC.printNumberOfEntries(data,ext,dirt,overlay)\n",
    "\n",
    "pot_overlay = NuCC.getPOT(inputdir,filename_overlay,tree_name)\n",
    "pot_dirt =  NuCC.getPOT(inputdir,filename_dirt,tree_name)\n",
    "#V25 files\n",
    "pot_data =    7.644e+18  # best with tor875\n",
    "data_trigger = 1838700.0 #2220362.0 #1854495.0 #4743794 # 1987072.0 # E1DCNT_wcut\n",
    "ext_trigger =  18997529.0  #2120135 #5685315 # EXT\n",
    "\n",
    "print 'POT: '\n",
    "print 'Data:\\t\\t', pot_data\n",
    "print 'Ext:\\t\\t', 0\n",
    "print 'Overlay:\\t', pot_overlay\n",
    "print 'Dirt:\\t\\t', pot_dirt\n",
    "print ''\n",
    "sample = [data,ext,overlay,dirt]\n",
    "scale = {data:1.0,ext:1.0,overlay:1.0,dirt:1.0}\n",
    "name = {data:'data',ext:'ext',overlay:'overlay',dirt:'dirt'}\n",
    "\n",
    "scale[data], scale[ext], scale[dirt], scale[overlay] = NuCC.calculateScale(data_trigger, ext_trigger, pot_data, pot_dirt, pot_overlay)\n",
    "\n",
    "scale[dirt] = scale[dirt]\n",
    "scale[overlay] = scale[overlay]\n",
    "print 'Scalefactors: '\n",
    "print 'Data:\\t\\t', scale[data]\n",
    "print 'Ext:\\t\\t', scale[ext]\n",
    "print 'Overlay:\\t', scale[overlay]\n",
    "print 'Dirt:\\t\\t', scale[dirt]\n"
   ]
  },
  {
   "cell_type": "code",
   "execution_count": 6,
   "metadata": {},
   "outputs": [
    {
     "name": "stdout",
     "output_type": "stream",
     "text": [
      "Overlay: Number of Entries:\t1013969\n",
      "Data: Number of Entries:\t28004\n",
      "Ext: Number of Entries:\t\t222701\n",
      "Dirt: Number of Entries:\t40800\n",
      "\n"
     ]
    }
   ],
   "source": [
    "if 1:\n",
    "    #filename_overlay = 'NuCCana_overlay_V26_flux.rootout4_small.root'\n",
    "    filename_overlay = 'NuCCana_overlay_V26_mar18_noflux.rootout4.root'\n",
    "    #filename_overlay = 'NuCCana_overlay_points_1kev.rootout2.root'\n",
    "    filename_data = filename_data+'out4.root'\n",
    "    filename_ext = filename_ext+'out4.root'\n",
    "    filename_dirt = filename_dirt+'out4.root'\n",
    "\n",
    "    tree_name = 't_out'\n",
    "\n",
    "    data_out, ext_out, dirt_out, overlay_out = NuCC.openTreesOut(inputdir, filename_data, filename_ext, filename_dirt, filename_overlay, tree_name)\n",
    "    NuCC.printNumberOfEntries(data_out,ext_out,dirt_out,overlay_out)\n",
    "\n",
    "    sample_out = [data_out,ext_out,overlay_out,dirt_out]\n",
    "    scale_out = {data_out:1.0,ext_out:1.0,overlay_out:1.0,dirt_out:1.0}\n",
    "    name_out = {data_out:'data',ext_out:'ext',overlay_out:'overlay',dirt_out:'dirt'}\n",
    "\n",
    "    scale_out[data_out], scale_out[ext_out], scale_out[dirt_out], scale_out[overlay_out] = NuCC.calculateScale(data_trigger, ext_trigger, pot_data, pot_dirt, pot_overlay)\n",
    "    scale_out[dirt_out] = scale_out[dirt_out]\n",
    "    scale_out[overlay_out] = scale_out[overlay_out]"
   ]
  },
  {
   "cell_type": "code",
   "execution_count": 7,
   "metadata": {},
   "outputs": [
    {
     "name": "stdout",
     "output_type": "stream",
     "text": [
      "7.34038944724e-10\n",
      "7.3789785277e-10\n",
      "Fiducial Volume:  49184671.35\n",
      "Beam flux = 5.64049e+09  /cm2\n",
      "Number of target nuclei= 4.10331e+31  /cm3\n"
     ]
    }
   ],
   "source": [
    "##### flux and number of tragets parameters###\n",
    "flux = 1.16859e11/1.592e20 # flux per POT per cm2\n",
    "print flux\n",
    "flux = 7.3789785277e-10\n",
    "print flux\n",
    "roh_data = 1.3836 #data denisity g/cm3\n",
    "roh_MC = 1.3954 # MC denisity g/cm3\n",
    "mol = 39.95 # g for argon\n",
    "N_A = 6.022140857e23 # molec/mol avogadro zahl\n",
    "N_nucleons = 40.0\n",
    "V_fid = ((254.8-10)-(-1.55+10))*((117.47-10)-(-115.53+10))*((1036.9-50)-(-0.1+10))\n",
    "print 'Fiducial Volume: ', V_fid\n",
    "##############################################\n",
    "\n",
    "beam_flux = flux * pot_data\n",
    "print 'Beam flux = {:.5e}'.format(beam_flux),' /cm2'\n",
    "N_tot = roh_data*N_A*N_nucleons*V_fid/mol\n",
    "print 'Number of target nuclei= {:.5e}'.format(N_tot),' /cm3'"
   ]
  },
  {
   "cell_type": "code",
   "execution_count": 8,
   "metadata": {},
   "outputs": [],
   "source": [
    "# Define signals\n",
    "\n",
    "fidVol = '(Nu_Vx_sce>(-1.55+10) && Nu_Vx_sce<(254.8-10)) && (Nu_Vy_sce>(-115.53+10) && Nu_Vy_sce<(117.47-10)) &&(Nu_Vz_sce>(-0.1+10) && Nu_Vz_sce<(1036.9-50))'\n",
    "MCfidVol = '(MCNu_Vx>(-1.55+10) && MCNu_Vx<(254.8-10)) && (MCNu_Vy>(-115.53+10) && MCNu_Vy<(117.47-10)) &&(MCNu_Vz>(-0.1+10) && MCNu_Vz<(1036.9-50))'\n",
    "numu_signal = 'fidVol && MCfidVol && MCNu_CCNC==0 && MCNu_PDG==14 && MCTrackPDG==13 && MCTrackPurity>0.5' # numu CC signal definition\n",
    "numu_true = 'MCfidVol && MCNu_CCNC==0 && MCNu_PDG==14' # numu CC signal definition\n",
    "numu_nomu = 'fidVol && MCfidVol && MCNu_CCNC==0 && MCNu_PDG==14 && MCTrackPDG!=13 && MCTrackPurity>0.5' # not an MC muon\n",
    "numu_lowpur = 'fidVol && MCfidVol && MCNu_CCNC==0 && MCNu_PDG==14 && MCTrackPurity<0.5' #low purity\n",
    "numu_nc = 'fidVol && MCfidVol && MCNu_CCNC==1' # nutral current\n",
    "numu_ov = 'fidVol && !MCfidVol' # out of fiducial\n",
    "numu_other = 'fidVol && MCfidVol && MCNu_CCNC==0 && MCNu_PDG!=14' # e.g anti nu or nue\n",
    "#signal = 'MCfidVol && MCNu_CCNC==0 && MCNu_PDG==14'\n",
    "for x in sample:\n",
    "    x.SetAlias('muon','(muon_candidate_key==track_key)')\n",
    "    \n",
    "num_fidVol = {}\n",
    "for x in sample:\n",
    "    x.SetAlias('fidVol',fidVol)\n",
    "    x.SetAlias('MCfidVol',MCfidVol)\n",
    "    x.SetAlias('numu_signal',numu_signal)\n",
    "    x.SetAlias('numu_true',numu_true)\n",
    "    x.SetAlias('numu_nomu',numu_nomu)\n",
    "    x.SetAlias('numu_lowpur',numu_lowpur)\n",
    "    x.SetAlias('numu_nc',numu_nc)\n",
    "    x.SetAlias('numu_ov',numu_ov)\n",
    "    x.SetAlias('numu_other',numu_other)\n",
    "    num_fidVol[x] = x.GetEntries('fidVol && muon')*scale[x]\n",
    "    \n",
    "tot_num_fidVol = num_fidVol[ext]+num_fidVol[dirt]+num_fidVol[overlay]\n",
    "overlay_signals = {'numu_signal','numu_nomu','numu_lowpur','numu_nc','numu_ov','numu_other'}"
   ]
  },
  {
   "cell_type": "code",
   "execution_count": 9,
   "metadata": {},
   "outputs": [],
   "source": [
    "for x in sample_out:\n",
    "    x.SetAlias('muon','(track_key == key_muon)')\n",
    "\n",
    "num_fidVol = {}\n",
    "for x in sample_out:\n",
    "    x.SetAlias('fidVol',fidVol)\n",
    "    x.SetAlias('MCfidVol',MCfidVol)\n",
    "    x.SetAlias('numu_signal',numu_signal)\n",
    "    x.SetAlias('numu_true',numu_true)\n",
    "    x.SetAlias('numu_nomu',numu_nomu)\n",
    "    x.SetAlias('numu_lowpur',numu_lowpur)\n",
    "    x.SetAlias('numu_nc',numu_nc)\n",
    "    x.SetAlias('numu_ov',numu_ov)\n",
    "    x.SetAlias('numu_other',numu_other)"
   ]
  },
  {
   "cell_type": "code",
   "execution_count": 10,
   "metadata": {},
   "outputs": [
    {
     "name": "stderr",
     "output_type": "stream",
     "text": [
      "Warning in <TCanvas::Constructor>: Deleting canvas with same name: c1\n"
     ]
    }
   ],
   "source": [
    "# Load the global variables for access of functions\n",
    "NuCC.loadGlobal(data,ext,dirt,overlay,data_out,ext_out,dirt_out,overlay_out,scale,scale_out,tot_num_fidVol,overlay_signals,sample,sample_out, name,name_out, outputdir_png, outputdir_root,outputdir_pdf)\n",
    "#NuCC.printGlobal()"
   ]
  },
  {
   "cell_type": "code",
   "execution_count": 11,
   "metadata": {},
   "outputs": [],
   "source": [
    "# initialte ROOT default canvas\n",
    "ROOT.gStyle.SetOptStat(0)\n",
    "c1 = ROOT.TCanvas(\"c1\",\"c1\",1600,1200)\n",
    "c1.SetGrid(1)\n",
    "c1.SetLeftMargin(0.14)\n",
    "c1.SetRightMargin(0.18)\n",
    "c1.SetBottomMargin(0.14)"
   ]
  },
  {
   "cell_type": "code",
   "execution_count": 12,
   "metadata": {},
   "outputs": [],
   "source": [
    "'''track_start_border_x = '(TrackStart_x_sce <(-1.55+1) || TrackStart_x_sce > (254.8-1))'\n",
    "track_end_border_x = '(TrackEnd_x_sce <(-1.55+1) || TrackEnd_x_sce > (254.8-1))'\n",
    "track_start_border_y = '(TrackStart_y_sce <(-115.53+1) || TrackStart_y_sce > (117.47-1))'\n",
    "track_end_border_y = '(TrackEnd_y_sce <(-115.53+1) || TrackEnd_y_sce > (117.47-1))'\n",
    "track_start_border_z = '(TrackStart_z_sce <(0.1+1) || TrackStart_z_sce > (1036.9-1))'\n",
    "track_end_border_z = '(TrackEnd_z_sce <(0.1+1) || TrackEnd_z_sce > (1039.9-1))'\n",
    "'''\n",
    "track_start_border_x = '(TrackStart_x_sce <(-1.55+5) || TrackStart_x_sce > (254.8-5))'\n",
    "track_end_border_x = '(TrackEnd_x_sce <(-1.55+5) || TrackEnd_x_sce > (254.8-5))'\n",
    "track_start_border_y = '(TrackStart_y_sce <(-115.53+5) || TrackStart_y_sce > (117.47-5))'\n",
    "track_end_border_y = '(TrackEnd_y_sce <(-115.53+5) || TrackEnd_y_sce > (117.47-5))'\n",
    "track_start_border_z = '(TrackStart_z_sce <(0.1+5) || TrackStart_z_sce > (1036.9-5))'\n",
    "track_end_border_z = '(TrackEnd_z_sce <(0.1+5) || TrackEnd_z_sce > (1039.9-5))'\n",
    "\n",
    "track_end_uncontained = '(' + track_end_border_x + ' || ' + track_end_border_y + ' || ' + track_end_border_z+ ')'\n",
    "\n",
    "\n",
    "data.SetAlias(\"track_end_uncontained\",track_end_uncontained)\n",
    "ext.SetAlias(\"track_end_uncontained\",track_end_uncontained)\n",
    "overlay.SetAlias(\"track_end_uncontained\",track_end_uncontained)\n",
    "dirt.SetAlias(\"track_end_uncontained\",track_end_uncontained)\n",
    "data_out.SetAlias(\"track_end_uncontained\",track_end_uncontained)\n",
    "ext_out.SetAlias(\"track_end_uncontained\",track_end_uncontained)\n",
    "overlay_out.SetAlias(\"track_end_uncontained\",track_end_uncontained)\n",
    "dirt_out.SetAlias(\"track_end_uncontained\",track_end_uncontained)\n",
    "\n",
    "data.SetAlias(\"crt_cut\",\"(abs(crtt0_time+(crt_trig_corr_med)/1000-4)<0.9 || crtt0_time==-1)\")\n",
    "ext.SetAlias(\"crt_cut\",\"(abs(crtt0_time+(crt_trig_corr_med)/1000-3.57+3.195-4)<0.9 || crtt0_time==-1)\")\n",
    "overlay.SetAlias(\"crt_cut\",\"(abs(crtt0_time-3.95)<0.9 || crtt0_time==-1)\")\n",
    "dirt.SetAlias(\"crt_cut\",\"(abs(crtt0_time-3.95)<0.9 || crtt0_time==-1)\")\n",
    "data_out.SetAlias(\"crt_cut\",\"(abs(crtt0_time+(crt_trig_corr_med)/1000-3.95)<0.9 || crtt0_time==-1)\")\n",
    "ext_out.SetAlias(\"crt_cut\",\"(abs(crtt0_time+(crt_trig_corr_med)/1000-3.57+3.195-3.95)<0.9 || crtt0_time==-1)\")\n",
    "overlay_out.SetAlias(\"crt_cut\",\"(abs(crtt0_time-3.95)<0.9 || crtt0_time==-1)\")\n",
    "dirt_out.SetAlias(\"crt_cut\",\"(abs(crtt0_time-3.95)<0.9 || crtt0_time==-1)\")\n",
    "\n",
    "crt_tom_cut = 'nr_crthit_top==0 && crthit_vertex_zcut==0 && (track_end_uncontained==1 || nr_crthit_beam_tres==0) && crt_cut'\n",
    "\n",
    "data.SetAlias(\"crt_tom_cut\",crt_tom_cut)\n",
    "ext.SetAlias(\"crt_tom_cut\",crt_tom_cut)\n",
    "overlay.SetAlias(\"crt_tom_cut\",crt_tom_cut)\n",
    "dirt.SetAlias(\"crt_tom_cut\",crt_tom_cut)\n",
    "data_out.SetAlias(\"crt_tom_cut\",crt_tom_cut)\n",
    "ext_out.SetAlias(\"crt_tom_cut\",crt_tom_cut)\n",
    "overlay_out.SetAlias(\"crt_tom_cut\",crt_tom_cut)\n",
    "dirt_out.SetAlias(\"crt_tom_cut\",crt_tom_cut)\n",
    "\n",
    "weight_name = 'EventWeight*TunedCentralValue_Genie'\n"
   ]
  },
  {
   "cell_type": "code",
   "execution_count": 13,
   "metadata": {},
   "outputs": [
    {
     "name": "stdout",
     "output_type": "stream",
     "text": [
      "Nuber of parameters:  10\n"
     ]
    }
   ],
   "source": [
    "#weight_list = {}\n",
    "'''weight_list_all = [ 'All_Genie', 'AxFFCCQEshape_Genie', 'DecayAngMEC_Genie', 'MaNCRES_Genie', 'Theta_Delta2Npi_Genie', 'TunedCentralValue_Genie',\\\n",
    "    'VecFFCCQEshape_Genie', 'expskin_FluxUnisim', 'horncurrent_FluxUnisim', 'kminus_PrimaryHadronNormalization', 'kplus_PrimaryHadronFeynmanScaling',\\\n",
    "    'kzero_PrimaryHadronSanfordWang', 'nucleoninexsec_FluxUnisim', 'nucleonqexsec_FluxUnisim', 'nucleontotxsec_FluxUnisim',\\\n",
    "    'piminus_PrimaryHadronSWCentralSplineVariation', 'pioninexsec_FluxUnisim', 'pionqexsec_FluxUnisim', 'piontotxsec_FluxUnisim',\\\n",
    "    'piplus_PrimaryHadronSWCentralSplineVariation', 'splines_general_Spline' ]'''\n",
    "\n",
    "#weight_list_genie_other = [ 'AxFFCCQEshape_Genie', 'DecayAngMEC_Genie', 'MaNCRES_Genie', 'Theta_Delta2Npi_Genie', 'VecFFCCQEshape_Genie' ]\n",
    "\n",
    "'''weight_list_flux = [ 'expskin_FluxUnisim', 'horncurrent_FluxUnisim', 'kminus_PrimaryHadronNormalization', 'kplus_PrimaryHadronFeynmanScaling',\\\n",
    "    'kzero_PrimaryHadronSanfordWang', 'nucleoninexsec_FluxUnisim', 'nucleonqexsec_FluxUnisim', 'nucleontotxsec_FluxUnisim',\\\n",
    "    'piminus_PrimaryHadronSWCentralSplineVariation', 'pioninexsec_FluxUnisim', 'pionqexsec_FluxUnisim', 'piontotxsec_FluxUnisim',\\\n",
    "    'piplus_PrimaryHadronSWCentralSplineVariation' ]'''\n",
    "\n",
    "#weight_list = [ 'AxFFCCQEshape_Genie', 'DecayAngMEC_Genie', 'MaNCRES_Genie', 'Theta_Delta2Npi_Genie', 'VecFFCCQEshape_Genie' ]\n",
    "weight_list = [ 'AxFFCCQEshape_UBGenie', 'DecayAngMEC_UBGenie', 'NormCCCOH_UBGenie', 'NormNCCOH_UBGenie',\\\n",
    "               'RPA_CCQE_Reduced_UBGenie','RPA_CCQE_UBGenie','ThetaDelta2NRad_UBGenie','Theta_Delta2Npi_UBGenie',\\\n",
    "                'VecFFCCQEshape_UBGenie','XSecShape_CCMEC_UBGenie']\n",
    "\n",
    "num_para = len(weight_list)\n",
    "print 'Nuber of parameters: ',num_para\n"
   ]
  },
  {
   "cell_type": "code",
   "execution_count": 14,
   "metadata": {},
   "outputs": [],
   "source": [
    "weight_name = 'EventWeight*TunedCentralValue_Genie'\n",
    "num_universes = 2\n",
    "eff_uni = np.zeros((num_para,num_universes))\n",
    "mom_bins = [ -1.00, -0.50, 0.00, 0.28, 0.47, 0.63, 0.765, 0.865, 0.935, 1.00 ]\n",
    "binnum = len(mom_bins) - 1"
   ]
  },
  {
   "cell_type": "code",
   "execution_count": 15,
   "metadata": {},
   "outputs": [
    {
     "name": "stdout",
     "output_type": "stream",
     "text": [
      "Data:  1348.0  Ext:  142.179031849  Dirt:  32.1298258305\n"
     ]
    },
    {
     "data": {
      "text/plain": [
       "475"
      ]
     },
     "execution_count": 15,
     "metadata": {},
     "output_type": "execute_result"
    }
   ],
   "source": [
    "variable = 'cos(TrackTheta)'\n",
    "cut = 'fidVol && muon && crt_tom_cut && TrackScore>0.8\\\n",
    "                && TrackLength>20 && TrackPID_chiproton>78 && NuScore>0.1'\n",
    "\n",
    "h_ext_mom = ROOT.TH1F('h_ext_mom','h_ext_mom',binnum,array('f',mom_bins))\n",
    "h_data_mom = ROOT.TH1F('h_data_mom','h_data_mom',binnum,array('f',mom_bins))\n",
    "h_dirt_mom = ROOT.TH1F('h_dirt_mom','h_dirt_mom',binnum,array('f',mom_bins))\n",
    "\n",
    "globale.ext_out.Draw(variable+'>>h_ext_mom','('+cut+')')\n",
    "globale.data_out.Draw(variable+'>>h_data_mom','('+cut+')')\n",
    "globale.dirt_out.Draw(variable+'>>h_dirt_mom',weight_name+'*('+cut+')')\n",
    "\n",
    "h_data_mom.Scale(globale.scale[globale.data])\n",
    "h_ext_mom.Scale(globale.scale[globale.ext])\n",
    "h_dirt_mom.Scale(globale.scale[globale.dirt])\n",
    "#h_overlay.Scale(globale.scale[globale.overlay])\n",
    "\n",
    "bkg_ext = h_ext_mom.Integral(0,binnum+1)\n",
    "num_data = h_data_mom.Integral(0,binnum+1)\n",
    "bkg_dirt = h_dirt_mom.Integral(0,binnum+1)\n",
    "\n",
    "print 'Data: ', num_data,' Ext: ', bkg_ext,' Dirt: ',bkg_dirt\n",
    "\n",
    "h_data_mom.Write(\"h_data_mom\")\n",
    "h_ext_mom.Write(\"h_ext_mom\")\n",
    "h_dirt_mom.Write(\"h_dirt_mom\")"
   ]
  },
  {
   "cell_type": "code",
   "execution_count": 16,
   "metadata": {},
   "outputs": [
    {
     "name": "stdout",
     "output_type": "stream",
     "text": [
      "Get efficiency of Parameter:  AxFFCCQEshape_UBGenie\n",
      "Parameter:  AxFFCCQEshape_UBGenie  Universe:  0  number of signal:  161599.167969  True:  307075.455078  Eff:  0.5262523112686963\n",
      "Parameter:  AxFFCCQEshape_UBGenie  Universe:  1  number of signal:  161463.017578  True:  307093.699219  Eff:  0.5257776958266771\n",
      "Get efficiency of Parameter:  DecayAngMEC_UBGenie\n",
      "Parameter:  DecayAngMEC_UBGenie  Universe:  0  number of signal:  161800.819824  True:  308302.578125  Eff:  0.5248117638465458\n",
      "Parameter:  DecayAngMEC_UBGenie  Universe:  1  number of signal:  161463.017578  True:  307093.699219  Eff:  0.5257776958266771\n",
      "Get efficiency of Parameter:  NormCCCOH_UBGenie\n",
      "Parameter:  NormCCCOH_UBGenie  Universe:  0  number of signal:  161808.052734  True:  307607.710938  Eff:  0.5260207952564989\n",
      "Parameter:  NormCCCOH_UBGenie  Universe:  1  number of signal:  161463.017578  True:  307093.699219  Eff:  0.5257776958266771\n",
      "Get efficiency of Parameter:  NormNCCOH_UBGenie\n",
      "Parameter:  NormNCCOH_UBGenie  Universe:  0  number of signal:  161464.017578  True:  307094.699219  Eff:  0.5257792400483956\n",
      "Parameter:  NormNCCOH_UBGenie  Universe:  1  number of signal:  161463.017578  True:  307093.699219  Eff:  0.5257776958266771\n",
      "Get efficiency of Parameter:  RPA_CCQE_Reduced_UBGenie\n",
      "Parameter:  RPA_CCQE_Reduced_UBGenie  Universe:  0  number of signal:  163300.671387  True:  309712.791016  Eff:  0.5272648599730588\n",
      "Parameter:  RPA_CCQE_Reduced_UBGenie  Universe:  1  number of signal:  159625.354004  True:  304474.335938  Eff:  0.524265381883197\n",
      "Get efficiency of Parameter:  RPA_CCQE_UBGenie\n",
      "Parameter:  RPA_CCQE_UBGenie  Universe:  0  number of signal:  164525.72998  True:  311459.09375  Eff:  0.528241856738109\n",
      "Parameter:  RPA_CCQE_UBGenie  Universe:  1  number of signal:  158400.328613  True:  302728.398438  Eff:  0.5232423830431749\n",
      "Get efficiency of Parameter:  ThetaDelta2NRad_UBGenie\n",
      "Parameter:  ThetaDelta2NRad_UBGenie  Universe:  0  number of signal:  161463.017578  True:  307093.699219  Eff:  0.5257776958266771\n",
      "Parameter:  ThetaDelta2NRad_UBGenie  Universe:  1  number of signal:  161463.017578  True:  307093.699219  Eff:  0.5257776958266771\n",
      "Get efficiency of Parameter:  Theta_Delta2Npi_UBGenie\n",
      "Parameter:  Theta_Delta2Npi_UBGenie  Universe:  0  number of signal:  166015.401367  True:  315251.085938  Eff:  0.5266132577259411\n",
      "Parameter:  Theta_Delta2Npi_UBGenie  Universe:  1  number of signal:  161463.017578  True:  307093.699219  Eff:  0.5257776958266771\n",
      "Get efficiency of Parameter:  VecFFCCQEshape_UBGenie\n",
      "Parameter:  VecFFCCQEshape_UBGenie  Universe:  0  number of signal:  162136.193848  True:  307107.890625  Eff:  0.527945385960909\n",
      "Parameter:  VecFFCCQEshape_UBGenie  Universe:  1  number of signal:  161463.017578  True:  307093.699219  Eff:  0.5257776958266771\n",
      "Get efficiency of Parameter:  XSecShape_CCMEC_UBGenie\n",
      "Parameter:  XSecShape_CCMEC_UBGenie  Universe:  0  number of signal:  165133.211914  True:  338436.330078  Eff:  0.48792992134131397\n",
      "Parameter:  XSecShape_CCMEC_UBGenie  Universe:  1  number of signal:  160425.967285  True:  298255.236328  Eff:  0.537881477824798\n",
      "Total std of efficiency (all parameters, all universes) 0.008876727313941547\n"
     ]
    }
   ],
   "source": [
    "weight_name = 'EventWeight*RootinoFix_UBGenie'\n",
    "variable = 'cos(MCNu_leptonTheta)'\n",
    "cut = 'fidVol && muon && crt_tom_cut && TrackScore>0.8\\\n",
    "                && TrackLength>20 && TrackPID_chiproton>78 && NuScore>0.1'\n",
    "\n",
    "h_1d = []\n",
    "h_1d_true = []\n",
    "\n",
    "for para in range(num_para):\n",
    "    h_1d.append([])\n",
    "    h_1d_true.append([])\n",
    "    for uni in range(num_universes):\n",
    "        #print 'At universe: ',uni\n",
    "        h_1d[para].append(ROOT.TH1F('h_1d['+str(para)+']['+str(uni)+']',\"Track true momentum\",binnum,array('f',mom_bins)))\n",
    "        h_1d_true[para].append( ROOT.TH1F('h_1d_true['+str(para)+']['+str(uni)+']',\"Track true momentum\",binnum,array('f',mom_bins)) )\n",
    "\n",
    "for para in range(num_para): \n",
    "    print 'Get efficiency of Parameter: ', weight_list[para]\n",
    "    for uni in range(num_universes):\n",
    "        globale.overlay_out.Draw(variable+'>>h_1d['+str(para)+']['+str(uni)+']',weight_name+'*'+weight_list[para]+'['+str(uni)+']*('+cut+'&& numu_signal)')\n",
    "        globale.overlay_out.Draw(variable+'>>h_1d_true['+str(para)+']['+str(uni)+']',weight_name+'*'+weight_list[para]+'['+str(uni)+']*(numu_true)')\n",
    "        num_signal = h_1d[para][uni].Integral(0,binnum+1)\n",
    "        num_true = h_1d_true[para][uni].Integral(0,binnum+1)\n",
    "        eff_uni[para][uni] = num_signal/(num_true+1e-80)\n",
    "        h_1d[para][uni].Write('h_1d['+str(para)+']['+str(uni)+']')\n",
    "        h_1d_true[para][uni].Write('h_1d_true['+str(para)+']['+str(uni)+']')\n",
    "        print 'Parameter: ', weight_list[para], ' Universe: ', uni, ' number of signal: ', num_signal,' True: ', num_true,' Eff: ',eff_uni[para][uni]\n",
    "# save the efficiencies\n",
    "np.save(output_filedir+'xsec_flux_tot_efficiencies_theta',eff_uni)\n",
    "print 'Total std of efficiency (all parameters, all universes)',eff_uni.std()"
   ]
  },
  {
   "cell_type": "code",
   "execution_count": 17,
   "metadata": {},
   "outputs": [
    {
     "name": "stdout",
     "output_type": "stream",
     "text": [
      "Get background of Parameter:  AxFFCCQEshape_UBGenie\n",
      "Get background of Parameter:  DecayAngMEC_UBGenie\n",
      "Get background of Parameter:  NormCCCOH_UBGenie\n",
      "Get background of Parameter:  NormNCCOH_UBGenie\n",
      "Get background of Parameter:  RPA_CCQE_Reduced_UBGenie\n",
      "Get background of Parameter:  RPA_CCQE_UBGenie\n",
      "Get background of Parameter:  ThetaDelta2NRad_UBGenie\n",
      "Get background of Parameter:  Theta_Delta2Npi_UBGenie\n",
      "Get background of Parameter:  VecFFCCQEshape_UBGenie\n",
      "Get background of Parameter:  XSecShape_CCMEC_UBGenie\n"
     ]
    }
   ],
   "source": [
    "variable = 'cos(TrackTheta)'\n",
    "cut = 'fidVol && muon && crt_tom_cut && TrackScore>0.8\\\n",
    "                && TrackLength>20 && TrackPID_chiproton>78 && NuScore>0.1'\n",
    "weight_name = 'EventWeight*RootinoFix_UBGenie'\n",
    "\n",
    "bkg_uni = np.zeros((num_para,num_universes))\n",
    "h_1d_bkg = []\n",
    "for para in range(num_para):\n",
    "    h_1d_bkg.append([])\n",
    "    for uni in range(num_universes):\n",
    "        #print 'At universe: ',uni\n",
    "        h_1d_bkg[para].append( ROOT.TH1F('h_1d_bkg['+str(para)+']['+str(uni)+']',\"Track momentum\",binnum,array('f',mom_bins)) )\n",
    "\n",
    "for para in range(num_para):\n",
    "    print 'Get background of Parameter: ', weight_list[para]\n",
    "    for uni in range(num_universes):\n",
    "        globale.overlay_out.Draw(variable+'>>h_1d_bkg['+str(para)+']['+str(uni)+']',weight_name+'*'+weight_list[para]+'['+str(uni)+']*('+cut+'&& !numu_signal)')\n",
    "        h_1d_bkg[para][uni].Scale(globale.scale[globale.overlay])\n",
    "        bkg_uni[para][uni] = h_1d_bkg[para][uni].Integral(0,binnum+1)\n",
    "        h_1d_bkg[para][uni].Write('h_1d_bkg['+str(para)+']['+str(uni)+']')\n",
    "        #print 'Parameter: ', weight_list_flux[para], ' Universe: ', uni, ' Overlay: ',bkg_uni[para][uni]\n"
   ]
  },
  {
   "cell_type": "code",
   "execution_count": 18,
   "metadata": {},
   "outputs": [
    {
     "name": "stdout",
     "output_type": "stream",
     "text": [
      "Number of data: 1348\n",
      "Number of ext: 142.179032863\n",
      "Number of dirt: 32.1859727109\n",
      "Number of overlay: 199.17724577\n",
      "Number of overlay signal: 973.277128269\n",
      "Efficiency:  0.525781702998\n",
      "Total integrated cross section: 8.00767014933e-39\n",
      "Total integrated cross section for MC: 7.99796832424e-39\n"
     ]
    }
   ],
   "source": [
    "# calculate total flux integrated cross section:\n",
    "weight_name = 'EventWeight*TunedCentralValue_Genie*RootinoFix_UBGenie'\n",
    "cut = 'fidVol && muon && TrackLength>8 && crt_tom_cut && TrackScore>0.8\\\n",
    "                && TrackLength>20 && TrackPID_chiproton>78 && NuScore>0.1'\n",
    "N_data = data_out.GetEntries(cut)\n",
    "N_ext  = ext_out.GetEntries(cut)*scale_out[ext_out]\n",
    "N_dirt = dirt_out.GetEntries(cut)*scale_out[dirt_out]\n",
    "N_overlay = overlay_out.GetEntries(cut+'&& !numu_signal')*scale_out[overlay_out]\n",
    "N_signal = overlay_out.GetEntries(cut+'&& numu_signal')*scale_out[overlay_out]\n",
    "N_true = overlay_out.GetEntries('numu_true')*scale_out[overlay_out]\n",
    "\n",
    "h_weight_func = ROOT.TH1F(\"h_weight_func\",'h_weight_func',10000,0,1000)\n",
    "globale.overlay_out.Draw(weight_name+'>>h_weight_func',cut+' && 1','0')\n",
    "dirt_pass_weight = h_weight_func.GetMean() \n",
    "globale.overlay_out.Draw(weight_name+'>>h_weight_func',cut+' && numu_signal','0') # weights for signal definition\n",
    "overlay_signal = h_weight_func.GetMean()\n",
    "globale.overlay_out.Draw(weight_name+'>>h_weight_func',cut+' && !numu_signal','0') # weights for signal definition\n",
    "overlay_pass_weight = h_weight_func.GetMean()\n",
    "\n",
    "overlay_out.Draw(weight_name+'>>h_weight_func',numu_true,'0') # weights for signal definition\n",
    "overlay_true_weight = h_weight_func.GetMean()\n",
    "\n",
    "N_dirt = N_dirt*dirt_pass_weight\n",
    "N_overlay = N_overlay*overlay_pass_weight\n",
    "N_signal = N_signal*overlay_signal\n",
    "N_true = N_true*overlay_true_weight\n",
    "eff = N_signal/N_true\n",
    "\n",
    "sigma_tot = (N_data- (N_ext+N_dirt+N_overlay))/(eff*beam_flux*N_tot)\n",
    "print 'Number of data:', N_data\n",
    "print 'Number of ext:', N_ext\n",
    "print 'Number of dirt:', N_dirt\n",
    "print 'Number of overlay:', N_overlay\n",
    "print 'Number of overlay signal:', N_signal\n",
    "print 'Efficiency: ',eff\n",
    "print 'Total integrated cross section:', sigma_tot\n",
    "xsec_CV = sigma_tot\n",
    "sigma_tot_MC = (N_signal)/(eff*beam_flux*N_tot)\n",
    "print 'Total integrated cross section for MC:', sigma_tot_MC"
   ]
  },
  {
   "cell_type": "code",
   "execution_count": 19,
   "metadata": {},
   "outputs": [
    {
     "name": "stdout",
     "output_type": "stream",
     "text": [
      "1348.0 142.179031849 32.1298258305 4.10331109202e+31 5640491186.57\n",
      "Parameter:     AxFFCCQEshape_UBGenie  mean: 8.008e-39%  deviation: -4.881e-42%  in percent: -0.061%\n",
      "Parameter:       DecayAngMEC_UBGenie  mean: 8.008e-39%  deviation: 1.095e-41%  in percent: 0.137%\n",
      "Parameter:         NormCCCOH_UBGenie  mean: 8.008e-39%  deviation: -7.860e-42%  in percent: -0.098%\n",
      "Parameter:         NormNCCOH_UBGenie  mean: 8.008e-39%  deviation: -9.647e-43%  in percent: -0.012%\n",
      "Parameter:  RPA_CCQE_Reduced_UBGenie  mean: 8.033e-39%  deviation: -4.904e-41%  in percent: -0.611%\n",
      "Parameter:          RPA_CCQE_UBGenie  mean: 8.050e-39%  deviation: -8.175e-41%  in percent: -1.016%\n",
      "Parameter:   ThetaDelta2NRad_UBGenie  mean: 8.008e-39%  deviation: 0.000e+00%  in percent: 0.000%\n",
      "Parameter:   Theta_Delta2Npi_UBGenie  mean: 8.008e-39%  deviation: -6.563e-41%  in percent: -0.819%\n",
      "Parameter:    VecFFCCQEshape_UBGenie  mean: 8.008e-39%  deviation: -2.463e-41%  in percent: -0.308%\n",
      "Parameter:   XSecShape_CCMEC_UBGenie  mean: 7.840e-39%  deviation: 7.432e-40%  in percent: 9.479%\n",
      "Total error in percent: 9.39875%\n"
     ]
    }
   ],
   "source": [
    "# calculate the total cross section and the difference to the CV\n",
    "# from momentum CV xsec:\n",
    "#xsec_CV = 7.6770041506e-39\n",
    "xsec_uni = np.zeros((num_para,num_universes))\n",
    "       \n",
    "xsec_std = np.zeros((num_para))\n",
    "xsec_mean = np.zeros((num_para))\n",
    "xsec_diff = np.zeros((num_para))\n",
    "#xsec_CV = 8.00835474027e-39 \n",
    "xsec_diff_tot = 0.0\n",
    "print num_data,bkg_ext,bkg_dirt,N_tot,beam_flux\n",
    "\n",
    "for para in range(num_para):\n",
    "    for uni in range(num_universes):\n",
    "        signal = num_data - bkg_ext - bkg_dirt - bkg_uni[para][uni]\n",
    "        xsec_uni[para][uni] = (num_data - bkg_ext - bkg_dirt - bkg_uni[para][uni])/(eff_uni[para][uni] * N_tot * beam_flux)\n",
    "        #print 'Parameter: ', weight_list[para], ' Universe: ', uni, ' Total fulux integrated xsec: ',xsec_uni[para][uni]\n",
    "    xsec_diff[para] = (xsec_uni[para][0] - xsec_uni[para][1])\n",
    "    print 'Parameter: %25s'% weight_list[para], ' mean: {0:0.3e}%'.format(xsec_uni[para][1]), ' deviation: {0:0.3e}%'.format(xsec_uni[para][0]-xsec_uni[para][1]),' in percent: {0:0.3f}%'.format(xsec_uni[para][0]*100.0/xsec_uni[para][1]-100,'%')\n",
    "    xsec_diff_tot = xsec_diff_tot + xsec_diff[para]*xsec_diff[para]\n",
    "    \n",
    "xsec_diff_tot = math.sqrt(xsec_diff_tot)\n",
    "print 'Total error in percent: {0:0.5f}%'.format(xsec_diff_tot*100.0/xsec_uni[0][1],'%')"
   ]
  },
  {
   "cell_type": "code",
   "execution_count": 20,
   "metadata": {},
   "outputs": [],
   "source": [
    "#get mitigation matrix for each universe for momentum\n",
    "cut = 'fidVol && muon && crt_tom_cut && TrackScore>0.8\\\n",
    "                && TrackLength>20 && TrackPID_chiproton>78 && NuScore>0.1'\n",
    "\n",
    "migration_matrix = np.zeros((num_para,num_universes,9,9))\n",
    "\n",
    "h_migration = []\n",
    "h_mitigation_matrix = []\n",
    "for para in range(num_para):\n",
    "    h_migration.append([])\n",
    "    h_mitigation_matrix.append([])\n",
    "    for uni in range(num_universes):\n",
    "        h_migration[para].append(ROOT.TH2F('h_migration['+str(para)+']['+str(uni)+']',\"Track momentum\",binnum,array('f',mom_bins),binnum,array('f',mom_bins)))\n",
    "        h_mitigation_matrix[para].append(ROOT.TH2F('h_mitigation_matrix['+str(para)+']['+str(uni)+']','Migration matrix',7,0,7,6,0,6))\n",
    "\n",
    "for para in range(num_para):\n",
    "    for uni in range(num_universes):\n",
    "        overlay_out.Draw('cos(MCNu_leptonTheta):cos(TrackTheta)'+'>>h_migration['+str(para)+']['+str(uni)+']',weight_name+'*'+weight_list[para]+'['+str(uni)+']*('+cut+' && numu_true)','')\n",
    "        h_migration[para][uni].Write('h_migration['+str(para)+']['+str(uni)+'])')\n",
    "        \n",
    "mitigation_matrix = np.zeros((num_para,num_universes,9,9))\n",
    "for para in range(num_para):\n",
    "    for uni in range(num_universes):\n",
    "        reco_entries = [0.0, 0.0, 0.0, 0.0, 0.0, 0.0, 0.0, 0.0, 0.0]\n",
    "        for j in range(1,binnum+1):\n",
    "            for i in range(1,binnum+1):\n",
    "                reco_entries[j-1]+=h_migration[para][uni].GetBinContent(i,j)\n",
    "        for j in range(1,binnum+1):\n",
    "            for i in range(1,binnum+1):\n",
    "                mitigation_matrix[para,uni,i-1,j-1]= h_migration[para][uni].GetBinContent(i,j)/reco_entries[j-1]\n",
    "                h_mitigation_matrix[para][uni].SetBinContent(i,j,mitigation_matrix[para,uni,i-1,j-1])\n",
    "        h_mitigation_matrix[para][uni].Write('h_mitigation_matrix['+str(para)+']['+str(uni)+']')\n"
   ]
  },
  {
   "cell_type": "code",
   "execution_count": 21,
   "metadata": {},
   "outputs": [
    {
     "name": "stderr",
     "output_type": "stream",
     "text": [
      "Warning in <TFile::Append>: Replacing existing TH1: h_eff_tilde[0] (Potential memory leak).\n",
      "Warning in <TFile::Append>: Replacing existing TH1: h_eff_tilde[1] (Potential memory leak).\n",
      "Warning in <TFile::Append>: Replacing existing TH1: h_eff_tilde[0] (Potential memory leak).\n",
      "Warning in <TFile::Append>: Replacing existing TH1: h_eff_tilde[1] (Potential memory leak).\n",
      "Warning in <TFile::Append>: Replacing existing TH1: h_eff_tilde[0] (Potential memory leak).\n",
      "Warning in <TFile::Append>: Replacing existing TH1: h_eff_tilde[1] (Potential memory leak).\n",
      "Warning in <TFile::Append>: Replacing existing TH1: h_eff_tilde[0] (Potential memory leak).\n",
      "Warning in <TFile::Append>: Replacing existing TH1: h_eff_tilde[1] (Potential memory leak).\n",
      "Warning in <TFile::Append>: Replacing existing TH1: h_eff_tilde[0] (Potential memory leak).\n",
      "Warning in <TFile::Append>: Replacing existing TH1: h_eff_tilde[1] (Potential memory leak).\n",
      "Warning in <TFile::Append>: Replacing existing TH1: h_eff_tilde[0] (Potential memory leak).\n",
      "Warning in <TFile::Append>: Replacing existing TH1: h_eff_tilde[1] (Potential memory leak).\n",
      "Warning in <TFile::Append>: Replacing existing TH1: h_eff_tilde[0] (Potential memory leak).\n",
      "Warning in <TFile::Append>: Replacing existing TH1: h_eff_tilde[1] (Potential memory leak).\n",
      "Warning in <TFile::Append>: Replacing existing TH1: h_eff_tilde[0] (Potential memory leak).\n",
      "Warning in <TFile::Append>: Replacing existing TH1: h_eff_tilde[1] (Potential memory leak).\n",
      "Warning in <TFile::Append>: Replacing existing TH1: h_eff_tilde[0] (Potential memory leak).\n",
      "Warning in <TFile::Append>: Replacing existing TH1: h_eff_tilde[1] (Potential memory leak).\n"
     ]
    }
   ],
   "source": [
    "# calculate e tilde for all universes\n",
    "N_sel = np.zeros((num_para,num_universes,9))\n",
    "N_gen = np.zeros((num_para,num_universes,9))\n",
    "eff_tilde = np.zeros((num_para,num_universes,9))\n",
    "#h_eff_true = {}\n",
    "for para in range(num_para):\n",
    "    for uni in range(num_universes):\n",
    "        for i in range(1,binnum+1):\n",
    "            N_sel[para][uni][i-1] = h_1d[para][uni].GetBinContent(i)\n",
    "            N_gen[para][uni][i-1] = h_1d_true[para][uni].GetBinContent(i)\n",
    "        #print N_sel[uni]\n",
    "        #print N_gen[uni]\n",
    "        #print mitigation_matrix[uni]\n",
    "        #print mitigation_matrix[uni].dot(N_sel[uni])/(mitigation_matrix[uni].dot(N_gen[uni]))\n",
    "        eff_tilde[para][uni] = mitigation_matrix[para][uni].dot(N_sel[para][uni])/(mitigation_matrix[para][uni].dot(N_gen[para][uni]))\n",
    "np.save(output_filedir+'eff_tilde_genie_other_theta',eff_tilde)\n",
    "\n",
    "h_eff_true = []\n",
    "h_eff_tilde = []\n",
    "for para in range(num_para):\n",
    "    h_eff_true.append([])\n",
    "    h_eff_tilde.append([])\n",
    "    for uni in range(num_universes):\n",
    "        h_eff_tilde[para].append(ROOT.TH1F(\"h_eff_tilde[\"+str(uni)+']','Efficiency tilde',binnum,array('f',mom_bins)))\n",
    "        h_eff_true[para].append(h_1d[para][uni].Clone())\n",
    "        #h_eff_true[para][uni].Sumw2()\n",
    "        h_eff_true[para][uni].Divide(h_1d_true[para][uni])\n",
    "        for i in range(1,binnum+1):\n",
    "            h_eff_tilde[para][uni].SetBinContent(i,eff_tilde[para][uni][i-1])\n",
    "            h_eff_tilde[para][uni].SetBinError(i,h_eff_true[para][uni].GetBinError(i))\n",
    "        h_eff_tilde[para][uni].SetYTitle(\"reconstructed efficiency\")\n",
    "        h_eff_tilde[para][uni].SetXTitle(\"cos(\\Theta)_{\\mu}\")\n",
    "        h_eff_tilde[para][uni].Write('h_eff_tilde['+str(para)+']['+str(uni)+']')\n",
    "        h_eff_true[para][uni].Write('h_eff_true['+str(para)+']['+str(uni)+']')"
   ]
  },
  {
   "cell_type": "code",
   "execution_count": 22,
   "metadata": {},
   "outputs": [
    {
     "name": "stdout",
     "output_type": "stream",
     "text": [
      "974.811267853\n",
      "974.526054382\n",
      "974.066066742\n",
      "974.526054382\n",
      "974.019721985\n",
      "974.526054382\n",
      "974.411529541\n",
      "974.526054382\n",
      "974.322032928\n",
      "974.730133057\n",
      "974.185955048\n",
      "974.866146088\n",
      "974.526054382\n",
      "974.526054382\n",
      "968.075839996\n",
      "974.526054382\n",
      "975.534362793\n",
      "974.526054382\n",
      "969.291320801\n",
      "976.002700806\n"
     ]
    }
   ],
   "source": [
    "h_xsec = []\n",
    "for para in range(num_para):\n",
    "    h_xsec.append([])\n",
    "    for uni in range(num_universes): \n",
    "        h_xsec[para].append(h_data_mom.Clone())\n",
    "        #h_xsec[para][uni].Sumw2()\n",
    "        h_xsec[para][uni].Add(h_ext_mom,-1)\n",
    "        h_xsec[para][uni].Add(h_dirt_mom,-1)\n",
    "        h_xsec[para][uni].Add(h_1d_bkg[para][uni],-1)\n",
    "        print h_xsec[para][uni].GetSumOfWeights()\n"
   ]
  },
  {
   "cell_type": "code",
   "execution_count": 23,
   "metadata": {},
   "outputs": [],
   "source": [
    "\n",
    "for para in range(num_para):\n",
    "    for uni in range(num_universes): \n",
    "        h_xsec[para][uni].Divide(h_eff_tilde[para][uni])\n",
    "        h_xsec[para][uni].Scale(1.0/(N_tot * beam_flux))\n",
    "        for i in range(1,binnum+1):\n",
    "            h_xsec[para][uni].SetBinContent(i,h_xsec[para][uni].GetBinContent(i)/h_xsec[para][uni].GetBinWidth(i))\n",
    "        h_xsec[para][uni].Write('h_xsec['+str(uni)+']')"
   ]
  },
  {
   "cell_type": "code",
   "execution_count": 24,
   "metadata": {},
   "outputs": [
    {
     "data": {
      "image/png": "[encoded data removed]",
      "text/plain": [
       "<IPython.core.display.Image object>"
      ]
     },
     "metadata": {},
     "output_type": "display_data"
    }
   ],
   "source": [
    "h_xsec[0][0].Draw()\n",
    "c1.Draw()"
   ]
  },
  {
   "cell_type": "code",
   "execution_count": 25,
   "metadata": {},
   "outputs": [
    {
     "data": {
      "image/png": "[encoded data removed]",
      "text/plain": [
       "<IPython.core.display.Image object>"
      ]
     },
     "metadata": {},
     "output_type": "display_data"
    }
   ],
   "source": [
    "for para in range(num_para):\n",
    "    for uni in range(num_universes): \n",
    "        h_xsec[para][uni].Draw('same')\n",
    "c1.Draw()"
   ]
  },
  {
   "cell_type": "code",
   "execution_count": null,
   "metadata": {},
   "outputs": [],
   "source": []
  },
  {
   "cell_type": "code",
   "execution_count": null,
   "metadata": {},
   "outputs": [],
   "source": []
  },
  {
   "cell_type": "code",
   "execution_count": null,
   "metadata": {},
   "outputs": [],
   "source": []
  },
  {
   "cell_type": "code",
   "execution_count": null,
   "metadata": {},
   "outputs": [],
   "source": []
  },
  {
   "cell_type": "code",
   "execution_count": 26,
   "metadata": {},
   "outputs": [],
   "source": [
    "# close the root file with all the histos\n",
    "RootFile.Close()"
   ]
  },
  {
   "cell_type": "code",
   "execution_count": null,
   "metadata": {},
   "outputs": [],
   "source": []
  },
  {
   "cell_type": "code",
   "execution_count": null,
   "metadata": {},
   "outputs": [],
   "source": []
  },
  {
   "cell_type": "code",
   "execution_count": null,
   "metadata": {},
   "outputs": [],
   "source": []
  },
  {
   "cell_type": "code",
   "execution_count": null,
   "metadata": {},
   "outputs": [],
   "source": []
  }
 ],
 "metadata": {
  "kernelspec": {
   "display_name": "Python 3",
   "language": "python",
   "name": "python3"
  },
  "language_info": {
   "codemirror_mode": {
    "name": "ipython",
    "version": 2
   },
   "file_extension": ".py",
   "mimetype": "text/x-python",
   "name": "python",
   "nbconvert_exporter": "python",
   "pygments_lexer": "ipython2",
   "version": "2.7.12"
  }
 },
 "nbformat": 4,
 "nbformat_minor": 2
}
