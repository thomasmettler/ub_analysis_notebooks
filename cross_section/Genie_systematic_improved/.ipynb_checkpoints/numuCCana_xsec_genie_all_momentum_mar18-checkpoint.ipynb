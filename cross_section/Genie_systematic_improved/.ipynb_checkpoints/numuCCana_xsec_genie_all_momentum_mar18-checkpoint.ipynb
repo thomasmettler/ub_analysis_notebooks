{
 "cells": [
  {
   "cell_type": "code",
   "execution_count": 1,
   "metadata": {},
   "outputs": [
    {
     "name": "stdout",
     "output_type": "stream",
     "text": [
      "Welcome to JupyROOT 6.18/04\n"
     ]
    }
   ],
   "source": [
    "from __future__ import division\n",
    "import imp\n",
    "import uproot\n",
    "import matplotlib\n",
    "#matplotlib.use('agg')\n",
    "import matplotlib.pyplot as plt\n",
    "import matplotlib.image as mpimg\n",
    "import numpy as np\n",
    "import pandas as pd\n",
    "import os\n",
    "import ROOT\n",
    "import time\n",
    "import math\n",
    "import collections\n",
    "from array import array\n",
    "\n",
    "inputdir = '/home/tmettler/Desktop/v08_00_00_33/V08_00_00_35/weighted/'\n",
    "outputdir = '/home/tmettler/Desktop/v08_00_00_33/V08_00_00_35/weighted_improved/'+'xsec_all_genie_mar18/' \n",
    "output_filedir = outputdir\n",
    "input_filedir = '/home/tmettler/Desktop/v08_00_00_33/V08_00_00_35/weighted/'\n",
    "lib_function_dir = '/home/tmettler/Desktop/uBoone/do_plots/'\n",
    "\n",
    "# helper functions\n",
    "globale = imp.load_source('globale',lib_function_dir+'globale.py')\n",
    "NuCC = imp.load_source('NuCC_function',lib_function_dir+'NuCC_function.py')\n",
    "NuCC_w = imp.load_source('NuCCWeight_function',lib_function_dir+'NuCCWeight_function.py')\n"
   ]
  },
  {
   "cell_type": "code",
   "execution_count": 2,
   "metadata": {},
   "outputs": [],
   "source": [
    "#!jupyter nbconvert --to script numuCCana_muon_cut_weight.ipynb"
   ]
  },
  {
   "cell_type": "code",
   "execution_count": 3,
   "metadata": {},
   "outputs": [
    {
     "name": "stderr",
     "output_type": "stream",
     "text": [
      "Warning in <TCanvas::Constructor>: Deleting canvas with same name: c1\n"
     ]
    }
   ],
   "source": [
    "# initialte ROOT default canvas\n",
    "ROOT.gStyle.SetOptStat(0)\n",
    "c1 = ROOT.TCanvas(\"c1\",\"c1\",1600,1200)\n",
    "c1.SetGrid(1)\n",
    "c1.SetLeftMargin(0.14)\n",
    "c1.SetRightMargin(0.18)\n",
    "c1.SetBottomMargin(0.14)"
   ]
  },
  {
   "cell_type": "markdown",
   "metadata": {},
   "source": [
    "# All Genie cross section variation 100 multisims, Momentum"
   ]
  },
  {
   "cell_type": "code",
   "execution_count": 4,
   "metadata": {},
   "outputs": [],
   "source": [
    "# Load input files\n",
    "outputdir_png, outputdir_root, outputdir_pdf = NuCC.prepareOutput2(outputdir)\n",
    "try:\n",
    "    os.stat(output_filedir)\n",
    "except:\n",
    "    os.mkdir(output_filedir)\n",
    "RootFile = ROOT.TFile(output_filedir+\"All_UBGenie.root\",\"RECREATE\");\n",
    "\n",
    "#filename_overlay = 'NuCCana_overlay_V26_mar18.root'\n",
    "filename_overlay = 'NuCCana_overlay_V26_mar18.root'\n",
    "filename_data = 'NuCCana_data_V25.root'\n",
    "filename_ext = 'NuCCana_ext_V25.root'\n",
    "filename_dirt = 'NuCCana_dirt_V26_weight.root'\n",
    "    \n",
    "tree_name = 'numuCCAna'"
   ]
  },
  {
   "cell_type": "code",
   "execution_count": 5,
   "metadata": {},
   "outputs": [
    {
     "name": "stdout",
     "output_type": "stream",
     "text": [
      "Overlay: Number of Entries:\t1012051\n",
      "Data: Number of Entries:\t28005\n",
      "Ext: Number of Entries:\t\t222702\n",
      "Dirt: Number of Entries:\t40808\n",
      "\n",
      "POT: \n",
      "Data:\t\t7.644e+18\n",
      "Ext:\t\t0\n",
      "Overlay:\t1.26811760704e+21\n",
      "Dirt:\t\t1.25019694173e+20\n",
      "\n",
      "Scalefactors: \n",
      "Data:\t\t1.0\n",
      "Ext:\t\t0.0967862715198\n",
      "Overlay:\t0.0060278320856\n",
      "Dirt:\t\t0.0611423668132\n"
     ]
    }
   ],
   "source": [
    "#Open all the trees of the four files (data, ext, dirt, overlay)\n",
    "\n",
    "data, ext, dirt, overlay = NuCC.openTrees(inputdir, filename_data, filename_ext, filename_dirt, filename_overlay, tree_name)\n",
    "NuCC.printNumberOfEntries(data,ext,dirt,overlay)\n",
    "\n",
    "pot_overlay = NuCC.getPOT(inputdir,filename_overlay,tree_name)\n",
    "pot_dirt =  NuCC.getPOT(inputdir,filename_dirt,tree_name)\n",
    "#V25 files\n",
    "pot_data =    7.644e+18  # best with tor875\n",
    "data_trigger = 1838700.0 #2220362.0 #1854495.0 #4743794 # 1987072.0 # E1DCNT_wcut\n",
    "ext_trigger =  18997529.0  #2120135 #5685315 # EXT\n",
    "\n",
    "print 'POT: '\n",
    "print 'Data:\\t\\t', pot_data\n",
    "print 'Ext:\\t\\t', 0\n",
    "print 'Overlay:\\t', pot_overlay\n",
    "print 'Dirt:\\t\\t', pot_dirt\n",
    "print ''\n",
    "sample = [data,ext,overlay,dirt]\n",
    "scale = {data:1.0,ext:1.0,overlay:1.0,dirt:1.0}\n",
    "name = {data:'data',ext:'ext',overlay:'overlay',dirt:'dirt'}\n",
    "\n",
    "scale[data], scale[ext], scale[dirt], scale[overlay] = NuCC.calculateScale(data_trigger, ext_trigger, pot_data, pot_dirt, pot_overlay)\n",
    "\n",
    "scale[dirt] = scale[dirt]\n",
    "scale[overlay] = scale[overlay]\n",
    "print 'Scalefactors: '\n",
    "print 'Data:\\t\\t', scale[data]\n",
    "print 'Ext:\\t\\t', scale[ext]\n",
    "print 'Overlay:\\t', scale[overlay]\n",
    "print 'Dirt:\\t\\t', scale[dirt]\n"
   ]
  },
  {
   "cell_type": "code",
   "execution_count": 6,
   "metadata": {},
   "outputs": [
    {
     "name": "stdout",
     "output_type": "stream",
     "text": [
      "Overlay: Number of Entries:\t1013969\n",
      "Data: Number of Entries:\t28004\n",
      "Ext: Number of Entries:\t\t222701\n",
      "Dirt: Number of Entries:\t40800\n",
      "\n"
     ]
    }
   ],
   "source": [
    "if 1:\n",
    "    filename_overlay = 'NuCCana_overlay_V26_mar18_noflux.rootout4.root'\n",
    "    #filename_overlay = 'NuCCana_overlay_V26_mar18_noflux.rootout4.root'\n",
    "    filename_data = filename_data+'out4.root'\n",
    "    filename_ext = filename_ext+'out4.root'\n",
    "    filename_dirt = filename_dirt+'out4.root'\n",
    "\n",
    "    tree_name = 't_out'\n",
    "\n",
    "    data_out, ext_out, dirt_out, overlay_out = NuCC.openTreesOut(inputdir, filename_data, filename_ext, filename_dirt, filename_overlay, tree_name)\n",
    "    NuCC.printNumberOfEntries(data_out,ext_out,dirt_out,overlay_out)\n",
    "\n",
    "    sample_out = [data_out,ext_out,overlay_out,dirt_out]\n",
    "    scale_out = {data_out:1.0,ext_out:1.0,overlay_out:1.0,dirt_out:1.0}\n",
    "    name_out = {data_out:'data',ext_out:'ext',overlay_out:'overlay',dirt_out:'dirt'}\n",
    "\n",
    "    scale_out[data_out], scale_out[ext_out], scale_out[dirt_out], scale_out[overlay_out] = NuCC.calculateScale(data_trigger, ext_trigger, pot_data, pot_dirt, pot_overlay)\n",
    "    scale_out[dirt_out] = scale_out[dirt_out]\n",
    "    scale_out[overlay_out] = scale_out[overlay_out]"
   ]
  },
  {
   "cell_type": "code",
   "execution_count": 7,
   "metadata": {},
   "outputs": [
    {
     "name": "stdout",
     "output_type": "stream",
     "text": [
      "7.34038944724e-10\n",
      "7.3789785277e-10\n",
      "Fiducial Volume:  49184671.35\n",
      "Beam flux = 5.64049e+09  /cm2\n",
      "Number of target nuclei= 4.10331e+31  /cm3\n"
     ]
    }
   ],
   "source": [
    "##### flux and number of tragets parameters###\n",
    "flux = 1.16859e11/1.592e20 # flux per POT per cm2\n",
    "print flux\n",
    "flux = 7.3789785277e-10\n",
    "print flux\n",
    "roh_data = 1.3836 #data denisity g/cm3\n",
    "roh_MC = 1.3954 # MC denisity g/cm3\n",
    "mol = 39.95 # g for argon\n",
    "N_A = 6.022140857e23 # molec/mol avogadro zahl\n",
    "N_nucleons = 40.0\n",
    "V_fid = ((254.8-10)-(-1.55+10))*((117.47-10)-(-115.53+10))*((1036.9-50)-(-0.1+10))\n",
    "print 'Fiducial Volume: ', V_fid\n",
    "##############################################\n",
    "\n",
    "beam_flux = flux * pot_data\n",
    "print 'Beam flux = {:.5e}'.format(beam_flux),' /cm2'\n",
    "N_tot = roh_data*N_A*N_nucleons*V_fid/mol\n",
    "print 'Number of target nuclei= {:.5e}'.format(N_tot),' /cm3'"
   ]
  },
  {
   "cell_type": "code",
   "execution_count": 8,
   "metadata": {},
   "outputs": [],
   "source": [
    "# Define signals\n",
    "\n",
    "fidVol = '(Nu_Vx_sce>(-1.55+10) && Nu_Vx_sce<(254.8-10)) && (Nu_Vy_sce>(-115.53+10) && Nu_Vy_sce<(117.47-10)) &&(Nu_Vz_sce>(-0.1+10) && Nu_Vz_sce<(1036.9-50))'\n",
    "MCfidVol = '(MCNu_Vx>(-1.55+10) && MCNu_Vx<(254.8-10)) && (MCNu_Vy>(-115.53+10) && MCNu_Vy<(117.47-10)) &&(MCNu_Vz>(-0.1+10) && MCNu_Vz<(1036.9-50))'\n",
    "numu_signal = 'fidVol && MCfidVol && MCNu_CCNC==0 && MCNu_PDG==14 && MCTrackPDG==13 && MCTrackPurity>0.5' # numu CC signal definition\n",
    "numu_true = 'MCfidVol && MCNu_CCNC==0 && MCNu_PDG==14' # numu CC signal definition\n",
    "numu_nomu = 'fidVol && MCfidVol && MCNu_CCNC==0 && MCNu_PDG==14 && MCTrackPDG!=13 && MCTrackPurity>0.5' # not an MC muon\n",
    "numu_lowpur = 'fidVol && MCfidVol && MCNu_CCNC==0 && MCNu_PDG==14 && MCTrackPurity<0.5' #low purity\n",
    "numu_nc = 'fidVol && MCfidVol && MCNu_CCNC==1' # nutral current\n",
    "numu_ov = 'fidVol && !MCfidVol' # out of fiducial\n",
    "numu_other = 'fidVol && MCfidVol && MCNu_CCNC==0 && MCNu_PDG!=14' # e.g anti nu or nue\n",
    "#signal = 'MCfidVol && MCNu_CCNC==0 && MCNu_PDG==14'\n",
    "for x in sample:\n",
    "    x.SetAlias('muon','(muon_candidate_key==track_key)')\n",
    "\n",
    "energy_cut = ' && MCle_Energy>0.15'\n",
    "\n",
    "numu_signal = numu_signal+energy_cut\n",
    "numu_true = numu_true+energy_cut\n",
    "numu_nomu = numu_nomu+energy_cut\n",
    "numu_lowpur = numu_lowpur+energy_cut\n",
    "numu_nc = numu_nc+energy_cut\n",
    "numu_ov = numu_ov+energy_cut\n",
    "numu_other = numu_other+energy_cut\n",
    "\n",
    "num_fidVol = {}\n",
    "for x in sample:\n",
    "    x.SetAlias('fidVol',fidVol)\n",
    "    x.SetAlias('MCfidVol',MCfidVol)\n",
    "    x.SetAlias('numu_signal',numu_signal)\n",
    "    x.SetAlias('numu_true',numu_true)\n",
    "    x.SetAlias('numu_nomu',numu_nomu)\n",
    "    x.SetAlias('numu_lowpur',numu_lowpur)\n",
    "    x.SetAlias('numu_nc',numu_nc)\n",
    "    x.SetAlias('numu_ov',numu_ov)\n",
    "    x.SetAlias('numu_other',numu_other)\n",
    "    num_fidVol[x] = x.GetEntries('fidVol && muon')*scale[x]\n",
    "    \n",
    "tot_num_fidVol = num_fidVol[ext]+num_fidVol[dirt]+num_fidVol[overlay]\n",
    "overlay_signals = {'numu_signal','numu_nomu','numu_lowpur','numu_nc','numu_ov','numu_other'}"
   ]
  },
  {
   "cell_type": "code",
   "execution_count": 9,
   "metadata": {},
   "outputs": [],
   "source": [
    "for x in sample_out:\n",
    "    x.SetAlias('muon','(track_key == key_muon)')\n",
    "\n",
    "num_fidVol = {}\n",
    "for x in sample_out:\n",
    "    x.SetAlias('fidVol',fidVol)\n",
    "    x.SetAlias('MCfidVol',MCfidVol)\n",
    "    x.SetAlias('numu_signal',numu_signal)\n",
    "    x.SetAlias('numu_true',numu_true)\n",
    "    x.SetAlias('numu_nomu',numu_nomu)\n",
    "    x.SetAlias('numu_lowpur',numu_lowpur)\n",
    "    x.SetAlias('numu_nc',numu_nc)\n",
    "    x.SetAlias('numu_ov',numu_ov)\n",
    "    x.SetAlias('numu_other',numu_other)"
   ]
  },
  {
   "cell_type": "code",
   "execution_count": 10,
   "metadata": {},
   "outputs": [
    {
     "name": "stderr",
     "output_type": "stream",
     "text": [
      "Warning in <TCanvas::Constructor>: Deleting canvas with same name: c1\n"
     ]
    }
   ],
   "source": [
    "# Load the global variables for access of functions\n",
    "NuCC.loadGlobal(data,ext,dirt,overlay,data_out,ext_out,dirt_out,overlay_out,scale,scale_out,tot_num_fidVol,overlay_signals,sample,sample_out, name,name_out, outputdir_png, outputdir_root,outputdir_pdf)\n",
    "#NuCC.printGlobal()"
   ]
  },
  {
   "cell_type": "code",
   "execution_count": 11,
   "metadata": {},
   "outputs": [],
   "source": [
    "# initialte ROOT default canvas\n",
    "ROOT.gStyle.SetOptStat(0)\n",
    "c1 = ROOT.TCanvas(\"c1\",\"c1\",1600,1200)\n",
    "c1.SetGrid(1)\n",
    "c1.SetLeftMargin(0.14)\n",
    "c1.SetRightMargin(0.18)\n",
    "c1.SetBottomMargin(0.14)"
   ]
  },
  {
   "cell_type": "code",
   "execution_count": 12,
   "metadata": {},
   "outputs": [],
   "source": [
    "\n",
    "track_start_border_x = '(TrackStart_x_sce <(-1.55+5) || TrackStart_x_sce > (254.8-5))'\n",
    "track_end_border_x = '(TrackEnd_x_sce <(-1.55+5) || TrackEnd_x_sce > (254.8-5))'\n",
    "track_start_border_y = '(TrackStart_y_sce <(-115.53+5) || TrackStart_y_sce > (117.47-5))'\n",
    "track_end_border_y = '(TrackEnd_y_sce <(-115.53+5) || TrackEnd_y_sce > (117.47-5))'\n",
    "track_start_border_z = '(TrackStart_z_sce <(0.1+5) || TrackStart_z_sce > (1036.9-5))'\n",
    "track_end_border_z = '(TrackEnd_z_sce <(0.1+5) || TrackEnd_z_sce > (1039.9-5))'\n",
    "\n",
    "track_end_uncontained = '(' + track_end_border_x + ' || ' + track_end_border_y + ' || ' + track_end_border_z+ ')'\n",
    "\n",
    "\n",
    "data.SetAlias(\"track_end_uncontained\",track_end_uncontained)\n",
    "ext.SetAlias(\"track_end_uncontained\",track_end_uncontained)\n",
    "overlay.SetAlias(\"track_end_uncontained\",track_end_uncontained)\n",
    "dirt.SetAlias(\"track_end_uncontained\",track_end_uncontained)\n",
    "data_out.SetAlias(\"track_end_uncontained\",track_end_uncontained)\n",
    "ext_out.SetAlias(\"track_end_uncontained\",track_end_uncontained)\n",
    "overlay_out.SetAlias(\"track_end_uncontained\",track_end_uncontained)\n",
    "dirt_out.SetAlias(\"track_end_uncontained\",track_end_uncontained)\n",
    "\n",
    "data.SetAlias(\"crt_cut\",\"(abs(crtt0_time+(crt_trig_corr_med)/1000-4)<0.9 || crtt0_time==-1)\")\n",
    "ext.SetAlias(\"crt_cut\",\"(abs(crtt0_time+(crt_trig_corr_med)/1000-3.57+3.195-4)<0.9 || crtt0_time==-1)\")\n",
    "overlay.SetAlias(\"crt_cut\",\"(abs(crtt0_time-3.95)<0.9 || crtt0_time==-1)\")\n",
    "dirt.SetAlias(\"crt_cut\",\"(abs(crtt0_time-3.95)<0.9 || crtt0_time==-1)\")\n",
    "data_out.SetAlias(\"crt_cut\",\"(abs(crtt0_time+(crt_trig_corr_med)/1000-3.95)<0.9 || crtt0_time==-1)\")\n",
    "ext_out.SetAlias(\"crt_cut\",\"(abs(crtt0_time+(crt_trig_corr_med)/1000-3.57+3.195-3.95)<0.9 || crtt0_time==-1)\")\n",
    "overlay_out.SetAlias(\"crt_cut\",\"(abs(crtt0_time-3.95)<0.9 || crtt0_time==-1)\")\n",
    "dirt_out.SetAlias(\"crt_cut\",\"(abs(crtt0_time-3.95)<0.9 || crtt0_time==-1)\")\n",
    "\n",
    "crt_tom_cut = 'nr_crthit_top==0 && crthit_vertex_zcut==0 && (track_end_uncontained==1 || nr_crthit_beam_tres==0) && crt_cut'\n",
    "\n",
    "data.SetAlias(\"crt_tom_cut\",crt_tom_cut)\n",
    "ext.SetAlias(\"crt_tom_cut\",crt_tom_cut)\n",
    "overlay.SetAlias(\"crt_tom_cut\",crt_tom_cut)\n",
    "dirt.SetAlias(\"crt_tom_cut\",crt_tom_cut)\n",
    "data_out.SetAlias(\"crt_tom_cut\",crt_tom_cut)\n",
    "ext_out.SetAlias(\"crt_tom_cut\",crt_tom_cut)\n",
    "overlay_out.SetAlias(\"crt_tom_cut\",crt_tom_cut)\n",
    "dirt_out.SetAlias(\"crt_tom_cut\",crt_tom_cut)\n",
    "\n",
    "weight_name = 'EventWeight*TunedCentralValue_Genie'\n"
   ]
  },
  {
   "cell_type": "code",
   "execution_count": 13,
   "metadata": {},
   "outputs": [],
   "source": [
    "weight_name = 'EventWeight*TunedCentralValue_Genie'\n",
    "num_universes = 100\n",
    "eff_uni = np.zeros((num_universes))\n",
    "mom_bins = [ 0.00, 0.18, 0.30, 0.45, 0.77, 1.28, 2.50 ]\n",
    "binnum = len(mom_bins) - 1"
   ]
  },
  {
   "cell_type": "code",
   "execution_count": 14,
   "metadata": {},
   "outputs": [
    {
     "name": "stdout",
     "output_type": "stream",
     "text": [
      "Data:  1348.0  Ext:  142.179032326  Dirt:  32.1298244409\n",
      "Data:  1346.0  Ext:  142.179032326  Dirt:  32.0686820745\n",
      "Data:  1348  Ext:  1469  Dirt:  451\n"
     ]
    }
   ],
   "source": [
    "variable = 'TrackMomMCS_mom'\n",
    "cut = 'fidVol && muon && crt_tom_cut && TrackScore>0.8\\\n",
    "                && TrackLength>20 && TrackPID_chiproton>78 && NuScore>0.1'\n",
    "weight_name = 'EventWeight*TunedCentralValue_Genie'\n",
    "h_ext_mom = ROOT.TH1F('h_ext_mom','h_ext_mom',binnum,array('f',mom_bins))\n",
    "h_data_mom = ROOT.TH1F('h_data_mom','h_data_mom',binnum,array('f',mom_bins))\n",
    "h_dirt_mom = ROOT.TH1F('h_dirt_mom','h_dirt_mom',binnum,array('f',mom_bins))\n",
    "\n",
    "h_ext_mom_r = ROOT.TH1F('h_ext_mom_r','h_ext_mom_r',binnum,array('f',mom_bins))\n",
    "h_data_mom_r = ROOT.TH1F('h_data_mom_r','h_data_mom_r',binnum,array('f',mom_bins))\n",
    "h_dirt_mom_r = ROOT.TH1F('h_dirt_mom_r','h_dirt_mom_r',binnum,array('f',mom_bins))\n",
    "\n",
    "globale.ext_out.Draw(variable+'>>h_ext_mom','('+cut+' && track_end_uncontained)')\n",
    "globale.data_out.Draw(variable+'>>h_data_mom','('+cut+' && track_end_uncontained)')\n",
    "globale.dirt_out.Draw(variable+'>>h_dirt_mom',weight_name+'*('+cut+' && track_end_uncontained)')\n",
    "\n",
    "globale.ext_out.Draw('TrackMomRange_mu>>h_ext_mom_r','('+cut+' && !track_end_uncontained)')\n",
    "globale.data_out.Draw('TrackMomRange_mu>>h_data_mom_r','('+cut+' && !track_end_uncontained)')\n",
    "globale.dirt_out.Draw('TrackMomRange_mu>>h_dirt_mom_r',weight_name+'*('+cut+' && !track_end_uncontained)')\n",
    "\n",
    "h_data_mom.Add(h_data_mom_r)\n",
    "h_ext_mom.Add(h_ext_mom_r)\n",
    "h_dirt_mom.Add(h_dirt_mom_r)\n",
    "\n",
    "h_data_mom.Scale(globale.scale[globale.data])\n",
    "h_ext_mom.Scale(globale.scale[globale.ext])\n",
    "h_dirt_mom.Scale(globale.scale[globale.dirt])\n",
    "#h_overlay.Scale(globale.scale[globale.overlay])\n",
    "\n",
    "bkg_ext2 = h_ext_mom.GetSumOfWeights()\n",
    "num_data2 = h_data_mom.GetSumOfWeights()\n",
    "bkg_dirt2 = h_dirt_mom.GetSumOfWeights()\n",
    "\n",
    "bkg_ext = h_ext_mom.Integral(0,binnum+1)\n",
    "num_data = h_data_mom.Integral(0,binnum+1)\n",
    "bkg_dirt = h_dirt_mom.Integral(0,binnum+1)\n",
    "\n",
    "bkg_ext3 = ext_out.GetEntries(cut)\n",
    "num_data3 = data_out.GetEntries(cut)\n",
    "bkg_dirt3 = dirt_out.GetEntries(cut)\n",
    "\n",
    "h_data_mom.Write('h_data_mom')\n",
    "h_ext_mom.Write('h_ext_mom')\n",
    "h_dirt_mom.Write('h_dirt_mom')\n",
    "\n",
    "print 'Data: ', num_data,' Ext: ', bkg_ext,' Dirt: ',bkg_dirt\n",
    "print 'Data: ', num_data2,' Ext: ', bkg_ext2,' Dirt: ',bkg_dirt2\n",
    "print 'Data: ', num_data3,' Ext: ', bkg_ext3,' Dirt: ',bkg_dirt3\n"
   ]
  },
  {
   "cell_type": "code",
   "execution_count": 15,
   "metadata": {},
   "outputs": [
    {
     "ename": "KeyboardInterrupt",
     "evalue": "",
     "output_type": "error",
     "traceback": [
      "\u001b[0;31m\u001b[0m",
      "\u001b[0;31mKeyboardInterrupt\u001b[0mTraceback (most recent call last)",
      "\u001b[0;32m<ipython-input-15-fa0b40115dd5>\u001b[0m in \u001b[0;36m<module>\u001b[0;34m()\u001b[0m\n\u001b[1;32m     16\u001b[0m \u001b[0;32mfor\u001b[0m \u001b[0muni\u001b[0m \u001b[0;32min\u001b[0m \u001b[0mrange\u001b[0m\u001b[0;34m(\u001b[0m\u001b[0mnum_universes\u001b[0m\u001b[0;34m)\u001b[0m\u001b[0;34m:\u001b[0m\u001b[0;34m\u001b[0m\u001b[0m\n\u001b[1;32m     17\u001b[0m     \u001b[0mglobale\u001b[0m\u001b[0;34m.\u001b[0m\u001b[0moverlay_out\u001b[0m\u001b[0;34m.\u001b[0m\u001b[0mDraw\u001b[0m\u001b[0;34m(\u001b[0m\u001b[0;34m'MCle_Energy'\u001b[0m\u001b[0;34m+\u001b[0m\u001b[0;34m\">>h_1d[\"\u001b[0m\u001b[0;34m+\u001b[0m\u001b[0mstr\u001b[0m\u001b[0;34m(\u001b[0m\u001b[0muni\u001b[0m\u001b[0;34m)\u001b[0m\u001b[0;34m+\u001b[0m\u001b[0;34m']'\u001b[0m\u001b[0;34m,\u001b[0m\u001b[0mweight_name\u001b[0m\u001b[0;34m+\u001b[0m\u001b[0;34m'*All_UBGenie['\u001b[0m\u001b[0;34m+\u001b[0m\u001b[0mstr\u001b[0m\u001b[0;34m(\u001b[0m\u001b[0muni\u001b[0m\u001b[0;34m)\u001b[0m\u001b[0;34m+\u001b[0m\u001b[0;34m']*('\u001b[0m\u001b[0;34m+\u001b[0m\u001b[0mcut\u001b[0m\u001b[0;34m+\u001b[0m\u001b[0;34m'&& numu_signal)'\u001b[0m\u001b[0;34m)\u001b[0m\u001b[0;34m\u001b[0m\u001b[0m\n\u001b[0;32m---> 18\u001b[0;31m     \u001b[0mglobale\u001b[0m\u001b[0;34m.\u001b[0m\u001b[0moverlay_out\u001b[0m\u001b[0;34m.\u001b[0m\u001b[0mDraw\u001b[0m\u001b[0;34m(\u001b[0m\u001b[0;34m'MCle_Energy'\u001b[0m\u001b[0;34m+\u001b[0m\u001b[0;34m\">>h_1d_true[\"\u001b[0m\u001b[0;34m+\u001b[0m\u001b[0mstr\u001b[0m\u001b[0;34m(\u001b[0m\u001b[0muni\u001b[0m\u001b[0;34m)\u001b[0m\u001b[0;34m+\u001b[0m\u001b[0;34m']'\u001b[0m\u001b[0;34m,\u001b[0m\u001b[0mweight_name\u001b[0m\u001b[0;34m+\u001b[0m\u001b[0;34m'*All_UBGenie['\u001b[0m\u001b[0;34m+\u001b[0m\u001b[0mstr\u001b[0m\u001b[0;34m(\u001b[0m\u001b[0muni\u001b[0m\u001b[0;34m)\u001b[0m\u001b[0;34m+\u001b[0m\u001b[0;34m']*(numu_true)'\u001b[0m\u001b[0;34m)\u001b[0m\u001b[0;34m\u001b[0m\u001b[0m\n\u001b[0m\u001b[1;32m     19\u001b[0m     \u001b[0;31m#globale.overlay_out.Draw('TrackMomRange_mu'+\">>h_1d_r[\"+str(uni)+']',weight_name+'*All_UBGenie['+str(uni)+']*('+cut+'&& numu_signal && !track_end_uncontained)')\u001b[0m\u001b[0;34m\u001b[0m\u001b[0;34m\u001b[0m\u001b[0m\n\u001b[1;32m     20\u001b[0m     \u001b[0;31m#globale.overlay_out.Draw('TrackMomRange_mu'+\">>h_1d_true_r[\"+str(uni)+']',weight_name+'*All_UBGenie['+str(uni)+']*(numu_true && !track_end_uncontained)')\u001b[0m\u001b[0;34m\u001b[0m\u001b[0;34m\u001b[0m\u001b[0m\n",
      "\u001b[0;31mKeyboardInterrupt\u001b[0m: "
     ]
    }
   ],
   "source": [
    "weight_name = 'EventWeight'\n",
    "#variable = 'MCle_Energy'\n",
    "cut = 'fidVol && muon && crt_tom_cut && TrackScore>0.8\\\n",
    "                && TrackLength>20 && TrackPID_chiproton>78 && NuScore>0.1'\n",
    "\n",
    "h_1d = {}\n",
    "h_1d_true = {}\n",
    "#h_1d_r = {}\n",
    "#h_1d_true_r = {}\n",
    "for uni in range(num_universes):\n",
    "    #print 'At universe: ',uni\n",
    "    h_1d[uni] = ROOT.TH1F(\"h_1d[\"+str(uni)+']',\"Track true momentum\",binnum,array('f',mom_bins))\n",
    "    h_1d_true[uni] = ROOT.TH1F(\"h_1d_true[\"+str(uni)+']',\"Track true momentum\",binnum,array('f',mom_bins))\n",
    "    #h_1d_r[uni] = ROOT.TH1F(\"h_1d_r[\"+str(uni)+']',\"Track true momentum\",binnum,array('f',mom_bins))\n",
    "    #h_1d_true_r[uni] = ROOT.TH1F(\"h_1d_true_r[\"+str(uni)+']',\"Track true momentum\",binnum,array('f',mom_bins))\n",
    "    \n",
    "for uni in range(num_universes):\n",
    "    globale.overlay_out.Draw('MCle_Energy'+\">>h_1d[\"+str(uni)+']',weight_name+'*All_UBGenie['+str(uni)+']*('+cut+'&& numu_signal)')\n",
    "    globale.overlay_out.Draw('MCle_Energy'+\">>h_1d_true[\"+str(uni)+']',weight_name+'*All_UBGenie['+str(uni)+']*(numu_true)')\n",
    "    #globale.overlay_out.Draw('TrackMomRange_mu'+\">>h_1d_r[\"+str(uni)+']',weight_name+'*All_UBGenie['+str(uni)+']*('+cut+'&& numu_signal && !track_end_uncontained)')\n",
    "    #globale.overlay_out.Draw('TrackMomRange_mu'+\">>h_1d_true_r[\"+str(uni)+']',weight_name+'*All_UBGenie['+str(uni)+']*(numu_true && !track_end_uncontained)')\n",
    "    #h_1d[uni].Add(h_1d_r[uni])\n",
    "    #h_1d_true[uni].Add(h_1d_true_r[uni])\n",
    "    #print variable+\">>h_1d_true[\"+str(uni)+']',weight_name+'*All_Genie['+str(uni)+']*(numu_true)'\n",
    "    num_signal = h_1d[uni].Integral(0,binnum+1)\n",
    "    num_true = h_1d_true[uni].Integral(0,binnum+1)\n",
    "    eff_uni[uni] = num_signal/(num_true+1e-80)\n",
    "    h_1d[uni].Write('h_1d['+str(uni)+']')\n",
    "    h_1d_true[uni].Write('h_1d_true['+str(uni)+']')\n",
    "    print 'Signal: ', num_signal,' True: ', num_true,' Eff: ',eff_uni[uni]"
   ]
  },
  {
   "cell_type": "code",
   "execution_count": null,
   "metadata": {},
   "outputs": [],
   "source": [
    "weight_name = 'EventWeight'\n",
    "variable = 'TrackMomMCS_mom'\n",
    "cut = 'fidVol && muon && crt_tom_cut && TrackScore>0.8\\\n",
    "                && TrackLength>20 && TrackPID_chiproton>78 && NuScore>0.1'\n",
    "\n",
    "bkg_uni = np.zeros((num_universes))\n",
    "h_1d_bkg = {}\n",
    "h_1d_bkg_r = {}\n",
    "\n",
    "for uni in range(num_universes):\n",
    "    #print 'At universe: ',uni\n",
    "    h_1d_bkg[uni] = ROOT.TH1F(\"h_1d_bkg[\"+str(uni)+']',\"Track momentum\",binnum,array('f',mom_bins))\n",
    "    h_1d_bkg_r[uni] = ROOT.TH1F(\"h_1d_bkg_r[\"+str(uni)+']',\"Track momentum\",binnum,array('f',mom_bins))\n",
    "\n",
    "for uni in range(num_universes):\n",
    "    globale.overlay_out.Draw(variable+\">>h_1d_bkg[\"+str(uni)+']',weight_name+'*All_UBGenie['+str(uni)+']*('+cut+'&& !numu_signal && track_end_uncontained)')\n",
    "    globale.overlay_out.Draw(\"TrackMomRange_mu>>h_1d_bkg_r[\"+str(uni)+']',weight_name+'*All_UBGenie['+str(uni)+']*('+cut+'&& !numu_signal && !track_end_uncontained)')\n",
    "    #globale.overlay_out.Draw(variable+\">>h_1d_bkg[\"+str(uni)+']',weight_name+'*All_UBGenie['+str(uni)+']*('+cut+'&& !numu_signal)')\n",
    "    h_1d_bkg[uni].Add(h_1d_bkg_r[uni])\n",
    "    h_1d_bkg[uni].Scale(globale.scale[globale.overlay])\n",
    "    bkg_uni[uni] = h_1d_bkg[uni].Integral(0,binnum+1)\n",
    "    h_1d_bkg[uni].Write('h_1d_bkg['+str(uni)+']')\n",
    "    #print 'Overlay: ',bkg_uni[uni]\n"
   ]
  },
  {
   "cell_type": "code",
   "execution_count": null,
   "metadata": {},
   "outputs": [],
   "source": [
    "# calculate total flux integrated cross section:\n",
    "cut = 'fidVol && muon && TrackLength>8 && crt_tom_cut && TrackScore>0.8\\\n",
    "                && TrackLength>20 && TrackPID_chiproton>78 && NuScore>0.1'\n",
    "weight_name = 'EventWeight*TunedCentralValue_Genie'\n",
    "N_data = data_out.GetEntries(cut)\n",
    "N_ext  = ext_out.GetEntries(cut)*scale_out[ext_out]\n",
    "N_dirt = dirt_out.GetEntries(cut)*scale_out[dirt_out]\n",
    "N_overlay = overlay_out.GetEntries(cut+'&& !numu_signal')*scale_out[overlay_out]\n",
    "N_signal = overlay_out.GetEntries(cut+'&& numu_signal')*scale_out[overlay_out]\n",
    "N_true = overlay_out.GetEntries('numu_true')*scale_out[overlay_out]\n",
    "\n",
    "print N_overlay\n",
    "\n",
    "h_weight_func = ROOT.TH1F(\"h_weight_func\",'h_weight_func',10000,0,1000)\n",
    "overlay_out.Draw(weight_name+'>>h_weight_func',cut+' && 1','0')\n",
    "dirt_pass_weight = h_weight_func.GetMean() \n",
    "overlay_out.Draw(weight_name+'>>h_weight_func',cut+' && numu_signal','0') # weights for signal definition\n",
    "overlay_signal = h_weight_func.GetMean()\n",
    "overlay_out.Draw(weight_name+'>>h_weight_func',cut+' && !numu_signal','0') # weights for signal definition\n",
    "overlay_pass_weight = h_weight_func.GetMean()\n",
    "\n",
    "overlay_out.Draw(weight_name+'>>h_weight_func',numu_true,'0') # weights for signal definition\n",
    "overlay_true_weight = h_weight_func.GetMean()\n",
    "\n",
    "print overlay_pass_weight\n",
    "\n",
    "N_dirt = N_dirt*dirt_pass_weight\n",
    "N_overlay = N_overlay*overlay_pass_weight\n",
    "N_signal = N_signal*overlay_signal\n",
    "N_true = N_true*overlay_true_weight\n",
    "eff = N_signal/N_true\n",
    "\n",
    "sigma_tot = (N_data- (N_ext+N_dirt+N_overlay))/(eff*beam_flux*N_tot)\n",
    "print 'Number of data:', N_data\n",
    "print 'Number of ext:', N_ext\n",
    "print 'Number of dirt:', N_dirt\n",
    "print 'Number of overlay:', N_overlay\n",
    "print 'Number of overlay signal:', N_signal\n",
    "print 'Efficiency: ',eff\n",
    "print 'Total integrated cross section:', sigma_tot\n",
    "xsec_CV = sigma_tot\n",
    "\n",
    "sigma_tot_MC = (N_signal)/(eff*beam_flux*N_tot)\n",
    "print 'Total integrated cross section for MC:', sigma_tot_MC"
   ]
  },
  {
   "cell_type": "code",
   "execution_count": null,
   "metadata": {},
   "outputs": [],
   "source": [
    "# calculate the total cross section and the difference to the CV\n",
    "# from momentum CV xsec:\n",
    "#xsec_CV = 8.00835474027e-39 #7.6770041506e-39\n",
    "xsec_uni = np.zeros((num_universes))\n",
    "xsec_diff = np.zeros((num_universes))\n",
    "sigma_tot = 0.0\n",
    "for uni in range(num_universes):\n",
    "    signal = num_data - bkg_ext - bkg_dirt - bkg_uni[uni]\n",
    "    xsec_uni[uni] = (num_data - bkg_ext - bkg_dirt - bkg_uni[uni])/(eff_uni[uni] * N_tot * beam_flux)\n",
    "    xsec_diff[uni] = xsec_uni[uni] - xsec_CV\n",
    "    print 'Total flux integrated xsec: ',xsec_uni[uni],' change: ', (xsec_uni[uni] - xsec_CV)/xsec_CV*100\n",
    "    sigma_tot = sigma_tot+xsec_diff[uni]*xsec_diff[uni]\n",
    "sigma_tot = sigma_tot/num_universes\n",
    "print 'xsec CV: ',xsec_CV,' deviatons: ',math.sqrt(sigma_tot),' in percent: ',math.sqrt(sigma_tot)*100.0/xsec_CV,'%'"
   ]
  },
  {
   "cell_type": "code",
   "execution_count": null,
   "metadata": {},
   "outputs": [],
   "source": [
    "#Since the efficiency does not change very much per universe the nominal efficiency e_tilde is used\n",
    "# in order not to calculated the whole detector smearing again\n",
    "eff_tilde_CV = np.load('/home/tmettler/Desktop/v08_00_00_33/V08_00_00_35/weighted/xsec_filesV4/eff_tilde_momentum_xsec_CV.npy')\n",
    "print eff_tilde_CV"
   ]
  },
  {
   "cell_type": "code",
   "execution_count": null,
   "metadata": {},
   "outputs": [],
   "source": []
  },
  {
   "cell_type": "code",
   "execution_count": null,
   "metadata": {},
   "outputs": [],
   "source": []
  },
  {
   "cell_type": "code",
   "execution_count": null,
   "metadata": {},
   "outputs": [],
   "source": []
  },
  {
   "cell_type": "code",
   "execution_count": null,
   "metadata": {},
   "outputs": [],
   "source": [
    "#get mitigation matrix for each universe for momentum\n",
    "weight_name = 'EventWeight'\n",
    "cut = 'fidVol && muon && crt_tom_cut && TrackScore>0.8\\\n",
    "                && TrackLength>20 && TrackPID_chiproton>78 && NuScore>0.1'\n",
    "\n",
    "h_migration = {}\n",
    "h_mitigation_matrix = {}\n",
    "h_migration_r = {}\n",
    "\n",
    "for uni in range(num_universes):\n",
    "    h_migration[uni] = ROOT.TH2F(\"h_migration[\"+str(uni)+']',\"Track momentum\",binnum,array('f',mom_bins),binnum,array('f',mom_bins))\n",
    "    h_migration_r[uni] = ROOT.TH2F(\"h_migration_r[\"+str(uni)+']',\"Track momentum\",binnum,array('f',mom_bins),binnum,array('f',mom_bins))\n",
    "    #h_migration[uni].Write('h_migration['+str(uni)+'])')\n",
    "    h_mitigation_matrix[uni] = ROOT.TH2F(\"h_mitigation_matrix[\"+str(uni)+']','Migration matrix',8,0,8,8,0,8)\n",
    "\n",
    "for uni in range(num_universes):\n",
    "    overlay_out.Draw('MCle_Energy:TrackMomMCS_mom'+'>>h_migration['+str(uni)+']',weight_name+'*All_UBGenie['+str(uni)+']*('+cut+' && numu_signal && track_end_uncontained)','')\n",
    "    overlay_out.Draw('MCle_Energy:TrackMomRange_mu'+'>>h_migration_r['+str(uni)+']',weight_name+'*All_UBGenie['+str(uni)+']*('+cut+' && numu_signal && !track_end_uncontained)','')\n",
    "    #overlay_out.Draw('MCle_Energy:TrackMomMCS_mom'+'>>h_migration['+str(uni)+']',weight_name+'*All_UBGenie['+str(uni)+']*('+cut+' && numu_true)','')\n",
    "    h_migration[uni].Add(h_migration_r[uni])\n",
    "    h_migration[uni].Write('h_migration['+str(uni)+'])')\n",
    "    \n",
    "mitigation_matrix = np.zeros((num_universes,8,8))\n",
    "for uni in range(num_universes):\n",
    "    reco_entries = [0.0, 0.0, 0.0, 0.0, 0.0, 0.0, 0.0, 0.0]\n",
    "    for j in range(0,binnum+2):\n",
    "        for i in range(0,binnum+2):\n",
    "            reco_entries[j]+=h_migration[uni].GetBinContent(i,j)\n",
    "    for j in range(0,binnum+2):\n",
    "        for i in range(0,binnum+2):\n",
    "            mitigation_matrix[uni,i,j]= h_migration[uni].GetBinContent(i,j)/(reco_entries[j]+1e-80)\n",
    "            h_mitigation_matrix[uni].SetBinContent(i+1,j+1,mitigation_matrix[uni,i,j])\n",
    "    h_mitigation_matrix[uni].Write('h_mitigation_matrix['+str(uni)+']')\n"
   ]
  },
  {
   "cell_type": "code",
   "execution_count": null,
   "metadata": {},
   "outputs": [],
   "source": [
    "# calculate e tilde for all universes\n",
    "N_sel = np.zeros((num_universes,8))\n",
    "N_gen = np.zeros((num_universes,8))\n",
    "eff_tilde = np.zeros((num_universes,8))\n",
    "#h_eff_true = {}\n",
    "for uni in range(num_universes):\n",
    "    for i in range(0,binnum+2):\n",
    "        N_sel[uni][i] = h_1d[uni].GetBinContent(i)\n",
    "        N_gen[uni][i] = h_1d_true[uni].GetBinContent(i)\n",
    "    #print N_sel[uni]\n",
    "    #print N_gen[uni]\n",
    "    #print mitigation_matrix[uni]\n",
    "    #print mitigation_matrix[uni].dot(N_sel[uni])/(mitigation_matrix[uni].dot(N_gen[uni]))\n",
    "    eff_tilde[uni] = mitigation_matrix[uni].dot(N_sel[uni])/(mitigation_matrix[uni].dot(N_gen[uni]))\n",
    "np.save(output_filedir+'eff_tilde_all_genie',eff_tilde)\n",
    "\n",
    "h_eff_true = {}\n",
    "h_eff_tilde = {}\n",
    "for uni in range(num_universes):\n",
    "    h_eff_tilde[uni] = ROOT.TH1F(\"h_eff_tilde[\"+str(uni)+']','Efficiency tilde',binnum,array('f',mom_bins))\n",
    "    h_eff_true[uni] = h_1d[uni].Clone()\n",
    "    h_eff_true[uni].Sumw2()\n",
    "    h_eff_true[uni].Divide(h_1d_true[uni])\n",
    "    for i in range(1,binnum+1):\n",
    "        h_eff_tilde[uni].SetBinContent(i,eff_tilde[uni][i])\n",
    "        h_eff_tilde[uni].SetBinError(i,h_eff_true[uni].GetBinError(i))\n",
    "    h_eff_tilde[uni].SetYTitle(\"reconstructed efficiency\")\n",
    "    h_eff_tilde[uni].SetXTitle(\"p_{\\mu} \\t [GeV]\")\n",
    "    h_eff_tilde[uni].Write('h_eff_tilde['+str(uni)+']')\n",
    "    h_eff_true[uni].Write('h_eff_true['+str(uni)+']')"
   ]
  },
  {
   "cell_type": "code",
   "execution_count": null,
   "metadata": {},
   "outputs": [],
   "source": [
    "h_xsec = {}\n",
    "for uni in range(num_universes): \n",
    "    h_xsec[uni] = h_data_mom.Clone()\n",
    "    h_xsec[uni].Sumw2()\n",
    "    h_xsec[uni].Add(h_ext_mom,-1)\n",
    "    h_xsec[uni].Add(h_dirt_mom,-1)\n",
    "    h_xsec[uni].Add(h_1d_bkg[uni],-1)\n",
    "    print h_xsec[uni].GetSumOfWeights()\n"
   ]
  },
  {
   "cell_type": "code",
   "execution_count": null,
   "metadata": {},
   "outputs": [],
   "source": [
    "for uni in range(num_universes): \n",
    "    h_xsec[uni].Divide(h_eff_tilde[uni])\n",
    "    h_xsec[uni].Scale(1.0/(N_tot * beam_flux))\n",
    "    for i in range(1,binnum+1):\n",
    "        h_xsec[uni].SetBinContent(i,h_xsec[uni].GetBinContent(i)/h_xsec[uni].GetBinWidth(i))\n",
    "    h_xsec[uni].Write('h_xsec['+str(uni)+']')"
   ]
  },
  {
   "cell_type": "code",
   "execution_count": null,
   "metadata": {},
   "outputs": [],
   "source": [
    "h_xsec[0].Draw()\n",
    "c1.Draw()"
   ]
  },
  {
   "cell_type": "code",
   "execution_count": null,
   "metadata": {},
   "outputs": [],
   "source": []
  },
  {
   "cell_type": "code",
   "execution_count": null,
   "metadata": {},
   "outputs": [],
   "source": [
    "# close the root file with all the histos\n",
    "RootFile.Close()"
   ]
  },
  {
   "cell_type": "code",
   "execution_count": null,
   "metadata": {},
   "outputs": [],
   "source": []
  }
 ],
 "metadata": {
  "kernelspec": {
   "display_name": "Python 3",
   "language": "python",
   "name": "python3"
  },
  "language_info": {
   "codemirror_mode": {
    "name": "ipython",
    "version": 2
   },
   "file_extension": ".py",
   "mimetype": "text/x-python",
   "name": "python",
   "nbconvert_exporter": "python",
   "pygments_lexer": "ipython2",
   "version": "2.7.12"
  }
 },
 "nbformat": 4,
 "nbformat_minor": 2
}
