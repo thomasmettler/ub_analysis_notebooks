{
 "cells": [
  {
   "cell_type": "code",
   "execution_count": 1,
   "metadata": {},
   "outputs": [
    {
     "name": "stdout",
     "output_type": "stream",
     "text": [
      "Welcome to JupyROOT 6.18/04\n"
     ]
    }
   ],
   "source": [
    "from __future__ import division\n",
    "import imp\n",
    "import uproot\n",
    "import matplotlib\n",
    "#matplotlib.use('agg')\n",
    "import matplotlib.pyplot as plt\n",
    "import matplotlib.image as mpimg\n",
    "import numpy as np\n",
    "import pandas as pd\n",
    "import os\n",
    "import ROOT\n",
    "import time\n",
    "import math\n",
    "from array import array\n",
    "import collections"
   ]
  },
  {
   "cell_type": "code",
   "execution_count": 2,
   "metadata": {},
   "outputs": [
    {
     "name": "stderr",
     "output_type": "stream",
     "text": [
      "Warning in <TCanvas::Constructor>: Deleting canvas with same name: c1\n",
      "Warning in <TCanvas::Constructor>: Deleting canvas with same name: c1\n"
     ]
    }
   ],
   "source": [
    "inputdir = '/home/tmettler/Desktop/v08_00_00_33/V08_00_00_35/weighted/'\n",
    "outputdir = inputdir+'xsec_momentum_rooFit/' \n",
    "output_filedir = outputdir\n",
    "input_filedir = '/home/tmettler/Desktop/v08_00_00_33/V08_00_00_35/weighted/'\n",
    "lib_function_dir = '/home/tmettler/Desktop/uBoone/do_plots/'\n",
    "\n",
    "plot_systematic = 0\n",
    "\n",
    "# helper functions\n",
    "globale = imp.load_source('globale',lib_function_dir+'globale.py')\n",
    "NuCC = imp.load_source('NuCC_function',lib_function_dir+'NuCC_function.py')\n",
    "NuCC_w = imp.load_source('NuCCWeight_function',lib_function_dir+'NuCCWeight_function.py')"
   ]
  },
  {
   "cell_type": "code",
   "execution_count": 3,
   "metadata": {},
   "outputs": [],
   "source": [
    "# Load input files\n",
    "#inputdir = '/home/thomasm/numuCC/V33/10kevents/'\n",
    "outputdir_png, outputdir_root,outputdir_pdf = NuCC.prepareOutput2(outputdir)\n",
    "try:\n",
    "    os.stat(output_filedir)\n",
    "except:\n",
    "    os.mkdir(output_filedir)\n",
    "RootFile = ROOT.TFile(output_filedir+\"xsec_momentum_fit.root\",\"RECREATE\");\n",
    "\n",
    "#filename_overlay = 'NuCCana_Overlay_V18_V4.root'\n",
    "#filename_overlay = 'NuCCana_overlay_V26_weight.root'\n",
    "filename_overlay = 'NuCCana_overlay_V26_mar18.root'\n",
    "filename_data = 'NuCCana_data_V25.root'\n",
    "filename_ext = 'NuCCana_ext_V25.root'\n",
    "filename_dirt = 'NuCCana_dirt_V26_weight.root'\n",
    "    \n",
    "tree_name = 'numuCCAna'"
   ]
  },
  {
   "cell_type": "code",
   "execution_count": 4,
   "metadata": {},
   "outputs": [
    {
     "name": "stdout",
     "output_type": "stream",
     "text": [
      "Overlay: Number of Entries:\t1012051\n",
      "Data: Number of Entries:\t28005\n",
      "Ext: Number of Entries:\t\t222702\n",
      "Dirt: Number of Entries:\t40808\n",
      "\n",
      "POT: \n",
      "Data:\t\t7.644e+18\n",
      "Ext:\t\t0\n",
      "Overlay:\t1.26811760704e+21\n",
      "Dirt:\t\t1.25019694173e+20\n",
      "\n",
      "Scalefactors: \n",
      "Data:\t\t1.0\n",
      "Ext:\t\t0.0967862715198\n",
      "Overlay:\t0.0060278320856\n",
      "Dirt:\t\t0.0611423668132\n"
     ]
    }
   ],
   "source": [
    "#Open all the trees of the four files (data, ext, dirt, overlay)\n",
    "\n",
    "data, ext, dirt, overlay = NuCC.openTrees(inputdir, filename_data, filename_ext, filename_dirt, filename_overlay, tree_name)\n",
    "NuCC.printNumberOfEntries(data,ext,dirt,overlay)\n",
    "\n",
    "pot_overlay = NuCC.getPOT(inputdir,filename_overlay,tree_name)\n",
    "pot_dirt =  NuCC.getPOT(inputdir,filename_dirt,tree_name)\n",
    "#V25 files\n",
    "pot_data =    7.644e+18  # best with tor875\n",
    "data_trigger = 1838700.0 #2220362.0 #1854495.0 #4743794 # 1987072.0 # E1DCNT_wcut\n",
    "ext_trigger =  18997529.0  #2120135 #5685315 # EXT\n",
    "\n",
    "print 'POT: '\n",
    "print 'Data:\\t\\t', pot_data\n",
    "print 'Ext:\\t\\t', 0\n",
    "print 'Overlay:\\t', pot_overlay\n",
    "print 'Dirt:\\t\\t', pot_dirt\n",
    "print ''\n",
    "sample = [data,ext,overlay,dirt]\n",
    "scale = {data:1.0,ext:1.0,overlay:1.0,dirt:1.0}\n",
    "name = {data:'data',ext:'ext',overlay:'overlay',dirt:'dirt'}\n",
    "\n",
    "scale[data], scale[ext], scale[dirt], scale[overlay] = NuCC.calculateScale(data_trigger, ext_trigger, pot_data, pot_dirt, pot_overlay)\n",
    "\n",
    "scale[dirt] = scale[dirt]\n",
    "scale[overlay] = scale[overlay]\n",
    "print 'Scalefactors: '\n",
    "print 'Data:\\t\\t', scale[data]\n",
    "print 'Ext:\\t\\t', scale[ext]\n",
    "print 'Overlay:\\t', scale[overlay]\n",
    "print 'Dirt:\\t\\t', scale[dirt]\n"
   ]
  },
  {
   "cell_type": "code",
   "execution_count": 5,
   "metadata": {},
   "outputs": [
    {
     "name": "stdout",
     "output_type": "stream",
     "text": [
      "Overlay: Number of Entries:\t1013969\n",
      "Data: Number of Entries:\t28004\n",
      "Ext: Number of Entries:\t\t222701\n",
      "Dirt: Number of Entries:\t40800\n",
      "\n"
     ]
    }
   ],
   "source": [
    "if 1:\n",
    "    filename_overlay = filename_overlay+'out4_noflux.root'\n",
    "    #filename_overlay = 'NuCCana_overlay_points_1kev.rootout2.root'\n",
    "    filename_data = filename_data+'out4.root'\n",
    "    filename_ext = filename_ext+'out4.root'\n",
    "    filename_dirt = filename_dirt+'out4.root'\n",
    "\n",
    "    tree_name = 't_out'\n",
    "\n",
    "    data_out, ext_out, dirt_out, overlay_out = NuCC.openTreesOut(inputdir, filename_data, filename_ext, filename_dirt, filename_overlay, tree_name)\n",
    "    NuCC.printNumberOfEntries(data_out,ext_out,dirt_out,overlay_out)\n",
    "\n",
    "    sample_out = [data_out,ext_out,overlay_out,dirt_out]\n",
    "    scale_out = {data_out:1.0,ext_out:1.0,overlay_out:1.0,dirt_out:1.0}\n",
    "    name_out = {data_out:'data',ext_out:'ext',overlay_out:'overlay',dirt_out:'dirt'}\n",
    "\n",
    "    scale_out[data_out], scale_out[ext_out], scale_out[dirt_out], scale_out[overlay_out] = NuCC.calculateScale(data_trigger, ext_trigger, pot_data, pot_dirt, pot_overlay)\n",
    "    scale_out[dirt_out] = scale_out[dirt_out]\n",
    "    scale_out[overlay_out] = scale_out[overlay_out]"
   ]
  },
  {
   "cell_type": "code",
   "execution_count": 6,
   "metadata": {},
   "outputs": [
    {
     "name": "stdout",
     "output_type": "stream",
     "text": [
      "7.34038944724e-10\n",
      "7.3789785277e-10\n",
      "Fiducial Volume:  49184671.35\n",
      "Beam flux = 5.64049e+09  /cm2\n",
      "Number of target nuclei= 4.10331e+31  /cm3\n"
     ]
    }
   ],
   "source": [
    "##### flux and number of tragets parameters###\n",
    "flux = 1.16859e11/1.592e20 # flux per POT per cm2\n",
    "print flux\n",
    "flux = 7.3789785277e-10\n",
    "print flux\n",
    "roh_data = 1.3836 #data denisity g/cm3\n",
    "roh_MC = 1.3954 # MC denisity g/cm3\n",
    "mol = 39.95 # g for argon\n",
    "N_A = 6.022140857e23 # molec/mol avogadro zahl\n",
    "N_nucleons = 40.0\n",
    "V_fid = ((254.8-10)-(-1.55+10))*((117.47-10)-(-115.53+10))*((1036.9-50)-(-0.1+10))\n",
    "print 'Fiducial Volume: ', V_fid\n",
    "##############################################\n",
    "\n",
    "beam_flux = flux * pot_data\n",
    "print 'Beam flux = {:.5e}'.format(beam_flux),' /cm2'\n",
    "N_tot = roh_data*N_A*N_nucleons*V_fid/mol\n",
    "print 'Number of target nuclei= {:.5e}'.format(N_tot),' /cm3'"
   ]
  },
  {
   "cell_type": "code",
   "execution_count": 7,
   "metadata": {},
   "outputs": [],
   "source": [
    "# Define signals\n",
    "\n",
    "fidVol = '(Nu_Vx_sce>(-1.55+10) && Nu_Vx_sce<(254.8-10)) && (Nu_Vy_sce>(-115.53+10) && Nu_Vy_sce<(117.47-10)) &&(Nu_Vz_sce>(-0.1+10) && Nu_Vz_sce<(1036.9-50))'\n",
    "MCfidVol = '(MCNu_Vx>(-1.55+10) && MCNu_Vx<(254.8-10)) && (MCNu_Vy>(-115.53+10) && MCNu_Vy<(117.47-10)) &&(MCNu_Vz>(-0.1+10) && MCNu_Vz<(1036.9-50))'\n",
    "numu_signal = 'fidVol && MCfidVol && MCNu_CCNC==0 && MCNu_PDG==14 && MCTrackPDG==13 && MCTrackPurity>0.5' # numu CC signal definition\n",
    "numu_true = 'MCfidVol && MCNu_CCNC==0 && MCNu_PDG==14' # numu CC signal definition\n",
    "numu_nomu = 'fidVol && MCfidVol && MCNu_CCNC==0 && MCNu_PDG==14 && MCTrackPDG!=13 && MCTrackPurity>0.5' # not an MC muon\n",
    "numu_lowpur = 'fidVol && MCfidVol && MCNu_CCNC==0 && MCNu_PDG==14 && MCTrackPurity<0.5' #low purity\n",
    "numu_nc = 'fidVol && MCfidVol && MCNu_CCNC==1' # nutral current\n",
    "numu_ov = 'fidVol && !MCfidVol' # out of fiducial\n",
    "numu_other = 'fidVol && MCfidVol && MCNu_CCNC==0 && MCNu_PDG!=14' # e.g anti nu or nue\n",
    "#signal = 'MCfidVol && MCNu_CCNC==0 && MCNu_PDG==14'\n",
    "for x in sample:\n",
    "    x.SetAlias('muon','(muon_candidate_key==track_key)')\n",
    "\n",
    "energy_cut = ' && MCle_Energy>0.15'\n",
    "\n",
    "numu_signal = numu_signal+energy_cut\n",
    "numu_true = numu_true+energy_cut\n",
    "numu_nomu = numu_nomu+energy_cut\n",
    "numu_lowpur = numu_lowpur+energy_cut\n",
    "numu_nc = numu_nc+energy_cut\n",
    "numu_ov = numu_ov+energy_cut\n",
    "numu_other = numu_other+energy_cut\n",
    "\n",
    "num_fidVol = {}\n",
    "for x in sample:\n",
    "    x.SetAlias('fidVol',fidVol)\n",
    "    x.SetAlias('MCfidVol',MCfidVol)\n",
    "    x.SetAlias('numu_signal',numu_signal)\n",
    "    x.SetAlias('numu_true',numu_true)\n",
    "    x.SetAlias('numu_nomu',numu_nomu)\n",
    "    x.SetAlias('numu_lowpur',numu_lowpur)\n",
    "    x.SetAlias('numu_nc',numu_nc)\n",
    "    x.SetAlias('numu_ov',numu_ov)\n",
    "    x.SetAlias('numu_other',numu_other)\n",
    "    num_fidVol[x] = x.GetEntries('fidVol && muon')*scale[x]\n",
    "    \n",
    "tot_num_fidVol = num_fidVol[ext]+num_fidVol[dirt]+num_fidVol[overlay]\n",
    "overlay_signals = {'numu_signal','numu_nomu','numu_lowpur','numu_nc','numu_ov','numu_other'}"
   ]
  },
  {
   "cell_type": "code",
   "execution_count": 8,
   "metadata": {},
   "outputs": [],
   "source": [
    "for x in sample_out:\n",
    "    x.SetAlias('muon','(track_key == key_muon)')\n",
    "\n",
    "num_fidVol = {}\n",
    "for x in sample_out:\n",
    "    x.SetAlias('fidVol',fidVol)\n",
    "    x.SetAlias('MCfidVol',MCfidVol)\n",
    "    x.SetAlias('numu_signal',numu_signal)\n",
    "    x.SetAlias('numu_true',numu_true)\n",
    "    x.SetAlias('numu_nomu',numu_nomu)\n",
    "    x.SetAlias('numu_lowpur',numu_lowpur)\n",
    "    x.SetAlias('numu_nc',numu_nc)\n",
    "    x.SetAlias('numu_ov',numu_ov)\n",
    "    x.SetAlias('numu_other',numu_other)"
   ]
  },
  {
   "cell_type": "code",
   "execution_count": 9,
   "metadata": {},
   "outputs": [],
   "source": [
    "track_start_border_x = '(TrackStart_x_sce <(-1.55+5) || TrackStart_x_sce > (254.8-5))'\n",
    "track_end_border_x = '(TrackEnd_x_sce <(-1.55+5) || TrackEnd_x_sce > (254.8-5))'\n",
    "track_start_border_y = '(TrackStart_y_sce <(-115.53+5) || TrackStart_y_sce > (117.47-5))'\n",
    "track_end_border_y = '(TrackEnd_y_sce <(-115.53+5) || TrackEnd_y_sce > (117.47-5))'\n",
    "track_start_border_z = '(TrackStart_z_sce <(0.1+5) || TrackStart_z_sce > (1036.9-5))'\n",
    "track_end_border_z = '(TrackEnd_z_sce <(0.1+5) || TrackEnd_z_sce > (1039.9-5))'\n",
    "\n",
    "track_end_uncontained = '(' + track_end_border_x + ' || ' + track_end_border_y + ' || ' + track_end_border_z+ ')'\n",
    "\n",
    "\n",
    "data.SetAlias(\"track_end_uncontained\",track_end_uncontained)\n",
    "ext.SetAlias(\"track_end_uncontained\",track_end_uncontained)\n",
    "overlay.SetAlias(\"track_end_uncontained\",track_end_uncontained)\n",
    "dirt.SetAlias(\"track_end_uncontained\",track_end_uncontained)\n",
    "data_out.SetAlias(\"track_end_uncontained\",track_end_uncontained)\n",
    "ext_out.SetAlias(\"track_end_uncontained\",track_end_uncontained)\n",
    "overlay_out.SetAlias(\"track_end_uncontained\",track_end_uncontained)\n",
    "dirt_out.SetAlias(\"track_end_uncontained\",track_end_uncontained)\n",
    "\n",
    "data.SetAlias(\"crt_cut\",\"(abs(crtt0_time+(crt_trig_corr_med)/1000-4)<0.9 || crtt0_time==-1)\")\n",
    "ext.SetAlias(\"crt_cut\",\"(abs(crtt0_time+(crt_trig_corr_med)/1000-3.57+3.195-4)<0.9 || crtt0_time==-1)\")\n",
    "overlay.SetAlias(\"crt_cut\",\"(abs(crtt0_time-3.95)<0.9 || crtt0_time==-1)\")\n",
    "dirt.SetAlias(\"crt_cut\",\"(abs(crtt0_time-3.95)<0.9 || crtt0_time==-1)\")\n",
    "data_out.SetAlias(\"crt_cut\",\"(abs(crtt0_time+(crt_trig_corr_med)/1000-3.95)<0.9 || crtt0_time==-1)\")\n",
    "ext_out.SetAlias(\"crt_cut\",\"(abs(crtt0_time+(crt_trig_corr_med)/1000-3.57+3.195-3.95)<0.9 || crtt0_time==-1)\")\n",
    "overlay_out.SetAlias(\"crt_cut\",\"(abs(crtt0_time-3.95)<0.9 || crtt0_time==-1)\")\n",
    "dirt_out.SetAlias(\"crt_cut\",\"(abs(crtt0_time-3.95)<0.9 || crtt0_time==-1)\")\n",
    "\n",
    "crt_tom_cut = 'nr_crthit_top==0 && crthit_vertex_zcut==0 && (track_end_uncontained==1 || nr_crthit_beam_tres==0) && crt_cut'\n",
    "\n",
    "data.SetAlias(\"crt_tom_cut\",crt_tom_cut)\n",
    "ext.SetAlias(\"crt_tom_cut\",crt_tom_cut)\n",
    "overlay.SetAlias(\"crt_tom_cut\",crt_tom_cut)\n",
    "dirt.SetAlias(\"crt_tom_cut\",crt_tom_cut)\n",
    "data_out.SetAlias(\"crt_tom_cut\",crt_tom_cut)\n",
    "ext_out.SetAlias(\"crt_tom_cut\",crt_tom_cut)\n",
    "overlay_out.SetAlias(\"crt_tom_cut\",crt_tom_cut)\n",
    "dirt_out.SetAlias(\"crt_tom_cut\",crt_tom_cut)\n",
    "\n",
    "weight_name = 'EventWeight*TunedCentralValue_Genie'\n"
   ]
  },
  {
   "cell_type": "code",
   "execution_count": 10,
   "metadata": {},
   "outputs": [],
   "source": [
    "def draw_adding():\n",
    "    prelim = ROOT.TLatex(0.9,0.93, \"MicroBooNE Preliminary\");\n",
    "    prelim.SetTextFont(62);\n",
    "    prelim.SetTextColor(ROOT.kGray+2);\n",
    "    prelim.SetNDC();\n",
    "    prelim.SetTextSize(1/25.);\n",
    "    prelim.SetTextAlign(32);\n",
    "    #prelim.SetTextSize(0.04631579);\n",
    "    prelim.Draw()\n",
    "\n",
    "    pot_latex = ROOT.TLatex(.10, .92,'Accumulated POT: '+str(pot_data)) \n",
    "    pot_latex.SetTextFont(62);\n",
    "    pot_latex.SetTextColor(ROOT.kGray+2);\n",
    "    pot_latex.SetNDC();\n",
    "    pot_latex.SetTextSize(1/25.);\n",
    "    pot_latex.SetTextAlign(10) #;//left adjusted\n",
    "    pot_latex.Draw();\n",
    "    \n",
    "    return prelim, pot_latex\n",
    "\n",
    "def draw_sim():\n",
    "    prelim = ROOT.TLatex(0.9,0.93, \"MicroBooNE Simulation Preliminary\");\n",
    "    prelim.SetTextFont(62);\n",
    "    prelim.SetTextColor(ROOT.kGray+2);\n",
    "    prelim.SetNDC();\n",
    "    prelim.SetTextSize(1/20.);\n",
    "    prelim.SetTextAlign(32);\n",
    "    #prelim.SetTextSize(0.04631579);\n",
    "    prelim.Draw()\n",
    "    \n",
    "    return prelim"
   ]
  },
  {
   "cell_type": "code",
   "execution_count": 11,
   "metadata": {},
   "outputs": [
    {
     "name": "stderr",
     "output_type": "stream",
     "text": [
      "Warning in <TCanvas::Constructor>: Deleting canvas with same name: c1\n"
     ]
    }
   ],
   "source": [
    "NuCC.loadGlobal(data,ext,dirt,overlay,data_out,ext_out,dirt_out,overlay_out,scale,scale_out,tot_num_fidVol,overlay_signals,sample,sample_out, name,name_out, outputdir_png, outputdir_root,outputdir_pdf)\n"
   ]
  },
  {
   "cell_type": "code",
   "execution_count": 12,
   "metadata": {},
   "outputs": [],
   "source": [
    "from array import array\n",
    "mom_bins = [ 0.15, 0.18, 0.30, 0.45, 0.77, 1.28, 2.50 ]\n",
    "binnum = len(mom_bins) - 1\n",
    "h_xsec_mom = ROOT.TH1F('h_xsec_mom','h_xsec_mom',binnum,array('f',mom_bins))"
   ]
  },
  {
   "cell_type": "code",
   "execution_count": 13,
   "metadata": {},
   "outputs": [],
   "source": [
    "# calculate total flux integrated cross section:\n",
    "cut = 'fidVol && muon && TrackLength>8 && crt_tom_cut && TrackScore>0.8\\\n",
    "                && TrackLength>20 && TrackPID_chiproton>78 && NuScore>0.1' #\\\n",
    "                #&& MCle_Energy>0 && MCle_Energy<2.5 && TrackMomMCS_mom>0 && TrackMomMCS_mom<2.5'\n"
   ]
  },
  {
   "cell_type": "code",
   "execution_count": 14,
   "metadata": {},
   "outputs": [],
   "source": [
    "#RootFile = ROOT.TFile(\"/home/tmettler/Desktop/ub_data/mcc9.1/\"\\\n",
    "#    +\"v08_00_00_33/V08_00_00_35/fitting/tutorial/RooFit-tutorial/hists/xsec_histos.root\",\"RECREATE\");\n",
    "\n",
    "RootFile = ROOT.TFile(output_filedir+\"xsec_momentum_fit.root\",\"RECREATE\");"
   ]
  },
  {
   "cell_type": "code",
   "execution_count": 15,
   "metadata": {},
   "outputs": [],
   "source": [
    "# initialte ROOT default canvas\n",
    "ROOT.gStyle.SetOptStat(0)\n",
    "c1 = ROOT.TCanvas(\"c1\",\"c1\",1600,1200)\n",
    "c1.SetGrid(1)\n",
    "c1.SetLeftMargin(0.14)\n",
    "c1.SetRightMargin(0.05)\n",
    "c1.SetBottomMargin(0.14)"
   ]
  },
  {
   "cell_type": "code",
   "execution_count": 16,
   "metadata": {},
   "outputs": [
    {
     "name": "stdout",
     "output_type": "stream",
     "text": [
      "[0.    0.025 0.05  0.075 0.1   0.125 0.15  0.175 0.2   0.225 0.25  0.275\n",
      " 0.3   0.325 0.35  0.375 0.4   0.425 0.45  0.475 0.5   0.525 0.55  0.575\n",
      " 0.6   0.625 0.65  0.675 0.7   0.725 0.75  0.775 0.8   0.825 0.85  0.875\n",
      " 0.9   0.925 0.95  0.975 1.    1.025 1.05  1.075 1.1   1.125 1.15  1.175\n",
      " 1.2   1.225 1.25  1.275 1.3   1.325 1.35  1.375 1.4   1.425 1.45  1.475\n",
      " 1.5   1.525 1.55  1.575 1.6   1.625 1.65  1.675 1.7   1.725 1.75  1.775\n",
      " 1.8   1.825 1.85  1.875 1.9   1.925 1.95  1.975 2.    2.025 2.05  2.075\n",
      " 2.1   2.125 2.15  2.175 2.2   2.225 2.25  2.275 2.3   2.325 2.35  2.375\n",
      " 2.4   2.425 2.45  2.475 2.5  ]\n"
     ]
    }
   ],
   "source": [
    "n = 100\n",
    "start = 0.15\n",
    "end = 2.5\n",
    "mom_bins2 = np.zeros((n+1))\n",
    "for i in range(n+1):\n",
    "    mom_bins2[i] = (end-start)/n*i\n",
    "binnum2 = len(mom_bins2) - 1\n",
    "print mom_bins2\n",
    "\n",
    "#mom_bins2 = [ 0.00, 0.18, 0.30, 0.45, 0.77, 1.28, 2.50 ]\n",
    "#binnum2 = len(mom_bins) - 1"
   ]
  },
  {
   "cell_type": "code",
   "execution_count": 17,
   "metadata": {},
   "outputs": [
    {
     "name": "stderr",
     "output_type": "stream",
     "text": [
      "Info in <TCanvas::Print>: png file /home/tmettler/Desktop/v08_00_00_33/V08_00_00_35/weighted/xsec_momentum_rooFit/png/mom_truth_sig.png has been created\n",
      "Info in <TCanvas::SaveAs>: ROOT file /home/tmettler/Desktop/v08_00_00_33/V08_00_00_35/weighted/xsec_momentum_rooFit/root/mom_truth_sig.root has been created\n",
      "Info in <TCanvas::Print>: pdf file /home/tmettler/Desktop/v08_00_00_33/V08_00_00_35/weighted/xsec_momentum_rooFit/pdf/mom_truth_sig.pdf has been created\n",
      "Warning in <TFile::Append>: Replacing existing TH1: h_true (Potential memory leak).\n",
      "Info in <TCanvas::Print>: png file /home/tmettler/Desktop/v08_00_00_33/V08_00_00_35/weighted/xsec_momentum_rooFit/png/mom_truth.png has been created\n",
      "Info in <TCanvas::SaveAs>: ROOT file /home/tmettler/Desktop/v08_00_00_33/V08_00_00_35/weighted/xsec_momentum_rooFit/root/mom_truth.root has been created\n",
      "Info in <TCanvas::Print>: pdf file /home/tmettler/Desktop/v08_00_00_33/V08_00_00_35/weighted/xsec_momentum_rooFit/pdf/mom_truth.pdf has been created\n"
     ]
    },
    {
     "data": {
      "image/png": "[encoded data removed]",
      "text/plain": [
       "<IPython.core.display.Image object>"
      ]
     },
     "metadata": {},
     "output_type": "display_data"
    }
   ],
   "source": [
    "h_true = ROOT.TH1F('h_true','h_true',binnum,array('f',mom_bins))\n",
    "globale.overlay_out.Draw('MCle_Energy>>h_true',weight_name+'*('+cut+' && numu_signal)')\n",
    "#globale.overlay_out.Draw('MCle_Energy>>h_true',weight_name+'*(1 && numu_true)')\n",
    "h_true.Scale(scale[overlay])\n",
    "h_true.Write('mom_truth_sig')\n",
    "h_true.Draw()\n",
    "c1.Draw()\n",
    "c1.SaveAs(globale.outputdir_png + 'mom_truth_sig.png')\n",
    "c1.SaveAs(globale.outputdir_root + 'mom_truth_sig.root')\n",
    "c1.SaveAs(globale.outputdir_pdf + 'mom_truth_sig.pdf')\n",
    "\n",
    "h_true = ROOT.TH1F('h_true','h_true',binnum,array('f',mom_bins))\n",
    "#globale.overlay_out.Draw('MCle_Energy>>h_true',weight_name+'*('+cut+' && numu_signal)')\n",
    "globale.overlay_out.Draw('MCle_Energy>>h_true',weight_name+'*(1 && numu_true)')\n",
    "h_true.Scale(scale[overlay])\n",
    "h_true.Write('mom_truth')\n",
    "h_true.Draw()\n",
    "c1.Draw()\n",
    "c1.SaveAs(globale.outputdir_png + 'mom_truth.png')\n",
    "c1.SaveAs(globale.outputdir_root + 'mom_truth.root')\n",
    "c1.SaveAs(globale.outputdir_pdf + 'mom_truth.pdf')\n",
    "#h_true.Draw()\n",
    "#c1.Draw()"
   ]
  },
  {
   "cell_type": "code",
   "execution_count": 18,
   "metadata": {},
   "outputs": [
    {
     "name": "stdout",
     "output_type": "stream",
     "text": [
      "0\n",
      "45.7461433411 11.0567091699 11.0567091699\n",
      "1\n",
      "244.451705933 94.0521915033 94.0521915033\n",
      "2\n",
      "345.564697266 166.282757688 166.282757688\n",
      "3\n",
      "552.046936035 317.948990284 317.948990284\n",
      "4\n",
      "410.678192139 277.228881793 277.228881793\n",
      "5\n",
      "127.770111084 88.089290414 88.089290414\n"
     ]
    },
    {
     "name": "stderr",
     "output_type": "stream",
     "text": [
      "Info in <TCanvas::Print>: png file /home/tmettler/Desktop/v08_00_00_33/V08_00_00_35/weighted/xsec_momentum_rooFit/png/h_template0.png has been created\n",
      "Info in <TCanvas::SaveAs>: ROOT file /home/tmettler/Desktop/v08_00_00_33/V08_00_00_35/weighted/xsec_momentum_rooFit/root/h_template0.root has been created\n",
      "Info in <TCanvas::Print>: pdf file /home/tmettler/Desktop/v08_00_00_33/V08_00_00_35/weighted/xsec_momentum_rooFit/pdf/h_template0.pdf has been created\n",
      "Info in <TCanvas::Print>: png file /home/tmettler/Desktop/v08_00_00_33/V08_00_00_35/weighted/xsec_momentum_rooFit/png/h_template1.png has been created\n",
      "Info in <TCanvas::SaveAs>: ROOT file /home/tmettler/Desktop/v08_00_00_33/V08_00_00_35/weighted/xsec_momentum_rooFit/root/h_template1.root has been created\n",
      "Info in <TCanvas::Print>: pdf file /home/tmettler/Desktop/v08_00_00_33/V08_00_00_35/weighted/xsec_momentum_rooFit/pdf/h_template1.pdf has been created\n",
      "Info in <TCanvas::Print>: png file /home/tmettler/Desktop/v08_00_00_33/V08_00_00_35/weighted/xsec_momentum_rooFit/png/h_template2.png has been created\n",
      "Info in <TCanvas::SaveAs>: ROOT file /home/tmettler/Desktop/v08_00_00_33/V08_00_00_35/weighted/xsec_momentum_rooFit/root/h_template2.root has been created\n",
      "Info in <TCanvas::Print>: pdf file /home/tmettler/Desktop/v08_00_00_33/V08_00_00_35/weighted/xsec_momentum_rooFit/pdf/h_template2.pdf has been created\n",
      "Info in <TCanvas::Print>: png file /home/tmettler/Desktop/v08_00_00_33/V08_00_00_35/weighted/xsec_momentum_rooFit/png/h_template3.png has been created\n",
      "Info in <TCanvas::SaveAs>: ROOT file /home/tmettler/Desktop/v08_00_00_33/V08_00_00_35/weighted/xsec_momentum_rooFit/root/h_template3.root has been created\n",
      "Info in <TCanvas::Print>: pdf file /home/tmettler/Desktop/v08_00_00_33/V08_00_00_35/weighted/xsec_momentum_rooFit/pdf/h_template3.pdf has been created\n",
      "Info in <TCanvas::Print>: png file /home/tmettler/Desktop/v08_00_00_33/V08_00_00_35/weighted/xsec_momentum_rooFit/png/h_template4.png has been created\n",
      "Info in <TCanvas::SaveAs>: ROOT file /home/tmettler/Desktop/v08_00_00_33/V08_00_00_35/weighted/xsec_momentum_rooFit/root/h_template4.root has been created\n",
      "Info in <TCanvas::Print>: pdf file /home/tmettler/Desktop/v08_00_00_33/V08_00_00_35/weighted/xsec_momentum_rooFit/pdf/h_template4.pdf has been created\n",
      "Info in <TCanvas::Print>: png file /home/tmettler/Desktop/v08_00_00_33/V08_00_00_35/weighted/xsec_momentum_rooFit/png/h_template5.png has been created\n",
      "Info in <TCanvas::SaveAs>: ROOT file /home/tmettler/Desktop/v08_00_00_33/V08_00_00_35/weighted/xsec_momentum_rooFit/root/h_template5.root has been created\n",
      "Info in <TCanvas::Print>: pdf file /home/tmettler/Desktop/v08_00_00_33/V08_00_00_35/weighted/xsec_momentum_rooFit/pdf/h_template5.pdf has been created\n"
     ]
    },
    {
     "data": {
      "image/png": "[encoded data removed]",
      "text/plain": [
       "<IPython.core.display.Image object>"
      ]
     },
     "metadata": {},
     "output_type": "display_data"
    }
   ],
   "source": [
    "h_temp = []\n",
    "h_temp_r = []\n",
    "for i in range(binnum):\n",
    "    print i\n",
    "    h_temp.append(ROOT.TH1F('h_temp['+str(i)+']','Template for ture bin '+str(i),binnum2,array('f',mom_bins2)))\n",
    "    h_temp_r.append(ROOT.TH1F('h_temp_r['+str(i)+']','h_temp_r['+str(i)+']',binnum2,array('f',mom_bins2)))\n",
    "    bincut = 'MCle_Energy < '+str(mom_bins[i+1])+' && MCle_Energy > '+str(mom_bins[i])\n",
    "    #print bincut TrackMomMCS_mom TrackMomRange_mu\n",
    "    globale.overlay_out.Draw('TrackMomMCS_mom>>h_temp['+str(i)+']',weight_name+'*('+cut+'&&'+bincut+' && numu_signal && track_end_uncontained)')\n",
    "    globale.overlay_out.Draw('TrackMomRange_mu>>h_temp_r['+str(i)+']',weight_name+'*('+cut+'&&'+bincut+' && numu_signal && !track_end_uncontained)')\n",
    "    h_temp[i].Add(h_temp_r[i])\n",
    "    \n",
    "    h_temp[i].Scale(scale[overlay])\n",
    "    print h_true.GetBinContent(i+1), h_temp[i].Integral(), h_temp[i].GetSumOfWeights()\n",
    "    scale_ = 1.0/(h_true.GetBinContent(i+1))\n",
    "    h_temp[i].Scale(scale_)\n",
    "    \n",
    "    h_temp[i].SetXTitle(\"reconstructed momentum\")\n",
    "    h_temp[i].SetYTitle(\"Number of entries\")\n",
    "    h_temp[i].GetYaxis().SetTitleSize(0.05)\n",
    "    h_temp[i].GetYaxis().SetTitleOffset(0.0)\n",
    "    h_temp[i].GetYaxis().SetLabelSize(0.05)\n",
    "    h_temp[i].GetXaxis().SetTitleSize(0.05)\n",
    "    h_temp[i].GetXaxis().SetLabelSize(0.05)\n",
    "    h_temp[i].GetXaxis().SetTitleOffset(1)\n",
    "    h_temp[i].SetLineColor(ROOT.kBlack)\n",
    "    h_temp[i].SetLineWidth(4)\n",
    "    h_temp[i].Draw('hist')\n",
    "    h_temp[i].Write('mom_reco_'+str(i))\n",
    "    c1.Draw()\n",
    "    c1.SaveAs(globale.outputdir_png + 'h_template'+str(i)+'.png')\n",
    "    c1.SaveAs(globale.outputdir_root + 'h_template'+str(i)+'.root')\n",
    "    c1.SaveAs(globale.outputdir_pdf + 'h_template'+str(i)+'.pdf')\n",
    "\n",
    "#del h_temp[:]"
   ]
  },
  {
   "cell_type": "code",
   "execution_count": 19,
   "metadata": {},
   "outputs": [
    {
     "data": {
      "text/plain": [
       "1822"
      ]
     },
     "execution_count": 19,
     "metadata": {},
     "output_type": "execute_result"
    }
   ],
   "source": [
    "weight_name = 'EventWeight*TunedCentralValue_Genie'\n",
    "variable = 'TrackMomMCS_mom'\n",
    "cut = 'fidVol && muon && TrackLength>8 && crt_tom_cut && TrackScore>0.8\\\n",
    "                && TrackLength>20 && TrackPID_chiproton>78 && NuScore>0.1'\n",
    "\n",
    "h_data = ROOT.TH1F(\"h_data\",'h_data',binnum2,array('f',mom_bins2))\n",
    "h_ext = ROOT.TH1F(\"h_ext\",'h_ext',binnum2,array('f',mom_bins2))\n",
    "h_dirt = ROOT.TH1F(\"h_dirt\",'h_dirt',binnum2,array('f',mom_bins2))\n",
    "h_overlay = ROOT.TH1F(\"h_overlay\",'h_overlay',binnum2,array('f',mom_bins2))\n",
    "h_signal = ROOT.TH1F(\"h_signal\",'h_signal',binnum2,array('f',mom_bins2))\n",
    "\n",
    "h_data_r = ROOT.TH1F(\"h_data_r\",'h_data_r',binnum2,array('f',mom_bins2))\n",
    "h_ext_r = ROOT.TH1F(\"h_ext_r\",'h_ext_r',binnum2,array('f',mom_bins2))\n",
    "h_dirt_r = ROOT.TH1F(\"h_dirt_r\",'h_dirt_r',binnum2,array('f',mom_bins2))\n",
    "h_overlay_r = ROOT.TH1F(\"h_overlay_r\",'h_overlay_r',binnum2,array('f',mom_bins2))\n",
    "h_signal_r = ROOT.TH1F(\"h_signal_r\",'h_signal_r',binnum2,array('f',mom_bins2))\n",
    "#h_weight_func_n = ROOT.TH1F(\"h_weight_func_n\",'h_weight_func',binnum,array('f',mom_bins))\n",
    "\n",
    "globale.data_out.Draw(variable+'>>h_data',cut+' && track_end_uncontained','')\n",
    "globale.ext_out.Draw(variable+'>>h_ext',cut+' && track_end_uncontained','')\n",
    "globale.dirt_out.Draw(variable+'>>h_dirt',weight_name+'*('+cut+ '&& track_end_uncontained)','')\n",
    "globale.overlay_out.Draw(variable+'>>h_overlay',weight_name+'*('+cut+'&& !numu_signal && track_end_uncontained)','')\n",
    "globale.overlay_out.Draw(variable+'>>h_signal',weight_name+'*('+cut+'&& numu_signal && track_end_uncontained)','')\n",
    "\n",
    "globale.data_out.Draw('TrackMomRange_mu'+'>>h_data_r',cut+' && !track_end_uncontained','')\n",
    "globale.ext_out.Draw('TrackMomRange_mu'+'>>h_ext_r',cut+' && !track_end_uncontained','')\n",
    "globale.dirt_out.Draw('TrackMomRange_mu'+'>>h_dirt_r',weight_name+'*('+cut+ '&& !track_end_uncontained)','')\n",
    "globale.overlay_out.Draw('TrackMomRange_mu'+'>>h_overlay_r',weight_name+'*('+cut+'&& !numu_signal && !track_end_uncontained)','')\n",
    "globale.overlay_out.Draw('TrackMomRange_mu'+'>>h_signal_r',weight_name+'*('+cut+'&& numu_signal && !track_end_uncontained)','')\n",
    "\n",
    "h_data.Add(h_data_r)\n",
    "h_ext.Add(h_ext_r)\n",
    "h_dirt.Add(h_dirt_r)\n",
    "h_overlay.Add(h_overlay_r)\n",
    "h_signal.Add(h_signal_r)\n",
    "\n",
    "h_data.Scale(scale[data])\n",
    "h_ext.Scale(scale[ext])\n",
    "h_dirt.Scale(scale[dirt])\n",
    "h_overlay.Scale(scale[overlay])\n",
    "\n",
    "h_background = h_ext.Clone()\n",
    "h_background.Add(h_dirt)\n",
    "h_background.Add(h_overlay)\n",
    "\n",
    "h_data.Write('data_reco')\n",
    "h_background.Write('mom_bkg_reco')\n",
    "h_signal.Scale(scale[overlay])\n",
    "h_signal.Add(h_background)\n",
    "h_signal.Write('mc_reco')\n"
   ]
  },
  {
   "cell_type": "code",
   "execution_count": 20,
   "metadata": {},
   "outputs": [
    {
     "name": "stderr",
     "output_type": "stream",
     "text": [
      "Info in <TCanvas::Print>: png file /home/tmettler/Desktop/v08_00_00_33/V08_00_00_35/weighted/xsec_momentum_rooFit/png/h_data.png has been created\n",
      "Info in <TCanvas::SaveAs>: ROOT file /home/tmettler/Desktop/v08_00_00_33/V08_00_00_35/weighted/xsec_momentum_rooFit/root/h_data.root has been created\n",
      "Info in <TCanvas::Print>: pdf file /home/tmettler/Desktop/v08_00_00_33/V08_00_00_35/weighted/xsec_momentum_rooFit/pdf/h_data.pdf has been created\n",
      "Info in <TCanvas::Print>: png file /home/tmettler/Desktop/v08_00_00_33/V08_00_00_35/weighted/xsec_momentum_rooFit/png/mom_bkg_reco.png has been created\n",
      "Info in <TCanvas::SaveAs>: ROOT file /home/tmettler/Desktop/v08_00_00_33/V08_00_00_35/weighted/xsec_momentum_rooFit/root/mom_bkg_reco.root has been created\n",
      "Info in <TCanvas::Print>: pdf file /home/tmettler/Desktop/v08_00_00_33/V08_00_00_35/weighted/xsec_momentum_rooFit/pdf/mom_bkg_reco.pdf has been created\n",
      "Info in <TCanvas::Print>: png file /home/tmettler/Desktop/v08_00_00_33/V08_00_00_35/weighted/xsec_momentum_rooFit/png/mc_reco.png has been created\n",
      "Info in <TCanvas::SaveAs>: ROOT file /home/tmettler/Desktop/v08_00_00_33/V08_00_00_35/weighted/xsec_momentum_rooFit/root/mc_reco.root has been created\n",
      "Info in <TCanvas::Print>: pdf file /home/tmettler/Desktop/v08_00_00_33/V08_00_00_35/weighted/xsec_momentum_rooFit/pdf/mc_reco.pdf has been created\n"
     ]
    },
    {
     "data": {
      "image/png": "[encoded data removed]",
      "text/plain": [
       "<IPython.core.display.Image object>"
      ]
     },
     "metadata": {},
     "output_type": "display_data"
    }
   ],
   "source": [
    "h_data.Draw()\n",
    "c1.Draw()\n",
    "c1.SaveAs(globale.outputdir_png + 'h_data.png')\n",
    "c1.SaveAs(globale.outputdir_root + 'h_data.root')\n",
    "c1.SaveAs(globale.outputdir_pdf + 'h_data.pdf')\n",
    "\n",
    "h_background.Draw()\n",
    "c1.Draw()\n",
    "c1.SaveAs(globale.outputdir_png + 'mom_bkg_reco.png')\n",
    "c1.SaveAs(globale.outputdir_root + 'mom_bkg_reco.root')\n",
    "c1.SaveAs(globale.outputdir_pdf + 'mom_bkg_reco.pdf')\n",
    "\n",
    "h_signal.Draw()\n",
    "c1.Draw()\n",
    "c1.SaveAs(globale.outputdir_png + 'mc_reco.png')\n",
    "c1.SaveAs(globale.outputdir_root + 'mc_reco.root')\n",
    "c1.SaveAs(globale.outputdir_pdf + 'mc_reco.pdf')"
   ]
  },
  {
   "cell_type": "code",
   "execution_count": 21,
   "metadata": {},
   "outputs": [],
   "source": [
    "RootFile.Close()"
   ]
  },
  {
   "cell_type": "code",
   "execution_count": null,
   "metadata": {},
   "outputs": [],
   "source": []
  },
  {
   "cell_type": "code",
   "execution_count": null,
   "metadata": {},
   "outputs": [],
   "source": []
  }
 ],
 "metadata": {
  "kernelspec": {
   "display_name": "Python 2",
   "language": "python",
   "name": "python2"
  },
  "language_info": {
   "codemirror_mode": {
    "name": "ipython",
    "version": 2
   },
   "file_extension": ".py",
   "mimetype": "text/x-python",
   "name": "python",
   "nbconvert_exporter": "python",
   "pygments_lexer": "ipython2",
   "version": "2.7.12"
  }
 },
 "nbformat": 4,
 "nbformat_minor": 2
}
