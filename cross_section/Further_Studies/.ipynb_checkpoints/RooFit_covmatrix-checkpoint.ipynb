{
 "cells": [
  {
   "cell_type": "code",
   "execution_count": 1,
   "metadata": {},
   "outputs": [
    {
     "name": "stdout",
     "output_type": "stream",
     "text": [
      "Welcome to JupyROOT 6.18/04\n"
     ]
    }
   ],
   "source": [
    "from __future__ import division\n",
    "import imp\n",
    "import uproot\n",
    "import matplotlib\n",
    "#matplotlib.use('agg')\n",
    "import matplotlib.pyplot as plt\n",
    "import matplotlib.image as mpimg\n",
    "import numpy as np\n",
    "import pandas as pd\n",
    "import os\n",
    "import ROOT\n",
    "import time\n",
    "import math\n",
    "from array import array\n",
    "import collections"
   ]
  },
  {
   "cell_type": "code",
   "execution_count": 2,
   "metadata": {},
   "outputs": [
    {
     "name": "stdout",
     "output_type": "stream",
     "text": [
      "[NbConvertApp] Converting notebook RooFit_fit.ipynb to script\n",
      "[NbConvertApp] Writing 6589 bytes to RooFit_fit.py\n"
     ]
    }
   ],
   "source": [
    "#!jupyter nbconvert --to script RooFit_fit.ipynb"
   ]
  },
  {
   "cell_type": "code",
   "execution_count": 2,
   "metadata": {},
   "outputs": [],
   "source": [
    "def draw_adding():\n",
    "    prelim = ROOT.TLatex(0.9,0.93, \"MicroBooNE Preliminary\");\n",
    "    prelim.SetTextFont(62);\n",
    "    prelim.SetTextColor(ROOT.kGray+2);\n",
    "    prelim.SetNDC();\n",
    "    prelim.SetTextSize(1/25.);\n",
    "    prelim.SetTextAlign(32);\n",
    "    #prelim.SetTextSize(0.04631579);\n",
    "    prelim.Draw()\n",
    "\n",
    "    pot_latex = ROOT.TLatex(.10, .92,'Accumulated POT: '+str(pot_data)) \n",
    "    pot_latex.SetTextFont(62);\n",
    "    pot_latex.SetTextColor(ROOT.kGray+2);\n",
    "    pot_latex.SetNDC();\n",
    "    pot_latex.SetTextSize(1/25.);\n",
    "    pot_latex.SetTextAlign(10) #;//left adjusted\n",
    "    pot_latex.Draw();\n",
    "    \n",
    "    return prelim, pot_latex\n",
    "\n",
    "def draw_sim():\n",
    "    prelim = ROOT.TLatex(0.9,0.93, \"MicroBooNE Simulation Preliminary\");\n",
    "    prelim.SetTextFont(62);\n",
    "    prelim.SetTextColor(ROOT.kGray+2);\n",
    "    prelim.SetNDC();\n",
    "    prelim.SetTextSize(1/20.);\n",
    "    prelim.SetTextAlign(32);\n",
    "    #prelim.SetTextSize(0.04631579);\n",
    "    prelim.Draw()\n",
    "    \n",
    "    return prelim"
   ]
  },
  {
   "cell_type": "code",
   "execution_count": 3,
   "metadata": {},
   "outputs": [],
   "source": [
    "from array import array\n",
    "mom_bins = [ 0.00, 0.18, 0.30, 0.45, 0.77, 1.28, 2.50 ]\n",
    "binnum = len(mom_bins) - 1\n",
    "h_xsec_mom = ROOT.TH1F('h_xsec_mom','h_xsec_mom',binnum,array('f',mom_bins))"
   ]
  },
  {
   "cell_type": "code",
   "execution_count": 4,
   "metadata": {},
   "outputs": [],
   "source": [
    "# calculate total flux integrated cross section:\n",
    "cut = 'fidVol && muon && TrackLength>8 && crt_tom_cut && TrackScore>0.8\\\n",
    "                && TrackLength>20 && TrackPID_chiproton>78 && NuScore>0.1' #\\\n",
    "                #&& MCle_Energy>0 && MCle_Energy<2.5 && TrackMomMCS_mom>0 && TrackMomMCS_mom<2.5'\n"
   ]
  },
  {
   "cell_type": "code",
   "execution_count": 5,
   "metadata": {},
   "outputs": [],
   "source": [
    "# initialte ROOT default canvas\n",
    "ROOT.gStyle.SetOptStat(0)\n",
    "c1 = ROOT.TCanvas(\"c1\",\"c1\",1600,1200)\n",
    "c1.SetGrid(1)\n",
    "c1.SetLeftMargin(0.14)\n",
    "c1.SetRightMargin(0.05)\n",
    "c1.SetBottomMargin(0.14)"
   ]
  },
  {
   "cell_type": "code",
   "execution_count": 6,
   "metadata": {},
   "outputs": [],
   "source": [
    "#load data\n",
    "inputdir = '/home/tmettler/Desktop/ub_data/mcc9.1/v08_00_00_33/V08_00_00_35/fitting/tutorial/RooFit-tutorial/hists/'\n",
    "f_mom = ROOT.TFile.Open(inputdir+\"xsec_histos.root\", 'read')\n",
    "\n",
    "h_true = f_mom.Get('mom_truth_sig')\n",
    "h_temp = []\n",
    "for i in range(binnum):\n",
    "    h_temp.append(f_mom.Get('mom_reco_'+str(i)))\n",
    "h_data = f_mom.Get('data_reco')\n",
    "h_background = f_mom.Get('mom_truth_sig')\n",
    "h_signal = f_mom.Get('mom_bkg_reco')\n",
    "\n",
    "#h_true.Draw()\n",
    "#c1.Draw()"
   ]
  },
  {
   "cell_type": "markdown",
   "metadata": {},
   "source": [
    "# start fitting using RooFit and HistFactory class"
   ]
  },
  {
   "cell_type": "markdown",
   "metadata": {},
   "source": [
    "# Start fitting"
   ]
  },
  {
   "cell_type": "code",
   "execution_count": 7,
   "metadata": {},
   "outputs": [
    {
     "name": "stdout",
     "output_type": "stream",
     "text": [
      "\n",
      "\u001b[1mRooFit v3.60 -- Developed by Wouter Verkerke and David Kirkby\u001b[0m \n",
      "                Copyright (C) 2000-2013 NIKHEF, University of California & Stanford University\n",
      "                All rights reserved, please read http://roofit.sourceforge.net/license.txt\n",
      "\n"
     ]
    }
   ],
   "source": [
    "\n",
    "outputdir = '/home/tmettler/Desktop/v08_00_00_33/V08_00_00_35/weighted/xsec_momentum_rooFit/' \n",
    "\n",
    "f= ROOT.TFile(ROOT.Form(outputdir+\"workspaces/ProfiledUnfolding/tut_combined_ProfiledUnfolding_model.root\"));\n",
    "w = f.Get(\"combined\");\n",
    "#if (!w):\n",
    "#    print \"ERROR::Workspace doesn't exist! Check file name\""
   ]
  },
  {
   "cell_type": "code",
   "execution_count": 8,
   "metadata": {},
   "outputs": [],
   "source": [
    "mc = w.obj(\"ModelConfig\");\n",
    "data = w.data(\"obsData\");"
   ]
  },
  {
   "cell_type": "code",
   "execution_count": 9,
   "metadata": {},
   "outputs": [],
   "source": [
    "# Configure MINUIT\n",
    "ROOT.Math.MinimizerOptions.SetDefaultMinimizer(\"Minuit2\");\n",
    "ROOT.Math.MinimizerOptions.SetDefaultStrategy(0);\n",
    "ROOT.Math.MinimizerOptions.SetDefaultPrintLevel(1);\n"
   ]
  },
  {
   "cell_type": "code",
   "execution_count": 10,
   "metadata": {},
   "outputs": [],
   "source": [
    "# Put the NPs and POIs into one set to send to the NLL\n",
    "params = ROOT.RooArgSet(mc.GetNuisanceParameters(),mc.GetParametersOfInterest());"
   ]
  },
  {
   "cell_type": "code",
   "execution_count": 11,
   "metadata": {},
   "outputs": [
    {
     "name": "stdout",
     "output_type": "stream",
     "text": [
      "[#1] INFO:Minization -- p.d.f. provides expected number of events, including extended term in likelihood.\n",
      "[#1] INFO:Minization -- createNLL: caching constraint set under name CONSTR_OF_PDF_simPdf_FOR_OBS_channelCat:obs_x_mom with 1 entries\n",
      "[#1] INFO:Minization --  Including the following contraint terms in minimization: (lumiConstraint)\n",
      "[#1] INFO:Minization -- The following global observables have been defined: (nominalLumi)\n",
      "RooAbsTestStatistic::initSimMode: creating slave calculator #0 for state mom (200 dataset entries)\n",
      "[#1] INFO:NumericIntegration -- RooRealIntegral::init(mom_model_Int[obs_x_mom]) using numeric integrator RooBinIntegrator to calculate Int(obs_x_mom)\n",
      "[#1] INFO:Fitting -- RooAbsTestStatistic::initSimMode: created 1 slave calculators.\n"
     ]
    }
   ],
   "source": [
    "# Build the NLL\n",
    "nll =  mc.GetPdf().createNLL(data, ROOT.RooFit.Constrain(params),\\\n",
    "                ROOT.RooFit.GlobalObservables(mc.GetGlobalObservables()),\\\n",
    "                ROOT.RooFit.Offset(1))"
   ]
  },
  {
   "cell_type": "code",
   "execution_count": 12,
   "metadata": {},
   "outputs": [],
   "source": [
    "def minimize(fcn, save=0, retry_mode=3,ret_status=0):\n",
    "  #Grab the default minimizer options\n",
    "  printLevel = ROOT.Math.MinimizerOptions.DefaultPrintLevel()\n",
    "  msglevel = ROOT.RooMsgService.instance().globalKillBelow();\n",
    "  if (printLevel < 0):\n",
    "        ROOT.RooMsgService.instance().setGlobalKillBelow(ROOT.RooFit.FATAL);\n",
    "  \n",
    "  strat = ROOT.Math.MinimizerOptions.DefaultStrategy();\n",
    "  save_strat = strat;\n",
    "\n",
    "  #Configure the minimizer\n",
    "  minim = ROOT.RooMinimizer(fcn);\n",
    "  minim.optimizeConst(2);\n",
    "  minim.setStrategy(strat);\n",
    "  minim.setPrintLevel(printLevel);\n",
    "  #minim.setProfile(1);\n",
    "  minim.setMinimizerType(str(ROOT.Math.MinimizerOptions.DefaultMinimizerType()));\n",
    "\n",
    "  #Do the minimization here!\n",
    "  status = minim.minimize(str(ROOT.Math.MinimizerOptions.DefaultMinimizerType()), str(ROOT.Math.MinimizerOptions.DefaultMinimizerAlgo()))\n",
    "  \n",
    "  #In case the fit failed, impose a semi-smart retry strategy\n",
    "\n",
    "  #Here, increase the MINUIT strategy from 0 through 2 until the fit succeeds (or give up after 2)\n",
    "  if (retry_mode == 0):\n",
    "    # up the strategy\n",
    "    if (status != 0 and status != 1 and strat < 2):\n",
    "      strat+=1\n",
    "      print \"Fit failed with status \", status, \". Retrying with strategy \", strat\n",
    "      minim.setStrategy(strat);\n",
    "      status = minim.minimize(str(ROOT.Math.MinimizerOptions.DefaultMinimizerType()), str(ROOT.Math.MinimizerOptions.DefaultMinimizerAlgo()))\n",
    "\n",
    "    \n",
    "    # up the strategy\n",
    "    if (status != 0 and status != 1 and strat < 2):\n",
    "      strat+=1\n",
    "      print \"Fit failed with status \", status, \". Retrying with strategy \", strat\n",
    "      minim.setStrategy(strat);\n",
    "      status = minim.minimize(str(ROOT.Math.MinimizerOptions.DefaultMinimizerType()), str(ROOT.Math.MinimizerOptions.DefaultMinimizerAlgo()));\n",
    "    \n",
    "\n",
    "  #Here, just retry N times with the default strategy\n",
    "  else:\n",
    "    for i in range(retry_mode):\n",
    "      if (status == 0 or status == 1):\n",
    "        break\n",
    "      print \"Fit failed with status \" , status , \". Retrying with strategy \" , strat\n",
    "      minim.setStrategy(strat);\n",
    "      status = minim.minimize(ROOT.Math.MinimizerOptions.DefaultMinimizerType().str(), ROOT.Math.MinimizerOptions.DefaultMinimizerAlgo().str())\n",
    "  \n",
    "  \n",
    "  #Reset the global configuration to the previous one\n",
    "  if (printLevel < 0):\n",
    "    ROOT.RooMsgService.instance().setGlobalKillBelow(msglevel)\n",
    "  ROOT.Math.MinimizerOptions.SetDefaultStrategy(save_strat)\n",
    "  \n",
    "\n",
    "  #Save the RooFitResult if asked to\n",
    "  fitresult = 0\n",
    "  if (save):\n",
    "    fitresult = minim.save(ROOT.Form(\"fitresult_\"+str(fcn.GetName())), ROOT.Form(\"fitresult_\"+str(fcn.GetName())))\n",
    "  \n",
    "\n",
    "  #Save the fit status if the pointer is valid\n",
    "  if (ret_status):\n",
    "    ret_status = status;\n",
    "\n",
    "  #Print the status of the fit\n",
    "  if (status != 0 and status != 1):\n",
    "    print  \"Fit failed with status \" , status\n",
    "  #else cout << \"Fit succeeded with status \" << status << endl;      \n",
    "\n",
    "  return fitresult\n"
   ]
  },
  {
   "cell_type": "code",
   "execution_count": null,
   "metadata": {},
   "outputs": [],
   "source": []
  },
  {
   "cell_type": "code",
   "execution_count": null,
   "metadata": {},
   "outputs": [],
   "source": [
    "#Do the minimization and save the RooFitResult\n",
    "#Definition in macros/minimize.C:\n",
    "#minimize = ROOT.RooFitResult(fcn, save=0, retry_mode=3, ret_status=0)\n",
    "result = minimize(nll, True, 0);"
   ]
  },
  {
   "cell_type": "code",
   "execution_count": null,
   "metadata": {},
   "outputs": [],
   "source": []
  },
  {
   "cell_type": "code",
   "execution_count": null,
   "metadata": {},
   "outputs": [],
   "source": []
  },
  {
   "cell_type": "code",
   "execution_count": null,
   "metadata": {},
   "outputs": [],
   "source": []
  },
  {
   "cell_type": "code",
   "execution_count": null,
   "metadata": {},
   "outputs": [],
   "source": []
  }
 ],
 "metadata": {
  "kernelspec": {
   "display_name": "Python 2",
   "language": "python",
   "name": "python2"
  },
  "language_info": {
   "codemirror_mode": {
    "name": "ipython",
    "version": 2
   },
   "file_extension": ".py",
   "mimetype": "text/x-python",
   "name": "python",
   "nbconvert_exporter": "python",
   "pygments_lexer": "ipython2",
   "version": "2.7.12"
  }
 },
 "nbformat": 4,
 "nbformat_minor": 2
}
