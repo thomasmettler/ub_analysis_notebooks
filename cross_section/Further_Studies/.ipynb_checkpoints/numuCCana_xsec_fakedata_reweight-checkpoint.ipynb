{
 "cells": [
  {
   "cell_type": "code",
   "execution_count": 1,
   "metadata": {},
   "outputs": [
    {
     "name": "stdout",
     "output_type": "stream",
     "text": [
      "Welcome to JupyROOT 6.10/08\n"
     ]
    }
   ],
   "source": [
    "from __future__ import division\n",
    "import imp\n",
    "import uproot\n",
    "import matplotlib\n",
    "#matplotlib.use('agg')\n",
    "import matplotlib.pyplot as plt\n",
    "import matplotlib.image as mpimg\n",
    "import numpy as np\n",
    "import pandas as pd\n",
    "import os\n",
    "import ROOT\n",
    "import time\n",
    "import math\n",
    "from array import array\n",
    "import collections\n",
    "\n",
    "inputdir = '/home/tmettler/Desktop/v08_00_00_33/V08_00_00_35/weighted/'\n",
    "outputdir = inputdir+'xsec_fakedata_reweight/' \n",
    "output_filedir = outputdir\n",
    "input_filedir = '/home/tmettler/Desktop/v08_00_00_33/V08_00_00_35/weighted/'\n",
    "lib_function_dir = '/home/tmettler/Desktop/uBoone/do_plots/'\n",
    "\n",
    "# helper functions\n",
    "globale = imp.load_source('globale',lib_function_dir+'globale.py')\n",
    "NuCC = imp.load_source('NuCC_function',lib_function_dir+'NuCC_function.py')\n",
    "NuCC_w = imp.load_source('NuCCWeight_function',lib_function_dir+'NuCCWeight_function.py')"
   ]
  },
  {
   "cell_type": "code",
   "execution_count": 2,
   "metadata": {},
   "outputs": [],
   "source": [
    "#!jupyter nbconvert --to script numuCCana_xsec_weighted.ipynb"
   ]
  },
  {
   "cell_type": "code",
   "execution_count": 3,
   "metadata": {},
   "outputs": [
    {
     "name": "stderr",
     "output_type": "stream",
     "text": [
      "Warning in <TCanvas::Constructor>: Deleting canvas with same name: c1\n"
     ]
    }
   ],
   "source": [
    "# initialte ROOT default canvas\n",
    "ROOT.gROOT.SetBatch(ROOT.kTRUE)\n",
    "ROOT.gStyle.SetOptStat(0)\n",
    "ROOT.gStyle.SetOptTitle(0)\n",
    "c1 = ROOT.TCanvas(\"c1\",\"c1\",1600,1200)\n",
    "c1.SetGrid(1)\n",
    "c1.SetLeftMargin(0.14)\n",
    "c1.SetRightMargin(0.18)\n",
    "c1.SetBottomMargin(0.14)"
   ]
  },
  {
   "cell_type": "markdown",
   "metadata": {},
   "source": [
    "# Cross section for single differnetial in Momentum (no sys)"
   ]
  },
  {
   "cell_type": "code",
   "execution_count": 4,
   "metadata": {},
   "outputs": [],
   "source": [
    "# Load input files\n",
    "#inputdir = '/home/thomasm/numuCC/V33/10kevents/'\n",
    "outputdir_png, outputdir_root,outputdir_pdf = NuCC.prepareOutput2(outputdir)\n",
    "try:\n",
    "    os.stat(output_filedir)\n",
    "except:\n",
    "    os.mkdir(output_filedir)\n",
    "RootFile = ROOT.TFile(output_filedir+\"xsec_fake_data.root\",\"RECREATE\");\n",
    "\n",
    "#filename_overlay = 'NuCCana_Overlay_V18_V4.root'\n",
    "filename_overlay = 'NuCCana_overlay_V26_mar18.root'\n",
    "#filename_overlay = 'NuCCana_overlay_v25_weighted_all.root'\n",
    "filename_data = 'NuCCana_overlay_V26_mar18.root'\n",
    "filename_ext = 'NuCCana_ext_V25.root'\n",
    "filename_dirt = 'NuCCana_dirt_V26_weight.root'\n",
    "    \n",
    "tree_name = 'numuCCAna'"
   ]
  },
  {
   "cell_type": "code",
   "execution_count": 5,
   "metadata": {},
   "outputs": [
    {
     "name": "stdout",
     "output_type": "stream",
     "text": [
      "Overlay: Number of Entries:\t1012051\n",
      "Data: Number of Entries:\t1012051\n",
      "Ext: Number of Entries:\t\t222702\n",
      "Dirt: Number of Entries:\t40808\n",
      "\n",
      "1.26811760704e+21\n",
      "POT: \n",
      "Data:\t\t1.26811760704e+21\n",
      "Ext:\t\t0\n",
      "Overlay:\t1.26811760704e+21\n",
      "Dirt:\t\t1.25019694173e+20\n",
      "\n",
      "Scalefactors: \n",
      "Data:\t\t1.0\n",
      "Ext:\t\t0.0967862715198\n",
      "Overlay:\t1.0\n",
      "Dirt:\t\t10.1433427383\n"
     ]
    },
    {
     "name": "stderr",
     "output_type": "stream",
     "text": [
      "Warning in <TClass::Init>: no dictionary for class ROOT::TIOFeatures is available\n"
     ]
    }
   ],
   "source": [
    "#Open all the trees of the four files (data, ext, dirt, overlay)\n",
    "\n",
    "data, ext, dirt, overlay = NuCC.openTrees(inputdir, filename_data, filename_ext, filename_dirt, filename_overlay, tree_name)\n",
    "NuCC.printNumberOfEntries(data,ext,dirt,overlay)\n",
    "\n",
    "pot_fakedata = NuCC.getPOT(inputdir,filename_data,tree_name)\n",
    "pot_overlay = NuCC.getPOT(inputdir,filename_overlay,tree_name)\n",
    "pot_dirt =  NuCC.getPOT(inputdir,filename_dirt,tree_name)\n",
    "#V25 files\n",
    "\n",
    "print pot_fakedata\n",
    "pot_data =    7.644e+18  # best with tor875\n",
    "pot_data = pot_fakedata\n",
    "data_trigger = 1838700.0 #2220362.0 #1854495.0 #4743794 # 1987072.0 # E1DCNT_wcut\n",
    "ext_trigger =  18997529.0  #2120135 #5685315 # EXT\n",
    "\n",
    "print 'POT: '\n",
    "print 'Data:\\t\\t', pot_data\n",
    "print 'Ext:\\t\\t', 0\n",
    "print 'Overlay:\\t', pot_overlay\n",
    "print 'Dirt:\\t\\t', pot_dirt\n",
    "print ''\n",
    "sample = [data,ext,overlay,dirt]\n",
    "scale = {data:1.0,ext:1.0,overlay:1.0,dirt:1.0}\n",
    "name = {data:'data',ext:'ext',overlay:'overlay',dirt:'dirt'}\n",
    "\n",
    "scale[data], scale[ext], scale[dirt], scale[overlay] = NuCC.calculateScale(data_trigger, ext_trigger, pot_data, pot_dirt, pot_overlay)\n",
    "\n",
    "scale[dirt] = scale[dirt]\n",
    "scale[overlay] = scale[overlay]\n",
    "print 'Scalefactors: '\n",
    "print 'Data:\\t\\t', scale[data]\n",
    "print 'Ext:\\t\\t', scale[ext]\n",
    "print 'Overlay:\\t', scale[overlay]\n",
    "print 'Dirt:\\t\\t', scale[dirt]\n"
   ]
  },
  {
   "cell_type": "code",
   "execution_count": 6,
   "metadata": {},
   "outputs": [
    {
     "name": "stdout",
     "output_type": "stream",
     "text": [
      "Overlay: Number of Entries:\t1013969\n",
      "Data: Number of Entries:\t1013969\n",
      "Ext: Number of Entries:\t\t222701\n",
      "Dirt: Number of Entries:\t40800\n",
      "\n"
     ]
    }
   ],
   "source": [
    "if 1:\n",
    "    #filename_overlay = filename_overlay+'out4.root'\n",
    "    filename_overlay = 'NuCCana_overlay_V26_mar18_noflux.rootout4.root'\n",
    "    #filename_overlay = 'NuCCana_overlay_points_1kev.rootout2.root'\n",
    "    filename_data = filename_overlay\n",
    "    filename_ext = filename_ext+'out4.root'\n",
    "    filename_dirt = filename_dirt+'out4.root'\n",
    "\n",
    "    tree_name = 't_out'\n",
    "\n",
    "    data_out, ext_out, dirt_out, overlay_out = NuCC.openTreesOut(inputdir, filename_data, filename_ext, filename_dirt, filename_overlay, tree_name)\n",
    "    NuCC.printNumberOfEntries(data_out,ext_out,dirt_out,overlay_out)\n",
    "\n",
    "    sample_out = [data_out,ext_out,overlay_out,dirt_out]\n",
    "    scale_out = {data_out:1.0,ext_out:1.0,overlay_out:1.0,dirt_out:1.0}\n",
    "    name_out = {data_out:'data',ext_out:'ext',overlay_out:'overlay',dirt_out:'dirt'}\n",
    "\n",
    "    scale_out[data_out], scale_out[ext_out], scale_out[dirt_out], scale_out[overlay_out] = NuCC.calculateScale(data_trigger, ext_trigger, pot_data, pot_dirt, pot_overlay)\n",
    "    scale_out[dirt_out] = scale_out[dirt_out]\n",
    "    scale_out[overlay_out] = scale_out[overlay_out]"
   ]
  },
  {
   "cell_type": "code",
   "execution_count": 7,
   "metadata": {},
   "outputs": [
    {
     "name": "stdout",
     "output_type": "stream",
     "text": [
      "7.34038944724e-10\n",
      "7.3789785277e-10\n",
      "Fiducial Volume:  49184671.35\n",
      "Beam flux = 9.35741e+11  /cm2\n",
      "Number of target nuclei= 4.10331e+31  /cm3\n"
     ]
    }
   ],
   "source": [
    "##### flux and number of tragets parameters###\n",
    "flux = 1.16859e11/1.592e20 # flux per POT per cm2\n",
    "print flux\n",
    "flux = 7.3789785277e-10\n",
    "print flux\n",
    "roh_data = 1.3836 #data denisity g/cm3\n",
    "roh_MC = 1.3954 # MC denisity g/cm3\n",
    "mol = 39.95 # g for argon\n",
    "N_A = 6.022140857e23 # molec/mol avogadro zahl\n",
    "N_nucleons = 40.0\n",
    "V_fid = ((254.8-10)-(-1.55+10))*((117.47-10)-(-115.53+10))*((1036.9-50)-(-0.1+10))\n",
    "print 'Fiducial Volume: ', V_fid\n",
    "##############################################\n",
    "\n",
    "beam_flux = flux * pot_data\n",
    "print 'Beam flux = {:.5e}'.format(beam_flux),' /cm2'\n",
    "N_tot = roh_data*N_A*N_nucleons*V_fid/mol\n",
    "print 'Number of target nuclei= {:.5e}'.format(N_tot),' /cm3'"
   ]
  },
  {
   "cell_type": "code",
   "execution_count": 8,
   "metadata": {},
   "outputs": [],
   "source": [
    "# Define signals\n",
    "\n",
    "fidVol = '(Nu_Vx_sce>(-1.55+10) && Nu_Vx_sce<(254.8-10)) && (Nu_Vy_sce>(-115.53+10) && Nu_Vy_sce<(117.47-10)) &&(Nu_Vz_sce>(-0.1+10) && Nu_Vz_sce<(1036.9-50))'\n",
    "MCfidVol = '(MCNu_Vx>(-1.55+10) && MCNu_Vx<(254.8-10)) && (MCNu_Vy>(-115.53+10) && MCNu_Vy<(117.47-10)) &&(MCNu_Vz>(-0.1+10) && MCNu_Vz<(1036.9-50))'\n",
    "numu_signal = 'fidVol && MCfidVol && MCNu_CCNC==0 && MCNu_PDG==14 && MCTrackPDG==13 && MCTrackPurity>0.5' # numu CC signal definition\n",
    "numu_true = 'MCfidVol && MCNu_CCNC==0 && MCNu_PDG==14' # numu CC signal definition\n",
    "numu_nomu = 'fidVol && MCfidVol && MCNu_CCNC==0 && MCNu_PDG==14 && MCTrackPDG!=13 && MCTrackPurity>0.5' # not an MC muon\n",
    "numu_lowpur = 'fidVol && MCfidVol && MCNu_CCNC==0 && MCNu_PDG==14 && MCTrackPurity<0.5' #low purity\n",
    "numu_nc = 'fidVol && MCfidVol && MCNu_CCNC==1' # nutral current\n",
    "numu_ov = 'fidVol && !MCfidVol' # out of fiducial\n",
    "numu_other = 'fidVol && MCfidVol && MCNu_CCNC==0 && MCNu_PDG!=14' # e.g anti nu or nue\n",
    "#signal = 'MCfidVol && MCNu_CCNC==0 && MCNu_PDG==14'\n",
    "for x in sample:\n",
    "    x.SetAlias('muon','(muon_candidate_key==track_key)')\n",
    "    \n",
    "num_fidVol = {}\n",
    "for x in sample:\n",
    "    x.SetAlias('fidVol',fidVol)\n",
    "    x.SetAlias('MCfidVol',MCfidVol)\n",
    "    x.SetAlias('numu_signal',numu_signal)\n",
    "    x.SetAlias('numu_true',numu_true)\n",
    "    x.SetAlias('numu_nomu',numu_nomu)\n",
    "    x.SetAlias('numu_lowpur',numu_lowpur)\n",
    "    x.SetAlias('numu_nc',numu_nc)\n",
    "    x.SetAlias('numu_ov',numu_ov)\n",
    "    x.SetAlias('numu_other',numu_other)\n",
    "    num_fidVol[x] = x.GetEntries('fidVol && muon')*scale[x]\n",
    "    \n",
    "tot_num_fidVol = num_fidVol[ext]+num_fidVol[dirt]+num_fidVol[overlay]\n",
    "overlay_signals = {'numu_signal','numu_nomu','numu_lowpur','numu_nc','numu_ov','numu_other'}"
   ]
  },
  {
   "cell_type": "code",
   "execution_count": 9,
   "metadata": {},
   "outputs": [],
   "source": [
    "for x in sample_out:\n",
    "    x.SetAlias('muon','(track_key == key_muon)')\n",
    "\n",
    "num_fidVol = {}\n",
    "for x in sample_out:\n",
    "    x.SetAlias('fidVol',fidVol)\n",
    "    x.SetAlias('MCfidVol',MCfidVol)\n",
    "    x.SetAlias('numu_signal',numu_signal)\n",
    "    x.SetAlias('numu_true',numu_true)\n",
    "    x.SetAlias('numu_nomu',numu_nomu)\n",
    "    x.SetAlias('numu_lowpur',numu_lowpur)\n",
    "    x.SetAlias('numu_nc',numu_nc)\n",
    "    x.SetAlias('numu_ov',numu_ov)\n",
    "    x.SetAlias('numu_other',numu_other)"
   ]
  },
  {
   "cell_type": "code",
   "execution_count": 10,
   "metadata": {},
   "outputs": [
    {
     "name": "stderr",
     "output_type": "stream",
     "text": [
      "Warning in <TCanvas::Constructor>: Deleting canvas with same name: c1\n"
     ]
    }
   ],
   "source": [
    "# Load the global variables for access of functions\n",
    "NuCC.loadGlobal(data,ext,dirt,overlay,data_out,ext_out,dirt_out,overlay_out,scale,scale_out,tot_num_fidVol,overlay_signals,sample,sample_out, name,name_out, outputdir_png, outputdir_root,outputdir_pdf)\n",
    "#NuCC.printGlobal()"
   ]
  },
  {
   "cell_type": "code",
   "execution_count": 11,
   "metadata": {},
   "outputs": [],
   "source": [
    "# initialte ROOT default canvas\n",
    "ROOT.gStyle.SetOptStat(0)\n",
    "c1 = ROOT.TCanvas(\"c1\",\"c1\",1600,1200)\n",
    "c1.SetGrid(1)\n",
    "c1.SetLeftMargin(0.14)\n",
    "c1.SetRightMargin(0.18)\n",
    "c1.SetBottomMargin(0.14)"
   ]
  },
  {
   "cell_type": "code",
   "execution_count": 12,
   "metadata": {},
   "outputs": [
    {
     "data": {
      "text/plain": [
       "True"
      ]
     },
     "execution_count": 12,
     "metadata": {},
     "output_type": "execute_result"
    }
   ],
   "source": [
    "'''track_start_border_x = '(TrackStart_x_sce <(-1.55+1) || TrackStart_x_sce > (254.8-1))'\n",
    "track_end_border_x = '(TrackEnd_x_sce <(-1.55+1) || TrackEnd_x_sce > (254.8-1))'\n",
    "track_start_border_y = '(TrackStart_y_sce <(-115.53+1) || TrackStart_y_sce > (117.47-1))'\n",
    "track_end_border_y = '(TrackEnd_y_sce <(-115.53+1) || TrackEnd_y_sce > (117.47-1))'\n",
    "track_start_border_z = '(TrackStart_z_sce <(0.1+1) || TrackStart_z_sce > (1036.9-1))'\n",
    "track_end_border_z = '(TrackEnd_z_sce <(0.1+1) || TrackEnd_z_sce > (1039.9-1))'\n",
    "'''\n",
    "track_start_border_x = '(TrackStart_x_sce <(-1.55+5) || TrackStart_x_sce > (254.8-5))'\n",
    "track_end_border_x = '(TrackEnd_x_sce <(-1.55+5) || TrackEnd_x_sce > (254.8-5))'\n",
    "track_start_border_y = '(TrackStart_y_sce <(-115.53+5) || TrackStart_y_sce > (117.47-5))'\n",
    "track_end_border_y = '(TrackEnd_y_sce <(-115.53+5) || TrackEnd_y_sce > (117.47-5))'\n",
    "track_start_border_z = '(TrackStart_z_sce <(0.1+5) || TrackStart_z_sce > (1036.9-5))'\n",
    "track_end_border_z = '(TrackEnd_z_sce <(0.1+5) || TrackEnd_z_sce > (1039.9-5))'\n",
    "\n",
    "track_end_uncontained = '(' + track_end_border_x + ' || ' + track_end_border_y + ' || ' + track_end_border_z+ ')'\n",
    "\n",
    "\n",
    "data.SetAlias(\"track_end_uncontained\",track_end_uncontained)\n",
    "ext.SetAlias(\"track_end_uncontained\",track_end_uncontained)\n",
    "overlay.SetAlias(\"track_end_uncontained\",track_end_uncontained)\n",
    "dirt.SetAlias(\"track_end_uncontained\",track_end_uncontained)\n",
    "data_out.SetAlias(\"track_end_uncontained\",track_end_uncontained)\n",
    "ext_out.SetAlias(\"track_end_uncontained\",track_end_uncontained)\n",
    "overlay_out.SetAlias(\"track_end_uncontained\",track_end_uncontained)\n",
    "dirt_out.SetAlias(\"track_end_uncontained\",track_end_uncontained)\n",
    "\n",
    "data.SetAlias(\"crt_cut\",\"(abs(crtt0_time+(crt_trig_corr_med)/1000-4)<0.9 || crtt0_time==-1)\")\n",
    "ext.SetAlias(\"crt_cut\",\"(abs(crtt0_time+(crt_trig_corr_med)/1000-3.57+3.195-4)<0.9 || crtt0_time==-1)\")\n",
    "overlay.SetAlias(\"crt_cut\",\"(abs(crtt0_time-3.95)<0.9 || crtt0_time==-1)\")\n",
    "dirt.SetAlias(\"crt_cut\",\"(abs(crtt0_time-3.95)<0.9 || crtt0_time==-1)\")\n",
    "data_out.SetAlias(\"crt_cut\",\"(abs(crtt0_time+(crt_trig_corr_med)/1000-3.95)<0.9 || crtt0_time==-1)\")\n",
    "ext_out.SetAlias(\"crt_cut\",\"(abs(crtt0_time+(crt_trig_corr_med)/1000-3.57+3.195-3.95)<0.9 || crtt0_time==-1)\")\n",
    "overlay_out.SetAlias(\"crt_cut\",\"(abs(crtt0_time-3.95)<0.9 || crtt0_time==-1)\")\n",
    "dirt_out.SetAlias(\"crt_cut\",\"(abs(crtt0_time-3.95)<0.9 || crtt0_time==-1)\")\n",
    "\n",
    "crt_tom_cut = 'nr_crthit_top==0 && crthit_vertex_zcut==0 && (track_end_uncontained==1 || nr_crthit_beam_tres==0) && crt_cut'\n",
    "\n",
    "data.SetAlias(\"crt_tom_cut\",crt_tom_cut)\n",
    "ext.SetAlias(\"crt_tom_cut\",crt_tom_cut)\n",
    "overlay.SetAlias(\"crt_tom_cut\",crt_tom_cut)\n",
    "dirt.SetAlias(\"crt_tom_cut\",crt_tom_cut)\n",
    "data_out.SetAlias(\"crt_tom_cut\",crt_tom_cut)\n",
    "ext_out.SetAlias(\"crt_tom_cut\",crt_tom_cut)\n",
    "overlay_out.SetAlias(\"crt_tom_cut\",crt_tom_cut)\n",
    "dirt_out.SetAlias(\"crt_tom_cut\",crt_tom_cut)\n"
   ]
  },
  {
   "cell_type": "code",
   "execution_count": 13,
   "metadata": {},
   "outputs": [],
   "source": [
    "weight_name = 'EventWeight*TunedCentralValue_Genie'\n",
    "cut = 'fidVol && muon && TrackLength>8 && crt_tom_cut && TrackScore>0.8\\\n",
    "                && TrackLength>20 && TrackPID_chiproton>78 && NuScore>0.1'"
   ]
  },
  {
   "cell_type": "code",
   "execution_count": 14,
   "metadata": {},
   "outputs": [],
   "source": [
    "#weight_name_fake = 'EventWeight*TunedCentralValue_Genie'\n",
    "weight_name_fake = 'EventWeight'\n",
    "#weight_name_fake = '1'\n",
    "#weight_name_fake = '(((2*(Genie_nNeutron_preFSI>0))|Genie_nNeutron_preFSI==0)/(((2*(Genie_nProton_preFSI>0)) | Genie_nProton_preFSI==0)))*EventWeight*TunedCentralValue_Genie'\n",
    "#weight_name_fake = 'EventWeight*XSecShape_CCMEC_UBGenie[1]'\n",
    "#weight_name_fake = '(EventWeight*TunedCentralValue_Genie*(2*(Genie_nPiPlus_preFSI>0))+0.88*(Genie_nPiPlus_preFSI==0))'\n",
    "#weight_name_fake = 'EventWeight*TunedCentralValue_Genie*1013969.0/987274.0*(MCle_Energy>0.15 ||MCle_Energy==-1)'\n",
    "#weight_name_fake = '1'\n",
    "#weight_name_fake = '1'\n",
    "#weight_name_fake = '1'\n",
    "f_weight = open(output_filedir+weight_name_fake+\".txt\",\"a+\")\n",
    "#f_weight = open(output_filedir+'Weightname'+\".txt\",\"a+\")\n",
    "f_weight.write(\"Used Weight as fake data: %s\\n\" % weight_name_fake)\n",
    "f_weight.close() "
   ]
  },
  {
   "cell_type": "code",
   "execution_count": 15,
   "metadata": {},
   "outputs": [
    {
     "data": {
      "text/plain": [
       "'\\ncut = \\'fidVol && muon && TrackLength>8 && crt_tom_cut && TrackScore>0.8                && TrackLength>20 && TrackPID_chiproton>78 && NuScore>0.1\\'\\nN_data = data_out.GetEntries(cut)\\n#N_ext  = ext_out.GetEntries(cut)*scale_out[ext_out]\\n#N_dirt = dirt_out.GetEntries(cut)*scale_out[dirt_out]\\nN_overlay = overlay_out.GetEntries(cut+\\'&& !numu_signal\\')*scale_out[overlay_out]\\nN_signal = overlay_out.GetEntries(cut+\\'&& numu_signal\\')*scale_out[overlay_out]\\nN_true = overlay_out.GetEntries(\\'numu_true\\')*scale_out[overlay_out]\\nprint N_overlay\\nh_weight_func = ROOT.TH1F(\"h_weight_func\",\\'h_weight_func\\',10000,0,1000)\\n#globale.overlay_out.Draw(weight_name+\\'>>h_weight_func\\',cut+\\' && 1\\',\\'0\\')\\n#dirt_pass_weight = h_weight_func.GetMean() \\nglobale.overlay_out.Draw(weight_name+\\'>>h_weight_func\\',cut+\\' && numu_signal\\',\\'0\\') # weights for signal definition\\noverlay_signal = h_weight_func.GetMean()\\nglobale.overlay_out.Draw(weight_name+\\'>>h_weight_func\\',cut+\\' && !numu_signal\\',\\'0\\') # weights for signal definition\\noverlay_pass_weight = h_weight_func.GetMean()\\nglobale.overlay_out.Draw(weight_name_fake+\\'>>h_weight_func\\',cut,\\'0\\') # weights for signal definition\\nN_data_pass = h_weight_func.GetMean()\\noverlay_out.Draw(weight_name+\\'>>h_weight_func\\',numu_true,\\'0\\') # weights for signal definition\\noverlay_true_weight = h_weight_func.GetMean()\\n\\nprint overlay_pass_weight\\n\\n#N_dirt = N_dirt*dirt_pass_weight\\nN_data = N_data*N_data_pass\\nN_overlay = N_overlay*overlay_pass_weight\\nN_signal = N_signal*overlay_signal\\nN_true = N_true*overlay_true_weight\\neff = N_signal/N_true\\n\\nsigma_tot = (N_data- (N_overlay))/(eff*beam_flux*N_tot)\\nprint \\'Number of data:\\', N_data\\n#print \\'Number of ext:\\', N_ext\\n#print \\'Number of dirt:\\', N_dirt\\nprint \\'Number of overlay:\\', N_overlay\\nprint \\'Number of overlay signal:\\', N_signal\\nprint \\'Efficiency: \\',eff\\nprint \\'Total integrated cross section:\\', sigma_tot\\n\\nsigma_tot_MC = (N_signal)/(eff*beam_flux*N_tot)\\nprint \\'Total integrated cross section for MC:\\', sigma_tot_MC\\n'"
      ]
     },
     "execution_count": 15,
     "metadata": {},
     "output_type": "execute_result"
    }
   ],
   "source": [
    "# calculate total flux integrated cross section:\n",
    "'''\n",
    "cut = 'fidVol && muon && TrackLength>8 && crt_tom_cut && TrackScore>0.8\\\n",
    "                && TrackLength>20 && TrackPID_chiproton>78 && NuScore>0.1'\n",
    "N_data = data_out.GetEntries(cut)\n",
    "#N_ext  = ext_out.GetEntries(cut)*scale_out[ext_out]\n",
    "#N_dirt = dirt_out.GetEntries(cut)*scale_out[dirt_out]\n",
    "N_overlay = overlay_out.GetEntries(cut+'&& !numu_signal')*scale_out[overlay_out]\n",
    "N_signal = overlay_out.GetEntries(cut+'&& numu_signal')*scale_out[overlay_out]\n",
    "N_true = overlay_out.GetEntries('numu_true')*scale_out[overlay_out]\n",
    "print N_overlay\n",
    "h_weight_func = ROOT.TH1F(\"h_weight_func\",'h_weight_func',10000,0,1000)\n",
    "#globale.overlay_out.Draw(weight_name+'>>h_weight_func',cut+' && 1','0')\n",
    "#dirt_pass_weight = h_weight_func.GetMean() \n",
    "globale.overlay_out.Draw(weight_name+'>>h_weight_func',cut+' && numu_signal','0') # weights for signal definition\n",
    "overlay_signal = h_weight_func.GetMean()\n",
    "globale.overlay_out.Draw(weight_name+'>>h_weight_func',cut+' && !numu_signal','0') # weights for signal definition\n",
    "overlay_pass_weight = h_weight_func.GetMean()\n",
    "globale.overlay_out.Draw(weight_name_fake+'>>h_weight_func',cut,'0') # weights for signal definition\n",
    "N_data_pass = h_weight_func.GetMean()\n",
    "overlay_out.Draw(weight_name+'>>h_weight_func',numu_true,'0') # weights for signal definition\n",
    "overlay_true_weight = h_weight_func.GetMean()\n",
    "\n",
    "print overlay_pass_weight\n",
    "\n",
    "#N_dirt = N_dirt*dirt_pass_weight\n",
    "N_data = N_data*N_data_pass\n",
    "N_overlay = N_overlay*overlay_pass_weight\n",
    "N_signal = N_signal*overlay_signal\n",
    "N_true = N_true*overlay_true_weight\n",
    "eff = N_signal/N_true\n",
    "\n",
    "sigma_tot = (N_data- (N_overlay))/(eff*beam_flux*N_tot)\n",
    "print 'Number of data:', N_data\n",
    "#print 'Number of ext:', N_ext\n",
    "#print 'Number of dirt:', N_dirt\n",
    "print 'Number of overlay:', N_overlay\n",
    "print 'Number of overlay signal:', N_signal\n",
    "print 'Efficiency: ',eff\n",
    "print 'Total integrated cross section:', sigma_tot\n",
    "\n",
    "sigma_tot_MC = (N_signal)/(eff*beam_flux*N_tot)\n",
    "print 'Total integrated cross section for MC:', sigma_tot_MC\n",
    "'''"
   ]
  },
  {
   "cell_type": "code",
   "execution_count": 16,
   "metadata": {},
   "outputs": [],
   "source": [
    "from array import array\n",
    "mom_bins = [ 0.00, 0.18, 0.30, 0.45, 0.77, 1.28, 2.50 ]\n",
    "#np.save('/home/tmettler/Desktop/weighted/xsec_momentum_fakedata/Wes/momentum_bins',mom_bins)\n",
    "binnum = len(mom_bins) - 1\n",
    "h_xsec_mom = ROOT.TH1F('h_xsec_mom','h_xsec_mom',binnum,array('f',mom_bins))"
   ]
  },
  {
   "cell_type": "code",
   "execution_count": 17,
   "metadata": {},
   "outputs": [],
   "source": [
    "#x = np.load('/home/tmettler/Desktop/weighted/xsec_momentum_fakedata/Wes/momentum_bins.npy')\n",
    "#print x"
   ]
  },
  {
   "cell_type": "code",
   "execution_count": 18,
   "metadata": {},
   "outputs": [],
   "source": [
    "def draw_adding():\n",
    "    prelim = ROOT.TLatex(0.9,0.93, \"MicroBooNE Preliminary\");\n",
    "    prelim.SetTextFont(62);\n",
    "    prelim.SetTextColor(ROOT.kGray+2);\n",
    "    prelim.SetNDC();\n",
    "    prelim.SetTextSize(1/30.);\n",
    "    prelim.SetTextAlign(32);\n",
    "    #prelim.SetTextSize(0.04631579);\n",
    "    prelim.Draw()\n",
    "\n",
    "    pot_latex = ROOT.TLatex(.10, .92,'Accumulated POT: '+str(pot_data)) \n",
    "    pot_latex.SetTextFont(62);\n",
    "    pot_latex.SetTextColor(ROOT.kGray+2);\n",
    "    pot_latex.SetNDC();\n",
    "    pot_latex.SetTextSize(1/30.);\n",
    "    pot_latex.SetTextAlign(10) #;//left adjusted\n",
    "    pot_latex.Draw();\n",
    "    \n",
    "    return prelim, pot_latex\n",
    "\n",
    "def draw_sim():\n",
    "    prelim = ROOT.TLatex(0.9,0.93, \"MicroBooNE Simulation Preliminary\");\n",
    "    prelim.SetTextFont(62);\n",
    "    prelim.SetTextColor(ROOT.kGray+2);\n",
    "    prelim.SetNDC();\n",
    "    prelim.SetTextSize(1/30.);\n",
    "    prelim.SetTextAlign(32);\n",
    "    #prelim.SetTextSize(0.04631579);\n",
    "    prelim.Draw()\n",
    "    \n",
    "    return prelim"
   ]
  },
  {
   "cell_type": "code",
   "execution_count": 19,
   "metadata": {},
   "outputs": [
    {
     "name": "stderr",
     "output_type": "stream",
     "text": [
      "Warning in <TCanvas::Constructor>: Deleting canvas with same name: c1\n"
     ]
    }
   ],
   "source": [
    "# initialte ROOT default canvas\n",
    "ROOT.gStyle.SetOptStat(0)\n",
    "c1 = ROOT.TCanvas(\"c1\",\"c1\",1600,1200)\n",
    "c1.SetGrid(1)\n",
    "c1.SetLeftMargin(0.14)\n",
    "c1.SetRightMargin(0.05)\n",
    "c1.SetBottomMargin(0.14)"
   ]
  },
  {
   "cell_type": "code",
   "execution_count": 20,
   "metadata": {},
   "outputs": [
    {
     "name": "stdout",
     "output_type": "stream",
     "text": [
      "[0.07894978 0.38479552 0.48165086 0.57688886 0.67759538 0.69810379]\n"
     ]
    },
    {
     "name": "stderr",
     "output_type": "stream",
     "text": [
      "Info in <TEfficiency::TEfficiency>: given histograms are filled with weights\n",
      "Info in <TROOT::TEfficiency::SetUseWeightedEvents>: Histograms are filled with weights\n",
      "Warning in <TEfficiency::GetEfficiencyErrorLow>: frequentist confidence intervals for weights are only supported by the normal approximation\n",
      "Info in <TEfficiency::GetEfficiencyErrorLow>: setting statistic option to kFNormal\n",
      "Info in <TCanvas::Print>: png file /home/tmettler/Desktop/v08_00_00_33/V08_00_00_35/weighted/xsec_fakedata_reweight/png/h_eff_trueMom.png has been created\n",
      "Info in <TCanvas::SaveAs>: ROOT file /home/tmettler/Desktop/v08_00_00_33/V08_00_00_35/weighted/xsec_fakedata_reweight/root/h_eff_trueMom.root has been created\n",
      "Info in <TCanvas::Print>: pdf file /home/tmettler/Desktop/v08_00_00_33/V08_00_00_35/weighted/xsec_fakedata_reweight/pdf/h_eff_trueMom.pdf has been created\n"
     ]
    },
    {
     "data": {
      "image/png": "[encoded data removed]",
      "text/plain": [
       "<IPython.core.display.Image object>"
      ]
     },
     "metadata": {},
     "output_type": "display_data"
    }
   ],
   "source": [
    "xstart = 0\n",
    "xend = 2\n",
    "xbin = 100\n",
    "weight_name = 'EventWeight*TunedCentralValue_Genie'\n",
    "title = 'true moum momentum efficiency'\n",
    "nenner_cut = 'numu_true'\n",
    "zahler_cut = 'fidVol && muon && crt_tom_cut && TrackScore>0.8\\\n",
    "                && TrackLength>20 && TrackPID_chiproton>78 && NuScore>0.1 && numu_signal'\n",
    "h_init_eff_energy = ROOT.TH1F(\"h_init_eff_energy\",title,binnum,array('f',mom_bins))\n",
    "h_init_eff_energy_1 = ROOT.TH1F(\"h_init_eff_energy_1\",title,binnum,array('f',mom_bins))\n",
    "#h_init_eff_energy = fill_histo(globale.overlay_out,'MCNu_Energy',h_init_eff_energy,zahler_cut)\n",
    "#h_init_eff_energy_1 = fill_histo(globale.overlay_out,'MCNu_Energy',h_init_eff_energy_1,nenner_cut)\n",
    "globale.overlay_out.Draw('MCle_Energy>>h_init_eff_energy',weight_name+'*('+zahler_cut+')')\n",
    "globale.overlay_out.Draw('MCle_Energy>>h_init_eff_energy_1',weight_name+'*('+nenner_cut+')')\n",
    "eff =  ROOT.TEfficiency(h_init_eff_energy,h_init_eff_energy_1)\n",
    "eff.SetStatisticOption(ROOT.TEfficiency.kFCP)#;  // to set option for errors (see ref doc)\n",
    "eff.SetConfidenceLevel(0.68)\n",
    "eff.SetTitle(title)\n",
    "eff.Draw(\"AP\")\n",
    "ROOT.gPad.Update()\n",
    "graph = eff.GetPaintedGraph()\n",
    "graph.SetMinimum(0)\n",
    "graph.SetMaximum(1)\n",
    "graph.SetLineWidth(2)\n",
    "graph.GetXaxis().SetTitle(\"Truth muon momentum [GeV]\")\n",
    "graph.GetYaxis().SetTitle(\"Signal efficiency\")\n",
    "graph.GetYaxis().SetTitleSize(0.05)\n",
    "graph.GetYaxis().SetTitleOffset(0.0)\n",
    "graph.GetYaxis().SetLabelSize(0.05)\n",
    "graph.GetXaxis().SetTitleSize(0.05)\n",
    "graph.GetXaxis().SetLabelSize(0.05)\n",
    "graph.GetXaxis().SetTitleOffset(1)\n",
    "graph.SetLineColor(ROOT.kBlack)\n",
    "graph.SetLineWidth(4)\n",
    "ROOT.gStyle.SetEndErrorSize(9)\n",
    "graph.Draw(\"AP\")\n",
    "prelim = draw_sim()\n",
    "prelim.Draw()\n",
    "c1.Draw()\n",
    "c1.SaveAs(globale.outputdir_png + \"h_eff_trueMom.png\")\n",
    "c1.SaveAs(globale.outputdir_root + \"h_eff_trueMom.root\")\n",
    "c1.SaveAs(globale.outputdir_pdf + \"h_eff_trueMom.pdf\")\n",
    "\n",
    "eff.Write(\"h_eff_true\")\n",
    "true_eff_arr = np.zeros((binnum))\n",
    "h_eff_tmp = h_init_eff_energy.Clone()\n",
    "h_eff_tmp.Divide(h_init_eff_energy_1)\n",
    "for i in range(1,binnum+1):\n",
    "    true_eff_arr[i-1] = h_eff_tmp.GetBinContent(i)\n",
    "print true_eff_arr\n",
    "#np.save('/home/tmettler/Desktop/weighted/xsec_momentum_fakedata/Wes/true_efficiency_momentum',true_eff_arr)"
   ]
  },
  {
   "cell_type": "code",
   "execution_count": 21,
   "metadata": {},
   "outputs": [
    {
     "name": "stdout",
     "output_type": "stream",
     "text": [
      "0.525777951598 161464.449463 307096.273193\n"
     ]
    }
   ],
   "source": [
    "N_sig = h_init_eff_energy.Integral(0,binnum+1)\n",
    "N_true = h_init_eff_energy_1.Integral(0,binnum+1)\n",
    "print N_sig/N_true,N_sig,N_true"
   ]
  },
  {
   "cell_type": "code",
   "execution_count": 22,
   "metadata": {},
   "outputs": [
    {
     "data": {
      "text/plain": [
       "1257"
      ]
     },
     "execution_count": 22,
     "metadata": {},
     "output_type": "execute_result"
    },
    {
     "name": "stderr",
     "output_type": "stream",
     "text": [
      "Info in <TCanvas::SaveAs>: ROOT file /home/tmettler/Desktop/v08_00_00_33/V08_00_00_35/weighted/xsec_fakedata_reweight/root/h2_true_MCS_bin.root has been created\n",
      "Info in <TCanvas::Print>: png file /home/tmettler/Desktop/v08_00_00_33/V08_00_00_35/weighted/xsec_fakedata_reweight/png/h2_true_MCS_bin.png has been created\n",
      "Info in <TCanvas::Print>: pdf file /home/tmettler/Desktop/v08_00_00_33/V08_00_00_35/weighted/xsec_fakedata_reweight/pdf/h2_true_MCS_bin.pdf has been created\n"
     ]
    },
    {
     "data": {
      "image/png": "[encoded data removed]",
      "text/plain": [
       "<IPython.core.display.Image object>"
      ]
     },
     "metadata": {},
     "output_type": "display_data"
    }
   ],
   "source": [
    "h_migration = ROOT.TH2F(\"h_migration\",'Truth vs. Reco',binnum,array('f',mom_bins),binnum,array('f',mom_bins))\n",
    "globale.overlay_out.Draw('MCle_Energy:TrackMomMCS_mom'+'>>h_migration',weight_name+'*('+cut+'&& numu_signal)','')\n",
    "h_migration.SetXTitle(\"reco Muon momentum MCS [GeV]\")\n",
    "h_migration.SetYTitle(\"true Muon momentum [GeV]\")\n",
    "h_migration.Draw(\"colz\")\n",
    "h_migration.Draw(\"same text\")\n",
    "h_migration.GetYaxis().SetTitleSize(0.05)\n",
    "h_migration.GetYaxis().SetTitleOffset(0.0)\n",
    "h_migration.GetYaxis().SetLabelSize(0.05)\n",
    "h_migration.GetXaxis().SetTitleSize(0.05)\n",
    "h_migration.GetXaxis().SetLabelSize(0.05)\n",
    "h_migration.GetXaxis().SetTitleOffset(1)\n",
    "h_migration.SetLineColor(ROOT.kBlack)\n",
    "h_migration.SetLineWidth(4)\n",
    "c1.SetRightMargin(0.12)\n",
    "ROOT.gStyle.SetPaintTextFormat('0.0f')\n",
    "prelim = draw_sim()\n",
    "prelim.Draw()\n",
    "c1.Draw()\n",
    "c1.SaveAs(globale.outputdir_root + \"h2_true_MCS_bin.root\")\n",
    "c1.SaveAs(globale.outputdir_png + \"h2_true_MCS_bin.png\")\n",
    "c1.SaveAs(globale.outputdir_pdf + \"h2_true_MCS_bin.pdf\")\n",
    "h_migration.Write(\"h2_true_MCS_bin\")"
   ]
  },
  {
   "cell_type": "code",
   "execution_count": 23,
   "metadata": {},
   "outputs": [
    {
     "name": "stdout",
     "output_type": "stream",
     "text": [
      "[[2.33293596e-01 7.49279790e-02 5.84190006e-03 2.19498437e-03\n",
      "  1.62324051e-03 1.06543776e-03 1.16402451e-03]\n",
      " [3.73188169e-01 6.06695333e-01 1.38039172e-01 1.52485389e-02\n",
      "  8.30718050e-03 7.89700269e-03 6.36349665e-03]\n",
      " [2.03862801e-01 2.28444264e-01 6.45666488e-01 1.27304385e-01\n",
      "  2.67004434e-02 2.25880964e-02 2.39345272e-02]\n",
      " [1.36011121e-01 6.74918115e-02 1.81269043e-01 7.11989943e-01\n",
      "  2.20575280e-01 9.55082028e-02 9.16998838e-02]\n",
      " [4.18943013e-02 1.85310173e-02 2.31356869e-02 1.28066538e-01\n",
      "  6.57750775e-01 3.76478011e-01 2.28840891e-01]\n",
      " [1.01850010e-02 3.49261416e-03 5.19924498e-03 1.34248971e-02\n",
      "  8.12824456e-02 4.84044631e-01 5.60802720e-01]\n",
      " [1.56501117e-03 4.16980791e-04 8.48465190e-04 1.77071340e-03\n",
      "  3.76063489e-03 1.24186180e-02 8.71944574e-02]]\n"
     ]
    },
    {
     "data": {
      "text/plain": [
       "732"
      ]
     },
     "execution_count": 23,
     "metadata": {},
     "output_type": "execute_result"
    },
    {
     "name": "stderr",
     "output_type": "stream",
     "text": [
      "Warning in <TFile::Append>: Replacing existing TH1: h_migration (Potential memory leak).\n",
      "Info in <TCanvas::Print>: png file /home/tmettler/Desktop/v08_00_00_33/V08_00_00_35/weighted/xsec_fakedata_reweight/png/h_mitigation_matrix.png has been created\n",
      "Info in <TCanvas::SaveAs>: ROOT file /home/tmettler/Desktop/v08_00_00_33/V08_00_00_35/weighted/xsec_fakedata_reweight/root/h_mitigation_matrix.root has been created\n",
      "Info in <TCanvas::Print>: pdf file /home/tmettler/Desktop/v08_00_00_33/V08_00_00_35/weighted/xsec_fakedata_reweight/pdf/h_mitigation_matrix.pdf has been created\n"
     ]
    },
    {
     "data": {
      "image/png": "[encoded data removed]",
      "text/plain": [
       "<IPython.core.display.Image object>"
      ]
     },
     "metadata": {},
     "output_type": "display_data"
    }
   ],
   "source": [
    "reco_entries = [0.0, 0.0, 0.0, 0.0, 0.0, 0.0,0.0]\n",
    "mitigation_matrix = np.zeros((7,7))\n",
    "for j in range(1,binnum+2):\n",
    "    for i in range(1,binnum+2):\n",
    "        #print 'bin i,j: ', i,j,'Value: ',h_migration.GetBinContent(i,j)\n",
    "        reco_entries[j-1]+=h_migration.GetBinContent(i,j)\n",
    "h_mitigation_matrix = ROOT.TH2F(\"h_migration\",'Migration matrix',7,0,7,7,0,7)\n",
    "for j in range(1,binnum+2):\n",
    "    for i in range(1,binnum+2):\n",
    "        #print 'bin i,j: ', i,j,'Value: ',h_migration.GetBinContent(i,j)\n",
    "        mitigation_matrix[i-1,j-1]= h_migration.GetBinContent(i,j)/reco_entries[j-1]\n",
    "        h_mitigation_matrix.SetBinContent(i,j,mitigation_matrix[i-1,j-1])\n",
    "        #print i-1,j-1,mitigation_matrix[i-1,j-1]\n",
    "        #true_entries[j]+=h_migration.GetBinContent(i,j)\n",
    "#mitigation_matrix = mitigation_matrix.transpose()\n",
    "print mitigation_matrix\n",
    "#np.save(output_filedir+'migration_matrix_momentum',mitigation_matrix)\n",
    "#np.save('/home/tmettler/Desktop/weighted/xsec_momentum_fakedata/Wes/migration_matrix_momentum',mitigation_matrix)\n",
    "h_mitigation_matrix.SetXTitle(\"Reco bin i, 7=overflow\")\n",
    "h_mitigation_matrix.SetYTitle(\"True bin j\")\n",
    "h_mitigation_matrix.Draw('colz')\n",
    "h_mitigation_matrix.Draw('same text')\n",
    "h_mitigation_matrix.GetYaxis().SetTitleSize(0.05)\n",
    "h_mitigation_matrix.GetYaxis().SetTitleOffset(0.0)\n",
    "h_mitigation_matrix.GetYaxis().SetLabelSize(0.05)\n",
    "h_mitigation_matrix.GetXaxis().SetTitleSize(0.05)\n",
    "h_mitigation_matrix.GetXaxis().SetLabelSize(0.05)\n",
    "h_mitigation_matrix.GetXaxis().SetTitleOffset(1)\n",
    "h_mitigation_matrix.SetLineColor(ROOT.kBlack)\n",
    "h_mitigation_matrix.SetLineWidth(4)\n",
    "c1.SetRightMargin(0.1)\n",
    "ROOT.gStyle.SetPaintTextFormat('0.3f')\n",
    "prelim = draw_sim()\n",
    "prelim.Draw()\n",
    "c1.Draw()\n",
    "c1.SaveAs(globale.outputdir_png + \"h_mitigation_matrix.png\")\n",
    "c1.SaveAs(globale.outputdir_root + \"h_mitigation_matrix.root\")\n",
    "c1.SaveAs(globale.outputdir_pdf + \"h_mitigation_matrix.pdf\")\n",
    "\n",
    "h_mitigation_matrix.Write(\"h_mitigation_matrix\")"
   ]
  },
  {
   "cell_type": "code",
   "execution_count": 24,
   "metadata": {},
   "outputs": [
    {
     "name": "stdout",
     "output_type": "stream",
     "text": [
      "[0.2332936  0.37318817 0.2038628  0.13601112 0.0418943  0.010185\n",
      " 0.00156501]\n"
     ]
    }
   ],
   "source": [
    "#print h_mitigation_matrix\n",
    "h_test_true = [1,0,0,0,0,0,0]\n",
    "h_test_reco = mitigation_matrix.dot(h_test_true)\n",
    "print h_test_reco"
   ]
  },
  {
   "cell_type": "code",
   "execution_count": 25,
   "metadata": {},
   "outputs": [
    {
     "data": {
      "text/plain": [
       "487"
      ]
     },
     "execution_count": 25,
     "metadata": {},
     "output_type": "execute_result"
    },
    {
     "name": "stderr",
     "output_type": "stream",
     "text": [
      "Warning in <TFile::Append>: Replacing existing TH1: h_init_eff_energy (Potential memory leak).\n",
      "Warning in <TFile::Append>: Replacing existing TH1: h_init_eff_energy (Potential memory leak).\n",
      "Warning in <TFile::Append>: Replacing existing TH1: h_init_eff_energy_1 (Potential memory leak).\n"
     ]
    }
   ],
   "source": [
    "# Nselected and N generated\n",
    "title = 'MCS momentum efficiency'\n",
    "weight_name = 'EventWeight*TunedCentralValue_Genie'\n",
    "nenner_cut = 'numu_true'\n",
    "zahler_cut = 'fidVol && muon && crt_tom_cut && TrackScore>0.8\\\n",
    "                && TrackLength>20 && TrackPID_chiproton>78 && NuScore>0.1 && numu_signal'\n",
    "h_init_eff_energy = ROOT.TH1F(\"h_init_eff_energy\",title,binnum,array('f',mom_bins))\n",
    "h_init_eff_energy_1 = ROOT.TH1F(\"h_init_eff_energy_1\",title,binnum,array('f',mom_bins))\n",
    "globale.overlay_out.Draw('MCle_Energy>>h_init_eff_energy',weight_name+'*('+zahler_cut+')')\n",
    "globale.overlay_out.Draw('MCle_Energy>>h_init_eff_energy_1',weight_name+'*('+nenner_cut+')')\n",
    "\n",
    "h_init_eff_energy.Write(\"h_eff_true_energy_z\")\n",
    "h_init_eff_energy_1.Write(\"h_eff_true_energy_n\")"
   ]
  },
  {
   "cell_type": "code",
   "execution_count": 26,
   "metadata": {},
   "outputs": [
    {
     "name": "stdout",
     "output_type": "stream",
     "text": [
      "1941.452392578125 24590.98046875 0.07894977571330698\n",
      "15604.9345703125 40553.8359375 0.38479552450629384\n",
      "27612.171875 57328.19140625 0.481650845730146\n",
      "52833.2109375 91583.0 0.5768888433169912\n",
      "46164.796875 68130.328125 0.6775953990754393\n",
      "14797.4921875 21196.693359375 0.6981038002776634\n",
      "2510.390625 3713.243896484375 0.6760640278374355\n",
      "[0.21093055 0.34951461 0.46131997 0.5628756  0.64670339 0.66919137\n",
      " 0.63347359]\n",
      "/home/tmettler/Desktop/v08_00_00_33/V08_00_00_35/weighted/xsec_fakedata_reweight/\n"
     ]
    }
   ],
   "source": [
    "# e tilde\n",
    "N_sel = np.zeros((7))\n",
    "N_gen = np.zeros((7))\n",
    "for i in range(1,binnum+2):\n",
    "    N_sel[i-1] = h_init_eff_energy.GetBinContent(i)\n",
    "    N_gen[i-1] = h_init_eff_energy_1.GetBinContent(i)\n",
    "    print N_sel[i-1],N_gen[i-1],N_sel[i-1]/N_gen[i-1]\n",
    "eff_tilde = np.zeros((6))\n",
    "eff_tilde = mitigation_matrix.dot(N_sel)/(mitigation_matrix.dot(N_gen))\n",
    "print eff_tilde\n",
    "#np.save(output_filedir+'eff_tilde_momentum_xsec_CV',eff_tilde)\n",
    "#np.save('/home/tmettler/Desktop/weighted/xsec_momentum_fakedata/Wes/eff_tilde_momentum',eff_tilde)\n",
    "print output_filedir"
   ]
  },
  {
   "cell_type": "code",
   "execution_count": 27,
   "metadata": {},
   "outputs": [
    {
     "data": {
      "text/plain": [
       "True"
      ]
     },
     "execution_count": 27,
     "metadata": {},
     "output_type": "execute_result"
    }
   ],
   "source": [
    "h_eff = h_init_eff_energy.Clone()\n",
    "h_eff.Divide(h_init_eff_energy_1)"
   ]
  },
  {
   "cell_type": "code",
   "execution_count": 28,
   "metadata": {},
   "outputs": [
    {
     "data": {
      "text/plain": [
       "461"
      ]
     },
     "execution_count": 28,
     "metadata": {},
     "output_type": "execute_result"
    },
    {
     "name": "stderr",
     "output_type": "stream",
     "text": [
      "Info in <TCanvas::Print>: png file /home/tmettler/Desktop/v08_00_00_33/V08_00_00_35/weighted/xsec_fakedata_reweight/png/h_eff_tilde_xsecMom.png has been created\n",
      "Info in <TCanvas::SaveAs>: ROOT file /home/tmettler/Desktop/v08_00_00_33/V08_00_00_35/weighted/xsec_fakedata_reweight/root/h_eff_tilde_xsecMom.root has been created\n",
      "Info in <TCanvas::Print>: pdf file /home/tmettler/Desktop/v08_00_00_33/V08_00_00_35/weighted/xsec_fakedata_reweight/pdf/h_eff_tilde_xsecMom.pdf has been created\n"
     ]
    },
    {
     "data": {
      "image/png": "[encoded data removed]",
      "text/plain": [
       "<IPython.core.display.Image object>"
      ]
     },
     "metadata": {},
     "output_type": "display_data"
    }
   ],
   "source": [
    "h_eff_tilde = ROOT.TH1F(\"h_eff_tilde\",'Efficiency tilde',binnum,array('f',mom_bins))\n",
    "for i in range(1,binnum+1):\n",
    "    h_eff_tilde.SetBinContent(i,eff_tilde[i-1])\n",
    "    h_eff_tilde.SetBinError(i,h_eff.GetBinError(i))\n",
    "h_eff_tilde.SetMaximum(1)\n",
    "h_eff_tilde.SetMinimum(0)\n",
    "h_eff_tilde.SetLineWidth(3)\n",
    "\n",
    "h_eff_tilde.SetXTitle(\"Muon momentum [GeV]\")\n",
    "h_eff_tilde.SetYTitle(\"Signal efficiency\")\n",
    "h_eff_tilde.GetYaxis().SetTitleSize(0.05)\n",
    "h_eff_tilde.GetYaxis().SetTitleOffset(0.0)\n",
    "h_eff_tilde.GetYaxis().SetLabelSize(0.05)\n",
    "h_eff_tilde.GetXaxis().SetTitleSize(0.05)\n",
    "h_eff_tilde.GetXaxis().SetLabelSize(0.05)\n",
    "h_eff_tilde.GetXaxis().SetTitleOffset(1)\n",
    "h_eff_tilde.SetLineColor(ROOT.kBlack)\n",
    "h_eff_tilde.SetLineWidth(4)\n",
    "ROOT.gStyle.SetEndErrorSize(9)\n",
    "c1.SetRightMargin(0.05)\n",
    "\n",
    "h_eff_tilde.Draw('E1')\n",
    "prelim = draw_sim()\n",
    "prelim.Draw()\n",
    "c1.Draw()\n",
    "c1.SaveAs(globale.outputdir_png + \"h_eff_tilde_xsecMom.png\")\n",
    "c1.SaveAs(globale.outputdir_root + \"h_eff_tilde_xsecMom.root\")\n",
    "c1.SaveAs(globale.outputdir_pdf + \"h_eff_tilde_xsecMom.pdf\")\n",
    "\n",
    "h_eff_tilde.Write(\"h_eff_tilde\")"
   ]
  },
  {
   "cell_type": "code",
   "execution_count": 29,
   "metadata": {},
   "outputs": [
    {
     "data": {
      "text/plain": [
       "251443L"
      ]
     },
     "execution_count": 29,
     "metadata": {},
     "output_type": "execute_result"
    }
   ],
   "source": [
    "weight_name = 'EventWeight*TunedCentralValue_Genie'\n",
    "variable = 'TrackMomMCS_mom'\n",
    "cut = 'fidVol && muon && TrackLength>8 && crt_tom_cut && TrackScore>0.8\\\n",
    "                && TrackLength>20 && TrackPID_chiproton>78 && NuScore>0.1'\n",
    "\n",
    "h_data = ROOT.TH1F(\"h_data\",'h_data',binnum,array('f',mom_bins))\n",
    "#h_ext = ROOT.TH1F(\"h_ext\",'h_ext',binnum,array('f',mom_bins))\n",
    "#h_dirt = ROOT.TH1F(\"h_dirt\",'h_dirt',binnum,array('f',mom_bins))\n",
    "h_overlay = ROOT.TH1F(\"h_overlay\",'h_overlay',binnum,array('f',mom_bins))\n",
    "h_signal = ROOT.TH1F(\"h_signal\",'h_signal',binnum,array('f',mom_bins))\n",
    "#h_mctrue = ROOT.TH1F(\"h_mctrue\",'h_mctrue',binnum,array('f',mom_bins))\n",
    "#h_weight_func_n = ROOT.TH1F(\"h_weight_func_n\",'h_weight_func',binnum,array('f',mom_bins))\n",
    "\n",
    "globale.data_out.Draw(variable+'>>h_data','('+cut+')*('+weight_name_fake+')','')\n",
    "#globale.ext_out.Draw(variable+'>>h_ext',cut,'')\n",
    "#globale.dirt_out.Draw(variable+'>>h_dirt',weight_name+'*('+cut+')','')\n",
    "globale.overlay_out.Draw(variable+'>>h_overlay',weight_name+'*('+cut+'&& !numu_signal)','')\n",
    "globale.overlay_out.Draw(variable+'>>h_signal',weight_name+'*('+cut+'&& numu_signal)','')\n",
    "#globale.overlay_out.Draw(variable+'>>h_mctrue',weight_name+'*( numu_true)','')\n",
    "\n",
    "h_true = ROOT.TH1F(\"h_true\",'h_true',binnum,array('f',mom_bins))\n",
    "globale.overlay_out.Draw(variable+'>>h_true',weight_name+'*(numu_true)','')"
   ]
  },
  {
   "cell_type": "code",
   "execution_count": 30,
   "metadata": {},
   "outputs": [
    {
     "data": {
      "text/plain": [
       "439"
      ]
     },
     "execution_count": 30,
     "metadata": {},
     "output_type": "execute_result"
    },
    {
     "name": "stderr",
     "output_type": "stream",
     "text": [
      "Warning in <TH1F::Sumw2>: Sum of squares of weights structure already created\n",
      "Warning in <TH1F::Sumw2>: Sum of squares of weights structure already created\n"
     ]
    }
   ],
   "source": [
    "\n",
    "h_data.Sumw2()\n",
    "#h_ext.Sumw2()\n",
    "#h_dirt.Sumw2()\n",
    "h_overlay.Sumw2()\n",
    "h_data.Scale(globale.scale[globale.data])\n",
    "#h_ext.Scale(globale.scale[globale.ext])\n",
    "#h_dirt.Scale(globale.scale[globale.dirt])\n",
    "h_overlay.Scale(globale.scale[globale.overlay])\n",
    "\n",
    "h_data.Write(\"h_data\")\n",
    "#h_ext.Write(\"h_ext\")\n",
    "#h_dirt.Write(\"h_dirt\")\n",
    "h_overlay.Write(\"h_overlay\")"
   ]
  },
  {
   "cell_type": "code",
   "execution_count": 31,
   "metadata": {},
   "outputs": [
    {
     "name": "stdout",
     "output_type": "stream",
     "text": [
      "32899.4918213\n",
      "134399.196045\n"
     ]
    }
   ],
   "source": [
    "print h_overlay.GetSumOfWeights()\n",
    "#h_data.Add(h_ext,-1)\n",
    "#h_data.Add(h_dirt,-1)\n",
    "h_data.Add(h_overlay,-1)\n",
    "print h_data.GetSumOfWeights()"
   ]
  },
  {
   "cell_type": "code",
   "execution_count": 32,
   "metadata": {},
   "outputs": [
    {
     "name": "stderr",
     "output_type": "stream",
     "text": [
      "Warning in <TFile::Append>: Replacing existing TH1: h_true (Potential memory leak).\n"
     ]
    }
   ],
   "source": [
    "h_overlay_sig = ROOT.TH1F(\"h_overlay_sig\",'h_overlay',binnum,array('f',mom_bins))\n",
    "globale.overlay_out.Draw(variable+'>>h_overlay_sig',weight_name+'*('+cut+'&& numu_signal)','')\n",
    "h_overlay_sig.Scale(globale.scale[globale.overlay])\n",
    "\n",
    "h_true = ROOT.TH1F(\"h_true\",'h_true',binnum,array('f',mom_bins))\n",
    "globale.data_out.Draw('MCle_Energy'+'>>h_true',weight_name_fake+'*(numu_true)','')\n",
    "h_true.Scale(globale.scale[globale.data])\n",
    "h_true.SetLineColor(ROOT.kOrange)\n",
    "h_true.SetLineWidth(4)"
   ]
  },
  {
   "cell_type": "code",
   "execution_count": 33,
   "metadata": {},
   "outputs": [
    {
     "name": "stdout",
     "output_type": "stream",
     "text": [
      "6797.966375628398\n",
      "35112.428457882386\n",
      "54432.14168629777\n",
      "83894.41452232213\n",
      "58444.09963527593\n",
      "17136.759793309953\n"
     ]
    }
   ],
   "source": [
    "h_true_smeare = h_true.Clone()\n",
    "true_bins = np.zeros((binnum+1))\n",
    "for i in range(1,binnum+2):\n",
    "    true_bins[i-1] = h_true.GetBinContent(i)\n",
    "    \n",
    "true_bins_smeared = np.zeros((binnum+1))\n",
    "true_bins_smeared = mitigation_matrix.dot(true_bins)\n",
    "\n",
    "for i in range(1,binnum+1):\n",
    "    h_true_smeare.SetBinContent(i,true_bins_smeared[i-1])\n",
    "    print true_bins_smeared[i-1]\n",
    "h_true_smeare.SetLineColor(ROOT.kGreen)\n",
    "h_true_smeare.SetLineWidth(4)"
   ]
  },
  {
   "cell_type": "code",
   "execution_count": 34,
   "metadata": {},
   "outputs": [],
   "source": [
    "h_data.Divide(h_eff_tilde)\n",
    "h_data.Scale(1.0/(N_tot*beam_flux*1e-38))\n",
    "\n",
    "h_overlay_sig.Divide(h_eff_tilde)\n",
    "h_overlay_sig.Scale(1.0/(N_tot*beam_flux*1e-38))\n",
    "\n",
    "h_true.Scale(1.0/(N_tot*beam_flux*1e-38))\n",
    "h_true_smeare.Scale(1.0/(N_tot*beam_flux*1e-38))"
   ]
  },
  {
   "cell_type": "code",
   "execution_count": 35,
   "metadata": {},
   "outputs": [
    {
     "name": "stdout",
     "output_type": "stream",
     "text": [
      "0.546441578013\n",
      "6.35050311285\n",
      "6.30061289479\n",
      "2.1337468654\n",
      "0.585207821532\n",
      "0.0299860181919\n"
     ]
    }
   ],
   "source": [
    "for i in range(1,binnum+1):\n",
    "    h_data.SetBinContent(i,h_data.GetBinContent(i)/h_data.GetBinWidth(i))\n",
    "    h_overlay_sig.SetBinContent(i,h_overlay_sig.GetBinContent(i)/h_overlay_sig.GetBinWidth(i))\n",
    "    h_data.SetBinError(i,h_data.GetBinError(i)/h_data.GetBinWidth(i))\n",
    "    h_overlay_sig.SetBinError(i,h_overlay_sig.GetBinError(i)/h_overlay_sig.GetBinWidth(i))\n",
    "    h_true.SetBinContent(i,h_true.GetBinContent(i)/h_true.GetBinWidth(i))\n",
    "    h_true.SetBinError(i,h_true.GetBinError(i)/h_true.GetBinWidth(i))\n",
    "    h_true_smeare.SetBinContent(i,h_true_smeare.GetBinContent(i)/h_true_smeare.GetBinWidth(i))\n",
    "    h_true_smeare.SetBinError(i,h_true_smeare.GetBinError(i)/h_true_smeare.GetBinWidth(i))\n",
    "\n",
    "    print h_true_smeare.GetBinContent(i)/h_true_smeare.GetBinWidth(i)"
   ]
  },
  {
   "cell_type": "code",
   "execution_count": 36,
   "metadata": {},
   "outputs": [
    {
     "data": {
      "text/plain": [
       "422"
      ]
     },
     "execution_count": 36,
     "metadata": {},
     "output_type": "execute_result"
    },
    {
     "name": "stderr",
     "output_type": "stream",
     "text": [
      "Warning in <TCanvas::Constructor>: Deleting canvas with same name: c1\n",
      "Info in <TCanvas::Print>: png file /home/tmettler/Desktop/v08_00_00_33/V08_00_00_35/weighted/xsec_fakedata_reweight/png/h_xsec_corr_ratio.png has been created\n",
      "Info in <TCanvas::SaveAs>: ROOT file /home/tmettler/Desktop/v08_00_00_33/V08_00_00_35/weighted/xsec_fakedata_reweight/root/h_xsec_corr_ratio.root has been created\n",
      "Info in <TCanvas::Print>: pdf file /home/tmettler/Desktop/v08_00_00_33/V08_00_00_35/weighted/xsec_fakedata_reweight/pdf/h_xsec_corr_ratio.pdf has been created\n"
     ]
    },
    {
     "data": {
      "image/png": "[encoded data removed]",
      "text/plain": [
       "<IPython.core.display.Image object>"
      ]
     },
     "metadata": {},
     "output_type": "display_data"
    }
   ],
   "source": [
    "legend = ROOT.TLegend(0.6,0.65,0.9,0.9)\n",
    "c1 = ROOT.TCanvas(\"c1\",\"c1\",1600,1200)\n",
    "c1.SetGrid(1)\n",
    "c1.SetLeftMargin(0.14)\n",
    "c1.SetRightMargin(0.1)\n",
    "c1.SetBottomMargin(0.1)\n",
    "#c1.SetFillStyle(4000);\n",
    "# first pad\n",
    "c1.cd()\n",
    "pad1 = ROOT.TPad('pad1','pad1',0,0.35,1,1)\n",
    "pad1.SetGrid(1)\n",
    "pad1.Draw()\n",
    "pad1.cd()\n",
    "pad1.SetBottomMargin(0.03);\n",
    "pad1.SetTopMargin(0.1)\n",
    "\n",
    "h_overlay_sig.SetLineColor(2)\n",
    "legend.AddEntry(h_data,'fake data',\"lep\");\n",
    "legend.AddEntry(h_overlay_sig,'MC reco',\"f\");\n",
    "#legend.AddEntry(h_true,'fake MC true',\"f\");\n",
    "legend.AddEntry(h_true_smeare,'fake MC true',\"f\");\n",
    "\n",
    "h_data.SetYTitle(\"d\\sigma / dp_{\\mu} \\t [10^{-38} cm^{2}/GeV]\")\n",
    "h_data.SetXTitle(\"p_{\\mu} \\t [GeV]\")\n",
    "h_data.SetLineWidth(3)\n",
    "h_data.SetMaximum(1.6)\n",
    "\n",
    "h_data.GetYaxis().SetTitleSize(0.05)\n",
    "h_data.GetYaxis().SetTitleOffset(0.0)\n",
    "h_data.GetYaxis().SetLabelSize(0.05)\n",
    "h_data.GetXaxis().SetTitleSize(0.05)\n",
    "h_data.GetXaxis().SetLabelSize(0.05)\n",
    "h_data.GetXaxis().SetTitleOffset(1)\n",
    "h_data.SetLineColor(ROOT.kBlack)\n",
    "h_data.SetLineWidth(4)\n",
    "ROOT.gStyle.SetEndErrorSize(5)\n",
    "c1.SetRightMargin(0.05)\n",
    "\n",
    "h_data.GetXaxis().SetLabelOffset(999);\n",
    "h_data.GetXaxis().SetTitleOffset(999);\n",
    "h_data.GetXaxis().SetLabelSize(0);\n",
    "h_data.GetXaxis().SetTitleSize(0);\n",
    "\n",
    "h_data.Draw('E1')\n",
    "h_overlay_sig.SetFillColor(0)\n",
    "h_overlay_sig.SetLineWidth(4)\n",
    "#h_overlay_sig.Draw('hist same')\n",
    "h_overlay_sig.DrawCopy('Hist same')\n",
    "h_overlay_sig.SetFillColor(2)\n",
    "h_overlay_sig.SetFillStyle(3001)\n",
    "h_overlay_sig.Draw('E2 same')\n",
    "#h_true.Draw('hist same')\n",
    "h_true_smeare.Draw('hist same')\n",
    "legend.Draw()\n",
    "prelim, pot_tex = draw_adding()\n",
    "prelim.Draw()\n",
    "pot_tex.Draw()\n",
    "\n",
    "c1.cd()\n",
    "h_data.GetXaxis().SetLabelOffset(0);\n",
    "h_data.GetXaxis().SetTitleOffset(0);\n",
    "\n",
    "pad2 = ROOT.TPad('pad2','pad2',0,0,1,0.35)\n",
    "pad2.SetGrid(1)\n",
    "pad2.SetTopMargin(0.04)\n",
    "pad2.SetBottomMargin(0.4)\n",
    "pad2.Draw()\n",
    "pad2.cd()\n",
    "\n",
    "h_overlay_sig_ratio = h_overlay_sig.Clone()\n",
    "h_overlay_sig_ratio.Divide(h_true_smeare)\n",
    "h_overlay_true_ratio = h_true.Clone()\n",
    "h_overlay_true_ratio.Divide(h_true_smeare)\n",
    "h_overlay_data_ratio = h_data.Clone()\n",
    "h_overlay_data_ratio.Divide(h_true_smeare)\n",
    "h_overlay_true_smeare_ratio = h_true_smeare.Clone()\n",
    "h_overlay_true_smeare_ratio.Divide(h_true_smeare)\n",
    "\n",
    "#h_overlay_data_ratio.SetMinimum(h_overlay_data_ratio.GetMinimum())\n",
    "#h_overlay_data_ratio.SetMaximum(h_overlay_data_ratio.GetMaximum())\n",
    "h_overlay_data_ratio.SetMaximum(-1111)\n",
    "h_overlay_data_ratio.SetMinimum(-1111)\n",
    "h_overlay_sig_ratio.SetFillColor(0)\n",
    "h_overlay_data_ratio.SetYTitle('Data/(Ext+MC)')\n",
    "h_overlay_data_ratio.GetYaxis().SetTitleSize(0.1)\n",
    "h_overlay_data_ratio.GetYaxis().SetTitleOffset(0.3)\n",
    "h_overlay_data_ratio.GetYaxis().SetLabelSize(0.07)\n",
    "h_overlay_data_ratio.GetXaxis().SetTitleSize(0.15)\n",
    "h_overlay_data_ratio.GetXaxis().SetLabelSize(0.15)\n",
    "h_overlay_data_ratio.GetXaxis().SetTitleOffset(1)\n",
    "\n",
    "h_overlay_data_ratio.Draw('E1')\n",
    "#h_overlay_true_ratio.Draw('hist same')\n",
    "h_overlay_sig_ratio.Draw('same hist')\n",
    "h_overlay_true_smeare_ratio.Draw('same hist')\n",
    "h_overlay_data_ratio.Draw('E1 same')\n",
    "\n",
    "\n",
    "c1.Draw()\n",
    "c1.SaveAs(globale.outputdir_png + \"h_xsec_corr_ratio.png\")\n",
    "c1.SaveAs(globale.outputdir_root + \"h_xsec_corr_ratio.root\")\n",
    "c1.SaveAs(globale.outputdir_pdf + \"h_xsec_corr_ratio.pdf\")\n",
    "\n",
    "h_data.Write(\"h_xsec_data\")\n",
    "h_overlay_sig.Write(\"h_xsec_MC\")"
   ]
  },
  {
   "cell_type": "code",
   "execution_count": 37,
   "metadata": {},
   "outputs": [
    {
     "name": "stderr",
     "output_type": "stream",
     "text": [
      "Warning in <TCanvas::Constructor>: Deleting canvas with same name: c1\n"
     ]
    }
   ],
   "source": [
    "# initialte ROOT default canvas\n",
    "ROOT.gStyle.SetOptStat(0)\n",
    "c1 = ROOT.TCanvas(\"c1\",\"c1\",1600,1200)\n",
    "c1.SetGrid(1)\n",
    "c1.SetLeftMargin(0.14)\n",
    "c1.SetRightMargin(0.05)\n",
    "c1.SetBottomMargin(0.14)"
   ]
  },
  {
   "cell_type": "code",
   "execution_count": 38,
   "metadata": {},
   "outputs": [
    {
     "ename": "NameError",
     "evalue": "name 'asdgweag' is not defined",
     "output_type": "error",
     "traceback": [
      "\u001b[0;31m\u001b[0m",
      "\u001b[0;31mNameError\u001b[0mTraceback (most recent call last)",
      "\u001b[0;32m<ipython-input-38-c3597359dd59>\u001b[0m in \u001b[0;36m<module>\u001b[0;34m()\u001b[0m\n\u001b[0;32m----> 1\u001b[0;31m \u001b[0masdgweag\u001b[0m\u001b[0;34m\u001b[0m\u001b[0m\n\u001b[0m",
      "\u001b[0;31mNameError\u001b[0m: name 'asdgweag' is not defined"
     ]
    }
   ],
   "source": [
    "asdgweag"
   ]
  },
  {
   "cell_type": "code",
   "execution_count": null,
   "metadata": {},
   "outputs": [],
   "source": [
    "# close the root file with all the histos\n",
    "RootFile.Close()"
   ]
  },
  {
   "cell_type": "markdown",
   "metadata": {},
   "source": [
    "# Now in cos(theta)"
   ]
  },
  {
   "cell_type": "code",
   "execution_count": null,
   "metadata": {},
   "outputs": [],
   "source": [
    "RootFile = ROOT.TFile(output_filedir+\"xsec_theta_wighted.root\",\"RECREATE\");"
   ]
  },
  {
   "cell_type": "code",
   "execution_count": null,
   "metadata": {},
   "outputs": [],
   "source": [
    "mom_bins = [ -1.00, -0.50, 0.00, 0.28, 0.47, 0.63, 0.765, 0.865, 0.935, 1.00 ]\n",
    "binnum = len(mom_bins) - 1\n",
    "h_xsec_mom = ROOT.TH1F('h_xsec_mom','h_xsec_mom',binnum,array('f',mom_bins))\n",
    "#np.save('/home/tmettler/Desktop/weighted/xsec_momentum_fakedata/Wes/theta_bins',mom_bins)\n"
   ]
  },
  {
   "cell_type": "code",
   "execution_count": null,
   "metadata": {},
   "outputs": [],
   "source": [
    "# initialte ROOT default canvas\n",
    "ROOT.gStyle.SetOptStat(0)\n",
    "c1 = ROOT.TCanvas(\"c1\",\"c1\",1600,1200)\n",
    "c1.SetGrid(1)\n",
    "c1.SetLeftMargin(0.14)\n",
    "c1.SetRightMargin(0.05)\n",
    "c1.SetBottomMargin(0.14)"
   ]
  },
  {
   "cell_type": "code",
   "execution_count": null,
   "metadata": {},
   "outputs": [],
   "source": [
    "xstart = 0\n",
    "xend = 2\n",
    "xbin = 100\n",
    "weight_name = 'EventWeight*TunedCentralValue_Genie'\n",
    "title = 'true moum theta efficiency'\n",
    "nenner_cut = 'numu_true'\n",
    "zahler_cut = 'fidVol && muon && crt_tom_cut && TrackScore>0.8\\\n",
    "                && TrackLength>20 && TrackPID_chiproton>78 && NuScore>0.1 && numu_signal'\n",
    "h_init_eff_energy = ROOT.TH1F(\"h_init_eff_energy\",title,binnum,array('f',mom_bins))\n",
    "h_init_eff_energy_1 = ROOT.TH1F(\"h_init_eff_energy_1\",title,binnum,array('f',mom_bins))\n",
    "#h_init_eff_energy = fill_histo(globale.overlay_out,'MCNu_Energy',h_init_eff_energy,zahler_cut)\n",
    "#h_init_eff_energy_1 = fill_histo(globale.overlay_out,'MCNu_Energy',h_init_eff_energy_1,nenner_cut)\n",
    "globale.overlay_out.Draw('cos(MCNu_leptonTheta)>>h_init_eff_energy',weight_name+'*('+zahler_cut+')')\n",
    "globale.overlay_out.Draw('cos(MCNu_leptonTheta)>>h_init_eff_energy_1',weight_name+'*('+nenner_cut+')')\n",
    "eff =  ROOT.TEfficiency(h_init_eff_energy,h_init_eff_energy_1)\n",
    "eff.SetStatisticOption(ROOT.TEfficiency.kFCP)#;  // to set option for errors (see ref doc)\n",
    "eff.SetConfidenceLevel(0.68)\n",
    "eff.SetTitle(title)\n",
    "eff.Draw(\"AP\")\n",
    "ROOT.gPad.Update()\n",
    "graph = eff.GetPaintedGraph()\n",
    "graph.SetMinimum(0)\n",
    "graph.SetMaximum(1)\n",
    "graph.SetLineWidth(2)\n",
    "graph.GetXaxis().SetTitle(\"Truth muon momentum [GeV]\")\n",
    "graph.GetYaxis().SetTitle(\"Signal efficiency\")\n",
    "graph.GetYaxis().SetTitleSize(0.05)\n",
    "graph.GetYaxis().SetTitleOffset(0.0)\n",
    "graph.GetYaxis().SetLabelSize(0.05)\n",
    "graph.GetXaxis().SetTitleSize(0.05)\n",
    "graph.GetXaxis().SetLabelSize(0.05)\n",
    "graph.GetXaxis().SetTitleOffset(1)\n",
    "graph.SetLineColor(ROOT.kBlack)\n",
    "graph.SetLineWidth(4)\n",
    "ROOT.gStyle.SetEndErrorSize(9)\n",
    "graph.Draw(\"AP\")\n",
    "prelim = draw_sim()\n",
    "prelim.Draw()\n",
    "c1.Draw()\n",
    "c1.SaveAs(globale.outputdir_png + \"h_eff_trueTheta.png\")\n",
    "c1.SaveAs(globale.outputdir_root + \"h_eff_trueTheta.root\")\n",
    "c1.SaveAs(globale.outputdir_pdf + \"h_eff_trueTheta.pdf\")\n",
    "\n",
    "eff.Write(\"h_eff_true\")\n",
    "true_eff_arr = np.zeros((binnum))\n",
    "h_eff_tmp = h_init_eff_energy.Clone()\n",
    "h_eff_tmp.Divide(h_init_eff_energy_1)\n",
    "for i in range(1,binnum+1):\n",
    "    true_eff_arr[i-1] = h_eff_tmp.GetBinContent(i)\n",
    "print true_eff_arr\n",
    "#np.save('/home/tmettler/Desktop/weighted/xsec_momentum_fakedata/Wes/true_efficiency_theta',true_eff_arr)"
   ]
  },
  {
   "cell_type": "code",
   "execution_count": null,
   "metadata": {},
   "outputs": [],
   "source": [
    "h_migration = ROOT.TH2F(\"h_migration\",'Truth vs. Reco',binnum,array('f',mom_bins),binnum,array('f',mom_bins))\n",
    "globale.overlay_out.Draw('cos(MCNu_leptonTheta):cos(TrackTheta)'+'>>h_migration',weight_name+'*('+cut+'&& numu_signal)','')\n",
    "h_migration.SetXTitle(\"reco Muon momentum MCS [GeV]\")\n",
    "h_migration.SetYTitle(\"true Muon momentum [GeV]\")\n",
    "h_migration.GetYaxis().SetTitleSize(0.05)\n",
    "h_migration.GetYaxis().SetTitleOffset(0.0)\n",
    "h_migration.GetYaxis().SetLabelSize(0.05)\n",
    "h_migration.GetXaxis().SetTitleSize(0.05)\n",
    "h_migration.GetXaxis().SetLabelSize(0.05)\n",
    "h_migration.GetXaxis().SetTitleOffset(1)\n",
    "h_migration.SetLineColor(ROOT.kBlack)\n",
    "h_migration.SetLineWidth(4)\n",
    "c1.SetRightMargin(0.12)\n",
    "ROOT.gStyle.SetPaintTextFormat(\"2.0f\");\n",
    "h_migration.Draw(\"colz\")\n",
    "h_migration.Draw(\"same text\")\n",
    "c1.SetGrid(0)\n",
    "prelim = draw_sim()\n",
    "prelim.Draw()\n",
    "c1.Draw()\n",
    "c1.SaveAs(globale.outputdir_root + \"h2_true_Theta_bin.root\")\n",
    "c1.SaveAs(globale.outputdir_png + \"h2_true_Theta_bin.png\")\n",
    "c1.SaveAs(globale.outputdir_pdf + \"h2_true_Theta_bin.pdf\")\n",
    "\n",
    "h_migration.Write(\"h2_true_theta_bin\")"
   ]
  },
  {
   "cell_type": "code",
   "execution_count": null,
   "metadata": {},
   "outputs": [],
   "source": [
    "reco_entries = [0.0, 0.0, 0.0, 0.0, 0.0, 0.0, 0.0, 0.0, 0.0]\n",
    "ROOT.gStyle.SetPaintTextFormat(\"2.3f\");\n",
    "mitigation_matrix = np.zeros((9,9))\n",
    "for j in range(1,binnum+1):\n",
    "    for i in range(1,binnum+1):\n",
    "        #print 'bin i,j: ', i,j,'Value: ',h_migration.GetBinContent(i,j)\n",
    "        reco_entries[j-1]+=h_migration.GetBinContent(i,j)\n",
    "h_mitigation_matrix = ROOT.TH2F(\"h_migration\",'Migration matrix',9,0,9,9,0,9)\n",
    "for j in range(1,binnum+1):\n",
    "    for i in range(1,binnum+1):\n",
    "        #print 'bin i,j: ', i,j,'Value: ',h_migration.GetBinContent(i,j)\n",
    "        mitigation_matrix[i-1,j-1]= h_migration.GetBinContent(i,j)/reco_entries[j-1]\n",
    "        h_mitigation_matrix.SetBinContent(i,j,mitigation_matrix[i-1,j-1])\n",
    "        #print i-1,j-1,mitigation_matrix[i-1,j-1]\n",
    "        #true_entries[j]+=h_migration.GetBinContent(i,j)\n",
    "#mitigation_matrix = mitigation_matrix.transpose()\n",
    "print mitigation_matrix\n",
    "#np.save(output_filedir+'migration_matrix_theta',mitigation_matrix)\n",
    "#np.save('/home/tmettler/Desktop/weighted/xsec_momentum_fakedata/Wes/migration_matrix_theta',mitigation_matrix)\n",
    "\n",
    "h_mitigation_matrix.SetXTitle(\"Reco bin i\")\n",
    "h_mitigation_matrix.SetYTitle(\"True bin j\")\n",
    "h_mitigation_matrix.Draw('colz')\n",
    "h_mitigation_matrix.Draw('same text')\n",
    "h_mitigation_matrix.GetYaxis().SetTitleSize(0.05)\n",
    "h_mitigation_matrix.GetYaxis().SetTitleOffset(0.0)\n",
    "h_mitigation_matrix.GetYaxis().SetLabelSize(0.05)\n",
    "h_mitigation_matrix.GetXaxis().SetTitleSize(0.05)\n",
    "h_mitigation_matrix.GetXaxis().SetLabelSize(0.05)\n",
    "h_mitigation_matrix.GetXaxis().SetTitleOffset(1)\n",
    "h_mitigation_matrix.SetLineColor(ROOT.kBlack)\n",
    "h_mitigation_matrix.SetLineWidth(4)\n",
    "c1.SetRightMargin(0.1)\n",
    "ROOT.gStyle.SetPaintTextFormat('0.3f')\n",
    "prelim = draw_sim()\n",
    "prelim.Draw()\n",
    "c1.SetGrid(1)\n",
    "c1.Draw()\n",
    "c1.SaveAs(globale.outputdir_png + \"h_mitigation_matrix_theta.png\")\n",
    "c1.SaveAs(globale.outputdir_root + \"h_mitigation_matrix_theta.root\")\n",
    "c1.SaveAs(globale.outputdir_pdf + \"h_mitigation_matrix_theta.pdf\")\n",
    "\n",
    "h_mitigation_matrix.Write(\"h_mitigation_matrix_theta\")"
   ]
  },
  {
   "cell_type": "code",
   "execution_count": null,
   "metadata": {},
   "outputs": [],
   "source": [
    "# Nselected and N generated\n",
    "title = 'MCS momentum efficiency'\n",
    "weight_name = 'EventWeight*TunedCentralValue_Genie'\n",
    "nenner_cut = 'numu_true'\n",
    "zahler_cut = 'fidVol && muon && crt_tom_cut && TrackScore>0.8\\\n",
    "                && TrackLength>20 && TrackPID_chiproton>78 && NuScore>0.1 && numu_signal'\n",
    "h_init_eff_energy = ROOT.TH1F(\"h_init_eff_energy\",title,binnum,array('f',mom_bins))\n",
    "h_init_eff_energy_1 = ROOT.TH1F(\"h_init_eff_energy_1\",title,binnum,array('f',mom_bins))\n",
    "globale.overlay_out.Draw('cos(MCNu_leptonTheta)>>h_init_eff_energy',weight_name+'*('+zahler_cut+')')\n",
    "globale.overlay_out.Draw('cos(MCNu_leptonTheta)>>h_init_eff_energy_1',weight_name+'*('+nenner_cut+')')\n",
    "h_init_eff_energy.Write(\"h_eff_true_theta_z\")\n",
    "h_init_eff_energy_1.Write(\"h_eff_true_theta_n\")"
   ]
  },
  {
   "cell_type": "code",
   "execution_count": null,
   "metadata": {},
   "outputs": [],
   "source": [
    "# e tilde\n",
    "N_sel = np.zeros((9))\n",
    "N_gen = np.zeros((9))\n",
    "for i in range(1,binnum+1):\n",
    "    N_sel[i-1] = h_init_eff_energy.GetBinContent(i)\n",
    "    N_gen[i-1] = h_init_eff_energy_1.GetBinContent(i)\n",
    "    print N_sel[i-1],N_gen[i-1],N_sel[i-1]/N_gen[i-1]\n",
    "eff_tilde = np.zeros((binnum))\n",
    "eff_tilde = mitigation_matrix.dot(N_sel)/(mitigation_matrix.dot(N_gen))\n",
    "print eff_tilde\n",
    "#np.save(outputdir+'eff_tilde_theta_xsec_CV',eff_tilde)\n",
    "#np.save('/home/tmettler/Desktop/weighted/xsec_momentum_fakedata/Wes/eff_tilde_theta',eff_tilde)\n"
   ]
  },
  {
   "cell_type": "code",
   "execution_count": null,
   "metadata": {},
   "outputs": [],
   "source": [
    "h_eff = h_init_eff_energy.Clone()\n",
    "h_eff.Divide(h_init_eff_energy_1)"
   ]
  },
  {
   "cell_type": "code",
   "execution_count": null,
   "metadata": {},
   "outputs": [],
   "source": [
    "h_eff_tilde = ROOT.TH1F(\"h_eff_tilde\",'Efficiency tilde',binnum,array('f',mom_bins))\n",
    "for i in range(1,binnum+1):\n",
    "    h_eff_tilde.SetBinContent(i,eff_tilde[i-1])\n",
    "    h_eff_tilde.SetBinError(i,h_eff.GetBinError(i))\n",
    "h_eff_tilde.SetMaximum(1)\n",
    "h_eff_tilde.SetMinimum(0)\n",
    "h_eff_tilde.SetLineWidth(3)\n",
    "\n",
    "h_eff_tilde.SetXTitle(\"Muon momentum [GeV]\")\n",
    "h_eff_tilde.SetYTitle(\"Signal efficiency\")\n",
    "h_eff_tilde.GetYaxis().SetTitleSize(0.05)\n",
    "h_eff_tilde.GetYaxis().SetTitleOffset(0.0)\n",
    "h_eff_tilde.GetYaxis().SetLabelSize(0.05)\n",
    "h_eff_tilde.GetXaxis().SetTitleSize(0.05)\n",
    "h_eff_tilde.GetXaxis().SetLabelSize(0.05)\n",
    "h_eff_tilde.GetXaxis().SetTitleOffset(1)\n",
    "h_eff_tilde.SetLineColor(ROOT.kBlack)\n",
    "h_eff_tilde.SetLineWidth(4)\n",
    "ROOT.gStyle.SetEndErrorSize(9)\n",
    "c1.SetRightMargin(0.05)\n",
    "\n",
    "h_eff_tilde.Draw('E1')\n",
    "prelim = draw_sim()\n",
    "prelim.Draw()\n",
    "c1.Draw()\n",
    "c1.SaveAs(globale.outputdir_png + \"h_eff_tilde_xsecTheta.png\")\n",
    "c1.SaveAs(globale.outputdir_root + \"h_eff_tilde_xsecTheta.root\")\n",
    "c1.SaveAs(globale.outputdir_pdf + \"h_eff_tilde_xsecTheta.pdf\")\n",
    "\n",
    "h_eff_tilde.Write(\"h_eff_tilde\")"
   ]
  },
  {
   "cell_type": "code",
   "execution_count": null,
   "metadata": {},
   "outputs": [],
   "source": [
    "weight_name = 'EventWeight*TunedCentralValue_Genie'\n",
    "variable = 'cos(TrackTheta)'\n",
    "cut = 'fidVol && muon && TrackLength>8 && crt_tom_cut && TrackScore>0.8\\\n",
    "                && TrackLength>20 && TrackPID_chiproton>78 && NuScore>0.1'\n",
    "\n",
    "h_data = ROOT.TH1F(\"h_data\",'h_data',binnum,array('f',mom_bins))\n",
    "#h_ext = ROOT.TH1F(\"h_ext\",'h_ext',binnum,array('f',mom_bins))\n",
    "#h_dirt = ROOT.TH1F(\"h_dirt\",'h_dirt',binnum,array('f',mom_bins))\n",
    "h_overlay = ROOT.TH1F(\"h_overlay\",'h_overlay',binnum,array('f',mom_bins))\n",
    "h_signal = ROOT.TH1F(\"h_signal\",'h_signal',binnum,array('f',mom_bins))\n",
    "\n",
    "#h_weight_func_n = ROOT.TH1F(\"h_weight_func_n\",'h_weight_func',binnum,array('f',mom_bins))\n",
    "\n",
    "globale.data_out.Draw(variable+'>>h_data','('+cut+')*('+weight_name_fake+')','')\n",
    "#globale.ext_out.Draw(variable+'>>h_ext',cut,'')\n",
    "#globale.dirt_out.Draw(variable+'>>h_dirt',weight_name+'*('+cut+')','')\n",
    "globale.overlay_out.Draw(variable+'>>h_overlay',weight_name+'*('+cut+'&& !numu_signal)','')\n",
    "globale.overlay_out.Draw(variable+'>>h_signal',weight_name+'*('+cut+'&& numu_signal)','')\n",
    "\n",
    "h_true = ROOT.TH1F(\"h_true\",'h_true',binnum,array('f',mom_bins))\n",
    "globale.overlay_out.Draw(variable+'>>h_true',weight_name+'*(numu_true)','')"
   ]
  },
  {
   "cell_type": "code",
   "execution_count": null,
   "metadata": {},
   "outputs": [],
   "source": [
    "h_data.Sumw2()\n",
    "#h_ext.Sumw2()\n",
    "#h_dirt.Sumw2()\n",
    "h_overlay.Sumw2()\n",
    "h_data.Scale(globale.scale[globale.data])\n",
    "#h_ext.Scale(globale.scale[globale.ext])\n",
    "#h_dirt.Scale(globale.scale[globale.dirt])\n",
    "h_overlay.Scale(globale.scale[globale.overlay])\n",
    "\n",
    "h_data.Write(\"h_data\")\n",
    "#h_ext.Write(\"h_ext\")\n",
    "#h_dirt.Write(\"h_dirt\")\n",
    "h_overlay.Write(\"h_overlay\")"
   ]
  },
  {
   "cell_type": "code",
   "execution_count": null,
   "metadata": {},
   "outputs": [],
   "source": [
    "print h_overlay.GetSumOfWeights()\n",
    "#h_data.Add(h_ext,-1)\n",
    "#h_data.Add(h_dirt,-1)\n",
    "h_data.Add(h_overlay,-1)\n",
    "print h_data.GetSumOfWeights()"
   ]
  },
  {
   "cell_type": "code",
   "execution_count": null,
   "metadata": {},
   "outputs": [],
   "source": [
    "h_overlay_sig = ROOT.TH1F(\"h_overlay_sig\",'h_overlay',binnum,array('f',mom_bins))\n",
    "globale.overlay_out.Draw(variable+'>>h_overlay_sig',weight_name+'*('+cut+'&& numu_signal)','')\n",
    "h_overlay_sig.Scale(globale.scale[globale.overlay])\n",
    "\n",
    "h_true = ROOT.TH1F(\"h_true\",'h_true',binnum,array('f',mom_bins))\n",
    "globale.data_out.Draw('cos(MCNu_leptonTheta)'+'>>h_true',weight_name_fake+'*(numu_true)','')\n",
    "h_true.Scale(globale.scale[globale.data])\n",
    "h_true.SetLineColor(ROOT.kOrange)\n",
    "h_true.SetLineWidth(4)"
   ]
  },
  {
   "cell_type": "code",
   "execution_count": null,
   "metadata": {},
   "outputs": [],
   "source": [
    "print weight_name_fake"
   ]
  },
  {
   "cell_type": "code",
   "execution_count": null,
   "metadata": {},
   "outputs": [],
   "source": [
    "h_true_smeare = h_true.Clone()\n",
    "true_bins = np.zeros((binnum))\n",
    "for i in range(1,binnum+1):\n",
    "    true_bins[i-1] = h_true.GetBinContent(i)\n",
    "    \n",
    "true_bins_smeared = np.zeros((binnum))\n",
    "true_bins_smeared = mitigation_matrix.dot(true_bins)\n",
    "\n",
    "for i in range(1,binnum+1):\n",
    "    h_true_smeare.SetBinContent(i,true_bins_smeared[i-1])\n",
    "    print true_bins_smeared[i-1]\n",
    "h_true_smeare.SetLineColor(ROOT.kGreen)\n",
    "h_true_smeare.SetLineWidth(4)"
   ]
  },
  {
   "cell_type": "code",
   "execution_count": null,
   "metadata": {},
   "outputs": [],
   "source": [
    "h_data.Divide(h_eff_tilde)\n",
    "h_data.Scale(1.0/(N_tot*beam_flux*1e-38))\n",
    "\n",
    "h_overlay_sig.Divide(h_eff_tilde)\n",
    "h_overlay_sig.Scale(1.0/(N_tot*beam_flux*1e-38))\n",
    "\n",
    "h_true.Scale(1.0/(N_tot*beam_flux*1e-38))\n",
    "h_true_smeare.Scale(1.0/(N_tot*beam_flux*1e-38))"
   ]
  },
  {
   "cell_type": "code",
   "execution_count": null,
   "metadata": {},
   "outputs": [],
   "source": [
    "for i in range(1,binnum+1):\n",
    "    h_data.SetBinContent(i,h_data.GetBinContent(i)/h_data.GetBinWidth(i))\n",
    "    h_overlay_sig.SetBinContent(i,h_overlay_sig.GetBinContent(i)/h_overlay_sig.GetBinWidth(i))\n",
    "    h_data.SetBinError(i,h_data.GetBinError(i)/h_data.GetBinWidth(i))\n",
    "    h_overlay_sig.SetBinError(i,h_overlay_sig.GetBinError(i)/h_overlay_sig.GetBinWidth(i))\n",
    "    h_true.SetBinContent(i,h_true.GetBinContent(i)/h_true.GetBinWidth(i))\n",
    "    h_true.SetBinError(i,h_true.GetBinError(i)/h_true.GetBinWidth(i))\n",
    "    h_true_smeare.SetBinContent(i,h_true_smeare.GetBinContent(i)/h_true_smeare.GetBinWidth(i))\n",
    "    h_true_smeare.SetBinError(i,h_true_smeare.GetBinError(i)/h_true_smeare.GetBinWidth(i))\n",
    "\n",
    "    print h_true_smeare.GetBinContent(i)/h_true_smeare.GetBinWidth(i)"
   ]
  },
  {
   "cell_type": "code",
   "execution_count": null,
   "metadata": {},
   "outputs": [],
   "source": [
    "#legend = ROOT.TLegend(0.6,0.65,0.9,0.9)\n",
    "legend = ROOT.TLegend(0.15,0.65,0.45,0.9)\n",
    "\n",
    "c1 = ROOT.TCanvas(\"c1\",\"c1\",1600,1200)\n",
    "c1.SetGrid(1)\n",
    "c1.SetLeftMargin(0.14)\n",
    "c1.SetRightMargin(0.1)\n",
    "c1.SetBottomMargin(0.1)\n",
    "#c1.SetFillStyle(4000);\n",
    "# first pad\n",
    "c1.cd()\n",
    "pad1 = ROOT.TPad('pad1','pad1',0,0.35,1,1)\n",
    "pad1.SetGrid(1)\n",
    "pad1.Draw()\n",
    "pad1.cd()\n",
    "pad1.SetBottomMargin(0.03);\n",
    "pad1.SetTopMargin(0.1)\n",
    "\n",
    "h_overlay_sig.SetLineColor(2)\n",
    "legend.AddEntry(h_data,'fake data',\"lep\");\n",
    "legend.AddEntry(h_overlay_sig,'MC reco',\"f\");\n",
    "#legend.AddEntry(h_true,'fake MC true',\"f\");\n",
    "legend.AddEntry(h_true_smeare,'fake MC true',\"f\");\n",
    "\n",
    "h_data.SetYTitle(\"d\\sigma / dcos(\\Theta_{\\mu}) \\t [10^{-38} cm^{2}]\")\n",
    "h_data.SetXTitle(\"cos(\\Theta_{\\mu})\")\n",
    "h_data.SetLineWidth(3)\n",
    "h_data.SetMaximum(2.6)\n",
    "\n",
    "h_data.GetYaxis().SetTitleSize(0.05)\n",
    "h_data.GetYaxis().SetTitleOffset(0.0)\n",
    "h_data.GetYaxis().SetLabelSize(0.05)\n",
    "h_data.GetXaxis().SetTitleSize(0.05)\n",
    "h_data.GetXaxis().SetLabelSize(0.05)\n",
    "h_data.GetXaxis().SetTitleOffset(1)\n",
    "h_data.SetLineColor(ROOT.kBlack)\n",
    "h_data.SetLineWidth(4)\n",
    "ROOT.gStyle.SetEndErrorSize(5)\n",
    "c1.SetRightMargin(0.05)\n",
    "\n",
    "h_data.GetXaxis().SetLabelOffset(999);\n",
    "h_data.GetXaxis().SetTitleOffset(999);\n",
    "h_data.GetXaxis().SetLabelSize(0);\n",
    "h_data.GetXaxis().SetTitleSize(0);\n",
    "\n",
    "h_data.Draw('E1')\n",
    "h_overlay_sig.SetFillColor(0)\n",
    "h_overlay_sig.SetLineWidth(4)\n",
    "#h_overlay_sig.Draw('hist same')\n",
    "h_overlay_sig.DrawCopy('Hist same')\n",
    "h_overlay_sig.SetFillColor(2)\n",
    "h_overlay_sig.SetFillStyle(3001)\n",
    "h_overlay_sig.Draw('E2 same')\n",
    "h_true.Draw('hist same')\n",
    "h_true_smeare.Draw('hist same')\n",
    "legend.Draw()\n",
    "prelim, pot_tex = draw_adding()\n",
    "prelim.Draw()\n",
    "pot_tex.Draw()\n",
    "\n",
    "c1.cd()\n",
    "h_data.GetXaxis().SetLabelOffset(0);\n",
    "h_data.GetXaxis().SetTitleOffset(0);\n",
    "\n",
    "pad2 = ROOT.TPad('pad2','pad2',0,0,1,0.35)\n",
    "pad2.SetGrid(1)\n",
    "pad2.SetTopMargin(0.04)\n",
    "pad2.SetBottomMargin(0.4)\n",
    "pad2.Draw()\n",
    "pad2.cd()\n",
    "\n",
    "h_overlay_sig_ratio = h_overlay_sig.Clone()\n",
    "h_overlay_sig_ratio.Divide(h_true_smeare)\n",
    "h_overlay_true_ratio = h_true.Clone()\n",
    "h_overlay_true_ratio.Divide(h_true_smeare)\n",
    "h_overlay_data_ratio = h_data.Clone()\n",
    "h_overlay_data_ratio.Divide(h_true_smeare)\n",
    "h_overlay_true_smeare_ratio = h_true_smeare.Clone()\n",
    "h_overlay_true_smeare_ratio.Divide(h_true_smeare)\n",
    "\n",
    "#h_overlay_data_ratio.SetMinimum(h_overlay_data_ratio.GetMinimum())\n",
    "#h_overlay_data_ratio.SetMaximum(h_overlay_data_ratio.GetMaximum())\n",
    "h_overlay_data_ratio.SetMaximum(-1111)\n",
    "h_overlay_data_ratio.SetMinimum(-1111)\n",
    "h_overlay_sig_ratio.SetFillColor(0)\n",
    "h_overlay_data_ratio.SetYTitle('Data/(Ext+MC)')\n",
    "h_overlay_data_ratio.GetYaxis().SetTitleSize(0.1)\n",
    "h_overlay_data_ratio.GetYaxis().SetTitleOffset(0.3)\n",
    "h_overlay_data_ratio.GetYaxis().SetLabelSize(0.07)\n",
    "h_overlay_data_ratio.GetXaxis().SetTitleSize(0.15)\n",
    "h_overlay_data_ratio.GetXaxis().SetLabelSize(0.15)\n",
    "h_overlay_data_ratio.GetXaxis().SetTitleOffset(1)\n",
    "\n",
    "h_overlay_data_ratio.Draw('E1')\n",
    "#h_overlay_true_ratio.Draw('hist same')\n",
    "h_overlay_sig_ratio.Draw('same hist')\n",
    "h_overlay_true_smeare_ratio.Draw('same hist')\n",
    "h_overlay_data_ratio.Draw('E1 same')\n",
    "\n",
    "\n",
    "c1.Draw()\n",
    "c1.SaveAs(globale.outputdir_png + \"h_xsec_corr_theta_ratio.png\")\n",
    "c1.SaveAs(globale.outputdir_root + \"h_xsec_corr_theta_ratio.root\")\n",
    "c1.SaveAs(globale.outputdir_pdf + \"h_xsec_corr_theta_ratio.pdf\")\n",
    "\n",
    "h_data.Write(\"h_xsec_data\")\n",
    "h_overlay_sig.Write(\"h_xsec_MC\")"
   ]
  },
  {
   "cell_type": "code",
   "execution_count": null,
   "metadata": {},
   "outputs": [],
   "source": [
    "# initialte ROOT default canvas\n",
    "ROOT.gStyle.SetOptStat(0)\n",
    "c1 = ROOT.TCanvas(\"c1\",\"c1\",1600,1200)\n",
    "c1.SetGrid(1)\n",
    "c1.SetLeftMargin(0.14)\n",
    "c1.SetRightMargin(0.05)\n",
    "c1.SetBottomMargin(0.14)"
   ]
  },
  {
   "cell_type": "code",
   "execution_count": null,
   "metadata": {},
   "outputs": [],
   "source": [
    "#dfgsdg"
   ]
  },
  {
   "cell_type": "code",
   "execution_count": null,
   "metadata": {},
   "outputs": [],
   "source": [
    "# close the root file with all the histos\n",
    "RootFile.Close()"
   ]
  },
  {
   "cell_type": "code",
   "execution_count": null,
   "metadata": {},
   "outputs": [],
   "source": []
  },
  {
   "cell_type": "code",
   "execution_count": null,
   "metadata": {},
   "outputs": [],
   "source": []
  },
  {
   "cell_type": "code",
   "execution_count": null,
   "metadata": {},
   "outputs": [],
   "source": []
  },
  {
   "cell_type": "code",
   "execution_count": null,
   "metadata": {},
   "outputs": [],
   "source": []
  },
  {
   "cell_type": "code",
   "execution_count": null,
   "metadata": {},
   "outputs": [],
   "source": []
  }
 ],
 "metadata": {
  "kernelspec": {
   "display_name": "Python 3",
   "language": "python",
   "name": "python3"
  },
  "language_info": {
   "codemirror_mode": {
    "name": "ipython",
    "version": 2
   },
   "file_extension": ".py",
   "mimetype": "text/x-python",
   "name": "python",
   "nbconvert_exporter": "python",
   "pygments_lexer": "ipython2",
   "version": "2.7.12"
  }
 },
 "nbformat": 4,
 "nbformat_minor": 2
}
