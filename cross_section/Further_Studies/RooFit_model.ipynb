{
 "cells": [
  {
   "cell_type": "code",
   "execution_count": 1,
   "metadata": {},
   "outputs": [
    {
     "name": "stdout",
     "output_type": "stream",
     "text": [
      "Welcome to JupyROOT 6.18/04\n"
     ]
    }
   ],
   "source": [
    "from __future__ import division\n",
    "import imp\n",
    "import uproot\n",
    "import matplotlib\n",
    "#matplotlib.use('agg')\n",
    "import matplotlib.pyplot as plt\n",
    "import matplotlib.image as mpimg\n",
    "import numpy as np\n",
    "import pandas as pd\n",
    "import os\n",
    "import ROOT\n",
    "import time\n",
    "import math\n",
    "from array import array\n",
    "import collections"
   ]
  },
  {
   "cell_type": "code",
   "execution_count": 2,
   "metadata": {},
   "outputs": [],
   "source": [
    "#!jupyter nbconvert --to script RooFit_model.ipynb"
   ]
  },
  {
   "cell_type": "code",
   "execution_count": 3,
   "metadata": {},
   "outputs": [],
   "source": [
    "def draw_adding():\n",
    "    prelim = ROOT.TLatex(0.9,0.93, \"MicroBooNE Preliminary\");\n",
    "    prelim.SetTextFont(62);\n",
    "    prelim.SetTextColor(ROOT.kGray+2);\n",
    "    prelim.SetNDC();\n",
    "    prelim.SetTextSize(1/25.);\n",
    "    prelim.SetTextAlign(32);\n",
    "    #prelim.SetTextSize(0.04631579);\n",
    "    prelim.Draw()\n",
    "\n",
    "    pot_latex = ROOT.TLatex(.10, .92,'Accumulated POT: '+str(pot_data)) \n",
    "    pot_latex.SetTextFont(62);\n",
    "    pot_latex.SetTextColor(ROOT.kGray+2);\n",
    "    pot_latex.SetNDC();\n",
    "    pot_latex.SetTextSize(1/25.);\n",
    "    pot_latex.SetTextAlign(10) #;//left adjusted\n",
    "    pot_latex.Draw();\n",
    "    \n",
    "    return prelim, pot_latex\n",
    "\n",
    "def draw_sim():\n",
    "    prelim = ROOT.TLatex(0.9,0.93, \"MicroBooNE Simulation Preliminary\");\n",
    "    prelim.SetTextFont(62);\n",
    "    prelim.SetTextColor(ROOT.kGray+2);\n",
    "    prelim.SetNDC();\n",
    "    prelim.SetTextSize(1/20.);\n",
    "    prelim.SetTextAlign(32);\n",
    "    #prelim.SetTextSize(0.04631579);\n",
    "    prelim.Draw()\n",
    "    \n",
    "    return prelim"
   ]
  },
  {
   "cell_type": "code",
   "execution_count": 4,
   "metadata": {},
   "outputs": [],
   "source": [
    "from array import array\n",
    "mom_bins = [ 0.00, 0.18, 0.30, 0.45, 0.77, 1.28, 2.50 ]\n",
    "binnum = len(mom_bins) - 1\n",
    "h_xsec_mom = ROOT.TH1F('h_xsec_mom','h_xsec_mom',binnum,array('f',mom_bins))"
   ]
  },
  {
   "cell_type": "code",
   "execution_count": 5,
   "metadata": {},
   "outputs": [],
   "source": [
    "# calculate total flux integrated cross section:\n",
    "cut = 'fidVol && muon && TrackLength>8 && crt_tom_cut && TrackScore>0.8\\\n",
    "                && TrackLength>20 && TrackPID_chiproton>78 && NuScore>0.1' #\\\n",
    "                #&& MCle_Energy>0 && MCle_Energy<2.5 && TrackMomMCS_mom>0 && TrackMomMCS_mom<2.5'\n"
   ]
  },
  {
   "cell_type": "code",
   "execution_count": 6,
   "metadata": {},
   "outputs": [],
   "source": [
    "# initialte ROOT default canvas\n",
    "ROOT.gStyle.SetOptStat(0)\n",
    "c1 = ROOT.TCanvas(\"c1\",\"c1\",1600,1200)\n",
    "c1.SetGrid(1)\n",
    "c1.SetLeftMargin(0.14)\n",
    "c1.SetRightMargin(0.05)\n",
    "c1.SetBottomMargin(0.14)"
   ]
  },
  {
   "cell_type": "code",
   "execution_count": 7,
   "metadata": {},
   "outputs": [],
   "source": [
    "#load data\n",
    "inputdir = '/home/tmettler/Desktop/ub_data/mcc9.1/v08_00_00_33/V08_00_00_35/fitting/tutorial/RooFit-tutorial/hists/'\n",
    "f_mom = ROOT.TFile.Open(inputdir+\"xsec_histos.root\", 'read')\n",
    "\n",
    "h_true = f_mom.Get('mom_truth_sig')\n",
    "h_temp = []\n",
    "for i in range(binnum):\n",
    "    h_temp.append(f_mom.Get('mom_reco_'+str(i)))\n",
    "h_data = f_mom.Get('data_reco')\n",
    "h_background = f_mom.Get('mom_truth_sig')\n",
    "h_signal = f_mom.Get('mom_bkg_reco')\n",
    "\n",
    "#h_true.Draw()\n",
    "#c1.Draw()"
   ]
  },
  {
   "cell_type": "markdown",
   "metadata": {},
   "source": [
    "# start fitting using RooFit and HistFactory class"
   ]
  },
  {
   "cell_type": "code",
   "execution_count": 8,
   "metadata": {},
   "outputs": [
    {
     "name": "stdout",
     "output_type": "stream",
     "text": [
      "\n",
      "\u001b[1mRooFit v3.60 -- Developed by Wouter Verkerke and David Kirkby\u001b[0m \n",
      "                Copyright (C) 2000-2013 NIKHEF, University of California & Stanford University\n",
      "                All rights reserved, please read http://roofit.sourceforge.net/license.txt\n",
      "\n"
     ]
    }
   ],
   "source": [
    "#create the histfactory model\n",
    "outputdir = '/home/tmettler/Desktop/v08_00_00_33/V08_00_00_35/weighted/xsec_momentum_rooFit/' \n",
    "\n",
    "meas = ROOT.RooStats.HistFactory.Measurement(\"ProfiledUnfolding\", \"ProfiledUnfolding\"); \n",
    "meas.SetOutputFilePrefix(outputdir+\"workspaces/ProfiledUnfolding/tut\");\n",
    "try:\n",
    "    os.stat(outputdir+\"workspaces/ProfiledUnfolding/\")\n",
    "except:\n",
    "    os.mkdir(outputdir+\"workspaces/ProfiledUnfolding/\")\n",
    "meas.SetExportOnly(1);\n",
    "\n",
    "# NOT SURE ABOUT THIS: This scales the histogram content, which already includes lumi, so set to 1\n",
    "meas.SetLumi(1.00);\n",
    "meas.SetLumiRelErr(0.0002);"
   ]
  },
  {
   "cell_type": "code",
   "execution_count": 9,
   "metadata": {},
   "outputs": [],
   "source": [
    "#CHECK WHATS THIS: create the SR\n",
    "chan_ee = ROOT.RooStats.HistFactory.Channel(\"mom\");\n",
    "chan_ee.SetData(h_data);"
   ]
  },
  {
   "cell_type": "code",
   "execution_count": 10,
   "metadata": {},
   "outputs": [],
   "source": [
    "for i in range(binnum):\n",
    "    mom_XS = ROOT.RooStats.HistFactory.NormFactor()\n",
    "    mom_XS.SetName(ROOT.Form('Normalization_mom_'+str(i)));\n",
    "    mom_XS.SetHigh(h_true.GetBinContent(i+1)*50000) # maximum value it can take\n",
    "    mom_XS.SetLow(0) # minimum value it can take\n",
    "    mom_XS.SetVal(h_true.GetBinContent(i+1)) #;//*rndm.Gaus(1,0.05)); // nominal value (randomize the initial value a bit)\n",
    "    meas.AddPOI(ROOT.Form('Normalization_mom_'+str(i)))\n",
    "    \n",
    "    # add the signal samples\n",
    "    sample = ROOT.RooStats.HistFactory.Sample(ROOT.Form('mom_acceptance_template_'+str(i)))\n",
    "    sample.SetNormalizeByTheory(False)\n",
    "    sample.SetHisto(h_temp[i])\n",
    "    sample.AddNormFactor(mom_XS)\n",
    "    chan_ee.AddSample(sample)"
   ]
  },
  {
   "cell_type": "code",
   "execution_count": 11,
   "metadata": {},
   "outputs": [],
   "source": [
    "sample_nonFid = ROOT.RooStats.HistFactory.Sample(\"ZnonFid\");\n",
    "sample_nonFid.SetHisto(h_background);\n",
    "chan_ee.AddSample(sample_nonFid);"
   ]
  },
  {
   "cell_type": "code",
   "execution_count": null,
   "metadata": {},
   "outputs": [],
   "source": [
    "# add the single region to the measurement\n",
    "meas.AddChannel(chan_ee)\n",
    "\n",
    "# make the workspace\n",
    "ROOT.RooStats.HistFactory.MakeModelAndMeasurementFast(meas)"
   ]
  },
  {
   "cell_type": "code",
   "execution_count": null,
   "metadata": {},
   "outputs": [],
   "source": [
    "print 'done'"
   ]
  },
  {
   "cell_type": "code",
   "execution_count": null,
   "metadata": {},
   "outputs": [],
   "source": []
  },
  {
   "cell_type": "code",
   "execution_count": null,
   "metadata": {},
   "outputs": [],
   "source": []
  },
  {
   "cell_type": "code",
   "execution_count": null,
   "metadata": {},
   "outputs": [],
   "source": []
  }
 ],
 "metadata": {
  "kernelspec": {
   "display_name": "Python 3",
   "language": "python",
   "name": "python3"
  },
  "language_info": {
   "codemirror_mode": {
    "name": "ipython",
    "version": 2
   },
   "file_extension": ".py",
   "mimetype": "text/x-python",
   "name": "python",
   "nbconvert_exporter": "python",
   "pygments_lexer": "ipython2",
   "version": "2.7.12"
  }
 },
 "nbformat": 4,
 "nbformat_minor": 2
}
