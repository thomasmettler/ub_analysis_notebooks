{
 "cells": [
  {
   "cell_type": "code",
   "execution_count": 2,
   "metadata": {},
   "outputs": [
    {
     "name": "stdout",
     "output_type": "stream",
     "text": [
      "Welcome to JupyROOT 6.10/08\n"
     ]
    }
   ],
   "source": [
    "from __future__ import division\n",
    "import imp\n",
    "import uproot\n",
    "import matplotlib\n",
    "#matplotlib.use('agg')\n",
    "import matplotlib.pyplot as plt\n",
    "import matplotlib.image as mpimg\n",
    "import numpy as np\n",
    "import pandas as pd\n",
    "import os\n",
    "import ROOT\n",
    "import time\n",
    "import math\n",
    "from array import array\n",
    "import collections\n",
    "\n",
    "inputdir = '/home/tmettler/Desktop/v08_00_00_33/V08_00_00_35/weighted/'\n",
    "outputdir = inputdir+'xsec_wo_dirt/' \n",
    "output_filedir = outputdir\n",
    "input_filedir = '/home/tmettler/Desktop/v08_00_00_33/V08_00_00_35/weighted/'\n",
    "lib_function_dir = '/home/tmettler/Desktop/uBoone/do_plots/'\n",
    "\n",
    "plot_systematic = 0\n",
    "\n",
    "# helper functions\n",
    "globale = imp.load_source('globale',lib_function_dir+'globale.py')\n",
    "NuCC = imp.load_source('NuCC_function',lib_function_dir+'NuCC_function.py')\n",
    "NuCC_w = imp.load_source('NuCCWeight_function',lib_function_dir+'NuCCWeight_function.py')"
   ]
  },
  {
   "cell_type": "code",
   "execution_count": 3,
   "metadata": {},
   "outputs": [
    {
     "name": "stderr",
     "output_type": "stream",
     "text": [
      "Warning in <TCanvas::Constructor>: Deleting canvas with same name: c1\n"
     ]
    }
   ],
   "source": [
    "# initialte ROOT default canvas\n",
    "ROOT.gROOT.SetBatch(ROOT.kTRUE)\n",
    "ROOT.gStyle.SetOptStat(0)\n",
    "ROOT.gStyle.SetOptTitle(0)\n",
    "c1 = ROOT.TCanvas(\"c1\",\"c1\",1600,1200)\n",
    "c1.SetGrid(1)\n",
    "c1.SetLeftMargin(0.14)\n",
    "c1.SetRightMargin(0.18)\n",
    "c1.SetBottomMargin(0.14)"
   ]
  },
  {
   "cell_type": "code",
   "execution_count": 4,
   "metadata": {},
   "outputs": [],
   "source": [
    "# Load input files\n",
    "#inputdir = '/home/thomasm/numuCC/V33/10kevents/'\n",
    "outputdir_png, outputdir_root,outputdir_pdf = NuCC.prepareOutput2(outputdir)\n",
    "try:\n",
    "    os.stat(output_filedir)\n",
    "except:\n",
    "    os.mkdir(output_filedir)\n",
    "RootFile = ROOT.TFile(output_filedir+\"dirt_covariance.root\",\"RECREATE\");\n"
   ]
  },
  {
   "cell_type": "code",
   "execution_count": 8,
   "metadata": {},
   "outputs": [],
   "source": [
    "f_mom = ROOT.TFile.Open(outputdir+\"xsec_momentum_wighted.root\", 'read')\n",
    "h_xsec = f_mom.Get('h_xsec_data')\n",
    "f_cv = ROOT.TFile.Open(inputdir+\"xsec_filesV4/xsec_momentum_wighted.root\", 'read')\n",
    "h_xsec_cv = f_cv.Get('h_xsec_data')\n",
    "\n",
    "num_bins = h_xsec_cv.GetNbinsX()\n",
    "\n",
    "xsec_cov_matrix = np.zeros((num_bins,num_bins))\n",
    "xsec_diff_matrix = np.zeros((num_bins))\n",
    "\n",
    "for b in range(num_bins):\n",
    "    xsec_diff_matrix[b]= (h_xsec.GetBinContent(b+1)-h_xsec_cv.GetBinContent(b+1) )/(h_xsec_cv.GetBinContent(b+1) + 1e-100)\n",
    "#print np.matmul(xsec_diff_matrix,np.transpose(xsec_diff_matrix))\n",
    "xsec_cov_matrix = xsec_cov_matrix + xsec_diff_matrix.reshape(num_bins,1) * xsec_diff_matrix\n",
    "np.save(output_filedir+'frac_covariance_detsys',xsec_cov_matrix)"
   ]
  },
  {
   "cell_type": "code",
   "execution_count": null,
   "metadata": {},
   "outputs": [],
   "source": [
    "RootFile = ROOT.TFile(output_filedir+\"dirt_covariance.root\",\"RECREATE\");\n"
   ]
  },
  {
   "cell_type": "code",
   "execution_count": 9,
   "metadata": {},
   "outputs": [
    {
     "ename": "NameError",
     "evalue": "name 'draw_sim' is not defined",
     "output_type": "error",
     "traceback": [
      "\u001b[0;31m\u001b[0m",
      "\u001b[0;31mNameError\u001b[0mTraceback (most recent call last)",
      "\u001b[0;32m<ipython-input-9-da919539a2a5>\u001b[0m in \u001b[0;36m<module>\u001b[0;34m()\u001b[0m\n\u001b[1;32m     20\u001b[0m \u001b[0mc1\u001b[0m\u001b[0;34m.\u001b[0m\u001b[0mSetLogz\u001b[0m\u001b[0;34m(\u001b[0m\u001b[0;36m0\u001b[0m\u001b[0;34m)\u001b[0m\u001b[0;34m\u001b[0m\u001b[0m\n\u001b[1;32m     21\u001b[0m \u001b[0mh_covariance\u001b[0m\u001b[0;34m.\u001b[0m\u001b[0mDraw\u001b[0m\u001b[0;34m(\u001b[0m\u001b[0;34m'same text'\u001b[0m\u001b[0;34m)\u001b[0m\u001b[0;34m\u001b[0m\u001b[0m\n\u001b[0;32m---> 22\u001b[0;31m \u001b[0mprelim\u001b[0m \u001b[0;34m=\u001b[0m \u001b[0mdraw_sim\u001b[0m\u001b[0;34m(\u001b[0m\u001b[0;34m)\u001b[0m\u001b[0;34m\u001b[0m\u001b[0m\n\u001b[0m\u001b[1;32m     23\u001b[0m \u001b[0mprelim\u001b[0m\u001b[0;34m.\u001b[0m\u001b[0mDraw\u001b[0m\u001b[0;34m(\u001b[0m\u001b[0;34m)\u001b[0m\u001b[0;34m\u001b[0m\u001b[0m\n\u001b[1;32m     24\u001b[0m \u001b[0mc1\u001b[0m\u001b[0;34m.\u001b[0m\u001b[0mDraw\u001b[0m\u001b[0;34m(\u001b[0m\u001b[0;34m)\u001b[0m\u001b[0;34m\u001b[0m\u001b[0m\n",
      "\u001b[0;31mNameError\u001b[0m: name 'draw_sim' is not defined"
     ]
    }
   ],
   "source": [
    "ROOT.gStyle.SetPaintTextFormat('0.6f')\n",
    "h_covariance = ROOT.TH2F(\"h_covariance\",'Covariance matrix',6,0,6,6,0,6)\n",
    "for i in range(num_bins):\n",
    "    for j in range(num_bins):\n",
    "        h_covariance.SetBinContent(i+1,j+1,xsec_cov_matrix[i,j])\n",
    "h_covariance.SetXTitle(\"Reco bin i\")\n",
    "h_covariance.SetYTitle(\"Reco bin j\")\n",
    "h_covariance.GetYaxis().SetTitleSize(0.05)\n",
    "h_covariance.GetYaxis().SetTitleOffset(0.0)\n",
    "h_covariance.GetYaxis().SetLabelSize(0.05)\n",
    "h_covariance.GetXaxis().SetTitleSize(0.05)\n",
    "h_covariance.GetXaxis().SetLabelSize(0.05)\n",
    "h_covariance.GetXaxis().SetTitleOffset(1)\n",
    "h_covariance.SetLineColor(ROOT.kBlack)\n",
    "h_covariance.SetLineWidth(4)\n",
    "ROOT.gStyle.SetEndErrorSize(5)\n",
    "c1.SetRightMargin(0.1)\n",
    "ROOT.gStyle.SetPaintTextFormat('0.3f')\n",
    "h_covariance.Draw('colz')\n",
    "c1.SetLogz(0)\n",
    "h_covariance.Draw('same text')\n",
    "prelim = draw_sim()\n",
    "prelim.Draw()\n",
    "c1.Draw()\n",
    "c1.SaveAs(outputdir_png + \"h_frac_covariance_detsys.png\")\n",
    "c1.SaveAs(outputdir_root + \"h_frac_covariance_detsys.root\")\n",
    "c1.SaveAs(outputdir_pdf + \"h_frac_covariance_detsys.pdf\")\n",
    "h_covariance.Write('h_frac_covariance')"
   ]
  },
  {
   "cell_type": "code",
   "execution_count": null,
   "metadata": {},
   "outputs": [],
   "source": [
    "legend = ROOT.TLegend(0.65,0.55,0.9,0.9); #LEGEND RIGHT\n",
    "xsec_diff_matrix = np.zeros((num_bins))\n",
    "xsec_cov_matrix = np.zeros((num_bins,num_bins))\n",
    "for b in range(num_bins):\n",
    "    xsec_diff_matrix[b]= (h_xsec.GetBinContent(b+1)-h_xsec_cv.GetBinContent(b+1) )\n",
    "xsec_cov_matrix = xsec_cov_matrix + xsec_diff_matrix.reshape(num_bins,1) * xsec_diff_matrix\n",
    "\n",
    "xsec_corr_matrix = np.zeros((num_bins,num_bins))\n",
    "for i in range(num_bins):\n",
    "    for j in range(num_bins):\n",
    "        xsec_corr_matrix[i][j] = xsec_cov_matrix[i][j]/(math.sqrt(xsec_cov_matrix[i][i]*xsec_cov_matrix[j][j]))\n",
    "\n",
    "np.save(output_filedir+'correlation_detsys',xsec_corr_matrix)\n",
    "np.save(output_filedir+'covariance_detsys',xsec_cov_matrix)"
   ]
  },
  {
   "cell_type": "code",
   "execution_count": null,
   "metadata": {},
   "outputs": [],
   "source": [
    "ROOT.gStyle.SetPaintTextFormat('0.6g')\n",
    "h_covariance = ROOT.TH2D(\"h_covariance\",'Covariance matrix',6,0,6,6,0,6)\n",
    "for i in range(num_bins):\n",
    "    for j in range(num_bins):\n",
    "        h_covariance.SetBinContent(i+1,j+1,xsec_cov_matrix[i,j])\n",
    "#h_covariance.SetXTitle(\"Reco bin i, 7=overflow\")\n",
    "#h_covariance.SetYTitle(\"True bin j\")\n",
    "h_covariance.SetXTitle(\"Reco bin i\")\n",
    "h_covariance.SetYTitle(\"Reco bin j\")\n",
    "\n",
    "h_covariance.GetYaxis().SetTitleSize(0.05)\n",
    "h_covariance.GetYaxis().SetTitleOffset(0.0)\n",
    "h_covariance.GetYaxis().SetLabelSize(0.05)\n",
    "h_covariance.GetXaxis().SetTitleSize(0.05)\n",
    "h_covariance.GetXaxis().SetLabelSize(0.05)\n",
    "h_covariance.GetXaxis().SetTitleOffset(1)\n",
    "h_covariance.SetLineColor(ROOT.kBlack)\n",
    "h_covariance.SetLineWidth(4)\n",
    "ROOT.gStyle.SetEndErrorSize(5)\n",
    "c1.SetRightMargin(0.12)\n",
    "ROOT.gStyle.SetPaintTextFormat('0.4g')\n",
    "\n",
    "h_covariance.Draw('colz')\n",
    "h_covariance.Draw('same text')\n",
    "prelim = draw_sim()\n",
    "prelim.Draw()\n",
    "c1.Draw()\n",
    "c1.SaveAs(outputdir_png + \"h_covariance_detsys.png\")\n",
    "c1.SaveAs(outputdir_root + \"h_covariance_detsys.root\")\n",
    "c1.SaveAs(outputdir_pdf + \"h_covariance_detsys.pdf\")\n",
    "h_covariance.Write('h_covariance')"
   ]
  },
  {
   "cell_type": "code",
   "execution_count": null,
   "metadata": {},
   "outputs": [],
   "source": [
    "ROOT.gStyle.SetPaintTextFormat('0.3f')\n",
    "h_correlation = ROOT.TH2D(\"h_correlation\",'Correlation matrix',6,0,6,6,0,6)\n",
    "for i in range(num_bins):\n",
    "    for j in range(num_bins):\n",
    "        h_correlation.SetBinContent(i+1,j+1,xsec_corr_matrix[i,j])\n",
    "#h_covariance.SetXTitle(\"Reco bin i, 7=overflow\")\n",
    "#h_covariance.SetYTitle(\"True bin j\")\n",
    "h_correlation.SetXTitle(\"Reco bin i\")\n",
    "h_correlation.SetYTitle(\"Reco bin j\")\n",
    "\n",
    "h_correlation.GetYaxis().SetTitleSize(0.05)\n",
    "h_correlation.GetYaxis().SetTitleOffset(0.0)\n",
    "h_correlation.GetYaxis().SetLabelSize(0.05)\n",
    "h_correlation.GetXaxis().SetTitleSize(0.05)\n",
    "h_correlation.GetXaxis().SetLabelSize(0.05)\n",
    "h_correlation.GetXaxis().SetTitleOffset(1)\n",
    "h_correlation.SetLineColor(ROOT.kBlack)\n",
    "h_correlation.SetLineWidth(4)\n",
    "ROOT.gStyle.SetEndErrorSize(5)\n",
    "c1.SetRightMargin(0.1)\n",
    "ROOT.gStyle.SetPaintTextFormat('0.3f')\n",
    "\n",
    "#h_correlation.SetMinimum(-1)\n",
    "h_correlation.Draw('colz')\n",
    "h_correlation.Draw('same text')\n",
    "prelim = draw_sim()\n",
    "prelim.Draw()\n",
    "c1.Draw()\n",
    "c1.SaveAs(outputdir_png + \"h_correlation_detsys.png\")\n",
    "c1.SaveAs(outputdir_root + \"h_correlation_detsys.root\")\n",
    "c1.SaveAs(outputdir_pdf + \"h_correlation_detsys.pdf\")\n",
    "h_correlation.Write('h_correlation')"
   ]
  },
  {
   "cell_type": "code",
   "execution_count": null,
   "metadata": {},
   "outputs": [],
   "source": []
  },
  {
   "cell_type": "code",
   "execution_count": null,
   "metadata": {},
   "outputs": [],
   "source": []
  },
  {
   "cell_type": "code",
   "execution_count": null,
   "metadata": {},
   "outputs": [],
   "source": []
  },
  {
   "cell_type": "code",
   "execution_count": null,
   "metadata": {},
   "outputs": [],
   "source": []
  },
  {
   "cell_type": "code",
   "execution_count": null,
   "metadata": {},
   "outputs": [],
   "source": []
  }
 ],
 "metadata": {
  "kernelspec": {
   "display_name": "Python 3",
   "language": "python",
   "name": "python3"
  },
  "language_info": {
   "codemirror_mode": {
    "name": "ipython",
    "version": 2
   },
   "file_extension": ".py",
   "mimetype": "text/x-python",
   "name": "python",
   "nbconvert_exporter": "python",
   "pygments_lexer": "ipython2",
   "version": "2.7.12"
  }
 },
 "nbformat": 4,
 "nbformat_minor": 2
}
