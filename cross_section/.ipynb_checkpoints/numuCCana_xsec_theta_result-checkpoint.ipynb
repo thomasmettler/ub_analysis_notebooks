{
 "cells": [
  {
   "cell_type": "code",
   "execution_count": 2,
   "metadata": {},
   "outputs": [
    {
     "name": "stdout",
     "output_type": "stream",
     "text": [
      "Welcome to JupyROOT 6.10/08\n"
     ]
    }
   ],
   "source": [
    "from __future__ import division\n",
    "import imp\n",
    "import uproot\n",
    "import matplotlib\n",
    "#matplotlib.use('agg')\n",
    "import matplotlib.pyplot as plt\n",
    "import matplotlib.image as mpimg\n",
    "import numpy as np\n",
    "import pandas as pd\n",
    "import os\n",
    "import ROOT\n",
    "import time\n",
    "import math\n",
    "from array import array\n",
    "import collections\n",
    "\n",
    "inputdir = '/home/tmettler/Desktop/v08_00_00_33/V08_00_00_35/weighted/'\n",
    "outputdir = inputdir+'xsec_momentum_result/' \n",
    "output_filedir = '/home/tmettler/Desktop/v08_00_00_33/V08_00_00_35/weighted/xsec_filesV4/'\n",
    "input_filedir = '/home/tmettler/Desktop/v08_00_00_33/V08_00_00_35/weighted/'\n",
    "lib_function_dir = '/home/tmettler/Desktop/uBoone/do_plots/'\n",
    "\n",
    "plot_systematic = 0\n",
    "\n",
    "# helper functions\n",
    "globale = imp.load_source('globale',lib_function_dir+'globale.py')\n",
    "NuCC = imp.load_source('NuCC_function',lib_function_dir+'NuCC_function.py')\n",
    "NuCC_w = imp.load_source('NuCCWeight_function',lib_function_dir+'NuCCWeight_function.py')"
   ]
  },
  {
   "cell_type": "code",
   "execution_count": 3,
   "metadata": {},
   "outputs": [],
   "source": [
    "#!jupyter nbconvert --to script numuCCana_xsec_weighted.ipynb"
   ]
  },
  {
   "cell_type": "code",
   "execution_count": 4,
   "metadata": {},
   "outputs": [
    {
     "name": "stderr",
     "output_type": "stream",
     "text": [
      "Warning in <TCanvas::Constructor>: Deleting canvas with same name: c1\n"
     ]
    }
   ],
   "source": [
    "# initialte ROOT default canvas\n",
    "ROOT.gROOT.SetBatch(ROOT.kTRUE)\n",
    "ROOT.gStyle.SetOptStat(0)\n",
    "ROOT.gStyle.SetOptTitle(0)\n",
    "c1 = ROOT.TCanvas(\"c1\",\"c1\",1600,1200)\n",
    "c1.SetGrid(1)\n",
    "c1.SetLeftMargin(0.14)\n",
    "c1.SetRightMargin(0.18)\n",
    "c1.SetBottomMargin(0.14)"
   ]
  },
  {
   "cell_type": "markdown",
   "metadata": {},
   "source": [
    "# Cross section for single differnetial in Momentum (no sys)"
   ]
  },
  {
   "cell_type": "code",
   "execution_count": 5,
   "metadata": {},
   "outputs": [],
   "source": [
    "# Load input files\n",
    "#inputdir = '/home/thomasm/numuCC/V33/10kevents/'\n",
    "outputdir_png, outputdir_root,outputdir_pdf = NuCC.prepareOutput2(outputdir)\n",
    "try:\n",
    "    os.stat(output_filedir)\n",
    "except:\n",
    "    os.mkdir(output_filedir)\n",
    "RootFile = ROOT.TFile(output_filedir+\"xsec_momentum_result.root\",\"RECREATE\");\n",
    "\n",
    "#filename_overlay = 'NuCCana_Overlay_V18_V4.root'\n",
    "filename_overlay = 'NuCCana_overlay_V26_weight.root'\n",
    "#filename_overlay = 'NuCCana_overlay_v25_weighted_all.root'\n",
    "filename_data = 'NuCCana_data_V25.root'\n",
    "filename_ext = 'NuCCana_ext_V25.root'\n",
    "filename_dirt = 'NuCCana_dirt_V26_weight.root'\n",
    "    \n",
    "tree_name = 'numuCCAna'"
   ]
  },
  {
   "cell_type": "code",
   "execution_count": 6,
   "metadata": {},
   "outputs": [
    {
     "name": "stdout",
     "output_type": "stream",
     "text": [
      "Overlay: Number of Entries:\t989745\n",
      "Data: Number of Entries:\t28005\n",
      "Ext: Number of Entries:\t\t222702\n",
      "Dirt: Number of Entries:\t40808\n",
      "\n",
      "POT: \n",
      "Data:\t\t7.644e+18\n",
      "Ext:\t\t0\n",
      "Overlay:\t1.24025430537e+21\n",
      "Dirt:\t\t1.25019694173e+20\n",
      "\n",
      "Scalefactors: \n",
      "Data:\t\t1.0\n",
      "Ext:\t\t0.0967862715198\n",
      "Overlay:\t0.00616325213863\n",
      "Dirt:\t\t0.0611423668132\n"
     ]
    },
    {
     "name": "stderr",
     "output_type": "stream",
     "text": [
      "Warning in <TClass::Init>: no dictionary for class ROOT::TIOFeatures is available\n"
     ]
    }
   ],
   "source": [
    "#Open all the trees of the four files (data, ext, dirt, overlay)\n",
    "\n",
    "data, ext, dirt, overlay = NuCC.openTrees(inputdir, filename_data, filename_ext, filename_dirt, filename_overlay, tree_name)\n",
    "NuCC.printNumberOfEntries(data,ext,dirt,overlay)\n",
    "\n",
    "pot_overlay = NuCC.getPOT(inputdir,filename_overlay,tree_name)\n",
    "pot_dirt =  NuCC.getPOT(inputdir,filename_dirt,tree_name)\n",
    "#V25 files\n",
    "pot_data =    7.644e+18  # best with tor875\n",
    "data_trigger = 1838700.0 #2220362.0 #1854495.0 #4743794 # 1987072.0 # E1DCNT_wcut\n",
    "ext_trigger =  18997529.0  #2120135 #5685315 # EXT\n",
    "\n",
    "print 'POT: '\n",
    "print 'Data:\\t\\t', pot_data\n",
    "print 'Ext:\\t\\t', 0\n",
    "print 'Overlay:\\t', pot_overlay\n",
    "print 'Dirt:\\t\\t', pot_dirt\n",
    "print ''\n",
    "sample = [data,ext,overlay,dirt]\n",
    "scale = {data:1.0,ext:1.0,overlay:1.0,dirt:1.0}\n",
    "name = {data:'data',ext:'ext',overlay:'overlay',dirt:'dirt'}\n",
    "\n",
    "scale[data], scale[ext], scale[dirt], scale[overlay] = NuCC.calculateScale(data_trigger, ext_trigger, pot_data, pot_dirt, pot_overlay)\n",
    "\n",
    "scale[dirt] = scale[dirt]\n",
    "scale[overlay] = scale[overlay]\n",
    "print 'Scalefactors: '\n",
    "print 'Data:\\t\\t', scale[data]\n",
    "print 'Ext:\\t\\t', scale[ext]\n",
    "print 'Overlay:\\t', scale[overlay]\n",
    "print 'Dirt:\\t\\t', scale[dirt]\n"
   ]
  },
  {
   "cell_type": "code",
   "execution_count": 7,
   "metadata": {},
   "outputs": [
    {
     "name": "stdout",
     "output_type": "stream",
     "text": [
      "Overlay: Number of Entries:\t989714\n",
      "Data: Number of Entries:\t28004\n",
      "Ext: Number of Entries:\t\t222701\n",
      "Dirt: Number of Entries:\t40800\n",
      "\n"
     ]
    }
   ],
   "source": [
    "if 1:\n",
    "    filename_overlay = filename_overlay+'out4.root'\n",
    "    #filename_overlay = 'NuCCana_overlay_points_1kev.rootout2.root'\n",
    "    filename_data = filename_data+'out4.root'\n",
    "    filename_ext = filename_ext+'out4.root'\n",
    "    filename_dirt = filename_dirt+'out4.root'\n",
    "\n",
    "    tree_name = 't_out'\n",
    "\n",
    "    data_out, ext_out, dirt_out, overlay_out = NuCC.openTreesOut(inputdir, filename_data, filename_ext, filename_dirt, filename_overlay, tree_name)\n",
    "    NuCC.printNumberOfEntries(data_out,ext_out,dirt_out,overlay_out)\n",
    "\n",
    "    sample_out = [data_out,ext_out,overlay_out,dirt_out]\n",
    "    scale_out = {data_out:1.0,ext_out:1.0,overlay_out:1.0,dirt_out:1.0}\n",
    "    name_out = {data_out:'data',ext_out:'ext',overlay_out:'overlay',dirt_out:'dirt'}\n",
    "\n",
    "    scale_out[data_out], scale_out[ext_out], scale_out[dirt_out], scale_out[overlay_out] = NuCC.calculateScale(data_trigger, ext_trigger, pot_data, pot_dirt, pot_overlay)\n",
    "    scale_out[dirt_out] = scale_out[dirt_out]\n",
    "    scale_out[overlay_out] = scale_out[overlay_out]"
   ]
  },
  {
   "cell_type": "code",
   "execution_count": 8,
   "metadata": {},
   "outputs": [
    {
     "name": "stdout",
     "output_type": "stream",
     "text": [
      "7.34038944724e-10\n",
      "7.3789785277e-10\n",
      "Fiducial Volume:  49184671.35\n",
      "Beam flux = 5.64049e+09  /cm2\n",
      "Number of target nuclei= 4.10331e+31  /cm3\n"
     ]
    }
   ],
   "source": [
    "##### flux and number of tragets parameters###\n",
    "flux = 1.16859e11/1.592e20 # flux per POT per cm2\n",
    "print flux\n",
    "flux = 7.3789785277e-10\n",
    "print flux\n",
    "roh_data = 1.3836 #data denisity g/cm3\n",
    "roh_MC = 1.3954 # MC denisity g/cm3\n",
    "mol = 39.95 # g for argon\n",
    "N_A = 6.022140857e23 # molec/mol avogadro zahl\n",
    "N_nucleons = 40.0\n",
    "V_fid = ((254.8-10)-(-1.55+10))*((117.47-10)-(-115.53+10))*((1036.9-50)-(-0.1+10))\n",
    "print 'Fiducial Volume: ', V_fid\n",
    "##############################################\n",
    "\n",
    "beam_flux = flux * pot_data\n",
    "print 'Beam flux = {:.5e}'.format(beam_flux),' /cm2'\n",
    "N_tot = roh_data*N_A*N_nucleons*V_fid/mol\n",
    "print 'Number of target nuclei= {:.5e}'.format(N_tot),' /cm3'"
   ]
  },
  {
   "cell_type": "code",
   "execution_count": 9,
   "metadata": {},
   "outputs": [],
   "source": [
    "# Define signals\n",
    "\n",
    "fidVol = '(Nu_Vx_sce>(-1.55+10) && Nu_Vx_sce<(254.8-10)) && (Nu_Vy_sce>(-115.53+10) && Nu_Vy_sce<(117.47-10)) &&(Nu_Vz_sce>(-0.1+10) && Nu_Vz_sce<(1036.9-50))'\n",
    "MCfidVol = '(MCNu_Vx>(-1.55+10) && MCNu_Vx<(254.8-10)) && (MCNu_Vy>(-115.53+10) && MCNu_Vy<(117.47-10)) &&(MCNu_Vz>(-0.1+10) && MCNu_Vz<(1036.9-50))'\n",
    "numu_signal = 'fidVol && MCfidVol && MCNu_CCNC==0 && MCNu_PDG==14 && MCTrackPDG==13 && MCTrackPurity>0.5' # numu CC signal definition\n",
    "numu_true = 'MCfidVol && MCNu_CCNC==0 && MCNu_PDG==14' # numu CC signal definition\n",
    "numu_nomu = 'fidVol && MCfidVol && MCNu_CCNC==0 && MCNu_PDG==14 && MCTrackPDG!=13 && MCTrackPurity>0.5' # not an MC muon\n",
    "numu_lowpur = 'fidVol && MCfidVol && MCNu_CCNC==0 && MCNu_PDG==14 && MCTrackPurity<0.5' #low purity\n",
    "numu_nc = 'fidVol && MCfidVol && MCNu_CCNC==1' # nutral current\n",
    "numu_ov = 'fidVol && !MCfidVol' # out of fiducial\n",
    "numu_other = 'fidVol && MCfidVol && MCNu_CCNC==0 && MCNu_PDG!=14' # e.g anti nu or nue\n",
    "#signal = 'MCfidVol && MCNu_CCNC==0 && MCNu_PDG==14'\n",
    "for x in sample:\n",
    "    x.SetAlias('muon','(muon_candidate_key==track_key)')\n",
    "    \n",
    "num_fidVol = {}\n",
    "for x in sample:\n",
    "    x.SetAlias('fidVol',fidVol)\n",
    "    x.SetAlias('MCfidVol',MCfidVol)\n",
    "    x.SetAlias('numu_signal',numu_signal)\n",
    "    x.SetAlias('numu_true',numu_true)\n",
    "    x.SetAlias('numu_nomu',numu_nomu)\n",
    "    x.SetAlias('numu_lowpur',numu_lowpur)\n",
    "    x.SetAlias('numu_nc',numu_nc)\n",
    "    x.SetAlias('numu_ov',numu_ov)\n",
    "    x.SetAlias('numu_other',numu_other)\n",
    "    num_fidVol[x] = x.GetEntries('fidVol && muon')*scale[x]\n",
    "    \n",
    "tot_num_fidVol = num_fidVol[ext]+num_fidVol[dirt]+num_fidVol[overlay]\n",
    "overlay_signals = {'numu_signal','numu_nomu','numu_lowpur','numu_nc','numu_ov','numu_other'}"
   ]
  },
  {
   "cell_type": "code",
   "execution_count": 10,
   "metadata": {},
   "outputs": [],
   "source": [
    "for x in sample_out:\n",
    "    x.SetAlias('muon','(track_key == key_muon)')\n",
    "\n",
    "num_fidVol = {}\n",
    "for x in sample_out:\n",
    "    x.SetAlias('fidVol',fidVol)\n",
    "    x.SetAlias('MCfidVol',MCfidVol)\n",
    "    x.SetAlias('numu_signal',numu_signal)\n",
    "    x.SetAlias('numu_true',numu_true)\n",
    "    x.SetAlias('numu_nomu',numu_nomu)\n",
    "    x.SetAlias('numu_lowpur',numu_lowpur)\n",
    "    x.SetAlias('numu_nc',numu_nc)\n",
    "    x.SetAlias('numu_ov',numu_ov)\n",
    "    x.SetAlias('numu_other',numu_other)"
   ]
  },
  {
   "cell_type": "code",
   "execution_count": 11,
   "metadata": {},
   "outputs": [
    {
     "name": "stderr",
     "output_type": "stream",
     "text": [
      "Warning in <TCanvas::Constructor>: Deleting canvas with same name: c1\n"
     ]
    }
   ],
   "source": [
    "# Load the global variables for access of functions\n",
    "NuCC.loadGlobal(data,ext,dirt,overlay,data_out,ext_out,dirt_out,overlay_out,scale,scale_out,tot_num_fidVol,overlay_signals,sample,sample_out, name,name_out, outputdir_png, outputdir_root,outputdir_pdf)\n",
    "#NuCC.printGlobal()"
   ]
  },
  {
   "cell_type": "code",
   "execution_count": 12,
   "metadata": {},
   "outputs": [],
   "source": [
    "# initialte ROOT default canvas\n",
    "ROOT.gStyle.SetOptStat(0)\n",
    "c1 = ROOT.TCanvas(\"c1\",\"c1\",1600,1200)\n",
    "c1.SetGrid(1)\n",
    "c1.SetLeftMargin(0.14)\n",
    "c1.SetRightMargin(0.18)\n",
    "c1.SetBottomMargin(0.14)"
   ]
  },
  {
   "cell_type": "code",
   "execution_count": 13,
   "metadata": {},
   "outputs": [],
   "source": [
    "'''track_start_border_x = '(TrackStart_x_sce <(-1.55+1) || TrackStart_x_sce > (254.8-1))'\n",
    "track_end_border_x = '(TrackEnd_x_sce <(-1.55+1) || TrackEnd_x_sce > (254.8-1))'\n",
    "track_start_border_y = '(TrackStart_y_sce <(-115.53+1) || TrackStart_y_sce > (117.47-1))'\n",
    "track_end_border_y = '(TrackEnd_y_sce <(-115.53+1) || TrackEnd_y_sce > (117.47-1))'\n",
    "track_start_border_z = '(TrackStart_z_sce <(0.1+1) || TrackStart_z_sce > (1036.9-1))'\n",
    "track_end_border_z = '(TrackEnd_z_sce <(0.1+1) || TrackEnd_z_sce > (1039.9-1))'\n",
    "'''\n",
    "track_start_border_x = '(TrackStart_x_sce <(-1.55+5) || TrackStart_x_sce > (254.8-5))'\n",
    "track_end_border_x = '(TrackEnd_x_sce <(-1.55+5) || TrackEnd_x_sce > (254.8-5))'\n",
    "track_start_border_y = '(TrackStart_y_sce <(-115.53+5) || TrackStart_y_sce > (117.47-5))'\n",
    "track_end_border_y = '(TrackEnd_y_sce <(-115.53+5) || TrackEnd_y_sce > (117.47-5))'\n",
    "track_start_border_z = '(TrackStart_z_sce <(0.1+5) || TrackStart_z_sce > (1036.9-5))'\n",
    "track_end_border_z = '(TrackEnd_z_sce <(0.1+5) || TrackEnd_z_sce > (1039.9-5))'\n",
    "\n",
    "track_end_uncontained = '(' + track_end_border_x + ' || ' + track_end_border_y + ' || ' + track_end_border_z+ ')'\n",
    "\n",
    "\n",
    "data.SetAlias(\"track_end_uncontained\",track_end_uncontained)\n",
    "ext.SetAlias(\"track_end_uncontained\",track_end_uncontained)\n",
    "overlay.SetAlias(\"track_end_uncontained\",track_end_uncontained)\n",
    "dirt.SetAlias(\"track_end_uncontained\",track_end_uncontained)\n",
    "data_out.SetAlias(\"track_end_uncontained\",track_end_uncontained)\n",
    "ext_out.SetAlias(\"track_end_uncontained\",track_end_uncontained)\n",
    "overlay_out.SetAlias(\"track_end_uncontained\",track_end_uncontained)\n",
    "dirt_out.SetAlias(\"track_end_uncontained\",track_end_uncontained)\n",
    "\n",
    "data.SetAlias(\"crt_cut\",\"(abs(crtt0_time+(crt_trig_corr_med)/1000-4)<0.9 || crtt0_time==-1)\")\n",
    "ext.SetAlias(\"crt_cut\",\"(abs(crtt0_time+(crt_trig_corr_med)/1000-3.57+3.195-4)<0.9 || crtt0_time==-1)\")\n",
    "overlay.SetAlias(\"crt_cut\",\"(abs(crtt0_time-3.95)<0.9 || crtt0_time==-1)\")\n",
    "dirt.SetAlias(\"crt_cut\",\"(abs(crtt0_time-3.95)<0.9 || crtt0_time==-1)\")\n",
    "data_out.SetAlias(\"crt_cut\",\"(abs(crtt0_time+(crt_trig_corr_med)/1000-3.95)<0.9 || crtt0_time==-1)\")\n",
    "ext_out.SetAlias(\"crt_cut\",\"(abs(crtt0_time+(crt_trig_corr_med)/1000-3.57+3.195-3.95)<0.9 || crtt0_time==-1)\")\n",
    "overlay_out.SetAlias(\"crt_cut\",\"(abs(crtt0_time-3.95)<0.9 || crtt0_time==-1)\")\n",
    "dirt_out.SetAlias(\"crt_cut\",\"(abs(crtt0_time-3.95)<0.9 || crtt0_time==-1)\")\n",
    "\n",
    "crt_tom_cut = 'nr_crthit_top==0 && crthit_vertex_zcut==0 && (track_end_uncontained==1 || nr_crthit_beam_tres==0) && crt_cut'\n",
    "\n",
    "data.SetAlias(\"crt_tom_cut\",crt_tom_cut)\n",
    "ext.SetAlias(\"crt_tom_cut\",crt_tom_cut)\n",
    "overlay.SetAlias(\"crt_tom_cut\",crt_tom_cut)\n",
    "dirt.SetAlias(\"crt_tom_cut\",crt_tom_cut)\n",
    "data_out.SetAlias(\"crt_tom_cut\",crt_tom_cut)\n",
    "ext_out.SetAlias(\"crt_tom_cut\",crt_tom_cut)\n",
    "overlay_out.SetAlias(\"crt_tom_cut\",crt_tom_cut)\n",
    "dirt_out.SetAlias(\"crt_tom_cut\",crt_tom_cut)\n",
    "\n",
    "weight_name = 'EventWeight*TunedCentralValue_Genie'\n"
   ]
  },
  {
   "cell_type": "code",
   "execution_count": 14,
   "metadata": {},
   "outputs": [
    {
     "data": {
      "text/plain": [
       "'cut = \\'fidVol && muon && TrackLength>8 && crt_tom_cut && TrackScore>0.8                && TrackLength>20 && TrackPID_chiproton>78 && NuScore>0.1\\'\\nN_data = data_out.GetEntries(cut)\\nN_ext  = ext_out.GetEntries(cut)*scale_out[ext_out]\\nN_dirt = dirt_out.GetEntries(cut)*scale_out[dirt_out]\\nN_overlay = overlay_out.GetEntries(cut+\\'&& !numu_signal\\')*scale_out[overlay_out]\\nN_signal = overlay_out.GetEntries(cut+\\'&& numu_signal\\')*scale_out[overlay_out]\\nN_true = overlay_out.GetEntries(\\'numu_true\\')*scale_out[overlay_out]\\n\\nprint N_overlay\\n\\nh_weight_func = ROOT.TH1F(\"h_weight_func\",\\'h_weight_func\\',10000,0,1000)\\nglobale.overlay_out.Draw(weight_name+\\'>>h_weight_func\\',cut+\\' && 1\\',\\'0\\')\\ndirt_pass_weight = h_weight_func.GetMean() \\nglobale.overlay_out.Draw(weight_name+\\'>>h_weight_func\\',cut+\\' && numu_signal\\',\\'0\\') # weights for signal definition\\noverlay_signal = h_weight_func.GetMean()\\nglobale.overlay_out.Draw(weight_name+\\'>>h_weight_func\\',cut+\\' && !numu_signal\\',\\'0\\') # weights for signal definition\\noverlay_pass_weight = h_weight_func.GetMean()\\n\\noverlay_out.Draw(weight_name+\\'>>h_weight_func\\',numu_true,\\'0\\') # weights for signal definition\\noverlay_true_weight = h_weight_func.GetMean()\\n\\nprint overlay_pass_weight\\n\\nN_dirt = N_dirt*dirt_pass_weight\\nN_overlay = N_overlay*overlay_pass_weight\\nN_signal = N_signal*overlay_signal\\nN_true = N_true*overlay_true_weight\\neff = N_signal/N_true\\n\\nsigma_tot = (N_data- (N_ext+N_dirt+N_overlay))/(eff*beam_flux*N_tot)\\nprint \\'Number of data:\\', N_data\\nprint \\'Number of ext:\\', N_ext\\nprint \\'Number of dirt:\\', N_dirt\\nprint \\'Number of overlay:\\', N_overlay\\nprint \\'Number of overlay signal:\\', N_signal\\nprint \\'Efficiency: \\',eff\\nprint \\'Total integrated cross section:\\', sigma_tot\\n\\nsigma_tot_MC = (N_signal)/(eff*beam_flux*N_tot)\\nprint \\'Total integrated cross section for MC:\\', sigma_tot_MC'"
      ]
     },
     "execution_count": 14,
     "metadata": {},
     "output_type": "execute_result"
    }
   ],
   "source": [
    "# calculate total flux integrated cross section:\n",
    "'''cut = 'fidVol && muon && TrackLength>8 && crt_tom_cut && TrackScore>0.8\\\n",
    "                && TrackLength>20 && TrackPID_chiproton>78 && NuScore>0.1'\n",
    "N_data = data_out.GetEntries(cut)\n",
    "N_ext  = ext_out.GetEntries(cut)*scale_out[ext_out]\n",
    "N_dirt = dirt_out.GetEntries(cut)*scale_out[dirt_out]\n",
    "N_overlay = overlay_out.GetEntries(cut+'&& !numu_signal')*scale_out[overlay_out]\n",
    "N_signal = overlay_out.GetEntries(cut+'&& numu_signal')*scale_out[overlay_out]\n",
    "N_true = overlay_out.GetEntries('numu_true')*scale_out[overlay_out]\n",
    "\n",
    "print N_overlay\n",
    "\n",
    "h_weight_func = ROOT.TH1F(\"h_weight_func\",'h_weight_func',10000,0,1000)\n",
    "globale.overlay_out.Draw(weight_name+'>>h_weight_func',cut+' && 1','0')\n",
    "dirt_pass_weight = h_weight_func.GetMean() \n",
    "globale.overlay_out.Draw(weight_name+'>>h_weight_func',cut+' && numu_signal','0') # weights for signal definition\n",
    "overlay_signal = h_weight_func.GetMean()\n",
    "globale.overlay_out.Draw(weight_name+'>>h_weight_func',cut+' && !numu_signal','0') # weights for signal definition\n",
    "overlay_pass_weight = h_weight_func.GetMean()\n",
    "\n",
    "overlay_out.Draw(weight_name+'>>h_weight_func',numu_true,'0') # weights for signal definition\n",
    "overlay_true_weight = h_weight_func.GetMean()\n",
    "\n",
    "print overlay_pass_weight\n",
    "\n",
    "N_dirt = N_dirt*dirt_pass_weight\n",
    "N_overlay = N_overlay*overlay_pass_weight\n",
    "N_signal = N_signal*overlay_signal\n",
    "N_true = N_true*overlay_true_weight\n",
    "eff = N_signal/N_true\n",
    "\n",
    "sigma_tot = (N_data- (N_ext+N_dirt+N_overlay))/(eff*beam_flux*N_tot)\n",
    "print 'Number of data:', N_data\n",
    "print 'Number of ext:', N_ext\n",
    "print 'Number of dirt:', N_dirt\n",
    "print 'Number of overlay:', N_overlay\n",
    "print 'Number of overlay signal:', N_signal\n",
    "print 'Efficiency: ',eff\n",
    "print 'Total integrated cross section:', sigma_tot\n",
    "\n",
    "sigma_tot_MC = (N_signal)/(eff*beam_flux*N_tot)\n",
    "print 'Total integrated cross section for MC:', sigma_tot_MC'''"
   ]
  },
  {
   "cell_type": "code",
   "execution_count": 15,
   "metadata": {},
   "outputs": [],
   "source": [
    "from array import array\n",
    "mom_bins = [ 0.00, 0.18, 0.30, 0.45, 0.77, 1.28, 2.50 ]\n",
    "binnum = len(mom_bins) - 1\n",
    "h_xsec_mom = ROOT.TH1F('h_xsec_mom','h_xsec_mom',binnum,array('f',mom_bins))"
   ]
  },
  {
   "cell_type": "code",
   "execution_count": 16,
   "metadata": {},
   "outputs": [],
   "source": [
    "def draw_adding():\n",
    "    prelim = ROOT.TLatex(0.9,0.93, \"MicroBooNE Preliminary\");\n",
    "    prelim.SetTextFont(62);\n",
    "    prelim.SetTextColor(ROOT.kGray+2);\n",
    "    prelim.SetNDC();\n",
    "    prelim.SetTextSize(1/30.);\n",
    "    prelim.SetTextAlign(32);\n",
    "    #prelim.SetTextSize(0.04631579);\n",
    "    prelim.Draw()\n",
    "\n",
    "    pot_latex = ROOT.TLatex(.10, .92,'Accumulated POT: '+str(pot_data)) \n",
    "    pot_latex.SetTextFont(62);\n",
    "    pot_latex.SetTextColor(ROOT.kGray+2);\n",
    "    pot_latex.SetNDC();\n",
    "    pot_latex.SetTextSize(1/30.);\n",
    "    pot_latex.SetTextAlign(10) #;//left adjusted\n",
    "    pot_latex.Draw();\n",
    "    \n",
    "    return prelim, pot_latex\n",
    "\n",
    "def draw_sim():\n",
    "    prelim = ROOT.TLatex(0.9,0.93, \"MicroBooNE Simulation Preliminary\");\n",
    "    prelim.SetTextFont(62);\n",
    "    prelim.SetTextColor(ROOT.kGray+2);\n",
    "    prelim.SetNDC();\n",
    "    prelim.SetTextSize(1/30.);\n",
    "    prelim.SetTextAlign(32);\n",
    "    #prelim.SetTextSize(0.04631579);\n",
    "    prelim.Draw()\n",
    "    \n",
    "    return prelim"
   ]
  },
  {
   "cell_type": "code",
   "execution_count": 17,
   "metadata": {},
   "outputs": [
    {
     "name": "stderr",
     "output_type": "stream",
     "text": [
      "Warning in <TCanvas::Constructor>: Deleting canvas with same name: c1\n"
     ]
    }
   ],
   "source": [
    "# initialte ROOT default canvas\n",
    "ROOT.gStyle.SetOptStat(0)\n",
    "c1 = ROOT.TCanvas(\"c1\",\"c1\",1600,1200)\n",
    "c1.SetGrid(1)\n",
    "c1.SetLeftMargin(0.14)\n",
    "c1.SetRightMargin(0.05)\n",
    "c1.SetBottomMargin(0.14)"
   ]
  },
  {
   "cell_type": "code",
   "execution_count": 18,
   "metadata": {},
   "outputs": [],
   "source": [
    "path_cv = '/home/tmettler/Desktop/v08_00_00_33/V08_00_00_35/weighted/xsec_filesV4/'\n",
    "f_cv = ROOT.TFile.Open(path_cv+\"xsec_momentum_wighted.root\", 'read')"
   ]
  },
  {
   "cell_type": "code",
   "execution_count": 19,
   "metadata": {},
   "outputs": [],
   "source": [
    "h_data = f_cv.Get('h_data')\n",
    "h_ext = f_cv.Get('h_ext')\n",
    "h_dirt = f_cv.Get('h_dirt')\n",
    "h_overlay = f_cv.Get('h_overlay')\n",
    "h_eff_true = f_cv.Get('h_eff_true')\n",
    "h_eff_tilde = f_cv.Get('h_eff_tilde')\n",
    "h_xsec_data = f_cv.Get('h_xsec_data')\n",
    "h_xsec_MC = f_cv.Get('h_xsec_MC')\n",
    "\n",
    "#h_xsec_data.Draw()\n",
    "#c1.Draw()"
   ]
  },
  {
   "cell_type": "code",
   "execution_count": 20,
   "metadata": {},
   "outputs": [],
   "source": [
    "path_all = '/home/tmettler/Desktop/v08_00_00_33/V08_00_00_35/weighted/xsec_all_combine/'\n",
    "f_all_genie = ROOT.TFile.Open(path_all+\"xsec_genie_all_combine.root\", 'read')\n",
    "h_covariance_all_genie = f_all_genie.Get('h_covariance')\n",
    "\n",
    "path_genie_other = '/home/tmettler/Desktop/v08_00_00_33/V08_00_00_35/weighted/genie_other/'\n",
    "f_genie_other = ROOT.TFile.Open(path_genie_other+\"genie_other_systematic.root\", 'read')\n",
    "h_covariance_other_genie = f_genie_other.Get('h_covariance')\n",
    "\n",
    "path_detsys = '/home/tmettler/Desktop/v08_00_00_33/V08_00_00_35/weighted/xsec_detsys_all/'\n",
    "f_detsys = ROOT.TFile.Open(path_detsys+\"Detector_systematic.root\", 'read')\n",
    "h_covariance_detsys = f_detsys.Get('h_covariance')\n",
    "\n",
    "path_flux = '/home/tmettler/Desktop/ub_data/mcc9.1/v08_00_00_33/V08_00_00_35/weighted/Flux/output/'\n",
    "f_flux = ROOT.TFile.Open(path_flux+\"Flux_systematic.root\", 'read')\n",
    "h_covariance_flux = f_flux.Get('h_covariance')\n"
   ]
  },
  {
   "cell_type": "code",
   "execution_count": 21,
   "metadata": {},
   "outputs": [
    {
     "name": "stderr",
     "output_type": "stream",
     "text": [
      "Info in <TCanvas::Print>: png file /home/tmettler/Desktop/v08_00_00_33/V08_00_00_35/weighted/xsec_momentum_result/png/h_xsec_corr.png has been created\n",
      "Info in <TCanvas::SaveAs>: ROOT file /home/tmettler/Desktop/v08_00_00_33/V08_00_00_35/weighted/xsec_momentum_result/root/h_xsec_corr.root has been created\n",
      "Info in <TCanvas::Print>: pdf file /home/tmettler/Desktop/v08_00_00_33/V08_00_00_35/weighted/xsec_momentum_result/pdf/h_xsec_corr.pdf has been created\n"
     ]
    },
    {
     "data": {
      "image/png": "[encoded data removed]",
      "text/plain": [
       "<IPython.core.display.Image object>"
      ]
     },
     "metadata": {},
     "output_type": "display_data"
    }
   ],
   "source": [
    "legend = ROOT.TLegend(0.6,0.65,0.9,0.9)\n",
    "h_xsec_MC.SetLineColor(2)\n",
    "legend.AddEntry(h_xsec_data,'data',\"lep\");\n",
    "legend.AddEntry(h_xsec_MC,'MC',\"f\");\n",
    "h_xsec_data.SetYTitle(\"d\\sigma / dp_{\\mu} \\t [10^{-38} cm^{2}/GeV]\")\n",
    "h_xsec_data.SetXTitle(\"p_{\\mu} \\t [GeV]\")\n",
    "h_xsec_data.SetLineWidth(3)\n",
    "h_xsec_data.SetMaximum(1.6)\n",
    "h_xsec_data.SetMinimum(0)\n",
    "\n",
    "h_xsec_data.GetYaxis().SetTitleSize(0.05)\n",
    "h_xsec_data.GetYaxis().SetTitleOffset(0.0)\n",
    "h_xsec_data.GetYaxis().SetLabelSize(0.05)\n",
    "h_xsec_data.GetXaxis().SetTitleSize(0.05)\n",
    "h_xsec_data.GetXaxis().SetLabelSize(0.05)\n",
    "h_xsec_data.GetXaxis().SetTitleOffset(1)\n",
    "h_xsec_data.SetLineColor(ROOT.kBlack)\n",
    "h_xsec_data.SetLineWidth(4)\n",
    "ROOT.gStyle.SetEndErrorSize(5)\n",
    "c1.SetRightMargin(0.05)\n",
    "\n",
    "h_xsec_data.Draw('E1')\n",
    "h_xsec_MC.SetFillColor(0)\n",
    "h_xsec_MC.SetLineWidth(4)\n",
    "#h_overlay_sig.Draw('hist same')\n",
    "h_xsec_MC.DrawCopy('Hist same')\n",
    "h_xsec_MC.SetFillColor(2)\n",
    "h_xsec_MC.SetFillStyle(3001)\n",
    "h_xsec_MC.Draw('E2 same')\n",
    "legend.Draw()\n",
    "prelim, pot_tex = draw_adding()\n",
    "prelim.Draw()\n",
    "pot_tex.Draw()\n",
    "c1.Draw()\n",
    "c1.SaveAs(globale.outputdir_png + \"h_xsec_corr.png\")\n",
    "c1.SaveAs(globale.outputdir_root + \"h_xsec_corr.root\")\n",
    "c1.SaveAs(globale.outputdir_pdf + \"h_xsec_corr.pdf\")\n",
    "\n",
    "h_stat = h_xsec_data.Clone()"
   ]
  },
  {
   "cell_type": "code",
   "execution_count": 26,
   "metadata": {},
   "outputs": [
    {
     "name": "stdout",
     "output_type": "stream",
     "text": [
      "0.00307414684504 0.000619033047613 0.000163005973688 0.00163625280706 0.000721380622723\n",
      "0.0197578278574 0.00848049352536 0.000996650096153 0.00273068518278 0.0162744359833\n",
      "0.0127715862489 0.00325419655542 0.00102929291323 0.00327511011946 0.0396788831643\n",
      "0.00300404748263 0.000294540046084 0.000137669959715 0.00124143096494 0.0469392843583\n",
      "0.000467121668909 1.57060901336e-05 0.000419077045805 0.000163400982284 0.0105098028903\n",
      "1.28352112591e-05 3.43280885733e-07 1.34282578795e-06 1.65994935744e-06 3.00501430856e-05\n"
     ]
    },
    {
     "name": "stderr",
     "output_type": "stream",
     "text": [
      "Info in <TCanvas::Print>: png file /home/tmettler/Desktop/v08_00_00_33/V08_00_00_35/weighted/xsec_momentum_result/png/h_xsec_corr.png has been created\n",
      "Info in <TCanvas::SaveAs>: ROOT file /home/tmettler/Desktop/v08_00_00_33/V08_00_00_35/weighted/xsec_momentum_result/root/h_xsec_corr.root has been created\n",
      "Info in <TCanvas::Print>: pdf file /home/tmettler/Desktop/v08_00_00_33/V08_00_00_35/weighted/xsec_momentum_result/pdf/h_xsec_corr.pdf has been created\n"
     ]
    },
    {
     "data": {
      "image/png": "[encoded data removed]",
      "text/plain": [
       "<IPython.core.display.Image object>"
      ]
     },
     "metadata": {},
     "output_type": "display_data"
    }
   ],
   "source": [
    "#all systematics\n",
    "legend = ROOT.TLegend(0.6,0.65,0.9,0.9)\n",
    "h_xsec_MC.SetLineColor(2)\n",
    "legend.AddEntry(h_xsec_MC,'MC, stat. error',\"f\");\n",
    "legend.AddEntry(h_xsec_data,'data, stat. #oplus sys. error',\"lep\");\n",
    "c1.SetRightMargin(0.05)\n",
    "ROOT.gStyle.SetEndErrorSize(5)\n",
    "for i in range(1,binnum+1):\n",
    "    stat_err = h_stat.GetBinError(i)\n",
    "    stat_err = stat_err*stat_err\n",
    "    genie_all_err = h_covariance_all_genie.GetBinContent(i,i)*1e76\n",
    "    genie_other_err = h_covariance_other_genie.GetBinContent(i,i)*1e76\n",
    "    detsys_err = h_covariance_detsys.GetBinContent(i,i)*1e76\n",
    "    flux_err = h_covariance_flux.GetBinContent(i,i)*1e76\n",
    "    print stat_err,genie_all_err,genie_other_err,detsys_err,flux_err\n",
    "    \n",
    "    h_xsec_data.SetBinError(i,math.sqrt(stat_err+genie_all_err+genie_other_err+detsys_err+flux_err))\n",
    "\n",
    "h_xsec_data.SetLineWidth(2)\n",
    "h_xsec_data.Draw('E1')\n",
    "h_xsec_MC.SetFillColor(0)\n",
    "h_xsec_MC.SetLineWidth(4)\n",
    "#h_overlay_sig.Draw('hist same')\n",
    "h_xsec_MC.DrawCopy('Hist same')\n",
    "h_xsec_MC.SetFillColor(2)\n",
    "h_xsec_MC.SetFillStyle(3001)\n",
    "h_xsec_MC.Draw('E2 same')\n",
    "h_stat.Draw('E1 same')\n",
    "legend.Draw()\n",
    "prelim, pot_tex = draw_adding()\n",
    "prelim.Draw()\n",
    "pot_tex.Draw()\n",
    "c1.Draw()\n",
    "c1.SaveAs(globale.outputdir_png + \"h_xsec_corr.png\")\n",
    "c1.SaveAs(globale.outputdir_root + \"h_xsec_corr.root\")\n",
    "c1.SaveAs(globale.outputdir_pdf + \"h_xsec_corr.pdf\")\n"
   ]
  },
  {
   "cell_type": "code",
   "execution_count": null,
   "metadata": {},
   "outputs": [],
   "source": []
  }
 ],
 "metadata": {
  "kernelspec": {
   "display_name": "Python 3",
   "language": "python",
   "name": "python3"
  },
  "language_info": {
   "codemirror_mode": {
    "name": "ipython",
    "version": 2
   },
   "file_extension": ".py",
   "mimetype": "text/x-python",
   "name": "python",
   "nbconvert_exporter": "python",
   "pygments_lexer": "ipython2",
   "version": "2.7.12"
  }
 },
 "nbformat": 4,
 "nbformat_minor": 2
}
