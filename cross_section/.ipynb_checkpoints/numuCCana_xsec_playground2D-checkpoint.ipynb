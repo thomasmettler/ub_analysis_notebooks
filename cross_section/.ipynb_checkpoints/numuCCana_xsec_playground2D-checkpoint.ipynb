{
 "cells": [
  {
   "cell_type": "code",
   "execution_count": 1,
   "metadata": {},
   "outputs": [
    {
     "name": "stdout",
     "output_type": "stream",
     "text": [
      "Welcome to JupyROOT 6.18/04\n"
     ]
    }
   ],
   "source": [
    "from __future__ import division\n",
    "import imp\n",
    "import uproot\n",
    "import matplotlib\n",
    "#matplotlib.use('agg')\n",
    "import matplotlib.pyplot as plt\n",
    "import matplotlib.image as mpimg\n",
    "import numpy as np\n",
    "import pandas as pd\n",
    "import os\n",
    "import ROOT\n",
    "import time\n",
    "import math\n",
    "from array import array\n",
    "import collections\n",
    "\n",
    "inputdir = '/home/tmettler/Desktop/v08_00_00_33/V08_00_00_35/weighted/'\n",
    "outputdir = inputdir+'xsec_playground2d/' \n",
    "output_filedir = '/home/tmettler/Desktop/v08_00_00_33/V08_00_00_35/weighted/xsec_cross_check/'\n",
    "input_filedir = '/home/tmettler/Desktop/v08_00_00_33/V08_00_00_35/weighted/'\n",
    "lib_function_dir = '/home/tmettler/Desktop/uBoone/do_plots/'\n",
    "\n",
    "plot_systematic = 0\n",
    "\n",
    "# helper functions\n",
    "globale = imp.load_source('globale',lib_function_dir+'globale.py')\n",
    "NuCC = imp.load_source('NuCC_function',lib_function_dir+'NuCC_function.py')\n",
    "NuCC_w = imp.load_source('NuCCWeight_function',lib_function_dir+'NuCCWeight_function.py')"
   ]
  },
  {
   "cell_type": "code",
   "execution_count": 2,
   "metadata": {},
   "outputs": [],
   "source": [
    "#!jupyter nbconvert --to script numuCCana_xsec_crosscheck.ipynb"
   ]
  },
  {
   "cell_type": "code",
   "execution_count": 3,
   "metadata": {},
   "outputs": [
    {
     "name": "stderr",
     "output_type": "stream",
     "text": [
      "Warning in <TCanvas::Constructor>: Deleting canvas with same name: c1\n"
     ]
    }
   ],
   "source": [
    "# initialte ROOT default canvas\n",
    "#ROOT.gROOT.SetBatch(ROOT.kFALSE)\n",
    "ROOT.gStyle.SetOptStat(0)\n",
    "ROOT.gStyle.SetOptTitle(0)\n",
    "c1 = ROOT.TCanvas(\"c1\",\"c1\",1600,1200)\n",
    "c1.SetGrid(1)\n",
    "c1.SetLeftMargin(0.14)\n",
    "c1.SetRightMargin(0.18)\n",
    "c1.SetBottomMargin(0.14)"
   ]
  },
  {
   "cell_type": "markdown",
   "metadata": {},
   "source": [
    "# CRTinBNB tagger, Overlay or MC"
   ]
  },
  {
   "cell_type": "code",
   "execution_count": 4,
   "metadata": {},
   "outputs": [],
   "source": [
    "# Load input files\n",
    "#inputdir = '/home/thomasm/numuCC/V33/10kevents/'\n",
    "outputdir_png, outputdir_root, outputdir_pdf = NuCC.prepareOutput2(outputdir)\n",
    "\n",
    "filename_overlay = 'NuCCana_overlay_V26_mar18.root'\n",
    "filename_data = 'NuCCana_data_fullRun3.root'\n",
    "filename_ext = 'NuCCana_ext_V25_G1.root'\n",
    "filename_dirt = 'NuCCana_dirt_V26_weight.root'\n",
    "    \n",
    "tree_name = 'numuCCAna'"
   ]
  },
  {
   "cell_type": "code",
   "execution_count": 5,
   "metadata": {},
   "outputs": [
    {
     "name": "stdout",
     "output_type": "stream",
     "text": [
      "Overlay: Number of Entries:\t1012051\n",
      "Data: Number of Entries:\t784254\n",
      "Ext: Number of Entries:\t\t1018743\n",
      "Dirt: Number of Entries:\t40808\n",
      "\n",
      "POT: \n",
      "Data:\t\t7.644e+18\n",
      "Ext:\t\t0\n",
      "Overlay:\t1.32634824337e+21\n",
      "Dirt:\t\t1.25019694173e+20\n",
      "\n",
      "Scalefactors: \n",
      "Data:\t\t1.0\n",
      "Ext:\t\t0.0967862715198\n",
      "Overlay:\t0.00576319231258\n",
      "Dirt:\t\t0.0611423668132\n"
     ]
    }
   ],
   "source": [
    "#Open all the trees of the four files (data, ext, dirt, overlay)\n",
    "\n",
    "data, ext, dirt, overlay = NuCC.openTrees(inputdir, filename_data, filename_ext, filename_dirt, filename_overlay, tree_name)\n",
    "NuCC.printNumberOfEntries(data,ext,dirt,overlay)\n",
    "\n",
    "pot_overlay = NuCC.getPOT(inputdir,filename_overlay,tree_name)\n",
    "pot_dirt =  NuCC.getPOT(inputdir,filename_dirt,tree_name)\n",
    "#V25 files\n",
    "#pot_data =    9.457e+18  # best with tor875\n",
    "#data_trigger = 2278230.0 #2220362.0 #1854495.0 #4743794 # 1987072.0 # E1DCNT_wcut\n",
    "ext_trigger =  85768579.0  #2120135 #5685315 # EXT\n",
    "\n",
    "pot_data =     2.144e+20  # best with tor875\n",
    "data_trigger = 51546294.0 #1854495.0 #4743794 # 1987072.0 # E1DCNT_wcut\n",
    "\n",
    "pot_overlay = 1.32634824337e+21 #NuCC.getPOT(inputdir,filename_overlay,tree_name)\n",
    "pot_dirt =  1.25019694173e+20 # NuCC.getPOT(inputdir,filename_dirt,tree_name)\n",
    "#V25 files\n",
    "pot_data =    7.644e+18  # best with tor875\n",
    "data_trigger = 1838700.0 #2220362.0 #1854495.0 #4743794 # 1987072.0 # E1DCNT_wcut\n",
    "ext_trigger =  18997529.0  #2120135 #5685315 # EXT\n",
    "\n",
    "print 'POT: '\n",
    "print 'Data:\\t\\t', pot_data\n",
    "print 'Ext:\\t\\t', 0\n",
    "print 'Overlay:\\t', pot_overlay\n",
    "print 'Dirt:\\t\\t', pot_dirt\n",
    "print ''\n",
    "sample = [data,ext,overlay,dirt]\n",
    "scale = {data:1.0,ext:1.0,overlay:1.0,dirt:1.0}\n",
    "name = {data:'data',ext:'ext',overlay:'overlay',dirt:'dirt'}\n",
    "\n",
    "scale[data], scale[ext], scale[dirt], scale[overlay] = NuCC.calculateScale(data_trigger, ext_trigger, pot_data, pot_dirt, pot_overlay)\n",
    "\n",
    "scale[dirt] = scale[dirt]\n",
    "scale[overlay] = scale[overlay]\n",
    "print 'Scalefactors: '\n",
    "print 'Data:\\t\\t', scale[data]\n",
    "print 'Ext:\\t\\t', scale[ext]\n",
    "print 'Overlay:\\t', scale[overlay]\n",
    "print 'Dirt:\\t\\t', scale[dirt]\n"
   ]
  },
  {
   "cell_type": "code",
   "execution_count": 6,
   "metadata": {},
   "outputs": [
    {
     "name": "stdout",
     "output_type": "stream",
     "text": [
      "Overlay: Number of Entries:\t272253\n",
      "Data: Number of Entries:\t784253\n",
      "Ext: Number of Entries:\t\t1018742\n",
      "Dirt: Number of Entries:\t40800\n",
      "\n"
     ]
    }
   ],
   "source": [
    "if 1:\n",
    "    #filename_overlay = filename_overlay+'out4_noflux.root'\n",
    "    filename_overlay = 'NuCCana_overlay_V26_sep26.rootout5'+'.rootfriend.root'\n",
    "    filename_data = filename_data+'out4.root'\n",
    "    filename_ext = filename_ext+'out4.root'\n",
    "    filename_dirt = filename_dirt+'out4.root'\n",
    "\n",
    "    tree_name = 't_out'\n",
    "\n",
    "    data_out, ext_out, dirt_out, overlay_out = NuCC.openTreesOut(inputdir, filename_data, filename_ext, filename_dirt, filename_overlay, tree_name)\n",
    "    NuCC.printNumberOfEntries(data_out,ext_out,dirt_out,overlay_out)\n",
    "\n",
    "    sample_out = [data_out,ext_out,overlay_out,dirt_out]\n",
    "    scale_out = {data_out:1.0,ext_out:1.0,overlay_out:1.0,dirt_out:1.0}\n",
    "    name_out = {data_out:'data',ext_out:'ext',overlay_out:'overlay',dirt_out:'dirt'}\n",
    "\n",
    "    scale_out[data_out], scale_out[ext_out], scale_out[dirt_out], scale_out[overlay_out] = NuCC.calculateScale(data_trigger, ext_trigger, pot_data, pot_dirt, pot_overlay)\n",
    "    scale_out[dirt_out] = scale_out[dirt_out]\n",
    "    scale_out[overlay_out] = scale_out[overlay_out]"
   ]
  },
  {
   "cell_type": "code",
   "execution_count": 7,
   "metadata": {},
   "outputs": [
    {
     "name": "stdout",
     "output_type": "stream",
     "text": [
      "7.34038944724e-10\n",
      "7.3789785277e-10\n",
      "Fiducial Volume:  49184671.35\n",
      "Beam flux = 5.64049e+09  /cm2\n",
      "Number of target nuclei= 4.10331e+31  /cm3\n"
     ]
    }
   ],
   "source": [
    "##### flux and number of tragets parameters###\n",
    "flux = 1.16859e11/1.592e20 # flux per POT per cm2\n",
    "print flux\n",
    "flux = 7.3789785277e-10\n",
    "print flux\n",
    "roh_data = 1.3836 #data denisity g/cm3\n",
    "roh_MC = 1.3954 # MC denisity g/cm3\n",
    "mol = 39.95 # g for argon\n",
    "N_A = 6.022140857e23 # molec/mol avogadro zahl\n",
    "N_nucleons = 40.0\n",
    "V_fid = ((254.8-10)-(-1.55+10))*((117.47-10)-(-115.53+10))*((1036.9-50)-(-0.1+10))\n",
    "print 'Fiducial Volume: ', V_fid\n",
    "##############################################\n",
    "\n",
    "beam_flux = flux * pot_data\n",
    "print 'Beam flux = {:.5e}'.format(beam_flux),' /cm2'\n",
    "N_tot = roh_data*N_A*N_nucleons*V_fid/mol\n",
    "print 'Number of target nuclei= {:.5e}'.format(N_tot),' /cm3'"
   ]
  },
  {
   "cell_type": "code",
   "execution_count": 8,
   "metadata": {},
   "outputs": [],
   "source": [
    "# Define signals\n",
    "\n",
    "fidVol = '(Nu_Vx_sce>(-1.55+10) && Nu_Vx_sce<(254.8-10)) && (Nu_Vy_sce>(-115.53+10) && Nu_Vy_sce<(117.47-10)) &&(Nu_Vz_sce>(-0.1+10) && Nu_Vz_sce<(1036.9-50))'\n",
    "MCfidVol = '(MCNu_Vx>(-1.55+10) && MCNu_Vx<(254.8-10)) && (MCNu_Vy>(-115.53+10) && MCNu_Vy<(117.47-10)) &&(MCNu_Vz>(-0.1+10) && MCNu_Vz<(1036.9-50))'\n",
    "numu_signal = 'fidVol && MCfidVol && MCNu_CCNC==0 && MCNu_PDG==14 && MCTrackPDG==13 && MCTrackPurity>0.5' # numu CC signal definition\n",
    "numu_true = 'MCfidVol && MCNu_CCNC==0 && MCNu_PDG==14' # numu CC signal definition\n",
    "numu_nomu = 'fidVol && MCfidVol && MCNu_CCNC==0 && MCNu_PDG==14 && MCTrackPDG!=13 && MCTrackPurity>0.5' # not an MC muon\n",
    "numu_lowpur = 'fidVol && MCfidVol && MCNu_CCNC==0 && MCNu_PDG==14 && MCTrackPurity<0.5' #low purity\n",
    "numu_nc = 'fidVol && MCfidVol && MCNu_CCNC==1' # nutral current\n",
    "numu_ov = 'fidVol && !MCfidVol' # out of fiducial\n",
    "numu_other = 'fidVol && MCfidVol && MCNu_CCNC==0 && MCNu_PDG!=14' # e.g anti nu or nue\n",
    "#signal = 'MCfidVol && MCNu_CCNC==0 && MCNu_PDG==14'\n",
    "for x in sample:\n",
    "    x.SetAlias('muon','(muon_candidate_key==track_key)')\n",
    "    \n",
    "num_fidVol = {}\n",
    "for x in sample:\n",
    "    x.SetAlias('fidVol',fidVol)\n",
    "    x.SetAlias('MCfidVol',MCfidVol)\n",
    "    x.SetAlias('numu_signal',numu_signal)\n",
    "    x.SetAlias('numu_true',numu_true)\n",
    "    x.SetAlias('numu_nomu',numu_nomu)\n",
    "    x.SetAlias('numu_lowpur',numu_lowpur)\n",
    "    x.SetAlias('numu_nc',numu_nc)\n",
    "    x.SetAlias('numu_ov',numu_ov)\n",
    "    x.SetAlias('numu_other',numu_other)\n",
    "    num_fidVol[x] = x.GetEntries('fidVol && muon')*scale[x]\n",
    "    \n",
    "tot_num_fidVol = num_fidVol[ext]+num_fidVol[dirt]+num_fidVol[overlay]\n",
    "overlay_signals = {'numu_signal','numu_nomu','numu_lowpur','numu_nc','numu_ov','numu_other'}"
   ]
  },
  {
   "cell_type": "code",
   "execution_count": 9,
   "metadata": {},
   "outputs": [],
   "source": [
    "for x in sample_out:\n",
    "    x.SetAlias('muon','(track_key == key_muon)')\n",
    "\n",
    "num_fidVol = {}\n",
    "for x in sample_out:\n",
    "    x.SetAlias('fidVol',fidVol)\n",
    "    x.SetAlias('MCfidVol',MCfidVol)\n",
    "    x.SetAlias('numu_signal',numu_signal)\n",
    "    x.SetAlias('numu_true',numu_true)\n",
    "    x.SetAlias('numu_nomu',numu_nomu)\n",
    "    x.SetAlias('numu_lowpur',numu_lowpur)\n",
    "    x.SetAlias('numu_nc',numu_nc)\n",
    "    x.SetAlias('numu_ov',numu_ov)\n",
    "    x.SetAlias('numu_other',numu_other)"
   ]
  },
  {
   "cell_type": "code",
   "execution_count": 10,
   "metadata": {},
   "outputs": [],
   "source": [
    "track_start_border_x = '(TrackStart_x_sce <(-1.55+5) || TrackStart_x_sce > (254.8-5))'\n",
    "track_end_border_x = '(TrackEnd_x_sce <(-1.55+5) || TrackEnd_x_sce > (254.8-5))'\n",
    "track_start_border_y = '(TrackStart_y_sce <(-115.53+5) || TrackStart_y_sce > (117.47-5))'\n",
    "track_end_border_y = '(TrackEnd_y_sce <(-115.53+5) || TrackEnd_y_sce > (117.47-5))'\n",
    "track_start_border_z = '(TrackStart_z_sce <(0.1+5) || TrackStart_z_sce > (1036.9-5))'\n",
    "track_end_border_z = '(TrackEnd_z_sce <(0.1+5) || TrackEnd_z_sce > (1039.9-5))'\n",
    "\n",
    "track_end_uncontained = '(' + track_end_border_x + ' || ' + track_end_border_y + ' || ' + track_end_border_z+ ')'\n",
    "\n",
    "data.SetAlias(\"track_end_uncontained\",track_end_uncontained)\n",
    "ext.SetAlias(\"track_end_uncontained\",track_end_uncontained)\n",
    "overlay.SetAlias(\"track_end_uncontained\",track_end_uncontained)\n",
    "dirt.SetAlias(\"track_end_uncontained\",track_end_uncontained)\n",
    "data_out.SetAlias(\"track_end_uncontained\",track_end_uncontained)\n",
    "ext_out.SetAlias(\"track_end_uncontained\",track_end_uncontained)\n",
    "overlay_out.SetAlias(\"track_end_uncontained\",track_end_uncontained)\n",
    "dirt_out.SetAlias(\"track_end_uncontained\",track_end_uncontained)\n",
    "\n",
    "data.SetAlias(\"crt_cut\",\"(abs(crtt0_time+(crt_trig_corr_med)/1000-4)<0.9 || crtt0_time==-1)\")\n",
    "ext.SetAlias(\"crt_cut\",\"(abs(crtt0_time+(crt_trig_corr_med)/1000-3.57+3.195-4)<0.9 || crtt0_time==-1)\")\n",
    "overlay.SetAlias(\"crt_cut\",\"(abs(crtt0_time-3.95)<0.9 || crtt0_time==-1)\")\n",
    "dirt.SetAlias(\"crt_cut\",\"(abs(crtt0_time-3.95)<0.9 || crtt0_time==-1)\")\n",
    "data_out.SetAlias(\"crt_cut\",\"(abs(crtt0_time+(crt_trig_corr_med)/1000-3.95)<0.9 || crtt0_time==-1)\")\n",
    "ext_out.SetAlias(\"crt_cut\",\"(abs(crtt0_time+(crt_trig_corr_med)/1000-3.57+3.195-3.95)<0.9 || crtt0_time==-1)\")\n",
    "overlay_out.SetAlias(\"crt_cut\",\"(abs(crtt0_time-3.95)<0.9 || crtt0_time==-1)\")\n",
    "dirt_out.SetAlias(\"crt_cut\",\"(abs(crtt0_time-3.95)<0.9 || crtt0_time==-1)\")\n",
    "\n",
    "crt_tom_cut = 'nr_crthit_top==0 && crthit_vertex_zcut==0 && (track_end_uncontained==1 || nr_crthit_beam_tres==0) && crt_cut'\n",
    "\n",
    "data.SetAlias(\"crt_tom_cut\",crt_tom_cut)\n",
    "ext.SetAlias(\"crt_tom_cut\",crt_tom_cut)\n",
    "overlay.SetAlias(\"crt_tom_cut\",crt_tom_cut)\n",
    "dirt.SetAlias(\"crt_tom_cut\",crt_tom_cut)\n",
    "data_out.SetAlias(\"crt_tom_cut\",crt_tom_cut)\n",
    "ext_out.SetAlias(\"crt_tom_cut\",crt_tom_cut)\n",
    "overlay_out.SetAlias(\"crt_tom_cut\",crt_tom_cut)\n",
    "dirt_out.SetAlias(\"crt_tom_cut\",crt_tom_cut)\n",
    "\n",
    "weight_name = 'EventWeight*TunedCentralValue_Genie'"
   ]
  },
  {
   "cell_type": "code",
   "execution_count": null,
   "metadata": {},
   "outputs": [],
   "source": []
  },
  {
   "cell_type": "code",
   "execution_count": 11,
   "metadata": {},
   "outputs": [
    {
     "name": "stderr",
     "output_type": "stream",
     "text": [
      "Warning in <TCanvas::Constructor>: Deleting canvas with same name: c1\n"
     ]
    }
   ],
   "source": [
    "NuCC.loadGlobal(data,ext,dirt,overlay,data_out,ext_out,dirt_out,overlay_out,scale,scale_out,tot_num_fidVol,overlay_signals,sample,sample_out, name,name_out, outputdir_png, outputdir_root,outputdir_pdf)"
   ]
  },
  {
   "cell_type": "code",
   "execution_count": 12,
   "metadata": {},
   "outputs": [],
   "source": [
    "cut = 'fidVol && muon && TrackLength>8 && crt_tom_cut && TrackScore>0.8 && TrackLength>20 && TrackPID_chiproton>78 && NuScore>0.1'\n",
    "name = '_07'\n",
    "side_right = 'right'\n",
    "side_left = 'left'\n",
    "\n",
    "#NuCC_w.make_stacked_histo_weightV2(cut,'cos(TrackTheta)','EventWeight','Cos(theta)',-1,1,20,'cosTheta'+name,side_left)"
   ]
  },
  {
   "cell_type": "code",
   "execution_count": 13,
   "metadata": {},
   "outputs": [],
   "source": [
    "# define channels definitions\n",
    "#kdfgklsd\n",
    "\n",
    "#Normalization (data)/(mc +ext) =  0.999198576901"
   ]
  },
  {
   "cell_type": "code",
   "execution_count": 14,
   "metadata": {},
   "outputs": [],
   "source": [
    "numu_signal = 'fidVol && MCfidVol && MCNu_CCNC==0 && MCNu_PDG==14 && MCTrackPDG==13 && MCTrackPurity>0.5' # numu CC signal definition\n",
    "numu_nomuon = 'fidVol && MCfidVol && MCNu_CCNC==0 && MCNu_PDG==14 && MCTrackPDG!=13 && MCTrackPurity>0.5' # numu CC signal definition\n",
    "numu_nue = 'fidVol && MCNu_CCNC==0 && abs(MCNu_PDG)!=14 && MCTrackPurity>0.5' # e.g anti nu or nue\n",
    "numu_antinu = 'fidVol && MCNu_CCNC==0 && MCNu_PDG==-14 && MCTrackPurity>0.5' # e.g anti nu or nue\n",
    "\n",
    "numu_nc = 'fidVol && MCNu_CCNC==1 && MCTrackPurity>0.5' # nutral current\n",
    "numu_ov = 'fidVol && !MCfidVol && MCTrackPurity>0.5' # out of fiducial\n",
    "\n",
    "numu_cosmic = 'fidVol && MCTrackPurity<0.5' #low purity\n",
    "\n",
    "#overlay_signals = ['numu_signal','numu_nue','numu_antinu','numu_nc','numu_ov','numu_cosmic']\n",
    "overlay_signals = ['numu_cosmic','numu_ov','numu_nc','numu_antinu','numu_nue','numu_nomuon','numu_signal']\n",
    "\n",
    "\n",
    "for x in sample_out:\n",
    "    x.SetAlias('numu_signal',numu_signal)\n",
    "    x.SetAlias('numu_nomuon',numu_nomuon)\n",
    "    x.SetAlias('numu_nue',numu_nue)\n",
    "    x.SetAlias('numu_antinu',numu_antinu)\n",
    "    x.SetAlias('numu_nc',numu_nc)\n",
    "    x.SetAlias('numu_ov',numu_ov)\n",
    "    x.SetAlias('numu_cosmic',numu_cosmic)\n"
   ]
  },
  {
   "cell_type": "code",
   "execution_count": 15,
   "metadata": {},
   "outputs": [],
   "source": [
    "# Load the global variables for access of functions\n",
    "NuCC.loadGlobal(data,ext,dirt,overlay,data_out,ext_out,dirt_out,overlay_out,scale,scale_out,tot_num_fidVol,overlay_signals,sample,sample_out, name,name_out, outputdir_png, outputdir_root,outputdir_pdf)\n",
    "#NuCC.printGlobal()"
   ]
  },
  {
   "cell_type": "code",
   "execution_count": 16,
   "metadata": {},
   "outputs": [],
   "source": [
    "# initialte ROOT default canvas\n",
    "ROOT.gStyle.SetOptStat(0)\n",
    "c1 = ROOT.TCanvas(\"c1\",\"c1\",1600,1200)\n",
    "c1.SetGrid(1)\n",
    "c1.SetLeftMargin(0.14)\n",
    "c1.SetRightMargin(0.1)\n",
    "c1.SetBottomMargin(0.14)"
   ]
  },
  {
   "cell_type": "code",
   "execution_count": 17,
   "metadata": {},
   "outputs": [
    {
     "name": "stdout",
     "output_type": "stream",
     "text": [
      "5\n",
      "5\n",
      "5\n",
      "4\n",
      "4\n",
      "4\n",
      "5\n",
      "5\n",
      "5\n"
     ]
    }
   ],
   "source": [
    "from array import array\n",
    "#mom_bins = [ 0.00, 0.18, 0.30, 0.45, 0.77, 1.28, 2.50 ]\n",
    "#mom_bins = [ 0.00, 0.225, 0.28, 0.33, 0.39, 0.52, 0.78, 1.21, 2.5]\n",
    "\n",
    "mom_bins = {}\n",
    "#mom_bins.Append()\n",
    "mom_bins[0] = [ 0.00, 0.18, 0.30, 0.45, 0.77, 2.50 ]\n",
    "mom_bins[1] = [ 0.00, 0.18, 0.30, 0.45, 0.77, 2.50 ]\n",
    "mom_bins[2] = [ 0.00, 0.18, 0.30, 0.45, 0.77, 2.50 ]\n",
    "mom_bins[3] = [ 0.00, 0.30, 0.45, 0.77, 2.50 ]\n",
    "mom_bins[4] = [ 0.00, 0.30, 0.45, 0.77, 2.50 ]\n",
    "mom_bins[5] = [ 0.00, 0.30, 0.45, 0.77, 2.50 ]\n",
    "mom_bins[6] = [ 0.00, 0.30, 0.45, 0.77, 1.28, 2.50 ]\n",
    "mom_bins[7] = [ 0.00, 0.30, 0.45, 0.77, 1.28, 2.50 ]\n",
    "mom_bins[8] = [ 0.00, 0.30, 0.45, 0.77, 1.28, 2.50 ]\n",
    "\n",
    "theta_bins = [ -1.00, -0.50, 0.00, 0.28, 0.47, 0.63, 0.765, 0.865, 0.935, 1.00 ]\n",
    "\n",
    "len_theta = len(theta_bins) - 1\n",
    "len_mom = {}\n",
    "sum_bins = 0\n",
    "for i in range(len_theta):\n",
    "    len_mom[i] = len(mom_bins[i]) - 1\n",
    "    print len_mom[i]\n",
    "    sum_bins+=len_mom[i]\n",
    "\n",
    "#print len_mom\n",
    "#print sum(len_mom), sum_bins\n",
    "\n",
    "num_entries = 20000000"
   ]
  },
  {
   "cell_type": "code",
   "execution_count": null,
   "metadata": {},
   "outputs": [],
   "source": []
  },
  {
   "cell_type": "code",
   "execution_count": null,
   "metadata": {},
   "outputs": [],
   "source": []
  },
  {
   "cell_type": "code",
   "execution_count": null,
   "metadata": {},
   "outputs": [],
   "source": []
  },
  {
   "cell_type": "code",
   "execution_count": null,
   "metadata": {},
   "outputs": [],
   "source": []
  },
  {
   "cell_type": "code",
   "execution_count": null,
   "metadata": {},
   "outputs": [],
   "source": []
  },
  {
   "cell_type": "code",
   "execution_count": null,
   "metadata": {},
   "outputs": [],
   "source": []
  },
  {
   "cell_type": "code",
   "execution_count": 18,
   "metadata": {},
   "outputs": [],
   "source": [
    "h2p = ROOT.TH2Poly()\n",
    "bin_counter = 0\n",
    "for t_bin in range(len_theta):\n",
    "    for m_bin in range(len_mom[t_bin]):\n",
    "        x1 = [theta_bins[t_bin],theta_bins[t_bin+1]]\n",
    "        y1 = {mom_bins[t_bin][m_bin],mom_bins[t_bin][m_bin+1]}\n",
    "        h2p.AddBin(theta_bins[t_bin],mom_bins[t_bin][m_bin],theta_bins[t_bin+1],mom_bins[t_bin][m_bin+1])\n",
    "        bin_counter += 1\n",
    "        h2p.Fill(theta_bins[t_bin]+0.01,mom_bins[t_bin][m_bin]+0.01,bin_counter)\n"
   ]
  },
  {
   "cell_type": "code",
   "execution_count": 19,
   "metadata": {},
   "outputs": [
    {
     "data": {
      "text/plain": [
       "\"h_eff_fine = ROOT.TH2F('h_eff_fine','h_eff_fine', 100,-1,1,100,0,2.5)\\nh_eff_fine2 = ROOT.TH2F('h_eff_fine2','h_eff_fine2', 100,-1,1,100,0,2.5)\\n\\nzahler_cut = 'fidVol && muon && crt_tom_cut && TrackScore>0.8                && TrackLength>20 && TrackPID_chiproton>78 && NuScore>0.1 && numu_signal'\\n\\nglobale.overlay_out.Draw('MCle_Energy:cos(MCNu_leptonTheta)>>h_eff_fine2',weight_name+'*numu_true')\\nglobale.overlay_out.Draw('MCle_Energy:cos(MCNu_leptonTheta)>>h_eff_fine',weight_name+'*('+zahler_cut+')')\\n#globale.overlay_out.Draw('MCle_Energy:cos(MCNu_leptonTheta)>>h_bin_eff',weight_name+'*numu_true')\""
      ]
     },
     "execution_count": 19,
     "metadata": {},
     "output_type": "execute_result"
    }
   ],
   "source": [
    "'''h_eff_fine = ROOT.TH2F('h_eff_fine','h_eff_fine', 100,-1,1,100,0,2.5)\n",
    "h_eff_fine2 = ROOT.TH2F('h_eff_fine2','h_eff_fine2', 100,-1,1,100,0,2.5)\n",
    "\n",
    "zahler_cut = 'fidVol && muon && crt_tom_cut && TrackScore>0.8\\\n",
    "                && TrackLength>20 && TrackPID_chiproton>78 && NuScore>0.1 && numu_signal'\n",
    "\n",
    "globale.overlay_out.Draw('MCle_Energy:cos(MCNu_leptonTheta)>>h_eff_fine2',weight_name+'*numu_true')\n",
    "globale.overlay_out.Draw('MCle_Energy:cos(MCNu_leptonTheta)>>h_eff_fine',weight_name+'*('+zahler_cut+')')\n",
    "#globale.overlay_out.Draw('MCle_Energy:cos(MCNu_leptonTheta)>>h_bin_eff',weight_name+'*numu_true')'''"
   ]
  },
  {
   "cell_type": "code",
   "execution_count": 20,
   "metadata": {},
   "outputs": [
    {
     "data": {
      "text/plain": [
       "'h_eff_fine_ = h_eff_fine.Clone()\\n#h_eff_fine2.Scale(1.0/1.001)\\nh_eff_fine_.Divide(h_eff_fine2)\\nh_eff_fine_.SetXTitle(\"cos(\\\\Theta_{\\\\mu})\")\\nh_eff_fine_.SetYTitle(\"p_{\\\\mu} \\t [GeV]\")\\nh_eff_fine_.GetYaxis().SetTitleSize(0.05)\\nh_eff_fine_.GetYaxis().SetTitleOffset(0.0)\\nh_eff_fine_.GetYaxis().SetLabelSize(0.05)\\nh_eff_fine_.GetXaxis().SetTitleSize(0.05)\\nh_eff_fine_.GetXaxis().SetLabelSize(0.05)\\nh_eff_fine_.GetXaxis().SetTitleOffset(1)\\nh_eff_fine_.Draw(\\'colz\\')\\nh2p.Draw(\\'same text\\')\\n#h_bin_eff.Draw(\\'text\\')\\nc1.Draw()\\nc1.SaveAs(globale.outputdir_png + \\'h_eff_2D.png\\')\\nc1.SaveAs(globale.outputdir_root + \\'h_eff_2D.root\\')\\nc1.SaveAs(globale.outputdir_pdf + \\'h_eff_2D.pdf\\')'"
      ]
     },
     "execution_count": 20,
     "metadata": {},
     "output_type": "execute_result"
    }
   ],
   "source": [
    "'''h_eff_fine_ = h_eff_fine.Clone()\n",
    "#h_eff_fine2.Scale(1.0/1.001)\n",
    "h_eff_fine_.Divide(h_eff_fine2)\n",
    "h_eff_fine_.SetXTitle(\"cos(\\Theta_{\\mu})\")\n",
    "h_eff_fine_.SetYTitle(\"p_{\\mu} \\t [GeV]\")\n",
    "h_eff_fine_.GetYaxis().SetTitleSize(0.05)\n",
    "h_eff_fine_.GetYaxis().SetTitleOffset(0.0)\n",
    "h_eff_fine_.GetYaxis().SetLabelSize(0.05)\n",
    "h_eff_fine_.GetXaxis().SetTitleSize(0.05)\n",
    "h_eff_fine_.GetXaxis().SetLabelSize(0.05)\n",
    "h_eff_fine_.GetXaxis().SetTitleOffset(1)\n",
    "h_eff_fine_.Draw('colz')\n",
    "h2p.Draw('same text')\n",
    "#h_bin_eff.Draw('text')\n",
    "c1.Draw()\n",
    "c1.SaveAs(globale.outputdir_png + 'h_eff_2D.png')\n",
    "c1.SaveAs(globale.outputdir_root + 'h_eff_2D.root')\n",
    "c1.SaveAs(globale.outputdir_pdf + 'h_eff_2D.pdf')'''"
   ]
  },
  {
   "cell_type": "code",
   "execution_count": 21,
   "metadata": {},
   "outputs": [
    {
     "data": {
      "text/plain": [
       "\"h2p_test = h2p.Clone()\\nh2p_test.SetName('h2p_test')\\nglobale.overlay_out.Draw('MCle_Energy:cos(MCNu_leptonTheta)>>h2p_test',weight_name+'*numu_true')\\nh2p_test.Draw('text')\\nc1.Draw()\\n            \\n\""
      ]
     },
     "execution_count": 21,
     "metadata": {},
     "output_type": "execute_result"
    }
   ],
   "source": [
    "'''h2p_test = h2p.Clone()\n",
    "h2p_test.SetName('h2p_test')\n",
    "globale.overlay_out.Draw('MCle_Energy:cos(MCNu_leptonTheta)>>h2p_test',weight_name+'*numu_true')\n",
    "h2p_test.Draw('text')\n",
    "c1.Draw()\n",
    "            \n",
    "'''"
   ]
  },
  {
   "cell_type": "code",
   "execution_count": 22,
   "metadata": {},
   "outputs": [
    {
     "data": {
      "text/plain": [
       "\"h2p_test = h2p.Clone()\\nh2p_test.SetName('h2p_test')\\nglobale.overlay_out.Draw('MCle_Energy:cos(MCNu_leptonTheta)>>h2p_test',weight_name+'*(numu_signal&&fidVol && muon && crt_tom_cut && TrackScore>0.8                && TrackLength>20 && TrackPID_chiproton>78 && NuScore>0.1 )')\\nh2p_test.Draw('text')\\nc1.Draw()\""
      ]
     },
     "execution_count": 22,
     "metadata": {},
     "output_type": "execute_result"
    }
   ],
   "source": [
    "'''h2p_test = h2p.Clone()\n",
    "h2p_test.SetName('h2p_test')\n",
    "globale.overlay_out.Draw('MCle_Energy:cos(MCNu_leptonTheta)>>h2p_test',weight_name+'*(numu_signal&&fidVol && muon && crt_tom_cut && TrackScore>0.8\\\n",
    "                && TrackLength>20 && TrackPID_chiproton>78 && NuScore>0.1 )')\n",
    "h2p_test.Draw('text')\n",
    "c1.Draw()'''\n",
    "\n",
    "\n",
    "          "
   ]
  },
  {
   "cell_type": "code",
   "execution_count": 23,
   "metadata": {},
   "outputs": [],
   "source": [
    "h2p = ROOT.TH2Poly()\n",
    "bin_counter = 0\n",
    "for t_bin in range(len_theta):\n",
    "    for m_bin in range(len_mom[t_bin]):\n",
    "        x1 = [theta_bins[t_bin],theta_bins[t_bin+1]]\n",
    "        y1 = {mom_bins[t_bin][m_bin],mom_bins[t_bin][m_bin+1]}\n",
    "        h2p.AddBin(theta_bins[t_bin],mom_bins[t_bin][m_bin],theta_bins[t_bin+1],mom_bins[t_bin][m_bin+1])\n",
    "        bin_counter += 1\n",
    "        h2p.Fill(theta_bins[t_bin]+0.01,mom_bins[t_bin][m_bin]+0.01,0)\n"
   ]
  },
  {
   "cell_type": "code",
   "execution_count": 43,
   "metadata": {},
   "outputs": [
    {
     "name": "stdout",
     "output_type": "stream",
     "text": [
      "1611814436.13\n",
      "07:13:56\n",
      "Time since start:  0.00253200531006\n",
      "Time since start:  14.3891921043\n"
     ]
    }
   ],
   "source": [
    "start = time.time()\n",
    "print start\n",
    "t = time.localtime()\n",
    "current_time = time.strftime(\"%H:%M:%S\", t)\n",
    "print(current_time)\n",
    "\n",
    "h2p_test = h2p.Clone()\n",
    "h2p_uncont = h2p.Clone()\n",
    "#h2p_test.SetName('h2p_test')\n",
    "#globale.overlay_out.Draw('MCle_Energy:cos(MCNu_leptonTheta)>>h2p_test',weight_name+'*(numu_signal&&fidVol && muon && crt_tom_cut && TrackScore>0.8\\\n",
    "#                && TrackLength>20 && TrackPID_chiproton>78 && NuScore>0.1 )')\n",
    "#h2p_test.Draw('text')\n",
    "#c1.Draw()\n",
    "end = time.time()\n",
    "print 'Time since start: ',(end - start)\n",
    "\n",
    "h2p_tot = []\n",
    "\n",
    "for t_bin in range(len_theta):\n",
    "    for m_bin in range(len_mom[t_bin]):#len_mom[t_bin]\n",
    "        h2p_tot.append(h2p.Clone())\n",
    "        \n",
    "counter = 0\n",
    "for evt in overlay_out:\n",
    "    if counter > 10000:\n",
    "        break\n",
    "    counter+=1\n",
    "    if(evt.is_passing and evt.is_numu_signal):\n",
    "        bin_counter = 0\n",
    "        for t_bin in range(len_theta):#len_theta\n",
    "            bin_counter +=1\n",
    "            for m_bin in range(len_mom[t_bin]):#len_mom[t_bin]\n",
    "                mom_min = mom_bins[t_bin][m_bin]\n",
    "                mom_max = mom_bins[t_bin][m_bin+1]\n",
    "                theta_min = theta_bins[t_bin]\n",
    "                theta_max = theta_bins[t_bin+1]\n",
    "                bin_counter+=1\n",
    "                this_cut = ' && MCle_Energy>'+str(mom_min)+' && MCle_Energy<'+str(mom_max)+' && cos(MCNu_leptonTheta)>'+str(theta_min)+' && cos(MCNu_leptonTheta)<'+str(theta_max)\n",
    "                if(evt.MCle_Energy>mom_min and evt.MCle_Energy>mom_max and math.cos(evt.MCNu_leptonTheta)>theta_min and math.cos(evt.MCNu_leptonTheta)<theta_max):\n",
    "                    if(evt.is_track_end_uncontained):\n",
    "                        h2p_tot[bin_counter-2].Fill(math.cos(evt.TrackTheta),evt.TrackMomMCS_mom,evt.EventWeight*evt.TunedCentralValue_Genie)\n",
    "                    else:\n",
    "                        h2p_tot[bin_counter-2].Fill(math.cos(evt.TrackTheta),evt.TrackMomRange_mu,evt.EventWeight*evt.TunedCentralValue_Genie) #evt.EventWeight*evt.TunedCentralValue_Genie\n",
    "                    break\n",
    "                \n",
    "\n",
    "end = time.time()\n",
    "print 'Time since start: ',(end - start)\n",
    "\n"
   ]
  },
  {
   "cell_type": "code",
   "execution_count": 44,
   "metadata": {},
   "outputs": [],
   "source": [
    "true_reco_matrix = np.zeros((sum_bins+1,sum_bins+1))\n",
    "\n",
    "counter = 0\n",
    "for t_bin in range(len_theta):\n",
    "    for m_bin in range(len_mom[t_bin]):\n",
    "        for i in range(43):\n",
    "            true_reco_matrix[counter,i] = h2p_tot[counter].GetBinContent(i+1)\n",
    "        true_reco_matrix[counter,42] += h2p_tot[counter].GetBinContent(0)\n",
    "        counter+=1\n",
    "        \n"
   ]
  },
  {
   "cell_type": "code",
   "execution_count": 45,
   "metadata": {},
   "outputs": [
    {
     "name": "stderr",
     "output_type": "stream",
     "text": [
      "Warning in <TROOT::Append>: Replacing existing TH1: h_true_reco_nocrt (Potential memory leak).\n"
     ]
    },
    {
     "data": {
      "image/png": "[encoded data removed]",
      "text/plain": [
       "<IPython.core.display.Image object>"
      ]
     },
     "metadata": {},
     "output_type": "display_data"
    }
   ],
   "source": [
    "h_true_reco_nocrt = ROOT.TH2F(\"h_true_reco_nocrt\",'Migration matrix',sum_bins+1,0,sum_bins+1,sum_bins+1,0,sum_bins+1)\n",
    "for i in range(sum_bins+1):\n",
    "    for j in range(sum_bins+1):\n",
    "        h_true_reco_nocrt.SetBinContent(i+1,j+1, true_reco_matrix[i,j])\n",
    "h_true_reco_nocrt.Draw('colz text')\n",
    "c1.SetRightMargin(0.1)\n",
    "ROOT.gStyle.SetPaintTextFormat(\"0.0f\");\n",
    "\n",
    "c1.Draw()"
   ]
  },
  {
   "cell_type": "code",
   "execution_count": 46,
   "metadata": {},
   "outputs": [
    {
     "data": {
      "image/png": "[encoded data removed]",
      "text/plain": [
       "<IPython.core.display.Image object>"
      ]
     },
     "metadata": {},
     "output_type": "display_data"
    }
   ],
   "source": [
    "h2p_tot[39].Draw('text')\n",
    "c1.Draw()"
   ]
  },
  {
   "cell_type": "code",
   "execution_count": null,
   "metadata": {},
   "outputs": [],
   "source": [
    "fdafdfadf"
   ]
  },
  {
   "cell_type": "code",
   "execution_count": null,
   "metadata": {},
   "outputs": [],
   "source": []
  },
  {
   "cell_type": "code",
   "execution_count": null,
   "metadata": {},
   "outputs": [],
   "source": [
    "start = time.time()\n",
    "print start\n",
    "t = time.localtime()\n",
    "current_time = time.strftime(\"%H:%M:%S\", t)\n",
    "print(current_time)\n",
    "\n",
    "h2p_test = h2p.Clone()\n",
    "\n",
    "end = time.time()\n",
    "print 'Time since start: ',(end - start)\n",
    "\n",
    "counter = 0\n",
    "for evt in overlay_out:\n",
    "    #if counter > 100:\n",
    "    #    break\n",
    "    #counter+=1\n",
    "    if(evt.is_passing and evt.is_numu_signal):\n",
    "        if(evt.is_track_end_uncontained):\n",
    "            h2p_test.Fill(math.cos(evt.TrackTheta),evt.TrackMomMCS_mom,evt.EventWeight*evt.TunedCentralValue_Genie)\n",
    "        else:\n",
    "            h2p_test.Fill(math.cos(evt.TrackTheta),evt.TrackMomRange_mu,evt.EventWeight*evt.TunedCentralValue_Genie) #evt.EventWeight*evt.TunedCentralValue_Genie\n",
    "\n",
    "\n",
    "end = time.time()\n",
    "print 'Time since start: ',(end - start)\n",
    "\n"
   ]
  },
  {
   "cell_type": "code",
   "execution_count": null,
   "metadata": {},
   "outputs": [],
   "source": [
    "h2p_test.Draw('text')\n",
    "c1.Draw()"
   ]
  },
  {
   "cell_type": "code",
   "execution_count": null,
   "metadata": {},
   "outputs": [],
   "source": [
    "ASDFAFDF"
   ]
  },
  {
   "cell_type": "code",
   "execution_count": null,
   "metadata": {},
   "outputs": [],
   "source": [
    "def make_stacked_histo_channel_2D2(cut,variable,title,mom_bins,text_1d,file_name,side='right'):\n",
    "\n",
    "    #mom_bins = [ 0.00, 0.18, 0.30, 0.45, 0.77, 1.28, 2.50 ]\n",
    "    binnum = len(mom_bins) - 1\n",
    "    #initialize the 1d histograms\n",
    "    h_data_func = ROOT.TH1F(\"h_data_func\",title,binnum,array('f',mom_bins))\n",
    "    h_ext_func = ROOT.TH1F(\"h_ext_func\",title,binnum,array('f',mom_bins))\n",
    "    h_dirt_func = ROOT.TH1F(\"h_dirt_func\",title,binnum,array('f',mom_bins))\n",
    "    h_overlay_func = ROOT.TH1F(\"h_overlay_func\",title,binnum,array('f',mom_bins))\n",
    "    \n",
    "    weight_name = 'EventWeight*TunedCentralValue_Genie'\n",
    "    \n",
    "    globale.data_out.Draw(variable+'>>h_data_func',cut,'')\n",
    "    globale.ext_out.Draw(variable+'>>h_ext_func',cut,'')\n",
    "    globale.dirt_out.Draw(variable+'>>h_dirt_func',weight_name+'*('+cut+')','')\n",
    "    globale.overlay_out.Draw(variable+'>>h_overlay_func',weight_name+'*('+cut+' && !numu_signal)','')\n",
    "\n",
    "    \n",
    "    h_QE = ROOT.TH1F(\"h_QE\",'h_QE',binnum,array('f',mom_bins))\n",
    "    h_MEC = ROOT.TH1F(\"h_MEC\",'h_MEC',binnum,array('f',mom_bins))\n",
    "    h_RES = ROOT.TH1F(\"h_RES\",'h_RES',binnum,array('f',mom_bins))\n",
    "    h_DIS = ROOT.TH1F(\"h_DIS\",'h_DIS',binnum,array('f',mom_bins))\n",
    "\n",
    "    globale.overlay_out.Draw(variable+'>>h_QE',weight_name+'*('+cut+'&& numu_signal && MCNu_Interaction==0)','')\n",
    "    globale.overlay_out.Draw(variable+'>>h_MEC',weight_name+'*('+cut+'&& numu_signal && MCNu_Interaction==10)','')\n",
    "    globale.overlay_out.Draw(variable+'>>h_RES',weight_name+'*('+cut+'&& numu_signal && MCNu_Interaction==1)','')\n",
    "    globale.overlay_out.Draw(variable+'>>h_DIS',weight_name+'*('+cut+'&& numu_signal && MCNu_Interaction==2)','')\n",
    "\n",
    "    list_histo = [h_QE,h_MEC,h_RES,h_DIS]\n",
    "    \n",
    "    for x in list_histo:\n",
    "        x.Scale(globale.scale[globale.overlay])\n",
    "        #x.Divide(h_eff_tilde)\n",
    "        #x.Scale(1.0/(N_tot*beam_flux*1e-38))\n",
    "        x.SetLineWidth(4)\n",
    "        #for i in range(1,binnum+1):\n",
    "        #    x.SetBinContent(i,x.GetBinContent(i)/x.GetBinWidth(i))\n",
    "        #    x.SetBinError(i,x.GetBinError(i)/x.GetBinWidth(i))\n",
    "\n",
    "    h_QE.SetLineColor(ROOT.kGreen+2)\n",
    "    h_MEC.SetLineColor(ROOT.kOrange-3)\n",
    "    h_RES.SetLineColor(ROOT.kRed+1)\n",
    "    h_DIS.SetLineColor(ROOT.kBlue+1)\n",
    "    \n",
    "    \n",
    "    \n",
    "    # prepare the stacked histogram\n",
    "    hs = ROOT.THStack(\"hs\",\"\");\n",
    "    h_data_func.SetLineWidth(1)\n",
    "    \n",
    "    h_data_func.SetMarkerStyle(ROOT.kFullCircle);\n",
    "    h_data_func.SetMarkerSize(0.9);\n",
    "\n",
    "    #scale the histograms\n",
    "    h_data_func.Sumw2()\n",
    "    h_data_func.Scale(globale.scale[globale.data])\n",
    "    h_ext_func.Sumw2()\n",
    "    h_ext_func.Scale(globale.scale[globale.ext])\n",
    "    h_dirt_func.Sumw2()\n",
    "    h_dirt_func.Scale(globale.scale[globale.dirt])\n",
    "    h_overlay_func.Sumw2()\n",
    "    h_overlay_func.Scale(globale.scale[globale.overlay])\n",
    "    #fill the stacked histogram\n",
    "    h_data_func.Add(h_ext_func,-1)\n",
    "    h_data_func.Add(h_dirt_func,-1)\n",
    "    h_data_func.Add(h_overlay_func,-1)\n",
    "    \n",
    "    hs.Add(h_QE)\n",
    "    hs.Add(h_MEC)\n",
    "    hs.Add(h_RES)\n",
    "    hs.Add(h_DIS)\n",
    "\n",
    "    #print 'Normalization (data)/(mc +ext) = ', normalization\n",
    "    if side == 'left':\n",
    "        legend = ROOT.TLegend(0.15,0.30,0.5,0.9) # LEGEND LEFT\n",
    "        #legend = ROOT.TLegend(0.15,0.65,0.45,0.9) # LEGEND LEFT\n",
    "    else:\n",
    "        #legend = ROOT.TLegend(0.6,0.65,0.9,0.9); #LEGEND RIGHT\n",
    "        legend = ROOT.TLegend(0.55,0.30,0.9,0.9)\n",
    "    if variable == 'TrackPID_chiproton' or variable == 'NuScore' or variable == 'TrackPhi' or variable == 'Nu_Vx_sce' or variable == 'Nu_Vy_sce' or variable == 'Nu_Vz_sce':\n",
    "        legend = ROOT.TLegend(0.15,0.68,0.85,0.9) # LEGEND LEFT\n",
    "        legend.SetNColumns(2)\n",
    "    #data_name = 'Data: {0:0.1f}'.format(data_events)\n",
    "    data_name = 'Data - background'#: {0:0.1f}'.format(data_events)\n",
    "\n",
    "    legend.AddEntry(h_QE,'QE',\"l\");\n",
    "    legend.AddEntry(h_MEC,'MEC',\"l\");\n",
    "    legend.AddEntry(h_RES,'RES',\"l\");\n",
    "    legend.AddEntry(h_DIS,'DIS',\"l\");\n",
    "    legend.AddEntry(h_data_func,data_name,\"lep\")\n",
    "    #prepare the canvas with thw pads\n",
    "    c1 = ROOT.TCanvas(\"c1\",\"c1\",1600,1200)\n",
    "    c1.SetGrid(1)\n",
    "    c1.SetLeftMargin(0.14)\n",
    "    c1.SetRightMargin(0.18)\n",
    "    c1.SetBottomMargin(0.14)\n",
    "    # first pad\n",
    "    c1.cd()\n",
    "    pad1 = ROOT.TPad('pad1','pad1',0,0.35,1,1)\n",
    "    pad1.SetGrid(1)\n",
    "    pad1.Draw()\n",
    "    pad1.cd()\n",
    "    # draw fisrt histogram with data points and stacked ext and MC\n",
    "    h_data_func.SetYTitle(\"Entries per bin\")\n",
    "    h_data_func.SetMinimum(0)\n",
    "    if variable == 'TrackPID_chiproton' or variable == 'TrackPhi' or variable == 'Nu_Vx_sce' or variable == 'Nu_Vy_sce' or variable == 'Nu_Vz_sce':\n",
    "        h_data_func.SetMaximum(hs.GetMaximum()*1.5)\n",
    "    else:\n",
    "        h_data_func.SetMaximum(hs.GetMaximum()*1.3)\n",
    "    \n",
    "    h_data_func.GetYaxis().SetLabelSize(0.06);\n",
    "    h_data_func.GetYaxis().SetTitleSize(0.06);\n",
    "    h_data_func.GetYaxis().SetTitleOffset(0.8);\n",
    "    h_data_func.GetXaxis().SetLabelOffset(999);\n",
    "    h_data_func.GetXaxis().SetTitleOffset(999);\n",
    "    h_data_func.GetXaxis().SetLabelSize(0);\n",
    "    h_data_func.GetXaxis().SetTitleSize(0);\n",
    "    pad1.SetBottomMargin(0.03);\n",
    "    pad1.SetTopMargin(0.1)\n",
    "    h_data_func.SetLineColor(ROOT.kBlack)\n",
    "    h_data_func.SetLineWidth(2)\n",
    "    ROOT.gStyle.SetEndErrorSize(9)\n",
    "    \n",
    "    h_data_func.Draw('E1')\n",
    "    legend.Draw();\n",
    "    hs.Draw('same hist')\n",
    "    h_data_func.Draw('E1 same')\n",
    "\n",
    "    prelim = ROOT.TLatex(0.9,0.93, \"MicroBooNE Preliminary\");\n",
    "    prelim.SetTextFont(62);\n",
    "    prelim.SetTextColor(ROOT.kGray+2);\n",
    "    prelim.SetNDC();\n",
    "    prelim.SetTextSize(1/15.);\n",
    "    prelim.SetTextAlign(32);\n",
    "    #prelim.SetTextSize(0.04631579);\n",
    "    prelim.Draw()\n",
    "    pot_latex = ROOT.TLatex(.10, .91,'Accumulated POT: '+str(pot_data)) \n",
    "    pot_latex.SetTextFont(62);\n",
    "    pot_latex.SetTextColor(ROOT.kGray+2);\n",
    "    pot_latex.SetNDC();\n",
    "    pot_latex.SetTextSize(1/15.);\n",
    "    pot_latex.SetTextAlign(10) #;//left adjusted\n",
    "    pot_latex.Draw();\n",
    "    \n",
    "    # second pad\n",
    "    c1.cd()\n",
    "    h_data_func.GetXaxis().SetLabelOffset(0);\n",
    "    h_data_func.GetXaxis().SetTitleOffset(0);\n",
    "    pad2 = ROOT.TPad('pad2','pad2',0,0,1,0.35)\n",
    "    pad2.SetGrid(1)\n",
    "    pad2.SetTopMargin(0.04)\n",
    "    pad2.SetBottomMargin(0.4)\n",
    "    pad2.Draw()\n",
    "    pad2.cd()\n",
    "    # Draw data - MC difference\n",
    "    h_tot_func = h_QE.Clone()\n",
    "    h_div_func = h_data_func.Clone()\n",
    "    h_tot_func.Add(h_RES)\n",
    "    h_tot_func.Add(h_MEC)\n",
    "    h_tot_func.Add(h_DIS)\n",
    "\n",
    "    h_div_func.Divide(h_tot_func )\n",
    "    #h_test = hs.GetHistogram().Clone()\n",
    "    #h_div_func.Divide(h_test )\n",
    "    h_div_func = NuCC_w.make_stacked_histo_weight_pad2(h_div_func)\n",
    "    h_div_func.SetMinimum(0)\n",
    "    h_div_func.SetMaximum(2)\n",
    "    h_div_func.SetXTitle(text_1d+'  '+title)\n",
    "    h_div_func.GetXaxis().CenterTitle()\n",
    "    h_div_func.GetYaxis().SetTitleSize(0.1)\n",
    "    h_div_func.GetYaxis().SetTitleOffset(0.3)\n",
    "    h_div_func.GetYaxis().SetLabelSize(0.07)\n",
    "    h_div_func.GetXaxis().SetTitleSize(0.15)\n",
    "    h_div_func.GetXaxis().SetLabelSize(0.15)\n",
    "    h_div_func.GetXaxis().SetTitleOffset(1)\n",
    "    h_QE1 = h_QE.Clone()\n",
    "    h_MEC1 = h_MEC.Clone()\n",
    "    h_RES1 = h_RES.Clone()\n",
    "    h_DIS1 = h_DIS.Clone()\n",
    "    \n",
    "    h_channel_all = h_QE.Clone()\n",
    "    h_channel_all.Add(h_MEC)\n",
    "    h_channel_all.Add(h_RES)\n",
    "    h_channel_all.Add(h_DIS)\n",
    "    \n",
    "    h_QE1.Divide(h_channel_all)\n",
    "    h_MEC1.Divide(h_channel_all)\n",
    "    h_RES1.Divide(h_channel_all)\n",
    "    h_DIS1.Divide(h_channel_all)\n",
    "    \n",
    "    h_div_func.Draw('E1')\n",
    "    \n",
    "    h_QE1.Draw('hist same')\n",
    "    h_MEC1.Draw('hist same')\n",
    "    h_RES1.Draw('hist same')\n",
    "    h_DIS1.Draw('hist same')\n",
    "\n",
    "    c1.Draw()\n",
    "    c1.SaveAs(globale.outputdir_png+ file_name + \".png\")\n",
    "    c1.SaveAs(globale.outputdir_pdf+ file_name + \".pdf\")\n",
    "    c1.SaveAs(globale.outputdir_root+ file_name + \".root\")\n",
    "    \n",
    "    h_data_func.Delete()\n",
    "    h_ext_func.Delete()\n",
    "    h_dirt_func.Delete()\n",
    "    #h_overlay_func = {} # make an array of histograms for the different interactions\n",
    "    #for x in globale.overlay_signals:\n",
    "    #    h_overlay_func[x].Delete()\n",
    "    #sel.Delete()\n",
    "    return #normalization"
   ]
  },
  {
   "cell_type": "code",
   "execution_count": null,
   "metadata": {},
   "outputs": [],
   "source": [
    "def make_stacked_histo_channel_2D(cut,variable1,variable2,title1,title2,mom_bins1,mom_bins2,file_name,side='right'):\n",
    "    binnum1 = len(mom_bins1) - 1\n",
    "    for i in range(binnum1):\n",
    "        low = mom_bins1[i]\n",
    "        high = mom_bins1[i+1]\n",
    "        cut2 = cut + ' && ('+variable1+'<='+str(mom_bins1[i+1])+' && '+variable1+'>'+str(mom_bins1[i])+')'\n",
    "        text_1d = str(mom_bins1[i])+' <= '+title1+' < '+str(mom_bins1[i+1])\n",
    "        make_stacked_histo_channel_2D2(cut2,variable2,title2,mom_bins2,text_1d,file_name+str(i),side)\n",
    "        \n",
    "        "
   ]
  },
  {
   "cell_type": "code",
   "execution_count": null,
   "metadata": {},
   "outputs": [],
   "source": [
    "cut = 'fidVol && muon && TrackLength>8 && crt_tom_cut && TrackScore>0.8 && TrackLength>20 && TrackPID_chiproton>78 && NuScore>0.1'\n",
    "name = '_07'\n",
    "mom_para = 'TrackMomMCS_mom*cos(TrackTheta)'\n",
    "mom_bins1 = [ -1.0, 0.1, 0.2, 0.5, 1.0, 2.0 ]\n",
    "mom_vert = 'TrackMomMCS_mom*sin(TrackTheta)'\n",
    "mom_bins2 = [ 0, 0.2, 0.4, 0.6, 1.5 ]\n",
    "file_name = 'Test2d'+name\n",
    "title1 = 'p_{#mu}^{reco} para [GeV]'\n",
    "title2 = 'p_{#mu}^{reco} vert [GeV]'\n",
    "make_stacked_histo_channel_2D(cut,mom_para,mom_vert,title1,title2,mom_bins1,mom_bins2,file_name,side='right')\n"
   ]
  },
  {
   "cell_type": "code",
   "execution_count": null,
   "metadata": {},
   "outputs": [],
   "source": [
    "#check "
   ]
  }
 ],
 "metadata": {
  "kernelspec": {
   "display_name": "Python 3",
   "language": "python",
   "name": "python3"
  },
  "language_info": {
   "codemirror_mode": {
    "name": "ipython",
    "version": 2
   },
   "file_extension": ".py",
   "mimetype": "text/x-python",
   "name": "python",
   "nbconvert_exporter": "python",
   "pygments_lexer": "ipython2",
   "version": "2.7.12"
  }
 },
 "nbformat": 4,
 "nbformat_minor": 2
}
