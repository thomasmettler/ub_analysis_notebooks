{
 "cells": [
  {
   "cell_type": "code",
   "execution_count": 1,
   "metadata": {},
   "outputs": [
    {
     "name": "stdout",
     "output_type": "stream",
     "text": [
      "Welcome to JupyROOT 6.10/08\n"
     ]
    }
   ],
   "source": [
    "from __future__ import division\n",
    "import imp\n",
    "import uproot\n",
    "import matplotlib\n",
    "#matplotlib.use('agg')\n",
    "import matplotlib.pyplot as plt\n",
    "import matplotlib.image as mpimg\n",
    "import numpy as np\n",
    "import pandas as pd\n",
    "import os\n",
    "import ROOT\n",
    "import time\n",
    "import math\n",
    "from array import array\n",
    "import collections\n",
    "\n",
    "inputdir = '/home/tmettler/Desktop/v08_00_00_33/V08_00_00_35/weighted/'\n",
    "outputdir = inputdir+'xsec_cross_check/' \n",
    "output_filedir = '/home/tmettler/Desktop/v08_00_00_33/V08_00_00_35/weighted/xsec_cross_check/'\n",
    "input_filedir = '/home/tmettler/Desktop/v08_00_00_33/V08_00_00_35/weighted/'\n",
    "lib_function_dir = '/home/tmettler/Desktop/uBoone/do_plots/'\n",
    "\n",
    "plot_systematic = 0\n",
    "\n",
    "# helper functions\n",
    "globale = imp.load_source('globale',lib_function_dir+'globale.py')\n",
    "NuCC = imp.load_source('NuCC_function',lib_function_dir+'NuCC_function.py')\n",
    "NuCC_w = imp.load_source('NuCCWeight_function',lib_function_dir+'NuCCWeight_function.py')"
   ]
  },
  {
   "cell_type": "code",
   "execution_count": 2,
   "metadata": {},
   "outputs": [],
   "source": [
    "#!jupyter nbconvert --to script numuCCana_xsec_crosscheck.ipynb"
   ]
  },
  {
   "cell_type": "code",
   "execution_count": 3,
   "metadata": {},
   "outputs": [
    {
     "name": "stderr",
     "output_type": "stream",
     "text": [
      "Warning in <TCanvas::Constructor>: Deleting canvas with same name: c1\n"
     ]
    }
   ],
   "source": [
    "# initialte ROOT default canvas\n",
    "#ROOT.gROOT.SetBatch(ROOT.kFALSE)\n",
    "ROOT.gStyle.SetOptStat(0)\n",
    "ROOT.gStyle.SetOptTitle(0)\n",
    "c1 = ROOT.TCanvas(\"c1\",\"c1\",1600,1200)\n",
    "c1.SetGrid(1)\n",
    "c1.SetLeftMargin(0.14)\n",
    "c1.SetRightMargin(0.18)\n",
    "c1.SetBottomMargin(0.14)"
   ]
  },
  {
   "cell_type": "markdown",
   "metadata": {},
   "source": [
    "# CRTinBNB tagger, Overlay or MC"
   ]
  },
  {
   "cell_type": "code",
   "execution_count": 4,
   "metadata": {},
   "outputs": [],
   "source": [
    "# Load input files\n",
    "#inputdir = '/home/thomasm/numuCC/V33/10kevents/'\n",
    "outputdir_png, outputdir_root, outputdir_pdf = NuCC.prepareOutput2(outputdir)\n",
    "\n",
    "#filename_overlay = 'NuCCana_Overlay_V18_V4.root'\n",
    "filename_overlay = 'NuCCana_overlay_V26_weight.root'\n",
    "#filename_overlay = 'NuCCana_overlay_v25_weighted_all.root'\n",
    "filename_data = 'NuCCana_data_V25.root'\n",
    "filename_ext = 'NuCCana_ext_V25.root'\n",
    "filename_dirt = 'NuCCana_dirt_V26_weight.root'\n",
    "    \n",
    "tree_name = 'numuCCAna'"
   ]
  },
  {
   "cell_type": "code",
   "execution_count": 5,
   "metadata": {},
   "outputs": [
    {
     "name": "stdout",
     "output_type": "stream",
     "text": [
      "Overlay: Number of Entries:\t989745\n",
      "Data: Number of Entries:\t28005\n",
      "Ext: Number of Entries:\t\t222702\n",
      "Dirt: Number of Entries:\t40808\n",
      "\n",
      "POT: \n",
      "Data:\t\t7.644e+18\n",
      "Ext:\t\t0\n",
      "Overlay:\t1.24025430537e+21\n",
      "Dirt:\t\t1.25019694173e+20\n",
      "\n",
      "Scalefactors: \n",
      "Data:\t\t1.0\n",
      "Ext:\t\t0.0967862715198\n",
      "Overlay:\t0.00616325213863\n",
      "Dirt:\t\t0.0611423668132\n"
     ]
    },
    {
     "name": "stderr",
     "output_type": "stream",
     "text": [
      "Warning in <TClass::Init>: no dictionary for class ROOT::TIOFeatures is available\n"
     ]
    }
   ],
   "source": [
    "#Open all the trees of the four files (data, ext, dirt, overlay)\n",
    "\n",
    "data, ext, dirt, overlay = NuCC.openTrees(inputdir, filename_data, filename_ext, filename_dirt, filename_overlay, tree_name)\n",
    "NuCC.printNumberOfEntries(data,ext,dirt,overlay)\n",
    "\n",
    "pot_overlay = NuCC.getPOT(inputdir,filename_overlay,tree_name)\n",
    "pot_dirt =  NuCC.getPOT(inputdir,filename_dirt,tree_name)\n",
    "#V25 files\n",
    "pot_data =    7.644e+18  # best with tor875\n",
    "data_trigger = 1838700.0 #2220362.0 #1854495.0 #4743794 # 1987072.0 # E1DCNT_wcut\n",
    "ext_trigger =  18997529.0  #2120135 #5685315 # EXT\n",
    "\n",
    "print 'POT: '\n",
    "print 'Data:\\t\\t', pot_data\n",
    "print 'Ext:\\t\\t', 0\n",
    "print 'Overlay:\\t', pot_overlay\n",
    "print 'Dirt:\\t\\t', pot_dirt\n",
    "print ''\n",
    "sample = [data,ext,overlay,dirt]\n",
    "scale = {data:1.0,ext:1.0,overlay:1.0,dirt:1.0}\n",
    "name = {data:'data',ext:'ext',overlay:'overlay',dirt:'dirt'}\n",
    "\n",
    "scale[data], scale[ext], scale[dirt], scale[overlay] = NuCC.calculateScale(data_trigger, ext_trigger, pot_data, pot_dirt, pot_overlay)\n",
    "\n",
    "scale[dirt] = scale[dirt]\n",
    "scale[overlay] = scale[overlay]\n",
    "print 'Scalefactors: '\n",
    "print 'Data:\\t\\t', scale[data]\n",
    "print 'Ext:\\t\\t', scale[ext]\n",
    "print 'Overlay:\\t', scale[overlay]\n",
    "print 'Dirt:\\t\\t', scale[dirt]\n"
   ]
  },
  {
   "cell_type": "code",
   "execution_count": 6,
   "metadata": {},
   "outputs": [
    {
     "name": "stdout",
     "output_type": "stream",
     "text": [
      "Overlay: Number of Entries:\t989714\n",
      "Data: Number of Entries:\t28004\n",
      "Ext: Number of Entries:\t\t222701\n",
      "Dirt: Number of Entries:\t40800\n",
      "\n"
     ]
    }
   ],
   "source": [
    "if 1:\n",
    "    filename_overlay = filename_overlay+'out4.root'\n",
    "    #filename_overlay = 'NuCCana_overlay_points_1kev.rootout2.root'\n",
    "    filename_data = filename_data+'out4.root'\n",
    "    filename_ext = filename_ext+'out4.root'\n",
    "    filename_dirt = filename_dirt+'out4.root'\n",
    "\n",
    "    tree_name = 't_out'\n",
    "\n",
    "    data_out, ext_out, dirt_out, overlay_out = NuCC.openTreesOut(inputdir, filename_data, filename_ext, filename_dirt, filename_overlay, tree_name)\n",
    "    NuCC.printNumberOfEntries(data_out,ext_out,dirt_out,overlay_out)\n",
    "\n",
    "    sample_out = [data_out,ext_out,overlay_out,dirt_out]\n",
    "    scale_out = {data_out:1.0,ext_out:1.0,overlay_out:1.0,dirt_out:1.0}\n",
    "    name_out = {data_out:'data',ext_out:'ext',overlay_out:'overlay',dirt_out:'dirt'}\n",
    "\n",
    "    scale_out[data_out], scale_out[ext_out], scale_out[dirt_out], scale_out[overlay_out] = NuCC.calculateScale(data_trigger, ext_trigger, pot_data, pot_dirt, pot_overlay)\n",
    "    scale_out[dirt_out] = scale_out[dirt_out]\n",
    "    scale_out[overlay_out] = scale_out[overlay_out]"
   ]
  },
  {
   "cell_type": "code",
   "execution_count": 7,
   "metadata": {},
   "outputs": [
    {
     "name": "stdout",
     "output_type": "stream",
     "text": [
      "7.34038944724e-10\n",
      "7.3789785277e-10\n",
      "Fiducial Volume:  49184671.35\n",
      "Beam flux = 5.64049e+09  /cm2\n",
      "Number of target nuclei= 4.10331e+31  /cm3\n"
     ]
    }
   ],
   "source": [
    "##### flux and number of tragets parameters###\n",
    "flux = 1.16859e11/1.592e20 # flux per POT per cm2\n",
    "print flux\n",
    "flux = 7.3789785277e-10\n",
    "print flux\n",
    "roh_data = 1.3836 #data denisity g/cm3\n",
    "roh_MC = 1.3954 # MC denisity g/cm3\n",
    "mol = 39.95 # g for argon\n",
    "N_A = 6.022140857e23 # molec/mol avogadro zahl\n",
    "N_nucleons = 40.0\n",
    "V_fid = ((254.8-10)-(-1.55+10))*((117.47-10)-(-115.53+10))*((1036.9-50)-(-0.1+10))\n",
    "print 'Fiducial Volume: ', V_fid\n",
    "##############################################\n",
    "\n",
    "beam_flux = flux * pot_data\n",
    "print 'Beam flux = {:.5e}'.format(beam_flux),' /cm2'\n",
    "N_tot = roh_data*N_A*N_nucleons*V_fid/mol\n",
    "print 'Number of target nuclei= {:.5e}'.format(N_tot),' /cm3'"
   ]
  },
  {
   "cell_type": "code",
   "execution_count": 8,
   "metadata": {},
   "outputs": [],
   "source": [
    "# Define signals\n",
    "\n",
    "fidVol = '(Nu_Vx_sce>(-1.55+10) && Nu_Vx_sce<(254.8-10)) && (Nu_Vy_sce>(-115.53+10) && Nu_Vy_sce<(117.47-10)) &&(Nu_Vz_sce>(-0.1+10) && Nu_Vz_sce<(1036.9-50))'\n",
    "MCfidVol = '(MCNu_Vx>(-1.55+10) && MCNu_Vx<(254.8-10)) && (MCNu_Vy>(-115.53+10) && MCNu_Vy<(117.47-10)) &&(MCNu_Vz>(-0.1+10) && MCNu_Vz<(1036.9-50))'\n",
    "numu_signal = 'fidVol && MCfidVol && MCNu_CCNC==0 && MCNu_PDG==14 && MCTrackPDG==13 && MCTrackPurity>0.5' # numu CC signal definition\n",
    "numu_true = 'MCfidVol && MCNu_CCNC==0 && MCNu_PDG==14' # numu CC signal definition\n",
    "numu_nomu = 'fidVol && MCfidVol && MCNu_CCNC==0 && MCNu_PDG==14 && MCTrackPDG!=13 && MCTrackPurity>0.5' # not an MC muon\n",
    "numu_lowpur = 'fidVol && MCfidVol && MCNu_CCNC==0 && MCNu_PDG==14 && MCTrackPurity<0.5' #low purity\n",
    "numu_nc = 'fidVol && MCfidVol && MCNu_CCNC==1' # nutral current\n",
    "numu_ov = 'fidVol && !MCfidVol' # out of fiducial\n",
    "numu_other = 'fidVol && MCfidVol && MCNu_CCNC==0 && MCNu_PDG!=14' # e.g anti nu or nue\n",
    "#signal = 'MCfidVol && MCNu_CCNC==0 && MCNu_PDG==14'\n",
    "for x in sample:\n",
    "    x.SetAlias('muon','(muon_candidate_key==track_key)')\n",
    "    \n",
    "num_fidVol = {}\n",
    "for x in sample:\n",
    "    x.SetAlias('fidVol',fidVol)\n",
    "    x.SetAlias('MCfidVol',MCfidVol)\n",
    "    x.SetAlias('numu_signal',numu_signal)\n",
    "    x.SetAlias('numu_true',numu_true)\n",
    "    x.SetAlias('numu_nomu',numu_nomu)\n",
    "    x.SetAlias('numu_lowpur',numu_lowpur)\n",
    "    x.SetAlias('numu_nc',numu_nc)\n",
    "    x.SetAlias('numu_ov',numu_ov)\n",
    "    x.SetAlias('numu_other',numu_other)\n",
    "    num_fidVol[x] = x.GetEntries('fidVol && muon')*scale[x]\n",
    "    \n",
    "tot_num_fidVol = num_fidVol[ext]+num_fidVol[dirt]+num_fidVol[overlay]\n",
    "overlay_signals = {'numu_signal','numu_nomu','numu_lowpur','numu_nc','numu_ov','numu_other'}"
   ]
  },
  {
   "cell_type": "code",
   "execution_count": 9,
   "metadata": {},
   "outputs": [],
   "source": [
    "for x in sample_out:\n",
    "    x.SetAlias('muon','(track_key == key_muon)')\n",
    "\n",
    "num_fidVol = {}\n",
    "for x in sample_out:\n",
    "    x.SetAlias('fidVol',fidVol)\n",
    "    x.SetAlias('MCfidVol',MCfidVol)\n",
    "    x.SetAlias('numu_signal',numu_signal)\n",
    "    x.SetAlias('numu_true',numu_true)\n",
    "    x.SetAlias('numu_nomu',numu_nomu)\n",
    "    x.SetAlias('numu_lowpur',numu_lowpur)\n",
    "    x.SetAlias('numu_nc',numu_nc)\n",
    "    x.SetAlias('numu_ov',numu_ov)\n",
    "    x.SetAlias('numu_other',numu_other)"
   ]
  },
  {
   "cell_type": "code",
   "execution_count": 10,
   "metadata": {},
   "outputs": [],
   "source": [
    "# define channels definitions"
   ]
  },
  {
   "cell_type": "code",
   "execution_count": null,
   "metadata": {},
   "outputs": [],
   "source": []
  },
  {
   "cell_type": "code",
   "execution_count": 11,
   "metadata": {},
   "outputs": [
    {
     "name": "stderr",
     "output_type": "stream",
     "text": [
      "Warning in <TCanvas::Constructor>: Deleting canvas with same name: c1\n"
     ]
    }
   ],
   "source": [
    "# Load the global variables for access of functions\n",
    "NuCC.loadGlobal(data,ext,dirt,overlay,data_out,ext_out,dirt_out,overlay_out,scale,scale_out,tot_num_fidVol,overlay_signals,sample,sample_out, name,name_out, outputdir_png, outputdir_root,outputdir_pdf)\n",
    "#NuCC.printGlobal()"
   ]
  },
  {
   "cell_type": "code",
   "execution_count": 12,
   "metadata": {},
   "outputs": [],
   "source": [
    "# initialte ROOT default canvas\n",
    "ROOT.gStyle.SetOptStat(0)\n",
    "c1 = ROOT.TCanvas(\"c1\",\"c1\",1600,1200)\n",
    "c1.SetGrid(1)\n",
    "c1.SetLeftMargin(0.14)\n",
    "c1.SetRightMargin(0.18)\n",
    "c1.SetBottomMargin(0.14)"
   ]
  },
  {
   "cell_type": "code",
   "execution_count": 13,
   "metadata": {},
   "outputs": [],
   "source": [
    "'''track_start_border_x = '(TrackStart_x_sce <(-1.55+1) || TrackStart_x_sce > (254.8-1))'\n",
    "track_end_border_x = '(TrackEnd_x_sce <(-1.55+1) || TrackEnd_x_sce > (254.8-1))'\n",
    "track_start_border_y = '(TrackStart_y_sce <(-115.53+1) || TrackStart_y_sce > (117.47-1))'\n",
    "track_end_border_y = '(TrackEnd_y_sce <(-115.53+1) || TrackEnd_y_sce > (117.47-1))'\n",
    "track_start_border_z = '(TrackStart_z_sce <(0.1+1) || TrackStart_z_sce > (1036.9-1))'\n",
    "track_end_border_z = '(TrackEnd_z_sce <(0.1+1) || TrackEnd_z_sce > (1039.9-1))'\n",
    "'''\n",
    "track_start_border_x = '(TrackStart_x_sce <(-1.55+5) || TrackStart_x_sce > (254.8-5))'\n",
    "track_end_border_x = '(TrackEnd_x_sce <(-1.55+5) || TrackEnd_x_sce > (254.8-5))'\n",
    "track_start_border_y = '(TrackStart_y_sce <(-115.53+5) || TrackStart_y_sce > (117.47-5))'\n",
    "track_end_border_y = '(TrackEnd_y_sce <(-115.53+5) || TrackEnd_y_sce > (117.47-5))'\n",
    "track_start_border_z = '(TrackStart_z_sce <(0.1+5) || TrackStart_z_sce > (1036.9-5))'\n",
    "track_end_border_z = '(TrackEnd_z_sce <(0.1+5) || TrackEnd_z_sce > (1039.9-5))'\n",
    "\n",
    "track_end_uncontained = '(' + track_end_border_x + ' || ' + track_end_border_y + ' || ' + track_end_border_z+ ')'\n",
    "\n",
    "\n",
    "data.SetAlias(\"track_end_uncontained\",track_end_uncontained)\n",
    "ext.SetAlias(\"track_end_uncontained\",track_end_uncontained)\n",
    "overlay.SetAlias(\"track_end_uncontained\",track_end_uncontained)\n",
    "dirt.SetAlias(\"track_end_uncontained\",track_end_uncontained)\n",
    "data_out.SetAlias(\"track_end_uncontained\",track_end_uncontained)\n",
    "ext_out.SetAlias(\"track_end_uncontained\",track_end_uncontained)\n",
    "overlay_out.SetAlias(\"track_end_uncontained\",track_end_uncontained)\n",
    "dirt_out.SetAlias(\"track_end_uncontained\",track_end_uncontained)\n",
    "\n",
    "data.SetAlias(\"crt_cut\",\"(abs(crtt0_time+(crt_trig_corr_med)/1000-4)<0.9 || crtt0_time==-1)\")\n",
    "ext.SetAlias(\"crt_cut\",\"(abs(crtt0_time+(crt_trig_corr_med)/1000-3.57+3.195-4)<0.9 || crtt0_time==-1)\")\n",
    "overlay.SetAlias(\"crt_cut\",\"(abs(crtt0_time-3.95)<0.9 || crtt0_time==-1)\")\n",
    "dirt.SetAlias(\"crt_cut\",\"(abs(crtt0_time-3.95)<0.9 || crtt0_time==-1)\")\n",
    "data_out.SetAlias(\"crt_cut\",\"(abs(crtt0_time+(crt_trig_corr_med)/1000-3.95)<0.9 || crtt0_time==-1)\")\n",
    "ext_out.SetAlias(\"crt_cut\",\"(abs(crtt0_time+(crt_trig_corr_med)/1000-3.57+3.195-3.95)<0.9 || crtt0_time==-1)\")\n",
    "overlay_out.SetAlias(\"crt_cut\",\"(abs(crtt0_time-3.95)<0.9 || crtt0_time==-1)\")\n",
    "dirt_out.SetAlias(\"crt_cut\",\"(abs(crtt0_time-3.95)<0.9 || crtt0_time==-1)\")\n",
    "\n",
    "crt_tom_cut = 'nr_crthit_top==0 && crthit_vertex_zcut==0 && (track_end_uncontained==1 || nr_crthit_beam_tres==0) && crt_cut'\n",
    "\n",
    "data.SetAlias(\"crt_tom_cut\",crt_tom_cut)\n",
    "ext.SetAlias(\"crt_tom_cut\",crt_tom_cut)\n",
    "overlay.SetAlias(\"crt_tom_cut\",crt_tom_cut)\n",
    "dirt.SetAlias(\"crt_tom_cut\",crt_tom_cut)\n",
    "data_out.SetAlias(\"crt_tom_cut\",crt_tom_cut)\n",
    "ext_out.SetAlias(\"crt_tom_cut\",crt_tom_cut)\n",
    "overlay_out.SetAlias(\"crt_tom_cut\",crt_tom_cut)\n",
    "dirt_out.SetAlias(\"crt_tom_cut\",crt_tom_cut)\n",
    "\n",
    "weight_name = 'EventWeight*TunedCentralValue_Genie'\n"
   ]
  },
  {
   "cell_type": "code",
   "execution_count": 14,
   "metadata": {},
   "outputs": [
    {
     "name": "stderr",
     "output_type": "stream",
     "text": [
      "Warning in <TCanvas::Constructor>: Deleting canvas with same name: c1\n"
     ]
    }
   ],
   "source": [
    "# initialte ROOT default canvas\n",
    "ROOT.gStyle.SetOptStat(0)\n",
    "c1 = ROOT.TCanvas(\"c1\",\"c1\",1600,1200)\n",
    "c1.SetGrid(1)\n",
    "c1.SetLeftMargin(0.14)\n",
    "c1.SetRightMargin(0.05)\n",
    "c1.SetBottomMargin(0.14)"
   ]
  },
  {
   "cell_type": "code",
   "execution_count": 15,
   "metadata": {},
   "outputs": [],
   "source": [
    "def eff_channel_test(cut,variable,xstart,xend,xbins,axis_name,file_name,side='right'):\n",
    "    #overlay_signals_func = ['other','DIS','COH','RES','MEC','QE']\n",
    "    overlay_signals_func = ['QE','MEC','RES','DIS']\n",
    "    weight_name = 'EventWeight*TunedCentralValue_Genie'\n",
    "    globale.overlay_out.SetAlias('DIS','MCNu_Interaction==2')\n",
    "    globale.overlay_out.SetAlias('COH','(MCNu_Interaction==3 || MCNu_Interaction==4)')\n",
    "    globale.overlay_out.SetAlias('RES','MCNu_Interaction==1')\n",
    "    globale.overlay_out.SetAlias('MEC','MCNu_Interaction==10')\n",
    "    globale.overlay_out.SetAlias('QE','MCNu_Interaction==0')\n",
    "    globale.overlay_out.SetAlias('other','!(DIS || COH || RES || MEC || QE)')\n",
    "    \n",
    "    h_overlay_func = {} # make an array of histograms for the \n",
    "    h_overlay_func_gen = {} # make an array of histograms for the \n",
    "    #tot_events = 0.0\n",
    "    #channel_event = [0.0, 0.0, 0.0, 0.0, 0.0, 0.0]\n",
    "    for x in overlay_signals_func:\n",
    "        h_overlay_func[x] = ROOT.TH1F(x,'title',xbins,xstart,xend)\n",
    "        h_overlay_func_gen[x] = ROOT.TH1F(x+'gen','title',xbins,xstart,xend)\n",
    "    \n",
    "    #hs = ROOT.THStack(\"hs\",variable+';'+axis_name+'; Entries per bin');\n",
    "    cut = cut +' && '\n",
    "    cut_true = 'numu_true && '\n",
    "    if variable == 'MCTrackPhi':\n",
    "        cut_true = cut_true+'MCTrackPhi!=-1 && MCTrackPhi!=0 &&'\n",
    "    if variable == 'MCTrackMomentum':\n",
    "        cut_true = cut_true+'MCTrackMomentum!=-1 && MCTrackMomentum!=0 && '\n",
    "        \n",
    "    for i,x in enumerate(overlay_signals_func):\n",
    "        histo = x\n",
    "        globale.overlay_out.Draw(variable+'>>'+histo,weight_name+'*('+cut+x+')','')\n",
    "        globale.overlay_out.Draw(variable+'>>'+histo+'gen',weight_name+'*('+cut_true+x+')','')\n",
    "        h_overlay_func[x].Divide(h_overlay_func_gen[x])\n",
    "        h_overlay_func[x].GetYaxis().SetTitleSize(0.05)\n",
    "        h_overlay_func[x].GetYaxis().SetTitleOffset(0.0)\n",
    "        h_overlay_func[x].GetYaxis().SetLabelSize(0.05)\n",
    "        h_overlay_func[x].GetXaxis().SetTitleSize(0.05)\n",
    "        h_overlay_func[x].GetXaxis().SetLabelSize(0.05)\n",
    "        h_overlay_func[x].GetXaxis().SetTitleOffset(1)\n",
    "        h_overlay_func[x].SetYTitle(\"Efficiency\")\n",
    "        h_overlay_func[x].SetXTitle(axis_name)\n",
    "        h_overlay_func[x].SetLineWidth(4)\n",
    "        #hs.Add(h_overlay_func[x])\n",
    "    \n",
    "    #h_overlay_func['other'].SetFillColor(ROOT.kGray+1)\n",
    "    h_overlay_func['DIS'].SetFillColor(ROOT.kBlue+1)\n",
    "    #h_overlay_func['COH'].SetFillColor(ROOT.kPink+10)\n",
    "    h_overlay_func['RES'].SetFillColor(ROOT.kRed+1)\n",
    "    h_overlay_func['MEC'].SetFillColor(ROOT.kOrange-3)\n",
    "    h_overlay_func['QE'].SetFillColor(ROOT.kGreen+2)\n",
    "    #h_overlay_func['other'].SetLineColor(ROOT.kGray+1)\n",
    "    h_overlay_func['DIS'].SetLineColor(ROOT.kBlue+1)\n",
    "    #h_overlay_func['COH'].SetLineColor(ROOT.kPink+10)\n",
    "    h_overlay_func['RES'].SetLineColor(ROOT.kRed+1)\n",
    "    h_overlay_func['MEC'].SetLineColor(ROOT.kOrange-3)\n",
    "    h_overlay_func['QE'].SetLineColor(ROOT.kGreen+2)\n",
    "    \n",
    "    if side == 'left':\n",
    "        legend = ROOT.TLegend(0.15,0.15,0.4,0.4) # LEGEND LEFT\n",
    "    else:\n",
    "        legend = ROOT.TLegend(0.7,0.15,0.95,0.4); #LEGEND RIGHT\n",
    "        \n",
    "    for i,x in enumerate(overlay_signals_func):\n",
    "        #ov_name = overlay_signals_func[i]+': {0:0.2f}%'.format(channel_event[i]*100.0/(tot_events+1e-10))\n",
    "        legend.AddEntry(h_overlay_func[x],overlay_signals_func[i],\"f\");\n",
    "        \n",
    "    c1 = ROOT.TCanvas(\"c1\",\"c1\",1600,1200)\n",
    "    c1.SetGrid(1)\n",
    "    c1.SetLeftMargin(0.14)\n",
    "    c1.SetRightMargin(0.05)\n",
    "    c1.SetBottomMargin(0.14)\n",
    "    \n",
    "    prelim = ROOT.TLatex(0.9,0.93, \"MicroBooNE Simulation Preliminary\");\n",
    "    prelim.SetTextFont(62);\n",
    "    prelim.SetTextColor(ROOT.kGray+2);\n",
    "    prelim.SetNDC();\n",
    "    prelim.SetTextSize(1/25.);\n",
    "    prelim.SetTextAlign(32);\n",
    "\n",
    "    #hs.SetYTitle(\"Entries per bin\")\n",
    "    h_overlay_func['DIS'].SetMinimum(0)\n",
    "    h_overlay_func['DIS'].SetMaximum(1)\n",
    "    \n",
    "    #hs.SetLineColor(ROOT.kBlack)\n",
    "    #hs.SetLineWidth(4)\n",
    "    ROOT.gStyle.SetEndErrorSize(5)\n",
    "\n",
    "    #h_overlay_func['other'].Draw('E1')\n",
    "    h_overlay_func['DIS'].Draw('E1')\n",
    "    #h_overlay_func['COH'].Draw('E1 same')\n",
    "    h_overlay_func['RES'].Draw('E1 same')\n",
    "    h_overlay_func['MEC'].Draw('E1 same')\n",
    "    h_overlay_func['QE'].Draw('E1 same')\n",
    "    legend.Draw()\n",
    "    \n",
    "    prelim.Draw()\n",
    "    \n",
    "    c1.Draw()\n",
    "    c1.SaveAs(globale.outputdir_png + \"h_channels_eff_\"+file_name+\".png\")\n",
    "    c1.SaveAs(globale.outputdir_root + \"h_channels_eff_\"+file_name+\".root\")\n",
    "    c1.SaveAs(globale.outputdir_pdf+ \"h_channels_eff_\"+file_name + \".pdf\")\n",
    "    \n",
    "    return "
   ]
  },
  {
   "cell_type": "code",
   "execution_count": 16,
   "metadata": {},
   "outputs": [],
   "source": [
    "cut = 'fidVol && muon && TrackLength>8 && crt_tom_cut && TrackScore>0.8\\\n",
    "                && TrackLength>20 && TrackPID_chiproton>78 && NuScore>0.1 && numu_signal'"
   ]
  },
  {
   "cell_type": "code",
   "execution_count": 17,
   "metadata": {},
   "outputs": [],
   "source": [
    "#numu_signal = 'fidVol && MCfidVol && MCNu_CCNC==0 && MCNu_PDG==14 && MCTrackPDG==13 && MCTrackPurity>0.5' # numu CC signal definition\n",
    "\n",
    "cut = 'fidVol && muon && TrackLength>8 && crt_tom_cut && TrackScore>0.8\\\n",
    "                && TrackLength>20 && TrackPID_chiproton>78 && NuScore>0.1 && numu_signal'\n",
    "name = 'all_cut'\n",
    "#NuCC_w.make_channel_histo(cut,'MCNu_Energy',0,2.5,20,'True neutrino energy [GeV]','true_energy_'+name,'right')\n",
    "#eff_channel_test(cut,'cos(MCNu_leptonTheta)',-1,1,20,'True cos(theta)','true_cos(theta)_'+name,'right')\n",
    "#NuCC_w.make_channel_histo(cut,'MCle_Energy',0,2.5,20,'True muon momentum [GeV]','true_momentum_'+name,'right')\n",
    "#NuCC_w.make_channel_histo(cut,'MCle_Phi',-3.15,3.15,20,'True muon phi','true_phi_'+name,'right')\n",
    "#NuCC_w.make_channel_histo(cut + ' && 1','NuTracks',0,10,10,'Number of Tracks','NuTracks'+name,'right')"
   ]
  },
  {
   "cell_type": "code",
   "execution_count": null,
   "metadata": {},
   "outputs": [],
   "source": []
  },
  {
   "cell_type": "code",
   "execution_count": 18,
   "metadata": {},
   "outputs": [],
   "source": [
    "cut = 'numu_true'\n",
    "name = 'generated'\n",
    "#NuCC_w.make_channel_histo(cut,'MCNu_Energy',0,2.5,20,'Truth neutrino energy [GeV]','true_energy_'+name,'right')\n",
    "#NuCC_w.make_channel_histo(cut,'cos(MCNu_leptonTheta)',-1,1,20,'True cos(theta)','true_cos(theta)_'+name,'left')\n",
    "#NuCC_w.make_channel_histo(cut,'MCle_Energy',0,2.5,20,'Truth muon momentum [GeV]','true_momentum_'+name,'right')\n",
    "#NuCC_w.make_channel_histo(cut,'MCle_Phi',-3.15,3.15,20,'Truth muon phi','true_phi_'+name,'right')"
   ]
  },
  {
   "cell_type": "code",
   "execution_count": null,
   "metadata": {},
   "outputs": [],
   "source": []
  },
  {
   "cell_type": "code",
   "execution_count": 19,
   "metadata": {},
   "outputs": [
    {
     "name": "stderr",
     "output_type": "stream",
     "text": [
      "Warning in <TCanvas::Constructor>: Deleting canvas with same name: c1\n",
      "Info in <TCanvas::Print>: png file /home/tmettler/Desktop/v08_00_00_33/V08_00_00_35/weighted/xsec_cross_check/png/h_channels_eff_true_energy.png has been created\n",
      "Info in <TCanvas::SaveAs>: ROOT file /home/tmettler/Desktop/v08_00_00_33/V08_00_00_35/weighted/xsec_cross_check/root/h_channels_eff_true_energy.root has been created\n",
      "Info in <TCanvas::Print>: pdf file /home/tmettler/Desktop/v08_00_00_33/V08_00_00_35/weighted/xsec_cross_check/pdf/h_channels_eff_true_energy.pdf has been created\n",
      "Info in <TCanvas::MakeDefCanvas>:  created default TCanvas with name c1\n",
      "Warning in <TCanvas::Constructor>: Deleting canvas with same name: c1\n",
      "Info in <TCanvas::Print>: png file /home/tmettler/Desktop/v08_00_00_33/V08_00_00_35/weighted/xsec_cross_check/png/h_channels_eff_true_cos(theta).png has been created\n",
      "Info in <TCanvas::SaveAs>: ROOT file /home/tmettler/Desktop/v08_00_00_33/V08_00_00_35/weighted/xsec_cross_check/root/h_channels_eff_true_cos(theta).root has been created\n",
      "Info in <TCanvas::Print>: pdf file /home/tmettler/Desktop/v08_00_00_33/V08_00_00_35/weighted/xsec_cross_check/pdf/h_channels_eff_true_cos(theta).pdf has been created\n",
      "Info in <TCanvas::MakeDefCanvas>:  created default TCanvas with name c1\n",
      "Warning in <TCanvas::Constructor>: Deleting canvas with same name: c1\n",
      "Info in <TCanvas::Print>: png file /home/tmettler/Desktop/v08_00_00_33/V08_00_00_35/weighted/xsec_cross_check/png/h_channels_eff_true_momentum.png has been created\n",
      "Info in <TCanvas::SaveAs>: ROOT file /home/tmettler/Desktop/v08_00_00_33/V08_00_00_35/weighted/xsec_cross_check/root/h_channels_eff_true_momentum.root has been created\n",
      "Info in <TCanvas::Print>: pdf file /home/tmettler/Desktop/v08_00_00_33/V08_00_00_35/weighted/xsec_cross_check/pdf/h_channels_eff_true_momentum.pdf has been created\n",
      "Info in <TCanvas::MakeDefCanvas>:  created default TCanvas with name c1\n",
      "Warning in <TCanvas::Constructor>: Deleting canvas with same name: c1\n",
      "Info in <TCanvas::Print>: png file /home/tmettler/Desktop/v08_00_00_33/V08_00_00_35/weighted/xsec_cross_check/png/h_channels_eff_true_phi.png has been created\n",
      "Info in <TCanvas::SaveAs>: ROOT file /home/tmettler/Desktop/v08_00_00_33/V08_00_00_35/weighted/xsec_cross_check/root/h_channels_eff_true_phi.root has been created\n",
      "Info in <TCanvas::Print>: pdf file /home/tmettler/Desktop/v08_00_00_33/V08_00_00_35/weighted/xsec_cross_check/pdf/h_channels_eff_true_phi.pdf has been created\n"
     ]
    }
   ],
   "source": [
    "cut = 'fidVol && muon && TrackLength>8 && crt_tom_cut && TrackScore>0.8\\\n",
    "                && TrackLength>20 && TrackPID_chiproton>78 && NuScore>0.1 && numu_signal'\n",
    "\n",
    "#NuCC_w.eff_channel_histo(cut,'MCNu_Energy',0.2,0.4,200,'Truth neutrino energy [GeV]','true_energy_fine','right')\n",
    "#NuCC_w.eff_channel_histo(cut,'MCNu_Energy',0.2,0.4,20,'Truth neutrino energy [GeV]','true_energy_rough','right')\n",
    "NuCC_w.eff_channel_histo(cut,'MCNu_Energy',0,2.5,20,'Generated neutrino energy [GeV]','true_energy','right')\n",
    "\n",
    "#NuCC_w.eff_channel_histo(cut,'MCle_Energy',0.1,0.3,200,'Truth muon momentum [GeV]','true_momentum_fine','right')\n",
    "#NuCC_w.eff_channel_histo(cut,'MCle_Energy',0.1,0.3,20,'Truth muon momentum [GeV]','true_momentum_rough','right')\n",
    "#NuCC_w.eff_channel_histo(cut,'MCle_Energy',0,2.5,20,'Truth muon momentum [GeV]','true_momentum','right')\n",
    "\n",
    "NuCC_w.eff_channel_histo(cut,'cos(MCNu_leptonTheta)',-1,1,20,'Generated cos(theta)','true_cos(theta)','left')\n",
    "NuCC_w.eff_channel_histo(cut,'MCle_Energy',0,1,10,'Generated muon momentum [GeV]','true_momentum','right')\n",
    "NuCC_w.eff_channel_histo(cut,'MCle_Phi',-3.15,3.15,20,'Generated muon phi','true_phi','left')"
   ]
  },
  {
   "cell_type": "code",
   "execution_count": 20,
   "metadata": {},
   "outputs": [
    {
     "ename": "NameError",
     "evalue": "name 'asawdf' is not defined",
     "output_type": "error",
     "traceback": [
      "\u001b[0;31m\u001b[0m",
      "\u001b[0;31mNameError\u001b[0mTraceback (most recent call last)",
      "\u001b[0;32m<ipython-input-20-a81045982218>\u001b[0m in \u001b[0;36m<module>\u001b[0;34m()\u001b[0m\n\u001b[0;32m----> 1\u001b[0;31m \u001b[0masawdf\u001b[0m\u001b[0;34m\u001b[0m\u001b[0m\n\u001b[0m",
      "\u001b[0;31mNameError\u001b[0m: name 'asawdf' is not defined"
     ]
    }
   ],
   "source": [
    "asawdf"
   ]
  },
  {
   "cell_type": "code",
   "execution_count": null,
   "metadata": {},
   "outputs": [],
   "source": [
    "cut = 'fidVol && muon'\n",
    "name = '_particle_01'\n",
    "side_right = 'right'\n",
    "side_left = 'left'\n",
    "\n",
    "#NuCC_w.make_stacked_histo_particle(cut,'Nu_Vx_sce','EventWeight','Reco. Nu vertex X position [cm]',-10,270,20,'NuVx_sce'+name,side_left)\n",
    "#NuCC_w.make_stacked_histo_particle(cut,'Nu_Vy_sce','EventWeight','Reco. Nu vertex Y position [cm]',-120,120,20,'NuVy_sce'+name,side_left)\n",
    "#NuCC_w.make_stacked_histo_particle(cut,'Nu_Vz_sce','EventWeight','Reco. Nu vertex Z position [cm]',-50,1050,20,'NuVz_sce'+name,side_left)\n",
    "#NuCC_w.make_stacked_histo_particle(cut,'TrackMomMCS_mom','EventWeight','Reco. muon track momentum (MCS) [GeV]',0,1.5,20,'TrackMom'+name,side_right)\n",
    "#NuCC_w.make_stacked_histo_particle(cut,'cos(TrackTheta)','EventWeight','Cos(theta)',-1,1,20,'cosTheta'+name,side_left)\n",
    "#NuCC_w.make_stacked_histo_particle(cut,'TrackPhi','EventWeight','Reco. muon phi',-3.15,3.15,20,'phi'+name,side_left)\n",
    "\n",
    "#NuCC_w.make_stacked_histo_particle(cut,'TrackLength','EventWeight','muon track length [cm]',0,600,50,'TrackLength'+name,'right')\n",
    "#NuCC_w.make_stacked_histo_particle(cut,'TrackPID_chiproton','EventWeight','Track PID Chi2 proton',0,350,20,'PIDproton'+name,side_left)\n",
    "#NuCC_w.make_stacked_histo_particle(cut,'TrackPID_chimuon','EventWeight','Track PID Chi2 muon',0,60,20,'PIDmuon'+name,'right')\n",
    "#NuCC_w.make_stacked_histo_particle(cut,'TrackPID_chipion','EventWeight','Track PID Chi2 pion',0,60,20,'PIDpion'+name,'right')\n",
    "#NuCC_w.make_stacked_histo_particle(cut+'&& TrackPID_chimuon!=-999','TrackPID_chimuon/TrackPID_chiproton','EventWeight','Track PID Chi2 muon/proton ration',0,0.25,20,'PIDmuprot_ration'+name,'right')\n",
    "#NuCC_w.make_stacked_histo_particle(cut,'TrackPID_chimuon/TrackPID_chipion','EventWeight','Track PID Chi2 muon/pion ration',0.4,1.2,20,'PIDmupion_ration'+name,'right')\n",
    "#NuCC_w.make_stacked_histo_particle(cut,'nr_crthit_top','EventWeight','Number of CRT hits in top',0,4,4,'CRTTophit'+name,'right')\n",
    "#NuCC_w.make_stacked_histo_particle(cut,'crthit_vertex_zcut','EventWeight','Number of CRT hits upstream of vertex',0,4,4,'CRTVertexcut'+name,'right')\n",
    "#NuCC_w.make_stacked_histo_particle(cut,'TrackScore','EventWeight','TrackScore',0.5,1,20,'TrackScore'+name,side_left)\n",
    "#NuCC_w.make_stacked_histo_particle(cut,'NuScore','EventWeight','Topological score',0,1,20,'NuScore'+name,'right')\n",
    "#NuCC_w.make_stacked_histo_particle(cut + ' && 1','NuTracks','EventWeight','Number of Tracks',0,10,10,'NuTracks'+name,side_right)\n",
    "#NuCC_w.make_stacked_histo_particle(cut + ' && 1','NumPfp','EventWeight','Number of Pfparticle',0,10,10,'NumPfp'+name,side_right)"
   ]
  },
  {
   "cell_type": "code",
   "execution_count": null,
   "metadata": {},
   "outputs": [],
   "source": [
    "cut = 'fidVol && muon && TrackLength>8 && crt_tom_cut && TrackScore>0.8                && TrackLength>20 && TrackPID_chiproton>78 && NuScore>0.1'\n",
    "name = '_07'\n",
    "side_right = 'right'\n",
    "side_left = 'left'\n",
    "\n",
    "#NuCC_w.make_stacked_histo_particle(cut,'Nu_Vx_sce','EventWeight','Reco. Nu vertex X position [cm]',-10,270,20,'NuVx_sce'+name,side_left)\n",
    "#NuCC_w.make_stacked_histo_particle(cut,'Nu_Vy_sce','EventWeight','Reco. Nu vertex Y position [cm]',-120,120,20,'NuVy_sce'+name,side_left)\n",
    "#NuCC_w.make_stacked_histo_particle(cut,'Nu_Vz_sce','EventWeight','Reco. Nu vertex Z position [cm]',-50,1050,20,'NuVz_sce'+name,side_left)\n",
    "#NuCC_w.make_stacked_histo_particle(cut,'TrackMomMCS_mom','EventWeight','Reco. muon track momentum (MCS) [GeV]',0,1.5,20,'TrackMom'+name,side_right)\n",
    "#NuCC_w.make_stacked_histo_particle(cut,'cos(TrackTheta)','EventWeight','Cos(theta)',-1,1,20,'cosTheta'+name,side_left)\n",
    "#NuCC_w.make_stacked_histo_particle(cut,'TrackPhi','EventWeight','Reco. muon phi',-3.15,3.15,20,'phi'+name,side_left)\n",
    "\n",
    "#NuCC_w.make_stacked_histo_particle(cut,'TrackLength','EventWeight','muon track length [cm]',0,600,50,'TrackLength'+name,'right')\n",
    "#NuCC_w.make_stacked_histo_particle(cut,'TrackPID_chiproton','EventWeight','Track PID Chi2 proton',0,350,20,'PIDproton'+name,side_left)\n",
    "#NuCC_w.make_stacked_histo_particle(cut,'TrackPID_chimuon','EventWeight','Track PID Chi2 muon',0,60,20,'PIDmuon'+name,'right')\n",
    "#NuCC_w.make_stacked_histo_particle(cut,'TrackPID_chipion','EventWeight','Track PID Chi2 pion',0,60,20,'PIDpion'+name,'right')\n",
    "#NuCC_w.make_stacked_histo_particle(cut+'&& TrackPID_chimuon!=-999','TrackPID_chimuon/TrackPID_chiproton','EventWeight','Track PID Chi2 muon/proton ration',0,0.25,20,'PIDmuprot_ration'+name,'right')\n",
    "#NuCC_w.make_stacked_histo_particle(cut,'TrackPID_chimuon/TrackPID_chipion','EventWeight','Track PID Chi2 muon/pion ration',0.4,1.2,20,'PIDmupion_ration'+name,'right')\n",
    "#NuCC_w.make_stacked_histo_particle(cut,'nr_crthit_top','EventWeight','Number of CRT hits in top',0,4,4,'CRTTophit'+name,'right')\n",
    "#NuCC_w.make_stacked_histo_particle(cut,'crthit_vertex_zcut','EventWeight','Number of CRT hits upstream of vertex',0,4,4,'CRTVertexcut'+name,'right')\n",
    "#NuCC_w.make_stacked_histo_particle(cut,'TrackScore','EventWeight','TrackScore',0.5,1,20,'TrackScore'+name,side_left)\n",
    "#NuCC_w.make_stacked_histo_particle(cut,'NuScore','EventWeight','Topological score',0,1,20,'NuScore'+name,'right')\n",
    "#NuCC_w.make_stacked_histo_particle(cut + ' && 1','NuTracks','EventWeight','Number of Tracks',0,10,10,'NuTracks'+name,side_right)\n",
    "#NuCC_w.make_stacked_histo_particle(cut + ' && 1','NumPfp','EventWeight','Number of Pfparticle',0,10,10,'NumPfp'+name,side_right)"
   ]
  },
  {
   "cell_type": "code",
   "execution_count": null,
   "metadata": {},
   "outputs": [],
   "source": []
  },
  {
   "cell_type": "code",
   "execution_count": null,
   "metadata": {},
   "outputs": [],
   "source": [
    "cut = 'fidVol && muon'\n",
    "name = '_01_PeLLE'\n",
    "side_right = 'right'\n",
    "side_left = 'left'\n",
    "print 'preselection'\n",
    "#NuCC_w.make_stacked_histo_weightV2(cut,'Nu_Vx_sce','EventWeight','Reco. Nu vertex X position [cm]',-10,270,20,'NuVx_sce'+name,side_left)\n",
    "#NuCC_w.make_stacked_histo_weightV2(cut,'Nu_Vy_sce','EventWeight','Reco. Nu vertex Y position [cm]',-120,120,20,'NuVy_sce'+name,side_left)\n",
    "#NuCC_w.make_stacked_histo_weightV2(cut,'Nu_Vz_sce','EventWeight','Reco. Nu vertex Z position [cm]',-50,1050,20,'NuVz_sce'+name,side_left)\n",
    "#NuCC_w.make_stacked_histo_weightV2(cut,'TrackMomMCS_mom','EventWeight','Reco. muon track momentum (MCS) [GeV]',0.15,1.15,25,'TrackMom'+name,side_right)\n",
    "#NuCC_w.make_stacked_histo_weightV2(cut,'TrackMomRange_mu','EventWeight','Reco. muon track momentum (range) [GeV]',0.15,1.15,25,'TrackMomRange'+name,side_right)\n",
    "\n",
    "#NuCC_w.make_stacked_histo_weightV2(cut,'cos(TrackTheta)','EventWeight','Cos(theta)',-1,1,28,'cosTheta'+name,side_left)\n",
    "#NuCC_w.make_stacked_histo_weightV2(cut,'TrackPhi','EventWeight','Reco. muon phi',-3.15,3.15,20,'phi'+name,side_left)\n",
    "\n",
    "#NuCC_w.make_stacked_histo_weightV2(cut,'TrackLength','EventWeight','muon track length [cm]',0,500,25,'TrackLength'+name,'right')\n",
    "#NuCC_w.make_stacked_histo_weightV2(cut,'TrackPID_chiproton','EventWeight','Track PID Chi2 proton',0,350,20,'PIDproton'+name,side_left)\n",
    "#NuCC_w.make_stacked_histo_weightV2(cut,'TrackPID_chimuon','EventWeight','Track PID Chi2 muon',0,60,20,'PIDmuon'+name,'right')\n",
    "#NuCC_w.make_stacked_histo_weightV2(cut,'TrackPID_chipion','EventWeight','Track PID Chi2 pion',0,60,20,'PIDpion'+name,'right')\n",
    "#NuCC_w.make_stacked_histo_weightV2(cut+'&& TrackPID_chimuon!=-999','TrackPID_chimuon/TrackPID_chiproton','EventWeight','Track PID Chi2 muon/proton ration',0,0.25,20,'PIDmuprot_ration'+name,'right')\n",
    "#NuCC_w.make_stacked_histo_weightV2(cut,'TrackPID_chimuon/TrackPID_chipion','EventWeight','Track PID Chi2 muon/pion ration',0.4,1.2,20,'PIDmupion_ration'+name,'right')\n",
    "#NuCC_w.make_stacked_histo_weightV2(cut,'nr_crthit_top','EventWeight','Number of CRT hits in top',0,4,4,'CRTTophit'+name,'right')\n",
    "#NuCC_w.make_stacked_histo_weightV2(cut,'crthit_vertex_zcut','EventWeight','Number of CRT hits upstream of vertex',0,4,4,'CRTVertexcut'+name,'right')\n",
    "#NuCC_w.make_stacked_histo_weightV2(cut,'TrackScore','EventWeight','TrackScore',0,1,25,'TrackScore'+name,side_left)\n",
    "#NuCC_w.make_stacked_histo_weightV2(cut,'NuScore','EventWeight','Topological score',0,1,25,'NuScore'+name,'right')\n",
    "#NuCC_w.make_stacked_histo_weightV2(cut + ' && 1','NuTracks','EventWeight','Number of Tracks',0,10,10,'NuTracks'+name,side_right)\n",
    "#NuCC_w.make_stacked_histo_weightV2(cut + ' && 1','NumPfp','EventWeight','Number of Pfparticle',0,10,10,'NumPfp'+name,side_right)"
   ]
  },
  {
   "cell_type": "code",
   "execution_count": null,
   "metadata": {},
   "outputs": [],
   "source": [
    "cut = 'fidVol && muon && TrackLength>8 && crt_tom_cut && TrackScore>0.8                && TrackLength>20 && TrackPID_chiproton>78 && NuScore>0.1'\n",
    "name = '_07_PeLLE'\n",
    "side_right = 'right'\n",
    "side_left = 'left'\n",
    "print 'preselection'\n",
    "#NuCC_w.make_stacked_histo_weightV2(cut,'Nu_Vx_sce','EventWeight','Reco. Nu vertex X position [cm]',-10,270,20,'NuVx_sce'+name,side_left)\n",
    "#NuCC_w.make_stacked_histo_weightV2(cut,'Nu_Vy_sce','EventWeight','Reco. Nu vertex Y position [cm]',-120,120,20,'NuVy_sce'+name,side_left)\n",
    "#NuCC_w.make_stacked_histo_weightV2(cut,'Nu_Vz_sce','EventWeight','Reco. Nu vertex Z position [cm]',-50,1050,20,'NuVz_sce'+name,side_left)\n",
    "#NuCC_w.make_stacked_histo_weightV2(cut,'TrackMomMCS_mom','EventWeight','Reco. muon track momentum (MCS) [GeV]',0.15,1.15,10,'TrackMom'+name,side_right)\n",
    "#NuCC_w.make_stacked_histo_weightV2(cut,'TrackMomRange_mu','EventWeight','Reco. muon track momentum (range) [GeV]',0.15,1.15,10,'TrackMomRange'+name,side_right)\n",
    "NuCC_w.make_stacked_histo_weightV2(cut+' && !track_end_uncontained','TrackMomRange_mu','EventWeight','Reco. muon track momentum (range) [GeV]',0.15,1.15,10,'TrackMomRange'+name+'_contained',side_right)\n",
    "\n",
    "#NuCC_w.make_stacked_histo_weightV2(cut,'cos(TrackTheta)','EventWeight','Cos(theta)',-1,1,28,'cosTheta'+name,side_left)\n",
    "#NuCC_w.make_stacked_histo_weightV2(cut,'TrackPhi','EventWeight','Reco. muon phi',-3.15,3.15,20,'phi'+name,side_left)\n",
    "\n",
    "#NuCC_w.make_stacked_histo_weightV2(cut,'TrackLength','EventWeight','muon track length [cm]',0,500,25,'TrackLength'+name,'right')\n",
    "#NuCC_w.make_stacked_histo_weightV2(cut,'TrackPID_chiproton','EventWeight','Track PID Chi2 proton',0,350,20,'PIDproton'+name,side_left)\n",
    "#NuCC_w.make_stacked_histo_weightV2(cut,'TrackPID_chimuon','EventWeight','Track PID Chi2 muon',0,60,20,'PIDmuon'+name,'right')\n",
    "#NuCC_w.make_stacked_histo_weightV2(cut,'TrackPID_chipion','EventWeight','Track PID Chi2 pion',0,60,20,'PIDpion'+name,'right')\n",
    "#NuCC_w.make_stacked_histo_weightV2(cut+'&& TrackPID_chimuon!=-999','TrackPID_chimuon/TrackPID_chiproton','EventWeight','Track PID Chi2 muon/proton ration',0,0.25,20,'PIDmuprot_ration'+name,'right')\n",
    "#NuCC_w.make_stacked_histo_weightV2(cut,'TrackPID_chimuon/TrackPID_chipion','EventWeight','Track PID Chi2 muon/pion ration',0.4,1.2,20,'PIDmupion_ration'+name,'right')\n",
    "#NuCC_w.make_stacked_histo_weightV2(cut,'nr_crthit_top','EventWeight','Number of CRT hits in top',0,4,4,'CRTTophit'+name,'right')\n",
    "#NuCC_w.make_stacked_histo_weightV2(cut,'crthit_vertex_zcut','EventWeight','Number of CRT hits upstream of vertex',0,4,4,'CRTVertexcut'+name,'right')\n",
    "#NuCC_w.make_stacked_histo_weightV2(cut,'TrackScore','EventWeight','TrackScore',0,1,25,'TrackScore'+name,side_left)\n",
    "#NuCC_w.make_stacked_histo_weightV2(cut,'NuScore','EventWeight','Topological score',0,1,25,'NuScore'+name,'right')\n",
    "#NuCC_w.make_stacked_histo_weightV2(cut + ' && 1','NuTracks','EventWeight','Number of Tracks',0,10,10,'NuTracks'+name,side_right)\n",
    "#NuCC_w.make_stacked_histo_weightV2(cut + ' && 1','NumPfp','EventWeight','Number of Pfparticle',0,10,10,'NumPfp'+name,side_right)"
   ]
  },
  {
   "cell_type": "code",
   "execution_count": null,
   "metadata": {},
   "outputs": [],
   "source": [
    "\n",
    "cut = 'fidVol && muon && TrackLength>8 && crt_tom_cut && TrackScore>0.8                && TrackLength>20 && TrackPID_chiproton>78 && NuScore>0.1'\n",
    "cut = cut + '&& abs(TrackMomRange_mu-TrackMomMCS_mom)<0.2'\n",
    "h_migration = ROOT.TH2F(\"h_migration\",'Truth vs. Reco',200,0,2.5,200,0,2.5)\n",
    "globale.overlay_out.Draw('TrackMomRange_mu:TrackMomMCS_mom'+'>>h_migration',weight_name+'*('+cut+'&& numu_true)','')\n",
    "h_migration.SetXTitle(\"reco Muon momentum MCS [GeV]\")\n",
    "h_migration.SetYTitle(\"reco Muon momentum range [GeV]\")\n",
    "h_migration.GetYaxis().SetTitleSize(0.05)\n",
    "h_migration.GetYaxis().SetTitleOffset(0.0)\n",
    "h_migration.GetYaxis().SetLabelSize(0.05)\n",
    "h_migration.GetXaxis().SetTitleSize(0.05)\n",
    "h_migration.GetXaxis().SetLabelSize(0.05)\n",
    "h_migration.GetXaxis().SetTitleOffset(1)\n",
    "h_migration.SetLineColor(ROOT.kBlack)\n",
    "h_migration.SetLineWidth(4)\n",
    "ROOT.gStyle.SetEndErrorSize(5)\n",
    "c1.SetRightMargin(0.1)\n",
    "\n",
    "h_migration.Draw(\"colz\")\n",
    "h_prof = h_migration.ProfileX()\n",
    "h_prof.SetLineColor(ROOT.kRed)\n",
    "h_prof.Draw('same')\n",
    "\n",
    "#prelim = draw_sim()\n",
    "#prelim.Draw()\n",
    "#h_migration.Draw(\"same text\")\n",
    "c1.Draw()\n",
    "c1.SaveAs(globale.outputdir_root + \"h2_range_MCS.root\")\n",
    "c1.SaveAs(globale.outputdir_png + \"h2_range_MCS.png\")\n",
    "h_migration.Write(\"h2_range_MCS_fine\")"
   ]
  },
  {
   "cell_type": "code",
   "execution_count": null,
   "metadata": {},
   "outputs": [],
   "source": []
  },
  {
   "cell_type": "code",
   "execution_count": null,
   "metadata": {},
   "outputs": [],
   "source": []
  },
  {
   "cell_type": "code",
   "execution_count": null,
   "metadata": {},
   "outputs": [],
   "source": []
  }
 ],
 "metadata": {
  "kernelspec": {
   "display_name": "Python 3",
   "language": "python",
   "name": "python3"
  },
  "language_info": {
   "codemirror_mode": {
    "name": "ipython",
    "version": 2
   },
   "file_extension": ".py",
   "mimetype": "text/x-python",
   "name": "python",
   "nbconvert_exporter": "python",
   "pygments_lexer": "ipython2",
   "version": "2.7.12"
  }
 },
 "nbformat": 4,
 "nbformat_minor": 2
}
