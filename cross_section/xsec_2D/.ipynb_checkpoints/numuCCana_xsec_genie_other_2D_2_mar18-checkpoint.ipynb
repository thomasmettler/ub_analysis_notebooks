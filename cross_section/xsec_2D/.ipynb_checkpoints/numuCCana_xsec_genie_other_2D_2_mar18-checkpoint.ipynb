{
 "cells": [
  {
   "cell_type": "code",
   "execution_count": 1,
   "metadata": {},
   "outputs": [
    {
     "name": "stdout",
     "output_type": "stream",
     "text": [
      "Welcome to JupyROOT 6.18/04\n"
     ]
    }
   ],
   "source": [
    "from __future__ import division\n",
    "import imp\n",
    "import uproot\n",
    "import matplotlib\n",
    "#matplotlib.use('agg')\n",
    "import matplotlib.pyplot as plt\n",
    "import matplotlib.image as mpimg\n",
    "import numpy as np\n",
    "import pandas as pd\n",
    "import os\n",
    "import ROOT\n",
    "import time\n",
    "import math\n",
    "import collections\n",
    "from array import array\n",
    "\n",
    "inputdir = '/home/tmettler/Desktop/v08_00_00_33/V08_00_00_35/weighted_improved/'\n",
    "outputdir = inputdir+'xsec_other_2D_2_mar18/' \n",
    "output_filedir = outputdir\n",
    "input_filedir = '/home/tmettler/Desktop/v08_00_00_33/V08_00_00_35/weighted/'\n",
    "lib_function_dir = '/home/tmettler/Desktop/uBoone/do_plots/'\n",
    "\n",
    "# helper functions\n",
    "globale = imp.load_source('globale',lib_function_dir+'globale.py')\n",
    "NuCC = imp.load_source('NuCC_function',lib_function_dir+'NuCC_function.py')\n",
    "NuCC_w = imp.load_source('NuCCWeight_function',lib_function_dir+'NuCCWeight_function.py')\n"
   ]
  },
  {
   "cell_type": "code",
   "execution_count": 2,
   "metadata": {},
   "outputs": [],
   "source": [
    "pot_data =    7.644e+18\n",
    "\n",
    "outputdir_png, outputdir_root, outputdir_pdf = NuCC.prepareOutput2(outputdir)\n",
    "try:\n",
    "    os.stat(output_filedir)\n",
    "except:\n",
    "    os.mkdir(output_filedir)\n",
    "RootFile = ROOT.TFile(output_filedir+\"xsec_genie_other_2D_2.root\",\"RECREATE\");\n"
   ]
  },
  {
   "cell_type": "code",
   "execution_count": 3,
   "metadata": {},
   "outputs": [],
   "source": [
    "#!jupyter nbconvert --to script numuCCana_muon_cut_weight.ipynb"
   ]
  },
  {
   "cell_type": "code",
   "execution_count": 4,
   "metadata": {},
   "outputs": [
    {
     "name": "stderr",
     "output_type": "stream",
     "text": [
      "Warning in <TCanvas::Constructor>: Deleting canvas with same name: c1\n"
     ]
    }
   ],
   "source": [
    "# initialte ROOT default canvas\n",
    "ROOT.gStyle.SetOptStat(0)\n",
    "ROOT.gStyle.SetOptTitle(0)\n",
    "c1 = ROOT.TCanvas(\"c1\",\"c1\",1600,1200)\n",
    "c1.SetGrid(1)\n",
    "c1.SetLeftMargin(0.14)\n",
    "c1.SetRightMargin(0.05)\n",
    "c1.SetBottomMargin(0.14)"
   ]
  },
  {
   "cell_type": "code",
   "execution_count": null,
   "metadata": {},
   "outputs": [],
   "source": []
  },
  {
   "cell_type": "markdown",
   "metadata": {},
   "source": [
    "# Other Genie 2D cross section error calculation"
   ]
  },
  {
   "cell_type": "code",
   "execution_count": 5,
   "metadata": {},
   "outputs": [
    {
     "name": "stdout",
     "output_type": "stream",
     "text": [
      "7.34038944724e-10\n",
      "7.3789785277e-10\n",
      "Fiducial Volume:  49184671.35\n",
      "Beam flux = 5.64049e+09  /cm2\n",
      "Number of target nuclei= 4.10331e+31  /cm3\n"
     ]
    }
   ],
   "source": [
    "##### flux and number of tragets parameters###\n",
    "flux = 1.16859e11/1.592e20 # flux per POT per cm2\n",
    "print flux\n",
    "flux = 7.3789785277e-10\n",
    "print flux\n",
    "roh_data = 1.3836 #data denisity g/cm3\n",
    "roh_MC = 1.3954 # MC denisity g/cm3\n",
    "mol = 39.95 # g for argon\n",
    "N_A = 6.022140857e23 # molec/mol avogadro zahl\n",
    "N_nucleons = 40.0\n",
    "V_fid = ((254.8-10)-(-1.55+10))*((117.47-10)-(-115.53+10))*((1036.9-50)-(-0.1+10))\n",
    "print 'Fiducial Volume: ', V_fid\n",
    "##############################################\n",
    "\n",
    "beam_flux = flux * pot_data\n",
    "print 'Beam flux = {:.5e}'.format(beam_flux),' /cm2'\n",
    "N_tot = roh_data*N_A*N_nucleons*V_fid/mol\n",
    "print 'Number of target nuclei= {:.5e}'.format(N_tot),' /cm3'"
   ]
  },
  {
   "cell_type": "code",
   "execution_count": 6,
   "metadata": {},
   "outputs": [],
   "source": [
    "def draw_adding():\n",
    "    prelim = ROOT.TLatex(0.9,0.93, \"MicroBooNE Preliminary\");\n",
    "    prelim.SetTextFont(62);\n",
    "    prelim.SetTextColor(ROOT.kGray+2);\n",
    "    prelim.SetNDC();\n",
    "    prelim.SetTextSize(1/30.);\n",
    "    prelim.SetTextAlign(32);\n",
    "    #prelim.SetTextSize(0.04631579);\n",
    "    prelim.Draw()\n",
    "\n",
    "    pot_latex = ROOT.TLatex(.10, .92,'Accumulated POT: '+str(pot_data)) \n",
    "    pot_latex.SetTextFont(62);\n",
    "    pot_latex.SetTextColor(ROOT.kGray+2);\n",
    "    pot_latex.SetNDC();\n",
    "    pot_latex.SetTextSize(1/30.);\n",
    "    pot_latex.SetTextAlign(10) #;//left adjusted\n",
    "    pot_latex.Draw();\n",
    "    \n",
    "    return prelim, pot_latex\n",
    "\n",
    "def draw_sim():\n",
    "    prelim = ROOT.TLatex(0.9,0.93, \"MicroBooNE Simulation Preliminary\");\n",
    "    prelim.SetTextFont(62);\n",
    "    prelim.SetTextColor(ROOT.kGray+2);\n",
    "    prelim.SetNDC();\n",
    "    prelim.SetTextSize(1/30.);\n",
    "    prelim.SetTextAlign(32);\n",
    "    #prelim.SetTextSize(0.04631579);\n",
    "    prelim.Draw()\n",
    "    \n",
    "    return prelim"
   ]
  },
  {
   "cell_type": "code",
   "execution_count": 7,
   "metadata": {},
   "outputs": [],
   "source": [
    "from array import array\n",
    "#mom_bins = [ 0.00, 0.18, 0.30, 0.45, 0.77, 1.28, 2.50 ]\n",
    "#mom_bins = [ 0.00, 0.225, 0.28, 0.33, 0.39, 0.52, 0.78, 1.21, 2.5]\n",
    "\n",
    "mom_bins = {}\n",
    "mom_bins[0] = [ 0.00, 0.18, 0.30, 0.45, 0.77, 2.50 ]\n",
    "mom_bins[1] = [ 0.00, 0.18, 0.30, 0.45, 0.77, 2.50 ]\n",
    "mom_bins[2] = [ 0.00, 0.18, 0.30, 0.45, 0.77, 2.50 ]\n",
    "mom_bins[3] = [ 0.00, 0.30, 0.45, 0.77, 2.50 ]\n",
    "mom_bins[4] = [ 0.00, 0.30, 0.45, 0.77, 2.50 ]\n",
    "mom_bins[5] = [ 0.00, 0.30, 0.45, 0.77, 2.50 ]\n",
    "mom_bins[6] = [ 0.00, 0.30, 0.45, 0.77, 1.28, 2.50 ]\n",
    "mom_bins[7] = [ 0.00, 0.30, 0.45, 0.77, 1.28, 2.50 ]\n",
    "mom_bins[8] = [ 0.00, 0.30, 0.45, 0.77, 1.28, 2.50 ]\n",
    "\n",
    "theta_bins = [ -1.00, -0.50, 0.00, 0.28, 0.47, 0.63, 0.765, 0.865, 0.935, 1.00 ]\n",
    "\n",
    "len_theta = len(theta_bins) - 1\n",
    "len_mom = {}\n",
    "sum_bins = 0\n",
    "for i in range(len_theta):\n",
    "    len_mom[i] = len(mom_bins[i]) - 1\n",
    "    #print len_mom[i]\n",
    "    sum_bins+=len_mom[i]\n",
    "\n",
    "num_universes = 2"
   ]
  },
  {
   "cell_type": "code",
   "execution_count": 9,
   "metadata": {},
   "outputs": [],
   "source": [
    "path_other = '/home/tmettler/Desktop/v08_00_00_33/V08_00_00_35/weighted_improved/'\n",
    "f_other = ROOT.TFile.Open(path_other+\"xsec_other_2D_mar18/Other_Genie_2D.root\", 'read')\n",
    "\n",
    "path_cv = '/home/tmettler/Desktop/v08_00_00_33/V08_00_00_35/weighted_improved/'\n",
    "f_cv = ROOT.TFile.Open(path_cv+\"xsec_filesV4/xsec_2D_wighted.root\", 'read')\n",
    "\n",
    "# fix file: root -l\n",
    "#            TFile *MyFile = new TFile(\"All_Genie_theta.root\",\"UPDATE\");\n",
    "#           MyFile->Write()"
   ]
  },
  {
   "cell_type": "code",
   "execution_count": 11,
   "metadata": {},
   "outputs": [
    {
     "name": "stdout",
     "output_type": "stream",
     "text": [
      "88.0\n",
      "5.80717624724\n",
      "11.4282898307\n"
     ]
    }
   ],
   "source": [
    "# get data, ext and dirt from CV file\n",
    "h_data = []\n",
    "h_ext = []\n",
    "h_dirt = []\n",
    "\n",
    "for t_bin in range(len_theta):\n",
    "    h_data.append(f_cv.Get('h_data['+str(t_bin)+']'))\n",
    "    h_ext.append(f_cv.Get('h_ext['+str(t_bin)+']'))\n",
    "    h_dirt.append(f_cv.Get('h_dirt['+str(t_bin)+']'))\n",
    "\n",
    "print h_data[0].Integral(0,len_mom[0]+1)\n",
    "print h_ext[0].Integral(0,len_mom[0]+1)\n",
    "print h_dirt[0].Integral(0,len_mom[0]+1)"
   ]
  },
  {
   "cell_type": "code",
   "execution_count": 12,
   "metadata": {},
   "outputs": [],
   "source": [
    "# get background from all genie file\n",
    "h_bkg = []\n",
    "\n",
    "for uni in range(num_universes):\n",
    "    h_bkg.append([])\n",
    "    for t_bin in range(len_theta):\n",
    "        h_bkg[uni].append(f_all.Get('h_overlay['+str(uni)+']['+str(t_bin)+']'))"
   ]
  },
  {
   "cell_type": "code",
   "execution_count": 13,
   "metadata": {},
   "outputs": [],
   "source": [
    "# get background from all genie file\n",
    "h_eff_tilde = []\n",
    "\n",
    "for uni in range(num_universes):\n",
    "    h_eff_tilde.append([])\n",
    "    for t_bin in range(len_theta):\n",
    "        h_eff_tilde[uni].append(f_all.Get('h_1d_eff_tilde['+str(uni)+']['+str(t_bin)+']'))"
   ]
  },
  {
   "cell_type": "code",
   "execution_count": 16,
   "metadata": {},
   "outputs": [],
   "source": [
    "# calculate xsec for each universe\n",
    "h_xsec_data = []\n",
    "\n",
    "for uni in range(num_universes):\n",
    "    h_xsec_data.append([])\n",
    "    for t_bin in range(len_theta):\n",
    "        h_xsec_data[uni].append(h_data[t_bin].Clone())\n",
    "        h_xsec_data[uni][t_bin].Add(h_ext[t_bin],-1)\n",
    "        h_xsec_data[uni][t_bin].Add(h_dirt[t_bin],-1)\n",
    "        h_xsec_data[uni][t_bin].Add(h_bkg[uni][t_bin],-1)\n",
    "        \n",
    "        h_xsec_data[uni][t_bin].Divide(h_eff_tilde[uni][t_bin])\n",
    "        h_xsec_data[uni][t_bin].Scale(1.0/(N_tot*beam_flux*1e-38))\n",
    "        \n",
    "        for m_bin in range(len_mom[t_bin]):\n",
    "            h_xsec_data[uni][t_bin].SetBinContent(m_bin+1,h_xsec_data[uni][t_bin].GetBinContent(m_bin+1)/h_xsec_data[uni][t_bin].GetBinWidth(m_bin+1))\n",
    "            h_xsec_data[uni][t_bin].SetBinError(m_bin+1,h_xsec_data[uni][t_bin].GetBinError(m_bin+1)/h_xsec_data[uni][t_bin].GetBinWidth(m_bin+1))\n",
    "        \n",
    "        bin_width_theta = theta_bins[t_bin+1] - theta_bins[t_bin]\n",
    "        h_xsec_data[uni][t_bin].Scale(1.0/bin_width_theta)"
   ]
  },
  {
   "cell_type": "code",
   "execution_count": 21,
   "metadata": {},
   "outputs": [
    {
     "name": "stderr",
     "output_type": "stream",
     "text": [
      "Info in <TCanvas::Print>: png file /home/tmettler/Desktop/v08_00_00_33/V08_00_00_35/weighted_improved/xsec_all_2D_2_mar18/png/h_xsec_2D_0_all.png has been created\n",
      "Info in <TCanvas::Print>: pdf file /home/tmettler/Desktop/v08_00_00_33/V08_00_00_35/weighted_improved/xsec_all_2D_2_mar18/pdf/h_xsec_2D_0_all.pdf has been created\n",
      "Info in <TCanvas::Print>: png file /home/tmettler/Desktop/v08_00_00_33/V08_00_00_35/weighted_improved/xsec_all_2D_2_mar18/png/h_xsec_2D_1_all.png has been created\n",
      "Info in <TCanvas::Print>: pdf file /home/tmettler/Desktop/v08_00_00_33/V08_00_00_35/weighted_improved/xsec_all_2D_2_mar18/pdf/h_xsec_2D_1_all.pdf has been created\n",
      "Info in <TCanvas::Print>: png file /home/tmettler/Desktop/v08_00_00_33/V08_00_00_35/weighted_improved/xsec_all_2D_2_mar18/png/h_xsec_2D_2_all.png has been created\n",
      "Info in <TCanvas::Print>: pdf file /home/tmettler/Desktop/v08_00_00_33/V08_00_00_35/weighted_improved/xsec_all_2D_2_mar18/pdf/h_xsec_2D_2_all.pdf has been created\n",
      "Info in <TCanvas::Print>: png file /home/tmettler/Desktop/v08_00_00_33/V08_00_00_35/weighted_improved/xsec_all_2D_2_mar18/png/h_xsec_2D_3_all.png has been created\n",
      "Info in <TCanvas::Print>: pdf file /home/tmettler/Desktop/v08_00_00_33/V08_00_00_35/weighted_improved/xsec_all_2D_2_mar18/pdf/h_xsec_2D_3_all.pdf has been created\n",
      "Info in <TCanvas::Print>: png file /home/tmettler/Desktop/v08_00_00_33/V08_00_00_35/weighted_improved/xsec_all_2D_2_mar18/png/h_xsec_2D_4_all.png has been created\n",
      "Info in <TCanvas::Print>: pdf file /home/tmettler/Desktop/v08_00_00_33/V08_00_00_35/weighted_improved/xsec_all_2D_2_mar18/pdf/h_xsec_2D_4_all.pdf has been created\n",
      "Info in <TCanvas::Print>: png file /home/tmettler/Desktop/v08_00_00_33/V08_00_00_35/weighted_improved/xsec_all_2D_2_mar18/png/h_xsec_2D_5_all.png has been created\n",
      "Info in <TCanvas::Print>: pdf file /home/tmettler/Desktop/v08_00_00_33/V08_00_00_35/weighted_improved/xsec_all_2D_2_mar18/pdf/h_xsec_2D_5_all.pdf has been created\n",
      "Info in <TCanvas::Print>: png file /home/tmettler/Desktop/v08_00_00_33/V08_00_00_35/weighted_improved/xsec_all_2D_2_mar18/png/h_xsec_2D_6_all.png has been created\n",
      "Info in <TCanvas::Print>: pdf file /home/tmettler/Desktop/v08_00_00_33/V08_00_00_35/weighted_improved/xsec_all_2D_2_mar18/pdf/h_xsec_2D_6_all.pdf has been created\n",
      "Info in <TCanvas::Print>: png file /home/tmettler/Desktop/v08_00_00_33/V08_00_00_35/weighted_improved/xsec_all_2D_2_mar18/png/h_xsec_2D_7_all.png has been created\n",
      "Info in <TCanvas::Print>: pdf file /home/tmettler/Desktop/v08_00_00_33/V08_00_00_35/weighted_improved/xsec_all_2D_2_mar18/pdf/h_xsec_2D_7_all.pdf has been created\n",
      "Info in <TCanvas::Print>: png file /home/tmettler/Desktop/v08_00_00_33/V08_00_00_35/weighted_improved/xsec_all_2D_2_mar18/png/h_xsec_2D_8_all.png has been created\n",
      "Info in <TCanvas::Print>: pdf file /home/tmettler/Desktop/v08_00_00_33/V08_00_00_35/weighted_improved/xsec_all_2D_2_mar18/pdf/h_xsec_2D_8_all.pdf has been created\n"
     ]
    },
    {
     "data": {
      "image/png": "[encoded data removed]",
      "text/plain": [
       "<IPython.core.display.Image object>"
      ]
     },
     "metadata": {},
     "output_type": "display_data"
    }
   ],
   "source": [
    "# draw all xsec\n",
    "\n",
    "ROOT.gStyle.SetOptTitle(1)\n",
    "for t_bin in range(len_theta): #len_theta\n",
    "    legend = ROOT.TLegend(0.65,0.55,0.9,0.9); #LEGEND RIGHT\n",
    "    for uni in range(num_universes):\n",
    "        #legend.AddEntry(h_xsec_data[uni][t_bin],name_files[i],\"f\")\n",
    "        h_xsec_data[uni][t_bin].SetLineColorAlpha(2,0.8)\n",
    "        h_xsec_data[uni][t_bin].GetYaxis().SetTitleSize(0.05)\n",
    "        h_xsec_data[uni][t_bin].GetYaxis().SetTitleOffset(0.0)\n",
    "        h_xsec_data[uni][t_bin].GetYaxis().SetLabelSize(0.05)\n",
    "        h_xsec_data[uni][t_bin].GetXaxis().SetTitleSize(0.05)\n",
    "        h_xsec_data[uni][t_bin].GetXaxis().SetLabelSize(0.05)\n",
    "        h_xsec_data[uni][t_bin].GetXaxis().SetTitleOffset(1)\n",
    "        h_xsec_data[uni][t_bin].SetLineWidth(4)\n",
    "        if(uni == 0):\n",
    "            h_xsec_data[uni][t_bin].SetTitle(str(theta_bins[t_bin])+'< cos(#theta^{reco}_{#mu}) <'+str(theta_bins[t_bin+1]))\n",
    "            h_xsec_data[uni][t_bin].SetXTitle(\"p^{reco}_{#mu} [GeV]\")\n",
    "            h_xsec_data[uni][t_bin].SetYTitle('#frac{#sigma^{2}}{dp_{#mu} dcos(#theta)} \\t [10^{-38} #frac{cm^{2}}{GeV Nucleon}]')\n",
    "            h_xsec_data[uni][t_bin].SetMaximum(-1111)\n",
    "            h_xsec_data[uni][t_bin].SetMinimum(0)\n",
    "            h_xsec_data[uni][t_bin].SetMaximum( h_xsec_data[uni][t_bin].GetMaximum()*1.5)\n",
    "            h_xsec_data[uni][t_bin].Draw('hist')\n",
    "        else:\n",
    "            h_xsec_data[uni][t_bin].Draw('hist same')\n",
    "    c1.SaveAs(outputdir_png + 'h_xsec_2D_'+str(t_bin)+'_all.png')\n",
    "    #c1.SaveAs(globale.outputdir_root + 'h_xsec_2D_'+str(t_bin)+'_all.root')\n",
    "    c1.SaveAs(outputdir_pdf + 'h_xsec_2D_'+str(t_bin)+'_all.pdf')\n",
    "\n",
    "    c1.Draw()\n",
    "            \n"
   ]
  },
  {
   "cell_type": "code",
   "execution_count": null,
   "metadata": {},
   "outputs": [],
   "source": []
  },
  {
   "cell_type": "code",
   "execution_count": null,
   "metadata": {},
   "outputs": [],
   "source": []
  },
  {
   "cell_type": "code",
   "execution_count": null,
   "metadata": {},
   "outputs": [],
   "source": []
  },
  {
   "cell_type": "code",
   "execution_count": null,
   "metadata": {},
   "outputs": [],
   "source": []
  },
  {
   "cell_type": "code",
   "execution_count": null,
   "metadata": {},
   "outputs": [],
   "source": []
  },
  {
   "cell_type": "code",
   "execution_count": null,
   "metadata": {},
   "outputs": [],
   "source": []
  },
  {
   "cell_type": "code",
   "execution_count": null,
   "metadata": {},
   "outputs": [],
   "source": []
  },
  {
   "cell_type": "code",
   "execution_count": null,
   "metadata": {},
   "outputs": [],
   "source": []
  },
  {
   "cell_type": "code",
   "execution_count": null,
   "metadata": {},
   "outputs": [],
   "source": []
  },
  {
   "cell_type": "code",
   "execution_count": 40,
   "metadata": {},
   "outputs": [],
   "source": [
    "# close the root file with all the histos\n",
    "RootFile.Close()"
   ]
  },
  {
   "cell_type": "code",
   "execution_count": null,
   "metadata": {},
   "outputs": [],
   "source": []
  }
 ],
 "metadata": {
  "kernelspec": {
   "display_name": "Python 3",
   "language": "python",
   "name": "python3"
  },
  "language_info": {
   "codemirror_mode": {
    "name": "ipython",
    "version": 2
   },
   "file_extension": ".py",
   "mimetype": "text/x-python",
   "name": "python",
   "nbconvert_exporter": "python",
   "pygments_lexer": "ipython2",
   "version": "2.7.12"
  }
 },
 "nbformat": 4,
 "nbformat_minor": 2
}
