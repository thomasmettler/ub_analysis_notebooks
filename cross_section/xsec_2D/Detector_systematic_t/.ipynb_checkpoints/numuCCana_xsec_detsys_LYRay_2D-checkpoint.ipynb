{
 "cells": [
  {
   "cell_type": "code",
   "execution_count": 1,
   "metadata": {},
   "outputs": [
    {
     "name": "stdout",
     "output_type": "stream",
     "text": [
      "Welcome to JupyROOT 6.18/04\n"
     ]
    }
   ],
   "source": [
    "from __future__ import division\n",
    "import imp\n",
    "import uproot\n",
    "import matplotlib\n",
    "#matplotlib.use('agg')\n",
    "import matplotlib.pyplot as plt\n",
    "import matplotlib.image as mpimg\n",
    "import numpy as np\n",
    "import pandas as pd\n",
    "import os\n",
    "import ROOT\n",
    "import time\n",
    "import math\n",
    "import collections\n",
    "from array import array\n",
    "\n",
    "inputdir = '/home/tmettler/Desktop/v08_00_00_33/V08_00_00_35/weighted/'\n",
    "outputdir = '/home/tmettler/Desktop/v08_00_00_33/V08_00_00_35/weighted_improved/'+'xsec_detsys_LYRay_2D/' \n",
    "output_filedir = outputdir\n",
    "input_filedir = '/home/tmettler/Desktop/v08_00_00_33/V08_00_00_35/weighted/'\n",
    "lib_function_dir = '/home/tmettler/Desktop/uBoone/do_plots/'\n",
    "\n",
    "# helper functions\n",
    "globale = imp.load_source('globale',lib_function_dir+'globale.py')\n",
    "NuCC = imp.load_source('NuCC_function',lib_function_dir+'NuCC_function.py')\n",
    "NuCC_w = imp.load_source('NuCCWeight_function',lib_function_dir+'NuCCWeight_function.py')\n"
   ]
  },
  {
   "cell_type": "code",
   "execution_count": 2,
   "metadata": {},
   "outputs": [],
   "source": [
    "#!jupyter nbconvert --to script numuCCana_muon_cut_weight.ipynb"
   ]
  },
  {
   "cell_type": "markdown",
   "metadata": {},
   "source": [
    "# Detector systematic: LY Ray"
   ]
  },
  {
   "cell_type": "code",
   "execution_count": 3,
   "metadata": {},
   "outputs": [],
   "source": [
    "# Load input files\n",
    "try:\n",
    "    os.stat(output_filedir)\n",
    "except:\n",
    "    os.mkdir(output_filedir)\n",
    "    \n",
    "outputdir_png, outputdir_root, outputdir_pdf = NuCC.prepareOutput2(outputdir)\n",
    "RootFile = ROOT.TFile(output_filedir+\"xsec_detsys_LYRayleigh_2D.root\",\"RECREATE\");\n",
    "\n",
    "#filename_overlay = 'NuCCana_overlay_V26_weight.root'\n",
    "filename_overlay = 'detector_variation_reweight/NuCCana_ovleray_detsys_reweight_CV_all.root'\n",
    "filename_data = 'NuCCana_data_V25.root'\n",
    "filename_ext = 'NuCCana_ext_V25.root'\n",
    "filename_dirt = 'NuCCana_dirt_V26_weight.root'\n",
    "\n",
    "#additional detector variation file\n",
    "filename_detsys = 'detector_variation_reweight/NuCCana_ovleray_detsys_reweight_LYRayleigh_all.root'\n",
    "\n",
    "tree_name = 'numuCCAna'"
   ]
  },
  {
   "cell_type": "code",
   "execution_count": 4,
   "metadata": {},
   "outputs": [
    {
     "name": "stdout",
     "output_type": "stream",
     "text": [
      "Overlay: Number of Entries:\t96450\n",
      "Data: Number of Entries:\t28005\n",
      "Ext: Number of Entries:\t\t222702\n",
      "Dirt: Number of Entries:\t40808\n",
      "\n",
      "POT: \n",
      "Data:\t\t7.644e+18\n",
      "Ext:\t\t0\n",
      "Overlay:\t1.19653398031e+20\n",
      "Dirt:\t\t1.25019694173e+20\n",
      "\n",
      "Detsys POT: 1.21172371216e+20  Scale:  0.0630836875049\n",
      "Scalefactors: \n",
      "Data:\t\t1.0\n",
      "Ext:\t\t0.0967862715198\n",
      "Overlay:\t0.0638845208392\n",
      "Dirt:\t\t0.0611423668132\n"
     ]
    }
   ],
   "source": [
    "#Open all the trees of the four files (data, ext, dirt, overlay)\n",
    "\n",
    "data, ext, dirt, overlay = NuCC.openTrees(inputdir, filename_data, filename_ext, filename_dirt, filename_overlay, tree_name)\n",
    "NuCC.printNumberOfEntries(data,ext,dirt,overlay)\n",
    "\n",
    "pot_overlay = NuCC.getPOT(inputdir,filename_overlay,tree_name)\n",
    "pot_dirt =  NuCC.getPOT(inputdir,filename_dirt,tree_name)\n",
    "#V25 files\n",
    "pot_data =     7.644e+18 # 8.649e+18  # best with tor875\n",
    "data_trigger = 1838700.0 #2220362.0  #E1DCNT_wcut\n",
    "ext_trigger =  18997529.0  #2120135 #5685315 # EXT\n",
    "\n",
    "print 'POT: '\n",
    "print 'Data:\\t\\t', pot_data\n",
    "print 'Ext:\\t\\t', 0\n",
    "print 'Overlay:\\t', pot_overlay\n",
    "print 'Dirt:\\t\\t', pot_dirt\n",
    "print ''\n",
    "\n",
    "#filename_detsys = filename_detsys+'out33.root'\n",
    "detsys = ROOT.TChain(tree_name+ \"/event\",\"event\")\n",
    "detsys.Add( inputdir + filename_detsys)\n",
    "pot_detsys = NuCC.getPOT(inputdir,filename_detsys,tree_name)\n",
    "\n",
    "pot_overlay = pot_overlay\n",
    "sample = [data,ext,overlay,dirt,detsys]\n",
    "scale = {data:1.0,ext:1.0,overlay:1.0,dirt:1.0,detsys:1.0}\n",
    "name = {data:'data',ext:'ext',overlay:'overlay',dirt:'dirt',detsys:'detsys'}\n",
    "scale[data], scale[ext], scale[dirt], scale[overlay] = NuCC.calculateScale(data_trigger, ext_trigger, pot_data, pot_dirt, pot_overlay)\n",
    "scale[dirt] = scale[dirt]\n",
    "scale[overlay] = scale[overlay]\n",
    "scale_detsys = pot_data/pot_detsys\n",
    "scale[detsys] = scale_detsys\n",
    "print 'Detsys POT:', pot_detsys, ' Scale: ', scale_detsys\n",
    "print 'Scalefactors: '\n",
    "print 'Data:\\t\\t', scale[data]\n",
    "print 'Ext:\\t\\t', scale[ext]\n",
    "print 'Overlay:\\t', scale[overlay]\n",
    "print 'Dirt:\\t\\t', scale[dirt]\n"
   ]
  },
  {
   "cell_type": "code",
   "execution_count": 5,
   "metadata": {},
   "outputs": [
    {
     "name": "stdout",
     "output_type": "stream",
     "text": [
      "Detsys: Number of Entries:\t97587\n",
      "Overlay: Number of Entries:\t96446\n",
      "Data: Number of Entries:\t28004\n",
      "Ext: Number of Entries:\t\t222701\n",
      "Dirt: Number of Entries:\t40800\n",
      "\n"
     ]
    }
   ],
   "source": [
    "if 1:\n",
    "    filename_overlay = filename_overlay+'out4.root'\n",
    "    #filename_overlay = 'NuCCana_overlay_points_1kev.rootout2.root'\n",
    "    filename_data = filename_data+'out4.root'\n",
    "    filename_ext = filename_ext+'out4.root'\n",
    "    filename_dirt = filename_dirt+'out4.root'\n",
    "\n",
    "    tree_name = 't_out'\n",
    "    \n",
    "    filename_detsys = filename_detsys+'out4.root'\n",
    "    detsys_out = ROOT.TChain(tree_name,\"t_out\")\n",
    "    detsys_out.Add( inputdir + filename_detsys)\n",
    "    print \"Detsys: Number of Entries:\\t\", detsys_out.GetEntries()\n",
    "\n",
    "    data_out, ext_out, dirt_out, overlay_out = NuCC.openTreesOut(inputdir, filename_data, filename_ext, filename_dirt, filename_overlay, tree_name)\n",
    "    NuCC.printNumberOfEntries(data_out,ext_out,dirt_out,overlay_out)\n",
    "\n",
    "    sample_out = [data_out,ext_out,overlay_out,dirt_out, detsys_out]\n",
    "    scale_out = {data_out:1.0,ext_out:1.0,overlay_out:1.0,dirt_out:1.0, detsys_out:1.0}\n",
    "    name_out = {data_out:'data',ext_out:'ext',overlay_out:'overlay',dirt_out:'dirt',detsys_out:'detsys'}\n",
    "\n",
    "    scale_out[data_out], scale_out[ext_out], scale_out[dirt_out], scale_out[overlay_out] = NuCC.calculateScale(data_trigger, ext_trigger, pot_data, pot_dirt, pot_overlay)\n",
    "    scale_out[dirt_out] = scale_out[dirt_out]\n",
    "    scale_out[overlay_out] = scale_out[overlay_out]\n",
    "    scale_out[detsys_out] = scale_detsys"
   ]
  },
  {
   "cell_type": "code",
   "execution_count": 6,
   "metadata": {},
   "outputs": [
    {
     "name": "stdout",
     "output_type": "stream",
     "text": [
      "Fiducial Volume:  49184671.35\n",
      "Beam flux = 5.64049e+09  /cm2\n",
      "Number of target nuclei= 4.10331e+31  /cm3\n"
     ]
    }
   ],
   "source": [
    "##### flux and number of tragets parameters###\n",
    "#flux = 1.16859e11/1.592e20 # flux per POT per cm2\n",
    "flux = 7.3789785277e-10\n",
    "roh_data = 1.3836 #data denisity g/cm3\n",
    "roh_MC = 1.3954 # MC denisity g/cm3\n",
    "mol = 39.95 # g for argon\n",
    "N_A = 6.022140857e23 # molec/mol avogadro zahl\n",
    "N_nucleons = 40.0\n",
    "V_fid = ((254.8-10)-(-1.55+10))*((117.47-10)-(-115.53+10))*((1036.9-50)-(-0.1+10))\n",
    "print 'Fiducial Volume: ', V_fid\n",
    "##############################################\n",
    "\n",
    "beam_flux = flux * pot_data\n",
    "print 'Beam flux = {:.5e}'.format(beam_flux),' /cm2'\n",
    "N_tot = roh_data*N_A*N_nucleons*V_fid/mol\n",
    "print 'Number of target nuclei= {:.5e}'.format(N_tot),' /cm3'"
   ]
  },
  {
   "cell_type": "code",
   "execution_count": 7,
   "metadata": {},
   "outputs": [],
   "source": [
    "# Define signals\n",
    "\n",
    "fidVol = '(Nu_Vx_sce>(-1.55+10) && Nu_Vx_sce<(254.8-10)) && (Nu_Vy_sce>(-115.53+10) && Nu_Vy_sce<(117.47-10)) &&(Nu_Vz_sce>(-0.1+10) && Nu_Vz_sce<(1036.9-50))'\n",
    "MCfidVol = '(MCNu_Vx>(-1.55+10) && MCNu_Vx<(254.8-10)) && (MCNu_Vy>(-115.53+10) && MCNu_Vy<(117.47-10)) &&(MCNu_Vz>(-0.1+10) && MCNu_Vz<(1036.9-50))'\n",
    "numu_signal = 'fidVol && MCfidVol && MCNu_CCNC==0 && MCNu_PDG==14 && MCTrackPDG==13 && MCTrackPurity>0.5' # numu CC signal definition\n",
    "numu_true = 'MCfidVol && MCNu_CCNC==0 && MCNu_PDG==14' # numu CC signal definition\n",
    "numu_nomu = 'fidVol && MCfidVol && MCNu_CCNC==0 && MCNu_PDG==14 && MCTrackPDG!=13 && MCTrackPurity>0.5' # not an MC muon\n",
    "numu_lowpur = 'fidVol && MCfidVol && MCNu_CCNC==0 && MCNu_PDG==14 && MCTrackPurity<0.5' #low purity\n",
    "numu_nc = 'fidVol && MCfidVol && MCNu_CCNC==1' # nutral current\n",
    "numu_ov = 'fidVol && !MCfidVol' # out of fiducial\n",
    "numu_other = 'fidVol && MCfidVol && MCNu_CCNC==0 && MCNu_PDG!=14' # e.g anti nu or nue\n",
    "#signal = 'MCfidVol && MCNu_CCNC==0 && MCNu_PDG==14'\n",
    "for x in sample:\n",
    "    x.SetAlias('muon','(muon_candidate_key==track_key)')\n",
    "\n",
    "\n",
    "energy_cut = ' && MCle_Energy>0.15'\n",
    "\n",
    "numu_signal = numu_signal+energy_cut\n",
    "numu_true = numu_true+energy_cut\n",
    "numu_nomu = numu_nomu+energy_cut\n",
    "numu_lowpur = numu_lowpur+energy_cut\n",
    "numu_nc = numu_nc+energy_cut\n",
    "numu_ov = numu_ov+energy_cut\n",
    "numu_other = numu_other+energy_cut\n",
    "    \n",
    "num_fidVol = {}\n",
    "for x in sample:\n",
    "    x.SetAlias('fidVol',fidVol)\n",
    "    x.SetAlias('MCfidVol',MCfidVol)\n",
    "    x.SetAlias('numu_signal',numu_signal)\n",
    "    x.SetAlias('numu_true',numu_true)\n",
    "    x.SetAlias('numu_nomu',numu_nomu)\n",
    "    x.SetAlias('numu_lowpur',numu_lowpur)\n",
    "    x.SetAlias('numu_nc',numu_nc)\n",
    "    x.SetAlias('numu_ov',numu_ov)\n",
    "    x.SetAlias('numu_other',numu_other)\n",
    "    num_fidVol[x] = x.GetEntries('fidVol && muon')*scale[x]\n",
    "    \n",
    "tot_num_fidVol = num_fidVol[ext]+num_fidVol[dirt]+num_fidVol[overlay]\n",
    "overlay_signals = {'numu_signal','numu_nomu','numu_lowpur','numu_nc','numu_ov','numu_other'}"
   ]
  },
  {
   "cell_type": "code",
   "execution_count": 8,
   "metadata": {},
   "outputs": [],
   "source": [
    "for x in sample_out:\n",
    "    x.SetAlias('muon','(track_key == key_muon)')\n",
    "\n",
    "num_fidVol = {}\n",
    "for x in sample_out:\n",
    "    x.SetAlias('fidVol',fidVol)\n",
    "    x.SetAlias('MCfidVol',MCfidVol)\n",
    "    x.SetAlias('numu_signal',numu_signal)\n",
    "    x.SetAlias('numu_true',numu_true)\n",
    "    x.SetAlias('numu_nomu',numu_nomu)\n",
    "    x.SetAlias('numu_lowpur',numu_lowpur)\n",
    "    x.SetAlias('numu_nc',numu_nc)\n",
    "    x.SetAlias('numu_ov',numu_ov)\n",
    "    x.SetAlias('numu_other',numu_other)"
   ]
  },
  {
   "cell_type": "code",
   "execution_count": 9,
   "metadata": {},
   "outputs": [],
   "source": [
    "track_start_border_x = '(TrackStart_x_sce <(-1.55+5) || TrackStart_x_sce > (254.8-5))'\n",
    "track_end_border_x = '(TrackEnd_x_sce <(-1.55+5) || TrackEnd_x_sce > (254.8-5))'\n",
    "track_start_border_y = '(TrackStart_y_sce <(-115.53+5) || TrackStart_y_sce > (117.47-5))'\n",
    "track_end_border_y = '(TrackEnd_y_sce <(-115.53+5) || TrackEnd_y_sce > (117.47-5))'\n",
    "track_start_border_z = '(TrackStart_z_sce <(0.1+5) || TrackStart_z_sce > (1036.9-5))'\n",
    "track_end_border_z = '(TrackEnd_z_sce <(0.1+5) || TrackEnd_z_sce > (1039.9-5))'\n",
    "\n",
    "track_end_uncontained = '(' + track_end_border_x + ' || ' + track_end_border_y + ' || ' + track_end_border_z+ ')'\n",
    "\n",
    "\n",
    "data.SetAlias(\"track_end_uncontained\",track_end_uncontained)\n",
    "ext.SetAlias(\"track_end_uncontained\",track_end_uncontained)\n",
    "overlay.SetAlias(\"track_end_uncontained\",track_end_uncontained)\n",
    "dirt.SetAlias(\"track_end_uncontained\",track_end_uncontained)\n",
    "data_out.SetAlias(\"track_end_uncontained\",track_end_uncontained)\n",
    "ext_out.SetAlias(\"track_end_uncontained\",track_end_uncontained)\n",
    "overlay_out.SetAlias(\"track_end_uncontained\",track_end_uncontained)\n",
    "dirt_out.SetAlias(\"track_end_uncontained\",track_end_uncontained)\n",
    "\n",
    "data.SetAlias(\"crt_cut\",\"(abs(crtt0_time+(crt_trig_corr_med)/1000-4)<0.9 || crtt0_time==-1)\")\n",
    "ext.SetAlias(\"crt_cut\",\"(abs(crtt0_time+(crt_trig_corr_med)/1000-3.57+3.195-4)<0.9 || crtt0_time==-1)\")\n",
    "overlay.SetAlias(\"crt_cut\",\"(abs(crtt0_time-3.95)<0.9 || crtt0_time==-1)\")\n",
    "dirt.SetAlias(\"crt_cut\",\"(abs(crtt0_time-3.95)<0.9 || crtt0_time==-1)\")\n",
    "data_out.SetAlias(\"crt_cut\",\"(abs(crtt0_time+(crt_trig_corr_med)/1000-3.95)<0.9 || crtt0_time==-1)\")\n",
    "ext_out.SetAlias(\"crt_cut\",\"(abs(crtt0_time+(crt_trig_corr_med)/1000-3.57+3.195-3.95)<0.9 || crtt0_time==-1)\")\n",
    "overlay_out.SetAlias(\"crt_cut\",\"(abs(crtt0_time-3.95)<0.9 || crtt0_time==-1)\")\n",
    "dirt_out.SetAlias(\"crt_cut\",\"(abs(crtt0_time-3.95)<0.9 || crtt0_time==-1)\")\n",
    "\n",
    "crt_tom_cut = 'nr_crthit_top==0 && crthit_vertex_zcut==0 && (track_end_uncontained==1 || nr_crthit_beam_tres==0) && crt_cut'\n",
    "\n",
    "data.SetAlias(\"crt_tom_cut\",crt_tom_cut)\n",
    "ext.SetAlias(\"crt_tom_cut\",crt_tom_cut)\n",
    "overlay.SetAlias(\"crt_tom_cut\",crt_tom_cut)\n",
    "dirt.SetAlias(\"crt_tom_cut\",crt_tom_cut)\n",
    "data_out.SetAlias(\"crt_tom_cut\",crt_tom_cut)\n",
    "ext_out.SetAlias(\"crt_tom_cut\",crt_tom_cut)\n",
    "overlay_out.SetAlias(\"crt_tom_cut\",crt_tom_cut)\n",
    "dirt_out.SetAlias(\"crt_tom_cut\",crt_tom_cut)\n",
    "\n",
    "detsys_out.SetAlias(\"track_end_uncontained\",track_end_uncontained)\n",
    "detsys.SetAlias(\"track_end_uncontained\",track_end_uncontained)\n",
    "detsys.SetAlias(\"crt_cut\",\"(abs(crtt0_time-3.95)<0.9 || crtt0_time==-1)\")\n",
    "detsys_out.SetAlias(\"crt_cut\",\"(abs(crtt0_time-3.95)<0.9 || crtt0_time==-1)\")\n",
    "detsys.SetAlias(\"crt_tom_cut\",crt_tom_cut)\n",
    "detsys_out.SetAlias(\"crt_tom_cut\",crt_tom_cut)\n",
    "\n",
    "\n",
    "weight_name = 'EventWeight*TunedCentralValue_Genie'\n"
   ]
  },
  {
   "cell_type": "code",
   "execution_count": 10,
   "metadata": {},
   "outputs": [
    {
     "name": "stderr",
     "output_type": "stream",
     "text": [
      "Warning in <TCanvas::Constructor>: Deleting canvas with same name: c1\n"
     ]
    }
   ],
   "source": [
    "# Load the global variables for access of functions\n",
    "NuCC.loadGlobal(data,ext,dirt,overlay,data_out,ext_out,dirt_out,overlay_out,scale,scale_out,tot_num_fidVol,overlay_signals,sample,sample_out, name,name_out, outputdir_png, outputdir_root, outputdir_pdf)\n",
    "#NuCC.printGlobal()"
   ]
  },
  {
   "cell_type": "code",
   "execution_count": 11,
   "metadata": {},
   "outputs": [],
   "source": [
    "# initialte ROOT default canvas\n",
    "#ROOT.gROOT.SetBatch(ROOT.kFALSE)\n",
    "ROOT.gStyle.SetOptStat(0)\n",
    "ROOT.gStyle.SetOptTitle(0)\n",
    "c1 = ROOT.TCanvas(\"c1\",\"c1\",1600,1200)\n",
    "c1.SetGrid(1)\n",
    "c1.SetLeftMargin(0.14)\n",
    "c1.SetRightMargin(0.18)\n",
    "c1.SetBottomMargin(0.14)"
   ]
  },
  {
   "cell_type": "code",
   "execution_count": 12,
   "metadata": {},
   "outputs": [],
   "source": [
    "def draw_adding():\n",
    "    prelim = ROOT.TLatex(0.9,0.93, \"MicroBooNE Preliminary\");\n",
    "    prelim.SetTextFont(62);\n",
    "    prelim.SetTextColor(ROOT.kGray+2);\n",
    "    prelim.SetNDC();\n",
    "    prelim.SetTextSize(1/25.);\n",
    "    prelim.SetTextAlign(32);\n",
    "    #prelim.SetTextSize(0.04631579);\n",
    "    prelim.Draw()\n",
    "\n",
    "    pot_latex = ROOT.TLatex(.10, .92,'Accumulated POT: '+str(pot_data)) \n",
    "    pot_latex.SetTextFont(62);\n",
    "    pot_latex.SetTextColor(ROOT.kGray+2);\n",
    "    pot_latex.SetNDC();\n",
    "    pot_latex.SetTextSize(1/25.);\n",
    "    pot_latex.SetTextAlign(10) #;//left adjusted\n",
    "    pot_latex.Draw();\n",
    "    \n",
    "    return prelim, pot_latex\n",
    "\n",
    "def draw_sim():\n",
    "    prelim = ROOT.TLatex(0.9,0.93, \"MicroBooNE Simulation Preliminary\");\n",
    "    prelim.SetTextFont(62);\n",
    "    prelim.SetTextColor(ROOT.kGray+2);\n",
    "    prelim.SetNDC();\n",
    "    prelim.SetTextSize(1/20.);\n",
    "    prelim.SetTextAlign(32);\n",
    "    #prelim.SetTextSize(0.04631579);\n",
    "    prelim.Draw()\n",
    "    \n",
    "    return prelim"
   ]
  },
  {
   "cell_type": "code",
   "execution_count": 13,
   "metadata": {},
   "outputs": [
    {
     "name": "stdout",
     "output_type": "stream",
     "text": [
      "5\n",
      "5\n",
      "5\n",
      "4\n",
      "4\n",
      "4\n",
      "5\n",
      "5\n",
      "5\n"
     ]
    }
   ],
   "source": [
    "from array import array\n",
    "#mom_bins = [ 0.00, 0.18, 0.30, 0.45, 0.77, 1.28, 2.50 ]\n",
    "#mom_bins = [ 0.00, 0.225, 0.28, 0.33, 0.39, 0.52, 0.78, 1.21, 2.5]\n",
    "\n",
    "mom_bins = {}\n",
    "#mom_bins.Append()\n",
    "mom_bins[0] = [ 0.00, 0.18, 0.30, 0.45, 0.77, 2.50 ]\n",
    "mom_bins[1] = [ 0.00, 0.18, 0.30, 0.45, 0.77, 2.50 ]\n",
    "mom_bins[2] = [ 0.00, 0.18, 0.30, 0.45, 0.77, 2.50 ]\n",
    "mom_bins[3] = [ 0.00, 0.30, 0.45, 0.77, 2.50 ]\n",
    "mom_bins[4] = [ 0.00, 0.30, 0.45, 0.77, 2.50 ]\n",
    "mom_bins[5] = [ 0.00, 0.30, 0.45, 0.77, 2.50 ]\n",
    "mom_bins[6] = [ 0.00, 0.30, 0.45, 0.77, 1.28, 2.50 ]\n",
    "mom_bins[7] = [ 0.00, 0.30, 0.45, 0.77, 1.28, 2.50 ]\n",
    "mom_bins[8] = [ 0.00, 0.30, 0.45, 0.77, 1.28, 2.50 ]\n",
    "\n",
    "theta_bins = [ -1.00, -0.50, 0.00, 0.28, 0.47, 0.63, 0.765, 0.865, 0.935, 1.00 ]\n",
    "\n",
    "len_theta = len(theta_bins) - 1\n",
    "len_mom = {}\n",
    "sum_bins = 0\n",
    "for i in range(len_theta):\n",
    "    len_mom[i] = len(mom_bins[i]) - 1\n",
    "    print len_mom[i]\n",
    "    sum_bins+=len_mom[i]\n"
   ]
  },
  {
   "cell_type": "code",
   "execution_count": 14,
   "metadata": {},
   "outputs": [
    {
     "name": "stdout",
     "output_type": "stream",
     "text": [
      " && cos(MCNu_leptonTheta)>-1.0 && cos(MCNu_leptonTheta)<-0.5\n",
      " && cos(MCNu_leptonTheta)>-0.5 && cos(MCNu_leptonTheta)<0.0\n",
      " && cos(MCNu_leptonTheta)>0.0 && cos(MCNu_leptonTheta)<0.28\n",
      " && cos(MCNu_leptonTheta)>0.28 && cos(MCNu_leptonTheta)<0.47\n",
      " && cos(MCNu_leptonTheta)>0.47 && cos(MCNu_leptonTheta)<0.63\n",
      " && cos(MCNu_leptonTheta)>0.63 && cos(MCNu_leptonTheta)<0.765\n",
      " && cos(MCNu_leptonTheta)>0.765 && cos(MCNu_leptonTheta)<0.865\n",
      " && cos(MCNu_leptonTheta)>0.865 && cos(MCNu_leptonTheta)<0.935\n",
      " && cos(MCNu_leptonTheta)>0.935 && cos(MCNu_leptonTheta)<1.0\n"
     ]
    }
   ],
   "source": [
    "weight_name = 'EventWeight*TunedCentralValue_Genie'\n",
    "title = 'true moum momentum efficiency'\n",
    "nenner_cut = 'numu_true'\n",
    "zahler_cut = 'fidVol && muon && crt_tom_cut && TrackScore>0.8\\\n",
    "                && TrackLength>20 && TrackPID_chiproton>78 && NuScore>0.1 && numu_signal'\n",
    "\n",
    "h_1d_sel = []\n",
    "h_1d_gen = []\n",
    "h_1d_eff = []\n",
    "\n",
    "num_sel = np.zeros(sum_bins+1)\n",
    "num_gen = np.zeros(sum_bins+1)\n",
    "num_eff = np.zeros(sum_bins+1)\n",
    "\n",
    "for t_bin in range(len_theta):\n",
    "    h_1d_sel.append(ROOT.TH1F('h_1d_sel['+str(t_bin)+']',\"true momentum, selected\",len_mom[t_bin],array('f',mom_bins[t_bin])))\n",
    "    h_1d_gen.append( ROOT.TH1F('h_1d_gen['+str(t_bin)+']',\"true momentum, generated\",len_mom[t_bin],array('f',mom_bins[t_bin])) )\n",
    "    h_1d_eff.append( ROOT.TH1F('h_1d_eff['+str(t_bin)+']',\"true efficiency\",len_mom[t_bin],array('f',mom_bins[t_bin])) )\n",
    "\n",
    "bin_counter = 0\n",
    "for t_bin in range(len_theta):\n",
    "    this_cut = ' && cos(MCNu_leptonTheta)>'+str(theta_bins[t_bin])+' && cos(MCNu_leptonTheta)<'+str(theta_bins[t_bin+1])\n",
    "    print this_cut\n",
    "    detsys_out.Draw('MCle_Energy>>h_1d_sel['+str(t_bin)+']',weight_name+'*('+zahler_cut+this_cut+')','')\n",
    "    detsys_out.Draw('MCle_Energy>>h_1d_gen['+str(t_bin)+']',weight_name+'*('+nenner_cut+this_cut+')','')\n",
    "    h_1d_eff[t_bin] = h_1d_sel[t_bin].Clone()\n",
    "    h_1d_eff[t_bin].Divide(h_1d_gen[t_bin])\n",
    "    for m_bin in range(len_mom[t_bin]):\n",
    "        num_sel[bin_counter] = h_1d_sel[t_bin].GetBinContent(m_bin+1)\n",
    "        num_gen[bin_counter] = h_1d_gen[t_bin].GetBinContent(m_bin+1)\n",
    "        num_eff[bin_counter] = h_1d_eff[t_bin].GetBinContent(m_bin+1)\n",
    "        bin_counter+=1\n",
    "    num_sel[sum_bins] += h_1d_sel[t_bin].GetBinContent(len_mom[t_bin]+1)\n",
    "    num_gen[sum_bins] += h_1d_gen[t_bin].GetBinContent(len_mom[t_bin]+1)\n",
    "    #num_eff[sum_bins] += h_1d_eff[t_bin].GetBinContent(len_mom[t_bin]+1)\n",
    "    h_1d_sel[t_bin].Write('h_1d_sel['+str(t_bin)+']')\n",
    "    h_1d_gen[t_bin].Write('h_1d_gen['+str(t_bin)+']')\n",
    "    h_1d_eff[t_bin].Write('h_1d_eff['+str(t_bin)+']')\n",
    "\n",
    "num_eff[sum_bins] = num_sel[sum_bins]/num_gen[sum_bins]\n",
    "    \n",
    "np.save(output_filedir+'num_sel',num_sel)\n",
    "np.save(output_filedir+'num_gen',num_gen)\n",
    "np.save(output_filedir+'num_eff',num_eff)"
   ]
  },
  {
   "cell_type": "code",
   "execution_count": 15,
   "metadata": {},
   "outputs": [
    {
     "data": {
      "text/plain": [
       "441"
      ]
     },
     "execution_count": 15,
     "metadata": {},
     "output_type": "execute_result"
    }
   ],
   "source": [
    "h_sel_all = ROOT.TH1F('h_sel_all','h_sel_all',sum_bins+1,0,sum_bins+1)\n",
    "h_gen_all = ROOT.TH1F('h_gen_all','h_gen_all',sum_bins+1,0,sum_bins+1)\n",
    "h_eff_all = ROOT.TH1F('h_eff_all','h_eff_all',sum_bins+1,0,sum_bins+1)\n",
    "\n",
    "for i in range(sum_bins+1):\n",
    "    h_sel_all.SetBinContent(i+1,num_sel[i])\n",
    "    h_gen_all.SetBinContent(i+1,num_gen[i])\n",
    "    h_eff_all.SetBinContent(i+1,num_eff[i])\n",
    "h_sel_all.Write('h_sel_all')\n",
    "h_gen_all.Write('h_gen_all')\n",
    "h_eff_all.Write('h_eff_all')"
   ]
  },
  {
   "cell_type": "code",
   "execution_count": 16,
   "metadata": {},
   "outputs": [
    {
     "name": "stdout",
     "output_type": "stream",
     "text": [
      "next theta 0\n",
      "next theta 1\n",
      "next theta 2\n",
      "next theta 3\n",
      "next theta 4\n",
      "next theta 5\n",
      "next theta 6\n",
      "next theta 7\n",
      "next theta 8\n"
     ]
    }
   ],
   "source": [
    "cut = 'fidVol && muon && TrackLength>8 && crt_tom_cut && TrackScore>0.8\\\n",
    "                && TrackLength>20 && TrackPID_chiproton>78 && NuScore>0.1'\n",
    "bin_counter_true = 0\n",
    "run = 1\n",
    "if run==0:\n",
    "    true_reco_matrix = np.load(outputdir+'true_reco_matrix.npy')\n",
    "\n",
    "if run:\n",
    "    true_reco_matrix = np.zeros((sum_bins+1,sum_bins+1))\n",
    "    for t_bin in range(len_theta):\n",
    "        print 'next theta',t_bin\n",
    "        #bin_counter_true+=1\n",
    "        for m_bin in range(len_mom[t_bin]):\n",
    "            bin_counter_reco = 0\n",
    "            # define the true bins borders\n",
    "            #plot for each true bin in mom and theta the distribution in reco for mom and theta, 42 times 42 bins\n",
    "            mom_min = mom_bins[t_bin][m_bin]\n",
    "            mom_max = mom_bins[t_bin][m_bin+1]\n",
    "            theta_min = theta_bins[t_bin]\n",
    "            theta_max = theta_bins[t_bin+1]\n",
    "            #print mom_min, mom_max, theta_min, theta_max\n",
    "            this_cut = ' && MCle_Energy>'+str(mom_min)+' && MCle_Energy<'+str(mom_max)+' && cos(MCNu_leptonTheta)>'+str(theta_min)+' && cos(MCNu_leptonTheta)<'+str(theta_max)\n",
    "            for t2_bin in range(len_theta):\n",
    "                #print 'new theta'\n",
    "                #print len_mom[t2_bin], mom_bins[t2_bin]\n",
    "                h_temp = ROOT.TH2F(\"h_temp\",'h_temp',len_mom[t2_bin],array('f',mom_bins[t2_bin]),len_theta,array('f',theta_bins))\n",
    "                h_temp_r = ROOT.TH2F(\"h_temp_r\",'h_temp_r',len_mom[t2_bin],array('f',mom_bins[t2_bin]),len_theta,array('f',theta_bins))\n",
    "                detsys_out.Draw('cos(TrackTheta):TrackMomMCS_mom'+'>>h_temp',weight_name+'*('+cut+this_cut+'&& numu_signal && track_end_uncontained)','')\n",
    "                detsys_out.Draw('cos(TrackTheta):TrackMomRange_mu'+'>>h_temp_r',weight_name+'*('+cut+this_cut+'&& numu_signal && !track_end_uncontained)','')\n",
    "                h_temp.Add(h_temp_r)\n",
    "                #print h_temp.GetBinContent(1,1)\n",
    "                #h_temp.Draw()\n",
    "                #c1.Draw()\n",
    "                for m2_bin in range(len_mom[t2_bin]):\n",
    "                    #print bin_counter_true,bin_counter_reco\n",
    "                    true_reco_matrix[bin_counter_true,bin_counter_reco] = h_temp.GetBinContent(m2_bin+1,t2_bin+1)\n",
    "                    #print bin_counter_true,bin_counter_reco, true_reco_matrix[bin_counter_true,bin_counter_reco]\n",
    "                    bin_counter_reco+=1\n",
    "                true_reco_matrix[bin_counter_true,bin_counter_reco] += h_temp.GetBinContent(len_mom[t2_bin]+1,t2_bin+1)\n",
    "                #raw_input(\"Press Enter to continue...\")\n",
    "                del h_temp\n",
    "                del h_temp_r\n",
    "                #bin_counter_reco+=1\n",
    "            bin_counter_true+=1\n",
    "\n",
    "    # fill true overflow bin\n",
    "    bin_counter_reco = 0\n",
    "    this_cut = ' && MCle_Energy>2.5'\n",
    "    for t2_bin in range(len_theta):\n",
    "        #print 'new theta'\n",
    "        #print len_mom[t2_bin], mom_bins[t2_bin]\n",
    "        h_temp = ROOT.TH2F(\"h_temp\",'h_temp',len_mom[t2_bin],array('f',mom_bins[t2_bin]),len_theta,array('f',theta_bins))\n",
    "        h_temp_r = ROOT.TH2F(\"h_temp_r\",'h_temp_r',len_mom[t2_bin],array('f',mom_bins[t2_bin]),len_theta,array('f',theta_bins))\n",
    "        detsys_out.Draw('cos(TrackTheta):TrackMomMCS_mom'+'>>h_temp',weight_name+'*('+cut+this_cut+'&& numu_signal && track_end_uncontained)','')\n",
    "        detsys_out.Draw('cos(TrackTheta):TrackMomRange_mu'+'>>h_temp_r',weight_name+'*('+cut+this_cut+'&& numu_signal && !track_end_uncontained)','')\n",
    "        h_temp.Add(h_temp_r)\n",
    "        for m2_bin in range(len_mom[t2_bin]):\n",
    "            #print bin_counter_true,bin_counter_reco\n",
    "            true_reco_matrix[sum_bins,bin_counter_reco] = h_temp.GetBinContent(m2_bin+1,t2_bin+1)\n",
    "            #print bin_counter_true,bin_counter_reco, true_reco_matrix[bin_counter_true,bin_counter_reco]\n",
    "            bin_counter_reco+=1\n",
    "        true_reco_matrix[sum_bins,bin_counter_reco] += h_temp.GetBinContent(len_mom[t2_bin]+1,t2_bin+1)\n",
    "        #raw_input(\"Press Enter to continue...\")\n",
    "        del h_temp\n",
    "        del h_temp_r\n"
   ]
  },
  {
   "cell_type": "code",
   "execution_count": 17,
   "metadata": {},
   "outputs": [],
   "source": [
    "h_true_reco = ROOT.TH2F(\"h_true_reco\",'Migration matrix',sum_bins+1,0,sum_bins+1,sum_bins+1,0,sum_bins+1)\n",
    "for i in range(sum_bins+1):\n",
    "    for j in range(sum_bins+1):\n",
    "        h_true_reco.SetBinContent(i+1,j+1, true_reco_matrix[i,j])\n",
    "h_true_reco.Write('h_true_reco')\n",
    "if run:\n",
    "    np.save(outputdir+'true_reco_matrix',true_reco_matrix)"
   ]
  },
  {
   "cell_type": "code",
   "execution_count": 18,
   "metadata": {},
   "outputs": [],
   "source": [
    "smearing_matrix = np.zeros((sum_bins+1,sum_bins+1))\n",
    "sum_reco = true_reco_matrix.sum(axis=1)\n",
    "#print sum_reco\n",
    "smearing_matrix = true_reco_matrix / (sum_reco[:,None] + 1e-80)\n",
    "\n",
    "np.save(outputdir+'smearing_matrix',smearing_matrix)"
   ]
  },
  {
   "cell_type": "code",
   "execution_count": 19,
   "metadata": {},
   "outputs": [
    {
     "data": {
      "text/plain": [
       "5845"
      ]
     },
     "execution_count": 19,
     "metadata": {},
     "output_type": "execute_result"
    }
   ],
   "source": [
    "h_smearing = ROOT.TH2F(\"h_smearing\",'smearing matrix',sum_bins+1,0,sum_bins+1,sum_bins+1,0,sum_bins+1)\n",
    "for i in range(sum_bins+1):\n",
    "    for j in range(sum_bins+1):\n",
    "        h_smearing.SetBinContent(i+1,j+1, smearing_matrix[i,j])\n",
    "\n",
    "ROOT.gStyle.SetPaintTextFormat(\"0.1f\");\n",
    "ROOT.gStyle.SetPalette(55);\n",
    "h_smearing.SetContour(500);\n",
    "h_smearing.SetMaximum(1.0)\n",
    "#c1.SetFrameFillColor(ROOT.TColor.GetColorPalette(0));\n",
    "for i in range(1,sum_bins+1):\n",
    "    h_smearing.GetXaxis().SetBinLabel(i, str(i))\n",
    "    h_smearing.GetYaxis().SetBinLabel(i, str(i))\n",
    "h_smearing.GetXaxis().SetBinLabel(43, 'OF')\n",
    "h_smearing.GetYaxis().SetBinLabel(43, 'OF')\n",
    "\n",
    "h_smearing.SetXTitle(\"True bin number\")\n",
    "h_smearing.SetYTitle(\"Reco bin number\")\n",
    "h_smearing.GetYaxis().SetTitleSize(0.05)\n",
    "h_smearing.GetYaxis().SetTitleOffset(0.0)\n",
    "h_smearing.GetYaxis().SetLabelSize(0.02)\n",
    "h_smearing.GetXaxis().SetTitleSize(0.05)\n",
    "h_smearing.GetXaxis().SetLabelSize(0.02)\n",
    "h_smearing.GetXaxis().SetTitleOffset(1)\n",
    "\n",
    "#h_smearing.Draw('colz')\n",
    "h_smearing.Write('h_smearing')\n"
   ]
  },
  {
   "cell_type": "code",
   "execution_count": 20,
   "metadata": {},
   "outputs": [],
   "source": [
    "# calculate smeared efficiency tilde\n",
    "eff_tilde = smearing_matrix.dot(num_sel)/(smearing_matrix.dot(num_gen)+1e-80)\n",
    "h_1d_eff_tilde = []\n",
    "for t_bin in range(len_theta):\n",
    "    h_1d_eff_tilde.append( ROOT.TH1F('h_1d_eff_tilde['+str(t_bin)+']',\"reco efficiency\",len_mom[t_bin],array('f',mom_bins[t_bin])) )\n",
    "bin_counter = 0\n",
    "for t_bin in range(len_theta):\n",
    "    for m_bin in range(len_mom[t_bin]):\n",
    "        h_1d_eff_tilde[t_bin].SetBinContent(m_bin+1,eff_tilde[bin_counter])\n",
    "        h_1d_eff_tilde[t_bin].SetBinError(m_bin+1,0)\n",
    "        bin_counter += 1\n",
    "    h_1d_eff_tilde[t_bin].Write('h_1d_eff_tilde['+str(t_bin)+']')\n",
    "np.save(outputdir+'eff_tilde',eff_tilde)"
   ]
  },
  {
   "cell_type": "code",
   "execution_count": 21,
   "metadata": {},
   "outputs": [
    {
     "name": "stdout",
     "output_type": "stream",
     "text": [
      " && cos(TrackTheta)>-1.0 && cos(TrackTheta)<-0.5\n",
      " && cos(TrackTheta)>-0.5 && cos(TrackTheta)<0.0\n",
      " && cos(TrackTheta)>0.0 && cos(TrackTheta)<0.28\n",
      " && cos(TrackTheta)>0.28 && cos(TrackTheta)<0.47\n",
      " && cos(TrackTheta)>0.47 && cos(TrackTheta)<0.63\n",
      " && cos(TrackTheta)>0.63 && cos(TrackTheta)<0.765\n",
      " && cos(TrackTheta)>0.765 && cos(TrackTheta)<0.865\n",
      " && cos(TrackTheta)>0.865 && cos(TrackTheta)<0.935\n",
      " && cos(TrackTheta)>0.935 && cos(TrackTheta)<1.0\n"
     ]
    }
   ],
   "source": [
    "h_overlay = []\n",
    "h_temp = []\n",
    "\n",
    "bkg_all = np.zeros(sum_bins+1)\n",
    "\n",
    "for t_bin in range(len_theta):\n",
    "    h_overlay.append( ROOT.TH1F('h_overlay['+str(t_bin)+']',\"h_overlay\",len_mom[t_bin],array('f',mom_bins[t_bin])) )\n",
    "    h_temp.append( ROOT.TH1F('h_temp['+str(t_bin)+']','h_temp',len_mom[t_bin],array('f',mom_bins[t_bin])))\n",
    "    \n",
    "bin_counter = 0\n",
    "for t_bin in range(len_theta):\n",
    "    this_cut = ' && cos(TrackTheta)>'+str(theta_bins[t_bin])+' && cos(TrackTheta)<'+str(theta_bins[t_bin+1])\n",
    "    print this_cut\n",
    "    \n",
    "    detsys_out.Draw('TrackMomMCS_mom'+'>>h_overlay['+str(t_bin)+']',weight_name+'*('+cut+this_cut+'&& !numu_signal && track_end_uncontained)','')\n",
    "    detsys_out.Draw('TrackMomRange_mu'+'>>h_temp['+str(t_bin)+']',weight_name+'*('+cut+this_cut+'&& !numu_signal && !track_end_uncontained)','')\n",
    "    h_overlay[t_bin].Add(h_temp[t_bin])\n",
    "    h_overlay[t_bin].Scale(scale[detsys])\n",
    "    \n",
    "    for m_bin in range(len_mom[t_bin]):\n",
    "        bkg_all[bin_counter] = h_overlay[t_bin].GetBinContent(m_bin)\n",
    "        bin_counter += 1\n",
    "\n",
    "    h_overlay[t_bin].Write('h_overlay['+str(t_bin)+']')\n",
    "    \n",
    "h_bkg_all = ROOT.TH1F(\"h_bkg_all\",'Background',sum_bins+1,0,sum_bins+1)\n",
    "for i in range(sum_bins+1):\n",
    "    h_bkg_all.SetBinContent(i+1, bkg_all[i])\n",
    "h_bkg_all.Write('h_bkg_all')"
   ]
  },
  {
   "cell_type": "code",
   "execution_count": null,
   "metadata": {},
   "outputs": [],
   "source": []
  },
  {
   "cell_type": "code",
   "execution_count": null,
   "metadata": {},
   "outputs": [],
   "source": []
  },
  {
   "cell_type": "code",
   "execution_count": 22,
   "metadata": {},
   "outputs": [],
   "source": [
    "RootFile.Close()"
   ]
  },
  {
   "cell_type": "code",
   "execution_count": null,
   "metadata": {},
   "outputs": [],
   "source": []
  }
 ],
 "metadata": {
  "kernelspec": {
   "display_name": "Python 3",
   "language": "python",
   "name": "python3"
  },
  "language_info": {
   "codemirror_mode": {
    "name": "ipython",
    "version": 2
   },
   "file_extension": ".py",
   "mimetype": "text/x-python",
   "name": "python",
   "nbconvert_exporter": "python",
   "pygments_lexer": "ipython2",
   "version": "2.7.12"
  }
 },
 "nbformat": 4,
 "nbformat_minor": 2
}
