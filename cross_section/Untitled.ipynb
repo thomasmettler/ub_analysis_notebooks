{
 "cells": [
  {
   "cell_type": "code",
   "execution_count": 1,
   "metadata": {},
   "outputs": [
    {
     "name": "stdout",
     "output_type": "stream",
     "text": [
      "Welcome to JupyROOT 6.18/04\n"
     ]
    },
    {
     "ename": "Exception",
     "evalue": "void RooStats::HistFactory::Measurement::CollectHistograms() =>\n    HistFactory - Exception (C++ exception of type RooStats::HistFactory::hf_exc)",
     "output_type": "error",
     "traceback": [
      "\u001b[0;31m---------------------------------------------------------------------------\u001b[0m",
      "\u001b[0;31mException\u001b[0m                                 Traceback (most recent call last)",
      "\u001b[0;32m<ipython-input-1-a2b83f240ec1>\u001b[0m in \u001b[0;36m<module>\u001b[0;34m()\u001b[0m\n\u001b[1;32m     53\u001b[0m     \u001b[0;32mpass\u001b[0m\u001b[0;34m\u001b[0m\u001b[0m\n\u001b[1;32m     54\u001b[0m \u001b[0;32mif\u001b[0m \u001b[0m__name__\u001b[0m \u001b[0;34m==\u001b[0m \u001b[0;34m\"__main__\"\u001b[0m\u001b[0;34m:\u001b[0m\u001b[0;34m\u001b[0m\u001b[0m\n\u001b[0;32m---> 55\u001b[0;31m     \u001b[0mmain\u001b[0m\u001b[0;34m(\u001b[0m\u001b[0;34m)\u001b[0m\u001b[0;34m\u001b[0m\u001b[0m\n\u001b[0m",
      "\u001b[0;32m<ipython-input-1-a2b83f240ec1>\u001b[0m in \u001b[0;36mmain\u001b[0;34m()\u001b[0m\n\u001b[1;32m     43\u001b[0m     \u001b[0;31m# Collect the histograms from their files,\u001b[0m\u001b[0;34m\u001b[0m\u001b[0;34m\u001b[0m\u001b[0m\n\u001b[1;32m     44\u001b[0m     \u001b[0;31m# print some output,\u001b[0m\u001b[0;34m\u001b[0m\u001b[0;34m\u001b[0m\u001b[0m\n\u001b[0;32m---> 45\u001b[0;31m     \u001b[0mmeas\u001b[0m\u001b[0;34m.\u001b[0m\u001b[0mCollectHistograms\u001b[0m\u001b[0;34m(\u001b[0m\u001b[0;34m)\u001b[0m\u001b[0;34m\u001b[0m\u001b[0m\n\u001b[0m\u001b[1;32m     46\u001b[0m     \u001b[0mmeas\u001b[0m\u001b[0;34m.\u001b[0m\u001b[0mPrintTree\u001b[0m\u001b[0;34m(\u001b[0m\u001b[0;34m)\u001b[0m\u001b[0;34m;\u001b[0m\u001b[0;34m\u001b[0m\u001b[0m\n\u001b[1;32m     47\u001b[0m     \u001b[0;31m# One can print XML code to an\u001b[0m\u001b[0;34m\u001b[0m\u001b[0;34m\u001b[0m\u001b[0m\n",
      "\u001b[0;31mException\u001b[0m: void RooStats::HistFactory::Measurement::CollectHistograms() =>\n    HistFactory - Exception (C++ exception of type RooStats::HistFactory::hf_exc)"
     ]
    }
   ],
   "source": [
    "def main():\n",
    "    try:\n",
    "        import ROOT\n",
    "    except:\n",
    "        print(\"It seems that pyROOT isn't properly configured\")\n",
    "        return\n",
    "    \"\"\"\n",
    "    Create a HistFactory measurement from python\n",
    "    \"\"\"\n",
    "    InputFile = \"./data/example.root\"\n",
    "    # Create the measurement\n",
    "    meas = ROOT.RooStats.HistFactory.Measurement(\"meas\", \"meas\")\n",
    "    meas.SetOutputFilePrefix( \"./results/example_UsingPy\" )\n",
    "    meas.SetPOI( \"SigXsecOverSM\" )\n",
    "    meas.AddConstantParam(\"Lumi\")\n",
    "    meas.AddConstantParam(\"alpha_syst1\")\n",
    "    meas.SetLumi( 1.0 )\n",
    "    meas.SetLumiRelErr( 0.10 )\n",
    "    meas.SetExportOnly( False )\n",
    "    # Create a channel\n",
    "    chan = ROOT.RooStats.HistFactory.Channel( \"channel1\" )\n",
    "    chan.SetData( \"data\", InputFile )\n",
    "    chan.SetStatErrorConfig( 0.05, \"Poisson\" )\n",
    "    # Now, create some samples\n",
    "    # Create the signal sample\n",
    "    signal = ROOT.RooStats.HistFactory.Sample( \"signal\", \"signal\", InputFile )\n",
    "    signal.AddOverallSys( \"syst1\",  0.95, 1.05 )\n",
    "    signal.AddNormFactor( \"SigXsecOverSM\", 1, 0, 3 )\n",
    "    chan.AddSample( signal )\n",
    "    # Background 1\n",
    "    background1 = ROOT.RooStats.HistFactory.Sample( \"background1\", \"background1\", InputFile )\n",
    "    background1.ActivateStatError( \"background1_statUncert\", InputFile )\n",
    "    background1.AddOverallSys( \"syst2\", 0.95, 1.05  )\n",
    "    chan.AddSample( background1 )\n",
    "    # Background 1\n",
    "    background2 = ROOT.RooStats.HistFactory.Sample( \"background2\", \"background2\", InputFile )\n",
    "    background2.ActivateStatError()\n",
    "    background2.AddOverallSys( \"syst3\", 0.95, 1.05  )\n",
    "    chan.AddSample( background2 )\n",
    "    # Done with this channel\n",
    "    # Add it to the measurement:\n",
    "    meas.AddChannel( chan )\n",
    "    # Collect the histograms from their files,\n",
    "    # print some output, \n",
    "    meas.CollectHistograms()\n",
    "    meas.PrintTree();\n",
    "    # One can print XML code to an\n",
    "    # output directory:\n",
    "    # meas.PrintXML( \"xmlFromCCode\", meas.GetOutputFilePrefix() );\n",
    "    meas.PrintXML( \"xmlFromPy\", meas.GetOutputFilePrefix() );\n",
    "    # Now, do the measurement\n",
    "    ROOT.RooStats.HistFactory.MakeModelAndMeasurementFast( meas );\n",
    "    pass\n",
    "if __name__ == \"__main__\":\n",
    "    main()"
   ]
  },
  {
   "cell_type": "code",
   "execution_count": null,
   "metadata": {},
   "outputs": [],
   "source": []
  }
 ],
 "metadata": {
  "kernelspec": {
   "display_name": "Python 3",
   "language": "python",
   "name": "python3"
  },
  "language_info": {
   "codemirror_mode": {
    "name": "ipython",
    "version": 2
   },
   "file_extension": ".py",
   "mimetype": "text/x-python",
   "name": "python",
   "nbconvert_exporter": "python",
   "pygments_lexer": "ipython2",
   "version": "2.7.12"
  }
 },
 "nbformat": 4,
 "nbformat_minor": 2
}
