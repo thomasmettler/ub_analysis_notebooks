{
 "cells": [
  {
   "cell_type": "code",
   "execution_count": 2,
   "metadata": {},
   "outputs": [
    {
     "name": "stderr",
     "output_type": "stream",
     "text": [
      "\u001b[1minput_line_34:10:22: \u001b[0m\u001b[0;1;31merror: \u001b[0m\u001b[1mfunction definition is not allowed here\u001b[0m\n",
      "void hf001_example() {\n",
      "\u001b[0;1;32m                     ^\n",
      "\u001b[0m"
     ]
    }
   ],
   "source": [
    "\n",
    "#include \"RooStats/HistFactory/Measurement.h\"\n",
    "#include \"RooStats/HistFactory/MakeModelAndMeasurementsFast.h\"\n",
    "#include \"TFile.h\"\n",
    "#include \"TROOT.h\"\n",
    "using namespace RooStats;\n",
    "using namespace HistFactory;\n",
    "\n",
    "void hf001_example() {\n",
    "  std::string InputFile = \"./data/example.root\";\n",
    "  // in case the file is not found\n",
    "  bool bfile = gSystem->AccessPathName(InputFile.c_str());\n",
    "  if (bfile) {\n",
    "     std::cout << \"Input file is not found - run prepareHistFactory script \" << std::endl;\n",
    "     gROOT->ProcessLine(\".! prepareHistFactory .\");\n",
    "     bfile = gSystem->AccessPathName(InputFile.c_str());\n",
    "     if (bfile) {\n",
    "        std::cout << \"Still no \" << InputFile << \", giving up.\\n\";\n",
    "        exit(1);\n",
    "     }\n",
    "  }\n",
    "  // Create the measurement\n",
    "  Measurement meas(\"meas\", \"meas\");\n",
    "  meas.SetOutputFilePrefix( \"./results/example_UsingC\" );\n",
    "  meas.SetPOI( \"SigXsecOverSM\" );\n",
    "  meas.AddConstantParam(\"alpha_syst1\");\n",
    "  meas.AddConstantParam(\"Lumi\");\n",
    "  meas.SetLumi( 1.0 );\n",
    "  meas.SetLumiRelErr( 0.10 );\n",
    "  meas.SetExportOnly( false );\n",
    "  meas.SetBinHigh( 2 );\n",
    "  // Create a channel\n",
    "  Channel chan( \"channel1\" );\n",
    "  chan.SetData( \"data\", InputFile );\n",
    "  chan.SetStatErrorConfig( 0.05, \"Poisson\" );\n",
    "  // Now, create some samples\n",
    "  // Create the signal sample\n",
    "  Sample signal( \"signal\", \"signal\", InputFile );\n",
    "  signal.AddOverallSys( \"syst1\",  0.95, 1.05 );\n",
    "  signal.AddNormFactor( \"SigXsecOverSM\", 1, 0, 3 );\n",
    "  chan.AddSample( signal );\n",
    "  // Background 1\n",
    "  Sample background1( \"background1\", \"background1\", InputFile );\n",
    "  background1.ActivateStatError( \"background1_statUncert\", InputFile );\n",
    "  background1.AddOverallSys( \"syst2\", 0.95, 1.05  );\n",
    "  chan.AddSample( background1 );\n",
    "  // Background 1\n",
    "  Sample background2( \"background2\", \"background2\", InputFile );\n",
    "  background2.ActivateStatError();\n",
    "  background2.AddOverallSys( \"syst3\", 0.95, 1.05  );\n",
    "  chan.AddSample( background2 );\n",
    "  // Done with this channel\n",
    "  // Add it to the measurement:\n",
    "  meas.AddChannel( chan );\n",
    "  // Collect the histograms from their files,\n",
    "  // print some output,\n",
    "  meas.CollectHistograms();\n",
    "  meas.PrintTree();\n",
    "  // One can print XML code to an\n",
    "  // output directory:\n",
    "  // meas.PrintXML( \"xmlFromCCode\", meas.GetOutputFilePrefix() );\n",
    "  // Now, do the measurement\n",
    "  MakeModelAndMeasurementFast( meas );\n",
    "}"
   ]
  },
  {
   "cell_type": "code",
   "execution_count": null,
   "metadata": {},
   "outputs": [],
   "source": []
  }
 ],
 "metadata": {
  "kernelspec": {
   "display_name": "ROOT C++",
   "language": "c++",
   "name": "root"
  },
  "language_info": {
   "codemirror_mode": "text/x-c++src",
   "file_extension": ".C",
   "mimetype": " text/x-c++src",
   "name": "c++"
  }
 },
 "nbformat": 4,
 "nbformat_minor": 2
}
