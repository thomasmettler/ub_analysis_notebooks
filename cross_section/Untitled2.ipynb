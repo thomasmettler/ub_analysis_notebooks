{
 "cells": [
  {
   "cell_type": "code",
   "execution_count": 2,
   "metadata": {},
   "outputs": [],
   "source": [
    "void generateArray(int *a, int si)\n",
    "{\n",
    "    for (int j = 0; j < si; j++)\n",
    "        a[j] = rand() % 9;\n",
    "}\n",
    "\n"
   ]
  },
  {
   "cell_type": "code",
   "execution_count": 4,
   "metadata": {},
   "outputs": [
    {
     "name": "stderr",
     "output_type": "stream",
     "text": [
      "\u001b[1minput_line_34:7:18: \u001b[0m\u001b[0;1;31merror: \u001b[0m\u001b[1mcannot initialize an array element of type 'void *' with an rvalue of type\n",
      "      'const int *'\u001b[0m\n",
      "generateArray(a, size);\n",
      "\u001b[0;1;32m                 ^~~~\n",
      "\u001b[0m"
     ]
    }
   ],
   "source": [
    "const int size=5;\n",
    "\n",
    "\n",
    "int a[size];\n",
    "\n",
    "generateArray(a, size);\n",
    "\n"
   ]
  },
  {
   "cell_type": "code",
   "execution_count": 1,
   "metadata": {},
   "outputs": [
    {
     "name": "stderr",
     "output_type": "stream",
     "text": [
      "\u001b[1minput_line_27:2:8: \u001b[0m\u001b[0;1;31merror: \u001b[0m\u001b[1mexpected unqualified-id\u001b[0m\n",
      " (std::((*(std::ostream*)0x7f528a474f40)) << a[0])\n",
      "\u001b[0;1;32m       ^\n",
      "\u001b[0m\u001b[1minput_line_27:2:46: \u001b[0m\u001b[0;1;31merror: \u001b[0m\u001b[1muse of undeclared identifier 'a'\u001b[0m\n",
      " (std::((*(std::ostream*)0x7f528a474f40)) << a[0])\n",
      "\u001b[0;1;32m                                             ^\n",
      "\u001b[0mError in <HandleInterpreterException>: Error evaluating expression (std::((*(std::ostream*)0x7f528a474f40)) << a[0]).\n",
      "Execution of your code was aborted.\n"
     ]
    }
   ],
   "source": [
    "std::cout << a[0];"
   ]
  },
  {
   "cell_type": "code",
   "execution_count": null,
   "metadata": {},
   "outputs": [],
   "source": []
  }
 ],
 "metadata": {
  "kernelspec": {
   "display_name": "ROOT C++",
   "language": "c++",
   "name": "root"
  },
  "language_info": {
   "codemirror_mode": "text/x-c++src",
   "file_extension": ".C",
   "mimetype": " text/x-c++src",
   "name": "c++"
  }
 },
 "nbformat": 4,
 "nbformat_minor": 2
}
