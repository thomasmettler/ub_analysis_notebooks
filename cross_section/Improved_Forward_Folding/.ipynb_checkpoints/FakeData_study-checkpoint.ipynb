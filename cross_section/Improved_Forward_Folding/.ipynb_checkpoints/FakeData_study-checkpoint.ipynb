{
 "cells": [
  {
   "cell_type": "code",
   "execution_count": 1,
   "metadata": {},
   "outputs": [
    {
     "name": "stdout",
     "output_type": "stream",
     "text": [
      "Welcome to JupyROOT 6.18/04\n",
      "N_tot =  4.10331109202e+31   flux=  1.58051463543e+11 for pot:  2.144e+20\n"
     ]
    }
   ],
   "source": [
    "from __future__ import division\n",
    "import imp\n",
    "import uproot\n",
    "import matplotlib\n",
    "#matplotlib.use('agg')\n",
    "import matplotlib.pyplot as plt\n",
    "import matplotlib.image as mpimg\n",
    "import numpy as np\n",
    "import pandas as pd\n",
    "import os\n",
    "import ROOT\n",
    "import time\n",
    "import math\n",
    "from array import array\n",
    "import collections\n",
    "\n",
    "inputdir = '/home/tmettler/Desktop/v08_00_00_33/V08_00_00_35/weighted/'\n",
    "outputdir = '/home/tmettler/Desktop/v08_00_00_33/V08_00_00_35/weighted_improved/'+'FakeData/FakeData_Eventweight/' \n",
    "output_filedir = '/home/tmettler/Desktop/v08_00_00_33/V08_00_00_35/weighted_improved/xsec_filesV4/'\n",
    "input_filedir = '/home/tmettler/Desktop/v08_00_00_33/V08_00_00_35/weighted/'\n",
    "lib_function_dir = '/home/tmettler/Desktop/uBoone/do_plots/'\n",
    "\n",
    "plot_systematic = 0\n",
    "\n",
    "# helper functions\n",
    "globale = imp.load_source('globale',lib_function_dir+'globale.py')\n",
    "NuCC = imp.load_source('NuCC_function',lib_function_dir+'NuCC_function.py')\n",
    "NuCC_w = imp.load_source('NuCCWeight_function',lib_function_dir+'NuCCWeight_function.py')\n",
    "\n",
    "CC = imp.load_source('CC_inclusive_2D_lib','/home/tmettler/Desktop/uBoone/do_plots/cross_section/Improved_Forward_Folding/CC_inclusive_2D_lib.py')\n",
    "FF = imp.load_source('FF_functions',lib_function_dir+'FF_functions.py')"
   ]
  },
  {
   "cell_type": "code",
   "execution_count": 2,
   "metadata": {},
   "outputs": [],
   "source": [
    "outputdir_png, outputdir_root, outputdir_pdf = NuCC.prepareOutput2(outputdir)\n",
    "try:\n",
    "    os.stat(output_filedir)\n",
    "except:\n",
    "    os.mkdir(output_filedir)"
   ]
  },
  {
   "cell_type": "code",
   "execution_count": 3,
   "metadata": {},
   "outputs": [
    {
     "name": "stderr",
     "output_type": "stream",
     "text": [
      "Warning in <TCanvas::Constructor>: Deleting canvas with same name: c1\n"
     ]
    }
   ],
   "source": [
    "# initialte ROOT default canvas\n",
    "#ROOT.gROOT.SetBatch(ROOT.kFALSE)\n",
    "ROOT.gStyle.SetOptStat(0)\n",
    "ROOT.gStyle.SetOptTitle(0)\n",
    "c1 = ROOT.TCanvas(\"c1\",\"c1\",1600,1200)\n",
    "c1.SetGrid(1)\n",
    "c1.SetLeftMargin(0.14)\n",
    "c1.SetRightMargin(0.1)\n",
    "c1.SetBottomMargin(0.14)"
   ]
  },
  {
   "cell_type": "code",
   "execution_count": 4,
   "metadata": {
    "jupyter": {
     "source_hidden": true
    }
   },
   "outputs": [],
   "source": [
    "from array import array\n",
    "#mom_bins = [ 0.00, 0.18, 0.30, 0.45, 0.77, 1.28, 2.50 ]\n",
    "#mom_bins = [ 0.00, 0.225, 0.28, 0.33, 0.39, 0.52, 0.78, 1.21, 2.5]\n",
    "\n",
    "mom_bins = {}\n",
    "#mom_bins.Append()\n",
    "mom_bins[0] = [ 0.00, 0.18, 0.30, 0.45, 0.77, 2.50 ]\n",
    "mom_bins[1] = [ 0.00, 0.18, 0.30, 0.45, 0.77, 2.50 ]\n",
    "mom_bins[2] = [ 0.00, 0.18, 0.30, 0.45, 0.77, 2.50 ]\n",
    "mom_bins[3] = [ 0.00, 0.30, 0.45, 0.77, 2.50 ]\n",
    "mom_bins[4] = [ 0.00, 0.30, 0.45, 0.77, 2.50 ]\n",
    "mom_bins[5] = [ 0.00, 0.30, 0.45, 0.77, 2.50 ]\n",
    "mom_bins[6] = [ 0.00, 0.30, 0.45, 0.77, 1.28, 2.50 ]\n",
    "mom_bins[7] = [ 0.00, 0.30, 0.45, 0.77, 1.28, 2.50 ]\n",
    "mom_bins[8] = [ 0.00, 0.30, 0.45, 0.77, 1.28, 2.50 ]\n",
    "\n",
    "theta_bins = [ -1.00, -0.50, 0.00, 0.28, 0.47, 0.63, 0.765, 0.865, 0.935, 1.00 ]\n",
    "\n",
    "len_theta = len(theta_bins) - 1\n",
    "len_mom = {}\n",
    "sum_bins = 0\n",
    "for i in range(len_theta):\n",
    "    len_mom[i] = len(mom_bins[i]) - 1\n",
    "    #print len_mom[i]\n",
    "    sum_bins+=len_mom[i]\n"
   ]
  },
  {
   "cell_type": "code",
   "execution_count": 5,
   "metadata": {
    "jupyter": {
     "source_hidden": true
    }
   },
   "outputs": [
    {
     "name": "stdout",
     "output_type": "stream",
     "text": [
      "N_tot =  4.10331109202e+31   flux=  1.58051463543e+11 for pot:  2.144e+20\n"
     ]
    }
   ],
   "source": [
    "NumberOfFiles = 5000\n",
    "POT_file = 5e8\n",
    "activeVol_Area = 128.175*2*116.5*2\n",
    "pot_data = 2.144e+20\n",
    "\n",
    "path = '/home/tmettler/Desktop/ub_data/mcc9.1/v08_00_00_33/V08_00_00_35/Flux/zarko/'\n",
    "f_flux_int = ROOT.TFile.Open(path+\"MCC9_FluxHist_volTPCActive.root\", 'read')\n",
    "h_flux_cv = f_flux_int.Get(\"hEnumu_cv\")\n",
    "flux_cv = h_flux_cv.Integral(-1,201)/(NumberOfFiles*POT_file*activeVol_Area)*pot_data\n",
    "\n",
    "roh_data = 1.3836 #data denisity g/cm3\n",
    "roh_MC = 1.3954 # MC denisity g/cm3\n",
    "mol = 39.95 # g for argon\n",
    "N_A = 6.022140857e23 # molec/mol avogadro zahl\n",
    "N_nucleons = 40.0\n",
    "V_fid = ((254.8-10)-(-1.55+10))*((117.47-10)-(-115.53+10))*((1036.9-50)-(-0.1+10))\n",
    "\n",
    "N_tot = roh_data*N_A*N_nucleons*V_fid/mol\n",
    "\n",
    "print 'N_tot = ',N_tot,'  flux= ',flux_cv, 'for pot: ', pot_data"
   ]
  },
  {
   "cell_type": "code",
   "execution_count": 6,
   "metadata": {},
   "outputs": [
    {
     "name": "stdout",
     "output_type": "stream",
     "text": [
      "4.10331109202e+31 1.58051463543e+11\n"
     ]
    }
   ],
   "source": [
    "print N_tot, flux_cv\n"
   ]
  },
  {
   "cell_type": "markdown",
   "metadata": {},
   "source": [
    "# up to here only functions...."
   ]
  },
  {
   "cell_type": "code",
   "execution_count": 7,
   "metadata": {},
   "outputs": [
    {
     "data": {
      "text/plain": [
       "'h_rate_qe = smear_plot(h_rate_qe)\\nh_rate_mec = smear_plot(h_rate_mec)\\nh_rate_res = smear_plot(h_rate_res)\\nh_rate_dis = smear_plot(h_rate_dis)\\n'"
      ]
     },
     "execution_count": 7,
     "metadata": {},
     "output_type": "execute_result"
    }
   ],
   "source": [
    "# load all distributions and the Genie 3 tuned true\n",
    "path_detsys = '/home/tmettler/Desktop/v08_00_00_33/V08_00_00_35/weighted_improved/xsec_filesV4/'\n",
    "f_cv = ROOT.TFile.Open(path_detsys+'xsec_2D_Run3_wighted_t.root', 'read')\n",
    "pot = 2.144e+20\n",
    "h_true_g3_tune = ROOT.TH1F('h_true',\"true tune3\",43,0,43)\n",
    "h_data = ROOT.TH1F('h_data',\"data\",43,0,43)\n",
    "h_bkg = ROOT.TH1F('h_bkg',\"Background\",43,0,43)\n",
    "h_sig = ROOT.TH1F('h_sig',\"Background\",43,0,43)\n",
    "h_ext = ROOT.TH1F('h_ext',\"Cosmic\",43,0,43)\n",
    "h_dirt = ROOT.TH1F('h_dirt',\"Cosmic\",43,0,43)\n",
    "h_eff = ROOT.TH1F('h_eff',\"Cosmic\",43,0,43)\n",
    "h_qe = ROOT.TH1F('h_qe',\"qe\",43,0,43)\n",
    "h_mec = ROOT.TH1F('h_mec',\"mec\",43,0,43)\n",
    "h_res = ROOT.TH1F('h_res',\"res\",43,0,43)\n",
    "h_dis = ROOT.TH1F('h_dis',\"dis\",43,0,43)\n",
    "bin_counter = 0\n",
    "for t_bin in range(len_theta): #len_theta\n",
    "    h_temp = f_cv.Get('h_true['+str(t_bin)+']')\n",
    "    #h_temp2 = f_cv.Get('h_data['+str(t_bin)+']')\n",
    "    h_temp3 = f_cv.Get('h_overlay['+str(t_bin)+']')\n",
    "    h_temp31 = f_cv.Get('h_signal['+str(t_bin)+']')\n",
    "    h_temp4 = f_cv.Get('h_ext['+str(t_bin)+']')\n",
    "    h_temp5 = f_cv.Get('h_dirt['+str(t_bin)+']')\n",
    "    h_temp6 = f_cv.Get('h_1d_eff['+str(t_bin)+']')\n",
    "    \n",
    "    '''h_temp10 = f_chan.Get('h_QE['+str(t_bin)+']')\n",
    "    h_temp11 = f_chan.Get('h_MEC['+str(t_bin)+']')\n",
    "    h_temp12 = f_chan.Get('h_RES['+str(t_bin)+']')\n",
    "    h_temp13 = f_chan.Get('h_DIS['+str(t_bin)+']')'''\n",
    "    for m_bin in range(len_mom[t_bin]):\n",
    "        bin_counter+=1\n",
    "        h_true_g3_tune.SetBinContent(bin_counter,h_temp.GetBinContent(m_bin+1))\n",
    "        #h_data.SetBinContent(bin_counter,h_temp2.GetBinContent(m_bin+1))\n",
    "        h_bkg.SetBinContent(bin_counter,h_temp3.GetBinContent(m_bin+1))\n",
    "        h_sig.SetBinContent(bin_counter,h_temp31.GetBinContent(m_bin+1))\n",
    "        h_ext.SetBinContent(bin_counter,h_temp4.GetBinContent(m_bin+1))\n",
    "        h_dirt.SetBinContent(bin_counter,h_temp5.GetBinContent(m_bin+1))\n",
    "        h_eff.SetBinContent(bin_counter,h_temp6.GetBinContent(m_bin+1))\n",
    "        \n",
    "        '''h_qe.SetBinContent(bin_counter,h_temp10.GetBinContent(m_bin+1))\n",
    "        h_mec.SetBinContent(bin_counter,h_temp11.GetBinContent(m_bin+1))\n",
    "        h_res.SetBinContent(bin_counter,h_temp12.GetBinContent(m_bin+1))\n",
    "        h_dis.SetBinContent(bin_counter,h_temp13.GetBinContent(m_bin+1))'''\n",
    "        \n",
    "h_eff.SetBinContent(5,1)\n",
    "h_eff.SetBinContent(10,1)\n",
    "\n",
    "'''h_rate_qe = xsec2rate_reco(h_qe)\n",
    "h_rate_mec = xsec2rate_reco(h_mec)\n",
    "h_rate_res = xsec2rate_reco(h_res)\n",
    "h_rate_dis = xsec2rate_reco(h_dis)'''\n",
    "\n",
    "'''h_rate_qe = smear_plot(h_rate_qe)\n",
    "h_rate_mec = smear_plot(h_rate_mec)\n",
    "h_rate_res = smear_plot(h_rate_res)\n",
    "h_rate_dis = smear_plot(h_rate_dis)\n",
    "'''"
   ]
  },
  {
   "cell_type": "code",
   "execution_count": null,
   "metadata": {},
   "outputs": [],
   "source": []
  },
  {
   "cell_type": "code",
   "execution_count": null,
   "metadata": {},
   "outputs": [],
   "source": []
  },
  {
   "cell_type": "code",
   "execution_count": 8,
   "metadata": {},
   "outputs": [
    {
     "name": "stdout",
     "output_type": "stream",
     "text": [
      "Overlay: Number of Entries:\t1012051\n",
      "Data: Number of Entries:\t784254\n",
      "Ext: Number of Entries:\t\t1018743\n",
      "Dirt: Number of Entries:\t40808\n",
      "\n",
      "Scalefactors: \n",
      "Data:\t\t1.0\n",
      "Ext:\t\t0.600992748172\n",
      "Overlay:\t0.169069492301\n",
      "Dirt:\t\t1.69438986704\n"
     ]
    }
   ],
   "source": [
    "# read input data files\n",
    "filename_overlay = 'NuCCana_overlay_V26_mar18.root'\n",
    "filename_data = 'NuCCana_data_fullRun3.root'\n",
    "filename_ext = 'NuCCana_ext_V25_G1.root'\n",
    "filename_dirt = 'NuCCana_dirt_V26_weight.root'\n",
    "tree_name = 'numuCCAna'\n",
    "\n",
    "data, ext, dirt, overlay = NuCC.openTrees(inputdir, filename_data, filename_ext, filename_dirt, filename_overlay, tree_name)\n",
    "NuCC.printNumberOfEntries(data,ext,dirt,overlay)\n",
    "\n",
    "pot_overlay = NuCC.getPOT(inputdir,filename_overlay,tree_name)\n",
    "pot_dirt =  NuCC.getPOT(inputdir,filename_dirt,tree_name)\n",
    "ext_trigger =  85768579.0  #2120135 #5685315 # EXT\n",
    "pot_data =     2.144e+20  # best with tor875\n",
    "data_trigger = 51546294.0 #1854495.0 #4743794 # 1987072.0 # E1DCNT_wcut\n",
    "\n",
    "sample = [data,ext,overlay,dirt]\n",
    "scale = {data:1.0,ext:1.0,overlay:1.0,dirt:1.0}\n",
    "name = {data:'data',ext:'ext',overlay:'overlay',dirt:'dirt'}\n",
    "\n",
    "scale[data], scale[ext], scale[dirt], scale[overlay] = NuCC.calculateScale(data_trigger, ext_trigger, pot_data, pot_dirt, pot_overlay)\n",
    "\n",
    "scale[dirt] = scale[dirt]\n",
    "scale[overlay] = scale[overlay]\n",
    "print 'Scalefactors: '\n",
    "print 'Data:\\t\\t', scale[data]\n",
    "print 'Ext:\\t\\t', scale[ext]\n",
    "print 'Overlay:\\t', scale[overlay]\n",
    "print 'Dirt:\\t\\t', scale[dirt]\n"
   ]
  },
  {
   "cell_type": "code",
   "execution_count": 9,
   "metadata": {
    "jupyter": {
     "source_hidden": true
    }
   },
   "outputs": [
    {
     "name": "stdout",
     "output_type": "stream",
     "text": [
      "Overlay: Number of Entries:\t1013969\n",
      "Data: Number of Entries:\t784253\n",
      "Ext: Number of Entries:\t\t1018742\n",
      "Dirt: Number of Entries:\t40800\n",
      "\n"
     ]
    }
   ],
   "source": [
    "if 1:\n",
    "    filename_overlay = filename_overlay+'out4_noflux.root'\n",
    "    #filename_overlay = 'NuCCana_overlay_points_1kev.rootout2.root'\n",
    "    filename_data = filename_data+'out4.root'\n",
    "    filename_ext = filename_ext+'out4.root'\n",
    "    filename_dirt = filename_dirt+'out4.root'\n",
    "\n",
    "    tree_name = 't_out'\n",
    "\n",
    "    data_out, ext_out, dirt_out, overlay_out = NuCC.openTreesOut(inputdir, filename_data, filename_ext, filename_dirt, filename_overlay, tree_name)\n",
    "    NuCC.printNumberOfEntries(data_out,ext_out,dirt_out,overlay_out)\n",
    "\n",
    "    sample_out = [data_out,ext_out,overlay_out,dirt_out]\n",
    "    scale_out = {data_out:1.0,ext_out:1.0,overlay_out:1.0,dirt_out:1.0}\n",
    "    name_out = {data_out:'data',ext_out:'ext',overlay_out:'overlay',dirt_out:'dirt'}\n",
    "\n",
    "    scale_out[data_out], scale_out[ext_out], scale_out[dirt_out], scale_out[overlay_out] = NuCC.calculateScale(data_trigger, ext_trigger, pot_data, pot_dirt, pot_overlay)\n",
    "    scale_out[dirt_out] = scale_out[dirt_out]\n",
    "    scale_out[overlay_out] = scale_out[overlay_out]\n",
    "    "
   ]
  },
  {
   "cell_type": "code",
   "execution_count": 10,
   "metadata": {},
   "outputs": [],
   "source": [
    "fidVol = '(Nu_Vx_sce>(-1.55+10) && Nu_Vx_sce<(254.8-10)) && (Nu_Vy_sce>(-115.53+10) && Nu_Vy_sce<(117.47-10)) &&(Nu_Vz_sce>(-0.1+10) && Nu_Vz_sce<(1036.9-50))'\n",
    "MCfidVol = '(MCNu_Vx>(-1.55+10) && MCNu_Vx<(254.8-10)) && (MCNu_Vy>(-115.53+10) && MCNu_Vy<(117.47-10)) &&(MCNu_Vz>(-0.1+10) && MCNu_Vz<(1036.9-50))'\n",
    "numu_signal = 'fidVol && MCfidVol && MCNu_CCNC==0 && MCNu_PDG==14 && MCTrackPDG==13 && MCTrackPurity>0.5' # numu CC signal definition\n",
    "numu_true = 'MCfidVol && MCNu_CCNC==0 && MCNu_PDG==14' # numu CC signal definition\n",
    "\n",
    "#numu_nomuon = 'fidVol && MCfidVol && MCNu_CCNC==0 && MCNu_PDG==14 && MCTrackPDG!=13 && MCTrackPurity>0.5' # numu CC signal definition\n",
    "numu_nomuon = 'fidVol && MCfidVol && MCNu_CCNC==0 && MCNu_PDG==14 && (MCTrackPDG!=13 || (MCTrackPDG==13 && MCle_Energy<=0.15))&& MCTrackPurity>0.5' # numu CC signal definition\n",
    "numu_nue = 'fidVol && MCfidVol && MCNu_CCNC==0 && abs(MCNu_PDG)!=14 && MCTrackPurity>=0.5' # e.g anti nu or nue\n",
    "numu_antinu = 'fidVol && MCfidVol && MCNu_CCNC==0 && MCNu_PDG==-14 && MCTrackPurity>=0.5' # e.g anti nu or nue\n",
    "numu_nc = 'fidVol && MCfidVol && MCNu_CCNC==1 && MCTrackPurity>=0.5' # nutral current\n",
    "numu_ov = 'fidVol && !MCfidVol && MCTrackPurity>=0.5' # out of fiducial\n",
    "numu_cosmic = 'fidVol && MCTrackPurity<0.5' #low purity\n",
    "\n",
    "#signal = 'MCfidVol && MCNu_CCNC==0 && MCNu_PDG==14'\n",
    "for x in sample:\n",
    "    x.SetAlias('muon','(muon_candidate_key==track_key)')\n",
    "\n",
    "    \n",
    "energy_cut = ' && MCle_Energy>0.15'\n",
    "numu_signal = numu_signal+energy_cut\n",
    "numu_true = numu_true+energy_cut\n",
    "#numu_nomu = numu_nomu+energy_cut\n",
    "#numu_lowpur = numu_lowpur+energy_cut\n",
    "#numu_nc = numu_nc+energy_cut\n",
    "#numu_ov = numu_ov+energy_cut\n",
    "#numu_other = numu_other+energy_cut\n",
    "\n",
    "num_fidVol = {}\n",
    "for x in sample:\n",
    "    x.SetAlias('fidVol',fidVol)\n",
    "    x.SetAlias('MCfidVol',MCfidVol)\n",
    "    x.SetAlias('numu_signal',numu_signal)\n",
    "    x.SetAlias('numu_true',numu_true)\n",
    "    x.SetAlias('numu_nomuon',numu_nomuon)\n",
    "    x.SetAlias('numu_nue',numu_nue)\n",
    "    x.SetAlias('numu_nc',numu_nc)\n",
    "    x.SetAlias('numu_ov',numu_ov)\n",
    "    x.SetAlias('numu_antinu',numu_antinu)\n",
    "    x.SetAlias('numu_cosmic',numu_cosmic)\n",
    "    num_fidVol[x] = x.GetEntries('fidVol && muon')*scale[x]\n",
    "    \n",
    "tot_num_fidVol = num_fidVol[ext]+num_fidVol[dirt]+num_fidVol[overlay]\n",
    "overlay_signals = ['numu_cosmic','numu_ov','numu_nc','numu_antinu','numu_nue','numu_nomuon','numu_signal']\n"
   ]
  },
  {
   "cell_type": "code",
   "execution_count": 11,
   "metadata": {},
   "outputs": [],
   "source": [
    "#num_fidVol = {}\n",
    "for x in sample_out:\n",
    "    x.SetAlias('fidVol',fidVol)\n",
    "    x.SetAlias('MCfidVol',MCfidVol)\n",
    "    x.SetAlias('numu_signal',numu_signal)\n",
    "    x.SetAlias('numu_true',numu_true)\n",
    "    x.SetAlias('numu_nomuon',numu_nomuon)\n",
    "    x.SetAlias('numu_nue',numu_nue)\n",
    "    x.SetAlias('numu_nc',numu_nc)\n",
    "    x.SetAlias('numu_ov',numu_ov)\n",
    "    x.SetAlias('numu_antinu',numu_antinu)\n",
    "    x.SetAlias('numu_cosmic',numu_cosmic)"
   ]
  },
  {
   "cell_type": "code",
   "execution_count": 12,
   "metadata": {
    "jupyter": {
     "source_hidden": true
    }
   },
   "outputs": [
    {
     "name": "stderr",
     "output_type": "stream",
     "text": [
      "Warning in <TCanvas::Constructor>: Deleting canvas with same name: c1\n"
     ]
    }
   ],
   "source": [
    "# Load the global variables for access of functions\n",
    "NuCC.loadGlobal(data,ext,dirt,overlay,data_out,ext_out,dirt_out,overlay_out,scale,scale_out,tot_num_fidVol,overlay_signals,sample,sample_out, name,name_out, outputdir_png, outputdir_root,outputdir_pdf)\n",
    "#NuCC.printGlobal()"
   ]
  },
  {
   "cell_type": "code",
   "execution_count": 13,
   "metadata": {
    "jupyter": {
     "source_hidden": true
    }
   },
   "outputs": [],
   "source": [
    "# initialte ROOT default canvas\n",
    "ROOT.gStyle.SetOptStat(0)\n",
    "c1 = ROOT.TCanvas(\"c1\",\"c1\",1600,1200)\n",
    "c1.SetGrid(1)\n",
    "c1.SetLeftMargin(0.14)\n",
    "c1.SetRightMargin(0.18)\n",
    "c1.SetBottomMargin(0.14)"
   ]
  },
  {
   "cell_type": "code",
   "execution_count": 14,
   "metadata": {
    "jupyter": {
     "source_hidden": true
    }
   },
   "outputs": [],
   "source": [
    "\n",
    "track_start_border_x = '(TrackStart_x_sce <(-1.55+5) || TrackStart_x_sce > (254.8-5))'\n",
    "track_end_border_x = '(TrackEnd_x_sce <(-1.55+5) || TrackEnd_x_sce > (254.8-5))'\n",
    "track_start_border_y = '(TrackStart_y_sce <(-115.53+5) || TrackStart_y_sce > (117.47-5))'\n",
    "track_end_border_y = '(TrackEnd_y_sce <(-115.53+5) || TrackEnd_y_sce > (117.47-5))'\n",
    "track_start_border_z = '(TrackStart_z_sce <(0.1+5) || TrackStart_z_sce > (1036.9-5))'\n",
    "track_end_border_z = '(TrackEnd_z_sce <(0.1+5) || TrackEnd_z_sce > (1039.9-5))'\n",
    "\n",
    "track_end_uncontained = '(' + track_end_border_x + ' || ' + track_end_border_y + ' || ' + track_end_border_z+ ')'\n",
    "\n",
    "\n",
    "data.SetAlias(\"track_end_uncontained\",track_end_uncontained)\n",
    "ext.SetAlias(\"track_end_uncontained\",track_end_uncontained)\n",
    "overlay.SetAlias(\"track_end_uncontained\",track_end_uncontained)\n",
    "dirt.SetAlias(\"track_end_uncontained\",track_end_uncontained)\n",
    "data_out.SetAlias(\"track_end_uncontained\",track_end_uncontained)\n",
    "ext_out.SetAlias(\"track_end_uncontained\",track_end_uncontained)\n",
    "overlay_out.SetAlias(\"track_end_uncontained\",track_end_uncontained)\n",
    "dirt_out.SetAlias(\"track_end_uncontained\",track_end_uncontained)\n",
    "\n",
    "data.SetAlias(\"crt_cut\",\"(abs(crtt0_time+(crt_trig_corr_med)/1000-4)<0.9 || crtt0_time==-1)\")\n",
    "ext.SetAlias(\"crt_cut\",\"(abs(crtt0_time+(crt_trig_corr_med)/1000-3.57+3.195-4)<0.9 || crtt0_time==-1)\")\n",
    "overlay.SetAlias(\"crt_cut\",\"(abs(crtt0_time-3.95)<0.9 || crtt0_time==-1)\")\n",
    "dirt.SetAlias(\"crt_cut\",\"(abs(crtt0_time-3.95)<0.9 || crtt0_time==-1)\")\n",
    "data_out.SetAlias(\"crt_cut\",\"(abs(crtt0_time+(crt_trig_corr_med)/1000-3.95)<0.9 || crtt0_time==-1)\")\n",
    "ext_out.SetAlias(\"crt_cut\",\"(abs(crtt0_time+(crt_trig_corr_med)/1000-3.57+3.195-3.95)<0.9 || crtt0_time==-1)\")\n",
    "overlay_out.SetAlias(\"crt_cut\",\"(abs(crtt0_time-3.95)<0.9 || crtt0_time==-1)\")\n",
    "dirt_out.SetAlias(\"crt_cut\",\"(abs(crtt0_time-3.95)<0.9 || crtt0_time==-1)\")\n",
    "\n",
    "crt_tom_cut = 'nr_crthit_top==0 && crthit_vertex_zcut==0 && (track_end_uncontained==1 || nr_crthit_beam_tres==0) && crt_cut'\n",
    "\n",
    "data.SetAlias(\"crt_tom_cut\",crt_tom_cut)\n",
    "ext.SetAlias(\"crt_tom_cut\",crt_tom_cut)\n",
    "overlay.SetAlias(\"crt_tom_cut\",crt_tom_cut)\n",
    "dirt.SetAlias(\"crt_tom_cut\",crt_tom_cut)\n",
    "data_out.SetAlias(\"crt_tom_cut\",crt_tom_cut)\n",
    "ext_out.SetAlias(\"crt_tom_cut\",crt_tom_cut)\n",
    "overlay_out.SetAlias(\"crt_tom_cut\",crt_tom_cut)\n",
    "dirt_out.SetAlias(\"crt_tom_cut\",crt_tom_cut)\n",
    "\n",
    "weight_name = 'EventWeight*TunedCentralValue_Genie'\n"
   ]
  },
  {
   "cell_type": "code",
   "execution_count": 15,
   "metadata": {},
   "outputs": [
    {
     "name": "stdout",
     "output_type": "stream",
     "text": [
      " && cos(MCNu_leptonTheta)>-1.0 && cos(MCNu_leptonTheta)<-0.5\n",
      " && cos(MCNu_leptonTheta)>-0.5 && cos(MCNu_leptonTheta)<0.0\n",
      " && cos(MCNu_leptonTheta)>0.0 && cos(MCNu_leptonTheta)<0.28\n",
      " && cos(MCNu_leptonTheta)>0.28 && cos(MCNu_leptonTheta)<0.47\n",
      " && cos(MCNu_leptonTheta)>0.47 && cos(MCNu_leptonTheta)<0.63\n",
      " && cos(MCNu_leptonTheta)>0.63 && cos(MCNu_leptonTheta)<0.765\n",
      " && cos(MCNu_leptonTheta)>0.765 && cos(MCNu_leptonTheta)<0.865\n",
      " && cos(MCNu_leptonTheta)>0.865 && cos(MCNu_leptonTheta)<0.935\n",
      " && cos(MCNu_leptonTheta)>0.935 && cos(MCNu_leptonTheta)<1.0\n"
     ]
    }
   ],
   "source": [
    "#weight_name = 'EventWeight*TunedCentralValue_Genie'\n",
    "#weight_name = 'EventWeight*RPA_CCQE_UBGenie[0]'\n",
    "#weight_name = 'EventWeight*RPA_CCQE_UBGenie[1]'\n",
    "#weight_name= \n",
    "#weight_name = '(EventWeight*TunedCentralValue_Genie*(MCNu_Interaction!=10))'\n",
    "#weight_name = '(EventWeight*TunedCentralValue_Genie*(MCNu_Interaction!=10)+2*(EventWeight*TunedCentralValue_Genie*(MCNu_Interaction==10)))'\n",
    "weight_name = '(EventWeight*TunedCentralValue_Genie*(MCNu_Interaction==0)*0.8+EventWeight*TunedCentralValue_Genie*(MCNu_Interaction==1)*1.5+EventWeight*TunedCentralValue_Genie*(MCNu_Interaction==2)*2)'\n",
    "model = '08QE15RES20DIS'\n",
    "\n",
    "title = 'true moum momentum efficiency'\n",
    "nenner_cut = 'numu_true'\n",
    "zahler_cut = 'fidVol  && crt_tom_cut && TrackScore>0.8\\\n",
    "                && TrackLength>20 && TrackPID_chiproton>78 && NuScore>0.1'\n",
    "\n",
    "h_1d_sel_nocrt = []\n",
    "h_1d_sel_nocrt1 = []\n",
    "h_1d_gen_nocrt = []\n",
    "\n",
    "num_sel_nocrt = np.zeros(sum_bins+1)\n",
    "num_sel_nocrt1 = np.zeros(sum_bins+1)\n",
    "num_gen_nocrt = np.zeros(sum_bins+1)\n",
    "\n",
    "for t_bin in range(len_theta):\n",
    "    h_1d_sel_nocrt.append(ROOT.TH1F('h_1d_sel_nocrt['+str(t_bin)+']',\"true momentum, selected\",len_mom[t_bin],array('f',mom_bins[t_bin])))\n",
    "    h_1d_sel_nocrt1.append(ROOT.TH1F('h_1d_sel_nocrt1['+str(t_bin)+']',\"true momentum, selected\",len_mom[t_bin],array('f',mom_bins[t_bin])))\n",
    "    h_1d_gen_nocrt.append( ROOT.TH1F('h_1d_gen_nocrt['+str(t_bin)+']',\"true momentum, generated\",len_mom[t_bin],array('f',mom_bins[t_bin])) )\n",
    "\n",
    "bin_counter = 0\n",
    "for t_bin in range(len_theta):\n",
    "    this_cut = ' && cos(MCNu_leptonTheta)>'+str(theta_bins[t_bin])+' && cos(MCNu_leptonTheta)<'+str(theta_bins[t_bin+1])\n",
    "    this_cut_reco = ' && cos(TrackTheta)>'+str(theta_bins[t_bin])+' && cos(TrackTheta)<'+str(theta_bins[t_bin+1])\n",
    "    print this_cut\n",
    "    overlay_out.Draw('TrackMomMCS_mom>>h_1d_sel_nocrt['+str(t_bin)+']',weight_name+'*('+zahler_cut+this_cut_reco+'&& track_end_uncontained)','')\n",
    "    overlay_out.Draw('TrackMomRange_mu>>h_1d_sel_nocrt1['+str(t_bin)+']',weight_name+'*('+zahler_cut+this_cut_reco+' && !track_end_uncontained)','')\n",
    "    h_1d_sel_nocrt[t_bin].Add(h_1d_sel_nocrt1[t_bin])\n",
    "    overlay_out.Draw('MCle_Energy>>h_1d_gen_nocrt['+str(t_bin)+']',weight_name+'*('+nenner_cut+this_cut+')','')\n",
    "    h_1d_sel_nocrt[t_bin].Scale(scale[overlay])\n",
    "    h_1d_gen_nocrt[t_bin].Scale(scale[overlay])\n",
    "    for m_bin in range(len_mom[t_bin]):\n",
    "        num_sel_nocrt[bin_counter] = h_1d_sel_nocrt[t_bin].GetBinContent(m_bin+1)\n",
    "        num_gen_nocrt[bin_counter] = h_1d_gen_nocrt[t_bin].GetBinContent(m_bin+1)\n",
    "        bin_counter+=1\n",
    "    num_sel_nocrt[sum_bins] += h_1d_sel_nocrt[t_bin].GetBinContent(len_mom[t_bin]+1)\n",
    "    num_gen_nocrt[sum_bins] += h_1d_gen_nocrt[t_bin].GetBinContent(len_mom[t_bin]+1)\n",
    "    #h_1d_sel_nocrt[t_bin].Write('h_1d_sel_nocrt['+str(t_bin)+']')\n",
    "    #h_1d_gen_nocrt[t_bin].Write('h_1d_gen_nocrt['+str(t_bin)+']')\n",
    "    \n"
   ]
  },
  {
   "cell_type": "code",
   "execution_count": 16,
   "metadata": {},
   "outputs": [],
   "source": [
    "h_fakedata = ROOT.TH1F('h_fakedata','h_fakedata',sum_bins+1,0,sum_bins+1)\n",
    "h_fake_true = ROOT.TH1F('h_fake_true','h_fake_true',sum_bins+1,0,sum_bins+1)\n",
    "\n",
    "for i in range(sum_bins+1):\n",
    "    h_fakedata.SetBinContent(i+1,num_sel_nocrt[i])\n",
    "    h_fake_true.SetBinContent(i+1,num_gen_nocrt[i])\n",
    "\n",
    "#h_fakedata.Add(h_bkg,-1)\n",
    "h_fakedata.Add(h_ext)\n",
    "h_fakedata.Add(h_dirt)\n",
    "h_fakedata.SetLineColor(ROOT.kRed)\n",
    "h_fake_true.SetLineColor(ROOT.kGreen)\n",
    "#h_fakedata.Write('h_fakedata')\n",
    "#h_fake_true.Write('h_fake_true')\n"
   ]
  },
  {
   "cell_type": "code",
   "execution_count": 17,
   "metadata": {},
   "outputs": [
    {
     "name": "stdout",
     "output_type": "stream",
     "text": [
      "Doing detector systematics\n",
      "Doing Genie single variation uncertainties\n",
      "Doing Genie multiverse systematics\n",
      "Doing flux systematics\n",
      "Variation:  0  At universe:  0\n",
      "Variation:  0  At universe:  100\n",
      "Variation:  0  At universe:  200\n",
      "Variation:  0  At universe:  300\n",
      "Variation:  0  At universe:  400\n",
      "Variation:  0  At universe:  500\n",
      "Variation:  0  At universe:  600\n",
      "Variation:  0  At universe:  700\n",
      "Variation:  0  At universe:  800\n",
      "Variation:  0  At universe:  900\n",
      "Variation:  1  At universe:  0\n",
      "Variation:  1  At universe:  100\n",
      "Variation:  1  At universe:  200\n",
      "Variation:  1  At universe:  300\n",
      "Variation:  1  At universe:  400\n",
      "Variation:  1  At universe:  500\n",
      "Variation:  1  At universe:  600\n",
      "Variation:  1  At universe:  700\n",
      "Variation:  1  At universe:  800\n",
      "Variation:  1  At universe:  900\n",
      "Variation:  2  At universe:  0\n",
      "Variation:  2  At universe:  100\n",
      "Variation:  2  At universe:  200\n",
      "Variation:  2  At universe:  300\n",
      "Variation:  2  At universe:  400\n",
      "Variation:  2  At universe:  500\n",
      "Variation:  2  At universe:  600\n",
      "Variation:  2  At universe:  700\n",
      "Variation:  2  At universe:  800\n",
      "Variation:  2  At universe:  900\n",
      "Variation:  3  At universe:  0\n",
      "Variation:  3  At universe:  100\n",
      "Variation:  3  At universe:  200\n",
      "Variation:  3  At universe:  300\n",
      "Variation:  3  At universe:  400\n",
      "Variation:  3  At universe:  500\n",
      "Variation:  3  At universe:  600\n",
      "Variation:  3  At universe:  700\n",
      "Variation:  3  At universe:  800\n",
      "Variation:  3  At universe:  900\n",
      "Variation:  4  At universe:  0\n",
      "Variation:  4  At universe:  100\n",
      "Variation:  4  At universe:  200\n",
      "Variation:  4  At universe:  300\n",
      "Variation:  4  At universe:  400\n",
      "Variation:  4  At universe:  500\n",
      "Variation:  4  At universe:  600\n",
      "Variation:  4  At universe:  700\n",
      "Variation:  4  At universe:  800\n",
      "Variation:  4  At universe:  900\n",
      "Variation:  5  At universe:  0\n",
      "Variation:  5  At universe:  100\n",
      "Variation:  5  At universe:  200\n",
      "Variation:  5  At universe:  300\n",
      "Variation:  5  At universe:  400\n",
      "Variation:  5  At universe:  500\n",
      "Variation:  5  At universe:  600\n",
      "Variation:  5  At universe:  700\n",
      "Variation:  5  At universe:  800\n",
      "Variation:  5  At universe:  900\n",
      "Variation:  6  At universe:  0\n",
      "Variation:  6  At universe:  100\n",
      "Variation:  6  At universe:  200\n",
      "Variation:  6  At universe:  300\n",
      "Variation:  6  At universe:  400\n",
      "Variation:  6  At universe:  500\n",
      "Variation:  6  At universe:  600\n",
      "Variation:  6  At universe:  700\n",
      "Variation:  6  At universe:  800\n",
      "Variation:  6  At universe:  900\n",
      "Variation:  7  At universe:  0\n",
      "Variation:  7  At universe:  100\n",
      "Variation:  7  At universe:  200\n",
      "Variation:  7  At universe:  300\n",
      "Variation:  7  At universe:  400\n",
      "Variation:  7  At universe:  500\n",
      "Variation:  7  At universe:  600\n",
      "Variation:  7  At universe:  700\n",
      "Variation:  7  At universe:  800\n",
      "Variation:  7  At universe:  900\n",
      "Variation:  8  At universe:  0\n",
      "Variation:  8  At universe:  100\n",
      "Variation:  8  At universe:  200\n",
      "Variation:  8  At universe:  300\n",
      "Variation:  8  At universe:  400\n",
      "Variation:  8  At universe:  500\n",
      "Variation:  8  At universe:  600\n",
      "Variation:  8  At universe:  700\n",
      "Variation:  8  At universe:  800\n",
      "Variation:  8  At universe:  900\n",
      "Variation:  9  At universe:  0\n",
      "Variation:  9  At universe:  100\n",
      "Variation:  9  At universe:  200\n",
      "Variation:  9  At universe:  300\n",
      "Variation:  9  At universe:  400\n",
      "Variation:  9  At universe:  500\n",
      "Variation:  9  At universe:  600\n",
      "Variation:  9  At universe:  700\n",
      "Variation:  9  At universe:  800\n",
      "Variation:  9  At universe:  900\n",
      "Variation:  10  At universe:  0\n",
      "Variation:  10  At universe:  100\n",
      "Variation:  10  At universe:  200\n",
      "Variation:  10  At universe:  300\n",
      "Variation:  10  At universe:  400\n",
      "Variation:  10  At universe:  500\n",
      "Variation:  10  At universe:  600\n",
      "Variation:  10  At universe:  700\n",
      "Variation:  10  At universe:  800\n",
      "Variation:  10  At universe:  900\n",
      "Variation:  11  At universe:  0\n",
      "Variation:  11  At universe:  100\n",
      "Variation:  11  At universe:  200\n",
      "Variation:  11  At universe:  300\n",
      "Variation:  11  At universe:  400\n",
      "Variation:  11  At universe:  500\n",
      "Variation:  11  At universe:  600\n",
      "Variation:  11  At universe:  700\n",
      "Variation:  11  At universe:  800\n",
      "Variation:  11  At universe:  900\n",
      "Variation:  12  At universe:  0\n",
      "Variation:  12  At universe:  100\n",
      "Variation:  12  At universe:  200\n",
      "Variation:  12  At universe:  300\n",
      "Variation:  12  At universe:  400\n",
      "Variation:  12  At universe:  500\n",
      "Variation:  12  At universe:  600\n",
      "Variation:  12  At universe:  700\n",
      "Variation:  12  At universe:  800\n",
      "Variation:  12  At universe:  900\n",
      "Doing crt systematics\n",
      "Doing dirt systematics\n",
      "Doing pot systematics\n",
      "Doing stat. systematics\n"
     ]
    }
   ],
   "source": [
    "pot = 2.144e+20\n",
    "\n",
    "h_true = h_fake_true.Clone()\n",
    "\n",
    "frac_det = CC.return_detsys_covar(h_true,2.144e+20)\n",
    "frac_other = CC.return_other_covar(h_true,2.144e+20)\n",
    "frac_det_all,bkg_all = CC.return_all_covar(h_true,2.144e+20)\n",
    "frac_det_flux = CC.return_flux_covar(h_true,2.144e+20)\n",
    "frac_crt = CC.return_crt_covar(h_true,2.144e+20)\n",
    "frac_dirt = CC.return_dirt_covar(h_true,2.144e+20)\n",
    "frac_pot = CC.return_pot_covar(h_true,2.144e+20)\n",
    "frac_stat = CC.return_stat_covar(h_true,2.144e+20)\n",
    "\n",
    "np.save(outputdir+'frac_det_'+model,frac_det)\n",
    "np.save(outputdir+'frac_other_'+model,frac_other)\n",
    "np.save(outputdir+'frac_det_all_'+model,frac_det_all)\n",
    "#np.save(outputdir+'bkg_all_'+model,bkg_all)\n",
    "np.save(outputdir+'frac_det_flux_'+model,frac_det_flux)\n",
    "np.save(outputdir+'frac_crt_'+model,frac_crt)\n",
    "np.save(outputdir+'frac_dirt_'+model,frac_dirt)\n",
    "np.save(outputdir+'frac_stat_'+model,frac_stat)\n",
    "np.save(outputdir+'frac_pot_'+model,frac_pot)\n",
    "\n",
    "frac_tot = frac_det+frac_other+frac_det_all+frac_crt+frac_dirt+frac_stat+frac_pot+frac_det_flux\n",
    "\n",
    "np.save(outputdir+'frac_tot_'+model,frac_tot)\n"
   ]
  },
  {
   "cell_type": "code",
   "execution_count": 18,
   "metadata": {},
   "outputs": [],
   "source": [
    "frac_det = np.load(outputdir+'frac_det_'+model+'.npy')\n",
    "frac_other = np.load(outputdir+'frac_other_'+model+'.npy')\n",
    "frac_all = np.load(outputdir+'frac_det_all_'+model+'.npy')\n",
    "frac_crt = np.load(outputdir+'frac_crt_'+model+'.npy')\n",
    "frac_stat = np.load(outputdir+'frac_stat_'+model+'.npy')\n",
    "frac_dirt = np.load(outputdir+'frac_dirt_'+model+'.npy')\n",
    "frac_flux = np.load(outputdir+'frac_det_flux_'+model+'.npy')\n",
    "frac_tot = np.load(outputdir+'frac_tot_'+model+'.npy')\n"
   ]
  },
  {
   "cell_type": "code",
   "execution_count": 19,
   "metadata": {},
   "outputs": [
    {
     "name": "stdout",
     "output_type": "stream",
     "text": [
      "525237.1407878208\n"
     ]
    }
   ],
   "source": [
    "chi2 = CC.my_chi2(h_fakedata, h_true,2.144e+20,frac_tot)\n",
    "print chi2"
   ]
  },
  {
   "cell_type": "code",
   "execution_count": 20,
   "metadata": {},
   "outputs": [],
   "source": [
    "fakedata = FF.plot2arr(h_fakedata,1)\n",
    "h_fake42 = FF.arr2plot(fakedata[0:-1])"
   ]
  },
  {
   "cell_type": "code",
   "execution_count": 21,
   "metadata": {},
   "outputs": [
    {
     "name": "stdout",
     "output_type": "stream",
     "text": [
      "Making event rate comparison\n",
      "Chi2 =  525237.1407878208\n"
     ]
    },
    {
     "name": "stderr",
     "output_type": "stream",
     "text": [
      "Warning in <TCanvas::Constructor>: Deleting canvas with same name: c1\n",
      "Info in <TCanvas::Print>: png file /home/tmettler/Desktop/v08_00_00_33/V08_00_00_35/weighted_improved/My_Measurement/plots/Event_rate_08QE15RES20DIS.png has been created\n",
      "Info in <TCanvas::SaveAs>: ROOT file /home/tmettler/Desktop/v08_00_00_33/V08_00_00_35/weighted_improved/My_Measurement/plots/Event_rate_08QE15RES20DIS.root has been created\n",
      "Info in <TCanvas::Print>: pdf file /home/tmettler/Desktop/v08_00_00_33/V08_00_00_35/weighted_improved/My_Measurement/plots/Event_rate_08QE15RES20DIS.pdf has been created\n"
     ]
    },
    {
     "data": {
      "image/png": "[encoded data removed]",
      "text/plain": [
       "<IPython.core.display.Image object>"
      ]
     },
     "metadata": {},
     "output_type": "display_data"
    }
   ],
   "source": [
    "CC.eventrate_comparison(h_fake42,h_true,2.144e+20,frac_tot, 'Event_rate_'+model,model)"
   ]
  },
  {
   "cell_type": "code",
   "execution_count": null,
   "metadata": {},
   "outputs": [],
   "source": []
  },
  {
   "cell_type": "code",
   "execution_count": null,
   "metadata": {},
   "outputs": [],
   "source": []
  },
  {
   "cell_type": "code",
   "execution_count": null,
   "metadata": {},
   "outputs": [],
   "source": []
  },
  {
   "cell_type": "code",
   "execution_count": null,
   "metadata": {},
   "outputs": [],
   "source": []
  },
  {
   "cell_type": "code",
   "execution_count": null,
   "metadata": {},
   "outputs": [],
   "source": []
  },
  {
   "cell_type": "code",
   "execution_count": null,
   "metadata": {},
   "outputs": [],
   "source": []
  }
 ],
 "metadata": {
  "kernelspec": {
   "display_name": "Python 2",
   "language": "python",
   "name": "python2"
  },
  "language_info": {
   "codemirror_mode": {
    "name": "ipython",
    "version": 2
   },
   "file_extension": ".py",
   "mimetype": "text/x-python",
   "name": "python",
   "nbconvert_exporter": "python",
   "pygments_lexer": "ipython2",
   "version": "2.7.12"
  }
 },
 "nbformat": 4,
 "nbformat_minor": 4
}
