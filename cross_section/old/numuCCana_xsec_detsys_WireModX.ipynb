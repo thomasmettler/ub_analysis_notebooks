{
 "cells": [
  {
   "cell_type": "code",
   "execution_count": 1,
   "metadata": {},
   "outputs": [
    {
     "name": "stdout",
     "output_type": "stream",
     "text": [
      "Welcome to JupyROOT 6.10/08\n"
     ]
    }
   ],
   "source": [
    "from __future__ import division\n",
    "import imp\n",
    "import uproot\n",
    "import matplotlib\n",
    "#matplotlib.use('agg')\n",
    "import matplotlib.pyplot as plt\n",
    "import matplotlib.image as mpimg\n",
    "import numpy as np\n",
    "import pandas as pd\n",
    "import os\n",
    "import ROOT\n",
    "import time\n",
    "import math\n",
    "import collections\n",
    "from array import array\n",
    "\n",
    "inputdir = '/home/tmettler/Desktop/v08_00_00_33/V08_00_00_35/weighted/'\n",
    "outputdir = inputdir+'xsec_detsys_WireModX/' \n",
    "output_filedir = '/home/tmettler/Desktop/v08_00_00_33/V08_00_00_35/weighted/xsec_detsys_WireModX/'\n",
    "input_filedir = '/home/tmettler/Desktop/v08_00_00_33/V08_00_00_35/weighted/'\n",
    "lib_function_dir = '/home/tmettler/Desktop/uBoone/do_plots/'\n",
    "\n",
    "# helper functions\n",
    "globale = imp.load_source('globale',lib_function_dir+'globale.py')\n",
    "NuCC = imp.load_source('NuCC_function',lib_function_dir+'NuCC_function.py')\n",
    "NuCC_w = imp.load_source('NuCCWeight_function',lib_function_dir+'NuCCWeight_function.py')\n"
   ]
  },
  {
   "cell_type": "code",
   "execution_count": 2,
   "metadata": {},
   "outputs": [],
   "source": [
    "#!jupyter nbconvert --to script numuCCana_muon_cut_weight.ipynb"
   ]
  },
  {
   "cell_type": "code",
   "execution_count": 3,
   "metadata": {},
   "outputs": [
    {
     "name": "stderr",
     "output_type": "stream",
     "text": [
      "Warning in <TCanvas::Constructor>: Deleting canvas with same name: c1\n"
     ]
    }
   ],
   "source": [
    "# initialte ROOT default canvas\n",
    "#ROOT.gROOT.SetBatch(ROOT.kFALSE)\n",
    "ROOT.gStyle.SetOptStat(0)\n",
    "ROOT.gStyle.SetOptTitle(0)\n",
    "c1 = ROOT.TCanvas(\"c1\",\"c1\",1600,1200)\n",
    "c1.SetGrid(1)\n",
    "c1.SetLeftMargin(0.14)\n",
    "c1.SetRightMargin(0.18)\n",
    "c1.SetBottomMargin(0.14)"
   ]
  },
  {
   "cell_type": "markdown",
   "metadata": {},
   "source": [
    "# CRTinBNB tagger, Overlay or MC"
   ]
  },
  {
   "cell_type": "code",
   "execution_count": 4,
   "metadata": {},
   "outputs": [],
   "source": [
    "# Load input files\n",
    "outputdir_png, outputdir_root = NuCC.prepareOutput(outputdir)\n",
    "try:\n",
    "    os.stat(output_filedir)\n",
    "except:\n",
    "    os.mkdir(output_filedir)\n",
    "#RootFile = ROOT.TFile(output_filedir+\"xsec_detsys_WireModX.root\",\"RECREATE\");\n",
    "\n",
    "#filename_overlay = 'NuCCana_overlay_V26_weight.root'\n",
    "filename_overlay = 'detector_variation_reweight/NuCCana_ovleray_detsys_reweight_WireModX.root'\n",
    "filename_data = 'NuCCana_data_V22.root'\n",
    "filename_ext = 'NuCCana_ext_V25.root'\n",
    "filename_dirt = 'NuCCana_dirt_V26_weight.root'\n",
    "\n",
    "#additional detector variation file\n",
    "filename_detsys = 'detector_variation_reweight/NuCCana_ovleray_detsys_reweight_WireModX.root'\n",
    "\n",
    "tree_name = 'numuCCAna'"
   ]
  },
  {
   "cell_type": "code",
   "execution_count": 5,
   "metadata": {},
   "outputs": [
    {
     "name": "stdout",
     "output_type": "stream",
     "text": [
      "Overlay: Number of Entries:\t90512\n",
      "Data: Number of Entries:\t33178\n",
      "Ext: Number of Entries:\t\t222702\n",
      "Dirt: Number of Entries:\t40808\n",
      "\n",
      "POT: \n",
      "Data:\t\t8.649e+18\n",
      "Ext:\t\t0\n",
      "Overlay:\t1.12265011704e+20\n",
      "Dirt:\t\t1.25019694173e+20\n",
      "\n",
      "Detsys POT: 1.12265011704e+20  Scale:  0.077040921911\n",
      "Scalefactors: \n",
      "Data:\t\t1.0\n",
      "Ext:\t\t0.0976176954382\n",
      "Overlay:\t0.077040921911\n",
      "Dirt:\t\t0.0691811002835\n"
     ]
    },
    {
     "name": "stderr",
     "output_type": "stream",
     "text": [
      "Warning in <TClass::Init>: no dictionary for class ROOT::TIOFeatures is available\n"
     ]
    }
   ],
   "source": [
    "#Open all the trees of the four files (data, ext, dirt, overlay)\n",
    "\n",
    "data, ext, dirt, overlay = NuCC.openTrees(inputdir, filename_data, filename_ext, filename_dirt, filename_overlay, tree_name)\n",
    "NuCC.printNumberOfEntries(data,ext,dirt,overlay)\n",
    "\n",
    "pot_overlay = NuCC.getPOT(inputdir,filename_overlay,tree_name)\n",
    "pot_dirt =  NuCC.getPOT(inputdir,filename_dirt,tree_name)\n",
    "#V25 files\n",
    "pot_data =     8.649e+18  # best with tor875\n",
    "data_trigger = 1854495.0 #4743794 # 1987072.0 # E1DCNT_wcut\n",
    "ext_trigger =  18997529.0  #2120135 #5685315 # EXT\n",
    "\n",
    "print 'POT: '\n",
    "print 'Data:\\t\\t', pot_data\n",
    "print 'Ext:\\t\\t', 0\n",
    "print 'Overlay:\\t', pot_overlay\n",
    "print 'Dirt:\\t\\t', pot_dirt\n",
    "print ''\n",
    "\n",
    "#filename_detsys = filename_detsys+'out33.root'\n",
    "detsys = ROOT.TChain(tree_name+ \"/event\",\"event\")\n",
    "detsys.Add( inputdir + filename_detsys)\n",
    "pot_detsys = NuCC.getPOT(inputdir,filename_detsys,tree_name)\n",
    "\n",
    "pot_overlay = pot_overlay\n",
    "sample = [data,ext,overlay,dirt,detsys]\n",
    "scale = {data:1.0,ext:1.0,overlay:1.0,dirt:1.0,detsys:1.0}\n",
    "name = {data:'data',ext:'ext',overlay:'overlay',dirt:'dirt',detsys:'detsys'}\n",
    "scale[data], scale[ext], scale[dirt], scale[overlay] = NuCC.calculateScale(data_trigger, ext_trigger, pot_data, pot_dirt, pot_overlay)\n",
    "scale[dirt] = scale[dirt]\n",
    "scale[overlay] = scale[overlay]\n",
    "scale_detsys = pot_data/pot_detsys\n",
    "scale[detsys] = scale_detsys\n",
    "print 'Detsys POT:', pot_detsys, ' Scale: ', scale_detsys\n",
    "print 'Scalefactors: '\n",
    "print 'Data:\\t\\t', scale[data]\n",
    "print 'Ext:\\t\\t', scale[ext]\n",
    "print 'Overlay:\\t', scale[overlay]\n",
    "print 'Dirt:\\t\\t', scale[dirt]\n"
   ]
  },
  {
   "cell_type": "code",
   "execution_count": 6,
   "metadata": {},
   "outputs": [
    {
     "name": "stdout",
     "output_type": "stream",
     "text": [
      "Detsys: Number of Entries:\t90508\n",
      "Overlay: Number of Entries:\t90508\n",
      "Data: Number of Entries:\t33177\n",
      "Ext: Number of Entries:\t\t222701\n",
      "Dirt: Number of Entries:\t40807\n",
      "\n"
     ]
    }
   ],
   "source": [
    "if 1:\n",
    "    filename_overlay = filename_overlay+'out33.root'\n",
    "    #filename_overlay = 'NuCCana_overlay_points_1kev.rootout2.root'\n",
    "    filename_data = filename_data+'out33.root'\n",
    "    filename_ext = filename_ext+'out33.root'\n",
    "    filename_dirt = filename_dirt+'out33.root'\n",
    "\n",
    "    tree_name = 't_out'\n",
    "    \n",
    "    filename_detsys = filename_detsys+'out33.root'\n",
    "    detsys_out = ROOT.TChain(tree_name,\"t_out\")\n",
    "    detsys_out.Add( inputdir + filename_detsys)\n",
    "    print \"Detsys: Number of Entries:\\t\", detsys_out.GetEntries()\n",
    "\n",
    "    data_out, ext_out, dirt_out, overlay_out = NuCC.openTreesOut(inputdir, filename_data, filename_ext, filename_dirt, filename_overlay, tree_name)\n",
    "    NuCC.printNumberOfEntries(data_out,ext_out,dirt_out,overlay_out)\n",
    "\n",
    "    sample_out = [data_out,ext_out,overlay_out,dirt_out, detsys_out]\n",
    "    scale_out = {data_out:1.0,ext_out:1.0,overlay_out:1.0,dirt_out:1.0, detsys_out:1.0}\n",
    "    name_out = {data_out:'data',ext_out:'ext',overlay_out:'overlay',dirt_out:'dirt',detsys_out:'detsys'}\n",
    "\n",
    "    scale_out[data_out], scale_out[ext_out], scale_out[dirt_out], scale_out[overlay_out] = NuCC.calculateScale(data_trigger, ext_trigger, pot_data, pot_dirt, pot_overlay)\n",
    "    scale_out[dirt_out] = scale_out[dirt_out]\n",
    "    scale_out[overlay_out] = scale_out[overlay_out]\n",
    "    scale_out[detsys_out] = scale_detsys"
   ]
  },
  {
   "cell_type": "code",
   "execution_count": 7,
   "metadata": {},
   "outputs": [
    {
     "name": "stdout",
     "output_type": "stream",
     "text": [
      "Fiducial Volume:  49184671.35\n",
      "Beam flux = 6.34870e+09  /cm2\n",
      "Number of target nuclei= 4.10331e+31  /cm3\n"
     ]
    }
   ],
   "source": [
    "##### flux and number of tragets parameters###\n",
    "flux = 1.16859e11/1.592e20 # flux per POT per cm2\n",
    "roh_data = 1.3836 #data denisity g/cm3\n",
    "roh_MC = 1.3954 # MC denisity g/cm3\n",
    "mol = 39.95 # g for argon\n",
    "N_A = 6.022140857e23 # molec/mol avogadro zahl\n",
    "N_nucleons = 40.0\n",
    "V_fid = ((254.8-10)-(-1.55+10))*((117.47-10)-(-115.53+10))*((1036.9-50)-(-0.1+10))\n",
    "print 'Fiducial Volume: ', V_fid\n",
    "##############################################\n",
    "\n",
    "beam_flux = flux * pot_data\n",
    "print 'Beam flux = {:.5e}'.format(beam_flux),' /cm2'\n",
    "N_tot = roh_data*N_A*N_nucleons*V_fid/mol\n",
    "print 'Number of target nuclei= {:.5e}'.format(N_tot),' /cm3'"
   ]
  },
  {
   "cell_type": "code",
   "execution_count": 8,
   "metadata": {},
   "outputs": [],
   "source": [
    "# Define signals\n",
    "\n",
    "fidVol = '(Nu_Vx_sce>(-1.55+10) && Nu_Vx_sce<(254.8-10)) && (Nu_Vy_sce>(-115.53+10) && Nu_Vy_sce<(117.47-10)) &&(Nu_Vz_sce>(-0.1+10) && Nu_Vz_sce<(1036.9-50))'\n",
    "MCfidVol = '(MCNu_Vx>(-1.55+10) && MCNu_Vx<(254.8-10)) && (MCNu_Vy>(-115.53+10) && MCNu_Vy<(117.47-10)) &&(MCNu_Vz>(-0.1+10) && MCNu_Vz<(1036.9-50))'\n",
    "numu_signal = 'fidVol && MCfidVol && MCNu_CCNC==0 && MCNu_PDG==14 && MCTrackPDG==13 && MCTrackPurity>0.5' # numu CC signal definition\n",
    "numu_true = 'MCfidVol && MCNu_CCNC==0 && MCNu_PDG==14' # numu CC signal definition\n",
    "numu_nomu = 'fidVol && MCfidVol && MCNu_CCNC==0 && MCNu_PDG==14 && MCTrackPDG!=13 && MCTrackPurity>0.5' # not an MC muon\n",
    "numu_lowpur = 'fidVol && MCfidVol && MCNu_CCNC==0 && MCNu_PDG==14 && MCTrackPurity<0.5' #low purity\n",
    "numu_nc = 'fidVol && MCfidVol && MCNu_CCNC==1' # nutral current\n",
    "numu_ov = 'fidVol && !MCfidVol' # out of fiducial\n",
    "numu_other = 'fidVol && MCfidVol && MCNu_CCNC==0 && MCNu_PDG!=14' # e.g anti nu or nue\n",
    "#signal = 'MCfidVol && MCNu_CCNC==0 && MCNu_PDG==14'\n",
    "for x in sample:\n",
    "    x.SetAlias('muon','(muon_candidate_key==track_key)')\n",
    "    \n",
    "num_fidVol = {}\n",
    "for x in sample:\n",
    "    x.SetAlias('fidVol',fidVol)\n",
    "    x.SetAlias('MCfidVol',MCfidVol)\n",
    "    x.SetAlias('numu_signal',numu_signal)\n",
    "    x.SetAlias('numu_true',numu_true)\n",
    "    x.SetAlias('numu_nomu',numu_nomu)\n",
    "    x.SetAlias('numu_lowpur',numu_lowpur)\n",
    "    x.SetAlias('numu_nc',numu_nc)\n",
    "    x.SetAlias('numu_ov',numu_ov)\n",
    "    x.SetAlias('numu_other',numu_other)\n",
    "    num_fidVol[x] = x.GetEntries('fidVol && muon')*scale[x]\n",
    "    \n",
    "tot_num_fidVol = num_fidVol[ext]+num_fidVol[dirt]+num_fidVol[overlay]\n",
    "overlay_signals = {'numu_signal','numu_nomu','numu_lowpur','numu_nc','numu_ov','numu_other'}"
   ]
  },
  {
   "cell_type": "code",
   "execution_count": 9,
   "metadata": {},
   "outputs": [],
   "source": [
    "for x in sample_out:\n",
    "    x.SetAlias('muon','(track_key == key_muon)')\n",
    "\n",
    "num_fidVol = {}\n",
    "for x in sample_out:\n",
    "    x.SetAlias('fidVol',fidVol)\n",
    "    x.SetAlias('MCfidVol',MCfidVol)\n",
    "    x.SetAlias('numu_signal',numu_signal)\n",
    "    x.SetAlias('numu_true',numu_true)\n",
    "    x.SetAlias('numu_nomu',numu_nomu)\n",
    "    x.SetAlias('numu_lowpur',numu_lowpur)\n",
    "    x.SetAlias('numu_nc',numu_nc)\n",
    "    x.SetAlias('numu_ov',numu_ov)\n",
    "    x.SetAlias('numu_other',numu_other)"
   ]
  },
  {
   "cell_type": "code",
   "execution_count": 10,
   "metadata": {},
   "outputs": [
    {
     "name": "stderr",
     "output_type": "stream",
     "text": [
      "Warning in <TCanvas::Constructor>: Deleting canvas with same name: c1\n"
     ]
    }
   ],
   "source": [
    "# Load the global variables for access of functions\n",
    "NuCC.loadGlobal(data,ext,dirt,overlay,data_out,ext_out,dirt_out,overlay_out,scale,scale_out,tot_num_fidVol,overlay_signals,sample,sample_out, name,name_out, outputdir_png, outputdir_root)\n",
    "#NuCC.printGlobal()"
   ]
  },
  {
   "cell_type": "code",
   "execution_count": 11,
   "metadata": {},
   "outputs": [],
   "source": [
    "# initialte ROOT default canvas\n",
    "ROOT.gStyle.SetOptStat(0)\n",
    "c1 = ROOT.TCanvas(\"c1\",\"c1\",1600,1200)\n",
    "c1.SetGrid(1)\n",
    "c1.SetLeftMargin(0.14)\n",
    "c1.SetRightMargin(0.18)\n",
    "c1.SetBottomMargin(0.14)"
   ]
  },
  {
   "cell_type": "code",
   "execution_count": 12,
   "metadata": {},
   "outputs": [
    {
     "data": {
      "text/plain": [
       "True"
      ]
     },
     "execution_count": 12,
     "metadata": {},
     "output_type": "execute_result"
    }
   ],
   "source": [
    "track_start_border_x = '(TrackStart_x_sce <(-1.55+1) || TrackStart_x_sce > (254.8-1))'\n",
    "track_end_border_x = '(TrackEnd_x_sce <(-1.55+1) || TrackEnd_x_sce > (254.8-1))'\n",
    "track_start_border_y = '(TrackStart_y_sce <(-115.53+1) || TrackStart_y_sce > (117.47-1))'\n",
    "track_end_border_y = '(TrackEnd_y_sce <(-115.53+1) || TrackEnd_y_sce > (117.47-1))'\n",
    "track_start_border_z = '(TrackStart_z_sce <(0.1+1) || TrackStart_z_sce > (1036.9-1))'\n",
    "track_end_border_z = '(TrackEnd_z_sce <(0.1+1) || TrackEnd_z_sce > (1039.9-1))'\n",
    "\n",
    "track_end_uncontained = '(' + track_end_border_x + ' || ' + track_end_border_y + ' || ' + track_end_border_z+ ')'\n",
    "\n",
    "\n",
    "data.SetAlias(\"track_end_uncontained\",track_end_uncontained)\n",
    "ext.SetAlias(\"track_end_uncontained\",track_end_uncontained)\n",
    "overlay.SetAlias(\"track_end_uncontained\",track_end_uncontained)\n",
    "dirt.SetAlias(\"track_end_uncontained\",track_end_uncontained)\n",
    "data_out.SetAlias(\"track_end_uncontained\",track_end_uncontained)\n",
    "ext_out.SetAlias(\"track_end_uncontained\",track_end_uncontained)\n",
    "overlay_out.SetAlias(\"track_end_uncontained\",track_end_uncontained)\n",
    "dirt_out.SetAlias(\"track_end_uncontained\",track_end_uncontained)\n",
    "\n",
    "detsys.SetAlias(\"track_end_uncontained\",track_end_uncontained)\n",
    "detsys_out.SetAlias(\"track_end_uncontained\",track_end_uncontained)\n",
    "\n",
    "data.SetAlias(\"crt_cut\",\"(abs(crtt0_time-(69000-crt_trig_corr_med)/1000-4)<0.8 || crtt0_time==-1)\")\n",
    "ext.SetAlias(\"crt_cut\",\"(abs(crtt0_time-(69000-crt_trig_corr_med)/1000-3.57+3.195-4)<0.8 || crtt0_time==-1)\")\n",
    "overlay.SetAlias(\"crt_cut\",\"(abs(crtt0_time-4)<0.8 || crtt0_time==-1)\")\n",
    "dirt.SetAlias(\"crt_cut\",\"(abs(crtt0_time-4)<0.8 || crtt0_time==-1)\")\n",
    "data_out.SetAlias(\"crt_cut\",\"(abs(crtt0_time-(69000-crt_trig_corr_med)/1000-4)<0.8 || crtt0_time==-1)\")\n",
    "ext_out.SetAlias(\"crt_cut\",\"(abs(crtt0_time-(69000-crt_trig_corr_med)/1000-3.57+3.195-4)<0.8 || crtt0_time==-1)\")\n",
    "overlay_out.SetAlias(\"crt_cut\",\"(abs(crtt0_time-4)<0.8 || crtt0_time==-1)\")\n",
    "dirt_out.SetAlias(\"crt_cut\",\"(abs(crtt0_time-4)<0.8 || crtt0_time==-1)\")\n",
    "\n",
    "detsys.SetAlias(\"crt_cut\",\"(abs(crtt0_time-4)<0.8 || crtt0_time==-1)\")\n",
    "detsys_out.SetAlias(\"crt_cut\",\"(abs(crtt0_time-4)<0.8 || crtt0_time==-1)\")\n",
    "\n",
    "crt_tom_cut = 'nr_crthit_top==0 && crthit_vertex_zcut==0 && (track_end_uncontained==1 || nr_crthit_beam_tres==0) && crt_cut'\n",
    "\n",
    "data.SetAlias(\"crt_tom_cut\",crt_tom_cut)\n",
    "ext.SetAlias(\"crt_tom_cut\",crt_tom_cut)\n",
    "overlay.SetAlias(\"crt_tom_cut\",crt_tom_cut)\n",
    "dirt.SetAlias(\"crt_tom_cut\",crt_tom_cut)\n",
    "data_out.SetAlias(\"crt_tom_cut\",crt_tom_cut)\n",
    "ext_out.SetAlias(\"crt_tom_cut\",crt_tom_cut)\n",
    "overlay_out.SetAlias(\"crt_tom_cut\",crt_tom_cut)\n",
    "dirt_out.SetAlias(\"crt_tom_cut\",crt_tom_cut)\n",
    "\n",
    "detsys.SetAlias(\"crt_tom_cut\",crt_tom_cut)\n",
    "detsys_out.SetAlias(\"crt_tom_cut\",crt_tom_cut)\n"
   ]
  },
  {
   "cell_type": "code",
   "execution_count": 13,
   "metadata": {},
   "outputs": [],
   "source": [
    "weight_name = 'EventWeight*TunedCentralValue_Genie'\n",
    "cut = 'fidVol && muon && TrackLength>8 && crt_tom_cut && TrackScore>0.8\\\n",
    "                && TrackLength>20 && TrackPID_chiproton>78 && NuScore>0.1'"
   ]
  },
  {
   "cell_type": "code",
   "execution_count": 14,
   "metadata": {},
   "outputs": [
    {
     "name": "stdout",
     "output_type": "stream",
     "text": [
      "Normalization (data)/(mc +ext) =  0.97874942995\n",
      "3.4154279232\n",
      "Normalization (data)/(mc +ext) =  0.978749430503\n",
      "6.81055378914\n",
      "Normalization (data)/(mc +ext) =  0.978749426145\n",
      "10.4565718174\n",
      "Normalization (data)/(mc +ext) =  0.978749084972\n",
      "14.6656279564\n",
      "Normalization (data)/(mc +ext) =  0.978864611043\n",
      "18.7716357708\n",
      "Normalization (data)/(mc +ext) =  1.01367355434\n",
      "22.6127607822\n",
      "Normalization (data)/(mc +ext) =  0.978799954916\n",
      "26.1266319752\n",
      "Normalization (data)/(mc +ext) =  0.980026673979\n",
      "29.5458948612\n",
      "Normalization (data)/(mc +ext) =  0.982454136882\n"
     ]
    },
    {
     "name": "stderr",
     "output_type": "stream",
     "text": [
      "Warning in <TH1F::Sumw2>: Sum of squares of weights structure already created\n",
      "Warning in <TCanvas::Constructor>: Deleting canvas with same name: c1\n",
      "Info in <TCanvas::Print>: png file /home/tmettler/Desktop/v08_00_00_33/V08_00_00_35/weighted/xsec_detsys_WireModX//png/NuVx_sce_WireModX.png has been created\n",
      "Info in <TCanvas::SaveAs>: ROOT file /home/tmettler/Desktop/v08_00_00_33/V08_00_00_35/weighted/xsec_detsys_WireModX//root/NuVx_sce_WireModX.root has been created\n",
      "Warning in <TH1F::Sumw2>: Sum of squares of weights structure already created\n",
      "Warning in <TCanvas::Constructor>: Deleting canvas with same name: c1\n",
      "Info in <TCanvas::Print>: png file /home/tmettler/Desktop/v08_00_00_33/V08_00_00_35/weighted/xsec_detsys_WireModX//png/NuVy_sce_WireModX.png has been created\n",
      "Info in <TCanvas::SaveAs>: ROOT file /home/tmettler/Desktop/v08_00_00_33/V08_00_00_35/weighted/xsec_detsys_WireModX//root/NuVy_sce_WireModX.root has been created\n",
      "Warning in <TH1F::Sumw2>: Sum of squares of weights structure already created\n",
      "Warning in <TCanvas::Constructor>: Deleting canvas with same name: c1\n",
      "Info in <TCanvas::Print>: png file /home/tmettler/Desktop/v08_00_00_33/V08_00_00_35/weighted/xsec_detsys_WireModX//png/NuVz_sce_WireModX.png has been created\n",
      "Info in <TCanvas::SaveAs>: ROOT file /home/tmettler/Desktop/v08_00_00_33/V08_00_00_35/weighted/xsec_detsys_WireModX//root/NuVz_sce_WireModX.root has been created\n",
      "Warning in <TH1F::Sumw2>: Sum of squares of weights structure already created\n",
      "Warning in <TCanvas::Constructor>: Deleting canvas with same name: c1\n",
      "Info in <TCanvas::Print>: png file /home/tmettler/Desktop/v08_00_00_33/V08_00_00_35/weighted/xsec_detsys_WireModX//png/costhetaw_WireModX.png has been created\n",
      "Info in <TCanvas::SaveAs>: ROOT file /home/tmettler/Desktop/v08_00_00_33/V08_00_00_35/weighted/xsec_detsys_WireModX//root/costhetaw_WireModX.root has been created\n",
      "Warning in <TH1F::Sumw2>: Sum of squares of weights structure already created\n",
      "Warning in <TCanvas::Constructor>: Deleting canvas with same name: c1\n",
      "Info in <TCanvas::Print>: png file /home/tmettler/Desktop/v08_00_00_33/V08_00_00_35/weighted/xsec_detsys_WireModX//png/phi_WireModX.png has been created\n",
      "Info in <TCanvas::SaveAs>: ROOT file /home/tmettler/Desktop/v08_00_00_33/V08_00_00_35/weighted/xsec_detsys_WireModX//root/phi_WireModX.root has been created\n",
      "Warning in <TH1F::Sumw2>: Sum of squares of weights structure already created\n",
      "Warning in <TCanvas::Constructor>: Deleting canvas with same name: c1\n",
      "Info in <TCanvas::Print>: png file /home/tmettler/Desktop/v08_00_00_33/V08_00_00_35/weighted/xsec_detsys_WireModX//png/TrackMomMCS_mom_WireModX.png has been created\n",
      "Info in <TCanvas::SaveAs>: ROOT file /home/tmettler/Desktop/v08_00_00_33/V08_00_00_35/weighted/xsec_detsys_WireModX//root/TrackMomMCS_mom_WireModX.root has been created\n",
      "Warning in <TH1F::Sumw2>: Sum of squares of weights structure already created\n",
      "Warning in <TCanvas::Constructor>: Deleting canvas with same name: c1\n",
      "Info in <TCanvas::Print>: png file /home/tmettler/Desktop/v08_00_00_33/V08_00_00_35/weighted/xsec_detsys_WireModX//png/NuTracks_WireModX.png has been created\n",
      "Info in <TCanvas::SaveAs>: ROOT file /home/tmettler/Desktop/v08_00_00_33/V08_00_00_35/weighted/xsec_detsys_WireModX//root/NuTracks_WireModX.root has been created\n",
      "Warning in <TH1F::Sumw2>: Sum of squares of weights structure already created\n",
      "Warning in <TCanvas::Constructor>: Deleting canvas with same name: c1\n",
      "Info in <TCanvas::Print>: png file /home/tmettler/Desktop/v08_00_00_33/V08_00_00_35/weighted/xsec_detsys_WireModX//png/NumPfp_WireModX.png has been created\n",
      "Info in <TCanvas::SaveAs>: ROOT file /home/tmettler/Desktop/v08_00_00_33/V08_00_00_35/weighted/xsec_detsys_WireModX//root/NumPfp_WireModX.root has been created\n",
      "Warning in <TH1F::Sumw2>: Sum of squares of weights structure already created\n",
      "Warning in <TCanvas::Constructor>: Deleting canvas with same name: c1\n",
      "Info in <TCanvas::Print>: png file /home/tmettler/Desktop/v08_00_00_33/V08_00_00_35/weighted/xsec_detsys_WireModX//png/TrackLength_WireModX.png has been created\n",
      "Info in <TCanvas::SaveAs>: ROOT file /home/tmettler/Desktop/v08_00_00_33/V08_00_00_35/weighted/xsec_detsys_WireModX//root/TrackLength_WireModX.root has been created\n"
     ]
    },
    {
     "data": {
      "image/png": "[encoded data removed]",
      "text/plain": [
       "<IPython.core.display.Image object>"
      ]
     },
     "metadata": {},
     "output_type": "display_data"
    }
   ],
   "source": [
    "cut = 'fidVol && muon && TrackLength>8 && crt_tom_cut && TrackScore>0.8\\\n",
    "                && TrackLength>20 && TrackPID_chiproton>78 && NuScore>0.1'\n",
    "name = '_WireModX'\n",
    "side_right = 'right'\n",
    "side_left = 'left'\n",
    "start = time.time()\n",
    "NuCC_w.make_stacked_histo_weightV2(cut,'Nu_Vx_sce','EventWeight','Reco. Nu vertex X position [cm]',-10,270,40,'NuVx_sce'+name,side_left)\n",
    "end = time.time()\n",
    "print(end - start)\n",
    "NuCC_w.make_stacked_histo_weightV2(cut,'Nu_Vy_sce','EventWeight','Reco. Nu vertex Y position [cm]',-120,120,40,'NuVy_sce'+name,side_left)\n",
    "end = time.time()\n",
    "print(end - start)\n",
    "NuCC_w.make_stacked_histo_weightV2(cut,'Nu_Vz_sce','EventWeight','Reco. Nu vertex Z position [cm]',-50,1050,40,'NuVz_sce'+name,side_left)\n",
    "end = time.time()\n",
    "print(end - start)\n",
    "NuCC_w.make_stacked_histo_weightV2(cut + ' && TrackTheta!=-9','cos(TrackTheta)','EventWeight','cos(theta)',-1,1,20,'costhetaw'+name,side_left)\n",
    "end = time.time()\n",
    "print(end - start)\n",
    "NuCC_w.make_stacked_histo_weightV2(cut + ' && TrackTheta!=-9','TrackPhi','EventWeight','Track Phi',-3.141,3.141,20,'phi'+name,side_left)\n",
    "end = time.time()\n",
    "print(end - start)\n",
    "NuCC_w.make_stacked_histo_weightV2(cut + ' && 1','TrackMomMCS_mom','EventWeight','TrackMomMCS_mom',0,1.5,20,'TrackMomMCS_mom'+name,side_right)\n",
    "end = time.time()\n",
    "print(end - start)\n",
    "NuCC_w.make_stacked_histo_weightV2(cut + ' && 1','NuTracks','EventWeight','Number of Tracks',0,10,10,'NuTracks'+name,side_right)\n",
    "end = time.time()\n",
    "print(end - start)\n",
    "NuCC_w.make_stacked_histo_weightV2(cut + ' && 1','NumPfp','EventWeight','Number of Pfparticle',0,10,10,'NumPfp'+name,side_right)\n",
    "end = time.time()\n",
    "print(end - start)\n",
    "NuCC_w.make_stacked_histo_weightV2(cut + ' && 1','TrackLength','EventWeight','Track Length',0,700,20,'TrackLength'+name,side_right)\n",
    "end = time.time()"
   ]
  },
  {
   "cell_type": "code",
   "execution_count": null,
   "metadata": {},
   "outputs": [],
   "source": [
    "print eff,N_signal,(N_true+0.000001)\n",
    "print eff_detsys,N_signal_detsys,(N_true_detsys+0.000001)\n",
    "\n",
    "print 'xsec percent diff MC: ', (sigma_tot_MC-sigma_tot_MC_detsys)/sigma_tot_MC\n",
    "print 'xsec percent diff: ', (sigma_tot-sigma_tot_detsys)/sigma_tot\n"
   ]
  },
  {
   "cell_type": "code",
   "execution_count": null,
   "metadata": {},
   "outputs": [],
   "source": []
  },
  {
   "cell_type": "code",
   "execution_count": null,
   "metadata": {},
   "outputs": [],
   "source": []
  },
  {
   "cell_type": "code",
   "execution_count": null,
   "metadata": {},
   "outputs": [],
   "source": [
    "from array import array\n",
    "mom_bins = [ 0.00, 0.18, 0.30, 0.45, 0.77, 1.28, 2.50 ]\n",
    "binnum = len(mom_bins) - 1\n",
    "#h_xsec_mom = ROOT.TH1F('h_xsec_mom','h_xsec_mom',binnum,array('f',mom_bins))"
   ]
  },
  {
   "cell_type": "code",
   "execution_count": null,
   "metadata": {},
   "outputs": [],
   "source": [
    "xstart = 0\n",
    "xend = 2\n",
    "xbin = 100\n",
    "weight_name = 'EventWeight*TunedCentralValue_Genie'\n",
    "title = 'true moum momentum efficiency'\n",
    "nenner_cut = 'numu_true'\n",
    "zahler_cut = 'fidVol && muon && crt_tom_cut && TrackScore>0.8\\\n",
    "                && TrackLength>20 && TrackPID_chiproton>78 && NuScore>0.1 && numu_signal'\n",
    "h_init_eff_energy = ROOT.TH1F(\"h_init_eff_energy\",title,binnum,array('f',mom_bins))\n",
    "h_init_eff_energy_1 = ROOT.TH1F(\"h_init_eff_energy_1\",title,binnum,array('f',mom_bins))\n",
    "#h_init_eff_energy = fill_histo(globale.overlay_out,'MCNu_Energy',h_init_eff_energy,zahler_cut)\n",
    "#h_init_eff_energy_1 = fill_histo(globale.overlay_out,'MCNu_Energy',h_init_eff_energy_1,nenner_cut)\n",
    "detsys_out.Draw('MCle_Energy>>h_init_eff_energy',weight_name+'*('+zahler_cut+')')\n",
    "detsys_out.Draw('MCle_Energy>>h_init_eff_energy_1',weight_name+'*('+nenner_cut+')')\n",
    "eff =  ROOT.TEfficiency(h_init_eff_energy,h_init_eff_energy_1)\n",
    "eff.SetStatisticOption(ROOT.TEfficiency.kFCP)#;  // to set option for errors (see ref doc)\n",
    "eff.SetConfidenceLevel(0.68)\n",
    "eff.SetTitle(title)\n",
    "eff.Draw(\"AP\")\n",
    "ROOT.gPad.Update()\n",
    "graph = eff.GetPaintedGraph()\n",
    "graph.SetMinimum(0)\n",
    "graph.SetMaximum(1)\n",
    "graph.SetLineWidth(2)\n",
    "graph.GetXaxis().SetTitle(\"Truth muon momentum [GeV]\")\n",
    "graph.GetYaxis().SetTitle(\"Signal efficiency\")\n",
    "graph.Draw(\"AP\")\n",
    "c1.Draw()\n",
    "c1.SaveAs(globale.outputdir_png + \"h_eff_trueMom.png\")\n",
    "c1.SaveAs(globale.outputdir_root + \"h_eff_trueMom.root\")\n",
    "\n",
    "eff.Write(\"h_eff_true\")"
   ]
  },
  {
   "cell_type": "code",
   "execution_count": null,
   "metadata": {},
   "outputs": [],
   "source": [
    "h_migration = ROOT.TH2F(\"h_migration\",'Truth vs. Reco',200,0,2.5,200,0,2.5)\n",
    "detsys_out.Draw('MCle_Energy:TrackMomMCS_mom'+'>>h_migration',weight_name+'*('+cut+'&& numu_true)','')\n",
    "h_migration.SetXTitle(\"reco Muon momentum MCS [GeV]\")\n",
    "h_migration.SetYTitle(\"true Muon momentum [GeV]\")\n",
    "h_migration.Draw(\"colz\")\n",
    "#h_migration.Draw(\"same text\")\n",
    "c1.Draw()\n",
    "c1.SaveAs(globale.outputdir_root + \"h2_true_MCS.root\")\n",
    "c1.SaveAs(globale.outputdir_png + \"h2_true_MCS.png\")\n",
    "h_migration.Write(\"h2_true_MCS_fine\")"
   ]
  },
  {
   "cell_type": "code",
   "execution_count": null,
   "metadata": {},
   "outputs": [],
   "source": [
    "h_migration = ROOT.TH2F(\"h_migration\",'Truth vs. Reco',binnum,array('f',mom_bins),binnum,array('f',mom_bins))\n",
    "detsys_out.Draw('MCle_Energy:TrackMomMCS_mom'+'>>h_migration',weight_name+'*('+cut+'&& numu_true)','')\n",
    "h_migration.SetXTitle(\"reco Muon momentum MCS [GeV]\")\n",
    "h_migration.SetYTitle(\"true Muon momentum [GeV]\")\n",
    "h_migration.Draw(\"colz\")\n",
    "h_migration.Draw(\"same text\")\n",
    "c1.Draw()\n",
    "c1.SaveAs(globale.outputdir_root + \"h2_true_MCS_bin.root\")\n",
    "c1.SaveAs(globale.outputdir_png + \"h2_true_MCS_bin.png\")\n",
    "h_migration.Write(\"h2_true_MCS_bin\")"
   ]
  },
  {
   "cell_type": "code",
   "execution_count": null,
   "metadata": {},
   "outputs": [],
   "source": [
    "reco_entries = [0.0, 0.0, 0.0, 0.0, 0.0, 0.0]\n",
    "mitigation_matrix = np.zeros((7,6))\n",
    "for j in range(1,binnum+1):\n",
    "    for i in range(1,binnum+2):\n",
    "        #print 'bin i,j: ', i,j,'Value: ',h_migration.GetBinContent(i,j)\n",
    "        reco_entries[j-1]+=h_migration.GetBinContent(i,j)\n",
    "h_mitigation_matrix = ROOT.TH2F(\"h_migration\",'Migration matrix',7,0,7,6,0,6)\n",
    "for j in range(1,binnum+1):\n",
    "    for i in range(1,binnum+2):\n",
    "        #print 'bin i,j: ', i,j,'Value: ',h_migration.GetBinContent(i,j)\n",
    "        mitigation_matrix[i-1,j-1]= h_migration.GetBinContent(i,j)/reco_entries[j-1]\n",
    "        h_mitigation_matrix.SetBinContent(i,j,mitigation_matrix[i-1,j-1])\n",
    "        #print i-1,j-1,mitigation_matrix[i-1,j-1]\n",
    "        #true_entries[j]+=h_migration.GetBinContent(i,j)\n",
    "print mitigation_matrix\n",
    "np.save(output_filedir+'migration_matrix_momentum',mitigation_matrix)\n",
    "h_mitigation_matrix.SetXTitle(\"Reco bin i, 7=overflow\")\n",
    "h_mitigation_matrix.SetYTitle(\"True bin j\")\n",
    "h_mitigation_matrix.Draw('colz')\n",
    "h_mitigation_matrix.Draw('same text')\n",
    "\n",
    "c1.Draw()\n",
    "c1.SaveAs(globale.outputdir_png + \"h_mitigation_matrix.png\")\n",
    "c1.SaveAs(globale.outputdir_root + \"h_mitigation_matrix.root\")\n",
    "\n",
    "h_mitigation_matrix.Write(\"h_mitigation_matrix\")"
   ]
  },
  {
   "cell_type": "code",
   "execution_count": null,
   "metadata": {},
   "outputs": [],
   "source": [
    "# Nselected and N generated\n",
    "title = 'MCS momentum efficiency'\n",
    "weight_name = 'EventWeight*TunedCentralValue_Genie'\n",
    "nenner_cut = 'numu_true'\n",
    "zahler_cut = 'fidVol && muon && crt_tom_cut && TrackScore>0.8\\\n",
    "                && TrackLength>20 && TrackPID_chiproton>78 && NuScore>0.1 && numu_signal'\n",
    "h_init_eff_energy = ROOT.TH1F(\"h_init_eff_energy\",title,binnum,array('f',mom_bins))\n",
    "h_init_eff_energy_1 = ROOT.TH1F(\"h_init_eff_energy_1\",title,binnum,array('f',mom_bins))\n",
    "detsys_out.Draw('MCle_Energy>>h_init_eff_energy',weight_name+'*('+zahler_cut+')')\n",
    "detsys_out.Draw('MCle_Energy>>h_init_eff_energy_1',weight_name+'*('+nenner_cut+')')\n",
    "\n",
    "h_init_eff_energy.Write(\"h_eff_true_energy_z\")\n",
    "h_init_eff_energy_1.Write(\"h_eff_true_energy_n\")"
   ]
  },
  {
   "cell_type": "code",
   "execution_count": null,
   "metadata": {},
   "outputs": [],
   "source": [
    "# e tilde\n",
    "N_sel = np.zeros((6))\n",
    "N_gen = np.zeros((6))\n",
    "Err_sel = np.zeros((6))\n",
    "Err_gen = np.zeros((6))\n",
    "for i in range(1,binnum+1):\n",
    "    N_sel[i-1] = h_init_eff_energy.GetBinContent(i)\n",
    "    N_gen[i-1] = h_init_eff_energy_1.GetBinContent(i)\n",
    "    Err_sel[i-1] = h_init_eff_energy.GetBinError(i)\n",
    "    Err_gen[i-1] = h_init_eff_energy_1.GetBinError(i)\n",
    "    print N_sel[i-1],N_gen[i-1],N_sel[i-1]/N_gen[i-1]\n",
    "eff_tilde = np.zeros((6))\n",
    "eff_tilde = mitigation_matrix.dot(N_sel)/(mitigation_matrix.dot(N_gen))\n",
    "err_tilde = np.zeros((6))\n",
    "err_tilde = mitigation_matrix.dot(Err_sel)/(mitigation_matrix.dot(Err_gen))\n",
    "print eff_tilde\n",
    "print err_tilde\n",
    "np.save(output_filedir+'eff_tilde_momentum_xsec_CV',eff_tilde)\n"
   ]
  },
  {
   "cell_type": "code",
   "execution_count": null,
   "metadata": {},
   "outputs": [],
   "source": [
    "for i in range(1,binnum+1):\n",
    "    Err_sel[i-1] =  (eff.GetEfficiencyErrorLow(i) +  eff.GetEfficiencyErrorUp(i))/2.0\n",
    "    print Err_sel[i-1]\n",
    "    \n",
    "err_tilde = mitigation_matrix.dot(Err_sel)\n",
    "print err_tilde"
   ]
  },
  {
   "cell_type": "code",
   "execution_count": null,
   "metadata": {},
   "outputs": [],
   "source": [
    "h_eff_tilde = ROOT.TH1F(\"h_eff_tilde\",'Efficiency tilde',binnum,array('f',mom_bins))\n",
    "for i in range(1,binnum+1):\n",
    "    h_eff_tilde.SetBinContent(i,eff_tilde[i-1])\n",
    "    h_eff_tilde.SetBinError(i,err_tilde[i-1])\n",
    "h_eff_tilde.SetMaximum(1)\n",
    "h_eff_tilde.SetMinimum(0)\n",
    "h_eff_tilde.SetLineWidth(3)\n",
    "h_eff_tilde.Draw('E1')\n",
    "c1.Draw()\n",
    "c1.SaveAs(globale.outputdir_png + \"h_eff_tilde_xsecMom.png\")\n",
    "c1.SaveAs(globale.outputdir_root + \"h_eff_tilde_xsecMom.root\")\n",
    "\n",
    "h_eff_tilde.Write(\"h_eff_tilde\")"
   ]
  },
  {
   "cell_type": "code",
   "execution_count": null,
   "metadata": {},
   "outputs": [],
   "source": [
    "weight_name = 'EventWeight*TunedCentralValue_Genie'\n",
    "variable = 'TrackMomMCS_mom'\n",
    "cut = 'fidVol && muon && TrackLength>8 && crt_tom_cut && TrackScore>0.8\\\n",
    "                && TrackLength>20 && TrackPID_chiproton>78 && NuScore>0.1'\n",
    "\n",
    "h_data = ROOT.TH1F(\"h_data\",'h_data',binnum,array('f',mom_bins))\n",
    "h_ext = ROOT.TH1F(\"h_ext\",'h_ext',binnum,array('f',mom_bins))\n",
    "h_dirt = ROOT.TH1F(\"h_dirt\",'h_dirt',binnum,array('f',mom_bins))\n",
    "h_overlay = ROOT.TH1F(\"h_overlay\",'h_overlay',binnum,array('f',mom_bins))\n",
    "#h_weight_func_n = ROOT.TH1F(\"h_weight_func_n\",'h_weight_func',binnum,array('f',mom_bins))\n",
    "\n",
    "globale.data_out.Draw(variable+'>>h_data',cut,'')\n",
    "globale.ext_out.Draw(variable+'>>h_ext',cut,'')\n",
    "globale.dirt_out.Draw(variable+'>>h_dirt',weight_name+'*('+cut+')','')\n",
    "detsys_out.Draw(variable+'>>h_overlay',weight_name+'*('+cut+'&& !numu_signal)','')\n"
   ]
  },
  {
   "cell_type": "code",
   "execution_count": null,
   "metadata": {},
   "outputs": [],
   "source": [
    "h_data.Sumw2()\n",
    "h_ext.Sumw2()\n",
    "h_dirt.Sumw2()\n",
    "h_overlay.Sumw2()\n",
    "h_data.Scale(globale.scale[globale.data])\n",
    "h_ext.Scale(globale.scale[globale.ext])\n",
    "h_dirt.Scale(globale.scale[globale.dirt])\n",
    "h_overlay.Scale(scale_out[detsys_out])\n",
    "\n",
    "h_data.Write(\"h_data\")\n",
    "h_ext.Write(\"h_ext\")\n",
    "h_dirt.Write(\"h_dirt\")\n",
    "h_overlay.Write(\"h_overlay\")"
   ]
  },
  {
   "cell_type": "code",
   "execution_count": null,
   "metadata": {},
   "outputs": [],
   "source": [
    "print h_overlay.GetSumOfWeights()\n",
    "h_data.Add(h_ext,-1)\n",
    "h_data.Add(h_dirt,-1)\n",
    "h_data.Add(h_overlay,-1)\n",
    "print h_data.GetSumOfWeights()"
   ]
  },
  {
   "cell_type": "code",
   "execution_count": null,
   "metadata": {},
   "outputs": [],
   "source": [
    "h_data.Divide(h_eff_tilde)\n",
    "h_data.Scale(1.0/(N_tot*beam_flux))"
   ]
  },
  {
   "cell_type": "code",
   "execution_count": null,
   "metadata": {},
   "outputs": [],
   "source": [
    "h_overlay_sig = ROOT.TH1F(\"h_overlay_sig\",'h_overlay',binnum,array('f',mom_bins))\n",
    "detsys_out.Draw(variable+'>>h_overlay_sig',weight_name+'*('+cut+'&& numu_signal)','')\n",
    "h_overlay_sig.Scale(globale.scale[globale.overlay])\n",
    "h_overlay_sig.Divide(h_eff_tilde)\n",
    "h_overlay_sig.Scale(1.0/(N_tot*beam_flux))"
   ]
  },
  {
   "cell_type": "code",
   "execution_count": null,
   "metadata": {},
   "outputs": [],
   "source": [
    "for i in range(1,binnum+1):\n",
    "    h_data.SetBinContent(i,h_data.GetBinContent(i)/h_data.GetBinWidth(i))\n",
    "    h_overlay_sig.SetBinContent(i,h_overlay_sig.GetBinContent(i)/h_overlay_sig.GetBinWidth(i))"
   ]
  },
  {
   "cell_type": "code",
   "execution_count": null,
   "metadata": {},
   "outputs": [],
   "source": [
    "legend = ROOT.TLegend(0.6,0.65,0.9,0.9)\n",
    "h_overlay_sig.SetLineColor(2)\n",
    "legend.AddEntry(h_data,'data',\"lep\");\n",
    "legend.AddEntry(h_overlay_sig,'MC',\"f\");\n",
    "h_data.SetYTitle(\"d\\sigma / dp \\quad [cm^2/GeV]\")\n",
    "h_data.SetXTitle(\"p_{\\mu} \\quad [GeV]\")\n",
    "h_data.SetLineWidth(3)\n",
    "h_data.Draw('E1')\n",
    "h_overlay_sig.SetFillColor(0)\n",
    "h_overlay_sig.SetLineWidth(3)\n",
    "h_overlay_sig.Draw('hist same')\n",
    "legend.Draw()\n",
    "c1.Draw()\n",
    "c1.SaveAs(globale.outputdir_png + \"h_xsec_corr.png\")\n",
    "c1.SaveAs(globale.outputdir_root + \"h_xsec_corr.root\")\n",
    "\n",
    "h_data.Write(\"h_xsec_data\")\n",
    "h_overlay_sig.Write(\"h_xsec_MC\")"
   ]
  },
  {
   "cell_type": "code",
   "execution_count": null,
   "metadata": {},
   "outputs": [],
   "source": []
  }
 ],
 "metadata": {
  "kernelspec": {
   "display_name": "Python 3",
   "language": "python",
   "name": "python3"
  },
  "language_info": {
   "codemirror_mode": {
    "name": "ipython",
    "version": 2
   },
   "file_extension": ".py",
   "mimetype": "text/x-python",
   "name": "python",
   "nbconvert_exporter": "python",
   "pygments_lexer": "ipython2",
   "version": "2.7.12"
  }
 },
 "nbformat": 4,
 "nbformat_minor": 2
}
