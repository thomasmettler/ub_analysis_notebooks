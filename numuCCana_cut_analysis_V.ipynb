{
 "cells": [
  {
   "cell_type": "code",
   "execution_count": 1,
   "metadata": {},
   "outputs": [
    {
     "name": "stdout",
     "output_type": "stream",
     "text": [
      "Welcome to JupyROOT 6.10/08\n"
     ]
    }
   ],
   "source": [
    "import uproot\n",
    "import matplotlib.pyplot as plt\n",
    "import matplotlib.image as mpimg\n",
    "import numpy as np\n",
    "import pandas as pd\n",
    "import os\n",
    "import ROOT\n",
    "import time\n",
    "import math\n",
    "import helpfunction as helper\n",
    "from __future__ import division\n",
    "\n",
    "import collections\n",
    "import NuCC_function as NuCC"
   ]
  },
  {
   "cell_type": "code",
   "execution_count": 2,
   "metadata": {},
   "outputs": [
    {
     "name": "stderr",
     "output_type": "stream",
     "text": [
      "Warning in <TCanvas::Constructor>: Deleting canvas with same name: c1\n"
     ]
    }
   ],
   "source": [
    "# initialte ROOT default canvas\n",
    "ROOT.gStyle.SetOptStat(0)\n",
    "c1 = ROOT.TCanvas(\"c1\",\"c1\",1600,1200)\n",
    "c1.SetGrid(1)\n",
    "c1.SetLeftMargin(0.14)\n",
    "c1.SetRightMargin(0.18)\n",
    "c1.SetBottomMargin(0.14)"
   ]
  },
  {
   "cell_type": "markdown",
   "metadata": {},
   "source": [
    "# CRTinBNB tagger, Overlay or MC"
   ]
  },
  {
   "cell_type": "code",
   "execution_count": 3,
   "metadata": {},
   "outputs": [],
   "source": [
    "# Load input files\n",
    "\n",
    "inputdir = '/home/tmettler/Desktop/ub_data/mcc9.1/v08_00_00_17/'\n",
    "outputdir = inputdir+'NumuCC_cut_analysis_V/' \n",
    "outputdir_png, outputdir_root = NuCC.prepareOutput(outputdir)\n",
    "\n",
    "filename_overlay = 'NuCCana_overlay_V.root'\n",
    "filename_data = 'NuCCana_data_V.root'\n",
    "filename_ext = 'NuCCana_ext_V.root'\n",
    "filename_dirt = 'NuCCana_dirt_V.root'\n",
    "    \n",
    "tree_name = 'numuCCAna'"
   ]
  },
  {
   "cell_type": "code",
   "execution_count": 4,
   "metadata": {},
   "outputs": [
    {
     "name": "stdout",
     "output_type": "stream",
     "text": [
      "Overlay: Number of Entries:\t966222\n",
      "Data: Number of Entries:\t34835\n",
      "Ext: Number of Entries:\t\t263935\n",
      "Dirt: Number of Entries:\t96465\n",
      "\n",
      "POT: \n",
      "Data:\t\t8.039e+18\n",
      "Ext:\t\t0\n",
      "Overlay:\t1.21058333557e+21\n",
      "Dirt:\t\t2.9866803255e+20\n",
      "\n",
      "Scalefactors: \n",
      "Data:\t\t1.0\n",
      "Ext:\t\t0.0858482195172\n",
      "Overlay:\t0.0066406002493\n",
      "Dirt:\t\t0.0269161715479\n"
     ]
    },
    {
     "name": "stderr",
     "output_type": "stream",
     "text": [
      "Warning in <TClass::Init>: no dictionary for class ROOT::TIOFeatures is available\n"
     ]
    }
   ],
   "source": [
    "#Open all the trees of the four files (data, ext, dirt, overlay)\n",
    "\n",
    "data, ext, dirt, overlay = NuCC.openTrees(inputdir, filename_data, filename_ext, filename_dirt, filename_overlay, tree_name)\n",
    "NuCC.printNumberOfEntries(data,ext,dirt,overlay)\n",
    "\n",
    "pot_overlay = NuCC.getPOT(inputdir,filename_overlay,tree_name)\n",
    "pot_dirt =  NuCC.getPOT(inputdir,filename_dirt,tree_name)\n",
    "\n",
    "pot_data =      8.039e+18 # tor860_wcut\n",
    "data_trigger = 1942081.0 #4743794 # 1987072.0 # E1DCNT_wcut\n",
    "ext_trigger =  22622263.0  #2120135 #5685315 # EXT\n",
    "'''\n",
    "pot_data =     1.25795274297e+18# tor860_wcut\n",
    "data_trigger = 1359818.0*0.4 # E1DCNT\n",
    "ext_trigger =  1359818.0  #2120135 #5685315 # EXT\n",
    "pot_overlay = 1.25795274297e+18/0.5\n",
    "pot_dirt = 1.25795274297e18/0.04\n",
    "'''\n",
    "print 'POT: '\n",
    "print 'Data:\\t\\t', pot_data\n",
    "print 'Ext:\\t\\t', 0\n",
    "print 'Overlay:\\t', pot_overlay\n",
    "print 'Dirt:\\t\\t', pot_dirt\n",
    "print ''\n",
    "sample = [data,ext,overlay,dirt]\n",
    "scale = {data:1.0,ext:1.0,overlay:1.0,dirt:1.0}\n",
    "name = {data:'data',ext:'ext',overlay:'overlay',dirt:'dirt'}\n",
    "\n",
    "scale[data], scale[ext], scale[dirt], scale[overlay] = NuCC.calculateScale(data_trigger, ext_trigger, pot_data, pot_dirt, pot_overlay)\n",
    "\n",
    "print 'Scalefactors: '\n",
    "print 'Data:\\t\\t', scale[data]\n",
    "print 'Ext:\\t\\t', scale[ext]\n",
    "print 'Overlay:\\t', scale[overlay]\n",
    "print 'Dirt:\\t\\t', scale[dirt]\n"
   ]
  },
  {
   "cell_type": "code",
   "execution_count": 5,
   "metadata": {},
   "outputs": [],
   "source": [
    "# Define signals\n",
    "\n",
    "fidVol = '(Nu_Vx>(-1.55+10) && Nu_Vx<(254.8-10)) && (Nu_Vy>(-115.53+10) && Nu_Vy<(117.47-10)) &&(Nu_Vz>(-0.1+10) && Nu_Vz<(1036.9-50))'\n",
    "MCfidVol = '(MCNu_Vx>(-1.55+10) && MCNu_Vx<(254.8-10)) && (MCNu_Vy>(-115.53+10) && MCNu_Vy<(117.47-10)) &&(MCNu_Vz>(-0.1+10) && MCNu_Vz<(1036.9-50))'\n",
    "numu_signal = 'fidVol && MCfidVol && MCNu_CCNC==0 && MCNu_PDG==14 && MCle_PDG==13 && MCle_purity>0.5' # numu CC signal definition\n",
    "numu_nomu = 'fidVol && MCfidVol && MCNu_CCNC==0 && MCNu_PDG==14 && MCle_PDG!=13 && MCle_purity>0.5' # not an MC muon\n",
    "numu_lowpur = 'fidVol && MCfidVol && MCNu_CCNC==0 && MCNu_PDG==14 && MCle_purity<0.5' #low purity\n",
    "numu_nc = 'fidVol && MCfidVol && MCNu_CCNC==1' # nutral current\n",
    "numu_ov = 'fidVol && !MCfidVol' # out of fiducial\n",
    "numu_other = 'fidVol && MCfidVol && MCNu_CCNC==0 && MCNu_PDG!=14' # e.g anti nu or nue\n",
    "#signal = 'MCfidVol && MCNu_CCNC==0 && MCNu_PDG==14'\n",
    "for x in sample:\n",
    "    x.SetAlias('muon','(muon_candidate_key==track_key)')\n",
    "    \n",
    "num_fidVol = {}\n",
    "for x in sample:\n",
    "    x.SetAlias('fidVol',fidVol)\n",
    "    x.SetAlias('MCfidVol',MCfidVol)\n",
    "    x.SetAlias('numu_signal',numu_signal)\n",
    "    x.SetAlias('numu_nomu',numu_nomu)\n",
    "    x.SetAlias('numu_lowpur',numu_lowpur)\n",
    "    x.SetAlias('numu_nc',numu_nc)\n",
    "    x.SetAlias('numu_ov',numu_ov)\n",
    "    x.SetAlias('numu_other',numu_other)\n",
    "    num_fidVol[x] = x.GetEntries('fidVol && muon')*scale[x]\n",
    "    \n",
    "tot_num_fidVol = num_fidVol[ext]+num_fidVol[dirt]+num_fidVol[overlay]\n",
    "overlay_signals = {'numu_signal','numu_nomu','numu_lowpur','numu_nc','numu_ov','numu_other'}"
   ]
  },
  {
   "cell_type": "code",
   "execution_count": 6,
   "metadata": {},
   "outputs": [
    {
     "name": "stderr",
     "output_type": "stream",
     "text": [
      "Warning in <TCanvas::Constructor>: Deleting canvas with same name: c1\n"
     ]
    }
   ],
   "source": [
    "# Load the global variables for access of functions\n",
    "\n",
    "NuCC.loadGlobal(data,ext,dirt,overlay,scale,tot_num_fidVol,overlay_signals,sample, name, outputdir_png, outputdir_root)\n",
    "#NuCC.printGlobal()"
   ]
  },
  {
   "cell_type": "code",
   "execution_count": 7,
   "metadata": {},
   "outputs": [
    {
     "name": "stdout",
     "output_type": "stream",
     "text": [
      "Rejection on each sample:\n",
      "Keep of    data:\t100.00%\t reject:\t0.00%\n",
      "Keep of     ext:\t100.00%\t reject:\t0.00%\n",
      "Keep of overlay:\t100.00%\t reject:\t0.00%\n",
      "Keep of    dirt:\t100.00%\t reject:\t0.00%\n",
      "\n",
      "Efficiency:\t100.00%\n",
      "Purity:\t\t30.02%\n",
      "\n",
      "Amount of    data:\t126.07%\n",
      "Amount of     ext:\t43.29%\n",
      "Amount of overlay:\t52.13%\n",
      "Amount of    dirt:\t4.58%\n",
      "\n",
      "Signal definition=  numu_lowpur: 1.89%\t(3.63%)\n",
      "Signal definition=   numu_other: 0.43%\t(0.83%)\n",
      "Signal definition=    numu_nomu: 3.91%\t(7.50%)\n",
      "Signal definition=      numu_ov: 9.72%\t(18.64%)\n",
      "Signal definition=  numu_signal: 30.02%\t(57.58%)\n",
      "Signal definition=      numu_nc: 6.15%\t(11.80%)\n"
     ]
    }
   ],
   "source": [
    "# Print initial efficiency and purity\n",
    "\n",
    "NuCC.printEff('muon')"
   ]
  },
  {
   "cell_type": "code",
   "execution_count": 8,
   "metadata": {},
   "outputs": [
    {
     "data": {
      "text/plain": [
       "True"
      ]
     },
     "execution_count": 8,
     "metadata": {},
     "output_type": "execute_result"
    }
   ],
   "source": [
    "track_start_border_x = '(TrackStart_x <(-1.55+1) || TrackStart_x > (254.8-1))'\n",
    "track_end_border_x = '(TrackEnd_x <(-1.55+1) || TrackEnd_x > (254.8-1))'\n",
    "track_start_border_y = '(TrackStart_y <(-115.53+1) || TrackStart_y > (117.47-1))'\n",
    "track_end_border_y = '(TrackEnd_y <(-115.53+1) || TrackEnd_y > (117.47-1))'\n",
    "track_start_border_z = '(TrackStart_z <(0.1+1) || TrackStart_z > (1036.9-1))'\n",
    "track_end_border_z = '(TrackEnd_z <(0.1+1) || TrackEnd_z > (1039.9-1))'\n",
    "\n",
    "track_end_uncontained = '(' + track_end_border_x + ' || ' + track_end_border_y + ' || ' + track_end_border_z+ ')'\n",
    "\n",
    "\n",
    "data.SetAlias(\"track_end_uncontained\",track_end_uncontained)\n",
    "ext.SetAlias(\"track_end_uncontained\",track_end_uncontained)\n",
    "overlay.SetAlias(\"track_end_uncontained\",track_end_uncontained)\n",
    "dirt.SetAlias(\"track_end_uncontained\",track_end_uncontained)\n",
    "\n"
   ]
  },
  {
   "cell_type": "code",
   "execution_count": 9,
   "metadata": {},
   "outputs": [
    {
     "name": "stdout",
     "output_type": "stream",
     "text": [
      "13210\n",
      "5682\n",
      "4875\n",
      "1069\n"
     ]
    },
    {
     "data": {
      "image/png": "[encoded data removed]",
      "text/plain": [
       "<IPython.core.display.Image object>"
      ]
     },
     "metadata": {},
     "output_type": "display_data"
    }
   ],
   "source": [
    "title = 'test'\n",
    "xbins = 100\n",
    "xstart = -2300\n",
    "xend = 2300\n",
    "c1 = ROOT.TCanvas(\"c1\",\"c1\",1600,1200)\n",
    "c1.SetGrid(1)\n",
    "c1.SetLeftMargin(0.14)\n",
    "c1.SetRightMargin(0.18)\n",
    "c1.SetBottomMargin(0.14)\n",
    "\n",
    "h_1 = ROOT.TH1F(\"h_1\",title,xbins,xstart,xend)\n",
    "h_2 = ROOT.TH1F(\"h_2\",title,xbins,xstart,xend)\n",
    "\n",
    "##overlay.Draw('crtt0_time>>h_1','crtt0_plane!=-1 && muon && numu_signal && track_end_uncontained','')\n",
    "#overlay.Draw('crtt0_time>>h_2','crtt0_plane!=-1 && muon && numu_signal && a_adc_length<32 && track_end_uncontained','')\n",
    "\n",
    "\n",
    "#h_1.Draw()\n",
    "#h_2.Draw('same')\n",
    "print overlay.GetEntries('crtt0_plane!=-1 && muon && numu_signal')\n",
    "print overlay.GetEntries('crtt0_plane!=-1 && muon && numu_signal && a_adc_length==32')\n",
    "\n",
    "print overlay.GetEntries('crtt0_plane!=-1 && muon && numu_signal && track_end_uncontained')\n",
    "print overlay.GetEntries('crtt0_plane!=-1 && muon && numu_signal && a_adc_length==32 && track_end_uncontained')\n",
    "c1.Draw()"
   ]
  },
  {
   "cell_type": "code",
   "execution_count": 10,
   "metadata": {},
   "outputs": [
    {
     "name": "stderr",
     "output_type": "stream",
     "text": [
      "Warning in <TCanvas::Constructor>: Deleting canvas with same name: c1\n",
      "Info in <TCanvas::Print>: png file /home/tmettler/Desktop/ub_data/mcc9.1/v08_00_00_17/NumuCC_cut_analysis_V//png/FlashTime_corr.png has been created\n",
      "Info in <TCanvas::SaveAs>: ROOT file /home/tmettler/Desktop/ub_data/mcc9.1/v08_00_00_17/NumuCC_cut_analysis_V//root/FlashTime_corr.root has been created\n",
      "Warning in <TROOT::Append>: Replacing existing TH1: h_ext_func (Potential memory leak).\n",
      "Warning in <TROOT::Append>: Replacing existing TH1: h_dirt_func (Potential memory leak).\n",
      "Warning in <TROOT::Append>: Replacing existing TH1: numu_lowpur (Potential memory leak).\n",
      "Warning in <TROOT::Append>: Replacing existing TH1: numu_other (Potential memory leak).\n",
      "Warning in <TROOT::Append>: Replacing existing TH1: numu_nomu (Potential memory leak).\n",
      "Warning in <TROOT::Append>: Replacing existing TH1: numu_ov (Potential memory leak).\n",
      "Warning in <TROOT::Append>: Replacing existing TH1: numu_signal (Potential memory leak).\n",
      "Warning in <TROOT::Append>: Replacing existing TH1: numu_nc (Potential memory leak).\n",
      "Warning in <TCanvas::Constructor>: Deleting canvas with same name: c1\n",
      "Info in <TCanvas::Print>: png file /home/tmettler/Desktop/ub_data/mcc9.1/v08_00_00_17/NumuCC_cut_analysis_V//png/CRTTime_corr.png has been created\n",
      "Info in <TCanvas::SaveAs>: ROOT file /home/tmettler/Desktop/ub_data/mcc9.1/v08_00_00_17/NumuCC_cut_analysis_V//root/CRTTime_corr.root has been created\n",
      "Warning in <TROOT::Append>: Replacing existing TH1: h_ext_func (Potential memory leak).\n",
      "Warning in <TROOT::Append>: Replacing existing TH1: h_dirt_func (Potential memory leak).\n",
      "Warning in <TROOT::Append>: Replacing existing TH1: numu_lowpur (Potential memory leak).\n",
      "Warning in <TROOT::Append>: Replacing existing TH1: numu_other (Potential memory leak).\n",
      "Warning in <TROOT::Append>: Replacing existing TH1: numu_nomu (Potential memory leak).\n",
      "Warning in <TROOT::Append>: Replacing existing TH1: numu_ov (Potential memory leak).\n",
      "Warning in <TROOT::Append>: Replacing existing TH1: numu_signal (Potential memory leak).\n",
      "Warning in <TROOT::Append>: Replacing existing TH1: numu_nc (Potential memory leak).\n",
      "Warning in <TCanvas::Constructor>: Deleting canvas with same name: c1\n",
      "Info in <TCanvas::Print>: png file /home/tmettler/Desktop/ub_data/mcc9.1/v08_00_00_17/NumuCC_cut_analysis_V//png/MCSMom.png has been created\n",
      "Info in <TCanvas::SaveAs>: ROOT file /home/tmettler/Desktop/ub_data/mcc9.1/v08_00_00_17/NumuCC_cut_analysis_V//root/MCSMom.root has been created\n",
      "Warning in <TROOT::Append>: Replacing existing TH1: h_ext_func (Potential memory leak).\n",
      "Warning in <TROOT::Append>: Replacing existing TH1: h_dirt_func (Potential memory leak).\n",
      "Warning in <TROOT::Append>: Replacing existing TH1: numu_lowpur (Potential memory leak).\n",
      "Warning in <TROOT::Append>: Replacing existing TH1: numu_other (Potential memory leak).\n",
      "Warning in <TROOT::Append>: Replacing existing TH1: numu_nomu (Potential memory leak).\n",
      "Warning in <TROOT::Append>: Replacing existing TH1: numu_ov (Potential memory leak).\n",
      "Warning in <TROOT::Append>: Replacing existing TH1: numu_signal (Potential memory leak).\n",
      "Warning in <TROOT::Append>: Replacing existing TH1: numu_nc (Potential memory leak).\n",
      "Warning in <TCanvas::Constructor>: Deleting canvas with same name: c1\n",
      "Info in <TCanvas::Print>: png file /home/tmettler/Desktop/ub_data/mcc9.1/v08_00_00_17/NumuCC_cut_analysis_V//png/tracklength.png has been created\n",
      "Info in <TCanvas::SaveAs>: ROOT file /home/tmettler/Desktop/ub_data/mcc9.1/v08_00_00_17/NumuCC_cut_analysis_V//root/tracklength.root has been created\n",
      "Warning in <TROOT::Append>: Replacing existing TH1: h_ext_func (Potential memory leak).\n",
      "Warning in <TROOT::Append>: Replacing existing TH1: h_dirt_func (Potential memory leak).\n",
      "Warning in <TROOT::Append>: Replacing existing TH1: numu_lowpur (Potential memory leak).\n",
      "Warning in <TROOT::Append>: Replacing existing TH1: numu_other (Potential memory leak).\n",
      "Warning in <TROOT::Append>: Replacing existing TH1: numu_nomu (Potential memory leak).\n",
      "Warning in <TROOT::Append>: Replacing existing TH1: numu_ov (Potential memory leak).\n",
      "Warning in <TROOT::Append>: Replacing existing TH1: numu_signal (Potential memory leak).\n",
      "Warning in <TROOT::Append>: Replacing existing TH1: numu_nc (Potential memory leak).\n",
      "Warning in <TCanvas::Constructor>: Deleting canvas with same name: c1\n",
      "Info in <TCanvas::Print>: png file /home/tmettler/Desktop/ub_data/mcc9.1/v08_00_00_17/NumuCC_cut_analysis_V//png/costheta.png has been created\n",
      "Info in <TCanvas::SaveAs>: ROOT file /home/tmettler/Desktop/ub_data/mcc9.1/v08_00_00_17/NumuCC_cut_analysis_V//root/costheta.root has been created\n",
      "Warning in <TROOT::Append>: Replacing existing TH1: h_ext_func (Potential memory leak).\n",
      "Warning in <TROOT::Append>: Replacing existing TH1: h_dirt_func (Potential memory leak).\n",
      "Warning in <TROOT::Append>: Replacing existing TH1: numu_lowpur (Potential memory leak).\n",
      "Warning in <TROOT::Append>: Replacing existing TH1: numu_other (Potential memory leak).\n",
      "Warning in <TROOT::Append>: Replacing existing TH1: numu_nomu (Potential memory leak).\n",
      "Warning in <TROOT::Append>: Replacing existing TH1: numu_ov (Potential memory leak).\n",
      "Warning in <TROOT::Append>: Replacing existing TH1: numu_signal (Potential memory leak).\n",
      "Warning in <TROOT::Append>: Replacing existing TH1: numu_nc (Potential memory leak).\n",
      "Warning in <TCanvas::Constructor>: Deleting canvas with same name: c1\n",
      "Info in <TCanvas::Print>: png file /home/tmettler/Desktop/ub_data/mcc9.1/v08_00_00_17/NumuCC_cut_analysis_V//png/trackphi.png has been created\n",
      "Info in <TCanvas::SaveAs>: ROOT file /home/tmettler/Desktop/ub_data/mcc9.1/v08_00_00_17/NumuCC_cut_analysis_V//root/trackphi.root has been created\n",
      "Warning in <TROOT::Append>: Replacing existing TH1: h_ext_func (Potential memory leak).\n",
      "Warning in <TROOT::Append>: Replacing existing TH1: h_dirt_func (Potential memory leak).\n",
      "Warning in <TROOT::Append>: Replacing existing TH1: numu_lowpur (Potential memory leak).\n",
      "Warning in <TROOT::Append>: Replacing existing TH1: numu_other (Potential memory leak).\n",
      "Warning in <TROOT::Append>: Replacing existing TH1: numu_nomu (Potential memory leak).\n",
      "Warning in <TROOT::Append>: Replacing existing TH1: numu_ov (Potential memory leak).\n",
      "Warning in <TROOT::Append>: Replacing existing TH1: numu_signal (Potential memory leak).\n",
      "Warning in <TROOT::Append>: Replacing existing TH1: numu_nc (Potential memory leak).\n",
      "Warning in <TCanvas::Constructor>: Deleting canvas with same name: c1\n",
      "Info in <TCanvas::Print>: png file /home/tmettler/Desktop/ub_data/mcc9.1/v08_00_00_17/NumuCC_cut_analysis_V//png/NuScore.png has been created\n",
      "Info in <TCanvas::SaveAs>: ROOT file /home/tmettler/Desktop/ub_data/mcc9.1/v08_00_00_17/NumuCC_cut_analysis_V//root/NuScore.root has been created\n",
      "Warning in <TROOT::Append>: Replacing existing TH1: h_ext_func (Potential memory leak).\n",
      "Warning in <TROOT::Append>: Replacing existing TH1: h_dirt_func (Potential memory leak).\n",
      "Warning in <TROOT::Append>: Replacing existing TH1: numu_lowpur (Potential memory leak).\n",
      "Warning in <TROOT::Append>: Replacing existing TH1: numu_other (Potential memory leak).\n",
      "Warning in <TROOT::Append>: Replacing existing TH1: numu_nomu (Potential memory leak).\n",
      "Warning in <TROOT::Append>: Replacing existing TH1: numu_ov (Potential memory leak).\n",
      "Warning in <TROOT::Append>: Replacing existing TH1: numu_signal (Potential memory leak).\n",
      "Warning in <TROOT::Append>: Replacing existing TH1: numu_nc (Potential memory leak).\n",
      "Warning in <TCanvas::Constructor>: Deleting canvas with same name: c1\n",
      "Info in <TCanvas::Print>: png file /home/tmettler/Desktop/ub_data/mcc9.1/v08_00_00_17/NumuCC_cut_analysis_V//png/num_tracks.png has been created\n",
      "Info in <TCanvas::SaveAs>: ROOT file /home/tmettler/Desktop/ub_data/mcc9.1/v08_00_00_17/NumuCC_cut_analysis_V//root/num_tracks.root has been created\n",
      "Warning in <TROOT::Append>: Replacing existing TH1: h_ext_func (Potential memory leak).\n",
      "Warning in <TROOT::Append>: Replacing existing TH1: h_dirt_func (Potential memory leak).\n",
      "Warning in <TROOT::Append>: Replacing existing TH1: numu_lowpur (Potential memory leak).\n",
      "Warning in <TROOT::Append>: Replacing existing TH1: numu_other (Potential memory leak).\n",
      "Warning in <TROOT::Append>: Replacing existing TH1: numu_nomu (Potential memory leak).\n",
      "Warning in <TROOT::Append>: Replacing existing TH1: numu_ov (Potential memory leak).\n",
      "Warning in <TROOT::Append>: Replacing existing TH1: numu_signal (Potential memory leak).\n",
      "Warning in <TROOT::Append>: Replacing existing TH1: numu_nc (Potential memory leak).\n",
      "Warning in <TCanvas::Constructor>: Deleting canvas with same name: c1\n",
      "Info in <TCanvas::Print>: png file /home/tmettler/Desktop/ub_data/mcc9.1/v08_00_00_17/NumuCC_cut_analysis_V//png/NuVx.png has been created\n",
      "Info in <TCanvas::SaveAs>: ROOT file /home/tmettler/Desktop/ub_data/mcc9.1/v08_00_00_17/NumuCC_cut_analysis_V//root/NuVx.root has been created\n",
      "Warning in <TROOT::Append>: Replacing existing TH1: h_ext_func (Potential memory leak).\n",
      "Warning in <TROOT::Append>: Replacing existing TH1: h_dirt_func (Potential memory leak).\n",
      "Warning in <TROOT::Append>: Replacing existing TH1: numu_lowpur (Potential memory leak).\n",
      "Warning in <TROOT::Append>: Replacing existing TH1: numu_other (Potential memory leak).\n",
      "Warning in <TROOT::Append>: Replacing existing TH1: numu_nomu (Potential memory leak).\n",
      "Warning in <TROOT::Append>: Replacing existing TH1: numu_ov (Potential memory leak).\n",
      "Warning in <TROOT::Append>: Replacing existing TH1: numu_signal (Potential memory leak).\n",
      "Warning in <TROOT::Append>: Replacing existing TH1: numu_nc (Potential memory leak).\n",
      "Warning in <TCanvas::Constructor>: Deleting canvas with same name: c1\n",
      "Info in <TCanvas::Print>: png file /home/tmettler/Desktop/ub_data/mcc9.1/v08_00_00_17/NumuCC_cut_analysis_V//png/NuVy.png has been created\n",
      "Info in <TCanvas::SaveAs>: ROOT file /home/tmettler/Desktop/ub_data/mcc9.1/v08_00_00_17/NumuCC_cut_analysis_V//root/NuVy.root has been created\n",
      "Warning in <TROOT::Append>: Replacing existing TH1: h_ext_func (Potential memory leak).\n",
      "Warning in <TROOT::Append>: Replacing existing TH1: h_dirt_func (Potential memory leak).\n",
      "Warning in <TROOT::Append>: Replacing existing TH1: numu_lowpur (Potential memory leak).\n",
      "Warning in <TROOT::Append>: Replacing existing TH1: numu_other (Potential memory leak).\n",
      "Warning in <TROOT::Append>: Replacing existing TH1: numu_nomu (Potential memory leak).\n",
      "Warning in <TROOT::Append>: Replacing existing TH1: numu_ov (Potential memory leak).\n",
      "Warning in <TROOT::Append>: Replacing existing TH1: numu_signal (Potential memory leak).\n",
      "Warning in <TROOT::Append>: Replacing existing TH1: numu_nc (Potential memory leak).\n",
      "Warning in <TCanvas::Constructor>: Deleting canvas with same name: c1\n",
      "Info in <TCanvas::Print>: png file /home/tmettler/Desktop/ub_data/mcc9.1/v08_00_00_17/NumuCC_cut_analysis_V//png/NuVz.png has been created\n",
      "Info in <TCanvas::SaveAs>: ROOT file /home/tmettler/Desktop/ub_data/mcc9.1/v08_00_00_17/NumuCC_cut_analysis_V//root/NuVz.root has been created\n"
     ]
    },
    {
     "data": {
      "image/png": "[encoded data removed]",
      "text/plain": [
       "<IPython.core.display.Image object>"
      ]
     },
     "metadata": {},
     "output_type": "display_data"
    }
   ],
   "source": [
    "# Generate stacked plots without any cuts\n",
    "\n",
    "#NuCC.make_stacked_histo_plot('fidVol','TimFla','Flash_time [us]',2,6,20,'FlashTime')\n",
    "\n",
    "NuCC.make_stacked_histo_plot_flashcorr('fidVol','TimFla','Flash_time [us]',2.3,5.9,20,'FlashTime_corr')\n",
    "NuCC.make_stacked_histo_plot_crtcorr('fidVol','crthit_ts0','CRT hit time [us]',2.3,5.9,20,'CRTTime_corr')\n",
    "\n",
    "NuCC.make_stacked_histo_plot('fidVol && muon','TrackMomMCS_mom','Track momentum [GeV]',0,3,20,'MCSMom')\n",
    "NuCC.make_stacked_histo_plot('fidVol && muon','TrackLength','Track length [cm]',0,500,20,'tracklength')\n",
    "NuCC.make_stacked_histo_plot('fidVol && TrackTheta!=-9 && muon','cos(TrackTheta)','cos(theta)',-1,1,20,'costheta')\n",
    "NuCC.make_stacked_histo_plot('fidVol && TrackTheta!=-9 && muon','TrackPhi','Phi on muoncandidate',-3.1416,3.1416,20,'trackphi')\n",
    "NuCC.make_stacked_histo_plot('fidVol && muon','NuScore','Total NuScore of event',0,1,20,'NuScore')\n",
    "NuCC.make_stacked_histo_plot('fidVol && muon','NuTracks','Number of tracks',0,8,8,'num_tracks')\n",
    "\n",
    "NuCC.make_stacked_histo_plot('fidVol && muon','Nu_Vx','Reco. Nu vertex X position [cm]',0,250,50,'NuVx')\n",
    "NuCC.make_stacked_histo_plot('fidVol && muon','Nu_Vy','Reconstructed neutrino vertex Y position [cm]',-110,115,50,'NuVy')\n",
    "NuCC.make_stacked_histo_plot('fidVol && muon','Nu_Vz','Reco. Nu vertex Z position [cm]',-20,1020,50,'NuVz')\n"
   ]
  },
  {
   "cell_type": "code",
   "execution_count": 11,
   "metadata": {},
   "outputs": [
    {
     "name": "stderr",
     "output_type": "stream",
     "text": [
      "Warning in <TROOT::Append>: Replacing existing TH1: h_ext_func (Potential memory leak).\n",
      "Warning in <TROOT::Append>: Replacing existing TH1: h_dirt_func (Potential memory leak).\n",
      "Warning in <TROOT::Append>: Replacing existing TH1: numu_lowpur (Potential memory leak).\n",
      "Warning in <TROOT::Append>: Replacing existing TH1: numu_other (Potential memory leak).\n",
      "Warning in <TROOT::Append>: Replacing existing TH1: numu_nomu (Potential memory leak).\n",
      "Warning in <TROOT::Append>: Replacing existing TH1: numu_ov (Potential memory leak).\n",
      "Warning in <TROOT::Append>: Replacing existing TH1: numu_signal (Potential memory leak).\n",
      "Warning in <TROOT::Append>: Replacing existing TH1: numu_nc (Potential memory leak).\n",
      "Warning in <TCanvas::Constructor>: Deleting canvas with same name: c1\n",
      "Info in <TCanvas::Print>: png file /home/tmettler/Desktop/ub_data/mcc9.1/v08_00_00_17/NumuCC_cut_analysis_V//png/CRTT0_corr_big.png has been created\n",
      "Info in <TCanvas::SaveAs>: ROOT file /home/tmettler/Desktop/ub_data/mcc9.1/v08_00_00_17/NumuCC_cut_analysis_V//root/CRTT0_corr_big.root has been created\n"
     ]
    },
    {
     "data": {
      "image/png": "[encoded data removed]",
      "text/plain": [
       "<IPython.core.display.Image object>"
      ]
     },
     "metadata": {},
     "output_type": "display_data"
    }
   ],
   "source": [
    "#NuCC.make_stacked_histo_plot_crtt0corr('fidVol','crtt0_time','associated CRT hit time [us]',2.3,5.9,20,'CRTT0_corr_all')\n",
    "NuCC.make_stacked_histo_plot_crtt0corr('fidVol && muon','crtt0_time','associated CRT hit time [us]',-2000,2000,20,'CRTT0_corr_big')"
   ]
  },
  {
   "cell_type": "code",
   "execution_count": 12,
   "metadata": {},
   "outputs": [
    {
     "data": {
      "text/plain": [
       "True"
      ]
     },
     "execution_count": 12,
     "metadata": {},
     "output_type": "execute_result"
    }
   ],
   "source": [
    "# Define CRT cut\n",
    "\n",
    "data.SetAlias(\"crt_cut\",\"(abs(crtt0_time-(69000-crt_trig_corr_med)/1000-4)<1 || crtt0_time==-1)\")\n",
    "ext.SetAlias(\"crt_cut\",\"(abs(crtt0_time-(69000-crt_trig_corr_med)/1000-3.57+3.195-4)<1 || crtt0_time==-1)\")\n",
    "overlay.SetAlias(\"crt_cut\",\"(abs(crtt0_time-4)<1 || crtt0_time==-1)\")\n",
    "dirt.SetAlias(\"crt_cut\",\"(abs(crtt0_time-4)<1 || crtt0_time==-1)\")\n",
    "\n",
    "track_start_border_x = '(TrackStart_x <(-1.55+5) || TrackStart_x > (254.8-5))'\n",
    "track_end_border_x = '(TrackEnd_x <(-1.55+5) || TrackEnd_x > (254.8-5))'\n",
    "track_start_border_y = '(TrackStart_y <(-115.53+5) || TrackStart_y > (117.47-5))'\n",
    "track_end_border_y = '(TrackEnd_y <(-115.53+5) || TrackEnd_y > (117.47-5))'\n",
    "track_start_border_z = '(TrackStart_z <(0.1+5) || TrackStart_z > (1036.9-5))'\n",
    "track_end_border_z = '(TrackEnd_z <(0.1+5) || TrackEnd_z > (1039.9-5))'\n",
    "\n",
    "track_end_uncontained = track_end_border_x + ' || ' + track_end_border_y + ' || ' + track_end_border_z\n",
    "\n",
    "\n",
    "data.SetAlias(\"track_end_uncontained\",track_end_uncontained)\n",
    "ext.SetAlias(\"track_end_uncontained\",track_end_uncontained)\n",
    "overlay.SetAlias(\"track_end_uncontained\",track_end_uncontained)\n",
    "dirt.SetAlias(\"track_end_uncontained\",track_end_uncontained)\n",
    "\n",
    "\n",
    "\n",
    "data.SetAlias(\"crt_cut_test\",\"(crt_cut || !track_end_uncontained)\")\n",
    "ext.SetAlias(\"crt_cut_test\",\"(crt_cut || !track_end_uncontained)\")\n",
    "overlay.SetAlias(\"crt_cut_test\",\"(crt_cut || !track_end_uncontained)\")\n",
    "dirt.SetAlias(\"crt_cut_test\",\"(crt_cut || !track_end_uncontained)\")"
   ]
  },
  {
   "cell_type": "code",
   "execution_count": 13,
   "metadata": {},
   "outputs": [
    {
     "name": "stderr",
     "output_type": "stream",
     "text": [
      "Warning in <TROOT::Append>: Replacing existing TH1: h_ext_func (Potential memory leak).\n",
      "Warning in <TROOT::Append>: Replacing existing TH1: h_dirt_func (Potential memory leak).\n",
      "Warning in <TROOT::Append>: Replacing existing TH1: numu_lowpur (Potential memory leak).\n",
      "Warning in <TROOT::Append>: Replacing existing TH1: numu_other (Potential memory leak).\n",
      "Warning in <TROOT::Append>: Replacing existing TH1: numu_nomu (Potential memory leak).\n",
      "Warning in <TROOT::Append>: Replacing existing TH1: numu_ov (Potential memory leak).\n",
      "Warning in <TROOT::Append>: Replacing existing TH1: numu_signal (Potential memory leak).\n",
      "Warning in <TROOT::Append>: Replacing existing TH1: numu_nc (Potential memory leak).\n",
      "Warning in <TCanvas::Constructor>: Deleting canvas with same name: c1\n",
      "Info in <TCanvas::Print>: png file /home/tmettler/Desktop/ub_data/mcc9.1/v08_00_00_17/NumuCC_cut_analysis_V//png/CRTT0_corr_test.png has been created\n",
      "Info in <TCanvas::SaveAs>: ROOT file /home/tmettler/Desktop/ub_data/mcc9.1/v08_00_00_17/NumuCC_cut_analysis_V//root/CRTT0_corr_test.root has been created\n"
     ]
    },
    {
     "data": {
      "image/png": "[encoded data removed]",
      "text/plain": [
       "<IPython.core.display.Image object>"
      ]
     },
     "metadata": {},
     "output_type": "display_data"
    }
   ],
   "source": [
    "NuCC.make_stacked_histo_plot_crtt0corr('fidVol && (crt_cut || NuTracks != 1)','crtt0_time','associated CRT hit time [us]',-2000,2000,20,'CRTT0_corr_test')"
   ]
  },
  {
   "cell_type": "code",
   "execution_count": 14,
   "metadata": {},
   "outputs": [
    {
     "name": "stdout",
     "output_type": "stream",
     "text": [
      "Rejection on each sample:\n",
      "Keep of    data:\t87.37%\t reject:\t12.63%\n",
      "Keep of     ext:\t79.99%\t reject:\t20.01%\n",
      "Keep of overlay:\t92.63%\t reject:\t7.37%\n",
      "Keep of    dirt:\t84.71%\t reject:\t15.29%\n",
      "\n",
      "Efficiency:\t96.46%\n",
      "Purity:\t\t33.36%\n",
      "\n",
      "Amount of    data:\t126.90%\n",
      "Amount of     ext:\t39.90%\n",
      "Amount of overlay:\t55.63%\n",
      "Amount of    dirt:\t4.47%\n",
      "\n",
      "Signal definition=  numu_lowpur: 1.44%\t(2.60%)\n",
      "Signal definition=   numu_other: 0.47%\t(0.85%)\n",
      "Signal definition=    numu_nomu: 4.35%\t(7.83%)\n",
      "Signal definition=      numu_ov: 9.43%\t(16.96%)\n",
      "Signal definition=  numu_signal: 33.36%\t(59.96%)\n",
      "Signal definition=      numu_nc: 6.56%\t(11.79%)\n"
     ]
    }
   ],
   "source": [
    "# Print efficiency with crt cut\n",
    "\n",
    "NuCC.printEff('crt_cut && muon')\n",
    "\n",
    "#NuCC.printEff('crt_cut_test && muon')"
   ]
  },
  {
   "cell_type": "code",
   "execution_count": 15,
   "metadata": {},
   "outputs": [],
   "source": [
    "#NuCC.printEff('crt_cut')"
   ]
  },
  {
   "cell_type": "code",
   "execution_count": 16,
   "metadata": {},
   "outputs": [
    {
     "name": "stderr",
     "output_type": "stream",
     "text": [
      "Warning in <TROOT::Append>: Replacing existing TH1: h_ext_func (Potential memory leak).\n",
      "Warning in <TROOT::Append>: Replacing existing TH1: h_dirt_func (Potential memory leak).\n",
      "Warning in <TROOT::Append>: Replacing existing TH1: numu_lowpur (Potential memory leak).\n",
      "Warning in <TROOT::Append>: Replacing existing TH1: numu_other (Potential memory leak).\n",
      "Warning in <TROOT::Append>: Replacing existing TH1: numu_nomu (Potential memory leak).\n",
      "Warning in <TROOT::Append>: Replacing existing TH1: numu_ov (Potential memory leak).\n",
      "Warning in <TROOT::Append>: Replacing existing TH1: numu_signal (Potential memory leak).\n",
      "Warning in <TROOT::Append>: Replacing existing TH1: numu_nc (Potential memory leak).\n",
      "Warning in <TCanvas::Constructor>: Deleting canvas with same name: c1\n",
      "Info in <TCanvas::Print>: png file /home/tmettler/Desktop/ub_data/mcc9.1/v08_00_00_17/NumuCC_cut_analysis_V//png/FlashTime_corr_crt.png has been created\n",
      "Info in <TCanvas::SaveAs>: ROOT file /home/tmettler/Desktop/ub_data/mcc9.1/v08_00_00_17/NumuCC_cut_analysis_V//root/FlashTime_corr_crt.root has been created\n",
      "Warning in <TROOT::Append>: Replacing existing TH1: h_ext_func (Potential memory leak).\n",
      "Warning in <TROOT::Append>: Replacing existing TH1: h_dirt_func (Potential memory leak).\n",
      "Warning in <TROOT::Append>: Replacing existing TH1: numu_lowpur (Potential memory leak).\n",
      "Warning in <TROOT::Append>: Replacing existing TH1: numu_other (Potential memory leak).\n",
      "Warning in <TROOT::Append>: Replacing existing TH1: numu_nomu (Potential memory leak).\n",
      "Warning in <TROOT::Append>: Replacing existing TH1: numu_ov (Potential memory leak).\n",
      "Warning in <TROOT::Append>: Replacing existing TH1: numu_signal (Potential memory leak).\n",
      "Warning in <TROOT::Append>: Replacing existing TH1: numu_nc (Potential memory leak).\n",
      "Warning in <TCanvas::Constructor>: Deleting canvas with same name: c1\n",
      "Info in <TCanvas::Print>: png file /home/tmettler/Desktop/ub_data/mcc9.1/v08_00_00_17/NumuCC_cut_analysis_V//png/CRTTime_corr_crt.png has been created\n",
      "Info in <TCanvas::SaveAs>: ROOT file /home/tmettler/Desktop/ub_data/mcc9.1/v08_00_00_17/NumuCC_cut_analysis_V//root/CRTTime_corr_crt.root has been created\n",
      "Warning in <TROOT::Append>: Replacing existing TH1: h_ext_func (Potential memory leak).\n",
      "Warning in <TROOT::Append>: Replacing existing TH1: h_dirt_func (Potential memory leak).\n",
      "Warning in <TROOT::Append>: Replacing existing TH1: numu_lowpur (Potential memory leak).\n",
      "Warning in <TROOT::Append>: Replacing existing TH1: numu_other (Potential memory leak).\n",
      "Warning in <TROOT::Append>: Replacing existing TH1: numu_nomu (Potential memory leak).\n",
      "Warning in <TROOT::Append>: Replacing existing TH1: numu_ov (Potential memory leak).\n",
      "Warning in <TROOT::Append>: Replacing existing TH1: numu_signal (Potential memory leak).\n",
      "Warning in <TROOT::Append>: Replacing existing TH1: numu_nc (Potential memory leak).\n",
      "Warning in <TCanvas::Constructor>: Deleting canvas with same name: c1\n",
      "Info in <TCanvas::Print>: png file /home/tmettler/Desktop/ub_data/mcc9.1/v08_00_00_17/NumuCC_cut_analysis_V//png/MCSMom_crt.png has been created\n",
      "Info in <TCanvas::SaveAs>: ROOT file /home/tmettler/Desktop/ub_data/mcc9.1/v08_00_00_17/NumuCC_cut_analysis_V//root/MCSMom_crt.root has been created\n",
      "Warning in <TROOT::Append>: Replacing existing TH1: h_ext_func (Potential memory leak).\n",
      "Warning in <TROOT::Append>: Replacing existing TH1: h_dirt_func (Potential memory leak).\n",
      "Warning in <TROOT::Append>: Replacing existing TH1: numu_lowpur (Potential memory leak).\n",
      "Warning in <TROOT::Append>: Replacing existing TH1: numu_other (Potential memory leak).\n",
      "Warning in <TROOT::Append>: Replacing existing TH1: numu_nomu (Potential memory leak).\n",
      "Warning in <TROOT::Append>: Replacing existing TH1: numu_ov (Potential memory leak).\n",
      "Warning in <TROOT::Append>: Replacing existing TH1: numu_signal (Potential memory leak).\n",
      "Warning in <TROOT::Append>: Replacing existing TH1: numu_nc (Potential memory leak).\n",
      "Warning in <TCanvas::Constructor>: Deleting canvas with same name: c1\n",
      "Info in <TCanvas::Print>: png file /home/tmettler/Desktop/ub_data/mcc9.1/v08_00_00_17/NumuCC_cut_analysis_V//png/tracklength_crt.png has been created\n",
      "Info in <TCanvas::SaveAs>: ROOT file /home/tmettler/Desktop/ub_data/mcc9.1/v08_00_00_17/NumuCC_cut_analysis_V//root/tracklength_crt.root has been created\n",
      "Warning in <TROOT::Append>: Replacing existing TH1: h_ext_func (Potential memory leak).\n",
      "Warning in <TROOT::Append>: Replacing existing TH1: h_dirt_func (Potential memory leak).\n",
      "Warning in <TROOT::Append>: Replacing existing TH1: numu_lowpur (Potential memory leak).\n",
      "Warning in <TROOT::Append>: Replacing existing TH1: numu_other (Potential memory leak).\n",
      "Warning in <TROOT::Append>: Replacing existing TH1: numu_nomu (Potential memory leak).\n",
      "Warning in <TROOT::Append>: Replacing existing TH1: numu_ov (Potential memory leak).\n",
      "Warning in <TROOT::Append>: Replacing existing TH1: numu_signal (Potential memory leak).\n",
      "Warning in <TROOT::Append>: Replacing existing TH1: numu_nc (Potential memory leak).\n",
      "Warning in <TCanvas::Constructor>: Deleting canvas with same name: c1\n",
      "Info in <TCanvas::Print>: png file /home/tmettler/Desktop/ub_data/mcc9.1/v08_00_00_17/NumuCC_cut_analysis_V//png/costheta_crt.png has been created\n",
      "Info in <TCanvas::SaveAs>: ROOT file /home/tmettler/Desktop/ub_data/mcc9.1/v08_00_00_17/NumuCC_cut_analysis_V//root/costheta_crt.root has been created\n",
      "Warning in <TROOT::Append>: Replacing existing TH1: h_ext_func (Potential memory leak).\n",
      "Warning in <TROOT::Append>: Replacing existing TH1: h_dirt_func (Potential memory leak).\n",
      "Warning in <TROOT::Append>: Replacing existing TH1: numu_lowpur (Potential memory leak).\n",
      "Warning in <TROOT::Append>: Replacing existing TH1: numu_other (Potential memory leak).\n",
      "Warning in <TROOT::Append>: Replacing existing TH1: numu_nomu (Potential memory leak).\n",
      "Warning in <TROOT::Append>: Replacing existing TH1: numu_ov (Potential memory leak).\n",
      "Warning in <TROOT::Append>: Replacing existing TH1: numu_signal (Potential memory leak).\n",
      "Warning in <TROOT::Append>: Replacing existing TH1: numu_nc (Potential memory leak).\n",
      "Warning in <TCanvas::Constructor>: Deleting canvas with same name: c1\n",
      "Info in <TCanvas::Print>: png file /home/tmettler/Desktop/ub_data/mcc9.1/v08_00_00_17/NumuCC_cut_analysis_V//png/trackphi_crt.png has been created\n",
      "Info in <TCanvas::SaveAs>: ROOT file /home/tmettler/Desktop/ub_data/mcc9.1/v08_00_00_17/NumuCC_cut_analysis_V//root/trackphi_crt.root has been created\n",
      "Warning in <TROOT::Append>: Replacing existing TH1: h_ext_func (Potential memory leak).\n",
      "Warning in <TROOT::Append>: Replacing existing TH1: h_dirt_func (Potential memory leak).\n",
      "Warning in <TROOT::Append>: Replacing existing TH1: numu_lowpur (Potential memory leak).\n",
      "Warning in <TROOT::Append>: Replacing existing TH1: numu_other (Potential memory leak).\n",
      "Warning in <TROOT::Append>: Replacing existing TH1: numu_nomu (Potential memory leak).\n",
      "Warning in <TROOT::Append>: Replacing existing TH1: numu_ov (Potential memory leak).\n",
      "Warning in <TROOT::Append>: Replacing existing TH1: numu_signal (Potential memory leak).\n",
      "Warning in <TROOT::Append>: Replacing existing TH1: numu_nc (Potential memory leak).\n",
      "Warning in <TCanvas::Constructor>: Deleting canvas with same name: c1\n",
      "Info in <TCanvas::Print>: png file /home/tmettler/Desktop/ub_data/mcc9.1/v08_00_00_17/NumuCC_cut_analysis_V//png/NuScore_crt.png has been created\n",
      "Info in <TCanvas::SaveAs>: ROOT file /home/tmettler/Desktop/ub_data/mcc9.1/v08_00_00_17/NumuCC_cut_analysis_V//root/NuScore_crt.root has been created\n",
      "Warning in <TROOT::Append>: Replacing existing TH1: h_ext_func (Potential memory leak).\n",
      "Warning in <TROOT::Append>: Replacing existing TH1: h_dirt_func (Potential memory leak).\n",
      "Warning in <TROOT::Append>: Replacing existing TH1: numu_lowpur (Potential memory leak).\n",
      "Warning in <TROOT::Append>: Replacing existing TH1: numu_other (Potential memory leak).\n",
      "Warning in <TROOT::Append>: Replacing existing TH1: numu_nomu (Potential memory leak).\n",
      "Warning in <TROOT::Append>: Replacing existing TH1: numu_ov (Potential memory leak).\n",
      "Warning in <TROOT::Append>: Replacing existing TH1: numu_signal (Potential memory leak).\n",
      "Warning in <TROOT::Append>: Replacing existing TH1: numu_nc (Potential memory leak).\n",
      "Warning in <TCanvas::Constructor>: Deleting canvas with same name: c1\n",
      "Info in <TCanvas::Print>: png file /home/tmettler/Desktop/ub_data/mcc9.1/v08_00_00_17/NumuCC_cut_analysis_V//png/num_track_crt.png has been created\n",
      "Info in <TCanvas::SaveAs>: ROOT file /home/tmettler/Desktop/ub_data/mcc9.1/v08_00_00_17/NumuCC_cut_analysis_V//root/num_track_crt.root has been created\n",
      "Warning in <TROOT::Append>: Replacing existing TH1: h_ext_func (Potential memory leak).\n",
      "Warning in <TROOT::Append>: Replacing existing TH1: h_dirt_func (Potential memory leak).\n",
      "Warning in <TROOT::Append>: Replacing existing TH1: numu_lowpur (Potential memory leak).\n",
      "Warning in <TROOT::Append>: Replacing existing TH1: numu_other (Potential memory leak).\n",
      "Warning in <TROOT::Append>: Replacing existing TH1: numu_nomu (Potential memory leak).\n",
      "Warning in <TROOT::Append>: Replacing existing TH1: numu_ov (Potential memory leak).\n",
      "Warning in <TROOT::Append>: Replacing existing TH1: numu_signal (Potential memory leak).\n",
      "Warning in <TROOT::Append>: Replacing existing TH1: numu_nc (Potential memory leak).\n",
      "Warning in <TCanvas::Constructor>: Deleting canvas with same name: c1\n",
      "Info in <TCanvas::Print>: png file /home/tmettler/Desktop/ub_data/mcc9.1/v08_00_00_17/NumuCC_cut_analysis_V//png/NuVx_crt.png has been created\n",
      "Info in <TCanvas::SaveAs>: ROOT file /home/tmettler/Desktop/ub_data/mcc9.1/v08_00_00_17/NumuCC_cut_analysis_V//root/NuVx_crt.root has been created\n",
      "Warning in <TROOT::Append>: Replacing existing TH1: h_ext_func (Potential memory leak).\n",
      "Warning in <TROOT::Append>: Replacing existing TH1: h_dirt_func (Potential memory leak).\n",
      "Warning in <TROOT::Append>: Replacing existing TH1: numu_lowpur (Potential memory leak).\n",
      "Warning in <TROOT::Append>: Replacing existing TH1: numu_other (Potential memory leak).\n",
      "Warning in <TROOT::Append>: Replacing existing TH1: numu_nomu (Potential memory leak).\n",
      "Warning in <TROOT::Append>: Replacing existing TH1: numu_ov (Potential memory leak).\n",
      "Warning in <TROOT::Append>: Replacing existing TH1: numu_signal (Potential memory leak).\n",
      "Warning in <TROOT::Append>: Replacing existing TH1: numu_nc (Potential memory leak).\n",
      "Warning in <TCanvas::Constructor>: Deleting canvas with same name: c1\n",
      "Info in <TCanvas::Print>: png file /home/tmettler/Desktop/ub_data/mcc9.1/v08_00_00_17/NumuCC_cut_analysis_V//png/NuVy_crt.png has been created\n",
      "Info in <TCanvas::SaveAs>: ROOT file /home/tmettler/Desktop/ub_data/mcc9.1/v08_00_00_17/NumuCC_cut_analysis_V//root/NuVy_crt.root has been created\n",
      "Warning in <TROOT::Append>: Replacing existing TH1: h_ext_func (Potential memory leak).\n",
      "Warning in <TROOT::Append>: Replacing existing TH1: h_dirt_func (Potential memory leak).\n",
      "Warning in <TROOT::Append>: Replacing existing TH1: numu_lowpur (Potential memory leak).\n",
      "Warning in <TROOT::Append>: Replacing existing TH1: numu_other (Potential memory leak).\n",
      "Warning in <TROOT::Append>: Replacing existing TH1: numu_nomu (Potential memory leak).\n",
      "Warning in <TROOT::Append>: Replacing existing TH1: numu_ov (Potential memory leak).\n",
      "Warning in <TROOT::Append>: Replacing existing TH1: numu_signal (Potential memory leak).\n",
      "Warning in <TROOT::Append>: Replacing existing TH1: numu_nc (Potential memory leak).\n",
      "Warning in <TCanvas::Constructor>: Deleting canvas with same name: c1\n",
      "Info in <TCanvas::Print>: png file /home/tmettler/Desktop/ub_data/mcc9.1/v08_00_00_17/NumuCC_cut_analysis_V//png/NuVz_crt.png has been created\n",
      "Info in <TCanvas::SaveAs>: ROOT file /home/tmettler/Desktop/ub_data/mcc9.1/v08_00_00_17/NumuCC_cut_analysis_V//root/NuVz_crt.root has been created\n"
     ]
    },
    {
     "data": {
      "image/png": "[encoded data removed]",
      "text/plain": [
       "<IPython.core.display.Image object>"
      ]
     },
     "metadata": {},
     "output_type": "display_data"
    }
   ],
   "source": [
    "# generate stacked plots with crt cut\n",
    "cut = 'fidVol && muon && crt_cut'\n",
    "name = '_crt'\n",
    "\n",
    "NuCC.make_stacked_histo_plot_flashcorr(cut,'TimFla','Flash_time [us]',2.3,5.9,20,'FlashTime_corr'+name)\n",
    "NuCC.make_stacked_histo_plot_crtcorr(cut,'crthit_ts0','CRT hit time [us]',2.3,5.9,20,'CRTTime_corr'+name)\n",
    "\n",
    "NuCC.make_stacked_histo_plot(cut,'TrackMomMCS_mom','Track momentum [GeV]',0,3,20,'MCSMom'+name)\n",
    "NuCC.make_stacked_histo_plot(cut,'TrackLength','Track length [cm]',0,500,20,'tracklength'+name)\n",
    "NuCC.make_stacked_histo_plot(cut + ' && TrackTheta!=-9','cos(TrackTheta)','cos(theta)',-1,1,20,'costheta'+name)\n",
    "NuCC.make_stacked_histo_plot(cut + ' && TrackTheta!=-9','TrackPhi','Phi on muoncandidate',-3.1416,3.1416,20,'trackphi'+name)\n",
    "NuCC.make_stacked_histo_plot(cut,'NuScore','Total NuScore of event',0,1,20,'NuScore'+name)\n",
    "NuCC.make_stacked_histo_plot(cut,'NuTracks','Number of tracks',0,8,8,'num_track'+name)\n",
    "\n",
    "NuCC.make_stacked_histo_plot(cut,'Nu_Vx','Reco. Nu vertex X position [cm]',0,250,50,'NuVx'+name)\n",
    "NuCC.make_stacked_histo_plot(cut,'Nu_Vy','Reconstructed neutrino vertex Y position [cm]',-110,115,50,'NuVy'+name)\n",
    "NuCC.make_stacked_histo_plot(cut,'Nu_Vz','Reco. Nu vertex Z position [cm]',-20,1020,50,'NuVz'+name)"
   ]
  },
  {
   "cell_type": "code",
   "execution_count": 17,
   "metadata": {},
   "outputs": [
    {
     "data": {
      "text/plain": [
       "True"
      ]
     },
     "execution_count": 17,
     "metadata": {},
     "output_type": "execute_result"
    }
   ],
   "source": [
    "# Define track length cut\n",
    "\n",
    "data.SetAlias(\"tracklength_cut\",\"TrackLength>29\")\n",
    "ext.SetAlias(\"tracklength_cut\",\"TrackLength>29\")\n",
    "overlay.SetAlias(\"tracklength_cut\",\"TrackLength>29\")\n",
    "dirt.SetAlias(\"tracklength_cut\",\"TrackLength>29\")"
   ]
  },
  {
   "cell_type": "code",
   "execution_count": 18,
   "metadata": {},
   "outputs": [
    {
     "name": "stdout",
     "output_type": "stream",
     "text": [
      "Rejection on each sample:\n",
      "Keep of    data:\t72.90%\t reject:\t27.10%\n",
      "Keep of     ext:\t65.26%\t reject:\t34.74%\n",
      "Keep of overlay:\t77.91%\t reject:\t22.09%\n",
      "Keep of    dirt:\t59.37%\t reject:\t40.63%\n",
      "\n",
      "Efficiency:\t92.75%\n",
      "Purity:\t\t38.89%\n",
      "\n",
      "Amount of    data:\t128.39%\n",
      "Amount of     ext:\t39.47%\n",
      "Amount of overlay:\t56.73%\n",
      "Amount of    dirt:\t3.80%\n",
      "\n",
      "Signal definition=  numu_lowpur: 1.48%\t(2.61%)\n",
      "Signal definition=   numu_other: 0.44%\t(0.77%)\n",
      "Signal definition=    numu_nomu: 4.08%\t(7.19%)\n",
      "Signal definition=      numu_ov: 8.07%\t(14.23%)\n",
      "Signal definition=  numu_signal: 38.89%\t(68.56%)\n",
      "Signal definition=      numu_nc: 3.76%\t(6.63%)\n"
     ]
    }
   ],
   "source": [
    "# Efficiency and purity with crt and tracklength cut\n",
    "\n",
    "NuCC.printEff('muon && crt_cut && tracklength_cut')"
   ]
  },
  {
   "cell_type": "code",
   "execution_count": 19,
   "metadata": {},
   "outputs": [
    {
     "name": "stderr",
     "output_type": "stream",
     "text": [
      "Warning in <TROOT::Append>: Replacing existing TH1: h_ext_func (Potential memory leak).\n",
      "Warning in <TROOT::Append>: Replacing existing TH1: h_dirt_func (Potential memory leak).\n",
      "Warning in <TROOT::Append>: Replacing existing TH1: numu_lowpur (Potential memory leak).\n",
      "Warning in <TROOT::Append>: Replacing existing TH1: numu_other (Potential memory leak).\n",
      "Warning in <TROOT::Append>: Replacing existing TH1: numu_nomu (Potential memory leak).\n",
      "Warning in <TROOT::Append>: Replacing existing TH1: numu_ov (Potential memory leak).\n",
      "Warning in <TROOT::Append>: Replacing existing TH1: numu_signal (Potential memory leak).\n",
      "Warning in <TROOT::Append>: Replacing existing TH1: numu_nc (Potential memory leak).\n",
      "Warning in <TCanvas::Constructor>: Deleting canvas with same name: c1\n",
      "Info in <TCanvas::Print>: png file /home/tmettler/Desktop/ub_data/mcc9.1/v08_00_00_17/NumuCC_cut_analysis_V//png/FlashTime_corr_crt_tracklen.png has been created\n",
      "Info in <TCanvas::SaveAs>: ROOT file /home/tmettler/Desktop/ub_data/mcc9.1/v08_00_00_17/NumuCC_cut_analysis_V//root/FlashTime_corr_crt_tracklen.root has been created\n",
      "Warning in <TROOT::Append>: Replacing existing TH1: h_ext_func (Potential memory leak).\n",
      "Warning in <TROOT::Append>: Replacing existing TH1: h_dirt_func (Potential memory leak).\n",
      "Warning in <TROOT::Append>: Replacing existing TH1: numu_lowpur (Potential memory leak).\n",
      "Warning in <TROOT::Append>: Replacing existing TH1: numu_other (Potential memory leak).\n",
      "Warning in <TROOT::Append>: Replacing existing TH1: numu_nomu (Potential memory leak).\n",
      "Warning in <TROOT::Append>: Replacing existing TH1: numu_ov (Potential memory leak).\n",
      "Warning in <TROOT::Append>: Replacing existing TH1: numu_signal (Potential memory leak).\n",
      "Warning in <TROOT::Append>: Replacing existing TH1: numu_nc (Potential memory leak).\n",
      "Warning in <TCanvas::Constructor>: Deleting canvas with same name: c1\n",
      "Info in <TCanvas::Print>: png file /home/tmettler/Desktop/ub_data/mcc9.1/v08_00_00_17/NumuCC_cut_analysis_V//png/CRTTime_corr_crt_tracklen.png has been created\n",
      "Info in <TCanvas::SaveAs>: ROOT file /home/tmettler/Desktop/ub_data/mcc9.1/v08_00_00_17/NumuCC_cut_analysis_V//root/CRTTime_corr_crt_tracklen.root has been created\n",
      "Warning in <TROOT::Append>: Replacing existing TH1: h_ext_func (Potential memory leak).\n",
      "Warning in <TROOT::Append>: Replacing existing TH1: h_dirt_func (Potential memory leak).\n",
      "Warning in <TROOT::Append>: Replacing existing TH1: numu_lowpur (Potential memory leak).\n",
      "Warning in <TROOT::Append>: Replacing existing TH1: numu_other (Potential memory leak).\n",
      "Warning in <TROOT::Append>: Replacing existing TH1: numu_nomu (Potential memory leak).\n",
      "Warning in <TROOT::Append>: Replacing existing TH1: numu_ov (Potential memory leak).\n",
      "Warning in <TROOT::Append>: Replacing existing TH1: numu_signal (Potential memory leak).\n",
      "Warning in <TROOT::Append>: Replacing existing TH1: numu_nc (Potential memory leak).\n",
      "Warning in <TCanvas::Constructor>: Deleting canvas with same name: c1\n",
      "Info in <TCanvas::Print>: png file /home/tmettler/Desktop/ub_data/mcc9.1/v08_00_00_17/NumuCC_cut_analysis_V//png/MCSMom_crt_tracklen.png has been created\n",
      "Info in <TCanvas::SaveAs>: ROOT file /home/tmettler/Desktop/ub_data/mcc9.1/v08_00_00_17/NumuCC_cut_analysis_V//root/MCSMom_crt_tracklen.root has been created\n",
      "Warning in <TROOT::Append>: Replacing existing TH1: h_ext_func (Potential memory leak).\n",
      "Warning in <TROOT::Append>: Replacing existing TH1: h_dirt_func (Potential memory leak).\n",
      "Warning in <TROOT::Append>: Replacing existing TH1: numu_lowpur (Potential memory leak).\n",
      "Warning in <TROOT::Append>: Replacing existing TH1: numu_other (Potential memory leak).\n",
      "Warning in <TROOT::Append>: Replacing existing TH1: numu_nomu (Potential memory leak).\n",
      "Warning in <TROOT::Append>: Replacing existing TH1: numu_ov (Potential memory leak).\n",
      "Warning in <TROOT::Append>: Replacing existing TH1: numu_signal (Potential memory leak).\n",
      "Warning in <TROOT::Append>: Replacing existing TH1: numu_nc (Potential memory leak).\n",
      "Warning in <TCanvas::Constructor>: Deleting canvas with same name: c1\n",
      "Info in <TCanvas::Print>: png file /home/tmettler/Desktop/ub_data/mcc9.1/v08_00_00_17/NumuCC_cut_analysis_V//png/tracklength_crt_tracklen.png has been created\n",
      "Info in <TCanvas::SaveAs>: ROOT file /home/tmettler/Desktop/ub_data/mcc9.1/v08_00_00_17/NumuCC_cut_analysis_V//root/tracklength_crt_tracklen.root has been created\n",
      "Warning in <TROOT::Append>: Replacing existing TH1: h_ext_func (Potential memory leak).\n",
      "Warning in <TROOT::Append>: Replacing existing TH1: h_dirt_func (Potential memory leak).\n",
      "Warning in <TROOT::Append>: Replacing existing TH1: numu_lowpur (Potential memory leak).\n",
      "Warning in <TROOT::Append>: Replacing existing TH1: numu_other (Potential memory leak).\n",
      "Warning in <TROOT::Append>: Replacing existing TH1: numu_nomu (Potential memory leak).\n",
      "Warning in <TROOT::Append>: Replacing existing TH1: numu_ov (Potential memory leak).\n",
      "Warning in <TROOT::Append>: Replacing existing TH1: numu_signal (Potential memory leak).\n",
      "Warning in <TROOT::Append>: Replacing existing TH1: numu_nc (Potential memory leak).\n",
      "Warning in <TCanvas::Constructor>: Deleting canvas with same name: c1\n",
      "Info in <TCanvas::Print>: png file /home/tmettler/Desktop/ub_data/mcc9.1/v08_00_00_17/NumuCC_cut_analysis_V//png/costheta_crt_tracklen.png has been created\n",
      "Info in <TCanvas::SaveAs>: ROOT file /home/tmettler/Desktop/ub_data/mcc9.1/v08_00_00_17/NumuCC_cut_analysis_V//root/costheta_crt_tracklen.root has been created\n",
      "Warning in <TROOT::Append>: Replacing existing TH1: h_ext_func (Potential memory leak).\n",
      "Warning in <TROOT::Append>: Replacing existing TH1: h_dirt_func (Potential memory leak).\n",
      "Warning in <TROOT::Append>: Replacing existing TH1: numu_lowpur (Potential memory leak).\n",
      "Warning in <TROOT::Append>: Replacing existing TH1: numu_other (Potential memory leak).\n",
      "Warning in <TROOT::Append>: Replacing existing TH1: numu_nomu (Potential memory leak).\n",
      "Warning in <TROOT::Append>: Replacing existing TH1: numu_ov (Potential memory leak).\n",
      "Warning in <TROOT::Append>: Replacing existing TH1: numu_signal (Potential memory leak).\n",
      "Warning in <TROOT::Append>: Replacing existing TH1: numu_nc (Potential memory leak).\n",
      "Warning in <TCanvas::Constructor>: Deleting canvas with same name: c1\n",
      "Info in <TCanvas::Print>: png file /home/tmettler/Desktop/ub_data/mcc9.1/v08_00_00_17/NumuCC_cut_analysis_V//png/trackphi_crt_tracklen.png has been created\n",
      "Info in <TCanvas::SaveAs>: ROOT file /home/tmettler/Desktop/ub_data/mcc9.1/v08_00_00_17/NumuCC_cut_analysis_V//root/trackphi_crt_tracklen.root has been created\n",
      "Warning in <TROOT::Append>: Replacing existing TH1: h_ext_func (Potential memory leak).\n",
      "Warning in <TROOT::Append>: Replacing existing TH1: h_dirt_func (Potential memory leak).\n",
      "Warning in <TROOT::Append>: Replacing existing TH1: numu_lowpur (Potential memory leak).\n",
      "Warning in <TROOT::Append>: Replacing existing TH1: numu_other (Potential memory leak).\n",
      "Warning in <TROOT::Append>: Replacing existing TH1: numu_nomu (Potential memory leak).\n",
      "Warning in <TROOT::Append>: Replacing existing TH1: numu_ov (Potential memory leak).\n",
      "Warning in <TROOT::Append>: Replacing existing TH1: numu_signal (Potential memory leak).\n",
      "Warning in <TROOT::Append>: Replacing existing TH1: numu_nc (Potential memory leak).\n",
      "Warning in <TCanvas::Constructor>: Deleting canvas with same name: c1\n",
      "Info in <TCanvas::Print>: png file /home/tmettler/Desktop/ub_data/mcc9.1/v08_00_00_17/NumuCC_cut_analysis_V//png/NuScore_crt_tracklen.png has been created\n",
      "Info in <TCanvas::SaveAs>: ROOT file /home/tmettler/Desktop/ub_data/mcc9.1/v08_00_00_17/NumuCC_cut_analysis_V//root/NuScore_crt_tracklen.root has been created\n",
      "Warning in <TROOT::Append>: Replacing existing TH1: h_ext_func (Potential memory leak).\n",
      "Warning in <TROOT::Append>: Replacing existing TH1: h_dirt_func (Potential memory leak).\n",
      "Warning in <TROOT::Append>: Replacing existing TH1: numu_lowpur (Potential memory leak).\n",
      "Warning in <TROOT::Append>: Replacing existing TH1: numu_other (Potential memory leak).\n",
      "Warning in <TROOT::Append>: Replacing existing TH1: numu_nomu (Potential memory leak).\n",
      "Warning in <TROOT::Append>: Replacing existing TH1: numu_ov (Potential memory leak).\n",
      "Warning in <TROOT::Append>: Replacing existing TH1: numu_signal (Potential memory leak).\n",
      "Warning in <TROOT::Append>: Replacing existing TH1: numu_nc (Potential memory leak).\n",
      "Warning in <TCanvas::Constructor>: Deleting canvas with same name: c1\n",
      "Info in <TCanvas::Print>: png file /home/tmettler/Desktop/ub_data/mcc9.1/v08_00_00_17/NumuCC_cut_analysis_V//png/num_tracks_crt_tracklen.png has been created\n",
      "Info in <TCanvas::SaveAs>: ROOT file /home/tmettler/Desktop/ub_data/mcc9.1/v08_00_00_17/NumuCC_cut_analysis_V//root/num_tracks_crt_tracklen.root has been created\n",
      "Warning in <TROOT::Append>: Replacing existing TH1: h_ext_func (Potential memory leak).\n",
      "Warning in <TROOT::Append>: Replacing existing TH1: h_dirt_func (Potential memory leak).\n",
      "Warning in <TROOT::Append>: Replacing existing TH1: numu_lowpur (Potential memory leak).\n",
      "Warning in <TROOT::Append>: Replacing existing TH1: numu_other (Potential memory leak).\n",
      "Warning in <TROOT::Append>: Replacing existing TH1: numu_nomu (Potential memory leak).\n",
      "Warning in <TROOT::Append>: Replacing existing TH1: numu_ov (Potential memory leak).\n",
      "Warning in <TROOT::Append>: Replacing existing TH1: numu_signal (Potential memory leak).\n",
      "Warning in <TROOT::Append>: Replacing existing TH1: numu_nc (Potential memory leak).\n",
      "Warning in <TCanvas::Constructor>: Deleting canvas with same name: c1\n",
      "Info in <TCanvas::Print>: png file /home/tmettler/Desktop/ub_data/mcc9.1/v08_00_00_17/NumuCC_cut_analysis_V//png/NuVx_crt_tracklen.png has been created\n",
      "Info in <TCanvas::SaveAs>: ROOT file /home/tmettler/Desktop/ub_data/mcc9.1/v08_00_00_17/NumuCC_cut_analysis_V//root/NuVx_crt_tracklen.root has been created\n",
      "Warning in <TROOT::Append>: Replacing existing TH1: h_ext_func (Potential memory leak).\n",
      "Warning in <TROOT::Append>: Replacing existing TH1: h_dirt_func (Potential memory leak).\n",
      "Warning in <TROOT::Append>: Replacing existing TH1: numu_lowpur (Potential memory leak).\n",
      "Warning in <TROOT::Append>: Replacing existing TH1: numu_other (Potential memory leak).\n",
      "Warning in <TROOT::Append>: Replacing existing TH1: numu_nomu (Potential memory leak).\n",
      "Warning in <TROOT::Append>: Replacing existing TH1: numu_ov (Potential memory leak).\n",
      "Warning in <TROOT::Append>: Replacing existing TH1: numu_signal (Potential memory leak).\n",
      "Warning in <TROOT::Append>: Replacing existing TH1: numu_nc (Potential memory leak).\n",
      "Warning in <TCanvas::Constructor>: Deleting canvas with same name: c1\n",
      "Info in <TCanvas::Print>: png file /home/tmettler/Desktop/ub_data/mcc9.1/v08_00_00_17/NumuCC_cut_analysis_V//png/NuVy_crt_tracklen.png has been created\n",
      "Info in <TCanvas::SaveAs>: ROOT file /home/tmettler/Desktop/ub_data/mcc9.1/v08_00_00_17/NumuCC_cut_analysis_V//root/NuVy_crt_tracklen.root has been created\n",
      "Warning in <TROOT::Append>: Replacing existing TH1: h_ext_func (Potential memory leak).\n",
      "Warning in <TROOT::Append>: Replacing existing TH1: h_dirt_func (Potential memory leak).\n",
      "Warning in <TROOT::Append>: Replacing existing TH1: numu_lowpur (Potential memory leak).\n",
      "Warning in <TROOT::Append>: Replacing existing TH1: numu_other (Potential memory leak).\n",
      "Warning in <TROOT::Append>: Replacing existing TH1: numu_nomu (Potential memory leak).\n",
      "Warning in <TROOT::Append>: Replacing existing TH1: numu_ov (Potential memory leak).\n",
      "Warning in <TROOT::Append>: Replacing existing TH1: numu_signal (Potential memory leak).\n",
      "Warning in <TROOT::Append>: Replacing existing TH1: numu_nc (Potential memory leak).\n",
      "Warning in <TCanvas::Constructor>: Deleting canvas with same name: c1\n",
      "Info in <TCanvas::Print>: png file /home/tmettler/Desktop/ub_data/mcc9.1/v08_00_00_17/NumuCC_cut_analysis_V//png/NuVz_crt_tracklen.png has been created\n",
      "Info in <TCanvas::SaveAs>: ROOT file /home/tmettler/Desktop/ub_data/mcc9.1/v08_00_00_17/NumuCC_cut_analysis_V//root/NuVz_crt_tracklen.root has been created\n"
     ]
    },
    {
     "data": {
      "image/png": "[encoded data removed]",
      "text/plain": [
       "<IPython.core.display.Image object>"
      ]
     },
     "metadata": {},
     "output_type": "display_data"
    }
   ],
   "source": [
    "# Generate stacked histograms with crt cut and tracklength cut\n",
    "cut = 'fidVol && muon && crt_cut && tracklength_cut'\n",
    "name = '_crt_tracklen'\n",
    "\n",
    "NuCC.make_stacked_histo_plot_flashcorr(cut,'TimFla','Flash_time [us]',2.3,5.9,20,'FlashTime_corr'+name)\n",
    "NuCC.make_stacked_histo_plot_crtcorr(cut,'crthit_ts0','CRT hit time [us]',2.3,5.9,20,'CRTTime_corr'+name)\n",
    "\n",
    "NuCC.make_stacked_histo_plot(cut,'TrackMomMCS_mom','Track momentum [GeV]',0,3,20,'MCSMom'+name)\n",
    "NuCC.make_stacked_histo_plot(cut,'TrackLength','Track length [cm]',0,500,20,'tracklength'+name)\n",
    "NuCC.make_stacked_histo_plot(cut+' && TrackTheta!=-9','cos(TrackTheta)','cos(theta)',-1,1,20,'costheta'+name)\n",
    "NuCC.make_stacked_histo_plot(cut+' && TrackTheta!=-9','TrackPhi','Phi on muoncandidate',-3.1416,3.1416,20,'trackphi'+name)\n",
    "NuCC.make_stacked_histo_plot(cut,'NuScore','Total NuScore of event',0,1,20,'NuScore'+name)\n",
    "NuCC.make_stacked_histo_plot(cut,'NuTracks','Number of tracks',0,8,8,'num_tracks'+name)\n",
    "\n",
    "NuCC.make_stacked_histo_plot(cut,'Nu_Vx','Reco. Nu vertex X position [cm]',0,250,50,'NuVx'+name)\n",
    "NuCC.make_stacked_histo_plot(cut,'Nu_Vy','Reconstructed neutrino vertex Y position [cm]',-110,115,50,'NuVy'+name)\n",
    "NuCC.make_stacked_histo_plot(cut,'Nu_Vz','Reco. Nu vertex Z position [cm]',-20,1020,50,'NuVz'+name)"
   ]
  },
  {
   "cell_type": "code",
   "execution_count": 20,
   "metadata": {},
   "outputs": [
    {
     "data": {
      "text/plain": [
       "True"
      ]
     },
     "execution_count": 20,
     "metadata": {},
     "output_type": "execute_result"
    }
   ],
   "source": [
    "# Define track length cut\n",
    "\n",
    "data.SetAlias(\"nuscore_cut\",\"NuScore>0.2\")\n",
    "ext.SetAlias(\"nuscore_cut\",\"NuScore>0.2\")\n",
    "overlay.SetAlias(\"nuscore_cut\",\"NuScore>0.2\")\n",
    "dirt.SetAlias(\"nuscore_cut\",\"NuScore>0.2\")"
   ]
  },
  {
   "cell_type": "code",
   "execution_count": 21,
   "metadata": {},
   "outputs": [
    {
     "name": "stdout",
     "output_type": "stream",
     "text": [
      "Rejection on each sample:\n",
      "Keep of    data:\t37.28%\t reject:\t62.72%\n",
      "Keep of     ext:\t9.74%\t reject:\t90.26%\n",
      "Keep of overlay:\t58.49%\t reject:\t41.51%\n",
      "Keep of    dirt:\t20.17%\t reject:\t79.83%\n",
      "\n",
      "Efficiency:\t77.31%\n",
      "Purity:\t\t65.13%\n",
      "\n",
      "Amount of    data:\t131.93%\n",
      "Amount of     ext:\t11.83%\n",
      "Amount of overlay:\t85.57%\n",
      "Amount of    dirt:\t2.59%\n",
      "\n",
      "Signal definition=  numu_lowpur: 1.07%\t(1.25%)\n",
      "Signal definition=   numu_other: 0.74%\t(0.87%)\n",
      "Signal definition=    numu_nomu: 7.42%\t(8.67%)\n",
      "Signal definition=      numu_ov: 6.06%\t(7.08%)\n",
      "Signal definition=  numu_signal: 65.13%\t(76.11%)\n",
      "Signal definition=      numu_nc: 5.14%\t(6.01%)\n"
     ]
    }
   ],
   "source": [
    "# Efficiency and purity with crt and tracklength cut\n",
    "\n",
    "NuCC.printEff('muon && crt_cut && tracklength_cut && nuscore_cut')"
   ]
  },
  {
   "cell_type": "code",
   "execution_count": 22,
   "metadata": {},
   "outputs": [
    {
     "name": "stderr",
     "output_type": "stream",
     "text": [
      "Warning in <TROOT::Append>: Replacing existing TH1: h_ext_func (Potential memory leak).\n",
      "Warning in <TROOT::Append>: Replacing existing TH1: h_dirt_func (Potential memory leak).\n",
      "Warning in <TROOT::Append>: Replacing existing TH1: numu_lowpur (Potential memory leak).\n",
      "Warning in <TROOT::Append>: Replacing existing TH1: numu_other (Potential memory leak).\n",
      "Warning in <TROOT::Append>: Replacing existing TH1: numu_nomu (Potential memory leak).\n",
      "Warning in <TROOT::Append>: Replacing existing TH1: numu_ov (Potential memory leak).\n",
      "Warning in <TROOT::Append>: Replacing existing TH1: numu_signal (Potential memory leak).\n",
      "Warning in <TROOT::Append>: Replacing existing TH1: numu_nc (Potential memory leak).\n",
      "Warning in <TCanvas::Constructor>: Deleting canvas with same name: c1\n",
      "Info in <TCanvas::Print>: png file /home/tmettler/Desktop/ub_data/mcc9.1/v08_00_00_17/NumuCC_cut_analysis_V//png/FlashTime_corr_crt_tracklen_nuscore.png has been created\n",
      "Info in <TCanvas::SaveAs>: ROOT file /home/tmettler/Desktop/ub_data/mcc9.1/v08_00_00_17/NumuCC_cut_analysis_V//root/FlashTime_corr_crt_tracklen_nuscore.root has been created\n",
      "Warning in <TROOT::Append>: Replacing existing TH1: h_ext_func (Potential memory leak).\n",
      "Warning in <TROOT::Append>: Replacing existing TH1: h_dirt_func (Potential memory leak).\n",
      "Warning in <TROOT::Append>: Replacing existing TH1: numu_lowpur (Potential memory leak).\n",
      "Warning in <TROOT::Append>: Replacing existing TH1: numu_other (Potential memory leak).\n",
      "Warning in <TROOT::Append>: Replacing existing TH1: numu_nomu (Potential memory leak).\n",
      "Warning in <TROOT::Append>: Replacing existing TH1: numu_ov (Potential memory leak).\n",
      "Warning in <TROOT::Append>: Replacing existing TH1: numu_signal (Potential memory leak).\n",
      "Warning in <TROOT::Append>: Replacing existing TH1: numu_nc (Potential memory leak).\n",
      "Warning in <TCanvas::Constructor>: Deleting canvas with same name: c1\n",
      "Info in <TCanvas::Print>: png file /home/tmettler/Desktop/ub_data/mcc9.1/v08_00_00_17/NumuCC_cut_analysis_V//png/CRTTime_corr_crt_tracklen_nuscore.png has been created\n",
      "Info in <TCanvas::SaveAs>: ROOT file /home/tmettler/Desktop/ub_data/mcc9.1/v08_00_00_17/NumuCC_cut_analysis_V//root/CRTTime_corr_crt_tracklen_nuscore.root has been created\n",
      "Warning in <TROOT::Append>: Replacing existing TH1: h_ext_func (Potential memory leak).\n",
      "Warning in <TROOT::Append>: Replacing existing TH1: h_dirt_func (Potential memory leak).\n",
      "Warning in <TROOT::Append>: Replacing existing TH1: numu_lowpur (Potential memory leak).\n",
      "Warning in <TROOT::Append>: Replacing existing TH1: numu_other (Potential memory leak).\n",
      "Warning in <TROOT::Append>: Replacing existing TH1: numu_nomu (Potential memory leak).\n",
      "Warning in <TROOT::Append>: Replacing existing TH1: numu_ov (Potential memory leak).\n",
      "Warning in <TROOT::Append>: Replacing existing TH1: numu_signal (Potential memory leak).\n",
      "Warning in <TROOT::Append>: Replacing existing TH1: numu_nc (Potential memory leak).\n",
      "Warning in <TCanvas::Constructor>: Deleting canvas with same name: c1\n",
      "Info in <TCanvas::Print>: png file /home/tmettler/Desktop/ub_data/mcc9.1/v08_00_00_17/NumuCC_cut_analysis_V//png/MCSMom_crt_tracklen_nuscore.png has been created\n",
      "Info in <TCanvas::SaveAs>: ROOT file /home/tmettler/Desktop/ub_data/mcc9.1/v08_00_00_17/NumuCC_cut_analysis_V//root/MCSMom_crt_tracklen_nuscore.root has been created\n",
      "Warning in <TROOT::Append>: Replacing existing TH1: h_ext_func (Potential memory leak).\n",
      "Warning in <TROOT::Append>: Replacing existing TH1: h_dirt_func (Potential memory leak).\n",
      "Warning in <TROOT::Append>: Replacing existing TH1: numu_lowpur (Potential memory leak).\n",
      "Warning in <TROOT::Append>: Replacing existing TH1: numu_other (Potential memory leak).\n",
      "Warning in <TROOT::Append>: Replacing existing TH1: numu_nomu (Potential memory leak).\n",
      "Warning in <TROOT::Append>: Replacing existing TH1: numu_ov (Potential memory leak).\n",
      "Warning in <TROOT::Append>: Replacing existing TH1: numu_signal (Potential memory leak).\n",
      "Warning in <TROOT::Append>: Replacing existing TH1: numu_nc (Potential memory leak).\n",
      "Warning in <TCanvas::Constructor>: Deleting canvas with same name: c1\n",
      "Info in <TCanvas::Print>: png file /home/tmettler/Desktop/ub_data/mcc9.1/v08_00_00_17/NumuCC_cut_analysis_V//png/tracklength_crt_tracklen_nuscore.png has been created\n",
      "Info in <TCanvas::SaveAs>: ROOT file /home/tmettler/Desktop/ub_data/mcc9.1/v08_00_00_17/NumuCC_cut_analysis_V//root/tracklength_crt_tracklen_nuscore.root has been created\n",
      "Warning in <TROOT::Append>: Replacing existing TH1: h_ext_func (Potential memory leak).\n",
      "Warning in <TROOT::Append>: Replacing existing TH1: h_dirt_func (Potential memory leak).\n",
      "Warning in <TROOT::Append>: Replacing existing TH1: numu_lowpur (Potential memory leak).\n",
      "Warning in <TROOT::Append>: Replacing existing TH1: numu_other (Potential memory leak).\n",
      "Warning in <TROOT::Append>: Replacing existing TH1: numu_nomu (Potential memory leak).\n",
      "Warning in <TROOT::Append>: Replacing existing TH1: numu_ov (Potential memory leak).\n",
      "Warning in <TROOT::Append>: Replacing existing TH1: numu_signal (Potential memory leak).\n",
      "Warning in <TROOT::Append>: Replacing existing TH1: numu_nc (Potential memory leak).\n",
      "Warning in <TCanvas::Constructor>: Deleting canvas with same name: c1\n",
      "Info in <TCanvas::Print>: png file /home/tmettler/Desktop/ub_data/mcc9.1/v08_00_00_17/NumuCC_cut_analysis_V//png/costheta_crt_tracklen_nuscore.png has been created\n",
      "Info in <TCanvas::SaveAs>: ROOT file /home/tmettler/Desktop/ub_data/mcc9.1/v08_00_00_17/NumuCC_cut_analysis_V//root/costheta_crt_tracklen_nuscore.root has been created\n",
      "Warning in <TROOT::Append>: Replacing existing TH1: h_ext_func (Potential memory leak).\n",
      "Warning in <TROOT::Append>: Replacing existing TH1: h_dirt_func (Potential memory leak).\n",
      "Warning in <TROOT::Append>: Replacing existing TH1: numu_lowpur (Potential memory leak).\n",
      "Warning in <TROOT::Append>: Replacing existing TH1: numu_other (Potential memory leak).\n",
      "Warning in <TROOT::Append>: Replacing existing TH1: numu_nomu (Potential memory leak).\n",
      "Warning in <TROOT::Append>: Replacing existing TH1: numu_ov (Potential memory leak).\n",
      "Warning in <TROOT::Append>: Replacing existing TH1: numu_signal (Potential memory leak).\n",
      "Warning in <TROOT::Append>: Replacing existing TH1: numu_nc (Potential memory leak).\n",
      "Warning in <TCanvas::Constructor>: Deleting canvas with same name: c1\n",
      "Info in <TCanvas::Print>: png file /home/tmettler/Desktop/ub_data/mcc9.1/v08_00_00_17/NumuCC_cut_analysis_V//png/trackphi_crt_tracklen_nuscore.png has been created\n",
      "Info in <TCanvas::SaveAs>: ROOT file /home/tmettler/Desktop/ub_data/mcc9.1/v08_00_00_17/NumuCC_cut_analysis_V//root/trackphi_crt_tracklen_nuscore.root has been created\n",
      "Warning in <TROOT::Append>: Replacing existing TH1: h_ext_func (Potential memory leak).\n",
      "Warning in <TROOT::Append>: Replacing existing TH1: h_dirt_func (Potential memory leak).\n",
      "Warning in <TROOT::Append>: Replacing existing TH1: numu_lowpur (Potential memory leak).\n",
      "Warning in <TROOT::Append>: Replacing existing TH1: numu_other (Potential memory leak).\n",
      "Warning in <TROOT::Append>: Replacing existing TH1: numu_nomu (Potential memory leak).\n",
      "Warning in <TROOT::Append>: Replacing existing TH1: numu_ov (Potential memory leak).\n",
      "Warning in <TROOT::Append>: Replacing existing TH1: numu_signal (Potential memory leak).\n",
      "Warning in <TROOT::Append>: Replacing existing TH1: numu_nc (Potential memory leak).\n",
      "Warning in <TCanvas::Constructor>: Deleting canvas with same name: c1\n",
      "Info in <TCanvas::Print>: png file /home/tmettler/Desktop/ub_data/mcc9.1/v08_00_00_17/NumuCC_cut_analysis_V//png/NuScore_crt_tracklen_nuscore.png has been created\n",
      "Info in <TCanvas::SaveAs>: ROOT file /home/tmettler/Desktop/ub_data/mcc9.1/v08_00_00_17/NumuCC_cut_analysis_V//root/NuScore_crt_tracklen_nuscore.root has been created\n",
      "Warning in <TROOT::Append>: Replacing existing TH1: h_ext_func (Potential memory leak).\n",
      "Warning in <TROOT::Append>: Replacing existing TH1: h_dirt_func (Potential memory leak).\n",
      "Warning in <TROOT::Append>: Replacing existing TH1: numu_lowpur (Potential memory leak).\n",
      "Warning in <TROOT::Append>: Replacing existing TH1: numu_other (Potential memory leak).\n",
      "Warning in <TROOT::Append>: Replacing existing TH1: numu_nomu (Potential memory leak).\n",
      "Warning in <TROOT::Append>: Replacing existing TH1: numu_ov (Potential memory leak).\n",
      "Warning in <TROOT::Append>: Replacing existing TH1: numu_signal (Potential memory leak).\n",
      "Warning in <TROOT::Append>: Replacing existing TH1: numu_nc (Potential memory leak).\n",
      "Warning in <TCanvas::Constructor>: Deleting canvas with same name: c1\n",
      "Info in <TCanvas::Print>: png file /home/tmettler/Desktop/ub_data/mcc9.1/v08_00_00_17/NumuCC_cut_analysis_V//png/num_tracks_crt_tracklen_nuscore.png has been created\n",
      "Info in <TCanvas::SaveAs>: ROOT file /home/tmettler/Desktop/ub_data/mcc9.1/v08_00_00_17/NumuCC_cut_analysis_V//root/num_tracks_crt_tracklen_nuscore.root has been created\n",
      "Warning in <TROOT::Append>: Replacing existing TH1: h_ext_func (Potential memory leak).\n",
      "Warning in <TROOT::Append>: Replacing existing TH1: h_dirt_func (Potential memory leak).\n",
      "Warning in <TROOT::Append>: Replacing existing TH1: numu_lowpur (Potential memory leak).\n",
      "Warning in <TROOT::Append>: Replacing existing TH1: numu_other (Potential memory leak).\n",
      "Warning in <TROOT::Append>: Replacing existing TH1: numu_nomu (Potential memory leak).\n",
      "Warning in <TROOT::Append>: Replacing existing TH1: numu_ov (Potential memory leak).\n",
      "Warning in <TROOT::Append>: Replacing existing TH1: numu_signal (Potential memory leak).\n",
      "Warning in <TROOT::Append>: Replacing existing TH1: numu_nc (Potential memory leak).\n",
      "Warning in <TCanvas::Constructor>: Deleting canvas with same name: c1\n",
      "Info in <TCanvas::Print>: png file /home/tmettler/Desktop/ub_data/mcc9.1/v08_00_00_17/NumuCC_cut_analysis_V//png/NuVx_crt_tracklen_nuscore.png has been created\n",
      "Info in <TCanvas::SaveAs>: ROOT file /home/tmettler/Desktop/ub_data/mcc9.1/v08_00_00_17/NumuCC_cut_analysis_V//root/NuVx_crt_tracklen_nuscore.root has been created\n",
      "Warning in <TROOT::Append>: Replacing existing TH1: h_ext_func (Potential memory leak).\n",
      "Warning in <TROOT::Append>: Replacing existing TH1: h_dirt_func (Potential memory leak).\n",
      "Warning in <TROOT::Append>: Replacing existing TH1: numu_lowpur (Potential memory leak).\n",
      "Warning in <TROOT::Append>: Replacing existing TH1: numu_other (Potential memory leak).\n",
      "Warning in <TROOT::Append>: Replacing existing TH1: numu_nomu (Potential memory leak).\n",
      "Warning in <TROOT::Append>: Replacing existing TH1: numu_ov (Potential memory leak).\n",
      "Warning in <TROOT::Append>: Replacing existing TH1: numu_signal (Potential memory leak).\n",
      "Warning in <TROOT::Append>: Replacing existing TH1: numu_nc (Potential memory leak).\n",
      "Warning in <TCanvas::Constructor>: Deleting canvas with same name: c1\n",
      "Info in <TCanvas::Print>: png file /home/tmettler/Desktop/ub_data/mcc9.1/v08_00_00_17/NumuCC_cut_analysis_V//png/NuVy_crt_tracklen_nuscore.png has been created\n",
      "Info in <TCanvas::SaveAs>: ROOT file /home/tmettler/Desktop/ub_data/mcc9.1/v08_00_00_17/NumuCC_cut_analysis_V//root/NuVy_crt_tracklen_nuscore.root has been created\n",
      "Warning in <TROOT::Append>: Replacing existing TH1: h_ext_func (Potential memory leak).\n",
      "Warning in <TROOT::Append>: Replacing existing TH1: h_dirt_func (Potential memory leak).\n",
      "Warning in <TROOT::Append>: Replacing existing TH1: numu_lowpur (Potential memory leak).\n",
      "Warning in <TROOT::Append>: Replacing existing TH1: numu_other (Potential memory leak).\n",
      "Warning in <TROOT::Append>: Replacing existing TH1: numu_nomu (Potential memory leak).\n",
      "Warning in <TROOT::Append>: Replacing existing TH1: numu_ov (Potential memory leak).\n",
      "Warning in <TROOT::Append>: Replacing existing TH1: numu_signal (Potential memory leak).\n",
      "Warning in <TROOT::Append>: Replacing existing TH1: numu_nc (Potential memory leak).\n",
      "Warning in <TCanvas::Constructor>: Deleting canvas with same name: c1\n",
      "Info in <TCanvas::Print>: png file /home/tmettler/Desktop/ub_data/mcc9.1/v08_00_00_17/NumuCC_cut_analysis_V//png/NuVz_crt_tracklen_nuscore.png has been created\n",
      "Info in <TCanvas::SaveAs>: ROOT file /home/tmettler/Desktop/ub_data/mcc9.1/v08_00_00_17/NumuCC_cut_analysis_V//root/NuVz_crt_tracklen_nuscore.root has been created\n"
     ]
    },
    {
     "data": {
      "image/png": "[encoded data removed]",
      "text/plain": [
       "<IPython.core.display.Image object>"
      ]
     },
     "metadata": {},
     "output_type": "display_data"
    }
   ],
   "source": [
    "# Generate stacked histograms with crt cut and tracklength cut\n",
    "cut = 'fidVol &&muon && crt_cut && tracklength_cut && nuscore_cut'\n",
    "name = '_crt_tracklen_nuscore'\n",
    "\n",
    "NuCC.make_stacked_histo_plot_flashcorr(cut,'TimFla','Flash_time [us]',2.3,5.9,20,'FlashTime_corr'+name)\n",
    "NuCC.make_stacked_histo_plot_crtcorr(cut,'crthit_ts0','CRT hit time [us]',2.3,5.9,20,'CRTTime_corr'+name)\n",
    "\n",
    "NuCC.make_stacked_histo_plot(cut,'TrackMomMCS_mom','Track momentum [GeV]',0,3,20,'MCSMom'+name)\n",
    "NuCC.make_stacked_histo_plot(cut,'TrackLength','Track length [cm]',0,500,20,'tracklength'+name)\n",
    "NuCC.make_stacked_histo_plot(cut+' && TrackTheta!=-9','cos(TrackTheta)','cos(theta)',-1,1,20,'costheta'+name)\n",
    "NuCC.make_stacked_histo_plot(cut+' && TrackTheta!=-9','TrackPhi','Phi on muoncandidate',-3.1416,3.1416,20,'trackphi'+name)\n",
    "NuCC.make_stacked_histo_plot(cut,'NuScore','Total NuScore of event',0,1,20,'NuScore'+name)\n",
    "NuCC.make_stacked_histo_plot(cut,'NuTracks','Number of tracks',0,8,8,'num_tracks'+name)\n",
    "\n",
    "NuCC.make_stacked_histo_plot(cut,'Nu_Vx','Reco. Nu vertex X position [cm]',0,250,50,'NuVx'+name)\n",
    "NuCC.make_stacked_histo_plot(cut,'Nu_Vy','Reconstructed neutrino vertex Y position [cm]',-110,115,50,'NuVy'+name)\n",
    "NuCC.make_stacked_histo_plot(cut,'Nu_Vz','Reco. Nu vertex Z position [cm]',-20,1020,50,'NuVz'+name)"
   ]
  },
  {
   "cell_type": "code",
   "execution_count": null,
   "metadata": {},
   "outputs": [],
   "source": []
  },
  {
   "cell_type": "code",
   "execution_count": null,
   "metadata": {},
   "outputs": [],
   "source": []
  }
 ],
 "metadata": {
  "kernelspec": {
   "display_name": "Python 2",
   "language": "python",
   "name": "python2"
  },
  "language_info": {
   "codemirror_mode": {
    "name": "ipython",
    "version": 2
   },
   "file_extension": ".py",
   "mimetype": "text/x-python",
   "name": "python",
   "nbconvert_exporter": "python",
   "pygments_lexer": "ipython2",
   "version": "2.7.12"
  }
 },
 "nbformat": 4,
 "nbformat_minor": 2
}
