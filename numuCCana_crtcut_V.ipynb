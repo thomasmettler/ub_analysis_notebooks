{
 "cells": [
  {
   "cell_type": "code",
   "execution_count": 1,
   "metadata": {},
   "outputs": [
    {
     "name": "stdout",
     "output_type": "stream",
     "text": [
      "Welcome to JupyROOT 6.10/08\n"
     ]
    }
   ],
   "source": [
    "import uproot\n",
    "import matplotlib.pyplot as plt\n",
    "import matplotlib.image as mpimg\n",
    "import numpy as np\n",
    "import pandas as pd\n",
    "import os\n",
    "import ROOT\n",
    "import time\n",
    "import math\n",
    "import helpfunction as helper\n",
    "from __future__ import division\n",
    "\n",
    "import collections\n",
    "import NuCC_function as NuCC"
   ]
  },
  {
   "cell_type": "code",
   "execution_count": 2,
   "metadata": {},
   "outputs": [
    {
     "name": "stderr",
     "output_type": "stream",
     "text": [
      "Warning in <TCanvas::Constructor>: Deleting canvas with same name: c1\n"
     ]
    }
   ],
   "source": [
    "# initialte ROOT default canvas\n",
    "ROOT.gStyle.SetOptStat(0)\n",
    "c1 = ROOT.TCanvas(\"c1\",\"c1\",1600,1200)\n",
    "c1.SetGrid(1)\n",
    "c1.SetLeftMargin(0.14)\n",
    "c1.SetRightMargin(0.18)\n",
    "c1.SetBottomMargin(0.14)"
   ]
  },
  {
   "cell_type": "markdown",
   "metadata": {},
   "source": [
    "# CRTinBNB tagger, Overlay or MC"
   ]
  },
  {
   "cell_type": "code",
   "execution_count": 3,
   "metadata": {},
   "outputs": [],
   "source": [
    "# Load input files\n",
    "\n",
    "inputdir = '/home/tmettler/Desktop/ub_data/mcc9.1/v08_00_00_17/'\n",
    "outputdir = inputdir+'NumuCC_crtcut_V/' \n",
    "outputdir_png, outputdir_root = NuCC.prepareOutput(outputdir)\n",
    "\n",
    "filename_overlay = 'NuCCana_overlay_V.root'\n",
    "filename_data = 'NuCCana_data_V.root'\n",
    "filename_ext = 'NuCCana_ext_V.root'\n",
    "filename_dirt = 'NuCCana_dirt_V.root'\n",
    "    \n",
    "tree_name = 'numuCCAna'"
   ]
  },
  {
   "cell_type": "code",
   "execution_count": 4,
   "metadata": {},
   "outputs": [
    {
     "name": "stdout",
     "output_type": "stream",
     "text": [
      "Overlay: Number of Entries:\t966222\n",
      "Data: Number of Entries:\t34835\n",
      "Ext: Number of Entries:\t\t263935\n",
      "Dirt: Number of Entries:\t96465\n",
      "\n",
      "POT: \n",
      "Data:\t\t8.039e+18\n",
      "Ext:\t\t0\n",
      "Overlay:\t1.21058333557e+21\n",
      "Dirt:\t\t2.9866803255e+20\n",
      "\n",
      "Scalefactors: \n",
      "Data:\t\t1.0\n",
      "Ext:\t\t0.0858482195172\n",
      "Overlay:\t0.0066406002493\n",
      "Dirt:\t\t0.0269161715479\n"
     ]
    },
    {
     "name": "stderr",
     "output_type": "stream",
     "text": [
      "Warning in <TClass::Init>: no dictionary for class ROOT::TIOFeatures is available\n"
     ]
    }
   ],
   "source": [
    "#Open all the trees of the four files (data, ext, dirt, overlay)\n",
    "\n",
    "data, ext, dirt, overlay = NuCC.openTrees(inputdir, filename_data, filename_ext, filename_dirt, filename_overlay, tree_name)\n",
    "NuCC.printNumberOfEntries(data,ext,dirt,overlay)\n",
    "\n",
    "pot_overlay = NuCC.getPOT(inputdir,filename_overlay,tree_name)\n",
    "pot_dirt =  NuCC.getPOT(inputdir,filename_dirt,tree_name)\n",
    "\n",
    "pot_data =      8.039e+18 # tor860_wcut\n",
    "data_trigger = 1942081.0 #4743794 # 1987072.0 # E1DCNT_wcut\n",
    "ext_trigger =  22622263.0  #2120135 #5685315 # EXT\n",
    "'''\n",
    "pot_data =     1.25795274297e+18# tor860_wcut\n",
    "data_trigger = 1359818.0*0.4 # E1DCNT\n",
    "ext_trigger =  1359818.0  #2120135 #5685315 # EXT\n",
    "pot_overlay = 1.25795274297e+18/0.5\n",
    "pot_dirt = 1.25795274297e18/0.04\n",
    "'''\n",
    "print 'POT: '\n",
    "print 'Data:\\t\\t', pot_data\n",
    "print 'Ext:\\t\\t', 0\n",
    "print 'Overlay:\\t', pot_overlay\n",
    "print 'Dirt:\\t\\t', pot_dirt\n",
    "print ''\n",
    "sample = [data,ext,overlay,dirt]\n",
    "scale = {data:1.0,ext:1.0,overlay:1.0,dirt:1.0}\n",
    "name = {data:'data',ext:'ext',overlay:'overlay',dirt:'dirt'}\n",
    "\n",
    "scale[data], scale[ext], scale[dirt], scale[overlay] = NuCC.calculateScale(data_trigger, ext_trigger, pot_data, pot_dirt, pot_overlay)\n",
    "\n",
    "print 'Scalefactors: '\n",
    "print 'Data:\\t\\t', scale[data]\n",
    "print 'Ext:\\t\\t', scale[ext]\n",
    "print 'Overlay:\\t', scale[overlay]\n",
    "print 'Dirt:\\t\\t', scale[dirt]\n"
   ]
  },
  {
   "cell_type": "code",
   "execution_count": 5,
   "metadata": {},
   "outputs": [],
   "source": [
    "# Define signals\n",
    "\n",
    "fidVol = '(Nu_Vx>(-1.55+10) && Nu_Vx<(254.8-10)) && (Nu_Vy>(-115.53+10) && Nu_Vy<(117.47-10)) &&(Nu_Vz>(-0.1+10) && Nu_Vz<(1036.9-50))'\n",
    "MCfidVol = '(MCNu_Vx>(-1.55+10) && MCNu_Vx<(254.8-10)) && (MCNu_Vy>(-115.53+10) && MCNu_Vy<(117.47-10)) &&(MCNu_Vz>(-0.1+10) && MCNu_Vz<(1036.9-50))'\n",
    "numu_signal = 'fidVol && MCfidVol && MCNu_CCNC==0 && MCNu_PDG==14 && MCle_PDG==13 && MCle_purity>0.5' # numu CC signal definition\n",
    "numu_nomu = 'fidVol && MCfidVol && MCNu_CCNC==0 && MCNu_PDG==14 && MCle_PDG!=13 && MCle_purity>0.5' # not an MC muon\n",
    "numu_lowpur = 'fidVol && MCfidVol && MCNu_CCNC==0 && MCNu_PDG==14 && MCle_purity<0.5' #low purity\n",
    "numu_nc = 'fidVol && MCfidVol && MCNu_CCNC==1' # nutral current\n",
    "numu_ov = 'fidVol && !MCfidVol' # out of fiducial\n",
    "numu_other = 'fidVol && MCfidVol && MCNu_CCNC==0 && MCNu_PDG!=14' # e.g anti nu or nue\n",
    "#signal = 'MCfidVol && MCNu_CCNC==0 && MCNu_PDG==14'\n",
    "for x in sample:\n",
    "    x.SetAlias('muon','(muon_candidate_key==track_key)')\n",
    "    \n",
    "num_fidVol = {}\n",
    "for x in sample:\n",
    "    x.SetAlias('fidVol',fidVol)\n",
    "    x.SetAlias('MCfidVol',MCfidVol)\n",
    "    x.SetAlias('numu_signal',numu_signal)\n",
    "    x.SetAlias('numu_nomu',numu_nomu)\n",
    "    x.SetAlias('numu_lowpur',numu_lowpur)\n",
    "    x.SetAlias('numu_nc',numu_nc)\n",
    "    x.SetAlias('numu_ov',numu_ov)\n",
    "    x.SetAlias('numu_other',numu_other)\n",
    "    num_fidVol[x] = x.GetEntries('fidVol && muon')*scale[x]\n",
    "    \n",
    "tot_num_fidVol = num_fidVol[ext]+num_fidVol[dirt]+num_fidVol[overlay]\n",
    "overlay_signals = {'numu_signal','numu_nomu','numu_lowpur','numu_nc','numu_ov','numu_other'}"
   ]
  },
  {
   "cell_type": "code",
   "execution_count": 6,
   "metadata": {},
   "outputs": [
    {
     "name": "stderr",
     "output_type": "stream",
     "text": [
      "Warning in <TCanvas::Constructor>: Deleting canvas with same name: c1\n"
     ]
    }
   ],
   "source": [
    "# Load the global variables for access of functions\n",
    "\n",
    "NuCC.loadGlobal(data,ext,dirt,overlay,scale,tot_num_fidVol,overlay_signals,sample, name, outputdir_png, outputdir_root)\n",
    "#NuCC.printGlobal()"
   ]
  },
  {
   "cell_type": "code",
   "execution_count": 7,
   "metadata": {},
   "outputs": [],
   "source": [
    "# Print initial efficiency and purity\n",
    "\n",
    "#NuCC.printEff('muon')"
   ]
  },
  {
   "cell_type": "code",
   "execution_count": 13,
   "metadata": {},
   "outputs": [
    {
     "name": "stderr",
     "output_type": "stream",
     "text": [
      "Warning in <TCanvas::Constructor>: Deleting canvas with same name: c1\n"
     ]
    }
   ],
   "source": [
    "# initialte ROOT default canvas\n",
    "ROOT.gStyle.SetOptStat(0)\n",
    "c1 = ROOT.TCanvas(\"c1\",\"c1\",1600,1200)\n",
    "c1.SetGrid(1)\n",
    "c1.SetLeftMargin(0.14)\n",
    "c1.SetRightMargin(0.18)\n",
    "c1.SetBottomMargin(0.14)"
   ]
  },
  {
   "cell_type": "code",
   "execution_count": 8,
   "metadata": {},
   "outputs": [
    {
     "data": {
      "text/plain": [
       "True"
      ]
     },
     "execution_count": 8,
     "metadata": {},
     "output_type": "execute_result"
    }
   ],
   "source": [
    "# Define CRT cut\n",
    "\n",
    "data.SetAlias(\"crt_cut\",\"(abs(crtt0_time-(69000-crt_trig_corr_med)/1000-4)<1 || crtt0_time==-1)\")\n",
    "ext.SetAlias(\"crt_cut\",\"(abs(crtt0_time-(69000-crt_trig_corr_med)/1000-3.57+3.195-4)<1 || crtt0_time==-1)\")\n",
    "overlay.SetAlias(\"crt_cut\",\"(abs(crtt0_time-4)<1 || crtt0_time==-1)\")\n",
    "dirt.SetAlias(\"crt_cut\",\"(abs(crtt0_time-4)<1 || crtt0_time==-1)\")\n",
    "\n",
    "track_start_border_x = '(TrackStart_x <(-1.55+5) || TrackStart_x > (254.8-5))'\n",
    "track_end_border_x = '(TrackEnd_x <(-1.55+5) || TrackEnd_x > (254.8-5))'\n",
    "track_start_border_y = '(TrackStart_y <(-115.53+5) || TrackStart_y > (117.47-5))'\n",
    "track_end_border_y = '(TrackEnd_y <(-115.53+5) || TrackEnd_y > (117.47-5))'\n",
    "track_start_border_z = '(TrackStart_z <(0.1+5) || TrackStart_z > (1036.9-5))'\n",
    "track_end_border_z = '(TrackEnd_z <(0.1+5) || TrackEnd_z > (1039.9-5))'\n",
    "\n",
    "track_end_uncontained = track_end_border_x + ' || ' + track_end_border_y + ' || ' + track_end_border_z\n",
    "\n",
    "\n",
    "data.SetAlias(\"track_end_uncontained\",track_end_uncontained)\n",
    "ext.SetAlias(\"track_end_uncontained\",track_end_uncontained)\n",
    "overlay.SetAlias(\"track_end_uncontained\",track_end_uncontained)\n",
    "dirt.SetAlias(\"track_end_uncontained\",track_end_uncontained)\n",
    "\n",
    "\n",
    "\n",
    "data.SetAlias(\"crt_cut_test\",\"(crt_cut || !track_end_uncontained)\")\n",
    "ext.SetAlias(\"crt_cut_test\",\"(crt_cut || !track_end_uncontained)\")\n",
    "overlay.SetAlias(\"crt_cut_test\",\"(crt_cut || !track_end_uncontained)\")\n",
    "dirt.SetAlias(\"crt_cut_test\",\"(crt_cut || !track_end_uncontained)\")"
   ]
  },
  {
   "cell_type": "code",
   "execution_count": null,
   "metadata": {},
   "outputs": [],
   "source": []
  },
  {
   "cell_type": "code",
   "execution_count": null,
   "metadata": {},
   "outputs": [],
   "source": []
  },
  {
   "cell_type": "code",
   "execution_count": null,
   "metadata": {},
   "outputs": [],
   "source": []
  },
  {
   "cell_type": "code",
   "execution_count": null,
   "metadata": {},
   "outputs": [],
   "source": []
  },
  {
   "cell_type": "code",
   "execution_count": 9,
   "metadata": {},
   "outputs": [],
   "source": [
    "# Print efficiency with crt cut\n",
    "\n",
    "#NuCC.printEff('crt_cut && muon')\n",
    "\n",
    "#NuCC.printEff('crt_cut_test && muon')"
   ]
  },
  {
   "cell_type": "code",
   "execution_count": 10,
   "metadata": {},
   "outputs": [],
   "source": [
    "#NuCC.printEff('crt_cut')"
   ]
  },
  {
   "cell_type": "code",
   "execution_count": 11,
   "metadata": {},
   "outputs": [
    {
     "data": {
      "text/plain": [
       "\"\\ncut = 'fidVol && muon && crt_cut'\\nname = '_crt'\\n\\nNuCC.make_stacked_histo_plot_flashcorr(cut,'TimFla','Flash_time [us]',2.3,5.9,20,'FlashTime_corr'+name)\\nNuCC.make_stacked_histo_plot_crtcorr(cut,'crthit_ts0','CRT hit time [us]',2.3,5.9,20,'CRTTime_corr'+name)\\n\\nNuCC.make_stacked_histo_plot(cut,'TrackMomMCS_mom','Track momentum [GeV]',0,3,20,'MCSMom'+name)\\nNuCC.make_stacked_histo_plot(cut,'TrackLength','Track length [cm]',0,500,20,'tracklength'+name)\\nNuCC.make_stacked_histo_plot(cut + ' && TrackTheta!=-9','cos(TrackTheta)','cos(theta)',-1,1,20,'costheta'+name)\\nNuCC.make_stacked_histo_plot(cut + ' && TrackTheta!=-9','TrackPhi','Phi on muoncandidate',-3.1416,3.1416,20,'trackphi'+name)\\nNuCC.make_stacked_histo_plot(cut,'NuScore','Total NuScore of event',0,1,20,'NuScore'+name)\\nNuCC.make_stacked_histo_plot(cut,'NuTracks','Number of tracks',0,8,8,'num_track'+name)\\n\\nNuCC.make_stacked_histo_plot(cut,'Nu_Vx','Reco. Nu vertex X position [cm]',0,250,50,'NuVx'+name)\\nNuCC.make_stacked_histo_plot(cut,'Nu_Vy','Reconstructed neutrino vertex Y position [cm]',-110,115,50,'NuVy'+name)\\nNuCC.make_stacked_histo_plot(cut,'Nu_Vz','Reco. Nu vertex Z position [cm]',-20,1020,50,'NuVz'+name)\\n\""
      ]
     },
     "execution_count": 11,
     "metadata": {},
     "output_type": "execute_result"
    }
   ],
   "source": [
    "# generate stacked plots with crt cut\n",
    "'''\n",
    "cut = 'fidVol && muon && crt_cut'\n",
    "name = '_crt'\n",
    "\n",
    "NuCC.make_stacked_histo_plot_flashcorr(cut,'TimFla','Flash_time [us]',2.3,5.9,20,'FlashTime_corr'+name)\n",
    "NuCC.make_stacked_histo_plot_crtcorr(cut,'crthit_ts0','CRT hit time [us]',2.3,5.9,20,'CRTTime_corr'+name)\n",
    "\n",
    "NuCC.make_stacked_histo_plot(cut,'TrackMomMCS_mom','Track momentum [GeV]',0,3,20,'MCSMom'+name)\n",
    "NuCC.make_stacked_histo_plot(cut,'TrackLength','Track length [cm]',0,500,20,'tracklength'+name)\n",
    "NuCC.make_stacked_histo_plot(cut + ' && TrackTheta!=-9','cos(TrackTheta)','cos(theta)',-1,1,20,'costheta'+name)\n",
    "NuCC.make_stacked_histo_plot(cut + ' && TrackTheta!=-9','TrackPhi','Phi on muoncandidate',-3.1416,3.1416,20,'trackphi'+name)\n",
    "NuCC.make_stacked_histo_plot(cut,'NuScore','Total NuScore of event',0,1,20,'NuScore'+name)\n",
    "NuCC.make_stacked_histo_plot(cut,'NuTracks','Number of tracks',0,8,8,'num_track'+name)\n",
    "\n",
    "NuCC.make_stacked_histo_plot(cut,'Nu_Vx','Reco. Nu vertex X position [cm]',0,250,50,'NuVx'+name)\n",
    "NuCC.make_stacked_histo_plot(cut,'Nu_Vy','Reconstructed neutrino vertex Y position [cm]',-110,115,50,'NuVy'+name)\n",
    "NuCC.make_stacked_histo_plot(cut,'Nu_Vz','Reco. Nu vertex Z position [cm]',-20,1020,50,'NuVz'+name)\n",
    "'''"
   ]
  },
  {
   "cell_type": "code",
   "execution_count": 27,
   "metadata": {},
   "outputs": [
    {
     "name": "stdout",
     "output_type": "stream",
     "text": [
      "Efficiency:\t96.46%\n",
      "Purity:\t\t33.36%\n"
     ]
    }
   ],
   "source": []
  },
  {
   "cell_type": "code",
   "execution_count": 32,
   "metadata": {},
   "outputs": [
    {
     "name": "stdout",
     "output_type": "stream",
     "text": [
      "Efficiency:\t99.31%\n",
      "Purity:\t\t31.46%\n"
     ]
    },
    {
     "name": "stderr",
     "output_type": "stream",
     "text": [
      "Warning in <TROOT::Append>: Replacing existing TH1: h_init_eff_energy (Potential memory leak).\n",
      "Warning in <TROOT::Append>: Replacing existing TH1: h_init_eff_energy_1 (Potential memory leak).\n",
      "Info in <TCanvas::Print>: png file /home/tmettler/Desktop/ub_data/mcc9.1/v08_00_00_17/NumuCC_crtcut_V//png/h_eff_energy_crtAll.png has been created\n",
      "Info in <TCanvas::SaveAs>: ROOT file /home/tmettler/Desktop/ub_data/mcc9.1/v08_00_00_17/NumuCC_crtcut_V//root/h_eff_energy_crtAll.root has been created\n",
      "Warning in <TROOT::Append>: Replacing existing TH1: h_init_eff_theta (Potential memory leak).\n",
      "Warning in <TROOT::Append>: Replacing existing TH1: h_init_eff_theta_1 (Potential memory leak).\n",
      "Info in <TCanvas::Print>: png file /home/tmettler/Desktop/ub_data/mcc9.1/v08_00_00_17/NumuCC_crtcut_V//png/h_eff_theta_crtAll.png has been created\n",
      "Info in <TCanvas::SaveAs>: ROOT file /home/tmettler/Desktop/ub_data/mcc9.1/v08_00_00_17/NumuCC_crtcut_V//root/h_eff_theta_crtAll.root has been created\n",
      "Warning in <TROOT::Append>: Replacing existing TH1: h_init_eff_phi (Potential memory leak).\n",
      "Warning in <TROOT::Append>: Replacing existing TH1: h_init_eff_phi_1 (Potential memory leak).\n",
      "Info in <TCanvas::Print>: png file /home/tmettler/Desktop/ub_data/mcc9.1/v08_00_00_17/NumuCC_crtcut_V//png/h_eff_phi_crtAll.png has been created\n",
      "Info in <TCanvas::SaveAs>: ROOT file /home/tmettler/Desktop/ub_data/mcc9.1/v08_00_00_17/NumuCC_crtcut_V//root/h_eff_phi_crtAll.root has been created\n",
      "Warning in <TROOT::Append>: Replacing existing TH1: h_init_eff_V (Potential memory leak).\n",
      "Warning in <TROOT::Append>: Replacing existing TH1: h_init_eff_V_1 (Potential memory leak).\n",
      "Info in <TCanvas::Print>: png file /home/tmettler/Desktop/ub_data/mcc9.1/v08_00_00_17/NumuCC_crtcut_V//png/h_eff_Vx_crtAll.png has been created\n",
      "Info in <TCanvas::SaveAs>: ROOT file /home/tmettler/Desktop/ub_data/mcc9.1/v08_00_00_17/NumuCC_crtcut_V//root/h_eff_Vx_crtAll.root has been created\n",
      "Warning in <TROOT::Append>: Replacing existing TH1: h_init_eff_V (Potential memory leak).\n",
      "Warning in <TROOT::Append>: Replacing existing TH1: h_init_eff_V_1 (Potential memory leak).\n",
      "Info in <TCanvas::Print>: png file /home/tmettler/Desktop/ub_data/mcc9.1/v08_00_00_17/NumuCC_crtcut_V//png/h_eff_Vy_crtAll.png has been created\n",
      "Info in <TCanvas::SaveAs>: ROOT file /home/tmettler/Desktop/ub_data/mcc9.1/v08_00_00_17/NumuCC_crtcut_V//root/h_eff_Vy_crtAll.root has been created\n",
      "Warning in <TROOT::Append>: Replacing existing TH1: h_init_eff_V (Potential memory leak).\n",
      "Warning in <TROOT::Append>: Replacing existing TH1: h_init_eff_V_1 (Potential memory leak).\n",
      "Info in <TCanvas::Print>: png file /home/tmettler/Desktop/ub_data/mcc9.1/v08_00_00_17/NumuCC_crtcut_V//png/h_eff_Vz_crtAll.png has been created\n",
      "Info in <TCanvas::SaveAs>: ROOT file /home/tmettler/Desktop/ub_data/mcc9.1/v08_00_00_17/NumuCC_crtcut_V//root/h_eff_Vz_crtAll.root has been created\n"
     ]
    },
    {
     "data": {
      "image/png": "[encoded data removed]",
      "text/plain": [
       "<IPython.core.display.Image object>"
      ]
     },
     "metadata": {},
     "output_type": "display_data"
    }
   ],
   "source": [
    "xstart = 0\n",
    "xend = 8\n",
    "xbin = 100\n",
    "\n",
    "nenner_cut = \"numu_signal && fidVol && TrackScore>-2\"\n",
    "zahler_cut = \"numu_signal && fidVol && crt_cut\"\n",
    "cut = 'fidVol && crt_cut'\n",
    "\n",
    "efficiency = overlay.GetEntries(zahler_cut)*100.0/overlay.GetEntries(nenner_cut)\n",
    "purity = overlay.GetEntries(cut+' && numu_signal')*scale[overlay]*100/NuCC.getTotNum(cut)\n",
    "\n",
    "print 'Efficiency:\\t{0:0.2f}%'.format(efficiency)\n",
    "print 'Purity:\\t\\t{0:0.2f}%'.format(  purity)\n",
    "\n",
    "\n",
    "name = '_crtAll'\n",
    "title = 'After CRT cut:'\n",
    "title = title+' Eff/Pur={0:0.2f}%'.format( efficiency)+'/{0:0.2f}%'.format(purity)\n",
    "\n",
    "h_init_eff_energy = ROOT.TH1F(\"h_init_eff_energy\",title,xbin,xstart,xend)\n",
    "h_init_eff_energy_1 = ROOT.TH1F(\"h_init_eff_energy_1\",title,xbin,xstart,xend)\n",
    "overlay.Draw('MCNu_Energy>>h_init_eff_energy',zahler_cut)\n",
    "overlay.Draw('MCNu_Energy>>h_init_eff_energy_1',nenner_cut)\n",
    "h_init_eff_energy_1.Sumw2()\n",
    "h_init_eff_energy.Divide(h_init_eff_energy_1)\n",
    "h_init_eff_energy.Scale(100)\n",
    "h_init_eff_energy.SetMaximum(100)\n",
    "h_init_eff_energy.SetMinimum(0)\n",
    "h_init_eff_energy.SetXTitle(\"Truth enutrino energy [GeV]\")\n",
    "h_init_eff_energy.SetYTitle(\"Signal efficiency [%]\")\n",
    "h_init_eff_energy.Draw(\"E\")\n",
    "c1.Draw()\n",
    "c1.SaveAs(outputdir_png + \"h_eff_energy\"+name+\".png\")\n",
    "c1.SaveAs(outputdir_root + \"h_eff_energy\"+name+\".root\")\n",
    "\n",
    "\n",
    "xstart = -1\n",
    "xend = 1\n",
    "xbin = 100\n",
    "h_init_eff_theta = ROOT.TH1F(\"h_init_eff_theta\",title,xbin,xstart,xend)\n",
    "h_init_eff_theta_1 = ROOT.TH1F(\"h_init_eff_theta_1\",title,xbin,xstart,xend)\n",
    "overlay.Draw('cos(MCNu_leptonTheta)>>h_init_eff_theta',zahler_cut)\n",
    "overlay.Draw('cos(MCNu_leptonTheta)>>h_init_eff_theta_1',nenner_cut)\n",
    "h_init_eff_theta_1.Sumw2()\n",
    "h_init_eff_theta.Divide(h_init_eff_theta_1)\n",
    "h_init_eff_theta.Scale(100)\n",
    "h_init_eff_theta.SetMaximum(100)\n",
    "h_init_eff_theta.SetMinimum(0)\n",
    "h_init_eff_theta.SetXTitle(\"Truth neutrino cos(theta)\")\n",
    "h_init_eff_theta.SetYTitle(\"Signal efficiency [%]\")\n",
    "h_init_eff_theta.Draw(\"E\")\n",
    "c1.Draw()\n",
    "c1.SaveAs(outputdir_png + \"h_eff_theta\"+name+\".png\")\n",
    "c1.SaveAs(outputdir_root + \"h_eff_theta\"+name+\".root\")\n",
    "\n",
    "xstart = -3.14159\n",
    "xend = 3.14159\n",
    "xbin = 100\n",
    "h_init_eff_phi = ROOT.TH1F(\"h_init_eff_phi\",title,xbin,xstart,xend)\n",
    "h_init_eff_phi_1 = ROOT.TH1F(\"h_init_eff_phi_1\",title,xbin,xstart,xend)\n",
    "overlay.Draw('TrackPhi>>h_init_eff_phi',zahler_cut)\n",
    "overlay.Draw('TrackPhi>>h_init_eff_phi_1',nenner_cut)\n",
    "h_init_eff_phi_1.Sumw2()\n",
    "h_init_eff_phi.Divide(h_init_eff_phi_1)\n",
    "h_init_eff_phi.Scale(100)\n",
    "h_init_eff_phi.SetMaximum(100)\n",
    "h_init_eff_phi.SetMinimum(0)\n",
    "h_init_eff_phi.SetXTitle(\"Reco neutrino phi [pi]\")\n",
    "h_init_eff_phi.SetYTitle(\"Signal efficiency [%]\")\n",
    "h_init_eff_phi.Draw(\"e\")\n",
    "c1.Draw()\n",
    "c1.SaveAs(outputdir_png + \"h_eff_phi\"+name+\".png\")\n",
    "c1.SaveAs(outputdir_root + \"h_eff_phi\"+name+\".root\")\n",
    "\n",
    "xstart = -50\n",
    "xend = 300\n",
    "xbin = 100\n",
    "h_init_eff_V = ROOT.TH1F(\"h_init_eff_V\",title,xbin,xstart,xend)\n",
    "h_init_eff_V_1 = ROOT.TH1F(\"h_init_eff_V_1\",title,xbin,xstart,xend)\n",
    "overlay.Draw('MCNu_Vx>>h_init_eff_V',zahler_cut)\n",
    "overlay.Draw('MCNu_Vx>>h_init_eff_V_1',nenner_cut)\n",
    "h_init_eff_V_1.Sumw2()\n",
    "h_init_eff_V.Divide(h_init_eff_V_1)\n",
    "h_init_eff_V.Scale(100)\n",
    "h_init_eff_V.SetMaximum(100)\n",
    "h_init_eff_V.SetMinimum(0)\n",
    "h_init_eff_V.SetXTitle(\"Truth nu vertex X [cm]\")\n",
    "h_init_eff_V.SetYTitle(\"Signal efficiency [%]\")\n",
    "h_init_eff_V.Draw(\"e\")\n",
    "c1.Draw()\n",
    "c1.SaveAs(outputdir_png + \"h_eff_Vx\"+name+\".png\")\n",
    "c1.SaveAs(outputdir_root + \"h_eff_Vx\"+name+\".root\")\n",
    "\n",
    "xstart = -150\n",
    "xend = 150\n",
    "xbin = 100\n",
    "h_init_eff_V = ROOT.TH1F(\"h_init_eff_V\",title,xbin,xstart,xend)\n",
    "h_init_eff_V_1 = ROOT.TH1F(\"h_init_eff_V_1\",title,xbin,xstart,xend)\n",
    "overlay.Draw('MCNu_Vy>>h_init_eff_V',zahler_cut)\n",
    "overlay.Draw('MCNu_Vy>>h_init_eff_V_1',nenner_cut)\n",
    "h_init_eff_V_1.Sumw2()\n",
    "h_init_eff_V.Divide(h_init_eff_V_1)\n",
    "h_init_eff_V.Scale(100)\n",
    "h_init_eff_V.SetMaximum(100)\n",
    "h_init_eff_V.SetMinimum(0)\n",
    "h_init_eff_V.SetXTitle(\"Truth nu vertex Y [cm]\")\n",
    "h_init_eff_V.SetYTitle(\"Signal efficiency [%]\")\n",
    "h_init_eff_V.Draw(\"e\")\n",
    "c1.Draw()\n",
    "c1.SaveAs(outputdir_png + \"h_eff_Vy\"+name+\".png\")\n",
    "c1.SaveAs(outputdir_root + \"h_eff_Vy\"+name+\".root\")\n",
    "\n",
    "xstart = -50\n",
    "xend = 1050\n",
    "xbin = 100\n",
    "h_init_eff_V = ROOT.TH1F(\"h_init_eff_V\",title,xbin,xstart,xend)\n",
    "h_init_eff_V_1 = ROOT.TH1F(\"h_init_eff_V_1\",title,xbin,xstart,xend)\n",
    "overlay.Draw('MCNu_Vz>>h_init_eff_V',zahler_cut)\n",
    "overlay.Draw('MCNu_Vz>>h_init_eff_V_1',nenner_cut)\n",
    "h_init_eff_V_1.Sumw2()\n",
    "h_init_eff_V.Divide(h_init_eff_V_1)\n",
    "h_init_eff_V.Scale(100)\n",
    "h_init_eff_V.SetMaximum(100)\n",
    "h_init_eff_V.SetMinimum(0)\n",
    "h_init_eff_V.SetXTitle(\"Truth nu vertex Z [cm]\")\n",
    "h_init_eff_V.SetYTitle(\"Signal efficiency [%]\")\n",
    "h_init_eff_V.Draw(\"e\")\n",
    "c1.Draw()\n",
    "c1.SaveAs(outputdir_png + \"h_eff_Vz\"+name+\".png\")\n",
    "c1.SaveAs(outputdir_root + \"h_eff_Vz\"+name+\".root\")\n",
    "\n"
   ]
  },
  {
   "cell_type": "code",
   "execution_count": null,
   "metadata": {},
   "outputs": [],
   "source": []
  },
  {
   "cell_type": "code",
   "execution_count": null,
   "metadata": {},
   "outputs": [],
   "source": []
  },
  {
   "cell_type": "code",
   "execution_count": null,
   "metadata": {},
   "outputs": [],
   "source": []
  },
  {
   "cell_type": "code",
   "execution_count": null,
   "metadata": {},
   "outputs": [],
   "source": []
  },
  {
   "cell_type": "code",
   "execution_count": null,
   "metadata": {},
   "outputs": [],
   "source": []
  },
  {
   "cell_type": "code",
   "execution_count": null,
   "metadata": {},
   "outputs": [],
   "source": []
  },
  {
   "cell_type": "code",
   "execution_count": null,
   "metadata": {},
   "outputs": [],
   "source": []
  }
 ],
 "metadata": {
  "kernelspec": {
   "display_name": "Python 2",
   "language": "python",
   "name": "python2"
  },
  "language_info": {
   "codemirror_mode": {
    "name": "ipython",
    "version": 2
   },
   "file_extension": ".py",
   "mimetype": "text/x-python",
   "name": "python",
   "nbconvert_exporter": "python",
   "pygments_lexer": "ipython2",
   "version": "2.7.12"
  }
 },
 "nbformat": 4,
 "nbformat_minor": 2
}
