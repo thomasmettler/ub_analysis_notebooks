{
 "cells": [
  {
   "cell_type": "code",
   "execution_count": 1,
   "metadata": {},
   "outputs": [
    {
     "name": "stdout",
     "output_type": "stream",
     "text": [
      "Welcome to JupyROOT 6.10/08\n"
     ]
    }
   ],
   "source": [
    "import uproot\n",
    "import matplotlib.pyplot as plt\n",
    "import matplotlib.image as mpimg\n",
    "import numpy as np\n",
    "import pandas as pd\n",
    "import os\n",
    "import ROOT\n",
    "import time\n",
    "import math\n",
    "import helpfunction as helper\n",
    "from __future__ import division\n",
    "\n",
    "import collections\n",
    "import NuCC_function as NuCC"
   ]
  },
  {
   "cell_type": "code",
   "execution_count": 2,
   "metadata": {},
   "outputs": [
    {
     "name": "stderr",
     "output_type": "stream",
     "text": [
      "Warning in <TCanvas::Constructor>: Deleting canvas with same name: c1\n"
     ]
    }
   ],
   "source": [
    "# initialte ROOT default canvas\n",
    "ROOT.gStyle.SetOptStat(0)\n",
    "c1 = ROOT.TCanvas(\"c1\",\"c1\",1600,1200)\n",
    "c1.SetGrid(1)\n",
    "c1.SetLeftMargin(0.14)\n",
    "c1.SetRightMargin(0.18)\n",
    "c1.SetBottomMargin(0.14)"
   ]
  },
  {
   "cell_type": "markdown",
   "metadata": {},
   "source": [
    "# CRTinBNB tagger, Overlay or MC"
   ]
  },
  {
   "cell_type": "code",
   "execution_count": 3,
   "metadata": {},
   "outputs": [],
   "source": [
    "# Load input files\n",
    "\n",
    "inputdir = '/home/tmettler/Desktop/ub_data/mcc9.1/v08_00_00_17/'\n",
    "outputdir = inputdir+'NumuCC_crtcut_V/' \n",
    "outputdir_png, outputdir_root = NuCC.prepareOutput(outputdir)\n",
    "\n",
    "filename_overlay = 'NuCCana_overlay_V.root'\n",
    "filename_data = 'NuCCana_data_V.root'\n",
    "filename_ext = 'NuCCana_ext_V.root'\n",
    "filename_dirt = 'NuCCana_dirt_V.root'\n",
    "    \n",
    "tree_name = 'numuCCAna'"
   ]
  },
  {
   "cell_type": "code",
   "execution_count": 4,
   "metadata": {},
   "outputs": [
    {
     "name": "stdout",
     "output_type": "stream",
     "text": [
      "Overlay: Number of Entries:\t966222\n",
      "Data: Number of Entries:\t34835\n",
      "Ext: Number of Entries:\t\t263935\n",
      "Dirt: Number of Entries:\t96465\n",
      "\n",
      "POT: \n",
      "Data:\t\t8.039e+18\n",
      "Ext:\t\t0\n",
      "Overlay:\t1.21058333557e+21\n",
      "Dirt:\t\t2.9866803255e+20\n",
      "\n",
      "Scalefactors: \n",
      "Data:\t\t1.0\n",
      "Ext:\t\t0.0858482195172\n",
      "Overlay:\t0.00863278032409\n",
      "Dirt:\t\t0.0349910230123\n"
     ]
    },
    {
     "name": "stderr",
     "output_type": "stream",
     "text": [
      "Warning in <TClass::Init>: no dictionary for class ROOT::TIOFeatures is available\n"
     ]
    }
   ],
   "source": [
    "#Open all the trees of the four files (data, ext, dirt, overlay)\n",
    "\n",
    "data, ext, dirt, overlay = NuCC.openTrees(inputdir, filename_data, filename_ext, filename_dirt, filename_overlay, tree_name)\n",
    "NuCC.printNumberOfEntries(data,ext,dirt,overlay)\n",
    "\n",
    "pot_overlay = NuCC.getPOT(inputdir,filename_overlay,tree_name)\n",
    "pot_dirt =  NuCC.getPOT(inputdir,filename_dirt,tree_name)\n",
    "\n",
    "pot_data =      8.039e+18 # tor860_wcut\n",
    "data_trigger = 1942081.0 #4743794 # 1987072.0 # E1DCNT_wcut\n",
    "ext_trigger =  22622263.0  #2120135 #5685315 # EXT\n",
    "'''\n",
    "pot_data =     1.25795274297e+18# tor860_wcut\n",
    "data_trigger = 1359818.0*0.4 # E1DCNT\n",
    "ext_trigger =  1359818.0  #2120135 #5685315 # EXT\n",
    "pot_overlay = 1.25795274297e+18/0.5\n",
    "pot_dirt = 1.25795274297e18/0.04\n",
    "'''\n",
    "print 'POT: '\n",
    "print 'Data:\\t\\t', pot_data\n",
    "print 'Ext:\\t\\t', 0\n",
    "print 'Overlay:\\t', pot_overlay\n",
    "print 'Dirt:\\t\\t', pot_dirt\n",
    "print ''\n",
    "sample = [data,ext,overlay,dirt]\n",
    "scale = {data:1.0,ext:1.0,overlay:1.0,dirt:1.0}\n",
    "name = {data:'data',ext:'ext',overlay:'overlay',dirt:'dirt'}\n",
    "\n",
    "scale[data], scale[ext], scale[dirt], scale[overlay] = NuCC.calculateScale(data_trigger, ext_trigger, pot_data, pot_dirt, pot_overlay)\n",
    "\n",
    "scale[dirt] = scale[dirt]*1.3\n",
    "scale[overlay] = scale[overlay]*1.3\n",
    "\n",
    "print 'Scalefactors: '\n",
    "print 'Data:\\t\\t', scale[data]\n",
    "print 'Ext:\\t\\t', scale[ext]\n",
    "print 'Overlay:\\t', scale[overlay]\n",
    "print 'Dirt:\\t\\t', scale[dirt]\n"
   ]
  },
  {
   "cell_type": "code",
   "execution_count": 5,
   "metadata": {},
   "outputs": [
    {
     "name": "stdout",
     "output_type": "stream",
     "text": [
      "Overlay: Number of Entries:\t966221\n",
      "Data: Number of Entries:\t34834\n",
      "Ext: Number of Entries:\t\t263934\n",
      "Dirt: Number of Entries:\t96464\n",
      "\n"
     ]
    }
   ],
   "source": [
    "if 1:\n",
    "    filename_overlay = 'NuCCana_overlay_V.rootout.root'\n",
    "    filename_data = 'NuCCana_data_V.rootout.root'\n",
    "    filename_ext = 'NuCCana_ext_V.rootout.root'\n",
    "    filename_dirt = 'NuCCana_dirt_V.rootout.root'\n",
    "\n",
    "    tree_name = 't_out'\n",
    "\n",
    "    data, ext, dirt, overlay = NuCC.openTreesOut(inputdir, filename_data, filename_ext, filename_dirt, filename_overlay, tree_name)\n",
    "    NuCC.printNumberOfEntries(data,ext,dirt,overlay)\n",
    "\n",
    "    sample = [data,ext,overlay,dirt]\n",
    "    scale = {data:1.0,ext:1.0,overlay:1.0,dirt:1.0}\n",
    "    name = {data:'data',ext:'ext',overlay:'overlay',dirt:'dirt'}\n",
    "\n",
    "    scale[data], scale[ext], scale[dirt], scale[overlay] = NuCC.calculateScale(data_trigger, ext_trigger, pot_data, pot_dirt, pot_overlay)\n",
    "    scale[dirt] = scale[dirt]*1.3\n",
    "    scale[overlay] = scale[overlay]*1.3\n"
   ]
  },
  {
   "cell_type": "code",
   "execution_count": 6,
   "metadata": {},
   "outputs": [],
   "source": [
    "# Define signals\n",
    "\n",
    "fidVol = '(Nu_Vx>(-1.55+10) && Nu_Vx<(254.8-10)) && (Nu_Vy>(-115.53+10) && Nu_Vy<(117.47-10)) &&(Nu_Vz>(-0.1+10) && Nu_Vz<(1036.9-50))'\n",
    "MCfidVol = '(MCNu_Vx>(-1.55+10) && MCNu_Vx<(254.8-10)) && (MCNu_Vy>(-115.53+10) && MCNu_Vy<(117.47-10)) &&(MCNu_Vz>(-0.1+10) && MCNu_Vz<(1036.9-50))'\n",
    "numu_signal = 'fidVol && MCfidVol && MCNu_CCNC==0 && MCNu_PDG==14 && MCle_PDG==13 && MCle_purity>0.5' # numu CC signal definition\n",
    "numu_nomu = 'fidVol && MCfidVol && MCNu_CCNC==0 && MCNu_PDG==14 && MCle_PDG!=13 && MCle_purity>0.5' # not an MC muon\n",
    "numu_lowpur = 'fidVol && MCfidVol && MCNu_CCNC==0 && MCNu_PDG==14 && MCle_purity<0.5' #low purity\n",
    "numu_nc = 'fidVol && MCfidVol && MCNu_CCNC==1' # nutral current\n",
    "numu_ov = 'fidVol && !MCfidVol' # out of fiducial\n",
    "numu_other = 'fidVol && MCfidVol && MCNu_CCNC==0 && MCNu_PDG!=14' # e.g anti nu or nue\n",
    "#signal = 'MCfidVol && MCNu_CCNC==0 && MCNu_PDG==14'\n",
    "for x in sample:\n",
    "    x.SetAlias('muon','(muon_candidate_key==track_key)')\n",
    "    \n",
    "num_fidVol = {}\n",
    "for x in sample:\n",
    "    x.SetAlias('fidVol',fidVol)\n",
    "    x.SetAlias('MCfidVol',MCfidVol)\n",
    "    x.SetAlias('numu_signal',numu_signal)\n",
    "    x.SetAlias('numu_nomu',numu_nomu)\n",
    "    x.SetAlias('numu_lowpur',numu_lowpur)\n",
    "    x.SetAlias('numu_nc',numu_nc)\n",
    "    x.SetAlias('numu_ov',numu_ov)\n",
    "    x.SetAlias('numu_other',numu_other)\n",
    "    num_fidVol[x] = x.GetEntries('fidVol && muon')*scale[x]\n",
    "    \n",
    "tot_num_fidVol = num_fidVol[ext]+num_fidVol[dirt]+num_fidVol[overlay]\n",
    "overlay_signals = {'numu_signal','numu_nomu','numu_lowpur','numu_nc','numu_ov','numu_other'}"
   ]
  },
  {
   "cell_type": "code",
   "execution_count": 7,
   "metadata": {},
   "outputs": [
    {
     "name": "stderr",
     "output_type": "stream",
     "text": [
      "Warning in <TCanvas::Constructor>: Deleting canvas with same name: c1\n"
     ]
    }
   ],
   "source": [
    "# Load the global variables for access of functions\n",
    "\n",
    "NuCC.loadGlobal(data,ext,dirt,overlay,scale,tot_num_fidVol,overlay_signals,sample, name, outputdir_png, outputdir_root)\n",
    "#NuCC.printGlobal()"
   ]
  },
  {
   "cell_type": "code",
   "execution_count": 8,
   "metadata": {},
   "outputs": [],
   "source": [
    "# Print initial efficiency and purity\n",
    "\n",
    "#NuCC.printEff('muon')"
   ]
  },
  {
   "cell_type": "code",
   "execution_count": 9,
   "metadata": {},
   "outputs": [],
   "source": [
    "# initialte ROOT default canvas\n",
    "ROOT.gStyle.SetOptStat(0)\n",
    "c1 = ROOT.TCanvas(\"c1\",\"c1\",1600,1200)\n",
    "c1.SetGrid(1)\n",
    "c1.SetLeftMargin(0.14)\n",
    "c1.SetRightMargin(0.18)\n",
    "c1.SetBottomMargin(0.14)"
   ]
  },
  {
   "cell_type": "code",
   "execution_count": 10,
   "metadata": {},
   "outputs": [
    {
     "data": {
      "text/plain": [
       "True"
      ]
     },
     "execution_count": 10,
     "metadata": {},
     "output_type": "execute_result"
    }
   ],
   "source": [
    "# Define CRT cut\n",
    "\n",
    "data.SetAlias(\"crt_cut\",\"(abs(crtt0_time-(69000-crt_trig_corr_med)/1000-4)<0.8 || crtt0_time==-1)\")\n",
    "ext.SetAlias(\"crt_cut\",\"(abs(crtt0_time-(69000-crt_trig_corr_med)/1000-3.57+3.195-4)<0.8 || crtt0_time==-1)\")\n",
    "overlay.SetAlias(\"crt_cut\",\"(abs(crtt0_time-4)<0.8 || crtt0_time==-1)\")\n",
    "dirt.SetAlias(\"crt_cut\",\"(abs(crtt0_time-4)<0.8 || crtt0_time==-1)\")\n",
    "\n",
    "track_start_border_x = '(TrackStart_x <(-1.55+5) || TrackStart_x > (254.8-5))'\n",
    "track_end_border_x = '(TrackEnd_x <(-1.55+5) || TrackEnd_x > (254.8-5))'\n",
    "track_start_border_y = '(TrackStart_y <(-115.53+5) || TrackStart_y > (117.47-5))'\n",
    "track_end_border_y = '(TrackEnd_y <(-115.53+5) || TrackEnd_y > (117.47-5))'\n",
    "track_start_border_z = '(TrackStart_z <(0.1+5) || TrackStart_z > (1036.9-5))'\n",
    "track_end_border_z = '(TrackEnd_z <(0.1+5) || TrackEnd_z > (1039.9-5))'\n",
    "\n",
    "track_end_uncontained = track_end_border_x + ' || ' + track_end_border_y + ' || ' + track_end_border_z\n",
    "\n",
    "\n",
    "data.SetAlias(\"track_end_uncontained\",track_end_uncontained)\n",
    "ext.SetAlias(\"track_end_uncontained\",track_end_uncontained)\n",
    "overlay.SetAlias(\"track_end_uncontained\",track_end_uncontained)\n",
    "dirt.SetAlias(\"track_end_uncontained\",track_end_uncontained)\n",
    "\n"
   ]
  },
  {
   "cell_type": "code",
   "execution_count": 11,
   "metadata": {},
   "outputs": [
    {
     "name": "stdout",
     "output_type": "stream",
     "text": [
      "Rejection on each sample:\n",
      "Keep of    data:\t100.00%\t reject:\t0.00%\n",
      "Keep of     ext:\t100.00%\t reject:\t0.00%\n",
      "Keep of overlay:\t100.00%\t reject:\t0.00%\n",
      "Keep of    dirt:\t100.00%\t reject:\t0.00%\n",
      "\n",
      "Efficiency:\t\t100.00%\n",
      "Purity:\t\t\t33.35%\n",
      "Purity*Efficiency\t33.35\n",
      "\n",
      "Amount of    data:\t107.74%\n",
      "Amount of     ext:\t37.00%\n",
      "Amount of overlay:\t57.91%\n",
      "Amount of    dirt:\t5.09%\n",
      "\n",
      "Signal definition=  numu_lowpur: 2.10%\t(3.63%)\n",
      "Signal definition=   numu_other: 0.48%\t(0.83%)\n",
      "Signal definition=    numu_nomu: 4.34%\t(7.50%)\n",
      "Signal definition=      numu_ov: 10.79%\t(18.64%)\n",
      "Signal definition=  numu_signal: 33.35%\t(57.58%)\n",
      "Signal definition=      numu_nc: 6.83%\t(11.80%)\n"
     ]
    }
   ],
   "source": [
    "NuCC.printEff('fidVol && muon')"
   ]
  },
  {
   "cell_type": "code",
   "execution_count": 24,
   "metadata": {},
   "outputs": [
    {
     "name": "stderr",
     "output_type": "stream",
     "text": [
      "Warning in <TCanvas::Constructor>: Deleting canvas with same name: c1\n",
      "Info in <TCanvas::Print>: png file /home/tmettler/Desktop/ub_data/mcc9.1/v08_00_00_17/NumuCC_crtcut_V//png/CRTTime_corr.png has been created\n",
      "Info in <TCanvas::SaveAs>: ROOT file /home/tmettler/Desktop/ub_data/mcc9.1/v08_00_00_17/NumuCC_crtcut_V//root/CRTTime_corr.root has been created\n",
      "Warning in <TROOT::Append>: Replacing existing TH1: h_ext_func (Potential memory leak).\n",
      "Warning in <TROOT::Append>: Replacing existing TH1: h_dirt_func (Potential memory leak).\n",
      "Warning in <TROOT::Append>: Replacing existing TH1: numu_lowpur (Potential memory leak).\n",
      "Warning in <TROOT::Append>: Replacing existing TH1: numu_other (Potential memory leak).\n",
      "Warning in <TROOT::Append>: Replacing existing TH1: numu_nomu (Potential memory leak).\n",
      "Warning in <TROOT::Append>: Replacing existing TH1: numu_ov (Potential memory leak).\n",
      "Warning in <TROOT::Append>: Replacing existing TH1: numu_signal (Potential memory leak).\n",
      "Warning in <TROOT::Append>: Replacing existing TH1: numu_nc (Potential memory leak).\n",
      "Warning in <TCanvas::Constructor>: Deleting canvas with same name: c1\n",
      "Info in <TCanvas::Print>: png file /home/tmettler/Desktop/ub_data/mcc9.1/v08_00_00_17/NumuCC_crtcut_V//png/CRTTime_corr_cont.png has been created\n",
      "Info in <TCanvas::SaveAs>: ROOT file /home/tmettler/Desktop/ub_data/mcc9.1/v08_00_00_17/NumuCC_crtcut_V//root/CRTTime_corr_cont.root has been created\n",
      "Warning in <TROOT::Append>: Replacing existing TH1: h_ext_func (Potential memory leak).\n",
      "Warning in <TROOT::Append>: Replacing existing TH1: h_dirt_func (Potential memory leak).\n",
      "Warning in <TROOT::Append>: Replacing existing TH1: numu_lowpur (Potential memory leak).\n",
      "Warning in <TROOT::Append>: Replacing existing TH1: numu_other (Potential memory leak).\n",
      "Warning in <TROOT::Append>: Replacing existing TH1: numu_nomu (Potential memory leak).\n",
      "Warning in <TROOT::Append>: Replacing existing TH1: numu_ov (Potential memory leak).\n",
      "Warning in <TROOT::Append>: Replacing existing TH1: numu_signal (Potential memory leak).\n",
      "Warning in <TROOT::Append>: Replacing existing TH1: numu_nc (Potential memory leak).\n",
      "Warning in <TCanvas::Constructor>: Deleting canvas with same name: c1\n",
      "Info in <TCanvas::Print>: png file /home/tmettler/Desktop/ub_data/mcc9.1/v08_00_00_17/NumuCC_crtcut_V//png/CRTTime_corr_uncont.png has been created\n",
      "Info in <TCanvas::SaveAs>: ROOT file /home/tmettler/Desktop/ub_data/mcc9.1/v08_00_00_17/NumuCC_crtcut_V//root/CRTTime_corr_uncont.root has been created\n"
     ]
    },
    {
     "data": {
      "image/png": "[encoded data removed]",
      "text/plain": [
       "<IPython.core.display.Image object>"
      ]
     },
     "metadata": {},
     "output_type": "display_data"
    }
   ],
   "source": [
    "NuCC.make_stacked_histo_plot_crtcorr('fidVol && muon','crthit_ts0','CRT hit time [us]',2.3,5.9,40,'CRTTime_corr')\n",
    "NuCC.make_stacked_histo_plot_crtcorr('fidVol && muon && !track_end_uncontained','crthit_ts0','CRT hit time [us]',2.3,5.9,40,'CRTTime_corr_cont')\n",
    "NuCC.make_stacked_histo_plot_crtcorr('fidVol && muon && track_end_uncontained','crthit_ts0','CRT hit time [us]',2.3,5.9,40,'CRTTime_corr_uncont')"
   ]
  },
  {
   "cell_type": "code",
   "execution_count": 25,
   "metadata": {},
   "outputs": [
    {
     "name": "stderr",
     "output_type": "stream",
     "text": [
      "Warning in <TROOT::Append>: Replacing existing TH1: h_ext_func (Potential memory leak).\n",
      "Warning in <TROOT::Append>: Replacing existing TH1: h_dirt_func (Potential memory leak).\n",
      "Warning in <TROOT::Append>: Replacing existing TH1: numu_lowpur (Potential memory leak).\n",
      "Warning in <TROOT::Append>: Replacing existing TH1: numu_other (Potential memory leak).\n",
      "Warning in <TROOT::Append>: Replacing existing TH1: numu_nomu (Potential memory leak).\n",
      "Warning in <TROOT::Append>: Replacing existing TH1: numu_ov (Potential memory leak).\n",
      "Warning in <TROOT::Append>: Replacing existing TH1: numu_signal (Potential memory leak).\n",
      "Warning in <TROOT::Append>: Replacing existing TH1: numu_nc (Potential memory leak).\n",
      "Warning in <TCanvas::Constructor>: Deleting canvas with same name: c1\n",
      "Info in <TCanvas::Print>: png file /home/tmettler/Desktop/ub_data/mcc9.1/v08_00_00_17/NumuCC_crtcut_V//png/CRTTime_corr_tres.png has been created\n",
      "Info in <TCanvas::SaveAs>: ROOT file /home/tmettler/Desktop/ub_data/mcc9.1/v08_00_00_17/NumuCC_crtcut_V//root/CRTTime_corr_tres.root has been created\n",
      "Warning in <TROOT::Append>: Replacing existing TH1: h_ext_func (Potential memory leak).\n",
      "Warning in <TROOT::Append>: Replacing existing TH1: h_dirt_func (Potential memory leak).\n",
      "Warning in <TROOT::Append>: Replacing existing TH1: numu_lowpur (Potential memory leak).\n",
      "Warning in <TROOT::Append>: Replacing existing TH1: numu_other (Potential memory leak).\n",
      "Warning in <TROOT::Append>: Replacing existing TH1: numu_nomu (Potential memory leak).\n",
      "Warning in <TROOT::Append>: Replacing existing TH1: numu_ov (Potential memory leak).\n",
      "Warning in <TROOT::Append>: Replacing existing TH1: numu_signal (Potential memory leak).\n",
      "Warning in <TROOT::Append>: Replacing existing TH1: numu_nc (Potential memory leak).\n",
      "Warning in <TCanvas::Constructor>: Deleting canvas with same name: c1\n",
      "Info in <TCanvas::Print>: png file /home/tmettler/Desktop/ub_data/mcc9.1/v08_00_00_17/NumuCC_crtcut_V//png/CRTTime_corr_cont_tres.png has been created\n",
      "Info in <TCanvas::SaveAs>: ROOT file /home/tmettler/Desktop/ub_data/mcc9.1/v08_00_00_17/NumuCC_crtcut_V//root/CRTTime_corr_cont_tres.root has been created\n",
      "Warning in <TROOT::Append>: Replacing existing TH1: h_ext_func (Potential memory leak).\n",
      "Warning in <TROOT::Append>: Replacing existing TH1: h_dirt_func (Potential memory leak).\n",
      "Warning in <TROOT::Append>: Replacing existing TH1: numu_lowpur (Potential memory leak).\n",
      "Warning in <TROOT::Append>: Replacing existing TH1: numu_other (Potential memory leak).\n",
      "Warning in <TROOT::Append>: Replacing existing TH1: numu_nomu (Potential memory leak).\n",
      "Warning in <TROOT::Append>: Replacing existing TH1: numu_ov (Potential memory leak).\n",
      "Warning in <TROOT::Append>: Replacing existing TH1: numu_signal (Potential memory leak).\n",
      "Warning in <TROOT::Append>: Replacing existing TH1: numu_nc (Potential memory leak).\n",
      "Warning in <TCanvas::Constructor>: Deleting canvas with same name: c1\n",
      "Info in <TCanvas::Print>: png file /home/tmettler/Desktop/ub_data/mcc9.1/v08_00_00_17/NumuCC_crtcut_V//png/CRTTime_corr_uncont_tres.png has been created\n",
      "Info in <TCanvas::SaveAs>: ROOT file /home/tmettler/Desktop/ub_data/mcc9.1/v08_00_00_17/NumuCC_crtcut_V//root/CRTTime_corr_uncont_tres.root has been created\n"
     ]
    },
    {
     "data": {
      "image/png": "[encoded data removed]",
      "text/plain": [
       "<IPython.core.display.Image object>"
      ]
     },
     "metadata": {},
     "output_type": "display_data"
    }
   ],
   "source": [
    "NuCC.make_stacked_histo_plot_crtcorr('fidVol && muon && crt_adc>70','crthit_ts0','CRT hit time [us]',2.3,5.9,40,'CRTTime_corr_tres')\n",
    "NuCC.make_stacked_histo_plot_crtcorr('fidVol && muon && !track_end_uncontained && crt_adc>70','crthit_ts0','CRT hit time [us]',2.3,5.9,40,'CRTTime_corr_cont_tres')\n",
    "NuCC.make_stacked_histo_plot_crtcorr('fidVol && muon && track_end_uncontained && crt_adc>70','crthit_ts0','CRT hit time [us]',2.3,5.9,40,'CRTTime_corr_uncont_tres')"
   ]
  },
  {
   "cell_type": "code",
   "execution_count": 20,
   "metadata": {},
   "outputs": [
    {
     "name": "stdout",
     "output_type": "stream",
     "text": [
      "Rejection on each sample:\n",
      "Keep of    data:\t66.26%\t reject:\t33.74%\n",
      "Keep of     ext:\t53.26%\t reject:\t46.74%\n",
      "Keep of overlay:\t86.30%\t reject:\t13.70%\n",
      "Keep of    dirt:\t69.43%\t reject:\t30.57%\n",
      "\n",
      "Efficiency:\t\t86.94%\n",
      "Purity:\t\t\t39.60%\n",
      "Purity*Efficiency\t34.43\n",
      "\n",
      "Amount of    data:\t97.50%\n",
      "Amount of     ext:\t26.91%\n",
      "Amount of overlay:\t68.26%\n",
      "Amount of    dirt:\t4.83%\n",
      "\n",
      "Signal definition=  numu_lowpur: 2.46%\t(3.60%)\n",
      "Signal definition=   numu_other: 0.60%\t(0.88%)\n",
      "Signal definition=    numu_nomu: 4.76%\t(6.98%)\n",
      "Signal definition=      numu_ov: 11.82%\t(17.31%)\n",
      "Signal definition=  numu_signal: 39.60%\t(58.01%)\n",
      "Signal definition=      numu_nc: 9.01%\t(13.19%)\n"
     ]
    }
   ],
   "source": [
    "NuCC.printEff('fidVol && muon && nr_crthit_beam_tres<1')"
   ]
  },
  {
   "cell_type": "code",
   "execution_count": 14,
   "metadata": {},
   "outputs": [
    {
     "name": "stdout",
     "output_type": "stream",
     "text": [
      "Rejection on each sample:\n",
      "Keep of    data:\t61.27%\t reject:\t38.73%\n",
      "Keep of     ext:\t57.53%\t reject:\t42.47%\n",
      "Keep of overlay:\t62.80%\t reject:\t37.20%\n",
      "Keep of    dirt:\t65.67%\t reject:\t34.33%\n",
      "\n",
      "Efficiency:\t\t52.83%\n",
      "Purity:\t\t\t28.88%\n",
      "Purity*Efficiency\t15.26\n",
      "\n",
      "Amount of    data:\t108.23%\n",
      "Amount of     ext:\t34.89%\n",
      "Amount of overlay:\t59.62%\n",
      "Amount of    dirt:\t5.48%\n",
      "\n",
      "Signal definition=  numu_lowpur: 2.29%\t(3.84%)\n",
      "Signal definition=   numu_other: 0.54%\t(0.90%)\n",
      "Signal definition=    numu_nomu: 6.43%\t(10.79%)\n",
      "Signal definition=      numu_ov: 11.34%\t(19.02%)\n",
      "Signal definition=  numu_signal: 28.88%\t(48.44%)\n",
      "Signal definition=      numu_nc: 10.12%\t(16.98%)\n"
     ]
    }
   ],
   "source": [
    "NuCC.printEff('fidVol && muon && !track_end_uncontained')"
   ]
  },
  {
   "cell_type": "code",
   "execution_count": 11,
   "metadata": {},
   "outputs": [
    {
     "name": "stdout",
     "output_type": "stream",
     "text": [
      "Rejection on each sample:\n",
      "Keep of    data:\t61.27%\t reject:\t38.73%\n",
      "Keep of     ext:\t57.53%\t reject:\t42.47%\n",
      "Keep of overlay:\t62.80%\t reject:\t37.20%\n",
      "Keep of    dirt:\t65.67%\t reject:\t34.33%\n",
      "\n",
      "Efficiency:\t\t52.83%\n",
      "Purity:\t\t\t28.88%\n",
      "Purity*Efficiency\t15.26\n",
      "\n",
      "Amount of    data:\t108.23%\n",
      "Amount of     ext:\t34.89%\n",
      "Amount of overlay:\t59.62%\n",
      "Amount of    dirt:\t5.48%\n",
      "\n",
      "Signal definition=  numu_lowpur: 2.29%\t(3.84%)\n",
      "Signal definition=   numu_other: 0.54%\t(0.90%)\n",
      "Signal definition=    numu_nomu: 6.43%\t(10.79%)\n",
      "Signal definition=      numu_ov: 11.34%\t(19.02%)\n",
      "Signal definition=  numu_signal: 28.88%\t(48.44%)\n",
      "Signal definition=      numu_nc: 10.12%\t(16.98%)\n"
     ]
    }
   ],
   "source": [
    "NuCC.printEff('fidVol && muon && track_uncontained==0')"
   ]
  },
  {
   "cell_type": "code",
   "execution_count": 15,
   "metadata": {},
   "outputs": [
    {
     "name": "stdout",
     "output_type": "stream",
     "text": [
      "Rejection on each sample:\n",
      "Keep of    data:\t38.73%\t reject:\t61.27%\n",
      "Keep of     ext:\t42.47%\t reject:\t57.53%\n",
      "Keep of overlay:\t37.20%\t reject:\t62.80%\n",
      "Keep of    dirt:\t34.33%\t reject:\t65.67%\n",
      "\n",
      "Efficiency:\t\t47.17%\n",
      "Purity:\t\t\t40.33%\n",
      "Purity*Efficiency\t19.02\n",
      "\n",
      "Amount of    data:\t106.99%\n",
      "Amount of     ext:\t40.29%\n",
      "Amount of overlay:\t55.23%\n",
      "Amount of    dirt:\t4.48%\n",
      "\n",
      "Signal definition=  numu_lowpur: 1.80%\t(3.27%)\n",
      "Signal definition=   numu_other: 0.40%\t(0.72%)\n",
      "Signal definition=    numu_nomu: 1.07%\t(1.95%)\n",
      "Signal definition=      numu_ov: 9.94%\t(18.00%)\n",
      "Signal definition=  numu_signal: 40.33%\t(73.02%)\n",
      "Signal definition=      numu_nc: 1.69%\t(3.06%)\n"
     ]
    }
   ],
   "source": [
    "NuCC.printEff('fidVol && muon && track_end_uncontained')"
   ]
  },
  {
   "cell_type": "code",
   "execution_count": 14,
   "metadata": {},
   "outputs": [
    {
     "name": "stdout",
     "output_type": "stream",
     "text": [
      "Rejection on each sample:\n",
      "Keep of    data:\t100.00%\t reject:\t0.00%\n",
      "Keep of     ext:\t100.00%\t reject:\t0.00%\n",
      "Keep of overlay:\t100.00%\t reject:\t0.00%\n",
      "Keep of    dirt:\t100.00%\t reject:\t0.00%\n",
      "\n",
      "Efficiency:\t\t100.00%\n",
      "Purity:\t\t\t28.88%\n",
      "Purity*Efficiency\t28.88\n",
      "\n",
      "Amount of    data:\t108.23%\n",
      "Amount of     ext:\t34.89%\n",
      "Amount of overlay:\t59.62%\n",
      "Amount of    dirt:\t5.48%\n",
      "\n",
      "Signal definition=  numu_lowpur: 2.29%\t(3.84%)\n",
      "Signal definition=   numu_other: 0.54%\t(0.90%)\n",
      "Signal definition=    numu_nomu: 6.43%\t(10.79%)\n",
      "Signal definition=      numu_ov: 11.34%\t(19.02%)\n",
      "Signal definition=  numu_signal: 28.88%\t(48.44%)\n",
      "Signal definition=      numu_nc: 10.12%\t(16.98%)\n"
     ]
    }
   ],
   "source": [
    "NuCC.printEff_sample('fidVol && muon','!track_end_uncontained &&')"
   ]
  },
  {
   "cell_type": "code",
   "execution_count": 13,
   "metadata": {},
   "outputs": [
    {
     "name": "stdout",
     "output_type": "stream",
     "text": [
      "Rejection on each sample:\n",
      "Keep of    data:\t100.00%\t reject:\t0.00%\n",
      "Keep of     ext:\t100.00%\t reject:\t0.00%\n",
      "Keep of overlay:\t100.00%\t reject:\t0.00%\n",
      "Keep of    dirt:\t100.00%\t reject:\t0.00%\n",
      "\n",
      "Efficiency:\t\t100.00%\n",
      "Purity:\t\t\t40.33%\n",
      "Purity*Efficiency\t40.33\n",
      "\n",
      "Amount of    data:\t106.99%\n",
      "Amount of     ext:\t40.29%\n",
      "Amount of overlay:\t55.23%\n",
      "Amount of    dirt:\t4.48%\n",
      "\n",
      "Signal definition=  numu_lowpur: 1.80%\t(3.27%)\n",
      "Signal definition=   numu_other: 0.40%\t(0.72%)\n",
      "Signal definition=    numu_nomu: 1.07%\t(1.95%)\n",
      "Signal definition=      numu_ov: 9.94%\t(18.00%)\n",
      "Signal definition=  numu_signal: 40.33%\t(73.02%)\n",
      "Signal definition=      numu_nc: 1.69%\t(3.06%)\n"
     ]
    }
   ],
   "source": [
    "NuCC.printEff_sample('fidVol && muon','track_end_uncontained &&')"
   ]
  },
  {
   "cell_type": "code",
   "execution_count": 14,
   "metadata": {},
   "outputs": [
    {
     "name": "stdout",
     "output_type": "stream",
     "text": [
      "Rejection on each sample:\n",
      "Keep of    data:\t68.38%\t reject:\t31.62%\n",
      "Keep of     ext:\t52.23%\t reject:\t47.77%\n",
      "Keep of overlay:\t90.34%\t reject:\t9.66%\n",
      "Keep of    dirt:\t71.47%\t reject:\t28.53%\n",
      "\n",
      "Efficiency:\t\t94.53%\n",
      "Purity:\t\t\t35.92%\n",
      "Purity*Efficiency\t33.96\n",
      "\n",
      "Amount of    data:\t97.36%\n",
      "Amount of     ext:\t23.98%\n",
      "Amount of overlay:\t70.87%\n",
      "Amount of    dirt:\t5.15%\n",
      "\n",
      "Signal definition=  numu_lowpur: 2.57%\t(3.63%)\n",
      "Signal definition=   numu_other: 0.67%\t(0.94%)\n",
      "Signal definition=    numu_nomu: 6.78%\t(9.57%)\n",
      "Signal definition=      numu_ov: 12.02%\t(16.96%)\n",
      "Signal definition=  numu_signal: 35.92%\t(50.69%)\n",
      "Signal definition=      numu_nc: 12.89%\t(18.19%)\n"
     ]
    }
   ],
   "source": [
    "NuCC.printEff_sample('fidVol && muon && nr_crthit_beam_tres<1','!track_end_uncontained &&')"
   ]
  },
  {
   "cell_type": "code",
   "execution_count": 13,
   "metadata": {},
   "outputs": [
    {
     "name": "stdout",
     "output_type": "stream",
     "text": [
      "Rejection on each sample:\n",
      "Keep of    data:\t68.83%\t reject:\t31.17%\n",
      "Keep of     ext:\t52.38%\t reject:\t47.62%\n",
      "Keep of overlay:\t91.65%\t reject:\t8.35%\n",
      "Keep of    dirt:\t71.51%\t reject:\t28.49%\n",
      "\n",
      "Efficiency:\t\t94.72%\n",
      "Purity:\t\t\t36.46%\n",
      "Purity*Efficiency\t34.54\n",
      "\n",
      "Amount of    data:\t97.35%\n",
      "Amount of     ext:\t24.38%\n",
      "Amount of overlay:\t70.59%\n",
      "Amount of    dirt:\t5.03%\n",
      "\n",
      "Signal definition=  numu_lowpur: 2.32%\t(3.28%)\n",
      "Signal definition=   numu_other: 0.70%\t(0.98%)\n",
      "Signal definition=    numu_nomu: 5.59%\t(7.92%)\n",
      "Signal definition=      numu_ov: 11.79%\t(16.71%)\n",
      "Signal definition=  numu_signal: 36.46%\t(51.65%)\n",
      "Signal definition=      numu_nc: 13.71%\t(19.43%)\n"
     ]
    }
   ],
   "source": [
    "NuCC.printEff_sample('fidVol && muon && nr_crthit_beam_tres<1','nr_tracks_uncontained==0 &&')"
   ]
  },
  {
   "cell_type": "code",
   "execution_count": 12,
   "metadata": {},
   "outputs": [
    {
     "name": "stdout",
     "output_type": "stream",
     "text": [
      "Rejection on each sample:\n",
      "Keep of    data:\t80.62%\t reject:\t19.38%\n",
      "Keep of     ext:\t72.52%\t reject:\t27.48%\n",
      "Keep of overlay:\t93.93%\t reject:\t6.07%\n",
      "Keep of    dirt:\t81.27%\t reject:\t18.73%\n",
      "\n",
      "Efficiency:\t\t97.11%\n",
      "Purity:\t\t\t37.94%\n",
      "Purity*Efficiency\t36.84\n",
      "\n",
      "Amount of    data:\t101.76%\n",
      "Amount of     ext:\t31.43%\n",
      "Amount of overlay:\t63.72%\n",
      "Amount of    dirt:\t4.85%\n",
      "\n",
      "Signal definition=  numu_lowpur: 2.22%\t(3.48%)\n",
      "Signal definition=   numu_other: 0.54%\t(0.85%)\n",
      "Signal definition=    numu_nomu: 4.17%\t(6.55%)\n",
      "Signal definition=      numu_ov: 11.07%\t(17.37%)\n",
      "Signal definition=  numu_signal: 37.94%\t(59.53%)\n",
      "Signal definition=      numu_nc: 7.77%\t(12.19%)\n"
     ]
    }
   ],
   "source": [
    "NuCC.printEff('fidVol && muon && (nr_crthit_beam_tres<1 || track_end_uncontained)')"
   ]
  },
  {
   "cell_type": "code",
   "execution_count": 15,
   "metadata": {},
   "outputs": [
    {
     "name": "stdout",
     "output_type": "stream",
     "text": [
      "Rejection on each sample:\n",
      "Keep of    data:\t82.67%\t reject:\t17.33%\n",
      "Keep of     ext:\t74.63%\t reject:\t25.37%\n",
      "Keep of overlay:\t95.30%\t reject:\t4.70%\n",
      "Keep of    dirt:\t83.33%\t reject:\t16.67%\n",
      "\n",
      "Efficiency:\t\t97.42%\n",
      "Purity:\t\t\t37.32%\n",
      "Purity*Efficiency\t36.36\n",
      "\n",
      "Amount of    data:\t102.34%\n",
      "Amount of     ext:\t31.72%\n",
      "Amount of overlay:\t63.40%\n",
      "Amount of    dirt:\t4.87%\n",
      "\n",
      "Signal definition=  numu_lowpur: 2.25%\t(3.55%)\n",
      "Signal definition=   numu_other: 0.54%\t(0.85%)\n",
      "Signal definition=    numu_nomu: 4.63%\t(7.30%)\n",
      "Signal definition=      numu_ov: 11.02%\t(17.38%)\n",
      "Signal definition=  numu_signal: 37.32%\t(58.87%)\n",
      "Signal definition=      numu_nc: 7.64%\t(12.04%)\n"
     ]
    }
   ],
   "source": [
    "NuCC.printEff('fidVol && muon && (nr_crthit_beam_tres<1 || nr_tracks_uncontained>0)')"
   ]
  },
  {
   "cell_type": "code",
   "execution_count": 16,
   "metadata": {},
   "outputs": [
    {
     "name": "stdout",
     "output_type": "stream",
     "text": [
      "Rejection on each sample:\n",
      "Keep of    data:\t88.67%\t reject:\t11.33%\n",
      "Keep of     ext:\t82.94%\t reject:\t17.06%\n",
      "Keep of overlay:\t92.76%\t reject:\t7.24%\n",
      "Keep of    dirt:\t86.89%\t reject:\t13.11%\n",
      "\n",
      "Efficiency:\t\t96.35%\n",
      "Purity:\t\t\t43.89%\n",
      "Purity*Efficiency\t42.29\n",
      "\n",
      "Amount of    data:\t107.14%\n",
      "Amount of     ext:\t37.74%\n",
      "Amount of overlay:\t57.86%\n",
      "Amount of    dirt:\t4.40%\n",
      "\n",
      "Signal definition=  numu_lowpur: 1.26%\t(2.18%)\n",
      "Signal definition=   numu_other: 0.42%\t(0.73%)\n",
      "Signal definition=    numu_nomu: 1.16%\t(2.01%)\n",
      "Signal definition=      numu_ov: 9.58%\t(16.56%)\n",
      "Signal definition=  numu_signal: 43.89%\t(75.85%)\n",
      "Signal definition=      numu_nc: 1.55%\t(2.67%)\n"
     ]
    }
   ],
   "source": [
    "NuCC.printEff_sample('fidVol && muon && crt_cut','track_end_uncontained &&')"
   ]
  },
  {
   "cell_type": "code",
   "execution_count": 16,
   "metadata": {},
   "outputs": [
    {
     "name": "stdout",
     "output_type": "stream",
     "text": [
      "Rejection on each sample:\n",
      "Keep of    data:\t88.67%\t reject:\t11.33%\n",
      "Keep of     ext:\t82.79%\t reject:\t17.21%\n",
      "Keep of overlay:\t92.66%\t reject:\t7.34%\n",
      "Keep of    dirt:\t86.92%\t reject:\t13.08%\n",
      "\n",
      "Efficiency:\t\t96.37%\n",
      "Purity:\t\t\t41.50%\n",
      "Purity*Efficiency\t39.99\n",
      "\n",
      "Amount of    data:\t107.17%\n",
      "Amount of     ext:\t36.15%\n",
      "Amount of overlay:\t59.21%\n",
      "Amount of    dirt:\t4.64%\n",
      "\n",
      "Signal definition=  numu_lowpur: 1.53%\t(2.59%)\n",
      "Signal definition=   numu_other: 0.41%\t(0.69%)\n",
      "Signal definition=    numu_nomu: 4.05%\t(6.84%)\n",
      "Signal definition=      numu_ov: 9.95%\t(16.80%)\n",
      "Signal definition=  numu_signal: 41.50%\t(70.09%)\n",
      "Signal definition=      numu_nc: 1.76%\t(2.97%)\n"
     ]
    }
   ],
   "source": [
    "NuCC.printEff_sample('fidVol && muon && crt_cut','nr_tracks_uncontained>0 &&')"
   ]
  },
  {
   "cell_type": "code",
   "execution_count": 18,
   "metadata": {},
   "outputs": [
    {
     "name": "stdout",
     "output_type": "stream",
     "text": [
      "Rejection on each sample:\n",
      "Keep of    data:\t84.80%\t reject:\t15.20%\n",
      "Keep of     ext:\t81.54%\t reject:\t18.46%\n",
      "Keep of overlay:\t92.03%\t reject:\t7.97%\n",
      "Keep of    dirt:\t86.88%\t reject:\t13.12%\n",
      "\n",
      "Efficiency:\t\t95.36%\n",
      "Purity:\t\t\t41.46%\n",
      "Purity*Efficiency\t39.53\n",
      "\n",
      "Amount of    data:\t103.49%\n",
      "Amount of     ext:\t35.95%\n",
      "Amount of overlay:\t59.37%\n",
      "Amount of    dirt:\t4.68%\n",
      "\n",
      "Signal definition=  numu_lowpur: 1.68%\t(2.82%)\n",
      "Signal definition=   numu_other: 0.41%\t(0.69%)\n",
      "Signal definition=    numu_nomu: 4.02%\t(6.77%)\n",
      "Signal definition=      numu_ov: 10.04%\t(16.90%)\n",
      "Signal definition=  numu_signal: 41.46%\t(69.83%)\n",
      "Signal definition=      numu_nc: 1.77%\t(2.97%)\n"
     ]
    }
   ],
   "source": [
    "NuCC.printEff_sample('fidVol && muon && nr_track_asso_out_uncon==0','nr_tracks_uncontained>0 &&')"
   ]
  },
  {
   "cell_type": "code",
   "execution_count": 17,
   "metadata": {},
   "outputs": [
    {
     "name": "stdout",
     "output_type": "stream",
     "text": [
      "Rejection on each sample:\n",
      "Keep of    data:\t76.24%\t reject:\t23.76%\n",
      "Keep of     ext:\t65.27%\t reject:\t34.73%\n",
      "Keep of overlay:\t91.24%\t reject:\t8.76%\n",
      "Keep of    dirt:\t76.76%\t reject:\t23.24%\n",
      "\n",
      "Efficiency:\t\t95.39%\n",
      "Purity:\t\t\t39.32%\n",
      "Purity*Efficiency\t37.51\n",
      "\n",
      "Amount of    data:\t101.54%\n",
      "Amount of     ext:\t29.85%\n",
      "Amount of overlay:\t65.32%\n",
      "Amount of    dirt:\t4.83%\n",
      "\n",
      "Signal definition=  numu_lowpur: 2.01%\t(3.08%)\n",
      "Signal definition=   numu_other: 0.56%\t(0.86%)\n",
      "Signal definition=    numu_nomu: 4.38%\t(6.71%)\n",
      "Signal definition=      numu_ov: 10.98%\t(16.81%)\n",
      "Signal definition=  numu_signal: 39.32%\t(60.20%)\n",
      "Signal definition=      numu_nc: 8.05%\t(12.32%)\n"
     ]
    }
   ],
   "source": [
    "NuCC.printEff('fidVol && muon && (nr_crthit_beam_tres<1 || track_end_uncontained) && (!track_end_uncontained || crt_cut)')"
   ]
  },
  {
   "cell_type": "code",
   "execution_count": 21,
   "metadata": {},
   "outputs": [
    {
     "name": "stdout",
     "output_type": "stream",
     "text": [
      "Rejection on each sample:\n",
      "Keep of    data:\t75.92%\t reject:\t24.08%\n",
      "Keep of     ext:\t66.00%\t reject:\t34.00%\n",
      "Keep of overlay:\t91.81%\t reject:\t8.19%\n",
      "Keep of    dirt:\t77.89%\t reject:\t22.11%\n",
      "\n",
      "Efficiency:\t\t95.05%\n",
      "Purity:\t\t\t38.86%\n",
      "Purity*Efficiency\t36.94\n",
      "\n",
      "Amount of    data:\t100.30%\n",
      "Amount of     ext:\t29.94%\n",
      "Amount of overlay:\t65.20%\n",
      "Amount of    dirt:\t4.86%\n",
      "\n",
      "Signal definition=  numu_lowpur: 2.01%\t(3.08%)\n",
      "Signal definition=   numu_other: 0.56%\t(0.86%)\n",
      "Signal definition=    numu_nomu: 4.83%\t(7.42%)\n",
      "Signal definition=      numu_ov: 10.95%\t(16.79%)\n",
      "Signal definition=  numu_signal: 38.86%\t(59.61%)\n",
      "Signal definition=      numu_nc: 7.97%\t(12.22%)\n"
     ]
    }
   ],
   "source": [
    "NuCC.printEff('fidVol && muon && (nr_crthit_beam_tres<1 || nr_tracks_uncontained>0) && (nr_tracks_uncontained==0 || nr_track_asso_out_uncon==0)')"
   ]
  },
  {
   "cell_type": "code",
   "execution_count": 22,
   "metadata": {},
   "outputs": [
    {
     "name": "stdout",
     "output_type": "stream",
     "text": [
      "Rejection on each sample:\n",
      "Keep of    data:\t77.64%\t reject:\t22.36%\n",
      "Keep of     ext:\t66.59%\t reject:\t33.41%\n",
      "Keep of overlay:\t92.09%\t reject:\t7.91%\n",
      "Keep of    dirt:\t77.90%\t reject:\t22.10%\n",
      "\n",
      "Efficiency:\t\t95.56%\n",
      "Purity:\t\t\t38.90%\n",
      "Purity*Efficiency\t37.17\n",
      "\n",
      "Amount of    data:\t102.10%\n",
      "Amount of     ext:\t30.07%\n",
      "Amount of overlay:\t65.09%\n",
      "Amount of    dirt:\t4.84%\n",
      "\n",
      "Signal definition=  numu_lowpur: 1.94%\t(2.98%)\n",
      "Signal definition=   numu_other: 0.56%\t(0.86%)\n",
      "Signal definition=    numu_nomu: 4.85%\t(7.45%)\n",
      "Signal definition=      numu_ov: 10.90%\t(16.75%)\n",
      "Signal definition=  numu_signal: 38.90%\t(59.76%)\n",
      "Signal definition=      numu_nc: 7.94%\t(12.20%)\n"
     ]
    }
   ],
   "source": [
    "NuCC.printEff('fidVol && muon && (nr_crthit_beam_tres<1 || nr_tracks_uncontained>0) && (nr_tracks_uncontained==0 || crt_cut)')"
   ]
  },
  {
   "cell_type": "code",
   "execution_count": 14,
   "metadata": {},
   "outputs": [
    {
     "name": "stdout",
     "output_type": "stream",
     "text": [
      "Efficiency:\t94.53%\n",
      "Purity:\t\t35.92%\n"
     ]
    },
    {
     "name": "stderr",
     "output_type": "stream",
     "text": [
      "Warning in <TROOT::Append>: Replacing existing TH1: h_init_eff_energy (Potential memory leak).\n",
      "Warning in <TROOT::Append>: Replacing existing TH1: h_init_eff_energy_1 (Potential memory leak).\n",
      "Info in <TCanvas::Print>: png file /home/tmettler/Desktop/ub_data/mcc9.1/v08_00_00_17/NumuCC_crtcut_V//png/h_eff_energy_CRTveto.png has been created\n",
      "Info in <TCanvas::SaveAs>: ROOT file /home/tmettler/Desktop/ub_data/mcc9.1/v08_00_00_17/NumuCC_crtcut_V//root/h_eff_energy_CRTveto.root has been created\n",
      "Warning in <TROOT::Append>: Replacing existing TH1: h_init_eff_theta (Potential memory leak).\n",
      "Warning in <TROOT::Append>: Replacing existing TH1: h_init_eff_theta_1 (Potential memory leak).\n",
      "Info in <TCanvas::Print>: png file /home/tmettler/Desktop/ub_data/mcc9.1/v08_00_00_17/NumuCC_crtcut_V//png/h_eff_theta_CRTveto.png has been created\n",
      "Info in <TCanvas::SaveAs>: ROOT file /home/tmettler/Desktop/ub_data/mcc9.1/v08_00_00_17/NumuCC_crtcut_V//root/h_eff_theta_CRTveto.root has been created\n",
      "Warning in <TROOT::Append>: Replacing existing TH1: h_init_eff_phi (Potential memory leak).\n",
      "Warning in <TROOT::Append>: Replacing existing TH1: h_init_eff_phi_1 (Potential memory leak).\n",
      "Info in <TCanvas::Print>: png file /home/tmettler/Desktop/ub_data/mcc9.1/v08_00_00_17/NumuCC_crtcut_V//png/h_eff_phi_CRTveto.png has been created\n",
      "Info in <TCanvas::SaveAs>: ROOT file /home/tmettler/Desktop/ub_data/mcc9.1/v08_00_00_17/NumuCC_crtcut_V//root/h_eff_phi_CRTveto.root has been created\n",
      "Warning in <TROOT::Append>: Replacing existing TH1: h_init_eff_V (Potential memory leak).\n",
      "Warning in <TROOT::Append>: Replacing existing TH1: h_init_eff_V_1 (Potential memory leak).\n",
      "Info in <TCanvas::Print>: png file /home/tmettler/Desktop/ub_data/mcc9.1/v08_00_00_17/NumuCC_crtcut_V//png/h_eff_Vx_CRTveto.png has been created\n",
      "Info in <TCanvas::SaveAs>: ROOT file /home/tmettler/Desktop/ub_data/mcc9.1/v08_00_00_17/NumuCC_crtcut_V//root/h_eff_Vx_CRTveto.root has been created\n",
      "Warning in <TROOT::Append>: Replacing existing TH1: h_init_eff_V (Potential memory leak).\n",
      "Warning in <TROOT::Append>: Replacing existing TH1: h_init_eff_V_1 (Potential memory leak).\n",
      "Info in <TCanvas::Print>: png file /home/tmettler/Desktop/ub_data/mcc9.1/v08_00_00_17/NumuCC_crtcut_V//png/h_eff_Vy_CRTveto.png has been created\n",
      "Info in <TCanvas::SaveAs>: ROOT file /home/tmettler/Desktop/ub_data/mcc9.1/v08_00_00_17/NumuCC_crtcut_V//root/h_eff_Vy_CRTveto.root has been created\n",
      "Warning in <TROOT::Append>: Replacing existing TH1: h_init_eff_V (Potential memory leak).\n",
      "Warning in <TROOT::Append>: Replacing existing TH1: h_init_eff_V_1 (Potential memory leak).\n",
      "Info in <TCanvas::Print>: png file /home/tmettler/Desktop/ub_data/mcc9.1/v08_00_00_17/NumuCC_crtcut_V//png/h_eff_Vz_CRTveto.png has been created\n",
      "Info in <TCanvas::SaveAs>: ROOT file /home/tmettler/Desktop/ub_data/mcc9.1/v08_00_00_17/NumuCC_crtcut_V//root/h_eff_Vz_CRTveto.root has been created\n"
     ]
    },
    {
     "data": {
      "image/png": "[encoded data removed]",
      "text/plain": [
       "<IPython.core.display.Image object>"
      ]
     },
     "metadata": {},
     "output_type": "display_data"
    }
   ],
   "source": [
    "xstart = 0\n",
    "xend = 8\n",
    "xbin = 100\n",
    "\n",
    "nenner_cut = \"numu_signal && muon && fidVol && !track_end_uncontained\"\n",
    "zahler_cut = \"numu_signal && fidVol && muon && (nr_crthit_beam_tres<1) && !track_end_uncontained\"\n",
    "cut = 'fidVol && muon && (nr_crthit_beam_tres<1) && !track_end_uncontained'\n",
    "\n",
    "efficiency = overlay.GetEntries(zahler_cut)*100.0/overlay.GetEntries(nenner_cut)\n",
    "purity = overlay.GetEntries(cut+' && numu_signal')*scale[overlay]*100/NuCC.getTotNum(cut)\n",
    "\n",
    "print 'Efficiency:\\t{0:0.2f}%'.format(efficiency)\n",
    "print 'Purity:\\t\\t{0:0.2f}%'.format(  purity)\n",
    "\n",
    "\n",
    "name = '_CRTveto'\n",
    "title = 'After CRT veto cut:'\n",
    "title = title+' Eff/Pur={0:0.2f}%'.format( efficiency)+'/{0:0.2f}%'.format(purity)\n",
    "\n",
    "h_init_eff_energy = ROOT.TH1F(\"h_init_eff_energy\",title,xbin,xstart,xend)\n",
    "h_init_eff_energy_1 = ROOT.TH1F(\"h_init_eff_energy_1\",title,xbin,xstart,xend)\n",
    "overlay.Draw('MCNu_Energy>>h_init_eff_energy',zahler_cut)\n",
    "overlay.Draw('MCNu_Energy>>h_init_eff_energy_1',nenner_cut)\n",
    "h_init_eff_energy_1.Sumw2()\n",
    "h_init_eff_energy.Divide(h_init_eff_energy_1)\n",
    "h_init_eff_energy.Scale(100)\n",
    "h_init_eff_energy.SetMaximum(100)\n",
    "h_init_eff_energy.SetMinimum(0)\n",
    "h_init_eff_energy.SetXTitle(\"Truth enutrino energy [GeV]\")\n",
    "h_init_eff_energy.SetYTitle(\"Signal efficiency [%]\")\n",
    "h_init_eff_energy.Draw(\"E\")\n",
    "c1.Draw()\n",
    "c1.SaveAs(outputdir_png + \"h_eff_energy\"+name+\".png\")\n",
    "c1.SaveAs(outputdir_root + \"h_eff_energy\"+name+\".root\")\n",
    "\n",
    "\n",
    "xstart = -1\n",
    "xend = 1\n",
    "xbin = 100\n",
    "h_init_eff_theta = ROOT.TH1F(\"h_init_eff_theta\",title,xbin,xstart,xend)\n",
    "h_init_eff_theta_1 = ROOT.TH1F(\"h_init_eff_theta_1\",title,xbin,xstart,xend)\n",
    "overlay.Draw('cos(MCNu_leptonTheta)>>h_init_eff_theta',zahler_cut)\n",
    "overlay.Draw('cos(MCNu_leptonTheta)>>h_init_eff_theta_1',nenner_cut)\n",
    "h_init_eff_theta_1.Sumw2()\n",
    "h_init_eff_theta.Divide(h_init_eff_theta_1)\n",
    "h_init_eff_theta.Scale(100)\n",
    "h_init_eff_theta.SetMaximum(100)\n",
    "h_init_eff_theta.SetMinimum(0)\n",
    "h_init_eff_theta.SetXTitle(\"Truth neutrino cos(theta)\")\n",
    "h_init_eff_theta.SetYTitle(\"Signal efficiency [%]\")\n",
    "h_init_eff_theta.Draw(\"E\")\n",
    "c1.Draw()\n",
    "c1.SaveAs(outputdir_png + \"h_eff_theta\"+name+\".png\")\n",
    "c1.SaveAs(outputdir_root + \"h_eff_theta\"+name+\".root\")\n",
    "\n",
    "xstart = -3.14159\n",
    "xend = 3.14159\n",
    "xbin = 100\n",
    "h_init_eff_phi = ROOT.TH1F(\"h_init_eff_phi\",title,xbin,xstart,xend)\n",
    "h_init_eff_phi_1 = ROOT.TH1F(\"h_init_eff_phi_1\",title,xbin,xstart,xend)\n",
    "overlay.Draw('TrackPhi>>h_init_eff_phi',zahler_cut)\n",
    "overlay.Draw('TrackPhi>>h_init_eff_phi_1',nenner_cut)\n",
    "h_init_eff_phi_1.Sumw2()\n",
    "h_init_eff_phi.Divide(h_init_eff_phi_1)\n",
    "h_init_eff_phi.Scale(100)\n",
    "h_init_eff_phi.SetMaximum(100)\n",
    "h_init_eff_phi.SetMinimum(0)\n",
    "h_init_eff_phi.SetXTitle(\"Reco neutrino phi [pi]\")\n",
    "h_init_eff_phi.SetYTitle(\"Signal efficiency [%]\")\n",
    "h_init_eff_phi.Draw(\"e\")\n",
    "c1.Draw()\n",
    "c1.SaveAs(outputdir_png + \"h_eff_phi\"+name+\".png\")\n",
    "c1.SaveAs(outputdir_root + \"h_eff_phi\"+name+\".root\")\n",
    "\n",
    "xstart = -50\n",
    "xend = 300\n",
    "xbin = 100\n",
    "h_init_eff_V = ROOT.TH1F(\"h_init_eff_V\",title,xbin,xstart,xend)\n",
    "h_init_eff_V_1 = ROOT.TH1F(\"h_init_eff_V_1\",title,xbin,xstart,xend)\n",
    "overlay.Draw('MCNu_Vx>>h_init_eff_V',zahler_cut)\n",
    "overlay.Draw('MCNu_Vx>>h_init_eff_V_1',nenner_cut)\n",
    "h_init_eff_V_1.Sumw2()\n",
    "h_init_eff_V.Divide(h_init_eff_V_1)\n",
    "h_init_eff_V.Scale(100)\n",
    "h_init_eff_V.SetMaximum(100)\n",
    "h_init_eff_V.SetMinimum(0)\n",
    "h_init_eff_V.SetXTitle(\"Truth nu vertex X [cm]\")\n",
    "h_init_eff_V.SetYTitle(\"Signal efficiency [%]\")\n",
    "h_init_eff_V.Draw(\"e\")\n",
    "c1.Draw()\n",
    "c1.SaveAs(outputdir_png + \"h_eff_Vx\"+name+\".png\")\n",
    "c1.SaveAs(outputdir_root + \"h_eff_Vx\"+name+\".root\")\n",
    "\n",
    "xstart = -150\n",
    "xend = 150\n",
    "xbin = 100\n",
    "h_init_eff_V = ROOT.TH1F(\"h_init_eff_V\",title,xbin,xstart,xend)\n",
    "h_init_eff_V_1 = ROOT.TH1F(\"h_init_eff_V_1\",title,xbin,xstart,xend)\n",
    "overlay.Draw('MCNu_Vy>>h_init_eff_V',zahler_cut)\n",
    "overlay.Draw('MCNu_Vy>>h_init_eff_V_1',nenner_cut)\n",
    "h_init_eff_V_1.Sumw2()\n",
    "h_init_eff_V.Divide(h_init_eff_V_1)\n",
    "h_init_eff_V.Scale(100)\n",
    "h_init_eff_V.SetMaximum(100)\n",
    "h_init_eff_V.SetMinimum(0)\n",
    "h_init_eff_V.SetXTitle(\"Truth nu vertex Y [cm]\")\n",
    "h_init_eff_V.SetYTitle(\"Signal efficiency [%]\")\n",
    "h_init_eff_V.Draw(\"e\")\n",
    "c1.Draw()\n",
    "c1.SaveAs(outputdir_png + \"h_eff_Vy\"+name+\".png\")\n",
    "c1.SaveAs(outputdir_root + \"h_eff_Vy\"+name+\".root\")\n",
    "\n",
    "xstart = -50\n",
    "xend = 1050\n",
    "xbin = 100\n",
    "h_init_eff_V = ROOT.TH1F(\"h_init_eff_V\",title,xbin,xstart,xend)\n",
    "h_init_eff_V_1 = ROOT.TH1F(\"h_init_eff_V_1\",title,xbin,xstart,xend)\n",
    "overlay.Draw('MCNu_Vz>>h_init_eff_V',zahler_cut)\n",
    "overlay.Draw('MCNu_Vz>>h_init_eff_V_1',nenner_cut)\n",
    "h_init_eff_V_1.Sumw2()\n",
    "h_init_eff_V.Divide(h_init_eff_V_1)\n",
    "h_init_eff_V.Scale(100)\n",
    "h_init_eff_V.SetMaximum(100)\n",
    "h_init_eff_V.SetMinimum(0)\n",
    "h_init_eff_V.SetXTitle(\"Truth nu vertex Z [cm]\")\n",
    "h_init_eff_V.SetYTitle(\"Signal efficiency [%]\")\n",
    "h_init_eff_V.Draw(\"e\")\n",
    "c1.Draw()\n",
    "c1.SaveAs(outputdir_png + \"h_eff_Vz\"+name+\".png\")\n",
    "c1.SaveAs(outputdir_root + \"h_eff_Vz\"+name+\".root\")\n",
    "\n"
   ]
  },
  {
   "cell_type": "code",
   "execution_count": null,
   "metadata": {},
   "outputs": [],
   "source": [
    "xstart = 0\n",
    "xend = 8\n",
    "xbin = 100\n",
    "\n",
    "nenner_cut = \"numu_signal && muon && fidVol && !track_end_uncontained\"\n",
    "zahler_cut = \"numu_signal && fidVol && muon && (nr_crthit_beam_tres<1) && !track_end_uncontained\"\n",
    "cut = 'fidVol && muon && (nr_crthit_beam_tres<1) && !track_end_uncontained'\n",
    "\n",
    "efficiency = overlay.GetEntries(zahler_cut)*100.0/overlay.GetEntries(nenner_cut)\n",
    "purity = overlay.GetEntries(cut+' && numu_signal')*scale[overlay]*100/NuCC.getTotNum(cut)\n",
    "\n",
    "print 'Efficiency:\\t{0:0.2f}%'.format(efficiency)\n",
    "print 'Purity:\\t\\t{0:0.2f}%'.format(  purity)\n",
    "\n",
    "\n",
    "name = '_CRTveto'\n",
    "title = 'After CRT veto cut:'\n",
    "title = title+' Eff/Pur={0:0.2f}%'.format( efficiency)+'/{0:0.2f}%'.format(purity)\n",
    "\n",
    "h_init_eff_energy = ROOT.TH1F(\"h_init_eff_energy\",title,xbin,xstart,xend)\n",
    "h_init_eff_energy_1 = ROOT.TH1F(\"h_init_eff_energy_1\",title,xbin,xstart,xend)\n",
    "overlay.Draw('MCNu_Energy>>h_init_eff_energy',zahler_cut)\n",
    "overlay.Draw('MCNu_Energy>>h_init_eff_energy_1',nenner_cut)\n",
    "h_init_eff_energy_1.Sumw2()\n",
    "h_init_eff_energy.Divide(h_init_eff_energy_1)\n",
    "h_init_eff_energy.Scale(100)\n",
    "h_init_eff_energy.SetMaximum(100)\n",
    "h_init_eff_energy.SetMinimum(0)\n",
    "h_init_eff_energy.SetXTitle(\"Truth enutrino energy [GeV]\")\n",
    "h_init_eff_energy.SetYTitle(\"Signal efficiency [%]\")\n",
    "h_init_eff_energy.Draw(\"E\")\n",
    "c1.Draw()\n",
    "c1.SaveAs(outputdir_png + \"h_eff_energy\"+name+\".png\")\n",
    "c1.SaveAs(outputdir_root + \"h_eff_energy\"+name+\".root\")\n",
    "\n",
    "\n",
    "xstart = -1\n",
    "xend = 1\n",
    "xbin = 100\n",
    "h_init_eff_theta = ROOT.TH1F(\"h_init_eff_theta\",title,xbin,xstart,xend)\n",
    "h_init_eff_theta_1 = ROOT.TH1F(\"h_init_eff_theta_1\",title,xbin,xstart,xend)\n",
    "overlay.Draw('cos(MCNu_leptonTheta)>>h_init_eff_theta',zahler_cut)\n",
    "overlay.Draw('cos(MCNu_leptonTheta)>>h_init_eff_theta_1',nenner_cut)\n",
    "h_init_eff_theta_1.Sumw2()\n",
    "h_init_eff_theta.Divide(h_init_eff_theta_1)\n",
    "h_init_eff_theta.Scale(100)\n",
    "h_init_eff_theta.SetMaximum(100)\n",
    "h_init_eff_theta.SetMinimum(0)\n",
    "h_init_eff_theta.SetXTitle(\"Truth neutrino cos(theta)\")\n",
    "h_init_eff_theta.SetYTitle(\"Signal efficiency [%]\")\n",
    "h_init_eff_theta.Draw(\"E\")\n",
    "c1.Draw()\n",
    "c1.SaveAs(outputdir_png + \"h_eff_theta\"+name+\".png\")\n",
    "c1.SaveAs(outputdir_root + \"h_eff_theta\"+name+\".root\")\n",
    "\n",
    "xstart = -3.14159\n",
    "xend = 3.14159\n",
    "xbin = 100\n",
    "h_init_eff_phi = ROOT.TH1F(\"h_init_eff_phi\",title,xbin,xstart,xend)\n",
    "h_init_eff_phi_1 = ROOT.TH1F(\"h_init_eff_phi_1\",title,xbin,xstart,xend)\n",
    "overlay.Draw('TrackPhi>>h_init_eff_phi',zahler_cut)\n",
    "overlay.Draw('TrackPhi>>h_init_eff_phi_1',nenner_cut)\n",
    "h_init_eff_phi_1.Sumw2()\n",
    "h_init_eff_phi.Divide(h_init_eff_phi_1)\n",
    "h_init_eff_phi.Scale(100)\n",
    "h_init_eff_phi.SetMaximum(100)\n",
    "h_init_eff_phi.SetMinimum(0)\n",
    "h_init_eff_phi.SetXTitle(\"Reco neutrino phi [pi]\")\n",
    "h_init_eff_phi.SetYTitle(\"Signal efficiency [%]\")\n",
    "h_init_eff_phi.Draw(\"e\")\n",
    "c1.Draw()\n",
    "c1.SaveAs(outputdir_png + \"h_eff_phi\"+name+\".png\")\n",
    "c1.SaveAs(outputdir_root + \"h_eff_phi\"+name+\".root\")\n",
    "\n",
    "xstart = -50\n",
    "xend = 300\n",
    "xbin = 100\n",
    "h_init_eff_V = ROOT.TH1F(\"h_init_eff_V\",title,xbin,xstart,xend)\n",
    "h_init_eff_V_1 = ROOT.TH1F(\"h_init_eff_V_1\",title,xbin,xstart,xend)\n",
    "overlay.Draw('MCNu_Vx>>h_init_eff_V',zahler_cut)\n",
    "overlay.Draw('MCNu_Vx>>h_init_eff_V_1',nenner_cut)\n",
    "h_init_eff_V_1.Sumw2()\n",
    "h_init_eff_V.Divide(h_init_eff_V_1)\n",
    "h_init_eff_V.Scale(100)\n",
    "h_init_eff_V.SetMaximum(100)\n",
    "h_init_eff_V.SetMinimum(0)\n",
    "h_init_eff_V.SetXTitle(\"Truth nu vertex X [cm]\")\n",
    "h_init_eff_V.SetYTitle(\"Signal efficiency [%]\")\n",
    "h_init_eff_V.Draw(\"e\")\n",
    "c1.Draw()\n",
    "c1.SaveAs(outputdir_png + \"h_eff_Vx\"+name+\".png\")\n",
    "c1.SaveAs(outputdir_root + \"h_eff_Vx\"+name+\".root\")\n",
    "\n",
    "xstart = -150\n",
    "xend = 150\n",
    "xbin = 100\n",
    "h_init_eff_V = ROOT.TH1F(\"h_init_eff_V\",title,xbin,xstart,xend)\n",
    "h_init_eff_V_1 = ROOT.TH1F(\"h_init_eff_V_1\",title,xbin,xstart,xend)\n",
    "overlay.Draw('MCNu_Vy>>h_init_eff_V',zahler_cut)\n",
    "overlay.Draw('MCNu_Vy>>h_init_eff_V_1',nenner_cut)\n",
    "h_init_eff_V_1.Sumw2()\n",
    "h_init_eff_V.Divide(h_init_eff_V_1)\n",
    "h_init_eff_V.Scale(100)\n",
    "h_init_eff_V.SetMaximum(100)\n",
    "h_init_eff_V.SetMinimum(0)\n",
    "h_init_eff_V.SetXTitle(\"Truth nu vertex Y [cm]\")\n",
    "h_init_eff_V.SetYTitle(\"Signal efficiency [%]\")\n",
    "h_init_eff_V.Draw(\"e\")\n",
    "c1.Draw()\n",
    "c1.SaveAs(outputdir_png + \"h_eff_Vy\"+name+\".png\")\n",
    "c1.SaveAs(outputdir_root + \"h_eff_Vy\"+name+\".root\")\n",
    "\n",
    "xstart = -50\n",
    "xend = 1050\n",
    "xbin = 100\n",
    "h_init_eff_V = ROOT.TH1F(\"h_init_eff_V\",title,xbin,xstart,xend)\n",
    "h_init_eff_V_1 = ROOT.TH1F(\"h_init_eff_V_1\",title,xbin,xstart,xend)\n",
    "overlay.Draw('MCNu_Vz>>h_init_eff_V',zahler_cut)\n",
    "overlay.Draw('MCNu_Vz>>h_init_eff_V_1',nenner_cut)\n",
    "h_init_eff_V_1.Sumw2()\n",
    "h_init_eff_V.Divide(h_init_eff_V_1)\n",
    "h_init_eff_V.Scale(100)\n",
    "h_init_eff_V.SetMaximum(100)\n",
    "h_init_eff_V.SetMinimum(0)\n",
    "h_init_eff_V.SetXTitle(\"Truth nu vertex Z [cm]\")\n",
    "h_init_eff_V.SetYTitle(\"Signal efficiency [%]\")\n",
    "h_init_eff_V.Draw(\"e\")\n",
    "c1.Draw()\n",
    "c1.SaveAs(outputdir_png + \"h_eff_Vz\"+name+\".png\")\n",
    "c1.SaveAs(outputdir_root + \"h_eff_Vz\"+name+\".root\")\n",
    "\n"
   ]
  },
  {
   "cell_type": "code",
   "execution_count": 18,
   "metadata": {},
   "outputs": [
    {
     "name": "stdout",
     "output_type": "stream",
     "text": [
      "Efficiency:\t96.35%\n",
      "Purity:\t\t43.89%\n"
     ]
    },
    {
     "name": "stderr",
     "output_type": "stream",
     "text": [
      "Warning in <TROOT::Append>: Replacing existing TH1: h_init_eff_energy (Potential memory leak).\n",
      "Warning in <TROOT::Append>: Replacing existing TH1: h_init_eff_energy_1 (Potential memory leak).\n",
      "Info in <TCanvas::Print>: png file /home/tmettler/Desktop/ub_data/mcc9.1/v08_00_00_17/NumuCC_crtcut_V//png/h_eff_energy_CRTcut.png has been created\n",
      "Info in <TCanvas::SaveAs>: ROOT file /home/tmettler/Desktop/ub_data/mcc9.1/v08_00_00_17/NumuCC_crtcut_V//root/h_eff_energy_CRTcut.root has been created\n",
      "Warning in <TROOT::Append>: Replacing existing TH1: h_init_eff_theta (Potential memory leak).\n",
      "Warning in <TROOT::Append>: Replacing existing TH1: h_init_eff_theta_1 (Potential memory leak).\n",
      "Info in <TCanvas::Print>: png file /home/tmettler/Desktop/ub_data/mcc9.1/v08_00_00_17/NumuCC_crtcut_V//png/h_eff_theta_CRTcut.png has been created\n",
      "Info in <TCanvas::SaveAs>: ROOT file /home/tmettler/Desktop/ub_data/mcc9.1/v08_00_00_17/NumuCC_crtcut_V//root/h_eff_theta_CRTcut.root has been created\n",
      "Warning in <TROOT::Append>: Replacing existing TH1: h_init_eff_phi (Potential memory leak).\n",
      "Warning in <TROOT::Append>: Replacing existing TH1: h_init_eff_phi_1 (Potential memory leak).\n",
      "Info in <TCanvas::Print>: png file /home/tmettler/Desktop/ub_data/mcc9.1/v08_00_00_17/NumuCC_crtcut_V//png/h_eff_phi_CRTcut.png has been created\n",
      "Info in <TCanvas::SaveAs>: ROOT file /home/tmettler/Desktop/ub_data/mcc9.1/v08_00_00_17/NumuCC_crtcut_V//root/h_eff_phi_CRTcut.root has been created\n",
      "Warning in <TROOT::Append>: Replacing existing TH1: h_init_eff_V (Potential memory leak).\n",
      "Warning in <TROOT::Append>: Replacing existing TH1: h_init_eff_V_1 (Potential memory leak).\n",
      "Info in <TCanvas::Print>: png file /home/tmettler/Desktop/ub_data/mcc9.1/v08_00_00_17/NumuCC_crtcut_V//png/h_eff_Vx_CRTcut.png has been created\n",
      "Info in <TCanvas::SaveAs>: ROOT file /home/tmettler/Desktop/ub_data/mcc9.1/v08_00_00_17/NumuCC_crtcut_V//root/h_eff_Vx_CRTcut.root has been created\n",
      "Warning in <TROOT::Append>: Replacing existing TH1: h_init_eff_V (Potential memory leak).\n",
      "Warning in <TROOT::Append>: Replacing existing TH1: h_init_eff_V_1 (Potential memory leak).\n",
      "Info in <TCanvas::Print>: png file /home/tmettler/Desktop/ub_data/mcc9.1/v08_00_00_17/NumuCC_crtcut_V//png/h_eff_Vy_CRTcut.png has been created\n",
      "Info in <TCanvas::SaveAs>: ROOT file /home/tmettler/Desktop/ub_data/mcc9.1/v08_00_00_17/NumuCC_crtcut_V//root/h_eff_Vy_CRTcut.root has been created\n",
      "Warning in <TROOT::Append>: Replacing existing TH1: h_init_eff_V (Potential memory leak).\n",
      "Warning in <TROOT::Append>: Replacing existing TH1: h_init_eff_V_1 (Potential memory leak).\n",
      "Info in <TCanvas::Print>: png file /home/tmettler/Desktop/ub_data/mcc9.1/v08_00_00_17/NumuCC_crtcut_V//png/h_eff_Vz_CRTcut.png has been created\n",
      "Info in <TCanvas::SaveAs>: ROOT file /home/tmettler/Desktop/ub_data/mcc9.1/v08_00_00_17/NumuCC_crtcut_V//root/h_eff_Vz_CRTcut.root has been created\n"
     ]
    },
    {
     "data": {
      "image/png": "[encoded data removed]",
      "text/plain": [
       "<IPython.core.display.Image object>"
      ]
     },
     "metadata": {},
     "output_type": "display_data"
    }
   ],
   "source": [
    "xstart = 0\n",
    "xend = 8\n",
    "xbin = 100\n",
    "\n",
    "nenner_cut = \"numu_signal && muon && fidVol && track_end_uncontained\"\n",
    "zahler_cut = \"numu_signal && fidVol && muon && (crt_cut) && track_end_uncontained\"\n",
    "cut = 'fidVol && muon && (crt_cut) && track_end_uncontained'\n",
    "\n",
    "efficiency = overlay.GetEntries(zahler_cut)*100.0/overlay.GetEntries(nenner_cut)\n",
    "purity = overlay.GetEntries(cut+' && numu_signal')*scale[overlay]*100/NuCC.getTotNum(cut)\n",
    "\n",
    "print 'Efficiency:\\t{0:0.2f}%'.format(efficiency)\n",
    "print 'Purity:\\t\\t{0:0.2f}%'.format(  purity)\n",
    "\n",
    "\n",
    "name = '_CRTcut'\n",
    "title = 'After CRT cut:'\n",
    "title = title+' Eff/Pur={0:0.2f}%'.format( efficiency)+'/{0:0.2f}%'.format(purity)\n",
    "\n",
    "h_init_eff_energy = ROOT.TH1F(\"h_init_eff_energy\",title,xbin,xstart,xend)\n",
    "h_init_eff_energy_1 = ROOT.TH1F(\"h_init_eff_energy_1\",title,xbin,xstart,xend)\n",
    "overlay.Draw('MCNu_Energy>>h_init_eff_energy',zahler_cut)\n",
    "overlay.Draw('MCNu_Energy>>h_init_eff_energy_1',nenner_cut)\n",
    "h_init_eff_energy_1.Sumw2()\n",
    "h_init_eff_energy.Divide(h_init_eff_energy_1)\n",
    "h_init_eff_energy.Scale(100)\n",
    "h_init_eff_energy.SetMaximum(100)\n",
    "h_init_eff_energy.SetMinimum(0)\n",
    "h_init_eff_energy.SetXTitle(\"Truth enutrino energy [GeV]\")\n",
    "h_init_eff_energy.SetYTitle(\"Signal efficiency [%]\")\n",
    "h_init_eff_energy.Draw(\"E\")\n",
    "c1.Draw()\n",
    "c1.SaveAs(outputdir_png + \"h_eff_energy\"+name+\".png\")\n",
    "c1.SaveAs(outputdir_root + \"h_eff_energy\"+name+\".root\")\n",
    "\n",
    "\n",
    "xstart = -1\n",
    "xend = 1\n",
    "xbin = 100\n",
    "h_init_eff_theta = ROOT.TH1F(\"h_init_eff_theta\",title,xbin,xstart,xend)\n",
    "h_init_eff_theta_1 = ROOT.TH1F(\"h_init_eff_theta_1\",title,xbin,xstart,xend)\n",
    "overlay.Draw('cos(MCNu_leptonTheta)>>h_init_eff_theta',zahler_cut)\n",
    "overlay.Draw('cos(MCNu_leptonTheta)>>h_init_eff_theta_1',nenner_cut)\n",
    "h_init_eff_theta_1.Sumw2()\n",
    "h_init_eff_theta.Divide(h_init_eff_theta_1)\n",
    "h_init_eff_theta.Scale(100)\n",
    "h_init_eff_theta.SetMaximum(100)\n",
    "h_init_eff_theta.SetMinimum(0)\n",
    "h_init_eff_theta.SetXTitle(\"Truth neutrino cos(theta)\")\n",
    "h_init_eff_theta.SetYTitle(\"Signal efficiency [%]\")\n",
    "h_init_eff_theta.Draw(\"E\")\n",
    "c1.Draw()\n",
    "c1.SaveAs(outputdir_png + \"h_eff_theta\"+name+\".png\")\n",
    "c1.SaveAs(outputdir_root + \"h_eff_theta\"+name+\".root\")\n",
    "\n",
    "xstart = -3.14159\n",
    "xend = 3.14159\n",
    "xbin = 100\n",
    "h_init_eff_phi = ROOT.TH1F(\"h_init_eff_phi\",title,xbin,xstart,xend)\n",
    "h_init_eff_phi_1 = ROOT.TH1F(\"h_init_eff_phi_1\",title,xbin,xstart,xend)\n",
    "overlay.Draw('TrackPhi>>h_init_eff_phi',zahler_cut)\n",
    "overlay.Draw('TrackPhi>>h_init_eff_phi_1',nenner_cut)\n",
    "h_init_eff_phi_1.Sumw2()\n",
    "h_init_eff_phi.Divide(h_init_eff_phi_1)\n",
    "h_init_eff_phi.Scale(100)\n",
    "h_init_eff_phi.SetMaximum(100)\n",
    "h_init_eff_phi.SetMinimum(0)\n",
    "h_init_eff_phi.SetXTitle(\"Reco neutrino phi [pi]\")\n",
    "h_init_eff_phi.SetYTitle(\"Signal efficiency [%]\")\n",
    "h_init_eff_phi.Draw(\"e\")\n",
    "c1.Draw()\n",
    "c1.SaveAs(outputdir_png + \"h_eff_phi\"+name+\".png\")\n",
    "c1.SaveAs(outputdir_root + \"h_eff_phi\"+name+\".root\")\n",
    "\n",
    "xstart = -50\n",
    "xend = 300\n",
    "xbin = 100\n",
    "h_init_eff_V = ROOT.TH1F(\"h_init_eff_V\",title,xbin,xstart,xend)\n",
    "h_init_eff_V_1 = ROOT.TH1F(\"h_init_eff_V_1\",title,xbin,xstart,xend)\n",
    "overlay.Draw('MCNu_Vx>>h_init_eff_V',zahler_cut)\n",
    "overlay.Draw('MCNu_Vx>>h_init_eff_V_1',nenner_cut)\n",
    "h_init_eff_V_1.Sumw2()\n",
    "h_init_eff_V.Divide(h_init_eff_V_1)\n",
    "h_init_eff_V.Scale(100)\n",
    "h_init_eff_V.SetMaximum(100)\n",
    "h_init_eff_V.SetMinimum(0)\n",
    "h_init_eff_V.SetXTitle(\"Truth nu vertex X [cm]\")\n",
    "h_init_eff_V.SetYTitle(\"Signal efficiency [%]\")\n",
    "h_init_eff_V.Draw(\"e\")\n",
    "c1.Draw()\n",
    "c1.SaveAs(outputdir_png + \"h_eff_Vx\"+name+\".png\")\n",
    "c1.SaveAs(outputdir_root + \"h_eff_Vx\"+name+\".root\")\n",
    "\n",
    "xstart = -150\n",
    "xend = 150\n",
    "xbin = 100\n",
    "h_init_eff_V = ROOT.TH1F(\"h_init_eff_V\",title,xbin,xstart,xend)\n",
    "h_init_eff_V_1 = ROOT.TH1F(\"h_init_eff_V_1\",title,xbin,xstart,xend)\n",
    "overlay.Draw('MCNu_Vy>>h_init_eff_V',zahler_cut)\n",
    "overlay.Draw('MCNu_Vy>>h_init_eff_V_1',nenner_cut)\n",
    "h_init_eff_V_1.Sumw2()\n",
    "h_init_eff_V.Divide(h_init_eff_V_1)\n",
    "h_init_eff_V.Scale(100)\n",
    "h_init_eff_V.SetMaximum(100)\n",
    "h_init_eff_V.SetMinimum(0)\n",
    "h_init_eff_V.SetXTitle(\"Truth nu vertex Y [cm]\")\n",
    "h_init_eff_V.SetYTitle(\"Signal efficiency [%]\")\n",
    "h_init_eff_V.Draw(\"e\")\n",
    "c1.Draw()\n",
    "c1.SaveAs(outputdir_png + \"h_eff_Vy\"+name+\".png\")\n",
    "c1.SaveAs(outputdir_root + \"h_eff_Vy\"+name+\".root\")\n",
    "\n",
    "xstart = -50\n",
    "xend = 1050\n",
    "xbin = 100\n",
    "h_init_eff_V = ROOT.TH1F(\"h_init_eff_V\",title,xbin,xstart,xend)\n",
    "h_init_eff_V_1 = ROOT.TH1F(\"h_init_eff_V_1\",title,xbin,xstart,xend)\n",
    "overlay.Draw('MCNu_Vz>>h_init_eff_V',zahler_cut)\n",
    "overlay.Draw('MCNu_Vz>>h_init_eff_V_1',nenner_cut)\n",
    "h_init_eff_V_1.Sumw2()\n",
    "h_init_eff_V.Divide(h_init_eff_V_1)\n",
    "h_init_eff_V.Scale(100)\n",
    "h_init_eff_V.SetMaximum(100)\n",
    "h_init_eff_V.SetMinimum(0)\n",
    "h_init_eff_V.SetXTitle(\"Truth nu vertex Z [cm]\")\n",
    "h_init_eff_V.SetYTitle(\"Signal efficiency [%]\")\n",
    "h_init_eff_V.Draw(\"e\")\n",
    "c1.Draw()\n",
    "c1.SaveAs(outputdir_png + \"h_eff_Vz\"+name+\".png\")\n",
    "c1.SaveAs(outputdir_root + \"h_eff_Vz\"+name+\".root\")\n",
    "\n"
   ]
  },
  {
   "cell_type": "code",
   "execution_count": 19,
   "metadata": {},
   "outputs": [
    {
     "name": "stdout",
     "output_type": "stream",
     "text": [
      "Efficiency:\t95.39%\n",
      "Purity:\t\t39.32%\n"
     ]
    },
    {
     "name": "stderr",
     "output_type": "stream",
     "text": [
      "Warning in <TROOT::Append>: Replacing existing TH1: h_init_eff_energy (Potential memory leak).\n",
      "Warning in <TROOT::Append>: Replacing existing TH1: h_init_eff_energy_1 (Potential memory leak).\n",
      "Info in <TCanvas::Print>: png file /home/tmettler/Desktop/ub_data/mcc9.1/v08_00_00_17/NumuCC_crtcut_V//png/h_eff_energy_CRTcutAll.png has been created\n",
      "Info in <TCanvas::SaveAs>: ROOT file /home/tmettler/Desktop/ub_data/mcc9.1/v08_00_00_17/NumuCC_crtcut_V//root/h_eff_energy_CRTcutAll.root has been created\n",
      "Warning in <TROOT::Append>: Replacing existing TH1: h_init_eff_theta (Potential memory leak).\n",
      "Warning in <TROOT::Append>: Replacing existing TH1: h_init_eff_theta_1 (Potential memory leak).\n",
      "Info in <TCanvas::Print>: png file /home/tmettler/Desktop/ub_data/mcc9.1/v08_00_00_17/NumuCC_crtcut_V//png/h_eff_theta_CRTcutAll.png has been created\n",
      "Info in <TCanvas::SaveAs>: ROOT file /home/tmettler/Desktop/ub_data/mcc9.1/v08_00_00_17/NumuCC_crtcut_V//root/h_eff_theta_CRTcutAll.root has been created\n",
      "Warning in <TROOT::Append>: Replacing existing TH1: h_init_eff_phi (Potential memory leak).\n",
      "Warning in <TROOT::Append>: Replacing existing TH1: h_init_eff_phi_1 (Potential memory leak).\n",
      "Info in <TCanvas::Print>: png file /home/tmettler/Desktop/ub_data/mcc9.1/v08_00_00_17/NumuCC_crtcut_V//png/h_eff_phi_CRTcutAll.png has been created\n",
      "Info in <TCanvas::SaveAs>: ROOT file /home/tmettler/Desktop/ub_data/mcc9.1/v08_00_00_17/NumuCC_crtcut_V//root/h_eff_phi_CRTcutAll.root has been created\n",
      "Warning in <TROOT::Append>: Replacing existing TH1: h_init_eff_V (Potential memory leak).\n",
      "Warning in <TROOT::Append>: Replacing existing TH1: h_init_eff_V_1 (Potential memory leak).\n",
      "Info in <TCanvas::Print>: png file /home/tmettler/Desktop/ub_data/mcc9.1/v08_00_00_17/NumuCC_crtcut_V//png/h_eff_Vx_CRTcutAll.png has been created\n",
      "Info in <TCanvas::SaveAs>: ROOT file /home/tmettler/Desktop/ub_data/mcc9.1/v08_00_00_17/NumuCC_crtcut_V//root/h_eff_Vx_CRTcutAll.root has been created\n",
      "Warning in <TROOT::Append>: Replacing existing TH1: h_init_eff_V (Potential memory leak).\n",
      "Warning in <TROOT::Append>: Replacing existing TH1: h_init_eff_V_1 (Potential memory leak).\n",
      "Info in <TCanvas::Print>: png file /home/tmettler/Desktop/ub_data/mcc9.1/v08_00_00_17/NumuCC_crtcut_V//png/h_eff_Vy_CRTcutAll.png has been created\n",
      "Info in <TCanvas::SaveAs>: ROOT file /home/tmettler/Desktop/ub_data/mcc9.1/v08_00_00_17/NumuCC_crtcut_V//root/h_eff_Vy_CRTcutAll.root has been created\n",
      "Warning in <TROOT::Append>: Replacing existing TH1: h_init_eff_V (Potential memory leak).\n",
      "Warning in <TROOT::Append>: Replacing existing TH1: h_init_eff_V_1 (Potential memory leak).\n",
      "Info in <TCanvas::Print>: png file /home/tmettler/Desktop/ub_data/mcc9.1/v08_00_00_17/NumuCC_crtcut_V//png/h_eff_Vz_CRTcutAll.png has been created\n",
      "Info in <TCanvas::SaveAs>: ROOT file /home/tmettler/Desktop/ub_data/mcc9.1/v08_00_00_17/NumuCC_crtcut_V//root/h_eff_Vz_CRTcutAll.root has been created\n"
     ]
    },
    {
     "data": {
      "image/png": "[encoded data removed]",
      "text/plain": [
       "<IPython.core.display.Image object>"
      ]
     },
     "metadata": {},
     "output_type": "display_data"
    }
   ],
   "source": [
    "xstart = 0\n",
    "xend = 8\n",
    "xbin = 100\n",
    "\n",
    "nenner_cut = \"numu_signal && muon && fidVol\"\n",
    "zahler_cut = \"numu_signal && fidVol && muon && (nr_crthit_beam_tres<1 || track_end_uncontained) && (!track_end_uncontained || crt_cut)\"\n",
    "cut = 'fidVol && muon && (nr_crthit_beam_tres<1 || track_end_uncontained) && (!track_end_uncontained || crt_cut)'\n",
    "\n",
    "efficiency = overlay.GetEntries(zahler_cut)*100.0/overlay.GetEntries(nenner_cut)\n",
    "purity = overlay.GetEntries(cut+' && numu_signal')*scale[overlay]*100/NuCC.getTotNum(cut)\n",
    "\n",
    "print 'Efficiency:\\t{0:0.2f}%'.format(efficiency)\n",
    "print 'Purity:\\t\\t{0:0.2f}%'.format(  purity)\n",
    "\n",
    "\n",
    "name = '_CRTcutAll'\n",
    "title = 'After both CRT cut:'\n",
    "title = title+' Eff/Pur={0:0.2f}%'.format( efficiency)+'/{0:0.2f}%'.format(purity)\n",
    "\n",
    "h_init_eff_energy = ROOT.TH1F(\"h_init_eff_energy\",title,xbin,xstart,xend)\n",
    "h_init_eff_energy_1 = ROOT.TH1F(\"h_init_eff_energy_1\",title,xbin,xstart,xend)\n",
    "overlay.Draw('MCNu_Energy>>h_init_eff_energy',zahler_cut)\n",
    "overlay.Draw('MCNu_Energy>>h_init_eff_energy_1',nenner_cut)\n",
    "h_init_eff_energy_1.Sumw2()\n",
    "h_init_eff_energy.Divide(h_init_eff_energy_1)\n",
    "h_init_eff_energy.Scale(100)\n",
    "h_init_eff_energy.SetMaximum(100)\n",
    "h_init_eff_energy.SetMinimum(0)\n",
    "h_init_eff_energy.SetXTitle(\"Truth enutrino energy [GeV]\")\n",
    "h_init_eff_energy.SetYTitle(\"Signal efficiency [%]\")\n",
    "h_init_eff_energy.Draw(\"E\")\n",
    "c1.Draw()\n",
    "c1.SaveAs(outputdir_png + \"h_eff_energy\"+name+\".png\")\n",
    "c1.SaveAs(outputdir_root + \"h_eff_energy\"+name+\".root\")\n",
    "\n",
    "\n",
    "xstart = -1\n",
    "xend = 1\n",
    "xbin = 100\n",
    "h_init_eff_theta = ROOT.TH1F(\"h_init_eff_theta\",title,xbin,xstart,xend)\n",
    "h_init_eff_theta_1 = ROOT.TH1F(\"h_init_eff_theta_1\",title,xbin,xstart,xend)\n",
    "overlay.Draw('cos(MCNu_leptonTheta)>>h_init_eff_theta',zahler_cut)\n",
    "overlay.Draw('cos(MCNu_leptonTheta)>>h_init_eff_theta_1',nenner_cut)\n",
    "h_init_eff_theta_1.Sumw2()\n",
    "h_init_eff_theta.Divide(h_init_eff_theta_1)\n",
    "h_init_eff_theta.Scale(100)\n",
    "h_init_eff_theta.SetMaximum(100)\n",
    "h_init_eff_theta.SetMinimum(0)\n",
    "h_init_eff_theta.SetXTitle(\"Truth neutrino cos(theta)\")\n",
    "h_init_eff_theta.SetYTitle(\"Signal efficiency [%]\")\n",
    "h_init_eff_theta.Draw(\"E\")\n",
    "c1.Draw()\n",
    "c1.SaveAs(outputdir_png + \"h_eff_theta\"+name+\".png\")\n",
    "c1.SaveAs(outputdir_root + \"h_eff_theta\"+name+\".root\")\n",
    "\n",
    "xstart = -3.14159\n",
    "xend = 3.14159\n",
    "xbin = 100\n",
    "h_init_eff_phi = ROOT.TH1F(\"h_init_eff_phi\",title,xbin,xstart,xend)\n",
    "h_init_eff_phi_1 = ROOT.TH1F(\"h_init_eff_phi_1\",title,xbin,xstart,xend)\n",
    "overlay.Draw('TrackPhi>>h_init_eff_phi',zahler_cut)\n",
    "overlay.Draw('TrackPhi>>h_init_eff_phi_1',nenner_cut)\n",
    "h_init_eff_phi_1.Sumw2()\n",
    "h_init_eff_phi.Divide(h_init_eff_phi_1)\n",
    "h_init_eff_phi.Scale(100)\n",
    "h_init_eff_phi.SetMaximum(100)\n",
    "h_init_eff_phi.SetMinimum(0)\n",
    "h_init_eff_phi.SetXTitle(\"Reco neutrino phi [pi]\")\n",
    "h_init_eff_phi.SetYTitle(\"Signal efficiency [%]\")\n",
    "h_init_eff_phi.Draw(\"e\")\n",
    "c1.Draw()\n",
    "c1.SaveAs(outputdir_png + \"h_eff_phi\"+name+\".png\")\n",
    "c1.SaveAs(outputdir_root + \"h_eff_phi\"+name+\".root\")\n",
    "\n",
    "xstart = -50\n",
    "xend = 300\n",
    "xbin = 100\n",
    "h_init_eff_V = ROOT.TH1F(\"h_init_eff_V\",title,xbin,xstart,xend)\n",
    "h_init_eff_V_1 = ROOT.TH1F(\"h_init_eff_V_1\",title,xbin,xstart,xend)\n",
    "overlay.Draw('MCNu_Vx>>h_init_eff_V',zahler_cut)\n",
    "overlay.Draw('MCNu_Vx>>h_init_eff_V_1',nenner_cut)\n",
    "h_init_eff_V_1.Sumw2()\n",
    "h_init_eff_V.Divide(h_init_eff_V_1)\n",
    "h_init_eff_V.Scale(100)\n",
    "h_init_eff_V.SetMaximum(100)\n",
    "h_init_eff_V.SetMinimum(0)\n",
    "h_init_eff_V.SetXTitle(\"Truth nu vertex X [cm]\")\n",
    "h_init_eff_V.SetYTitle(\"Signal efficiency [%]\")\n",
    "h_init_eff_V.Draw(\"e\")\n",
    "c1.Draw()\n",
    "c1.SaveAs(outputdir_png + \"h_eff_Vx\"+name+\".png\")\n",
    "c1.SaveAs(outputdir_root + \"h_eff_Vx\"+name+\".root\")\n",
    "\n",
    "xstart = -150\n",
    "xend = 150\n",
    "xbin = 100\n",
    "h_init_eff_V = ROOT.TH1F(\"h_init_eff_V\",title,xbin,xstart,xend)\n",
    "h_init_eff_V_1 = ROOT.TH1F(\"h_init_eff_V_1\",title,xbin,xstart,xend)\n",
    "overlay.Draw('MCNu_Vy>>h_init_eff_V',zahler_cut)\n",
    "overlay.Draw('MCNu_Vy>>h_init_eff_V_1',nenner_cut)\n",
    "h_init_eff_V_1.Sumw2()\n",
    "h_init_eff_V.Divide(h_init_eff_V_1)\n",
    "h_init_eff_V.Scale(100)\n",
    "h_init_eff_V.SetMaximum(100)\n",
    "h_init_eff_V.SetMinimum(0)\n",
    "h_init_eff_V.SetXTitle(\"Truth nu vertex Y [cm]\")\n",
    "h_init_eff_V.SetYTitle(\"Signal efficiency [%]\")\n",
    "h_init_eff_V.Draw(\"e\")\n",
    "c1.Draw()\n",
    "c1.SaveAs(outputdir_png + \"h_eff_Vy\"+name+\".png\")\n",
    "c1.SaveAs(outputdir_root + \"h_eff_Vy\"+name+\".root\")\n",
    "\n",
    "xstart = -50\n",
    "xend = 1050\n",
    "xbin = 100\n",
    "h_init_eff_V = ROOT.TH1F(\"h_init_eff_V\",title,xbin,xstart,xend)\n",
    "h_init_eff_V_1 = ROOT.TH1F(\"h_init_eff_V_1\",title,xbin,xstart,xend)\n",
    "overlay.Draw('MCNu_Vz>>h_init_eff_V',zahler_cut)\n",
    "overlay.Draw('MCNu_Vz>>h_init_eff_V_1',nenner_cut)\n",
    "h_init_eff_V_1.Sumw2()\n",
    "h_init_eff_V.Divide(h_init_eff_V_1)\n",
    "h_init_eff_V.Scale(100)\n",
    "h_init_eff_V.SetMaximum(100)\n",
    "h_init_eff_V.SetMinimum(0)\n",
    "h_init_eff_V.SetXTitle(\"Truth nu vertex Z [cm]\")\n",
    "h_init_eff_V.SetYTitle(\"Signal efficiency [%]\")\n",
    "h_init_eff_V.Draw(\"e\")\n",
    "c1.Draw()\n",
    "c1.SaveAs(outputdir_png + \"h_eff_Vz\"+name+\".png\")\n",
    "c1.SaveAs(outputdir_root + \"h_eff_Vz\"+name+\".root\")\n",
    "\n"
   ]
  },
  {
   "cell_type": "code",
   "execution_count": null,
   "metadata": {},
   "outputs": [],
   "source": []
  },
  {
   "cell_type": "code",
   "execution_count": null,
   "metadata": {},
   "outputs": [],
   "source": []
  },
  {
   "cell_type": "code",
   "execution_count": null,
   "metadata": {},
   "outputs": [],
   "source": []
  },
  {
   "cell_type": "code",
   "execution_count": null,
   "metadata": {},
   "outputs": [],
   "source": []
  },
  {
   "cell_type": "code",
   "execution_count": null,
   "metadata": {},
   "outputs": [],
   "source": []
  },
  {
   "cell_type": "code",
   "execution_count": null,
   "metadata": {},
   "outputs": [],
   "source": []
  },
  {
   "cell_type": "code",
   "execution_count": null,
   "metadata": {},
   "outputs": [],
   "source": []
  },
  {
   "cell_type": "code",
   "execution_count": null,
   "metadata": {},
   "outputs": [],
   "source": []
  },
  {
   "cell_type": "code",
   "execution_count": null,
   "metadata": {},
   "outputs": [],
   "source": []
  }
 ],
 "metadata": {
  "kernelspec": {
   "display_name": "Python 2",
   "language": "python",
   "name": "python2"
  },
  "language_info": {
   "codemirror_mode": {
    "name": "ipython",
    "version": 2
   },
   "file_extension": ".py",
   "mimetype": "text/x-python",
   "name": "python",
   "nbconvert_exporter": "python",
   "pygments_lexer": "ipython2",
   "version": "2.7.12"
  }
 },
 "nbformat": 4,
 "nbformat_minor": 2
}
